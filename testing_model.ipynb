{
 "cells": [
  {
   "cell_type": "code",
   "execution_count": 1,
   "id": "dddaf7cd",
   "metadata": {},
   "outputs": [],
   "source": [
    "import logging\n",
    "import numpy as np\n",
    "import pandas as pd\n",
    "from arch import arch_model\n",
    "from random import gauss\n",
    "from random import seed\n",
    "from matplotlib import pyplot as plt\n",
    "import scipy.stats as sts\n",
    "import json\n",
    "from sklearn.metrics import mean_squared_error, mean_absolute_percentage_error"
   ]
  },
  {
   "cell_type": "code",
   "execution_count": 2,
   "id": "cc95b96f",
   "metadata": {},
   "outputs": [],
   "source": [
    "from rules_related import combine_rules_outputs\n",
    "from whole_algorithm import train_model\n",
    "from auxiliary import calc_log_returns\n",
    "from multivariate_normal_distribution import LongMultivariateNormal\n",
    "from model import FuzzyVolatilityModel"
   ]
  },
  {
   "cell_type": "code",
   "execution_count": 3,
   "id": "e532cbfa",
   "metadata": {
    "scrolled": true
   },
   "outputs": [],
   "source": [
    "with open('config.json') as file:\n",
    "    config = json.load(file)"
   ]
  },
  {
   "cell_type": "code",
   "execution_count": 4,
   "id": "3393a7b3",
   "metadata": {},
   "outputs": [],
   "source": [
    "files_folder = config['files_folders']['processed']"
   ]
  },
  {
   "cell_type": "markdown",
   "id": "c087b95a",
   "metadata": {},
   "source": [
    "# Reading files"
   ]
  },
  {
   "cell_type": "code",
   "execution_count": 5,
   "id": "23c25f6a",
   "metadata": {},
   "outputs": [],
   "source": [
    "rtsi = pd.read_pickle(f'{files_folder}/rtsi.pkl')"
   ]
  },
  {
   "cell_type": "code",
   "execution_count": 6,
   "id": "4e0f5233",
   "metadata": {},
   "outputs": [
    {
     "data": {
      "text/html": [
       "<div>\n",
       "<style scoped>\n",
       "    .dataframe tbody tr th:only-of-type {\n",
       "        vertical-align: middle;\n",
       "    }\n",
       "\n",
       "    .dataframe tbody tr th {\n",
       "        vertical-align: top;\n",
       "    }\n",
       "\n",
       "    .dataframe thead th {\n",
       "        text-align: right;\n",
       "    }\n",
       "</style>\n",
       "<table border=\"1\" class=\"dataframe\">\n",
       "  <thead>\n",
       "    <tr style=\"text-align: right;\">\n",
       "      <th></th>\n",
       "      <th>&lt;OPEN&gt;</th>\n",
       "      <th>&lt;HIGH&gt;</th>\n",
       "      <th>&lt;LOW&gt;</th>\n",
       "      <th>&lt;CLOSE&gt;</th>\n",
       "      <th>&lt;VOL&gt;</th>\n",
       "      <th>return</th>\n",
       "      <th>log return</th>\n",
       "    </tr>\n",
       "    <tr>\n",
       "      <th>&lt;DATE&gt;</th>\n",
       "      <th></th>\n",
       "      <th></th>\n",
       "      <th></th>\n",
       "      <th></th>\n",
       "      <th></th>\n",
       "      <th></th>\n",
       "      <th></th>\n",
       "    </tr>\n",
       "  </thead>\n",
       "  <tbody>\n",
       "    <tr>\n",
       "      <th>2001-02-18</th>\n",
       "      <td>180.10</td>\n",
       "      <td>180.10</td>\n",
       "      <td>180.10</td>\n",
       "      <td>180.10</td>\n",
       "      <td>0</td>\n",
       "      <td>0.000000</td>\n",
       "      <td>0.000000</td>\n",
       "    </tr>\n",
       "    <tr>\n",
       "      <th>2001-02-19</th>\n",
       "      <td>180.10</td>\n",
       "      <td>181.21</td>\n",
       "      <td>176.67</td>\n",
       "      <td>177.29</td>\n",
       "      <td>0</td>\n",
       "      <td>-0.015602</td>\n",
       "      <td>-0.015725</td>\n",
       "    </tr>\n",
       "    <tr>\n",
       "      <th>2001-02-20</th>\n",
       "      <td>177.29</td>\n",
       "      <td>179.90</td>\n",
       "      <td>175.28</td>\n",
       "      <td>176.45</td>\n",
       "      <td>0</td>\n",
       "      <td>-0.004738</td>\n",
       "      <td>-0.004749</td>\n",
       "    </tr>\n",
       "    <tr>\n",
       "      <th>2001-02-21</th>\n",
       "      <td>176.45</td>\n",
       "      <td>176.45</td>\n",
       "      <td>161.12</td>\n",
       "      <td>162.39</td>\n",
       "      <td>0</td>\n",
       "      <td>-0.079683</td>\n",
       "      <td>-0.083037</td>\n",
       "    </tr>\n",
       "    <tr>\n",
       "      <th>2001-02-22</th>\n",
       "      <td>162.39</td>\n",
       "      <td>168.35</td>\n",
       "      <td>162.39</td>\n",
       "      <td>168.31</td>\n",
       "      <td>0</td>\n",
       "      <td>0.036455</td>\n",
       "      <td>0.035807</td>\n",
       "    </tr>\n",
       "    <tr>\n",
       "      <th>...</th>\n",
       "      <td>...</td>\n",
       "      <td>...</td>\n",
       "      <td>...</td>\n",
       "      <td>...</td>\n",
       "      <td>...</td>\n",
       "      <td>...</td>\n",
       "      <td>...</td>\n",
       "    </tr>\n",
       "    <tr>\n",
       "      <th>2021-10-11</th>\n",
       "      <td>1871.73</td>\n",
       "      <td>1883.71</td>\n",
       "      <td>1867.58</td>\n",
       "      <td>1882.43</td>\n",
       "      <td>1769145502</td>\n",
       "      <td>0.011537</td>\n",
       "      <td>0.011471</td>\n",
       "    </tr>\n",
       "    <tr>\n",
       "      <th>2021-10-12</th>\n",
       "      <td>1867.15</td>\n",
       "      <td>1876.79</td>\n",
       "      <td>1860.64</td>\n",
       "      <td>1869.94</td>\n",
       "      <td>1386130631</td>\n",
       "      <td>-0.006635</td>\n",
       "      <td>-0.006657</td>\n",
       "    </tr>\n",
       "    <tr>\n",
       "      <th>2021-10-13</th>\n",
       "      <td>1869.05</td>\n",
       "      <td>1869.05</td>\n",
       "      <td>1835.80</td>\n",
       "      <td>1855.11</td>\n",
       "      <td>1830447018</td>\n",
       "      <td>-0.007931</td>\n",
       "      <td>-0.007962</td>\n",
       "    </tr>\n",
       "    <tr>\n",
       "      <th>2021-10-14</th>\n",
       "      <td>1875.38</td>\n",
       "      <td>1890.46</td>\n",
       "      <td>1873.37</td>\n",
       "      <td>1875.97</td>\n",
       "      <td>1495256910</td>\n",
       "      <td>0.011245</td>\n",
       "      <td>0.011182</td>\n",
       "    </tr>\n",
       "    <tr>\n",
       "      <th>2021-10-15</th>\n",
       "      <td>1888.52</td>\n",
       "      <td>1893.71</td>\n",
       "      <td>1878.47</td>\n",
       "      <td>1891.56</td>\n",
       "      <td>1305644791</td>\n",
       "      <td>0.008310</td>\n",
       "      <td>0.008276</td>\n",
       "    </tr>\n",
       "  </tbody>\n",
       "</table>\n",
       "<p>5174 rows × 7 columns</p>\n",
       "</div>"
      ],
      "text/plain": [
       "             <OPEN>   <HIGH>    <LOW>  <CLOSE>       <VOL>    return  \\\n",
       "<DATE>                                                                 \n",
       "2001-02-18   180.10   180.10   180.10   180.10           0  0.000000   \n",
       "2001-02-19   180.10   181.21   176.67   177.29           0 -0.015602   \n",
       "2001-02-20   177.29   179.90   175.28   176.45           0 -0.004738   \n",
       "2001-02-21   176.45   176.45   161.12   162.39           0 -0.079683   \n",
       "2001-02-22   162.39   168.35   162.39   168.31           0  0.036455   \n",
       "...             ...      ...      ...      ...         ...       ...   \n",
       "2021-10-11  1871.73  1883.71  1867.58  1882.43  1769145502  0.011537   \n",
       "2021-10-12  1867.15  1876.79  1860.64  1869.94  1386130631 -0.006635   \n",
       "2021-10-13  1869.05  1869.05  1835.80  1855.11  1830447018 -0.007931   \n",
       "2021-10-14  1875.38  1890.46  1873.37  1875.97  1495256910  0.011245   \n",
       "2021-10-15  1888.52  1893.71  1878.47  1891.56  1305644791  0.008310   \n",
       "\n",
       "            log return  \n",
       "<DATE>                  \n",
       "2001-02-18    0.000000  \n",
       "2001-02-19   -0.015725  \n",
       "2001-02-20   -0.004749  \n",
       "2001-02-21   -0.083037  \n",
       "2001-02-22    0.035807  \n",
       "...                ...  \n",
       "2021-10-11    0.011471  \n",
       "2021-10-12   -0.006657  \n",
       "2021-10-13   -0.007962  \n",
       "2021-10-14    0.011182  \n",
       "2021-10-15    0.008276  \n",
       "\n",
       "[5174 rows x 7 columns]"
      ]
     },
     "execution_count": 6,
     "metadata": {},
     "output_type": "execute_result"
    }
   ],
   "source": [
    "rtsi"
   ]
  },
  {
   "cell_type": "code",
   "execution_count": 7,
   "id": "e13f81ab",
   "metadata": {},
   "outputs": [
    {
     "data": {
      "image/png": "[encoded data removed]",
      "text/plain": [
       "<Figure size 864x504 with 1 Axes>"
      ]
     },
     "metadata": {
      "needs_background": "light"
     },
     "output_type": "display_data"
    }
   ],
   "source": [
    "rtsi['log return'].plot(figsize=(12, 7))\n",
    "\n",
    "plt.grid()\n",
    "plt.show()"
   ]
  },
  {
   "cell_type": "code",
   "execution_count": 8,
   "id": "4c70b3e0",
   "metadata": {},
   "outputs": [
    {
     "data": {
      "text/plain": [
       "count    5174.000000\n",
       "mean        0.000455\n",
       "std         0.020327\n",
       "min        -0.211994\n",
       "25%        -0.008822\n",
       "50%         0.001318\n",
       "75%         0.010414\n",
       "max         0.202039\n",
       "Name: log return, dtype: float64"
      ]
     },
     "execution_count": 8,
     "metadata": {},
     "output_type": "execute_result"
    }
   ],
   "source": [
    "rtsi['log return'].describe()"
   ]
  },
  {
   "cell_type": "markdown",
   "id": "c2c33a08",
   "metadata": {},
   "source": [
    "# Setting data & parameters"
   ]
  },
  {
   "cell_type": "code",
   "execution_count": 9,
   "id": "93b84c0d",
   "metadata": {},
   "outputs": [],
   "source": [
    "rescale_factor = 100"
   ]
  },
  {
   "cell_type": "code",
   "execution_count": 10,
   "id": "8d916844",
   "metadata": {},
   "outputs": [],
   "source": [
    "start_date = '2010-01-01'"
   ]
  },
  {
   "cell_type": "code",
   "execution_count": 11,
   "id": "c2090135",
   "metadata": {},
   "outputs": [],
   "source": [
    "input_data = rtsi['log return'].loc[start_date:].copy() * rescale_factor\n",
    "clusterization_method = 'gaussian'\n",
    "local_method = 'garch'\n",
    "local_method_parameters = {'p': 1, 'q': 1, 'mean': 'Zero', 'dist': 'normal'}"
   ]
  },
  {
   "cell_type": "code",
   "execution_count": 12,
   "id": "175a8a01",
   "metadata": {},
   "outputs": [],
   "source": [
    "n = input_data.shape[0]"
   ]
  },
  {
   "cell_type": "code",
   "execution_count": 13,
   "id": "24bf03e6",
   "metadata": {},
   "outputs": [
    {
     "data": {
      "text/plain": [
       "2965"
      ]
     },
     "execution_count": 13,
     "metadata": {},
     "output_type": "execute_result"
    }
   ],
   "source": [
    "n"
   ]
  },
  {
   "cell_type": "code",
   "execution_count": 14,
   "id": "7680307b",
   "metadata": {},
   "outputs": [],
   "source": [
    "mu = 0\n",
    "sigma = .02 * rescale_factor\n",
    "\n",
    "centers = [mu]  # np.array([[mu] * n])\n",
    "variances = [sigma ** 2]  # np.array([np.diag([sigma] * n, k=0)])"
   ]
  },
  {
   "cell_type": "code",
   "execution_count": 15,
   "id": "4b2d45fa",
   "metadata": {},
   "outputs": [],
   "source": [
    "clusterization_parameters = {'centers': centers, 'variances': variances, 'n_clusters': 1}"
   ]
  },
  {
   "cell_type": "markdown",
   "id": "ac04baad",
   "metadata": {},
   "source": [
    "## train & test split "
   ]
  },
  {
   "cell_type": "code",
   "execution_count": 16,
   "id": "b565e751",
   "metadata": {},
   "outputs": [],
   "source": [
    "n_train = 2000\n",
    "n_test = n - n_train"
   ]
  },
  {
   "cell_type": "code",
   "execution_count": 17,
   "id": "df06ee24",
   "metadata": {},
   "outputs": [],
   "source": [
    "train, test = input_data.iloc[:n_train].copy(), input_data.iloc[n_train:].copy()"
   ]
  },
  {
   "cell_type": "code",
   "execution_count": 18,
   "id": "77a13fbf",
   "metadata": {},
   "outputs": [],
   "source": [
    "# centers_train = centers[:, :n_train].copy()\n",
    "# cov_matrices_train = cov_matrices[:, :n_train, :n_train].copy()"
   ]
  },
  {
   "cell_type": "code",
   "execution_count": 19,
   "id": "3d8d0304",
   "metadata": {},
   "outputs": [],
   "source": [
    "# clusterization_parameters_train = {'centers': centers_train, 'cov_matrices': cov_matrices_train, 'n_clusters': 1}"
   ]
  },
  {
   "cell_type": "markdown",
   "id": "ad4b4de3",
   "metadata": {},
   "source": [
    "## Same data fed to GARCH(1, 1)"
   ]
  },
  {
   "cell_type": "code",
   "execution_count": 20,
   "id": "42eaed26",
   "metadata": {},
   "outputs": [],
   "source": [
    "model = arch_model(input_data,\n",
    "                   mean=local_method_parameters['mean'],\n",
    "                   vol='GARCH', p=local_method_parameters['p'],\n",
    "                   q=local_method_parameters['q'],\n",
    "                   dist=local_method_parameters['dist'])"
   ]
  },
  {
   "cell_type": "code",
   "execution_count": 21,
   "id": "6498c56d",
   "metadata": {},
   "outputs": [
    {
     "data": {
      "text/plain": [
       "GARCH(p: 1, q: 1), id: 0x7fdaf993ac10"
      ]
     },
     "execution_count": 21,
     "metadata": {},
     "output_type": "execute_result"
    }
   ],
   "source": [
    "model.volatility"
   ]
  },
  {
   "cell_type": "code",
   "execution_count": 22,
   "id": "cc77167a",
   "metadata": {},
   "outputs": [
    {
     "name": "stdout",
     "output_type": "stream",
     "text": [
      "Iteration:      1,   Func. Count:      5,   Neg. LLF: 18208.402879687113\n",
      "Iteration:      2,   Func. Count:     14,   Neg. LLF: 179841745.16303405\n",
      "Iteration:      3,   Func. Count:     19,   Neg. LLF: 6259.643369009693\n",
      "Iteration:      4,   Func. Count:     26,   Neg. LLF: 5746.523881004245\n",
      "Iteration:      5,   Func. Count:     31,   Neg. LLF: 5518.704480234793\n",
      "Iteration:      6,   Func. Count:     35,   Neg. LLF: 5518.7020679092275\n",
      "Iteration:      7,   Func. Count:     39,   Neg. LLF: 5518.701967731444\n",
      "Iteration:      8,   Func. Count:     43,   Neg. LLF: 5518.7019340838815\n",
      "Iteration:      9,   Func. Count:     46,   Neg. LLF: 5518.701934085554\n",
      "Optimization terminated successfully    (Exit mode 0)\n",
      "            Current function value: 5518.7019340838815\n",
      "            Iterations: 9\n",
      "            Function evaluations: 46\n",
      "            Gradient evaluations: 9\n"
     ]
    }
   ],
   "source": [
    "fitted = model.fit()"
   ]
  },
  {
   "cell_type": "code",
   "execution_count": 23,
   "id": "cab4915e",
   "metadata": {},
   "outputs": [
    {
     "data": {
      "text/plain": [
       "<bound method ARCHModelResult.summary of                        Zero Mean - GARCH Model Results                        \n",
       "==============================================================================\n",
       "Dep. Variable:             log return   R-squared:                       0.000\n",
       "Mean Model:                 Zero Mean   Adj. R-squared:                  0.000\n",
       "Vol Model:                      GARCH   Log-Likelihood:               -5518.70\n",
       "Distribution:                  Normal   AIC:                           11043.4\n",
       "Method:            Maximum Likelihood   BIC:                           11061.4\n",
       "                                        No. Observations:                 2965\n",
       "Date:                Thu, Nov 04 2021   Df Residuals:                     2965\n",
       "Time:                        20:08:22   Df Model:                            0\n",
       "                              Volatility Model                              \n",
       "============================================================================\n",
       "                 coef    std err          t      P>|t|      95.0% Conf. Int.\n",
       "----------------------------------------------------------------------------\n",
       "omega          0.0592  2.054e-02      2.881  3.968e-03 [1.891e-02,9.941e-02]\n",
       "alpha[1]       0.0818  1.731e-02      4.728  2.270e-06   [4.792e-02,  0.116]\n",
       "beta[1]        0.9001  1.818e-02     49.505      0.000     [  0.864,  0.936]\n",
       "============================================================================\n",
       "\n",
       "Covariance estimator: robust\n",
       "ARCHModelResult, id: 0x7fdaf9943b20>"
      ]
     },
     "execution_count": 23,
     "metadata": {},
     "output_type": "execute_result"
    }
   ],
   "source": [
    "fitted.summary"
   ]
  },
  {
   "cell_type": "code",
   "execution_count": 24,
   "id": "bc5d6607",
   "metadata": {},
   "outputs": [
    {
     "data": {
      "text/plain": [
       "omega       0.059160\n",
       "alpha[1]    0.081849\n",
       "beta[1]     0.900093\n",
       "Name: params, dtype: float64"
      ]
     },
     "execution_count": 24,
     "metadata": {},
     "output_type": "execute_result"
    }
   ],
   "source": [
    "fitted.params"
   ]
  },
  {
   "cell_type": "code",
   "execution_count": 25,
   "id": "77aaf490",
   "metadata": {},
   "outputs": [],
   "source": [
    "forecast = fitted.forecast(reindex=False, horizon=1)"
   ]
  },
  {
   "cell_type": "code",
   "execution_count": 26,
   "id": "118b30be",
   "metadata": {},
   "outputs": [],
   "source": [
    "forecast_variance = forecast.variance.iloc[0]"
   ]
  },
  {
   "cell_type": "code",
   "execution_count": 27,
   "id": "63c5b3f1",
   "metadata": {},
   "outputs": [
    {
     "data": {
      "text/html": [
       "<div>\n",
       "<style scoped>\n",
       "    .dataframe tbody tr th:only-of-type {\n",
       "        vertical-align: middle;\n",
       "    }\n",
       "\n",
       "    .dataframe tbody tr th {\n",
       "        vertical-align: top;\n",
       "    }\n",
       "\n",
       "    .dataframe thead th {\n",
       "        text-align: right;\n",
       "    }\n",
       "</style>\n",
       "<table border=\"1\" class=\"dataframe\">\n",
       "  <thead>\n",
       "    <tr style=\"text-align: right;\">\n",
       "      <th></th>\n",
       "      <th>h.1</th>\n",
       "      <th>h.2</th>\n",
       "    </tr>\n",
       "    <tr>\n",
       "      <th>&lt;DATE&gt;</th>\n",
       "      <th></th>\n",
       "      <th></th>\n",
       "    </tr>\n",
       "  </thead>\n",
       "  <tbody>\n",
       "    <tr>\n",
       "      <th>2021-10-15</th>\n",
       "      <td>1.817119</td>\n",
       "      <td>1.843465</td>\n",
       "    </tr>\n",
       "  </tbody>\n",
       "</table>\n",
       "</div>"
      ],
      "text/plain": [
       "                 h.1       h.2\n",
       "<DATE>                        \n",
       "2021-10-15  1.817119  1.843465"
      ]
     },
     "execution_count": 27,
     "metadata": {},
     "output_type": "execute_result"
    }
   ],
   "source": [
    "fitted.forecast(reindex=False, horizon=2).variance"
   ]
  },
  {
   "cell_type": "code",
   "execution_count": 28,
   "id": "bf3d0d2a",
   "metadata": {},
   "outputs": [
    {
     "data": {
      "text/plain": [
       "h.1    1.817119\n",
       "Name: 2021-10-15 00:00:00, dtype: float64"
      ]
     },
     "execution_count": 28,
     "metadata": {},
     "output_type": "execute_result"
    }
   ],
   "source": [
    "forecast_variance"
   ]
  },
  {
   "cell_type": "markdown",
   "id": "beac442d",
   "metadata": {},
   "source": [
    "# Testing `FuzzyVolatilityModel` class"
   ]
  },
  {
   "cell_type": "code",
   "execution_count": 29,
   "id": "0546dc16",
   "metadata": {},
   "outputs": [],
   "source": [
    "logging.basicConfig(level=logging.DEBUG)"
   ]
  },
  {
   "cell_type": "code",
   "execution_count": 30,
   "id": "260be1ca",
   "metadata": {},
   "outputs": [
    {
     "name": "stderr",
     "output_type": "stream",
     "text": [
      "INFO:model.FuzzyVolatilityModel:Creating an instance of FuzzyVolatilityModel\n"
     ]
    }
   ],
   "source": [
    "fvm = FuzzyVolatilityModel(train,\n",
    "                           clusterization_method=clusterization_method,\n",
    "                           clusterization_parameters=clusterization_parameters,\n",
    "                           local_method=local_method,\n",
    "                           local_method_parameters=local_method_parameters)"
   ]
  },
  {
   "cell_type": "markdown",
   "id": "bc2d8777",
   "metadata": {},
   "source": [
    "## `fit`"
   ]
  },
  {
   "cell_type": "code",
   "execution_count": 31,
   "id": "9f12e539",
   "metadata": {},
   "outputs": [
    {
     "name": "stderr",
     "output_type": "stream",
     "text": [
      "DEBUG:model.FuzzyVolatilityModel:Starting clusterization\n",
      "DEBUG:cluster_input:clustering method is gaussian\n",
      "DEBUG:cluster_input:parameters is not None\n",
      "INFO:calc_gaussian_membership_degrees:Starting\n",
      "DEBUG:pdf:log_pdf = -4043.5895454901565, type(log_pdf) = <class 'numpy.float64'>\n",
      "DEBUG:pdf:long_log_pdf = -4043.5895454901565, type(long_log_pdf) = <class 'numpy.float128'>\n",
      "DEBUG:model.FuzzyVolatilityModel:Clusterization completed\n",
      "Estimated parameters: {'centers': [0], 'variances': [4.0], 'n_clusters': 1}\n",
      "Membership degrees:\n",
      "[7.78705625e-1757]\n",
      "DEBUG:model.FuzzyVolatilityModel:Starting to fit local model within each rule\n",
      "DEBUG:model.FuzzyVolatilityModel:Local model fittings for each rule are completed\n"
     ]
    },
    {
     "name": "stdout",
     "output_type": "stream",
     "text": [
      "Iteration:      1,   Func. Count:      5,   Neg. LLF: 11932.727543850217\n",
      "Iteration:      2,   Func. Count:     14,   Neg. LLF: 24066663.767517917\n",
      "Iteration:      3,   Func. Count:     19,   Neg. LLF: 3815.9104011498903\n",
      "Iteration:      4,   Func. Count:     24,   Neg. LLF: 5215.352095508891\n",
      "Iteration:      5,   Func. Count:     30,   Neg. LLF: 3957.8020446173223\n",
      "Iteration:      6,   Func. Count:     35,   Neg. LLF: 3807.8476247138947\n",
      "Iteration:      7,   Func. Count:     40,   Neg. LLF: 3807.730001725556\n",
      "Iteration:      8,   Func. Count:     44,   Neg. LLF: 3807.729043605945\n",
      "Iteration:      9,   Func. Count:     48,   Neg. LLF: 3807.7290429766836\n",
      "Optimization terminated successfully    (Exit mode 0)\n",
      "            Current function value: 3807.7290429766836\n",
      "            Iterations: 9\n",
      "            Function evaluations: 48\n",
      "            Gradient evaluations: 9\n"
     ]
    }
   ],
   "source": [
    "fvm.fit()"
   ]
  },
  {
   "cell_type": "code",
   "execution_count": 32,
   "id": "7445010e",
   "metadata": {},
   "outputs": [
    {
     "name": "stderr",
     "output_type": "stream",
     "text": [
      "DEBUG:model.FuzzyVolatilityModel:Starting to calculate rules outputs\n",
      "DEBUG:model.FuzzyVolatilityModel:Rules outputs calculated; rules_outputs_current: [1.1640601558440875]\n",
      "DEBUG:model.FuzzyVolatilityModel:Starting to aggregate all rules outputs to a single one\n",
      "INFO:combine_rules_outputs:weights_sum: 0.0\n",
      "DEBUG:model.FuzzyVolatilityModel:Rules outputs are combined; current_output: 1.1640601558440875\n"
     ]
    }
   ],
   "source": [
    "fvm.forecast()"
   ]
  },
  {
   "cell_type": "code",
   "execution_count": 33,
   "id": "6a65edd0",
   "metadata": {},
   "outputs": [
    {
     "data": {
      "text/plain": [
       "1.1640601558440875074"
      ]
     },
     "execution_count": 33,
     "metadata": {},
     "output_type": "execute_result"
    }
   ],
   "source": [
    "fvm.current_output"
   ]
  },
  {
   "cell_type": "code",
   "execution_count": 34,
   "id": "ba8d0b58",
   "metadata": {},
   "outputs": [
    {
     "data": {
      "text/plain": [
       "array([7.78705625e-1757], dtype=float128)"
      ]
     },
     "execution_count": 34,
     "metadata": {},
     "output_type": "execute_result"
    }
   ],
   "source": [
    "fvm.membership_degrees_current"
   ]
  },
  {
   "cell_type": "code",
   "execution_count": 35,
   "id": "95daa841",
   "metadata": {},
   "outputs": [
    {
     "data": {
      "text/plain": [
       "{'centers': [0], 'variances': [4.0], 'n_clusters': 1}"
      ]
     },
     "execution_count": 35,
     "metadata": {},
     "output_type": "execute_result"
    }
   ],
   "source": [
    "fvm.clusters_parameters_current"
   ]
  },
  {
   "cell_type": "markdown",
   "id": "24485114",
   "metadata": {},
   "source": [
    "## `forecast`"
   ]
  },
  {
   "cell_type": "code",
   "execution_count": 36,
   "id": "271546e8",
   "metadata": {},
   "outputs": [],
   "source": [
    "# fvm.forecast()"
   ]
  },
  {
   "cell_type": "code",
   "execution_count": 37,
   "id": "9288a4dd",
   "metadata": {},
   "outputs": [
    {
     "data": {
      "text/plain": [
       "1.1640601558440875074"
      ]
     },
     "execution_count": 37,
     "metadata": {},
     "output_type": "execute_result"
    }
   ],
   "source": [
    "fvm.current_output"
   ]
  },
  {
   "cell_type": "markdown",
   "id": "ae1b59cc",
   "metadata": {},
   "source": [
    "## `feed_daily_data`"
   ]
  },
  {
   "cell_type": "code",
   "execution_count": 38,
   "id": "1c0d81c6",
   "metadata": {},
   "outputs": [],
   "source": [
    "test_small = test.iloc[:11].copy()"
   ]
  },
  {
   "cell_type": "code",
   "execution_count": 39,
   "id": "4c563a2e",
   "metadata": {},
   "outputs": [
    {
     "name": "stderr",
     "output_type": "stream",
     "text": [
      "DEBUG:model.FuzzyVolatilityModel:Starting clusterization\n",
      "DEBUG:cluster_input:clustering method is gaussian\n",
      "DEBUG:cluster_input:parameters is not None\n",
      "INFO:calc_gaussian_membership_degrees:Starting\n",
      "DEBUG:pdf:log_pdf = -4045.276063319716, type(log_pdf) = <class 'numpy.float64'>\n",
      "DEBUG:pdf:long_log_pdf = -4045.276063319716, type(long_log_pdf) = <class 'numpy.float128'>\n",
      "DEBUG:model.FuzzyVolatilityModel:Clusterization completed\n",
      "Estimated parameters: {'centers': [0], 'variances': [4.0], 'n_clusters': 1}\n",
      "Membership degrees:\n",
      "[1.44187604e-1757]\n",
      "DEBUG:model.FuzzyVolatilityModel:Starting to fit local model within each rule\n",
      "DEBUG:model.FuzzyVolatilityModel:Local model fittings for each rule are completed\n",
      "DEBUG:model.FuzzyVolatilityModel:Starting to calculate rules outputs\n",
      "DEBUG:model.FuzzyVolatilityModel:Rules outputs calculated; rules_outputs_current: [1.1538362626947958]\n",
      "DEBUG:model.FuzzyVolatilityModel:Starting to aggregate all rules outputs to a single one\n",
      "INFO:combine_rules_outputs:weights_sum: 0.0\n",
      "DEBUG:model.FuzzyVolatilityModel:Rules outputs are combined; current_output: 1.1538362626947958\n",
      "DEBUG:model.FuzzyVolatilityModel:Starting clusterization\n",
      "DEBUG:cluster_input:clustering method is gaussian\n",
      "DEBUG:cluster_input:parameters is not None\n",
      "INFO:calc_gaussian_membership_degrees:Starting\n"
     ]
    },
    {
     "name": "stdout",
     "output_type": "stream",
     "text": [
      "Iteration:      1,   Func. Count:      5,   Neg. LLF: 11938.79698400292\n",
      "Iteration:      2,   Func. Count:     14,   Neg. LLF: 24687153.870436523\n",
      "Iteration:      3,   Func. Count:     19,   Neg. LLF: 3817.437383590056\n",
      "Iteration:      4,   Func. Count:     24,   Neg. LLF: 5179.656696955189\n",
      "Iteration:      5,   Func. Count:     30,   Neg. LLF: 4005.499174151879\n",
      "Iteration:      6,   Func. Count:     35,   Neg. LLF: 3809.18055778908\n",
      "Iteration:      7,   Func. Count:     40,   Neg. LLF: 3808.981025987488\n",
      "Iteration:      8,   Func. Count:     44,   Neg. LLF: 3808.979574857023\n",
      "Iteration:      9,   Func. Count:     48,   Neg. LLF: 3808.9795734129384\n",
      "Iteration:     10,   Func. Count:     51,   Neg. LLF: 3808.979573411462\n",
      "Optimization terminated successfully    (Exit mode 0)\n",
      "            Current function value: 3808.9795734129384\n",
      "            Iterations: 10\n",
      "            Function evaluations: 51\n",
      "            Gradient evaluations: 10\n"
     ]
    },
    {
     "name": "stderr",
     "output_type": "stream",
     "text": [
      "DEBUG:pdf:log_pdf = -4046.953476478486, type(log_pdf) = <class 'numpy.float64'>\n",
      "DEBUG:pdf:long_log_pdf = -4046.953476478486, type(long_log_pdf) = <class 'numpy.float128'>\n",
      "DEBUG:model.FuzzyVolatilityModel:Clusterization completed\n",
      "Estimated parameters: {'centers': [0], 'variances': [4.0], 'n_clusters': 1}\n",
      "Membership degrees:\n",
      "[2.69424227e-1758]\n",
      "DEBUG:model.FuzzyVolatilityModel:Starting to fit local model within each rule\n",
      "DEBUG:model.FuzzyVolatilityModel:Local model fittings for each rule are completed\n",
      "DEBUG:model.FuzzyVolatilityModel:Starting to calculate rules outputs\n",
      "DEBUG:model.FuzzyVolatilityModel:Rules outputs calculated; rules_outputs_current: [1.1384422878702163]\n",
      "DEBUG:model.FuzzyVolatilityModel:Starting to aggregate all rules outputs to a single one\n",
      "INFO:combine_rules_outputs:weights_sum: 0.0\n",
      "DEBUG:model.FuzzyVolatilityModel:Rules outputs are combined; current_output: 1.1384422878702163\n",
      "DEBUG:model.FuzzyVolatilityModel:Starting clusterization\n",
      "DEBUG:cluster_input:clustering method is gaussian\n",
      "DEBUG:cluster_input:parameters is not None\n",
      "INFO:calc_gaussian_membership_degrees:Starting\n"
     ]
    },
    {
     "name": "stdout",
     "output_type": "stream",
     "text": [
      "Iteration:      1,   Func. Count:      5,   Neg. LLF: 11944.836856202703\n",
      "Iteration:      2,   Func. Count:     13,   Neg. LLF: 189936494.689183\n",
      "Iteration:      3,   Func. Count:     18,   Neg. LLF: 16743.820486595738\n",
      "Iteration:      4,   Func. Count:     24,   Neg. LLF: 3819.893392109486\n",
      "Iteration:      5,   Func. Count:     29,   Neg. LLF: 5016.136776077809\n",
      "Iteration:      6,   Func. Count:     35,   Neg. LLF: 3815.7387946106073\n",
      "Iteration:      7,   Func. Count:     40,   Neg. LLF: 3810.197153033996\n",
      "Iteration:      8,   Func. Count:     44,   Neg. LLF: 3810.196363608463\n",
      "Iteration:      9,   Func. Count:     48,   Neg. LLF: 3810.1963595954794\n",
      "Iteration:     10,   Func. Count:     51,   Neg. LLF: 3810.1963595959137\n",
      "Optimization terminated successfully    (Exit mode 0)\n",
      "            Current function value: 3810.1963595954794\n",
      "            Iterations: 10\n",
      "            Function evaluations: 51\n",
      "            Gradient evaluations: 10\n"
     ]
    },
    {
     "name": "stderr",
     "output_type": "stream",
     "text": [
      "DEBUG:pdf:log_pdf = -4048.5665746737104, type(log_pdf) = <class 'numpy.float64'>\n",
      "DEBUG:pdf:long_log_pdf = -4048.5665746737104, type(long_log_pdf) = <class 'numpy.float128'>\n",
      "DEBUG:model.FuzzyVolatilityModel:Clusterization completed\n",
      "Estimated parameters: {'centers': [0], 'variances': [4.0], 'n_clusters': 1}\n",
      "Membership degrees:\n",
      "[5.36879722e-1759]\n",
      "DEBUG:model.FuzzyVolatilityModel:Starting to fit local model within each rule\n",
      "DEBUG:model.FuzzyVolatilityModel:Local model fittings for each rule are completed\n",
      "DEBUG:model.FuzzyVolatilityModel:Starting to calculate rules outputs\n",
      "DEBUG:model.FuzzyVolatilityModel:Rules outputs calculated; rules_outputs_current: [1.0814454072547575]\n",
      "DEBUG:model.FuzzyVolatilityModel:Starting to aggregate all rules outputs to a single one\n",
      "INFO:combine_rules_outputs:weights_sum: 0.0\n",
      "DEBUG:model.FuzzyVolatilityModel:Rules outputs are combined; current_output: 1.0814454072547575\n",
      "DEBUG:model.FuzzyVolatilityModel:Starting clusterization\n",
      "DEBUG:cluster_input:clustering method is gaussian\n",
      "DEBUG:cluster_input:parameters is not None\n",
      "INFO:calc_gaussian_membership_degrees:Starting\n"
     ]
    },
    {
     "name": "stdout",
     "output_type": "stream",
     "text": [
      "Iteration:      1,   Func. Count:      5,   Neg. LLF: 11950.808593684204\n",
      "Iteration:      2,   Func. Count:     13,   Neg. LLF: 185662381.9794952\n",
      "Iteration:      3,   Func. Count:     18,   Neg. LLF: 5062.362953575363\n",
      "Iteration:      4,   Func. Count:     24,   Neg. LLF: 3818.733941140039\n",
      "Iteration:      5,   Func. Count:     29,   Neg. LLF: 4994.856624000879\n",
      "Iteration:      6,   Func. Count:     35,   Neg. LLF: 3815.8339851653404\n",
      "Iteration:      7,   Func. Count:     40,   Neg. LLF: 3811.183327058603\n",
      "Iteration:      8,   Func. Count:     44,   Neg. LLF: 3811.1830834606803\n",
      "Iteration:      9,   Func. Count:     48,   Neg. LLF: 3811.1830820013865\n",
      "Iteration:     10,   Func. Count:     51,   Neg. LLF: 3811.1830820023006\n",
      "Optimization terminated successfully    (Exit mode 0)\n",
      "            Current function value: 3811.1830820013865\n",
      "            Iterations: 10\n",
      "            Function evaluations: 51\n",
      "            Gradient evaluations: 10\n"
     ]
    },
    {
     "name": "stderr",
     "output_type": "stream",
     "text": [
      "DEBUG:pdf:log_pdf = -4050.193486246897, type(log_pdf) = <class 'numpy.float64'>\n",
      "DEBUG:pdf:long_log_pdf = -4050.193486246897, type(long_log_pdf) = <class 'numpy.float128'>\n",
      "DEBUG:model.FuzzyVolatilityModel:Clusterization completed\n",
      "Estimated parameters: {'centers': [0], 'variances': [4.0], 'n_clusters': 1}\n",
      "Membership degrees:\n",
      "[1.05515991e-1759]\n",
      "DEBUG:model.FuzzyVolatilityModel:Starting to fit local model within each rule\n",
      "DEBUG:model.FuzzyVolatilityModel:Local model fittings for each rule are completed\n",
      "DEBUG:model.FuzzyVolatilityModel:Starting to calculate rules outputs\n",
      "DEBUG:model.FuzzyVolatilityModel:Rules outputs calculated; rules_outputs_current: [1.0385237315903229]\n",
      "DEBUG:model.FuzzyVolatilityModel:Starting to aggregate all rules outputs to a single one\n",
      "INFO:combine_rules_outputs:weights_sum: 0.0\n",
      "DEBUG:model.FuzzyVolatilityModel:Rules outputs are combined; current_output: 1.0385237315903229\n",
      "DEBUG:model.FuzzyVolatilityModel:Starting clusterization\n",
      "DEBUG:cluster_input:clustering method is gaussian\n",
      "DEBUG:cluster_input:parameters is not None\n",
      "INFO:calc_gaussian_membership_degrees:Starting\n"
     ]
    },
    {
     "name": "stdout",
     "output_type": "stream",
     "text": [
      "Iteration:      1,   Func. Count:      5,   Neg. LLF: 11956.785595225587\n",
      "Iteration:      2,   Func. Count:     13,   Neg. LLF: 182080982.46528172\n",
      "Iteration:      3,   Func. Count:     18,   Neg. LLF: 4193.328173081277\n",
      "Iteration:      4,   Func. Count:     23,   Neg. LLF: 3817.1321183002883\n",
      "Iteration:      5,   Func. Count:     28,   Neg. LLF: 4041.967167662161\n",
      "Iteration:      6,   Func. Count:     33,   Neg. LLF: 3818.049139557475\n",
      "Iteration:      7,   Func. Count:     38,   Neg. LLF: 3812.200079016845\n",
      "Iteration:      8,   Func. Count:     42,   Neg. LLF: 3812.19545158859\n",
      "Iteration:      9,   Func. Count:     46,   Neg. LLF: 3812.1954450246467\n",
      "Iteration:     10,   Func. Count:     49,   Neg. LLF: 3812.1954450253543\n",
      "Optimization terminated successfully    (Exit mode 0)\n",
      "            Current function value: 3812.1954450246467\n",
      "            Iterations: 10\n",
      "            Function evaluations: 49\n",
      "            Gradient evaluations: 10\n"
     ]
    },
    {
     "name": "stderr",
     "output_type": "stream",
     "text": [
      "DEBUG:pdf:log_pdf = -4051.8081776312056, type(log_pdf) = <class 'numpy.float64'>\n",
      "DEBUG:pdf:long_log_pdf = -4051.8081776312056, type(long_log_pdf) = <class 'numpy.float128'>\n",
      "DEBUG:model.FuzzyVolatilityModel:Clusterization completed\n",
      "Estimated parameters: {'centers': [0], 'variances': [4.0], 'n_clusters': 1}\n",
      "Membership degrees:\n",
      "[2.09926239e-1760]\n",
      "DEBUG:model.FuzzyVolatilityModel:Starting to fit local model within each rule\n",
      "DEBUG:model.FuzzyVolatilityModel:Local model fittings for each rule are completed\n",
      "DEBUG:model.FuzzyVolatilityModel:Starting to calculate rules outputs\n",
      "DEBUG:model.FuzzyVolatilityModel:Rules outputs calculated; rules_outputs_current: [0.9910406428359273]\n",
      "DEBUG:model.FuzzyVolatilityModel:Starting to aggregate all rules outputs to a single one\n",
      "INFO:combine_rules_outputs:weights_sum: 0.0\n",
      "DEBUG:model.FuzzyVolatilityModel:Rules outputs are combined; current_output: 0.9910406428359273\n",
      "DEBUG:model.FuzzyVolatilityModel:Starting clusterization\n",
      "DEBUG:cluster_input:clustering method is gaussian\n",
      "DEBUG:cluster_input:parameters is not None\n",
      "INFO:calc_gaussian_membership_degrees:Starting\n"
     ]
    },
    {
     "name": "stdout",
     "output_type": "stream",
     "text": [
      "Iteration:      1,   Func. Count:      5,   Neg. LLF: 11962.759802448603\n",
      "Iteration:      2,   Func. Count:     13,   Neg. LLF: 177133982.30101582\n",
      "Iteration:      3,   Func. Count:     18,   Neg. LLF: 3944.5815957434006\n",
      "Iteration:      4,   Func. Count:     23,   Neg. LLF: 3817.326059273135\n",
      "Iteration:      5,   Func. Count:     28,   Neg. LLF: 4926.084971875299\n",
      "Iteration:      6,   Func. Count:     34,   Neg. LLF: 3814.3514546862298\n",
      "Iteration:      7,   Func. Count:     39,   Neg. LLF: 3813.142596852469\n",
      "Iteration:      8,   Func. Count:     43,   Neg. LLF: 3813.1425840190054\n",
      "Iteration:      9,   Func. Count:     47,   Neg. LLF: 3813.142583489662\n",
      "Optimization terminated successfully    (Exit mode 0)\n",
      "            Current function value: 3813.142583489662\n",
      "            Iterations: 9\n",
      "            Function evaluations: 47\n",
      "            Gradient evaluations: 9\n"
     ]
    },
    {
     "name": "stderr",
     "output_type": "stream",
     "text": [
      "DEBUG:pdf:log_pdf = -4053.4342124596055, type(log_pdf) = <class 'numpy.float64'>\n",
      "DEBUG:pdf:long_log_pdf = -4053.4342124596055, type(long_log_pdf) = <class 'numpy.float128'>\n",
      "DEBUG:model.FuzzyVolatilityModel:Clusterization completed\n",
      "Estimated parameters: {'centers': [0], 'variances': [4.0], 'n_clusters': 1}\n",
      "Membership degrees:\n",
      "[4.12941728e-1761]\n",
      "DEBUG:model.FuzzyVolatilityModel:Starting to fit local model within each rule\n",
      "DEBUG:model.FuzzyVolatilityModel:Local model fittings for each rule are completed\n",
      "DEBUG:model.FuzzyVolatilityModel:Starting to calculate rules outputs\n",
      "DEBUG:model.FuzzyVolatilityModel:Rules outputs calculated; rules_outputs_current: [0.9550950391382107]\n",
      "DEBUG:model.FuzzyVolatilityModel:Starting to aggregate all rules outputs to a single one\n",
      "INFO:combine_rules_outputs:weights_sum: 0.0\n",
      "DEBUG:model.FuzzyVolatilityModel:Rules outputs are combined; current_output: 0.9550950391382107\n",
      "DEBUG:model.FuzzyVolatilityModel:Starting clusterization\n",
      "DEBUG:cluster_input:clustering method is gaussian\n",
      "DEBUG:cluster_input:parameters is not None\n",
      "INFO:calc_gaussian_membership_degrees:Starting\n"
     ]
    },
    {
     "name": "stdout",
     "output_type": "stream",
     "text": [
      "Iteration:      1,   Func. Count:      5,   Neg. LLF: 11968.74307007086\n",
      "Iteration:      2,   Func. Count:     13,   Neg. LLF: 175378893.4091766\n",
      "Iteration:      3,   Func. Count:     18,   Neg. LLF: 3877.520164888751\n",
      "Iteration:      4,   Func. Count:     23,   Neg. LLF: 3817.641447901574\n",
      "Iteration:      5,   Func. Count:     28,   Neg. LLF: 6534.119552744245\n",
      "Iteration:      6,   Func. Count:     34,   Neg. LLF: 3814.303711815931\n",
      "Iteration:      7,   Func. Count:     39,   Neg. LLF: 3814.118675961201\n",
      "Iteration:      8,   Func. Count:     44,   Neg. LLF: 3814.1126197107915\n",
      "Iteration:      9,   Func. Count:     47,   Neg. LLF: 3814.1126197109866\n",
      "Optimization terminated successfully    (Exit mode 0)\n",
      "            Current function value: 3814.1126197107915\n",
      "            Iterations: 9\n",
      "            Function evaluations: 47\n",
      "            Gradient evaluations: 9\n"
     ]
    },
    {
     "name": "stderr",
     "output_type": "stream",
     "text": [
      "DEBUG:pdf:log_pdf = -4055.7964628572377, type(log_pdf) = <class 'numpy.float64'>\n",
      "DEBUG:pdf:long_log_pdf = -4055.7964628572377, type(long_log_pdf) = <class 'numpy.float128'>\n",
      "DEBUG:model.FuzzyVolatilityModel:Clusterization completed\n",
      "Estimated parameters: {'centers': [0], 'variances': [4.0], 'n_clusters': 1}\n",
      "Membership degrees:\n",
      "[3.89024057e-1762]\n",
      "DEBUG:model.FuzzyVolatilityModel:Starting to fit local model within each rule\n",
      "DEBUG:model.FuzzyVolatilityModel:Local model fittings for each rule are completed\n",
      "DEBUG:model.FuzzyVolatilityModel:Starting to calculate rules outputs\n",
      "DEBUG:model.FuzzyVolatilityModel:Rules outputs calculated; rules_outputs_current: [1.418776400525191]\n",
      "DEBUG:model.FuzzyVolatilityModel:Starting to aggregate all rules outputs to a single one\n",
      "INFO:combine_rules_outputs:weights_sum: 0.0\n",
      "DEBUG:model.FuzzyVolatilityModel:Rules outputs are combined; current_output: 1.418776400525191\n",
      "DEBUG:model.FuzzyVolatilityModel:Starting clusterization\n",
      "DEBUG:cluster_input:clustering method is gaussian\n",
      "DEBUG:cluster_input:parameters is not None\n",
      "INFO:calc_gaussian_membership_degrees:Starting\n"
     ]
    },
    {
     "name": "stdout",
     "output_type": "stream",
     "text": [
      "Iteration:      1,   Func. Count:      5,   Neg. LLF: 11975.624993687112\n",
      "Iteration:      2,   Func. Count:     14,   Neg. LLF: 25411590.59644759\n",
      "Iteration:      3,   Func. Count:     19,   Neg. LLF: 3825.486768218312\n",
      "Iteration:      4,   Func. Count:     24,   Neg. LLF: 5423.551814097434\n",
      "Iteration:      5,   Func. Count:     30,   Neg. LLF: 3866.630426066304\n",
      "Iteration:      6,   Func. Count:     35,   Neg. LLF: 3818.1283809168667\n",
      "Iteration:      7,   Func. Count:     40,   Neg. LLF: 3818.123499087722\n",
      "Iteration:      8,   Func. Count:     44,   Neg. LLF: 3818.123488119668\n",
      "Iteration:      9,   Func. Count:     47,   Neg. LLF: 3818.1234881197724\n",
      "Optimization terminated successfully    (Exit mode 0)\n",
      "            Current function value: 3818.123488119668\n",
      "            Iterations: 9\n",
      "            Function evaluations: 47\n",
      "            Gradient evaluations: 9\n"
     ]
    },
    {
     "name": "stderr",
     "output_type": "stream",
     "text": [
      "DEBUG:pdf:log_pdf = -4058.2507178271358, type(log_pdf) = <class 'numpy.float64'>\n",
      "DEBUG:pdf:long_log_pdf = -4058.2507178271358, type(long_log_pdf) = <class 'numpy.float128'>\n",
      "DEBUG:model.FuzzyVolatilityModel:Clusterization completed\n",
      "Estimated parameters: {'centers': [0], 'variances': [4.0], 'n_clusters': 1}\n",
      "Membership degrees:\n",
      "[3.3427744e-1763]\n",
      "DEBUG:model.FuzzyVolatilityModel:Starting to fit local model within each rule\n",
      "DEBUG:model.FuzzyVolatilityModel:Local model fittings for each rule are completed\n",
      "DEBUG:model.FuzzyVolatilityModel:Starting to calculate rules outputs\n",
      "DEBUG:model.FuzzyVolatilityModel:Rules outputs calculated; rules_outputs_current: [1.8929836680543304]\n",
      "DEBUG:model.FuzzyVolatilityModel:Starting to aggregate all rules outputs to a single one\n",
      "INFO:combine_rules_outputs:weights_sum: 0.0\n",
      "DEBUG:model.FuzzyVolatilityModel:Rules outputs are combined; current_output: 1.8929836680543304\n",
      "DEBUG:model.FuzzyVolatilityModel:Starting clusterization\n",
      "DEBUG:cluster_input:clustering method is gaussian\n",
      "DEBUG:cluster_input:parameters is not None\n",
      "INFO:calc_gaussian_membership_degrees:Starting\n"
     ]
    },
    {
     "name": "stdout",
     "output_type": "stream",
     "text": [
      "Iteration:      1,   Func. Count:      5,   Neg. LLF: 11982.619293829863\n",
      "Iteration:      2,   Func. Count:     14,   Neg. LLF: 17231660.698059242\n",
      "Iteration:      3,   Func. Count:     19,   Neg. LLF: 3827.1127290965715\n",
      "Iteration:      4,   Func. Count:     24,   Neg. LLF: 6315.26828918682\n",
      "Iteration:      5,   Func. Count:     30,   Neg. LLF: 3821.8600774106726\n",
      "Iteration:      6,   Func. Count:     35,   Neg. LLF: 3821.681175779466\n",
      "Iteration:      7,   Func. Count:     40,   Neg. LLF: 3821.584794975642\n",
      "Iteration:      8,   Func. Count:     44,   Neg. LLF: 3821.5847909015783\n",
      "Iteration:      9,   Func. Count:     47,   Neg. LLF: 3821.5847909012764\n",
      "Optimization terminated successfully    (Exit mode 0)\n",
      "            Current function value: 3821.5847909015783\n",
      "            Iterations: 9\n",
      "            Function evaluations: 47\n",
      "            Gradient evaluations: 9\n"
     ]
    },
    {
     "name": "stderr",
     "output_type": "stream",
     "text": [
      "DEBUG:pdf:log_pdf = -4059.8904157467186, type(log_pdf) = <class 'numpy.float64'>\n",
      "DEBUG:pdf:long_log_pdf = -4059.8904157467186, type(long_log_pdf) = <class 'numpy.float128'>\n",
      "DEBUG:model.FuzzyVolatilityModel:Clusterization completed\n",
      "Estimated parameters: {'centers': [0], 'variances': [4.0], 'n_clusters': 1}\n",
      "Membership degrees:\n",
      "[6.48627428e-1764]\n",
      "DEBUG:model.FuzzyVolatilityModel:Starting to fit local model within each rule\n",
      "DEBUG:model.FuzzyVolatilityModel:Local model fittings for each rule are completed\n",
      "DEBUG:model.FuzzyVolatilityModel:Starting to calculate rules outputs\n",
      "DEBUG:model.FuzzyVolatilityModel:Rules outputs calculated; rules_outputs_current: [1.7813052675421783]\n",
      "DEBUG:model.FuzzyVolatilityModel:Starting to aggregate all rules outputs to a single one\n",
      "INFO:combine_rules_outputs:weights_sum: 0.0\n",
      "DEBUG:model.FuzzyVolatilityModel:Rules outputs are combined; current_output: 1.7813052675421783\n",
      "DEBUG:model.FuzzyVolatilityModel:Starting clusterization\n",
      "DEBUG:cluster_input:clustering method is gaussian\n",
      "DEBUG:cluster_input:parameters is not None\n",
      "INFO:calc_gaussian_membership_degrees:Starting\n"
     ]
    },
    {
     "name": "stdout",
     "output_type": "stream",
     "text": [
      "Iteration:      1,   Func. Count:      5,   Neg. LLF: 11988.61938299462\n",
      "Iteration:      2,   Func. Count:     14,   Neg. LLF: 18056057.088690937\n",
      "Iteration:      3,   Func. Count:     19,   Neg. LLF: 3828.7611319038497\n",
      "Iteration:      4,   Func. Count:     24,   Neg. LLF: 5997.988875962443\n",
      "Iteration:      5,   Func. Count:     30,   Neg. LLF: 3825.2521500471544\n",
      "Iteration:      6,   Func. Count:     35,   Neg. LLF: 3822.9555755598076\n",
      "Iteration:      7,   Func. Count:     40,   Neg. LLF: 3822.8807881002317\n",
      "Iteration:      8,   Func. Count:     44,   Neg. LLF: 3822.8807088666395\n",
      "Iteration:      9,   Func. Count:     47,   Neg. LLF: 3822.880708865908\n",
      "Optimization terminated successfully    (Exit mode 0)\n",
      "            Current function value: 3822.8807088666395\n",
      "            Iterations: 9\n",
      "            Function evaluations: 47\n",
      "            Gradient evaluations: 9\n"
     ]
    },
    {
     "name": "stderr",
     "output_type": "stream",
     "text": [
      "DEBUG:pdf:log_pdf = -4061.57398472208, type(log_pdf) = <class 'numpy.float64'>\n",
      "DEBUG:pdf:long_log_pdf = -4061.57398472208, type(long_log_pdf) = <class 'numpy.float128'>\n",
      "DEBUG:model.FuzzyVolatilityModel:Clusterization completed\n",
      "Estimated parameters: {'centers': [0], 'variances': [4.0], 'n_clusters': 1}\n",
      "Membership degrees:\n",
      "[1.20456598e-1764]\n",
      "DEBUG:model.FuzzyVolatilityModel:Starting to fit local model within each rule\n",
      "DEBUG:model.FuzzyVolatilityModel:Local model fittings for each rule are completed\n",
      "DEBUG:model.FuzzyVolatilityModel:Starting to calculate rules outputs\n",
      "DEBUG:model.FuzzyVolatilityModel:Rules outputs calculated; rules_outputs_current: [1.7101075612149081]\n",
      "DEBUG:model.FuzzyVolatilityModel:Starting to aggregate all rules outputs to a single one\n",
      "INFO:combine_rules_outputs:weights_sum: 0.0\n",
      "DEBUG:model.FuzzyVolatilityModel:Rules outputs are combined; current_output: 1.7101075612149081\n",
      "DEBUG:model.FuzzyVolatilityModel:Starting clusterization\n",
      "DEBUG:cluster_input:clustering method is gaussian\n",
      "DEBUG:cluster_input:parameters is not None\n",
      "INFO:calc_gaussian_membership_degrees:Starting\n"
     ]
    },
    {
     "name": "stdout",
     "output_type": "stream",
     "text": [
      "Iteration:      1,   Func. Count:      5,   Neg. LLF: 11994.673093063426\n",
      "Iteration:      2,   Func. Count:     14,   Neg. LLF: 18647442.261568148\n",
      "Iteration:      3,   Func. Count:     19,   Neg. LLF: 3830.407373641846\n",
      "Iteration:      4,   Func. Count:     24,   Neg. LLF: 5822.84881674375\n",
      "Iteration:      5,   Func. Count:     30,   Neg. LLF: 3834.106648727806\n",
      "Iteration:      6,   Func. Count:     35,   Neg. LLF: 3824.2826109564785\n",
      "Iteration:      7,   Func. Count:     40,   Neg. LLF: 3824.248765654793\n",
      "Iteration:      8,   Func. Count:     44,   Neg. LLF: 3824.248621010631\n",
      "Iteration:      9,   Func. Count:     47,   Neg. LLF: 3824.2486210099933\n",
      "Optimization terminated successfully    (Exit mode 0)\n",
      "            Current function value: 3824.248621010631\n",
      "            Iterations: 9\n",
      "            Function evaluations: 47\n",
      "            Gradient evaluations: 9\n"
     ]
    },
    {
     "name": "stderr",
     "output_type": "stream",
     "text": [
      "DEBUG:pdf:log_pdf = -4063.210896550367, type(log_pdf) = <class 'numpy.float64'>\n",
      "DEBUG:pdf:long_log_pdf = -4063.210896550367, type(long_log_pdf) = <class 'numpy.float128'>\n",
      "DEBUG:model.FuzzyVolatilityModel:Clusterization completed\n",
      "Estimated parameters: {'centers': [0], 'variances': [4.0], 'n_clusters': 1}\n",
      "Membership degrees:\n",
      "[2.34384463e-1765]\n",
      "DEBUG:model.FuzzyVolatilityModel:Starting to fit local model within each rule\n",
      "DEBUG:model.FuzzyVolatilityModel:Local model fittings for each rule are completed\n",
      "DEBUG:model.FuzzyVolatilityModel:Starting to calculate rules outputs\n",
      "DEBUG:model.FuzzyVolatilityModel:Rules outputs calculated; rules_outputs_current: [1.6155671063861177]\n",
      "DEBUG:model.FuzzyVolatilityModel:Starting to aggregate all rules outputs to a single one\n",
      "INFO:combine_rules_outputs:weights_sum: 0.0\n",
      "DEBUG:model.FuzzyVolatilityModel:Rules outputs are combined; current_output: 1.6155671063861177\n"
     ]
    },
    {
     "name": "stdout",
     "output_type": "stream",
     "text": [
      "Iteration:      1,   Func. Count:      5,   Neg. LLF: 12000.6698613\n",
      "Iteration:      2,   Func. Count:     14,   Neg. LLF: 19571755.16894725\n",
      "Iteration:      3,   Func. Count:     19,   Neg. LLF: 3832.017630158406\n",
      "Iteration:      4,   Func. Count:     24,   Neg. LLF: 5653.163363511379\n",
      "Iteration:      5,   Func. Count:     30,   Neg. LLF: 3840.8737246174264\n",
      "Iteration:      6,   Func. Count:     35,   Neg. LLF: 3825.5026329069024\n",
      "Iteration:      7,   Func. Count:     39,   Neg. LLF: 3825.493854129598\n",
      "Iteration:      8,   Func. Count:     43,   Neg. LLF: 3825.4936044109427\n",
      "Iteration:      9,   Func. Count:     47,   Neg. LLF: 3825.493583958752\n",
      "Iteration:     10,   Func. Count:     50,   Neg. LLF: 3825.49358395958\n",
      "Optimization terminated successfully    (Exit mode 0)\n",
      "            Current function value: 3825.493583958752\n",
      "            Iterations: 10\n",
      "            Function evaluations: 50\n",
      "            Gradient evaluations: 10\n",
      "CPU times: user 24.6 s, sys: 1.4 s, total: 26 s\n",
      "Wall time: 14.8 s\n"
     ]
    }
   ],
   "source": [
    "%%time\n",
    "\n",
    "fvm.feed_daily_data(test_small)"
   ]
  },
  {
   "cell_type": "code",
   "execution_count": 40,
   "id": "10fd5024",
   "metadata": {},
   "outputs": [
    {
     "data": {
      "text/plain": [
       "12"
      ]
     },
     "execution_count": 40,
     "metadata": {},
     "output_type": "execute_result"
    }
   ],
   "source": [
    "len(fvm._hist_output)"
   ]
  },
  {
   "cell_type": "code",
   "execution_count": 41,
   "id": "d97ad10a",
   "metadata": {},
   "outputs": [
    {
     "data": {
      "text/plain": [
       "(11,)"
      ]
     },
     "execution_count": 41,
     "metadata": {},
     "output_type": "execute_result"
    }
   ],
   "source": [
    "test_small.shape"
   ]
  },
  {
   "cell_type": "code",
   "execution_count": 42,
   "id": "27e96492",
   "metadata": {},
   "outputs": [
    {
     "data": {
      "text/plain": [
       "[1.1640601558440875074,\n",
       " 1.1538362626947957779,\n",
       " 1.1384422878702162851,\n",
       " 1.0814454072547574626,\n",
       " 1.0385237315903228517,\n",
       " 0.991040642835927299,\n",
       " 0.9550950391382106997,\n",
       " 1.4187764005251910504,\n",
       " 1.8929836680543303818,\n",
       " 1.7813052675421783277,\n",
       " 1.7101075612149081451,\n",
       " 1.6155671063861176684]"
      ]
     },
     "execution_count": 42,
     "metadata": {},
     "output_type": "execute_result"
    }
   ],
   "source": [
    "fvm._hist_output"
   ]
  },
  {
   "cell_type": "code",
   "execution_count": 43,
   "id": "e97840cb",
   "metadata": {},
   "outputs": [
    {
     "data": {
      "text/plain": [
       "[[1.1640601558440875],\n",
       " [1.1538362626947958],\n",
       " [1.1384422878702163],\n",
       " [1.0814454072547575],\n",
       " [1.0385237315903229],\n",
       " [0.9910406428359273],\n",
       " [0.9550950391382107],\n",
       " [1.418776400525191],\n",
       " [1.8929836680543304],\n",
       " [1.7813052675421783],\n",
       " [1.7101075612149081],\n",
       " [1.6155671063861177]]"
      ]
     },
     "execution_count": 43,
     "metadata": {},
     "output_type": "execute_result"
    }
   ],
   "source": [
    "fvm._rules_outputs_hist"
   ]
  },
  {
   "cell_type": "code",
   "execution_count": 44,
   "id": "94492b53",
   "metadata": {},
   "outputs": [
    {
     "data": {
      "text/plain": [
       "array([False, False, False, False, False, False, False, False, False,\n",
       "       False, False, False])"
      ]
     },
     "execution_count": 44,
     "metadata": {},
     "output_type": "execute_result"
    }
   ],
   "source": [
    "np.array(fvm._rules_outputs_hist)[:, 0].round(4) == np.array(fvm._hist_output).round(4)"
   ]
  },
  {
   "cell_type": "code",
   "execution_count": 45,
   "id": "04c0488a",
   "metadata": {},
   "outputs": [
    {
     "data": {
      "text/plain": [
       "array([1.1641, 1.1538, 1.1384, 1.0814, 1.0385, 0.991 , 0.9551, 1.4188,\n",
       "       1.893 , 1.7813, 1.7101, 1.6156], dtype=float128)"
      ]
     },
     "execution_count": 45,
     "metadata": {},
     "output_type": "execute_result"
    }
   ],
   "source": [
    "np.array(fvm._rules_outputs_hist, dtype=np.float128)[:, 0].round(4)"
   ]
  },
  {
   "cell_type": "code",
   "execution_count": 46,
   "id": "4af73e65",
   "metadata": {},
   "outputs": [
    {
     "data": {
      "text/plain": [
       "array([1.1641, 1.1538, 1.1384, 1.0814, 1.0385, 0.991 , 0.9551, 1.4188,\n",
       "       1.893 , 1.7813, 1.7101, 1.6156], dtype=float128)"
      ]
     },
     "execution_count": 46,
     "metadata": {},
     "output_type": "execute_result"
    }
   ],
   "source": [
    "np.array(fvm._hist_output, dtype=np.float128).round(4)"
   ]
  },
  {
   "cell_type": "code",
   "execution_count": 47,
   "id": "6c6e98e1",
   "metadata": {},
   "outputs": [
    {
     "data": {
      "text/plain": [
       "True"
      ]
     },
     "execution_count": 47,
     "metadata": {},
     "output_type": "execute_result"
    }
   ],
   "source": [
    "(_ == __).all()"
   ]
  },
  {
   "cell_type": "code",
   "execution_count": 50,
   "id": "b5ebddcf",
   "metadata": {},
   "outputs": [
    {
     "data": {
      "image/png": "[encoded data removed]",
      "text/plain": [
       "<Figure size 432x288 with 1 Axes>"
      ]
     },
     "metadata": {
      "needs_background": "light"
     },
     "output_type": "display_data"
    }
   ],
   "source": [
    "plt.plot(fvm._hist_output, label='forecast')\n",
    "plt.plot(test_small.values, label='actual values')\n",
    "\n",
    "plt.legend()\n",
    "plt.grid()\n",
    "plt.show()"
   ]
  },
  {
   "cell_type": "code",
   "execution_count": 90,
   "id": "0630bc12",
   "metadata": {},
   "outputs": [
    {
     "data": {
      "text/plain": [
       "DatetimeIndex(['2017-12-22', '2017-12-25', '2017-12-26', '2017-12-27',\n",
       "               '2017-12-28', '2017-12-29', '2018-01-03', '2018-01-04',\n",
       "               '2018-01-05', '2018-01-09', '2018-01-10'],\n",
       "              dtype='datetime64[ns]', name='<DATE>', freq=None)"
      ]
     },
     "execution_count": 90,
     "metadata": {},
     "output_type": "execute_result"
    }
   ],
   "source": [
    "test_small.index"
   ]
  },
  {
   "cell_type": "code",
   "execution_count": 92,
   "id": "a12de4e3",
   "metadata": {},
   "outputs": [
    {
     "data": {
      "text/plain": [
       "DatetimeIndex(['2017-12-22', '2017-12-25', '2017-12-26', '2017-12-27',\n",
       "               '2017-12-28', '2017-12-29', '2018-01-03', '2018-01-04',\n",
       "               '2018-01-05', '2018-01-09', '2018-01-10'],\n",
       "              dtype='datetime64[ns]', freq=None)"
      ]
     },
     "execution_count": 92,
     "metadata": {},
     "output_type": "execute_result"
    }
   ],
   "source": [
    "fvm.hist_output.index"
   ]
  },
  {
   "cell_type": "code",
   "execution_count": 101,
   "id": "68e735d7",
   "metadata": {},
   "outputs": [
    {
     "data": {
      "image/png": "[encoded data removed]",
      "text/plain": [
       "<Figure size 432x288 with 1 Axes>"
      ]
     },
     "metadata": {
      "needs_background": "light"
     },
     "output_type": "display_data"
    }
   ],
   "source": [
    "fvm.hist_output.plot(label='forecast')\n",
    "test_small.plot(label='actual values')\n",
    "\n",
    "plt.legend()\n",
    "plt.grid()\n",
    "plt.show()"
   ]
  },
  {
   "cell_type": "code",
   "execution_count": 105,
   "id": "ac0a1f54",
   "metadata": {},
   "outputs": [
    {
     "data": {
      "text/plain": [
       "1.0460753597481783189"
      ]
     },
     "execution_count": 105,
     "metadata": {},
     "output_type": "execute_result"
    }
   ],
   "source": [
    "mean_squared_error(fvm.hist_output, test_small, squared=True)"
   ]
  },
  {
   "cell_type": "code",
   "execution_count": 106,
   "id": "734c3d7d",
   "metadata": {},
   "outputs": [
    {
     "data": {
      "text/plain": [
       "1.0227782554142311833"
      ]
     },
     "execution_count": 106,
     "metadata": {},
     "output_type": "execute_result"
    }
   ],
   "source": [
    "mean_squared_error(fvm.hist_output, test_small, squared=False)"
   ]
  },
  {
   "cell_type": "code",
   "execution_count": 107,
   "id": "18cebaf5",
   "metadata": {},
   "outputs": [
    {
     "data": {
      "text/plain": [
       "0.75436019368052235223"
      ]
     },
     "execution_count": 107,
     "metadata": {},
     "output_type": "execute_result"
    }
   ],
   "source": [
    "mean_absolute_percentage_error(fvm.hist_output, test_small)"
   ]
  }
 ],
 "metadata": {
  "kernelspec": {
   "display_name": "Python 3 (ipykernel)",
   "language": "python",
   "name": "python3"
  },
  "language_info": {
   "codemirror_mode": {
    "name": "ipython",
    "version": 3
   },
   "file_extension": ".py",
   "mimetype": "text/x-python",
   "name": "python",
   "nbconvert_exporter": "python",
   "pygments_lexer": "ipython3",
   "version": "3.9.7"
  }
 },
 "nbformat": 4,
 "nbformat_minor": 5
}
