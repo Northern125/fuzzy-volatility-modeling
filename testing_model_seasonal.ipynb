{
 "cells": [
  {
   "cell_type": "code",
   "execution_count": 1,
   "id": "dddaf7cd",
   "metadata": {},
   "outputs": [],
   "source": [
    "import logging\n",
    "import numpy as np\n",
    "import pandas as pd\n",
    "from arch import arch_model\n",
    "from random import gauss\n",
    "from random import seed\n",
    "from matplotlib import pyplot as plt\n",
    "import scipy.stats as sts\n",
    "import json\n",
    "from sklearn.metrics import mean_squared_error, mean_absolute_percentage_error\n",
    "from scipy.optimize import least_squares\n",
    "import os"
   ]
  },
  {
   "cell_type": "code",
   "execution_count": 2,
   "id": "dfddf51c",
   "metadata": {},
   "outputs": [],
   "source": [
    "ini_wd = os.getcwd()\n",
    "# os.chdir('..')"
   ]
  },
  {
   "cell_type": "code",
   "execution_count": 3,
   "id": "cc95b96f",
   "metadata": {},
   "outputs": [],
   "source": [
    "from rules_related import combine_rules_outputs\n",
    "from whole_algorithm import train_model\n",
    "from auxiliary import calc_log_returns, unpack_1d_parameters, pack_1d_parameters\n",
    "from multivariate_normal_distribution import LongMultivariateNormal\n",
    "from model import FuzzyVolatilityModel\n",
    "from membership_functions import calc_trapezoidal_membership_degrees\n",
    "from clusterization.all_methods import cluster_data_1d, cluster_data\n",
    "from local_models import calc_cond_var_fuzzy\n",
    "from antecedent_fitting import fit_antecedent_params\n",
    "# from membership_functions.trapezoidal import _calc_trapezoidal_md_scalar"
   ]
  },
  {
   "cell_type": "code",
   "execution_count": 4,
   "id": "e532cbfa",
   "metadata": {
    "scrolled": true
   },
   "outputs": [],
   "source": [
    "with open('config.json') as file:\n",
    "    config = json.load(file)"
   ]
  },
  {
   "cell_type": "code",
   "execution_count": 5,
   "id": "3393a7b3",
   "metadata": {},
   "outputs": [],
   "source": [
    "files_folder = config['files_folders']['processed']\n",
    "logs_folder = config['files_folders']['logs']"
   ]
  },
  {
   "cell_type": "code",
   "execution_count": 6,
   "id": "cbfda7cb",
   "metadata": {},
   "outputs": [],
   "source": [
    "logging.basicConfig(level=logging.DEBUG,\n",
    "                    filename=f'{logs_folder}/seasonal_testing.log',\n",
    "                    filemode='w',\n",
    "                    format='%(asctime)s,%(msecs)d %(name)s %(levelname)s %(message)s',\n",
    "                    datefmt='%H:%M:%S')"
   ]
  },
  {
   "cell_type": "code",
   "execution_count": 7,
   "id": "5941b46b",
   "metadata": {},
   "outputs": [],
   "source": [
    "pd.options.display.max_colwidth = 500"
   ]
  },
  {
   "cell_type": "markdown",
   "id": "c087b95a",
   "metadata": {},
   "source": [
    "# Reading files"
   ]
  },
  {
   "cell_type": "code",
   "execution_count": 8,
   "id": "23c25f6a",
   "metadata": {},
   "outputs": [],
   "source": [
    "rtsi = pd.read_pickle(f'{files_folder}/rtsi.pkl')"
   ]
  },
  {
   "cell_type": "code",
   "execution_count": 9,
   "id": "4e0f5233",
   "metadata": {},
   "outputs": [
    {
     "data": {
      "text/html": [
       "<div>\n",
       "<style scoped>\n",
       "    .dataframe tbody tr th:only-of-type {\n",
       "        vertical-align: middle;\n",
       "    }\n",
       "\n",
       "    .dataframe tbody tr th {\n",
       "        vertical-align: top;\n",
       "    }\n",
       "\n",
       "    .dataframe thead th {\n",
       "        text-align: right;\n",
       "    }\n",
       "</style>\n",
       "<table border=\"1\" class=\"dataframe\">\n",
       "  <thead>\n",
       "    <tr style=\"text-align: right;\">\n",
       "      <th></th>\n",
       "      <th>&lt;OPEN&gt;</th>\n",
       "      <th>&lt;HIGH&gt;</th>\n",
       "      <th>&lt;LOW&gt;</th>\n",
       "      <th>&lt;CLOSE&gt;</th>\n",
       "      <th>&lt;VOL&gt;</th>\n",
       "      <th>return</th>\n",
       "      <th>log return</th>\n",
       "    </tr>\n",
       "    <tr>\n",
       "      <th>&lt;DATE&gt;</th>\n",
       "      <th></th>\n",
       "      <th></th>\n",
       "      <th></th>\n",
       "      <th></th>\n",
       "      <th></th>\n",
       "      <th></th>\n",
       "      <th></th>\n",
       "    </tr>\n",
       "  </thead>\n",
       "  <tbody>\n",
       "    <tr>\n",
       "      <th>2001-02-18</th>\n",
       "      <td>180.10</td>\n",
       "      <td>180.10</td>\n",
       "      <td>180.10</td>\n",
       "      <td>180.10</td>\n",
       "      <td>0</td>\n",
       "      <td>0.000000</td>\n",
       "      <td>0.000000</td>\n",
       "    </tr>\n",
       "    <tr>\n",
       "      <th>2001-02-19</th>\n",
       "      <td>180.10</td>\n",
       "      <td>181.21</td>\n",
       "      <td>176.67</td>\n",
       "      <td>177.29</td>\n",
       "      <td>0</td>\n",
       "      <td>-0.015602</td>\n",
       "      <td>-0.015725</td>\n",
       "    </tr>\n",
       "    <tr>\n",
       "      <th>2001-02-20</th>\n",
       "      <td>177.29</td>\n",
       "      <td>179.90</td>\n",
       "      <td>175.28</td>\n",
       "      <td>176.45</td>\n",
       "      <td>0</td>\n",
       "      <td>-0.004738</td>\n",
       "      <td>-0.004749</td>\n",
       "    </tr>\n",
       "    <tr>\n",
       "      <th>2001-02-21</th>\n",
       "      <td>176.45</td>\n",
       "      <td>176.45</td>\n",
       "      <td>161.12</td>\n",
       "      <td>162.39</td>\n",
       "      <td>0</td>\n",
       "      <td>-0.079683</td>\n",
       "      <td>-0.083037</td>\n",
       "    </tr>\n",
       "    <tr>\n",
       "      <th>2001-02-22</th>\n",
       "      <td>162.39</td>\n",
       "      <td>168.35</td>\n",
       "      <td>162.39</td>\n",
       "      <td>168.31</td>\n",
       "      <td>0</td>\n",
       "      <td>0.036455</td>\n",
       "      <td>0.035807</td>\n",
       "    </tr>\n",
       "    <tr>\n",
       "      <th>...</th>\n",
       "      <td>...</td>\n",
       "      <td>...</td>\n",
       "      <td>...</td>\n",
       "      <td>...</td>\n",
       "      <td>...</td>\n",
       "      <td>...</td>\n",
       "      <td>...</td>\n",
       "    </tr>\n",
       "    <tr>\n",
       "      <th>2021-10-11</th>\n",
       "      <td>1871.73</td>\n",
       "      <td>1883.71</td>\n",
       "      <td>1867.58</td>\n",
       "      <td>1882.43</td>\n",
       "      <td>1769145502</td>\n",
       "      <td>0.011537</td>\n",
       "      <td>0.011471</td>\n",
       "    </tr>\n",
       "    <tr>\n",
       "      <th>2021-10-12</th>\n",
       "      <td>1867.15</td>\n",
       "      <td>1876.79</td>\n",
       "      <td>1860.64</td>\n",
       "      <td>1869.94</td>\n",
       "      <td>1386130631</td>\n",
       "      <td>-0.006635</td>\n",
       "      <td>-0.006657</td>\n",
       "    </tr>\n",
       "    <tr>\n",
       "      <th>2021-10-13</th>\n",
       "      <td>1869.05</td>\n",
       "      <td>1869.05</td>\n",
       "      <td>1835.80</td>\n",
       "      <td>1855.11</td>\n",
       "      <td>1830447018</td>\n",
       "      <td>-0.007931</td>\n",
       "      <td>-0.007962</td>\n",
       "    </tr>\n",
       "    <tr>\n",
       "      <th>2021-10-14</th>\n",
       "      <td>1875.38</td>\n",
       "      <td>1890.46</td>\n",
       "      <td>1873.37</td>\n",
       "      <td>1875.97</td>\n",
       "      <td>1495256910</td>\n",
       "      <td>0.011245</td>\n",
       "      <td>0.011182</td>\n",
       "    </tr>\n",
       "    <tr>\n",
       "      <th>2021-10-15</th>\n",
       "      <td>1888.52</td>\n",
       "      <td>1893.71</td>\n",
       "      <td>1878.47</td>\n",
       "      <td>1891.56</td>\n",
       "      <td>1305644791</td>\n",
       "      <td>0.008310</td>\n",
       "      <td>0.008276</td>\n",
       "    </tr>\n",
       "  </tbody>\n",
       "</table>\n",
       "<p>5174 rows × 7 columns</p>\n",
       "</div>"
      ],
      "text/plain": [
       "             <OPEN>   <HIGH>    <LOW>  <CLOSE>       <VOL>    return  \\\n",
       "<DATE>                                                                 \n",
       "2001-02-18   180.10   180.10   180.10   180.10           0  0.000000   \n",
       "2001-02-19   180.10   181.21   176.67   177.29           0 -0.015602   \n",
       "2001-02-20   177.29   179.90   175.28   176.45           0 -0.004738   \n",
       "2001-02-21   176.45   176.45   161.12   162.39           0 -0.079683   \n",
       "2001-02-22   162.39   168.35   162.39   168.31           0  0.036455   \n",
       "...             ...      ...      ...      ...         ...       ...   \n",
       "2021-10-11  1871.73  1883.71  1867.58  1882.43  1769145502  0.011537   \n",
       "2021-10-12  1867.15  1876.79  1860.64  1869.94  1386130631 -0.006635   \n",
       "2021-10-13  1869.05  1869.05  1835.80  1855.11  1830447018 -0.007931   \n",
       "2021-10-14  1875.38  1890.46  1873.37  1875.97  1495256910  0.011245   \n",
       "2021-10-15  1888.52  1893.71  1878.47  1891.56  1305644791  0.008310   \n",
       "\n",
       "            log return  \n",
       "<DATE>                  \n",
       "2001-02-18    0.000000  \n",
       "2001-02-19   -0.015725  \n",
       "2001-02-20   -0.004749  \n",
       "2001-02-21   -0.083037  \n",
       "2001-02-22    0.035807  \n",
       "...                ...  \n",
       "2021-10-11    0.011471  \n",
       "2021-10-12   -0.006657  \n",
       "2021-10-13   -0.007962  \n",
       "2021-10-14    0.011182  \n",
       "2021-10-15    0.008276  \n",
       "\n",
       "[5174 rows x 7 columns]"
      ]
     },
     "execution_count": 9,
     "metadata": {},
     "output_type": "execute_result"
    }
   ],
   "source": [
    "rtsi"
   ]
  },
  {
   "cell_type": "code",
   "execution_count": 10,
   "id": "e13f81ab",
   "metadata": {},
   "outputs": [
    {
     "data": {
      "image/png": "[encoded data removed]",
      "text/plain": [
       "<Figure size 640x480 with 1 Axes>"
      ]
     },
     "metadata": {},
     "output_type": "display_data"
    }
   ],
   "source": [
    "rtsi['log return'].plot()\n",
    "\n",
    "plt.grid()\n",
    "plt.show()"
   ]
  },
  {
   "cell_type": "code",
   "execution_count": 11,
   "id": "4c70b3e0",
   "metadata": {},
   "outputs": [
    {
     "data": {
      "text/plain": [
       "count    5174.000000\n",
       "mean        0.000455\n",
       "std         0.020327\n",
       "min        -0.211994\n",
       "25%        -0.008822\n",
       "50%         0.001318\n",
       "75%         0.010414\n",
       "max         0.202039\n",
       "Name: log return, dtype: float64"
      ]
     },
     "execution_count": 11,
     "metadata": {},
     "output_type": "execute_result"
    }
   ],
   "source": [
    "rtsi['log return'].describe()"
   ]
  },
  {
   "cell_type": "code",
   "execution_count": 12,
   "id": "975e5ea5",
   "metadata": {},
   "outputs": [],
   "source": [
    "rtsi['day of week'] = rtsi.index.dayofweek + 1"
   ]
  },
  {
   "cell_type": "code",
   "execution_count": 13,
   "id": "5f149fd8",
   "metadata": {},
   "outputs": [
    {
     "data": {
      "text/plain": [
       "<DATE>\n",
       "2001-02-18    7\n",
       "2001-02-19    1\n",
       "2001-02-20    2\n",
       "2001-02-21    3\n",
       "2001-02-22    4\n",
       "             ..\n",
       "2021-10-11    1\n",
       "2021-10-12    2\n",
       "2021-10-13    3\n",
       "2021-10-14    4\n",
       "2021-10-15    5\n",
       "Name: day of week, Length: 5174, dtype: int64"
      ]
     },
     "execution_count": 13,
     "metadata": {},
     "output_type": "execute_result"
    }
   ],
   "source": [
    "rtsi['day of week']"
   ]
  },
  {
   "cell_type": "code",
   "execution_count": 14,
   "id": "85c2331c",
   "metadata": {},
   "outputs": [
    {
     "data": {
      "text/plain": [
       "array([0., 0.])"
      ]
     },
     "execution_count": 14,
     "metadata": {},
     "output_type": "execute_result"
    }
   ],
   "source": [
    "# rtsi['test triangular cluster memb'] = \\\n",
    "calc_trapezoidal_membership_degrees(rtsi['day of week'].values,\n",
    "                                    a=[0, 2],\n",
    "                                    b=[2, 4],\n",
    "                                    c=[2, 4],\n",
    "                                    d=[4, 6])"
   ]
  },
  {
   "cell_type": "markdown",
   "id": "c2c33a08",
   "metadata": {},
   "source": [
    "# Setting data & parameters"
   ]
  },
  {
   "cell_type": "code",
   "execution_count": 73,
   "id": "93b84c0d",
   "metadata": {},
   "outputs": [],
   "source": [
    "rescale_factor = 1"
   ]
  },
  {
   "cell_type": "code",
   "execution_count": 74,
   "id": "8d916844",
   "metadata": {},
   "outputs": [],
   "source": [
    "start_date = '2010-01-01'"
   ]
  },
  {
   "cell_type": "code",
   "execution_count": 75,
   "id": "bb8043ac",
   "metadata": {},
   "outputs": [],
   "source": [
    "input_data = rtsi['log return'].loc[start_date:].copy() * rescale_factor"
   ]
  },
  {
   "cell_type": "code",
   "execution_count": 76,
   "id": "1b2f616e",
   "metadata": {},
   "outputs": [
    {
     "data": {
      "image/png": "[encoded data removed]",
      "text/plain": [
       "<Figure size 640x480 with 1 Axes>"
      ]
     },
     "metadata": {},
     "output_type": "display_data"
    }
   ],
   "source": [
    "input_data.plot()\n",
    "\n",
    "plt.grid()\n",
    "plt.show()"
   ]
  },
  {
   "cell_type": "code",
   "execution_count": 77,
   "id": "8bacee25",
   "metadata": {},
   "outputs": [
    {
     "data": {
      "text/plain": [
       "count    2965.000000\n",
       "mean        0.000091\n",
       "std         0.017722\n",
       "min        -0.139486\n",
       "25%        -0.008678\n",
       "50%         0.000601\n",
       "75%         0.009209\n",
       "max         0.132462\n",
       "Name: log return, dtype: float64"
      ]
     },
     "execution_count": 77,
     "metadata": {},
     "output_type": "execute_result"
    }
   ],
   "source": [
    "input_data.describe()"
   ]
  },
  {
   "cell_type": "code",
   "execution_count": 78,
   "id": "b196b8a5",
   "metadata": {},
   "outputs": [],
   "source": [
    "n = input_data.shape[0]"
   ]
  },
  {
   "cell_type": "code",
   "execution_count": 79,
   "id": "95949fa0",
   "metadata": {},
   "outputs": [
    {
     "data": {
      "text/plain": [
       "2965"
      ]
     },
     "execution_count": 79,
     "metadata": {},
     "output_type": "execute_result"
    }
   ],
   "source": [
    "n"
   ]
  },
  {
   "cell_type": "code",
   "execution_count": 80,
   "id": "186767da",
   "metadata": {},
   "outputs": [
    {
     "data": {
      "text/plain": [
       "Int64Index([1, 2, 3, 4, 5, 1, 2, 3, 4, 5,\n",
       "            ...\n",
       "            1, 2, 3, 4, 5, 1, 2, 3, 4, 5],\n",
       "           dtype='int64', name='<DATE>', length=2965)"
      ]
     },
     "execution_count": 80,
     "metadata": {},
     "output_type": "execute_result"
    }
   ],
   "source": [
    "input_data.index.dayofweek + 1"
   ]
  },
  {
   "cell_type": "markdown",
   "id": "91887570",
   "metadata": {},
   "source": [
    "## Train / test split"
   ]
  },
  {
   "cell_type": "code",
   "execution_count": 81,
   "id": "a9d58a35-9402-47dd-95e8-a20939a666a7",
   "metadata": {},
   "outputs": [],
   "source": [
    "n_train = 100  # 2000\n",
    "\n",
    "n_test = 10\n",
    "n_test = min(n - n_train, n_test)"
   ]
  },
  {
   "cell_type": "code",
   "execution_count": 82,
   "id": "7ac51558-282e-42f0-a39b-d7938317f87c",
   "metadata": {},
   "outputs": [],
   "source": [
    "train, test = input_data.iloc[:n_train].copy(), input_data.iloc[n_train:(n_train + n_test)].copy()\n",
    "input_cut = pd.concat([train, test]).copy()\n",
    "# data_to_cluster_train, data_to_cluster_test = days_of_week.iloc[:n_train].copy(), days_of_week.iloc[n_train:].copy()"
   ]
  },
  {
   "cell_type": "code",
   "execution_count": 83,
   "id": "2663e3bf-0d2a-4a08-b821-cfc7c4b0ed31",
   "metadata": {},
   "outputs": [
    {
     "data": {
      "image/png": "[encoded data removed]",
      "text/plain": [
       "<Figure size 640x480 with 1 Axes>"
      ]
     },
     "metadata": {},
     "output_type": "display_data"
    }
   ],
   "source": [
    "train.plot(label='train')\n",
    "test.plot(label='test')\n",
    "\n",
    "plt.legend()\n",
    "plt.grid()\n",
    "plt.show()"
   ]
  },
  {
   "cell_type": "code",
   "execution_count": 84,
   "id": "cef295e4",
   "metadata": {},
   "outputs": [
    {
     "data": {
      "text/plain": [
       "count    100.000000\n",
       "mean      -0.000333\n",
       "std        0.021419\n",
       "min       -0.061136\n",
       "25%       -0.010510\n",
       "50%        0.003145\n",
       "75%        0.010414\n",
       "max        0.076686\n",
       "Name: log return, dtype: float64"
      ]
     },
     "execution_count": 84,
     "metadata": {},
     "output_type": "execute_result"
    }
   ],
   "source": [
    "train.describe()"
   ]
  },
  {
   "cell_type": "markdown",
   "id": "7ca84f69",
   "metadata": {},
   "source": [
    "## Antecedent parameters"
   ]
  },
  {
   "cell_type": "code",
   "execution_count": 85,
   "id": "6e031eb1",
   "metadata": {},
   "outputs": [],
   "source": [
    "# set #1\n",
    "clusterization_method_1 = 'trapezoidal'\n",
    "\n",
    "n_clusters_1 = 2\n",
    "\n",
    "a = [1, 1]\n",
    "b = [1, 5]\n",
    "c = [1, 5]\n",
    "d = [5, 5]\n",
    "\n",
    "# set #2\n",
    "clusterization_method_2 = 'gaussian'\n",
    "\n",
    "n_clusters_2 = 2\n",
    "\n",
    "# variances = [7, 6, 3, 5]\n",
    "# centers = [-7.5, -1.5, 1.5, 4]\n",
    "variances = [7, 5]\n",
    "centers = [-4.5, 2.5]"
   ]
  },
  {
   "cell_type": "code",
   "execution_count": 86,
   "id": "8237b30d",
   "metadata": {},
   "outputs": [
    {
     "data": {
      "text/plain": [
       "array([0.75, 0.25])"
      ]
     },
     "execution_count": 86,
     "metadata": {},
     "output_type": "execute_result"
    }
   ],
   "source": [
    "# rtsi['test triangular cluster memb'] = \\\n",
    "calc_trapezoidal_membership_degrees(2,\n",
    "                                    a=a,\n",
    "                                    b=b,\n",
    "                                    c=c,\n",
    "                                    d=d)"
   ]
  },
  {
   "cell_type": "code",
   "execution_count": 87,
   "id": "110406b4",
   "metadata": {},
   "outputs": [],
   "source": [
    "clusterization_parameters = [{'a': a, 'b': b, 'c': c, 'd': d, 'n_clusters': n_clusters_1},\n",
    "                             {'centers': centers, 'variances': variances, 'n_clusters': n_clusters_2}]\n",
    "clusterization_methods = [clusterization_method_1, clusterization_method_2]\n",
    "n_clusters = n_clusters_1 * n_clusters_2"
   ]
  },
  {
   "cell_type": "markdown",
   "id": "6ca7a301",
   "metadata": {},
   "source": [
    "## Consequent parameters"
   ]
  },
  {
   "cell_type": "code",
   "execution_count": 88,
   "id": "c2090135",
   "metadata": {},
   "outputs": [],
   "source": [
    "# technical parameters for arch_model function\n",
    "garch_mean = 'Zero'\n",
    "garch_dist = 'normal'\n",
    "\n",
    "# general parameters\n",
    "local_method = 'garch'\n",
    "\n",
    "# GARCH parameters\n",
    "p = 1\n",
    "q = 1\n",
    "\n",
    "starting_index = max(p, q)\n",
    "\n",
    "train_sample_std = train.std()\n",
    "first_h = [train_sample_std ** 2] * starting_index\n",
    "# first_h = [train[0] ** 2]  # TODO: TRY THIS\n",
    "first_h = np.array(first_h)\n",
    "\n",
    "# parameters constraints\n",
    "lower_bounds = [0] * (1 + p + q) * n_clusters\n",
    "upper_bounds = [+1000] * n_clusters + [1] * (p + q) * n_clusters\n",
    "bounds = (lower_bounds, upper_bounds)"
   ]
  },
  {
   "cell_type": "markdown",
   "id": "5e456d4e",
   "metadata": {},
   "source": [
    "### Using classic GARCH to get initial parameters values"
   ]
  },
  {
   "cell_type": "code",
   "execution_count": 89,
   "id": "5e2c9284",
   "metadata": {},
   "outputs": [
    {
     "name": "stderr",
     "output_type": "stream",
     "text": [
      "/Applications/anaconda3/envs/fuzzy-volatility/lib/python3.9/site-packages/arch/univariate/base.py:309: DataScaleWarning: y is poorly scaled, which may affect convergence of the optimizer when\n",
      "estimating the model parameters. The scale of y is 0.0004542. Parameter\n",
      "estimation work better when this value is between 1 and 1000. The recommended\n",
      "rescaling is 100 * y.\n",
      "\n",
      "This warning can be disabled by either rescaling y before initializing the\n",
      "model or by setting rescale=False.\n",
      "\n",
      "  warnings.warn(\n"
     ]
    },
    {
     "name": "stdout",
     "output_type": "stream",
     "text": [
      "Iteration:      1,   Func. Count:      5,   Neg. LLF: -172.81375246629065\n",
      "Iteration:      2,   Func. Count:     14,   Neg. LLF: -231.83780274495433\n",
      "Iteration:      3,   Func. Count:     21,   Neg. LLF: -246.87441129590061\n",
      "Iteration:      4,   Func. Count:     28,   Neg. LLF: -246.6371189750122\n",
      "Iteration:      5,   Func. Count:     33,   Neg. LLF: -250.4869892567008\n",
      "Iteration:      6,   Func. Count:     37,   Neg. LLF: -250.4870954083915\n",
      "Iteration:      7,   Func. Count:     41,   Neg. LLF: -250.4871000056945\n",
      "Iteration:      8,   Func. Count:     44,   Neg. LLF: -250.4871000055288\n",
      "Optimization terminated successfully    (Exit mode 0)\n",
      "            Current function value: -250.4871000056945\n",
      "            Iterations: 8\n",
      "            Function evaluations: 44\n",
      "            Gradient evaluations: 8\n"
     ]
    }
   ],
   "source": [
    "garch = arch_model(train,\n",
    "                   mean=garch_mean,\n",
    "                   vol='GARCH',\n",
    "                   p=p,\n",
    "                   q=q,\n",
    "                   dist=garch_dist)\n",
    "garch_fitted = garch.fit()"
   ]
  },
  {
   "cell_type": "code",
   "execution_count": 90,
   "id": "626503a0",
   "metadata": {},
   "outputs": [
    {
     "data": {
      "text/plain": [
       "omega       0.000018\n",
       "alpha[1]    0.116398\n",
       "beta[1]     0.836906\n",
       "Name: params, dtype: float64"
      ]
     },
     "execution_count": 90,
     "metadata": {},
     "output_type": "execute_result"
    }
   ],
   "source": [
    "garch_fitted.params"
   ]
  },
  {
   "cell_type": "code",
   "execution_count": 91,
   "id": "51e50f83-cc6b-495c-8900-767a9801c7be",
   "metadata": {},
   "outputs": [],
   "source": [
    "alpha_0_ini = np.array([garch_fitted.params.iloc[0] for _ in range(n_clusters)])\n",
    "alpha_ini = np.array([garch_fitted.params.iloc[1:(q + 1)].values for _ in range(n_clusters)])\n",
    "beta_ini = np.array([garch_fitted.params.iloc[(q + 1):].values for _ in range(n_clusters)])"
   ]
  },
  {
   "cell_type": "code",
   "execution_count": 92,
   "id": "dfcb1d5d",
   "metadata": {},
   "outputs": [],
   "source": [
    "# alpha_0_ini, alpha_ini, beta_ini = unpack_1d_parameters(garch_fitted.params.values, p=p, q=q, n_clusters=n_clusters)"
   ]
  },
  {
   "cell_type": "code",
   "execution_count": 93,
   "id": "452b962e",
   "metadata": {},
   "outputs": [],
   "source": [
    "parameters_ini = {'alpha_0': alpha_0_ini, 'alpha': alpha_ini, 'beta': beta_ini}"
   ]
  },
  {
   "cell_type": "code",
   "execution_count": 94,
   "id": "ce388de6",
   "metadata": {},
   "outputs": [
    {
     "data": {
      "text/plain": [
       "{'alpha_0': array([1.76128451e-05, 1.76128451e-05, 1.76128451e-05, 1.76128451e-05]),\n",
       " 'alpha': array([[0.11639833],\n",
       "        [0.11639833],\n",
       "        [0.11639833],\n",
       "        [0.11639833]]),\n",
       " 'beta': array([[0.8369058],\n",
       "        [0.8369058],\n",
       "        [0.8369058],\n",
       "        [0.8369058]])}"
      ]
     },
     "execution_count": 94,
     "metadata": {},
     "output_type": "execute_result"
    }
   ],
   "source": [
    "parameters_ini"
   ]
  },
  {
   "cell_type": "code",
   "execution_count": 95,
   "id": "92368e86",
   "metadata": {},
   "outputs": [],
   "source": [
    "# # initial parameters values for LS to start with\n",
    "# alpha_0_ini = np.array([garch_fitted.params.loc['omega']] * n_clusters)\n",
    "# alpha_ini = np.array([[1] * n_clusters] * q)\n",
    "# beta_ini = np.array([[1] * n_clusters] * p)\n",
    "# parameters_ini = {'alpha_0': alpha_0_ini, 'alpha': alpha_ini, 'beta': beta_ini}"
   ]
  },
  {
   "cell_type": "code",
   "execution_count": 96,
   "id": "f6680bfe",
   "metadata": {},
   "outputs": [
    {
     "data": {
      "text/plain": [
       "[0.11639832899030729,\n",
       " 0.11639832899030729,\n",
       " 0.11639832899030729,\n",
       " 0.11639832899030729]"
      ]
     },
     "execution_count": 96,
     "metadata": {},
     "output_type": "execute_result"
    }
   ],
   "source": [
    "list(alpha_ini.flatten())"
   ]
  },
  {
   "cell_type": "markdown",
   "id": "45dfbd1c",
   "metadata": {},
   "source": [
    "### Setting dict w/ all consequent parameters"
   ]
  },
  {
   "cell_type": "code",
   "execution_count": 97,
   "id": "0408962b",
   "metadata": {},
   "outputs": [],
   "source": [
    "local_method_parameters = {'p': p, 'q': q, 'mean': garch_mean, 'dist': garch_dist, 'first_h': first_h,\n",
    "                           'bounds': bounds, 'parameters_ini': parameters_ini}"
   ]
  },
  {
   "cell_type": "markdown",
   "id": "705bedc4",
   "metadata": {},
   "source": [
    "## Other params"
   ]
  },
  {
   "cell_type": "code",
   "execution_count": 98,
   "id": "464d7fe9",
   "metadata": {},
   "outputs": [],
   "source": [
    "n_last_points_to_use_for_clustering_1 = 1\n",
    "n_last_points_to_use_for_clustering_2 = 5\n",
    "n_last_points_to_use_for_clustering = [n_last_points_to_use_for_clustering_1, n_last_points_to_use_for_clustering_2]"
   ]
  },
  {
   "cell_type": "code",
   "execution_count": 99,
   "id": "db3e8be4",
   "metadata": {},
   "outputs": [],
   "source": [
    "data_to_cluster_1 = pd.Series(train.index.dayofweek + 1, index=train.index).copy()\n",
    "data_to_cluster_2 = 'train'\n",
    "data_to_cluster = [data_to_cluster_1, data_to_cluster_2]"
   ]
  },
  {
   "cell_type": "code",
   "execution_count": 100,
   "id": "a8cec70d",
   "metadata": {},
   "outputs": [],
   "source": [
    "cluster_sets_conjunction = 'prod'\n",
    "\n",
    "normalize = True\n",
    "\n",
    "n_points_fitting = 10\n",
    "\n",
    "optimization = 'ls'\n",
    "optimization_parameters = {'ftol': 1e-10,\n",
    "                           'gtol': 1e-10,\n",
    "                           'method': 'dogbox'}"
   ]
  },
  {
   "cell_type": "markdown",
   "id": "beac442d",
   "metadata": {},
   "source": [
    "# Testing `FuzzyVolatilityModel` class"
   ]
  },
  {
   "cell_type": "code",
   "execution_count": 101,
   "id": "260be1ca",
   "metadata": {},
   "outputs": [],
   "source": [
    "fvm = FuzzyVolatilityModel(train,\n",
    "                           clusterization_method=clusterization_methods,\n",
    "                           clusterization_parameters=clusterization_parameters,\n",
    "                           local_method=local_method,\n",
    "                           local_method_parameters=local_method_parameters,\n",
    "                           n_last_points_to_use_for_clustering=n_last_points_to_use_for_clustering,\n",
    "                           data_to_cluster=data_to_cluster,\n",
    "                           cluster_sets_conjunction=cluster_sets_conjunction,\n",
    "                           normalize=normalize,\n",
    "                           n_points_fitting=n_points_fitting,\n",
    "                           optimization=optimization,\n",
    "                           optimization_parameters=optimization_parameters)"
   ]
  },
  {
   "cell_type": "markdown",
   "id": "bc2d8777",
   "metadata": {},
   "source": [
    "## `fit`"
   ]
  },
  {
   "cell_type": "code",
   "execution_count": 102,
   "id": "cdc769f3",
   "metadata": {},
   "outputs": [
    {
     "name": "stdout",
     "output_type": "stream",
     "text": [
      "CPU times: user 10.5 ms, sys: 3.5 ms, total: 14 ms\n",
      "Wall time: 17.4 ms\n"
     ]
    }
   ],
   "source": [
    "%%time\n",
    "\n",
    "fvm.cluster()"
   ]
  },
  {
   "cell_type": "code",
   "execution_count": 104,
   "id": "4b36f4f5",
   "metadata": {
    "scrolled": true
   },
   "outputs": [
    {
     "name": "stdout",
     "output_type": "stream",
     "text": [
      "CPU times: user 20 s, sys: 653 ms, total: 20.6 s\n",
      "Wall time: 21.3 s\n"
     ]
    }
   ],
   "source": [
    "%%time\n",
    "\n",
    "fvm.fit()"
   ]
  },
  {
   "cell_type": "code",
   "execution_count": 106,
   "id": "1181eb98",
   "metadata": {},
   "outputs": [
    {
     "data": {
      "text/plain": [
       "[1, 5]"
      ]
     },
     "execution_count": 106,
     "metadata": {},
     "output_type": "execute_result"
    }
   ],
   "source": [
    "n_last_points_to_use_for_clustering"
   ]
  },
  {
   "cell_type": "code",
   "execution_count": 109,
   "id": "7fc6ae22",
   "metadata": {},
   "outputs": [
    {
     "data": {
      "text/plain": [
       "array([0.00033572, 0.00033529, 0.00033553, 0.00033529])"
      ]
     },
     "execution_count": 109,
     "metadata": {},
     "output_type": "execute_result"
    }
   ],
   "source": [
    "fvm.alpha_0"
   ]
  },
  {
   "cell_type": "code",
   "execution_count": 110,
   "id": "729fe037",
   "metadata": {},
   "outputs": [
    {
     "data": {
      "text/plain": [
       "array([[0.13919538, 0.13919535, 0.13919536, 0.13919535]])"
      ]
     },
     "execution_count": 110,
     "metadata": {},
     "output_type": "execute_result"
    }
   ],
   "source": [
    "fvm.alpha"
   ]
  },
  {
   "cell_type": "code",
   "execution_count": 111,
   "id": "9823112d",
   "metadata": {},
   "outputs": [
    {
     "data": {
      "text/plain": [
       "array([[0.00083769, 0.00083769, 0.00083769, 0.00083769]])"
      ]
     },
     "execution_count": 111,
     "metadata": {},
     "output_type": "execute_result"
    }
   ],
   "source": [
    "fvm.beta"
   ]
  },
  {
   "cell_type": "code",
   "execution_count": 112,
   "id": "9eadd7b4",
   "metadata": {},
   "outputs": [
    {
     "data": {
      "text/plain": [
       "omega       0.000018\n",
       "alpha[1]    0.116398\n",
       "beta[1]     0.836906\n",
       "Name: params, dtype: float64"
      ]
     },
     "execution_count": 112,
     "metadata": {},
     "output_type": "execute_result"
    }
   ],
   "source": [
    "garch_fitted.params"
   ]
  },
  {
   "cell_type": "code",
   "execution_count": 113,
   "id": "92f4ba8c",
   "metadata": {},
   "outputs": [
    {
     "data": {
      "text/plain": [
       "[{'alpha_0': array([0.00033572, 0.00033529, 0.00033553, 0.00033529]),\n",
       "  'alpha': array([[0.13919538, 0.13919535, 0.13919536, 0.13919535]]),\n",
       "  'beta': array([[0.00083769, 0.00083769, 0.00083769, 0.00083769]])}]"
      ]
     },
     "execution_count": 113,
     "metadata": {},
     "output_type": "execute_result"
    }
   ],
   "source": [
    "fvm._parameters_hist"
   ]
  },
  {
   "cell_type": "code",
   "execution_count": 114,
   "id": "ba8d0b58",
   "metadata": {},
   "outputs": [
    {
     "data": {
      "text/plain": [
       "array([0.00171404, 0.24828596, 0.00514212, 0.74485788], dtype=float128)"
      ]
     },
     "execution_count": 114,
     "metadata": {},
     "output_type": "execute_result"
    }
   ],
   "source": [
    "fvm.membership_degrees_current"
   ]
  },
  {
   "cell_type": "code",
   "execution_count": 115,
   "id": "95daa841",
   "metadata": {},
   "outputs": [
    {
     "data": {
      "text/plain": [
       "{'n_clusters': 4,\n",
       " 'params by sets': [{'a': [1, 1],\n",
       "   'b': [1, 5],\n",
       "   'c': [1, 5],\n",
       "   'd': [5, 5],\n",
       "   'n_clusters': 2},\n",
       "  {'centers': [-4.5, 2.5], 'variances': [7, 5], 'n_clusters': 2}]}"
      ]
     },
     "execution_count": 115,
     "metadata": {},
     "output_type": "execute_result"
    }
   ],
   "source": [
    "fvm.clusters_parameters_current"
   ]
  },
  {
   "cell_type": "code",
   "execution_count": 116,
   "id": "8ff2905d",
   "metadata": {},
   "outputs": [
    {
     "data": {
      "text/plain": [
       "[<DATE>\n",
       " 2010-01-11    1\n",
       " 2010-01-12    2\n",
       " 2010-01-13    3\n",
       " 2010-01-14    4\n",
       " 2010-01-15    5\n",
       "              ..\n",
       " 2010-05-28    5\n",
       " 2010-05-31    1\n",
       " 2010-06-01    2\n",
       " 2010-06-02    3\n",
       " 2010-06-03    4\n",
       " Name: <DATE>, Length: 100, dtype: int64,\n",
       " 'train']"
      ]
     },
     "execution_count": 116,
     "metadata": {},
     "output_type": "execute_result"
    }
   ],
   "source": [
    "data_to_cluster"
   ]
  },
  {
   "cell_type": "code",
   "execution_count": 117,
   "id": "8b59fa2a",
   "metadata": {},
   "outputs": [
    {
     "data": {
      "text/plain": [
       "[array([0.00171404, 0.24828596, 0.00514212, 0.74485788], dtype=float128)]"
      ]
     },
     "execution_count": 117,
     "metadata": {},
     "output_type": "execute_result"
    }
   ],
   "source": [
    "fvm._membership_degrees_hist"
   ]
  },
  {
   "cell_type": "code",
   "execution_count": 118,
   "id": "65797f16",
   "metadata": {},
   "outputs": [
    {
     "data": {
      "text/plain": [
       "<DATE>\n",
       "2010-01-11    0.076686\n",
       "2010-01-12   -0.024211\n",
       "2010-01-13    0.019327\n",
       "2010-01-14    0.008749\n",
       "2010-01-15   -0.004911\n",
       "                ...   \n",
       "2010-05-28   -0.001298\n",
       "2010-05-31    0.017188\n",
       "2010-06-01   -0.010699\n",
       "2010-06-02    0.015701\n",
       "2010-06-03    0.003104\n",
       "Name: log return, Length: 100, dtype: float64"
      ]
     },
     "execution_count": 118,
     "metadata": {},
     "output_type": "execute_result"
    }
   ],
   "source": [
    "fvm.train_data"
   ]
  },
  {
   "cell_type": "markdown",
   "id": "24485114",
   "metadata": {},
   "source": [
    "## `forecast`"
   ]
  },
  {
   "cell_type": "code",
   "execution_count": 120,
   "id": "271546e8",
   "metadata": {},
   "outputs": [],
   "source": [
    "fvm.forecast()"
   ]
  },
  {
   "cell_type": "code",
   "execution_count": 121,
   "id": "9288a4dd",
   "metadata": {},
   "outputs": [
    {
     "data": {
      "text/plain": [
       "0.00033694600875488456954"
      ]
     },
     "execution_count": 121,
     "metadata": {},
     "output_type": "execute_result"
    }
   ],
   "source": [
    "fvm.current_output"
   ]
  },
  {
   "cell_type": "code",
   "execution_count": 122,
   "id": "7fd72d43",
   "metadata": {},
   "outputs": [
    {
     "data": {
      "text/plain": [
       "[0.00033694600875488456954]"
      ]
     },
     "execution_count": 122,
     "metadata": {},
     "output_type": "execute_result"
    }
   ],
   "source": [
    "fvm._hist_output"
   ]
  },
  {
   "cell_type": "code",
   "execution_count": 130,
   "id": "51eea5fa",
   "metadata": {},
   "outputs": [
    {
     "data": {
      "text/plain": [
       "array([0.00588077, 0.0011588 , 0.00041786, 0.00038764, 0.00034628,\n",
       "       0.00033894, 0.00036957, 0.0003385 , 0.00040171, 0.00038909,\n",
       "       0.00045964, 0.00034078, 0.00048159, 0.00033923, 0.00033936,\n",
       "       0.00033781, 0.00034774, 0.00039276, 0.00033704, 0.00061096,\n",
       "       0.00040231, 0.00038815, 0.0003478 , 0.00034398, 0.0003456 ,\n",
       "       0.00042417, 0.00034395, 0.00049613, 0.0003362 , 0.00034318,\n",
       "       0.00034025, 0.00035096, 0.0003899 , 0.00035022, 0.00033923,\n",
       "       0.00037387, 0.00035778, 0.000361  , 0.00034256, 0.00041517,\n",
       "       0.00034068, 0.00033568, 0.00033829, 0.0003759 , 0.00034551,\n",
       "       0.00036267, 0.00036445, 0.00033633, 0.00034952, 0.0003438 ,\n",
       "       0.00033628, 0.00034922, 0.00033905, 0.00034358, 0.00040706,\n",
       "       0.00034028, 0.00033955, 0.00041605, 0.00033958, 0.00034121,\n",
       "       0.00033745, 0.00036667, 0.00033585, 0.00036311, 0.00035232,\n",
       "       0.00033574, 0.00037975, 0.00033785, 0.00042507, 0.00036961,\n",
       "       0.00035225, 0.00035047, 0.00034516, 0.00034637, 0.00034946,\n",
       "       0.00042938, 0.00034908, 0.00036231, 0.0003499 , 0.00059768,\n",
       "       0.00038789, 0.00065889, 0.00046589, 0.00062008, 0.00053841,\n",
       "       0.0003579 , 0.00039302, 0.000351  , 0.00033685, 0.00044138,\n",
       "       0.00085592, 0.00033722, 0.00034503, 0.00073636, 0.00057853,\n",
       "       0.00070788, 0.00033612, 0.0003767 , 0.00035154, 0.0003699 ,\n",
       "       0.00033695], dtype=float128)"
      ]
     },
     "execution_count": 130,
     "metadata": {},
     "output_type": "execute_result"
    }
   ],
   "source": [
    "fvm.h"
   ]
  },
  {
   "cell_type": "code",
   "execution_count": 131,
   "id": "0080f177",
   "metadata": {},
   "outputs": [
    {
     "data": {
      "text/plain": [
       "<DATE>\n",
       "2010-01-11    0.005881\n",
       "2010-01-12    0.000586\n",
       "2010-01-13    0.000374\n",
       "2010-01-14    0.000077\n",
       "2010-01-15    0.000024\n",
       "                ...   \n",
       "2010-05-28    0.000002\n",
       "2010-05-31    0.000295\n",
       "2010-06-01    0.000114\n",
       "2010-06-02    0.000247\n",
       "2010-06-03    0.000010\n",
       "Name: log return, Length: 100, dtype: float64"
      ]
     },
     "execution_count": 131,
     "metadata": {},
     "output_type": "execute_result"
    }
   ],
   "source": [
    "fvm.train_data ** 2"
   ]
  },
  {
   "cell_type": "code",
   "execution_count": 123,
   "id": "f68dd2c7",
   "metadata": {
    "scrolled": false
   },
   "outputs": [
    {
     "data": {
      "image/png": "[encoded data removed]",
      "text/plain": [
       "<Figure size 640x480 with 1 Axes>"
      ]
     },
     "metadata": {},
     "output_type": "display_data"
    }
   ],
   "source": [
    "plt.plot(fvm.h, label='$h_t$')\n",
    "plt.plot(train.values ** 2, label='$y_t^2$')\n",
    "\n",
    "plt.legend()\n",
    "plt.grid()\n",
    "plt.show()"
   ]
  },
  {
   "cell_type": "markdown",
   "id": "ae1b59cc",
   "metadata": {},
   "source": [
    "## `feed_daily_data`"
   ]
  },
  {
   "cell_type": "code",
   "execution_count": null,
   "id": "1c0d81c6",
   "metadata": {},
   "outputs": [],
   "source": [
    "n_test_small = 10\n",
    "test_small = test.iloc[:n_test_small].copy()\n",
    "input_cut = pd.concat([train, test_small]).copy()\n",
    "\n",
    "data_to_cluster_test_1 = pd.Series(test_small.index.dayofweek + 1, index=test_small.index).copy()\n",
    "data_to_cluster_test_2 = 'train'\n",
    "data_to_cluster_test = [data_to_cluster_test_1, data_to_cluster_test_2]\n",
    "# data_to_cluster = test_small.index.dayofweek + 1\n",
    "# data_to_cluster = pd.Series(data_to_cluster, index=test_small.index)"
   ]
  },
  {
   "cell_type": "code",
   "execution_count": null,
   "id": "e0a7dbb8",
   "metadata": {},
   "outputs": [],
   "source": [
    "data_to_cluster_test"
   ]
  },
  {
   "cell_type": "code",
   "execution_count": null,
   "id": "28f68afa",
   "metadata": {},
   "outputs": [],
   "source": [
    "fvm._membership_degrees_hist"
   ]
  },
  {
   "cell_type": "code",
   "execution_count": null,
   "id": "4c563a2e",
   "metadata": {
    "scrolled": true
   },
   "outputs": [],
   "source": [
    "%%time\n",
    "\n",
    "fvm.feed_daily_data(test_small, data_to_cluster=data_to_cluster_test)"
   ]
  },
  {
   "cell_type": "code",
   "execution_count": null,
   "id": "4e485217",
   "metadata": {
    "scrolled": true
   },
   "outputs": [],
   "source": [
    "fvm.data_to_cluster"
   ]
  },
  {
   "cell_type": "code",
   "execution_count": null,
   "id": "a12b9aea",
   "metadata": {},
   "outputs": [],
   "source": [
    "fvm.h"
   ]
  },
  {
   "cell_type": "code",
   "execution_count": null,
   "id": "057bd7bb",
   "metadata": {},
   "outputs": [],
   "source": [
    "fvm.membership_degrees_hist"
   ]
  },
  {
   "cell_type": "code",
   "execution_count": null,
   "id": "92ff0797",
   "metadata": {},
   "outputs": [],
   "source": [
    "pd.DataFrame.from_records(fvm._parameters_hist, index=fvm.train_data.index[-len(fvm._parameters_hist):])"
   ]
  },
  {
   "cell_type": "code",
   "execution_count": null,
   "id": "98849df3",
   "metadata": {},
   "outputs": [],
   "source": [
    "ls_res = fvm.show_ls_results()\n",
    "ls_res"
   ]
  },
  {
   "cell_type": "code",
   "execution_count": null,
   "id": "4cfbf569",
   "metadata": {},
   "outputs": [],
   "source": [
    "fvm.hist_output"
   ]
  },
  {
   "cell_type": "code",
   "execution_count": null,
   "id": "330b52a1",
   "metadata": {
    "scrolled": true
   },
   "outputs": [],
   "source": [
    "fvm._parameters_hist"
   ]
  },
  {
   "cell_type": "markdown",
   "id": "451345f2",
   "metadata": {},
   "source": [
    "## Plots"
   ]
  },
  {
   "cell_type": "code",
   "execution_count": null,
   "id": "2fd8d88a",
   "metadata": {},
   "outputs": [],
   "source": [
    "fvm.hist_output.plot(label='forecast')\n",
    "(test_small ** 2).plot(label='actual values')\n",
    "\n",
    "plt.legend()\n",
    "plt.grid()\n",
    "plt.show()"
   ]
  },
  {
   "cell_type": "code",
   "execution_count": null,
   "id": "78cc15a2",
   "metadata": {},
   "outputs": [],
   "source": [
    "fvm.hist_output.plot(label='forecast')\n",
    "(input_cut ** 2).plot(label='actual values')\n",
    "\n",
    "plt.legend()\n",
    "plt.grid()\n",
    "plt.show()"
   ]
  },
  {
   "cell_type": "code",
   "execution_count": null,
   "id": "ee59ee57",
   "metadata": {
    "scrolled": false
   },
   "outputs": [],
   "source": [
    "_h_w_nans = np.concatenate([[np.nan for _ in range(input_cut.shape[0] - n_points_fitting)], fvm.h])\n",
    "\n",
    "plt.plot(_h_w_nans, label='$h_t$')\n",
    "plt.plot(input_cut.values ** 2, label='$y_t^2$')\n",
    "\n",
    "plt.legend()\n",
    "plt.grid()\n",
    "plt.show()"
   ]
  },
  {
   "cell_type": "code",
   "execution_count": null,
   "id": "6f321f9e",
   "metadata": {},
   "outputs": [],
   "source": [
    "input_cut[-n_points_fitting:] ** 2"
   ]
  },
  {
   "cell_type": "code",
   "execution_count": null,
   "id": "1cf9ae48",
   "metadata": {
    "scrolled": true
   },
   "outputs": [],
   "source": [
    "fvm._h_hist"
   ]
  },
  {
   "cell_type": "code",
   "execution_count": null,
   "id": "0a3609cd",
   "metadata": {},
   "outputs": [],
   "source": [
    "fvm._hist_output"
   ]
  },
  {
   "cell_type": "code",
   "execution_count": null,
   "id": "a2732512",
   "metadata": {},
   "outputs": [],
   "source": [
    "_p = fvm._parameters_hist[-1]\n",
    "_p"
   ]
  },
  {
   "cell_type": "code",
   "execution_count": null,
   "id": "ec74afed",
   "metadata": {},
   "outputs": [],
   "source": [
    "calc_cond_var_fuzzy(_p['alpha_0'], _p['alpha'], _p['beta'],\n",
    "                    input_cut[-n_points_fitting:] ** 2, [input_cut[-n_points_fitting:][0]],\n",
    "                    fvm._membership_degrees_hist[-1])"
   ]
  },
  {
   "cell_type": "code",
   "execution_count": null,
   "id": "dcc9a596",
   "metadata": {},
   "outputs": [],
   "source": [
    "fvm._membership_degrees_hist[-1]"
   ]
  },
  {
   "cell_type": "markdown",
   "id": "fec70349",
   "metadata": {},
   "source": [
    "## Errors"
   ]
  },
  {
   "cell_type": "code",
   "execution_count": null,
   "id": "ac0a1f54",
   "metadata": {
    "scrolled": true
   },
   "outputs": [],
   "source": [
    "mean_squared_error(fvm.hist_output, test_small ** 2, squared=True)"
   ]
  },
  {
   "cell_type": "code",
   "execution_count": null,
   "id": "734c3d7d",
   "metadata": {},
   "outputs": [],
   "source": [
    "mean_squared_error(fvm.hist_output, test_small ** 2, squared=False)"
   ]
  },
  {
   "cell_type": "code",
   "execution_count": null,
   "id": "18cebaf5",
   "metadata": {},
   "outputs": [],
   "source": [
    "mean_absolute_percentage_error(fvm.hist_output, test_small ** 2)"
   ]
  },
  {
   "cell_type": "markdown",
   "id": "8fff93f3",
   "metadata": {},
   "source": [
    "## RSS plots"
   ]
  },
  {
   "cell_type": "code",
   "execution_count": null,
   "id": "e4bc347c",
   "metadata": {},
   "outputs": [],
   "source": [
    "ranges = {}\n",
    "\n",
    "_step = .05\n",
    "ranges['alpha_0'] = np.arange(0, 1 + _step, _step)\n",
    "\n",
    "_step = .05\n",
    "ranges['alpha'] = np.arange(0, 1 + _step, _step)\n",
    "\n",
    "_step = .05\n",
    "ranges['beta'] = np.arange(0, 1 + _step, _step)"
   ]
  },
  {
   "cell_type": "code",
   "execution_count": null,
   "id": "72a4d9d7",
   "metadata": {},
   "outputs": [],
   "source": [
    "%%time\n",
    "\n",
    "rss = {'alpha_0': [], 'alpha': [], 'beta': []}\n",
    "\n",
    "for _param_1cl in ranges['alpha_0']:\n",
    "    _alpha_0 = np.concatenate([fvm.alpha_0[:-1], [_param_1cl]])\n",
    "    _params = pack_1d_parameters(_alpha_0, fvm.alpha, fvm.beta)\n",
    "    rss['alpha_0'].append((fvm._calc_residuals(_params) ** 2).sum())\n",
    "    \n",
    "for _param_1cl in ranges['alpha']:\n",
    "    _alpha = np.concatenate([fvm.alpha[:, :-1], [[_param_1cl]]], axis=1)\n",
    "    _params = pack_1d_parameters(fvm.alpha_0, _alpha, fvm.beta)\n",
    "    rss['alpha'].append((fvm._calc_residuals(_params) ** 2).sum())\n",
    "    \n",
    "for _param_1cl in ranges['beta']:\n",
    "    _beta = np.concatenate([fvm.beta[:, :-1], [[_param_1cl]]], axis=1)\n",
    "    _params = pack_1d_parameters(fvm.alpha_0, fvm.alpha, _beta)\n",
    "    rss['beta'].append((fvm._calc_residuals(_params) ** 2).sum())"
   ]
  },
  {
   "cell_type": "code",
   "execution_count": null,
   "id": "647110c9",
   "metadata": {
    "scrolled": true
   },
   "outputs": [],
   "source": [
    "%%time\n",
    "\n",
    "rss = {'alpha_0': {i: [] for i in range(n_clusters)},\n",
    "       'alpha': {i: [] for i in range(n_clusters)},\n",
    "       'beta': {i: [] for i in range(n_clusters)}}\n",
    "\n",
    "for i in range(n_clusters):\n",
    "    for _param_1cl in ranges['alpha_0']:\n",
    "        _alpha_0 = np.concatenate([fvm.alpha_0[:i], [_param_1cl], fvm.alpha_0[i + 1:]])\n",
    "        \n",
    "        _params = pack_1d_parameters(_alpha_0, fvm.alpha, fvm.beta)\n",
    "        rss['alpha_0'][i].append((fvm._calc_residuals(_params) ** 2).sum())\n",
    "\n",
    "_par_name = 'alpha'\n",
    "for i in range(n_clusters):\n",
    "    for _param_1cl in ranges[_par_name]:\n",
    "        _alpha = fvm.alpha.copy()\n",
    "        _alpha[0, i] = _param_1cl\n",
    "        \n",
    "        _params = pack_1d_parameters(fvm.alpha_0, _alpha, fvm.beta)\n",
    "        rss[_par_name][i].append((fvm._calc_residuals(_params) ** 2).sum())\n",
    "       \n",
    "_par_name = 'beta'\n",
    "for i in range(n_clusters):\n",
    "    for _param_1cl in ranges[_par_name]:\n",
    "        _beta = fvm.alpha.copy()\n",
    "        _beta[0, i] = _param_1cl\n",
    "        \n",
    "        _params = pack_1d_parameters(fvm.alpha_0, fvm.alpha, _beta)\n",
    "        rss[_par_name][i].append((fvm._calc_residuals(_params) ** 2).sum())"
   ]
  },
  {
   "cell_type": "code",
   "execution_count": null,
   "id": "91948849",
   "metadata": {
    "scrolled": true
   },
   "outputs": [],
   "source": [
    "for _param, _rss_cl in rss.items():\n",
    "    for _cl, _rss in _rss_cl.items():\n",
    "        plt.plot(ranges[_param], _rss)\n",
    "\n",
    "        plt.grid()\n",
    "        plt.title(_param + '\\n' + f'cluster #{_cl}')\n",
    "        plt.show()"
   ]
  },
  {
   "cell_type": "markdown",
   "id": "18a15b1b",
   "metadata": {},
   "source": [
    "# Model w/o seasoning"
   ]
  },
  {
   "cell_type": "code",
   "execution_count": null,
   "id": "fdb6931a",
   "metadata": {},
   "outputs": [],
   "source": [
    "lower_bounds_2 = [0] * (1 + p + q) * n_clusters_2\n",
    "upper_bounds_2 = [+np.inf] * n_clusters_2 + [1] * (p + q) * n_clusters_2\n",
    "bounds_2 = (lower_bounds_2, upper_bounds_2)"
   ]
  },
  {
   "cell_type": "code",
   "execution_count": null,
   "id": "6fdf3652",
   "metadata": {},
   "outputs": [],
   "source": [
    "alpha_0_ini_2 = np.array([garch_fitted.params.iloc[0] for _ in range(n_clusters_2)])\n",
    "alpha_ini_2 = np.array([garch_fitted.params.iloc[1:(q + 1)].values for _ in range(n_clusters_2)])\n",
    "beta_ini_2 = np.array([garch_fitted.params.iloc[(q + 1):].values for _ in range(n_clusters_2)])"
   ]
  },
  {
   "cell_type": "code",
   "execution_count": null,
   "id": "a67b301b",
   "metadata": {},
   "outputs": [],
   "source": [
    "parameters_ini_2 = {'alpha_0': alpha_0_ini_2, 'alpha': alpha_ini_2, 'beta': beta_ini_2}"
   ]
  },
  {
   "cell_type": "code",
   "execution_count": null,
   "id": "50ef1cbb",
   "metadata": {},
   "outputs": [],
   "source": [
    "local_method_parameters_2 = local_method_parameters.copy()\n",
    "local_method_parameters_2['bounds'] = bounds_2\n",
    "local_method_parameters_2['parameters_ini'] = parameters_ini_2"
   ]
  },
  {
   "cell_type": "code",
   "execution_count": null,
   "id": "16c3eb7b",
   "metadata": {},
   "outputs": [],
   "source": [
    "fvm_vanilla = FuzzyVolatilityModel(train,\n",
    "                           clusterization_method=clusterization_methods[1],\n",
    "                           clusterization_parameters=clusterization_parameters[1],\n",
    "                           local_method=local_method,\n",
    "                           local_method_parameters=local_method_parameters_2,\n",
    "                           n_last_points_to_use_for_clustering=n_last_points_to_use_for_clustering[1],\n",
    "                           data_to_cluster=data_to_cluster[1],\n",
    "                           cluster_sets_conjunction=cluster_sets_conjunction)"
   ]
  },
  {
   "cell_type": "markdown",
   "id": "850c6a7f",
   "metadata": {},
   "source": [
    "## `fit`"
   ]
  },
  {
   "cell_type": "code",
   "execution_count": null,
   "id": "11d8ef3d",
   "metadata": {},
   "outputs": [],
   "source": [
    "%%time\n",
    "\n",
    "fvm_vanilla.cluster()"
   ]
  },
  {
   "cell_type": "code",
   "execution_count": null,
   "id": "07786a21",
   "metadata": {
    "scrolled": true
   },
   "outputs": [],
   "source": [
    "%%time\n",
    "\n",
    "fvm_vanilla.fit()"
   ]
  },
  {
   "cell_type": "code",
   "execution_count": null,
   "id": "08143bd8",
   "metadata": {},
   "outputs": [],
   "source": [
    "n_last_points_to_use_for_clustering"
   ]
  },
  {
   "cell_type": "code",
   "execution_count": null,
   "id": "18921ce4",
   "metadata": {},
   "outputs": [],
   "source": [
    "fvm_vanilla.alpha_0"
   ]
  },
  {
   "cell_type": "code",
   "execution_count": null,
   "id": "a5f5154b",
   "metadata": {},
   "outputs": [],
   "source": [
    "fvm_vanilla.alpha"
   ]
  },
  {
   "cell_type": "code",
   "execution_count": null,
   "id": "815cccd7",
   "metadata": {},
   "outputs": [],
   "source": [
    "fvm_vanilla.beta"
   ]
  },
  {
   "cell_type": "code",
   "execution_count": null,
   "id": "bf955be6",
   "metadata": {},
   "outputs": [],
   "source": [
    "garch_fitted.params"
   ]
  },
  {
   "cell_type": "code",
   "execution_count": null,
   "id": "a8e8ccca",
   "metadata": {},
   "outputs": [],
   "source": [
    "fvm_vanilla._parameters_hist"
   ]
  },
  {
   "cell_type": "code",
   "execution_count": null,
   "id": "e14efe5d",
   "metadata": {},
   "outputs": [],
   "source": [
    "fvm_vanilla.membership_degrees_current"
   ]
  },
  {
   "cell_type": "code",
   "execution_count": null,
   "id": "b26c6bc0",
   "metadata": {},
   "outputs": [],
   "source": [
    "fvm_vanilla.clusters_parameters_current"
   ]
  },
  {
   "cell_type": "code",
   "execution_count": null,
   "id": "05fcfdd1",
   "metadata": {},
   "outputs": [],
   "source": [
    "data_to_cluster"
   ]
  },
  {
   "cell_type": "code",
   "execution_count": null,
   "id": "5641e255",
   "metadata": {},
   "outputs": [],
   "source": [
    "fvm_vanilla._membership_degrees_hist"
   ]
  },
  {
   "cell_type": "code",
   "execution_count": null,
   "id": "2da735ae",
   "metadata": {},
   "outputs": [],
   "source": [
    "fvm_vanilla.train_data"
   ]
  },
  {
   "cell_type": "markdown",
   "id": "3c8686b2",
   "metadata": {},
   "source": [
    "## `forecast`"
   ]
  },
  {
   "cell_type": "code",
   "execution_count": null,
   "id": "154aed08",
   "metadata": {},
   "outputs": [],
   "source": [
    "fvm_vanilla.forecast()"
   ]
  },
  {
   "cell_type": "code",
   "execution_count": null,
   "id": "a3711b8d",
   "metadata": {},
   "outputs": [],
   "source": [
    "fvm_vanilla.current_output"
   ]
  },
  {
   "cell_type": "code",
   "execution_count": null,
   "id": "3f041306",
   "metadata": {},
   "outputs": [],
   "source": [
    "fvm_vanilla._hist_output"
   ]
  },
  {
   "cell_type": "code",
   "execution_count": null,
   "id": "61a8cef9",
   "metadata": {
    "scrolled": true
   },
   "outputs": [],
   "source": [
    "plt.plot(fvm_vanilla.h, label='sqrt(h_t)')\n",
    "plt.plot(train.values ** 2, label='y_t')\n",
    "\n",
    "plt.legend()\n",
    "plt.grid()\n",
    "plt.show()"
   ]
  },
  {
   "cell_type": "code",
   "execution_count": null,
   "id": "a697a9cb",
   "metadata": {},
   "outputs": [],
   "source": [
    "fvm_vanilla.h"
   ]
  },
  {
   "cell_type": "markdown",
   "id": "049534ac",
   "metadata": {},
   "source": [
    "## `feed_daily_data`"
   ]
  },
  {
   "cell_type": "code",
   "execution_count": null,
   "id": "deacac68",
   "metadata": {},
   "outputs": [],
   "source": [
    "# n_test_small = 10\n",
    "# test_small = test.iloc[:n_test_small].copy()\n",
    "# input_cut = pd.concat([train, test_small]).copy()\n",
    "\n",
    "# data_to_cluster_test_1 = pd.Series(test_small.index.dayofweek + 1, index=test_small.index).copy()\n",
    "# data_to_cluster_test_2 = 'train'\n",
    "# data_to_cluster_test = [data_to_cluster_test_1, data_to_cluster_test_2]"
   ]
  },
  {
   "cell_type": "code",
   "execution_count": null,
   "id": "52707074",
   "metadata": {
    "scrolled": false
   },
   "outputs": [],
   "source": [
    "%%time\n",
    "\n",
    "fvm_vanilla.feed_daily_data(test_small, data_to_cluster=data_to_cluster_test_2)"
   ]
  },
  {
   "cell_type": "code",
   "execution_count": null,
   "id": "550b604f",
   "metadata": {},
   "outputs": [],
   "source": [
    "fvm_vanilla.data_to_cluster"
   ]
  },
  {
   "cell_type": "code",
   "execution_count": null,
   "id": "e6c248b7",
   "metadata": {},
   "outputs": [],
   "source": [
    "len(fvm_vanilla._hist_output)"
   ]
  },
  {
   "cell_type": "code",
   "execution_count": null,
   "id": "dbc2472f",
   "metadata": {},
   "outputs": [],
   "source": [
    "fvm_vanilla.h"
   ]
  },
  {
   "cell_type": "code",
   "execution_count": null,
   "id": "194e83d9",
   "metadata": {},
   "outputs": [],
   "source": [
    "_.shape"
   ]
  },
  {
   "cell_type": "code",
   "execution_count": null,
   "id": "ad1ae40a",
   "metadata": {},
   "outputs": [],
   "source": [
    "fvm_vanilla.data_to_cluster[-10:]"
   ]
  },
  {
   "cell_type": "code",
   "execution_count": null,
   "id": "4da79e98",
   "metadata": {},
   "outputs": [],
   "source": [
    "fvm_vanilla.membership_degrees_hist"
   ]
  },
  {
   "cell_type": "code",
   "execution_count": null,
   "id": "4358e76c",
   "metadata": {},
   "outputs": [],
   "source": [
    "fvm_vanilla.hist_output"
   ]
  },
  {
   "cell_type": "code",
   "execution_count": null,
   "id": "8f612b7c",
   "metadata": {},
   "outputs": [],
   "source": [
    "test"
   ]
  },
  {
   "cell_type": "code",
   "execution_count": null,
   "id": "893712be",
   "metadata": {},
   "outputs": [],
   "source": [
    "fvm_vanilla.membership_degrees_current"
   ]
  },
  {
   "cell_type": "code",
   "execution_count": null,
   "id": "11acb59e",
   "metadata": {},
   "outputs": [],
   "source": [
    "fvm_vanilla.clusterization_parameters"
   ]
  },
  {
   "cell_type": "code",
   "execution_count": null,
   "id": "82d32c14",
   "metadata": {
    "scrolled": true
   },
   "outputs": [],
   "source": [
    "fvm_vanilla._parameters_hist"
   ]
  },
  {
   "cell_type": "markdown",
   "id": "70f4fd09",
   "metadata": {},
   "source": [
    "### Plots"
   ]
  },
  {
   "cell_type": "code",
   "execution_count": null,
   "id": "7f68c3af",
   "metadata": {},
   "outputs": [],
   "source": [
    "plt.plot((np.array(fvm_vanilla._hist_output) ** .5), label='forecast')\n",
    "plt.plot(test_small.values, label='actual values')\n",
    "\n",
    "plt.legend()\n",
    "plt.grid()\n",
    "plt.show()"
   ]
  },
  {
   "cell_type": "code",
   "execution_count": null,
   "id": "2ae102a3",
   "metadata": {},
   "outputs": [],
   "source": [
    "(fvm_vanilla.hist_output ** .5).plot(label='forecast')\n",
    "test_small.plot(label='actual values')\n",
    "\n",
    "plt.legend()\n",
    "plt.grid()\n",
    "plt.show()"
   ]
  },
  {
   "cell_type": "code",
   "execution_count": null,
   "id": "c002898f",
   "metadata": {},
   "outputs": [],
   "source": [
    "(fvm_vanilla.hist_output ** .5).plot(label='forecast', figsize=(15, 8))\n",
    "input_cut.plot(label='actual values')\n",
    "\n",
    "plt.legend()\n",
    "plt.grid()\n",
    "plt.show()"
   ]
  },
  {
   "cell_type": "markdown",
   "id": "6b2e8ae4",
   "metadata": {},
   "source": [
    "### Errors"
   ]
  },
  {
   "cell_type": "code",
   "execution_count": null,
   "id": "c307806d",
   "metadata": {
    "scrolled": true
   },
   "outputs": [],
   "source": [
    "mean_squared_error(fvm_vanilla.hist_output ** .5, test_small, squared=True)"
   ]
  },
  {
   "cell_type": "code",
   "execution_count": null,
   "id": "87294864",
   "metadata": {},
   "outputs": [],
   "source": [
    "_ / mean_squared_error(fvm.hist_output ** .5, test_small, squared=True)"
   ]
  },
  {
   "cell_type": "code",
   "execution_count": null,
   "id": "f13748a2",
   "metadata": {},
   "outputs": [],
   "source": [
    "(_ - 1) * 100"
   ]
  },
  {
   "cell_type": "code",
   "execution_count": null,
   "id": "6b445093",
   "metadata": {},
   "outputs": [],
   "source": [
    "mean_squared_error(fvm_vanilla.hist_output ** .5, test_small, squared=False)"
   ]
  },
  {
   "cell_type": "code",
   "execution_count": null,
   "id": "6ecc2ea7",
   "metadata": {},
   "outputs": [],
   "source": [
    "mean_absolute_percentage_error(fvm_vanilla.hist_output ** .5, test_small)"
   ]
  },
  {
   "cell_type": "markdown",
   "id": "f527df76",
   "metadata": {},
   "source": [
    "## Diff w/ seasonal model"
   ]
  },
  {
   "cell_type": "code",
   "execution_count": null,
   "id": "33f7a5c5",
   "metadata": {},
   "outputs": [],
   "source": [
    "np.array(fvm._hist_output) - np.array(fvm_vanilla._hist_output)"
   ]
  },
  {
   "cell_type": "code",
   "execution_count": null,
   "id": "3458d28c",
   "metadata": {},
   "outputs": [],
   "source": [
    "_.mean()"
   ]
  },
  {
   "cell_type": "markdown",
   "id": "592c5dad",
   "metadata": {},
   "source": [
    "## Same data fed to GARCH(1, 1)"
   ]
  },
  {
   "cell_type": "markdown",
   "id": "ba0e281d",
   "metadata": {},
   "source": [
    "### No retraining"
   ]
  },
  {
   "cell_type": "code",
   "execution_count": null,
   "id": "528064bb",
   "metadata": {},
   "outputs": [],
   "source": [
    "model = arch_model(train,\n",
    "                   mean=local_method_parameters['mean'],\n",
    "                   vol='GARCH', p=local_method_parameters['p'],\n",
    "                   q=local_method_parameters['q'],\n",
    "                   dist=local_method_parameters['dist'])"
   ]
  },
  {
   "cell_type": "code",
   "execution_count": null,
   "id": "530db4c6",
   "metadata": {},
   "outputs": [],
   "source": [
    "model.volatility"
   ]
  },
  {
   "cell_type": "code",
   "execution_count": null,
   "id": "bb9ee778",
   "metadata": {},
   "outputs": [],
   "source": [
    "fitted = model.fit()"
   ]
  },
  {
   "cell_type": "code",
   "execution_count": null,
   "id": "c54be497",
   "metadata": {},
   "outputs": [],
   "source": [
    "fitted.summary"
   ]
  },
  {
   "cell_type": "code",
   "execution_count": null,
   "id": "a3585cd3",
   "metadata": {},
   "outputs": [],
   "source": [
    "fitted.params"
   ]
  },
  {
   "cell_type": "code",
   "execution_count": null,
   "id": "7e9d7b7d",
   "metadata": {},
   "outputs": [],
   "source": [
    "fvm.alpha_0"
   ]
  },
  {
   "cell_type": "code",
   "execution_count": null,
   "id": "35a92d77",
   "metadata": {},
   "outputs": [],
   "source": [
    "fvm.alpha"
   ]
  },
  {
   "cell_type": "code",
   "execution_count": null,
   "id": "c56cc12f",
   "metadata": {},
   "outputs": [],
   "source": [
    "fvm.beta"
   ]
  },
  {
   "cell_type": "code",
   "execution_count": null,
   "id": "fe5ba7e6",
   "metadata": {},
   "outputs": [],
   "source": [
    "forecast = fitted.forecast(reindex=False, horizon=1)"
   ]
  },
  {
   "cell_type": "code",
   "execution_count": null,
   "id": "18ec4493",
   "metadata": {},
   "outputs": [],
   "source": [
    "forecast_variance = forecast.variance.iloc[0]"
   ]
  },
  {
   "cell_type": "code",
   "execution_count": null,
   "id": "024c2b0a",
   "metadata": {},
   "outputs": [],
   "source": [
    "forecast_variance"
   ]
  },
  {
   "cell_type": "code",
   "execution_count": null,
   "id": "bd541618",
   "metadata": {},
   "outputs": [],
   "source": [
    "simple_garch_forecasts = garch_fitted.forecast(horizon=n_test, reindex=False).variance.iloc[0].values"
   ]
  },
  {
   "cell_type": "code",
   "execution_count": null,
   "id": "6f77383a",
   "metadata": {},
   "outputs": [],
   "source": [
    "mean_squared_error(simple_garch_forecasts, test_small ** 2, squared=True)"
   ]
  },
  {
   "cell_type": "markdown",
   "id": "2c3d954d",
   "metadata": {},
   "source": [
    "### With retraining"
   ]
  },
  {
   "cell_type": "code",
   "execution_count": null,
   "id": "348f93ef",
   "metadata": {},
   "outputs": [],
   "source": [
    "def calc_vanilla_garch_wr_mse(info, data, garch_mean, garch_vol, garch_dist):\n",
    "    train_size = info.loc['Train size']\n",
    "    test_size = info.loc['Test size']\n",
    "    p = info.loc['p']\n",
    "    q = info.loc['q']\n",
    "    \n",
    "    train = data[info.loc['Start date']:].iloc[:train_size]\n",
    "    test = data[info.loc['Start date']:].iloc[train_size:(train_size + test_size)]\n",
    "    \n",
    "    forecast = calculate_retraining_garch_forecasts(train, test,\n",
    "                                                    mean=garch_mean,\n",
    "                                                    vol=garch_vol,\n",
    "                                                    p=p,\n",
    "                                                    q=q,\n",
    "                                                    dist=garch_dist)\n",
    "    \n",
    "    mse = mean_squared_error(forecast, test ** 2, squared=True)\n",
    "    \n",
    "    return mse"
   ]
  },
  {
   "cell_type": "markdown",
   "id": "248f600a",
   "metadata": {},
   "source": [
    "# Bollocks"
   ]
  },
  {
   "cell_type": "code",
   "execution_count": null,
   "id": "ff484e78",
   "metadata": {},
   "outputs": [],
   "source": [
    "from multiprocessing import Pool"
   ]
  },
  {
   "cell_type": "code",
   "execution_count": null,
   "id": "ae0daaa5",
   "metadata": {},
   "outputs": [],
   "source": [
    "def f(length):\n",
    "    arr = []\n",
    "    for i in range(int(length)):\n",
    "        arr.append(i + 1)\n",
    "    return arr"
   ]
  },
  {
   "cell_type": "code",
   "execution_count": null,
   "id": "97561e80",
   "metadata": {},
   "outputs": [],
   "source": [
    "%%time\n",
    "\n",
    "arr = f(1e5)"
   ]
  },
  {
   "cell_type": "markdown",
   "id": "972594d7",
   "metadata": {},
   "source": [
    "# Testing clustering"
   ]
  },
  {
   "cell_type": "markdown",
   "id": "ad7a8c59",
   "metadata": {},
   "source": [
    "## 1d"
   ]
  },
  {
   "cell_type": "code",
   "execution_count": null,
   "id": "b5b8a7b1",
   "metadata": {},
   "outputs": [],
   "source": [
    "x = [data_to_cluster[0], data_to_cluster[0]].copy()\n",
    "methods = clusterization_methods\n",
    "parameters = clusterization_parameters"
   ]
  },
  {
   "cell_type": "code",
   "execution_count": null,
   "id": "f48bd444",
   "metadata": {},
   "outputs": [],
   "source": [
    "clustering_results = []\n",
    "for i, (_x, _method) in enumerate(zip(x, methods)):\n",
    "    _clustering_result = cluster_data_1d(_x,\n",
    "                                         method=_method,\n",
    "                                         parameters=parameters[i] if parameters is not None else None,\n",
    "                                         n_last_points_to_use_for_clustering=n_last_points_to_use_for_clustering[i]\n",
    "                                         if n_last_points_to_use_for_clustering is not None else None)\n",
    "    clustering_results.append(_clustering_result)"
   ]
  },
  {
   "cell_type": "code",
   "execution_count": null,
   "id": "da806a74",
   "metadata": {},
   "outputs": [],
   "source": [
    "[\n",
    "    cluster_data_1d(_x,\n",
    "                    method=_method,\n",
    "                    parameters=_parameters,\n",
    "                    n_last_points_to_use_for_clustering=_n_last_points_to_use_for_clustering)\n",
    "    for _x, _method, _parameters, _n_last_points_to_use_for_clustering in\n",
    "    zip(x, methods, parameters, n_last_points_to_use_for_clustering)\n",
    "]"
   ]
  },
  {
   "cell_type": "markdown",
   "id": "e1d7cc47",
   "metadata": {},
   "source": [
    "## multidim"
   ]
  },
  {
   "cell_type": "code",
   "execution_count": null,
   "id": "f0602dff",
   "metadata": {},
   "outputs": [],
   "source": [
    "n_cluster_sets = 2"
   ]
  },
  {
   "cell_type": "code",
   "execution_count": null,
   "id": "80a4c5df",
   "metadata": {},
   "outputs": [],
   "source": [
    "dtc = \\\n",
    "    pd.concat([pd.concat([data_to_cluster[0], data_to_cluster_test[0]]),\n",
    "               pd.concat([train, test])], axis='columns').copy()"
   ]
  },
  {
   "cell_type": "code",
   "execution_count": null,
   "id": "1aa2528e",
   "metadata": {},
   "outputs": [],
   "source": [
    "help(dtc.rolling)"
   ]
  },
  {
   "cell_type": "code",
   "execution_count": null,
   "id": "f7c60411",
   "metadata": {},
   "outputs": [],
   "source": [
    "dtc.iloc[train.shape[0] - test.shape[0] - 1:].expanding(min_periods=1).apply(lambda _row: _row.shape[0])"
   ]
  },
  {
   "cell_type": "code",
   "execution_count": null,
   "id": "266df710",
   "metadata": {},
   "outputs": [],
   "source": [
    "dtc.iloc[train.shape[0] - test.shape[0] - 1:].rolling(10, min_periods=1).apply(lambda _row: _row.shape[0])"
   ]
  },
  {
   "cell_type": "code",
   "execution_count": null,
   "id": "5a11ec76",
   "metadata": {},
   "outputs": [],
   "source": [
    "dtc"
   ]
  },
  {
   "cell_type": "code",
   "execution_count": null,
   "id": "2c64a4a2",
   "metadata": {},
   "outputs": [],
   "source": [
    "cluster_data(data_to_cluster,\n",
    "             methods=clusterization_methods,\n",
    "             parameters=clusterization_parameters,\n",
    "             n_last_points_to_use_for_clustering=\n",
    "             n_last_points_to_use_for_clustering,\n",
    "             conjunction=cluster_sets_conjunction,\n",
    "             n_sets=n_cluster_sets,\n",
    "             normalize=normalize)"
   ]
  },
  {
   "cell_type": "markdown",
   "id": "0da9de60",
   "metadata": {},
   "source": [
    "# Testing `expanding` w/ `numba`"
   ]
  },
  {
   "cell_type": "code",
   "execution_count": null,
   "id": "c3226c60",
   "metadata": {},
   "outputs": [],
   "source": [
    "def f(df: pd.DataFrame) -> pd.Series:\n",
    "    return df.iloc[:, 0] + df.iloc[:, 1]"
   ]
  },
  {
   "cell_type": "code",
   "execution_count": null,
   "id": "618e351e",
   "metadata": {},
   "outputs": [],
   "source": [
    "def f2(df: np.array) -> np.array:\n",
    "    return df[:, 0] + df[:, 1]"
   ]
  },
  {
   "cell_type": "code",
   "execution_count": null,
   "id": "772e0f0e",
   "metadata": {},
   "outputs": [],
   "source": [
    "def f3(df: np.array) -> np.array:\n",
    "    return (df[:, 0] + df[:, 1], df[:, 0] - df[:, 1])"
   ]
  },
  {
   "cell_type": "code",
   "execution_count": null,
   "id": "e28e1904",
   "metadata": {},
   "outputs": [],
   "source": [
    "def f4(df: np.array) -> tuple:\n",
    "    return (df[:, 0].mean(), df[:, 1].mean())"
   ]
  },
  {
   "cell_type": "code",
   "execution_count": null,
   "id": "aa4fdd71",
   "metadata": {},
   "outputs": [],
   "source": [
    "f(dtc)"
   ]
  },
  {
   "cell_type": "code",
   "execution_count": null,
   "id": "c63b82eb",
   "metadata": {},
   "outputs": [],
   "source": [
    "f2(dtc.values)"
   ]
  },
  {
   "cell_type": "code",
   "execution_count": null,
   "id": "64566c53",
   "metadata": {},
   "outputs": [],
   "source": [
    "f3(dtc.values)"
   ]
  },
  {
   "cell_type": "code",
   "execution_count": null,
   "id": "165b4f7b",
   "metadata": {},
   "outputs": [],
   "source": [
    "f4(dtc.values)"
   ]
  },
  {
   "cell_type": "code",
   "execution_count": null,
   "id": "e3c7b247",
   "metadata": {},
   "outputs": [],
   "source": [
    "dtc.expanding(method='table').apply(f4, engine='numba', raw=True)"
   ]
  },
  {
   "cell_type": "code",
   "execution_count": null,
   "id": "81099fdf",
   "metadata": {},
   "outputs": [],
   "source": [
    "np.vstack([np.array([1, 2, 3]), np.array([4, 5, 6])]).T"
   ]
  },
  {
   "cell_type": "markdown",
   "id": "24018a44",
   "metadata": {},
   "source": [
    "# Testing `fit_antecedent_params()`"
   ]
  },
  {
   "cell_type": "code",
   "execution_count": 62,
   "id": "c04f408b",
   "metadata": {},
   "outputs": [],
   "source": [
    "n_test_small = 10\n",
    "test_small = test.iloc[:n_test_small].copy()\n",
    "input_cut = pd.concat([train, test_small]).copy()\n",
    "\n",
    "data_to_cluster_test_1 = pd.Series(test_small.index.dayofweek + 1, index=test_small.index).copy()\n",
    "data_to_cluster_test_2 = 'train'\n",
    "data_to_cluster_test = [data_to_cluster_test_1, data_to_cluster_test_2]\n",
    "# data_to_cluster = test_small.index.dayofweek + 1\n",
    "# data_to_cluster = pd.Series(data_to_cluster, index=test_small.index)"
   ]
  },
  {
   "cell_type": "code",
   "execution_count": 63,
   "id": "0d96fd8b",
   "metadata": {},
   "outputs": [],
   "source": [
    "antecedent_params_set = [clusterization_parameters for _ in range(4)]\n",
    "n_cluster_sets = len(clusterization_methods)\n",
    "\n",
    "other_fvm_parameters = \\\n",
    "    {\n",
    "        'normalize': normalize,\n",
    "        'n_points_fitting': n_points_fitting,\n",
    "        'optimization': optimization,\n",
    "        'optimization_parameters': optimization_parameters\n",
    "    }\n",
    "\n",
    "parameters_ini_af = {'alpha_0': parameters_ini['alpha_0'][0]}\n",
    "parameters_ini_af.update({\n",
    "    _param_name: parameters_ini[_param_name][0, :] for _param_name in ['alpha', 'beta']\n",
    "})\n",
    "\n",
    "lower_bounds = [0] * (1 + p + q)\n",
    "upper_bounds = [+np.inf] + [1] * (p + q)\n",
    "bounds_af = (lower_bounds, upper_bounds)\n",
    "\n",
    "local_method_parameters['bounds'] = bounds_af"
   ]
  },
  {
   "cell_type": "code",
   "execution_count": 64,
   "id": "14d4113f",
   "metadata": {},
   "outputs": [
    {
     "data": {
      "text/plain": [
       "[[{'a': [1, 1], 'b': [1, 5], 'c': [1, 5], 'd': [5, 5], 'n_clusters': 2},\n",
       "  {'centers': [-4.5, 2.5], 'variances': [7, 5], 'n_clusters': 2}],\n",
       " [{'a': [1, 1], 'b': [1, 5], 'c': [1, 5], 'd': [5, 5], 'n_clusters': 2},\n",
       "  {'centers': [-4.5, 2.5], 'variances': [7, 5], 'n_clusters': 2}],\n",
       " [{'a': [1, 1], 'b': [1, 5], 'c': [1, 5], 'd': [5, 5], 'n_clusters': 2},\n",
       "  {'centers': [-4.5, 2.5], 'variances': [7, 5], 'n_clusters': 2}],\n",
       " [{'a': [1, 1], 'b': [1, 5], 'c': [1, 5], 'd': [5, 5], 'n_clusters': 2},\n",
       "  {'centers': [-4.5, 2.5], 'variances': [7, 5], 'n_clusters': 2}]]"
      ]
     },
     "execution_count": 64,
     "metadata": {},
     "output_type": "execute_result"
    }
   ],
   "source": [
    "antecedent_params_set"
   ]
  },
  {
   "cell_type": "code",
   "execution_count": 68,
   "id": "b5b31de6",
   "metadata": {
    "scrolled": true
   },
   "outputs": [
    {
     "name": "stdout",
     "output_type": "stream",
     "text": [
      "CPU times: user 42.1 ms, sys: 242 ms, total: 284 ms\n",
      "Wall time: 2min 13s\n"
     ]
    }
   ],
   "source": [
    "%%time\n",
    "\n",
    "result = fit_antecedent_params(train,\n",
    "                               test,\n",
    "                               consequent_metaparams=local_method_parameters,\n",
    "                               consequent_params_ini=parameters_ini_af,\n",
    "                               antecedent_params_set=antecedent_params_set,\n",
    "                               clusterization_method=clusterization_methods,\n",
    "                               local_method=local_method,\n",
    "                               data_to_cluster_train=data_to_cluster,\n",
    "                               data_to_cluster_test=data_to_cluster_test,\n",
    "                               cluster_sets_conjunction=cluster_sets_conjunction,\n",
    "                               n_last_points_to_use_for_clustering=n_last_points_to_use_for_clustering,\n",
    "                               n_cluster_sets=n_cluster_sets,\n",
    "                               other_fvm_parameters=other_fvm_parameters,\n",
    "                               use_multiprocessing=True)"
   ]
  },
  {
   "cell_type": "code",
   "execution_count": 66,
   "id": "276df2b9",
   "metadata": {
    "scrolled": true
   },
   "outputs": [
    {
     "data": {
      "text/plain": [
       "[{'status': 0,\n",
       "  'fvm': <model.FuzzyVolatilityModel at 0x7f8fed676c10>,\n",
       "  'mse': 3.6204149469675382273e-07,\n",
       "  'mape': 1.4298102147508680444,\n",
       "  'exception': None,\n",
       "  'traceback': None},\n",
       " {'status': 0,\n",
       "  'fvm': <model.FuzzyVolatilityModel at 0x7f8fed676d00>,\n",
       "  'mse': 3.6204149469675382273e-07,\n",
       "  'mape': 1.4298102147508680444,\n",
       "  'exception': None,\n",
       "  'traceback': None},\n",
       " {'status': 0,\n",
       "  'fvm': <model.FuzzyVolatilityModel at 0x7f8fed676400>,\n",
       "  'mse': 3.6204149469675382273e-07,\n",
       "  'mape': 1.4298102147508680444,\n",
       "  'exception': None,\n",
       "  'traceback': None},\n",
       " {'status': 0,\n",
       "  'fvm': <model.FuzzyVolatilityModel at 0x7f8fed6763a0>,\n",
       "  'mse': 3.6204149469675382273e-07,\n",
       "  'mape': 1.4298102147508680444,\n",
       "  'exception': None,\n",
       "  'traceback': None}]"
      ]
     },
     "execution_count": 66,
     "metadata": {},
     "output_type": "execute_result"
    }
   ],
   "source": [
    "result"
   ]
  },
  {
   "cell_type": "code",
   "execution_count": 67,
   "id": "35c89367",
   "metadata": {},
   "outputs": [
    {
     "data": {
      "text/plain": [
       "3.6204149469675382273e-07"
      ]
     },
     "execution_count": 67,
     "metadata": {},
     "output_type": "execute_result"
    }
   ],
   "source": [
    "result[0]['mse']"
   ]
  },
  {
   "cell_type": "code",
   "execution_count": null,
   "id": "aff9ef8d",
   "metadata": {},
   "outputs": [],
   "source": [
    "print(result[0]['traceback'])"
   ]
  },
  {
   "cell_type": "code",
   "execution_count": null,
   "id": "7fd70386",
   "metadata": {},
   "outputs": [],
   "source": [
    "def f(d, a, b, c):\n",
    "    return (a + b + c) * d"
   ]
  },
  {
   "cell_type": "code",
   "execution_count": null,
   "id": "e7d71063",
   "metadata": {},
   "outputs": [],
   "source": [
    "[(1, 2, 3)]"
   ]
  },
  {
   "cell_type": "code",
   "execution_count": null,
   "id": "2fa0c624",
   "metadata": {},
   "outputs": [],
   "source": [
    "zp = zip([1, 2], [3, 4], [(5, 6, 7, 8) for _ in range(2)])"
   ]
  },
  {
   "cell_type": "code",
   "execution_count": null,
   "id": "3d7fb4cb",
   "metadata": {},
   "outputs": [],
   "source": [
    "oth = (5, 6, 7, 8)\n",
    "dup = [oth for _ in range(2)]"
   ]
  },
  {
   "cell_type": "code",
   "execution_count": null,
   "id": "86810d3f",
   "metadata": {},
   "outputs": [],
   "source": [
    "a1 = [1, 2]\n",
    "a2 = [3, 4]"
   ]
  },
  {
   "cell_type": "code",
   "execution_count": null,
   "id": "ac9b8b59",
   "metadata": {},
   "outputs": [],
   "source": [
    "list(zip(a1, a2, dup))"
   ]
  },
  {
   "cell_type": "code",
   "execution_count": null,
   "id": "1930640c",
   "metadata": {},
   "outputs": [],
   "source": [
    "[(_a1, _a2, *dup) for _a1, _a2, dup in zip(a1, a2, dup)]"
   ]
  },
  {
   "cell_type": "code",
   "execution_count": null,
   "id": "c87c6b1b",
   "metadata": {},
   "outputs": [],
   "source": [
    "np.concatenate([[a1], [a2], np.array(dup).T], axis=0).T.tolist()"
   ]
  },
  {
   "cell_type": "code",
   "execution_count": null,
   "id": "237dbebf",
   "metadata": {},
   "outputs": [],
   "source": [
    "np.concatenate([[antecedent_params_set], [[4]], np.array(dup).T], axis=0)"
   ]
  },
  {
   "cell_type": "code",
   "execution_count": null,
   "id": "19f026fd",
   "metadata": {},
   "outputs": [],
   "source": [
    "np.array(antecedent_params_set)"
   ]
  },
  {
   "cell_type": "code",
   "execution_count": null,
   "id": "24abf0ef",
   "metadata": {},
   "outputs": [],
   "source": [
    "np.array"
   ]
  },
  {
   "cell_type": "code",
   "execution_count": null,
   "id": "8599f278",
   "metadata": {},
   "outputs": [],
   "source": [
    "_.shape"
   ]
  },
  {
   "cell_type": "code",
   "execution_count": null,
   "id": "a1d6551b",
   "metadata": {},
   "outputs": [],
   "source": [
    "np.array(dup).T"
   ]
  },
  {
   "cell_type": "code",
   "execution_count": null,
   "id": "836b63eb",
   "metadata": {},
   "outputs": [],
   "source": [
    "list(zp)"
   ]
  },
  {
   "cell_type": "code",
   "execution_count": null,
   "id": "2e9f8072",
   "metadata": {},
   "outputs": [],
   "source": [
    "for p in zp:\n",
    "    print(p)\n",
    "    print(f(*p))"
   ]
  }
 ],
 "metadata": {
  "kernelspec": {
   "display_name": "Python 3 (ipykernel)",
   "language": "python",
   "name": "python3"
  },
  "language_info": {
   "codemirror_mode": {
    "name": "ipython",
    "version": 3
   },
   "file_extension": ".py",
   "mimetype": "text/x-python",
   "name": "python",
   "nbconvert_exporter": "python",
   "pygments_lexer": "ipython3",
   "version": "3.9.7"
  }
 },
 "nbformat": 4,
 "nbformat_minor": 5
}
