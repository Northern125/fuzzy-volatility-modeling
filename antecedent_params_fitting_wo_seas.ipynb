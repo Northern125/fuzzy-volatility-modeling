{
 "cells": [
  {
   "cell_type": "code",
   "execution_count": 1,
   "id": "136d49ab-db4b-4739-9ea2-fa5b52456abe",
   "metadata": {
    "tags": []
   },
   "outputs": [],
   "source": [
    "import pandas as pd\n",
    "import numpy as np\n",
    "import json\n",
    "import matplotlib.pyplot as plt\n",
    "import logging\n",
    "import scipy.stats as sts\n",
    "import pickle\n",
    "from sklearn.metrics import mean_squared_error, mean_absolute_percentage_error\n",
    "import os"
   ]
  },
  {
   "cell_type": "code",
   "execution_count": 2,
   "id": "10726eb9-d483-4482-9ea2-85221fdd6224",
   "metadata": {},
   "outputs": [],
   "source": [
    "from arch import arch_model"
   ]
  },
  {
   "cell_type": "code",
   "execution_count": 3,
   "id": "81f62771",
   "metadata": {},
   "outputs": [],
   "source": [
    "ini_work_dir = os.getcwd()\n",
    "# os.chdir('..')"
   ]
  },
  {
   "cell_type": "code",
   "execution_count": 4,
   "id": "e43bcf34-96c1-4515-828c-e811ec8593ef",
   "metadata": {},
   "outputs": [],
   "source": [
    "from rules_related import combine_rules_outputs\n",
    "from whole_algorithm import train_model\n",
    "from auxiliary import calc_log_returns, unpack_1d_parameters\n",
    "from multivariate_normal_distribution import LongMultivariateNormal\n",
    "from model import FuzzyVolatilityModel\n",
    "from antecedent_fitting import fit_antecedent_params\n",
    "from local_models import calculate_retraining_garch_forecasts"
   ]
  },
  {
   "cell_type": "code",
   "execution_count": 5,
   "id": "20f71dea-88ca-4269-a541-b5191a122810",
   "metadata": {
    "scrolled": true
   },
   "outputs": [],
   "source": [
    "with open('config.json') as file:\n",
    "    config = json.load(file)"
   ]
  },
  {
   "cell_type": "code",
   "execution_count": 6,
   "id": "5b1676ea-50c7-4216-a5e4-b30ce6045bcb",
   "metadata": {},
   "outputs": [],
   "source": [
    "files_folder = config['files_folders']['processed']\n",
    "research_results_folder = config['files_folders']['research_results']\n",
    "antecedent_params_folder = config['files_folders']['antecedent_params_sets']\n",
    "logs_folder = config['files_folders']['logs']"
   ]
  },
  {
   "cell_type": "code",
   "execution_count": 7,
   "id": "bbe12aba-c2b2-435c-a4c5-29404e408b41",
   "metadata": {},
   "outputs": [],
   "source": [
    "NB_NO = 0\n",
    "\n",
    "METADATA_FILE_NAME = 'current_antecedent_fitting_metadata_wo_seas.pkl'\n",
    "SUMMARY_TABLE_NAME = 'summary_table_wo_seas'\n",
    "\n",
    "RESULT_RAW_FILE_NAME = f'fitting_consequent_params_wo_seas_raw_result_nb_{NB_NO}'\n",
    "RESULT_BIG_FILE_NAME = f'fitting_consequent_params_wo_seas_result_nb_{NB_NO}'"
   ]
  },
  {
   "cell_type": "code",
   "execution_count": 8,
   "id": "0d70d464",
   "metadata": {},
   "outputs": [],
   "source": [
    "logger = logging.getLogger(f'apf_wo_seas_nb_{NB_NO}')  # apf == antecedent params fitting\n",
    "\n",
    "_log_file = f'{logs_folder}/{logger.name}.log'\n",
    "logging.basicConfig(level=logging.INFO,\n",
    "                    filename=_log_file,\n",
    "                    filemode='w',\n",
    "                    format='%(asctime)s,%(msecs)d %(name)s %(levelname)s %(message)s',\n",
    "                    datefmt='%H:%M:%S')"
   ]
  },
  {
   "cell_type": "code",
   "execution_count": 9,
   "id": "d5e4b97c-4784-4aa5-b141-0cb5767d7222",
   "metadata": {},
   "outputs": [],
   "source": [
    "pd.options.display.precision = 15\n",
    "pd.options.display.max_colwidth = 300"
   ]
  },
  {
   "cell_type": "markdown",
   "id": "a2346c60-2133-4b16-9888-9a5858220468",
   "metadata": {
    "tags": []
   },
   "source": [
    "# Reading data"
   ]
  },
  {
   "cell_type": "code",
   "execution_count": 10,
   "id": "fe131024-b4f0-4168-94a3-7c536a8f13fc",
   "metadata": {},
   "outputs": [],
   "source": [
    "with open(f'{antecedent_params_folder}/{METADATA_FILE_NAME}', 'rb') as file:\n",
    "    data = pickle.load(file)"
   ]
  },
  {
   "cell_type": "code",
   "execution_count": 11,
   "id": "7c96e1d8-ad90-42ef-a0ef-e5dc773ece33",
   "metadata": {},
   "outputs": [],
   "source": [
    "train = data['train']\n",
    "test = data['test']\n",
    "consequent_metaparams = data['consequent_metaparams']\n",
    "consequent_params_ini = data['consequent_metaparams']['parameters_ini']\n",
    "antecedent_params_set = data['antecedent_params_set']\n",
    "clusterization_method = data['clusterization_method']\n",
    "local_method = data['local_method']\n",
    "data_to_cluster_train = data['data_to_cluster_train']\n",
    "data_to_cluster_test = data['data_to_cluster_test']\n",
    "cluster_sets_conjunction = data['cluster_sets_conjunction']\n",
    "n_last_points_to_use_for_clustering = data['n_last_points_to_use_for_clustering']\n",
    "other_fvm_parameters = data['other_fvm_parameters']"
   ]
  },
  {
   "cell_type": "code",
   "execution_count": 12,
   "id": "b222303f",
   "metadata": {},
   "outputs": [],
   "source": [
    "n_cluster_sets = len(data['clusterization_method'])\n",
    "\n",
    "p = consequent_metaparams['p']\n",
    "q = consequent_metaparams['q']\n",
    "\n",
    "n_train = train.shape[0]\n",
    "n_test = test.shape[0]"
   ]
  },
  {
   "cell_type": "markdown",
   "id": "a414c32a-e5ff-4cdd-8a08-abdc2cf125f8",
   "metadata": {},
   "source": [
    "# Main input data plot"
   ]
  },
  {
   "cell_type": "code",
   "execution_count": 13,
   "id": "e367037e-cf96-48ba-882c-db80a3fe32c2",
   "metadata": {},
   "outputs": [
    {
     "data": {
      "image/png": "[encoded data removed]",
      "text/plain": [
       "<Figure size 432x288 with 1 Axes>"
      ]
     },
     "metadata": {
      "needs_background": "light"
     },
     "output_type": "display_data"
    }
   ],
   "source": [
    "train.plot(label='train')\n",
    "test.plot(label='test')\n",
    "\n",
    "plt.legend()\n",
    "plt.grid()\n",
    "plt.show()"
   ]
  },
  {
   "cell_type": "markdown",
   "id": "34e991bf-35ee-4b72-a318-ac6e35ca0a26",
   "metadata": {},
   "source": [
    "## train & test sizes"
   ]
  },
  {
   "cell_type": "code",
   "execution_count": 14,
   "id": "b1b3a33c-cf27-47ba-8206-4183374726a4",
   "metadata": {},
   "outputs": [
    {
     "name": "stdout",
     "output_type": "stream",
     "text": [
      "2511 504\n"
     ]
    }
   ],
   "source": [
    "print(train.shape[0], test.shape[0])"
   ]
  },
  {
   "cell_type": "markdown",
   "id": "f807c739-2835-4f09-9a2d-551c93d3bad7",
   "metadata": {},
   "source": [
    "# Antecedent params set"
   ]
  },
  {
   "cell_type": "code",
   "execution_count": 15,
   "id": "09afa3ba-e419-4ced-a9e2-f5f591a1a360",
   "metadata": {},
   "outputs": [
    {
     "data": {
      "text/plain": [
       "1296"
      ]
     },
     "execution_count": 15,
     "metadata": {},
     "output_type": "execute_result"
    }
   ],
   "source": [
    "len(antecedent_params_set)"
   ]
  },
  {
   "cell_type": "code",
   "execution_count": 16,
   "id": "e0bca9ad-4c50-42a6-842a-5cbd73fd949d",
   "metadata": {},
   "outputs": [],
   "source": [
    "# antecedent_params_set = antecedent_params_set[0:1]"
   ]
  },
  {
   "cell_type": "code",
   "execution_count": 17,
   "id": "f70624b0-c37c-47e6-a3bd-90e04796bfff",
   "metadata": {},
   "outputs": [
    {
     "data": {
      "text/plain": [
       "1296"
      ]
     },
     "execution_count": 17,
     "metadata": {},
     "output_type": "execute_result"
    }
   ],
   "source": [
    "len(antecedent_params_set)"
   ]
  },
  {
   "cell_type": "code",
   "execution_count": 18,
   "id": "1278a962-16db-4d1f-be08-9ee66f0b17a6",
   "metadata": {},
   "outputs": [],
   "source": [
    "# for _antecedent_params in antecedent_params_set:\n",
    "#     _centers = _antecedent_params['centers']\n",
    "#     _variances = _antecedent_params['variances']\n",
    "#     _n_clusters = _antecedent_params['n_clusters']\n",
    "    \n",
    "#     for i in range(_n_clusters):\n",
    "#         _range = np.arange(-20, 20, .01)\n",
    "#         _data = sts.norm(_centers[i], _variances[i] ** .5).pdf(_range)\n",
    "\n",
    "#         plt.plot(_range, _data, label=f'cluster #{i + 1}')\n",
    "    \n",
    "#     plt.title(_antecedent_params)\n",
    "#     plt.legend()\n",
    "#     plt.grid()\n",
    "#     plt.show()"
   ]
  },
  {
   "cell_type": "markdown",
   "id": "4b84e20a",
   "metadata": {},
   "source": [
    "# Algorithm parameters"
   ]
  },
  {
   "cell_type": "code",
   "execution_count": 19,
   "id": "1b10d95f",
   "metadata": {},
   "outputs": [],
   "source": [
    "use_multiprocessing = True\n",
    "do_feeding = False"
   ]
  },
  {
   "cell_type": "markdown",
   "id": "3b3fea3c-d168-4eed-a764-5d8324818a56",
   "metadata": {},
   "source": [
    "# Fitting"
   ]
  },
  {
   "cell_type": "code",
   "execution_count": 20,
   "id": "2040c9e7-efef-48f5-96b9-afb8530f6f36",
   "metadata": {},
   "outputs": [],
   "source": [
    "result = None"
   ]
  },
  {
   "cell_type": "code",
   "execution_count": 21,
   "id": "c7d2703a-aaa8-41a2-9f03-3fa1fe4697f7",
   "metadata": {
    "scrolled": true,
    "tags": []
   },
   "outputs": [
    {
     "name": "stdout",
     "output_type": "stream",
     "text": [
      "CPU times: user 2.81 s, sys: 1.31 s, total: 4.12 s\n",
      "Wall time: 8h 5min 19s\n"
     ]
    }
   ],
   "source": [
    "%%time\n",
    "\n",
    "result = fit_antecedent_params(train,\n",
    "                               test,\n",
    "                               consequent_metaparams=consequent_metaparams,\n",
    "                               consequent_params_ini=consequent_params_ini,\n",
    "                               antecedent_params_set=antecedent_params_set,\n",
    "                               clusterization_method=clusterization_method,\n",
    "                               local_method=local_method,\n",
    "                               data_to_cluster_train=data_to_cluster_train,\n",
    "                               data_to_cluster_test=data_to_cluster_test,\n",
    "                               cluster_sets_conjunction=cluster_sets_conjunction,\n",
    "                               n_last_points_to_use_for_clustering=n_last_points_to_use_for_clustering,\n",
    "                               n_cluster_sets=n_cluster_sets,\n",
    "                               other_fvm_parameters=other_fvm_parameters,\n",
    "                               use_multiprocessing=use_multiprocessing,\n",
    "                               do_feeding=do_feeding)"
   ]
  },
  {
   "cell_type": "code",
   "execution_count": 22,
   "id": "54e3228a-7de3-476b-b059-d7c0e940c0d9",
   "metadata": {},
   "outputs": [
    {
     "name": "stdout",
     "output_type": "stream",
     "text": [
      "2022-10-06 10-46-23.938419\n"
     ]
    }
   ],
   "source": [
    "_cur_time = str(pd.Timestamp.today()).replace(':', '-')\n",
    "print(_cur_time)\n",
    "\n",
    "with open(f'{research_results_folder}/{RESULT_RAW_FILE_NAME}_{_cur_time}', 'wb') as file:\n",
    "    pickle.dump(result, file)"
   ]
  },
  {
   "cell_type": "code",
   "execution_count": 23,
   "id": "01eb377d-b1c0-4657-a615-b41097d5db55",
   "metadata": {},
   "outputs": [],
   "source": [
    "res_df = pd.DataFrame.from_records(result).copy()"
   ]
  },
  {
   "cell_type": "code",
   "execution_count": 24,
   "id": "6d4b1f81-705b-4cfc-b57b-5290cbabea57",
   "metadata": {},
   "outputs": [],
   "source": [
    "if (res_df['status'] != 0).any():\n",
    "    _text = 'Not all models were fitted'\n",
    "    logger.warning(_text)\n",
    "    print(_text)"
   ]
  },
  {
   "cell_type": "code",
   "execution_count": 25,
   "id": "dd722973-9886-400f-8b07-c5fb348842b3",
   "metadata": {},
   "outputs": [],
   "source": [
    "fitted_antecedent_params = res_df[res_df['rmse'] == res_df['rmse'].min()].iloc[0]['antecedent_params']"
   ]
  },
  {
   "cell_type": "markdown",
   "id": "4a86329a-298c-4a56-bcb6-ee3c0434c309",
   "metadata": {},
   "source": [
    "# Adding some info"
   ]
  },
  {
   "cell_type": "code",
   "execution_count": 26,
   "id": "06b901cf-2cc3-4850-ac2e-ba70f77d191b",
   "metadata": {
    "tags": []
   },
   "outputs": [],
   "source": [
    "result_big = {'result': result, 'fitted': fitted_antecedent_params}\n",
    "\n",
    "result_big['train'] = train\n",
    "result_big['test'] = test\n",
    "result_big['antecedent_params_set'] = antecedent_params_set\n",
    "result_big['consequent_metaparams'] = consequent_metaparams\n",
    "result_big['consequent_params_ini'] = consequent_params_ini\n",
    "result_big['clusterization_method'] = clusterization_method\n",
    "result_big['local_method'] = local_method\n",
    "result_big['data_to_cluster_train'] = data_to_cluster_train\n",
    "result_big['data_to_cluster_test'] = data_to_cluster_test"
   ]
  },
  {
   "cell_type": "code",
   "execution_count": 27,
   "id": "16f5f9ba-80f6-47f6-b4d4-e98df1b02aaa",
   "metadata": {},
   "outputs": [
    {
     "name": "stdout",
     "output_type": "stream",
     "text": [
      "2022-10-06 10-46-26.348586\n"
     ]
    }
   ],
   "source": [
    "_cur_time = str(pd.Timestamp.today()).replace(':', '-')\n",
    "print(_cur_time)\n",
    "\n",
    "with open(f'{research_results_folder}/{RESULT_BIG_FILE_NAME}_{_cur_time}.pkl', 'wb') as file:\n",
    "    pickle.dump(result_big, file)"
   ]
  },
  {
   "cell_type": "markdown",
   "id": "4ba059b8-f4df-4119-b274-0be2b9b0dd85",
   "metadata": {},
   "source": [
    "## Vanilla GARCH errors"
   ]
  },
  {
   "cell_type": "markdown",
   "id": "206c0e1a-a060-4ca3-9dda-46bae1095117",
   "metadata": {},
   "source": [
    "### No retraining"
   ]
  },
  {
   "cell_type": "code",
   "execution_count": 15,
   "id": "2faa6b02-d720-4eaf-b58b-280cc97326a8",
   "metadata": {},
   "outputs": [
    {
     "name": "stdout",
     "output_type": "stream",
     "text": [
      "Iteration:      1,   Func. Count:      5,   Neg. LLF: 10554099.757173032\n",
      "Iteration:      2,   Func. Count:     12,   Neg. LLF: 65.85714059788846\n",
      "Iteration:      3,   Func. Count:     21,   Neg. LLF: -645.294451625407\n",
      "Iteration:      4,   Func. Count:     28,   Neg. LLF: -656.2431358295715\n",
      "Iteration:      5,   Func. Count:     33,   Neg. LLF: -687.7007602886358\n",
      "Iteration:      6,   Func. Count:     38,   Neg. LLF: -695.8754125159263\n",
      "Iteration:      7,   Func. Count:     43,   Neg. LLF: -695.9728187315142\n",
      "Iteration:      8,   Func. Count:     47,   Neg. LLF: -695.9729077286961\n",
      "Iteration:      9,   Func. Count:     50,   Neg. LLF: -695.9729077288266\n",
      "Optimization terminated successfully    (Exit mode 0)\n",
      "            Current function value: -695.9729077286961\n",
      "            Iterations: 10\n",
      "            Function evaluations: 50\n",
      "            Gradient evaluations: 9\n"
     ]
    },
    {
     "name": "stderr",
     "output_type": "stream",
     "text": [
      "/home/vsviyazov/.conda/envs/fuzzy-volatility/lib/python3.9/site-packages/arch/univariate/base.py:309: DataScaleWarning: y is poorly scaled, which may affect convergence of the optimizer when\n",
      "estimating the model parameters. The scale of y is 0.0002802. Parameter\n",
      "estimation work better when this value is between 1 and 1000. The recommended\n",
      "rescaling is 100 * y.\n",
      "\n",
      "This warning can be disabled by either rescaling y before initializing the\n",
      "model or by setting rescale=False.\n",
      "\n",
      "  warnings.warn(\n"
     ]
    }
   ],
   "source": [
    "garch_mean = 'Zero'\n",
    "garch_dist = 'normal'\n",
    "garch_vol = 'GARCH'\n",
    "\n",
    "garch = arch_model(train,\n",
    "                   mean=garch_mean,\n",
    "                   vol=garch_vol,\n",
    "                   p=p,\n",
    "                   q=q,\n",
    "                   dist=garch_dist)\n",
    "garch_fitted = garch.fit()"
   ]
  },
  {
   "cell_type": "code",
   "execution_count": 16,
   "id": "10f8748c-df8c-4bda-8fc0-debbd31ca97c",
   "metadata": {},
   "outputs": [],
   "source": [
    "simple_garch_forecasts = garch_fitted.forecast(horizon=n_test, reindex=False).variance.iloc[0].values"
   ]
  },
  {
   "cell_type": "code",
   "execution_count": 17,
   "id": "7b60dce7-d545-4763-b096-ca661a829756",
   "metadata": {},
   "outputs": [
    {
     "data": {
      "text/plain": [
       "{'mse': 2.9329554201607555e-08,\n",
       " 'rmse': 0.00017125873467244688,\n",
       " 'mape': 0.7685936853205106}"
      ]
     },
     "execution_count": 17,
     "metadata": {},
     "output_type": "execute_result"
    }
   ],
   "source": [
    "mse = mean_squared_error(simple_garch_forecasts, test ** 2, squared=True)\n",
    "rmse = mean_squared_error(simple_garch_forecasts, test ** 2, squared=False)\n",
    "mape = mean_absolute_percentage_error(simple_garch_forecasts, test ** 2)\n",
    "\n",
    "garch_errors = {'mse': mse, 'rmse': rmse, 'mape': mape}\n",
    "garch_errors"
   ]
  },
  {
   "cell_type": "code",
   "execution_count": 18,
   "id": "c9caaa2e-99f3-41f2-86be-01fd29290860",
   "metadata": {},
   "outputs": [
    {
     "ename": "NameError",
     "evalue": "name 'result' is not defined",
     "output_type": "error",
     "traceback": [
      "\u001b[0;31m---------------------------------------------------------------------------\u001b[0m",
      "\u001b[0;31mNameError\u001b[0m                                 Traceback (most recent call last)",
      "\u001b[0;32m/tmp/job-822484/ipykernel_208077/2637470962.py\u001b[0m in \u001b[0;36m<module>\u001b[0;34m\u001b[0m\n\u001b[0;32m----> 1\u001b[0;31m \u001b[0mresult\u001b[0m\u001b[0;34m[\u001b[0m\u001b[0;34m'Vanilla GARCH n/r errors'\u001b[0m\u001b[0;34m]\u001b[0m \u001b[0;34m=\u001b[0m \u001b[0mgarch_errors\u001b[0m\u001b[0;34m\u001b[0m\u001b[0;34m\u001b[0m\u001b[0m\n\u001b[0m",
      "\u001b[0;31mNameError\u001b[0m: name 'result' is not defined"
     ]
    }
   ],
   "source": [
    "result['Vanilla GARCH n/r errors'] = garch_errors"
   ]
  },
  {
   "cell_type": "markdown",
   "id": "aae6ae80-525c-44b9-8fd6-c988343336bd",
   "metadata": {},
   "source": [
    "### W/ retraining"
   ]
  },
  {
   "cell_type": "code",
   "execution_count": 19,
   "id": "07eca7c8",
   "metadata": {
    "collapsed": true,
    "jupyter": {
     "outputs_hidden": true
    },
    "tags": []
   },
   "outputs": [
    {
     "name": "stderr",
     "output_type": "stream",
     "text": [
      "/home/vsviyazov/.conda/envs/fuzzy-volatility/lib/python3.9/site-packages/arch/univariate/base.py:309: DataScaleWarning: y is poorly scaled, which may affect convergence of the optimizer when\n",
      "estimating the model parameters. The scale of y is 0.0002796. Parameter\n",
      "estimation work better when this value is between 1 and 1000. The recommended\n",
      "rescaling is 100 * y.\n",
      "\n",
      "This warning can be disabled by either rescaling y before initializing the\n",
      "model or by setting rescale=False.\n",
      "\n",
      "  warnings.warn(\n",
      "/home/vsviyazov/.conda/envs/fuzzy-volatility/lib/python3.9/site-packages/arch/univariate/base.py:309: DataScaleWarning: y is poorly scaled, which may affect convergence of the optimizer when\n",
      "estimating the model parameters. The scale of y is 0.0002785. Parameter\n",
      "estimation work better when this value is between 1 and 1000. The recommended\n",
      "rescaling is 100 * y.\n",
      "\n",
      "This warning can be disabled by either rescaling y before initializing the\n",
      "model or by setting rescale=False.\n",
      "\n",
      "  warnings.warn(\n",
      "/home/vsviyazov/.conda/envs/fuzzy-volatility/lib/python3.9/site-packages/arch/univariate/base.py:309: DataScaleWarning: y is poorly scaled, which may affect convergence of the optimizer when\n",
      "estimating the model parameters. The scale of y is 0.0002775. Parameter\n",
      "estimation work better when this value is between 1 and 1000. The recommended\n",
      "rescaling is 100 * y.\n",
      "\n",
      "This warning can be disabled by either rescaling y before initializing the\n",
      "model or by setting rescale=False.\n",
      "\n",
      "  warnings.warn(\n",
      "/home/vsviyazov/.conda/envs/fuzzy-volatility/lib/python3.9/site-packages/arch/univariate/base.py:309: DataScaleWarning: y is poorly scaled, which may affect convergence of the optimizer when\n",
      "estimating the model parameters. The scale of y is 0.0002774. Parameter\n",
      "estimation work better when this value is between 1 and 1000. The recommended\n",
      "rescaling is 100 * y.\n",
      "\n",
      "This warning can be disabled by either rescaling y before initializing the\n",
      "model or by setting rescale=False.\n",
      "\n",
      "  warnings.warn(\n",
      "/home/vsviyazov/.conda/envs/fuzzy-volatility/lib/python3.9/site-packages/arch/univariate/base.py:309: DataScaleWarning: y is poorly scaled, which may affect convergence of the optimizer when\n",
      "estimating the model parameters. The scale of y is 0.0002764. Parameter\n",
      "estimation work better when this value is between 1 and 1000. The recommended\n",
      "rescaling is 100 * y.\n",
      "\n",
      "This warning can be disabled by either rescaling y before initializing the\n",
      "model or by setting rescale=False.\n",
      "\n",
      "  warnings.warn(\n",
      "/home/vsviyazov/.conda/envs/fuzzy-volatility/lib/python3.9/site-packages/arch/univariate/base.py:309: DataScaleWarning: y is poorly scaled, which may affect convergence of the optimizer when\n",
      "estimating the model parameters. The scale of y is 0.0002756. Parameter\n",
      "estimation work better when this value is between 1 and 1000. The recommended\n",
      "rescaling is 100 * y.\n",
      "\n",
      "This warning can be disabled by either rescaling y before initializing the\n",
      "model or by setting rescale=False.\n",
      "\n",
      "  warnings.warn(\n",
      "/home/vsviyazov/.conda/envs/fuzzy-volatility/lib/python3.9/site-packages/arch/univariate/base.py:309: DataScaleWarning: y is poorly scaled, which may affect convergence of the optimizer when\n",
      "estimating the model parameters. The scale of y is 0.0002745. Parameter\n",
      "estimation work better when this value is between 1 and 1000. The recommended\n",
      "rescaling is 100 * y.\n",
      "\n",
      "This warning can be disabled by either rescaling y before initializing the\n",
      "model or by setting rescale=False.\n",
      "\n",
      "  warnings.warn(\n",
      "/home/vsviyazov/.conda/envs/fuzzy-volatility/lib/python3.9/site-packages/arch/univariate/base.py:309: DataScaleWarning: y is poorly scaled, which may affect convergence of the optimizer when\n",
      "estimating the model parameters. The scale of y is 0.0002743. Parameter\n",
      "estimation work better when this value is between 1 and 1000. The recommended\n",
      "rescaling is 100 * y.\n",
      "\n",
      "This warning can be disabled by either rescaling y before initializing the\n",
      "model or by setting rescale=False.\n",
      "\n",
      "  warnings.warn(\n",
      "/home/vsviyazov/.conda/envs/fuzzy-volatility/lib/python3.9/site-packages/arch/univariate/base.py:309: DataScaleWarning: y is poorly scaled, which may affect convergence of the optimizer when\n",
      "estimating the model parameters. The scale of y is 0.0002735. Parameter\n",
      "estimation work better when this value is between 1 and 1000. The recommended\n",
      "rescaling is 100 * y.\n",
      "\n",
      "This warning can be disabled by either rescaling y before initializing the\n",
      "model or by setting rescale=False.\n",
      "\n",
      "  warnings.warn(\n",
      "/home/vsviyazov/.conda/envs/fuzzy-volatility/lib/python3.9/site-packages/arch/univariate/base.py:309: DataScaleWarning: y is poorly scaled, which may affect convergence of the optimizer when\n",
      "estimating the model parameters. The scale of y is 0.000274. Parameter\n",
      "estimation work better when this value is between 1 and 1000. The recommended\n",
      "rescaling is 100 * y.\n",
      "\n",
      "This warning can be disabled by either rescaling y before initializing the\n",
      "model or by setting rescale=False.\n",
      "\n",
      "  warnings.warn(\n",
      "/home/vsviyazov/.conda/envs/fuzzy-volatility/lib/python3.9/site-packages/arch/univariate/base.py:309: DataScaleWarning: y is poorly scaled, which may affect convergence of the optimizer when\n",
      "estimating the model parameters. The scale of y is 0.0002729. Parameter\n",
      "estimation work better when this value is between 1 and 1000. The recommended\n",
      "rescaling is 100 * y.\n",
      "\n",
      "This warning can be disabled by either rescaling y before initializing the\n",
      "model or by setting rescale=False.\n",
      "\n",
      "  warnings.warn(\n",
      "/home/vsviyazov/.conda/envs/fuzzy-volatility/lib/python3.9/site-packages/arch/univariate/base.py:309: DataScaleWarning: y is poorly scaled, which may affect convergence of the optimizer when\n",
      "estimating the model parameters. The scale of y is 0.0002735. Parameter\n",
      "estimation work better when this value is between 1 and 1000. The recommended\n",
      "rescaling is 100 * y.\n",
      "\n",
      "This warning can be disabled by either rescaling y before initializing the\n",
      "model or by setting rescale=False.\n",
      "\n",
      "  warnings.warn(\n"
     ]
    },
    {
     "name": "stdout",
     "output_type": "stream",
     "text": [
      "Iteration:      1,   Func. Count:      5,   Neg. LLF: 7334798.255945578\n",
      "Iteration:      2,   Func. Count:     11,   Neg. LLF: -697.6209943392456\n",
      "Optimization terminated successfully    (Exit mode 0)\n",
      "            Current function value: -697.6209943317531\n",
      "            Iterations: 6\n",
      "            Function evaluations: 11\n",
      "            Gradient evaluations: 2\n",
      "Iteration:      1,   Func. Count:      5,   Neg. LLF: 6730712.147932139\n",
      "Iteration:      2,   Func. Count:     12,   Neg. LLF: 66.6608821584719\n",
      "Iteration:      3,   Func. Count:     21,   Neg. LLF: -651.1042057815349\n",
      "Iteration:      4,   Func. Count:     28,   Neg. LLF: -661.7847301614318\n",
      "Iteration:      5,   Func. Count:     33,   Neg. LLF: -693.5699182766039\n",
      "Iteration:      6,   Func. Count:     38,   Neg. LLF: -702.1688891135552\n",
      "Iteration:      7,   Func. Count:     43,   Neg. LLF: -702.2421777037339\n",
      "Iteration:      8,   Func. Count:     48,   Neg. LLF: -702.2437165113522\n",
      "Optimization terminated successfully    (Exit mode 0)\n",
      "            Current function value: -702.2437324323059\n",
      "            Iterations: 9\n",
      "            Function evaluations: 58\n",
      "            Gradient evaluations: 8\n",
      "Iteration:      1,   Func. Count:      5,   Neg. LLF: -503.00838294339565\n",
      "Iteration:      2,   Func. Count:     13,   Neg. LLF: -704.3638508707535\n",
      "Optimization terminated successfully    (Exit mode 0)\n",
      "            Current function value: -704.3638521839132\n",
      "            Iterations: 6\n",
      "            Function evaluations: 13\n",
      "            Gradient evaluations: 2\n",
      "Iteration:      1,   Func. Count:      5,   Neg. LLF: -505.0867812511087\n",
      "Iteration:      2,   Func. Count:     14,   Neg. LLF: -684.6099153725332\n",
      "Iteration:      3,   Func. Count:     22,   Neg. LLF: -445.62322854255814\n",
      "Iteration:      4,   Func. Count:     28,   Neg. LLF: 13414.999165548463\n",
      "Iteration:      5,   Func. Count:     33,   Neg. LLF: -546.0928323677153\n",
      "Iteration:      6,   Func. Count:     38,   Neg. LLF: -704.383371547092\n",
      "Iteration:      7,   Func. Count:     43,   Neg. LLF: -646.2535617416994\n",
      "Iteration:      8,   Func. Count:     49,   Neg. LLF: -708.4024764540623\n",
      "Iteration:      9,   Func. Count:     53,   Neg. LLF: -708.4025047975463\n",
      "Iteration:     10,   Func. Count:     56,   Neg. LLF: -708.4025047973859\n",
      "Optimization terminated successfully    (Exit mode 0)\n",
      "            Current function value: -708.4025047975463\n",
      "            Iterations: 10\n",
      "            Function evaluations: 56\n",
      "            Gradient evaluations: 10\n",
      "Iteration:      1,   Func. Count:      5,   Neg. LLF: -507.5184126725187\n",
      "Iteration:      2,   Func. Count:     13,   Neg. LLF: -710.4748105252994\n",
      "Optimization terminated successfully    (Exit mode 0)\n",
      "            Current function value: -710.4748118282412\n",
      "            Iterations: 6\n",
      "            Function evaluations: 13\n",
      "            Gradient evaluations: 2\n",
      "Iteration:      1,   Func. Count:      5,   Neg. LLF: 20746749.569947205\n",
      "Iteration:      2,   Func. Count:     12,   Neg. LLF: -652.2879313763474\n",
      "Iteration:      3,   Func. Count:     18,   Neg. LLF: -655.4924986678598\n",
      "Iteration:      4,   Func. Count:     25,   Neg. LLF: -500.6848778207102\n",
      "Iteration:      5,   Func. Count:     35,   Neg. LLF: 126182473.47766419\n",
      "Iteration:      6,   Func. Count:     41,   Neg. LLF: -509.88197803496155\n",
      "Iteration:      7,   Func. Count:     50,   Neg. LLF: -714.5106858361663\n",
      "Optimization terminated successfully    (Exit mode 0)\n",
      "            Current function value: -714.5106866310188\n",
      "            Iterations: 11\n",
      "            Function evaluations: 50\n",
      "            Gradient evaluations: 7\n",
      "Iteration:      1,   Func. Count:      5,   Neg. LLF: 10520394.632894486\n",
      "Iteration:      2,   Func. Count:     12,   Neg. LLF: -653.2804633297317\n",
      "Iteration:      3,   Func. Count:     18,   Neg. LLF: -503.1248046114825\n",
      "Iteration:      4,   Func. Count:     28,   Neg. LLF: 126183981.00849763\n",
      "Iteration:      5,   Func. Count:     34,   Neg. LLF: -512.358530326481\n",
      "Iteration:      6,   Func. Count:     43,   Neg. LLF: -717.9880020130588\n",
      "Optimization terminated successfully    (Exit mode 0)\n",
      "            Current function value: -717.9880028006951\n",
      "            Iterations: 10\n",
      "            Function evaluations: 43\n",
      "            Gradient evaluations: 6\n",
      "Iteration:      1,   Func. Count:      5,   Neg. LLF: 4641665.259138507\n",
      "Iteration:      2,   Func. Count:     12,   Neg. LLF: 69.19819218511387\n",
      "Iteration:      3,   Func. Count:     21,   Neg. LLF: -668.7822973877046\n",
      "Iteration:      4,   Func. Count:     28,   Neg. LLF: -678.8268812437886\n",
      "Iteration:      5,   Func. Count:     33,   Neg. LLF: -711.6338294444715\n",
      "Iteration:      6,   Func. Count:     38,   Neg. LLF: -720.8429048541027\n",
      "Iteration:      7,   Func. Count:     43,   Neg. LLF: -721.1035650643123\n",
      "Iteration:      8,   Func. Count:     48,   Neg. LLF: -721.1072157042743\n",
      "Iteration:      9,   Func. Count:     52,   Neg. LLF: -721.1072292739078\n",
      "Iteration:     10,   Func. Count:     55,   Neg. LLF: -721.1072292739066\n",
      "Optimization terminated successfully    (Exit mode 0)\n",
      "            Current function value: -721.1072292739078\n",
      "            Iterations: 11\n",
      "            Function evaluations: 55\n",
      "            Gradient evaluations: 10\n",
      "Iteration:      1,   Func. Count:      5,   Neg. LLF: 14454479.013718545\n",
      "Iteration:      2,   Func. Count:     12,   Neg. LLF: -662.1986471561214\n",
      "Iteration:      3,   Func. Count:     18,   Neg. LLF: -507.4122980269914\n",
      "Iteration:      4,   Func. Count:     28,   Neg. LLF: -644.0747679134438\n",
      "Iteration:      5,   Func. Count:     35,   Neg. LLF: -723.2633977212427\n",
      "Optimization terminated successfully    (Exit mode 0)\n",
      "            Current function value: -723.2633989772022\n",
      "            Iterations: 9\n",
      "            Function evaluations: 35\n",
      "            Gradient evaluations: 5\n",
      "Iteration:      1,   Func. Count:      5,   Neg. LLF: 9178812.077637043\n",
      "Iteration:      2,   Func. Count:     12,   Neg. LLF: 70.50443589772931\n",
      "Iteration:      3,   Func. Count:     21,   Neg. LLF: -674.7039613609959\n",
      "Iteration:      4,   Func. Count:     28,   Neg. LLF: -685.2233804526232\n",
      "Iteration:      5,   Func. Count:     33,   Neg. LLF: -717.0639185886321\n",
      "Iteration:      6,   Func. Count:     38,   Neg. LLF: -726.5301842052895\n",
      "Iteration:      7,   Func. Count:     43,   Neg. LLF: -726.597888198042\n",
      "Iteration:      8,   Func. Count:     48,   Neg. LLF: -726.62524794108\n",
      "Iteration:      9,   Func. Count:     53,   Neg. LLF: -726.6252564735018\n",
      "Optimization terminated successfully    (Exit mode 0)\n",
      "            Current function value: -726.6252791069537\n",
      "            Iterations: 10\n",
      "            Function evaluations: 57\n",
      "            Gradient evaluations: 9\n",
      "Iteration:      1,   Func. Count:      5,   Neg. LLF: 4544590.92171364\n",
      "Iteration:      2,   Func. Count:     12,   Neg. LLF: -521.0279713379742\n",
      "Iteration:      3,   Func. Count:     21,   Neg. LLF: -729.0237793005889\n",
      "Optimization terminated successfully    (Exit mode 0)\n",
      "            Current function value: -729.0237803761308\n",
      "            Iterations: 7\n",
      "            Function evaluations: 21\n",
      "            Gradient evaluations: 3\n",
      "Iteration:      1,   Func. Count:      5,   Neg. LLF: 3650723.0574108083\n",
      "Iteration:      2,   Func. Count:     12,   Neg. LLF: -522.6869200892155\n",
      "Iteration:      3,   Func. Count:     21,   Neg. LLF: -731.0300009830823\n",
      "Optimization terminated successfully    (Exit mode 0)\n",
      "            Current function value: -731.0300021020614\n",
      "            Iterations: 7\n",
      "            Function evaluations: 21\n",
      "            Gradient evaluations: 3\n",
      "Iteration:      1,   Func. Count:      5,   Neg. LLF: -525.0761343208351\n",
      "Iteration:      2,   Func. Count:     13,   Neg. LLF: -734.0135603750208\n",
      "Optimization terminated successfully    (Exit mode 0)\n",
      "            Current function value: -734.0135617716701\n",
      "            Iterations: 6\n",
      "            Function evaluations: 13\n",
      "            Gradient evaluations: 2\n",
      "Iteration:      1,   Func. Count:      5,   Neg. LLF: -527.5456462945514\n",
      "Iteration:      2,   Func. Count:     14,   Neg. LLF: -722.3737537135963\n",
      "Iteration:      3,   Func. Count:     20,   Neg. LLF: -681.8161726260296\n",
      "Iteration:      4,   Func. Count:     27,   Neg. LLF: -694.720495636902\n",
      "Iteration:      5,   Func. Count:     32,   Neg. LLF: -732.6711557403487\n",
      "Iteration:      6,   Func. Count:     37,   Neg. LLF: -738.6979895952618\n",
      "Iteration:      7,   Func. Count:     41,   Neg. LLF: -738.7079735763115\n",
      "Iteration:      8,   Func. Count:     45,   Neg. LLF: -738.708106974996\n",
      "Iteration:      9,   Func. Count:     49,   Neg. LLF: -738.7080952455229\n",
      "Optimization terminated successfully    (Exit mode 0)\n",
      "            Current function value: -738.708106976816\n",
      "            Iterations: 9\n",
      "            Function evaluations: 59\n",
      "            Gradient evaluations: 9\n",
      "Iteration:      1,   Func. Count:      5,   Neg. LLF: -530.0194355374763\n",
      "Iteration:      2,   Func. Count:     13,   Neg. LLF: -740.8083123698927\n",
      "Optimization terminated successfully    (Exit mode 0)\n",
      "            Current function value: -740.8083136782241\n",
      "            Iterations: 6\n",
      "            Function evaluations: 13\n",
      "            Gradient evaluations: 2\n",
      "Iteration:      1,   Func. Count:      5,   Neg. LLF: 5565319.955875712\n",
      "Iteration:      2,   Func. Count:     12,   Neg. LLF: -675.9492994295122\n",
      "Iteration:      3,   Func. Count:     18,   Neg. LLF: -682.1084664633972\n",
      "Iteration:      4,   Func. Count:     25,   Neg. LLF: -682.1084664633972\n",
      "Optimization terminated successfully    (Exit mode 0)\n",
      "            Current function value: -744.2940289181615\n",
      "            Iterations: 5\n",
      "            Function evaluations: 35\n",
      "            Gradient evaluations: 4\n",
      "Iteration:      1,   Func. Count:      5,   Neg. LLF: 77303232.65379037\n",
      "Iteration:      2,   Func. Count:     12,   Neg. LLF: -666.314211490415\n",
      "Iteration:      3,   Func. Count:     18,   Neg. LLF: -684.7953344129347\n",
      "Iteration:      4,   Func. Count:     24,   Neg. LLF: -684.7953344129347\n",
      "Optimization terminated successfully    (Exit mode 0)\n",
      "            Current function value: -747.4989824374334\n",
      "            Iterations: 5\n",
      "            Function evaluations: 34\n",
      "            Gradient evaluations: 4\n",
      "Iteration:      1,   Func. Count:      5,   Neg. LLF: 27415337.693749372\n",
      "Iteration:      2,   Func. Count:     12,   Neg. LLF: -537.1152372876413\n",
      "Iteration:      3,   Func. Count:     21,   Neg. LLF: -750.9219001985175\n",
      "Optimization terminated successfully    (Exit mode 0)\n",
      "            Current function value: -750.9219012482336\n",
      "            Iterations: 7\n",
      "            Function evaluations: 21\n",
      "            Gradient evaluations: 3\n",
      "Iteration:      1,   Func. Count:      5,   Neg. LLF: 4933143.8318908755\n",
      "Iteration:      2,   Func. Count:     12,   Neg. LLF: -688.4646028675415\n",
      "Iteration:      3,   Func. Count:     18,   Neg. LLF: -689.8450681663426\n",
      "Iteration:      4,   Func. Count:     25,   Neg. LLF: -689.8450681663426\n",
      "Optimization terminated successfully    (Exit mode 0)\n",
      "            Current function value: -752.3129293317671\n",
      "            Iterations: 5\n",
      "            Function evaluations: 35\n",
      "            Gradient evaluations: 4\n",
      "Iteration:      1,   Func. Count:      5,   Neg. LLF: -540.5734126097706\n",
      "Iteration:      2,   Func. Count:     13,   Neg. LLF: -754.8160300497584\n",
      "Optimization terminated successfully    (Exit mode 0)\n",
      "            Current function value: -754.8160315654145\n",
      "            Iterations: 6\n",
      "            Function evaluations: 13\n",
      "            Gradient evaluations: 2\n",
      "Iteration:      1,   Func. Count:      5,   Neg. LLF: 42040463.93208945\n",
      "Iteration:      2,   Func. Count:     12,   Neg. LLF: -670.5721392761992\n",
      "Iteration:      3,   Func. Count:     18,   Neg. LLF: -695.090712840375\n",
      "Iteration:      4,   Func. Count:     24,   Neg. LLF: -695.090712840375\n",
      "Iteration:      5,   Func. Count:     33,   Neg. LLF: -533.2831096224388\n",
      "Iteration:      6,   Func. Count:     43,   Neg. LLF: -678.2209542696366\n",
      "Iteration:      7,   Func. Count:     50,   Neg. LLF: -758.2992349069265\n",
      "Optimization terminated successfully    (Exit mode 0)\n",
      "            Current function value: -758.299236309186\n",
      "            Iterations: 11\n",
      "            Function evaluations: 50\n",
      "            Gradient evaluations: 7\n"
     ]
    },
    {
     "name": "stderr",
     "output_type": "stream",
     "text": [
      "/home/vsviyazov/.conda/envs/fuzzy-volatility/lib/python3.9/site-packages/arch/univariate/base.py:309: DataScaleWarning: y is poorly scaled, which may affect convergence of the optimizer when\n",
      "estimating the model parameters. The scale of y is 0.0002726. Parameter\n",
      "estimation work better when this value is between 1 and 1000. The recommended\n",
      "rescaling is 100 * y.\n",
      "\n",
      "This warning can be disabled by either rescaling y before initializing the\n",
      "model or by setting rescale=False.\n",
      "\n",
      "  warnings.warn(\n",
      "/home/vsviyazov/.conda/envs/fuzzy-volatility/lib/python3.9/site-packages/arch/univariate/base.py:309: DataScaleWarning: y is poorly scaled, which may affect convergence of the optimizer when\n",
      "estimating the model parameters. The scale of y is 0.0002716. Parameter\n",
      "estimation work better when this value is between 1 and 1000. The recommended\n",
      "rescaling is 100 * y.\n",
      "\n",
      "This warning can be disabled by either rescaling y before initializing the\n",
      "model or by setting rescale=False.\n",
      "\n",
      "  warnings.warn(\n",
      "/home/vsviyazov/.conda/envs/fuzzy-volatility/lib/python3.9/site-packages/arch/univariate/base.py:309: DataScaleWarning: y is poorly scaled, which may affect convergence of the optimizer when\n",
      "estimating the model parameters. The scale of y is 0.0002706. Parameter\n",
      "estimation work better when this value is between 1 and 1000. The recommended\n",
      "rescaling is 100 * y.\n",
      "\n",
      "This warning can be disabled by either rescaling y before initializing the\n",
      "model or by setting rescale=False.\n",
      "\n",
      "  warnings.warn(\n",
      "/home/vsviyazov/.conda/envs/fuzzy-volatility/lib/python3.9/site-packages/arch/univariate/base.py:309: DataScaleWarning: y is poorly scaled, which may affect convergence of the optimizer when\n",
      "estimating the model parameters. The scale of y is 0.0002696. Parameter\n",
      "estimation work better when this value is between 1 and 1000. The recommended\n",
      "rescaling is 100 * y.\n",
      "\n",
      "This warning can be disabled by either rescaling y before initializing the\n",
      "model or by setting rescale=False.\n",
      "\n",
      "  warnings.warn(\n",
      "/home/vsviyazov/.conda/envs/fuzzy-volatility/lib/python3.9/site-packages/arch/univariate/base.py:309: DataScaleWarning: y is poorly scaled, which may affect convergence of the optimizer when\n",
      "estimating the model parameters. The scale of y is 0.000269. Parameter\n",
      "estimation work better when this value is between 1 and 1000. The recommended\n",
      "rescaling is 100 * y.\n",
      "\n",
      "This warning can be disabled by either rescaling y before initializing the\n",
      "model or by setting rescale=False.\n",
      "\n",
      "  warnings.warn(\n",
      "/home/vsviyazov/.conda/envs/fuzzy-volatility/lib/python3.9/site-packages/arch/univariate/base.py:309: DataScaleWarning: y is poorly scaled, which may affect convergence of the optimizer when\n",
      "estimating the model parameters. The scale of y is 0.0002684. Parameter\n",
      "estimation work better when this value is between 1 and 1000. The recommended\n",
      "rescaling is 100 * y.\n",
      "\n",
      "This warning can be disabled by either rescaling y before initializing the\n",
      "model or by setting rescale=False.\n",
      "\n",
      "  warnings.warn(\n",
      "/home/vsviyazov/.conda/envs/fuzzy-volatility/lib/python3.9/site-packages/arch/univariate/base.py:309: DataScaleWarning: y is poorly scaled, which may affect convergence of the optimizer when\n",
      "estimating the model parameters. The scale of y is 0.0002694. Parameter\n",
      "estimation work better when this value is between 1 and 1000. The recommended\n",
      "rescaling is 100 * y.\n",
      "\n",
      "This warning can be disabled by either rescaling y before initializing the\n",
      "model or by setting rescale=False.\n",
      "\n",
      "  warnings.warn(\n",
      "/home/vsviyazov/.conda/envs/fuzzy-volatility/lib/python3.9/site-packages/arch/univariate/base.py:309: DataScaleWarning: y is poorly scaled, which may affect convergence of the optimizer when\n",
      "estimating the model parameters. The scale of y is 0.0002695. Parameter\n",
      "estimation work better when this value is between 1 and 1000. The recommended\n",
      "rescaling is 100 * y.\n",
      "\n",
      "This warning can be disabled by either rescaling y before initializing the\n",
      "model or by setting rescale=False.\n",
      "\n",
      "  warnings.warn(\n",
      "/home/vsviyazov/.conda/envs/fuzzy-volatility/lib/python3.9/site-packages/arch/univariate/base.py:309: DataScaleWarning: y is poorly scaled, which may affect convergence of the optimizer when\n",
      "estimating the model parameters. The scale of y is 0.0002686. Parameter\n",
      "estimation work better when this value is between 1 and 1000. The recommended\n",
      "rescaling is 100 * y.\n",
      "\n",
      "This warning can be disabled by either rescaling y before initializing the\n",
      "model or by setting rescale=False.\n",
      "\n",
      "  warnings.warn(\n"
     ]
    }
   ],
   "source": [
    "retraining_garch_forecasts = calculate_retraining_garch_forecasts(train, test,\n",
    "                                                                  mean=garch_mean,\n",
    "                                                                  vol=garch_vol,\n",
    "                                                                  p=p,\n",
    "                                                                  q=q,\n",
    "                                                                  dist=garch_dist)"
   ]
  },
  {
   "cell_type": "code",
   "execution_count": 20,
   "id": "4d95ffba",
   "metadata": {},
   "outputs": [
    {
     "data": {
      "text/plain": [
       "{'mse': 2.2999998015909406e-08,\n",
       " 'rmse': 0.00015165750233967789,\n",
       " 'mape': 0.8044550481851159}"
      ]
     },
     "execution_count": 20,
     "metadata": {},
     "output_type": "execute_result"
    }
   ],
   "source": [
    "_mse = mean_squared_error(retraining_garch_forecasts, test ** 2, squared=True)\n",
    "_rmse = mean_squared_error(retraining_garch_forecasts, test ** 2, squared=False)\n",
    "_mape = mean_absolute_percentage_error(retraining_garch_forecasts, test ** 2)\n",
    "\n",
    "retr_garch_errors = {'mse': _mse, 'rmse': _rmse, 'mape': _mape}\n",
    "retr_garch_errors"
   ]
  },
  {
   "cell_type": "code",
   "execution_count": null,
   "id": "818b9301",
   "metadata": {},
   "outputs": [],
   "source": [
    "result['Vanilla GARCH w/r errors'] = retr_garch_errors"
   ]
  },
  {
   "cell_type": "markdown",
   "id": "e526d7ea-67f3-4399-a634-96d2757cea18",
   "metadata": {
    "tags": []
   },
   "source": [
    "# Dumping"
   ]
  },
  {
   "cell_type": "markdown",
   "id": "e6558555-46da-4970-91b4-45b370b221d6",
   "metadata": {},
   "source": [
    "## into a single file"
   ]
  },
  {
   "cell_type": "code",
   "execution_count": null,
   "id": "25d52ab6-9aa2-4188-a2bb-673722c01560",
   "metadata": {},
   "outputs": [],
   "source": [
    "cur_time = str(pd.Timestamp.today().floor('s')).replace(':', '-')\n",
    "print(cur_time)\n",
    "\n",
    "with open(f'{research_results_folder}/fitting_consequent_params_seasonal_result_{cur_time}.pkl', 'wb') as file:\n",
    "    pickle.dump(result, file)"
   ]
  },
  {
   "cell_type": "markdown",
   "id": "bbbac373-0dec-4349-819b-7303172144d1",
   "metadata": {},
   "source": [
    "## into a table"
   ]
  },
  {
   "cell_type": "code",
   "execution_count": null,
   "id": "cda6d726-a3c7-40f6-89e0-3fab6c41ed87",
   "metadata": {},
   "outputs": [],
   "source": [
    "# summary = pd.DataFrame(columns=['Time',\n",
    "#                                 'p', 'q',\n",
    "#                                 'Start date', 'Train size', 'Test size',\n",
    "#                                 '# clusters', 'Centers', 'Variances',\n",
    "#                                 'MSE', 'Vanilla GARCH MSE (no retraining)', 'Vanilla GARCH MSE (w/ retraining)'])"
   ]
  },
  {
   "cell_type": "code",
   "execution_count": null,
   "id": "e900eaa1-9940-4e70-9193-91a8e3b0631d",
   "metadata": {},
   "outputs": [],
   "source": [
    "summary_pkl_loc = f'{research_results_folder}/{summary_table_name}.pkl'\n",
    "\n",
    "summary = pd.read_pickle(summary_pkl_loc)\n",
    "\n",
    "new_entries = []\n",
    "\n",
    "_garch_nr_mse = result['Vanilla GARCH n/r errors']['mse']\n",
    "_garch_wr_mse = result['Vanilla GARCH w/r errors']['mse']\n",
    "\n",
    "for i in range(len(result['fvms'])):\n",
    "    _antecedent_params = result['antecedent_params_set'][i]\n",
    "    _centers = _antecedent_params['centers']\n",
    "    _vars = _antecedent_params['variances']\n",
    "    _n_clusters = _antecedent_params['n_clusters']\n",
    "    \n",
    "    _mse = result['mses'][i]\n",
    "    \n",
    "    new_entry = {\n",
    "        'Time': cur_time,\n",
    "        'p': p,\n",
    "        'q': q,\n",
    "        'Start date': train.index.min(),\n",
    "        'Train size': n_train,\n",
    "        'Test size': n_test,\n",
    "        '# clusters': _n_clusters,\n",
    "        'Centers': _centers,\n",
    "        'Variances': _vars,\n",
    "        'MSE': _mse,\n",
    "        'Vanilla GARCH MSE (no retraining)': _garch_nr_mse,\n",
    "        'Vanilla GARCH MSE (w/ retraining)': _garch_wr_mse\n",
    "    }\n",
    "    \n",
    "    new_entries.append(new_entry)\n",
    "\n",
    "summary = summary.append(new_entries, ignore_index=True, verify_integrity=False, sort=False).copy()\n",
    "\n",
    "summary.to_pickle(f'{research_results_folder}/{summary_table_name}.pkl')\n",
    "summary.to_excel(f'{research_results_folder}/{summary_table_name}.xlsx')"
   ]
  },
  {
   "cell_type": "code",
   "execution_count": null,
   "id": "035e9729-bef4-4b16-a82e-c2c517f762fc",
   "metadata": {},
   "outputs": [],
   "source": [
    "# _ini = pd.read_excel(f'files/summary_table_ini_2022-02-05.xlsx')"
   ]
  },
  {
   "cell_type": "markdown",
   "id": "a67513c8-fcfc-4170-9c59-d4b62b93edc3",
   "metadata": {},
   "source": [
    "# Looking at results"
   ]
  },
  {
   "cell_type": "code",
   "execution_count": null,
   "id": "d62b994f-93d7-4234-966a-5133cde97097",
   "metadata": {},
   "outputs": [],
   "source": [
    "fvms = result['fvms']"
   ]
  },
  {
   "cell_type": "code",
   "execution_count": null,
   "id": "8ad228c9-5182-4138-b50e-abdd291918cd",
   "metadata": {},
   "outputs": [],
   "source": [
    "result['mses']"
   ]
  },
  {
   "cell_type": "code",
   "execution_count": null,
   "id": "15977f4a-9ea5-47b7-a177-15ae6657956e",
   "metadata": {},
   "outputs": [],
   "source": [
    "plt.plot(fvms[0].h[:-1], label='forecast')\n",
    "plt.plot(input_cut.values ** 2, label='actual values')\n",
    "\n",
    "plt.legend()\n",
    "plt.grid()\n",
    "plt.show()"
   ]
  },
  {
   "cell_type": "code",
   "execution_count": null,
   "id": "575abc91-f2d3-4965-a6fa-da1265dc9069",
   "metadata": {},
   "outputs": [],
   "source": [
    "(fvms[0].hist_output ** .5).plot(label='forecast', figsize=(15, 8))\n",
    "pd.Series(simple_garch_forecasts ** .5, index=fvms[0].hist_output.index).plot(label='vanilla GARCH(1, 1) (no retraining)')\n",
    "input_cut.plot(label='actual values')\n",
    "\n",
    "plt.legend()\n",
    "plt.grid()\n",
    "plt.show()"
   ]
  },
  {
   "cell_type": "code",
   "execution_count": null,
   "id": "2d73c9e2-81bc-45c4-83f2-360f71d651de",
   "metadata": {},
   "outputs": [],
   "source": [
    "fvms[0].hist_output.plot(label='forecast', figsize=(15, 8))\n",
    "pd.Series(simple_garch_forecasts, index=fvms[0].hist_output.index).plot(label='vanilla GARCH(1, 1) (no retraining)')\n",
    "(input_cut ** 2).plot(label='actual values')\n",
    "\n",
    "plt.legend()\n",
    "plt.grid()\n",
    "plt.show()"
   ]
  }
 ],
 "metadata": {
  "kernelspec": {
   "display_name": "Python [.conda-fuzzy-volatility]",
   "language": "python",
   "name": "conda-env-.conda-fuzzy-volatility-py"
  },
  "language_info": {
   "codemirror_mode": {
    "name": "ipython",
    "version": 3
   },
   "file_extension": ".py",
   "mimetype": "text/x-python",
   "name": "python",
   "nbconvert_exporter": "python",
   "pygments_lexer": "ipython3",
   "version": "3.9.7"
  }
 },
 "nbformat": 4,
 "nbformat_minor": 5
}
