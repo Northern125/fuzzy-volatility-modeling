{
 "cells": [
  {
   "cell_type": "code",
   "execution_count": 1,
   "id": "dddaf7cd",
   "metadata": {},
   "outputs": [],
   "source": [
    "import logging\n",
    "import numpy as np\n",
    "import pandas as pd\n",
    "from arch import arch_model\n",
    "from random import gauss\n",
    "from random import seed\n",
    "from matplotlib import pyplot as plt\n",
    "import scipy.stats as sts\n",
    "import json\n",
    "from sklearn.metrics import mean_squared_error, mean_absolute_percentage_error\n",
    "from scipy.optimize import least_squares\n",
    "import os"
   ]
  },
  {
   "cell_type": "code",
   "execution_count": 2,
   "id": "dfddf51c",
   "metadata": {},
   "outputs": [],
   "source": [
    "os.chdir(os.getcwd() + '/..')"
   ]
  },
  {
   "cell_type": "code",
   "execution_count": 3,
   "id": "cc95b96f",
   "metadata": {},
   "outputs": [],
   "source": [
    "from rules_related import combine_rules_outputs\n",
    "from whole_algorithm import train_model\n",
    "from auxiliary import calc_log_returns, unpack_1d_parameters\n",
    "from multivariate_normal_distribution import LongMultivariateNormal\n",
    "from model import FuzzyVolatilityModel\n",
    "from membership_functions import calc_trapezoidal_membership_degrees\n",
    "# from membership_functions.trapezoidal import _calc_trapezoidal_md_scalar"
   ]
  },
  {
   "cell_type": "code",
   "execution_count": 4,
   "id": "e532cbfa",
   "metadata": {
    "scrolled": true
   },
   "outputs": [],
   "source": [
    "with open('config.json') as file:\n",
    "    config = json.load(file)"
   ]
  },
  {
   "cell_type": "code",
   "execution_count": 5,
   "id": "3393a7b3",
   "metadata": {},
   "outputs": [],
   "source": [
    "files_folder = config['files_folders']['processed']\n",
    "logs_folder = config['files_folders']['logs']"
   ]
  },
  {
   "cell_type": "code",
   "execution_count": 6,
   "id": "e161f378",
   "metadata": {},
   "outputs": [],
   "source": [
    "logging.basicConfig(level=logging.DEBUG,\n",
    "                    filename=f'{logs_folder}/seasonal_testing.log',\n",
    "                    filemode='w',\n",
    "                    format='%(asctime)s,%(msecs)d %(name)s %(levelname)s %(message)s',\n",
    "                    datefmt='%H:%M:%S')"
   ]
  },
  {
   "cell_type": "markdown",
   "id": "c087b95a",
   "metadata": {},
   "source": [
    "# Reading files"
   ]
  },
  {
   "cell_type": "code",
   "execution_count": 7,
   "id": "23c25f6a",
   "metadata": {},
   "outputs": [],
   "source": [
    "rtsi = pd.read_pickle(f'{files_folder}/rtsi.pkl')"
   ]
  },
  {
   "cell_type": "code",
   "execution_count": 8,
   "id": "4e0f5233",
   "metadata": {},
   "outputs": [
    {
     "data": {
      "text/html": [
       "<div>\n",
       "<style scoped>\n",
       "    .dataframe tbody tr th:only-of-type {\n",
       "        vertical-align: middle;\n",
       "    }\n",
       "\n",
       "    .dataframe tbody tr th {\n",
       "        vertical-align: top;\n",
       "    }\n",
       "\n",
       "    .dataframe thead th {\n",
       "        text-align: right;\n",
       "    }\n",
       "</style>\n",
       "<table border=\"1\" class=\"dataframe\">\n",
       "  <thead>\n",
       "    <tr style=\"text-align: right;\">\n",
       "      <th></th>\n",
       "      <th>&lt;OPEN&gt;</th>\n",
       "      <th>&lt;HIGH&gt;</th>\n",
       "      <th>&lt;LOW&gt;</th>\n",
       "      <th>&lt;CLOSE&gt;</th>\n",
       "      <th>&lt;VOL&gt;</th>\n",
       "      <th>return</th>\n",
       "      <th>log return</th>\n",
       "    </tr>\n",
       "    <tr>\n",
       "      <th>&lt;DATE&gt;</th>\n",
       "      <th></th>\n",
       "      <th></th>\n",
       "      <th></th>\n",
       "      <th></th>\n",
       "      <th></th>\n",
       "      <th></th>\n",
       "      <th></th>\n",
       "    </tr>\n",
       "  </thead>\n",
       "  <tbody>\n",
       "    <tr>\n",
       "      <th>2001-02-18</th>\n",
       "      <td>180.10</td>\n",
       "      <td>180.10</td>\n",
       "      <td>180.10</td>\n",
       "      <td>180.10</td>\n",
       "      <td>0</td>\n",
       "      <td>0.000000</td>\n",
       "      <td>0.000000</td>\n",
       "    </tr>\n",
       "    <tr>\n",
       "      <th>2001-02-19</th>\n",
       "      <td>180.10</td>\n",
       "      <td>181.21</td>\n",
       "      <td>176.67</td>\n",
       "      <td>177.29</td>\n",
       "      <td>0</td>\n",
       "      <td>-0.015602</td>\n",
       "      <td>-0.015725</td>\n",
       "    </tr>\n",
       "    <tr>\n",
       "      <th>2001-02-20</th>\n",
       "      <td>177.29</td>\n",
       "      <td>179.90</td>\n",
       "      <td>175.28</td>\n",
       "      <td>176.45</td>\n",
       "      <td>0</td>\n",
       "      <td>-0.004738</td>\n",
       "      <td>-0.004749</td>\n",
       "    </tr>\n",
       "    <tr>\n",
       "      <th>2001-02-21</th>\n",
       "      <td>176.45</td>\n",
       "      <td>176.45</td>\n",
       "      <td>161.12</td>\n",
       "      <td>162.39</td>\n",
       "      <td>0</td>\n",
       "      <td>-0.079683</td>\n",
       "      <td>-0.083037</td>\n",
       "    </tr>\n",
       "    <tr>\n",
       "      <th>2001-02-22</th>\n",
       "      <td>162.39</td>\n",
       "      <td>168.35</td>\n",
       "      <td>162.39</td>\n",
       "      <td>168.31</td>\n",
       "      <td>0</td>\n",
       "      <td>0.036455</td>\n",
       "      <td>0.035807</td>\n",
       "    </tr>\n",
       "    <tr>\n",
       "      <th>...</th>\n",
       "      <td>...</td>\n",
       "      <td>...</td>\n",
       "      <td>...</td>\n",
       "      <td>...</td>\n",
       "      <td>...</td>\n",
       "      <td>...</td>\n",
       "      <td>...</td>\n",
       "    </tr>\n",
       "    <tr>\n",
       "      <th>2021-10-11</th>\n",
       "      <td>1871.73</td>\n",
       "      <td>1883.71</td>\n",
       "      <td>1867.58</td>\n",
       "      <td>1882.43</td>\n",
       "      <td>1769145502</td>\n",
       "      <td>0.011537</td>\n",
       "      <td>0.011471</td>\n",
       "    </tr>\n",
       "    <tr>\n",
       "      <th>2021-10-12</th>\n",
       "      <td>1867.15</td>\n",
       "      <td>1876.79</td>\n",
       "      <td>1860.64</td>\n",
       "      <td>1869.94</td>\n",
       "      <td>1386130631</td>\n",
       "      <td>-0.006635</td>\n",
       "      <td>-0.006657</td>\n",
       "    </tr>\n",
       "    <tr>\n",
       "      <th>2021-10-13</th>\n",
       "      <td>1869.05</td>\n",
       "      <td>1869.05</td>\n",
       "      <td>1835.80</td>\n",
       "      <td>1855.11</td>\n",
       "      <td>1830447018</td>\n",
       "      <td>-0.007931</td>\n",
       "      <td>-0.007962</td>\n",
       "    </tr>\n",
       "    <tr>\n",
       "      <th>2021-10-14</th>\n",
       "      <td>1875.38</td>\n",
       "      <td>1890.46</td>\n",
       "      <td>1873.37</td>\n",
       "      <td>1875.97</td>\n",
       "      <td>1495256910</td>\n",
       "      <td>0.011245</td>\n",
       "      <td>0.011182</td>\n",
       "    </tr>\n",
       "    <tr>\n",
       "      <th>2021-10-15</th>\n",
       "      <td>1888.52</td>\n",
       "      <td>1893.71</td>\n",
       "      <td>1878.47</td>\n",
       "      <td>1891.56</td>\n",
       "      <td>1305644791</td>\n",
       "      <td>0.008310</td>\n",
       "      <td>0.008276</td>\n",
       "    </tr>\n",
       "  </tbody>\n",
       "</table>\n",
       "<p>5174 rows × 7 columns</p>\n",
       "</div>"
      ],
      "text/plain": [
       "             <OPEN>   <HIGH>    <LOW>  <CLOSE>       <VOL>    return  \\\n",
       "<DATE>                                                                 \n",
       "2001-02-18   180.10   180.10   180.10   180.10           0  0.000000   \n",
       "2001-02-19   180.10   181.21   176.67   177.29           0 -0.015602   \n",
       "2001-02-20   177.29   179.90   175.28   176.45           0 -0.004738   \n",
       "2001-02-21   176.45   176.45   161.12   162.39           0 -0.079683   \n",
       "2001-02-22   162.39   168.35   162.39   168.31           0  0.036455   \n",
       "...             ...      ...      ...      ...         ...       ...   \n",
       "2021-10-11  1871.73  1883.71  1867.58  1882.43  1769145502  0.011537   \n",
       "2021-10-12  1867.15  1876.79  1860.64  1869.94  1386130631 -0.006635   \n",
       "2021-10-13  1869.05  1869.05  1835.80  1855.11  1830447018 -0.007931   \n",
       "2021-10-14  1875.38  1890.46  1873.37  1875.97  1495256910  0.011245   \n",
       "2021-10-15  1888.52  1893.71  1878.47  1891.56  1305644791  0.008310   \n",
       "\n",
       "            log return  \n",
       "<DATE>                  \n",
       "2001-02-18    0.000000  \n",
       "2001-02-19   -0.015725  \n",
       "2001-02-20   -0.004749  \n",
       "2001-02-21   -0.083037  \n",
       "2001-02-22    0.035807  \n",
       "...                ...  \n",
       "2021-10-11    0.011471  \n",
       "2021-10-12   -0.006657  \n",
       "2021-10-13   -0.007962  \n",
       "2021-10-14    0.011182  \n",
       "2021-10-15    0.008276  \n",
       "\n",
       "[5174 rows x 7 columns]"
      ]
     },
     "execution_count": 8,
     "metadata": {},
     "output_type": "execute_result"
    }
   ],
   "source": [
    "rtsi"
   ]
  },
  {
   "cell_type": "code",
   "execution_count": 9,
   "id": "e13f81ab",
   "metadata": {},
   "outputs": [
    {
     "data": {
      "image/png": "[encoded data removed]",
      "text/plain": [
       "<Figure size 864x504 with 1 Axes>"
      ]
     },
     "metadata": {
      "needs_background": "light"
     },
     "output_type": "display_data"
    }
   ],
   "source": [
    "rtsi['log return'].plot(figsize=(12, 7))\n",
    "\n",
    "plt.grid()\n",
    "plt.show()"
   ]
  },
  {
   "cell_type": "code",
   "execution_count": 10,
   "id": "4c70b3e0",
   "metadata": {},
   "outputs": [
    {
     "data": {
      "text/plain": [
       "count    5174.000000\n",
       "mean        0.000455\n",
       "std         0.020327\n",
       "min        -0.211994\n",
       "25%        -0.008822\n",
       "50%         0.001318\n",
       "75%         0.010414\n",
       "max         0.202039\n",
       "Name: log return, dtype: float64"
      ]
     },
     "execution_count": 10,
     "metadata": {},
     "output_type": "execute_result"
    }
   ],
   "source": [
    "rtsi['log return'].describe()"
   ]
  },
  {
   "cell_type": "code",
   "execution_count": 11,
   "id": "975e5ea5",
   "metadata": {},
   "outputs": [],
   "source": [
    "rtsi['day of week'] = rtsi.index.dayofweek + 1"
   ]
  },
  {
   "cell_type": "code",
   "execution_count": 12,
   "id": "5f149fd8",
   "metadata": {},
   "outputs": [
    {
     "data": {
      "text/plain": [
       "<DATE>\n",
       "2001-02-18    7\n",
       "2001-02-19    1\n",
       "2001-02-20    2\n",
       "2001-02-21    3\n",
       "2001-02-22    4\n",
       "             ..\n",
       "2021-10-11    1\n",
       "2021-10-12    2\n",
       "2021-10-13    3\n",
       "2021-10-14    4\n",
       "2021-10-15    5\n",
       "Name: day of week, Length: 5174, dtype: int64"
      ]
     },
     "execution_count": 12,
     "metadata": {},
     "output_type": "execute_result"
    }
   ],
   "source": [
    "rtsi['day of week']"
   ]
  },
  {
   "cell_type": "code",
   "execution_count": 13,
   "id": "85c2331c",
   "metadata": {},
   "outputs": [
    {
     "data": {
      "text/plain": [
       "array([0., 0.])"
      ]
     },
     "execution_count": 13,
     "metadata": {},
     "output_type": "execute_result"
    }
   ],
   "source": [
    "# rtsi['test triangular cluster memb'] = \\\n",
    "calc_trapezoidal_membership_degrees(rtsi['day of week'].values,\n",
    "                                    a=[0, 2],\n",
    "                                    b=[2, 4],\n",
    "                                    c=[2, 4],\n",
    "                                    d=[4, 6])"
   ]
  },
  {
   "cell_type": "markdown",
   "id": "c2c33a08",
   "metadata": {},
   "source": [
    "# Setting data & parameters"
   ]
  },
  {
   "cell_type": "code",
   "execution_count": 14,
   "id": "93b84c0d",
   "metadata": {},
   "outputs": [],
   "source": [
    "rescale_factor = 100"
   ]
  },
  {
   "cell_type": "code",
   "execution_count": 15,
   "id": "8d916844",
   "metadata": {},
   "outputs": [],
   "source": [
    "start_date = '2010-01-01'"
   ]
  },
  {
   "cell_type": "code",
   "execution_count": 16,
   "id": "bb8043ac",
   "metadata": {},
   "outputs": [],
   "source": [
    "input_data = rtsi['log return'].loc[start_date:].copy() * rescale_factor"
   ]
  },
  {
   "cell_type": "code",
   "execution_count": 17,
   "id": "1b2f616e",
   "metadata": {},
   "outputs": [
    {
     "data": {
      "image/png": "[encoded data removed]",
      "text/plain": [
       "<Figure size 864x504 with 1 Axes>"
      ]
     },
     "metadata": {
      "needs_background": "light"
     },
     "output_type": "display_data"
    }
   ],
   "source": [
    "input_data.plot(figsize=(12, 7))\n",
    "\n",
    "plt.grid()\n",
    "plt.show()"
   ]
  },
  {
   "cell_type": "code",
   "execution_count": 18,
   "id": "8bacee25",
   "metadata": {},
   "outputs": [
    {
     "data": {
      "text/plain": [
       "count    2965.000000\n",
       "mean        0.009091\n",
       "std         1.772184\n",
       "min       -13.948614\n",
       "25%        -0.867805\n",
       "50%         0.060068\n",
       "75%         0.920911\n",
       "max        13.246192\n",
       "Name: log return, dtype: float64"
      ]
     },
     "execution_count": 18,
     "metadata": {},
     "output_type": "execute_result"
    }
   ],
   "source": [
    "input_data.describe()"
   ]
  },
  {
   "cell_type": "code",
   "execution_count": 19,
   "id": "b196b8a5",
   "metadata": {},
   "outputs": [],
   "source": [
    "n = input_data.shape[0]"
   ]
  },
  {
   "cell_type": "code",
   "execution_count": 20,
   "id": "95949fa0",
   "metadata": {},
   "outputs": [
    {
     "data": {
      "text/plain": [
       "2965"
      ]
     },
     "execution_count": 20,
     "metadata": {},
     "output_type": "execute_result"
    }
   ],
   "source": [
    "n"
   ]
  },
  {
   "cell_type": "code",
   "execution_count": 21,
   "id": "186767da",
   "metadata": {},
   "outputs": [
    {
     "data": {
      "text/plain": [
       "Int64Index([1, 2, 3, 4, 5, 1, 2, 3, 4, 5,\n",
       "            ...\n",
       "            1, 2, 3, 4, 5, 1, 2, 3, 4, 5],\n",
       "           dtype='int64', name='<DATE>', length=2965)"
      ]
     },
     "execution_count": 21,
     "metadata": {},
     "output_type": "execute_result"
    }
   ],
   "source": [
    "input_data.index.dayofweek + 1"
   ]
  },
  {
   "cell_type": "markdown",
   "id": "91887570",
   "metadata": {},
   "source": [
    "## Train / test split"
   ]
  },
  {
   "cell_type": "code",
   "execution_count": 22,
   "id": "a9d58a35-9402-47dd-95e8-a20939a666a7",
   "metadata": {},
   "outputs": [],
   "source": [
    "n_train = 100  # 2000\n",
    "\n",
    "n_test = 10\n",
    "n_test = min(n - n_train, n_test)"
   ]
  },
  {
   "cell_type": "code",
   "execution_count": 23,
   "id": "7ac51558-282e-42f0-a39b-d7938317f87c",
   "metadata": {},
   "outputs": [],
   "source": [
    "train, test = input_data.iloc[:n_train].copy(), input_data.iloc[n_train:(n_train + n_test)].copy()\n",
    "input_cut = pd.concat([train, test]).copy()\n",
    "# data_to_cluster_train, data_to_cluster_test = days_of_week.iloc[:n_train].copy(), days_of_week.iloc[n_train:].copy()"
   ]
  },
  {
   "cell_type": "code",
   "execution_count": 24,
   "id": "2663e3bf-0d2a-4a08-b821-cfc7c4b0ed31",
   "metadata": {},
   "outputs": [
    {
     "data": {
      "image/png": "[encoded data removed]",
      "text/plain": [
       "<Figure size 432x288 with 1 Axes>"
      ]
     },
     "metadata": {
      "needs_background": "light"
     },
     "output_type": "display_data"
    }
   ],
   "source": [
    "train.plot(label='train')\n",
    "test.plot(label='test')\n",
    "\n",
    "plt.legend()\n",
    "plt.grid()\n",
    "plt.show()"
   ]
  },
  {
   "cell_type": "code",
   "execution_count": 25,
   "id": "cef295e4",
   "metadata": {},
   "outputs": [
    {
     "data": {
      "text/plain": [
       "count    100.000000\n",
       "mean      -0.033298\n",
       "std        2.141924\n",
       "min       -6.113558\n",
       "25%       -1.051010\n",
       "50%        0.314542\n",
       "75%        1.041423\n",
       "max        7.668616\n",
       "Name: log return, dtype: float64"
      ]
     },
     "execution_count": 25,
     "metadata": {},
     "output_type": "execute_result"
    }
   ],
   "source": [
    "train.describe()"
   ]
  },
  {
   "cell_type": "markdown",
   "id": "7ca84f69",
   "metadata": {},
   "source": [
    "## Antecedent parameters"
   ]
  },
  {
   "cell_type": "code",
   "execution_count": 26,
   "id": "6e031eb1",
   "metadata": {},
   "outputs": [],
   "source": [
    "# set #1\n",
    "clusterization_method_1 = 'trapezoidal'\n",
    "\n",
    "n_clusters_1 = 2\n",
    "\n",
    "a = [1, 1]\n",
    "b = [1, 5]\n",
    "c = [1, 5]\n",
    "d = [5, 5]\n",
    "\n",
    "# set #2\n",
    "clusterization_method_2 = 'gaussian'\n",
    "\n",
    "n_clusters_2 = 4\n",
    "\n",
    "variances = [7, 6, 3, 5]\n",
    "centers = [-7.5, -1.5, 1.5, 4]"
   ]
  },
  {
   "cell_type": "code",
   "execution_count": 27,
   "id": "8237b30d",
   "metadata": {},
   "outputs": [
    {
     "data": {
      "text/plain": [
       "array([0.75, 0.25])"
      ]
     },
     "execution_count": 27,
     "metadata": {},
     "output_type": "execute_result"
    }
   ],
   "source": [
    "# rtsi['test triangular cluster memb'] = \\\n",
    "calc_trapezoidal_membership_degrees(2,\n",
    "                                    a=a,\n",
    "                                    b=b,\n",
    "                                    c=c,\n",
    "                                    d=d)"
   ]
  },
  {
   "cell_type": "code",
   "execution_count": 28,
   "id": "ace55dd7",
   "metadata": {},
   "outputs": [
    {
     "data": {
      "text/plain": [
       "<DATE>\n",
       "2001-02-18    7\n",
       "2001-02-19    1\n",
       "2001-02-20    2\n",
       "2001-02-21    3\n",
       "2001-02-22    4\n",
       "             ..\n",
       "2021-10-11    1\n",
       "2021-10-12    2\n",
       "2021-10-13    3\n",
       "2021-10-14    4\n",
       "2021-10-15    5\n",
       "Name: day of week, Length: 5174, dtype: int64"
      ]
     },
     "execution_count": 28,
     "metadata": {},
     "output_type": "execute_result"
    }
   ],
   "source": [
    "rtsi['day of week']"
   ]
  },
  {
   "cell_type": "code",
   "execution_count": 29,
   "id": "110406b4",
   "metadata": {},
   "outputs": [],
   "source": [
    "clusterization_parameters = [{'a': a, 'b': b, 'c': c, 'd': d, 'n_clusters': n_clusters_1},\n",
    "                             {'centers': centers, 'variances': variances, 'n_clusters': n_clusters_2}]\n",
    "clusterization_methods = [clusterization_method_1, clusterization_method_2]\n",
    "n_clusters = n_clusters_1 * n_clusters_2"
   ]
  },
  {
   "cell_type": "markdown",
   "id": "6ca7a301",
   "metadata": {},
   "source": [
    "## Consequent parameters"
   ]
  },
  {
   "cell_type": "code",
   "execution_count": 30,
   "id": "c2090135",
   "metadata": {},
   "outputs": [],
   "source": [
    "# technical parameters for arch_model function\n",
    "garch_mean = 'Zero'\n",
    "garch_dist = 'normal'\n",
    "\n",
    "# general parameters\n",
    "local_method = 'garch'\n",
    "\n",
    "# GARCH parameters\n",
    "p = 1\n",
    "q = 1\n",
    "\n",
    "starting_index = max(p, q)\n",
    "\n",
    "train_sample_std = train.std()\n",
    "first_h = [train_sample_std ** 2] * starting_index\n",
    "first_h = np.array(first_h)\n",
    "\n",
    "# parameters constraints\n",
    "lower_bounds = [0] * (1 + p + q) * n_clusters\n",
    "upper_bounds = [+np.inf] * n_clusters + [1] * (p + q) * n_clusters\n",
    "bounds = (lower_bounds, upper_bounds)"
   ]
  },
  {
   "cell_type": "markdown",
   "id": "5e456d4e",
   "metadata": {},
   "source": [
    "### Using classic GARCH to get initial parameters values"
   ]
  },
  {
   "cell_type": "code",
   "execution_count": 31,
   "id": "5e2c9284",
   "metadata": {},
   "outputs": [
    {
     "name": "stdout",
     "output_type": "stream",
     "text": [
      "Iteration:      1,   Func. Count:      5,   Neg. LLF: 299.2568988057981\n",
      "Iteration:      2,   Func. Count:     11,   Neg. LLF: 218.16618783247299\n",
      "Iteration:      3,   Func. Count:     19,   Neg. LLF: 216.13038589493937\n",
      "Iteration:      4,   Func. Count:     25,   Neg. LLF: 210.3506174261232\n",
      "Iteration:      5,   Func. Count:     30,   Neg. LLF: 210.03006916424286\n",
      "Iteration:      6,   Func. Count:     34,   Neg. LLF: 210.02991627546388\n",
      "Iteration:      7,   Func. Count:     38,   Neg. LLF: 210.02991515111927\n",
      "Iteration:      8,   Func. Count:     41,   Neg. LLF: 210.0299151508097\n",
      "Optimization terminated successfully    (Exit mode 0)\n",
      "            Current function value: 210.02991515111927\n",
      "            Iterations: 8\n",
      "            Function evaluations: 41\n",
      "            Gradient evaluations: 8\n"
     ]
    }
   ],
   "source": [
    "garch = arch_model(train,\n",
    "                   mean=garch_mean,\n",
    "                   vol='GARCH',\n",
    "                   p=p,\n",
    "                   q=q,\n",
    "                   dist=garch_dist)\n",
    "garch_fitted = garch.fit()"
   ]
  },
  {
   "cell_type": "code",
   "execution_count": 32,
   "id": "626503a0",
   "metadata": {},
   "outputs": [
    {
     "data": {
      "text/plain": [
       "omega       0.176520\n",
       "alpha[1]    0.116376\n",
       "beta[1]     0.836795\n",
       "Name: params, dtype: float64"
      ]
     },
     "execution_count": 32,
     "metadata": {},
     "output_type": "execute_result"
    }
   ],
   "source": [
    "garch_fitted.params"
   ]
  },
  {
   "cell_type": "code",
   "execution_count": 33,
   "id": "51e50f83-cc6b-495c-8900-767a9801c7be",
   "metadata": {},
   "outputs": [],
   "source": [
    "alpha_0_ini = np.array([garch_fitted.params.iloc[0] for _ in range(n_clusters)])\n",
    "alpha_ini = np.array([garch_fitted.params.iloc[1:(q + 1)].values for _ in range(n_clusters)])\n",
    "beta_ini = np.array([garch_fitted.params.iloc[(q + 1):].values for _ in range(n_clusters)])"
   ]
  },
  {
   "cell_type": "code",
   "execution_count": 34,
   "id": "dfcb1d5d",
   "metadata": {},
   "outputs": [],
   "source": [
    "# alpha_0_ini, alpha_ini, beta_ini = unpack_1d_parameters(garch_fitted.params.values, p=p, q=q, n_clusters=n_clusters)"
   ]
  },
  {
   "cell_type": "code",
   "execution_count": 35,
   "id": "452b962e",
   "metadata": {},
   "outputs": [],
   "source": [
    "parameters_ini = {'alpha_0': alpha_0_ini, 'alpha': alpha_ini, 'beta': beta_ini}"
   ]
  },
  {
   "cell_type": "code",
   "execution_count": 36,
   "id": "ce388de6",
   "metadata": {},
   "outputs": [
    {
     "data": {
      "text/plain": [
       "{'alpha_0': array([0.17652034, 0.17652034, 0.17652034, 0.17652034, 0.17652034,\n",
       "        0.17652034, 0.17652034, 0.17652034]),\n",
       " 'alpha': array([[0.11637558],\n",
       "        [0.11637558],\n",
       "        [0.11637558],\n",
       "        [0.11637558],\n",
       "        [0.11637558],\n",
       "        [0.11637558],\n",
       "        [0.11637558],\n",
       "        [0.11637558]]),\n",
       " 'beta': array([[0.8367954],\n",
       "        [0.8367954],\n",
       "        [0.8367954],\n",
       "        [0.8367954],\n",
       "        [0.8367954],\n",
       "        [0.8367954],\n",
       "        [0.8367954],\n",
       "        [0.8367954]])}"
      ]
     },
     "execution_count": 36,
     "metadata": {},
     "output_type": "execute_result"
    }
   ],
   "source": [
    "parameters_ini"
   ]
  },
  {
   "cell_type": "code",
   "execution_count": 37,
   "id": "92368e86",
   "metadata": {},
   "outputs": [],
   "source": [
    "# # initial parameters values for LS to start with\n",
    "# alpha_0_ini = np.array([garch_fitted.params.loc['omega']] * n_clusters)\n",
    "# alpha_ini = np.array([[1] * n_clusters] * q)\n",
    "# beta_ini = np.array([[1] * n_clusters] * p)\n",
    "# parameters_ini = {'alpha_0': alpha_0_ini, 'alpha': alpha_ini, 'beta': beta_ini}"
   ]
  },
  {
   "cell_type": "code",
   "execution_count": 38,
   "id": "f6680bfe",
   "metadata": {},
   "outputs": [
    {
     "data": {
      "text/plain": [
       "[0.11637558228349601,\n",
       " 0.11637558228349601,\n",
       " 0.11637558228349601,\n",
       " 0.11637558228349601,\n",
       " 0.11637558228349601,\n",
       " 0.11637558228349601,\n",
       " 0.11637558228349601,\n",
       " 0.11637558228349601]"
      ]
     },
     "execution_count": 38,
     "metadata": {},
     "output_type": "execute_result"
    }
   ],
   "source": [
    "list(alpha_ini.flatten())"
   ]
  },
  {
   "cell_type": "markdown",
   "id": "45dfbd1c",
   "metadata": {},
   "source": [
    "### Setting dict w/ all consequent parameters"
   ]
  },
  {
   "cell_type": "code",
   "execution_count": 39,
   "id": "0408962b",
   "metadata": {},
   "outputs": [],
   "source": [
    "local_method_parameters = {'p': p, 'q': q, 'mean': garch_mean, 'dist': garch_dist, 'first_h': first_h,\n",
    "                           'bounds': bounds, 'parameters_ini': parameters_ini}"
   ]
  },
  {
   "cell_type": "markdown",
   "id": "705bedc4",
   "metadata": {},
   "source": [
    "## Other params"
   ]
  },
  {
   "cell_type": "code",
   "execution_count": 40,
   "id": "464d7fe9",
   "metadata": {},
   "outputs": [],
   "source": [
    "n_last_points_to_use_for_clustering_1 = 1\n",
    "n_last_points_to_use_for_clustering_2 = 10\n",
    "n_last_points_to_use_for_clustering = [n_last_points_to_use_for_clustering_1, n_last_points_to_use_for_clustering_2]"
   ]
  },
  {
   "cell_type": "code",
   "execution_count": 41,
   "id": "db3e8be4",
   "metadata": {},
   "outputs": [],
   "source": [
    "data_to_cluster_1 = pd.Series(train.index.dayofweek + 1, index=train.index).copy()\n",
    "data_to_cluster_2 = 'train'\n",
    "data_to_cluster = [data_to_cluster_1, data_to_cluster_2]"
   ]
  },
  {
   "cell_type": "code",
   "execution_count": 42,
   "id": "8ca27e06",
   "metadata": {},
   "outputs": [
    {
     "data": {
      "text/plain": [
       "[<DATE>\n",
       " 2010-01-11    1\n",
       " 2010-01-12    2\n",
       " 2010-01-13    3\n",
       " 2010-01-14    4\n",
       " 2010-01-15    5\n",
       "              ..\n",
       " 2010-05-28    5\n",
       " 2010-05-31    1\n",
       " 2010-06-01    2\n",
       " 2010-06-02    3\n",
       " 2010-06-03    4\n",
       " Name: <DATE>, Length: 100, dtype: int64,\n",
       " 'train']"
      ]
     },
     "execution_count": 42,
     "metadata": {},
     "output_type": "execute_result"
    }
   ],
   "source": [
    "data_to_cluster"
   ]
  },
  {
   "cell_type": "code",
   "execution_count": 43,
   "id": "a8cec70d",
   "metadata": {},
   "outputs": [],
   "source": [
    "cluster_sets_conjunction = 'prod'"
   ]
  },
  {
   "cell_type": "markdown",
   "id": "beac442d",
   "metadata": {},
   "source": [
    "# Testing `FuzzyVolatilityModel` class"
   ]
  },
  {
   "cell_type": "code",
   "execution_count": 44,
   "id": "260be1ca",
   "metadata": {},
   "outputs": [],
   "source": [
    "fvm = FuzzyVolatilityModel(train,\n",
    "                           clusterization_method=clusterization_methods,\n",
    "                           clusterization_parameters=clusterization_parameters,\n",
    "                           local_method=local_method,\n",
    "                           local_method_parameters=local_method_parameters,\n",
    "                           n_last_points_to_use_for_clustering=n_last_points_to_use_for_clustering,\n",
    "                           data_to_cluster=data_to_cluster,\n",
    "                           cluster_sets_conjunction=cluster_sets_conjunction)"
   ]
  },
  {
   "cell_type": "markdown",
   "id": "bc2d8777",
   "metadata": {},
   "source": [
    "## `fit`"
   ]
  },
  {
   "cell_type": "code",
   "execution_count": 45,
   "id": "4b36f4f5",
   "metadata": {
    "scrolled": true
   },
   "outputs": [
    {
     "name": "stdout",
     "output_type": "stream",
     "text": [
      "CPU times: user 1min 37s, sys: 6.12 s, total: 1min 44s\n",
      "Wall time: 1min 49s\n"
     ]
    }
   ],
   "source": [
    "%%time\n",
    "\n",
    "fvm.fit()"
   ]
  },
  {
   "cell_type": "code",
   "execution_count": 46,
   "id": "1181eb98",
   "metadata": {},
   "outputs": [
    {
     "data": {
      "text/plain": [
       "[1, 10]"
      ]
     },
     "execution_count": 46,
     "metadata": {},
     "output_type": "execute_result"
    }
   ],
   "source": [
    "n_last_points_to_use_for_clustering"
   ]
  },
  {
   "cell_type": "code",
   "execution_count": 47,
   "id": "e2382e9a",
   "metadata": {},
   "outputs": [
    {
     "name": "stdout",
     "output_type": "stream",
     "text": [
      "1\n",
      "10\n"
     ]
    }
   ],
   "source": [
    "for i, (_x, _method) in enumerate(zip(data_to_cluster, clusterization_methods)):\n",
    "    print(n_last_points_to_use_for_clustering[i])"
   ]
  },
  {
   "cell_type": "code",
   "execution_count": null,
   "id": "7a2d8f48",
   "metadata": {},
   "outputs": [],
   "source": []
  },
  {
   "cell_type": "code",
   "execution_count": 48,
   "id": "7fc6ae22",
   "metadata": {},
   "outputs": [
    {
     "data": {
      "text/plain": [
       "array([1.76520343e-01, 3.94894940e-01, 3.79028670e-01, 7.44262775e-01,\n",
       "       3.60417340e+00, 8.65894298e-01, 1.14810275e-04, 3.51334242e-01],\n",
       "      dtype=float128)"
      ]
     },
     "execution_count": 48,
     "metadata": {},
     "output_type": "execute_result"
    }
   ],
   "source": [
    "fvm.alpha_0"
   ]
  },
  {
   "cell_type": "code",
   "execution_count": 49,
   "id": "729fe037",
   "metadata": {},
   "outputs": [
    {
     "data": {
      "text/plain": [
       "array([[0.995     , 0.09708544, 0.09679388, 0.10106845, 0.95798798,\n",
       "        0.08932817, 0.08846638, 0.10102531]], dtype=float128)"
      ]
     },
     "execution_count": 49,
     "metadata": {},
     "output_type": "execute_result"
    }
   ],
   "source": [
    "fvm.alpha"
   ]
  },
  {
   "cell_type": "code",
   "execution_count": 50,
   "id": "9823112d",
   "metadata": {},
   "outputs": [
    {
     "data": {
      "text/plain": [
       "array([[0.92224376, 0.80054235, 0.80062418, 0.79918587, 0.8367954 ,\n",
       "        0.8027686 , 0.80302277, 0.79930352]], dtype=float128)"
      ]
     },
     "execution_count": 50,
     "metadata": {},
     "output_type": "execute_result"
    }
   ],
   "source": [
    "fvm.beta"
   ]
  },
  {
   "cell_type": "code",
   "execution_count": 51,
   "id": "9eadd7b4",
   "metadata": {},
   "outputs": [
    {
     "data": {
      "text/plain": [
       "omega       0.176520\n",
       "alpha[1]    0.116376\n",
       "beta[1]     0.836795\n",
       "Name: params, dtype: float64"
      ]
     },
     "execution_count": 51,
     "metadata": {},
     "output_type": "execute_result"
    }
   ],
   "source": [
    "garch_fitted.params"
   ]
  },
  {
   "cell_type": "code",
   "execution_count": 52,
   "id": "92f4ba8c",
   "metadata": {},
   "outputs": [
    {
     "data": {
      "text/plain": [
       "[{'alpha_0': array([1.76520343e-01, 3.94894940e-01, 3.79028670e-01, 7.44262775e-01,\n",
       "         3.60417340e+00, 8.65894298e-01, 1.14810275e-04, 3.51334242e-01],\n",
       "        dtype=float128),\n",
       "  'alpha': array([[0.995     , 0.09708544, 0.09679388, 0.10106845, 0.95798798,\n",
       "          0.08932817, 0.08846638, 0.10102531]], dtype=float128),\n",
       "  'beta': array([[0.92224376, 0.80054235, 0.80062418, 0.79918587, 0.8367954 ,\n",
       "          0.8027686 , 0.80302277, 0.79930352]], dtype=float128)}]"
      ]
     },
     "execution_count": 52,
     "metadata": {},
     "output_type": "execute_result"
    }
   ],
   "source": [
    "fvm._parameters_hist"
   ]
  },
  {
   "cell_type": "code",
   "execution_count": 53,
   "id": "ba8d0b58",
   "metadata": {},
   "outputs": [
    {
     "data": {
      "text/plain": [
       "array([1.05596817e-32, 1.10203188e-13, 1.18429940e-13, 7.44666139e-17,\n",
       "       3.16790452e-32, 3.30609563e-13, 3.55289821e-13, 2.23399842e-16],\n",
       "      dtype=float128)"
      ]
     },
     "execution_count": 53,
     "metadata": {},
     "output_type": "execute_result"
    }
   ],
   "source": [
    "fvm.membership_degrees_current"
   ]
  },
  {
   "cell_type": "code",
   "execution_count": 54,
   "id": "95daa841",
   "metadata": {},
   "outputs": [
    {
     "data": {
      "text/plain": [
       "{'n_clusters': 8,\n",
       " 'params by sets': [{'a': [1, 1],\n",
       "   'b': [1, 5],\n",
       "   'c': [1, 5],\n",
       "   'd': [5, 5],\n",
       "   'n_clusters': 2},\n",
       "  {'centers': [-7.5, -1.5, 1.5, 4],\n",
       "   'variances': [7, 6, 3, 5],\n",
       "   'n_clusters': 4}]}"
      ]
     },
     "execution_count": 54,
     "metadata": {},
     "output_type": "execute_result"
    }
   ],
   "source": [
    "fvm.clusters_parameters_current"
   ]
  },
  {
   "cell_type": "code",
   "execution_count": 55,
   "id": "8ff2905d",
   "metadata": {},
   "outputs": [
    {
     "data": {
      "text/plain": [
       "[<DATE>\n",
       " 2010-01-11    1\n",
       " 2010-01-12    2\n",
       " 2010-01-13    3\n",
       " 2010-01-14    4\n",
       " 2010-01-15    5\n",
       "              ..\n",
       " 2010-05-28    5\n",
       " 2010-05-31    1\n",
       " 2010-06-01    2\n",
       " 2010-06-02    3\n",
       " 2010-06-03    4\n",
       " Name: <DATE>, Length: 100, dtype: int64,\n",
       " 'train']"
      ]
     },
     "execution_count": 55,
     "metadata": {},
     "output_type": "execute_result"
    }
   ],
   "source": [
    "data_to_cluster"
   ]
  },
  {
   "cell_type": "code",
   "execution_count": 56,
   "id": "8b59fa2a",
   "metadata": {},
   "outputs": [
    {
     "data": {
      "text/plain": [
       "[array([1.05596817e-32, 1.10203188e-13, 1.18429940e-13, 7.44666139e-17,\n",
       "        3.16790452e-32, 3.30609563e-13, 3.55289821e-13, 2.23399842e-16],\n",
       "       dtype=float128)]"
      ]
     },
     "execution_count": 56,
     "metadata": {},
     "output_type": "execute_result"
    }
   ],
   "source": [
    "fvm._membership_degrees_hist"
   ]
  },
  {
   "cell_type": "code",
   "execution_count": 57,
   "id": "65797f16",
   "metadata": {},
   "outputs": [
    {
     "data": {
      "text/plain": [
       "<DATE>\n",
       "2010-01-11    7.668616\n",
       "2010-01-12   -2.421124\n",
       "2010-01-13    1.932676\n",
       "2010-01-14    0.874942\n",
       "2010-01-15   -0.491052\n",
       "                ...   \n",
       "2010-05-28   -0.129833\n",
       "2010-05-31    1.718848\n",
       "2010-06-01   -1.069901\n",
       "2010-06-02    1.570084\n",
       "2010-06-03    0.310364\n",
       "Name: log return, Length: 100, dtype: float64"
      ]
     },
     "execution_count": 57,
     "metadata": {},
     "output_type": "execute_result"
    }
   ],
   "source": [
    "fvm.train_data"
   ]
  },
  {
   "cell_type": "markdown",
   "id": "24485114",
   "metadata": {},
   "source": [
    "## `forecast`"
   ]
  },
  {
   "cell_type": "code",
   "execution_count": 58,
   "id": "271546e8",
   "metadata": {},
   "outputs": [],
   "source": [
    "fvm.forecast()"
   ]
  },
  {
   "cell_type": "code",
   "execution_count": 59,
   "id": "9288a4dd",
   "metadata": {},
   "outputs": [
    {
     "data": {
      "text/plain": [
       "4.894474225146415189"
      ]
     },
     "execution_count": 59,
     "metadata": {},
     "output_type": "execute_result"
    }
   ],
   "source": [
    "fvm.current_output"
   ]
  },
  {
   "cell_type": "code",
   "execution_count": 60,
   "id": "7fd72d43",
   "metadata": {},
   "outputs": [
    {
     "data": {
      "text/plain": [
       "[4.894474225146415189]"
      ]
     },
     "execution_count": 60,
     "metadata": {},
     "output_type": "execute_result"
    }
   ],
   "source": [
    "fvm._hist_output"
   ]
  },
  {
   "cell_type": "code",
   "execution_count": 61,
   "id": "f71d8f81",
   "metadata": {
    "scrolled": true
   },
   "outputs": [
    {
     "data": {
      "image/png": "[encoded data removed]",
      "text/plain": [
       "<Figure size 432x288 with 1 Axes>"
      ]
     },
     "metadata": {
      "needs_background": "light"
     },
     "output_type": "display_data"
    }
   ],
   "source": [
    "plt.plot(fvm.h ** .5, label='sqrt(h_t)')\n",
    "plt.plot(train.values, label='y_t')\n",
    "\n",
    "plt.legend()\n",
    "plt.grid()\n",
    "plt.show()"
   ]
  },
  {
   "cell_type": "code",
   "execution_count": 62,
   "id": "10777818",
   "metadata": {},
   "outputs": [
    {
     "data": {
      "text/plain": [
       "array([4.58784044, 9.43618511, 8.51342795, 7.57977624, 6.56074695,\n",
       "       5.69549271, 5.2013397 , 4.60182946, 4.53375833, 4.3963977 ,\n",
       "       4.7469524 , 4.25164078, 4.77439809, 4.26339876, 3.85503243,\n",
       "       3.51732059, 3.31122259, 3.43977692, 3.17878997, 4.75848533,\n",
       "       4.66187973, 4.49299816, 4.09413425, 3.74934914, 3.48336939,\n",
       "       3.78298679, 3.49909398, 4.26552795, 3.83523621, 3.53649354,\n",
       "       3.27764896, 3.13990395, 3.28360896, 3.13957407, 2.95246095,\n",
       "       3.02863467, 2.98448782, 2.97014663, 2.83823549, 3.2066747 ,\n",
       "       3.01539724, 2.82973871, 2.69782093, 2.83760533, 2.7510901 ,\n",
       "       2.79388237, 2.83974715, 2.69288517, 2.66132905, 2.59858968,\n",
       "       2.49918647, 2.50396735, 2.44136785, 2.42074647, 2.81871854,\n",
       "       2.70159556, 2.60323823, 3.02384876, 2.86155134, 2.74238705,\n",
       "       2.62220294, 2.71662085, 2.59097689, 2.6683286 , 2.65981467,\n",
       "       2.54473111, 2.73991417, 2.6226476 , 3.09837859, 3.11739857,\n",
       "       3.01963198, 2.92963441, 2.82276569, 2.74495049, 2.70267182,\n",
       "       3.19068018, 3.05734078, 3.03723243, 2.93996337, 4.48009264,\n",
       "       4.3443872 , 6.00641111, 6.07805584, 7.14346288, 7.46406847,\n",
       "       6.54297832, 6.03433534, 5.35162576, 4.71173497, 4.88098363,\n",
       "       7.7232408 , 6.61417211, 5.77818086, 7.66290626, 8.1422267 ,\n",
       "       9.37236636, 7.93092602, 7.04145006, 6.16330231, 5.57877532,\n",
       "       4.89447423], dtype=float128)"
      ]
     },
     "execution_count": 62,
     "metadata": {},
     "output_type": "execute_result"
    }
   ],
   "source": [
    "fvm.h"
   ]
  },
  {
   "cell_type": "markdown",
   "id": "ae1b59cc",
   "metadata": {},
   "source": [
    "## `feed_daily_data`"
   ]
  },
  {
   "cell_type": "code",
   "execution_count": 63,
   "id": "1c0d81c6",
   "metadata": {},
   "outputs": [],
   "source": [
    "n_test_small = 10\n",
    "test_small = test.iloc[:n_test_small].copy()\n",
    "input_cut = pd.concat([train, test_small]).copy()\n",
    "\n",
    "data_to_cluster_test_1 = pd.Series(test_small.index.dayofweek + 1, index=test_small.index).copy()\n",
    "data_to_cluster_test_2 = 'train'\n",
    "data_to_cluster_test = [data_to_cluster_test_1, data_to_cluster_test_2]\n",
    "# data_to_cluster = test_small.index.dayofweek + 1\n",
    "# data_to_cluster = pd.Series(data_to_cluster, index=test_small.index)"
   ]
  },
  {
   "cell_type": "code",
   "execution_count": 64,
   "id": "e0a7dbb8",
   "metadata": {},
   "outputs": [
    {
     "data": {
      "text/plain": [
       "[<DATE>\n",
       " 2010-06-04    5\n",
       " 2010-06-07    1\n",
       " 2010-06-08    2\n",
       " 2010-06-09    3\n",
       " 2010-06-10    4\n",
       " 2010-06-11    5\n",
       " 2010-06-15    2\n",
       " 2010-06-16    3\n",
       " 2010-06-17    4\n",
       " 2010-06-18    5\n",
       " Name: <DATE>, dtype: int64,\n",
       " 'train']"
      ]
     },
     "execution_count": 64,
     "metadata": {},
     "output_type": "execute_result"
    }
   ],
   "source": [
    "data_to_cluster_test"
   ]
  },
  {
   "cell_type": "code",
   "execution_count": 65,
   "id": "28f68afa",
   "metadata": {},
   "outputs": [
    {
     "data": {
      "text/plain": [
       "[array([1.05596817e-32, 1.10203188e-13, 1.18429940e-13, 7.44666139e-17,\n",
       "        3.16790452e-32, 3.30609563e-13, 3.55289821e-13, 2.23399842e-16],\n",
       "       dtype=float128)]"
      ]
     },
     "execution_count": 65,
     "metadata": {},
     "output_type": "execute_result"
    }
   ],
   "source": [
    "fvm._membership_degrees_hist"
   ]
  },
  {
   "cell_type": "code",
   "execution_count": 66,
   "id": "4c563a2e",
   "metadata": {
    "scrolled": true
   },
   "outputs": [
    {
     "name": "stdout",
     "output_type": "stream",
     "text": [
      "CPU times: user 18min 17s, sys: 1min 13s, total: 19min 30s\n",
      "Wall time: 20min 31s\n"
     ]
    }
   ],
   "source": [
    "%%time\n",
    "\n",
    "fvm.feed_daily_data(test_small, data_to_cluster=data_to_cluster_test)"
   ]
  },
  {
   "cell_type": "code",
   "execution_count": 67,
   "id": "4e485217",
   "metadata": {},
   "outputs": [
    {
     "data": {
      "text/html": [
       "<div>\n",
       "<style scoped>\n",
       "    .dataframe tbody tr th:only-of-type {\n",
       "        vertical-align: middle;\n",
       "    }\n",
       "\n",
       "    .dataframe tbody tr th {\n",
       "        vertical-align: top;\n",
       "    }\n",
       "\n",
       "    .dataframe thead th {\n",
       "        text-align: right;\n",
       "    }\n",
       "</style>\n",
       "<table border=\"1\" class=\"dataframe\">\n",
       "  <thead>\n",
       "    <tr style=\"text-align: right;\">\n",
       "      <th></th>\n",
       "      <th>&lt;DATE&gt;</th>\n",
       "      <th>log return</th>\n",
       "    </tr>\n",
       "    <tr>\n",
       "      <th>&lt;DATE&gt;</th>\n",
       "      <th></th>\n",
       "      <th></th>\n",
       "    </tr>\n",
       "  </thead>\n",
       "  <tbody>\n",
       "    <tr>\n",
       "      <th>2010-01-11</th>\n",
       "      <td>1.0</td>\n",
       "      <td>7.668616</td>\n",
       "    </tr>\n",
       "    <tr>\n",
       "      <th>2010-01-12</th>\n",
       "      <td>2.0</td>\n",
       "      <td>-2.421124</td>\n",
       "    </tr>\n",
       "    <tr>\n",
       "      <th>2010-01-13</th>\n",
       "      <td>3.0</td>\n",
       "      <td>1.932676</td>\n",
       "    </tr>\n",
       "    <tr>\n",
       "      <th>2010-01-14</th>\n",
       "      <td>4.0</td>\n",
       "      <td>0.874942</td>\n",
       "    </tr>\n",
       "    <tr>\n",
       "      <th>2010-01-15</th>\n",
       "      <td>5.0</td>\n",
       "      <td>-0.491052</td>\n",
       "    </tr>\n",
       "    <tr>\n",
       "      <th>...</th>\n",
       "      <td>...</td>\n",
       "      <td>...</td>\n",
       "    </tr>\n",
       "    <tr>\n",
       "      <th>2010-06-11</th>\n",
       "      <td>5.0</td>\n",
       "      <td>-0.601688</td>\n",
       "    </tr>\n",
       "    <tr>\n",
       "      <th>2010-06-15</th>\n",
       "      <td>2.0</td>\n",
       "      <td>3.508624</td>\n",
       "    </tr>\n",
       "    <tr>\n",
       "      <th>2010-06-16</th>\n",
       "      <td>3.0</td>\n",
       "      <td>-0.205114</td>\n",
       "    </tr>\n",
       "    <tr>\n",
       "      <th>2010-06-17</th>\n",
       "      <td>4.0</td>\n",
       "      <td>-0.018538</td>\n",
       "    </tr>\n",
       "    <tr>\n",
       "      <th>2010-06-18</th>\n",
       "      <td>5.0</td>\n",
       "      <td>0.693539</td>\n",
       "    </tr>\n",
       "  </tbody>\n",
       "</table>\n",
       "<p>110 rows × 2 columns</p>\n",
       "</div>"
      ],
      "text/plain": [
       "            <DATE>  log return\n",
       "<DATE>                        \n",
       "2010-01-11     1.0    7.668616\n",
       "2010-01-12     2.0   -2.421124\n",
       "2010-01-13     3.0    1.932676\n",
       "2010-01-14     4.0    0.874942\n",
       "2010-01-15     5.0   -0.491052\n",
       "...            ...         ...\n",
       "2010-06-11     5.0   -0.601688\n",
       "2010-06-15     2.0    3.508624\n",
       "2010-06-16     3.0   -0.205114\n",
       "2010-06-17     4.0   -0.018538\n",
       "2010-06-18     5.0    0.693539\n",
       "\n",
       "[110 rows x 2 columns]"
      ]
     },
     "execution_count": 67,
     "metadata": {},
     "output_type": "execute_result"
    }
   ],
   "source": [
    "fvm.data_to_cluster"
   ]
  },
  {
   "cell_type": "code",
   "execution_count": 68,
   "id": "10fd5024",
   "metadata": {},
   "outputs": [
    {
     "data": {
      "text/plain": [
       "11"
      ]
     },
     "execution_count": 68,
     "metadata": {},
     "output_type": "execute_result"
    }
   ],
   "source": [
    "len(fvm._hist_output)"
   ]
  },
  {
   "cell_type": "code",
   "execution_count": 69,
   "id": "a12b9aea",
   "metadata": {},
   "outputs": [
    {
     "data": {
      "text/plain": [
       "array([4.58784044, 9.28688586, 8.36191895, 7.43320435, 6.42685875,\n",
       "       5.57482436, 5.08756234, 4.49976462, 4.43133214, 4.29596941,\n",
       "       4.63630914, 4.15251956, 4.66130142, 4.16253311, 3.7648277 ,\n",
       "       3.43664267, 3.23707645, 3.363535  , 3.11017119, 4.64960919,\n",
       "       4.55365759, 4.38786347, 3.99866564, 3.66297865, 3.40461886,\n",
       "       3.69738379, 3.42119264, 4.16827739, 3.74848452, 3.45769771,\n",
       "       3.20625663, 3.07307   , 3.21401628, 3.07430395, 2.89278095,\n",
       "       2.96784079, 2.92542132, 2.91199006, 2.78398429, 3.14337216,\n",
       "       2.95693443, 2.7763342 , 2.64835113, 2.78509209, 2.70109073,\n",
       "       2.74311309, 2.78798335, 2.6450503 , 2.61464347, 2.55385988,\n",
       "       2.45741851, 2.46253534, 2.40193505, 2.38225102, 2.77016115,\n",
       "       2.65569551, 2.5597893 , 2.96946356, 2.81074088, 2.6944387 ,\n",
       "       2.57740171, 2.66955853, 2.54720715, 2.62275598, 2.6145079 ,\n",
       "       2.50248563, 2.69279959, 2.57845468, 3.04182008, 3.05958406,\n",
       "       2.96373631, 2.8757518 , 2.77156241, 2.69587534, 2.6549117 ,\n",
       "       3.13038782, 2.99988262, 2.98000739, 2.88508439, 4.38491312,\n",
       "       4.25009024, 5.86671314, 5.9320725 , 6.96593969, 7.27337654,\n",
       "       6.37201223, 5.87477491, 5.20929115, 4.58682015, 4.75328909,\n",
       "       7.52218284, 6.43802416, 5.62254441, 7.45829812, 7.92208375,\n",
       "       9.11680079, 7.70836656, 6.84089684, 5.98625874, 5.4189777 ,\n",
       "       4.75516139, 5.41031441, 4.85206673, 4.31257779, 3.88069759,\n",
       "       4.0605283 , 3.69119375, 4.45319172, 3.97721257, 3.59248051,\n",
       "       3.32703572], dtype=float128)"
      ]
     },
     "execution_count": 69,
     "metadata": {},
     "output_type": "execute_result"
    }
   ],
   "source": [
    "fvm.h"
   ]
  },
  {
   "cell_type": "code",
   "execution_count": 70,
   "id": "71735d1f",
   "metadata": {},
   "outputs": [
    {
     "data": {
      "text/plain": [
       "(111,)"
      ]
     },
     "execution_count": 70,
     "metadata": {},
     "output_type": "execute_result"
    }
   ],
   "source": [
    "_.shape"
   ]
  },
  {
   "cell_type": "code",
   "execution_count": 71,
   "id": "612183e8",
   "metadata": {},
   "outputs": [
    {
     "data": {
      "text/html": [
       "<div>\n",
       "<style scoped>\n",
       "    .dataframe tbody tr th:only-of-type {\n",
       "        vertical-align: middle;\n",
       "    }\n",
       "\n",
       "    .dataframe tbody tr th {\n",
       "        vertical-align: top;\n",
       "    }\n",
       "\n",
       "    .dataframe thead th {\n",
       "        text-align: right;\n",
       "    }\n",
       "</style>\n",
       "<table border=\"1\" class=\"dataframe\">\n",
       "  <thead>\n",
       "    <tr style=\"text-align: right;\">\n",
       "      <th></th>\n",
       "      <th>&lt;DATE&gt;</th>\n",
       "      <th>log return</th>\n",
       "    </tr>\n",
       "    <tr>\n",
       "      <th>&lt;DATE&gt;</th>\n",
       "      <th></th>\n",
       "      <th></th>\n",
       "    </tr>\n",
       "  </thead>\n",
       "  <tbody>\n",
       "    <tr>\n",
       "      <th>2010-06-04</th>\n",
       "      <td>5.0</td>\n",
       "      <td>-3.674357</td>\n",
       "    </tr>\n",
       "    <tr>\n",
       "      <th>2010-06-07</th>\n",
       "      <td>1.0</td>\n",
       "      <td>-1.126682</td>\n",
       "    </tr>\n",
       "    <tr>\n",
       "      <th>2010-06-08</th>\n",
       "      <td>2.0</td>\n",
       "      <td>-0.472658</td>\n",
       "    </tr>\n",
       "    <tr>\n",
       "      <th>2010-06-09</th>\n",
       "      <td>3.0</td>\n",
       "      <td>0.472658</td>\n",
       "    </tr>\n",
       "    <tr>\n",
       "      <th>2010-06-10</th>\n",
       "      <td>4.0</td>\n",
       "      <td>2.482080</td>\n",
       "    </tr>\n",
       "    <tr>\n",
       "      <th>2010-06-11</th>\n",
       "      <td>5.0</td>\n",
       "      <td>-0.601688</td>\n",
       "    </tr>\n",
       "    <tr>\n",
       "      <th>2010-06-15</th>\n",
       "      <td>2.0</td>\n",
       "      <td>3.508624</td>\n",
       "    </tr>\n",
       "    <tr>\n",
       "      <th>2010-06-16</th>\n",
       "      <td>3.0</td>\n",
       "      <td>-0.205114</td>\n",
       "    </tr>\n",
       "    <tr>\n",
       "      <th>2010-06-17</th>\n",
       "      <td>4.0</td>\n",
       "      <td>-0.018538</td>\n",
       "    </tr>\n",
       "    <tr>\n",
       "      <th>2010-06-18</th>\n",
       "      <td>5.0</td>\n",
       "      <td>0.693539</td>\n",
       "    </tr>\n",
       "  </tbody>\n",
       "</table>\n",
       "</div>"
      ],
      "text/plain": [
       "            <DATE>  log return\n",
       "<DATE>                        \n",
       "2010-06-04     5.0   -3.674357\n",
       "2010-06-07     1.0   -1.126682\n",
       "2010-06-08     2.0   -0.472658\n",
       "2010-06-09     3.0    0.472658\n",
       "2010-06-10     4.0    2.482080\n",
       "2010-06-11     5.0   -0.601688\n",
       "2010-06-15     2.0    3.508624\n",
       "2010-06-16     3.0   -0.205114\n",
       "2010-06-17     4.0   -0.018538\n",
       "2010-06-18     5.0    0.693539"
      ]
     },
     "execution_count": 71,
     "metadata": {},
     "output_type": "execute_result"
    }
   ],
   "source": [
    "fvm.data_to_cluster[-10:]"
   ]
  },
  {
   "cell_type": "code",
   "execution_count": 72,
   "id": "057bd7bb",
   "metadata": {},
   "outputs": [
    {
     "data": {
      "text/html": [
       "<div>\n",
       "<style scoped>\n",
       "    .dataframe tbody tr th:only-of-type {\n",
       "        vertical-align: middle;\n",
       "    }\n",
       "\n",
       "    .dataframe tbody tr th {\n",
       "        vertical-align: top;\n",
       "    }\n",
       "\n",
       "    .dataframe thead th {\n",
       "        text-align: right;\n",
       "    }\n",
       "</style>\n",
       "<table border=\"1\" class=\"dataframe\">\n",
       "  <thead>\n",
       "    <tr style=\"text-align: right;\">\n",
       "      <th></th>\n",
       "      <th>0</th>\n",
       "      <th>1</th>\n",
       "      <th>2</th>\n",
       "      <th>3</th>\n",
       "      <th>4</th>\n",
       "      <th>5</th>\n",
       "      <th>6</th>\n",
       "      <th>7</th>\n",
       "    </tr>\n",
       "    <tr>\n",
       "      <th>&lt;DATE&gt;</th>\n",
       "      <th></th>\n",
       "      <th></th>\n",
       "      <th></th>\n",
       "      <th></th>\n",
       "      <th></th>\n",
       "      <th></th>\n",
       "      <th></th>\n",
       "      <th></th>\n",
       "    </tr>\n",
       "  </thead>\n",
       "  <tbody>\n",
       "    <tr>\n",
       "      <th>2010-06-04</th>\n",
       "      <td>0.000000e+00</td>\n",
       "      <td>0.000000e+00</td>\n",
       "      <td>0.000000e+00</td>\n",
       "      <td>0.000000e+00</td>\n",
       "      <td>6.054911e-31</td>\n",
       "      <td>3.355112e-13</td>\n",
       "      <td>9.348681e-15</td>\n",
       "      <td>5.215794e-18</td>\n",
       "    </tr>\n",
       "    <tr>\n",
       "      <th>2010-06-07</th>\n",
       "      <td>4.694184e-30</td>\n",
       "      <td>5.201863e-13</td>\n",
       "      <td>3.194565e-15</td>\n",
       "      <td>1.032514e-18</td>\n",
       "      <td>0.000000e+00</td>\n",
       "      <td>0.000000e+00</td>\n",
       "      <td>0.000000e+00</td>\n",
       "      <td>0.000000e+00</td>\n",
       "    </tr>\n",
       "    <tr>\n",
       "      <th>2010-06-08</th>\n",
       "      <td>1.432113e-31</td>\n",
       "      <td>1.241369e-12</td>\n",
       "      <td>3.235437e-12</td>\n",
       "      <td>6.757446e-16</td>\n",
       "      <td>4.773711e-32</td>\n",
       "      <td>4.137896e-13</td>\n",
       "      <td>1.078479e-12</td>\n",
       "      <td>2.252482e-16</td>\n",
       "    </tr>\n",
       "    <tr>\n",
       "      <th>2010-06-09</th>\n",
       "      <td>1.723399e-29</td>\n",
       "      <td>8.760154e-12</td>\n",
       "      <td>5.961631e-12</td>\n",
       "      <td>1.302162e-16</td>\n",
       "      <td>1.723399e-29</td>\n",
       "      <td>8.760154e-12</td>\n",
       "      <td>5.961631e-12</td>\n",
       "      <td>1.302162e-16</td>\n",
       "    </tr>\n",
       "    <tr>\n",
       "      <th>2010-06-10</th>\n",
       "      <td>6.674334e-28</td>\n",
       "      <td>4.762940e-11</td>\n",
       "      <td>2.396740e-11</td>\n",
       "      <td>5.930020e-17</td>\n",
       "      <td>2.002300e-27</td>\n",
       "      <td>1.428882e-10</td>\n",
       "      <td>7.190221e-11</td>\n",
       "      <td>1.779006e-16</td>\n",
       "    </tr>\n",
       "    <tr>\n",
       "      <th>2010-06-11</th>\n",
       "      <td>0.000000e+00</td>\n",
       "      <td>0.000000e+00</td>\n",
       "      <td>0.000000e+00</td>\n",
       "      <td>0.000000e+00</td>\n",
       "      <td>4.318387e-27</td>\n",
       "      <td>2.082926e-10</td>\n",
       "      <td>7.148827e-11</td>\n",
       "      <td>1.571037e-16</td>\n",
       "    </tr>\n",
       "    <tr>\n",
       "      <th>2010-06-15</th>\n",
       "      <td>2.439717e-28</td>\n",
       "      <td>4.579390e-11</td>\n",
       "      <td>2.758868e-11</td>\n",
       "      <td>1.935323e-16</td>\n",
       "      <td>8.132390e-29</td>\n",
       "      <td>1.526463e-11</td>\n",
       "      <td>9.196226e-12</td>\n",
       "      <td>6.451078e-17</td>\n",
       "    </tr>\n",
       "    <tr>\n",
       "      <th>2010-06-16</th>\n",
       "      <td>6.967122e-29</td>\n",
       "      <td>2.696052e-11</td>\n",
       "      <td>3.405932e-11</td>\n",
       "      <td>2.877440e-16</td>\n",
       "      <td>6.967122e-29</td>\n",
       "      <td>2.696052e-11</td>\n",
       "      <td>3.405932e-11</td>\n",
       "      <td>2.877440e-16</td>\n",
       "    </tr>\n",
       "    <tr>\n",
       "      <th>2010-06-17</th>\n",
       "      <td>2.278742e-28</td>\n",
       "      <td>2.462553e-11</td>\n",
       "      <td>1.160515e-11</td>\n",
       "      <td>5.165095e-17</td>\n",
       "      <td>6.836226e-28</td>\n",
       "      <td>7.387659e-11</td>\n",
       "      <td>3.481545e-11</td>\n",
       "      <td>1.549528e-16</td>\n",
       "    </tr>\n",
       "    <tr>\n",
       "      <th>2010-06-18</th>\n",
       "      <td>0.000000e+00</td>\n",
       "      <td>0.000000e+00</td>\n",
       "      <td>0.000000e+00</td>\n",
       "      <td>0.000000e+00</td>\n",
       "      <td>5.882001e-28</td>\n",
       "      <td>8.668046e-11</td>\n",
       "      <td>5.273181e-11</td>\n",
       "      <td>2.701225e-16</td>\n",
       "    </tr>\n",
       "  </tbody>\n",
       "</table>\n",
       "</div>"
      ],
      "text/plain": [
       "                       0             1             2             3  \\\n",
       "<DATE>                                                               \n",
       "2010-06-04  0.000000e+00  0.000000e+00  0.000000e+00  0.000000e+00   \n",
       "2010-06-07  4.694184e-30  5.201863e-13  3.194565e-15  1.032514e-18   \n",
       "2010-06-08  1.432113e-31  1.241369e-12  3.235437e-12  6.757446e-16   \n",
       "2010-06-09  1.723399e-29  8.760154e-12  5.961631e-12  1.302162e-16   \n",
       "2010-06-10  6.674334e-28  4.762940e-11  2.396740e-11  5.930020e-17   \n",
       "2010-06-11  0.000000e+00  0.000000e+00  0.000000e+00  0.000000e+00   \n",
       "2010-06-15  2.439717e-28  4.579390e-11  2.758868e-11  1.935323e-16   \n",
       "2010-06-16  6.967122e-29  2.696052e-11  3.405932e-11  2.877440e-16   \n",
       "2010-06-17  2.278742e-28  2.462553e-11  1.160515e-11  5.165095e-17   \n",
       "2010-06-18  0.000000e+00  0.000000e+00  0.000000e+00  0.000000e+00   \n",
       "\n",
       "                       4             5             6             7  \n",
       "<DATE>                                                              \n",
       "2010-06-04  6.054911e-31  3.355112e-13  9.348681e-15  5.215794e-18  \n",
       "2010-06-07  0.000000e+00  0.000000e+00  0.000000e+00  0.000000e+00  \n",
       "2010-06-08  4.773711e-32  4.137896e-13  1.078479e-12  2.252482e-16  \n",
       "2010-06-09  1.723399e-29  8.760154e-12  5.961631e-12  1.302162e-16  \n",
       "2010-06-10  2.002300e-27  1.428882e-10  7.190221e-11  1.779006e-16  \n",
       "2010-06-11  4.318387e-27  2.082926e-10  7.148827e-11  1.571037e-16  \n",
       "2010-06-15  8.132390e-29  1.526463e-11  9.196226e-12  6.451078e-17  \n",
       "2010-06-16  6.967122e-29  2.696052e-11  3.405932e-11  2.877440e-16  \n",
       "2010-06-17  6.836226e-28  7.387659e-11  3.481545e-11  1.549528e-16  \n",
       "2010-06-18  5.882001e-28  8.668046e-11  5.273181e-11  2.701225e-16  "
      ]
     },
     "execution_count": 72,
     "metadata": {},
     "output_type": "execute_result"
    }
   ],
   "source": [
    "fvm.membership_degrees_hist"
   ]
  },
  {
   "cell_type": "code",
   "execution_count": 73,
   "id": "b818cdd8",
   "metadata": {},
   "outputs": [
    {
     "data": {
      "text/plain": [
       "[array([1.05596817e-32, 1.10203188e-13, 1.18429940e-13, 7.44666139e-17,\n",
       "        3.16790452e-32, 3.30609563e-13, 3.55289821e-13, 2.23399842e-16],\n",
       "       dtype=float128),\n",
       " array([0.00000000e+00, 0.00000000e+00, 0.00000000e+00, 0.00000000e+00,\n",
       "        6.05491147e-31, 3.35511201e-13, 9.34868061e-15, 5.21579393e-18],\n",
       "       dtype=float128),\n",
       " array([4.69418366e-30, 5.20186304e-13, 3.19456453e-15, 1.03251415e-18,\n",
       "        0.00000000e+00, 0.00000000e+00, 0.00000000e+00, 0.00000000e+00],\n",
       "       dtype=float128),\n",
       " array([1.43211325e-31, 1.24136885e-12, 3.23543667e-12, 6.75744594e-16,\n",
       "        4.77371084e-32, 4.13789617e-13, 1.07847889e-12, 2.25248198e-16],\n",
       "       dtype=float128),\n",
       " array([1.72339914e-29, 8.76015437e-12, 5.96163119e-12, 1.30216181e-16,\n",
       "        1.72339914e-29, 8.76015437e-12, 5.96163119e-12, 1.30216181e-16],\n",
       "       dtype=float128),\n",
       " array([6.67433401e-28, 4.76293975e-11, 2.39674048e-11, 5.93001957e-17,\n",
       "        2.00230020e-27, 1.42888193e-10, 7.19022145e-11, 1.77900587e-16],\n",
       "       dtype=float128),\n",
       " array([0.00000000e+00, 0.00000000e+00, 0.00000000e+00, 0.00000000e+00,\n",
       "        4.31838657e-27, 2.08292601e-10, 7.14882680e-11, 1.57103732e-16],\n",
       "       dtype=float128),\n",
       " array([2.43971715e-28, 4.57939027e-11, 2.75886770e-11, 1.93532335e-16,\n",
       "        8.13239049e-29, 1.52646342e-11, 9.19622567e-12, 6.45107782e-17],\n",
       "       dtype=float128),\n",
       " array([6.96712245e-29, 2.69605235e-11, 3.40593186e-11, 2.87744033e-16,\n",
       "        6.96712245e-29, 2.69605235e-11, 3.40593186e-11, 2.87744033e-16],\n",
       "       dtype=float128),\n",
       " array([2.27874213e-28, 2.46255300e-11, 1.16051490e-11, 5.16509492e-17,\n",
       "        6.83622640e-28, 7.38765900e-11, 3.48154469e-11, 1.54952848e-16],\n",
       "       dtype=float128),\n",
       " array([0.00000000e+00, 0.00000000e+00, 0.00000000e+00, 0.00000000e+00,\n",
       "        5.88200148e-28, 8.66804612e-11, 5.27318090e-11, 2.70122535e-16],\n",
       "       dtype=float128)]"
      ]
     },
     "execution_count": 73,
     "metadata": {},
     "output_type": "execute_result"
    }
   ],
   "source": [
    "fvm._membership_degrees_hist"
   ]
  },
  {
   "cell_type": "code",
   "execution_count": 74,
   "id": "4cfbf569",
   "metadata": {},
   "outputs": [
    {
     "data": {
      "text/plain": [
       "2010-06-04    4.894474\n",
       "2010-06-07    6.096479\n",
       "2010-06-08    5.310314\n",
       "2010-06-09    4.524295\n",
       "2010-06-10    3.891806\n",
       "2010-06-11    4.157693\n",
       "2010-06-15    3.682698\n",
       "2010-06-16    4.624308\n",
       "2010-06-17    4.092745\n",
       "2010-06-18    3.646051\n",
       "dtype: float128"
      ]
     },
     "execution_count": 74,
     "metadata": {},
     "output_type": "execute_result"
    }
   ],
   "source": [
    "fvm.hist_output"
   ]
  },
  {
   "cell_type": "code",
   "execution_count": 75,
   "id": "d651da50",
   "metadata": {},
   "outputs": [
    {
     "data": {
      "text/plain": [
       "<DATE>\n",
       "2010-06-04   -3.674357\n",
       "2010-06-07   -1.126682\n",
       "2010-06-08   -0.472658\n",
       "2010-06-09    0.472658\n",
       "2010-06-10    2.482080\n",
       "2010-06-11   -0.601688\n",
       "2010-06-15    3.508624\n",
       "2010-06-16   -0.205114\n",
       "2010-06-17   -0.018538\n",
       "2010-06-18    0.693539\n",
       "Name: log return, dtype: float64"
      ]
     },
     "execution_count": 75,
     "metadata": {},
     "output_type": "execute_result"
    }
   ],
   "source": [
    "test"
   ]
  },
  {
   "cell_type": "code",
   "execution_count": 76,
   "id": "91717c8f",
   "metadata": {},
   "outputs": [
    {
     "data": {
      "text/plain": [
       "array([0.00000000e+00, 0.00000000e+00, 0.00000000e+00, 0.00000000e+00,\n",
       "       5.88200148e-28, 8.66804612e-11, 5.27318090e-11, 2.70122535e-16],\n",
       "      dtype=float128)"
      ]
     },
     "execution_count": 76,
     "metadata": {},
     "output_type": "execute_result"
    }
   ],
   "source": [
    "fvm.membership_degrees_current"
   ]
  },
  {
   "cell_type": "code",
   "execution_count": 77,
   "id": "eac0e6d2",
   "metadata": {},
   "outputs": [
    {
     "data": {
      "text/plain": [
       "[{'a': [1, 1], 'b': [1, 5], 'c': [1, 5], 'd': [5, 5], 'n_clusters': 2},\n",
       " {'centers': [-7.5, -1.5, 1.5, 4], 'variances': [7, 6, 3, 5], 'n_clusters': 4}]"
      ]
     },
     "execution_count": 77,
     "metadata": {},
     "output_type": "execute_result"
    }
   ],
   "source": [
    "fvm.clusterization_parameters"
   ]
  },
  {
   "cell_type": "code",
   "execution_count": 78,
   "id": "330b52a1",
   "metadata": {
    "scrolled": true
   },
   "outputs": [
    {
     "data": {
      "text/plain": [
       "[{'alpha_0': array([1.76520343e-01, 3.94894940e-01, 3.79028670e-01, 7.44262775e-01,\n",
       "         3.60417340e+00, 8.65894298e-01, 1.14810275e-04, 3.51334242e-01],\n",
       "        dtype=float128),\n",
       "  'alpha': array([[0.995     , 0.09708544, 0.09679388, 0.10106845, 0.95798798,\n",
       "          0.08932817, 0.08846638, 0.10102531]], dtype=float128),\n",
       "  'beta': array([[0.92224376, 0.80054235, 0.80062418, 0.79918587, 0.8367954 ,\n",
       "          0.8027686 , 0.80302277, 0.79930352]], dtype=float128)},\n",
       " {'alpha_0': array([1.76520343e-01, 6.49596959e+00, 2.72046522e+00, 3.13988659e-01,\n",
       "         1.72447463e-01, 1.07376349e-02, 1.10135450e+01, 6.09263061e+00]),\n",
       "  'alpha': array([[0.11635719, 0.11637468, 0.11637558, 0.11637558, 0.11637558,\n",
       "          0.08223532, 0.08242727, 0.08302178]]),\n",
       "  'beta': array([[0.8367954 , 0.8367954 , 0.8367954 , 0.8367954 , 0.8367954 ,\n",
       "          0.84194267, 0.8410566 , 0.83941725]])},\n",
       " {'alpha_0': array([1.76520343e-01, 3.45765545e-01, 4.14105650e-03, 4.02275465e+00,\n",
       "         6.56778045e-03, 7.69394456e+00, 8.69068507e+00, 2.45166336e-01]),\n",
       "  'alpha': array([[0.58852495, 0.08363112, 0.08363074, 0.0836469 , 0.11637558,\n",
       "          0.11637558, 0.11637558, 0.11637558]]),\n",
       "  'beta': array([[0.8367954 , 0.8293943 , 0.82928999, 0.82584536, 0.8367954 ,\n",
       "          0.8367954 , 0.8367954 , 0.8367954 ]])},\n",
       " {'alpha_0': array([0.17652034, 0.00649319, 0.54375448, 0.24724496, 2.20121529,\n",
       "         0.7940155 , 0.18610401, 0.24953027], dtype=float128),\n",
       "  'alpha': array([[0.74409254, 0.08689504, 0.08688421, 0.08690265, 0.31329345,\n",
       "          0.08689943, 0.08689602, 0.08690682]], dtype=float128),\n",
       "  'beta': array([[0.82686681, 0.81286276, 0.81287398, 0.81285511, 0.8367954 ,\n",
       "          0.81285787, 0.81286175, 0.81284646]], dtype=float128)},\n",
       " {'alpha_0': array([1.76520343e-01, 8.39731045e-01, 2.34676653e-01, 1.01317503e+00,\n",
       "         2.86198482e+00, 9.94833807e-05, 6.15552643e-01, 1.59600976e+00],\n",
       "        dtype=float128),\n",
       "  'alpha': array([[0.10738273, 0.08765058, 0.09550219, 0.17240732, 0.90952857,\n",
       "          0.08765199, 0.09550198, 0.19331399]], dtype=float128),\n",
       "  'beta': array([[0.83502363, 0.79573742, 0.79833378, 0.78409128, 0.8367954 ,\n",
       "          0.79573774, 0.7983333 , 0.80310656]], dtype=float128)},\n",
       " {'alpha_0': array([0.17652034, 1.27765082, 0.48301207, 1.48454625, 0.25806802,\n",
       "         0.00365994, 0.5984606 , 0.22768872], dtype=float128),\n",
       "  'alpha': array([[0.995     , 0.0981173 , 0.10282147, 0.41253175, 0.54652354,\n",
       "          0.08045876, 0.09341957, 0.06321186]], dtype=float128),\n",
       "  'beta': array([[0.83812918, 0.81136513, 0.81436717, 0.93215209, 0.8367954 ,\n",
       "          0.79939655, 0.80823088, 0.46453008]], dtype=float128)},\n",
       " {'alpha_0': array([1.76520343e-01, 1.05585037e+01, 8.32799588e+00, 3.87997055e-02,\n",
       "         4.75231127e-01, 5.67870835e-01, 8.31133326e-03, 8.75720354e+00],\n",
       "        dtype=float128),\n",
       "  'alpha': array([[0.11650172, 0.11638151, 0.11637558, 0.11637558, 0.11637558,\n",
       "          0.09104125, 0.09144085, 0.23736112]], dtype=float128),\n",
       "  'beta': array([[0.8367954 , 0.8367954 , 0.8367954 , 0.8367954 , 0.8367954 ,\n",
       "          0.79497986, 0.79484375, 0.57128022]], dtype=float128)},\n",
       " {'alpha_0': array([1.76520343e-01, 7.90277074e-04, 8.83728653e-01, 3.87770096e+00,\n",
       "         8.21155876e-01, 8.15882561e-01, 7.20359988e-02, 1.43784849e+00],\n",
       "        dtype=float128),\n",
       "  'alpha': array([[0.57558565, 0.08366491, 0.08465203, 0.08607244, 0.41775344,\n",
       "          0.08532442, 0.08565675, 0.08488451]], dtype=float128),\n",
       "  'beta': array([[0.8263957 , 0.81738586, 0.81684094, 0.005     , 0.8367954 ,\n",
       "          0.81646888, 0.81629329, 0.62047446]], dtype=float128)},\n",
       " {'alpha_0': array([1.76520343e-01, 6.58195258e-01, 3.35486276e-01, 6.58097289e+00,\n",
       "         8.75046516e+00, 1.39136345e-03, 5.52113071e-01, 6.25208525e-01],\n",
       "        dtype=float128),\n",
       "  'alpha': array([[0.005     , 0.08524403, 0.08520008, 0.08210958, 0.74164758,\n",
       "          0.08524401, 0.08520008, 0.08374058]], dtype=float128),\n",
       "  'beta': array([[0.8725207 , 0.81146029, 0.81149755, 0.79722409, 0.8367954 ,\n",
       "          0.81145973, 0.81149693, 0.89467553]], dtype=float128)},\n",
       " {'alpha_0': array([0.17652034, 0.40260259, 0.40260298, 0.41924475, 0.00688426,\n",
       "         0.40260225, 0.40260288, 0.58025928]),\n",
       "  'alpha': array([[0.51881937, 0.0868215 , 0.08682235, 0.0896703 , 0.10000684,\n",
       "          0.08682156, 0.08682134, 0.08771767]]),\n",
       "  'beta': array([[0.83348598, 0.8054476 , 0.80544332, 0.79042893, 0.8367954 ,\n",
       "          0.80546402, 0.80545812, 0.80994778]])},\n",
       " {'alpha_0': array([1.76520343e-01, 2.81320524e-01, 4.73062355e+00, 2.24105704e-01,\n",
       "         2.84892858e-02, 2.15129351e-03, 1.07654998e+00, 7.25619724e+00],\n",
       "        dtype=float128),\n",
       "  'alpha': array([[0.1162049 , 0.11632936, 0.11637558, 0.11637558, 0.11637558,\n",
       "          0.08773819, 0.08980242, 0.18798711]], dtype=float128),\n",
       "  'beta': array([[0.8367954 , 0.8367954 , 0.8367954 , 0.8367954 , 0.8367954 ,\n",
       "          0.80068238, 0.80029382, 0.99925119]], dtype=float128)}]"
      ]
     },
     "execution_count": 78,
     "metadata": {},
     "output_type": "execute_result"
    }
   ],
   "source": [
    "fvm._parameters_hist"
   ]
  },
  {
   "cell_type": "markdown",
   "id": "451345f2",
   "metadata": {},
   "source": [
    "### Plots"
   ]
  },
  {
   "cell_type": "code",
   "execution_count": 79,
   "id": "b5ebddcf",
   "metadata": {},
   "outputs": [
    {
     "data": {
      "image/png": "[encoded data removed]",
      "text/plain": [
       "<Figure size 432x288 with 1 Axes>"
      ]
     },
     "metadata": {
      "needs_background": "light"
     },
     "output_type": "display_data"
    }
   ],
   "source": [
    "plt.plot((np.array(fvm._hist_output) ** .5), label='forecast')\n",
    "plt.plot(test_small.values, label='actual values')\n",
    "\n",
    "plt.legend()\n",
    "plt.grid()\n",
    "plt.show()"
   ]
  },
  {
   "cell_type": "code",
   "execution_count": 80,
   "id": "2fd8d88a",
   "metadata": {},
   "outputs": [
    {
     "data": {
      "image/png": "[encoded data removed]",
      "text/plain": [
       "<Figure size 432x288 with 1 Axes>"
      ]
     },
     "metadata": {
      "needs_background": "light"
     },
     "output_type": "display_data"
    }
   ],
   "source": [
    "(fvm.hist_output ** .5).plot(label='forecast')\n",
    "test_small.plot(label='actual values')\n",
    "\n",
    "plt.legend()\n",
    "plt.grid()\n",
    "plt.show()"
   ]
  },
  {
   "cell_type": "code",
   "execution_count": 81,
   "id": "78cc15a2",
   "metadata": {},
   "outputs": [
    {
     "data": {
      "image/png": "[encoded data removed]",
      "text/plain": [
       "<Figure size 1080x576 with 1 Axes>"
      ]
     },
     "metadata": {
      "needs_background": "light"
     },
     "output_type": "display_data"
    }
   ],
   "source": [
    "(fvm.hist_output ** .5).plot(label='forecast', figsize=(15, 8))\n",
    "input_cut.plot(label='actual values')\n",
    "\n",
    "plt.legend()\n",
    "plt.grid()\n",
    "plt.show()"
   ]
  },
  {
   "cell_type": "markdown",
   "id": "fec70349",
   "metadata": {},
   "source": [
    "### Errors"
   ]
  },
  {
   "cell_type": "code",
   "execution_count": 82,
   "id": "ac0a1f54",
   "metadata": {
    "scrolled": true
   },
   "outputs": [
    {
     "data": {
      "text/plain": [
       "7.898680356904104821"
      ]
     },
     "execution_count": 82,
     "metadata": {},
     "output_type": "execute_result"
    }
   ],
   "source": [
    "mean_squared_error(fvm.hist_output ** .5, test_small, squared=True)"
   ]
  },
  {
   "cell_type": "code",
   "execution_count": 83,
   "id": "734c3d7d",
   "metadata": {},
   "outputs": [
    {
     "data": {
      "text/plain": [
       "2.8104591007349857574"
      ]
     },
     "execution_count": 83,
     "metadata": {},
     "output_type": "execute_result"
    }
   ],
   "source": [
    "mean_squared_error(fvm.hist_output ** .5, test_small, squared=False)"
   ]
  },
  {
   "cell_type": "code",
   "execution_count": 84,
   "id": "18cebaf5",
   "metadata": {},
   "outputs": [
    {
     "data": {
      "text/plain": [
       "1.1222967587239846334"
      ]
     },
     "execution_count": 84,
     "metadata": {},
     "output_type": "execute_result"
    }
   ],
   "source": [
    "mean_absolute_percentage_error(fvm.hist_output ** .5, test_small)"
   ]
  },
  {
   "cell_type": "markdown",
   "id": "18a15b1b",
   "metadata": {},
   "source": [
    "# Model w/o seasoning"
   ]
  },
  {
   "cell_type": "code",
   "execution_count": 85,
   "id": "fdb6931a",
   "metadata": {},
   "outputs": [],
   "source": [
    "lower_bounds_2 = [0] * (1 + p + q) * n_clusters_2\n",
    "upper_bounds_2 = [+np.inf] * n_clusters_2 + [1] * (p + q) * n_clusters_2\n",
    "bounds_2 = (lower_bounds_2, upper_bounds_2)"
   ]
  },
  {
   "cell_type": "code",
   "execution_count": 86,
   "id": "6fdf3652",
   "metadata": {},
   "outputs": [],
   "source": [
    "alpha_0_ini_2 = np.array([garch_fitted.params.iloc[0] for _ in range(n_clusters_2)])\n",
    "alpha_ini_2 = np.array([garch_fitted.params.iloc[1:(q + 1)].values for _ in range(n_clusters_2)])\n",
    "beta_ini_2 = np.array([garch_fitted.params.iloc[(q + 1):].values for _ in range(n_clusters_2)])"
   ]
  },
  {
   "cell_type": "code",
   "execution_count": 87,
   "id": "a67b301b",
   "metadata": {},
   "outputs": [],
   "source": [
    "parameters_ini_2 = {'alpha_0': alpha_0_ini_2, 'alpha': alpha_ini_2, 'beta': beta_ini_2}"
   ]
  },
  {
   "cell_type": "code",
   "execution_count": 88,
   "id": "50ef1cbb",
   "metadata": {},
   "outputs": [],
   "source": [
    "local_method_parameters_2 = local_method_parameters.copy()\n",
    "local_method_parameters_2['bounds'] = bounds_2\n",
    "local_method_parameters_2['parameters_ini'] = parameters_ini_2"
   ]
  },
  {
   "cell_type": "code",
   "execution_count": 89,
   "id": "16c3eb7b",
   "metadata": {},
   "outputs": [],
   "source": [
    "fvm_vanilla = FuzzyVolatilityModel(train,\n",
    "                           clusterization_method=clusterization_methods[1],\n",
    "                           clusterization_parameters=clusterization_parameters[1],\n",
    "                           local_method=local_method,\n",
    "                           local_method_parameters=local_method_parameters_2,\n",
    "                           n_last_points_to_use_for_clustering=n_last_points_to_use_for_clustering[1],\n",
    "                           data_to_cluster=data_to_cluster[1],\n",
    "                           cluster_sets_conjunction=cluster_sets_conjunction)"
   ]
  },
  {
   "cell_type": "markdown",
   "id": "850c6a7f",
   "metadata": {},
   "source": [
    "## `fit`"
   ]
  },
  {
   "cell_type": "code",
   "execution_count": 90,
   "id": "07786a21",
   "metadata": {
    "scrolled": true
   },
   "outputs": [
    {
     "name": "stdout",
     "output_type": "stream",
     "text": [
      "CPU times: user 26.1 s, sys: 1.73 s, total: 27.8 s\n",
      "Wall time: 30.5 s\n"
     ]
    }
   ],
   "source": [
    "%%time\n",
    "\n",
    "fvm_vanilla.fit()"
   ]
  },
  {
   "cell_type": "code",
   "execution_count": 91,
   "id": "08143bd8",
   "metadata": {},
   "outputs": [
    {
     "data": {
      "text/plain": [
       "[1, 10]"
      ]
     },
     "execution_count": 91,
     "metadata": {},
     "output_type": "execute_result"
    }
   ],
   "source": [
    "n_last_points_to_use_for_clustering"
   ]
  },
  {
   "cell_type": "code",
   "execution_count": 92,
   "id": "18921ce4",
   "metadata": {},
   "outputs": [
    {
     "data": {
      "text/plain": [
       "array([0.17652034, 0.41113012, 0.4111301 , 0.411074  ], dtype=float128)"
      ]
     },
     "execution_count": 92,
     "metadata": {},
     "output_type": "execute_result"
    }
   ],
   "source": [
    "fvm_vanilla.alpha_0"
   ]
  },
  {
   "cell_type": "code",
   "execution_count": 93,
   "id": "a5f5154b",
   "metadata": {},
   "outputs": [
    {
     "data": {
      "text/plain": [
       "array([[0.995     , 0.09101701, 0.09101687, 0.09101824]], dtype=float128)"
      ]
     },
     "execution_count": 93,
     "metadata": {},
     "output_type": "execute_result"
    }
   ],
   "source": [
    "fvm_vanilla.alpha"
   ]
  },
  {
   "cell_type": "code",
   "execution_count": 94,
   "id": "815cccd7",
   "metadata": {},
   "outputs": [
    {
     "data": {
      "text/plain": [
       "array([[0.92370759, 0.80182882, 0.80182854, 0.80183659]], dtype=float128)"
      ]
     },
     "execution_count": 94,
     "metadata": {},
     "output_type": "execute_result"
    }
   ],
   "source": [
    "fvm_vanilla.beta"
   ]
  },
  {
   "cell_type": "code",
   "execution_count": 95,
   "id": "bf955be6",
   "metadata": {},
   "outputs": [
    {
     "data": {
      "text/plain": [
       "omega       0.176520\n",
       "alpha[1]    0.116376\n",
       "beta[1]     0.836795\n",
       "Name: params, dtype: float64"
      ]
     },
     "execution_count": 95,
     "metadata": {},
     "output_type": "execute_result"
    }
   ],
   "source": [
    "garch_fitted.params"
   ]
  },
  {
   "cell_type": "code",
   "execution_count": 96,
   "id": "a8e8ccca",
   "metadata": {},
   "outputs": [
    {
     "data": {
      "text/plain": [
       "[{'alpha_0': array([0.17652034, 0.41113012, 0.4111301 , 0.411074  ], dtype=float128),\n",
       "  'alpha': array([[0.995     , 0.09101701, 0.09101687, 0.09101824]], dtype=float128),\n",
       "  'beta': array([[0.92370759, 0.80182882, 0.80182854, 0.80183659]], dtype=float128)}]"
      ]
     },
     "execution_count": 96,
     "metadata": {},
     "output_type": "execute_result"
    }
   ],
   "source": [
    "fvm_vanilla._parameters_hist"
   ]
  },
  {
   "cell_type": "code",
   "execution_count": 97,
   "id": "e14efe5d",
   "metadata": {},
   "outputs": [
    {
     "data": {
      "text/plain": [
       "array([4.22387270e-32, 4.40812751e-13, 4.73719761e-13, 2.97866455e-16],\n",
       "      dtype=float128)"
      ]
     },
     "execution_count": 97,
     "metadata": {},
     "output_type": "execute_result"
    }
   ],
   "source": [
    "fvm_vanilla.membership_degrees_current"
   ]
  },
  {
   "cell_type": "code",
   "execution_count": 98,
   "id": "b26c6bc0",
   "metadata": {},
   "outputs": [
    {
     "data": {
      "text/plain": [
       "{'n_clusters': 4,\n",
       " 'params by sets': [{'centers': [-7.5, -1.5, 1.5, 4],\n",
       "   'variances': [7, 6, 3, 5],\n",
       "   'n_clusters': 4}]}"
      ]
     },
     "execution_count": 98,
     "metadata": {},
     "output_type": "execute_result"
    }
   ],
   "source": [
    "fvm_vanilla.clusters_parameters_current"
   ]
  },
  {
   "cell_type": "code",
   "execution_count": 99,
   "id": "05fcfdd1",
   "metadata": {},
   "outputs": [
    {
     "data": {
      "text/plain": [
       "[<DATE>\n",
       " 2010-01-11    1\n",
       " 2010-01-12    2\n",
       " 2010-01-13    3\n",
       " 2010-01-14    4\n",
       " 2010-01-15    5\n",
       "              ..\n",
       " 2010-05-28    5\n",
       " 2010-05-31    1\n",
       " 2010-06-01    2\n",
       " 2010-06-02    3\n",
       " 2010-06-03    4\n",
       " Name: <DATE>, Length: 100, dtype: int64,\n",
       " 'train']"
      ]
     },
     "execution_count": 99,
     "metadata": {},
     "output_type": "execute_result"
    }
   ],
   "source": [
    "data_to_cluster"
   ]
  },
  {
   "cell_type": "code",
   "execution_count": 100,
   "id": "5641e255",
   "metadata": {},
   "outputs": [
    {
     "data": {
      "text/plain": [
       "[array([4.22387270e-32, 4.40812751e-13, 4.73719761e-13, 2.97866455e-16],\n",
       "       dtype=float128)]"
      ]
     },
     "execution_count": 100,
     "metadata": {},
     "output_type": "execute_result"
    }
   ],
   "source": [
    "fvm_vanilla._membership_degrees_hist"
   ]
  },
  {
   "cell_type": "code",
   "execution_count": 101,
   "id": "2da735ae",
   "metadata": {},
   "outputs": [
    {
     "data": {
      "text/plain": [
       "<DATE>\n",
       "2010-01-11    7.668616\n",
       "2010-01-12   -2.421124\n",
       "2010-01-13    1.932676\n",
       "2010-01-14    0.874942\n",
       "2010-01-15   -0.491052\n",
       "                ...   \n",
       "2010-05-28   -0.129833\n",
       "2010-05-31    1.718848\n",
       "2010-06-01   -1.069901\n",
       "2010-06-02    1.570084\n",
       "2010-06-03    0.310364\n",
       "Name: log return, Length: 100, dtype: float64"
      ]
     },
     "execution_count": 101,
     "metadata": {},
     "output_type": "execute_result"
    }
   ],
   "source": [
    "fvm_vanilla.train_data"
   ]
  },
  {
   "cell_type": "markdown",
   "id": "3c8686b2",
   "metadata": {},
   "source": [
    "## `forecast`"
   ]
  },
  {
   "cell_type": "code",
   "execution_count": 102,
   "id": "154aed08",
   "metadata": {},
   "outputs": [],
   "source": [
    "fvm_vanilla.forecast()"
   ]
  },
  {
   "cell_type": "code",
   "execution_count": 103,
   "id": "a3711b8d",
   "metadata": {},
   "outputs": [
    {
     "data": {
      "text/plain": [
       "4.88830892338470232"
      ]
     },
     "execution_count": 103,
     "metadata": {},
     "output_type": "execute_result"
    }
   ],
   "source": [
    "fvm_vanilla.current_output"
   ]
  },
  {
   "cell_type": "code",
   "execution_count": 104,
   "id": "3f041306",
   "metadata": {},
   "outputs": [
    {
     "data": {
      "text/plain": [
       "[4.88830892338470232]"
      ]
     },
     "execution_count": 104,
     "metadata": {},
     "output_type": "execute_result"
    }
   ],
   "source": [
    "fvm_vanilla._hist_output"
   ]
  },
  {
   "cell_type": "code",
   "execution_count": 105,
   "id": "61a8cef9",
   "metadata": {
    "scrolled": true
   },
   "outputs": [
    {
     "data": {
      "image/png": "[encoded data removed]",
      "text/plain": [
       "<Figure size 432x288 with 1 Axes>"
      ]
     },
     "metadata": {
      "needs_background": "light"
     },
     "output_type": "display_data"
    }
   ],
   "source": [
    "plt.plot(fvm_vanilla.h ** .5, label='sqrt(h_t)')\n",
    "plt.plot(train.values, label='y_t')\n",
    "\n",
    "plt.legend()\n",
    "plt.grid()\n",
    "plt.show()"
   ]
  },
  {
   "cell_type": "code",
   "execution_count": 106,
   "id": "a697a9cb",
   "metadata": {},
   "outputs": [
    {
     "data": {
      "text/plain": [
       "array([4.58784044, 9.44228663, 8.5157532 , 7.57927486, 6.55808568,\n",
       "       5.69153839, 5.19703527, 4.59722214, 4.52974216, 4.39278095,\n",
       "       4.74432513, 4.24862046, 4.77250774, 4.26094243, 3.85237565,\n",
       "       3.51469073, 3.30886506, 3.4381229 , 3.17716133, 4.75934167,\n",
       "       4.66217062, 4.49276384, 4.09321793, 3.74804975, 3.48194627,\n",
       "       3.78226518, 3.4981029 , 4.26575869, 3.83470487, 3.53562343,\n",
       "       3.27662909, 3.13898259, 3.2831663 , 3.13910593, 2.95194977,\n",
       "       3.0284765 , 2.98443779, 2.97023254, 2.83828022, 3.20737061,\n",
       "       3.01579832, 2.82995539, 2.69800331, 2.83814581, 2.75158955,\n",
       "       2.794538  , 2.84052201, 2.69349326, 2.66198829, 2.59925658,\n",
       "       2.49982629, 2.50474472, 2.44216641, 2.42163146, 2.82022426,\n",
       "       2.70283342, 2.60431316, 3.02549373, 2.86279395, 2.74340126,\n",
       "       2.62306053, 2.71766115, 2.59185428, 2.66936979, 2.66085701,\n",
       "       2.54563719, 2.74114304, 2.62368168, 3.10005826, 3.11888836,\n",
       "       3.02081258, 2.93060006, 2.82355799, 2.74566669, 2.70339158,\n",
       "       3.19210515, 3.05840584, 3.0381879 , 2.94073491, 4.48287763,\n",
       "       4.34623851, 6.00989303, 6.08038024, 7.14614013, 7.46580719,\n",
       "       6.54226815, 6.0324153 , 5.34862711, 4.70808683, 4.87802079,\n",
       "       7.72427849, 6.61259382, 5.77512064, 7.66240592, 8.14150347,\n",
       "       9.37233293, 7.92766967, 7.03666693, 6.15751751, 5.57277589,\n",
       "       4.88830892], dtype=float128)"
      ]
     },
     "execution_count": 106,
     "metadata": {},
     "output_type": "execute_result"
    }
   ],
   "source": [
    "fvm_vanilla.h"
   ]
  },
  {
   "cell_type": "markdown",
   "id": "049534ac",
   "metadata": {},
   "source": [
    "## `feed_daily_data`"
   ]
  },
  {
   "cell_type": "code",
   "execution_count": 107,
   "id": "deacac68",
   "metadata": {},
   "outputs": [],
   "source": [
    "# n_test_small = 10\n",
    "# test_small = test.iloc[:n_test_small].copy()\n",
    "# input_cut = pd.concat([train, test_small]).copy()\n",
    "\n",
    "# data_to_cluster_test_1 = pd.Series(test_small.index.dayofweek + 1, index=test_small.index).copy()\n",
    "# data_to_cluster_test_2 = 'train'\n",
    "# data_to_cluster_test = [data_to_cluster_test_1, data_to_cluster_test_2]"
   ]
  },
  {
   "cell_type": "code",
   "execution_count": 108,
   "id": "52707074",
   "metadata": {
    "scrolled": false
   },
   "outputs": [
    {
     "name": "stdout",
     "output_type": "stream",
     "text": [
      "CPU times: user 4min 38s, sys: 17.1 s, total: 4min 55s\n",
      "Wall time: 5min 9s\n"
     ]
    }
   ],
   "source": [
    "%%time\n",
    "\n",
    "fvm_vanilla.feed_daily_data(test_small, data_to_cluster=data_to_cluster_test_2)"
   ]
  },
  {
   "cell_type": "code",
   "execution_count": 109,
   "id": "550b604f",
   "metadata": {},
   "outputs": [
    {
     "data": {
      "text/plain": [
       "<DATE>\n",
       "2010-01-11    7.668616\n",
       "2010-01-12   -2.421124\n",
       "2010-01-13    1.932676\n",
       "2010-01-14    0.874942\n",
       "2010-01-15   -0.491052\n",
       "                ...   \n",
       "2010-06-11   -0.601688\n",
       "2010-06-15    3.508624\n",
       "2010-06-16   -0.205114\n",
       "2010-06-17   -0.018538\n",
       "2010-06-18    0.693539\n",
       "Name: log return, Length: 110, dtype: float64"
      ]
     },
     "execution_count": 109,
     "metadata": {},
     "output_type": "execute_result"
    }
   ],
   "source": [
    "fvm_vanilla.data_to_cluster"
   ]
  },
  {
   "cell_type": "code",
   "execution_count": 110,
   "id": "e6c248b7",
   "metadata": {},
   "outputs": [
    {
     "data": {
      "text/plain": [
       "11"
      ]
     },
     "execution_count": 110,
     "metadata": {},
     "output_type": "execute_result"
    }
   ],
   "source": [
    "len(fvm_vanilla._hist_output)"
   ]
  },
  {
   "cell_type": "code",
   "execution_count": 111,
   "id": "dbc2472f",
   "metadata": {},
   "outputs": [
    {
     "data": {
      "text/plain": [
       "array([4.58784044, 9.28620028, 8.36153785, 7.43305861, 6.42690361,\n",
       "       5.57498993, 5.0877639 , 4.50000474, 4.43152283, 4.2961295 ,\n",
       "       4.63637507, 4.15263179, 4.66130346, 4.16259659, 3.76492103,\n",
       "       3.43674607, 3.23716626, 3.36356517, 3.1102094 , 4.64939383,\n",
       "       4.55348904, 4.38774151, 3.99861147, 3.66296729, 3.40462744,\n",
       "       3.69732665, 3.42116745, 4.16812811, 3.74841075, 3.45766181,\n",
       "       3.20624257, 3.07305401, 3.21395809, 3.07425365, 2.89274162,\n",
       "       2.96777163, 2.92534589, 2.91190502, 2.7839079 , 3.14323143,\n",
       "       2.95682408, 2.77624553, 2.64827051, 2.78497866, 2.70098405,\n",
       "       2.74299292, 2.78785236, 2.64493807, 2.6145287 , 2.55374715,\n",
       "       2.45731196, 2.46241821, 2.40181894, 2.38212926, 2.76997612,\n",
       "       2.65553575, 2.559646  , 2.96925988, 2.81057447, 2.6942945 ,\n",
       "       2.57727428, 2.66941334, 2.54707945, 2.62261266, 2.61436485,\n",
       "       2.50235763, 2.69263911, 2.5783138 , 3.04161081, 3.05938852,\n",
       "       2.96356826, 2.87560369, 2.77143176, 2.69575356, 2.6547913 ,\n",
       "       3.13019393, 2.99972155, 2.97985544, 2.88495034, 4.38456337,\n",
       "       4.24981713, 5.86624847, 5.93169294, 6.96548976, 7.27298463,\n",
       "       6.3718434 , 5.87471789, 5.20934302, 4.58694659, 4.75335587,\n",
       "       7.52182961, 6.43791494, 5.62258149, 7.45806355, 7.92184654,\n",
       "       9.11646094, 7.70833006, 6.84101186, 5.98648484, 5.41924321,\n",
       "       4.75546682, 5.41045591, 4.85225764, 4.31280017, 3.88092448,\n",
       "       4.06066676, 3.69134205, 4.45318179, 3.97726119, 3.59255829,\n",
       "       3.327116  ], dtype=float128)"
      ]
     },
     "execution_count": 111,
     "metadata": {},
     "output_type": "execute_result"
    }
   ],
   "source": [
    "fvm_vanilla.h"
   ]
  },
  {
   "cell_type": "code",
   "execution_count": 112,
   "id": "194e83d9",
   "metadata": {},
   "outputs": [
    {
     "data": {
      "text/plain": [
       "(111,)"
      ]
     },
     "execution_count": 112,
     "metadata": {},
     "output_type": "execute_result"
    }
   ],
   "source": [
    "_.shape"
   ]
  },
  {
   "cell_type": "code",
   "execution_count": 113,
   "id": "ad1ae40a",
   "metadata": {},
   "outputs": [
    {
     "data": {
      "text/plain": [
       "<DATE>\n",
       "2010-06-04   -3.674357\n",
       "2010-06-07   -1.126682\n",
       "2010-06-08   -0.472658\n",
       "2010-06-09    0.472658\n",
       "2010-06-10    2.482080\n",
       "2010-06-11   -0.601688\n",
       "2010-06-15    3.508624\n",
       "2010-06-16   -0.205114\n",
       "2010-06-17   -0.018538\n",
       "2010-06-18    0.693539\n",
       "Name: log return, dtype: float64"
      ]
     },
     "execution_count": 113,
     "metadata": {},
     "output_type": "execute_result"
    }
   ],
   "source": [
    "fvm_vanilla.data_to_cluster[-10:]"
   ]
  },
  {
   "cell_type": "code",
   "execution_count": 114,
   "id": "4da79e98",
   "metadata": {},
   "outputs": [
    {
     "data": {
      "text/html": [
       "<div>\n",
       "<style scoped>\n",
       "    .dataframe tbody tr th:only-of-type {\n",
       "        vertical-align: middle;\n",
       "    }\n",
       "\n",
       "    .dataframe tbody tr th {\n",
       "        vertical-align: top;\n",
       "    }\n",
       "\n",
       "    .dataframe thead th {\n",
       "        text-align: right;\n",
       "    }\n",
       "</style>\n",
       "<table border=\"1\" class=\"dataframe\">\n",
       "  <thead>\n",
       "    <tr style=\"text-align: right;\">\n",
       "      <th></th>\n",
       "      <th>0</th>\n",
       "      <th>1</th>\n",
       "      <th>2</th>\n",
       "      <th>3</th>\n",
       "    </tr>\n",
       "    <tr>\n",
       "      <th>&lt;DATE&gt;</th>\n",
       "      <th></th>\n",
       "      <th></th>\n",
       "      <th></th>\n",
       "      <th></th>\n",
       "    </tr>\n",
       "  </thead>\n",
       "  <tbody>\n",
       "    <tr>\n",
       "      <th>2010-06-04</th>\n",
       "      <td>6.054911e-31</td>\n",
       "      <td>3.355112e-13</td>\n",
       "      <td>9.348681e-15</td>\n",
       "      <td>5.215794e-18</td>\n",
       "    </tr>\n",
       "    <tr>\n",
       "      <th>2010-06-07</th>\n",
       "      <td>4.694184e-30</td>\n",
       "      <td>5.201863e-13</td>\n",
       "      <td>3.194565e-15</td>\n",
       "      <td>1.032514e-18</td>\n",
       "    </tr>\n",
       "    <tr>\n",
       "      <th>2010-06-08</th>\n",
       "      <td>1.909484e-31</td>\n",
       "      <td>1.655158e-12</td>\n",
       "      <td>4.313916e-12</td>\n",
       "      <td>9.009928e-16</td>\n",
       "    </tr>\n",
       "    <tr>\n",
       "      <th>2010-06-09</th>\n",
       "      <td>3.446798e-29</td>\n",
       "      <td>1.752031e-11</td>\n",
       "      <td>1.192326e-11</td>\n",
       "      <td>2.604324e-16</td>\n",
       "    </tr>\n",
       "    <tr>\n",
       "      <th>2010-06-10</th>\n",
       "      <td>2.669734e-27</td>\n",
       "      <td>1.905176e-10</td>\n",
       "      <td>9.586962e-11</td>\n",
       "      <td>2.372008e-16</td>\n",
       "    </tr>\n",
       "    <tr>\n",
       "      <th>2010-06-11</th>\n",
       "      <td>4.318387e-27</td>\n",
       "      <td>2.082926e-10</td>\n",
       "      <td>7.148827e-11</td>\n",
       "      <td>1.571037e-16</td>\n",
       "    </tr>\n",
       "    <tr>\n",
       "      <th>2010-06-15</th>\n",
       "      <td>3.252956e-28</td>\n",
       "      <td>6.105854e-11</td>\n",
       "      <td>3.678490e-11</td>\n",
       "      <td>2.580431e-16</td>\n",
       "    </tr>\n",
       "    <tr>\n",
       "      <th>2010-06-16</th>\n",
       "      <td>1.393424e-28</td>\n",
       "      <td>5.392105e-11</td>\n",
       "      <td>6.811864e-11</td>\n",
       "      <td>5.754881e-16</td>\n",
       "    </tr>\n",
       "    <tr>\n",
       "      <th>2010-06-17</th>\n",
       "      <td>9.114969e-28</td>\n",
       "      <td>9.850212e-11</td>\n",
       "      <td>4.642060e-11</td>\n",
       "      <td>2.066038e-16</td>\n",
       "    </tr>\n",
       "    <tr>\n",
       "      <th>2010-06-18</th>\n",
       "      <td>5.882001e-28</td>\n",
       "      <td>8.668046e-11</td>\n",
       "      <td>5.273181e-11</td>\n",
       "      <td>2.701225e-16</td>\n",
       "    </tr>\n",
       "  </tbody>\n",
       "</table>\n",
       "</div>"
      ],
      "text/plain": [
       "                       0             1             2             3\n",
       "<DATE>                                                            \n",
       "2010-06-04  6.054911e-31  3.355112e-13  9.348681e-15  5.215794e-18\n",
       "2010-06-07  4.694184e-30  5.201863e-13  3.194565e-15  1.032514e-18\n",
       "2010-06-08  1.909484e-31  1.655158e-12  4.313916e-12  9.009928e-16\n",
       "2010-06-09  3.446798e-29  1.752031e-11  1.192326e-11  2.604324e-16\n",
       "2010-06-10  2.669734e-27  1.905176e-10  9.586962e-11  2.372008e-16\n",
       "2010-06-11  4.318387e-27  2.082926e-10  7.148827e-11  1.571037e-16\n",
       "2010-06-15  3.252956e-28  6.105854e-11  3.678490e-11  2.580431e-16\n",
       "2010-06-16  1.393424e-28  5.392105e-11  6.811864e-11  5.754881e-16\n",
       "2010-06-17  9.114969e-28  9.850212e-11  4.642060e-11  2.066038e-16\n",
       "2010-06-18  5.882001e-28  8.668046e-11  5.273181e-11  2.701225e-16"
      ]
     },
     "execution_count": 114,
     "metadata": {},
     "output_type": "execute_result"
    }
   ],
   "source": [
    "fvm_vanilla.membership_degrees_hist"
   ]
  },
  {
   "cell_type": "code",
   "execution_count": 115,
   "id": "4358e76c",
   "metadata": {},
   "outputs": [
    {
     "data": {
      "text/plain": [
       "2010-06-04    4.888309\n",
       "2010-06-07    6.097469\n",
       "2010-06-08    5.309465\n",
       "2010-06-09    4.523872\n",
       "2010-06-10    3.890516\n",
       "2010-06-11    4.157587\n",
       "2010-06-15    3.682842\n",
       "2010-06-16    4.624858\n",
       "2010-06-17    4.092650\n",
       "2010-06-18    3.646007\n",
       "dtype: float128"
      ]
     },
     "execution_count": 115,
     "metadata": {},
     "output_type": "execute_result"
    }
   ],
   "source": [
    "fvm_vanilla.hist_output"
   ]
  },
  {
   "cell_type": "code",
   "execution_count": 116,
   "id": "8f612b7c",
   "metadata": {},
   "outputs": [
    {
     "data": {
      "text/plain": [
       "<DATE>\n",
       "2010-06-04   -3.674357\n",
       "2010-06-07   -1.126682\n",
       "2010-06-08   -0.472658\n",
       "2010-06-09    0.472658\n",
       "2010-06-10    2.482080\n",
       "2010-06-11   -0.601688\n",
       "2010-06-15    3.508624\n",
       "2010-06-16   -0.205114\n",
       "2010-06-17   -0.018538\n",
       "2010-06-18    0.693539\n",
       "Name: log return, dtype: float64"
      ]
     },
     "execution_count": 116,
     "metadata": {},
     "output_type": "execute_result"
    }
   ],
   "source": [
    "test"
   ]
  },
  {
   "cell_type": "code",
   "execution_count": 117,
   "id": "893712be",
   "metadata": {},
   "outputs": [
    {
     "data": {
      "text/plain": [
       "array([5.88200148e-28, 8.66804612e-11, 5.27318090e-11, 2.70122535e-16],\n",
       "      dtype=float128)"
      ]
     },
     "execution_count": 117,
     "metadata": {},
     "output_type": "execute_result"
    }
   ],
   "source": [
    "fvm_vanilla.membership_degrees_current"
   ]
  },
  {
   "cell_type": "code",
   "execution_count": 118,
   "id": "11acb59e",
   "metadata": {},
   "outputs": [
    {
     "data": {
      "text/plain": [
       "{'centers': [-7.5, -1.5, 1.5, 4], 'variances': [7, 6, 3, 5], 'n_clusters': 4}"
      ]
     },
     "execution_count": 118,
     "metadata": {},
     "output_type": "execute_result"
    }
   ],
   "source": [
    "fvm_vanilla.clusterization_parameters"
   ]
  },
  {
   "cell_type": "code",
   "execution_count": 119,
   "id": "82d32c14",
   "metadata": {
    "scrolled": true
   },
   "outputs": [
    {
     "data": {
      "text/plain": [
       "[{'alpha_0': array([0.17652034, 0.41113012, 0.4111301 , 0.411074  ], dtype=float128),\n",
       "  'alpha': array([[0.995     , 0.09101701, 0.09101687, 0.09101824]], dtype=float128),\n",
       "  'beta': array([[0.92370759, 0.80182882, 0.80182854, 0.80183659]], dtype=float128)},\n",
       " {'alpha_0': array([1.76520343e-01, 1.43308757e-04, 1.13828425e+01, 8.65339818e+00],\n",
       "        dtype=float128),\n",
       "  'alpha': array([[0.995     , 0.0822186 , 0.08226298, 0.08178608]], dtype=float128),\n",
       "  'beta': array([[0.99068431, 0.84200473, 0.84195347, 0.84448589]], dtype=float128)},\n",
       " {'alpha_0': array([0.17652034, 0.32188598, 3.93881019, 4.07735363], dtype=float128),\n",
       "  'alpha': array([[0.995376  , 0.08366263, 0.0836825 , 0.08720645]], dtype=float128),\n",
       "  'beta': array([[0.98399896, 0.82929424, 0.82946988, 0.82821422]], dtype=float128)},\n",
       " {'alpha_0': array([0.17652034, 1.37305485, 0.00618053, 1.18129293]),\n",
       "  'alpha': array([[0.995     , 0.0868447 , 0.08684476, 0.08684019]]),\n",
       "  'beta': array([[0.79984288, 0.81278755, 0.81280116, 0.81272556]])},\n",
       " {'alpha_0': array([1.76520343e-01, 7.09926638e-01, 4.36209002e-05, 1.00945002e+00]),\n",
       "  'alpha': array([[0.995     , 0.09086907, 0.09086944, 0.09095319]]),\n",
       "  'beta': array([[0.87248976, 0.7966435 , 0.79662334, 0.79574023]])},\n",
       " {'alpha_0': array([0.17652034, 0.12843281, 0.95472465, 1.37545071]),\n",
       "  'alpha': array([[0.995     , 0.08852544, 0.08852669, 0.06451221]]),\n",
       "  'beta': array([[0.83680888, 0.80485869, 0.80480503, 0.67566204]])},\n",
       " {'alpha_0': array([0.17652034, 0.56041523, 0.02994036, 0.06659547]),\n",
       "  'alpha': array([[0.995     , 0.09114744, 0.09114761, 0.09063383]]),\n",
       "  'beta': array([[0.83970287, 0.79495573, 0.79494841, 0.78061368]])},\n",
       " {'alpha_0': array([1.76520343e-01, 3.57277140e-05, 1.01911916e+00, 2.91825948e+00],\n",
       "        dtype=float128),\n",
       "  'alpha': array([[0.005     , 0.08432238, 0.08438287, 0.09348061]], dtype=float128),\n",
       "  'beta': array([[0.83603509, 0.81713585, 0.81714933, 0.82250653]], dtype=float128)},\n",
       " {'alpha_0': array([0.17652034, 0.39335675, 0.3936688 , 0.29688058], dtype=float128),\n",
       "  'alpha': array([[0.995     , 0.08527997, 0.08516711, 0.08631457]], dtype=float128),\n",
       "  'beta': array([[0.99983265, 0.81141115, 0.81150164, 0.78566697]], dtype=float128)},\n",
       " {'alpha_0': array([0.17652034, 0.00761436, 1.24086788, 1.39344268], dtype=float128),\n",
       "  'alpha': array([[0.995     , 0.08673834, 0.08700922, 0.09867512]], dtype=float128),\n",
       "  'beta': array([[0.8335478 , 0.80549936, 0.80532924, 0.81833708]], dtype=float128)},\n",
       " {'alpha_0': array([1.76520343e-01, 1.65167446e-03, 1.07709788e+00, 2.03142849e+00]),\n",
       "  'alpha': array([[0.005     , 0.088506  , 0.08850719, 0.08651162]]),\n",
       "  'beta': array([[0.85065924, 0.80057869, 0.80056657, 0.80148427]])}]"
      ]
     },
     "execution_count": 119,
     "metadata": {},
     "output_type": "execute_result"
    }
   ],
   "source": [
    "fvm_vanilla._parameters_hist"
   ]
  },
  {
   "cell_type": "markdown",
   "id": "70f4fd09",
   "metadata": {},
   "source": [
    "### Plots"
   ]
  },
  {
   "cell_type": "code",
   "execution_count": null,
   "id": "7f68c3af",
   "metadata": {},
   "outputs": [],
   "source": [
    "plt.plot((np.array(fvm_vanilla._hist_output) ** .5), label='forecast')\n",
    "plt.plot(test_small.values, label='actual values')\n",
    "\n",
    "plt.legend()\n",
    "plt.grid()\n",
    "plt.show()"
   ]
  },
  {
   "cell_type": "code",
   "execution_count": null,
   "id": "2ae102a3",
   "metadata": {},
   "outputs": [],
   "source": [
    "(fvm_vanilla.hist_output ** .5).plot(label='forecast')\n",
    "test_small.plot(label='actual values')\n",
    "\n",
    "plt.legend()\n",
    "plt.grid()\n",
    "plt.show()"
   ]
  },
  {
   "cell_type": "code",
   "execution_count": null,
   "id": "c002898f",
   "metadata": {},
   "outputs": [],
   "source": [
    "(fvm_vanilla.hist_output ** .5).plot(label='forecast', figsize=(15, 8))\n",
    "input_cut.plot(label='actual values')\n",
    "\n",
    "plt.legend()\n",
    "plt.grid()\n",
    "plt.show()"
   ]
  },
  {
   "cell_type": "markdown",
   "id": "6b2e8ae4",
   "metadata": {},
   "source": [
    "### Errors"
   ]
  },
  {
   "cell_type": "code",
   "execution_count": null,
   "id": "c307806d",
   "metadata": {
    "scrolled": true
   },
   "outputs": [],
   "source": [
    "mean_squared_error(fvm_vanilla.hist_output ** .5, test_small, squared=True)"
   ]
  },
  {
   "cell_type": "code",
   "execution_count": null,
   "id": "87294864",
   "metadata": {},
   "outputs": [],
   "source": [
    "_ / mean_squared_error(fvm.hist_output ** .5, test_small, squared=True)"
   ]
  },
  {
   "cell_type": "code",
   "execution_count": null,
   "id": "f13748a2",
   "metadata": {},
   "outputs": [],
   "source": [
    "(_ - 1) * 100"
   ]
  },
  {
   "cell_type": "code",
   "execution_count": null,
   "id": "6b445093",
   "metadata": {},
   "outputs": [],
   "source": [
    "mean_squared_error(fvm_vanilla.hist_output ** .5, test_small, squared=False)"
   ]
  },
  {
   "cell_type": "code",
   "execution_count": null,
   "id": "6ecc2ea7",
   "metadata": {},
   "outputs": [],
   "source": [
    "mean_absolute_percentage_error(fvm_vanilla.hist_output ** .5, test_small)"
   ]
  },
  {
   "cell_type": "markdown",
   "id": "f527df76",
   "metadata": {},
   "source": [
    "## Diff w/ seasonal model"
   ]
  },
  {
   "cell_type": "code",
   "execution_count": null,
   "id": "33f7a5c5",
   "metadata": {},
   "outputs": [],
   "source": [
    "fvm.h - fvm_vanilla.h"
   ]
  },
  {
   "cell_type": "code",
   "execution_count": null,
   "id": "3458d28c",
   "metadata": {},
   "outputs": [],
   "source": [
    "_.mean()"
   ]
  },
  {
   "cell_type": "markdown",
   "id": "592c5dad",
   "metadata": {},
   "source": [
    "## Same data fed to GARCH(1, 1)"
   ]
  },
  {
   "cell_type": "markdown",
   "id": "ba0e281d",
   "metadata": {},
   "source": [
    "### No retraining"
   ]
  },
  {
   "cell_type": "code",
   "execution_count": null,
   "id": "528064bb",
   "metadata": {},
   "outputs": [],
   "source": [
    "model = arch_model(train,\n",
    "                   mean=local_method_parameters['mean'],\n",
    "                   vol='GARCH', p=local_method_parameters['p'],\n",
    "                   q=local_method_parameters['q'],\n",
    "                   dist=local_method_parameters['dist'])"
   ]
  },
  {
   "cell_type": "code",
   "execution_count": null,
   "id": "530db4c6",
   "metadata": {},
   "outputs": [],
   "source": [
    "model.volatility"
   ]
  },
  {
   "cell_type": "code",
   "execution_count": null,
   "id": "bb9ee778",
   "metadata": {},
   "outputs": [],
   "source": [
    "fitted = model.fit()"
   ]
  },
  {
   "cell_type": "code",
   "execution_count": null,
   "id": "c54be497",
   "metadata": {},
   "outputs": [],
   "source": [
    "fitted.summary"
   ]
  },
  {
   "cell_type": "code",
   "execution_count": null,
   "id": "a3585cd3",
   "metadata": {},
   "outputs": [],
   "source": [
    "fitted.params"
   ]
  },
  {
   "cell_type": "code",
   "execution_count": null,
   "id": "7e9d7b7d",
   "metadata": {},
   "outputs": [],
   "source": [
    "fvm.alpha_0"
   ]
  },
  {
   "cell_type": "code",
   "execution_count": null,
   "id": "35a92d77",
   "metadata": {},
   "outputs": [],
   "source": [
    "fvm.alpha"
   ]
  },
  {
   "cell_type": "code",
   "execution_count": null,
   "id": "c56cc12f",
   "metadata": {},
   "outputs": [],
   "source": [
    "fvm.beta"
   ]
  },
  {
   "cell_type": "code",
   "execution_count": null,
   "id": "fe5ba7e6",
   "metadata": {},
   "outputs": [],
   "source": [
    "forecast = fitted.forecast(reindex=False, horizon=1)"
   ]
  },
  {
   "cell_type": "code",
   "execution_count": null,
   "id": "18ec4493",
   "metadata": {},
   "outputs": [],
   "source": [
    "forecast_variance = forecast.variance.iloc[0]"
   ]
  },
  {
   "cell_type": "code",
   "execution_count": null,
   "id": "024c2b0a",
   "metadata": {},
   "outputs": [],
   "source": [
    "forecast_variance"
   ]
  },
  {
   "cell_type": "code",
   "execution_count": null,
   "id": "bd541618",
   "metadata": {},
   "outputs": [],
   "source": [
    "simple_garch_forecasts = garch_fitted.forecast(horizon=n_test, reindex=False).variance.iloc[0].values"
   ]
  },
  {
   "cell_type": "code",
   "execution_count": null,
   "id": "6f77383a",
   "metadata": {},
   "outputs": [],
   "source": [
    "mean_squared_error(simple_garch_forecasts, test_small ** 2, squared=True)"
   ]
  },
  {
   "cell_type": "markdown",
   "id": "2c3d954d",
   "metadata": {},
   "source": [
    "### With retraining"
   ]
  },
  {
   "cell_type": "code",
   "execution_count": null,
   "id": "348f93ef",
   "metadata": {},
   "outputs": [],
   "source": [
    "def calc_vanilla_garch_wr_mse(info, data, garch_mean, garch_vol, garch_dist):\n",
    "    train_size = info.loc['Train size']\n",
    "    test_size = info.loc['Test size']\n",
    "    p = info.loc['p']\n",
    "    q = info.loc['q']\n",
    "    \n",
    "    train = data[info.loc['Start date']:].iloc[:train_size]\n",
    "    test = data[info.loc['Start date']:].iloc[train_size:(train_size + test_size)]\n",
    "    \n",
    "    forecast = calculate_retraining_garch_forecasts(train, test,\n",
    "                                                    mean=garch_mean,\n",
    "                                                    vol=garch_vol,\n",
    "                                                    p=p,\n",
    "                                                    q=q,\n",
    "                                                    dist=garch_dist)\n",
    "    \n",
    "    mse = mean_squared_error(forecast, test ** 2, squared=True)\n",
    "    \n",
    "    return mse"
   ]
  },
  {
   "cell_type": "markdown",
   "id": "5d43af27",
   "metadata": {},
   "source": [
    "# Bollocks"
   ]
  },
  {
   "cell_type": "code",
   "execution_count": null,
   "id": "ae725a86",
   "metadata": {},
   "outputs": [],
   "source": [
    "from multiprocessing import Pool"
   ]
  },
  {
   "cell_type": "code",
   "execution_count": null,
   "id": "04fa6c12",
   "metadata": {},
   "outputs": [],
   "source": [
    "def f(length):\n",
    "    arr = []\n",
    "    for i in range(int(length)):\n",
    "        arr.append(i + 1)\n",
    "    return arr"
   ]
  },
  {
   "cell_type": "code",
   "execution_count": null,
   "id": "ee703c0e",
   "metadata": {},
   "outputs": [],
   "source": [
    "%%time\n",
    "\n",
    "arr = f(1e5)"
   ]
  }
 ],
 "metadata": {
  "kernelspec": {
   "display_name": "Python 3 (ipykernel)",
   "language": "python",
   "name": "python3"
  },
  "language_info": {
   "codemirror_mode": {
    "name": "ipython",
    "version": 3
   },
   "file_extension": ".py",
   "mimetype": "text/x-python",
   "name": "python",
   "nbconvert_exporter": "python",
   "pygments_lexer": "ipython3",
   "version": "3.9.7"
  }
 },
 "nbformat": 4,
 "nbformat_minor": 5
}
