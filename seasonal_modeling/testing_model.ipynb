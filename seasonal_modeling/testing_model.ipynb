{
 "cells": [
  {
   "cell_type": "code",
   "execution_count": 1,
   "id": "dddaf7cd",
   "metadata": {},
   "outputs": [],
   "source": [
    "import logging\n",
    "import numpy as np\n",
    "import pandas as pd\n",
    "from arch import arch_model\n",
    "from random import gauss\n",
    "from random import seed\n",
    "from matplotlib import pyplot as plt\n",
    "import scipy.stats as sts\n",
    "import json\n",
    "from sklearn.metrics import mean_squared_error, mean_absolute_percentage_error\n",
    "from scipy.optimize import least_squares\n",
    "import os"
   ]
  },
  {
   "cell_type": "code",
   "execution_count": 2,
   "id": "dfddf51c",
   "metadata": {},
   "outputs": [],
   "source": [
    "ini_wd = os.getcwd()\n",
    "os.chdir('..')"
   ]
  },
  {
   "cell_type": "code",
   "execution_count": 3,
   "id": "cc95b96f",
   "metadata": {},
   "outputs": [],
   "source": [
    "from rules_related import combine_rules_outputs\n",
    "from whole_algorithm import train_model\n",
    "from auxiliary import calc_log_returns, unpack_1d_parameters\n",
    "from multivariate_normal_distribution import LongMultivariateNormal\n",
    "from model import FuzzyVolatilityModel\n",
    "from membership_functions import calc_trapezoidal_membership_degrees\n",
    "from clusterization.all_methods import cluster_data_1d, cluster_data\n",
    "from local_models import calc_cond_var_fuzzy\n",
    "# from membership_functions.trapezoidal import _calc_trapezoidal_md_scalar"
   ]
  },
  {
   "cell_type": "code",
   "execution_count": 4,
   "id": "e532cbfa",
   "metadata": {
    "scrolled": true
   },
   "outputs": [],
   "source": [
    "with open('config.json') as file:\n",
    "    config = json.load(file)"
   ]
  },
  {
   "cell_type": "code",
   "execution_count": 5,
   "id": "3393a7b3",
   "metadata": {},
   "outputs": [],
   "source": [
    "files_folder = config['files_folders']['processed']\n",
    "logs_folder = config['files_folders']['logs']"
   ]
  },
  {
   "cell_type": "code",
   "execution_count": 6,
   "id": "cbfda7cb",
   "metadata": {},
   "outputs": [],
   "source": [
    "logging.basicConfig(level=logging.DEBUG,\n",
    "                    filename=f'{logs_folder}/seasonal_testing.log',\n",
    "                    filemode='w',\n",
    "                    format='%(asctime)s,%(msecs)d %(name)s %(levelname)s %(message)s',\n",
    "                    datefmt='%H:%M:%S')"
   ]
  },
  {
   "cell_type": "code",
   "execution_count": 7,
   "id": "5941b46b",
   "metadata": {},
   "outputs": [],
   "source": [
    "pd.options.display.max_colwidth = 500"
   ]
  },
  {
   "cell_type": "markdown",
   "id": "c087b95a",
   "metadata": {},
   "source": [
    "# Reading files"
   ]
  },
  {
   "cell_type": "code",
   "execution_count": 8,
   "id": "23c25f6a",
   "metadata": {},
   "outputs": [],
   "source": [
    "rtsi = pd.read_pickle(f'{files_folder}/rtsi.pkl')"
   ]
  },
  {
   "cell_type": "code",
   "execution_count": 9,
   "id": "4e0f5233",
   "metadata": {},
   "outputs": [
    {
     "data": {
      "text/html": [
       "<div>\n",
       "<style scoped>\n",
       "    .dataframe tbody tr th:only-of-type {\n",
       "        vertical-align: middle;\n",
       "    }\n",
       "\n",
       "    .dataframe tbody tr th {\n",
       "        vertical-align: top;\n",
       "    }\n",
       "\n",
       "    .dataframe thead th {\n",
       "        text-align: right;\n",
       "    }\n",
       "</style>\n",
       "<table border=\"1\" class=\"dataframe\">\n",
       "  <thead>\n",
       "    <tr style=\"text-align: right;\">\n",
       "      <th></th>\n",
       "      <th>&lt;OPEN&gt;</th>\n",
       "      <th>&lt;HIGH&gt;</th>\n",
       "      <th>&lt;LOW&gt;</th>\n",
       "      <th>&lt;CLOSE&gt;</th>\n",
       "      <th>&lt;VOL&gt;</th>\n",
       "      <th>return</th>\n",
       "      <th>log return</th>\n",
       "    </tr>\n",
       "    <tr>\n",
       "      <th>&lt;DATE&gt;</th>\n",
       "      <th></th>\n",
       "      <th></th>\n",
       "      <th></th>\n",
       "      <th></th>\n",
       "      <th></th>\n",
       "      <th></th>\n",
       "      <th></th>\n",
       "    </tr>\n",
       "  </thead>\n",
       "  <tbody>\n",
       "    <tr>\n",
       "      <th>2001-02-18</th>\n",
       "      <td>180.10</td>\n",
       "      <td>180.10</td>\n",
       "      <td>180.10</td>\n",
       "      <td>180.10</td>\n",
       "      <td>0</td>\n",
       "      <td>0.000000</td>\n",
       "      <td>0.000000</td>\n",
       "    </tr>\n",
       "    <tr>\n",
       "      <th>2001-02-19</th>\n",
       "      <td>180.10</td>\n",
       "      <td>181.21</td>\n",
       "      <td>176.67</td>\n",
       "      <td>177.29</td>\n",
       "      <td>0</td>\n",
       "      <td>-0.015602</td>\n",
       "      <td>-0.015725</td>\n",
       "    </tr>\n",
       "    <tr>\n",
       "      <th>2001-02-20</th>\n",
       "      <td>177.29</td>\n",
       "      <td>179.90</td>\n",
       "      <td>175.28</td>\n",
       "      <td>176.45</td>\n",
       "      <td>0</td>\n",
       "      <td>-0.004738</td>\n",
       "      <td>-0.004749</td>\n",
       "    </tr>\n",
       "    <tr>\n",
       "      <th>2001-02-21</th>\n",
       "      <td>176.45</td>\n",
       "      <td>176.45</td>\n",
       "      <td>161.12</td>\n",
       "      <td>162.39</td>\n",
       "      <td>0</td>\n",
       "      <td>-0.079683</td>\n",
       "      <td>-0.083037</td>\n",
       "    </tr>\n",
       "    <tr>\n",
       "      <th>2001-02-22</th>\n",
       "      <td>162.39</td>\n",
       "      <td>168.35</td>\n",
       "      <td>162.39</td>\n",
       "      <td>168.31</td>\n",
       "      <td>0</td>\n",
       "      <td>0.036455</td>\n",
       "      <td>0.035807</td>\n",
       "    </tr>\n",
       "    <tr>\n",
       "      <th>...</th>\n",
       "      <td>...</td>\n",
       "      <td>...</td>\n",
       "      <td>...</td>\n",
       "      <td>...</td>\n",
       "      <td>...</td>\n",
       "      <td>...</td>\n",
       "      <td>...</td>\n",
       "    </tr>\n",
       "    <tr>\n",
       "      <th>2021-10-11</th>\n",
       "      <td>1871.73</td>\n",
       "      <td>1883.71</td>\n",
       "      <td>1867.58</td>\n",
       "      <td>1882.43</td>\n",
       "      <td>1769145502</td>\n",
       "      <td>0.011537</td>\n",
       "      <td>0.011471</td>\n",
       "    </tr>\n",
       "    <tr>\n",
       "      <th>2021-10-12</th>\n",
       "      <td>1867.15</td>\n",
       "      <td>1876.79</td>\n",
       "      <td>1860.64</td>\n",
       "      <td>1869.94</td>\n",
       "      <td>1386130631</td>\n",
       "      <td>-0.006635</td>\n",
       "      <td>-0.006657</td>\n",
       "    </tr>\n",
       "    <tr>\n",
       "      <th>2021-10-13</th>\n",
       "      <td>1869.05</td>\n",
       "      <td>1869.05</td>\n",
       "      <td>1835.80</td>\n",
       "      <td>1855.11</td>\n",
       "      <td>1830447018</td>\n",
       "      <td>-0.007931</td>\n",
       "      <td>-0.007962</td>\n",
       "    </tr>\n",
       "    <tr>\n",
       "      <th>2021-10-14</th>\n",
       "      <td>1875.38</td>\n",
       "      <td>1890.46</td>\n",
       "      <td>1873.37</td>\n",
       "      <td>1875.97</td>\n",
       "      <td>1495256910</td>\n",
       "      <td>0.011245</td>\n",
       "      <td>0.011182</td>\n",
       "    </tr>\n",
       "    <tr>\n",
       "      <th>2021-10-15</th>\n",
       "      <td>1888.52</td>\n",
       "      <td>1893.71</td>\n",
       "      <td>1878.47</td>\n",
       "      <td>1891.56</td>\n",
       "      <td>1305644791</td>\n",
       "      <td>0.008310</td>\n",
       "      <td>0.008276</td>\n",
       "    </tr>\n",
       "  </tbody>\n",
       "</table>\n",
       "<p>5174 rows × 7 columns</p>\n",
       "</div>"
      ],
      "text/plain": [
       "             <OPEN>   <HIGH>    <LOW>  <CLOSE>       <VOL>    return  \\\n",
       "<DATE>                                                                 \n",
       "2001-02-18   180.10   180.10   180.10   180.10           0  0.000000   \n",
       "2001-02-19   180.10   181.21   176.67   177.29           0 -0.015602   \n",
       "2001-02-20   177.29   179.90   175.28   176.45           0 -0.004738   \n",
       "2001-02-21   176.45   176.45   161.12   162.39           0 -0.079683   \n",
       "2001-02-22   162.39   168.35   162.39   168.31           0  0.036455   \n",
       "...             ...      ...      ...      ...         ...       ...   \n",
       "2021-10-11  1871.73  1883.71  1867.58  1882.43  1769145502  0.011537   \n",
       "2021-10-12  1867.15  1876.79  1860.64  1869.94  1386130631 -0.006635   \n",
       "2021-10-13  1869.05  1869.05  1835.80  1855.11  1830447018 -0.007931   \n",
       "2021-10-14  1875.38  1890.46  1873.37  1875.97  1495256910  0.011245   \n",
       "2021-10-15  1888.52  1893.71  1878.47  1891.56  1305644791  0.008310   \n",
       "\n",
       "            log return  \n",
       "<DATE>                  \n",
       "2001-02-18    0.000000  \n",
       "2001-02-19   -0.015725  \n",
       "2001-02-20   -0.004749  \n",
       "2001-02-21   -0.083037  \n",
       "2001-02-22    0.035807  \n",
       "...                ...  \n",
       "2021-10-11    0.011471  \n",
       "2021-10-12   -0.006657  \n",
       "2021-10-13   -0.007962  \n",
       "2021-10-14    0.011182  \n",
       "2021-10-15    0.008276  \n",
       "\n",
       "[5174 rows x 7 columns]"
      ]
     },
     "execution_count": 9,
     "metadata": {},
     "output_type": "execute_result"
    }
   ],
   "source": [
    "rtsi"
   ]
  },
  {
   "cell_type": "code",
   "execution_count": 10,
   "id": "e13f81ab",
   "metadata": {},
   "outputs": [
    {
     "data": {
      "image/png": "[encoded data removed]",
      "text/plain": [
       "<Figure size 640x480 with 1 Axes>"
      ]
     },
     "metadata": {},
     "output_type": "display_data"
    }
   ],
   "source": [
    "rtsi['log return'].plot()\n",
    "\n",
    "plt.grid()\n",
    "plt.show()"
   ]
  },
  {
   "cell_type": "code",
   "execution_count": 11,
   "id": "4c70b3e0",
   "metadata": {},
   "outputs": [
    {
     "data": {
      "text/plain": [
       "count    5174.000000\n",
       "mean        0.000455\n",
       "std         0.020327\n",
       "min        -0.211994\n",
       "25%        -0.008822\n",
       "50%         0.001318\n",
       "75%         0.010414\n",
       "max         0.202039\n",
       "Name: log return, dtype: float64"
      ]
     },
     "execution_count": 11,
     "metadata": {},
     "output_type": "execute_result"
    }
   ],
   "source": [
    "rtsi['log return'].describe()"
   ]
  },
  {
   "cell_type": "code",
   "execution_count": 12,
   "id": "975e5ea5",
   "metadata": {},
   "outputs": [],
   "source": [
    "rtsi['day of week'] = rtsi.index.dayofweek + 1"
   ]
  },
  {
   "cell_type": "code",
   "execution_count": 13,
   "id": "5f149fd8",
   "metadata": {},
   "outputs": [
    {
     "data": {
      "text/plain": [
       "<DATE>\n",
       "2001-02-18    7\n",
       "2001-02-19    1\n",
       "2001-02-20    2\n",
       "2001-02-21    3\n",
       "2001-02-22    4\n",
       "             ..\n",
       "2021-10-11    1\n",
       "2021-10-12    2\n",
       "2021-10-13    3\n",
       "2021-10-14    4\n",
       "2021-10-15    5\n",
       "Name: day of week, Length: 5174, dtype: int64"
      ]
     },
     "execution_count": 13,
     "metadata": {},
     "output_type": "execute_result"
    }
   ],
   "source": [
    "rtsi['day of week']"
   ]
  },
  {
   "cell_type": "code",
   "execution_count": 14,
   "id": "85c2331c",
   "metadata": {},
   "outputs": [
    {
     "data": {
      "text/plain": [
       "array([0., 0.])"
      ]
     },
     "execution_count": 14,
     "metadata": {},
     "output_type": "execute_result"
    }
   ],
   "source": [
    "# rtsi['test triangular cluster memb'] = \\\n",
    "calc_trapezoidal_membership_degrees(rtsi['day of week'].values,\n",
    "                                    a=[0, 2],\n",
    "                                    b=[2, 4],\n",
    "                                    c=[2, 4],\n",
    "                                    d=[4, 6])"
   ]
  },
  {
   "cell_type": "markdown",
   "id": "c2c33a08",
   "metadata": {},
   "source": [
    "# Setting data & parameters"
   ]
  },
  {
   "cell_type": "code",
   "execution_count": 15,
   "id": "93b84c0d",
   "metadata": {},
   "outputs": [],
   "source": [
    "rescale_factor = 1"
   ]
  },
  {
   "cell_type": "code",
   "execution_count": 16,
   "id": "8d916844",
   "metadata": {},
   "outputs": [],
   "source": [
    "start_date = '2010-01-01'"
   ]
  },
  {
   "cell_type": "code",
   "execution_count": 17,
   "id": "bb8043ac",
   "metadata": {},
   "outputs": [],
   "source": [
    "input_data = rtsi['log return'].loc[start_date:].copy() * rescale_factor"
   ]
  },
  {
   "cell_type": "code",
   "execution_count": 18,
   "id": "1b2f616e",
   "metadata": {},
   "outputs": [
    {
     "data": {
      "image/png": "[encoded data removed]",
      "text/plain": [
       "<Figure size 640x480 with 1 Axes>"
      ]
     },
     "metadata": {},
     "output_type": "display_data"
    }
   ],
   "source": [
    "input_data.plot()\n",
    "\n",
    "plt.grid()\n",
    "plt.show()"
   ]
  },
  {
   "cell_type": "code",
   "execution_count": 19,
   "id": "8bacee25",
   "metadata": {},
   "outputs": [
    {
     "data": {
      "text/plain": [
       "count    2965.000000\n",
       "mean        0.000091\n",
       "std         0.017722\n",
       "min        -0.139486\n",
       "25%        -0.008678\n",
       "50%         0.000601\n",
       "75%         0.009209\n",
       "max         0.132462\n",
       "Name: log return, dtype: float64"
      ]
     },
     "execution_count": 19,
     "metadata": {},
     "output_type": "execute_result"
    }
   ],
   "source": [
    "input_data.describe()"
   ]
  },
  {
   "cell_type": "code",
   "execution_count": 20,
   "id": "b196b8a5",
   "metadata": {},
   "outputs": [],
   "source": [
    "n = input_data.shape[0]"
   ]
  },
  {
   "cell_type": "code",
   "execution_count": 21,
   "id": "95949fa0",
   "metadata": {},
   "outputs": [
    {
     "data": {
      "text/plain": [
       "2965"
      ]
     },
     "execution_count": 21,
     "metadata": {},
     "output_type": "execute_result"
    }
   ],
   "source": [
    "n"
   ]
  },
  {
   "cell_type": "code",
   "execution_count": 22,
   "id": "186767da",
   "metadata": {},
   "outputs": [
    {
     "data": {
      "text/plain": [
       "Int64Index([1, 2, 3, 4, 5, 1, 2, 3, 4, 5,\n",
       "            ...\n",
       "            1, 2, 3, 4, 5, 1, 2, 3, 4, 5],\n",
       "           dtype='int64', name='<DATE>', length=2965)"
      ]
     },
     "execution_count": 22,
     "metadata": {},
     "output_type": "execute_result"
    }
   ],
   "source": [
    "input_data.index.dayofweek + 1"
   ]
  },
  {
   "cell_type": "markdown",
   "id": "91887570",
   "metadata": {},
   "source": [
    "## Train / test split"
   ]
  },
  {
   "cell_type": "code",
   "execution_count": 23,
   "id": "a9d58a35-9402-47dd-95e8-a20939a666a7",
   "metadata": {},
   "outputs": [],
   "source": [
    "n_train = 100  # 2000\n",
    "\n",
    "n_test = 10\n",
    "n_test = min(n - n_train, n_test)"
   ]
  },
  {
   "cell_type": "code",
   "execution_count": 24,
   "id": "7ac51558-282e-42f0-a39b-d7938317f87c",
   "metadata": {},
   "outputs": [],
   "source": [
    "train, test = input_data.iloc[:n_train].copy(), input_data.iloc[n_train:(n_train + n_test)].copy()\n",
    "input_cut = pd.concat([train, test]).copy()\n",
    "# data_to_cluster_train, data_to_cluster_test = days_of_week.iloc[:n_train].copy(), days_of_week.iloc[n_train:].copy()"
   ]
  },
  {
   "cell_type": "code",
   "execution_count": 25,
   "id": "2663e3bf-0d2a-4a08-b821-cfc7c4b0ed31",
   "metadata": {},
   "outputs": [
    {
     "data": {
      "image/png": "[encoded data removed]",
      "text/plain": [
       "<Figure size 640x480 with 1 Axes>"
      ]
     },
     "metadata": {},
     "output_type": "display_data"
    }
   ],
   "source": [
    "train.plot(label='train')\n",
    "test.plot(label='test')\n",
    "\n",
    "plt.legend()\n",
    "plt.grid()\n",
    "plt.show()"
   ]
  },
  {
   "cell_type": "code",
   "execution_count": 26,
   "id": "cef295e4",
   "metadata": {},
   "outputs": [
    {
     "data": {
      "text/plain": [
       "count    100.000000\n",
       "mean      -0.000333\n",
       "std        0.021419\n",
       "min       -0.061136\n",
       "25%       -0.010510\n",
       "50%        0.003145\n",
       "75%        0.010414\n",
       "max        0.076686\n",
       "Name: log return, dtype: float64"
      ]
     },
     "execution_count": 26,
     "metadata": {},
     "output_type": "execute_result"
    }
   ],
   "source": [
    "train.describe()"
   ]
  },
  {
   "cell_type": "markdown",
   "id": "7ca84f69",
   "metadata": {},
   "source": [
    "## Antecedent parameters"
   ]
  },
  {
   "cell_type": "code",
   "execution_count": 27,
   "id": "6e031eb1",
   "metadata": {},
   "outputs": [],
   "source": [
    "# set #1\n",
    "clusterization_method_1 = 'trapezoidal'\n",
    "\n",
    "n_clusters_1 = 2\n",
    "\n",
    "a = [1, 1]\n",
    "b = [1, 5]\n",
    "c = [1, 5]\n",
    "d = [5, 5]\n",
    "\n",
    "# set #2\n",
    "clusterization_method_2 = 'gaussian'\n",
    "\n",
    "n_clusters_2 = 2\n",
    "\n",
    "# variances = [7, 6, 3, 5]\n",
    "# centers = [-7.5, -1.5, 1.5, 4]\n",
    "variances = [7, 5]\n",
    "centers = [-4.5, 2.5]"
   ]
  },
  {
   "cell_type": "code",
   "execution_count": 28,
   "id": "8237b30d",
   "metadata": {},
   "outputs": [
    {
     "data": {
      "text/plain": [
       "array([0.75, 0.25])"
      ]
     },
     "execution_count": 28,
     "metadata": {},
     "output_type": "execute_result"
    }
   ],
   "source": [
    "# rtsi['test triangular cluster memb'] = \\\n",
    "calc_trapezoidal_membership_degrees(2,\n",
    "                                    a=a,\n",
    "                                    b=b,\n",
    "                                    c=c,\n",
    "                                    d=d)"
   ]
  },
  {
   "cell_type": "code",
   "execution_count": 29,
   "id": "110406b4",
   "metadata": {},
   "outputs": [],
   "source": [
    "clusterization_parameters = [{'a': a, 'b': b, 'c': c, 'd': d, 'n_clusters': n_clusters_1},\n",
    "                             {'centers': centers, 'variances': variances, 'n_clusters': n_clusters_2}]\n",
    "clusterization_methods = [clusterization_method_1, clusterization_method_2]\n",
    "n_clusters = n_clusters_1 * n_clusters_2"
   ]
  },
  {
   "cell_type": "markdown",
   "id": "6ca7a301",
   "metadata": {},
   "source": [
    "## Consequent parameters"
   ]
  },
  {
   "cell_type": "code",
   "execution_count": 30,
   "id": "c2090135",
   "metadata": {},
   "outputs": [],
   "source": [
    "# technical parameters for arch_model function\n",
    "garch_mean = 'Zero'\n",
    "garch_dist = 'normal'\n",
    "\n",
    "# general parameters\n",
    "local_method = 'garch'\n",
    "\n",
    "# GARCH parameters\n",
    "p = 1\n",
    "q = 1\n",
    "\n",
    "starting_index = max(p, q)\n",
    "\n",
    "train_sample_std = train.std()\n",
    "first_h = [train_sample_std ** 2] * starting_index\n",
    "# first_h = [train[0] ** 2]  # TODO: TRY THIS\n",
    "first_h = np.array(first_h)\n",
    "\n",
    "# parameters constraints\n",
    "lower_bounds = [0] * (1 + p + q) * n_clusters\n",
    "upper_bounds = [+np.inf] * n_clusters + [1] * (p + q) * n_clusters\n",
    "bounds = (lower_bounds, upper_bounds)"
   ]
  },
  {
   "cell_type": "markdown",
   "id": "5e456d4e",
   "metadata": {},
   "source": [
    "### Using classic GARCH to get initial parameters values"
   ]
  },
  {
   "cell_type": "code",
   "execution_count": 31,
   "id": "5e2c9284",
   "metadata": {},
   "outputs": [
    {
     "name": "stdout",
     "output_type": "stream",
     "text": [
      "Iteration:      1,   Func. Count:      5,   Neg. LLF: -172.81375246629065\n",
      "Iteration:      2,   Func. Count:     14,   Neg. LLF: -231.83780274495433\n",
      "Iteration:      3,   Func. Count:     21,   Neg. LLF: -246.87441129590061\n",
      "Iteration:      4,   Func. Count:     28,   Neg. LLF: -246.6371189750122\n",
      "Iteration:      5,   Func. Count:     33,   Neg. LLF: -250.4869892567008\n",
      "Iteration:      6,   Func. Count:     37,   Neg. LLF: -250.4870954083915\n",
      "Iteration:      7,   Func. Count:     41,   Neg. LLF: -250.4871000056945\n",
      "Iteration:      8,   Func. Count:     44,   Neg. LLF: -250.4871000055288\n",
      "Optimization terminated successfully    (Exit mode 0)\n",
      "            Current function value: -250.4871000056945\n",
      "            Iterations: 8\n",
      "            Function evaluations: 44\n",
      "            Gradient evaluations: 8\n"
     ]
    },
    {
     "name": "stderr",
     "output_type": "stream",
     "text": [
      "/Applications/anaconda3/envs/fuzzy-volatility/lib/python3.9/site-packages/arch/univariate/base.py:309: DataScaleWarning: y is poorly scaled, which may affect convergence of the optimizer when\n",
      "estimating the model parameters. The scale of y is 0.0004542. Parameter\n",
      "estimation work better when this value is between 1 and 1000. The recommended\n",
      "rescaling is 100 * y.\n",
      "\n",
      "This warning can be disabled by either rescaling y before initializing the\n",
      "model or by setting rescale=False.\n",
      "\n",
      "  warnings.warn(\n"
     ]
    }
   ],
   "source": [
    "garch = arch_model(train,\n",
    "                   mean=garch_mean,\n",
    "                   vol='GARCH',\n",
    "                   p=p,\n",
    "                   q=q,\n",
    "                   dist=garch_dist)\n",
    "garch_fitted = garch.fit()"
   ]
  },
  {
   "cell_type": "code",
   "execution_count": 32,
   "id": "626503a0",
   "metadata": {},
   "outputs": [
    {
     "data": {
      "text/plain": [
       "omega       0.000018\n",
       "alpha[1]    0.116398\n",
       "beta[1]     0.836906\n",
       "Name: params, dtype: float64"
      ]
     },
     "execution_count": 32,
     "metadata": {},
     "output_type": "execute_result"
    }
   ],
   "source": [
    "garch_fitted.params"
   ]
  },
  {
   "cell_type": "code",
   "execution_count": 33,
   "id": "51e50f83-cc6b-495c-8900-767a9801c7be",
   "metadata": {},
   "outputs": [],
   "source": [
    "alpha_0_ini = np.array([garch_fitted.params.iloc[0] for _ in range(n_clusters)])\n",
    "alpha_ini = np.array([garch_fitted.params.iloc[1:(q + 1)].values for _ in range(n_clusters)])\n",
    "beta_ini = np.array([garch_fitted.params.iloc[(q + 1):].values for _ in range(n_clusters)])"
   ]
  },
  {
   "cell_type": "code",
   "execution_count": 34,
   "id": "dfcb1d5d",
   "metadata": {},
   "outputs": [],
   "source": [
    "# alpha_0_ini, alpha_ini, beta_ini = unpack_1d_parameters(garch_fitted.params.values, p=p, q=q, n_clusters=n_clusters)"
   ]
  },
  {
   "cell_type": "code",
   "execution_count": 35,
   "id": "452b962e",
   "metadata": {},
   "outputs": [],
   "source": [
    "parameters_ini = {'alpha_0': alpha_0_ini, 'alpha': alpha_ini, 'beta': beta_ini}"
   ]
  },
  {
   "cell_type": "code",
   "execution_count": 36,
   "id": "ce388de6",
   "metadata": {},
   "outputs": [
    {
     "data": {
      "text/plain": [
       "{'alpha_0': array([1.76128451e-05, 1.76128451e-05, 1.76128451e-05, 1.76128451e-05]),\n",
       " 'alpha': array([[0.11639833],\n",
       "        [0.11639833],\n",
       "        [0.11639833],\n",
       "        [0.11639833]]),\n",
       " 'beta': array([[0.8369058],\n",
       "        [0.8369058],\n",
       "        [0.8369058],\n",
       "        [0.8369058]])}"
      ]
     },
     "execution_count": 36,
     "metadata": {},
     "output_type": "execute_result"
    }
   ],
   "source": [
    "parameters_ini"
   ]
  },
  {
   "cell_type": "code",
   "execution_count": 37,
   "id": "92368e86",
   "metadata": {},
   "outputs": [],
   "source": [
    "# # initial parameters values for LS to start with\n",
    "# alpha_0_ini = np.array([garch_fitted.params.loc['omega']] * n_clusters)\n",
    "# alpha_ini = np.array([[1] * n_clusters] * q)\n",
    "# beta_ini = np.array([[1] * n_clusters] * p)\n",
    "# parameters_ini = {'alpha_0': alpha_0_ini, 'alpha': alpha_ini, 'beta': beta_ini}"
   ]
  },
  {
   "cell_type": "code",
   "execution_count": 38,
   "id": "f6680bfe",
   "metadata": {},
   "outputs": [
    {
     "data": {
      "text/plain": [
       "[0.11639832899030729,\n",
       " 0.11639832899030729,\n",
       " 0.11639832899030729,\n",
       " 0.11639832899030729]"
      ]
     },
     "execution_count": 38,
     "metadata": {},
     "output_type": "execute_result"
    }
   ],
   "source": [
    "list(alpha_ini.flatten())"
   ]
  },
  {
   "cell_type": "markdown",
   "id": "45dfbd1c",
   "metadata": {},
   "source": [
    "### Setting dict w/ all consequent parameters"
   ]
  },
  {
   "cell_type": "code",
   "execution_count": 39,
   "id": "0408962b",
   "metadata": {},
   "outputs": [],
   "source": [
    "local_method_parameters = {'p': p, 'q': q, 'mean': garch_mean, 'dist': garch_dist, 'first_h': first_h,\n",
    "                           'bounds': bounds, 'parameters_ini': parameters_ini}"
   ]
  },
  {
   "cell_type": "markdown",
   "id": "705bedc4",
   "metadata": {},
   "source": [
    "## Other params"
   ]
  },
  {
   "cell_type": "code",
   "execution_count": 40,
   "id": "464d7fe9",
   "metadata": {},
   "outputs": [],
   "source": [
    "n_last_points_to_use_for_clustering_1 = 1\n",
    "n_last_points_to_use_for_clustering_2 = 10\n",
    "n_last_points_to_use_for_clustering = [n_last_points_to_use_for_clustering_1, n_last_points_to_use_for_clustering_2]"
   ]
  },
  {
   "cell_type": "code",
   "execution_count": 41,
   "id": "db3e8be4",
   "metadata": {},
   "outputs": [],
   "source": [
    "data_to_cluster_1 = pd.Series(train.index.dayofweek + 1, index=train.index).copy()\n",
    "data_to_cluster_2 = 'train'\n",
    "data_to_cluster = [data_to_cluster_1, data_to_cluster_2]"
   ]
  },
  {
   "cell_type": "code",
   "execution_count": 42,
   "id": "8ca27e06",
   "metadata": {},
   "outputs": [
    {
     "data": {
      "text/plain": [
       "[<DATE>\n",
       " 2010-01-11    1\n",
       " 2010-01-12    2\n",
       " 2010-01-13    3\n",
       " 2010-01-14    4\n",
       " 2010-01-15    5\n",
       "              ..\n",
       " 2010-05-28    5\n",
       " 2010-05-31    1\n",
       " 2010-06-01    2\n",
       " 2010-06-02    3\n",
       " 2010-06-03    4\n",
       " Name: <DATE>, Length: 100, dtype: int64,\n",
       " 'train']"
      ]
     },
     "execution_count": 42,
     "metadata": {},
     "output_type": "execute_result"
    }
   ],
   "source": [
    "data_to_cluster"
   ]
  },
  {
   "cell_type": "code",
   "execution_count": 43,
   "id": "a8cec70d",
   "metadata": {},
   "outputs": [],
   "source": [
    "cluster_sets_conjunction = 'prod'\n",
    "\n",
    "normalize = True\n",
    "\n",
    "n_points_fitting = 100"
   ]
  },
  {
   "cell_type": "markdown",
   "id": "beac442d",
   "metadata": {},
   "source": [
    "# Testing `FuzzyVolatilityModel` class"
   ]
  },
  {
   "cell_type": "code",
   "execution_count": 44,
   "id": "260be1ca",
   "metadata": {},
   "outputs": [],
   "source": [
    "fvm = FuzzyVolatilityModel(train,\n",
    "                           clusterization_method=clusterization_methods,\n",
    "                           clusterization_parameters=clusterization_parameters,\n",
    "                           local_method=local_method,\n",
    "                           local_method_parameters=local_method_parameters,\n",
    "                           n_last_points_to_use_for_clustering=n_last_points_to_use_for_clustering,\n",
    "                           data_to_cluster=data_to_cluster,\n",
    "                           cluster_sets_conjunction=cluster_sets_conjunction,\n",
    "                           normalize=normalize,\n",
    "                           n_points_fitting=n_points_fitting)"
   ]
  },
  {
   "cell_type": "markdown",
   "id": "bc2d8777",
   "metadata": {},
   "source": [
    "## `fit`"
   ]
  },
  {
   "cell_type": "code",
   "execution_count": 45,
   "id": "4b36f4f5",
   "metadata": {
    "scrolled": true
   },
   "outputs": [
    {
     "name": "stdout",
     "output_type": "stream",
     "text": [
      "CPU times: user 24.6 s, sys: 832 ms, total: 25.5 s\n",
      "Wall time: 26.8 s\n"
     ]
    }
   ],
   "source": [
    "%%time\n",
    "\n",
    "fvm.fit()"
   ]
  },
  {
   "cell_type": "code",
   "execution_count": 46,
   "id": "1181eb98",
   "metadata": {},
   "outputs": [
    {
     "data": {
      "text/plain": [
       "[1, 10]"
      ]
     },
     "execution_count": 46,
     "metadata": {},
     "output_type": "execute_result"
    }
   ],
   "source": [
    "n_last_points_to_use_for_clustering"
   ]
  },
  {
   "cell_type": "code",
   "execution_count": 47,
   "id": "7fc6ae22",
   "metadata": {},
   "outputs": [
    {
     "data": {
      "text/plain": [
       "array([3.00476887e-04, 8.15978908e-07, 2.33038360e-04, 4.46792352e-04],\n",
       "      dtype=float128)"
      ]
     },
     "execution_count": 47,
     "metadata": {},
     "output_type": "execute_result"
    }
   ],
   "source": [
    "fvm.alpha_0"
   ]
  },
  {
   "cell_type": "code",
   "execution_count": 48,
   "id": "729fe037",
   "metadata": {},
   "outputs": [
    {
     "data": {
      "text/plain": [
       "array([[0.13931715, 0.13919586, 0.1392599 , 0.13919585]], dtype=float128)"
      ]
     },
     "execution_count": 48,
     "metadata": {},
     "output_type": "execute_result"
    }
   ],
   "source": [
    "fvm.alpha"
   ]
  },
  {
   "cell_type": "code",
   "execution_count": 49,
   "id": "9823112d",
   "metadata": {},
   "outputs": [
    {
     "data": {
      "text/plain": [
       "array([[0.0008397 , 0.00083962, 0.00083966, 0.00083962]], dtype=float128)"
      ]
     },
     "execution_count": 49,
     "metadata": {},
     "output_type": "execute_result"
    }
   ],
   "source": [
    "fvm.beta"
   ]
  },
  {
   "cell_type": "code",
   "execution_count": 50,
   "id": "9eadd7b4",
   "metadata": {},
   "outputs": [
    {
     "data": {
      "text/plain": [
       "omega       0.000018\n",
       "alpha[1]    0.116398\n",
       "beta[1]     0.836906\n",
       "Name: params, dtype: float64"
      ]
     },
     "execution_count": 50,
     "metadata": {},
     "output_type": "execute_result"
    }
   ],
   "source": [
    "garch_fitted.params"
   ]
  },
  {
   "cell_type": "code",
   "execution_count": 51,
   "id": "92f4ba8c",
   "metadata": {},
   "outputs": [
    {
     "data": {
      "text/plain": [
       "[{'alpha_0': array([3.00476887e-04, 8.15978908e-07, 2.33038360e-04, 4.46792352e-04],\n",
       "        dtype=float128),\n",
       "  'alpha': array([[0.13931715, 0.13919586, 0.1392599 , 0.13919585]], dtype=float128),\n",
       "  'beta': array([[0.0008397 , 0.00083962, 0.00083966, 0.00083962]], dtype=float128)}]"
      ]
     },
     "execution_count": 51,
     "metadata": {},
     "output_type": "execute_result"
    }
   ],
   "source": [
    "fvm._parameters_hist"
   ]
  },
  {
   "cell_type": "code",
   "execution_count": 52,
   "id": "ba8d0b58",
   "metadata": {},
   "outputs": [
    {
     "data": {
      "text/plain": [
       "array([1.16324806e-05, 2.49988368e-01, 3.48974419e-05, 7.49965103e-01],\n",
       "      dtype=float128)"
      ]
     },
     "execution_count": 52,
     "metadata": {},
     "output_type": "execute_result"
    }
   ],
   "source": [
    "fvm.membership_degrees_current"
   ]
  },
  {
   "cell_type": "code",
   "execution_count": 53,
   "id": "95daa841",
   "metadata": {},
   "outputs": [
    {
     "data": {
      "text/plain": [
       "{'n_clusters': 4,\n",
       " 'params by sets': [{'a': [1, 1],\n",
       "   'b': [1, 5],\n",
       "   'c': [1, 5],\n",
       "   'd': [5, 5],\n",
       "   'n_clusters': 2},\n",
       "  {'centers': [-4.5, 2.5], 'variances': [7, 5], 'n_clusters': 2}]}"
      ]
     },
     "execution_count": 53,
     "metadata": {},
     "output_type": "execute_result"
    }
   ],
   "source": [
    "fvm.clusters_parameters_current"
   ]
  },
  {
   "cell_type": "code",
   "execution_count": 54,
   "id": "8ff2905d",
   "metadata": {},
   "outputs": [
    {
     "data": {
      "text/plain": [
       "[<DATE>\n",
       " 2010-01-11    1\n",
       " 2010-01-12    2\n",
       " 2010-01-13    3\n",
       " 2010-01-14    4\n",
       " 2010-01-15    5\n",
       "              ..\n",
       " 2010-05-28    5\n",
       " 2010-05-31    1\n",
       " 2010-06-01    2\n",
       " 2010-06-02    3\n",
       " 2010-06-03    4\n",
       " Name: <DATE>, Length: 100, dtype: int64,\n",
       " 'train']"
      ]
     },
     "execution_count": 54,
     "metadata": {},
     "output_type": "execute_result"
    }
   ],
   "source": [
    "data_to_cluster"
   ]
  },
  {
   "cell_type": "code",
   "execution_count": 55,
   "id": "8b59fa2a",
   "metadata": {},
   "outputs": [
    {
     "data": {
      "text/plain": [
       "[array([1.16324806e-05, 2.49988368e-01, 3.48974419e-05, 7.49965103e-01],\n",
       "       dtype=float128)]"
      ]
     },
     "execution_count": 55,
     "metadata": {},
     "output_type": "execute_result"
    }
   ],
   "source": [
    "fvm._membership_degrees_hist"
   ]
  },
  {
   "cell_type": "code",
   "execution_count": 56,
   "id": "65797f16",
   "metadata": {},
   "outputs": [
    {
     "data": {
      "text/plain": [
       "<DATE>\n",
       "2010-01-11    0.076686\n",
       "2010-01-12   -0.024211\n",
       "2010-01-13    0.019327\n",
       "2010-01-14    0.008749\n",
       "2010-01-15   -0.004911\n",
       "                ...   \n",
       "2010-05-28   -0.001298\n",
       "2010-05-31    0.017188\n",
       "2010-06-01   -0.010699\n",
       "2010-06-02    0.015701\n",
       "2010-06-03    0.003104\n",
       "Name: log return, Length: 100, dtype: float64"
      ]
     },
     "execution_count": 56,
     "metadata": {},
     "output_type": "execute_result"
    }
   ],
   "source": [
    "fvm.train_data"
   ]
  },
  {
   "cell_type": "markdown",
   "id": "24485114",
   "metadata": {},
   "source": [
    "## `forecast`"
   ]
  },
  {
   "cell_type": "code",
   "execution_count": 57,
   "id": "271546e8",
   "metadata": {},
   "outputs": [],
   "source": [
    "fvm.forecast()"
   ]
  },
  {
   "cell_type": "code",
   "execution_count": 58,
   "id": "9288a4dd",
   "metadata": {},
   "outputs": [
    {
     "data": {
      "text/plain": [
       "0.00033694568276871645528"
      ]
     },
     "execution_count": 58,
     "metadata": {},
     "output_type": "execute_result"
    }
   ],
   "source": [
    "fvm.current_output"
   ]
  },
  {
   "cell_type": "code",
   "execution_count": 59,
   "id": "7fd72d43",
   "metadata": {},
   "outputs": [
    {
     "data": {
      "text/plain": [
       "[0.00033694568276871645528]"
      ]
     },
     "execution_count": 59,
     "metadata": {},
     "output_type": "execute_result"
    }
   ],
   "source": [
    "fvm._hist_output"
   ]
  },
  {
   "cell_type": "code",
   "execution_count": 60,
   "id": "f68dd2c7",
   "metadata": {
    "scrolled": false
   },
   "outputs": [
    {
     "data": {
      "image/png": "[encoded data removed]",
      "text/plain": [
       "<Figure size 640x480 with 1 Axes>"
      ]
     },
     "metadata": {},
     "output_type": "display_data"
    }
   ],
   "source": [
    "plt.plot(fvm.h, label='$h_t$')\n",
    "plt.plot(train.values ** 2, label='$y_t^2$')\n",
    "\n",
    "plt.legend()\n",
    "plt.grid()\n",
    "plt.show()"
   ]
  },
  {
   "cell_type": "markdown",
   "id": "ae1b59cc",
   "metadata": {},
   "source": [
    "## `feed_daily_data`"
   ]
  },
  {
   "cell_type": "code",
   "execution_count": 61,
   "id": "1c0d81c6",
   "metadata": {},
   "outputs": [],
   "source": [
    "n_test_small = 10\n",
    "test_small = test.iloc[:n_test_small].copy()\n",
    "input_cut = pd.concat([train, test_small]).copy()\n",
    "\n",
    "data_to_cluster_test_1 = pd.Series(test_small.index.dayofweek + 1, index=test_small.index).copy()\n",
    "data_to_cluster_test_2 = 'train'\n",
    "data_to_cluster_test = [data_to_cluster_test_1, data_to_cluster_test_2]\n",
    "# data_to_cluster = test_small.index.dayofweek + 1\n",
    "# data_to_cluster = pd.Series(data_to_cluster, index=test_small.index)"
   ]
  },
  {
   "cell_type": "code",
   "execution_count": 62,
   "id": "e0a7dbb8",
   "metadata": {},
   "outputs": [
    {
     "data": {
      "text/plain": [
       "[<DATE>\n",
       " 2010-06-04    5\n",
       " 2010-06-07    1\n",
       " 2010-06-08    2\n",
       " 2010-06-09    3\n",
       " 2010-06-10    4\n",
       " 2010-06-11    5\n",
       " 2010-06-15    2\n",
       " 2010-06-16    3\n",
       " 2010-06-17    4\n",
       " 2010-06-18    5\n",
       " Name: <DATE>, dtype: int64,\n",
       " 'train']"
      ]
     },
     "execution_count": 62,
     "metadata": {},
     "output_type": "execute_result"
    }
   ],
   "source": [
    "data_to_cluster_test"
   ]
  },
  {
   "cell_type": "code",
   "execution_count": 63,
   "id": "28f68afa",
   "metadata": {},
   "outputs": [
    {
     "data": {
      "text/plain": [
       "[array([1.16324806e-05, 2.49988368e-01, 3.48974419e-05, 7.49965103e-01],\n",
       "       dtype=float128)]"
      ]
     },
     "execution_count": 63,
     "metadata": {},
     "output_type": "execute_result"
    }
   ],
   "source": [
    "fvm._membership_degrees_hist"
   ]
  },
  {
   "cell_type": "code",
   "execution_count": 64,
   "id": "4c563a2e",
   "metadata": {
    "scrolled": true
   },
   "outputs": [
    {
     "name": "stdout",
     "output_type": "stream",
     "text": [
      "CPU times: user 5min 20s, sys: 9.23 s, total: 5min 30s\n",
      "Wall time: 5min 33s\n"
     ]
    }
   ],
   "source": [
    "%%time\n",
    "\n",
    "fvm.feed_daily_data(test_small, data_to_cluster=data_to_cluster_test)"
   ]
  },
  {
   "cell_type": "code",
   "execution_count": 65,
   "id": "4e485217",
   "metadata": {},
   "outputs": [
    {
     "data": {
      "text/html": [
       "<div>\n",
       "<style scoped>\n",
       "    .dataframe tbody tr th:only-of-type {\n",
       "        vertical-align: middle;\n",
       "    }\n",
       "\n",
       "    .dataframe tbody tr th {\n",
       "        vertical-align: top;\n",
       "    }\n",
       "\n",
       "    .dataframe thead th {\n",
       "        text-align: right;\n",
       "    }\n",
       "</style>\n",
       "<table border=\"1\" class=\"dataframe\">\n",
       "  <thead>\n",
       "    <tr style=\"text-align: right;\">\n",
       "      <th></th>\n",
       "      <th>&lt;DATE&gt;</th>\n",
       "      <th>log return</th>\n",
       "    </tr>\n",
       "    <tr>\n",
       "      <th>&lt;DATE&gt;</th>\n",
       "      <th></th>\n",
       "      <th></th>\n",
       "    </tr>\n",
       "  </thead>\n",
       "  <tbody>\n",
       "    <tr>\n",
       "      <th>2010-01-11</th>\n",
       "      <td>1.0</td>\n",
       "      <td>0.076686</td>\n",
       "    </tr>\n",
       "    <tr>\n",
       "      <th>2010-01-12</th>\n",
       "      <td>2.0</td>\n",
       "      <td>-0.024211</td>\n",
       "    </tr>\n",
       "    <tr>\n",
       "      <th>2010-01-13</th>\n",
       "      <td>3.0</td>\n",
       "      <td>0.019327</td>\n",
       "    </tr>\n",
       "    <tr>\n",
       "      <th>2010-01-14</th>\n",
       "      <td>4.0</td>\n",
       "      <td>0.008749</td>\n",
       "    </tr>\n",
       "    <tr>\n",
       "      <th>2010-01-15</th>\n",
       "      <td>5.0</td>\n",
       "      <td>-0.004911</td>\n",
       "    </tr>\n",
       "    <tr>\n",
       "      <th>...</th>\n",
       "      <td>...</td>\n",
       "      <td>...</td>\n",
       "    </tr>\n",
       "    <tr>\n",
       "      <th>2010-06-11</th>\n",
       "      <td>5.0</td>\n",
       "      <td>-0.006017</td>\n",
       "    </tr>\n",
       "    <tr>\n",
       "      <th>2010-06-15</th>\n",
       "      <td>2.0</td>\n",
       "      <td>0.035086</td>\n",
       "    </tr>\n",
       "    <tr>\n",
       "      <th>2010-06-16</th>\n",
       "      <td>3.0</td>\n",
       "      <td>-0.002051</td>\n",
       "    </tr>\n",
       "    <tr>\n",
       "      <th>2010-06-17</th>\n",
       "      <td>4.0</td>\n",
       "      <td>-0.000185</td>\n",
       "    </tr>\n",
       "    <tr>\n",
       "      <th>2010-06-18</th>\n",
       "      <td>5.0</td>\n",
       "      <td>0.006935</td>\n",
       "    </tr>\n",
       "  </tbody>\n",
       "</table>\n",
       "<p>110 rows × 2 columns</p>\n",
       "</div>"
      ],
      "text/plain": [
       "            <DATE>  log return\n",
       "<DATE>                        \n",
       "2010-01-11     1.0    0.076686\n",
       "2010-01-12     2.0   -0.024211\n",
       "2010-01-13     3.0    0.019327\n",
       "2010-01-14     4.0    0.008749\n",
       "2010-01-15     5.0   -0.004911\n",
       "...            ...         ...\n",
       "2010-06-11     5.0   -0.006017\n",
       "2010-06-15     2.0    0.035086\n",
       "2010-06-16     3.0   -0.002051\n",
       "2010-06-17     4.0   -0.000185\n",
       "2010-06-18     5.0    0.006935\n",
       "\n",
       "[110 rows x 2 columns]"
      ]
     },
     "execution_count": 65,
     "metadata": {},
     "output_type": "execute_result"
    }
   ],
   "source": [
    "fvm.data_to_cluster"
   ]
  },
  {
   "cell_type": "code",
   "execution_count": 66,
   "id": "a12b9aea",
   "metadata": {},
   "outputs": [
    {
     "data": {
      "text/plain": [
       "array([3.66463825e-05, 7.19941539e-05, 2.30330337e-04, 2.21132293e-04,\n",
       "       2.14210633e-04, 2.07396562e-04, 2.11321122e-04, 2.56168568e-04,\n",
       "       2.39258033e-04, 4.80528973e-04, 4.74154340e-04, 4.56204006e-04,\n",
       "       4.04794493e-04, 3.61299189e-04, 3.28994007e-04, 3.76829704e-04,\n",
       "       3.39467892e-04, 4.51799800e-04, 3.90506335e-04, 3.49459109e-04,\n",
       "       3.14818871e-04, 2.97829270e-04, 3.20770862e-04, 3.01730279e-04,\n",
       "       2.76750430e-04, 2.89508552e-04, 2.84459550e-04, 2.83531260e-04,\n",
       "       2.65687164e-04, 3.19257309e-04, 2.91672527e-04, 2.65646187e-04,\n",
       "       2.47832774e-04, 2.68911424e-04, 2.57049293e-04, 2.63782249e-04,\n",
       "       2.70657281e-04, 2.49885305e-04, 2.46002936e-04, 2.37662698e-04,\n",
       "       2.24200306e-04, 2.25753990e-04, 2.17514539e-04, 2.15317813e-04,\n",
       "       2.72556616e-04, 2.55000046e-04, 2.40725183e-04, 3.00661324e-04,\n",
       "       2.76195034e-04, 2.58742865e-04, 2.41678184e-04, 2.55548861e-04,\n",
       "       2.37693965e-04, 2.49146240e-04, 2.48014706e-04, 2.31740700e-04,\n",
       "       2.59973636e-04, 2.42980535e-04, 3.10799044e-04, 3.11957108e-04,\n",
       "       2.96784466e-04, 2.83343552e-04, 2.67963548e-04, 2.57132316e-04,\n",
       "       2.51576604e-04, 3.21478350e-04, 3.01189001e-04, 2.97766982e-04,\n",
       "       2.83568221e-04, 5.02641771e-04, 4.77961778e-04, 7.10605279e-04,\n",
       "       7.12055409e-04, 8.56516040e-04, 8.92874917e-04, 7.53581393e-04,\n",
       "       6.78034280e-04, 5.80241270e-04, 4.91100329e-04, 5.18865907e-04,\n",
       "       9.25330750e-04, 7.59371141e-04, 6.37986477e-04, 9.07006517e-04,\n",
       "       9.69305828e-04, 1.13799156e-03, 9.23817648e-04, 7.95260359e-04,\n",
       "       6.71908271e-04, 5.93065625e-04, 5.01141851e-04, 6.02938559e-04,\n",
       "       5.23982123e-04, 4.49069156e-04, 3.90821145e-04, 4.22278283e-04,\n",
       "       3.71781987e-04, 4.86967552e-04, 4.17944787e-04, 3.63737271e-04,\n",
       "       3.27801685e-04], dtype=float128)"
      ]
     },
     "execution_count": 66,
     "metadata": {},
     "output_type": "execute_result"
    }
   ],
   "source": [
    "fvm.h"
   ]
  },
  {
   "cell_type": "code",
   "execution_count": 67,
   "id": "71735d1f",
   "metadata": {},
   "outputs": [
    {
     "data": {
      "text/plain": [
       "(101,)"
      ]
     },
     "execution_count": 67,
     "metadata": {},
     "output_type": "execute_result"
    }
   ],
   "source": [
    "_.shape"
   ]
  },
  {
   "cell_type": "code",
   "execution_count": 68,
   "id": "057bd7bb",
   "metadata": {},
   "outputs": [
    {
     "data": {
      "text/html": [
       "<div>\n",
       "<style scoped>\n",
       "    .dataframe tbody tr th:only-of-type {\n",
       "        vertical-align: middle;\n",
       "    }\n",
       "\n",
       "    .dataframe tbody tr th {\n",
       "        vertical-align: top;\n",
       "    }\n",
       "\n",
       "    .dataframe thead th {\n",
       "        text-align: right;\n",
       "    }\n",
       "</style>\n",
       "<table border=\"1\" class=\"dataframe\">\n",
       "  <thead>\n",
       "    <tr style=\"text-align: right;\">\n",
       "      <th></th>\n",
       "      <th>0</th>\n",
       "      <th>1</th>\n",
       "      <th>2</th>\n",
       "      <th>3</th>\n",
       "    </tr>\n",
       "    <tr>\n",
       "      <th>&lt;DATE&gt;</th>\n",
       "      <th></th>\n",
       "      <th></th>\n",
       "      <th></th>\n",
       "      <th></th>\n",
       "    </tr>\n",
       "  </thead>\n",
       "  <tbody>\n",
       "    <tr>\n",
       "      <th>2010-06-04</th>\n",
       "      <td>0.000000</td>\n",
       "      <td>0.000000</td>\n",
       "      <td>0.000048</td>\n",
       "      <td>0.999952</td>\n",
       "    </tr>\n",
       "    <tr>\n",
       "      <th>2010-06-07</th>\n",
       "      <td>0.000049</td>\n",
       "      <td>0.999951</td>\n",
       "      <td>0.000000</td>\n",
       "      <td>0.000000</td>\n",
       "    </tr>\n",
       "    <tr>\n",
       "      <th>2010-06-08</th>\n",
       "      <td>0.000035</td>\n",
       "      <td>0.749965</td>\n",
       "      <td>0.000012</td>\n",
       "      <td>0.249988</td>\n",
       "    </tr>\n",
       "    <tr>\n",
       "      <th>2010-06-09</th>\n",
       "      <td>0.000024</td>\n",
       "      <td>0.499976</td>\n",
       "      <td>0.000024</td>\n",
       "      <td>0.499976</td>\n",
       "    </tr>\n",
       "    <tr>\n",
       "      <th>2010-06-10</th>\n",
       "      <td>0.000013</td>\n",
       "      <td>0.249987</td>\n",
       "      <td>0.000038</td>\n",
       "      <td>0.749962</td>\n",
       "    </tr>\n",
       "    <tr>\n",
       "      <th>2010-06-11</th>\n",
       "      <td>0.000000</td>\n",
       "      <td>0.000000</td>\n",
       "      <td>0.000051</td>\n",
       "      <td>0.999949</td>\n",
       "    </tr>\n",
       "    <tr>\n",
       "      <th>2010-06-15</th>\n",
       "      <td>0.000037</td>\n",
       "      <td>0.749963</td>\n",
       "      <td>0.000012</td>\n",
       "      <td>0.249988</td>\n",
       "    </tr>\n",
       "    <tr>\n",
       "      <th>2010-06-16</th>\n",
       "      <td>0.000025</td>\n",
       "      <td>0.499975</td>\n",
       "      <td>0.000025</td>\n",
       "      <td>0.499975</td>\n",
       "    </tr>\n",
       "    <tr>\n",
       "      <th>2010-06-17</th>\n",
       "      <td>0.000012</td>\n",
       "      <td>0.249988</td>\n",
       "      <td>0.000037</td>\n",
       "      <td>0.749963</td>\n",
       "    </tr>\n",
       "    <tr>\n",
       "      <th>2010-06-18</th>\n",
       "      <td>0.000000</td>\n",
       "      <td>0.000000</td>\n",
       "      <td>0.000050</td>\n",
       "      <td>0.999950</td>\n",
       "    </tr>\n",
       "  </tbody>\n",
       "</table>\n",
       "</div>"
      ],
      "text/plain": [
       "                   0         1         2         3\n",
       "<DATE>                                            \n",
       "2010-06-04  0.000000  0.000000  0.000048  0.999952\n",
       "2010-06-07  0.000049  0.999951  0.000000  0.000000\n",
       "2010-06-08  0.000035  0.749965  0.000012  0.249988\n",
       "2010-06-09  0.000024  0.499976  0.000024  0.499976\n",
       "2010-06-10  0.000013  0.249987  0.000038  0.749962\n",
       "2010-06-11  0.000000  0.000000  0.000051  0.999949\n",
       "2010-06-15  0.000037  0.749963  0.000012  0.249988\n",
       "2010-06-16  0.000025  0.499975  0.000025  0.499975\n",
       "2010-06-17  0.000012  0.249988  0.000037  0.749963\n",
       "2010-06-18  0.000000  0.000000  0.000050  0.999950"
      ]
     },
     "execution_count": 68,
     "metadata": {},
     "output_type": "execute_result"
    }
   ],
   "source": [
    "fvm.membership_degrees_hist"
   ]
  },
  {
   "cell_type": "code",
   "execution_count": 69,
   "id": "92ff0797",
   "metadata": {},
   "outputs": [
    {
     "data": {
      "text/html": [
       "<div>\n",
       "<style scoped>\n",
       "    .dataframe tbody tr th:only-of-type {\n",
       "        vertical-align: middle;\n",
       "    }\n",
       "\n",
       "    .dataframe tbody tr th {\n",
       "        vertical-align: top;\n",
       "    }\n",
       "\n",
       "    .dataframe thead th {\n",
       "        text-align: right;\n",
       "    }\n",
       "</style>\n",
       "<table border=\"1\" class=\"dataframe\">\n",
       "  <thead>\n",
       "    <tr style=\"text-align: right;\">\n",
       "      <th></th>\n",
       "      <th>alpha_0</th>\n",
       "      <th>alpha</th>\n",
       "      <th>beta</th>\n",
       "    </tr>\n",
       "    <tr>\n",
       "      <th>&lt;DATE&gt;</th>\n",
       "      <th></th>\n",
       "      <th></th>\n",
       "      <th></th>\n",
       "    </tr>\n",
       "  </thead>\n",
       "  <tbody>\n",
       "    <tr>\n",
       "      <th>2010-06-03</th>\n",
       "      <td>[0.0003004768873716360482, 8.159789076320547131e-07, 0.00023303836013600437665, 0.0004467923518788418708]</td>\n",
       "      <td>[[0.1393171474604329266, 0.13919585750245487043, 0.13925989738326516649, 0.13919584729619864744]]</td>\n",
       "      <td>[[0.00083970464981650666484, 0.0008396198053913081291, 0.0008396628031460018702, 0.0008396197322813974395]]</td>\n",
       "    </tr>\n",
       "    <tr>\n",
       "      <th>2010-06-04</th>\n",
       "      <td>[0.00030047688737163607, 32.485150132299125, 0.5182772472914601, 3.6297681060355246e-08]</td>\n",
       "      <td>[[0.13076463828384755, 0.13471232643558845, 0.1190977116579638, 0.11834018875172624]]</td>\n",
       "      <td>[[0.0008397046498165459, 0.0008396198053913079, 0.8266163578170976, 0.8265778626048796]]</td>\n",
       "    </tr>\n",
       "    <tr>\n",
       "      <th>2010-06-07</th>\n",
       "      <td>[0.5414472385598754, 7.452580380270778e-08, 591225.9066716422, 190065.24630611963]</td>\n",
       "      <td>[[0.11352854472270325, 0.11380867504382916, 0.1190977116061962, 0.1183401886739489]]</td>\n",
       "      <td>[[0.8275334361536509, 0.827499579363573, 0.8266163578170976, 0.8265778626048796]]</td>\n",
       "    </tr>\n",
       "    <tr>\n",
       "      <th>2010-06-08</th>\n",
       "      <td>[2.0686065836931592346e-06, 5.7614207840027045583e-05, 0.0007043033704033515271, 2.1740001683463869099e-08]</td>\n",
       "      <td>[[0.13139404420633748171, 0.13295448853879177127, 0.14477367744709277607, 0.13295423916957286056]]</td>\n",
       "      <td>[[0.7676361441721162393, 0.76763558097058200315, 0.76764778822749394125, 0.7676355825296140994]]</td>\n",
       "    </tr>\n",
       "    <tr>\n",
       "      <th>2010-06-09</th>\n",
       "      <td>[0.00015171966447549279791, 1.7744200883078600587e-08, 0.00083733063096995015787, 8.6294288203331588454e-05]</td>\n",
       "      <td>[[0.13377532407480370816, 0.13546496376627888581, 0.14686541606473283574, 0.13546474194008586737]]</td>\n",
       "      <td>[[0.76207910795952176766, 0.7632620886188196366, 0.7656023062920500632, 0.7632619741969229206]]</td>\n",
       "    </tr>\n",
       "    <tr>\n",
       "      <th>2010-06-10</th>\n",
       "      <td>[8.166659173246682e-05, 9.771321370150538e-10, 0.00045078363847290807, 4.6461566291607195e-05]</td>\n",
       "      <td>[[0.12263965577194323, 0.12438301552723295, 0.1355195807391869, 0.12438312514716766]]</td>\n",
       "      <td>[[0.7926799689082021, 0.793858014843145, 0.7958904334343069, 0.7938571855348614]]</td>\n",
       "    </tr>\n",
       "    <tr>\n",
       "      <th>2010-06-11</th>\n",
       "      <td>[8.166659173246682e-05, 1.7747384852066574, 0.0004207461598515353, 4.33656502237767e-05]</td>\n",
       "      <td>[[0.02493178695929576, 0.12576681411593382, 0.1495806697586699, 0.13728851707700856]]</td>\n",
       "      <td>[[0.7926799689082021, 0.793858014843145, 0.7617910781344641, 0.7598441695780936]]</td>\n",
       "    </tr>\n",
       "    <tr>\n",
       "      <th>2010-06-15</th>\n",
       "      <td>[8.26083805708814921e-05, 4.881896203319324352e-08, 0.000113139617363689846284, 0.00012923733188706921271]</td>\n",
       "      <td>[[0.11964893821441690648, 0.1201638443572995107, 0.11624720674592981395, 0.12018388856824046913]]</td>\n",
       "      <td>[[0.8033987793640442411, 0.8031924923959917534, 0.8038415194666661644, 0.80318948358083389185]]</td>\n",
       "    </tr>\n",
       "    <tr>\n",
       "      <th>2010-06-16</th>\n",
       "      <td>[4.1461193305686204e-05, 2.4502264816887456e-08, 5.6784838571040485e-05, 6.486429039542986e-05]</td>\n",
       "      <td>[[0.11890821722591428, 0.11946372423022875, 0.11527391758845701, 0.119485120097271]]</td>\n",
       "      <td>[[0.8024663196391932, 0.8022448934346543, 0.8028184495306352, 0.8022425116850747]]</td>\n",
       "    </tr>\n",
       "    <tr>\n",
       "      <th>2010-06-17</th>\n",
       "      <td>[3.9213102799875246e-05, 2.3173714002368193e-08, 5.370587520497111e-05, 6.134724793108561e-05]</td>\n",
       "      <td>[[0.14293365763730695, 0.14361200933936608, 0.13857439929849194, 0.14363772324606514]]</td>\n",
       "      <td>[[0.7356681044256882, 0.7355417527956143, 0.7360665032060217, 0.7355405009270523]]</td>\n",
       "    </tr>\n",
       "    <tr>\n",
       "      <th>2010-06-18</th>\n",
       "      <td>[3.9213102799875246e-05, 11.87157293068068, 3.3934934660523996e-05, 3.87632609329122e-05]</td>\n",
       "      <td>[[0.1429720696960449, 0.14357087330667131, 0.12477059597839173, 0.1292630665903872]]</td>\n",
       "      <td>[[0.7356681044256882, 0.7355417527956143, 0.7779962116868108, 0.777542414382573]]</td>\n",
       "    </tr>\n",
       "  </tbody>\n",
       "</table>\n",
       "</div>"
      ],
      "text/plain": [
       "                                                                                                                 alpha_0  \\\n",
       "<DATE>                                                                                                                     \n",
       "2010-06-03     [0.0003004768873716360482, 8.159789076320547131e-07, 0.00023303836013600437665, 0.0004467923518788418708]   \n",
       "2010-06-04                      [0.00030047688737163607, 32.485150132299125, 0.5182772472914601, 3.6297681060355246e-08]   \n",
       "2010-06-07                            [0.5414472385598754, 7.452580380270778e-08, 591225.9066716422, 190065.24630611963]   \n",
       "2010-06-08   [2.0686065836931592346e-06, 5.7614207840027045583e-05, 0.0007043033704033515271, 2.1740001683463869099e-08]   \n",
       "2010-06-09  [0.00015171966447549279791, 1.7744200883078600587e-08, 0.00083733063096995015787, 8.6294288203331588454e-05]   \n",
       "2010-06-10                [8.166659173246682e-05, 9.771321370150538e-10, 0.00045078363847290807, 4.6461566291607195e-05]   \n",
       "2010-06-11                      [8.166659173246682e-05, 1.7747384852066574, 0.0004207461598515353, 4.33656502237767e-05]   \n",
       "2010-06-15    [8.26083805708814921e-05, 4.881896203319324352e-08, 0.000113139617363689846284, 0.00012923733188706921271]   \n",
       "2010-06-16               [4.1461193305686204e-05, 2.4502264816887456e-08, 5.6784838571040485e-05, 6.486429039542986e-05]   \n",
       "2010-06-17                [3.9213102799875246e-05, 2.3173714002368193e-08, 5.370587520497111e-05, 6.134724793108561e-05]   \n",
       "2010-06-18                     [3.9213102799875246e-05, 11.87157293068068, 3.3934934660523996e-05, 3.87632609329122e-05]   \n",
       "\n",
       "                                                                                                         alpha  \\\n",
       "<DATE>                                                                                                           \n",
       "2010-06-03   [[0.1393171474604329266, 0.13919585750245487043, 0.13925989738326516649, 0.13919584729619864744]]   \n",
       "2010-06-04               [[0.13076463828384755, 0.13471232643558845, 0.1190977116579638, 0.11834018875172624]]   \n",
       "2010-06-07                [[0.11352854472270325, 0.11380867504382916, 0.1190977116061962, 0.1183401886739489]]   \n",
       "2010-06-08  [[0.13139404420633748171, 0.13295448853879177127, 0.14477367744709277607, 0.13295423916957286056]]   \n",
       "2010-06-09  [[0.13377532407480370816, 0.13546496376627888581, 0.14686541606473283574, 0.13546474194008586737]]   \n",
       "2010-06-10               [[0.12263965577194323, 0.12438301552723295, 0.1355195807391869, 0.12438312514716766]]   \n",
       "2010-06-11               [[0.02493178695929576, 0.12576681411593382, 0.1495806697586699, 0.13728851707700856]]   \n",
       "2010-06-15   [[0.11964893821441690648, 0.1201638443572995107, 0.11624720674592981395, 0.12018388856824046913]]   \n",
       "2010-06-16                [[0.11890821722591428, 0.11946372423022875, 0.11527391758845701, 0.119485120097271]]   \n",
       "2010-06-17              [[0.14293365763730695, 0.14361200933936608, 0.13857439929849194, 0.14363772324606514]]   \n",
       "2010-06-18                [[0.1429720696960449, 0.14357087330667131, 0.12477059597839173, 0.1292630665903872]]   \n",
       "\n",
       "                                                                                                                   beta  \n",
       "<DATE>                                                                                                                   \n",
       "2010-06-03  [[0.00083970464981650666484, 0.0008396198053913081291, 0.0008396628031460018702, 0.0008396197322813974395]]  \n",
       "2010-06-04                     [[0.0008397046498165459, 0.0008396198053913079, 0.8266163578170976, 0.8265778626048796]]  \n",
       "2010-06-07                            [[0.8275334361536509, 0.827499579363573, 0.8266163578170976, 0.8265778626048796]]  \n",
       "2010-06-08             [[0.7676361441721162393, 0.76763558097058200315, 0.76764778822749394125, 0.7676355825296140994]]  \n",
       "2010-06-09              [[0.76207910795952176766, 0.7632620886188196366, 0.7656023062920500632, 0.7632619741969229206]]  \n",
       "2010-06-10                            [[0.7926799689082021, 0.793858014843145, 0.7958904334343069, 0.7938571855348614]]  \n",
       "2010-06-11                            [[0.7926799689082021, 0.793858014843145, 0.7617910781344641, 0.7598441695780936]]  \n",
       "2010-06-15              [[0.8033987793640442411, 0.8031924923959917534, 0.8038415194666661644, 0.80318948358083389185]]  \n",
       "2010-06-16                           [[0.8024663196391932, 0.8022448934346543, 0.8028184495306352, 0.8022425116850747]]  \n",
       "2010-06-17                           [[0.7356681044256882, 0.7355417527956143, 0.7360665032060217, 0.7355405009270523]]  \n",
       "2010-06-18                            [[0.7356681044256882, 0.7355417527956143, 0.7779962116868108, 0.777542414382573]]  "
      ]
     },
     "execution_count": 69,
     "metadata": {},
     "output_type": "execute_result"
    }
   ],
   "source": [
    "pd.DataFrame.from_records(fvm._parameters_hist, index=fvm.train_data.index[-len(fvm._parameters_hist):])"
   ]
  },
  {
   "cell_type": "code",
   "execution_count": 70,
   "id": "0627f4ae",
   "metadata": {
    "scrolled": true
   },
   "outputs": [
    {
     "data": {
      "text/plain": [
       "[ active_mask: array([0, 0, 0, 0, 0, 0, 0, 0, 0, 0, 0, 0])\n",
       "         cost: 2.2058367932158384261e-05\n",
       "          fun: array([-5.72626167e-04, -4.43381714e-05, -3.11085658e-04, -3.22162296e-04,\n",
       "        -9.47380619e-05, -3.48739548e-04,  1.36602413e-04, -1.76359454e-05,\n",
       "         5.01880793e-04, -4.22994489e-04,  7.08157530e-04, -4.56231785e-04,\n",
       "        -3.12090663e-04, -3.23298681e-04, -2.50407436e-04,  6.30030268e-05,\n",
       "        -3.82602410e-04,  1.64135476e-03, -1.33177863e-04, -2.50514724e-05,\n",
       "        -3.00622075e-04, -2.87528403e-04, -2.71987045e-04,  2.90773152e-04,\n",
       "        -3.64567647e-04,  8.09409890e-04, -4.92645746e-04, -2.81571302e-04,\n",
       "        -3.09631566e-04, -2.29770231e-04,  3.91994954e-05, -2.85038904e-04,\n",
       "        -3.24074552e-04, -6.41264081e-05, -2.14573768e-04, -1.75294234e-04,\n",
       "        -3.10969798e-04,  2.29229474e-04, -3.79018502e-04, -3.39937374e-04,\n",
       "        -3.16198959e-04, -4.85846879e-05, -3.04760216e-04, -1.50928695e-04,\n",
       "        -1.55399234e-04, -3.59229895e-04, -2.36193824e-04, -2.90550000e-04,\n",
       "        -3.38809808e-04, -2.38292710e-04, -3.24318979e-04, -2.81588639e-04,\n",
       "         1.69909769e-04, -3.73694374e-04, -3.11742909e-04,  2.38527693e-04,\n",
       "        -3.87769415e-04, -2.99146547e-04, -3.27811509e-04, -1.14095902e-04,\n",
       "        -3.64880964e-04, -1.38067114e-04, -2.42964824e-04, -3.51272483e-04,\n",
       "        -1.83798801e-05, -3.63682990e-04,  3.05091012e-04, -1.81115124e-04,\n",
       "        -2.49995759e-04, -2.45355712e-04, -2.81703867e-04, -2.67672906e-04,\n",
       "        -2.46710344e-04,  3.24393271e-04, -3.32969563e-04, -1.57088844e-04,\n",
       "        -2.59584489e-04,  1.53302883e-03, -2.23458136e-04,  1.93456482e-03,\n",
       "         2.75376199e-04,  1.57722745e-03,  8.35360583e-04, -3.79271212e-04,\n",
       "         5.46709931e-05, -2.82566835e-04, -3.41908498e-04,  4.23236740e-04,\n",
       "         3.29618008e-03, -8.47220587e-04, -2.69298592e-04,  2.53423237e-03,\n",
       "         1.00664681e-03,  2.09471912e-03, -7.06199922e-04, -4.06794230e-05,\n",
       "        -2.62232182e-04, -1.05027769e-04, -3.60270897e-04], dtype=float128)\n",
       "         grad: array([4.62917194e-11, 9.94874810e-07, 1.38880591e-10, 2.98462443e-06,\n",
       "        7.68674562e-13, 1.65523823e-08, 2.30892163e-12, 4.96571485e-08,\n",
       "        2.16581643e-11, 4.65442116e-07, 6.49729715e-11, 1.39632635e-06],\n",
       "       dtype=float128)\n",
       "          jac: array([[-1.16324807e-05, -2.49988368e-01, -3.48974417e-05, ...,\n",
       "         -1.47012349e-03, -2.05223434e-07, -4.41037048e-03],\n",
       "        [-1.16422474e-05, -2.50198263e-01, -3.49267426e-05, ...,\n",
       "         -2.90923455e-04, -4.06117452e-08, -8.72770365e-04],\n",
       "        [-1.16422557e-05, -2.50198439e-01, -3.49267671e-05, ...,\n",
       "         -1.04704818e-04, -1.46163600e-08, -3.14114454e-04],\n",
       "        ...,\n",
       "        [-1.16422558e-05, -2.50198439e-01, -3.49267673e-05, ...,\n",
       "         -8.41755935e-05, -1.17505820e-08, -2.52526781e-04],\n",
       "        [-1.16422557e-05, -2.50198439e-01, -3.49267672e-05, ...,\n",
       "         -9.42415586e-05, -1.31556967e-08, -2.82724676e-04],\n",
       "        [-1.16422557e-05, -2.50198439e-01, -3.49267671e-05, ...,\n",
       "         -8.79610787e-05, -1.22790575e-08, -2.63883236e-04]])\n",
       "      message: '`gtol` termination condition is satisfied.'\n",
       "         nfev: 11\n",
       "         njev: 11\n",
       "   optimality: 6.912068858722023332e-09\n",
       "       status: 1\n",
       "      success: True\n",
       "            x: array([3.00476887e-04, 8.15978908e-07, 2.33038360e-04, 4.46792352e-04,\n",
       "        1.39317147e-01, 1.39195858e-01, 1.39259897e-01, 1.39195847e-01,\n",
       "        8.39704650e-04, 8.39619805e-04, 8.39662803e-04, 8.39619732e-04],\n",
       "       dtype=float128),\n",
       "  active_mask: array([0, 0, 0, 0, 0, 0, 0, 0, 0, 0, 0, 0])\n",
       "         cost: 2.0995528583051894562e-05\n",
       "          fun: array([-2.05474788e-04, -4.71339839e-04, -4.62923808e-04, -1.86326400e-04,\n",
       "        -3.89036312e-04,  1.08751630e-04, -7.19673423e-08,  5.02892539e-04,\n",
       "        -4.14673516e-04,  6.46448761e-04, -4.56566646e-04, -3.99312471e-04,\n",
       "        -3.64749934e-04, -2.54362835e-04,  9.28022993e-05, -3.26358551e-04,\n",
       "         1.67393114e-03, -3.31034612e-05, -1.26669797e-04, -3.98762465e-04,\n",
       "        -3.77138064e-04, -3.21801557e-04,  2.77256645e-04, -3.37654182e-04,\n",
       "         7.92841317e-04, -4.56104460e-04, -3.50772212e-04, -3.33109465e-04,\n",
       "        -2.21661643e-04,  7.74388324e-05, -2.24902001e-04, -2.83940919e-04,\n",
       "        -9.40353824e-06, -1.33524567e-04, -1.03506853e-04, -2.33068139e-04,\n",
       "         3.06768282e-04, -2.75675128e-04, -2.86393964e-04, -2.43042409e-04,\n",
       "         4.52969775e-05, -1.90263233e-04, -5.50104023e-05, -4.71681939e-05,\n",
       "        -2.54723925e-04, -1.40450856e-04, -1.76848565e-04, -2.22012630e-04,\n",
       "        -1.15339716e-04, -1.88129882e-04, -1.46667147e-04,  3.12854374e-04,\n",
       "        -2.18343658e-04, -2.08568999e-04,  3.53613852e-04, -2.50774745e-04,\n",
       "        -2.18672859e-04, -2.30662242e-04, -5.07111461e-06, -2.38554934e-04,\n",
       "        -2.61904194e-05, -1.13497867e-04, -2.31391543e-04,  9.99988975e-05,\n",
       "        -2.26253247e-04,  4.15639749e-04, -4.51124199e-05, -1.73297715e-04,\n",
       "        -1.74472469e-04, -2.01561689e-04, -1.79199322e-04, -1.46784141e-04,\n",
       "         4.33249597e-04, -2.07305968e-04, -9.55747704e-05, -1.82787180e-04,\n",
       "         1.60966813e-03, -9.95719451e-05,  1.86143295e-03,  2.53262341e-04,\n",
       "         1.34455022e-03,  6.11130673e-04, -7.36091895e-04, -3.71340709e-04,\n",
       "        -6.11431705e-04, -6.25779004e-04,  2.09143810e-04,  3.16710629e-03,\n",
       "        -9.30232155e-04, -7.34304531e-04,  2.18301908e-03,  8.01676252e-04,\n",
       "         1.66379337e-03, -1.17416574e-03, -7.01790604e-04, -7.69888168e-04,\n",
       "        -5.23122059e-04, -6.80808527e-04,  7.53144571e-04], dtype=float128)\n",
       "         grad: array([ 0.00000000e+00,  0.00000000e+00,  2.95010201e-09,  6.09950224e-05,\n",
       "         0.00000000e+00,  0.00000000e+00,  1.87707419e-12,  3.88815958e-08,\n",
       "         0.00000000e+00,  0.00000000e+00, -3.37513167e-13, -6.97712769e-09],\n",
       "       dtype=float128)\n",
       "          jac: array([[ 0.00000000e+00,  0.00000000e+00, -4.83639350e-05, ...,\n",
       "          0.00000000e+00, -2.83500619e-08, -5.86155843e-04],\n",
       "        [ 0.00000000e+00,  0.00000000e+00, -8.83404931e-05, ...,\n",
       "          0.00000000e+00, -5.14361673e-08, -1.06347372e-03],\n",
       "        [ 0.00000000e+00,  0.00000000e+00, -1.21384231e-04, ...,\n",
       "          0.00000000e+00, -6.90142237e-08, -1.42690959e-03],\n",
       "        ...,\n",
       "        [ 0.00000000e+00,  0.00000000e+00, -2.78879823e-04, ...,\n",
       "          0.00000000e+00, -2.44814615e-07, -5.06168045e-03],\n",
       "        [ 0.00000000e+00,  0.00000000e+00, -2.78879824e-04, ...,\n",
       "          0.00000000e+00, -2.39581084e-07, -4.95347432e-03],\n",
       "        [ 0.00000000e+00,  0.00000000e+00, -2.78879824e-04, ...,\n",
       "          0.00000000e+00, -2.31424870e-07, -4.78484005e-03]])\n",
       "      message: '`gtol` termination condition is satisfied.'\n",
       "         nfev: 12\n",
       "         njev: 12\n",
       "   optimality: 4.6012553904090601995e-09\n",
       "       status: 1\n",
       "      success: True\n",
       "            x: array([3.00476887e-04, 3.24851501e+01, 5.18277247e-01, 3.62976811e-08,\n",
       "        1.30764638e-01, 1.34712326e-01, 1.19097712e-01, 1.18340189e-01,\n",
       "        8.39704650e-04, 8.39619805e-04, 8.26616358e-01, 8.26577863e-01]),\n",
       "  active_mask: array([0, 0, 0, 0, 0, 0, 0, 0, 0, 0, 0, 0])\n",
       "         cost: 2.0976778227720884482e-05\n",
       "          fun: array([-3.01899794e-04, -3.24619571e-04, -7.39685723e-05, -2.97099689e-04,\n",
       "         1.82796533e-04,  6.12662297e-05,  5.53287029e-04, -3.71041522e-04,\n",
       "         6.80555064e-04, -4.25710573e-04, -3.75857606e-04, -3.47360364e-04,\n",
       "        -2.42000433e-04,  1.01364027e-04, -3.19454681e-04,  1.67763071e-03,\n",
       "        -2.31067049e-05, -1.18452502e-04, -3.92466785e-04, -3.73729223e-04,\n",
       "        -3.20860005e-04,  2.76249810e-04, -3.37683793e-04,  7.90971502e-04,\n",
       "        -4.54506747e-04, -3.51607173e-04, -3.35675754e-04, -2.25720404e-04,\n",
       "         7.25254932e-05, -2.29237230e-04, -2.89106321e-04, -1.55944780e-05,\n",
       "        -1.39412393e-04, -1.09676285e-04, -2.39359224e-04,  2.99778947e-04,\n",
       "        -2.80861201e-04, -2.92558250e-04, -2.50153893e-04,  3.75093153e-05,\n",
       "        -1.97369214e-04, -6.25583797e-05, -5.45116573e-05, -2.61845129e-04,\n",
       "        -1.48308819e-04, -1.84868247e-04, -2.30348294e-04, -1.24173341e-04,\n",
       "        -1.96941536e-04, -1.55791545e-04,  3.03626960e-04, -2.25586595e-04,\n",
       "        -2.16392570e-04,  3.45301394e-04, -2.56989818e-04, -2.25694130e-04,\n",
       "        -2.38277169e-04, -1.32859409e-05, -2.46300346e-04, -3.45624076e-05,\n",
       "        -1.21485085e-04, -2.39421111e-04,  9.13957158e-05, -2.33883828e-04,\n",
       "         4.07425677e-04, -5.09547706e-05, -1.79042419e-04, -1.80703385e-04,\n",
       "        -2.08241927e-04, -1.86413993e-04, -1.54388961e-04,  4.25431844e-04,\n",
       "        -2.12692554e-04, -1.01624431e-04, -1.88937553e-04,  1.60303182e-03,\n",
       "        -9.85319849e-05,  1.86180341e-03,  2.61919073e-04,  1.35357045e-03,\n",
       "         6.25460329e-04, -7.20166134e-04, -3.60015394e-04, -6.02662204e-04,\n",
       "        -6.20436314e-04,  2.11271678e-04,  3.17005445e-03, -9.13130588e-04,\n",
       "        -7.22728237e-04,  2.19041761e-03,  8.18455131e-04,  1.68295958e-03,\n",
       "        -1.14887136e-03, -6.83684909e-04, -7.56235287e-04, -5.13869940e-04,\n",
       "        -6.74493917e-04,  7.56027938e-04, -5.45148329e-04], dtype=float128)\n",
       "         grad: array([ 8.17564578e-10,  1.65308774e-05,  0.00000000e+00,  0.00000000e+00,\n",
       "         2.64410075e-13,  5.28807545e-09,  0.00000000e+00,  0.00000000e+00,\n",
       "        -1.37559658e-12, -2.78164292e-08,  0.00000000e+00,  0.00000000e+00],\n",
       "       dtype=float128)\n",
       "          jac: array([[-4.94543682e-05, -9.99950546e-01,  0.00000000e+00, ...,\n",
       "         -3.73505014e-04,  0.00000000e+00,  0.00000000e+00],\n",
       "        [-9.03778372e-05, -1.82740920e+00,  0.00000000e+00, ...,\n",
       "         -6.87508718e-04,  0.00000000e+00,  0.00000000e+00],\n",
       "        [-1.24241991e-04, -2.51213090e+00,  0.00000000e+00, ...,\n",
       "         -9.17628744e-04,  0.00000000e+00,  0.00000000e+00],\n",
       "        ...,\n",
       "        [-2.86691290e-04, -5.79680062e+00,  0.00000000e+00, ...,\n",
       "         -4.89916377e-03,  0.00000000e+00,  0.00000000e+00],\n",
       "        [-2.86691291e-04, -5.79680063e+00,  0.00000000e+00, ...,\n",
       "         -4.73814874e-03,  0.00000000e+00,  0.00000000e+00],\n",
       "        [-2.86691291e-04, -5.79680064e+00,  0.00000000e+00, ...,\n",
       "         -4.51484893e-03,  0.00000000e+00,  0.00000000e+00]])\n",
       "      message: '`gtol` termination condition is satisfied.'\n",
       "         nfev: 27\n",
       "         njev: 27\n",
       "   optimality: 4.7983457337348634245e-09\n",
       "       status: 1\n",
       "      success: True\n",
       "            x: array([5.41447239e-01, 7.45258038e-08, 5.91225907e+05, 1.90065246e+05,\n",
       "        1.13528545e-01, 1.13808675e-01, 1.19097712e-01, 1.18340189e-01,\n",
       "        8.27533436e-01, 8.27499579e-01, 8.26616358e-01, 8.26577863e-01]),\n",
       "  active_mask: array([0, 0, 0, 0, 0, 0, 0, 0, 0, 0, 0, 0])\n",
       "         cost: 2.1085572947354711873e-05\n",
       "          fun: array([-8.80514691e-05,  1.11673470e-04, -1.56593609e-04,  2.92916870e-04,\n",
       "         1.37830128e-04,  6.07660478e-04, -3.42516608e-04,  7.09785082e-04,\n",
       "        -4.17673395e-04, -3.59541695e-04, -3.27601284e-04, -2.21755357e-04,\n",
       "         1.18580109e-04, -3.11953099e-04,  1.68655573e-03, -5.24996545e-05,\n",
       "        -1.36548779e-04, -4.00276632e-04, -3.69036848e-04, -3.08801695e-04,\n",
       "         2.91274506e-04, -3.33146554e-04,  8.00725341e-04, -4.63778466e-04,\n",
       "        -3.47745118e-04, -3.25809230e-04, -2.13056510e-04,  8.38869748e-05,\n",
       "        -2.25341825e-04, -2.84494293e-04, -1.00534905e-05, -1.39394708e-04,\n",
       "        -1.11201519e-04, -2.42904751e-04,  2.97052335e-04, -2.93988890e-04,\n",
       "        -3.00720845e-04, -2.55246957e-04,  3.29973443e-05, -2.07652951e-04,\n",
       "        -7.21113174e-05, -6.65476552e-05, -2.75752356e-04, -1.59467776e-04,\n",
       "        -1.96849590e-04, -2.42448633e-04, -1.35840339e-04, -2.10845213e-04,\n",
       "        -1.70031973e-04,  2.87990726e-04, -2.51228509e-04, -2.37584113e-04,\n",
       "         3.26779197e-04, -2.84711815e-04, -2.46809646e-04, -2.55699803e-04,\n",
       "        -2.82214131e-05, -2.64246539e-04, -4.98922214e-05, -1.39501291e-04,\n",
       "        -2.57457367e-04,  7.55549789e-05, -2.54963812e-04,  3.89528484e-04,\n",
       "        -7.92749889e-05, -2.04169094e-04, -2.00773810e-04, -2.24849282e-04,\n",
       "        -2.00267094e-04, -1.67079378e-04,  4.12619605e-04, -2.36928709e-04,\n",
       "        -1.19941408e-04, -2.05468255e-04,  1.58946474e-03, -1.44612096e-04,\n",
       "         1.83119604e-03,  2.05163781e-04,  1.31599444e-03,  5.82406724e-04,\n",
       "        -7.47766263e-04, -3.47981453e-04, -5.71444467e-04, -5.72268068e-04,\n",
       "         2.69388373e-04,  3.21659791e-03, -9.31358754e-04, -6.98073976e-04,\n",
       "         2.23900335e-03,  8.25491530e-04,  1.69396630e-03, -1.14869196e-03,\n",
       "        -6.31073444e-04, -6.79261737e-04, -4.21220997e-04, -5.78944213e-04,\n",
       "         8.53774493e-04, -4.76771202e-04, -5.01190426e-04], dtype=float128)\n",
       "         grad: array([ 1.42570207e-15,  5.66873006e-11, -5.74059008e-17,  1.88959405e-11,\n",
       "        -1.08599125e-11, -2.32246346e-07, -3.62163588e-12, -7.74154493e-08,\n",
       "        -2.23788777e-11, -4.78604505e-07, -7.45788107e-12, -1.59534833e-07],\n",
       "       dtype=float128)\n",
       "          jac: array([[-3.50707295e-05, -7.49964929e-01, -1.16902432e-05, ...,\n",
       "         -5.74116093e-05, -8.94927580e-10, -1.91372031e-05],\n",
       "        [-6.19922694e-05, -1.32566469e+00, -2.06640898e-05, ...,\n",
       "         -1.28190787e-04, -1.99822276e-09, -4.27302623e-05],\n",
       "        [-8.26582013e-05, -1.76759232e+00, -2.75527339e-05, ...,\n",
       "         -1.97796628e-04, -3.08326969e-09, -6.59322093e-05],\n",
       "        ...,\n",
       "        [-1.50929862e-04, -3.22753774e+00, -5.03099538e-05, ...,\n",
       "         -2.47483896e-03, -3.85771064e-08, -8.24946319e-04],\n",
       "        [-1.50929862e-04, -3.22753774e+00, -5.03099538e-05, ...,\n",
       "         -2.27199373e-03, -3.54150959e-08, -7.57331242e-04],\n",
       "        [-1.50929862e-04, -3.22753774e+00, -5.03099540e-05, ...,\n",
       "         -2.19682639e-03, -3.42435105e-08, -7.32275462e-04]])\n",
       "      message: '`ftol` termination condition is satisfied.'\n",
       "         nfev: 60\n",
       "         njev: 60\n",
       "   optimality: 2.0136815161609200293e-07\n",
       "       status: 2\n",
       "      success: True\n",
       "            x: array([2.06860658e-06, 5.76142078e-05, 7.04303370e-04, 2.17400017e-08,\n",
       "        1.31394044e-01, 1.32954489e-01, 1.44773677e-01, 1.32954239e-01,\n",
       "        7.67636144e-01, 7.67635581e-01, 7.67647788e-01, 7.67635583e-01],\n",
       "       dtype=float128),\n",
       "  active_mask: array([0, 0, 0, 0, 0, 0, 0, 0, 0, 0, 0, 0])\n",
       "         cost: 2.1201984145676654816e-05\n",
       "          fun: array([ 1.79354174e-04, -1.04924622e-04,  3.33121862e-04,  1.68165434e-04,\n",
       "         6.30971316e-04, -3.25677771e-04,  7.24248144e-04, -4.07740095e-04,\n",
       "        -3.50041701e-04, -3.18682938e-04, -2.13441293e-04,  1.26102947e-04,\n",
       "        -3.05920273e-04,  1.69258796e-03, -5.15416999e-05, -1.34653575e-04,\n",
       "        -3.97485738e-04, -3.64948652e-04, -3.03910710e-04,  2.96536615e-04,\n",
       "        -3.29174206e-04,  8.05369677e-04, -4.61542633e-04, -3.43959422e-04,\n",
       "        -3.21252777e-04, -2.08046967e-04,  8.88925398e-05, -2.21116964e-04,\n",
       "        -2.80044393e-04, -5.31976301e-06, -1.35180825e-04, -1.07034471e-04,\n",
       "        -2.38853553e-04,  3.01344349e-04, -2.90902569e-04, -2.96967711e-04,\n",
       "        -2.51021406e-04,  3.74195155e-05, -2.03837947e-04, -6.81144160e-05,\n",
       "        -6.27747504e-05, -2.72151118e-04, -1.55459012e-04, -1.92861532e-04,\n",
       "        -2.38389583e-04, -1.31628236e-04, -2.06809293e-04, -1.65938648e-04,\n",
       "         2.92010039e-04, -2.48419314e-04, -2.34234711e-04,  3.30472254e-04,\n",
       "        -2.82200949e-04, -2.43550985e-04, -2.52013497e-04, -2.42201882e-05,\n",
       "        -2.60608699e-04, -4.59122389e-05, -1.35832515e-04, -2.53778857e-04,\n",
       "         7.95349395e-05, -2.51620942e-04,  3.93269336e-04, -7.68812466e-05,\n",
       "        -2.01496510e-04, -1.97573815e-04, -2.21285270e-04, -1.96390986e-04,\n",
       "        -1.63056323e-04,  4.16650979e-04, -2.34356629e-04, -1.16718065e-04,\n",
       "        -2.02081431e-04,  1.59318411e-03, -1.45172676e-04,  1.83214214e-03,\n",
       "         2.02248060e-04,  1.31465653e-03,  5.79480576e-04, -7.49791107e-04,\n",
       "        -3.45915766e-04, -5.67532969e-04, -5.66533230e-04,  2.76329662e-04,\n",
       "         3.22217811e-03, -9.34160268e-04, -6.96078403e-04,  2.24375042e-03,\n",
       "         8.24730702e-04,  1.69306676e-03, -1.15176269e-03, -6.28345904e-04,\n",
       "        -6.73825159e-04, -4.13843106e-04, -5.70967141e-04,  8.62457402e-04,\n",
       "        -4.71318387e-04, -4.94662503e-04, -4.18472667e-04], dtype=float128)\n",
       "         grad: array([ 6.84688968e-15,  1.24643969e-10,  6.84184330e-15,  1.24644286e-10,\n",
       "         4.19184149e-13,  8.56893141e-09,  4.18079327e-13,  8.56893124e-09,\n",
       "        -6.88288905e-14, -1.40936016e-09, -6.95528174e-14, -1.40936071e-09],\n",
       "       dtype=float128)\n",
       "          jac: array([[-2.43897357e-05, -4.99975610e-01, -2.43897357e-05, ...,\n",
       "         -1.20560282e-05, -5.88123977e-10, -1.20560282e-05],\n",
       "        [-4.30054957e-05, -8.81588024e-01, -4.30054957e-05, ...,\n",
       "         -4.16249526e-05, -2.03049883e-09, -4.16249526e-05],\n",
       "        [-5.72141989e-05, -1.17285830e+00, -5.72141989e-05, ...,\n",
       "         -9.46457025e-05, -4.61688576e-09, -9.46457025e-05],\n",
       "        ...,\n",
       "        [-1.03024195e-04, -2.11193698e+00, -1.03024195e-04, ...,\n",
       "         -1.47171040e-03, -7.17927666e-08, -1.47171040e-03],\n",
       "        [-1.03024195e-04, -2.11193698e+00, -1.03024195e-04, ...,\n",
       "         -1.42241594e-03, -6.93880180e-08, -1.42241594e-03],\n",
       "        [-1.03024195e-04, -2.11193698e+00, -1.03024195e-04, ...,\n",
       "         -1.34416502e-03, -6.55708393e-08, -1.34416502e-03]])\n",
       "      message: '`gtol` termination condition is satisfied.'\n",
       "         nfev: 4\n",
       "         njev: 4\n",
       "   optimality: 1.1607899832961033841e-09\n",
       "       status: 1\n",
       "      success: True\n",
       "            x: array([1.51719664e-04, 1.77442009e-08, 8.37330631e-04, 8.62942882e-05,\n",
       "        1.33775324e-01, 1.35464964e-01, 1.46865416e-01, 1.35464742e-01,\n",
       "        7.62079108e-01, 7.63262089e-01, 7.65602306e-01, 7.63261974e-01],\n",
       "       dtype=float128),\n",
       "  active_mask: array([ 0, -1,  0,  0,  0,  0,  0,  0,  0,  0,  0,  0])\n",
       "         cost: 2.1161478938632029804e-05\n",
       "          fun: array([-2.38268860e-04,  2.31964170e-04,  9.70968389e-05,  5.80518633e-04,\n",
       "        -3.55496148e-04,  6.98212588e-04, -4.18403405e-04, -3.63161285e-04,\n",
       "        -3.32021902e-04, -2.25778774e-04,  1.16388118e-04, -3.09474206e-04,\n",
       "         1.68852400e-03, -3.32731342e-05, -1.22735913e-04, -3.91191059e-04,\n",
       "        -3.65505383e-04, -3.08379275e-04,  2.90601495e-04, -3.28915987e-04,\n",
       "         8.02655807e-04, -4.53247482e-04, -3.43247901e-04, -3.23962090e-04,\n",
       "        -2.12365953e-04,  8.52580134e-05, -2.20580690e-04, -2.80114680e-04,\n",
       "        -6.13844310e-06, -1.33046430e-04, -1.04269155e-04, -2.35178740e-04,\n",
       "         3.04292937e-04, -2.82184529e-04, -2.91337280e-04, -2.47336557e-04,\n",
       "         4.05997878e-05, -1.97506281e-04, -6.23974261e-05, -5.58020031e-05,\n",
       "        -2.64265668e-04, -1.49312188e-04, -1.86376801e-04, -2.31977598e-04,\n",
       "        -1.25613610e-04, -1.99658464e-04, -1.58759814e-04,  2.99826038e-04,\n",
       "        -2.34985120e-04, -2.23506081e-04,  3.39581218e-04, -2.67824002e-04,\n",
       "        -2.33008231e-04, -2.43569258e-04, -1.71731903e-05, -2.51798477e-04,\n",
       "        -3.86111202e-05, -1.26985345e-04, -2.44940409e-04,  8.70817894e-05,\n",
       "        -2.41073910e-04,  4.01945524e-04, -6.21922418e-05, -1.88632949e-04,\n",
       "        -1.87545621e-04, -2.13139825e-04, -1.89721525e-04, -1.56967123e-04,\n",
       "         4.22866758e-04, -2.21508636e-04, -1.07254918e-04, -1.93571130e-04,\n",
       "         1.60006806e-03, -1.19391418e-04,  1.84917994e-03,  2.34824236e-04,\n",
       "         1.33678937e-03,  6.05719596e-04, -7.31317462e-04, -3.48980472e-04,\n",
       "        -5.80284779e-04, -5.87860321e-04,  2.50203624e-04,  3.20337524e-03,\n",
       "        -9.15121895e-04, -7.01400026e-04,  2.22521888e-03,  8.30797667e-04,\n",
       "         1.69741856e-03, -1.14035791e-03, -6.46248321e-04, -7.04711515e-04,\n",
       "        -4.52896804e-04, -6.11127040e-04,  8.21234568e-04, -4.95686271e-04,\n",
       "        -5.22589073e-04, -4.47897390e-04,  2.05128785e-04], dtype=float128)\n",
       "         grad: array([ 1.08239593e-17,  2.13547376e-13,  6.51751740e-17,  6.40504319e-13,\n",
       "         3.14897224e-15,  6.11411092e-11,  9.24928375e-15,  1.83435447e-10,\n",
       "        -3.78590926e-14, -7.53332027e-10, -1.13630833e-13, -2.25997616e-09],\n",
       "       dtype=float128)\n",
       "          jac: array([[-1.25745884e-05, -2.49987425e-01, -3.77237652e-05, ...,\n",
       "         -6.10477852e-05, -9.21227361e-09, -1.83143356e-04],\n",
       "        [-2.25570192e-05, -4.48441807e-01, -6.76710575e-05, ...,\n",
       "         -1.13235052e-04, -1.70874701e-08, -3.39705158e-04],\n",
       "        [-3.04816462e-05, -6.05986297e-01, -9.14449387e-05, ...,\n",
       "         -1.50675052e-04, -2.27372645e-08, -4.52025160e-04],\n",
       "        ...,\n",
       "        [-6.09994817e-05, -1.21269205e+00, -1.82998445e-04, ...,\n",
       "         -8.60951755e-04, -1.29919904e-07, -2.58285537e-03],\n",
       "        [-6.09994817e-05, -1.21269205e+00, -1.82998445e-04, ...,\n",
       "         -8.19698517e-04, -1.23694679e-07, -2.45909565e-03],\n",
       "        [-6.09994817e-05, -1.21269205e+00, -1.82998445e-04, ...,\n",
       "         -7.68277344e-04, -1.15935087e-07, -2.30483213e-03]])\n",
       "      message: '`gtol` termination condition is satisfied.'\n",
       "         nfev: 6\n",
       "         njev: 6\n",
       "   optimality: 4.658778465472119256e-10\n",
       "       status: 1\n",
       "      success: True\n",
       "            x: array([8.16665917e-05, 9.77132137e-10, 4.50783638e-04, 4.64615663e-05,\n",
       "        1.22639656e-01, 1.24383016e-01, 1.35519581e-01, 1.24383125e-01,\n",
       "        7.92679969e-01, 7.93858015e-01, 7.95890433e-01, 7.93857186e-01]),\n",
       "  active_mask: array([0, 0, 0, 0, 0, 0, 0, 0, 0, 0, 0, 0])\n",
       "         cost: 2.1347043668276026072e-05\n",
       "          fun: array([ 4.13033345e-04,  2.28297671e-04,  6.76493114e-04, -2.92031539e-04,\n",
       "         7.50778843e-04, -3.88591187e-04, -3.34264231e-04, -3.05661599e-04,\n",
       "        -2.02639020e-04,  1.34973094e-04, -2.99163412e-04,  1.69857718e-03,\n",
       "        -4.98293877e-05, -1.32621562e-04, -3.95086950e-04, -3.61834635e-04,\n",
       "        -3.00407862e-04,  3.00144969e-04, -3.26638399e-04,  8.08309827e-04,\n",
       "        -4.60429710e-04, -3.41737472e-04, -3.18508504e-04, -2.05017005e-04,\n",
       "         9.18752792e-05, -2.18739252e-04, -2.77521554e-04, -2.61070031e-06,\n",
       "        -1.32872438e-04, -1.04771256e-04, -2.36683903e-04,  3.03682324e-04,\n",
       "        -2.89451418e-04, -2.95019898e-04, -2.48731922e-04,  3.98414574e-05,\n",
       "        -2.01870528e-04, -6.60161246e-05, -6.08441586e-05, -2.70345983e-04,\n",
       "        -1.53355615e-04, -1.90779066e-04, -2.36260799e-04, -1.29394681e-04,\n",
       "        -2.04712800e-04, -1.63805831e-04,  2.94082674e-04, -2.47230797e-04,\n",
       "        -2.32636105e-04,  3.32326291e-04, -2.81207045e-04, -2.41992904e-04,\n",
       "        -2.50139452e-04, -2.21202278e-05, -2.58781016e-04, -4.38366323e-05,\n",
       "        -1.33989943e-04, -2.51929768e-04,  8.16022956e-05, -2.50022824e-04,\n",
       "         3.95162552e-04, -7.59688283e-05, -2.00358345e-04, -1.96036382e-04,\n",
       "        -2.19478126e-04, -1.94358636e-04, -1.60924036e-04,  4.18780608e-04,\n",
       "        -2.33295224e-04, -1.15163620e-04, -2.00402101e-04,  1.59510783e-03,\n",
       "        -1.46361920e-04,  1.83212439e-03,  1.99467381e-04,  1.31313469e-03,\n",
       "         5.76880504e-04, -7.51634404e-04, -3.44706835e-04, -5.64981276e-04,\n",
       "        -5.62685294e-04,  2.80997575e-04,  3.22578524e-03, -9.36682132e-04,\n",
       "        -6.94994702e-04,  2.24685447e-03,  8.23802731e-04,  1.69211410e-03,\n",
       "        -1.15421934e-03, -6.26480103e-04, -6.69995724e-04, -4.08654605e-04,\n",
       "        -5.65424076e-04,  8.68429366e-04, -4.67783329e-04, -4.90369930e-04,\n",
       "        -4.13691423e-04,  2.38303928e-04, -3.78806932e-04], dtype=float128)\n",
       "         grad: array([ 0.00000000e+00,  0.00000000e+00,  5.12815363e-09,  1.01401178e-04,\n",
       "         0.00000000e+00,  0.00000000e+00,  7.83576385e-13,  1.54953098e-08,\n",
       "         0.00000000e+00,  0.00000000e+00, -2.19374628e-13, -4.33778083e-09],\n",
       "       dtype=float128)\n",
       "          jac: array([[ 0.00000000e+00,  0.00000000e+00, -5.05703624e-05, ...,\n",
       "          0.00000000e+00, -1.05345244e-09, -2.08303697e-05],\n",
       "        [ 0.00000000e+00,  0.00000000e+00, -8.89959625e-05, ...,\n",
       "          0.00000000e+00, -3.93952959e-09, -7.78979985e-05],\n",
       "        [ 0.00000000e+00,  0.00000000e+00, -1.18193434e-04, ...,\n",
       "          0.00000000e+00, -1.08711689e-08, -2.14960229e-04],\n",
       "        ...,\n",
       "        [ 0.00000000e+00,  0.00000000e+00, -2.10573206e-04, ...,\n",
       "          0.00000000e+00, -1.32883896e-07, -2.62757043e-03],\n",
       "        [ 0.00000000e+00,  0.00000000e+00, -2.10573206e-04, ...,\n",
       "          0.00000000e+00, -1.23021358e-07, -2.43255425e-03],\n",
       "        [ 0.00000000e+00,  0.00000000e+00, -2.10573206e-04, ...,\n",
       "          0.00000000e+00, -1.12580949e-07, -2.22611155e-03]])\n",
       "      message: '`gtol` termination condition is satisfied.'\n",
       "         nfev: 3\n",
       "         njev: 3\n",
       "   optimality: 4.3973279981286997436e-09\n",
       "       status: 1\n",
       "      success: True\n",
       "            x: array([8.16665917e-05, 1.77473849e+00, 4.20746160e-04, 4.33656502e-05,\n",
       "        2.49317870e-02, 1.25766814e-01, 1.49580670e-01, 1.37288517e-01,\n",
       "        7.92679969e-01, 7.93858015e-01, 7.61791078e-01, 7.59844170e-01]),\n",
       "  active_mask: array([0, 0, 0, 0, 0, 0, 0, 0, 0, 0, 0, 0])\n",
       "         cost: 2.1519755532976429751e-05\n",
       "          fun: array([-8.69681162e-05,  4.34133083e-04, -4.69700621e-04,  6.05492456e-04,\n",
       "        -4.89214380e-04, -4.21557512e-04, -3.79940178e-04, -2.64933857e-04,\n",
       "         8.48979856e-05, -3.33269397e-04,  1.66898505e-03, -4.08201489e-05,\n",
       "        -1.29040369e-04, -3.96817941e-04, -3.71610544e-04, -3.14489326e-04,\n",
       "         2.84960774e-04, -3.31478113e-04,  7.99736493e-04, -4.51490850e-04,\n",
       "        -3.43571669e-04, -3.25191887e-04, -2.14035547e-04,  8.38829814e-05,\n",
       "        -2.20372848e-04, -2.80029660e-04, -6.30478886e-06, -1.32131857e-04,\n",
       "        -1.03078133e-04, -2.33615780e-04,  3.05610832e-04, -2.78699095e-04,\n",
       "        -2.88843016e-04, -2.45542510e-04,  4.21461693e-05, -1.94854551e-04,\n",
       "        -5.99615053e-05, -5.29102366e-05, -2.61011156e-04, -1.46677767e-04,\n",
       "        -1.83653339e-04, -2.29317826e-04, -1.23154293e-04, -1.96843433e-04,\n",
       "        -1.55976055e-04,  3.02799708e-04, -2.29912992e-04, -2.19282537e-04,\n",
       "         3.43255045e-04, -2.62149113e-04, -2.28581037e-04, -2.39881459e-04,\n",
       "        -1.40394289e-05, -2.48071341e-04, -3.54631392e-05, -1.23316010e-04,\n",
       "        -2.41279745e-04,  9.02441649e-05, -2.36831921e-04,  4.05534019e-04,\n",
       "        -5.63358230e-05, -1.83244723e-04, -1.83077088e-04, -2.09334738e-04,\n",
       "        -1.86492993e-04, -1.54027733e-04,  4.25766139e-04, -2.16168669e-04,\n",
       "        -1.03013254e-04, -1.89634420e-04,  1.60341111e-03, -1.08896728e-04,\n",
       "         1.85709275e-03,  2.49064421e-04,  1.34814968e-03,  6.19376031e-04,\n",
       "        -7.19632135e-04, -3.44722075e-04, -5.79720257e-04, -5.90875060e-04,\n",
       "         2.44762287e-04,  3.19996280e-03, -9.04582362e-04, -6.99007426e-04,\n",
       "         2.22275965e-03,  8.37366519e-04,  1.70403989e-03, -1.13036757e-03,\n",
       "        -6.46363356e-04, -7.09834855e-04, -4.61661970e-04, -6.21142806e-04,\n",
       "         8.09950111e-04, -5.01482231e-04, -5.30007230e-04, -4.56334088e-04,\n",
       "         1.96571198e-04, -4.07118330e-04,  8.38272925e-04], dtype=float128)\n",
       "         grad: array([ 8.14205909e-10,  1.64318784e-05,  2.71401957e-10,  5.47729281e-06,\n",
       "         4.19677153e-13,  8.48316786e-09,  1.38344768e-13,  2.82772287e-09,\n",
       "        -5.02278469e-13, -1.01397323e-08, -1.65090414e-13, -3.37990898e-09],\n",
       "       dtype=float128)\n",
       "          jac: array([[-3.71608870e-05, -7.49962839e-01, -1.23869622e-05, ...,\n",
       "         -3.56312328e-04, -5.88509843e-09, -1.18770776e-04],\n",
       "        [-6.70082052e-05, -1.35232681e+00, -2.23360684e-05, ...,\n",
       "         -6.39452280e-04, -1.05617130e-08, -2.13150760e-04],\n",
       "        [-9.09813250e-05, -1.83614058e+00, -3.03271084e-05, ...,\n",
       "         -8.56216563e-04, -1.41419861e-08, -2.85405521e-04],\n",
       "        ...,\n",
       "        [-1.88817736e-04, -3.81062715e+00, -6.29392452e-05, ...,\n",
       "         -2.45386698e-03, -4.05297487e-08, -8.17955659e-04],\n",
       "        [-1.88817736e-04, -3.81062715e+00, -6.29392453e-05, ...,\n",
       "         -2.28553585e-03, -3.77496652e-08, -7.61845281e-04],\n",
       "        [-1.88817736e-04, -3.81062715e+00, -6.29392452e-05, ...,\n",
       "         -2.16819794e-03, -3.58117339e-08, -7.22732647e-04]])\n",
       "      message: '`gtol` termination condition is satisfied.'\n",
       "         nfev: 24\n",
       "         njev: 24\n",
       "   optimality: 1.995575441895383283e-09\n",
       "       status: 1\n",
       "      success: True\n",
       "            x: array([8.26083806e-05, 4.88189620e-08, 1.13139617e-04, 1.29237332e-04,\n",
       "        1.19648938e-01, 1.20163844e-01, 1.16247207e-01, 1.20183889e-01,\n",
       "        8.03398779e-01, 8.03192492e-01, 8.03841519e-01, 8.03189484e-01],\n",
       "       dtype=float128),\n",
       "  active_mask: array([0, 0, 0, 0, 0, 0, 0, 0, 0, 0, 0, 0])\n",
       "         cost: 2.16380415030167341e-05\n",
       "          fun: array([ 5.04519608e-04, -4.12278006e-04,  6.51968475e-04, -4.50876813e-04,\n",
       "        -3.90392399e-04, -3.54590335e-04, -2.44306933e-04,  1.01744141e-04,\n",
       "        -3.19256900e-04,  1.68046273e-03, -3.00413674e-05, -1.19666092e-04,\n",
       "        -3.88651892e-04, -3.64635826e-04, -3.08539000e-04,  2.90054377e-04,\n",
       "        -3.26713094e-04,  8.03874944e-04, -4.47130974e-04, -3.39736641e-04,\n",
       "        -3.21796220e-04, -2.11044397e-04,  8.65705954e-05, -2.17751809e-04,\n",
       "        -2.77642193e-04, -4.17743989e-06, -1.30063769e-04, -1.01128505e-04,\n",
       "        -2.31750642e-04,  3.07314374e-04, -2.76779393e-04, -2.87075746e-04,\n",
       "        -2.43946083e-04,  4.35952801e-05, -1.93352523e-04, -5.85513283e-05,\n",
       "        -5.14988768e-05, -2.59584694e-04, -1.45373775e-04, -1.82400093e-04,\n",
       "        -2.28137855e-04, -1.22078478e-04, -1.95799071e-04, -1.55007113e-04,\n",
       "         3.03722893e-04, -2.28712424e-04, -2.18143022e-04,  3.44327575e-04,\n",
       "        -2.60760993e-04, -2.27268855e-04, -2.38642053e-04, -1.28921035e-05,\n",
       "        -2.46867140e-04, -3.43553619e-05, -1.22165218e-04, -2.40138685e-04,\n",
       "         9.12936399e-05, -2.35650677e-04,  4.06636183e-04, -5.48764376e-05,\n",
       "        -1.81716227e-04, -1.81577071e-04, -2.07878612e-04, -1.85109818e-04,\n",
       "        -1.52710412e-04,  4.27036269e-04, -2.14542945e-04, -1.01442126e-04,\n",
       "        -1.88057391e-04,  1.60492838e-03, -1.06203255e-04,  1.85987509e-03,\n",
       "         2.53254209e-04,  1.35271295e-03,  6.25018252e-04, -7.13398702e-04,\n",
       "        -3.38874124e-04, -5.74120716e-04, -5.85748242e-04,  2.49353947e-04,\n",
       "         3.20456645e-03, -8.97880183e-04, -6.92855185e-04,  2.22837310e-03,\n",
       "         8.44395461e-04,  1.71165149e-03, -1.12158224e-03, -6.38337382e-04,\n",
       "        -7.02394422e-04, -4.54928363e-04, -6.14994632e-04,  8.15390732e-04,\n",
       "        -4.95764242e-04, -5.24832482e-04, -4.51739919e-04,  2.00629757e-04,\n",
       "        -4.03133222e-04,  8.41818979e-04, -4.87569592e-04], dtype=float128)\n",
       "         grad: array([ 2.65346371e-10,  5.40829673e-06,  2.65346332e-10,  5.40829673e-06,\n",
       "         3.85530034e-14,  7.85857027e-10,  3.84995075e-14,  7.85853237e-10,\n",
       "        -2.41219345e-13, -4.91590693e-09, -2.41241078e-13, -4.91590693e-09],\n",
       "       dtype=float128)\n",
       "          jac: array([[-2.45302175e-05, -4.99975470e-01, -2.45302175e-05, ...,\n",
       "         -1.92028293e-04, -9.42145206e-09, -1.92028293e-04],\n",
       "        [-4.42094305e-05, -9.01077652e-01, -4.42094305e-05, ...,\n",
       "         -3.47271245e-04, -1.70381131e-08, -3.47271245e-04],\n",
       "        [-5.99969556e-05, -1.22285936e+00, -5.99969556e-05, ...,\n",
       "         -5.03047361e-04, -2.46809329e-08, -5.03047361e-04],\n",
       "        ...,\n",
       "        [-1.24042674e-04, -2.52824070e+00, -1.24042674e-04, ...,\n",
       "         -1.50105408e-03, -7.36459747e-08, -1.50105408e-03],\n",
       "        [-1.24042674e-04, -2.52824070e+00, -1.24042674e-04, ...,\n",
       "         -1.42386847e-03, -6.98590270e-08, -1.42386847e-03],\n",
       "        [-1.24042674e-04, -2.52824070e+00, -1.24042674e-04, ...,\n",
       "         -1.33689256e-03, -6.55917454e-08, -1.33689256e-03]])\n",
       "      message: '`gtol` termination condition is satisfied.'\n",
       "         nfev: 5\n",
       "         njev: 5\n",
       "   optimality: 9.721574074568723506e-10\n",
       "       status: 1\n",
       "      success: True\n",
       "            x: array([4.14611933e-05, 2.45022648e-08, 5.67848386e-05, 6.48642904e-05,\n",
       "        1.18908217e-01, 1.19463724e-01, 1.15273918e-01, 1.19485120e-01,\n",
       "        8.02466320e-01, 8.02244893e-01, 8.02818450e-01, 8.02242512e-01]),\n",
       "  active_mask: array([0, 0, 0, 0, 0, 0, 0, 0, 0, 0, 0, 0])\n",
       "         cost: 2.19410851331891333e-05\n",
       "          fun: array([-7.92689444e-04,  3.87648403e-04, -6.57726168e-04, -5.24956156e-04,\n",
       "        -4.39943797e-04, -2.96323709e-04,  6.99272628e-05, -3.45541651e-04,\n",
       "         1.66928555e-03, -7.97526812e-05, -1.47470344e-04, -3.98641205e-04,\n",
       "        -3.55906618e-04, -2.88802816e-04,  3.14643232e-04, -3.14470319e-04,\n",
       "         8.23637148e-04, -4.50716265e-04, -3.25972012e-04, -3.00257543e-04,\n",
       "        -1.85880947e-04,  1.10285970e-04, -2.03054205e-04, -2.61416732e-04,\n",
       "         1.38176483e-05, -1.18415747e-04, -9.06789805e-05, -2.23126109e-04,\n",
       "         3.17673717e-04, -2.78902201e-04, -2.82208169e-04, -2.34756818e-04,\n",
       "         5.38840215e-05, -1.89938128e-04, -5.36870637e-05, -4.93078929e-05,\n",
       "        -2.59290682e-04, -1.41191592e-04, -1.78938023e-04, -2.24487246e-04,\n",
       "        -1.17534953e-04, -1.93716508e-04, -1.52926903e-04,  3.04466061e-04,\n",
       "        -2.40149315e-04, -2.23451266e-04,  3.42616844e-04, -2.73963122e-04,\n",
       "        -2.31954221e-04, -2.38779794e-04, -1.00765738e-05, -2.48004830e-04,\n",
       "        -3.22206598e-05, -1.23459752e-04, -2.41401735e-04,  9.28560120e-05,\n",
       "        -2.40659981e-04,  4.05782623e-04, -6.88446735e-05, -1.91521796e-04,\n",
       "        -1.85150610e-04, -2.07418482e-04, -1.81550762e-04, -1.48019646e-04,\n",
       "         4.31341658e-04, -2.24762214e-04, -1.04117304e-04, -1.88661549e-04,\n",
       "         1.60782737e-03, -1.44584338e-04,  1.84107891e-03,  2.00609845e-04,\n",
       "         1.32327648e-03,  5.86492304e-04, -7.35074556e-04, -3.14032495e-04,\n",
       "        -5.29262850e-04, -5.23329698e-04,  3.21151992e-04,  3.25951191e-03,\n",
       "        -9.25772077e-04, -6.66680807e-04,  2.28315959e-03,  8.44984492e-04,\n",
       "         1.71634829e-03, -1.13213444e-03, -5.84785682e-04, -6.21427249e-04,\n",
       "        -3.57222980e-04, -5.15866206e-04,  9.16164267e-04, -4.32160264e-04,\n",
       "        -4.53150616e-04, -3.76627854e-04,  2.73389389e-04, -3.50357880e-04,\n",
       "         8.95496619e-04, -4.65434350e-04, -3.92026856e-04], dtype=float128)\n",
       "         grad: array([3.75351311e-11, 7.51283174e-07, 1.12605479e-10, 2.25384952e-06,\n",
       "        5.23771516e-14, 1.04844507e-09, 1.57133646e-13, 3.14534142e-09,\n",
       "        5.65279774e-14, 1.13160742e-09, 1.69615793e-13, 3.39479599e-09],\n",
       "       dtype=float128)\n",
       "          jac: array([[-1.24897247e-05, -2.49987510e-01, -3.74691742e-05, ...,\n",
       "         -2.22732386e-04, -3.33840653e-08, -6.68197170e-04],\n",
       "        [-2.16764273e-05, -4.33863532e-01, -6.50292818e-05, ...,\n",
       "         -3.71152365e-04, -5.56298687e-08, -1.11345711e-03],\n",
       "        [-2.84336221e-05, -5.69111855e-01, -8.53008664e-05, ...,\n",
       "         -4.38312052e-04, -6.56960424e-08, -1.31493617e-03],\n",
       "        ...,\n",
       "        [-4.72274225e-05, -9.45278302e-01, -1.41682268e-04, ...,\n",
       "         -4.31576439e-04, -6.46864819e-08, -1.29472936e-03],\n",
       "        [-4.72274225e-05, -9.45278302e-01, -1.41682268e-04, ...,\n",
       "         -4.01324773e-04, -6.01522370e-08, -1.20397436e-03],\n",
       "        [-4.72274225e-05, -9.45278302e-01, -1.41682268e-04, ...,\n",
       "         -4.12595272e-04, -6.18415079e-08, -1.23778586e-03]])\n",
       "      message: '`gtol` termination condition is satisfied.'\n",
       "         nfev: 5\n",
       "         njev: 5\n",
       "   optimality: 2.49700993998564716e-09\n",
       "       status: 1\n",
       "      success: True\n",
       "            x: array([3.92131028e-05, 2.31737140e-08, 5.37058752e-05, 6.13472479e-05,\n",
       "        1.42933658e-01, 1.43612009e-01, 1.38574399e-01, 1.43637723e-01,\n",
       "        7.35668104e-01, 7.35541753e-01, 7.36066503e-01, 7.35540501e-01]),\n",
       "  active_mask: array([0, 0, 0, 0, 0, 0, 0, 0, 0, 0, 0, 0])\n",
       "         cost: 2.1693200482396770425e-05\n",
       "          fun: array([ 9.76944609e-04, -2.04973785e-04, -1.93994792e-04, -1.98152779e-04,\n",
       "        -1.19989597e-04,  1.99426513e-04, -2.46010352e-04,  1.73913476e-03,\n",
       "        -2.74549337e-06, -9.68930730e-05, -3.68680802e-04, -3.44519849e-04,\n",
       "        -2.89309946e-04,  3.07382843e-04, -3.17231871e-04,  8.13888191e-04,\n",
       "        -4.48320092e-04, -3.35882435e-04, -3.15910693e-04, -2.04336877e-04,\n",
       "         9.23288285e-05, -2.15912420e-04, -2.75587320e-04, -1.64951245e-06,\n",
       "        -1.30210306e-04, -1.01971933e-04, -2.33504854e-04,  3.06103163e-04,\n",
       "        -2.83103062e-04, -2.90934507e-04, -2.46162093e-04,  4.18707745e-05,\n",
       "        -1.97767789e-04, -6.24651884e-05, -5.65117986e-05, -2.65437200e-04,\n",
       "        -1.49752231e-04, -1.87038156e-04, -2.32677109e-04, -1.26216100e-04,\n",
       "        -2.00857344e-04, -1.60050176e-04,  2.98169718e-04, -2.39192895e-04,\n",
       "        -2.26462804e-04,  3.37354767e-04, -2.72385027e-04, -2.35762032e-04,\n",
       "        -2.45346865e-04, -1.83286487e-05, -2.53762885e-04, -3.99103323e-05,\n",
       "        -1.29004131e-04, -2.46964749e-04,  8.56156712e-05, -2.43905759e-04,\n",
       "         3.99960190e-04, -6.68415351e-05, -1.92343809e-04, -1.89885886e-04,\n",
       "        -2.14577536e-04, -1.90475963e-04, -1.57472621e-04,  4.22273987e-04,\n",
       "        -2.25063008e-04, -1.09202424e-04, -1.95040359e-04,  1.59935821e-03,\n",
       "        -1.28416289e-04,  1.84448979e-03,  2.23666510e-04,  1.33106630e-03,\n",
       "         5.98924073e-04, -7.33739984e-04, -3.41013136e-04, -5.67578542e-04,\n",
       "        -5.71150513e-04,  2.68990797e-04,  3.21869282e-03, -9.16633785e-04,\n",
       "        -6.91446221e-04,  2.24127819e-03,  8.36005972e-04,  1.70394595e-03,\n",
       "        -1.13630589e-03, -6.28373793e-04, -6.80791481e-04, -4.25391876e-04,\n",
       "        -5.83433014e-04,  8.48948230e-04, -4.75997316e-04, -5.01641608e-04,\n",
       "        -4.26728641e-04,  2.25250996e-04, -3.86075455e-04,  8.59262103e-04,\n",
       "        -4.82760390e-04, -4.17910422e-04, -3.15637603e-04], dtype=float128)\n",
       "         grad: array([ 0.00000000e+00,  0.00000000e+00,  1.58230799e-10,  3.18095598e-06,\n",
       "         0.00000000e+00,  0.00000000e+00,  2.79395128e-14,  5.61104338e-10,\n",
       "         0.00000000e+00,  0.00000000e+00, -5.10786315e-13, -1.02691344e-08],\n",
       "       dtype=float128)\n",
       "          jac: array([[ 0.00000000e+00,  0.00000000e+00, -4.97406657e-05, ...,\n",
       "          0.00000000e+00, -1.82281212e-09, -3.66445591e-05],\n",
       "        [ 0.00000000e+00,  0.00000000e+00, -8.84161441e-05, ...,\n",
       "          0.00000000e+00, -4.99835195e-09, -1.00483273e-04],\n",
       "        [ 0.00000000e+00,  0.00000000e+00, -1.18487970e-04, ...,\n",
       "          0.00000000e+00, -1.53432147e-08, -3.08448891e-04],\n",
       "        ...,\n",
       "        [ 0.00000000e+00,  0.00000000e+00, -2.23596200e-04, ...,\n",
       "          0.00000000e+00, -1.10084434e-07, -2.21305774e-03],\n",
       "        [ 0.00000000e+00,  0.00000000e+00, -2.23596200e-04, ...,\n",
       "          0.00000000e+00, -1.09817414e-07, -2.20768967e-03],\n",
       "        [ 0.00000000e+00,  0.00000000e+00, -2.23596200e-04, ...,\n",
       "          0.00000000e+00, -1.06176550e-07, -2.13449644e-03]])\n",
       "      message: '`gtol` termination condition is satisfied.'\n",
       "         nfev: 4\n",
       "         njev: 4\n",
       "   optimality: 2.2844468419602278271e-09\n",
       "       status: 1\n",
       "      success: True\n",
       "            x: array([3.92131028e-05, 1.18715729e+01, 3.39349347e-05, 3.87632609e-05,\n",
       "        1.42972070e-01, 1.43570873e-01, 1.24770596e-01, 1.29263067e-01,\n",
       "        7.35668104e-01, 7.35541753e-01, 7.77996212e-01, 7.77542414e-01])]"
      ]
     },
     "execution_count": 70,
     "metadata": {},
     "output_type": "execute_result"
    }
   ],
   "source": [
    "fvm._ls_results_hist"
   ]
  },
  {
   "cell_type": "code",
   "execution_count": 71,
   "id": "4cfbf569",
   "metadata": {},
   "outputs": [
    {
     "data": {
      "text/plain": [
       "2010-06-04    0.000337\n",
       "2010-06-07    0.000678\n",
       "2010-06-08    0.000597\n",
       "2010-06-09    0.000448\n",
       "2010-06-10    0.000383\n",
       "2010-06-11    0.000438\n",
       "2010-06-15    0.000364\n",
       "2010-06-16    0.000496\n",
       "2010-06-17    0.000427\n",
       "2010-06-18    0.000334\n",
       "dtype: float128"
      ]
     },
     "execution_count": 71,
     "metadata": {},
     "output_type": "execute_result"
    }
   ],
   "source": [
    "fvm.hist_output"
   ]
  },
  {
   "cell_type": "code",
   "execution_count": 72,
   "id": "d651da50",
   "metadata": {},
   "outputs": [
    {
     "data": {
      "text/plain": [
       "<DATE>\n",
       "2010-06-04   -0.036744\n",
       "2010-06-07   -0.011267\n",
       "2010-06-08   -0.004727\n",
       "2010-06-09    0.004727\n",
       "2010-06-10    0.024821\n",
       "2010-06-11   -0.006017\n",
       "2010-06-15    0.035086\n",
       "2010-06-16   -0.002051\n",
       "2010-06-17   -0.000185\n",
       "2010-06-18    0.006935\n",
       "Name: log return, dtype: float64"
      ]
     },
     "execution_count": 72,
     "metadata": {},
     "output_type": "execute_result"
    }
   ],
   "source": [
    "test"
   ]
  },
  {
   "cell_type": "code",
   "execution_count": 73,
   "id": "91717c8f",
   "metadata": {},
   "outputs": [
    {
     "data": {
      "text/plain": [
       "array([0.00000000e+00, 0.00000000e+00, 4.97406657e-05, 9.99950259e-01],\n",
       "      dtype=float128)"
      ]
     },
     "execution_count": 73,
     "metadata": {},
     "output_type": "execute_result"
    }
   ],
   "source": [
    "fvm.membership_degrees_current"
   ]
  },
  {
   "cell_type": "code",
   "execution_count": 74,
   "id": "eac0e6d2",
   "metadata": {},
   "outputs": [
    {
     "data": {
      "text/plain": [
       "[{'a': [1, 1], 'b': [1, 5], 'c': [1, 5], 'd': [5, 5], 'n_clusters': 2},\n",
       " {'centers': [-4.5, 2.5], 'variances': [7, 5], 'n_clusters': 2}]"
      ]
     },
     "execution_count": 74,
     "metadata": {},
     "output_type": "execute_result"
    }
   ],
   "source": [
    "fvm.clusterization_parameters"
   ]
  },
  {
   "cell_type": "code",
   "execution_count": 75,
   "id": "330b52a1",
   "metadata": {
    "scrolled": true
   },
   "outputs": [
    {
     "data": {
      "text/plain": [
       "[{'alpha_0': array([3.00476887e-04, 8.15978908e-07, 2.33038360e-04, 4.46792352e-04],\n",
       "        dtype=float128),\n",
       "  'alpha': array([[0.13931715, 0.13919586, 0.1392599 , 0.13919585]], dtype=float128),\n",
       "  'beta': array([[0.0008397 , 0.00083962, 0.00083966, 0.00083962]], dtype=float128)},\n",
       " {'alpha_0': array([3.00476887e-04, 3.24851501e+01, 5.18277247e-01, 3.62976811e-08]),\n",
       "  'alpha': array([[0.13076464, 0.13471233, 0.11909771, 0.11834019]]),\n",
       "  'beta': array([[0.0008397 , 0.00083962, 0.82661636, 0.82657786]])},\n",
       " {'alpha_0': array([5.41447239e-01, 7.45258038e-08, 5.91225907e+05, 1.90065246e+05]),\n",
       "  'alpha': array([[0.11352854, 0.11380868, 0.11909771, 0.11834019]]),\n",
       "  'beta': array([[0.82753344, 0.82749958, 0.82661636, 0.82657786]])},\n",
       " {'alpha_0': array([2.06860658e-06, 5.76142078e-05, 7.04303370e-04, 2.17400017e-08],\n",
       "        dtype=float128),\n",
       "  'alpha': array([[0.13139404, 0.13295449, 0.14477368, 0.13295424]], dtype=float128),\n",
       "  'beta': array([[0.76763614, 0.76763558, 0.76764779, 0.76763558]], dtype=float128)},\n",
       " {'alpha_0': array([1.51719664e-04, 1.77442009e-08, 8.37330631e-04, 8.62942882e-05],\n",
       "        dtype=float128),\n",
       "  'alpha': array([[0.13377532, 0.13546496, 0.14686542, 0.13546474]], dtype=float128),\n",
       "  'beta': array([[0.76207911, 0.76326209, 0.76560231, 0.76326197]], dtype=float128)},\n",
       " {'alpha_0': array([8.16665917e-05, 9.77132137e-10, 4.50783638e-04, 4.64615663e-05]),\n",
       "  'alpha': array([[0.12263966, 0.12438302, 0.13551958, 0.12438313]]),\n",
       "  'beta': array([[0.79267997, 0.79385801, 0.79589043, 0.79385719]])},\n",
       " {'alpha_0': array([8.16665917e-05, 1.77473849e+00, 4.20746160e-04, 4.33656502e-05]),\n",
       "  'alpha': array([[0.02493179, 0.12576681, 0.14958067, 0.13728852]]),\n",
       "  'beta': array([[0.79267997, 0.79385801, 0.76179108, 0.75984417]])},\n",
       " {'alpha_0': array([8.26083806e-05, 4.88189620e-08, 1.13139617e-04, 1.29237332e-04],\n",
       "        dtype=float128),\n",
       "  'alpha': array([[0.11964894, 0.12016384, 0.11624721, 0.12018389]], dtype=float128),\n",
       "  'beta': array([[0.80339878, 0.80319249, 0.80384152, 0.80318948]], dtype=float128)},\n",
       " {'alpha_0': array([4.14611933e-05, 2.45022648e-08, 5.67848386e-05, 6.48642904e-05]),\n",
       "  'alpha': array([[0.11890822, 0.11946372, 0.11527392, 0.11948512]]),\n",
       "  'beta': array([[0.80246632, 0.80224489, 0.80281845, 0.80224251]])},\n",
       " {'alpha_0': array([3.92131028e-05, 2.31737140e-08, 5.37058752e-05, 6.13472479e-05]),\n",
       "  'alpha': array([[0.14293366, 0.14361201, 0.1385744 , 0.14363772]]),\n",
       "  'beta': array([[0.7356681 , 0.73554175, 0.7360665 , 0.7355405 ]])},\n",
       " {'alpha_0': array([3.92131028e-05, 1.18715729e+01, 3.39349347e-05, 3.87632609e-05]),\n",
       "  'alpha': array([[0.14297207, 0.14357087, 0.1247706 , 0.12926307]]),\n",
       "  'beta': array([[0.7356681 , 0.73554175, 0.77799621, 0.77754241]])}]"
      ]
     },
     "execution_count": 75,
     "metadata": {},
     "output_type": "execute_result"
    }
   ],
   "source": [
    "fvm._parameters_hist"
   ]
  },
  {
   "cell_type": "markdown",
   "id": "451345f2",
   "metadata": {},
   "source": [
    "## Plots"
   ]
  },
  {
   "cell_type": "code",
   "execution_count": 76,
   "id": "2fd8d88a",
   "metadata": {},
   "outputs": [
    {
     "data": {
      "image/png": "[encoded data removed]",
      "text/plain": [
       "<Figure size 640x480 with 1 Axes>"
      ]
     },
     "metadata": {},
     "output_type": "display_data"
    }
   ],
   "source": [
    "fvm.hist_output.plot(label='forecast')\n",
    "(test_small ** 2).plot(label='actual values')\n",
    "\n",
    "plt.legend()\n",
    "plt.grid()\n",
    "plt.show()"
   ]
  },
  {
   "cell_type": "code",
   "execution_count": 77,
   "id": "78cc15a2",
   "metadata": {},
   "outputs": [
    {
     "data": {
      "image/png": "[encoded data removed]",
      "text/plain": [
       "<Figure size 640x480 with 1 Axes>"
      ]
     },
     "metadata": {},
     "output_type": "display_data"
    }
   ],
   "source": [
    "fvm.hist_output.plot(label='forecast')\n",
    "(input_cut ** 2).plot(label='actual values')\n",
    "\n",
    "plt.legend()\n",
    "plt.grid()\n",
    "plt.show()"
   ]
  },
  {
   "cell_type": "code",
   "execution_count": 78,
   "id": "ee59ee57",
   "metadata": {
    "scrolled": false
   },
   "outputs": [
    {
     "data": {
      "image/png": "[encoded data removed]",
      "text/plain": [
       "<Figure size 640x480 with 1 Axes>"
      ]
     },
     "metadata": {},
     "output_type": "display_data"
    }
   ],
   "source": [
    "_h_w_nans = np.concatenate([[np.nan for _ in range(input_cut.shape[0] - n_points_fitting)], fvm.h])\n",
    "\n",
    "plt.plot(_h_w_nans, label='$h_t$')\n",
    "plt.plot(input_cut.values ** 2, label='$y_t^2$')\n",
    "\n",
    "plt.legend()\n",
    "plt.grid()\n",
    "plt.show()"
   ]
  },
  {
   "cell_type": "code",
   "execution_count": 79,
   "id": "6f321f9e",
   "metadata": {},
   "outputs": [
    {
     "data": {
      "text/plain": [
       "<DATE>\n",
       "2010-01-25    3.664638e-05\n",
       "2010-01-26    1.048939e-03\n",
       "2010-01-27    2.535655e-05\n",
       "2010-01-28    2.713750e-05\n",
       "2010-01-29    1.605785e-05\n",
       "                  ...     \n",
       "2010-06-11    3.620283e-05\n",
       "2010-06-15    1.231044e-03\n",
       "2010-06-16    4.207162e-06\n",
       "2010-06-17    3.436548e-08\n",
       "2010-06-18    4.809967e-05\n",
       "Name: log return, Length: 100, dtype: float64"
      ]
     },
     "execution_count": 79,
     "metadata": {},
     "output_type": "execute_result"
    }
   ],
   "source": [
    "input_cut[-n_points_fitting:] ** 2"
   ]
  },
  {
   "cell_type": "code",
   "execution_count": 81,
   "id": "1cf9ae48",
   "metadata": {
    "scrolled": true
   },
   "outputs": [
    {
     "data": {
      "text/plain": [
       "[array([0.00588077, 0.00115881, 0.00041786, 0.00038764, 0.00034628,\n",
       "        0.00033894, 0.00036957, 0.0003385 , 0.00040171, 0.00038909,\n",
       "        0.00045964, 0.00034078, 0.00048159, 0.00033923, 0.00033936,\n",
       "        0.00033781, 0.00034774, 0.00039276, 0.00033704, 0.00061096,\n",
       "        0.00040231, 0.00038815, 0.0003478 , 0.00034398, 0.0003456 ,\n",
       "        0.00042417, 0.00034395, 0.00049613, 0.0003362 , 0.00034318,\n",
       "        0.00034025, 0.00035096, 0.0003899 , 0.00035022, 0.00033923,\n",
       "        0.00037387, 0.00035778, 0.000361  , 0.00034256, 0.00041517,\n",
       "        0.00034068, 0.00033568, 0.00033829, 0.0003759 , 0.00034551,\n",
       "        0.00036267, 0.00036445, 0.00033633, 0.00034951, 0.0003438 ,\n",
       "        0.00033628, 0.00034922, 0.00033905, 0.00034358, 0.00040706,\n",
       "        0.00034028, 0.00033955, 0.00041605, 0.00033958, 0.00034121,\n",
       "        0.00033745, 0.00036667, 0.00033585, 0.00036311, 0.00035232,\n",
       "        0.00033574, 0.00037975, 0.00033785, 0.00042507, 0.00036961,\n",
       "        0.00035225, 0.00035047, 0.00034516, 0.00034637, 0.00034946,\n",
       "        0.00042938, 0.00034908, 0.00036231, 0.0003499 , 0.00059768,\n",
       "        0.00038789, 0.0006589 , 0.00046589, 0.00062008, 0.00053841,\n",
       "        0.0003579 , 0.00039302, 0.000351  , 0.00033685, 0.00044138,\n",
       "        0.00085592, 0.00033722, 0.00034503, 0.00073637, 0.00057853,\n",
       "        0.00070789, 0.00033612, 0.0003767 , 0.00035154, 0.0003699 ,\n",
       "        0.00033695], dtype=float128),\n",
       " array([0.00058618, 0.000579  , 0.00054789, 0.00048704, 0.00043053,\n",
       "        0.00040987, 0.00036636, 0.00038415, 0.00038808, 0.00045132,\n",
       "        0.00040249, 0.00048192, 0.00042645, 0.00038081, 0.00034177,\n",
       "        0.00031795, 0.00033652, 0.00030446, 0.00051089, 0.00050393,\n",
       "        0.00048629, 0.00043741, 0.00039379, 0.00035912, 0.00039725,\n",
       "        0.00036051, 0.00045958, 0.0004054 , 0.00036666, 0.00033214,\n",
       "        0.00031272, 0.00032976, 0.00031008, 0.0002845 , 0.00029282,\n",
       "        0.00028599, 0.00028309, 0.00026502, 0.00031183, 0.00028713,\n",
       "        0.00026253, 0.00024441, 0.00026141, 0.00024959, 0.00025444,\n",
       "        0.00025994, 0.00024058, 0.00023581, 0.000227  , 0.00021332,\n",
       "        0.00021303, 0.00020413, 0.00020063, 0.00025171, 0.00023711,\n",
       "        0.00022447, 0.00027905, 0.00025911, 0.00024406, 0.00022842,\n",
       "        0.00024034, 0.00022397, 0.00023364, 0.00023244, 0.00021736,\n",
       "        0.00024232, 0.0002273 , 0.00028907, 0.00029291, 0.00028137,\n",
       "        0.00027033, 0.00025669, 0.00024644, 0.0002406 , 0.00030372,\n",
       "        0.00028756, 0.00028551, 0.00027326, 0.0004738 , 0.00046102,\n",
       "        0.00068101, 0.00069857, 0.00084431, 0.00089523, 0.00078391,\n",
       "        0.00072189, 0.00063487, 0.00055095, 0.00057045, 0.00093893,\n",
       "        0.00080223, 0.00069625, 0.00094134, 0.00100946, 0.00117585,\n",
       "        0.00099723, 0.00088436, 0.00076964, 0.00069044, 0.00059695,\n",
       "        0.00067829], dtype=float128),\n",
       " array([0.00037352, 0.00037845, 0.00034873, 0.00031817, 0.00031793,\n",
       "        0.00029231, 0.00032281, 0.00033769, 0.00040769, 0.00036838,\n",
       "        0.00045107, 0.000403  , 0.00036342, 0.00032941, 0.00030938,\n",
       "        0.00032961, 0.00030076, 0.00050089, 0.00049571, 0.00047999,\n",
       "        0.000434  , 0.00039285, 0.00036013, 0.00039728, 0.00036238,\n",
       "        0.00045799, 0.00040623, 0.00036922, 0.0003362 , 0.00031763,\n",
       "        0.0003341 , 0.00031525, 0.0002907 , 0.00029871, 0.00029216,\n",
       "        0.00028939, 0.00027201, 0.00031702, 0.0002933 , 0.00026964,\n",
       "        0.00025219, 0.00026851, 0.00025714, 0.00026178, 0.00026707,\n",
       "        0.00024844, 0.00024383, 0.00023533, 0.00022216, 0.00022184,\n",
       "        0.00021326, 0.00020986, 0.00025895, 0.00024493, 0.00023278,\n",
       "        0.00028527, 0.00026613, 0.00025167, 0.00023664, 0.00024809,\n",
       "        0.00023235, 0.00024163, 0.00024047, 0.00022596, 0.00024995,\n",
       "        0.00023552, 0.00029491, 0.00029866, 0.0002876 , 0.00027701,\n",
       "        0.0002639 , 0.00025405, 0.00024842, 0.00030911, 0.00029361,\n",
       "        0.00029166, 0.00027989, 0.00047276, 0.00046065, 0.00067235,\n",
       "        0.00068955, 0.00082998, 0.0008793 , 0.00077258, 0.00071312,\n",
       "        0.00062953, 0.00054882, 0.0005675 , 0.00092183, 0.00079065,\n",
       "        0.00068885, 0.00092456, 0.00099029, 0.00115056, 0.00097913,\n",
       "        0.0008707 , 0.00076039, 0.00068413, 0.00059406, 0.00067209,\n",
       "        0.00059745], dtype=float128),\n",
       " array([7.65523921e-05, 1.12164702e-04, 1.32529955e-04, 1.77425032e-04,\n",
       "        1.82189775e-04, 2.46245301e-04, 2.83313591e-04, 3.79162990e-04,\n",
       "        3.39153680e-04, 4.43029948e-04, 3.86679195e-04, 3.43659138e-04,\n",
       "        3.09162323e-04, 2.92167526e-04, 3.22111315e-04, 2.91837063e-04,\n",
       "        5.30283134e-04, 5.13810046e-04, 4.87799836e-04, 4.29311492e-04,\n",
       "        3.80790938e-04, 3.45102344e-04, 3.92744387e-04, 3.52630742e-04,\n",
       "        4.67258174e-04, 4.02369019e-04, 3.59357646e-04, 3.23538504e-04,\n",
       "        3.06271124e-04, 3.30200267e-04, 3.10637253e-04, 2.85154408e-04,\n",
       "        2.98692954e-04, 2.93689136e-04, 2.92931158e-04, 2.74737992e-04,\n",
       "        3.30143137e-04, 3.01458865e-04, 2.74731051e-04, 2.56706204e-04,\n",
       "        2.78796585e-04, 2.66695422e-04, 2.73818106e-04, 2.80972438e-04,\n",
       "        2.59600850e-04, 2.55814370e-04, 2.47434222e-04, 2.33824545e-04,\n",
       "        2.35741859e-04, 2.27496336e-04, 2.25496805e-04, 2.84592230e-04,\n",
       "        2.66121355e-04, 2.51300752e-04, 3.12988111e-04, 2.87242648e-04,\n",
       "        2.69095803e-04, 2.51570948e-04, 2.66032515e-04, 2.47675854e-04,\n",
       "        2.59643400e-04, 2.58507324e-04, 2.41801392e-04, 2.71031689e-04,\n",
       "        2.53412241e-04, 3.23232498e-04, 3.23782394e-04, 3.07672390e-04,\n",
       "        2.93615298e-04, 2.77754678e-04, 2.66739074e-04, 2.61230986e-04,\n",
       "        3.33344051e-04, 3.11927985e-04, 3.08194877e-04, 2.93461698e-04,\n",
       "        5.18837578e-04, 4.91255527e-04, 7.29108008e-04, 7.27127273e-04,\n",
       "        8.73033389e-04, 9.06901196e-04, 7.60549710e-04, 6.81900205e-04,\n",
       "        5.81358825e-04, 4.90702753e-04, 5.20960812e-04, 9.40055719e-04,\n",
       "        7.65998896e-04, 6.40261308e-04, 9.17520959e-04, 9.79285482e-04,\n",
       "        1.15037764e-03, 9.26517299e-04, 7.93730615e-04, 6.67737392e-04,\n",
       "        5.88576824e-04, 4.96315587e-04, 6.03712445e-04, 5.23530941e-04,\n",
       "        4.48073626e-04], dtype=float128),\n",
       " array([2.41132327e-05, 6.48492507e-05, 1.25756045e-04, 1.41984782e-04,\n",
       "        2.15909996e-04, 2.60002754e-04, 3.62324154e-04, 3.24690619e-04,\n",
       "        4.33096648e-04, 3.77179201e-04, 3.34740791e-04, 3.00848258e-04,\n",
       "        2.84644687e-04, 3.16078489e-04, 2.85804836e-04, 5.29325179e-04,\n",
       "        5.11914842e-04, 4.85008942e-04, 4.25223296e-04, 3.75899953e-04,\n",
       "        3.39840235e-04, 3.88772039e-04, 3.47986406e-04, 4.65022340e-04,\n",
       "        3.98583322e-04, 3.54801193e-04, 3.18528962e-04, 3.01265559e-04,\n",
       "        3.25975406e-04, 3.06187352e-04, 2.80420681e-04, 2.94479071e-04,\n",
       "        2.89522087e-04, 2.88879960e-04, 2.70445978e-04, 3.27056816e-04,\n",
       "        2.97705731e-04, 2.70505499e-04, 2.52284033e-04, 2.74981581e-04,\n",
       "        2.62698521e-04, 2.70045201e-04, 2.77371200e-04, 2.55592086e-04,\n",
       "        2.51826312e-04, 2.43375172e-04, 2.29612442e-04, 2.31705939e-04,\n",
       "        2.23403012e-04, 2.21477492e-04, 2.81783035e-04, 2.62771953e-04,\n",
       "        2.47607696e-04, 3.10477246e-04, 2.83983987e-04, 2.65409497e-04,\n",
       "        2.47569723e-04, 2.62394675e-04, 2.43695872e-04, 2.55974624e-04,\n",
       "        2.54828814e-04, 2.37821432e-04, 2.67688819e-04, 2.49671389e-04,\n",
       "        3.20838756e-04, 3.21109809e-04, 3.04472394e-04, 2.90051286e-04,\n",
       "        2.73878570e-04, 2.62716018e-04, 2.57199612e-04, 3.30771970e-04,\n",
       "        3.08704642e-04, 3.04808054e-04, 2.89742328e-04, 5.19398158e-04,\n",
       "        4.90309430e-04, 7.32023729e-04, 7.28465185e-04, 8.75959537e-04,\n",
       "        9.08926040e-04, 7.58484023e-04, 6.77988707e-04, 5.75623987e-04,\n",
       "        4.83761464e-04, 5.15380618e-04, 9.42857233e-04, 7.64003323e-04,\n",
       "        6.35514239e-04, 9.18281786e-04, 9.80185024e-04, 1.15344837e-03,\n",
       "        9.23789759e-04, 7.88294037e-04, 6.60359501e-04, 5.80599752e-04,\n",
       "        4.87632679e-04, 5.98259630e-04, 5.17003018e-04, 4.40813182e-04,\n",
       "        3.82660371e-04], dtype=float128),\n",
       " array([0.0002442 , 0.0002591 , 0.00024314, 0.00028698, 0.00031046,\n",
       "        0.00039214, 0.00035073, 0.00044376, 0.0003903 , 0.00034808,\n",
       "        0.00031319, 0.00029436, 0.00031963, 0.00028987, 0.00051106,\n",
       "        0.0005    , 0.00047871, 0.00042578, 0.00038037, 0.00034578,\n",
       "        0.00038851, 0.0003507 , 0.00045673, 0.00039787, 0.00035751,\n",
       "        0.00032285, 0.0003049 , 0.00032544, 0.00030626, 0.00028124,\n",
       "        0.00029234, 0.00028676, 0.00028521, 0.0002675 , 0.00031834,\n",
       "        0.00029208, 0.00026682, 0.0002491 , 0.00026865, 0.00025698,\n",
       "        0.00026307, 0.00026949, 0.00024945, 0.00024534, 0.00023696,\n",
       "        0.0002236 , 0.00022456, 0.00021622, 0.00021366, 0.00026835,\n",
       "        0.00025204, 0.0002385 , 0.0002961 , 0.00027344, 0.00025697,\n",
       "        0.00024052, 0.00025358, 0.00023639, 0.00024713, 0.00024599,\n",
       "        0.00023027, 0.00025714, 0.000241  , 0.00030615, 0.00030825,\n",
       "        0.00029444, 0.00028191, 0.00026721, 0.00025663, 0.00025098,\n",
       "        0.00031792, 0.00029924, 0.0002963 , 0.00028286, 0.00049362,\n",
       "        0.00047327, 0.00069945, 0.00070633, 0.00084972, 0.00089045,\n",
       "        0.00076155, 0.00069074, 0.00059695, 0.00050989, 0.00053418,\n",
       "        0.00092382, 0.00076932, 0.00065405, 0.00091221, 0.00097583,\n",
       "        0.00114204, 0.00094169, 0.00081918, 0.00069941, 0.00062076,\n",
       "        0.00052886, 0.00062263, 0.00054493, 0.00047024, 0.00041094,\n",
       "        0.00043772], dtype=float128),\n",
       " array([2.08314233e-05, 6.20733002e-05, 1.55777758e-04, 2.14480956e-04,\n",
       "        3.28677922e-04, 2.98159920e-04, 4.13947740e-04, 3.61401731e-04,\n",
       "        3.21719452e-04, 2.90045985e-04, 2.75774541e-04, 3.09321628e-04,\n",
       "        2.79815613e-04, 5.27612867e-04, 5.09882829e-04, 4.82610154e-04,\n",
       "        4.22109279e-04, 3.72397105e-04, 3.36231881e-04, 3.86236232e-04,\n",
       "        3.45046256e-04, 4.63909418e-04, 3.96361373e-04, 3.52056920e-04,\n",
       "        3.15499000e-04, 2.98282819e-04, 3.23597694e-04, 3.03664513e-04,\n",
       "        2.77711618e-04, 2.92170684e-04, 2.87258873e-04, 2.86710310e-04,\n",
       "        2.68108003e-04, 3.25605665e-04, 2.95757918e-04, 2.68216015e-04,\n",
       "        2.49862091e-04, 2.73014163e-04, 2.60600229e-04, 2.68114609e-04,\n",
       "        2.75566065e-04, 2.53488690e-04, 2.49743846e-04, 2.41246388e-04,\n",
       "        2.27378887e-04, 2.29609446e-04, 2.21270195e-04, 2.19404857e-04,\n",
       "        2.80594518e-04, 2.61173347e-04, 2.45753659e-04, 3.09483342e-04,\n",
       "        2.82425906e-04, 2.63535452e-04, 2.45469763e-04, 2.60566992e-04,\n",
       "        2.41620265e-04, 2.54132052e-04, 2.52979725e-04, 2.35754076e-04,\n",
       "        2.66090701e-04, 2.47778173e-04, 3.19926337e-04, 3.19971645e-04,\n",
       "        3.02934961e-04, 2.88244142e-04, 2.71846221e-04, 2.60583731e-04,\n",
       "        2.55069983e-04, 3.29710566e-04, 3.07150197e-04, 3.03128723e-04,\n",
       "        2.87818607e-04, 5.20587402e-04, 4.90327182e-04, 7.34804409e-04,\n",
       "        7.29987022e-04, 8.78559609e-04, 9.10769337e-04, 7.57275093e-04,\n",
       "        6.75437014e-04, 5.71776051e-04, 4.79093552e-04, 5.11773480e-04,\n",
       "        9.45379097e-04, 7.62919622e-04, 6.32410190e-04, 9.19209758e-04,\n",
       "        9.81137683e-04, 1.15590501e-03, 9.21923958e-04, 7.84464602e-04,\n",
       "        6.55171000e-04, 5.75056687e-04, 4.81660714e-04, 5.94724572e-04,\n",
       "        5.12710445e-04, 4.36031938e-04, 3.77768213e-04, 4.15009760e-04,\n",
       "        3.63697777e-04], dtype=float128),\n",
       " array([0.00047511, 0.00047104, 0.00045684, 0.00050635, 0.00044345,\n",
       "        0.00051457, 0.0004487 , 0.000396  , 0.00035234, 0.00032585,\n",
       "        0.00034343, 0.00030941, 0.0005186 , 0.0005063 , 0.00048434,\n",
       "        0.00043189, 0.00038648, 0.00035142, 0.00039108, 0.00035362,\n",
       "        0.00045497, 0.0003982 , 0.00035874, 0.00032452, 0.00030628,\n",
       "        0.00032523, 0.00030617, 0.00028141, 0.00029143, 0.00028557,\n",
       "        0.00028364, 0.00026618, 0.00031485, 0.00028958, 0.00026503,\n",
       "        0.00024756, 0.000266  , 0.00025455, 0.00026018, 0.00026623,\n",
       "        0.00024681, 0.00024262, 0.0002343 , 0.00022114, 0.00022174,\n",
       "        0.00021344, 0.00021069, 0.00026328, 0.00024782, 0.00023482,\n",
       "        0.00029043, 0.00026901, 0.00025328, 0.00023739, 0.00024986,\n",
       "        0.00023325, 0.00024346, 0.00024233, 0.00022711, 0.0002529 ,\n",
       "        0.00023741, 0.00030029, 0.00030286, 0.00028998, 0.0002781 ,\n",
       "        0.00026398, 0.00025369, 0.00024808, 0.00031258, 0.000295  ,\n",
       "        0.00029236, 0.00027952, 0.00048312, 0.00046536, 0.00068521,\n",
       "        0.00069497, 0.00083606, 0.00087877, 0.00075729, 0.00069018,\n",
       "        0.00059997, 0.00051533, 0.0005376 , 0.00091328, 0.00076693,\n",
       "        0.00065651, 0.00090565, 0.00096921, 0.00113205, 0.00094181,\n",
       "        0.0008243 , 0.00070818, 0.00063078, 0.00054014, 0.00062842,\n",
       "        0.00055235, 0.00047867, 0.0004195 , 0.00044332, 0.00039277,\n",
       "        0.00049575], dtype=float128),\n",
       " array([0.00038408, 0.00038645, 0.00044892, 0.00039697, 0.00047623,\n",
       "        0.00041753, 0.00037065, 0.00033171, 0.000309  , 0.00032942,\n",
       "        0.00029793, 0.00050782, 0.00049693, 0.00047618, 0.00042491,\n",
       "        0.00038053, 0.00034632, 0.00038631, 0.00034948, 0.00045061,\n",
       "        0.00039436, 0.00035534, 0.00032153, 0.00030359, 0.00032261,\n",
       "        0.00030379, 0.00027928, 0.00028936, 0.00028362, 0.00028178,\n",
       "        0.00026448, 0.00031293, 0.00028781, 0.00026343, 0.00024611,\n",
       "        0.0002645 , 0.00025314, 0.00025877, 0.0002648 , 0.00024551,\n",
       "        0.00024136, 0.00023312, 0.00022006, 0.0002207 , 0.00021247,\n",
       "        0.00020976, 0.00026208, 0.00024668, 0.00023375, 0.00028904,\n",
       "        0.0002677 , 0.00025204, 0.00023624, 0.00024865, 0.00023214,\n",
       "        0.00024231, 0.00024119, 0.00022606, 0.00025172, 0.0002363 ,\n",
       "        0.00029883, 0.00030133, 0.00028848, 0.00027664, 0.0002626 ,\n",
       "        0.00025237, 0.00024681, 0.00031096, 0.00029343, 0.00029078,\n",
       "        0.000278  , 0.00048043, 0.00046258, 0.00068102, 0.00069041,\n",
       "        0.00083042, 0.00087253, 0.00075144, 0.00068458, 0.00059484,\n",
       "        0.00051074, 0.00053299, 0.00090658, 0.00076078, 0.00065089,\n",
       "        0.00089862, 0.0009616 , 0.00112327, 0.00093378, 0.00081686,\n",
       "        0.00070144, 0.00062463, 0.0005347 , 0.00062271, 0.00054717,\n",
       "        0.00047408, 0.00041544, 0.00043934, 0.00038923, 0.00049178,\n",
       "        0.00042747], dtype=float128),\n",
       " array([0.00089097, 0.00082934, 0.00066129, 0.00068308, 0.00055209,\n",
       "        0.000456  , 0.00038373, 0.00034082, 0.0003557 , 0.00030911,\n",
       "        0.00055754, 0.00052473, 0.00048616, 0.00041618, 0.00036079,\n",
       "        0.00032173, 0.00037407, 0.00032972, 0.0004542 , 0.0003806 ,\n",
       "        0.00033381, 0.00029636, 0.00027987, 0.00030791, 0.00028756,\n",
       "        0.00026128, 0.00027771, 0.00027317, 0.00027315, 0.00025412,\n",
       "        0.00031506, 0.00028295, 0.00025424, 0.00023582, 0.00026108,\n",
       "        0.00024827, 0.00025658, 0.00026451, 0.00024132, 0.0002379 ,\n",
       "        0.00022947, 0.00021552, 0.00021861, 0.00021039, 0.00020902,\n",
       "        0.00027351, 0.00025199, 0.00023546, 0.00030224, 0.00027239,\n",
       "        0.00025218, 0.00023343, 0.00024979, 0.00023   , 0.0002436 ,\n",
       "        0.00024245, 0.0002245 , 0.00025673, 0.00023716, 0.0003128 ,\n",
       "        0.00031114, 0.00029205, 0.00027618, 0.00025904, 0.00024768,\n",
       "        0.00024251, 0.00032118, 0.0002961 , 0.00029139, 0.0002751 ,\n",
       "        0.00051881, 0.00048137, 0.00073366, 0.00071985, 0.00086895,\n",
       "        0.00089421, 0.0007266 , 0.00063972, 0.00053242, 0.00043894,\n",
       "        0.00047805, 0.00093447, 0.00073461, 0.00059611, 0.00089803,\n",
       "        0.0009569 , 0.00113382, 0.00088023, 0.0007359 , 0.00060374,\n",
       "        0.0005255 , 0.00043393, 0.0005591 , 0.00047549, 0.00039897,\n",
       "        0.00034268, 0.00038656, 0.00033555, 0.00046964, 0.00039206,\n",
       "        0.0003344 ], dtype=float128),\n",
       " array([3.66463825e-05, 7.19941539e-05, 2.30330337e-04, 2.21132293e-04,\n",
       "        2.14210633e-04, 2.07396562e-04, 2.11321122e-04, 2.56168568e-04,\n",
       "        2.39258033e-04, 4.80528973e-04, 4.74154340e-04, 4.56204006e-04,\n",
       "        4.04794493e-04, 3.61299189e-04, 3.28994007e-04, 3.76829704e-04,\n",
       "        3.39467892e-04, 4.51799800e-04, 3.90506335e-04, 3.49459109e-04,\n",
       "        3.14818871e-04, 2.97829270e-04, 3.20770862e-04, 3.01730279e-04,\n",
       "        2.76750430e-04, 2.89508552e-04, 2.84459550e-04, 2.83531260e-04,\n",
       "        2.65687164e-04, 3.19257309e-04, 2.91672527e-04, 2.65646187e-04,\n",
       "        2.47832774e-04, 2.68911424e-04, 2.57049293e-04, 2.63782249e-04,\n",
       "        2.70657281e-04, 2.49885305e-04, 2.46002936e-04, 2.37662698e-04,\n",
       "        2.24200306e-04, 2.25753990e-04, 2.17514539e-04, 2.15317813e-04,\n",
       "        2.72556616e-04, 2.55000046e-04, 2.40725183e-04, 3.00661324e-04,\n",
       "        2.76195034e-04, 2.58742865e-04, 2.41678184e-04, 2.55548861e-04,\n",
       "        2.37693965e-04, 2.49146240e-04, 2.48014706e-04, 2.31740700e-04,\n",
       "        2.59973636e-04, 2.42980535e-04, 3.10799044e-04, 3.11957108e-04,\n",
       "        2.96784466e-04, 2.83343552e-04, 2.67963548e-04, 2.57132316e-04,\n",
       "        2.51576604e-04, 3.21478350e-04, 3.01189001e-04, 2.97766982e-04,\n",
       "        2.83568221e-04, 5.02641771e-04, 4.77961778e-04, 7.10605279e-04,\n",
       "        7.12055409e-04, 8.56516040e-04, 8.92874917e-04, 7.53581393e-04,\n",
       "        6.78034280e-04, 5.80241270e-04, 4.91100329e-04, 5.18865907e-04,\n",
       "        9.25330750e-04, 7.59371141e-04, 6.37986477e-04, 9.07006517e-04,\n",
       "        9.69305828e-04, 1.13799156e-03, 9.23817648e-04, 7.95260359e-04,\n",
       "        6.71908271e-04, 5.93065625e-04, 5.01141851e-04, 6.02938559e-04,\n",
       "        5.23982123e-04, 4.49069156e-04, 3.90821145e-04, 4.22278283e-04,\n",
       "        3.71781987e-04, 4.86967552e-04, 4.17944787e-04, 3.63737271e-04,\n",
       "        3.27801685e-04], dtype=float128)]"
      ]
     },
     "execution_count": 81,
     "metadata": {},
     "output_type": "execute_result"
    }
   ],
   "source": [
    "fvm._h_hist"
   ]
  },
  {
   "cell_type": "code",
   "execution_count": 82,
   "id": "0a3609cd",
   "metadata": {},
   "outputs": [
    {
     "data": {
      "text/plain": [
       "[0.00033694568276871645528,\n",
       " 0.00067829413246088378195,\n",
       " 0.0005974523053712622121,\n",
       " 0.0004480736264805081429,\n",
       " 0.00038266037097439358375,\n",
       " 0.00043772235221267319284,\n",
       " 0.00036369777651212903954,\n",
       " 0.0004957524528545494828,\n",
       " 0.00042747267531649947876,\n",
       " 0.0003343984067761558502,\n",
       " 0.00032780168511843855025]"
      ]
     },
     "execution_count": 82,
     "metadata": {},
     "output_type": "execute_result"
    }
   ],
   "source": [
    "fvm._hist_output"
   ]
  },
  {
   "cell_type": "code",
   "execution_count": 83,
   "id": "a2732512",
   "metadata": {},
   "outputs": [
    {
     "data": {
      "text/plain": [
       "{'alpha_0': array([3.92131028e-05, 1.18715729e+01, 3.39349347e-05, 3.87632609e-05]),\n",
       " 'alpha': array([[0.14297207, 0.14357087, 0.1247706 , 0.12926307]]),\n",
       " 'beta': array([[0.7356681 , 0.73554175, 0.77799621, 0.77754241]])}"
      ]
     },
     "execution_count": 83,
     "metadata": {},
     "output_type": "execute_result"
    }
   ],
   "source": [
    "_p = fvm._parameters_hist[-1]\n",
    "_p"
   ]
  },
  {
   "cell_type": "code",
   "execution_count": 84,
   "id": "ec74afed",
   "metadata": {},
   "outputs": [
    {
     "data": {
      "text/plain": [
       "array([0.00605363, 0.00475045, 0.00386803, 0.0030496 , 0.00241346,\n",
       "       0.00191741, 0.00154093, 0.00128999, 0.0010431 , 0.00110555,\n",
       "       0.00096014, 0.00083408, 0.00069861, 0.00058975, 0.00050662,\n",
       "       0.00051494, 0.00044686, 0.0005353 , 0.00045543, 0.00039994,\n",
       "       0.00035407, 0.00032835, 0.0003445 , 0.00032018, 0.0002911 ,\n",
       "       0.00030066, 0.00029313, 0.00029028, 0.00027093, 0.00032333,\n",
       "       0.00029484, 0.00026811, 0.00024975, 0.0002704 , 0.00025821,\n",
       "       0.00026468, 0.00027136, 0.00025043, 0.00024643, 0.00023799,\n",
       "       0.00022446, 0.00022595, 0.00021767, 0.00021544, 0.00027265,\n",
       "       0.00025507, 0.00024078, 0.00030071, 0.00027623, 0.00025877,\n",
       "       0.0002417 , 0.00025556, 0.00023771, 0.00024916, 0.00024802,\n",
       "       0.00023175, 0.00025998, 0.00024298, 0.0003108 , 0.00031196,\n",
       "       0.00029679, 0.00028334, 0.00026796, 0.00025713, 0.00025158,\n",
       "       0.00032148, 0.00030119, 0.00029777, 0.00028357, 0.00050264,\n",
       "       0.00047796, 0.00071061, 0.00071206, 0.00085652, 0.00089287,\n",
       "       0.00075358, 0.00067803, 0.00058024, 0.0004911 , 0.00051887,\n",
       "       0.00092533, 0.00075937, 0.00063799, 0.00090701, 0.00096931,\n",
       "       0.00113799, 0.00092382, 0.00079526, 0.00067191, 0.00059307,\n",
       "       0.00050114, 0.00060294, 0.00052398, 0.00044907, 0.00039082,\n",
       "       0.00042228, 0.00037178, 0.00048697, 0.00041794, 0.00036374,\n",
       "       0.0003278 ], dtype=float128)"
      ]
     },
     "execution_count": 84,
     "metadata": {},
     "output_type": "execute_result"
    }
   ],
   "source": [
    "calc_cond_var_fuzzy(_p['alpha_0'], _p['alpha'], _p['beta'],\n",
    "                    input_cut[-n_points_fitting:] ** 2, [input_cut[-n_points_fitting:][0]],\n",
    "                    fvm._membership_degrees_hist[-1])"
   ]
  },
  {
   "cell_type": "code",
   "execution_count": 85,
   "id": "dcc9a596",
   "metadata": {},
   "outputs": [
    {
     "data": {
      "text/plain": [
       "array([0.00000000e+00, 0.00000000e+00, 4.97406657e-05, 9.99950259e-01],\n",
       "      dtype=float128)"
      ]
     },
     "execution_count": 85,
     "metadata": {},
     "output_type": "execute_result"
    }
   ],
   "source": [
    "fvm._membership_degrees_hist[-1]"
   ]
  },
  {
   "cell_type": "markdown",
   "id": "fec70349",
   "metadata": {},
   "source": [
    "## Errors"
   ]
  },
  {
   "cell_type": "code",
   "execution_count": 86,
   "id": "ac0a1f54",
   "metadata": {
    "scrolled": true
   },
   "outputs": [
    {
     "data": {
      "text/plain": [
       "0.00077144059197509020543"
      ]
     },
     "execution_count": 86,
     "metadata": {},
     "output_type": "execute_result"
    }
   ],
   "source": [
    "mean_squared_error(fvm.hist_output ** .5, test_small, squared=True)"
   ]
  },
  {
   "cell_type": "code",
   "execution_count": 87,
   "id": "734c3d7d",
   "metadata": {},
   "outputs": [
    {
     "data": {
      "text/plain": [
       "0.027774819386903134377"
      ]
     },
     "execution_count": 87,
     "metadata": {},
     "output_type": "execute_result"
    }
   ],
   "source": [
    "mean_squared_error(fvm.hist_output ** .5, test_small, squared=False)"
   ]
  },
  {
   "cell_type": "code",
   "execution_count": 88,
   "id": "18cebaf5",
   "metadata": {},
   "outputs": [
    {
     "data": {
      "text/plain": [
       "1.1522442156038568559"
      ]
     },
     "execution_count": 88,
     "metadata": {},
     "output_type": "execute_result"
    }
   ],
   "source": [
    "mean_absolute_percentage_error(fvm.hist_output ** .5, test_small)"
   ]
  },
  {
   "cell_type": "markdown",
   "id": "59f15513",
   "metadata": {},
   "source": [
    "## RSS plots"
   ]
  },
  {
   "cell_type": "code",
   "execution_count": null,
   "id": "bcd4b007",
   "metadata": {},
   "outputs": [],
   "source": []
  },
  {
   "cell_type": "markdown",
   "id": "18a15b1b",
   "metadata": {},
   "source": [
    "# Model w/o seasoning"
   ]
  },
  {
   "cell_type": "code",
   "execution_count": 89,
   "id": "fdb6931a",
   "metadata": {},
   "outputs": [],
   "source": [
    "lower_bounds_2 = [0] * (1 + p + q) * n_clusters_2\n",
    "upper_bounds_2 = [+np.inf] * n_clusters_2 + [1] * (p + q) * n_clusters_2\n",
    "bounds_2 = (lower_bounds_2, upper_bounds_2)"
   ]
  },
  {
   "cell_type": "code",
   "execution_count": 90,
   "id": "6fdf3652",
   "metadata": {},
   "outputs": [],
   "source": [
    "alpha_0_ini_2 = np.array([garch_fitted.params.iloc[0] for _ in range(n_clusters_2)])\n",
    "alpha_ini_2 = np.array([garch_fitted.params.iloc[1:(q + 1)].values for _ in range(n_clusters_2)])\n",
    "beta_ini_2 = np.array([garch_fitted.params.iloc[(q + 1):].values for _ in range(n_clusters_2)])"
   ]
  },
  {
   "cell_type": "code",
   "execution_count": 91,
   "id": "a67b301b",
   "metadata": {},
   "outputs": [],
   "source": [
    "parameters_ini_2 = {'alpha_0': alpha_0_ini_2, 'alpha': alpha_ini_2, 'beta': beta_ini_2}"
   ]
  },
  {
   "cell_type": "code",
   "execution_count": 92,
   "id": "50ef1cbb",
   "metadata": {},
   "outputs": [],
   "source": [
    "local_method_parameters_2 = local_method_parameters.copy()\n",
    "local_method_parameters_2['bounds'] = bounds_2\n",
    "local_method_parameters_2['parameters_ini'] = parameters_ini_2"
   ]
  },
  {
   "cell_type": "code",
   "execution_count": 93,
   "id": "16c3eb7b",
   "metadata": {},
   "outputs": [],
   "source": [
    "fvm_vanilla = FuzzyVolatilityModel(train,\n",
    "                           clusterization_method=clusterization_methods[1],\n",
    "                           clusterization_parameters=clusterization_parameters[1],\n",
    "                           local_method=local_method,\n",
    "                           local_method_parameters=local_method_parameters_2,\n",
    "                           n_last_points_to_use_for_clustering=n_last_points_to_use_for_clustering[1],\n",
    "                           data_to_cluster=data_to_cluster[1],\n",
    "                           cluster_sets_conjunction=cluster_sets_conjunction)"
   ]
  },
  {
   "cell_type": "markdown",
   "id": "850c6a7f",
   "metadata": {},
   "source": [
    "## `fit`"
   ]
  },
  {
   "cell_type": "code",
   "execution_count": 94,
   "id": "07786a21",
   "metadata": {
    "scrolled": true
   },
   "outputs": [
    {
     "name": "stdout",
     "output_type": "stream",
     "text": [
      "CPU times: user 8.29 s, sys: 317 ms, total: 8.61 s\n",
      "Wall time: 8.82 s\n"
     ]
    }
   ],
   "source": [
    "%%time\n",
    "\n",
    "fvm_vanilla.fit()"
   ]
  },
  {
   "cell_type": "code",
   "execution_count": 95,
   "id": "08143bd8",
   "metadata": {},
   "outputs": [
    {
     "data": {
      "text/plain": [
       "[1, 10]"
      ]
     },
     "execution_count": 95,
     "metadata": {},
     "output_type": "execute_result"
    }
   ],
   "source": [
    "n_last_points_to_use_for_clustering"
   ]
  },
  {
   "cell_type": "code",
   "execution_count": 96,
   "id": "18921ce4",
   "metadata": {},
   "outputs": [
    {
     "data": {
      "text/plain": [
       "array([3.64903352e+00, 1.65513781e-04])"
      ]
     },
     "execution_count": 96,
     "metadata": {},
     "output_type": "execute_result"
    }
   ],
   "source": [
    "fvm_vanilla.alpha_0"
   ]
  },
  {
   "cell_type": "code",
   "execution_count": 97,
   "id": "a5f5154b",
   "metadata": {},
   "outputs": [
    {
     "data": {
      "text/plain": [
       "array([[0.13924148, 0.13919535]])"
      ]
     },
     "execution_count": 97,
     "metadata": {},
     "output_type": "execute_result"
    }
   ],
   "source": [
    "fvm_vanilla.alpha"
   ]
  },
  {
   "cell_type": "code",
   "execution_count": 98,
   "id": "815cccd7",
   "metadata": {},
   "outputs": [
    {
     "data": {
      "text/plain": [
       "array([[0.0008377, 0.0008377]])"
      ]
     },
     "execution_count": 98,
     "metadata": {},
     "output_type": "execute_result"
    }
   ],
   "source": [
    "fvm_vanilla.beta"
   ]
  },
  {
   "cell_type": "code",
   "execution_count": 99,
   "id": "bf955be6",
   "metadata": {},
   "outputs": [
    {
     "data": {
      "text/plain": [
       "omega       0.000018\n",
       "alpha[1]    0.116398\n",
       "beta[1]     0.836906\n",
       "Name: params, dtype: float64"
      ]
     },
     "execution_count": 99,
     "metadata": {},
     "output_type": "execute_result"
    }
   ],
   "source": [
    "garch_fitted.params"
   ]
  },
  {
   "cell_type": "code",
   "execution_count": 100,
   "id": "a8e8ccca",
   "metadata": {},
   "outputs": [
    {
     "data": {
      "text/plain": [
       "[{'alpha_0': array([3.64903352e+00, 1.65513781e-04]),\n",
       "  'alpha': array([[0.13924148, 0.13919535]]),\n",
       "  'beta': array([[0.0008377, 0.0008377]])}]"
      ]
     },
     "execution_count": 100,
     "metadata": {},
     "output_type": "execute_result"
    }
   ],
   "source": [
    "fvm_vanilla._parameters_hist"
   ]
  },
  {
   "cell_type": "code",
   "execution_count": 101,
   "id": "e14efe5d",
   "metadata": {},
   "outputs": [
    {
     "data": {
      "text/plain": [
       "array([3.03608924e-15, 6.52472173e-11], dtype=float128)"
      ]
     },
     "execution_count": 101,
     "metadata": {},
     "output_type": "execute_result"
    }
   ],
   "source": [
    "fvm_vanilla.membership_degrees_current"
   ]
  },
  {
   "cell_type": "code",
   "execution_count": 102,
   "id": "b26c6bc0",
   "metadata": {},
   "outputs": [
    {
     "data": {
      "text/plain": [
       "{'n_clusters': 2,\n",
       " 'params by sets': [{'centers': [-4.5, 2.5],\n",
       "   'variances': [7, 5],\n",
       "   'n_clusters': 2}]}"
      ]
     },
     "execution_count": 102,
     "metadata": {},
     "output_type": "execute_result"
    }
   ],
   "source": [
    "fvm_vanilla.clusters_parameters_current"
   ]
  },
  {
   "cell_type": "code",
   "execution_count": 103,
   "id": "05fcfdd1",
   "metadata": {},
   "outputs": [
    {
     "data": {
      "text/plain": [
       "[<DATE>\n",
       " 2010-01-11    1\n",
       " 2010-01-12    2\n",
       " 2010-01-13    3\n",
       " 2010-01-14    4\n",
       " 2010-01-15    5\n",
       "              ..\n",
       " 2010-05-28    5\n",
       " 2010-05-31    1\n",
       " 2010-06-01    2\n",
       " 2010-06-02    3\n",
       " 2010-06-03    4\n",
       " Name: <DATE>, Length: 100, dtype: int64,\n",
       " 'train']"
      ]
     },
     "execution_count": 103,
     "metadata": {},
     "output_type": "execute_result"
    }
   ],
   "source": [
    "data_to_cluster"
   ]
  },
  {
   "cell_type": "code",
   "execution_count": 104,
   "id": "5641e255",
   "metadata": {},
   "outputs": [
    {
     "data": {
      "text/plain": [
       "[array([3.03608924e-15, 6.52472173e-11], dtype=float128)]"
      ]
     },
     "execution_count": 104,
     "metadata": {},
     "output_type": "execute_result"
    }
   ],
   "source": [
    "fvm_vanilla._membership_degrees_hist"
   ]
  },
  {
   "cell_type": "code",
   "execution_count": 105,
   "id": "2da735ae",
   "metadata": {},
   "outputs": [
    {
     "data": {
      "text/plain": [
       "<DATE>\n",
       "2010-01-11    0.076686\n",
       "2010-01-12   -0.024211\n",
       "2010-01-13    0.019327\n",
       "2010-01-14    0.008749\n",
       "2010-01-15   -0.004911\n",
       "                ...   \n",
       "2010-05-28   -0.001298\n",
       "2010-05-31    0.017188\n",
       "2010-06-01   -0.010699\n",
       "2010-06-02    0.015701\n",
       "2010-06-03    0.003104\n",
       "Name: log return, Length: 100, dtype: float64"
      ]
     },
     "execution_count": 105,
     "metadata": {},
     "output_type": "execute_result"
    }
   ],
   "source": [
    "fvm_vanilla.train_data"
   ]
  },
  {
   "cell_type": "markdown",
   "id": "3c8686b2",
   "metadata": {},
   "source": [
    "## `forecast`"
   ]
  },
  {
   "cell_type": "code",
   "execution_count": 106,
   "id": "154aed08",
   "metadata": {},
   "outputs": [],
   "source": [
    "fvm_vanilla.forecast()"
   ]
  },
  {
   "cell_type": "code",
   "execution_count": 107,
   "id": "a3711b8d",
   "metadata": {},
   "outputs": [
    {
     "data": {
      "text/plain": [
       "0.00033694600854447187055"
      ]
     },
     "execution_count": 107,
     "metadata": {},
     "output_type": "execute_result"
    }
   ],
   "source": [
    "fvm_vanilla.current_output"
   ]
  },
  {
   "cell_type": "code",
   "execution_count": 108,
   "id": "3f041306",
   "metadata": {},
   "outputs": [
    {
     "data": {
      "text/plain": [
       "[0.00033694600854447187055]"
      ]
     },
     "execution_count": 108,
     "metadata": {},
     "output_type": "execute_result"
    }
   ],
   "source": [
    "fvm_vanilla._hist_output"
   ]
  },
  {
   "cell_type": "code",
   "execution_count": 109,
   "id": "61a8cef9",
   "metadata": {
    "scrolled": true
   },
   "outputs": [
    {
     "data": {
      "image/png": "[encoded data removed]",
      "text/plain": [
       "<Figure size 640x480 with 1 Axes>"
      ]
     },
     "metadata": {},
     "output_type": "display_data"
    }
   ],
   "source": [
    "plt.plot(fvm_vanilla.h, label='sqrt(h_t)')\n",
    "plt.plot(train.values ** 2, label='y_t')\n",
    "\n",
    "plt.legend()\n",
    "plt.grid()\n",
    "plt.show()"
   ]
  },
  {
   "cell_type": "code",
   "execution_count": 110,
   "id": "a697a9cb",
   "metadata": {},
   "outputs": [
    {
     "data": {
      "text/plain": [
       "array([0.00588077, 0.0011588 , 0.00041786, 0.00038764, 0.00034628,\n",
       "       0.00033894, 0.00036957, 0.0003385 , 0.00040171, 0.00038909,\n",
       "       0.00045964, 0.00034078, 0.00048159, 0.00033923, 0.00033936,\n",
       "       0.00033781, 0.00034774, 0.00039276, 0.00033704, 0.00061096,\n",
       "       0.00040231, 0.00038815, 0.0003478 , 0.00034398, 0.0003456 ,\n",
       "       0.00042417, 0.00034395, 0.00049613, 0.0003362 , 0.00034318,\n",
       "       0.00034025, 0.00035096, 0.0003899 , 0.00035022, 0.00033923,\n",
       "       0.00037387, 0.00035778, 0.000361  , 0.00034256, 0.00041517,\n",
       "       0.00034068, 0.00033568, 0.00033829, 0.0003759 , 0.00034551,\n",
       "       0.00036267, 0.00036445, 0.00033633, 0.00034952, 0.0003438 ,\n",
       "       0.00033628, 0.00034922, 0.00033905, 0.00034358, 0.00040706,\n",
       "       0.00034028, 0.00033955, 0.00041605, 0.00033958, 0.00034121,\n",
       "       0.00033745, 0.00036667, 0.00033585, 0.00036311, 0.00035232,\n",
       "       0.00033574, 0.00037975, 0.00033785, 0.00042507, 0.00036961,\n",
       "       0.00035225, 0.00035047, 0.00034516, 0.00034637, 0.00034946,\n",
       "       0.00042938, 0.00034908, 0.00036231, 0.0003499 , 0.00059768,\n",
       "       0.00038789, 0.00065889, 0.00046589, 0.00062008, 0.00053841,\n",
       "       0.0003579 , 0.00039302, 0.000351  , 0.00033685, 0.00044138,\n",
       "       0.00085592, 0.00033722, 0.00034503, 0.00073636, 0.00057853,\n",
       "       0.00070788, 0.00033612, 0.0003767 , 0.00035154, 0.0003699 ,\n",
       "       0.00033695], dtype=float128)"
      ]
     },
     "execution_count": 110,
     "metadata": {},
     "output_type": "execute_result"
    }
   ],
   "source": [
    "fvm_vanilla.h"
   ]
  },
  {
   "cell_type": "markdown",
   "id": "049534ac",
   "metadata": {},
   "source": [
    "## `feed_daily_data`"
   ]
  },
  {
   "cell_type": "code",
   "execution_count": 111,
   "id": "deacac68",
   "metadata": {},
   "outputs": [],
   "source": [
    "# n_test_small = 10\n",
    "# test_small = test.iloc[:n_test_small].copy()\n",
    "# input_cut = pd.concat([train, test_small]).copy()\n",
    "\n",
    "# data_to_cluster_test_1 = pd.Series(test_small.index.dayofweek + 1, index=test_small.index).copy()\n",
    "# data_to_cluster_test_2 = 'train'\n",
    "# data_to_cluster_test = [data_to_cluster_test_1, data_to_cluster_test_2]"
   ]
  },
  {
   "cell_type": "code",
   "execution_count": 112,
   "id": "52707074",
   "metadata": {
    "scrolled": false
   },
   "outputs": [
    {
     "name": "stdout",
     "output_type": "stream",
     "text": [
      "CPU times: user 25.2 s, sys: 1 s, total: 26.2 s\n",
      "Wall time: 26.7 s\n"
     ]
    }
   ],
   "source": [
    "%%time\n",
    "\n",
    "fvm_vanilla.feed_daily_data(test_small, data_to_cluster=data_to_cluster_test_2)"
   ]
  },
  {
   "cell_type": "code",
   "execution_count": 113,
   "id": "550b604f",
   "metadata": {},
   "outputs": [
    {
     "data": {
      "text/plain": [
       "<DATE>\n",
       "2010-01-11    0.076686\n",
       "2010-01-12   -0.024211\n",
       "2010-01-13    0.019327\n",
       "2010-01-14    0.008749\n",
       "2010-01-15   -0.004911\n",
       "                ...   \n",
       "2010-06-11   -0.006017\n",
       "2010-06-15    0.035086\n",
       "2010-06-16   -0.002051\n",
       "2010-06-17   -0.000185\n",
       "2010-06-18    0.006935\n",
       "Name: log return, Length: 110, dtype: float64"
      ]
     },
     "execution_count": 113,
     "metadata": {},
     "output_type": "execute_result"
    }
   ],
   "source": [
    "fvm_vanilla.data_to_cluster"
   ]
  },
  {
   "cell_type": "code",
   "execution_count": 114,
   "id": "e6c248b7",
   "metadata": {},
   "outputs": [
    {
     "data": {
      "text/plain": [
       "11"
      ]
     },
     "execution_count": 114,
     "metadata": {},
     "output_type": "execute_result"
    }
   ],
   "source": [
    "len(fvm_vanilla._hist_output)"
   ]
  },
  {
   "cell_type": "code",
   "execution_count": 115,
   "id": "dbc2472f",
   "metadata": {},
   "outputs": [
    {
     "data": {
      "text/plain": [
       "array([0.00588077, 0.00106187, 0.00041155, 0.00038543, 0.00034896,\n",
       "       0.00034252, 0.00036955, 0.00034211, 0.00039791, 0.00038673,\n",
       "       0.00044899, 0.00034406, 0.00046839, 0.00034267, 0.00034289,\n",
       "       0.00034153, 0.00035029, 0.00039001, 0.0003408 , 0.00058255,\n",
       "       0.00039824, 0.00038589, 0.00035031, 0.00034696, 0.0003484 ,\n",
       "       0.00041772, 0.00034688, 0.00048122, 0.00033998, 0.00034626,\n",
       "       0.00034368, 0.00035313, 0.00038748, 0.00035243, 0.00034277,\n",
       "       0.00037334, 0.00035912, 0.00036197, 0.0003457 , 0.00040979,\n",
       "       0.000344  , 0.00033965, 0.00034195, 0.00037514, 0.00034829,\n",
       "       0.00036346, 0.00036501, 0.0003402 , 0.00035185, 0.0003468 ,\n",
       "       0.00034017, 0.00035159, 0.00034261, 0.00034661, 0.00040262,\n",
       "       0.00034365, 0.00034306, 0.00041056, 0.00034303, 0.00034452,\n",
       "       0.0003412 , 0.00036699, 0.00033977, 0.00036385, 0.00035431,\n",
       "       0.00033968, 0.00037853, 0.00034153, 0.00041853, 0.00036952,\n",
       "       0.00035425, 0.00035268, 0.000348  , 0.00034907, 0.0003518 ,\n",
       "       0.00042232, 0.0003514 , 0.00036314, 0.00035217, 0.00057083,\n",
       "       0.00038552, 0.00062481, 0.00045431, 0.00059051, 0.00051832,\n",
       "       0.0003591 , 0.00039023, 0.00035312, 0.00034067, 0.00043291,\n",
       "       0.00079863, 0.00034062, 0.0003479 , 0.00069321, 0.00055364,\n",
       "       0.0006679 , 0.00033976, 0.00037584, 0.00035361, 0.00036983,\n",
       "       0.00034074, 0.00050538, 0.00035515, 0.0003423 , 0.0003423 ,\n",
       "       0.00041523, 0.000344  , 0.00049076, 0.00034007, 0.00033956,\n",
       "       0.00034546], dtype=float128)"
      ]
     },
     "execution_count": 115,
     "metadata": {},
     "output_type": "execute_result"
    }
   ],
   "source": [
    "fvm_vanilla.h"
   ]
  },
  {
   "cell_type": "code",
   "execution_count": 116,
   "id": "194e83d9",
   "metadata": {},
   "outputs": [
    {
     "data": {
      "text/plain": [
       "(111,)"
      ]
     },
     "execution_count": 116,
     "metadata": {},
     "output_type": "execute_result"
    }
   ],
   "source": [
    "_.shape"
   ]
  },
  {
   "cell_type": "code",
   "execution_count": 117,
   "id": "ad1ae40a",
   "metadata": {},
   "outputs": [
    {
     "data": {
      "text/plain": [
       "<DATE>\n",
       "2010-06-04   -0.036744\n",
       "2010-06-07   -0.011267\n",
       "2010-06-08   -0.004727\n",
       "2010-06-09    0.004727\n",
       "2010-06-10    0.024821\n",
       "2010-06-11   -0.006017\n",
       "2010-06-15    0.035086\n",
       "2010-06-16   -0.002051\n",
       "2010-06-17   -0.000185\n",
       "2010-06-18    0.006935\n",
       "Name: log return, dtype: float64"
      ]
     },
     "execution_count": 117,
     "metadata": {},
     "output_type": "execute_result"
    }
   ],
   "source": [
    "fvm_vanilla.data_to_cluster[-10:]"
   ]
  },
  {
   "cell_type": "code",
   "execution_count": 118,
   "id": "4da79e98",
   "metadata": {},
   "outputs": [
    {
     "data": {
      "text/html": [
       "<div>\n",
       "<style scoped>\n",
       "    .dataframe tbody tr th:only-of-type {\n",
       "        vertical-align: middle;\n",
       "    }\n",
       "\n",
       "    .dataframe tbody tr th {\n",
       "        vertical-align: top;\n",
       "    }\n",
       "\n",
       "    .dataframe thead th {\n",
       "        text-align: right;\n",
       "    }\n",
       "</style>\n",
       "<table border=\"1\" class=\"dataframe\">\n",
       "  <thead>\n",
       "    <tr style=\"text-align: right;\">\n",
       "      <th></th>\n",
       "      <th>0</th>\n",
       "      <th>1</th>\n",
       "    </tr>\n",
       "    <tr>\n",
       "      <th>&lt;DATE&gt;</th>\n",
       "      <th></th>\n",
       "      <th></th>\n",
       "    </tr>\n",
       "  </thead>\n",
       "  <tbody>\n",
       "    <tr>\n",
       "      <th>2010-06-04</th>\n",
       "      <td>3.102473e-15</td>\n",
       "      <td>6.414538e-11</td>\n",
       "    </tr>\n",
       "    <tr>\n",
       "      <th>2010-06-07</th>\n",
       "      <td>3.141613e-15</td>\n",
       "      <td>6.352235e-11</td>\n",
       "    </tr>\n",
       "    <tr>\n",
       "      <th>2010-06-08</th>\n",
       "      <td>3.044949e-15</td>\n",
       "      <td>6.511427e-11</td>\n",
       "    </tr>\n",
       "    <tr>\n",
       "      <th>2010-06-09</th>\n",
       "      <td>3.118672e-15</td>\n",
       "      <td>6.393100e-11</td>\n",
       "    </tr>\n",
       "    <tr>\n",
       "      <th>2010-06-10</th>\n",
       "      <td>3.173503e-15</td>\n",
       "      <td>6.309040e-11</td>\n",
       "    </tr>\n",
       "    <tr>\n",
       "      <th>2010-06-11</th>\n",
       "      <td>3.183136e-15</td>\n",
       "      <td>6.294151e-11</td>\n",
       "    </tr>\n",
       "    <tr>\n",
       "      <th>2010-06-15</th>\n",
       "      <td>3.146512e-15</td>\n",
       "      <td>6.350136e-11</td>\n",
       "    </tr>\n",
       "    <tr>\n",
       "      <th>2010-06-16</th>\n",
       "      <td>3.129092e-15</td>\n",
       "      <td>6.377723e-11</td>\n",
       "    </tr>\n",
       "    <tr>\n",
       "      <th>2010-06-17</th>\n",
       "      <td>3.161268e-15</td>\n",
       "      <td>6.327421e-11</td>\n",
       "    </tr>\n",
       "    <tr>\n",
       "      <th>2010-06-18</th>\n",
       "      <td>3.153482e-15</td>\n",
       "      <td>6.339531e-11</td>\n",
       "    </tr>\n",
       "  </tbody>\n",
       "</table>\n",
       "</div>"
      ],
      "text/plain": [
       "                       0             1\n",
       "<DATE>                                \n",
       "2010-06-04  3.102473e-15  6.414538e-11\n",
       "2010-06-07  3.141613e-15  6.352235e-11\n",
       "2010-06-08  3.044949e-15  6.511427e-11\n",
       "2010-06-09  3.118672e-15  6.393100e-11\n",
       "2010-06-10  3.173503e-15  6.309040e-11\n",
       "2010-06-11  3.183136e-15  6.294151e-11\n",
       "2010-06-15  3.146512e-15  6.350136e-11\n",
       "2010-06-16  3.129092e-15  6.377723e-11\n",
       "2010-06-17  3.161268e-15  6.327421e-11\n",
       "2010-06-18  3.153482e-15  6.339531e-11"
      ]
     },
     "execution_count": 118,
     "metadata": {},
     "output_type": "execute_result"
    }
   ],
   "source": [
    "fvm_vanilla.membership_degrees_hist"
   ]
  },
  {
   "cell_type": "code",
   "execution_count": 119,
   "id": "4358e76c",
   "metadata": {},
   "outputs": [
    {
     "data": {
      "text/plain": [
       "2010-06-04    0.000337\n",
       "2010-06-07    0.000528\n",
       "2010-06-08    0.000363\n",
       "2010-06-09    0.000346\n",
       "2010-06-10    0.000342\n",
       "2010-06-11    0.000422\n",
       "2010-06-15    0.000344\n",
       "2010-06-16    0.000502\n",
       "2010-06-17    0.000348\n",
       "2010-06-18    0.000343\n",
       "dtype: float128"
      ]
     },
     "execution_count": 119,
     "metadata": {},
     "output_type": "execute_result"
    }
   ],
   "source": [
    "fvm_vanilla.hist_output"
   ]
  },
  {
   "cell_type": "code",
   "execution_count": 120,
   "id": "8f612b7c",
   "metadata": {},
   "outputs": [
    {
     "data": {
      "text/plain": [
       "<DATE>\n",
       "2010-06-04   -0.036744\n",
       "2010-06-07   -0.011267\n",
       "2010-06-08   -0.004727\n",
       "2010-06-09    0.004727\n",
       "2010-06-10    0.024821\n",
       "2010-06-11   -0.006017\n",
       "2010-06-15    0.035086\n",
       "2010-06-16   -0.002051\n",
       "2010-06-17   -0.000185\n",
       "2010-06-18    0.006935\n",
       "Name: log return, dtype: float64"
      ]
     },
     "execution_count": 120,
     "metadata": {},
     "output_type": "execute_result"
    }
   ],
   "source": [
    "test"
   ]
  },
  {
   "cell_type": "code",
   "execution_count": 121,
   "id": "893712be",
   "metadata": {},
   "outputs": [
    {
     "data": {
      "text/plain": [
       "array([3.15348153e-15, 6.33953051e-11], dtype=float128)"
      ]
     },
     "execution_count": 121,
     "metadata": {},
     "output_type": "execute_result"
    }
   ],
   "source": [
    "fvm_vanilla.membership_degrees_current"
   ]
  },
  {
   "cell_type": "code",
   "execution_count": 122,
   "id": "11acb59e",
   "metadata": {},
   "outputs": [
    {
     "data": {
      "text/plain": [
       "{'centers': [-4.5, 2.5], 'variances': [7, 5], 'n_clusters': 2}"
      ]
     },
     "execution_count": 122,
     "metadata": {},
     "output_type": "execute_result"
    }
   ],
   "source": [
    "fvm_vanilla.clusterization_parameters"
   ]
  },
  {
   "cell_type": "code",
   "execution_count": 123,
   "id": "82d32c14",
   "metadata": {
    "scrolled": true
   },
   "outputs": [
    {
     "data": {
      "text/plain": [
       "[{'alpha_0': array([3.64903352e+00, 1.65513781e-04]),\n",
       "  'alpha': array([[0.13924148, 0.13919535]]),\n",
       "  'beta': array([[0.0008377, 0.0008377]])},\n",
       " {'alpha_0': array([7.20429374e+00, 6.17286294e-08]),\n",
       "  'alpha': array([[0.13316317, 0.13313684]]),\n",
       "  'beta': array([[5.96284822e-05, 5.96282366e-05]])},\n",
       " {'alpha_0': array([7.01437957e+00, 6.01013854e-08]),\n",
       "  'alpha': array([[0.12787678, 0.12793395]]),\n",
       "  'beta': array([[2.57319524e-07, 2.57319002e-07]])},\n",
       " {'alpha_0': array([7.17206954e+00, 7.57271199e-06]),\n",
       "  'alpha': array([[0.12985422, 0.12937944]]),\n",
       "  'beta': array([[2.36945333e-14, 2.38433396e-14]])},\n",
       " {'alpha_0': array([6.80148122e+00, 7.18142205e-06]),\n",
       "  'alpha': array([[0.07650869, 0.1312556 ]]),\n",
       "  'beta': array([[3.76575031e-13, 3.76576574e-13]])},\n",
       " {'alpha_0': array([6.66819050e+00, 7.04068552e-06]),\n",
       "  'alpha': array([[0.07560887, 0.12970255]]),\n",
       "  'beta': array([[1.97051420e-11, 1.97051639e-11]])},\n",
       " {'alpha_0': array([6.56784118e+00, 6.93473054e-06]),\n",
       "  'alpha': array([[0.07508691, 0.12887435]]),\n",
       "  'beta': array([[1.52391573e-11, 1.52391829e-11]])},\n",
       " {'alpha_0': array([3.08485606e-07, 3.49432018e-04], dtype=float128),\n",
       "  'alpha': array([[0.07241133, 0.12429727]], dtype=float128),\n",
       "  'beta': array([[8.63903937e-12, 8.63919542e-12]], dtype=float128)},\n",
       " {'alpha_0': array([3.06361070e-07, 3.47025486e-04]),\n",
       "  'alpha': array([[0.06958014, 0.11943758]]),\n",
       "  'beta': array([[2.17872033e-11, 2.17872050e-11]])},\n",
       " {'alpha_0': array([3.02853833e-07, 3.43052718e-04]),\n",
       "  'alpha': array([[0.07056126, 0.1211203 ]]),\n",
       "  'beta': array([[6.68669534e-12, 6.68669255e-12]])},\n",
       " {'alpha_0': array([2.99780806e-07, 3.39571798e-04]),\n",
       "  'alpha': array([[0.0729929, 0.1228293]]),\n",
       "  'beta': array([[5.13901189e-12, 5.13900856e-12]])}]"
      ]
     },
     "execution_count": 123,
     "metadata": {},
     "output_type": "execute_result"
    }
   ],
   "source": [
    "fvm_vanilla._parameters_hist"
   ]
  },
  {
   "cell_type": "markdown",
   "id": "70f4fd09",
   "metadata": {},
   "source": [
    "### Plots"
   ]
  },
  {
   "cell_type": "code",
   "execution_count": 124,
   "id": "7f68c3af",
   "metadata": {},
   "outputs": [
    {
     "data": {
      "image/png": "[encoded data removed]",
      "text/plain": [
       "<Figure size 640x480 with 1 Axes>"
      ]
     },
     "metadata": {},
     "output_type": "display_data"
    }
   ],
   "source": [
    "plt.plot((np.array(fvm_vanilla._hist_output) ** .5), label='forecast')\n",
    "plt.plot(test_small.values, label='actual values')\n",
    "\n",
    "plt.legend()\n",
    "plt.grid()\n",
    "plt.show()"
   ]
  },
  {
   "cell_type": "code",
   "execution_count": 125,
   "id": "2ae102a3",
   "metadata": {},
   "outputs": [
    {
     "data": {
      "image/png": "[encoded data removed]",
      "text/plain": [
       "<Figure size 640x480 with 1 Axes>"
      ]
     },
     "metadata": {},
     "output_type": "display_data"
    }
   ],
   "source": [
    "(fvm_vanilla.hist_output ** .5).plot(label='forecast')\n",
    "test_small.plot(label='actual values')\n",
    "\n",
    "plt.legend()\n",
    "plt.grid()\n",
    "plt.show()"
   ]
  },
  {
   "cell_type": "code",
   "execution_count": 126,
   "id": "c002898f",
   "metadata": {},
   "outputs": [
    {
     "data": {
      "image/png": "[encoded data removed]",
      "text/plain": [
       "<Figure size 1500x800 with 1 Axes>"
      ]
     },
     "metadata": {},
     "output_type": "display_data"
    }
   ],
   "source": [
    "(fvm_vanilla.hist_output ** .5).plot(label='forecast', figsize=(15, 8))\n",
    "input_cut.plot(label='actual values')\n",
    "\n",
    "plt.legend()\n",
    "plt.grid()\n",
    "plt.show()"
   ]
  },
  {
   "cell_type": "markdown",
   "id": "6b2e8ae4",
   "metadata": {},
   "source": [
    "### Errors"
   ]
  },
  {
   "cell_type": "code",
   "execution_count": 127,
   "id": "c307806d",
   "metadata": {
    "scrolled": true
   },
   "outputs": [
    {
     "data": {
      "text/plain": [
       "0.0007074125792453843218"
      ]
     },
     "execution_count": 127,
     "metadata": {},
     "output_type": "execute_result"
    }
   ],
   "source": [
    "mean_squared_error(fvm_vanilla.hist_output ** .5, test_small, squared=True)"
   ]
  },
  {
   "cell_type": "code",
   "execution_count": 128,
   "id": "87294864",
   "metadata": {},
   "outputs": [
    {
     "data": {
      "text/plain": [
       "0.91700201752959695656"
      ]
     },
     "execution_count": 128,
     "metadata": {},
     "output_type": "execute_result"
    }
   ],
   "source": [
    "_ / mean_squared_error(fvm.hist_output ** .5, test_small, squared=True)"
   ]
  },
  {
   "cell_type": "code",
   "execution_count": 129,
   "id": "f13748a2",
   "metadata": {},
   "outputs": [
    {
     "data": {
      "text/plain": [
       "-8.2997982470403043435"
      ]
     },
     "execution_count": 129,
     "metadata": {},
     "output_type": "execute_result"
    }
   ],
   "source": [
    "(_ - 1) * 100"
   ]
  },
  {
   "cell_type": "code",
   "execution_count": 130,
   "id": "6b445093",
   "metadata": {},
   "outputs": [
    {
     "data": {
      "text/plain": [
       "0.026597228788830319076"
      ]
     },
     "execution_count": 130,
     "metadata": {},
     "output_type": "execute_result"
    }
   ],
   "source": [
    "mean_squared_error(fvm_vanilla.hist_output ** .5, test_small, squared=False)"
   ]
  },
  {
   "cell_type": "code",
   "execution_count": 131,
   "id": "6ecc2ea7",
   "metadata": {},
   "outputs": [
    {
     "data": {
      "text/plain": [
       "1.1740367526852929414"
      ]
     },
     "execution_count": 131,
     "metadata": {},
     "output_type": "execute_result"
    }
   ],
   "source": [
    "mean_absolute_percentage_error(fvm_vanilla.hist_output ** .5, test_small)"
   ]
  },
  {
   "cell_type": "markdown",
   "id": "f527df76",
   "metadata": {},
   "source": [
    "## Diff w/ seasonal model"
   ]
  },
  {
   "cell_type": "code",
   "execution_count": 132,
   "id": "33f7a5c5",
   "metadata": {},
   "outputs": [
    {
     "data": {
      "text/plain": [
       "array([-3.25775755e-10,  1.50036832e-04,  2.34260269e-04,  1.02237917e-04,\n",
       "        4.07743819e-05,  1.53785624e-05,  1.99597701e-05, -6.67451991e-06,\n",
       "        7.99617170e-05, -8.64135047e-06, -1.76611668e-05], dtype=float128)"
      ]
     },
     "execution_count": 132,
     "metadata": {},
     "output_type": "execute_result"
    }
   ],
   "source": [
    "np.array(fvm._hist_output) - np.array(fvm_vanilla._hist_output)"
   ]
  },
  {
   "cell_type": "code",
   "execution_count": 133,
   "id": "3458d28c",
   "metadata": {},
   "outputs": [
    {
     "data": {
      "text/plain": [
       "5.5421098779254992465e-05"
      ]
     },
     "execution_count": 133,
     "metadata": {},
     "output_type": "execute_result"
    }
   ],
   "source": [
    "_.mean()"
   ]
  },
  {
   "cell_type": "markdown",
   "id": "592c5dad",
   "metadata": {},
   "source": [
    "## Same data fed to GARCH(1, 1)"
   ]
  },
  {
   "cell_type": "markdown",
   "id": "ba0e281d",
   "metadata": {},
   "source": [
    "### No retraining"
   ]
  },
  {
   "cell_type": "code",
   "execution_count": 134,
   "id": "528064bb",
   "metadata": {},
   "outputs": [],
   "source": [
    "model = arch_model(train,\n",
    "                   mean=local_method_parameters['mean'],\n",
    "                   vol='GARCH', p=local_method_parameters['p'],\n",
    "                   q=local_method_parameters['q'],\n",
    "                   dist=local_method_parameters['dist'])"
   ]
  },
  {
   "cell_type": "code",
   "execution_count": 135,
   "id": "530db4c6",
   "metadata": {},
   "outputs": [
    {
     "data": {
      "text/plain": [
       "GARCH(p: 1, q: 1), id: 0x7f8d65fc0490"
      ]
     },
     "execution_count": 135,
     "metadata": {},
     "output_type": "execute_result"
    }
   ],
   "source": [
    "model.volatility"
   ]
  },
  {
   "cell_type": "code",
   "execution_count": 136,
   "id": "bb9ee778",
   "metadata": {},
   "outputs": [
    {
     "name": "stdout",
     "output_type": "stream",
     "text": [
      "Iteration:      1,   Func. Count:      5,   Neg. LLF: -172.81375246629065\n",
      "Iteration:      2,   Func. Count:     14,   Neg. LLF: -231.83780274495433\n",
      "Iteration:      3,   Func. Count:     21,   Neg. LLF: -246.87441129590061\n",
      "Iteration:      4,   Func. Count:     28,   Neg. LLF: -246.6371189750122\n",
      "Iteration:      5,   Func. Count:     33,   Neg. LLF: -250.4869892567008\n",
      "Iteration:      6,   Func. Count:     37,   Neg. LLF: -250.4870954083915\n",
      "Iteration:      7,   Func. Count:     41,   Neg. LLF: -250.4871000056945\n",
      "Iteration:      8,   Func. Count:     44,   Neg. LLF: -250.4871000055288\n",
      "Optimization terminated successfully    (Exit mode 0)\n",
      "            Current function value: -250.4871000056945\n",
      "            Iterations: 8\n",
      "            Function evaluations: 44\n",
      "            Gradient evaluations: 8\n"
     ]
    },
    {
     "name": "stderr",
     "output_type": "stream",
     "text": [
      "/Applications/anaconda3/envs/fuzzy-volatility/lib/python3.9/site-packages/arch/univariate/base.py:309: DataScaleWarning: y is poorly scaled, which may affect convergence of the optimizer when\n",
      "estimating the model parameters. The scale of y is 0.0004542. Parameter\n",
      "estimation work better when this value is between 1 and 1000. The recommended\n",
      "rescaling is 100 * y.\n",
      "\n",
      "This warning can be disabled by either rescaling y before initializing the\n",
      "model or by setting rescale=False.\n",
      "\n",
      "  warnings.warn(\n"
     ]
    }
   ],
   "source": [
    "fitted = model.fit()"
   ]
  },
  {
   "cell_type": "code",
   "execution_count": 137,
   "id": "c54be497",
   "metadata": {},
   "outputs": [
    {
     "data": {
      "text/plain": [
       "<bound method ARCHModelResult.summary of                        Zero Mean - GARCH Model Results                        \n",
       "==============================================================================\n",
       "Dep. Variable:             log return   R-squared:                       0.000\n",
       "Mean Model:                 Zero Mean   Adj. R-squared:                  0.010\n",
       "Vol Model:                      GARCH   Log-Likelihood:                250.487\n",
       "Distribution:                  Normal   AIC:                          -494.974\n",
       "Method:            Maximum Likelihood   BIC:                          -487.159\n",
       "                                        No. Observations:                  100\n",
       "Date:                Wed, Sep 14 2022   Df Residuals:                      100\n",
       "Time:                        23:32:05   Df Model:                            0\n",
       "                              Volatility Model                              \n",
       "============================================================================\n",
       "                 coef    std err          t      P>|t|      95.0% Conf. Int.\n",
       "----------------------------------------------------------------------------\n",
       "omega      1.7613e-05  1.981e-06      8.892  6.016e-19 [1.373e-05,2.150e-05]\n",
       "alpha[1]       0.1164  4.793e-02      2.429  1.515e-02   [2.246e-02,  0.210]\n",
       "beta[1]        0.8369  3.553e-02     23.553 1.182e-122     [  0.767,  0.907]\n",
       "============================================================================\n",
       "\n",
       "Covariance estimator: robust\n",
       "ARCHModelResult, id: 0x7f8d666c90a0>"
      ]
     },
     "execution_count": 137,
     "metadata": {},
     "output_type": "execute_result"
    }
   ],
   "source": [
    "fitted.summary"
   ]
  },
  {
   "cell_type": "code",
   "execution_count": 138,
   "id": "a3585cd3",
   "metadata": {},
   "outputs": [
    {
     "data": {
      "text/plain": [
       "omega       0.000018\n",
       "alpha[1]    0.116398\n",
       "beta[1]     0.836906\n",
       "Name: params, dtype: float64"
      ]
     },
     "execution_count": 138,
     "metadata": {},
     "output_type": "execute_result"
    }
   ],
   "source": [
    "fitted.params"
   ]
  },
  {
   "cell_type": "code",
   "execution_count": 139,
   "id": "7e9d7b7d",
   "metadata": {},
   "outputs": [
    {
     "data": {
      "text/plain": [
       "array([3.92131028e-05, 1.18715729e+01, 3.39349347e-05, 3.87632609e-05])"
      ]
     },
     "execution_count": 139,
     "metadata": {},
     "output_type": "execute_result"
    }
   ],
   "source": [
    "fvm.alpha_0"
   ]
  },
  {
   "cell_type": "code",
   "execution_count": 140,
   "id": "35a92d77",
   "metadata": {},
   "outputs": [
    {
     "data": {
      "text/plain": [
       "array([[0.14297207, 0.14357087, 0.1247706 , 0.12926307]])"
      ]
     },
     "execution_count": 140,
     "metadata": {},
     "output_type": "execute_result"
    }
   ],
   "source": [
    "fvm.alpha"
   ]
  },
  {
   "cell_type": "code",
   "execution_count": 141,
   "id": "c56cc12f",
   "metadata": {},
   "outputs": [
    {
     "data": {
      "text/plain": [
       "array([[0.7356681 , 0.73554175, 0.77799621, 0.77754241]])"
      ]
     },
     "execution_count": 141,
     "metadata": {},
     "output_type": "execute_result"
    }
   ],
   "source": [
    "fvm.beta"
   ]
  },
  {
   "cell_type": "code",
   "execution_count": 142,
   "id": "fe5ba7e6",
   "metadata": {},
   "outputs": [],
   "source": [
    "forecast = fitted.forecast(reindex=False, horizon=1)"
   ]
  },
  {
   "cell_type": "code",
   "execution_count": 143,
   "id": "18ec4493",
   "metadata": {},
   "outputs": [],
   "source": [
    "forecast_variance = forecast.variance.iloc[0]"
   ]
  },
  {
   "cell_type": "code",
   "execution_count": 144,
   "id": "024c2b0a",
   "metadata": {},
   "outputs": [
    {
     "data": {
      "text/plain": [
       "h.1    0.000595\n",
       "Name: 2010-06-03 00:00:00, dtype: float64"
      ]
     },
     "execution_count": 144,
     "metadata": {},
     "output_type": "execute_result"
    }
   ],
   "source": [
    "forecast_variance"
   ]
  },
  {
   "cell_type": "code",
   "execution_count": 145,
   "id": "bd541618",
   "metadata": {},
   "outputs": [],
   "source": [
    "simple_garch_forecasts = garch_fitted.forecast(horizon=n_test, reindex=False).variance.iloc[0].values"
   ]
  },
  {
   "cell_type": "code",
   "execution_count": 146,
   "id": "6f77383a",
   "metadata": {},
   "outputs": [
    {
     "data": {
      "text/plain": [
       "2.901720753924943e-07"
      ]
     },
     "execution_count": 146,
     "metadata": {},
     "output_type": "execute_result"
    }
   ],
   "source": [
    "mean_squared_error(simple_garch_forecasts, test_small ** 2, squared=True)"
   ]
  },
  {
   "cell_type": "markdown",
   "id": "2c3d954d",
   "metadata": {},
   "source": [
    "### With retraining"
   ]
  },
  {
   "cell_type": "code",
   "execution_count": 147,
   "id": "348f93ef",
   "metadata": {},
   "outputs": [],
   "source": [
    "def calc_vanilla_garch_wr_mse(info, data, garch_mean, garch_vol, garch_dist):\n",
    "    train_size = info.loc['Train size']\n",
    "    test_size = info.loc['Test size']\n",
    "    p = info.loc['p']\n",
    "    q = info.loc['q']\n",
    "    \n",
    "    train = data[info.loc['Start date']:].iloc[:train_size]\n",
    "    test = data[info.loc['Start date']:].iloc[train_size:(train_size + test_size)]\n",
    "    \n",
    "    forecast = calculate_retraining_garch_forecasts(train, test,\n",
    "                                                    mean=garch_mean,\n",
    "                                                    vol=garch_vol,\n",
    "                                                    p=p,\n",
    "                                                    q=q,\n",
    "                                                    dist=garch_dist)\n",
    "    \n",
    "    mse = mean_squared_error(forecast, test ** 2, squared=True)\n",
    "    \n",
    "    return mse"
   ]
  },
  {
   "cell_type": "markdown",
   "id": "248f600a",
   "metadata": {},
   "source": [
    "# Bollocks"
   ]
  },
  {
   "cell_type": "code",
   "execution_count": 148,
   "id": "ff484e78",
   "metadata": {},
   "outputs": [],
   "source": [
    "from multiprocessing import Pool"
   ]
  },
  {
   "cell_type": "code",
   "execution_count": 149,
   "id": "ae0daaa5",
   "metadata": {},
   "outputs": [],
   "source": [
    "def f(length):\n",
    "    arr = []\n",
    "    for i in range(int(length)):\n",
    "        arr.append(i + 1)\n",
    "    return arr"
   ]
  },
  {
   "cell_type": "code",
   "execution_count": 150,
   "id": "97561e80",
   "metadata": {},
   "outputs": [
    {
     "name": "stdout",
     "output_type": "stream",
     "text": [
      "CPU times: user 12.9 ms, sys: 2.06 ms, total: 15 ms\n",
      "Wall time: 15.7 ms\n"
     ]
    }
   ],
   "source": [
    "%%time\n",
    "\n",
    "arr = f(1e5)"
   ]
  },
  {
   "cell_type": "markdown",
   "id": "972594d7",
   "metadata": {},
   "source": [
    "# Testing clustering"
   ]
  },
  {
   "cell_type": "markdown",
   "id": "ad7a8c59",
   "metadata": {},
   "source": [
    "## 1d"
   ]
  },
  {
   "cell_type": "code",
   "execution_count": 151,
   "id": "b5b8a7b1",
   "metadata": {},
   "outputs": [],
   "source": [
    "x = [data_to_cluster[0], data_to_cluster[0]].copy()\n",
    "methods = clusterization_methods\n",
    "parameters = clusterization_parameters"
   ]
  },
  {
   "cell_type": "code",
   "execution_count": 152,
   "id": "f48bd444",
   "metadata": {},
   "outputs": [],
   "source": [
    "clustering_results = []\n",
    "for i, (_x, _method) in enumerate(zip(x, methods)):\n",
    "    _clustering_result = cluster_data_1d(_x,\n",
    "                                         method=_method,\n",
    "                                         parameters=parameters[i] if parameters is not None else None,\n",
    "                                         n_last_points_to_use_for_clustering=n_last_points_to_use_for_clustering[i]\n",
    "                                         if n_last_points_to_use_for_clustering is not None else None)\n",
    "    clustering_results.append(_clustering_result)"
   ]
  },
  {
   "cell_type": "code",
   "execution_count": 153,
   "id": "da806a74",
   "metadata": {},
   "outputs": [
    {
     "data": {
      "text/plain": [
       "[{'parameters': {'a': [1, 1],\n",
       "   'b': [1, 5],\n",
       "   'c': [1, 5],\n",
       "   'd': [5, 5],\n",
       "   'n_clusters': 2},\n",
       "  'membership': array([0.25, 0.75])},\n",
       " {'parameters': {'centers': [-4.5, 2.5], 'variances': [7, 5], 'n_clusters': 2},\n",
       "  'membership': array([5.17437509e-27, 3.44419754e-09], dtype=float128)}]"
      ]
     },
     "execution_count": 153,
     "metadata": {},
     "output_type": "execute_result"
    }
   ],
   "source": [
    "[\n",
    "    cluster_data_1d(_x,\n",
    "                    method=_method,\n",
    "                    parameters=_parameters,\n",
    "                    n_last_points_to_use_for_clustering=_n_last_points_to_use_for_clustering)\n",
    "    for _x, _method, _parameters, _n_last_points_to_use_for_clustering in\n",
    "    zip(x, methods, parameters, n_last_points_to_use_for_clustering)\n",
    "]"
   ]
  },
  {
   "cell_type": "markdown",
   "id": "e1d7cc47",
   "metadata": {},
   "source": [
    "## multidim"
   ]
  },
  {
   "cell_type": "code",
   "execution_count": 154,
   "id": "f0602dff",
   "metadata": {},
   "outputs": [],
   "source": [
    "n_cluster_sets = 2"
   ]
  },
  {
   "cell_type": "code",
   "execution_count": 155,
   "id": "80a4c5df",
   "metadata": {},
   "outputs": [],
   "source": [
    "dtc = \\\n",
    "    pd.concat([pd.concat([data_to_cluster[0], data_to_cluster_test[0]]),\n",
    "               pd.concat([train, test])], axis='columns').copy()"
   ]
  },
  {
   "cell_type": "code",
   "execution_count": 156,
   "id": "1aa2528e",
   "metadata": {},
   "outputs": [
    {
     "name": "stdout",
     "output_type": "stream",
     "text": [
      "Help on method rolling in module pandas.core.generic:\n",
      "\n",
      "rolling(window: 'int | timedelta | BaseOffset | BaseIndexer', min_periods: 'int | None' = None, center: 'bool_t' = False, win_type: 'str | None' = None, on: 'str | None' = None, axis: 'Axis' = 0, closed: 'str | None' = None, method: 'str' = 'single') method of pandas.core.frame.DataFrame instance\n",
      "    Provide rolling window calculations.\n",
      "    \n",
      "    Parameters\n",
      "    ----------\n",
      "    window : int, offset, or BaseIndexer subclass\n",
      "        Size of the moving window. This is the number of observations used for\n",
      "        calculating the statistic. Each window will be a fixed size.\n",
      "    \n",
      "        If its an offset then this will be the time period of each window. Each\n",
      "        window will be a variable sized based on the observations included in\n",
      "        the time-period. This is only valid for datetimelike indexes.\n",
      "    \n",
      "        If a BaseIndexer subclass is passed, calculates the window boundaries\n",
      "        based on the defined ``get_window_bounds`` method. Additional rolling\n",
      "        keyword arguments, namely `min_periods`, `center`, and\n",
      "        `closed` will be passed to `get_window_bounds`.\n",
      "    min_periods : int, default None\n",
      "        Minimum number of observations in window required to have a value\n",
      "        (otherwise result is NA). For a window that is specified by an offset,\n",
      "        `min_periods` will default to 1. Otherwise, `min_periods` will default\n",
      "        to the size of the window.\n",
      "    center : bool, default False\n",
      "        Set the labels at the center of the window.\n",
      "    win_type : str, default None\n",
      "        Provide a window type. If ``None``, all points are evenly weighted.\n",
      "        See the notes below for further information.\n",
      "    on : str, optional\n",
      "        For a DataFrame, a datetime-like column or Index level on which\n",
      "        to calculate the rolling window, rather than the DataFrame's index.\n",
      "        Provided integer column is ignored and excluded from result since\n",
      "        an integer index is not used to calculate the rolling window.\n",
      "    axis : int or str, default 0\n",
      "    closed : str, default None\n",
      "        Make the interval closed on the 'right', 'left', 'both' or\n",
      "        'neither' endpoints. Defaults to 'right'.\n",
      "    \n",
      "        .. versionchanged:: 1.2.0\n",
      "    \n",
      "            The closed parameter with fixed windows is now supported.\n",
      "    method : str {'single', 'table'}, default 'single'\n",
      "        Execute the rolling operation per single column or row (``'single'``)\n",
      "        or over the entire object (``'table'``).\n",
      "    \n",
      "        This argument is only implemented when specifying ``engine='numba'``\n",
      "        in the method call.\n",
      "    \n",
      "        .. versionadded:: 1.3.0\n",
      "    \n",
      "    Returns\n",
      "    -------\n",
      "    a Window or Rolling sub-classed for the particular operation\n",
      "    \n",
      "    See Also\n",
      "    --------\n",
      "    expanding : Provides expanding transformations.\n",
      "    ewm : Provides exponential weighted functions.\n",
      "    \n",
      "    Notes\n",
      "    -----\n",
      "    By default, the result is set to the right edge of the window. This can be\n",
      "    changed to the center of the window by setting ``center=True``.\n",
      "    \n",
      "    To learn more about the offsets & frequency strings, please see `this link\n",
      "    <https://pandas.pydata.org/pandas-docs/stable/user_guide/timeseries.html#offset-aliases>`__.\n",
      "    \n",
      "    If ``win_type=None``, all points are evenly weighted; otherwise, ``win_type``\n",
      "    can accept a string of any `scipy.signal window function\n",
      "    <https://docs.scipy.org/doc/scipy/reference/signal.windows.html#module-scipy.signal.windows>`__.\n",
      "    \n",
      "    Certain Scipy window types require additional parameters to be passed\n",
      "    in the aggregation function. The additional parameters must match\n",
      "    the keywords specified in the Scipy window type method signature.\n",
      "    Please see the third example below on how to add the additional parameters.\n",
      "    \n",
      "    Examples\n",
      "    --------\n",
      "    >>> df = pd.DataFrame({'B': [0, 1, 2, np.nan, 4]})\n",
      "    >>> df\n",
      "         B\n",
      "    0  0.0\n",
      "    1  1.0\n",
      "    2  2.0\n",
      "    3  NaN\n",
      "    4  4.0\n",
      "    \n",
      "    Rolling sum with a window length of 2, using the 'triang'\n",
      "    window type.\n",
      "    \n",
      "    >>> df.rolling(2, win_type='triang').sum()\n",
      "         B\n",
      "    0  NaN\n",
      "    1  0.5\n",
      "    2  1.5\n",
      "    3  NaN\n",
      "    4  NaN\n",
      "    \n",
      "    Rolling sum with a window length of 2, using the 'gaussian'\n",
      "    window type (note how we need to specify std).\n",
      "    \n",
      "    >>> df.rolling(2, win_type='gaussian').sum(std=3)\n",
      "              B\n",
      "    0       NaN\n",
      "    1  0.986207\n",
      "    2  2.958621\n",
      "    3       NaN\n",
      "    4       NaN\n",
      "    \n",
      "    Rolling sum with a window length of 2, min_periods defaults\n",
      "    to the window length.\n",
      "    \n",
      "    >>> df.rolling(2).sum()\n",
      "         B\n",
      "    0  NaN\n",
      "    1  1.0\n",
      "    2  3.0\n",
      "    3  NaN\n",
      "    4  NaN\n",
      "    \n",
      "    Same as above, but explicitly set the min_periods\n",
      "    \n",
      "    >>> df.rolling(2, min_periods=1).sum()\n",
      "         B\n",
      "    0  0.0\n",
      "    1  1.0\n",
      "    2  3.0\n",
      "    3  2.0\n",
      "    4  4.0\n",
      "    \n",
      "    Same as above, but with forward-looking windows\n",
      "    \n",
      "    >>> indexer = pd.api.indexers.FixedForwardWindowIndexer(window_size=2)\n",
      "    >>> df.rolling(window=indexer, min_periods=1).sum()\n",
      "         B\n",
      "    0  1.0\n",
      "    1  3.0\n",
      "    2  2.0\n",
      "    3  4.0\n",
      "    4  4.0\n",
      "    \n",
      "    A ragged (meaning not-a-regular frequency), time-indexed DataFrame\n",
      "    \n",
      "    >>> df = pd.DataFrame({'B': [0, 1, 2, np.nan, 4]},\n",
      "    ...                   index = [pd.Timestamp('20130101 09:00:00'),\n",
      "    ...                            pd.Timestamp('20130101 09:00:02'),\n",
      "    ...                            pd.Timestamp('20130101 09:00:03'),\n",
      "    ...                            pd.Timestamp('20130101 09:00:05'),\n",
      "    ...                            pd.Timestamp('20130101 09:00:06')])\n",
      "    \n",
      "    >>> df\n",
      "                           B\n",
      "    2013-01-01 09:00:00  0.0\n",
      "    2013-01-01 09:00:02  1.0\n",
      "    2013-01-01 09:00:03  2.0\n",
      "    2013-01-01 09:00:05  NaN\n",
      "    2013-01-01 09:00:06  4.0\n",
      "    \n",
      "    Contrasting to an integer rolling window, this will roll a variable\n",
      "    length window corresponding to the time period.\n",
      "    The default for min_periods is 1.\n",
      "    \n",
      "    >>> df.rolling('2s').sum()\n",
      "                           B\n",
      "    2013-01-01 09:00:00  0.0\n",
      "    2013-01-01 09:00:02  1.0\n",
      "    2013-01-01 09:00:03  3.0\n",
      "    2013-01-01 09:00:05  NaN\n",
      "    2013-01-01 09:00:06  4.0\n",
      "\n"
     ]
    }
   ],
   "source": [
    "help(dtc.rolling)"
   ]
  },
  {
   "cell_type": "code",
   "execution_count": 157,
   "id": "f7c60411",
   "metadata": {},
   "outputs": [
    {
     "data": {
      "text/html": [
       "<div>\n",
       "<style scoped>\n",
       "    .dataframe tbody tr th:only-of-type {\n",
       "        vertical-align: middle;\n",
       "    }\n",
       "\n",
       "    .dataframe tbody tr th {\n",
       "        vertical-align: top;\n",
       "    }\n",
       "\n",
       "    .dataframe thead th {\n",
       "        text-align: right;\n",
       "    }\n",
       "</style>\n",
       "<table border=\"1\" class=\"dataframe\">\n",
       "  <thead>\n",
       "    <tr style=\"text-align: right;\">\n",
       "      <th></th>\n",
       "      <th>&lt;DATE&gt;</th>\n",
       "      <th>log return</th>\n",
       "    </tr>\n",
       "    <tr>\n",
       "      <th>&lt;DATE&gt;</th>\n",
       "      <th></th>\n",
       "      <th></th>\n",
       "    </tr>\n",
       "  </thead>\n",
       "  <tbody>\n",
       "    <tr>\n",
       "      <th>2010-05-20</th>\n",
       "      <td>1.0</td>\n",
       "      <td>1.0</td>\n",
       "    </tr>\n",
       "    <tr>\n",
       "      <th>2010-05-21</th>\n",
       "      <td>2.0</td>\n",
       "      <td>2.0</td>\n",
       "    </tr>\n",
       "    <tr>\n",
       "      <th>2010-05-24</th>\n",
       "      <td>3.0</td>\n",
       "      <td>3.0</td>\n",
       "    </tr>\n",
       "    <tr>\n",
       "      <th>2010-05-25</th>\n",
       "      <td>4.0</td>\n",
       "      <td>4.0</td>\n",
       "    </tr>\n",
       "    <tr>\n",
       "      <th>2010-05-26</th>\n",
       "      <td>5.0</td>\n",
       "      <td>5.0</td>\n",
       "    </tr>\n",
       "    <tr>\n",
       "      <th>2010-05-27</th>\n",
       "      <td>6.0</td>\n",
       "      <td>6.0</td>\n",
       "    </tr>\n",
       "    <tr>\n",
       "      <th>2010-05-28</th>\n",
       "      <td>7.0</td>\n",
       "      <td>7.0</td>\n",
       "    </tr>\n",
       "    <tr>\n",
       "      <th>2010-05-31</th>\n",
       "      <td>8.0</td>\n",
       "      <td>8.0</td>\n",
       "    </tr>\n",
       "    <tr>\n",
       "      <th>2010-06-01</th>\n",
       "      <td>9.0</td>\n",
       "      <td>9.0</td>\n",
       "    </tr>\n",
       "    <tr>\n",
       "      <th>2010-06-02</th>\n",
       "      <td>10.0</td>\n",
       "      <td>10.0</td>\n",
       "    </tr>\n",
       "    <tr>\n",
       "      <th>2010-06-03</th>\n",
       "      <td>11.0</td>\n",
       "      <td>11.0</td>\n",
       "    </tr>\n",
       "    <tr>\n",
       "      <th>2010-06-04</th>\n",
       "      <td>12.0</td>\n",
       "      <td>12.0</td>\n",
       "    </tr>\n",
       "    <tr>\n",
       "      <th>2010-06-07</th>\n",
       "      <td>13.0</td>\n",
       "      <td>13.0</td>\n",
       "    </tr>\n",
       "    <tr>\n",
       "      <th>2010-06-08</th>\n",
       "      <td>14.0</td>\n",
       "      <td>14.0</td>\n",
       "    </tr>\n",
       "    <tr>\n",
       "      <th>2010-06-09</th>\n",
       "      <td>15.0</td>\n",
       "      <td>15.0</td>\n",
       "    </tr>\n",
       "    <tr>\n",
       "      <th>2010-06-10</th>\n",
       "      <td>16.0</td>\n",
       "      <td>16.0</td>\n",
       "    </tr>\n",
       "    <tr>\n",
       "      <th>2010-06-11</th>\n",
       "      <td>17.0</td>\n",
       "      <td>17.0</td>\n",
       "    </tr>\n",
       "    <tr>\n",
       "      <th>2010-06-15</th>\n",
       "      <td>18.0</td>\n",
       "      <td>18.0</td>\n",
       "    </tr>\n",
       "    <tr>\n",
       "      <th>2010-06-16</th>\n",
       "      <td>19.0</td>\n",
       "      <td>19.0</td>\n",
       "    </tr>\n",
       "    <tr>\n",
       "      <th>2010-06-17</th>\n",
       "      <td>20.0</td>\n",
       "      <td>20.0</td>\n",
       "    </tr>\n",
       "    <tr>\n",
       "      <th>2010-06-18</th>\n",
       "      <td>21.0</td>\n",
       "      <td>21.0</td>\n",
       "    </tr>\n",
       "  </tbody>\n",
       "</table>\n",
       "</div>"
      ],
      "text/plain": [
       "            <DATE>  log return\n",
       "<DATE>                        \n",
       "2010-05-20     1.0         1.0\n",
       "2010-05-21     2.0         2.0\n",
       "2010-05-24     3.0         3.0\n",
       "2010-05-25     4.0         4.0\n",
       "2010-05-26     5.0         5.0\n",
       "2010-05-27     6.0         6.0\n",
       "2010-05-28     7.0         7.0\n",
       "2010-05-31     8.0         8.0\n",
       "2010-06-01     9.0         9.0\n",
       "2010-06-02    10.0        10.0\n",
       "2010-06-03    11.0        11.0\n",
       "2010-06-04    12.0        12.0\n",
       "2010-06-07    13.0        13.0\n",
       "2010-06-08    14.0        14.0\n",
       "2010-06-09    15.0        15.0\n",
       "2010-06-10    16.0        16.0\n",
       "2010-06-11    17.0        17.0\n",
       "2010-06-15    18.0        18.0\n",
       "2010-06-16    19.0        19.0\n",
       "2010-06-17    20.0        20.0\n",
       "2010-06-18    21.0        21.0"
      ]
     },
     "execution_count": 157,
     "metadata": {},
     "output_type": "execute_result"
    }
   ],
   "source": [
    "dtc.iloc[train.shape[0] - test.shape[0] - 1:].expanding(min_periods=1).apply(lambda _row: _row.shape[0])"
   ]
  },
  {
   "cell_type": "code",
   "execution_count": 158,
   "id": "266df710",
   "metadata": {},
   "outputs": [
    {
     "data": {
      "text/html": [
       "<div>\n",
       "<style scoped>\n",
       "    .dataframe tbody tr th:only-of-type {\n",
       "        vertical-align: middle;\n",
       "    }\n",
       "\n",
       "    .dataframe tbody tr th {\n",
       "        vertical-align: top;\n",
       "    }\n",
       "\n",
       "    .dataframe thead th {\n",
       "        text-align: right;\n",
       "    }\n",
       "</style>\n",
       "<table border=\"1\" class=\"dataframe\">\n",
       "  <thead>\n",
       "    <tr style=\"text-align: right;\">\n",
       "      <th></th>\n",
       "      <th>&lt;DATE&gt;</th>\n",
       "      <th>log return</th>\n",
       "    </tr>\n",
       "    <tr>\n",
       "      <th>&lt;DATE&gt;</th>\n",
       "      <th></th>\n",
       "      <th></th>\n",
       "    </tr>\n",
       "  </thead>\n",
       "  <tbody>\n",
       "    <tr>\n",
       "      <th>2010-05-20</th>\n",
       "      <td>1.0</td>\n",
       "      <td>1.0</td>\n",
       "    </tr>\n",
       "    <tr>\n",
       "      <th>2010-05-21</th>\n",
       "      <td>2.0</td>\n",
       "      <td>2.0</td>\n",
       "    </tr>\n",
       "    <tr>\n",
       "      <th>2010-05-24</th>\n",
       "      <td>3.0</td>\n",
       "      <td>3.0</td>\n",
       "    </tr>\n",
       "    <tr>\n",
       "      <th>2010-05-25</th>\n",
       "      <td>4.0</td>\n",
       "      <td>4.0</td>\n",
       "    </tr>\n",
       "    <tr>\n",
       "      <th>2010-05-26</th>\n",
       "      <td>5.0</td>\n",
       "      <td>5.0</td>\n",
       "    </tr>\n",
       "    <tr>\n",
       "      <th>2010-05-27</th>\n",
       "      <td>6.0</td>\n",
       "      <td>6.0</td>\n",
       "    </tr>\n",
       "    <tr>\n",
       "      <th>2010-05-28</th>\n",
       "      <td>7.0</td>\n",
       "      <td>7.0</td>\n",
       "    </tr>\n",
       "    <tr>\n",
       "      <th>2010-05-31</th>\n",
       "      <td>8.0</td>\n",
       "      <td>8.0</td>\n",
       "    </tr>\n",
       "    <tr>\n",
       "      <th>2010-06-01</th>\n",
       "      <td>9.0</td>\n",
       "      <td>9.0</td>\n",
       "    </tr>\n",
       "    <tr>\n",
       "      <th>2010-06-02</th>\n",
       "      <td>10.0</td>\n",
       "      <td>10.0</td>\n",
       "    </tr>\n",
       "    <tr>\n",
       "      <th>2010-06-03</th>\n",
       "      <td>10.0</td>\n",
       "      <td>10.0</td>\n",
       "    </tr>\n",
       "    <tr>\n",
       "      <th>2010-06-04</th>\n",
       "      <td>10.0</td>\n",
       "      <td>10.0</td>\n",
       "    </tr>\n",
       "    <tr>\n",
       "      <th>2010-06-07</th>\n",
       "      <td>10.0</td>\n",
       "      <td>10.0</td>\n",
       "    </tr>\n",
       "    <tr>\n",
       "      <th>2010-06-08</th>\n",
       "      <td>10.0</td>\n",
       "      <td>10.0</td>\n",
       "    </tr>\n",
       "    <tr>\n",
       "      <th>2010-06-09</th>\n",
       "      <td>10.0</td>\n",
       "      <td>10.0</td>\n",
       "    </tr>\n",
       "    <tr>\n",
       "      <th>2010-06-10</th>\n",
       "      <td>10.0</td>\n",
       "      <td>10.0</td>\n",
       "    </tr>\n",
       "    <tr>\n",
       "      <th>2010-06-11</th>\n",
       "      <td>10.0</td>\n",
       "      <td>10.0</td>\n",
       "    </tr>\n",
       "    <tr>\n",
       "      <th>2010-06-15</th>\n",
       "      <td>10.0</td>\n",
       "      <td>10.0</td>\n",
       "    </tr>\n",
       "    <tr>\n",
       "      <th>2010-06-16</th>\n",
       "      <td>10.0</td>\n",
       "      <td>10.0</td>\n",
       "    </tr>\n",
       "    <tr>\n",
       "      <th>2010-06-17</th>\n",
       "      <td>10.0</td>\n",
       "      <td>10.0</td>\n",
       "    </tr>\n",
       "    <tr>\n",
       "      <th>2010-06-18</th>\n",
       "      <td>10.0</td>\n",
       "      <td>10.0</td>\n",
       "    </tr>\n",
       "  </tbody>\n",
       "</table>\n",
       "</div>"
      ],
      "text/plain": [
       "            <DATE>  log return\n",
       "<DATE>                        \n",
       "2010-05-20     1.0         1.0\n",
       "2010-05-21     2.0         2.0\n",
       "2010-05-24     3.0         3.0\n",
       "2010-05-25     4.0         4.0\n",
       "2010-05-26     5.0         5.0\n",
       "2010-05-27     6.0         6.0\n",
       "2010-05-28     7.0         7.0\n",
       "2010-05-31     8.0         8.0\n",
       "2010-06-01     9.0         9.0\n",
       "2010-06-02    10.0        10.0\n",
       "2010-06-03    10.0        10.0\n",
       "2010-06-04    10.0        10.0\n",
       "2010-06-07    10.0        10.0\n",
       "2010-06-08    10.0        10.0\n",
       "2010-06-09    10.0        10.0\n",
       "2010-06-10    10.0        10.0\n",
       "2010-06-11    10.0        10.0\n",
       "2010-06-15    10.0        10.0\n",
       "2010-06-16    10.0        10.0\n",
       "2010-06-17    10.0        10.0\n",
       "2010-06-18    10.0        10.0"
      ]
     },
     "execution_count": 158,
     "metadata": {},
     "output_type": "execute_result"
    }
   ],
   "source": [
    "dtc.iloc[train.shape[0] - test.shape[0] - 1:].rolling(10, min_periods=1).apply(lambda _row: _row.shape[0])"
   ]
  },
  {
   "cell_type": "code",
   "execution_count": 159,
   "id": "5a11ec76",
   "metadata": {},
   "outputs": [
    {
     "data": {
      "text/html": [
       "<div>\n",
       "<style scoped>\n",
       "    .dataframe tbody tr th:only-of-type {\n",
       "        vertical-align: middle;\n",
       "    }\n",
       "\n",
       "    .dataframe tbody tr th {\n",
       "        vertical-align: top;\n",
       "    }\n",
       "\n",
       "    .dataframe thead th {\n",
       "        text-align: right;\n",
       "    }\n",
       "</style>\n",
       "<table border=\"1\" class=\"dataframe\">\n",
       "  <thead>\n",
       "    <tr style=\"text-align: right;\">\n",
       "      <th></th>\n",
       "      <th>&lt;DATE&gt;</th>\n",
       "      <th>log return</th>\n",
       "    </tr>\n",
       "    <tr>\n",
       "      <th>&lt;DATE&gt;</th>\n",
       "      <th></th>\n",
       "      <th></th>\n",
       "    </tr>\n",
       "  </thead>\n",
       "  <tbody>\n",
       "    <tr>\n",
       "      <th>2010-01-11</th>\n",
       "      <td>1</td>\n",
       "      <td>0.076686</td>\n",
       "    </tr>\n",
       "    <tr>\n",
       "      <th>2010-01-12</th>\n",
       "      <td>2</td>\n",
       "      <td>-0.024211</td>\n",
       "    </tr>\n",
       "    <tr>\n",
       "      <th>2010-01-13</th>\n",
       "      <td>3</td>\n",
       "      <td>0.019327</td>\n",
       "    </tr>\n",
       "    <tr>\n",
       "      <th>2010-01-14</th>\n",
       "      <td>4</td>\n",
       "      <td>0.008749</td>\n",
       "    </tr>\n",
       "    <tr>\n",
       "      <th>2010-01-15</th>\n",
       "      <td>5</td>\n",
       "      <td>-0.004911</td>\n",
       "    </tr>\n",
       "    <tr>\n",
       "      <th>...</th>\n",
       "      <td>...</td>\n",
       "      <td>...</td>\n",
       "    </tr>\n",
       "    <tr>\n",
       "      <th>2010-06-11</th>\n",
       "      <td>5</td>\n",
       "      <td>-0.006017</td>\n",
       "    </tr>\n",
       "    <tr>\n",
       "      <th>2010-06-15</th>\n",
       "      <td>2</td>\n",
       "      <td>0.035086</td>\n",
       "    </tr>\n",
       "    <tr>\n",
       "      <th>2010-06-16</th>\n",
       "      <td>3</td>\n",
       "      <td>-0.002051</td>\n",
       "    </tr>\n",
       "    <tr>\n",
       "      <th>2010-06-17</th>\n",
       "      <td>4</td>\n",
       "      <td>-0.000185</td>\n",
       "    </tr>\n",
       "    <tr>\n",
       "      <th>2010-06-18</th>\n",
       "      <td>5</td>\n",
       "      <td>0.006935</td>\n",
       "    </tr>\n",
       "  </tbody>\n",
       "</table>\n",
       "<p>110 rows × 2 columns</p>\n",
       "</div>"
      ],
      "text/plain": [
       "            <DATE>  log return\n",
       "<DATE>                        \n",
       "2010-01-11       1    0.076686\n",
       "2010-01-12       2   -0.024211\n",
       "2010-01-13       3    0.019327\n",
       "2010-01-14       4    0.008749\n",
       "2010-01-15       5   -0.004911\n",
       "...            ...         ...\n",
       "2010-06-11       5   -0.006017\n",
       "2010-06-15       2    0.035086\n",
       "2010-06-16       3   -0.002051\n",
       "2010-06-17       4   -0.000185\n",
       "2010-06-18       5    0.006935\n",
       "\n",
       "[110 rows x 2 columns]"
      ]
     },
     "execution_count": 159,
     "metadata": {},
     "output_type": "execute_result"
    }
   ],
   "source": [
    "dtc"
   ]
  },
  {
   "cell_type": "code",
   "execution_count": 160,
   "id": "2c64a4a2",
   "metadata": {},
   "outputs": [
    {
     "name": "stderr",
     "output_type": "stream",
     "text": [
      "/Users/vladimirsviyazov/Documents/Study postgraduate/Thesis/fuzzy-volatility-modeling/clusterization/all_methods.py:43: VisibleDeprecationWarning: Creating an ndarray from ragged nested sequences (which is a list-or-tuple of lists-or-tuples-or ndarrays with different lengths or shapes) is deprecated. If you meant to do this, you must specify 'dtype=object' when creating the ndarray.\n",
      "  (type(x) is list and array(x).dtype != object and len(array(x).shape) == 1) or \\\n"
     ]
    },
    {
     "ename": "AttributeError",
     "evalue": "'str' object has no attribute 'copy'",
     "output_type": "error",
     "traceback": [
      "\u001b[0;31m---------------------------------------------------------------------------\u001b[0m",
      "\u001b[0;31mAttributeError\u001b[0m                            Traceback (most recent call last)",
      "\u001b[0;32m/var/folders/wp/ypx6h8352xv06355zp13dlx40000gn/T/ipykernel_4541/2547102433.py\u001b[0m in \u001b[0;36m<module>\u001b[0;34m\u001b[0m\n\u001b[0;32m----> 1\u001b[0;31m cluster_data(data_to_cluster,\n\u001b[0m\u001b[1;32m      2\u001b[0m              \u001b[0mmethods\u001b[0m\u001b[0;34m=\u001b[0m\u001b[0mclusterization_methods\u001b[0m\u001b[0;34m,\u001b[0m\u001b[0;34m\u001b[0m\u001b[0;34m\u001b[0m\u001b[0m\n\u001b[1;32m      3\u001b[0m              \u001b[0mparameters\u001b[0m\u001b[0;34m=\u001b[0m\u001b[0mclusterization_parameters\u001b[0m\u001b[0;34m,\u001b[0m\u001b[0;34m\u001b[0m\u001b[0;34m\u001b[0m\u001b[0m\n\u001b[1;32m      4\u001b[0m              \u001b[0mn_last_points_to_use_for_clustering\u001b[0m\u001b[0;34m=\u001b[0m\u001b[0;34m\u001b[0m\u001b[0;34m\u001b[0m\u001b[0m\n\u001b[1;32m      5\u001b[0m              \u001b[0mn_last_points_to_use_for_clustering\u001b[0m\u001b[0;34m,\u001b[0m\u001b[0;34m\u001b[0m\u001b[0;34m\u001b[0m\u001b[0m\n",
      "\u001b[0;32m~/Documents/Study postgraduate/Thesis/fuzzy-volatility-modeling/clusterization/all_methods.py\u001b[0m in \u001b[0;36mcluster_data\u001b[0;34m(x, methods, parameters, n_last_points_to_use_for_clustering, conjunction, n_sets, normalize)\u001b[0m\n\u001b[1;32m     83\u001b[0m \u001b[0;34m\u001b[0m\u001b[0m\n\u001b[1;32m     84\u001b[0m     \u001b[0mclustering_results\u001b[0m \u001b[0;34m=\u001b[0m\u001b[0;31m \u001b[0m\u001b[0;31m\\\u001b[0m\u001b[0;34m\u001b[0m\u001b[0;34m\u001b[0m\u001b[0m\n\u001b[0;32m---> 85\u001b[0;31m         [\n\u001b[0m\u001b[1;32m     86\u001b[0m             cluster_data_1d(_x,\n\u001b[1;32m     87\u001b[0m                             \u001b[0mmethod\u001b[0m\u001b[0;34m=\u001b[0m\u001b[0m_method\u001b[0m\u001b[0;34m,\u001b[0m\u001b[0;34m\u001b[0m\u001b[0;34m\u001b[0m\u001b[0m\n",
      "\u001b[0;32m~/Documents/Study postgraduate/Thesis/fuzzy-volatility-modeling/clusterization/all_methods.py\u001b[0m in \u001b[0;36m<listcomp>\u001b[0;34m(.0)\u001b[0m\n\u001b[1;32m     84\u001b[0m     \u001b[0mclustering_results\u001b[0m \u001b[0;34m=\u001b[0m\u001b[0;31m \u001b[0m\u001b[0;31m\\\u001b[0m\u001b[0;34m\u001b[0m\u001b[0;34m\u001b[0m\u001b[0m\n\u001b[1;32m     85\u001b[0m         [\n\u001b[0;32m---> 86\u001b[0;31m             cluster_data_1d(_x,\n\u001b[0m\u001b[1;32m     87\u001b[0m                             \u001b[0mmethod\u001b[0m\u001b[0;34m=\u001b[0m\u001b[0m_method\u001b[0m\u001b[0;34m,\u001b[0m\u001b[0;34m\u001b[0m\u001b[0;34m\u001b[0m\u001b[0m\n\u001b[1;32m     88\u001b[0m                             \u001b[0mparameters\u001b[0m\u001b[0;34m=\u001b[0m\u001b[0m_parameters\u001b[0m\u001b[0;34m,\u001b[0m\u001b[0;34m\u001b[0m\u001b[0;34m\u001b[0m\u001b[0m\n",
      "\u001b[0;32m~/Documents/Study postgraduate/Thesis/fuzzy-volatility-modeling/clusterization/all_methods.py\u001b[0m in \u001b[0;36mcluster_data_1d\u001b[0;34m(x, method, parameters, n_last_points_to_use_for_clustering, normalize)\u001b[0m\n\u001b[1;32m    133\u001b[0m \u001b[0;34m\u001b[0m\u001b[0m\n\u001b[1;32m    134\u001b[0m     \u001b[0mslc\u001b[0m \u001b[0;34m=\u001b[0m \u001b[0mslice\u001b[0m\u001b[0;34m(\u001b[0m\u001b[0;34m-\u001b[0m\u001b[0mn_last_points_to_use_for_clustering\u001b[0m \u001b[0;32mif\u001b[0m \u001b[0mn_last_points_to_use_for_clustering\u001b[0m \u001b[0;32mis\u001b[0m \u001b[0;32mnot\u001b[0m \u001b[0;32mNone\u001b[0m \u001b[0;32melse\u001b[0m \u001b[0;32mNone\u001b[0m\u001b[0;34m,\u001b[0m \u001b[0;32mNone\u001b[0m\u001b[0;34m)\u001b[0m\u001b[0;34m\u001b[0m\u001b[0;34m\u001b[0m\u001b[0m\n\u001b[0;32m--> 135\u001b[0;31m     \u001b[0mx_sliced\u001b[0m \u001b[0;34m=\u001b[0m \u001b[0mx\u001b[0m\u001b[0;34m[\u001b[0m\u001b[0mslc\u001b[0m\u001b[0;34m]\u001b[0m\u001b[0;34m.\u001b[0m\u001b[0mcopy\u001b[0m\u001b[0;34m(\u001b[0m\u001b[0;34m)\u001b[0m\u001b[0;34m\u001b[0m\u001b[0;34m\u001b[0m\u001b[0m\n\u001b[0m\u001b[1;32m    136\u001b[0m     \u001b[0mn\u001b[0m \u001b[0;34m=\u001b[0m \u001b[0mlen\u001b[0m\u001b[0;34m(\u001b[0m\u001b[0mx_sliced\u001b[0m\u001b[0;34m)\u001b[0m\u001b[0;34m\u001b[0m\u001b[0;34m\u001b[0m\u001b[0m\n\u001b[1;32m    137\u001b[0m \u001b[0;34m\u001b[0m\u001b[0m\n",
      "\u001b[0;31mAttributeError\u001b[0m: 'str' object has no attribute 'copy'"
     ]
    }
   ],
   "source": [
    "cluster_data(data_to_cluster,\n",
    "             methods=clusterization_methods,\n",
    "             parameters=clusterization_parameters,\n",
    "             n_last_points_to_use_for_clustering=\n",
    "             n_last_points_to_use_for_clustering,\n",
    "             conjunction=cluster_sets_conjunction,\n",
    "             n_sets=n_cluster_sets,\n",
    "             normalize=normalize)"
   ]
  },
  {
   "cell_type": "markdown",
   "id": "0da9de60",
   "metadata": {},
   "source": [
    "# Testing `expanding` w/ `numba`"
   ]
  },
  {
   "cell_type": "code",
   "execution_count": null,
   "id": "c3226c60",
   "metadata": {},
   "outputs": [],
   "source": [
    "def f(df: pd.DataFrame) -> pd.Series:\n",
    "    return df.iloc[:, 0] + df.iloc[:, 1]"
   ]
  },
  {
   "cell_type": "code",
   "execution_count": null,
   "id": "618e351e",
   "metadata": {},
   "outputs": [],
   "source": [
    "def f2(df: np.array) -> np.array:\n",
    "    return df[:, 0] + df[:, 1]"
   ]
  },
  {
   "cell_type": "code",
   "execution_count": null,
   "id": "772e0f0e",
   "metadata": {},
   "outputs": [],
   "source": [
    "def f3(df: np.array) -> np.array:\n",
    "    return (df[:, 0] + df[:, 1], df[:, 0] - df[:, 1])"
   ]
  },
  {
   "cell_type": "code",
   "execution_count": null,
   "id": "e28e1904",
   "metadata": {},
   "outputs": [],
   "source": [
    "def f4(df: np.array) -> tuple:\n",
    "    return (df[:, 0].mean(), df[:, 1].mean())"
   ]
  },
  {
   "cell_type": "code",
   "execution_count": null,
   "id": "aa4fdd71",
   "metadata": {},
   "outputs": [],
   "source": [
    "f(dtc)"
   ]
  },
  {
   "cell_type": "code",
   "execution_count": null,
   "id": "c63b82eb",
   "metadata": {},
   "outputs": [],
   "source": [
    "f2(dtc.values)"
   ]
  },
  {
   "cell_type": "code",
   "execution_count": null,
   "id": "64566c53",
   "metadata": {},
   "outputs": [],
   "source": [
    "f3(dtc.values)"
   ]
  },
  {
   "cell_type": "code",
   "execution_count": null,
   "id": "165b4f7b",
   "metadata": {},
   "outputs": [],
   "source": [
    "f4(dtc.values)"
   ]
  },
  {
   "cell_type": "code",
   "execution_count": null,
   "id": "e3c7b247",
   "metadata": {},
   "outputs": [],
   "source": [
    "dtc.expanding(method='table').apply(f4, engine='numba', raw=True)"
   ]
  },
  {
   "cell_type": "code",
   "execution_count": null,
   "id": "81099fdf",
   "metadata": {},
   "outputs": [],
   "source": [
    "np.vstack([np.array([1, 2, 3]), np.array([4, 5, 6])]).T"
   ]
  }
 ],
 "metadata": {
  "kernelspec": {
   "display_name": "Python 3 (ipykernel)",
   "language": "python",
   "name": "python3"
  },
  "language_info": {
   "codemirror_mode": {
    "name": "ipython",
    "version": 3
   },
   "file_extension": ".py",
   "mimetype": "text/x-python",
   "name": "python",
   "nbconvert_exporter": "python",
   "pygments_lexer": "ipython3",
   "version": "3.9.7"
  }
 },
 "nbformat": 4,
 "nbformat_minor": 5
}
