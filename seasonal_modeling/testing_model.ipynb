{
 "cells": [
  {
   "cell_type": "code",
   "execution_count": 1,
   "id": "dddaf7cd",
   "metadata": {},
   "outputs": [],
   "source": [
    "import logging\n",
    "import numpy as np\n",
    "import pandas as pd\n",
    "from arch import arch_model\n",
    "from random import gauss\n",
    "from random import seed\n",
    "from matplotlib import pyplot as plt\n",
    "import scipy.stats as sts\n",
    "import json\n",
    "from sklearn.metrics import mean_squared_error, mean_absolute_percentage_error\n",
    "from scipy.optimize import least_squares\n",
    "import os"
   ]
  },
  {
   "cell_type": "code",
   "execution_count": 2,
   "id": "dfddf51c",
   "metadata": {},
   "outputs": [],
   "source": [
    "os.chdir(os.getcwd() + '/..')"
   ]
  },
  {
   "cell_type": "code",
   "execution_count": 149,
   "id": "cc95b96f",
   "metadata": {},
   "outputs": [],
   "source": [
    "from rules_related import combine_rules_outputs\n",
    "from whole_algorithm import train_model\n",
    "from auxiliary import calc_log_returns, unpack_1d_parameters\n",
    "from multivariate_normal_distribution import LongMultivariateNormal\n",
    "from model import FuzzyVolatilityModel\n",
    "from membership_functions import calc_trapezoidal_membership_degrees\n",
    "from clusterization.all_methods import cluster_data_1d, cluster_data\n",
    "# from membership_functions.trapezoidal import _calc_trapezoidal_md_scalar"
   ]
  },
  {
   "cell_type": "code",
   "execution_count": 4,
   "id": "e532cbfa",
   "metadata": {
    "scrolled": true
   },
   "outputs": [],
   "source": [
    "with open('config.json') as file:\n",
    "    config = json.load(file)"
   ]
  },
  {
   "cell_type": "code",
   "execution_count": 5,
   "id": "3393a7b3",
   "metadata": {},
   "outputs": [],
   "source": [
    "files_folder = config['files_folders']['processed']\n",
    "logs_folder = config['files_folders']['logs']"
   ]
  },
  {
   "cell_type": "code",
   "execution_count": 6,
   "id": "cbfda7cb",
   "metadata": {},
   "outputs": [],
   "source": [
    "logging.basicConfig(level=logging.DEBUG,\n",
    "                    filename=f'{logs_folder}/seasonal_testing.log',\n",
    "                    filemode='w',\n",
    "                    format='%(asctime)s,%(msecs)d %(name)s %(levelname)s %(message)s',\n",
    "                    datefmt='%H:%M:%S')"
   ]
  },
  {
   "cell_type": "markdown",
   "id": "c087b95a",
   "metadata": {},
   "source": [
    "# Reading files"
   ]
  },
  {
   "cell_type": "code",
   "execution_count": 7,
   "id": "23c25f6a",
   "metadata": {},
   "outputs": [],
   "source": [
    "rtsi = pd.read_pickle(f'{files_folder}/rtsi.pkl')"
   ]
  },
  {
   "cell_type": "code",
   "execution_count": 8,
   "id": "4e0f5233",
   "metadata": {},
   "outputs": [
    {
     "data": {
      "text/html": [
       "<div>\n",
       "<style scoped>\n",
       "    .dataframe tbody tr th:only-of-type {\n",
       "        vertical-align: middle;\n",
       "    }\n",
       "\n",
       "    .dataframe tbody tr th {\n",
       "        vertical-align: top;\n",
       "    }\n",
       "\n",
       "    .dataframe thead th {\n",
       "        text-align: right;\n",
       "    }\n",
       "</style>\n",
       "<table border=\"1\" class=\"dataframe\">\n",
       "  <thead>\n",
       "    <tr style=\"text-align: right;\">\n",
       "      <th></th>\n",
       "      <th>&lt;OPEN&gt;</th>\n",
       "      <th>&lt;HIGH&gt;</th>\n",
       "      <th>&lt;LOW&gt;</th>\n",
       "      <th>&lt;CLOSE&gt;</th>\n",
       "      <th>&lt;VOL&gt;</th>\n",
       "      <th>return</th>\n",
       "      <th>log return</th>\n",
       "    </tr>\n",
       "    <tr>\n",
       "      <th>&lt;DATE&gt;</th>\n",
       "      <th></th>\n",
       "      <th></th>\n",
       "      <th></th>\n",
       "      <th></th>\n",
       "      <th></th>\n",
       "      <th></th>\n",
       "      <th></th>\n",
       "    </tr>\n",
       "  </thead>\n",
       "  <tbody>\n",
       "    <tr>\n",
       "      <th>2001-02-18</th>\n",
       "      <td>180.10</td>\n",
       "      <td>180.10</td>\n",
       "      <td>180.10</td>\n",
       "      <td>180.10</td>\n",
       "      <td>0</td>\n",
       "      <td>0.000000</td>\n",
       "      <td>0.000000</td>\n",
       "    </tr>\n",
       "    <tr>\n",
       "      <th>2001-02-19</th>\n",
       "      <td>180.10</td>\n",
       "      <td>181.21</td>\n",
       "      <td>176.67</td>\n",
       "      <td>177.29</td>\n",
       "      <td>0</td>\n",
       "      <td>-0.015602</td>\n",
       "      <td>-0.015725</td>\n",
       "    </tr>\n",
       "    <tr>\n",
       "      <th>2001-02-20</th>\n",
       "      <td>177.29</td>\n",
       "      <td>179.90</td>\n",
       "      <td>175.28</td>\n",
       "      <td>176.45</td>\n",
       "      <td>0</td>\n",
       "      <td>-0.004738</td>\n",
       "      <td>-0.004749</td>\n",
       "    </tr>\n",
       "    <tr>\n",
       "      <th>2001-02-21</th>\n",
       "      <td>176.45</td>\n",
       "      <td>176.45</td>\n",
       "      <td>161.12</td>\n",
       "      <td>162.39</td>\n",
       "      <td>0</td>\n",
       "      <td>-0.079683</td>\n",
       "      <td>-0.083037</td>\n",
       "    </tr>\n",
       "    <tr>\n",
       "      <th>2001-02-22</th>\n",
       "      <td>162.39</td>\n",
       "      <td>168.35</td>\n",
       "      <td>162.39</td>\n",
       "      <td>168.31</td>\n",
       "      <td>0</td>\n",
       "      <td>0.036455</td>\n",
       "      <td>0.035807</td>\n",
       "    </tr>\n",
       "    <tr>\n",
       "      <th>...</th>\n",
       "      <td>...</td>\n",
       "      <td>...</td>\n",
       "      <td>...</td>\n",
       "      <td>...</td>\n",
       "      <td>...</td>\n",
       "      <td>...</td>\n",
       "      <td>...</td>\n",
       "    </tr>\n",
       "    <tr>\n",
       "      <th>2021-10-11</th>\n",
       "      <td>1871.73</td>\n",
       "      <td>1883.71</td>\n",
       "      <td>1867.58</td>\n",
       "      <td>1882.43</td>\n",
       "      <td>1769145502</td>\n",
       "      <td>0.011537</td>\n",
       "      <td>0.011471</td>\n",
       "    </tr>\n",
       "    <tr>\n",
       "      <th>2021-10-12</th>\n",
       "      <td>1867.15</td>\n",
       "      <td>1876.79</td>\n",
       "      <td>1860.64</td>\n",
       "      <td>1869.94</td>\n",
       "      <td>1386130631</td>\n",
       "      <td>-0.006635</td>\n",
       "      <td>-0.006657</td>\n",
       "    </tr>\n",
       "    <tr>\n",
       "      <th>2021-10-13</th>\n",
       "      <td>1869.05</td>\n",
       "      <td>1869.05</td>\n",
       "      <td>1835.80</td>\n",
       "      <td>1855.11</td>\n",
       "      <td>1830447018</td>\n",
       "      <td>-0.007931</td>\n",
       "      <td>-0.007962</td>\n",
       "    </tr>\n",
       "    <tr>\n",
       "      <th>2021-10-14</th>\n",
       "      <td>1875.38</td>\n",
       "      <td>1890.46</td>\n",
       "      <td>1873.37</td>\n",
       "      <td>1875.97</td>\n",
       "      <td>1495256910</td>\n",
       "      <td>0.011245</td>\n",
       "      <td>0.011182</td>\n",
       "    </tr>\n",
       "    <tr>\n",
       "      <th>2021-10-15</th>\n",
       "      <td>1888.52</td>\n",
       "      <td>1893.71</td>\n",
       "      <td>1878.47</td>\n",
       "      <td>1891.56</td>\n",
       "      <td>1305644791</td>\n",
       "      <td>0.008310</td>\n",
       "      <td>0.008276</td>\n",
       "    </tr>\n",
       "  </tbody>\n",
       "</table>\n",
       "<p>5174 rows × 7 columns</p>\n",
       "</div>"
      ],
      "text/plain": [
       "             <OPEN>   <HIGH>    <LOW>  <CLOSE>       <VOL>    return  \\\n",
       "<DATE>                                                                 \n",
       "2001-02-18   180.10   180.10   180.10   180.10           0  0.000000   \n",
       "2001-02-19   180.10   181.21   176.67   177.29           0 -0.015602   \n",
       "2001-02-20   177.29   179.90   175.28   176.45           0 -0.004738   \n",
       "2001-02-21   176.45   176.45   161.12   162.39           0 -0.079683   \n",
       "2001-02-22   162.39   168.35   162.39   168.31           0  0.036455   \n",
       "...             ...      ...      ...      ...         ...       ...   \n",
       "2021-10-11  1871.73  1883.71  1867.58  1882.43  1769145502  0.011537   \n",
       "2021-10-12  1867.15  1876.79  1860.64  1869.94  1386130631 -0.006635   \n",
       "2021-10-13  1869.05  1869.05  1835.80  1855.11  1830447018 -0.007931   \n",
       "2021-10-14  1875.38  1890.46  1873.37  1875.97  1495256910  0.011245   \n",
       "2021-10-15  1888.52  1893.71  1878.47  1891.56  1305644791  0.008310   \n",
       "\n",
       "            log return  \n",
       "<DATE>                  \n",
       "2001-02-18    0.000000  \n",
       "2001-02-19   -0.015725  \n",
       "2001-02-20   -0.004749  \n",
       "2001-02-21   -0.083037  \n",
       "2001-02-22    0.035807  \n",
       "...                ...  \n",
       "2021-10-11    0.011471  \n",
       "2021-10-12   -0.006657  \n",
       "2021-10-13   -0.007962  \n",
       "2021-10-14    0.011182  \n",
       "2021-10-15    0.008276  \n",
       "\n",
       "[5174 rows x 7 columns]"
      ]
     },
     "execution_count": 8,
     "metadata": {},
     "output_type": "execute_result"
    }
   ],
   "source": [
    "rtsi"
   ]
  },
  {
   "cell_type": "code",
   "execution_count": 9,
   "id": "e13f81ab",
   "metadata": {},
   "outputs": [
    {
     "data": {
      "image/png": "[encoded data removed]",
      "text/plain": [
       "<Figure size 864x504 with 1 Axes>"
      ]
     },
     "metadata": {
      "needs_background": "light"
     },
     "output_type": "display_data"
    }
   ],
   "source": [
    "rtsi['log return'].plot(figsize=(12, 7))\n",
    "\n",
    "plt.grid()\n",
    "plt.show()"
   ]
  },
  {
   "cell_type": "code",
   "execution_count": 10,
   "id": "4c70b3e0",
   "metadata": {},
   "outputs": [
    {
     "data": {
      "text/plain": [
       "count    5174.000000\n",
       "mean        0.000455\n",
       "std         0.020327\n",
       "min        -0.211994\n",
       "25%        -0.008822\n",
       "50%         0.001318\n",
       "75%         0.010414\n",
       "max         0.202039\n",
       "Name: log return, dtype: float64"
      ]
     },
     "execution_count": 10,
     "metadata": {},
     "output_type": "execute_result"
    }
   ],
   "source": [
    "rtsi['log return'].describe()"
   ]
  },
  {
   "cell_type": "code",
   "execution_count": 11,
   "id": "975e5ea5",
   "metadata": {},
   "outputs": [],
   "source": [
    "rtsi['day of week'] = rtsi.index.dayofweek + 1"
   ]
  },
  {
   "cell_type": "code",
   "execution_count": 12,
   "id": "5f149fd8",
   "metadata": {},
   "outputs": [
    {
     "data": {
      "text/plain": [
       "<DATE>\n",
       "2001-02-18    7\n",
       "2001-02-19    1\n",
       "2001-02-20    2\n",
       "2001-02-21    3\n",
       "2001-02-22    4\n",
       "             ..\n",
       "2021-10-11    1\n",
       "2021-10-12    2\n",
       "2021-10-13    3\n",
       "2021-10-14    4\n",
       "2021-10-15    5\n",
       "Name: day of week, Length: 5174, dtype: int64"
      ]
     },
     "execution_count": 12,
     "metadata": {},
     "output_type": "execute_result"
    }
   ],
   "source": [
    "rtsi['day of week']"
   ]
  },
  {
   "cell_type": "code",
   "execution_count": 13,
   "id": "85c2331c",
   "metadata": {},
   "outputs": [
    {
     "data": {
      "text/plain": [
       "array([0., 0.])"
      ]
     },
     "execution_count": 13,
     "metadata": {},
     "output_type": "execute_result"
    }
   ],
   "source": [
    "# rtsi['test triangular cluster memb'] = \\\n",
    "calc_trapezoidal_membership_degrees(rtsi['day of week'].values,\n",
    "                                    a=[0, 2],\n",
    "                                    b=[2, 4],\n",
    "                                    c=[2, 4],\n",
    "                                    d=[4, 6])"
   ]
  },
  {
   "cell_type": "markdown",
   "id": "c2c33a08",
   "metadata": {},
   "source": [
    "# Setting data & parameters"
   ]
  },
  {
   "cell_type": "code",
   "execution_count": 14,
   "id": "93b84c0d",
   "metadata": {},
   "outputs": [],
   "source": [
    "rescale_factor = 100"
   ]
  },
  {
   "cell_type": "code",
   "execution_count": 15,
   "id": "8d916844",
   "metadata": {},
   "outputs": [],
   "source": [
    "start_date = '2010-01-01'"
   ]
  },
  {
   "cell_type": "code",
   "execution_count": 16,
   "id": "bb8043ac",
   "metadata": {},
   "outputs": [],
   "source": [
    "input_data = rtsi['log return'].loc[start_date:].copy() * rescale_factor"
   ]
  },
  {
   "cell_type": "code",
   "execution_count": 17,
   "id": "1b2f616e",
   "metadata": {},
   "outputs": [
    {
     "data": {
      "image/png": "[encoded data removed]",
      "text/plain": [
       "<Figure size 864x504 with 1 Axes>"
      ]
     },
     "metadata": {
      "needs_background": "light"
     },
     "output_type": "display_data"
    }
   ],
   "source": [
    "input_data.plot(figsize=(12, 7))\n",
    "\n",
    "plt.grid()\n",
    "plt.show()"
   ]
  },
  {
   "cell_type": "code",
   "execution_count": 18,
   "id": "8bacee25",
   "metadata": {},
   "outputs": [
    {
     "data": {
      "text/plain": [
       "count    2965.000000\n",
       "mean        0.009091\n",
       "std         1.772184\n",
       "min       -13.948614\n",
       "25%        -0.867805\n",
       "50%         0.060068\n",
       "75%         0.920911\n",
       "max        13.246192\n",
       "Name: log return, dtype: float64"
      ]
     },
     "execution_count": 18,
     "metadata": {},
     "output_type": "execute_result"
    }
   ],
   "source": [
    "input_data.describe()"
   ]
  },
  {
   "cell_type": "code",
   "execution_count": 19,
   "id": "b196b8a5",
   "metadata": {},
   "outputs": [],
   "source": [
    "n = input_data.shape[0]"
   ]
  },
  {
   "cell_type": "code",
   "execution_count": 20,
   "id": "95949fa0",
   "metadata": {},
   "outputs": [
    {
     "data": {
      "text/plain": [
       "2965"
      ]
     },
     "execution_count": 20,
     "metadata": {},
     "output_type": "execute_result"
    }
   ],
   "source": [
    "n"
   ]
  },
  {
   "cell_type": "code",
   "execution_count": 21,
   "id": "186767da",
   "metadata": {},
   "outputs": [
    {
     "data": {
      "text/plain": [
       "Int64Index([1, 2, 3, 4, 5, 1, 2, 3, 4, 5,\n",
       "            ...\n",
       "            1, 2, 3, 4, 5, 1, 2, 3, 4, 5],\n",
       "           dtype='int64', name='<DATE>', length=2965)"
      ]
     },
     "execution_count": 21,
     "metadata": {},
     "output_type": "execute_result"
    }
   ],
   "source": [
    "input_data.index.dayofweek + 1"
   ]
  },
  {
   "cell_type": "markdown",
   "id": "91887570",
   "metadata": {},
   "source": [
    "## Train / test split"
   ]
  },
  {
   "cell_type": "code",
   "execution_count": 22,
   "id": "a9d58a35-9402-47dd-95e8-a20939a666a7",
   "metadata": {},
   "outputs": [],
   "source": [
    "n_train = 100  # 2000\n",
    "\n",
    "n_test = 10\n",
    "n_test = min(n - n_train, n_test)"
   ]
  },
  {
   "cell_type": "code",
   "execution_count": 23,
   "id": "7ac51558-282e-42f0-a39b-d7938317f87c",
   "metadata": {},
   "outputs": [],
   "source": [
    "train, test = input_data.iloc[:n_train].copy(), input_data.iloc[n_train:(n_train + n_test)].copy()\n",
    "input_cut = pd.concat([train, test]).copy()\n",
    "# data_to_cluster_train, data_to_cluster_test = days_of_week.iloc[:n_train].copy(), days_of_week.iloc[n_train:].copy()"
   ]
  },
  {
   "cell_type": "code",
   "execution_count": 24,
   "id": "2663e3bf-0d2a-4a08-b821-cfc7c4b0ed31",
   "metadata": {},
   "outputs": [
    {
     "data": {
      "image/png": "[encoded data removed]",
      "text/plain": [
       "<Figure size 432x288 with 1 Axes>"
      ]
     },
     "metadata": {
      "needs_background": "light"
     },
     "output_type": "display_data"
    }
   ],
   "source": [
    "train.plot(label='train')\n",
    "test.plot(label='test')\n",
    "\n",
    "plt.legend()\n",
    "plt.grid()\n",
    "plt.show()"
   ]
  },
  {
   "cell_type": "code",
   "execution_count": 25,
   "id": "cef295e4",
   "metadata": {},
   "outputs": [
    {
     "data": {
      "text/plain": [
       "count    100.000000\n",
       "mean      -0.033298\n",
       "std        2.141924\n",
       "min       -6.113558\n",
       "25%       -1.051010\n",
       "50%        0.314542\n",
       "75%        1.041423\n",
       "max        7.668616\n",
       "Name: log return, dtype: float64"
      ]
     },
     "execution_count": 25,
     "metadata": {},
     "output_type": "execute_result"
    }
   ],
   "source": [
    "train.describe()"
   ]
  },
  {
   "cell_type": "markdown",
   "id": "7ca84f69",
   "metadata": {},
   "source": [
    "## Antecedent parameters"
   ]
  },
  {
   "cell_type": "code",
   "execution_count": 26,
   "id": "6e031eb1",
   "metadata": {},
   "outputs": [],
   "source": [
    "# set #1\n",
    "clusterization_method_1 = 'trapezoidal'\n",
    "\n",
    "n_clusters_1 = 2\n",
    "\n",
    "a = [1, 1]\n",
    "b = [1, 5]\n",
    "c = [1, 5]\n",
    "d = [5, 5]\n",
    "\n",
    "# set #2\n",
    "clusterization_method_2 = 'gaussian'\n",
    "\n",
    "n_clusters_2 = 2\n",
    "\n",
    "# variances = [7, 6, 3, 5]\n",
    "# centers = [-7.5, -1.5, 1.5, 4]\n",
    "variances = [7, 5]\n",
    "centers = [-4.5, 2.5]"
   ]
  },
  {
   "cell_type": "code",
   "execution_count": 27,
   "id": "8237b30d",
   "metadata": {},
   "outputs": [
    {
     "data": {
      "text/plain": [
       "array([0.75, 0.25])"
      ]
     },
     "execution_count": 27,
     "metadata": {},
     "output_type": "execute_result"
    }
   ],
   "source": [
    "# rtsi['test triangular cluster memb'] = \\\n",
    "calc_trapezoidal_membership_degrees(2,\n",
    "                                    a=a,\n",
    "                                    b=b,\n",
    "                                    c=c,\n",
    "                                    d=d)"
   ]
  },
  {
   "cell_type": "code",
   "execution_count": 28,
   "id": "110406b4",
   "metadata": {},
   "outputs": [],
   "source": [
    "clusterization_parameters = [{'a': a, 'b': b, 'c': c, 'd': d, 'n_clusters': n_clusters_1},\n",
    "                             {'centers': centers, 'variances': variances, 'n_clusters': n_clusters_2}]\n",
    "clusterization_methods = [clusterization_method_1, clusterization_method_2]\n",
    "n_clusters = n_clusters_1 * n_clusters_2"
   ]
  },
  {
   "cell_type": "markdown",
   "id": "6ca7a301",
   "metadata": {},
   "source": [
    "## Consequent parameters"
   ]
  },
  {
   "cell_type": "code",
   "execution_count": 29,
   "id": "c2090135",
   "metadata": {},
   "outputs": [],
   "source": [
    "# technical parameters for arch_model function\n",
    "garch_mean = 'Zero'\n",
    "garch_dist = 'normal'\n",
    "\n",
    "# general parameters\n",
    "local_method = 'garch'\n",
    "\n",
    "# GARCH parameters\n",
    "p = 1\n",
    "q = 1\n",
    "\n",
    "starting_index = max(p, q)\n",
    "\n",
    "train_sample_std = train.std()\n",
    "first_h = [train_sample_std ** 2] * starting_index\n",
    "first_h = np.array(first_h)\n",
    "\n",
    "# parameters constraints\n",
    "lower_bounds = [0] * (1 + p + q) * n_clusters\n",
    "upper_bounds = [+np.inf] * n_clusters + [1] * (p + q) * n_clusters\n",
    "bounds = (lower_bounds, upper_bounds)"
   ]
  },
  {
   "cell_type": "markdown",
   "id": "5e456d4e",
   "metadata": {},
   "source": [
    "### Using classic GARCH to get initial parameters values"
   ]
  },
  {
   "cell_type": "code",
   "execution_count": 30,
   "id": "5e2c9284",
   "metadata": {},
   "outputs": [
    {
     "name": "stdout",
     "output_type": "stream",
     "text": [
      "Iteration:      1,   Func. Count:      5,   Neg. LLF: 299.2568988057981\n",
      "Iteration:      2,   Func. Count:     11,   Neg. LLF: 218.16618783247299\n",
      "Iteration:      3,   Func. Count:     19,   Neg. LLF: 216.13038589493937\n",
      "Iteration:      4,   Func. Count:     25,   Neg. LLF: 210.3506174261232\n",
      "Iteration:      5,   Func. Count:     30,   Neg. LLF: 210.03006916424286\n",
      "Iteration:      6,   Func. Count:     34,   Neg. LLF: 210.02991627546388\n",
      "Iteration:      7,   Func. Count:     38,   Neg. LLF: 210.02991515111927\n",
      "Iteration:      8,   Func. Count:     41,   Neg. LLF: 210.0299151508097\n",
      "Optimization terminated successfully    (Exit mode 0)\n",
      "            Current function value: 210.02991515111927\n",
      "            Iterations: 8\n",
      "            Function evaluations: 41\n",
      "            Gradient evaluations: 8\n"
     ]
    }
   ],
   "source": [
    "garch = arch_model(train,\n",
    "                   mean=garch_mean,\n",
    "                   vol='GARCH',\n",
    "                   p=p,\n",
    "                   q=q,\n",
    "                   dist=garch_dist)\n",
    "garch_fitted = garch.fit()"
   ]
  },
  {
   "cell_type": "code",
   "execution_count": 31,
   "id": "626503a0",
   "metadata": {},
   "outputs": [
    {
     "data": {
      "text/plain": [
       "omega       0.176520\n",
       "alpha[1]    0.116376\n",
       "beta[1]     0.836795\n",
       "Name: params, dtype: float64"
      ]
     },
     "execution_count": 31,
     "metadata": {},
     "output_type": "execute_result"
    }
   ],
   "source": [
    "garch_fitted.params"
   ]
  },
  {
   "cell_type": "code",
   "execution_count": 32,
   "id": "51e50f83-cc6b-495c-8900-767a9801c7be",
   "metadata": {},
   "outputs": [],
   "source": [
    "alpha_0_ini = np.array([garch_fitted.params.iloc[0] for _ in range(n_clusters)])\n",
    "alpha_ini = np.array([garch_fitted.params.iloc[1:(q + 1)].values for _ in range(n_clusters)])\n",
    "beta_ini = np.array([garch_fitted.params.iloc[(q + 1):].values for _ in range(n_clusters)])"
   ]
  },
  {
   "cell_type": "code",
   "execution_count": 33,
   "id": "dfcb1d5d",
   "metadata": {},
   "outputs": [],
   "source": [
    "# alpha_0_ini, alpha_ini, beta_ini = unpack_1d_parameters(garch_fitted.params.values, p=p, q=q, n_clusters=n_clusters)"
   ]
  },
  {
   "cell_type": "code",
   "execution_count": 34,
   "id": "452b962e",
   "metadata": {},
   "outputs": [],
   "source": [
    "parameters_ini = {'alpha_0': alpha_0_ini, 'alpha': alpha_ini, 'beta': beta_ini}"
   ]
  },
  {
   "cell_type": "code",
   "execution_count": 35,
   "id": "ce388de6",
   "metadata": {},
   "outputs": [
    {
     "data": {
      "text/plain": [
       "{'alpha_0': array([0.17652034, 0.17652034, 0.17652034, 0.17652034]),\n",
       " 'alpha': array([[0.11637558],\n",
       "        [0.11637558],\n",
       "        [0.11637558],\n",
       "        [0.11637558]]),\n",
       " 'beta': array([[0.8367954],\n",
       "        [0.8367954],\n",
       "        [0.8367954],\n",
       "        [0.8367954]])}"
      ]
     },
     "execution_count": 35,
     "metadata": {},
     "output_type": "execute_result"
    }
   ],
   "source": [
    "parameters_ini"
   ]
  },
  {
   "cell_type": "code",
   "execution_count": 36,
   "id": "92368e86",
   "metadata": {},
   "outputs": [],
   "source": [
    "# # initial parameters values for LS to start with\n",
    "# alpha_0_ini = np.array([garch_fitted.params.loc['omega']] * n_clusters)\n",
    "# alpha_ini = np.array([[1] * n_clusters] * q)\n",
    "# beta_ini = np.array([[1] * n_clusters] * p)\n",
    "# parameters_ini = {'alpha_0': alpha_0_ini, 'alpha': alpha_ini, 'beta': beta_ini}"
   ]
  },
  {
   "cell_type": "code",
   "execution_count": 37,
   "id": "f6680bfe",
   "metadata": {},
   "outputs": [
    {
     "data": {
      "text/plain": [
       "[0.11637558228349601,\n",
       " 0.11637558228349601,\n",
       " 0.11637558228349601,\n",
       " 0.11637558228349601]"
      ]
     },
     "execution_count": 37,
     "metadata": {},
     "output_type": "execute_result"
    }
   ],
   "source": [
    "list(alpha_ini.flatten())"
   ]
  },
  {
   "cell_type": "markdown",
   "id": "45dfbd1c",
   "metadata": {},
   "source": [
    "### Setting dict w/ all consequent parameters"
   ]
  },
  {
   "cell_type": "code",
   "execution_count": 38,
   "id": "0408962b",
   "metadata": {},
   "outputs": [],
   "source": [
    "local_method_parameters = {'p': p, 'q': q, 'mean': garch_mean, 'dist': garch_dist, 'first_h': first_h,\n",
    "                           'bounds': bounds, 'parameters_ini': parameters_ini}"
   ]
  },
  {
   "cell_type": "markdown",
   "id": "705bedc4",
   "metadata": {},
   "source": [
    "## Other params"
   ]
  },
  {
   "cell_type": "code",
   "execution_count": 39,
   "id": "464d7fe9",
   "metadata": {},
   "outputs": [],
   "source": [
    "n_last_points_to_use_for_clustering_1 = 1\n",
    "n_last_points_to_use_for_clustering_2 = 2\n",
    "n_last_points_to_use_for_clustering = [n_last_points_to_use_for_clustering_1, n_last_points_to_use_for_clustering_2]"
   ]
  },
  {
   "cell_type": "code",
   "execution_count": 40,
   "id": "db3e8be4",
   "metadata": {},
   "outputs": [],
   "source": [
    "data_to_cluster_1 = pd.Series(train.index.dayofweek + 1, index=train.index).copy()\n",
    "data_to_cluster_2 = 'train'\n",
    "data_to_cluster = [data_to_cluster_1, data_to_cluster_2]"
   ]
  },
  {
   "cell_type": "code",
   "execution_count": 41,
   "id": "8ca27e06",
   "metadata": {},
   "outputs": [
    {
     "data": {
      "text/plain": [
       "[<DATE>\n",
       " 2010-01-11    1\n",
       " 2010-01-12    2\n",
       " 2010-01-13    3\n",
       " 2010-01-14    4\n",
       " 2010-01-15    5\n",
       "              ..\n",
       " 2010-05-28    5\n",
       " 2010-05-31    1\n",
       " 2010-06-01    2\n",
       " 2010-06-02    3\n",
       " 2010-06-03    4\n",
       " Name: <DATE>, Length: 100, dtype: int64,\n",
       " 'train']"
      ]
     },
     "execution_count": 41,
     "metadata": {},
     "output_type": "execute_result"
    }
   ],
   "source": [
    "data_to_cluster"
   ]
  },
  {
   "cell_type": "code",
   "execution_count": 42,
   "id": "a8cec70d",
   "metadata": {},
   "outputs": [],
   "source": [
    "cluster_sets_conjunction = 'prod'"
   ]
  },
  {
   "cell_type": "code",
   "execution_count": 43,
   "id": "1f88961b",
   "metadata": {},
   "outputs": [],
   "source": [
    "normalize = True"
   ]
  },
  {
   "cell_type": "markdown",
   "id": "cde39427",
   "metadata": {},
   "source": [
    "# Testing clustering"
   ]
  },
  {
   "cell_type": "markdown",
   "id": "1c88de83",
   "metadata": {},
   "source": [
    "## 1d"
   ]
  },
  {
   "cell_type": "code",
   "execution_count": 44,
   "id": "11138fef",
   "metadata": {},
   "outputs": [],
   "source": [
    "x = [data_to_cluster[0], data_to_cluster[0]].copy()\n",
    "methods = clusterization_methods\n",
    "parameters = clusterization_parameters"
   ]
  },
  {
   "cell_type": "code",
   "execution_count": 45,
   "id": "c2100646",
   "metadata": {},
   "outputs": [],
   "source": [
    "clustering_results = []\n",
    "for i, (_x, _method) in enumerate(zip(x, methods)):\n",
    "    _clustering_result = cluster_data_1d(_x,\n",
    "                                         method=_method,\n",
    "                                         parameters=parameters[i] if parameters is not None else None,\n",
    "                                         n_last_points_to_use_for_clustering=n_last_points_to_use_for_clustering[i]\n",
    "                                         if n_last_points_to_use_for_clustering is not None else None)\n",
    "    clustering_results.append(_clustering_result)"
   ]
  },
  {
   "cell_type": "code",
   "execution_count": 46,
   "id": "429244f9",
   "metadata": {},
   "outputs": [
    {
     "data": {
      "text/plain": [
       "[{'parameters': {'a': [1, 1],\n",
       "   'b': [1, 5],\n",
       "   'c': [1, 5],\n",
       "   'd': [5, 5],\n",
       "   'n_clusters': 2},\n",
       "  'membership': array([0.25, 0.75])},\n",
       " {'parameters': {'centers': [-4.5, 2.5], 'variances': [7, 5], 'n_clusters': 2},\n",
       "  'membership': array([2.34703285e-06, 2.47899989e-02], dtype=float128)}]"
      ]
     },
     "execution_count": 46,
     "metadata": {},
     "output_type": "execute_result"
    }
   ],
   "source": [
    "[\n",
    "    cluster_data_1d(_x,\n",
    "                    method=_method,\n",
    "                    parameters=_parameters,\n",
    "                    n_last_points_to_use_for_clustering=_n_last_points_to_use_for_clustering)\n",
    "    for _x, _method, _parameters, _n_last_points_to_use_for_clustering in\n",
    "    zip(x, methods, parameters, n_last_points_to_use_for_clustering)\n",
    "]"
   ]
  },
  {
   "cell_type": "markdown",
   "id": "60faf643",
   "metadata": {},
   "source": [
    "## multidim"
   ]
  },
  {
   "cell_type": "code",
   "execution_count": 153,
   "id": "ce2029e9",
   "metadata": {},
   "outputs": [],
   "source": [
    "n_cluster_sets = 2"
   ]
  },
  {
   "cell_type": "code",
   "execution_count": 175,
   "id": "bef87361",
   "metadata": {},
   "outputs": [],
   "source": [
    "dtc = \\\n",
    "    pd.concat([pd.concat([data_to_cluster[0], data_to_cluster_test[0]]),\n",
    "               pd.concat([train, test])], axis='columns').copy()"
   ]
  },
  {
   "cell_type": "code",
   "execution_count": 198,
   "id": "608ce7ef",
   "metadata": {},
   "outputs": [
    {
     "name": "stdout",
     "output_type": "stream",
     "text": [
      "Help on method rolling in module pandas.core.generic:\n",
      "\n",
      "rolling(window: 'int | timedelta | BaseOffset | BaseIndexer', min_periods: 'int | None' = None, center: 'bool_t' = False, win_type: 'str | None' = None, on: 'str | None' = None, axis: 'Axis' = 0, closed: 'str | None' = None, method: 'str' = 'single') method of pandas.core.frame.DataFrame instance\n",
      "    Provide rolling window calculations.\n",
      "    \n",
      "    Parameters\n",
      "    ----------\n",
      "    window : int, offset, or BaseIndexer subclass\n",
      "        Size of the moving window. This is the number of observations used for\n",
      "        calculating the statistic. Each window will be a fixed size.\n",
      "    \n",
      "        If its an offset then this will be the time period of each window. Each\n",
      "        window will be a variable sized based on the observations included in\n",
      "        the time-period. This is only valid for datetimelike indexes.\n",
      "    \n",
      "        If a BaseIndexer subclass is passed, calculates the window boundaries\n",
      "        based on the defined ``get_window_bounds`` method. Additional rolling\n",
      "        keyword arguments, namely `min_periods`, `center`, and\n",
      "        `closed` will be passed to `get_window_bounds`.\n",
      "    min_periods : int, default None\n",
      "        Minimum number of observations in window required to have a value\n",
      "        (otherwise result is NA). For a window that is specified by an offset,\n",
      "        `min_periods` will default to 1. Otherwise, `min_periods` will default\n",
      "        to the size of the window.\n",
      "    center : bool, default False\n",
      "        Set the labels at the center of the window.\n",
      "    win_type : str, default None\n",
      "        Provide a window type. If ``None``, all points are evenly weighted.\n",
      "        See the notes below for further information.\n",
      "    on : str, optional\n",
      "        For a DataFrame, a datetime-like column or Index level on which\n",
      "        to calculate the rolling window, rather than the DataFrame's index.\n",
      "        Provided integer column is ignored and excluded from result since\n",
      "        an integer index is not used to calculate the rolling window.\n",
      "    axis : int or str, default 0\n",
      "    closed : str, default None\n",
      "        Make the interval closed on the 'right', 'left', 'both' or\n",
      "        'neither' endpoints. Defaults to 'right'.\n",
      "    \n",
      "        .. versionchanged:: 1.2.0\n",
      "    \n",
      "            The closed parameter with fixed windows is now supported.\n",
      "    method : str {'single', 'table'}, default 'single'\n",
      "        Execute the rolling operation per single column or row (``'single'``)\n",
      "        or over the entire object (``'table'``).\n",
      "    \n",
      "        This argument is only implemented when specifying ``engine='numba'``\n",
      "        in the method call.\n",
      "    \n",
      "        .. versionadded:: 1.3.0\n",
      "    \n",
      "    Returns\n",
      "    -------\n",
      "    a Window or Rolling sub-classed for the particular operation\n",
      "    \n",
      "    See Also\n",
      "    --------\n",
      "    expanding : Provides expanding transformations.\n",
      "    ewm : Provides exponential weighted functions.\n",
      "    \n",
      "    Notes\n",
      "    -----\n",
      "    By default, the result is set to the right edge of the window. This can be\n",
      "    changed to the center of the window by setting ``center=True``.\n",
      "    \n",
      "    To learn more about the offsets & frequency strings, please see `this link\n",
      "    <https://pandas.pydata.org/pandas-docs/stable/user_guide/timeseries.html#offset-aliases>`__.\n",
      "    \n",
      "    If ``win_type=None``, all points are evenly weighted; otherwise, ``win_type``\n",
      "    can accept a string of any `scipy.signal window function\n",
      "    <https://docs.scipy.org/doc/scipy/reference/signal.windows.html#module-scipy.signal.windows>`__.\n",
      "    \n",
      "    Certain Scipy window types require additional parameters to be passed\n",
      "    in the aggregation function. The additional parameters must match\n",
      "    the keywords specified in the Scipy window type method signature.\n",
      "    Please see the third example below on how to add the additional parameters.\n",
      "    \n",
      "    Examples\n",
      "    --------\n",
      "    >>> df = pd.DataFrame({'B': [0, 1, 2, np.nan, 4]})\n",
      "    >>> df\n",
      "         B\n",
      "    0  0.0\n",
      "    1  1.0\n",
      "    2  2.0\n",
      "    3  NaN\n",
      "    4  4.0\n",
      "    \n",
      "    Rolling sum with a window length of 2, using the 'triang'\n",
      "    window type.\n",
      "    \n",
      "    >>> df.rolling(2, win_type='triang').sum()\n",
      "         B\n",
      "    0  NaN\n",
      "    1  0.5\n",
      "    2  1.5\n",
      "    3  NaN\n",
      "    4  NaN\n",
      "    \n",
      "    Rolling sum with a window length of 2, using the 'gaussian'\n",
      "    window type (note how we need to specify std).\n",
      "    \n",
      "    >>> df.rolling(2, win_type='gaussian').sum(std=3)\n",
      "              B\n",
      "    0       NaN\n",
      "    1  0.986207\n",
      "    2  2.958621\n",
      "    3       NaN\n",
      "    4       NaN\n",
      "    \n",
      "    Rolling sum with a window length of 2, min_periods defaults\n",
      "    to the window length.\n",
      "    \n",
      "    >>> df.rolling(2).sum()\n",
      "         B\n",
      "    0  NaN\n",
      "    1  1.0\n",
      "    2  3.0\n",
      "    3  NaN\n",
      "    4  NaN\n",
      "    \n",
      "    Same as above, but explicitly set the min_periods\n",
      "    \n",
      "    >>> df.rolling(2, min_periods=1).sum()\n",
      "         B\n",
      "    0  0.0\n",
      "    1  1.0\n",
      "    2  3.0\n",
      "    3  2.0\n",
      "    4  4.0\n",
      "    \n",
      "    Same as above, but with forward-looking windows\n",
      "    \n",
      "    >>> indexer = pd.api.indexers.FixedForwardWindowIndexer(window_size=2)\n",
      "    >>> df.rolling(window=indexer, min_periods=1).sum()\n",
      "         B\n",
      "    0  1.0\n",
      "    1  3.0\n",
      "    2  2.0\n",
      "    3  4.0\n",
      "    4  4.0\n",
      "    \n",
      "    A ragged (meaning not-a-regular frequency), time-indexed DataFrame\n",
      "    \n",
      "    >>> df = pd.DataFrame({'B': [0, 1, 2, np.nan, 4]},\n",
      "    ...                   index = [pd.Timestamp('20130101 09:00:00'),\n",
      "    ...                            pd.Timestamp('20130101 09:00:02'),\n",
      "    ...                            pd.Timestamp('20130101 09:00:03'),\n",
      "    ...                            pd.Timestamp('20130101 09:00:05'),\n",
      "    ...                            pd.Timestamp('20130101 09:00:06')])\n",
      "    \n",
      "    >>> df\n",
      "                           B\n",
      "    2013-01-01 09:00:00  0.0\n",
      "    2013-01-01 09:00:02  1.0\n",
      "    2013-01-01 09:00:03  2.0\n",
      "    2013-01-01 09:00:05  NaN\n",
      "    2013-01-01 09:00:06  4.0\n",
      "    \n",
      "    Contrasting to an integer rolling window, this will roll a variable\n",
      "    length window corresponding to the time period.\n",
      "    The default for min_periods is 1.\n",
      "    \n",
      "    >>> df.rolling('2s').sum()\n",
      "                           B\n",
      "    2013-01-01 09:00:00  0.0\n",
      "    2013-01-01 09:00:02  1.0\n",
      "    2013-01-01 09:00:03  3.0\n",
      "    2013-01-01 09:00:05  NaN\n",
      "    2013-01-01 09:00:06  4.0\n",
      "\n"
     ]
    }
   ],
   "source": [
    "help(dtc.rolling)"
   ]
  },
  {
   "cell_type": "code",
   "execution_count": 195,
   "id": "db248589",
   "metadata": {},
   "outputs": [
    {
     "data": {
      "text/html": [
       "<div>\n",
       "<style scoped>\n",
       "    .dataframe tbody tr th:only-of-type {\n",
       "        vertical-align: middle;\n",
       "    }\n",
       "\n",
       "    .dataframe tbody tr th {\n",
       "        vertical-align: top;\n",
       "    }\n",
       "\n",
       "    .dataframe thead th {\n",
       "        text-align: right;\n",
       "    }\n",
       "</style>\n",
       "<table border=\"1\" class=\"dataframe\">\n",
       "  <thead>\n",
       "    <tr style=\"text-align: right;\">\n",
       "      <th></th>\n",
       "      <th>&lt;DATE&gt;</th>\n",
       "      <th>log return</th>\n",
       "    </tr>\n",
       "    <tr>\n",
       "      <th>&lt;DATE&gt;</th>\n",
       "      <th></th>\n",
       "      <th></th>\n",
       "    </tr>\n",
       "  </thead>\n",
       "  <tbody>\n",
       "    <tr>\n",
       "      <th>2010-05-20</th>\n",
       "      <td>1.0</td>\n",
       "      <td>1.0</td>\n",
       "    </tr>\n",
       "    <tr>\n",
       "      <th>2010-05-21</th>\n",
       "      <td>2.0</td>\n",
       "      <td>2.0</td>\n",
       "    </tr>\n",
       "    <tr>\n",
       "      <th>2010-05-24</th>\n",
       "      <td>3.0</td>\n",
       "      <td>3.0</td>\n",
       "    </tr>\n",
       "    <tr>\n",
       "      <th>2010-05-25</th>\n",
       "      <td>4.0</td>\n",
       "      <td>4.0</td>\n",
       "    </tr>\n",
       "    <tr>\n",
       "      <th>2010-05-26</th>\n",
       "      <td>5.0</td>\n",
       "      <td>5.0</td>\n",
       "    </tr>\n",
       "    <tr>\n",
       "      <th>2010-05-27</th>\n",
       "      <td>6.0</td>\n",
       "      <td>6.0</td>\n",
       "    </tr>\n",
       "    <tr>\n",
       "      <th>2010-05-28</th>\n",
       "      <td>7.0</td>\n",
       "      <td>7.0</td>\n",
       "    </tr>\n",
       "    <tr>\n",
       "      <th>2010-05-31</th>\n",
       "      <td>8.0</td>\n",
       "      <td>8.0</td>\n",
       "    </tr>\n",
       "    <tr>\n",
       "      <th>2010-06-01</th>\n",
       "      <td>9.0</td>\n",
       "      <td>9.0</td>\n",
       "    </tr>\n",
       "    <tr>\n",
       "      <th>2010-06-02</th>\n",
       "      <td>10.0</td>\n",
       "      <td>10.0</td>\n",
       "    </tr>\n",
       "    <tr>\n",
       "      <th>2010-06-03</th>\n",
       "      <td>11.0</td>\n",
       "      <td>11.0</td>\n",
       "    </tr>\n",
       "    <tr>\n",
       "      <th>2010-06-04</th>\n",
       "      <td>12.0</td>\n",
       "      <td>12.0</td>\n",
       "    </tr>\n",
       "    <tr>\n",
       "      <th>2010-06-07</th>\n",
       "      <td>13.0</td>\n",
       "      <td>13.0</td>\n",
       "    </tr>\n",
       "    <tr>\n",
       "      <th>2010-06-08</th>\n",
       "      <td>14.0</td>\n",
       "      <td>14.0</td>\n",
       "    </tr>\n",
       "    <tr>\n",
       "      <th>2010-06-09</th>\n",
       "      <td>15.0</td>\n",
       "      <td>15.0</td>\n",
       "    </tr>\n",
       "    <tr>\n",
       "      <th>2010-06-10</th>\n",
       "      <td>16.0</td>\n",
       "      <td>16.0</td>\n",
       "    </tr>\n",
       "    <tr>\n",
       "      <th>2010-06-11</th>\n",
       "      <td>17.0</td>\n",
       "      <td>17.0</td>\n",
       "    </tr>\n",
       "    <tr>\n",
       "      <th>2010-06-15</th>\n",
       "      <td>18.0</td>\n",
       "      <td>18.0</td>\n",
       "    </tr>\n",
       "    <tr>\n",
       "      <th>2010-06-16</th>\n",
       "      <td>19.0</td>\n",
       "      <td>19.0</td>\n",
       "    </tr>\n",
       "    <tr>\n",
       "      <th>2010-06-17</th>\n",
       "      <td>20.0</td>\n",
       "      <td>20.0</td>\n",
       "    </tr>\n",
       "    <tr>\n",
       "      <th>2010-06-18</th>\n",
       "      <td>21.0</td>\n",
       "      <td>21.0</td>\n",
       "    </tr>\n",
       "  </tbody>\n",
       "</table>\n",
       "</div>"
      ],
      "text/plain": [
       "            <DATE>  log return\n",
       "<DATE>                        \n",
       "2010-05-20     1.0         1.0\n",
       "2010-05-21     2.0         2.0\n",
       "2010-05-24     3.0         3.0\n",
       "2010-05-25     4.0         4.0\n",
       "2010-05-26     5.0         5.0\n",
       "2010-05-27     6.0         6.0\n",
       "2010-05-28     7.0         7.0\n",
       "2010-05-31     8.0         8.0\n",
       "2010-06-01     9.0         9.0\n",
       "2010-06-02    10.0        10.0\n",
       "2010-06-03    11.0        11.0\n",
       "2010-06-04    12.0        12.0\n",
       "2010-06-07    13.0        13.0\n",
       "2010-06-08    14.0        14.0\n",
       "2010-06-09    15.0        15.0\n",
       "2010-06-10    16.0        16.0\n",
       "2010-06-11    17.0        17.0\n",
       "2010-06-15    18.0        18.0\n",
       "2010-06-16    19.0        19.0\n",
       "2010-06-17    20.0        20.0\n",
       "2010-06-18    21.0        21.0"
      ]
     },
     "execution_count": 195,
     "metadata": {},
     "output_type": "execute_result"
    }
   ],
   "source": [
    "dtc.iloc[train.shape[0] - test.shape[0] - 1:].expanding(min_periods=1).apply(lambda _row: _row.shape[0])"
   ]
  },
  {
   "cell_type": "code",
   "execution_count": 204,
   "id": "4db938e7",
   "metadata": {},
   "outputs": [
    {
     "data": {
      "text/html": [
       "<div>\n",
       "<style scoped>\n",
       "    .dataframe tbody tr th:only-of-type {\n",
       "        vertical-align: middle;\n",
       "    }\n",
       "\n",
       "    .dataframe tbody tr th {\n",
       "        vertical-align: top;\n",
       "    }\n",
       "\n",
       "    .dataframe thead th {\n",
       "        text-align: right;\n",
       "    }\n",
       "</style>\n",
       "<table border=\"1\" class=\"dataframe\">\n",
       "  <thead>\n",
       "    <tr style=\"text-align: right;\">\n",
       "      <th></th>\n",
       "      <th>&lt;DATE&gt;</th>\n",
       "      <th>log return</th>\n",
       "    </tr>\n",
       "    <tr>\n",
       "      <th>&lt;DATE&gt;</th>\n",
       "      <th></th>\n",
       "      <th></th>\n",
       "    </tr>\n",
       "  </thead>\n",
       "  <tbody>\n",
       "    <tr>\n",
       "      <th>2010-05-20</th>\n",
       "      <td>1.0</td>\n",
       "      <td>1.0</td>\n",
       "    </tr>\n",
       "    <tr>\n",
       "      <th>2010-05-21</th>\n",
       "      <td>2.0</td>\n",
       "      <td>2.0</td>\n",
       "    </tr>\n",
       "    <tr>\n",
       "      <th>2010-05-24</th>\n",
       "      <td>3.0</td>\n",
       "      <td>3.0</td>\n",
       "    </tr>\n",
       "    <tr>\n",
       "      <th>2010-05-25</th>\n",
       "      <td>4.0</td>\n",
       "      <td>4.0</td>\n",
       "    </tr>\n",
       "    <tr>\n",
       "      <th>2010-05-26</th>\n",
       "      <td>5.0</td>\n",
       "      <td>5.0</td>\n",
       "    </tr>\n",
       "    <tr>\n",
       "      <th>2010-05-27</th>\n",
       "      <td>6.0</td>\n",
       "      <td>6.0</td>\n",
       "    </tr>\n",
       "    <tr>\n",
       "      <th>2010-05-28</th>\n",
       "      <td>7.0</td>\n",
       "      <td>7.0</td>\n",
       "    </tr>\n",
       "    <tr>\n",
       "      <th>2010-05-31</th>\n",
       "      <td>8.0</td>\n",
       "      <td>8.0</td>\n",
       "    </tr>\n",
       "    <tr>\n",
       "      <th>2010-06-01</th>\n",
       "      <td>9.0</td>\n",
       "      <td>9.0</td>\n",
       "    </tr>\n",
       "    <tr>\n",
       "      <th>2010-06-02</th>\n",
       "      <td>10.0</td>\n",
       "      <td>10.0</td>\n",
       "    </tr>\n",
       "    <tr>\n",
       "      <th>2010-06-03</th>\n",
       "      <td>10.0</td>\n",
       "      <td>10.0</td>\n",
       "    </tr>\n",
       "    <tr>\n",
       "      <th>2010-06-04</th>\n",
       "      <td>10.0</td>\n",
       "      <td>10.0</td>\n",
       "    </tr>\n",
       "    <tr>\n",
       "      <th>2010-06-07</th>\n",
       "      <td>10.0</td>\n",
       "      <td>10.0</td>\n",
       "    </tr>\n",
       "    <tr>\n",
       "      <th>2010-06-08</th>\n",
       "      <td>10.0</td>\n",
       "      <td>10.0</td>\n",
       "    </tr>\n",
       "    <tr>\n",
       "      <th>2010-06-09</th>\n",
       "      <td>10.0</td>\n",
       "      <td>10.0</td>\n",
       "    </tr>\n",
       "    <tr>\n",
       "      <th>2010-06-10</th>\n",
       "      <td>10.0</td>\n",
       "      <td>10.0</td>\n",
       "    </tr>\n",
       "    <tr>\n",
       "      <th>2010-06-11</th>\n",
       "      <td>10.0</td>\n",
       "      <td>10.0</td>\n",
       "    </tr>\n",
       "    <tr>\n",
       "      <th>2010-06-15</th>\n",
       "      <td>10.0</td>\n",
       "      <td>10.0</td>\n",
       "    </tr>\n",
       "    <tr>\n",
       "      <th>2010-06-16</th>\n",
       "      <td>10.0</td>\n",
       "      <td>10.0</td>\n",
       "    </tr>\n",
       "    <tr>\n",
       "      <th>2010-06-17</th>\n",
       "      <td>10.0</td>\n",
       "      <td>10.0</td>\n",
       "    </tr>\n",
       "    <tr>\n",
       "      <th>2010-06-18</th>\n",
       "      <td>10.0</td>\n",
       "      <td>10.0</td>\n",
       "    </tr>\n",
       "  </tbody>\n",
       "</table>\n",
       "</div>"
      ],
      "text/plain": [
       "            <DATE>  log return\n",
       "<DATE>                        \n",
       "2010-05-20     1.0         1.0\n",
       "2010-05-21     2.0         2.0\n",
       "2010-05-24     3.0         3.0\n",
       "2010-05-25     4.0         4.0\n",
       "2010-05-26     5.0         5.0\n",
       "2010-05-27     6.0         6.0\n",
       "2010-05-28     7.0         7.0\n",
       "2010-05-31     8.0         8.0\n",
       "2010-06-01     9.0         9.0\n",
       "2010-06-02    10.0        10.0\n",
       "2010-06-03    10.0        10.0\n",
       "2010-06-04    10.0        10.0\n",
       "2010-06-07    10.0        10.0\n",
       "2010-06-08    10.0        10.0\n",
       "2010-06-09    10.0        10.0\n",
       "2010-06-10    10.0        10.0\n",
       "2010-06-11    10.0        10.0\n",
       "2010-06-15    10.0        10.0\n",
       "2010-06-16    10.0        10.0\n",
       "2010-06-17    10.0        10.0\n",
       "2010-06-18    10.0        10.0"
      ]
     },
     "execution_count": 204,
     "metadata": {},
     "output_type": "execute_result"
    }
   ],
   "source": [
    "dtc.iloc[train.shape[0] - test.shape[0] - 1:].rolling(10, min_periods=1).apply(lambda _row: _row.shape[0])"
   ]
  },
  {
   "cell_type": "code",
   "execution_count": 176,
   "id": "c5492eee",
   "metadata": {},
   "outputs": [
    {
     "data": {
      "text/html": [
       "<div>\n",
       "<style scoped>\n",
       "    .dataframe tbody tr th:only-of-type {\n",
       "        vertical-align: middle;\n",
       "    }\n",
       "\n",
       "    .dataframe tbody tr th {\n",
       "        vertical-align: top;\n",
       "    }\n",
       "\n",
       "    .dataframe thead th {\n",
       "        text-align: right;\n",
       "    }\n",
       "</style>\n",
       "<table border=\"1\" class=\"dataframe\">\n",
       "  <thead>\n",
       "    <tr style=\"text-align: right;\">\n",
       "      <th></th>\n",
       "      <th>&lt;DATE&gt;</th>\n",
       "      <th>log return</th>\n",
       "    </tr>\n",
       "    <tr>\n",
       "      <th>&lt;DATE&gt;</th>\n",
       "      <th></th>\n",
       "      <th></th>\n",
       "    </tr>\n",
       "  </thead>\n",
       "  <tbody>\n",
       "    <tr>\n",
       "      <th>2010-01-11</th>\n",
       "      <td>1</td>\n",
       "      <td>7.668616</td>\n",
       "    </tr>\n",
       "    <tr>\n",
       "      <th>2010-01-12</th>\n",
       "      <td>2</td>\n",
       "      <td>-2.421124</td>\n",
       "    </tr>\n",
       "    <tr>\n",
       "      <th>2010-01-13</th>\n",
       "      <td>3</td>\n",
       "      <td>1.932676</td>\n",
       "    </tr>\n",
       "    <tr>\n",
       "      <th>2010-01-14</th>\n",
       "      <td>4</td>\n",
       "      <td>0.874942</td>\n",
       "    </tr>\n",
       "    <tr>\n",
       "      <th>2010-01-15</th>\n",
       "      <td>5</td>\n",
       "      <td>-0.491052</td>\n",
       "    </tr>\n",
       "    <tr>\n",
       "      <th>...</th>\n",
       "      <td>...</td>\n",
       "      <td>...</td>\n",
       "    </tr>\n",
       "    <tr>\n",
       "      <th>2010-06-11</th>\n",
       "      <td>5</td>\n",
       "      <td>-0.601688</td>\n",
       "    </tr>\n",
       "    <tr>\n",
       "      <th>2010-06-15</th>\n",
       "      <td>2</td>\n",
       "      <td>3.508624</td>\n",
       "    </tr>\n",
       "    <tr>\n",
       "      <th>2010-06-16</th>\n",
       "      <td>3</td>\n",
       "      <td>-0.205114</td>\n",
       "    </tr>\n",
       "    <tr>\n",
       "      <th>2010-06-17</th>\n",
       "      <td>4</td>\n",
       "      <td>-0.018538</td>\n",
       "    </tr>\n",
       "    <tr>\n",
       "      <th>2010-06-18</th>\n",
       "      <td>5</td>\n",
       "      <td>0.693539</td>\n",
       "    </tr>\n",
       "  </tbody>\n",
       "</table>\n",
       "<p>110 rows × 2 columns</p>\n",
       "</div>"
      ],
      "text/plain": [
       "            <DATE>  log return\n",
       "<DATE>                        \n",
       "2010-01-11       1    7.668616\n",
       "2010-01-12       2   -2.421124\n",
       "2010-01-13       3    1.932676\n",
       "2010-01-14       4    0.874942\n",
       "2010-01-15       5   -0.491052\n",
       "...            ...         ...\n",
       "2010-06-11       5   -0.601688\n",
       "2010-06-15       2    3.508624\n",
       "2010-06-16       3   -0.205114\n",
       "2010-06-17       4   -0.018538\n",
       "2010-06-18       5    0.693539\n",
       "\n",
       "[110 rows x 2 columns]"
      ]
     },
     "execution_count": 176,
     "metadata": {},
     "output_type": "execute_result"
    }
   ],
   "source": [
    "dtc"
   ]
  },
  {
   "cell_type": "code",
   "execution_count": 156,
   "id": "dc9e681d",
   "metadata": {},
   "outputs": [
    {
     "name": "stderr",
     "output_type": "stream",
     "text": [
      "/Users/vladimirsviyazov/Documents/Study postgraduate/Thesis/fuzzy-volatility-modeling/clusterization/all_methods.py:43: VisibleDeprecationWarning: Creating an ndarray from ragged nested sequences (which is a list-or-tuple of lists-or-tuples-or ndarrays with different lengths or shapes) is deprecated. If you meant to do this, you must specify 'dtype=object' when creating the ndarray.\n",
      "  (type(x) is list and array(x).dtype != object and len(array(x).shape) == 1) or \\\n"
     ]
    },
    {
     "ename": "AttributeError",
     "evalue": "'str' object has no attribute 'copy'",
     "output_type": "error",
     "traceback": [
      "\u001b[0;31m---------------------------------------------------------------------------\u001b[0m",
      "\u001b[0;31mAttributeError\u001b[0m                            Traceback (most recent call last)",
      "\u001b[0;32m/var/folders/wp/ypx6h8352xv06355zp13dlx40000gn/T/ipykernel_22129/2547102433.py\u001b[0m in \u001b[0;36m<module>\u001b[0;34m\u001b[0m\n\u001b[0;32m----> 1\u001b[0;31m cluster_data(data_to_cluster,\n\u001b[0m\u001b[1;32m      2\u001b[0m              \u001b[0mmethods\u001b[0m\u001b[0;34m=\u001b[0m\u001b[0mclusterization_methods\u001b[0m\u001b[0;34m,\u001b[0m\u001b[0;34m\u001b[0m\u001b[0;34m\u001b[0m\u001b[0m\n\u001b[1;32m      3\u001b[0m              \u001b[0mparameters\u001b[0m\u001b[0;34m=\u001b[0m\u001b[0mclusterization_parameters\u001b[0m\u001b[0;34m,\u001b[0m\u001b[0;34m\u001b[0m\u001b[0;34m\u001b[0m\u001b[0m\n\u001b[1;32m      4\u001b[0m              \u001b[0mn_last_points_to_use_for_clustering\u001b[0m\u001b[0;34m=\u001b[0m\u001b[0;34m\u001b[0m\u001b[0;34m\u001b[0m\u001b[0m\n\u001b[1;32m      5\u001b[0m              \u001b[0mn_last_points_to_use_for_clustering\u001b[0m\u001b[0;34m,\u001b[0m\u001b[0;34m\u001b[0m\u001b[0;34m\u001b[0m\u001b[0m\n",
      "\u001b[0;32m~/Documents/Study postgraduate/Thesis/fuzzy-volatility-modeling/clusterization/all_methods.py\u001b[0m in \u001b[0;36mcluster_data\u001b[0;34m(x, methods, parameters, n_last_points_to_use_for_clustering, conjunction, n_sets, normalize)\u001b[0m\n\u001b[1;32m     83\u001b[0m \u001b[0;34m\u001b[0m\u001b[0m\n\u001b[1;32m     84\u001b[0m     \u001b[0mclustering_results\u001b[0m \u001b[0;34m=\u001b[0m\u001b[0;31m \u001b[0m\u001b[0;31m\\\u001b[0m\u001b[0;34m\u001b[0m\u001b[0;34m\u001b[0m\u001b[0m\n\u001b[0;32m---> 85\u001b[0;31m         [\n\u001b[0m\u001b[1;32m     86\u001b[0m             cluster_data_1d(_x,\n\u001b[1;32m     87\u001b[0m                             \u001b[0mmethod\u001b[0m\u001b[0;34m=\u001b[0m\u001b[0m_method\u001b[0m\u001b[0;34m,\u001b[0m\u001b[0;34m\u001b[0m\u001b[0;34m\u001b[0m\u001b[0m\n",
      "\u001b[0;32m~/Documents/Study postgraduate/Thesis/fuzzy-volatility-modeling/clusterization/all_methods.py\u001b[0m in \u001b[0;36m<listcomp>\u001b[0;34m(.0)\u001b[0m\n\u001b[1;32m     84\u001b[0m     \u001b[0mclustering_results\u001b[0m \u001b[0;34m=\u001b[0m\u001b[0;31m \u001b[0m\u001b[0;31m\\\u001b[0m\u001b[0;34m\u001b[0m\u001b[0;34m\u001b[0m\u001b[0m\n\u001b[1;32m     85\u001b[0m         [\n\u001b[0;32m---> 86\u001b[0;31m             cluster_data_1d(_x,\n\u001b[0m\u001b[1;32m     87\u001b[0m                             \u001b[0mmethod\u001b[0m\u001b[0;34m=\u001b[0m\u001b[0m_method\u001b[0m\u001b[0;34m,\u001b[0m\u001b[0;34m\u001b[0m\u001b[0;34m\u001b[0m\u001b[0m\n\u001b[1;32m     88\u001b[0m                             \u001b[0mparameters\u001b[0m\u001b[0;34m=\u001b[0m\u001b[0m_parameters\u001b[0m\u001b[0;34m,\u001b[0m\u001b[0;34m\u001b[0m\u001b[0;34m\u001b[0m\u001b[0m\n",
      "\u001b[0;32m~/Documents/Study postgraduate/Thesis/fuzzy-volatility-modeling/clusterization/all_methods.py\u001b[0m in \u001b[0;36mcluster_data_1d\u001b[0;34m(x, method, parameters, n_last_points_to_use_for_clustering, normalize)\u001b[0m\n\u001b[1;32m    133\u001b[0m \u001b[0;34m\u001b[0m\u001b[0m\n\u001b[1;32m    134\u001b[0m     \u001b[0mslc\u001b[0m \u001b[0;34m=\u001b[0m \u001b[0mslice\u001b[0m\u001b[0;34m(\u001b[0m\u001b[0;34m-\u001b[0m\u001b[0mn_last_points_to_use_for_clustering\u001b[0m \u001b[0;32mif\u001b[0m \u001b[0mn_last_points_to_use_for_clustering\u001b[0m \u001b[0;32mis\u001b[0m \u001b[0;32mnot\u001b[0m \u001b[0;32mNone\u001b[0m \u001b[0;32melse\u001b[0m \u001b[0;32mNone\u001b[0m\u001b[0;34m,\u001b[0m \u001b[0;32mNone\u001b[0m\u001b[0;34m)\u001b[0m\u001b[0;34m\u001b[0m\u001b[0;34m\u001b[0m\u001b[0m\n\u001b[0;32m--> 135\u001b[0;31m     \u001b[0mx_sliced\u001b[0m \u001b[0;34m=\u001b[0m \u001b[0mx\u001b[0m\u001b[0;34m[\u001b[0m\u001b[0mslc\u001b[0m\u001b[0;34m]\u001b[0m\u001b[0;34m.\u001b[0m\u001b[0mcopy\u001b[0m\u001b[0;34m(\u001b[0m\u001b[0;34m)\u001b[0m\u001b[0;34m\u001b[0m\u001b[0;34m\u001b[0m\u001b[0m\n\u001b[0m\u001b[1;32m    136\u001b[0m     \u001b[0mn\u001b[0m \u001b[0;34m=\u001b[0m \u001b[0mlen\u001b[0m\u001b[0;34m(\u001b[0m\u001b[0mx_sliced\u001b[0m\u001b[0;34m)\u001b[0m\u001b[0;34m\u001b[0m\u001b[0;34m\u001b[0m\u001b[0m\n\u001b[1;32m    137\u001b[0m \u001b[0;34m\u001b[0m\u001b[0m\n",
      "\u001b[0;31mAttributeError\u001b[0m: 'str' object has no attribute 'copy'"
     ]
    }
   ],
   "source": [
    "cluster_data(data_to_cluster,\n",
    "             methods=clusterization_methods,\n",
    "             parameters=clusterization_parameters,\n",
    "             n_last_points_to_use_for_clustering=\n",
    "             n_last_points_to_use_for_clustering,\n",
    "             conjunction=cluster_sets_conjunction,\n",
    "             n_sets=n_cluster_sets,\n",
    "             normalize=normalize)"
   ]
  },
  {
   "cell_type": "code",
   "execution_count": null,
   "id": "0ba8a7fe",
   "metadata": {},
   "outputs": [],
   "source": []
  },
  {
   "cell_type": "markdown",
   "id": "beac442d",
   "metadata": {},
   "source": [
    "# Testing `FuzzyVolatilityModel` class"
   ]
  },
  {
   "cell_type": "code",
   "execution_count": 47,
   "id": "260be1ca",
   "metadata": {},
   "outputs": [],
   "source": [
    "fvm = FuzzyVolatilityModel(train,\n",
    "                           clusterization_method=clusterization_methods,\n",
    "                           clusterization_parameters=clusterization_parameters,\n",
    "                           local_method=local_method,\n",
    "                           local_method_parameters=local_method_parameters,\n",
    "                           n_last_points_to_use_for_clustering=n_last_points_to_use_for_clustering,\n",
    "                           data_to_cluster=data_to_cluster,\n",
    "                           cluster_sets_conjunction=cluster_sets_conjunction,\n",
    "                           normalize=normalize)"
   ]
  },
  {
   "cell_type": "markdown",
   "id": "bc2d8777",
   "metadata": {},
   "source": [
    "## `fit`"
   ]
  },
  {
   "cell_type": "code",
   "execution_count": 48,
   "id": "4b36f4f5",
   "metadata": {
    "scrolled": true
   },
   "outputs": [
    {
     "name": "stdout",
     "output_type": "stream",
     "text": [
      "CPU times: user 19.5 s, sys: 648 ms, total: 20.2 s\n",
      "Wall time: 23.1 s\n"
     ]
    }
   ],
   "source": [
    "%%time\n",
    "\n",
    "fvm.fit()"
   ]
  },
  {
   "cell_type": "code",
   "execution_count": 49,
   "id": "1181eb98",
   "metadata": {},
   "outputs": [
    {
     "data": {
      "text/plain": [
       "[1, 2]"
      ]
     },
     "execution_count": 49,
     "metadata": {},
     "output_type": "execute_result"
    }
   ],
   "source": [
    "n_last_points_to_use_for_clustering"
   ]
  },
  {
   "cell_type": "code",
   "execution_count": 50,
   "id": "e2382e9a",
   "metadata": {},
   "outputs": [
    {
     "name": "stdout",
     "output_type": "stream",
     "text": [
      "1\n",
      "2\n"
     ]
    }
   ],
   "source": [
    "for i, (_x, _method) in enumerate(zip(data_to_cluster, clusterization_methods)):\n",
    "    print(n_last_points_to_use_for_clustering[i])"
   ]
  },
  {
   "cell_type": "code",
   "execution_count": null,
   "id": "7a2d8f48",
   "metadata": {},
   "outputs": [],
   "source": []
  },
  {
   "cell_type": "code",
   "execution_count": 51,
   "id": "7fc6ae22",
   "metadata": {},
   "outputs": [
    {
     "data": {
      "text/plain": [
       "array([0.01300959, 1.53008699, 1.30142911, 0.0250026 ], dtype=float128)"
      ]
     },
     "execution_count": 51,
     "metadata": {},
     "output_type": "execute_result"
    }
   ],
   "source": [
    "fvm.alpha_0"
   ]
  },
  {
   "cell_type": "code",
   "execution_count": 52,
   "id": "729fe037",
   "metadata": {},
   "outputs": [
    {
     "data": {
      "text/plain": [
       "array([[0.09101356, 0.09101476, 0.09101359, 0.09101731]], dtype=float128)"
      ]
     },
     "execution_count": 52,
     "metadata": {},
     "output_type": "execute_result"
    }
   ],
   "source": [
    "fvm.alpha"
   ]
  },
  {
   "cell_type": "code",
   "execution_count": 53,
   "id": "9823112d",
   "metadata": {},
   "outputs": [
    {
     "data": {
      "text/plain": [
       "array([[0.80181758, 0.80182204, 0.80181669, 0.80183396]], dtype=float128)"
      ]
     },
     "execution_count": 53,
     "metadata": {},
     "output_type": "execute_result"
    }
   ],
   "source": [
    "fvm.beta"
   ]
  },
  {
   "cell_type": "code",
   "execution_count": 54,
   "id": "9eadd7b4",
   "metadata": {},
   "outputs": [
    {
     "data": {
      "text/plain": [
       "omega       0.176520\n",
       "alpha[1]    0.116376\n",
       "beta[1]     0.836795\n",
       "Name: params, dtype: float64"
      ]
     },
     "execution_count": 54,
     "metadata": {},
     "output_type": "execute_result"
    }
   ],
   "source": [
    "garch_fitted.params"
   ]
  },
  {
   "cell_type": "code",
   "execution_count": 55,
   "id": "92f4ba8c",
   "metadata": {},
   "outputs": [
    {
     "data": {
      "text/plain": [
       "[{'alpha_0': array([0.01300959, 1.53008699, 1.30142911, 0.0250026 ], dtype=float128),\n",
       "  'alpha': array([[0.09101356, 0.09101476, 0.09101359, 0.09101731]], dtype=float128),\n",
       "  'beta': array([[0.80181758, 0.80182204, 0.80181669, 0.80183396]], dtype=float128)}]"
      ]
     },
     "execution_count": 55,
     "metadata": {},
     "output_type": "execute_result"
    }
   ],
   "source": [
    "fvm._parameters_hist"
   ]
  },
  {
   "cell_type": "code",
   "execution_count": 56,
   "id": "ba8d0b58",
   "metadata": {},
   "outputs": [
    {
     "data": {
      "text/plain": [
       "array([0.00425907, 0.24574093, 0.0127772 , 0.7372228 ], dtype=float128)"
      ]
     },
     "execution_count": 56,
     "metadata": {},
     "output_type": "execute_result"
    }
   ],
   "source": [
    "fvm.membership_degrees_current"
   ]
  },
  {
   "cell_type": "code",
   "execution_count": 57,
   "id": "95daa841",
   "metadata": {},
   "outputs": [
    {
     "data": {
      "text/plain": [
       "{'n_clusters': 4,\n",
       " 'params by sets': [{'a': [1, 1],\n",
       "   'b': [1, 5],\n",
       "   'c': [1, 5],\n",
       "   'd': [5, 5],\n",
       "   'n_clusters': 2},\n",
       "  {'centers': [-4.5, 2.5], 'variances': [7, 5], 'n_clusters': 2}]}"
      ]
     },
     "execution_count": 57,
     "metadata": {},
     "output_type": "execute_result"
    }
   ],
   "source": [
    "fvm.clusters_parameters_current"
   ]
  },
  {
   "cell_type": "code",
   "execution_count": 58,
   "id": "8ff2905d",
   "metadata": {},
   "outputs": [
    {
     "data": {
      "text/plain": [
       "[<DATE>\n",
       " 2010-01-11    1\n",
       " 2010-01-12    2\n",
       " 2010-01-13    3\n",
       " 2010-01-14    4\n",
       " 2010-01-15    5\n",
       "              ..\n",
       " 2010-05-28    5\n",
       " 2010-05-31    1\n",
       " 2010-06-01    2\n",
       " 2010-06-02    3\n",
       " 2010-06-03    4\n",
       " Name: <DATE>, Length: 100, dtype: int64,\n",
       " 'train']"
      ]
     },
     "execution_count": 58,
     "metadata": {},
     "output_type": "execute_result"
    }
   ],
   "source": [
    "data_to_cluster"
   ]
  },
  {
   "cell_type": "code",
   "execution_count": 59,
   "id": "8b59fa2a",
   "metadata": {},
   "outputs": [
    {
     "data": {
      "text/plain": [
       "[array([0.00425907, 0.24574093, 0.0127772 , 0.7372228 ], dtype=float128)]"
      ]
     },
     "execution_count": 59,
     "metadata": {},
     "output_type": "execute_result"
    }
   ],
   "source": [
    "fvm._membership_degrees_hist"
   ]
  },
  {
   "cell_type": "code",
   "execution_count": 60,
   "id": "65797f16",
   "metadata": {},
   "outputs": [
    {
     "data": {
      "text/plain": [
       "<DATE>\n",
       "2010-01-11    7.668616\n",
       "2010-01-12   -2.421124\n",
       "2010-01-13    1.932676\n",
       "2010-01-14    0.874942\n",
       "2010-01-15   -0.491052\n",
       "                ...   \n",
       "2010-05-28   -0.129833\n",
       "2010-05-31    1.718848\n",
       "2010-06-01   -1.069901\n",
       "2010-06-02    1.570084\n",
       "2010-06-03    0.310364\n",
       "Name: log return, Length: 100, dtype: float64"
      ]
     },
     "execution_count": 60,
     "metadata": {},
     "output_type": "execute_result"
    }
   ],
   "source": [
    "fvm.train_data"
   ]
  },
  {
   "cell_type": "markdown",
   "id": "24485114",
   "metadata": {},
   "source": [
    "## `forecast`"
   ]
  },
  {
   "cell_type": "code",
   "execution_count": 61,
   "id": "271546e8",
   "metadata": {},
   "outputs": [],
   "source": [
    "fvm.forecast()"
   ]
  },
  {
   "cell_type": "code",
   "execution_count": 62,
   "id": "9288a4dd",
   "metadata": {},
   "outputs": [
    {
     "data": {
      "text/plain": [
       "4.888326081739498438"
      ]
     },
     "execution_count": 62,
     "metadata": {},
     "output_type": "execute_result"
    }
   ],
   "source": [
    "fvm.current_output"
   ]
  },
  {
   "cell_type": "code",
   "execution_count": 63,
   "id": "7fd72d43",
   "metadata": {},
   "outputs": [
    {
     "data": {
      "text/plain": [
       "[4.888326081739498438]"
      ]
     },
     "execution_count": 63,
     "metadata": {},
     "output_type": "execute_result"
    }
   ],
   "source": [
    "fvm._hist_output"
   ]
  },
  {
   "cell_type": "code",
   "execution_count": 64,
   "id": "f71d8f81",
   "metadata": {
    "scrolled": true
   },
   "outputs": [
    {
     "data": {
      "image/png": "[encoded data removed]",
      "text/plain": [
       "<Figure size 432x288 with 1 Axes>"
      ]
     },
     "metadata": {
      "needs_background": "light"
     },
     "output_type": "display_data"
    }
   ],
   "source": [
    "plt.plot(fvm.h ** .5, label='sqrt(h_t)')\n",
    "plt.plot(train.values, label='y_t')\n",
    "\n",
    "plt.legend()\n",
    "plt.grid()\n",
    "plt.show()"
   ]
  },
  {
   "cell_type": "code",
   "execution_count": 65,
   "id": "10777818",
   "metadata": {},
   "outputs": [
    {
     "data": {
      "text/plain": [
       "array([4.58784044, 9.4422688 , 8.5157479 , 7.57927839, 6.5580953 ,\n",
       "       5.69155096, 5.19704772, 4.59723419, 4.5297512 , 4.39278773,\n",
       "       4.74432821, 4.24862401, 4.77250743, 4.26094335, 3.8523765 ,\n",
       "       3.51469073, 3.30886344, 3.43811854, 3.17715631, 4.75932932,\n",
       "       4.66216042, 4.4927555 , 4.09321163, 3.74804436, 3.48194087,\n",
       "       3.78225742, 3.49809571, 4.26574788, 3.8346964 , 3.53561579,\n",
       "       3.27662157, 3.13897438, 3.28315637, 3.13909582, 2.95193947,\n",
       "       3.02846488, 2.98442562, 2.97021977, 2.83826737, 3.20735576,\n",
       "       3.01578432, 2.82994181, 2.69798961, 2.83813089, 2.75157463,\n",
       "       2.79452251, 2.84050612, 2.69347777, 2.66197253, 2.59924066,\n",
       "       2.49981029, 2.50472816, 2.44214963, 2.42161428, 2.82020526,\n",
       "       2.70281532, 2.60429555, 3.02547456, 2.86277615, 2.74338418,\n",
       "       2.62304386, 2.71764391, 2.59183747, 2.66935244, 2.66083964,\n",
       "       2.54562017, 2.74112505, 2.62366428, 3.10003909, 3.11887002,\n",
       "       3.02079535, 2.93058355, 2.82354199, 2.74565085, 2.70337565,\n",
       "       3.19208723, 3.05838916, 3.03817164, 2.94071923, 4.48285655,\n",
       "       4.34622107, 6.00987204, 6.08036424, 7.14612475, 7.46579637,\n",
       "       6.54226576, 6.03241698, 5.34863195, 4.70809312, 4.87802454,\n",
       "       7.72427108, 6.61259519, 5.77512656, 7.66240483, 8.14150426,\n",
       "       9.37233325, 7.92768065, 7.03668255, 6.15753558, 5.5727937 ,\n",
       "       4.88832608], dtype=float128)"
      ]
     },
     "execution_count": 65,
     "metadata": {},
     "output_type": "execute_result"
    }
   ],
   "source": [
    "fvm.h"
   ]
  },
  {
   "cell_type": "markdown",
   "id": "ae1b59cc",
   "metadata": {},
   "source": [
    "## `feed_daily_data`"
   ]
  },
  {
   "cell_type": "code",
   "execution_count": 66,
   "id": "1c0d81c6",
   "metadata": {},
   "outputs": [],
   "source": [
    "n_test_small = 10\n",
    "test_small = test.iloc[:n_test_small].copy()\n",
    "input_cut = pd.concat([train, test_small]).copy()\n",
    "\n",
    "data_to_cluster_test_1 = pd.Series(test_small.index.dayofweek + 1, index=test_small.index).copy()\n",
    "data_to_cluster_test_2 = 'train'\n",
    "data_to_cluster_test = [data_to_cluster_test_1, data_to_cluster_test_2]\n",
    "# data_to_cluster = test_small.index.dayofweek + 1\n",
    "# data_to_cluster = pd.Series(data_to_cluster, index=test_small.index)"
   ]
  },
  {
   "cell_type": "code",
   "execution_count": 67,
   "id": "e0a7dbb8",
   "metadata": {},
   "outputs": [
    {
     "data": {
      "text/plain": [
       "[<DATE>\n",
       " 2010-06-04    5\n",
       " 2010-06-07    1\n",
       " 2010-06-08    2\n",
       " 2010-06-09    3\n",
       " 2010-06-10    4\n",
       " 2010-06-11    5\n",
       " 2010-06-15    2\n",
       " 2010-06-16    3\n",
       " 2010-06-17    4\n",
       " 2010-06-18    5\n",
       " Name: <DATE>, dtype: int64,\n",
       " 'train']"
      ]
     },
     "execution_count": 67,
     "metadata": {},
     "output_type": "execute_result"
    }
   ],
   "source": [
    "data_to_cluster_test"
   ]
  },
  {
   "cell_type": "code",
   "execution_count": 68,
   "id": "28f68afa",
   "metadata": {},
   "outputs": [
    {
     "data": {
      "text/plain": [
       "[array([0.00425907, 0.24574093, 0.0127772 , 0.7372228 ], dtype=float128)]"
      ]
     },
     "execution_count": 68,
     "metadata": {},
     "output_type": "execute_result"
    }
   ],
   "source": [
    "fvm._membership_degrees_hist"
   ]
  },
  {
   "cell_type": "code",
   "execution_count": 69,
   "id": "4c563a2e",
   "metadata": {
    "scrolled": true
   },
   "outputs": [
    {
     "name": "stdout",
     "output_type": "stream",
     "text": [
      "CPU times: user 3min 4s, sys: 5.31 s, total: 3min 9s\n",
      "Wall time: 3min 13s\n"
     ]
    }
   ],
   "source": [
    "%%time\n",
    "\n",
    "fvm.feed_daily_data(test_small, data_to_cluster=data_to_cluster_test)"
   ]
  },
  {
   "cell_type": "code",
   "execution_count": 70,
   "id": "4e485217",
   "metadata": {},
   "outputs": [
    {
     "data": {
      "text/html": [
       "<div>\n",
       "<style scoped>\n",
       "    .dataframe tbody tr th:only-of-type {\n",
       "        vertical-align: middle;\n",
       "    }\n",
       "\n",
       "    .dataframe tbody tr th {\n",
       "        vertical-align: top;\n",
       "    }\n",
       "\n",
       "    .dataframe thead th {\n",
       "        text-align: right;\n",
       "    }\n",
       "</style>\n",
       "<table border=\"1\" class=\"dataframe\">\n",
       "  <thead>\n",
       "    <tr style=\"text-align: right;\">\n",
       "      <th></th>\n",
       "      <th>&lt;DATE&gt;</th>\n",
       "      <th>log return</th>\n",
       "    </tr>\n",
       "    <tr>\n",
       "      <th>&lt;DATE&gt;</th>\n",
       "      <th></th>\n",
       "      <th></th>\n",
       "    </tr>\n",
       "  </thead>\n",
       "  <tbody>\n",
       "    <tr>\n",
       "      <th>2010-01-11</th>\n",
       "      <td>1.0</td>\n",
       "      <td>7.668616</td>\n",
       "    </tr>\n",
       "    <tr>\n",
       "      <th>2010-01-12</th>\n",
       "      <td>2.0</td>\n",
       "      <td>-2.421124</td>\n",
       "    </tr>\n",
       "    <tr>\n",
       "      <th>2010-01-13</th>\n",
       "      <td>3.0</td>\n",
       "      <td>1.932676</td>\n",
       "    </tr>\n",
       "    <tr>\n",
       "      <th>2010-01-14</th>\n",
       "      <td>4.0</td>\n",
       "      <td>0.874942</td>\n",
       "    </tr>\n",
       "    <tr>\n",
       "      <th>2010-01-15</th>\n",
       "      <td>5.0</td>\n",
       "      <td>-0.491052</td>\n",
       "    </tr>\n",
       "    <tr>\n",
       "      <th>...</th>\n",
       "      <td>...</td>\n",
       "      <td>...</td>\n",
       "    </tr>\n",
       "    <tr>\n",
       "      <th>2010-06-11</th>\n",
       "      <td>5.0</td>\n",
       "      <td>-0.601688</td>\n",
       "    </tr>\n",
       "    <tr>\n",
       "      <th>2010-06-15</th>\n",
       "      <td>2.0</td>\n",
       "      <td>3.508624</td>\n",
       "    </tr>\n",
       "    <tr>\n",
       "      <th>2010-06-16</th>\n",
       "      <td>3.0</td>\n",
       "      <td>-0.205114</td>\n",
       "    </tr>\n",
       "    <tr>\n",
       "      <th>2010-06-17</th>\n",
       "      <td>4.0</td>\n",
       "      <td>-0.018538</td>\n",
       "    </tr>\n",
       "    <tr>\n",
       "      <th>2010-06-18</th>\n",
       "      <td>5.0</td>\n",
       "      <td>0.693539</td>\n",
       "    </tr>\n",
       "  </tbody>\n",
       "</table>\n",
       "<p>110 rows × 2 columns</p>\n",
       "</div>"
      ],
      "text/plain": [
       "            <DATE>  log return\n",
       "<DATE>                        \n",
       "2010-01-11     1.0    7.668616\n",
       "2010-01-12     2.0   -2.421124\n",
       "2010-01-13     3.0    1.932676\n",
       "2010-01-14     4.0    0.874942\n",
       "2010-01-15     5.0   -0.491052\n",
       "...            ...         ...\n",
       "2010-06-11     5.0   -0.601688\n",
       "2010-06-15     2.0    3.508624\n",
       "2010-06-16     3.0   -0.205114\n",
       "2010-06-17     4.0   -0.018538\n",
       "2010-06-18     5.0    0.693539\n",
       "\n",
       "[110 rows x 2 columns]"
      ]
     },
     "execution_count": 70,
     "metadata": {},
     "output_type": "execute_result"
    }
   ],
   "source": [
    "fvm.data_to_cluster"
   ]
  },
  {
   "cell_type": "code",
   "execution_count": 71,
   "id": "10fd5024",
   "metadata": {},
   "outputs": [
    {
     "data": {
      "text/plain": [
       "11"
      ]
     },
     "execution_count": 71,
     "metadata": {},
     "output_type": "execute_result"
    }
   ],
   "source": [
    "len(fvm._hist_output)"
   ]
  },
  {
   "cell_type": "code",
   "execution_count": 72,
   "id": "a12b9aea",
   "metadata": {},
   "outputs": [
    {
     "data": {
      "text/plain": [
       "array([4.58784044, 9.28784561, 8.36345265, 7.43500871, 6.42867503,\n",
       "       5.57647706, 5.08898536, 4.50088406, 4.43219517, 4.29659953,\n",
       "       4.63682253, 4.15284014, 4.66157224, 4.16266148, 3.76476124,\n",
       "       3.43635354, 3.23656857, 3.36287806, 3.10934294, 4.64895892,\n",
       "       4.55312847, 4.38739755, 3.99817091, 3.66239262, 3.40390727,\n",
       "       3.69663184, 3.42035154, 4.16751804, 3.74770391, 3.45684109,\n",
       "       3.20528803, 3.07198478, 3.21286668, 3.07307406, 2.89144979,\n",
       "       2.96644411, 2.92396342, 2.91048043, 2.78240709, 3.14181449,\n",
       "       2.95535387, 2.77469858, 2.64664545, 2.78335843, 2.69931732,\n",
       "       2.74131656, 2.78617743, 2.64320757, 2.61276521, 2.55194078,\n",
       "       2.45544705, 2.46052311, 2.39987778, 2.38015372, 2.76811116,\n",
       "       2.65365955, 2.5577451 , 2.96749666, 2.80880293, 2.69250034,\n",
       "       2.57543921, 2.66759568, 2.5452189 , 2.62076297, 2.61250931,\n",
       "       2.50045967, 2.69079077, 2.57643597, 3.03988837, 3.05772512,\n",
       "       2.96191601, 2.87394454, 2.76974439, 2.69403334, 2.65304221,\n",
       "       3.12859361, 2.99812146, 2.97826877, 2.88334444, 4.38347897,\n",
       "       4.24887167, 5.865998  , 5.931772  , 6.96618258, 7.27411623,\n",
       "       6.37296501, 5.87579761, 5.21023429, 4.58757302, 4.75392436,\n",
       "       7.52329011, 6.43928447, 5.62376169, 7.45985735, 7.92400956,\n",
       "       9.11926396, 7.71097057, 6.84343778, 5.98857535, 5.42099964,\n",
       "       4.75681224, 5.41180289, 4.85331028, 4.31351551, 3.8813027 ,\n",
       "       4.06090436, 3.69131067, 4.45325742, 3.97713905, 3.59221735,\n",
       "       3.32656686], dtype=float128)"
      ]
     },
     "execution_count": 72,
     "metadata": {},
     "output_type": "execute_result"
    }
   ],
   "source": [
    "fvm.h"
   ]
  },
  {
   "cell_type": "code",
   "execution_count": 73,
   "id": "71735d1f",
   "metadata": {},
   "outputs": [
    {
     "data": {
      "text/plain": [
       "(111,)"
      ]
     },
     "execution_count": 73,
     "metadata": {},
     "output_type": "execute_result"
    }
   ],
   "source": [
    "_.shape"
   ]
  },
  {
   "cell_type": "code",
   "execution_count": 74,
   "id": "612183e8",
   "metadata": {},
   "outputs": [
    {
     "data": {
      "text/html": [
       "<div>\n",
       "<style scoped>\n",
       "    .dataframe tbody tr th:only-of-type {\n",
       "        vertical-align: middle;\n",
       "    }\n",
       "\n",
       "    .dataframe tbody tr th {\n",
       "        vertical-align: top;\n",
       "    }\n",
       "\n",
       "    .dataframe thead th {\n",
       "        text-align: right;\n",
       "    }\n",
       "</style>\n",
       "<table border=\"1\" class=\"dataframe\">\n",
       "  <thead>\n",
       "    <tr style=\"text-align: right;\">\n",
       "      <th></th>\n",
       "      <th>&lt;DATE&gt;</th>\n",
       "      <th>log return</th>\n",
       "    </tr>\n",
       "    <tr>\n",
       "      <th>&lt;DATE&gt;</th>\n",
       "      <th></th>\n",
       "      <th></th>\n",
       "    </tr>\n",
       "  </thead>\n",
       "  <tbody>\n",
       "    <tr>\n",
       "      <th>2010-06-04</th>\n",
       "      <td>5.0</td>\n",
       "      <td>-3.674357</td>\n",
       "    </tr>\n",
       "    <tr>\n",
       "      <th>2010-06-07</th>\n",
       "      <td>1.0</td>\n",
       "      <td>-1.126682</td>\n",
       "    </tr>\n",
       "    <tr>\n",
       "      <th>2010-06-08</th>\n",
       "      <td>2.0</td>\n",
       "      <td>-0.472658</td>\n",
       "    </tr>\n",
       "    <tr>\n",
       "      <th>2010-06-09</th>\n",
       "      <td>3.0</td>\n",
       "      <td>0.472658</td>\n",
       "    </tr>\n",
       "    <tr>\n",
       "      <th>2010-06-10</th>\n",
       "      <td>4.0</td>\n",
       "      <td>2.482080</td>\n",
       "    </tr>\n",
       "    <tr>\n",
       "      <th>2010-06-11</th>\n",
       "      <td>5.0</td>\n",
       "      <td>-0.601688</td>\n",
       "    </tr>\n",
       "    <tr>\n",
       "      <th>2010-06-15</th>\n",
       "      <td>2.0</td>\n",
       "      <td>3.508624</td>\n",
       "    </tr>\n",
       "    <tr>\n",
       "      <th>2010-06-16</th>\n",
       "      <td>3.0</td>\n",
       "      <td>-0.205114</td>\n",
       "    </tr>\n",
       "    <tr>\n",
       "      <th>2010-06-17</th>\n",
       "      <td>4.0</td>\n",
       "      <td>-0.018538</td>\n",
       "    </tr>\n",
       "    <tr>\n",
       "      <th>2010-06-18</th>\n",
       "      <td>5.0</td>\n",
       "      <td>0.693539</td>\n",
       "    </tr>\n",
       "  </tbody>\n",
       "</table>\n",
       "</div>"
      ],
      "text/plain": [
       "            <DATE>  log return\n",
       "<DATE>                        \n",
       "2010-06-04     5.0   -3.674357\n",
       "2010-06-07     1.0   -1.126682\n",
       "2010-06-08     2.0   -0.472658\n",
       "2010-06-09     3.0    0.472658\n",
       "2010-06-10     4.0    2.482080\n",
       "2010-06-11     5.0   -0.601688\n",
       "2010-06-15     2.0    3.508624\n",
       "2010-06-16     3.0   -0.205114\n",
       "2010-06-17     4.0   -0.018538\n",
       "2010-06-18     5.0    0.693539"
      ]
     },
     "execution_count": 74,
     "metadata": {},
     "output_type": "execute_result"
    }
   ],
   "source": [
    "fvm.data_to_cluster[-10:]"
   ]
  },
  {
   "cell_type": "code",
   "execution_count": 75,
   "id": "057bd7bb",
   "metadata": {},
   "outputs": [
    {
     "data": {
      "text/html": [
       "<div>\n",
       "<style scoped>\n",
       "    .dataframe tbody tr th:only-of-type {\n",
       "        vertical-align: middle;\n",
       "    }\n",
       "\n",
       "    .dataframe tbody tr th {\n",
       "        vertical-align: top;\n",
       "    }\n",
       "\n",
       "    .dataframe thead th {\n",
       "        text-align: right;\n",
       "    }\n",
       "</style>\n",
       "<table border=\"1\" class=\"dataframe\">\n",
       "  <thead>\n",
       "    <tr style=\"text-align: right;\">\n",
       "      <th></th>\n",
       "      <th>0</th>\n",
       "      <th>1</th>\n",
       "      <th>2</th>\n",
       "      <th>3</th>\n",
       "    </tr>\n",
       "    <tr>\n",
       "      <th>&lt;DATE&gt;</th>\n",
       "      <th></th>\n",
       "      <th></th>\n",
       "      <th></th>\n",
       "      <th></th>\n",
       "    </tr>\n",
       "  </thead>\n",
       "  <tbody>\n",
       "    <tr>\n",
       "      <th>2010-06-04</th>\n",
       "      <td>0.000000</td>\n",
       "      <td>0.000000</td>\n",
       "      <td>0.904971</td>\n",
       "      <td>0.095029</td>\n",
       "    </tr>\n",
       "    <tr>\n",
       "      <th>2010-06-07</th>\n",
       "      <td>0.980727</td>\n",
       "      <td>0.019273</td>\n",
       "      <td>0.000000</td>\n",
       "      <td>0.000000</td>\n",
       "    </tr>\n",
       "    <tr>\n",
       "      <th>2010-06-08</th>\n",
       "      <td>0.354609</td>\n",
       "      <td>0.395391</td>\n",
       "      <td>0.118203</td>\n",
       "      <td>0.131797</td>\n",
       "    </tr>\n",
       "    <tr>\n",
       "      <th>2010-06-09</th>\n",
       "      <td>0.061379</td>\n",
       "      <td>0.438621</td>\n",
       "      <td>0.061379</td>\n",
       "      <td>0.438621</td>\n",
       "    </tr>\n",
       "    <tr>\n",
       "      <th>2010-06-10</th>\n",
       "      <td>0.001408</td>\n",
       "      <td>0.248592</td>\n",
       "      <td>0.004223</td>\n",
       "      <td>0.745777</td>\n",
       "    </tr>\n",
       "    <tr>\n",
       "      <th>2010-06-11</th>\n",
       "      <td>0.000000</td>\n",
       "      <td>0.000000</td>\n",
       "      <td>0.019040</td>\n",
       "      <td>0.980960</td>\n",
       "    </tr>\n",
       "    <tr>\n",
       "      <th>2010-06-15</th>\n",
       "      <td>0.005331</td>\n",
       "      <td>0.744669</td>\n",
       "      <td>0.001777</td>\n",
       "      <td>0.248223</td>\n",
       "    </tr>\n",
       "    <tr>\n",
       "      <th>2010-06-16</th>\n",
       "      <td>0.002244</td>\n",
       "      <td>0.497756</td>\n",
       "      <td>0.002244</td>\n",
       "      <td>0.497756</td>\n",
       "    </tr>\n",
       "    <tr>\n",
       "      <th>2010-06-17</th>\n",
       "      <td>0.037887</td>\n",
       "      <td>0.212113</td>\n",
       "      <td>0.113661</td>\n",
       "      <td>0.636339</td>\n",
       "    </tr>\n",
       "    <tr>\n",
       "      <th>2010-06-18</th>\n",
       "      <td>0.000000</td>\n",
       "      <td>0.000000</td>\n",
       "      <td>0.060825</td>\n",
       "      <td>0.939175</td>\n",
       "    </tr>\n",
       "  </tbody>\n",
       "</table>\n",
       "</div>"
      ],
      "text/plain": [
       "                   0         1         2         3\n",
       "<DATE>                                            \n",
       "2010-06-04  0.000000  0.000000  0.904971  0.095029\n",
       "2010-06-07  0.980727  0.019273  0.000000  0.000000\n",
       "2010-06-08  0.354609  0.395391  0.118203  0.131797\n",
       "2010-06-09  0.061379  0.438621  0.061379  0.438621\n",
       "2010-06-10  0.001408  0.248592  0.004223  0.745777\n",
       "2010-06-11  0.000000  0.000000  0.019040  0.980960\n",
       "2010-06-15  0.005331  0.744669  0.001777  0.248223\n",
       "2010-06-16  0.002244  0.497756  0.002244  0.497756\n",
       "2010-06-17  0.037887  0.212113  0.113661  0.636339\n",
       "2010-06-18  0.000000  0.000000  0.060825  0.939175"
      ]
     },
     "execution_count": 75,
     "metadata": {},
     "output_type": "execute_result"
    }
   ],
   "source": [
    "fvm.membership_degrees_hist"
   ]
  },
  {
   "cell_type": "code",
   "execution_count": 76,
   "id": "f56709a4",
   "metadata": {},
   "outputs": [
    {
     "data": {
      "text/plain": [
       "[array([0.00425907, 0.24574093, 0.0127772 , 0.7372228 ], dtype=float128),\n",
       " array([0.        , 0.        , 0.90497144, 0.09502856], dtype=float128),\n",
       " array([0.98072686, 0.01927314, 0.        , 0.        ], dtype=float128),\n",
       " array([0.35460874, 0.39539126, 0.11820291, 0.13179709], dtype=float128),\n",
       " array([0.06137925, 0.43862075, 0.06137925, 0.43862075], dtype=float128),\n",
       " array([0.00140782, 0.24859218, 0.00422347, 0.74577653], dtype=float128),\n",
       " array([0.        , 0.        , 0.01904009, 0.98095991], dtype=float128),\n",
       " array([0.00533063, 0.74466937, 0.00177688, 0.24822312], dtype=float128),\n",
       " array([0.00224402, 0.49775598, 0.00224402, 0.49775598], dtype=float128),\n",
       " array([0.03788685, 0.21211315, 0.11366056, 0.63633944], dtype=float128),\n",
       " array([0.        , 0.        , 0.06082466, 0.93917534], dtype=float128)]"
      ]
     },
     "execution_count": 76,
     "metadata": {},
     "output_type": "execute_result"
    }
   ],
   "source": [
    "fvm._membership_degrees_hist"
   ]
  },
  {
   "cell_type": "code",
   "execution_count": 77,
   "id": "4cfbf569",
   "metadata": {},
   "outputs": [
    {
     "data": {
      "text/plain": [
       "2010-06-04    4.888326\n",
       "2010-06-07    6.097234\n",
       "2010-06-08    5.309355\n",
       "2010-06-09    4.524117\n",
       "2010-06-10    3.889341\n",
       "2010-06-11    4.157757\n",
       "2010-06-15    3.682570\n",
       "2010-06-16    4.624464\n",
       "2010-06-17    4.092517\n",
       "2010-06-18    3.646081\n",
       "dtype: float128"
      ]
     },
     "execution_count": 77,
     "metadata": {},
     "output_type": "execute_result"
    }
   ],
   "source": [
    "fvm.hist_output"
   ]
  },
  {
   "cell_type": "code",
   "execution_count": 78,
   "id": "d651da50",
   "metadata": {},
   "outputs": [
    {
     "data": {
      "text/plain": [
       "<DATE>\n",
       "2010-06-04   -3.674357\n",
       "2010-06-07   -1.126682\n",
       "2010-06-08   -0.472658\n",
       "2010-06-09    0.472658\n",
       "2010-06-10    2.482080\n",
       "2010-06-11   -0.601688\n",
       "2010-06-15    3.508624\n",
       "2010-06-16   -0.205114\n",
       "2010-06-17   -0.018538\n",
       "2010-06-18    0.693539\n",
       "Name: log return, dtype: float64"
      ]
     },
     "execution_count": 78,
     "metadata": {},
     "output_type": "execute_result"
    }
   ],
   "source": [
    "test"
   ]
  },
  {
   "cell_type": "code",
   "execution_count": 79,
   "id": "91717c8f",
   "metadata": {},
   "outputs": [
    {
     "data": {
      "text/plain": [
       "array([0.        , 0.        , 0.06082466, 0.93917534], dtype=float128)"
      ]
     },
     "execution_count": 79,
     "metadata": {},
     "output_type": "execute_result"
    }
   ],
   "source": [
    "fvm.membership_degrees_current"
   ]
  },
  {
   "cell_type": "code",
   "execution_count": 80,
   "id": "eac0e6d2",
   "metadata": {},
   "outputs": [
    {
     "data": {
      "text/plain": [
       "[{'a': [1, 1], 'b': [1, 5], 'c': [1, 5], 'd': [5, 5], 'n_clusters': 2},\n",
       " {'centers': [-4.5, 2.5], 'variances': [7, 5], 'n_clusters': 2}]"
      ]
     },
     "execution_count": 80,
     "metadata": {},
     "output_type": "execute_result"
    }
   ],
   "source": [
    "fvm.clusterization_parameters"
   ]
  },
  {
   "cell_type": "code",
   "execution_count": 81,
   "id": "330b52a1",
   "metadata": {
    "scrolled": true
   },
   "outputs": [
    {
     "data": {
      "text/plain": [
       "[{'alpha_0': array([0.01300959, 1.53008699, 1.30142911, 0.0250026 ], dtype=float128),\n",
       "  'alpha': array([[0.09101356, 0.09101476, 0.09101359, 0.09101731]], dtype=float128),\n",
       "  'beta': array([[0.80181758, 0.80182204, 0.80181669, 0.80183396]], dtype=float128)},\n",
       " {'alpha_0': array([1.76520343e-01, 1.67535625e+00, 1.74770540e-03, 3.23467582e+00],\n",
       "        dtype=float128),\n",
       "  'alpha': array([[0.06958596, 0.1403651 , 0.08224971, 0.08226174]], dtype=float128),\n",
       "  'beta': array([[0.8367954 , 0.8367954 , 0.84194451, 0.84192648]], dtype=float128)},\n",
       " {'alpha_0': array([0.22005448, 6.6515782 , 0.00695044, 0.13447522]),\n",
       "  'alpha': array([[0.08366705, 0.08366137, 0.11637558, 0.11637558]]),\n",
       "  'beta': array([[0.8292855 , 0.82910224, 0.8367954 , 0.8367954 ]])},\n",
       " {'alpha_0': array([0.14983498, 0.57867526, 0.0018363 , 0.78201124], dtype=float128),\n",
       "  'alpha': array([[0.08678008, 0.08672745, 0.08708627, 0.08707177]], dtype=float128),\n",
       "  'beta': array([[0.81288893, 0.81294346, 0.81255965, 0.81258089]], dtype=float128)},\n",
       " {'alpha_0': array([1.96721991, 0.13815646, 0.96924058, 0.41518326], dtype=float128),\n",
       "  'alpha': array([[0.09214823, 0.09071987, 0.0921468 , 0.09071939]], dtype=float128),\n",
       "  'beta': array([[0.79608991, 0.79654183, 0.79609077, 0.79654179]], dtype=float128)},\n",
       " {'alpha_0': array([2.5654177 , 0.70309859, 0.75240811, 0.29945816]),\n",
       "  'alpha': array([[0.08851477, 0.08851146, 0.08851108, 0.08851159]]),\n",
       "  'beta': array([[0.80487287, 0.80486935, 0.80485598, 0.80488999]])},\n",
       " {'alpha_0': array([0.17652034, 5.6839384 , 4.12391586, 0.3532086 ]),\n",
       "  'alpha': array([[0.14164168, 0.03468382, 0.09114851, 0.09115444]]),\n",
       "  'beta': array([[0.8367954 , 0.8367954 , 0.79485786, 0.79491168]])},\n",
       " {'alpha_0': array([0.00233715, 0.1917006 , 0.90474273, 0.96307756]),\n",
       "  'alpha': array([[0.08438277, 0.08437734, 0.08437791, 0.08437773]]),\n",
       "  'beta': array([[0.81703442, 0.81704163, 0.81703209, 0.8170362 ]])},\n",
       " {'alpha_0': array([1.65687531, 0.14483865, 2.28135411, 0.62826856]),\n",
       "  'alpha': array([[0.08522567, 0.08523046, 0.08522771, 0.08522896]]),\n",
       "  'beta': array([[0.81140296, 0.81142144, 0.81140416, 0.81141617]])},\n",
       " {'alpha_0': array([3.77628382e+00, 2.75607494e-01, 1.76377718e+00, 8.84440829e-04]),\n",
       "  'alpha': array([[0.08680487, 0.08681496, 0.08681617, 0.08681959]]),\n",
       "  'beta': array([[0.80545485, 0.80546286, 0.80544944, 0.8054775 ]])},\n",
       " {'alpha_0': array([0.17652034, 1.83264352, 0.1821474 , 0.42230558], dtype=float128),\n",
       "  'alpha': array([[0.51760574, 0.15731828, 0.08854221, 0.08853695]], dtype=float128),\n",
       "  'beta': array([[0.8367954 , 0.8367954 , 0.80071355, 0.80069742]], dtype=float128)}]"
      ]
     },
     "execution_count": 81,
     "metadata": {},
     "output_type": "execute_result"
    }
   ],
   "source": [
    "fvm._parameters_hist"
   ]
  },
  {
   "cell_type": "markdown",
   "id": "451345f2",
   "metadata": {},
   "source": [
    "### Plots"
   ]
  },
  {
   "cell_type": "code",
   "execution_count": 82,
   "id": "2fd8d88a",
   "metadata": {},
   "outputs": [
    {
     "data": {
      "image/png": "[encoded data removed]",
      "text/plain": [
       "<Figure size 432x288 with 1 Axes>"
      ]
     },
     "metadata": {
      "needs_background": "light"
     },
     "output_type": "display_data"
    }
   ],
   "source": [
    "(fvm.hist_output ** .5).plot(label='forecast')\n",
    "test_small.plot(label='actual values')\n",
    "\n",
    "plt.legend()\n",
    "plt.grid()\n",
    "plt.show()"
   ]
  },
  {
   "cell_type": "code",
   "execution_count": 83,
   "id": "78cc15a2",
   "metadata": {},
   "outputs": [
    {
     "data": {
      "image/png": "[encoded data removed]",
      "text/plain": [
       "<Figure size 1080x576 with 1 Axes>"
      ]
     },
     "metadata": {
      "needs_background": "light"
     },
     "output_type": "display_data"
    }
   ],
   "source": [
    "(fvm.hist_output ** .5).plot(label='forecast', figsize=(15, 8))\n",
    "input_cut.plot(label='actual values')\n",
    "\n",
    "plt.legend()\n",
    "plt.grid()\n",
    "plt.show()"
   ]
  },
  {
   "cell_type": "markdown",
   "id": "fec70349",
   "metadata": {},
   "source": [
    "### Errors"
   ]
  },
  {
   "cell_type": "code",
   "execution_count": 84,
   "id": "ac0a1f54",
   "metadata": {
    "scrolled": true
   },
   "outputs": [
    {
     "data": {
      "text/plain": [
       "7.8971032624259262637"
      ]
     },
     "execution_count": 84,
     "metadata": {},
     "output_type": "execute_result"
    }
   ],
   "source": [
    "mean_squared_error(fvm.hist_output ** .5, test_small, squared=True)"
   ]
  },
  {
   "cell_type": "code",
   "execution_count": 85,
   "id": "734c3d7d",
   "metadata": {},
   "outputs": [
    {
     "data": {
      "text/plain": [
       "2.8101785107757703199"
      ]
     },
     "execution_count": 85,
     "metadata": {},
     "output_type": "execute_result"
    }
   ],
   "source": [
    "mean_squared_error(fvm.hist_output ** .5, test_small, squared=False)"
   ]
  },
  {
   "cell_type": "code",
   "execution_count": 86,
   "id": "18cebaf5",
   "metadata": {},
   "outputs": [
    {
     "data": {
      "text/plain": [
       "1.1224425703803655029"
      ]
     },
     "execution_count": 86,
     "metadata": {},
     "output_type": "execute_result"
    }
   ],
   "source": [
    "mean_absolute_percentage_error(fvm.hist_output ** .5, test_small)"
   ]
  },
  {
   "cell_type": "markdown",
   "id": "18a15b1b",
   "metadata": {},
   "source": [
    "# Model w/o seasoning"
   ]
  },
  {
   "cell_type": "code",
   "execution_count": 87,
   "id": "fdb6931a",
   "metadata": {},
   "outputs": [],
   "source": [
    "lower_bounds_2 = [0] * (1 + p + q) * n_clusters_2\n",
    "upper_bounds_2 = [+np.inf] * n_clusters_2 + [1] * (p + q) * n_clusters_2\n",
    "bounds_2 = (lower_bounds_2, upper_bounds_2)"
   ]
  },
  {
   "cell_type": "code",
   "execution_count": 88,
   "id": "6fdf3652",
   "metadata": {},
   "outputs": [],
   "source": [
    "alpha_0_ini_2 = np.array([garch_fitted.params.iloc[0] for _ in range(n_clusters_2)])\n",
    "alpha_ini_2 = np.array([garch_fitted.params.iloc[1:(q + 1)].values for _ in range(n_clusters_2)])\n",
    "beta_ini_2 = np.array([garch_fitted.params.iloc[(q + 1):].values for _ in range(n_clusters_2)])"
   ]
  },
  {
   "cell_type": "code",
   "execution_count": 89,
   "id": "a67b301b",
   "metadata": {},
   "outputs": [],
   "source": [
    "parameters_ini_2 = {'alpha_0': alpha_0_ini_2, 'alpha': alpha_ini_2, 'beta': beta_ini_2}"
   ]
  },
  {
   "cell_type": "code",
   "execution_count": 90,
   "id": "50ef1cbb",
   "metadata": {},
   "outputs": [],
   "source": [
    "local_method_parameters_2 = local_method_parameters.copy()\n",
    "local_method_parameters_2['bounds'] = bounds_2\n",
    "local_method_parameters_2['parameters_ini'] = parameters_ini_2"
   ]
  },
  {
   "cell_type": "code",
   "execution_count": 91,
   "id": "16c3eb7b",
   "metadata": {},
   "outputs": [],
   "source": [
    "fvm_vanilla = FuzzyVolatilityModel(train,\n",
    "                           clusterization_method=clusterization_methods[1],\n",
    "                           clusterization_parameters=clusterization_parameters[1],\n",
    "                           local_method=local_method,\n",
    "                           local_method_parameters=local_method_parameters_2,\n",
    "                           n_last_points_to_use_for_clustering=n_last_points_to_use_for_clustering[1],\n",
    "                           data_to_cluster=data_to_cluster[1],\n",
    "                           cluster_sets_conjunction=cluster_sets_conjunction)"
   ]
  },
  {
   "cell_type": "markdown",
   "id": "850c6a7f",
   "metadata": {},
   "source": [
    "## `fit`"
   ]
  },
  {
   "cell_type": "code",
   "execution_count": 92,
   "id": "07786a21",
   "metadata": {
    "scrolled": true
   },
   "outputs": [
    {
     "name": "stdout",
     "output_type": "stream",
     "text": [
      "CPU times: user 5.23 s, sys: 178 ms, total: 5.41 s\n",
      "Wall time: 5.44 s\n"
     ]
    }
   ],
   "source": [
    "%%time\n",
    "\n",
    "fvm_vanilla.fit()"
   ]
  },
  {
   "cell_type": "code",
   "execution_count": 93,
   "id": "08143bd8",
   "metadata": {},
   "outputs": [
    {
     "data": {
      "text/plain": [
       "[1, 2]"
      ]
     },
     "execution_count": 93,
     "metadata": {},
     "output_type": "execute_result"
    }
   ],
   "source": [
    "n_last_points_to_use_for_clustering"
   ]
  },
  {
   "cell_type": "code",
   "execution_count": 94,
   "id": "18921ce4",
   "metadata": {},
   "outputs": [
    {
     "data": {
      "text/plain": [
       "array([0.0057277 , 0.41819605])"
      ]
     },
     "execution_count": 94,
     "metadata": {},
     "output_type": "execute_result"
    }
   ],
   "source": [
    "fvm_vanilla.alpha_0"
   ]
  },
  {
   "cell_type": "code",
   "execution_count": 95,
   "id": "a5f5154b",
   "metadata": {},
   "outputs": [
    {
     "data": {
      "text/plain": [
       "array([[0.09101855, 0.09101855]])"
      ]
     },
     "execution_count": 95,
     "metadata": {},
     "output_type": "execute_result"
    }
   ],
   "source": [
    "fvm_vanilla.alpha"
   ]
  },
  {
   "cell_type": "code",
   "execution_count": 96,
   "id": "815cccd7",
   "metadata": {},
   "outputs": [
    {
     "data": {
      "text/plain": [
       "array([[0.80179799, 0.80181739]])"
      ]
     },
     "execution_count": 96,
     "metadata": {},
     "output_type": "execute_result"
    }
   ],
   "source": [
    "fvm_vanilla.beta"
   ]
  },
  {
   "cell_type": "code",
   "execution_count": 97,
   "id": "bf955be6",
   "metadata": {},
   "outputs": [
    {
     "data": {
      "text/plain": [
       "omega       0.176520\n",
       "alpha[1]    0.116376\n",
       "beta[1]     0.836795\n",
       "Name: params, dtype: float64"
      ]
     },
     "execution_count": 97,
     "metadata": {},
     "output_type": "execute_result"
    }
   ],
   "source": [
    "garch_fitted.params"
   ]
  },
  {
   "cell_type": "code",
   "execution_count": 98,
   "id": "a8e8ccca",
   "metadata": {},
   "outputs": [
    {
     "data": {
      "text/plain": [
       "[{'alpha_0': array([0.0057277 , 0.41819605]),\n",
       "  'alpha': array([[0.09101855, 0.09101855]]),\n",
       "  'beta': array([[0.80179799, 0.80181739]])}]"
      ]
     },
     "execution_count": 98,
     "metadata": {},
     "output_type": "execute_result"
    }
   ],
   "source": [
    "fvm_vanilla._parameters_hist"
   ]
  },
  {
   "cell_type": "code",
   "execution_count": 99,
   "id": "e14efe5d",
   "metadata": {},
   "outputs": [
    {
     "data": {
      "text/plain": [
       "array([0.00031326, 0.01807474], dtype=float128)"
      ]
     },
     "execution_count": 99,
     "metadata": {},
     "output_type": "execute_result"
    }
   ],
   "source": [
    "fvm_vanilla.membership_degrees_current"
   ]
  },
  {
   "cell_type": "code",
   "execution_count": 100,
   "id": "b26c6bc0",
   "metadata": {},
   "outputs": [
    {
     "data": {
      "text/plain": [
       "{'n_clusters': 2,\n",
       " 'params by sets': [{'centers': [-4.5, 2.5],\n",
       "   'variances': [7, 5],\n",
       "   'n_clusters': 2}]}"
      ]
     },
     "execution_count": 100,
     "metadata": {},
     "output_type": "execute_result"
    }
   ],
   "source": [
    "fvm_vanilla.clusters_parameters_current"
   ]
  },
  {
   "cell_type": "code",
   "execution_count": 101,
   "id": "05fcfdd1",
   "metadata": {},
   "outputs": [
    {
     "data": {
      "text/plain": [
       "[<DATE>\n",
       " 2010-01-11    1\n",
       " 2010-01-12    2\n",
       " 2010-01-13    3\n",
       " 2010-01-14    4\n",
       " 2010-01-15    5\n",
       "              ..\n",
       " 2010-05-28    5\n",
       " 2010-05-31    1\n",
       " 2010-06-01    2\n",
       " 2010-06-02    3\n",
       " 2010-06-03    4\n",
       " Name: <DATE>, Length: 100, dtype: int64,\n",
       " 'train']"
      ]
     },
     "execution_count": 101,
     "metadata": {},
     "output_type": "execute_result"
    }
   ],
   "source": [
    "data_to_cluster"
   ]
  },
  {
   "cell_type": "code",
   "execution_count": 102,
   "id": "5641e255",
   "metadata": {},
   "outputs": [
    {
     "data": {
      "text/plain": [
       "[array([0.00031326, 0.01807474], dtype=float128)]"
      ]
     },
     "execution_count": 102,
     "metadata": {},
     "output_type": "execute_result"
    }
   ],
   "source": [
    "fvm_vanilla._membership_degrees_hist"
   ]
  },
  {
   "cell_type": "code",
   "execution_count": 103,
   "id": "2da735ae",
   "metadata": {},
   "outputs": [
    {
     "data": {
      "text/plain": [
       "<DATE>\n",
       "2010-01-11    7.668616\n",
       "2010-01-12   -2.421124\n",
       "2010-01-13    1.932676\n",
       "2010-01-14    0.874942\n",
       "2010-01-15   -0.491052\n",
       "                ...   \n",
       "2010-05-28   -0.129833\n",
       "2010-05-31    1.718848\n",
       "2010-06-01   -1.069901\n",
       "2010-06-02    1.570084\n",
       "2010-06-03    0.310364\n",
       "Name: log return, Length: 100, dtype: float64"
      ]
     },
     "execution_count": 103,
     "metadata": {},
     "output_type": "execute_result"
    }
   ],
   "source": [
    "fvm_vanilla.train_data"
   ]
  },
  {
   "cell_type": "markdown",
   "id": "3c8686b2",
   "metadata": {},
   "source": [
    "## `forecast`"
   ]
  },
  {
   "cell_type": "code",
   "execution_count": 104,
   "id": "154aed08",
   "metadata": {},
   "outputs": [],
   "source": [
    "fvm_vanilla.forecast()"
   ]
  },
  {
   "cell_type": "code",
   "execution_count": 105,
   "id": "a3711b8d",
   "metadata": {},
   "outputs": [
    {
     "data": {
      "text/plain": [
       "4.8881593737027278597"
      ]
     },
     "execution_count": 105,
     "metadata": {},
     "output_type": "execute_result"
    }
   ],
   "source": [
    "fvm_vanilla.current_output"
   ]
  },
  {
   "cell_type": "code",
   "execution_count": 106,
   "id": "3f041306",
   "metadata": {},
   "outputs": [
    {
     "data": {
      "text/plain": [
       "[4.8881593737027278597]"
      ]
     },
     "execution_count": 106,
     "metadata": {},
     "output_type": "execute_result"
    }
   ],
   "source": [
    "fvm_vanilla._hist_output"
   ]
  },
  {
   "cell_type": "code",
   "execution_count": 107,
   "id": "61a8cef9",
   "metadata": {
    "scrolled": true
   },
   "outputs": [
    {
     "data": {
      "image/png": "[encoded data removed]",
      "text/plain": [
       "<Figure size 432x288 with 1 Axes>"
      ]
     },
     "metadata": {
      "needs_background": "light"
     },
     "output_type": "display_data"
    }
   ],
   "source": [
    "plt.plot(fvm_vanilla.h ** .5, label='sqrt(h_t)')\n",
    "plt.plot(train.values, label='y_t')\n",
    "\n",
    "plt.legend()\n",
    "plt.grid()\n",
    "plt.show()"
   ]
  },
  {
   "cell_type": "code",
   "execution_count": 108,
   "id": "a697a9cb",
   "metadata": {},
   "outputs": [
    {
     "data": {
      "text/plain": [
       "array([4.58784044, 9.44236721, 8.51575658, 7.57922368, 6.55799684,\n",
       "       5.69143038, 5.19692551, 4.59711312, 4.52964802, 4.39269807,\n",
       "       4.74426105, 4.24855357, 4.7724607 , 4.2608887 , 3.85232253,\n",
       "       3.51464268, 3.30882614, 3.43809891, 3.17714134, 4.75935968,\n",
       "       4.6621765 , 4.49275951, 4.09320269, 3.74802998, 3.48192707,\n",
       "       3.78225863, 3.4980937 , 4.26576831, 3.83470211, 3.53561657,\n",
       "       3.27662209, 3.13897973, 3.28317286, 3.13911377, 2.95195904,\n",
       "       3.02849311, 2.98445752, 2.97025566, 2.8383041 , 3.20740503,\n",
       "       3.01582827, 2.82998342, 2.69803225, 2.83818138, 2.75162528,\n",
       "       2.79457685, 2.84056307, 2.6935323 , 2.66202895, 2.59929824,\n",
       "       2.49986861, 2.50479023, 2.44221323, 2.42168059, 2.82028284,\n",
       "       2.70288719, 2.60436437, 3.02555289, 2.86284573, 2.7434492 ,\n",
       "       2.62310634, 2.71771005, 2.59190098, 2.66941934, 2.6609067 ,\n",
       "       2.54568517, 2.74119609, 2.62373166, 3.10011726, 3.11894262,\n",
       "       3.02086081, 2.9306444 , 2.82359963, 2.74570756, 2.7034331 ,\n",
       "       3.19215693, 3.05845086, 3.0382306 , 2.94077453, 4.48294464,\n",
       "       4.34628522, 6.00995648, 6.08041539, 7.14616965, 7.46581034,\n",
       "       6.54222552, 6.0323508 , 5.34854611, 4.70799892, 4.87794689,\n",
       "       7.72426188, 6.61252992, 5.7750327 , 7.66235378, 8.14143978,\n",
       "       9.37226941, 7.9275489 , 7.03652178, 6.15736024, 5.57262125,\n",
       "       4.88815937], dtype=float128)"
      ]
     },
     "execution_count": 108,
     "metadata": {},
     "output_type": "execute_result"
    }
   ],
   "source": [
    "fvm_vanilla.h"
   ]
  },
  {
   "cell_type": "markdown",
   "id": "049534ac",
   "metadata": {},
   "source": [
    "## `feed_daily_data`"
   ]
  },
  {
   "cell_type": "code",
   "execution_count": 109,
   "id": "deacac68",
   "metadata": {},
   "outputs": [],
   "source": [
    "# n_test_small = 10\n",
    "# test_small = test.iloc[:n_test_small].copy()\n",
    "# input_cut = pd.concat([train, test_small]).copy()\n",
    "\n",
    "# data_to_cluster_test_1 = pd.Series(test_small.index.dayofweek + 1, index=test_small.index).copy()\n",
    "# data_to_cluster_test_2 = 'train'\n",
    "# data_to_cluster_test = [data_to_cluster_test_1, data_to_cluster_test_2]"
   ]
  },
  {
   "cell_type": "code",
   "execution_count": 110,
   "id": "52707074",
   "metadata": {
    "scrolled": false
   },
   "outputs": [
    {
     "name": "stdout",
     "output_type": "stream",
     "text": [
      "CPU times: user 1min 12s, sys: 2.3 s, total: 1min 14s\n",
      "Wall time: 1min 14s\n"
     ]
    }
   ],
   "source": [
    "%%time\n",
    "\n",
    "fvm_vanilla.feed_daily_data(test_small, data_to_cluster=data_to_cluster_test_2)"
   ]
  },
  {
   "cell_type": "code",
   "execution_count": 111,
   "id": "550b604f",
   "metadata": {},
   "outputs": [
    {
     "data": {
      "text/plain": [
       "<DATE>\n",
       "2010-01-11    7.668616\n",
       "2010-01-12   -2.421124\n",
       "2010-01-13    1.932676\n",
       "2010-01-14    0.874942\n",
       "2010-01-15   -0.491052\n",
       "                ...   \n",
       "2010-06-11   -0.601688\n",
       "2010-06-15    3.508624\n",
       "2010-06-16   -0.205114\n",
       "2010-06-17   -0.018538\n",
       "2010-06-18    0.693539\n",
       "Name: log return, Length: 110, dtype: float64"
      ]
     },
     "execution_count": 111,
     "metadata": {},
     "output_type": "execute_result"
    }
   ],
   "source": [
    "fvm_vanilla.data_to_cluster"
   ]
  },
  {
   "cell_type": "code",
   "execution_count": 112,
   "id": "e6c248b7",
   "metadata": {},
   "outputs": [
    {
     "data": {
      "text/plain": [
       "11"
      ]
     },
     "execution_count": 112,
     "metadata": {},
     "output_type": "execute_result"
    }
   ],
   "source": [
    "len(fvm_vanilla._hist_output)"
   ]
  },
  {
   "cell_type": "code",
   "execution_count": 113,
   "id": "dbc2472f",
   "metadata": {},
   "outputs": [
    {
     "data": {
      "text/plain": [
       "array([4.58784044, 9.28738653, 8.3621622 , 7.43325235, 6.4267534 ,\n",
       "       5.57462496, 5.08733698, 4.49951364, 4.43112329, 4.29578797,\n",
       "       4.63620214, 4.1523799 , 4.66124762, 4.16243414, 3.76470943,\n",
       "       3.4365212 , 3.23697015, 3.36347812, 3.11011173, 4.64974239,\n",
       "       4.55375153, 4.38791968, 3.99866976, 3.66295152, 3.40457905,\n",
       "       3.69739588, 3.4211819 , 4.16836112, 3.74851007, 3.45769557,\n",
       "       3.20624005, 3.07305755, 3.21403806, 3.07432143, 2.8927922 ,\n",
       "       2.96787668, 2.92546348, 2.91204084, 2.78402989, 3.14346726,\n",
       "       2.95700645, 2.77639064, 2.6484029 , 2.78516999, 2.70116427,\n",
       "       2.74319765, 2.78807652, 2.64512974, 2.61472567, 2.55394142,\n",
       "       2.45749645, 2.46262243, 2.40202237, 2.38234363, 2.77030181,\n",
       "       2.65581622, 2.55989742, 2.96961681, 2.81086452, 2.6945451 ,\n",
       "       2.57749565, 2.66966627, 2.54730189, 2.62286295, 2.61461478,\n",
       "       2.50258146, 2.69292025, 2.57856032, 3.04197686, 3.05972853,\n",
       "       2.96385855, 2.87585825, 2.77165556, 2.69596215, 2.65499807,\n",
       "       3.13052954, 2.99999809, 2.98011527, 2.88517841, 4.38516769,\n",
       "       4.25028038, 5.86704058, 5.93232441, 6.96623389, 7.2736144 ,\n",
       "       6.37207204, 5.8747463 , 5.20917982, 4.58665527, 4.75317322,\n",
       "       7.52238241, 6.43803075, 5.62243839, 7.45839527, 7.92217462,\n",
       "       9.11695914, 7.70828616, 6.84070022, 5.98598097, 5.41867607,\n",
       "       4.7548372 , 5.41012122, 4.85184075, 4.31233433, 3.88045818,\n",
       "       4.06036276, 3.69102646, 4.45314845, 3.977127  , 3.59237659,\n",
       "       3.32693455], dtype=float128)"
      ]
     },
     "execution_count": 113,
     "metadata": {},
     "output_type": "execute_result"
    }
   ],
   "source": [
    "fvm_vanilla.h"
   ]
  },
  {
   "cell_type": "code",
   "execution_count": 114,
   "id": "194e83d9",
   "metadata": {},
   "outputs": [
    {
     "data": {
      "text/plain": [
       "(111,)"
      ]
     },
     "execution_count": 114,
     "metadata": {},
     "output_type": "execute_result"
    }
   ],
   "source": [
    "_.shape"
   ]
  },
  {
   "cell_type": "code",
   "execution_count": 115,
   "id": "ad1ae40a",
   "metadata": {},
   "outputs": [
    {
     "data": {
      "text/plain": [
       "<DATE>\n",
       "2010-06-04   -3.674357\n",
       "2010-06-07   -1.126682\n",
       "2010-06-08   -0.472658\n",
       "2010-06-09    0.472658\n",
       "2010-06-10    2.482080\n",
       "2010-06-11   -0.601688\n",
       "2010-06-15    3.508624\n",
       "2010-06-16   -0.205114\n",
       "2010-06-17   -0.018538\n",
       "2010-06-18    0.693539\n",
       "Name: log return, dtype: float64"
      ]
     },
     "execution_count": 115,
     "metadata": {},
     "output_type": "execute_result"
    }
   ],
   "source": [
    "fvm_vanilla.data_to_cluster[-10:]"
   ]
  },
  {
   "cell_type": "code",
   "execution_count": 116,
   "id": "4da79e98",
   "metadata": {},
   "outputs": [
    {
     "data": {
      "text/html": [
       "<div>\n",
       "<style scoped>\n",
       "    .dataframe tbody tr th:only-of-type {\n",
       "        vertical-align: middle;\n",
       "    }\n",
       "\n",
       "    .dataframe tbody tr th {\n",
       "        vertical-align: top;\n",
       "    }\n",
       "\n",
       "    .dataframe thead th {\n",
       "        text-align: right;\n",
       "    }\n",
       "</style>\n",
       "<table border=\"1\" class=\"dataframe\">\n",
       "  <thead>\n",
       "    <tr style=\"text-align: right;\">\n",
       "      <th></th>\n",
       "      <th>0</th>\n",
       "      <th>1</th>\n",
       "    </tr>\n",
       "    <tr>\n",
       "      <th>&lt;DATE&gt;</th>\n",
       "      <th></th>\n",
       "      <th></th>\n",
       "    </tr>\n",
       "  </thead>\n",
       "  <tbody>\n",
       "    <tr>\n",
       "      <th>2010-06-04</th>\n",
       "      <td>0.004147</td>\n",
       "      <td>0.000435</td>\n",
       "    </tr>\n",
       "    <tr>\n",
       "      <th>2010-06-07</th>\n",
       "      <td>0.009607</td>\n",
       "      <td>0.000189</td>\n",
       "    </tr>\n",
       "    <tr>\n",
       "      <th>2010-06-08</th>\n",
       "      <td>0.003167</td>\n",
       "      <td>0.003531</td>\n",
       "    </tr>\n",
       "    <tr>\n",
       "      <th>2010-06-09</th>\n",
       "      <td>0.001220</td>\n",
       "      <td>0.008721</td>\n",
       "    </tr>\n",
       "    <tr>\n",
       "      <th>2010-06-10</th>\n",
       "      <td>0.000120</td>\n",
       "      <td>0.021103</td>\n",
       "    </tr>\n",
       "    <tr>\n",
       "      <th>2010-06-11</th>\n",
       "      <td>0.000236</td>\n",
       "      <td>0.012163</td>\n",
       "    </tr>\n",
       "    <tr>\n",
       "      <th>2010-06-15</th>\n",
       "      <td>0.000079</td>\n",
       "      <td>0.010986</td>\n",
       "    </tr>\n",
       "    <tr>\n",
       "      <th>2010-06-16</th>\n",
       "      <td>0.000062</td>\n",
       "      <td>0.013831</td>\n",
       "    </tr>\n",
       "    <tr>\n",
       "      <th>2010-06-17</th>\n",
       "      <td>0.001450</td>\n",
       "      <td>0.008120</td>\n",
       "    </tr>\n",
       "    <tr>\n",
       "      <th>2010-06-18</th>\n",
       "      <td>0.000789</td>\n",
       "      <td>0.012180</td>\n",
       "    </tr>\n",
       "  </tbody>\n",
       "</table>\n",
       "</div>"
      ],
      "text/plain": [
       "                   0         1\n",
       "<DATE>                        \n",
       "2010-06-04  0.004147  0.000435\n",
       "2010-06-07  0.009607  0.000189\n",
       "2010-06-08  0.003167  0.003531\n",
       "2010-06-09  0.001220  0.008721\n",
       "2010-06-10  0.000120  0.021103\n",
       "2010-06-11  0.000236  0.012163\n",
       "2010-06-15  0.000079  0.010986\n",
       "2010-06-16  0.000062  0.013831\n",
       "2010-06-17  0.001450  0.008120\n",
       "2010-06-18  0.000789  0.012180"
      ]
     },
     "execution_count": 116,
     "metadata": {},
     "output_type": "execute_result"
    }
   ],
   "source": [
    "fvm_vanilla.membership_degrees_hist"
   ]
  },
  {
   "cell_type": "code",
   "execution_count": 117,
   "id": "4358e76c",
   "metadata": {},
   "outputs": [
    {
     "data": {
      "text/plain": [
       "2010-06-04    4.888159\n",
       "2010-06-07    6.097066\n",
       "2010-06-08    5.310522\n",
       "2010-06-09    4.523613\n",
       "2010-06-10    3.889478\n",
       "2010-06-11    4.157644\n",
       "2010-06-15    3.682655\n",
       "2010-06-16    4.624539\n",
       "2010-06-17    4.092554\n",
       "2010-06-18    3.646428\n",
       "dtype: float128"
      ]
     },
     "execution_count": 117,
     "metadata": {},
     "output_type": "execute_result"
    }
   ],
   "source": [
    "fvm_vanilla.hist_output"
   ]
  },
  {
   "cell_type": "code",
   "execution_count": 118,
   "id": "8f612b7c",
   "metadata": {},
   "outputs": [
    {
     "data": {
      "text/plain": [
       "<DATE>\n",
       "2010-06-04   -3.674357\n",
       "2010-06-07   -1.126682\n",
       "2010-06-08   -0.472658\n",
       "2010-06-09    0.472658\n",
       "2010-06-10    2.482080\n",
       "2010-06-11   -0.601688\n",
       "2010-06-15    3.508624\n",
       "2010-06-16   -0.205114\n",
       "2010-06-17   -0.018538\n",
       "2010-06-18    0.693539\n",
       "Name: log return, dtype: float64"
      ]
     },
     "execution_count": 118,
     "metadata": {},
     "output_type": "execute_result"
    }
   ],
   "source": [
    "test"
   ]
  },
  {
   "cell_type": "code",
   "execution_count": 119,
   "id": "893712be",
   "metadata": {},
   "outputs": [
    {
     "data": {
      "text/plain": [
       "array([0.00078883, 0.01218014], dtype=float128)"
      ]
     },
     "execution_count": 119,
     "metadata": {},
     "output_type": "execute_result"
    }
   ],
   "source": [
    "fvm_vanilla.membership_degrees_current"
   ]
  },
  {
   "cell_type": "code",
   "execution_count": 120,
   "id": "11acb59e",
   "metadata": {},
   "outputs": [
    {
     "data": {
      "text/plain": [
       "{'centers': [-4.5, 2.5], 'variances': [7, 5], 'n_clusters': 2}"
      ]
     },
     "execution_count": 120,
     "metadata": {},
     "output_type": "execute_result"
    }
   ],
   "source": [
    "fvm_vanilla.clusterization_parameters"
   ]
  },
  {
   "cell_type": "code",
   "execution_count": 121,
   "id": "82d32c14",
   "metadata": {
    "scrolled": true
   },
   "outputs": [
    {
     "data": {
      "text/plain": [
       "[{'alpha_0': array([0.0057277 , 0.41819605]),\n",
       "  'alpha': array([[0.09101855, 0.09101855]]),\n",
       "  'beta': array([[0.80179799, 0.80181739]])},\n",
       " {'alpha_0': array([0.29486296, 0.44271091]),\n",
       "  'alpha': array([[0.08223756, 0.08212994]]),\n",
       "  'beta': array([[0.84196163, 0.8420965 ]])},\n",
       " {'alpha_0': array([0.18478127, 8.42622788]),\n",
       "  'alpha': array([[0.08362359, 0.08362398]]),\n",
       "  'beta': array([[0.82941984, 0.82928645]])},\n",
       " {'alpha_0': array([8.15013020e-01, 4.73338541e-05], dtype=float128),\n",
       "  'alpha': array([[0.08669119, 0.08702428]], dtype=float128),\n",
       "  'beta': array([[0.81276828, 0.81275508]], dtype=float128)},\n",
       " {'alpha_0': array([0.06086538, 0.47353231]),\n",
       "  'alpha': array([[0.09088587, 0.09088773]]),\n",
       "  'beta': array([[0.79642389, 0.79652146]])},\n",
       " {'alpha_0': array([0.01873716, 0.40717408]),\n",
       "  'alpha': array([[0.08852096, 0.08852043]]),\n",
       "  'beta': array([[0.80477448, 0.80485765]])},\n",
       " {'alpha_0': array([0.0106083 , 0.43298488]),\n",
       "  'alpha': array([[0.09114333, 0.09114811]]),\n",
       "  'beta': array([[0.79491263, 0.7949314 ]])},\n",
       " {'alpha_0': array([3.03980341e-04, 3.86143678e-01]),\n",
       "  'alpha': array([[0.08437212, 0.0843724 ]]),\n",
       "  'beta': array([[0.81702774, 0.8170547 ]])},\n",
       " {'alpha_0': array([1.038187  , 0.39070583]),\n",
       "  'alpha': array([[0.08522311, 0.08522506]]),\n",
       "  'beta': array([[0.81137285, 0.81143388]])},\n",
       " {'alpha_0': array([1.09804394e-04, 4.74238238e-01]),\n",
       "  'alpha': array([[0.08679416, 0.08679458]]),\n",
       "  'beta': array([[0.80550139, 0.80554938]])},\n",
       " {'alpha_0': array([1.50648146, 0.33754661]),\n",
       "  'alpha': array([[0.08852839, 0.08852864]]),\n",
       "  'beta': array([[0.80041425, 0.80050805]])}]"
      ]
     },
     "execution_count": 121,
     "metadata": {},
     "output_type": "execute_result"
    }
   ],
   "source": [
    "fvm_vanilla._parameters_hist"
   ]
  },
  {
   "cell_type": "markdown",
   "id": "70f4fd09",
   "metadata": {},
   "source": [
    "### Plots"
   ]
  },
  {
   "cell_type": "code",
   "execution_count": 122,
   "id": "7f68c3af",
   "metadata": {},
   "outputs": [
    {
     "data": {
      "image/png": "[encoded data removed]",
      "text/plain": [
       "<Figure size 432x288 with 1 Axes>"
      ]
     },
     "metadata": {
      "needs_background": "light"
     },
     "output_type": "display_data"
    }
   ],
   "source": [
    "plt.plot((np.array(fvm_vanilla._hist_output) ** .5), label='forecast')\n",
    "plt.plot(test_small.values, label='actual values')\n",
    "\n",
    "plt.legend()\n",
    "plt.grid()\n",
    "plt.show()"
   ]
  },
  {
   "cell_type": "code",
   "execution_count": 123,
   "id": "2ae102a3",
   "metadata": {},
   "outputs": [
    {
     "data": {
      "image/png": "[encoded data removed]",
      "text/plain": [
       "<Figure size 432x288 with 1 Axes>"
      ]
     },
     "metadata": {
      "needs_background": "light"
     },
     "output_type": "display_data"
    }
   ],
   "source": [
    "(fvm_vanilla.hist_output ** .5).plot(label='forecast')\n",
    "test_small.plot(label='actual values')\n",
    "\n",
    "plt.legend()\n",
    "plt.grid()\n",
    "plt.show()"
   ]
  },
  {
   "cell_type": "code",
   "execution_count": 124,
   "id": "c002898f",
   "metadata": {},
   "outputs": [
    {
     "data": {
      "image/png": "[encoded data removed]",
      "text/plain": [
       "<Figure size 1080x576 with 1 Axes>"
      ]
     },
     "metadata": {
      "needs_background": "light"
     },
     "output_type": "display_data"
    }
   ],
   "source": [
    "(fvm_vanilla.hist_output ** .5).plot(label='forecast', figsize=(15, 8))\n",
    "input_cut.plot(label='actual values')\n",
    "\n",
    "plt.legend()\n",
    "plt.grid()\n",
    "plt.show()"
   ]
  },
  {
   "cell_type": "markdown",
   "id": "6b2e8ae4",
   "metadata": {},
   "source": [
    "### Errors"
   ]
  },
  {
   "cell_type": "code",
   "execution_count": 125,
   "id": "c307806d",
   "metadata": {
    "scrolled": true
   },
   "outputs": [
    {
     "data": {
      "text/plain": [
       "7.897144479490540774"
      ]
     },
     "execution_count": 125,
     "metadata": {},
     "output_type": "execute_result"
    }
   ],
   "source": [
    "mean_squared_error(fvm_vanilla.hist_output ** .5, test_small, squared=True)"
   ]
  },
  {
   "cell_type": "code",
   "execution_count": 126,
   "id": "87294864",
   "metadata": {},
   "outputs": [
    {
     "data": {
      "text/plain": [
       "1.0000052192637280836"
      ]
     },
     "execution_count": 126,
     "metadata": {},
     "output_type": "execute_result"
    }
   ],
   "source": [
    "_ / mean_squared_error(fvm.hist_output ** .5, test_small, squared=True)"
   ]
  },
  {
   "cell_type": "code",
   "execution_count": 127,
   "id": "f13748a2",
   "metadata": {},
   "outputs": [
    {
     "data": {
      "text/plain": [
       "0.00052192637280836342087"
      ]
     },
     "execution_count": 127,
     "metadata": {},
     "output_type": "execute_result"
    }
   ],
   "source": [
    "(_ - 1) * 100"
   ]
  },
  {
   "cell_type": "code",
   "execution_count": 128,
   "id": "6b445093",
   "metadata": {},
   "outputs": [
    {
     "data": {
      "text/plain": [
       "2.8101858442975868023"
      ]
     },
     "execution_count": 128,
     "metadata": {},
     "output_type": "execute_result"
    }
   ],
   "source": [
    "mean_squared_error(fvm_vanilla.hist_output ** .5, test_small, squared=False)"
   ]
  },
  {
   "cell_type": "code",
   "execution_count": 129,
   "id": "6ecc2ea7",
   "metadata": {},
   "outputs": [
    {
     "data": {
      "text/plain": [
       "1.1224402800376515556"
      ]
     },
     "execution_count": 129,
     "metadata": {},
     "output_type": "execute_result"
    }
   ],
   "source": [
    "mean_absolute_percentage_error(fvm_vanilla.hist_output ** .5, test_small)"
   ]
  },
  {
   "cell_type": "markdown",
   "id": "f527df76",
   "metadata": {},
   "source": [
    "## Diff w/ seasonal model"
   ]
  },
  {
   "cell_type": "code",
   "execution_count": 130,
   "id": "33f7a5c5",
   "metadata": {},
   "outputs": [
    {
     "data": {
      "text/plain": [
       "array([ 0.00000000e+00,  4.59071811e-04,  1.29045193e-03,  1.75636172e-03,\n",
       "        1.92163107e-03,  1.85209945e-03,  1.64838122e-03,  1.37042393e-03,\n",
       "        1.07187730e-03,  8.11555925e-04,  6.20391389e-04,  4.60233021e-04,\n",
       "        3.24623422e-04,  2.27346708e-04,  5.18157350e-05, -1.67665650e-04,\n",
       "       -4.01581240e-04, -6.00056254e-04, -7.68792343e-04, -7.83472320e-04,\n",
       "       -6.23059338e-04, -5.22123980e-04, -4.98857646e-04, -5.58898172e-04,\n",
       "       -6.71779828e-04, -7.64043466e-04, -8.30357202e-04, -8.43082097e-04,\n",
       "       -8.06157454e-04, -8.54486403e-04, -9.52020769e-04, -1.07276701e-03,\n",
       "       -1.17138915e-03, -1.24737208e-03, -1.34240666e-03, -1.43257496e-03,\n",
       "       -1.50005980e-03, -1.56040609e-03, -1.62280456e-03, -1.65277186e-03,\n",
       "       -1.65258793e-03, -1.69205827e-03, -1.75745290e-03, -1.81155391e-03,\n",
       "       -1.84694705e-03, -1.88108803e-03, -1.89908736e-03, -1.92216241e-03,\n",
       "       -1.96046153e-03, -2.00064638e-03, -2.04940451e-03, -2.09931649e-03,\n",
       "       -2.14459241e-03, -2.18991120e-03, -2.19064510e-03, -2.15666482e-03,\n",
       "       -2.15231961e-03, -2.12015275e-03, -2.06158439e-03, -2.04476258e-03,\n",
       "       -2.05643518e-03, -2.07058487e-03, -2.08299207e-03, -2.09997810e-03,\n",
       "       -2.10547458e-03, -2.12178501e-03, -2.12947343e-03, -2.12435067e-03,\n",
       "       -2.08849361e-03, -2.00340849e-03, -1.94254684e-03, -1.91370979e-03,\n",
       "       -1.91116857e-03, -1.92880967e-03, -1.95585887e-03, -1.93592506e-03,\n",
       "       -1.87663682e-03, -1.84649679e-03, -1.83397599e-03, -1.68871327e-03,\n",
       "       -1.40870569e-03, -1.04257793e-03, -5.52414565e-04, -5.13120281e-05,\n",
       "        5.01835311e-04,  8.92972767e-04,  1.05130523e-03,  1.05446839e-03,\n",
       "        9.17752291e-04,  7.51137744e-04,  9.07698496e-04,  1.25371803e-03,\n",
       "        1.32329988e-03,  1.46207642e-03,  1.83494730e-03,  2.30482545e-03,\n",
       "        2.68441639e-03,  2.73756237e-03,  2.59438007e-03,  2.32357300e-03,\n",
       "        1.97504223e-03,  1.68167077e-03,  1.46953308e-03,  1.18118039e-03,\n",
       "        8.44523163e-04,  5.41602272e-04,  2.84211368e-04,  1.08969966e-04,\n",
       "        1.20463600e-05, -1.59247897e-04, -3.67681767e-04], dtype=float128)"
      ]
     },
     "execution_count": 130,
     "metadata": {},
     "output_type": "execute_result"
    }
   ],
   "source": [
    "fvm.h - fvm_vanilla.h"
   ]
  },
  {
   "cell_type": "code",
   "execution_count": 131,
   "id": "3458d28c",
   "metadata": {},
   "outputs": [
    {
     "data": {
      "text/plain": [
       "-0.0005371182899514067328"
      ]
     },
     "execution_count": 131,
     "metadata": {},
     "output_type": "execute_result"
    }
   ],
   "source": [
    "_.mean()"
   ]
  },
  {
   "cell_type": "markdown",
   "id": "592c5dad",
   "metadata": {},
   "source": [
    "## Same data fed to GARCH(1, 1)"
   ]
  },
  {
   "cell_type": "markdown",
   "id": "ba0e281d",
   "metadata": {},
   "source": [
    "### No retraining"
   ]
  },
  {
   "cell_type": "code",
   "execution_count": 132,
   "id": "528064bb",
   "metadata": {},
   "outputs": [],
   "source": [
    "model = arch_model(train,\n",
    "                   mean=local_method_parameters['mean'],\n",
    "                   vol='GARCH', p=local_method_parameters['p'],\n",
    "                   q=local_method_parameters['q'],\n",
    "                   dist=local_method_parameters['dist'])"
   ]
  },
  {
   "cell_type": "code",
   "execution_count": 133,
   "id": "530db4c6",
   "metadata": {},
   "outputs": [
    {
     "data": {
      "text/plain": [
       "GARCH(p: 1, q: 1), id: 0x7fcbbfb11640"
      ]
     },
     "execution_count": 133,
     "metadata": {},
     "output_type": "execute_result"
    }
   ],
   "source": [
    "model.volatility"
   ]
  },
  {
   "cell_type": "code",
   "execution_count": 134,
   "id": "bb9ee778",
   "metadata": {},
   "outputs": [
    {
     "name": "stdout",
     "output_type": "stream",
     "text": [
      "Iteration:      1,   Func. Count:      5,   Neg. LLF: 299.2568988057981\n",
      "Iteration:      2,   Func. Count:     11,   Neg. LLF: 218.16618783247299\n",
      "Iteration:      3,   Func. Count:     19,   Neg. LLF: 216.13038589493937\n",
      "Iteration:      4,   Func. Count:     25,   Neg. LLF: 210.3506174261232\n",
      "Iteration:      5,   Func. Count:     30,   Neg. LLF: 210.03006916424286\n",
      "Iteration:      6,   Func. Count:     34,   Neg. LLF: 210.02991627546388\n",
      "Iteration:      7,   Func. Count:     38,   Neg. LLF: 210.02991515111927\n",
      "Iteration:      8,   Func. Count:     41,   Neg. LLF: 210.0299151508097\n",
      "Optimization terminated successfully    (Exit mode 0)\n",
      "            Current function value: 210.02991515111927\n",
      "            Iterations: 8\n",
      "            Function evaluations: 41\n",
      "            Gradient evaluations: 8\n"
     ]
    }
   ],
   "source": [
    "fitted = model.fit()"
   ]
  },
  {
   "cell_type": "code",
   "execution_count": 135,
   "id": "c54be497",
   "metadata": {},
   "outputs": [
    {
     "data": {
      "text/plain": [
       "<bound method ARCHModelResult.summary of                        Zero Mean - GARCH Model Results                        \n",
       "==============================================================================\n",
       "Dep. Variable:             log return   R-squared:                       0.000\n",
       "Mean Model:                 Zero Mean   Adj. R-squared:                  0.010\n",
       "Vol Model:                      GARCH   Log-Likelihood:               -210.030\n",
       "Distribution:                  Normal   AIC:                           426.060\n",
       "Method:            Maximum Likelihood   BIC:                           433.875\n",
       "                                        No. Observations:                  100\n",
       "Date:                Sun, Sep 04 2022   Df Residuals:                      100\n",
       "Time:                        23:24:36   Df Model:                            0\n",
       "                             Volatility Model                             \n",
       "==========================================================================\n",
       "                 coef    std err          t      P>|t|    95.0% Conf. Int.\n",
       "--------------------------------------------------------------------------\n",
       "omega          0.1765      0.151      1.170      0.242   [ -0.119,  0.472]\n",
       "alpha[1]       0.1164  4.498e-02      2.587  9.675e-03 [2.822e-02,  0.205]\n",
       "beta[1]        0.8368  5.250e-02     15.939  3.413e-57   [  0.734,  0.940]\n",
       "==========================================================================\n",
       "\n",
       "Covariance estimator: robust\n",
       "ARCHModelResult, id: 0x7fcbbf5bf460>"
      ]
     },
     "execution_count": 135,
     "metadata": {},
     "output_type": "execute_result"
    }
   ],
   "source": [
    "fitted.summary"
   ]
  },
  {
   "cell_type": "code",
   "execution_count": 136,
   "id": "a3585cd3",
   "metadata": {},
   "outputs": [
    {
     "data": {
      "text/plain": [
       "omega       0.176520\n",
       "alpha[1]    0.116376\n",
       "beta[1]     0.836795\n",
       "Name: params, dtype: float64"
      ]
     },
     "execution_count": 136,
     "metadata": {},
     "output_type": "execute_result"
    }
   ],
   "source": [
    "fitted.params"
   ]
  },
  {
   "cell_type": "code",
   "execution_count": 137,
   "id": "7e9d7b7d",
   "metadata": {},
   "outputs": [
    {
     "data": {
      "text/plain": [
       "array([0.17652034, 1.83264352, 0.1821474 , 0.42230558], dtype=float128)"
      ]
     },
     "execution_count": 137,
     "metadata": {},
     "output_type": "execute_result"
    }
   ],
   "source": [
    "fvm.alpha_0"
   ]
  },
  {
   "cell_type": "code",
   "execution_count": 138,
   "id": "35a92d77",
   "metadata": {},
   "outputs": [
    {
     "data": {
      "text/plain": [
       "array([[0.51760574, 0.15731828, 0.08854221, 0.08853695]], dtype=float128)"
      ]
     },
     "execution_count": 138,
     "metadata": {},
     "output_type": "execute_result"
    }
   ],
   "source": [
    "fvm.alpha"
   ]
  },
  {
   "cell_type": "code",
   "execution_count": 139,
   "id": "c56cc12f",
   "metadata": {},
   "outputs": [
    {
     "data": {
      "text/plain": [
       "array([[0.8367954 , 0.8367954 , 0.80071355, 0.80069742]], dtype=float128)"
      ]
     },
     "execution_count": 139,
     "metadata": {},
     "output_type": "execute_result"
    }
   ],
   "source": [
    "fvm.beta"
   ]
  },
  {
   "cell_type": "code",
   "execution_count": 140,
   "id": "fe5ba7e6",
   "metadata": {},
   "outputs": [],
   "source": [
    "forecast = fitted.forecast(reindex=False, horizon=1)"
   ]
  },
  {
   "cell_type": "code",
   "execution_count": 141,
   "id": "18ec4493",
   "metadata": {},
   "outputs": [],
   "source": [
    "forecast_variance = forecast.variance.iloc[0]"
   ]
  },
  {
   "cell_type": "code",
   "execution_count": 142,
   "id": "024c2b0a",
   "metadata": {},
   "outputs": [
    {
     "data": {
      "text/plain": [
       "h.1    5.947653\n",
       "Name: 2010-06-03 00:00:00, dtype: float64"
      ]
     },
     "execution_count": 142,
     "metadata": {},
     "output_type": "execute_result"
    }
   ],
   "source": [
    "forecast_variance"
   ]
  },
  {
   "cell_type": "code",
   "execution_count": 143,
   "id": "bd541618",
   "metadata": {},
   "outputs": [],
   "source": [
    "simple_garch_forecasts = garch_fitted.forecast(horizon=n_test, reindex=False).variance.iloc[0].values"
   ]
  },
  {
   "cell_type": "code",
   "execution_count": 144,
   "id": "6f77383a",
   "metadata": {},
   "outputs": [
    {
     "data": {
      "text/plain": [
       "28.996156386614256"
      ]
     },
     "execution_count": 144,
     "metadata": {},
     "output_type": "execute_result"
    }
   ],
   "source": [
    "mean_squared_error(simple_garch_forecasts, test_small ** 2, squared=True)"
   ]
  },
  {
   "cell_type": "markdown",
   "id": "2c3d954d",
   "metadata": {},
   "source": [
    "### With retraining"
   ]
  },
  {
   "cell_type": "code",
   "execution_count": 145,
   "id": "348f93ef",
   "metadata": {},
   "outputs": [],
   "source": [
    "def calc_vanilla_garch_wr_mse(info, data, garch_mean, garch_vol, garch_dist):\n",
    "    train_size = info.loc['Train size']\n",
    "    test_size = info.loc['Test size']\n",
    "    p = info.loc['p']\n",
    "    q = info.loc['q']\n",
    "    \n",
    "    train = data[info.loc['Start date']:].iloc[:train_size]\n",
    "    test = data[info.loc['Start date']:].iloc[train_size:(train_size + test_size)]\n",
    "    \n",
    "    forecast = calculate_retraining_garch_forecasts(train, test,\n",
    "                                                    mean=garch_mean,\n",
    "                                                    vol=garch_vol,\n",
    "                                                    p=p,\n",
    "                                                    q=q,\n",
    "                                                    dist=garch_dist)\n",
    "    \n",
    "    mse = mean_squared_error(forecast, test ** 2, squared=True)\n",
    "    \n",
    "    return mse"
   ]
  },
  {
   "cell_type": "markdown",
   "id": "248f600a",
   "metadata": {},
   "source": [
    "# Bollocks"
   ]
  },
  {
   "cell_type": "code",
   "execution_count": 146,
   "id": "ff484e78",
   "metadata": {},
   "outputs": [],
   "source": [
    "from multiprocessing import Pool"
   ]
  },
  {
   "cell_type": "code",
   "execution_count": 147,
   "id": "ae0daaa5",
   "metadata": {},
   "outputs": [],
   "source": [
    "def f(length):\n",
    "    arr = []\n",
    "    for i in range(int(length)):\n",
    "        arr.append(i + 1)\n",
    "    return arr"
   ]
  },
  {
   "cell_type": "code",
   "execution_count": 148,
   "id": "97561e80",
   "metadata": {},
   "outputs": [
    {
     "name": "stdout",
     "output_type": "stream",
     "text": [
      "CPU times: user 11.5 ms, sys: 3.13 ms, total: 14.6 ms\n",
      "Wall time: 14.4 ms\n"
     ]
    }
   ],
   "source": [
    "%%time\n",
    "\n",
    "arr = f(1e5)"
   ]
  }
 ],
 "metadata": {
  "kernelspec": {
   "display_name": "Python 3 (ipykernel)",
   "language": "python",
   "name": "python3"
  },
  "language_info": {
   "codemirror_mode": {
    "name": "ipython",
    "version": 3
   },
   "file_extension": ".py",
   "mimetype": "text/x-python",
   "name": "python",
   "nbconvert_exporter": "python",
   "pygments_lexer": "ipython3",
   "version": "3.9.7"
  }
 },
 "nbformat": 4,
 "nbformat_minor": 5
}
