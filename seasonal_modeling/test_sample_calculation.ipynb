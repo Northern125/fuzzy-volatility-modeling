{
 "cells": [
  {
   "cell_type": "code",
   "execution_count": 1,
   "id": "32c0bd17",
   "metadata": {},
   "outputs": [],
   "source": [
    "import pandas as pd\n",
    "import numpy as np\n",
    "import json\n",
    "import pickle\n",
    "import matplotlib.pyplot as plt\n",
    "import logging\n",
    "import scipy.stats as sts\n",
    "import pickle\n",
    "from sklearn.metrics import mean_squared_error, mean_absolute_percentage_error\n",
    "import os\n",
    "\n",
    "from arch import arch_model"
   ]
  },
  {
   "cell_type": "code",
   "execution_count": 2,
   "id": "e1c5b8a3",
   "metadata": {},
   "outputs": [],
   "source": [
    "ini_work_dir = os.getcwd()\n",
    "os.chdir('..')"
   ]
  },
  {
   "cell_type": "code",
   "execution_count": 3,
   "id": "13b0ff36",
   "metadata": {},
   "outputs": [],
   "source": [
    "from rules_related import combine_rules_outputs\n",
    "from whole_algorithm import train_model\n",
    "from auxiliary import calc_log_returns, unpack_1d_parameters\n",
    "from multivariate_normal_distribution import LongMultivariateNormal\n",
    "from model import FuzzyVolatilityModel\n",
    "from antecedent_fitting import fit_antecedent_params\n",
    "from local_models import calculate_retraining_garch_forecasts"
   ]
  },
  {
   "cell_type": "code",
   "execution_count": 4,
   "id": "74cbe52f",
   "metadata": {},
   "outputs": [],
   "source": [
    "with open('config.json') as file:\n",
    "    config = json.load(file)"
   ]
  },
  {
   "cell_type": "code",
   "execution_count": 5,
   "id": "8cde608a",
   "metadata": {},
   "outputs": [],
   "source": [
    "files_folder = config['files_folders']['processed']\n",
    "RESEARCH_RESULTS_FOLDER = config['files_folders']['research_results']\n",
    "antecedent_params_folder = config['files_folders']['antecedent_params_sets']\n",
    "logs_folder = config['files_folders']['logs']"
   ]
  },
  {
   "cell_type": "code",
   "execution_count": 6,
   "id": "0f12106b",
   "metadata": {},
   "outputs": [],
   "source": [
    "TESTED_MODEL_FILE_NAME = 'tested_model_seasonal'\n",
    "TESTED_MODEL_WOS_FILE_NAME = 'tested_model_wo_seas'"
   ]
  },
  {
   "cell_type": "code",
   "execution_count": 7,
   "id": "04f39566",
   "metadata": {},
   "outputs": [],
   "source": [
    "logger = logging.getLogger(f'test_calc')  # apf == antecedent params fitting\n",
    "\n",
    "_log_file = f'{logs_folder}/{logger.name}.log'\n",
    "logging.basicConfig(level=logging.INFO,\n",
    "                    filename=_log_file,\n",
    "                    filemode='w',\n",
    "                    format='%(asctime)s,%(msecs)d %(name)s %(levelname)s %(message)s',\n",
    "                    datefmt='%H:%M:%S')"
   ]
  },
  {
   "cell_type": "code",
   "execution_count": 8,
   "id": "129f3574",
   "metadata": {},
   "outputs": [],
   "source": [
    "pd.options.display.precision = 15\n",
    "pd.options.display.max_colwidth = 300"
   ]
  },
  {
   "cell_type": "markdown",
   "id": "ef8a25b7",
   "metadata": {},
   "source": [
    "# Reading"
   ]
  },
  {
   "cell_type": "code",
   "execution_count": 9,
   "id": "10254449",
   "metadata": {},
   "outputs": [],
   "source": [
    "_files = ['fitting_consequent_params_seasonal_result_nb_0_2022-10-02 06-37-57.207337.pkl']\n",
    "res_big = [pd.read_pickle(f'{RESEARCH_RESULTS_FOLDER}/{_file}') for _file in _files]\n",
    "_res = [_elem for res_piece in res_big for _elem in res_piece['result']].copy()\n",
    "\n",
    "res = pd.DataFrame.from_records(_res).copy()"
   ]
  },
  {
   "cell_type": "code",
   "execution_count": 10,
   "id": "44d32b80",
   "metadata": {},
   "outputs": [],
   "source": [
    "if (res['status'] != 0).any():\n",
    "    raise Error('Not all models were fitted')"
   ]
  },
  {
   "cell_type": "code",
   "execution_count": 11,
   "id": "9a921487",
   "metadata": {},
   "outputs": [
    {
     "data": {
      "text/plain": [
       "[{'a': [1.0, 1.0],\n",
       "  'b': [5.0, 1.0],\n",
       "  'c': [5.0, 1.0],\n",
       "  'd': [5.0, 5.0],\n",
       "  'n_clusters': 2},\n",
       " {'centers': (-0.05499999999999999, -0.015, 0.015, 0.06),\n",
       "  'variances': (0.06, 0.04, 0.06, 0.06),\n",
       "  'n_clusters': 4}]"
      ]
     },
     "execution_count": 11,
     "metadata": {},
     "output_type": "execute_result"
    }
   ],
   "source": [
    "fitted_ap = res[res['rmse'] == res['rmse'].min()].iloc[0]['antecedent_params'].copy()\n",
    "fitted_ap"
   ]
  },
  {
   "cell_type": "code",
   "execution_count": 12,
   "id": "8423187a",
   "metadata": {
    "scrolled": true
   },
   "outputs": [
    {
     "data": {
      "text/plain": [
       "(1, 8)"
      ]
     },
     "execution_count": 12,
     "metadata": {},
     "output_type": "execute_result"
    }
   ],
   "source": [
    "res[res['rmse'] == res['rmse'].min()].shape"
   ]
  },
  {
   "cell_type": "code",
   "execution_count": 13,
   "id": "4fbda7fd",
   "metadata": {},
   "outputs": [],
   "source": [
    "fvm = res[res['rmse'] == res['rmse'].min()].iloc[0]['fvm']"
   ]
  },
  {
   "cell_type": "code",
   "execution_count": 14,
   "id": "080b0c69",
   "metadata": {},
   "outputs": [],
   "source": [
    "test = res_big[0]['test'].copy()\n",
    "data_to_cluster_test = res_big[0]['data_to_cluster_test'].copy()"
   ]
  },
  {
   "cell_type": "code",
   "execution_count": 19,
   "id": "64ecf26a-0dd0-44fd-93a9-eafdf85f91e9",
   "metadata": {},
   "outputs": [],
   "source": [
    "# with open('antecedent_params_sets/current_antecedent_fitting_metadata_seasonal.pkl', 'rb') as _file:\n",
    "#     cafmd = pickle.load(_file)"
   ]
  },
  {
   "cell_type": "code",
   "execution_count": 21,
   "id": "2c79ffba-8362-4c5c-ae3e-1469a4a8f6b4",
   "metadata": {},
   "outputs": [],
   "source": [
    "# test = cafmd['test'].copy()\n",
    "# data_to_cluster_test = cafmd['data_to_cluster_test'].copy()"
   ]
  },
  {
   "cell_type": "code",
   "execution_count": 22,
   "id": "66e33ebb-db90-4882-b32b-fd407c849af2",
   "metadata": {},
   "outputs": [
    {
     "data": {
      "text/plain": [
       "<DATE>\n",
       "2020-01-03    0.009803811137246\n",
       "2020-01-06    0.002662386290432\n",
       "2020-01-08    0.013131121111568\n",
       "2020-01-09    0.007935305929078\n",
       "2020-01-10    0.008052449439401\n",
       "                    ...        \n",
       "2021-12-23   -0.008815656816666\n",
       "2021-12-24   -0.002345509615600\n",
       "2021-12-27    0.011772741444152\n",
       "2021-12-28    0.005499817885985\n",
       "2021-12-29   -0.013750064360213\n",
       "Name: log return, Length: 504, dtype: float64"
      ]
     },
     "execution_count": 22,
     "metadata": {},
     "output_type": "execute_result"
    }
   ],
   "source": [
    "test"
   ]
  },
  {
   "cell_type": "code",
   "execution_count": 23,
   "id": "aba5ab20-4119-454f-81e9-c97348d3939f",
   "metadata": {},
   "outputs": [
    {
     "data": {
      "image/png": "[encoded data removed]",
      "text/plain": [
       "<Figure size 432x288 with 1 Axes>"
      ]
     },
     "metadata": {
      "needs_background": "light"
     },
     "output_type": "display_data"
    }
   ],
   "source": [
    "_slc = slice(-400, None)\n",
    "plt.plot(fvm.h[:-1][_slc], label='$h_t$')\n",
    "plt.plot(res_big[0]['train'].values[_slc] ** 2, label='$y_t$')\n",
    "\n",
    "plt.legend()\n",
    "plt.grid()"
   ]
  },
  {
   "cell_type": "code",
   "execution_count": 24,
   "id": "2886ad5c-e06e-4600-925e-d9e87fd5f465",
   "metadata": {
    "collapsed": true,
    "jupyter": {
     "outputs_hidden": true
    },
    "tags": []
   },
   "outputs": [
    {
     "data": {
      "text/html": [
       "<div>\n",
       "<style scoped>\n",
       "    .dataframe tbody tr th:only-of-type {\n",
       "        vertical-align: middle;\n",
       "    }\n",
       "\n",
       "    .dataframe tbody tr th {\n",
       "        vertical-align: top;\n",
       "    }\n",
       "\n",
       "    .dataframe thead th {\n",
       "        text-align: right;\n",
       "    }\n",
       "</style>\n",
       "<table border=\"1\" class=\"dataframe\">\n",
       "  <thead>\n",
       "    <tr style=\"text-align: right;\">\n",
       "      <th></th>\n",
       "      <th>antecedent_params</th>\n",
       "      <th>status</th>\n",
       "      <th>fvm</th>\n",
       "      <th>mse</th>\n",
       "      <th>rmse</th>\n",
       "      <th>mape</th>\n",
       "      <th>exception</th>\n",
       "      <th>traceback</th>\n",
       "    </tr>\n",
       "  </thead>\n",
       "  <tbody>\n",
       "    <tr>\n",
       "      <th>459</th>\n",
       "      <td>[{'a': [1.0, 1.0], 'b': [5.0, 1.0], 'c': [5.0, 1.0], 'd': [5.0, 5.0], 'n_clusters': 2}, {'centers': (-0.05499999999999999, -0.015, 0.015, 0.06), 'variances': (0.06, 0.04, 0.06, 0.06), 'n_clusters': 4}]</td>\n",
       "      <td>0</td>\n",
       "      <td>&lt;model.FuzzyVolatilityModel object at 0x2b6fe3464490&gt;</td>\n",
       "      <td>0.000000760514742</td>\n",
       "      <td>0.000872074963697</td>\n",
       "      <td>1.122054045992051</td>\n",
       "      <td>None</td>\n",
       "      <td>None</td>\n",
       "    </tr>\n",
       "    <tr>\n",
       "      <th>875</th>\n",
       "      <td>[{'a': [1.0, 1.0], 'b': [5.0, 1.0], 'c': [5.0, 1.0], 'd': [5.0, 5.0], 'n_clusters': 2}, {'centers': (-0.095, -0.015, 0.015, 0.04), 'variances': (0.06, 0.04, 0.06, 0.06), 'n_clusters': 4}]</td>\n",
       "      <td>0</td>\n",
       "      <td>&lt;model.FuzzyVolatilityModel object at 0x2b6fe471e250&gt;</td>\n",
       "      <td>0.000000760514742</td>\n",
       "      <td>0.000872074963698</td>\n",
       "      <td>1.122054057358615</td>\n",
       "      <td>None</td>\n",
       "      <td>None</td>\n",
       "    </tr>\n",
       "    <tr>\n",
       "      <th>75</th>\n",
       "      <td>[{'a': [1.0, 1.0], 'b': [5.0, 1.0], 'c': [5.0, 1.0], 'd': [5.0, 5.0], 'n_clusters': 2}, {'centers': (-0.075, -0.015, 0.035, 0.06), 'variances': (0.06, 0.04, 0.06, 0.06), 'n_clusters': 4}]</td>\n",
       "      <td>0</td>\n",
       "      <td>&lt;model.FuzzyVolatilityModel object at 0x2b6fe2319820&gt;</td>\n",
       "      <td>0.000000760514742</td>\n",
       "      <td>0.000872074963698</td>\n",
       "      <td>1.122054113472667</td>\n",
       "      <td>None</td>\n",
       "      <td>None</td>\n",
       "    </tr>\n",
       "    <tr>\n",
       "      <th>955</th>\n",
       "      <td>[{'a': [1.0, 1.0], 'b': [5.0, 1.0], 'c': [5.0, 1.0], 'd': [5.0, 5.0], 'n_clusters': 2}, {'centers': (-0.095, -0.015, 0.035, 0.02), 'variances': (0.06, 0.04, 0.06, 0.06), 'n_clusters': 4}]</td>\n",
       "      <td>0</td>\n",
       "      <td>&lt;model.FuzzyVolatilityModel object at 0x2b6fe4ab3b20&gt;</td>\n",
       "      <td>0.000000760514742</td>\n",
       "      <td>0.000872074963699</td>\n",
       "      <td>1.122054080492022</td>\n",
       "      <td>None</td>\n",
       "      <td>None</td>\n",
       "    </tr>\n",
       "    <tr>\n",
       "      <th>974</th>\n",
       "      <td>[{'a': [1.0, 1.0], 'b': [5.0, 1.0], 'c': [5.0, 1.0], 'd': [5.0, 5.0], 'n_clusters': 2}, {'centers': (-0.095, -0.015, -0.005000000000000001, 0.04), 'variances': (0.06, 0.06, 0.06, 0.04), 'n_clusters': 4}]</td>\n",
       "      <td>0</td>\n",
       "      <td>&lt;model.FuzzyVolatilityModel object at 0x2b6fe4b8d910&gt;</td>\n",
       "      <td>0.000000760514742</td>\n",
       "      <td>0.000872074963699</td>\n",
       "      <td>1.122054075139307</td>\n",
       "      <td>None</td>\n",
       "      <td>None</td>\n",
       "    </tr>\n",
       "    <tr>\n",
       "      <th>...</th>\n",
       "      <td>...</td>\n",
       "      <td>...</td>\n",
       "      <td>...</td>\n",
       "      <td>...</td>\n",
       "      <td>...</td>\n",
       "      <td>...</td>\n",
       "      <td>...</td>\n",
       "      <td>...</td>\n",
       "    </tr>\n",
       "    <tr>\n",
       "      <th>957</th>\n",
       "      <td>[{'a': [1.0, 1.0], 'b': [5.0, 1.0], 'c': [5.0, 1.0], 'd': [5.0, 5.0], 'n_clusters': 2}, {'centers': (-0.095, -0.015, 0.035, 0.02), 'variances': (0.06, 0.06, 0.04, 0.06), 'n_clusters': 4}]</td>\n",
       "      <td>0</td>\n",
       "      <td>&lt;model.FuzzyVolatilityModel object at 0x2b6fe4acb9a0&gt;</td>\n",
       "      <td>0.000000760528653</td>\n",
       "      <td>0.000872082939196</td>\n",
       "      <td>1.121101086843143</td>\n",
       "      <td>None</td>\n",
       "      <td>None</td>\n",
       "    </tr>\n",
       "    <tr>\n",
       "      <th>231</th>\n",
       "      <td>[{'a': [1.0, 1.0], 'b': [5.0, 1.0], 'c': [5.0, 1.0], 'd': [5.0, 5.0], 'n_clusters': 2}, {'centers': (-0.075, 0.005000000000000001, 0.035, 0.02), 'variances': (0.04, 0.06, 0.06, 0.06), 'n_clusters': 4}]</td>\n",
       "      <td>0</td>\n",
       "      <td>&lt;model.FuzzyVolatilityModel object at 0x2b6fe2a230a0&gt;</td>\n",
       "      <td>0.000000760530184</td>\n",
       "      <td>0.000872083816815</td>\n",
       "      <td>1.120986934030317</td>\n",
       "      <td>None</td>\n",
       "      <td>None</td>\n",
       "    </tr>\n",
       "    <tr>\n",
       "      <th>273</th>\n",
       "      <td>[{'a': [1.0, 1.0], 'b': [5.0, 1.0], 'c': [5.0, 1.0], 'd': [5.0, 5.0], 'n_clusters': 2}, {'centers': (-0.075, 0.005000000000000001, -0.005000000000000001, 0.02), 'variances': (0.04, 0.04, 0.04, 0.06), 'n_clusters': 4}]</td>\n",
       "      <td>0</td>\n",
       "      <td>&lt;model.FuzzyVolatilityModel object at 0x2b6fe2c00d90&gt;</td>\n",
       "      <td>0.000000760544188</td>\n",
       "      <td>0.000872091846057</td>\n",
       "      <td>1.120711177393733</td>\n",
       "      <td>None</td>\n",
       "      <td>None</td>\n",
       "    </tr>\n",
       "    <tr>\n",
       "      <th>755</th>\n",
       "      <td>[{'a': [1.0, 1.0], 'b': [5.0, 1.0], 'c': [5.0, 1.0], 'd': [5.0, 5.0], 'n_clusters': 2}, {'centers': (-0.05499999999999999, -0.035, 0.015, 0.02), 'variances': (0.04, 0.04, 0.06, 0.06), 'n_clusters': 4}]</td>\n",
       "      <td>0</td>\n",
       "      <td>&lt;model.FuzzyVolatilityModel object at 0x2b6fe41b4a90&gt;</td>\n",
       "      <td>0.000000770067605</td>\n",
       "      <td>0.000877534959491</td>\n",
       "      <td>1.103318065760372</td>\n",
       "      <td>None</td>\n",
       "      <td>None</td>\n",
       "    </tr>\n",
       "    <tr>\n",
       "      <th>1277</th>\n",
       "      <td>[{'a': [1.0, 1.0], 'b': [5.0, 1.0], 'c': [5.0, 1.0], 'd': [5.0, 5.0], 'n_clusters': 2}, {'centers': (-0.095, -0.035, -0.005000000000000001, 0.06), 'variances': (0.06, 0.06, 0.04, 0.06), 'n_clusters': 4}]</td>\n",
       "      <td>0</td>\n",
       "      <td>&lt;model.FuzzyVolatilityModel object at 0x2b6fe5935640&gt;</td>\n",
       "      <td>0.000000818106861</td>\n",
       "      <td>0.000904492598748</td>\n",
       "      <td>1.094483599477240</td>\n",
       "      <td>None</td>\n",
       "      <td>None</td>\n",
       "    </tr>\n",
       "  </tbody>\n",
       "</table>\n",
       "<p>2592 rows × 8 columns</p>\n",
       "</div>"
      ],
      "text/plain": [
       "                                                                                                                                                                                                              antecedent_params  \\\n",
       "459                   [{'a': [1.0, 1.0], 'b': [5.0, 1.0], 'c': [5.0, 1.0], 'd': [5.0, 5.0], 'n_clusters': 2}, {'centers': (-0.05499999999999999, -0.015, 0.015, 0.06), 'variances': (0.06, 0.04, 0.06, 0.06), 'n_clusters': 4}]   \n",
       "875                                 [{'a': [1.0, 1.0], 'b': [5.0, 1.0], 'c': [5.0, 1.0], 'd': [5.0, 5.0], 'n_clusters': 2}, {'centers': (-0.095, -0.015, 0.015, 0.04), 'variances': (0.06, 0.04, 0.06, 0.06), 'n_clusters': 4}]   \n",
       "75                                  [{'a': [1.0, 1.0], 'b': [5.0, 1.0], 'c': [5.0, 1.0], 'd': [5.0, 5.0], 'n_clusters': 2}, {'centers': (-0.075, -0.015, 0.035, 0.06), 'variances': (0.06, 0.04, 0.06, 0.06), 'n_clusters': 4}]   \n",
       "955                                 [{'a': [1.0, 1.0], 'b': [5.0, 1.0], 'c': [5.0, 1.0], 'd': [5.0, 5.0], 'n_clusters': 2}, {'centers': (-0.095, -0.015, 0.035, 0.02), 'variances': (0.06, 0.04, 0.06, 0.06), 'n_clusters': 4}]   \n",
       "974                 [{'a': [1.0, 1.0], 'b': [5.0, 1.0], 'c': [5.0, 1.0], 'd': [5.0, 5.0], 'n_clusters': 2}, {'centers': (-0.095, -0.015, -0.005000000000000001, 0.04), 'variances': (0.06, 0.06, 0.06, 0.04), 'n_clusters': 4}]   \n",
       "...                                                                                                                                                                                                                         ...   \n",
       "957                                 [{'a': [1.0, 1.0], 'b': [5.0, 1.0], 'c': [5.0, 1.0], 'd': [5.0, 5.0], 'n_clusters': 2}, {'centers': (-0.095, -0.015, 0.035, 0.02), 'variances': (0.06, 0.06, 0.04, 0.06), 'n_clusters': 4}]   \n",
       "231                   [{'a': [1.0, 1.0], 'b': [5.0, 1.0], 'c': [5.0, 1.0], 'd': [5.0, 5.0], 'n_clusters': 2}, {'centers': (-0.075, 0.005000000000000001, 0.035, 0.02), 'variances': (0.04, 0.06, 0.06, 0.06), 'n_clusters': 4}]   \n",
       "273   [{'a': [1.0, 1.0], 'b': [5.0, 1.0], 'c': [5.0, 1.0], 'd': [5.0, 5.0], 'n_clusters': 2}, {'centers': (-0.075, 0.005000000000000001, -0.005000000000000001, 0.02), 'variances': (0.04, 0.04, 0.04, 0.06), 'n_clusters': 4}]   \n",
       "755                   [{'a': [1.0, 1.0], 'b': [5.0, 1.0], 'c': [5.0, 1.0], 'd': [5.0, 5.0], 'n_clusters': 2}, {'centers': (-0.05499999999999999, -0.035, 0.015, 0.02), 'variances': (0.04, 0.04, 0.06, 0.06), 'n_clusters': 4}]   \n",
       "1277                [{'a': [1.0, 1.0], 'b': [5.0, 1.0], 'c': [5.0, 1.0], 'd': [5.0, 5.0], 'n_clusters': 2}, {'centers': (-0.095, -0.035, -0.005000000000000001, 0.06), 'variances': (0.06, 0.06, 0.04, 0.06), 'n_clusters': 4}]   \n",
       "\n",
       "      status                                                    fvm  \\\n",
       "459        0  <model.FuzzyVolatilityModel object at 0x2b6fe3464490>   \n",
       "875        0  <model.FuzzyVolatilityModel object at 0x2b6fe471e250>   \n",
       "75         0  <model.FuzzyVolatilityModel object at 0x2b6fe2319820>   \n",
       "955        0  <model.FuzzyVolatilityModel object at 0x2b6fe4ab3b20>   \n",
       "974        0  <model.FuzzyVolatilityModel object at 0x2b6fe4b8d910>   \n",
       "...      ...                                                    ...   \n",
       "957        0  <model.FuzzyVolatilityModel object at 0x2b6fe4acb9a0>   \n",
       "231        0  <model.FuzzyVolatilityModel object at 0x2b6fe2a230a0>   \n",
       "273        0  <model.FuzzyVolatilityModel object at 0x2b6fe2c00d90>   \n",
       "755        0  <model.FuzzyVolatilityModel object at 0x2b6fe41b4a90>   \n",
       "1277       0  <model.FuzzyVolatilityModel object at 0x2b6fe5935640>   \n",
       "\n",
       "                    mse               rmse               mape exception  \\\n",
       "459   0.000000760514742  0.000872074963697  1.122054045992051      None   \n",
       "875   0.000000760514742  0.000872074963698  1.122054057358615      None   \n",
       "75    0.000000760514742  0.000872074963698  1.122054113472667      None   \n",
       "955   0.000000760514742  0.000872074963699  1.122054080492022      None   \n",
       "974   0.000000760514742  0.000872074963699  1.122054075139307      None   \n",
       "...                 ...                ...                ...       ...   \n",
       "957   0.000000760528653  0.000872082939196  1.121101086843143      None   \n",
       "231   0.000000760530184  0.000872083816815  1.120986934030317      None   \n",
       "273   0.000000760544188  0.000872091846057  1.120711177393733      None   \n",
       "755   0.000000770067605  0.000877534959491  1.103318065760372      None   \n",
       "1277  0.000000818106861  0.000904492598748  1.094483599477240      None   \n",
       "\n",
       "     traceback  \n",
       "459       None  \n",
       "875       None  \n",
       "75        None  \n",
       "955       None  \n",
       "974       None  \n",
       "...        ...  \n",
       "957       None  \n",
       "231       None  \n",
       "273       None  \n",
       "755       None  \n",
       "1277      None  \n",
       "\n",
       "[2592 rows x 8 columns]"
      ]
     },
     "execution_count": 24,
     "metadata": {},
     "output_type": "execute_result"
    }
   ],
   "source": [
    "res.sort_values('rmse', ascending=True)"
   ]
  },
  {
   "cell_type": "markdown",
   "id": "3e7f2a97-6633-4020-aec3-e7de9d943c7b",
   "metadata": {},
   "source": [
    "# CHANGING `n_points_fitting`"
   ]
  },
  {
   "cell_type": "code",
   "execution_count": 25,
   "id": "f1695378-223f-472e-b308-c3371e74b436",
   "metadata": {},
   "outputs": [],
   "source": [
    "fvm.n_points_fitting = 504\n",
    "fvm._fitting_slice = slice(-fvm.n_points_fitting if fvm.n_points_fitting is not None else None, None)"
   ]
  },
  {
   "cell_type": "markdown",
   "id": "d192721a",
   "metadata": {},
   "source": [
    "# Live feeding"
   ]
  },
  {
   "cell_type": "code",
   "execution_count": null,
   "id": "d7533224",
   "metadata": {},
   "outputs": [],
   "source": [
    "%%time\n",
    "\n",
    "fvm.feed_daily_data(test, data_to_cluster=data_to_cluster_test)"
   ]
  },
  {
   "cell_type": "code",
   "execution_count": null,
   "id": "8bbfa9f6",
   "metadata": {},
   "outputs": [],
   "source": [
    "_cur_time = str(pd.Timestamp.today()).replace(':', '-')\n",
    "print(_cur_time)\n",
    "\n",
    "with open(f'{RESEARCH_RESULTS_FOLDER}/{TESTED_MODEL_FILE_NAME}_{_cur_time}.pkl', 'wb') as _file:\n",
    "    pickle.dump(fvm, _file)"
   ]
  },
  {
   "cell_type": "code",
   "execution_count": null,
   "id": "cf880138",
   "metadata": {},
   "outputs": [],
   "source": [
    "fvm.hist_output"
   ]
  },
  {
   "cell_type": "code",
   "execution_count": null,
   "id": "981ca255",
   "metadata": {},
   "outputs": [],
   "source": [
    "fvm.membership_degrees_hist"
   ]
  },
  {
   "cell_type": "code",
   "execution_count": null,
   "id": "ceb696d3",
   "metadata": {},
   "outputs": [],
   "source": [
    "_.shape"
   ]
  },
  {
   "cell_type": "code",
   "execution_count": null,
   "id": "346d2366",
   "metadata": {},
   "outputs": [],
   "source": [
    "pd.DataFrame.from_records(fvm._membership_degrees_hist)"
   ]
  },
  {
   "cell_type": "code",
   "execution_count": null,
   "id": "a4eed467",
   "metadata": {},
   "outputs": [],
   "source": [
    "test.index.dayofweek"
   ]
  },
  {
   "cell_type": "code",
   "execution_count": null,
   "id": "f15129aa",
   "metadata": {},
   "outputs": [],
   "source": [
    "res_big[0]['data_to_cluster_test'][0]"
   ]
  },
  {
   "cell_type": "code",
   "execution_count": null,
   "id": "f20c737b",
   "metadata": {},
   "outputs": [],
   "source": [
    "fitted_ap"
   ]
  },
  {
   "cell_type": "code",
   "execution_count": null,
   "id": "ac866e95",
   "metadata": {
    "scrolled": true
   },
   "outputs": [],
   "source": [
    "fvm._parameters_hist"
   ]
  },
  {
   "cell_type": "code",
   "execution_count": null,
   "id": "ed7a50c3",
   "metadata": {},
   "outputs": [],
   "source": [
    "fvm.show_ls_results()"
   ]
  },
  {
   "cell_type": "code",
   "execution_count": null,
   "id": "80c2f907",
   "metadata": {},
   "outputs": [],
   "source": [
    "res_big[0].keys()"
   ]
  },
  {
   "cell_type": "code",
   "execution_count": null,
   "id": "58748ea1",
   "metadata": {},
   "outputs": [],
   "source": [
    "mse = mean_squared_error(fvm.hist_output, test ** 2, squared=True)\n",
    "rmse = mean_squared_error(fvm.hist_output, test ** 2, squared=False)"
   ]
  },
  {
   "cell_type": "code",
   "execution_count": null,
   "id": "565cdd9b",
   "metadata": {},
   "outputs": [],
   "source": [
    "rmse"
   ]
  },
  {
   "cell_type": "code",
   "execution_count": null,
   "id": "7c8b7c83",
   "metadata": {},
   "outputs": [],
   "source": [
    "mse"
   ]
  },
  {
   "cell_type": "code",
   "execution_count": null,
   "id": "8a251dc1",
   "metadata": {},
   "outputs": [],
   "source": [
    "test ** 2"
   ]
  },
  {
   "cell_type": "code",
   "execution_count": null,
   "id": "dfd3b1d1",
   "metadata": {},
   "outputs": [],
   "source": [
    "fvm.hist_output"
   ]
  },
  {
   "cell_type": "code",
   "execution_count": null,
   "id": "bb825dff",
   "metadata": {},
   "outputs": [],
   "source": [
    "fvm.hist_output.plot(grid=True, label='$h_t$')\n",
    "(test ** 2).plot(grid=True, label='$y_t^2$')\n",
    "\n",
    "plt.legend()"
   ]
  },
  {
   "cell_type": "code",
   "execution_count": null,
   "id": "70f48955",
   "metadata": {},
   "outputs": [],
   "source": [
    "test.plot(grid=True)"
   ]
  },
  {
   "cell_type": "code",
   "execution_count": null,
   "id": "db18925e",
   "metadata": {},
   "outputs": [],
   "source": []
  }
 ],
 "metadata": {
  "kernelspec": {
   "display_name": "Python [.conda-fuzzy-volatility]",
   "language": "python",
   "name": "conda-env-.conda-fuzzy-volatility-py"
  },
  "language_info": {
   "codemirror_mode": {
    "name": "ipython",
    "version": 3
   },
   "file_extension": ".py",
   "mimetype": "text/x-python",
   "name": "python",
   "nbconvert_exporter": "python",
   "pygments_lexer": "ipython3",
   "version": "3.9.7"
  }
 },
 "nbformat": 4,
 "nbformat_minor": 5
}
