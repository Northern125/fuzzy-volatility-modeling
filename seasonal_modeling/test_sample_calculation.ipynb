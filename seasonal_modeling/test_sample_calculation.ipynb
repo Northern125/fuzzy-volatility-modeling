{
 "cells": [
  {
   "cell_type": "code",
   "execution_count": 1,
   "id": "32c0bd17",
   "metadata": {},
   "outputs": [],
   "source": [
    "import pandas as pd\n",
    "import numpy as np\n",
    "import json\n",
    "import pickle\n",
    "import matplotlib.pyplot as plt\n",
    "import logging\n",
    "import scipy.stats as sts\n",
    "import pickle\n",
    "from sklearn.metrics import mean_squared_error, mean_absolute_percentage_error\n",
    "import os\n",
    "\n",
    "from arch import arch_model"
   ]
  },
  {
   "cell_type": "code",
   "execution_count": 2,
   "id": "e1c5b8a3",
   "metadata": {},
   "outputs": [],
   "source": [
    "ini_work_dir = os.getcwd()\n",
    "os.chdir('..')"
   ]
  },
  {
   "cell_type": "code",
   "execution_count": 3,
   "id": "13b0ff36",
   "metadata": {},
   "outputs": [],
   "source": [
    "from rules_related import combine_rules_outputs\n",
    "from whole_algorithm import train_model\n",
    "from auxiliary import calc_log_returns, unpack_1d_parameters\n",
    "from multivariate_normal_distribution import LongMultivariateNormal\n",
    "from model import FuzzyVolatilityModel\n",
    "from antecedent_fitting import fit_antecedent_params\n",
    "from local_models import calculate_retraining_garch_forecasts"
   ]
  },
  {
   "cell_type": "code",
   "execution_count": 4,
   "id": "74cbe52f",
   "metadata": {},
   "outputs": [],
   "source": [
    "with open('config.json') as file:\n",
    "    config = json.load(file)"
   ]
  },
  {
   "cell_type": "code",
   "execution_count": 5,
   "id": "8cde608a",
   "metadata": {},
   "outputs": [],
   "source": [
    "files_folder = config['files_folders']['processed']\n",
    "RESEARCH_RESULTS_FOLDER = config['files_folders']['research_results']\n",
    "antecedent_params_folder = config['files_folders']['antecedent_params_sets']\n",
    "logs_folder = config['files_folders']['logs']"
   ]
  },
  {
   "cell_type": "code",
   "execution_count": 6,
   "id": "0f12106b",
   "metadata": {},
   "outputs": [],
   "source": [
    "TESTED_MODEL_FILE_NAME = 'tested_model_seasonal'\n",
    "TESTED_MODEL_WOS_FILE_NAME = 'tested_model_wo_seas'"
   ]
  },
  {
   "cell_type": "code",
   "execution_count": 7,
   "id": "04f39566",
   "metadata": {},
   "outputs": [],
   "source": [
    "logger = logging.getLogger(f'test_calc')  # apf == antecedent params fitting\n",
    "\n",
    "_log_file = f'{logs_folder}/{logger.name}.log'\n",
    "logging.basicConfig(level=logging.INFO,\n",
    "                    filename=_log_file,\n",
    "                    filemode='w',\n",
    "                    format='%(asctime)s,%(msecs)d %(name)s %(levelname)s %(message)s',\n",
    "                    datefmt='%H:%M:%S')"
   ]
  },
  {
   "cell_type": "code",
   "execution_count": 8,
   "id": "129f3574",
   "metadata": {},
   "outputs": [],
   "source": [
    "pd.options.display.precision = 15\n",
    "pd.options.display.max_colwidth = 300"
   ]
  },
  {
   "cell_type": "markdown",
   "id": "ef8a25b7",
   "metadata": {},
   "source": [
    "# Reading"
   ]
  },
  {
   "cell_type": "code",
   "execution_count": 9,
   "id": "10254449",
   "metadata": {},
   "outputs": [],
   "source": [
    "_files = ['fitting_consequent_params_seasonal_result_nb_0_2022-09-25 19-55-30.854710.pkl',\n",
    "          'fitting_consequent_params_seasonal_result_nb_1_2022-09-25 20-16-50.717650.pkl']\n",
    "res_big = [pd.read_pickle(f'{RESEARCH_RESULTS_FOLDER}/{_file}') for _file in _files]\n",
    "_res = [_elem for res_piece in res_big for _elem in res_piece['result']].copy()\n",
    "\n",
    "res = pd.DataFrame.from_records(_res).copy()"
   ]
  },
  {
   "cell_type": "code",
   "execution_count": 10,
   "id": "44d32b80",
   "metadata": {},
   "outputs": [],
   "source": [
    "if (res['status'] != 0).any():\n",
    "    raise Error('Not all models were fitted')"
   ]
  },
  {
   "cell_type": "code",
   "execution_count": 12,
   "id": "9a921487",
   "metadata": {},
   "outputs": [
    {
     "data": {
      "text/plain": [
       "[{'a': [1.0, 1.0],\n",
       "  'b': [5.0, 1.0],\n",
       "  'c': [5.0, 1.0],\n",
       "  'd': [5.0, 5.0],\n",
       "  'n_clusters': 2},\n",
       " {'centers': (-7.5, -1.5, 3.5, 4.0),\n",
       "  'variances': (6, 4, 6, 6),\n",
       "  'n_clusters': 4}]"
      ]
     },
     "execution_count": 12,
     "metadata": {},
     "output_type": "execute_result"
    }
   ],
   "source": [
    "fitted_ap = res[res['rmse'] == res['rmse'].min()].iloc[0]['antecedent_params'].copy()\n",
    "fitted_ap"
   ]
  },
  {
   "cell_type": "code",
   "execution_count": 20,
   "id": "8423187a",
   "metadata": {
    "scrolled": true
   },
   "outputs": [
    {
     "data": {
      "text/plain": [
       "(20, 8)"
      ]
     },
     "execution_count": 20,
     "metadata": {},
     "output_type": "execute_result"
    }
   ],
   "source": [
    "res[res['rmse'] == res['rmse'].min()].shape"
   ]
  },
  {
   "cell_type": "code",
   "execution_count": 21,
   "id": "4fbda7fd",
   "metadata": {},
   "outputs": [],
   "source": [
    "fvm = res[res['rmse'] == res['rmse'].min()].iloc[0]['fvm']"
   ]
  },
  {
   "cell_type": "code",
   "execution_count": 22,
   "id": "080b0c69",
   "metadata": {},
   "outputs": [],
   "source": [
    "test = res_big[0]['test'].copy()\n",
    "data_to_cluster_test = res_big[0]['data_to_cluster_test'].copy()"
   ]
  },
  {
   "cell_type": "markdown",
   "id": "d192721a",
   "metadata": {},
   "source": [
    "# Live feeding"
   ]
  },
  {
   "cell_type": "code",
   "execution_count": null,
   "id": "d7533224",
   "metadata": {},
   "outputs": [],
   "source": [
    "%%time\n",
    "\n",
    "fvm.feed_daily_data(test, data_to_cluster=data_to_cluster_test)"
   ]
  },
  {
   "cell_type": "code",
   "execution_count": null,
   "id": "8bbfa9f6",
   "metadata": {},
   "outputs": [],
   "source": [
    "_cur_time = str(pd.Timestamp.today()).replace(':', '-')\n",
    "print(_cur_time)\n",
    "\n",
    "with open(f'{RESEARCH_RESULTS_FOLDER}/{TESTED_MODEL_FILE_NAME}_{_cur_time}.pkl', 'wb') as _file:\n",
    "    pickle.dump(fvm, _file)"
   ]
  },
  {
   "cell_type": "code",
   "execution_count": null,
   "id": "cf880138",
   "metadata": {},
   "outputs": [],
   "source": [
    "fvm.hist_output"
   ]
  },
  {
   "cell_type": "code",
   "execution_count": null,
   "id": "981ca255",
   "metadata": {},
   "outputs": [],
   "source": [
    "fvm.membership_degrees_hist"
   ]
  },
  {
   "cell_type": "code",
   "execution_count": null,
   "id": "ceb696d3",
   "metadata": {},
   "outputs": [],
   "source": [
    "_.shape"
   ]
  },
  {
   "cell_type": "code",
   "execution_count": null,
   "id": "346d2366",
   "metadata": {},
   "outputs": [],
   "source": [
    "pd.DataFrame.from_records(fvm._membership_degrees_hist)"
   ]
  },
  {
   "cell_type": "code",
   "execution_count": null,
   "id": "a4eed467",
   "metadata": {},
   "outputs": [],
   "source": [
    "test.index.dayofweek"
   ]
  },
  {
   "cell_type": "code",
   "execution_count": null,
   "id": "f15129aa",
   "metadata": {},
   "outputs": [],
   "source": [
    "res_big[0]['data_to_cluster_test'][0]"
   ]
  },
  {
   "cell_type": "code",
   "execution_count": null,
   "id": "f20c737b",
   "metadata": {},
   "outputs": [],
   "source": [
    "fitted_ap"
   ]
  },
  {
   "cell_type": "code",
   "execution_count": null,
   "id": "ac866e95",
   "metadata": {
    "scrolled": true
   },
   "outputs": [],
   "source": [
    "fvm._parameters_hist"
   ]
  },
  {
   "cell_type": "code",
   "execution_count": null,
   "id": "ed7a50c3",
   "metadata": {},
   "outputs": [],
   "source": [
    "fvm.show_ls_results()"
   ]
  },
  {
   "cell_type": "code",
   "execution_count": null,
   "id": "80c2f907",
   "metadata": {},
   "outputs": [],
   "source": [
    "res_big[0].keys()"
   ]
  },
  {
   "cell_type": "code",
   "execution_count": null,
   "id": "58748ea1",
   "metadata": {},
   "outputs": [],
   "source": [
    "mse = mean_squared_error(fvm.hist_output, test ** 2, squared=True)\n",
    "rmse = mean_squared_error(fvm.hist_output, test ** 2, squared=False)"
   ]
  },
  {
   "cell_type": "code",
   "execution_count": null,
   "id": "565cdd9b",
   "metadata": {},
   "outputs": [],
   "source": [
    "rmse"
   ]
  },
  {
   "cell_type": "code",
   "execution_count": null,
   "id": "7c8b7c83",
   "metadata": {},
   "outputs": [],
   "source": [
    "mse"
   ]
  },
  {
   "cell_type": "code",
   "execution_count": null,
   "id": "8a251dc1",
   "metadata": {},
   "outputs": [],
   "source": [
    "test ** 2"
   ]
  },
  {
   "cell_type": "code",
   "execution_count": null,
   "id": "dfd3b1d1",
   "metadata": {},
   "outputs": [],
   "source": [
    "fvm.hist_output"
   ]
  },
  {
   "cell_type": "code",
   "execution_count": null,
   "id": "bb825dff",
   "metadata": {},
   "outputs": [],
   "source": [
    "fvm.hist_output.plot(grid=True, label='$h_t$')\n",
    "(test ** 2).plot(grid=True, label='$y_t^2$')\n",
    "\n",
    "plt.legend()"
   ]
  },
  {
   "cell_type": "code",
   "execution_count": null,
   "id": "70f48955",
   "metadata": {},
   "outputs": [],
   "source": [
    "test.plot(grid=True)"
   ]
  },
  {
   "cell_type": "code",
   "execution_count": null,
   "id": "db18925e",
   "metadata": {},
   "outputs": [],
   "source": []
  }
 ],
 "metadata": {
  "kernelspec": {
   "display_name": "Python 3 (ipykernel)",
   "language": "python",
   "name": "python3"
  },
  "language_info": {
   "codemirror_mode": {
    "name": "ipython",
    "version": 3
   },
   "file_extension": ".py",
   "mimetype": "text/x-python",
   "name": "python",
   "nbconvert_exporter": "python",
   "pygments_lexer": "ipython3",
   "version": "3.9.7"
  }
 },
 "nbformat": 4,
 "nbformat_minor": 5
}
