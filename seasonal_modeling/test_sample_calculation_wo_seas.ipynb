{
 "cells": [
  {
   "cell_type": "code",
   "execution_count": 1,
   "id": "c803b917",
   "metadata": {},
   "outputs": [],
   "source": [
    "import pandas as pd\n",
    "import numpy as np\n",
    "import json\n",
    "import pickle\n",
    "import matplotlib.pyplot as plt\n",
    "import logging\n",
    "import scipy.stats as sts\n",
    "import pickle\n",
    "from sklearn.metrics import mean_squared_error, mean_absolute_percentage_error\n",
    "import os\n",
    "\n",
    "from arch import arch_model"
   ]
  },
  {
   "cell_type": "code",
   "execution_count": 2,
   "id": "fec8e4ac",
   "metadata": {},
   "outputs": [],
   "source": [
    "ini_work_dir = os.getcwd()\n",
    "os.chdir('..')"
   ]
  },
  {
   "cell_type": "code",
   "execution_count": 3,
   "id": "f24bc04e",
   "metadata": {},
   "outputs": [],
   "source": [
    "from rules_related import combine_rules_outputs\n",
    "from whole_algorithm import train_model\n",
    "from auxiliary import calc_log_returns, unpack_1d_parameters\n",
    "from multivariate_normal_distribution import LongMultivariateNormal\n",
    "from model import FuzzyVolatilityModel\n",
    "from antecedent_fitting import fit_antecedent_params\n",
    "from local_models import calculate_retraining_garch_forecasts"
   ]
  },
  {
   "cell_type": "code",
   "execution_count": 4,
   "id": "5bdb298c",
   "metadata": {},
   "outputs": [],
   "source": [
    "with open('config.json') as file:\n",
    "    config = json.load(file)"
   ]
  },
  {
   "cell_type": "code",
   "execution_count": 5,
   "id": "7cc5cbf1",
   "metadata": {},
   "outputs": [],
   "source": [
    "files_folder = config['files_folders']['processed']\n",
    "RESEARCH_RESULTS_FOLDER = config['files_folders']['research_results']\n",
    "antecedent_params_folder = config['files_folders']['antecedent_params_sets']\n",
    "logs_folder = config['files_folders']['logs']"
   ]
  },
  {
   "cell_type": "code",
   "execution_count": 6,
   "id": "b2ed4ae8",
   "metadata": {},
   "outputs": [],
   "source": [
    "TESTED_MODEL_FILE_NAME = 'tested_model_wo_seas'"
   ]
  },
  {
   "cell_type": "code",
   "execution_count": 7,
   "id": "b16fc92b",
   "metadata": {},
   "outputs": [],
   "source": [
    "logger = logging.getLogger(f'test_calc_wo_seas')  # apf == antecedent params fitting\n",
    "\n",
    "_log_file = f'{logs_folder}/{logger.name}.log'\n",
    "logging.basicConfig(level=logging.INFO,\n",
    "                    filename=_log_file,\n",
    "                    filemode='w',\n",
    "                    format='%(asctime)s,%(msecs)d %(name)s %(levelname)s %(message)s',\n",
    "                    datefmt='%H:%M:%S')"
   ]
  },
  {
   "cell_type": "code",
   "execution_count": 8,
   "id": "aa29f67f",
   "metadata": {},
   "outputs": [],
   "source": [
    "pd.options.display.precision = 15\n",
    "pd.options.display.max_colwidth = 300"
   ]
  },
  {
   "cell_type": "markdown",
   "id": "3f462917",
   "metadata": {},
   "source": [
    "# Reading"
   ]
  },
  {
   "cell_type": "code",
   "execution_count": 9,
   "id": "94ec23ed",
   "metadata": {},
   "outputs": [],
   "source": [
    "_files = ['fitting_consequent_params_wo_seas_result_nb_0_2022-09-25 18-56-38.347745.pkl']\n",
    "res_big = [pd.read_pickle(f'{RESEARCH_RESULTS_FOLDER}/{_file}') for _file in _files]\n",
    "_res = [_elem for res_piece in res_big for _elem in res_piece['result']].copy()\n",
    "\n",
    "res = pd.DataFrame.from_records(_res).copy()"
   ]
  },
  {
   "cell_type": "code",
   "execution_count": 10,
   "id": "b119a1a3",
   "metadata": {},
   "outputs": [],
   "source": [
    "if (res['status'] != 0).any():\n",
    "    raise Error('Not all models were fitted')"
   ]
  },
  {
   "cell_type": "code",
   "execution_count": 11,
   "id": "0e3e8d41",
   "metadata": {},
   "outputs": [
    {
     "data": {
      "text/plain": [
       "[{'centers': (-7.5, 0.5, 3.5, 6.0),\n",
       "  'variances': (4, 4, 4, 4),\n",
       "  'n_clusters': 4}]"
      ]
     },
     "execution_count": 11,
     "metadata": {},
     "output_type": "execute_result"
    }
   ],
   "source": [
    "fitted_ap = res[res['rmse'] == res['rmse'].min()].iloc[0]['antecedent_params'].copy()\n",
    "fitted_ap"
   ]
  },
  {
   "cell_type": "code",
   "execution_count": 12,
   "id": "94a18a95",
   "metadata": {},
   "outputs": [],
   "source": [
    "fvm = res[res['rmse'] == res['rmse'].min()].iloc[0]['fvm']"
   ]
  },
  {
   "cell_type": "code",
   "execution_count": 13,
   "id": "94f52d16",
   "metadata": {},
   "outputs": [],
   "source": [
    "test = res_big[0]['test'].copy()\n",
    "data_to_cluster_test = res_big[0]['data_to_cluster_test'].copy()"
   ]
  },
  {
   "cell_type": "markdown",
   "id": "e0b43a62",
   "metadata": {},
   "source": [
    "# Live feeding"
   ]
  },
  {
   "cell_type": "code",
   "execution_count": 14,
   "id": "df9eb0d3",
   "metadata": {},
   "outputs": [
    {
     "name": "stdout",
     "output_type": "stream",
     "text": [
      "CPU times: user 5min 49s, sys: 5.04 s, total: 5min 54s\n",
      "Wall time: 6min 53s\n"
     ]
    }
   ],
   "source": [
    "%%time\n",
    "\n",
    "fvm.feed_daily_data(test, data_to_cluster=data_to_cluster_test)"
   ]
  },
  {
   "cell_type": "code",
   "execution_count": 15,
   "id": "ba02c847",
   "metadata": {},
   "outputs": [
    {
     "name": "stdout",
     "output_type": "stream",
     "text": [
      "2022-09-26 00-16-39.372568\n"
     ]
    }
   ],
   "source": [
    "_cur_time = str(pd.Timestamp.today()).replace(':', '-')\n",
    "print(_cur_time)\n",
    "\n",
    "with open(f'{RESEARCH_RESULTS_FOLDER}/{TESTED_MODEL_FILE_NAME}_{_cur_time}.pkl', 'wb') as _file:\n",
    "    pickle.dump(fvm, _file)"
   ]
  },
  {
   "cell_type": "code",
   "execution_count": 16,
   "id": "b763a9f4",
   "metadata": {},
   "outputs": [
    {
     "data": {
      "text/plain": [
       "2015-01-08    0.000471692125238\n",
       "2015-01-09    0.004298278163680\n",
       "2015-01-12    0.001030127084269\n",
       "2015-01-13    0.000911157550797\n",
       "2015-01-14    0.000630633229352\n",
       "2015-01-15    0.000310714960803\n",
       "2015-01-16    0.000648118232059\n",
       "2015-01-19    0.000336928976519\n",
       "2015-01-20    0.000295169424936\n",
       "2015-01-21    0.000386485455462\n",
       "2015-01-22    0.000909594388537\n",
       "2015-01-23    0.001346007900438\n",
       "2015-01-26    0.000304724714192\n",
       "2015-01-27    0.001638959510211\n",
       "2015-01-28    0.000302963629716\n",
       "2015-01-29    0.000598958420790\n",
       "2015-01-30    0.000605046818139\n",
       "2015-02-02    0.000401354971506\n",
       "2015-02-03    0.000370998243032\n",
       "2015-02-04    0.001850360627553\n",
       "2015-02-05    0.000538784209423\n",
       "dtype: float128"
      ]
     },
     "execution_count": 16,
     "metadata": {},
     "output_type": "execute_result"
    }
   ],
   "source": [
    "fvm.hist_output"
   ]
  },
  {
   "cell_type": "code",
   "execution_count": 17,
   "id": "47567fd7",
   "metadata": {},
   "outputs": [
    {
     "data": {
      "text/html": [
       "<div>\n",
       "<style scoped>\n",
       "    .dataframe tbody tr th:only-of-type {\n",
       "        vertical-align: middle;\n",
       "    }\n",
       "\n",
       "    .dataframe tbody tr th {\n",
       "        vertical-align: top;\n",
       "    }\n",
       "\n",
       "    .dataframe thead th {\n",
       "        text-align: right;\n",
       "    }\n",
       "</style>\n",
       "<table border=\"1\" class=\"dataframe\">\n",
       "  <thead>\n",
       "    <tr style=\"text-align: right;\">\n",
       "      <th></th>\n",
       "      <th>0</th>\n",
       "      <th>1</th>\n",
       "      <th>2</th>\n",
       "      <th>3</th>\n",
       "    </tr>\n",
       "    <tr>\n",
       "      <th>&lt;DATE&gt;</th>\n",
       "      <th></th>\n",
       "      <th></th>\n",
       "      <th></th>\n",
       "      <th></th>\n",
       "    </tr>\n",
       "  </thead>\n",
       "  <tbody>\n",
       "    <tr>\n",
       "      <th>2015-01-08</th>\n",
       "      <td>3.556665089711452e-31</td>\n",
       "      <td>0.999999681058291</td>\n",
       "      <td>0.000000318941709</td>\n",
       "      <td>4.223778364417996e-20</td>\n",
       "    </tr>\n",
       "    <tr>\n",
       "      <th>2015-01-09</th>\n",
       "      <td>4.269313937713055e-31</td>\n",
       "      <td>0.999999702170193</td>\n",
       "      <td>0.000000297829807</td>\n",
       "      <td>3.725392126774580e-20</td>\n",
       "    </tr>\n",
       "    <tr>\n",
       "      <th>2015-01-12</th>\n",
       "      <td>4.388765301412337e-31</td>\n",
       "      <td>0.999999705236258</td>\n",
       "      <td>0.000000294763742</td>\n",
       "      <td>3.655382363652086e-20</td>\n",
       "    </tr>\n",
       "    <tr>\n",
       "      <th>2015-01-13</th>\n",
       "      <td>4.849510562314977e-31</td>\n",
       "      <td>0.999999716067088</td>\n",
       "      <td>0.000000283932912</td>\n",
       "      <td>3.412918185079057e-20</td>\n",
       "    </tr>\n",
       "    <tr>\n",
       "      <th>2015-01-14</th>\n",
       "      <td>5.129982574806421e-31</td>\n",
       "      <td>0.999999721990910</td>\n",
       "      <td>0.000000278009090</td>\n",
       "      <td>3.283511338243090e-20</td>\n",
       "    </tr>\n",
       "    <tr>\n",
       "      <th>2015-01-15</th>\n",
       "      <td>4.695590000849377e-31</td>\n",
       "      <td>0.999999712611996</td>\n",
       "      <td>0.000000287388004</td>\n",
       "      <td>3.489443706523359e-20</td>\n",
       "    </tr>\n",
       "    <tr>\n",
       "      <th>2015-01-16</th>\n",
       "      <td>4.240947596985547e-31</td>\n",
       "      <td>0.999999701424717</td>\n",
       "      <td>0.000000298575284</td>\n",
       "      <td>3.742505364673429e-20</td>\n",
       "    </tr>\n",
       "    <tr>\n",
       "      <th>2015-01-19</th>\n",
       "      <td>4.229772035527288e-31</td>\n",
       "      <td>0.999999701129134</td>\n",
       "      <td>0.000000298870866</td>\n",
       "      <td>3.749300659182727e-20</td>\n",
       "    </tr>\n",
       "    <tr>\n",
       "      <th>2015-01-20</th>\n",
       "      <td>4.028506309710628e-31</td>\n",
       "      <td>0.999999695614877</td>\n",
       "      <td>0.000000304385123</td>\n",
       "      <td>3.877096781334916e-20</td>\n",
       "    </tr>\n",
       "    <tr>\n",
       "      <th>2015-01-21</th>\n",
       "      <td>3.621300739479292e-31</td>\n",
       "      <td>0.999999683205079</td>\n",
       "      <td>0.000000316794921</td>\n",
       "      <td>4.171802675280347e-20</td>\n",
       "    </tr>\n",
       "    <tr>\n",
       "      <th>2015-01-22</th>\n",
       "      <td>3.925786206838465e-31</td>\n",
       "      <td>0.999999692652315</td>\n",
       "      <td>0.000000307347685</td>\n",
       "      <td>3.946559045720581e-20</td>\n",
       "    </tr>\n",
       "    <tr>\n",
       "      <th>2015-01-23</th>\n",
       "      <td>3.612536792242351e-31</td>\n",
       "      <td>0.999999682917096</td>\n",
       "      <td>0.000000317082904</td>\n",
       "      <td>4.178758030728100e-20</td>\n",
       "    </tr>\n",
       "    <tr>\n",
       "      <th>2015-01-26</th>\n",
       "      <td>3.728262465657897e-31</td>\n",
       "      <td>0.999999686644368</td>\n",
       "      <td>0.000000313355632</td>\n",
       "      <td>4.089144565543063e-20</td>\n",
       "    </tr>\n",
       "    <tr>\n",
       "      <th>2015-01-27</th>\n",
       "      <td>3.525708047934349e-31</td>\n",
       "      <td>0.999999680010999</td>\n",
       "      <td>0.000000319989001</td>\n",
       "      <td>4.249240384128169e-20</td>\n",
       "    </tr>\n",
       "    <tr>\n",
       "      <th>2015-01-28</th>\n",
       "      <td>3.747063274223710e-31</td>\n",
       "      <td>0.999999687234890</td>\n",
       "      <td>0.000000312765110</td>\n",
       "      <td>4.075027915875199e-20</td>\n",
       "    </tr>\n",
       "    <tr>\n",
       "      <th>2015-01-29</th>\n",
       "      <td>4.135959008234051e-31</td>\n",
       "      <td>0.999999698604782</td>\n",
       "      <td>0.000000301395218</td>\n",
       "      <td>3.807562336596679e-20</td>\n",
       "    </tr>\n",
       "    <tr>\n",
       "      <th>2015-01-30</th>\n",
       "      <td>4.333058800005502e-31</td>\n",
       "      <td>0.999999703820854</td>\n",
       "      <td>0.000000296179146</td>\n",
       "      <td>3.687626318216565e-20</td>\n",
       "    </tr>\n",
       "    <tr>\n",
       "      <th>2015-02-02</th>\n",
       "      <td>4.199733418034558e-31</td>\n",
       "      <td>0.999999700329291</td>\n",
       "      <td>0.000000299670709</td>\n",
       "      <td>3.767716728962104e-20</td>\n",
       "    </tr>\n",
       "    <tr>\n",
       "      <th>2015-02-03</th>\n",
       "      <td>3.673944712715296e-31</td>\n",
       "      <td>0.999999684915019</td>\n",
       "      <td>0.000000315084981</td>\n",
       "      <td>4.130612867133719e-20</td>\n",
       "    </tr>\n",
       "    <tr>\n",
       "      <th>2015-02-04</th>\n",
       "      <td>4.094983918920196e-31</td>\n",
       "      <td>0.999999697477371</td>\n",
       "      <td>0.000000302522629</td>\n",
       "      <td>3.833714687630285e-20</td>\n",
       "    </tr>\n",
       "    <tr>\n",
       "      <th>2015-02-05</th>\n",
       "      <td>4.101351383860811e-31</td>\n",
       "      <td>0.999999697653585</td>\n",
       "      <td>0.000000302346415</td>\n",
       "      <td>3.829621728908105e-20</td>\n",
       "    </tr>\n",
       "  </tbody>\n",
       "</table>\n",
       "</div>"
      ],
      "text/plain": [
       "                                0                  1                  2  \\\n",
       "<DATE>                                                                    \n",
       "2015-01-08  3.556665089711452e-31  0.999999681058291  0.000000318941709   \n",
       "2015-01-09  4.269313937713055e-31  0.999999702170193  0.000000297829807   \n",
       "2015-01-12  4.388765301412337e-31  0.999999705236258  0.000000294763742   \n",
       "2015-01-13  4.849510562314977e-31  0.999999716067088  0.000000283932912   \n",
       "2015-01-14  5.129982574806421e-31  0.999999721990910  0.000000278009090   \n",
       "2015-01-15  4.695590000849377e-31  0.999999712611996  0.000000287388004   \n",
       "2015-01-16  4.240947596985547e-31  0.999999701424717  0.000000298575284   \n",
       "2015-01-19  4.229772035527288e-31  0.999999701129134  0.000000298870866   \n",
       "2015-01-20  4.028506309710628e-31  0.999999695614877  0.000000304385123   \n",
       "2015-01-21  3.621300739479292e-31  0.999999683205079  0.000000316794921   \n",
       "2015-01-22  3.925786206838465e-31  0.999999692652315  0.000000307347685   \n",
       "2015-01-23  3.612536792242351e-31  0.999999682917096  0.000000317082904   \n",
       "2015-01-26  3.728262465657897e-31  0.999999686644368  0.000000313355632   \n",
       "2015-01-27  3.525708047934349e-31  0.999999680010999  0.000000319989001   \n",
       "2015-01-28  3.747063274223710e-31  0.999999687234890  0.000000312765110   \n",
       "2015-01-29  4.135959008234051e-31  0.999999698604782  0.000000301395218   \n",
       "2015-01-30  4.333058800005502e-31  0.999999703820854  0.000000296179146   \n",
       "2015-02-02  4.199733418034558e-31  0.999999700329291  0.000000299670709   \n",
       "2015-02-03  3.673944712715296e-31  0.999999684915019  0.000000315084981   \n",
       "2015-02-04  4.094983918920196e-31  0.999999697477371  0.000000302522629   \n",
       "2015-02-05  4.101351383860811e-31  0.999999697653585  0.000000302346415   \n",
       "\n",
       "                                3  \n",
       "<DATE>                             \n",
       "2015-01-08  4.223778364417996e-20  \n",
       "2015-01-09  3.725392126774580e-20  \n",
       "2015-01-12  3.655382363652086e-20  \n",
       "2015-01-13  3.412918185079057e-20  \n",
       "2015-01-14  3.283511338243090e-20  \n",
       "2015-01-15  3.489443706523359e-20  \n",
       "2015-01-16  3.742505364673429e-20  \n",
       "2015-01-19  3.749300659182727e-20  \n",
       "2015-01-20  3.877096781334916e-20  \n",
       "2015-01-21  4.171802675280347e-20  \n",
       "2015-01-22  3.946559045720581e-20  \n",
       "2015-01-23  4.178758030728100e-20  \n",
       "2015-01-26  4.089144565543063e-20  \n",
       "2015-01-27  4.249240384128169e-20  \n",
       "2015-01-28  4.075027915875199e-20  \n",
       "2015-01-29  3.807562336596679e-20  \n",
       "2015-01-30  3.687626318216565e-20  \n",
       "2015-02-02  3.767716728962104e-20  \n",
       "2015-02-03  4.130612867133719e-20  \n",
       "2015-02-04  3.833714687630285e-20  \n",
       "2015-02-05  3.829621728908105e-20  "
      ]
     },
     "execution_count": 17,
     "metadata": {},
     "output_type": "execute_result"
    }
   ],
   "source": [
    "fvm.membership_degrees_hist"
   ]
  },
  {
   "cell_type": "code",
   "execution_count": 18,
   "id": "92832fe6",
   "metadata": {
    "scrolled": true
   },
   "outputs": [
    {
     "data": {
      "text/plain": [
       "[{'alpha_0': array([1.32830985e-04, 2.51728612e-04, 1.99615522e+00, 1.30595283e-04]),\n",
       "  'alpha': array([[0.23016584, 0.56761929, 0.03255053, 0.23016584]]),\n",
       "  'beta': array([[5.17407912e-01, 4.58348757e-31, 7.01103084e-23, 5.17407912e-01]])},\n",
       " {'alpha_0': array([1.32830985e-04, 2.81534652e-04, 4.31396695e+00, 1.30595283e-04],\n",
       "        dtype=float128),\n",
       "  'alpha': array([[0.23016584, 0.56696178, 0.03314371, 0.23016584]], dtype=float128),\n",
       "  'beta': array([[5.17407912e-01, 5.77235722e-13, 6.33820321e-13, 5.17407912e-01]],\n",
       "        dtype=float128)},\n",
       " {'alpha_0': array([1.32830985e-04, 2.80626724e-04, 9.03006247e+00, 2.35678274e+00]),\n",
       "  'alpha': array([[0.21864152, 0.54913998, 0.03233126, 0.23016584]]),\n",
       "  'beta': array([[5.17407912e-01, 1.14963012e-13, 1.15014313e-13, 5.17407912e-01]])},\n",
       " {'alpha_0': array([1.32830985e-04, 2.84863750e-04, 1.04139624e-01, 2.35678274e+00]),\n",
       "  'alpha': array([[0.21864152, 0.54906054, 0.01162798, 0.23016584]]),\n",
       "  'beta': array([[5.17407912e-01, 3.25941913e-12, 3.25941581e-12, 5.17407912e-01]])},\n",
       " {'alpha_0': array([1.32830985e-04, 2.84330160e-04, 2.70455460e+00, 2.35678274e+00]),\n",
       "  'alpha': array([[0.21864152, 0.54875944, 0.01180387, 0.23016584]]),\n",
       "  'beta': array([[5.17407912e-01, 3.12078067e-13, 3.16401778e-13, 5.17407912e-01]])},\n",
       " {'alpha_0': array([1.32830985e-04, 2.83118167e-04, 2.69302864e+00, 7.18274987e-01]),\n",
       "  'alpha': array([[0.2191455 , 0.54861408, 0.01182203, 0.23016584]]),\n",
       "  'beta': array([[5.17407912e-01, 8.20141733e-13, 8.20076293e-13, 5.17407912e-01]])},\n",
       " {'alpha_0': array([1.32830985e-04, 2.86386905e-04, 3.87847222e-01, 1.35463880e+00]),\n",
       "  'alpha': array([[1.81531554e-08, 5.48294292e-01, 5.83754794e-02, 2.30165842e-01]]),\n",
       "  'beta': array([[5.17407912e-01, 3.15582644e-12, 3.15652777e-12, 5.17407912e-01]])},\n",
       " {'alpha_0': array([1.32830985e-04, 2.85534980e-04, 3.86693690e-01, 3.20348435e+00]),\n",
       "  'alpha': array([[0.00348045, 0.54809842, 0.05874997, 0.23016584]]),\n",
       "  'beta': array([[5.17407912e-01, 7.11139887e-13, 7.11128860e-13, 5.17407912e-01]])},\n",
       " {'alpha_0': array([1.32830985e-04, 2.85363840e-04, 3.86471271e-01, 6.64500095e+00]),\n",
       "  'alpha': array([[0.00884193, 0.54809598, 0.05341488, 0.23016584]]),\n",
       "  'beta': array([[5.17407912e-01, 9.21944606e-14, 9.21836171e-14, 5.17407912e-01]])},\n",
       " {'alpha_0': array([1.32830985e-04, 2.85913161e-04, 9.17965900e-01, 6.65245632e+00]),\n",
       "  'alpha': array([[0.99999995, 0.54806419, 0.20631787, 0.23016584]]),\n",
       "  'beta': array([[5.17407912e-01, 6.84657064e-11, 6.84657736e-11, 5.17407912e-01]])},\n",
       " {'alpha_0': array([1.32830985e-04, 2.90622304e-04, 4.61996939e-02, 6.65245632e+00]),\n",
       "  'alpha': array([[0.99999995, 0.54752069, 0.59310686, 0.23016584]]),\n",
       "  'beta': array([[5.17407912e-01, 4.48859953e-14, 4.57407591e-14, 5.17407912e-01]])},\n",
       " {'alpha_0': array([1.32830985e-04, 2.95530375e-04, 1.27918639e-01, 6.65245632e+00]),\n",
       "  'alpha': array([[0.99999995, 0.54781148, 0.57212487, 0.23016584]]),\n",
       "  'beta': array([[5.17407912e-01, 6.45142366e-14, 6.46063228e-14, 5.17407912e-01]])},\n",
       " {'alpha_0': array([1.32830985e-04, 2.92619344e-04, 1.26658500e-01, 1.35144168e+01]),\n",
       "  'alpha': array([[0.92790028, 0.54607446, 0.57031897, 0.23016584]]),\n",
       "  'beta': array([[5.17407912e-01, 3.74545848e-12, 3.74530064e-12, 5.17407912e-01]])},\n",
       " {'alpha_0': array([1.32830985e-04, 2.91161645e-04, 3.40851937e+01, 1.06112417e-01]),\n",
       "  'alpha': array([[0.92800173, 0.54484905, 0.57526932, 0.23016584]]),\n",
       "  'beta': array([[5.17407912e-01, 2.51991473e-18, 2.59940293e-18, 5.17407912e-01]])},\n",
       " {'alpha_0': array([1.32830985e-04, 2.87818446e-04, 3.36939921e+01, 1.82645238e+01]),\n",
       "  'alpha': array([[0.7883682 , 0.54201978, 0.63373883, 0.23016584]]),\n",
       "  'beta': array([[5.17407912e-01, 2.79971503e-15, 2.79986689e-15, 5.17407912e-01]])},\n",
       " {'alpha_0': array([1.32830985e-04, 3.01068622e-04, 5.48584969e-04, 1.82645238e+01]),\n",
       "  'alpha': array([[0.7883682 , 0.54171482, 0.87315361, 0.23016584]]),\n",
       "  'beta': array([[5.17407912e-01, 4.21710286e-15, 4.22221265e-15, 5.17407912e-01]])},\n",
       " {'alpha_0': array([1.32830985e-04, 3.00977290e-04, 5.48584969e-04, 1.82645238e+01],\n",
       "        dtype=float128),\n",
       "  'alpha': array([[0.7883682 , 0.54171467, 0.87315361, 0.23016584]], dtype=float128),\n",
       "  'beta': array([[5.17407912e-01, 9.99639378e-11, 1.00000000e-10, 5.17407912e-01]],\n",
       "        dtype=float128)},\n",
       " {'alpha_0': array([1.32830985e-04, 3.01034601e-04, 1.86759254e-01, 1.82645238e+01]),\n",
       "  'alpha': array([[0.7883682 , 0.54171354, 0.87313252, 0.23016584]]),\n",
       "  'beta': array([[5.17407912e-01, 9.89791370e-11, 9.89791423e-11, 5.17407912e-01]])},\n",
       " {'alpha_0': array([1.32830985e-04, 3.00279013e-04, 1.86297275e-01, 3.66036136e+01]),\n",
       "  'alpha': array([[0.50128416, 0.54167729, 0.87793402, 0.23016584]]),\n",
       "  'beta': array([[5.17407912e-01, 5.08463875e-13, 5.08481383e-13, 5.17407912e-01]])},\n",
       " {'alpha_0': array([1.32830985e-04, 3.12435714e-04, 3.26379715e-05, 3.66036206e+01]),\n",
       "  'alpha': array([[0.50128416, 0.54033945, 0.00344253, 0.23016584]]),\n",
       "  'beta': array([[5.17407912e-01, 1.11390860e-18, 1.12923268e-18, 5.17407912e-01]])},\n",
       " {'alpha_0': array([1.32830985e-04, 2.99123340e-04, 3.66225508e+01, 3.66036206e+01],\n",
       "        dtype=float128),\n",
       "  'alpha': array([[0.50128416, 0.53729853, 0.003492  , 0.23016584]], dtype=float128),\n",
       "  'beta': array([[5.17407912e-01, 3.46083827e-12, 3.47532247e-12, 5.17407912e-01]],\n",
       "        dtype=float128)},\n",
       " {'alpha_0': array([1.32830985e-04, 3.14950627e-04, 2.17574817e+00, 5.31418603e+01]),\n",
       "  'alpha': array([[4.59543344e-08, 5.37039666e-01, 8.45099422e-03, 2.30165842e-01]]),\n",
       "  'beta': array([[5.17407912e-01, 1.53792224e-11, 1.53789841e-11, 5.17407912e-01]])}]"
      ]
     },
     "execution_count": 18,
     "metadata": {},
     "output_type": "execute_result"
    }
   ],
   "source": [
    "fvm._parameters_hist"
   ]
  },
  {
   "cell_type": "code",
   "execution_count": 19,
   "id": "ae6799f7",
   "metadata": {},
   "outputs": [
    {
     "data": {
      "text/plain": [
       "dict_keys(['result', 'fitted', 'train', 'test', 'antecedent_params_set', 'consequent_metaparams', 'consequent_params_ini', 'clusterization_method', 'local_method', 'data_to_cluster_train', 'data_to_cluster_test'])"
      ]
     },
     "execution_count": 19,
     "metadata": {},
     "output_type": "execute_result"
    }
   ],
   "source": [
    "res_big[0].keys()"
   ]
  },
  {
   "cell_type": "code",
   "execution_count": 20,
   "id": "5e906bd7",
   "metadata": {},
   "outputs": [],
   "source": [
    "mse = mean_squared_error(fvm.hist_output, test ** 2, squared=True)\n",
    "rmse = mean_squared_error(fvm.hist_output, test ** 2, squared=False)"
   ]
  },
  {
   "cell_type": "code",
   "execution_count": 21,
   "id": "361dc04b",
   "metadata": {},
   "outputs": [
    {
     "data": {
      "text/plain": [
       "0.0018784171608436488696"
      ]
     },
     "execution_count": 21,
     "metadata": {},
     "output_type": "execute_result"
    }
   ],
   "source": [
    "rmse"
   ]
  },
  {
   "cell_type": "code",
   "execution_count": 22,
   "id": "f8003d1d",
   "metadata": {},
   "outputs": [
    {
     "data": {
      "text/plain": [
       "3.528451030151914628e-06"
      ]
     },
     "execution_count": 22,
     "metadata": {},
     "output_type": "execute_result"
    }
   ],
   "source": [
    "mse"
   ]
  },
  {
   "cell_type": "code",
   "execution_count": 23,
   "id": "9a417329",
   "metadata": {},
   "outputs": [
    {
     "data": {
      "text/plain": [
       "<AxesSubplot:xlabel='<DATE>'>"
      ]
     },
     "execution_count": 23,
     "metadata": {},
     "output_type": "execute_result"
    },
    {
     "data": {
      "image/png": "[encoded data removed]",
      "text/plain": [
       "<Figure size 640x480 with 1 Axes>"
      ]
     },
     "metadata": {},
     "output_type": "display_data"
    }
   ],
   "source": [
    "test.plot(grid=True)"
   ]
  },
  {
   "cell_type": "code",
   "execution_count": null,
   "id": "50db0136",
   "metadata": {},
   "outputs": [],
   "source": []
  }
 ],
 "metadata": {
  "kernelspec": {
   "display_name": "Python 3 (ipykernel)",
   "language": "python",
   "name": "python3"
  },
  "language_info": {
   "codemirror_mode": {
    "name": "ipython",
    "version": 3
   },
   "file_extension": ".py",
   "mimetype": "text/x-python",
   "name": "python",
   "nbconvert_exporter": "python",
   "pygments_lexer": "ipython3",
   "version": "3.9.7"
  }
 },
 "nbformat": 4,
 "nbformat_minor": 5
}
