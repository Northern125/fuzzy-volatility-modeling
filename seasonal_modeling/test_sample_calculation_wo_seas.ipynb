{
 "cells": [
  {
   "cell_type": "code",
   "execution_count": 1,
   "id": "c803b917",
   "metadata": {},
   "outputs": [],
   "source": [
    "import pandas as pd\n",
    "import numpy as np\n",
    "import json\n",
    "import pickle\n",
    "import matplotlib.pyplot as plt\n",
    "import logging\n",
    "import scipy.stats as sts\n",
    "import pickle\n",
    "from sklearn.metrics import mean_squared_error, mean_absolute_percentage_error\n",
    "import os\n",
    "\n",
    "from arch import arch_model"
   ]
  },
  {
   "cell_type": "code",
   "execution_count": 2,
   "id": "fec8e4ac",
   "metadata": {},
   "outputs": [],
   "source": [
    "ini_work_dir = os.getcwd()\n",
    "os.chdir('..')"
   ]
  },
  {
   "cell_type": "code",
   "execution_count": 3,
   "id": "f24bc04e",
   "metadata": {},
   "outputs": [],
   "source": [
    "from rules_related import combine_rules_outputs\n",
    "from whole_algorithm import train_model\n",
    "from auxiliary import calc_log_returns, unpack_1d_parameters\n",
    "from multivariate_normal_distribution import LongMultivariateNormal\n",
    "from model import FuzzyVolatilityModel\n",
    "from antecedent_fitting import fit_antecedent_params\n",
    "from local_models import calculate_retraining_garch_forecasts"
   ]
  },
  {
   "cell_type": "code",
   "execution_count": 4,
   "id": "5bdb298c",
   "metadata": {},
   "outputs": [],
   "source": [
    "with open('config.json') as file:\n",
    "    config = json.load(file)"
   ]
  },
  {
   "cell_type": "code",
   "execution_count": 5,
   "id": "7cc5cbf1",
   "metadata": {},
   "outputs": [],
   "source": [
    "files_folder = config['files_folders']['processed']\n",
    "RESEARCH_RESULTS_FOLDER = config['files_folders']['research_results']\n",
    "antecedent_params_folder = config['files_folders']['antecedent_params_sets']\n",
    "logs_folder = config['files_folders']['logs']"
   ]
  },
  {
   "cell_type": "code",
   "execution_count": 6,
   "id": "b2ed4ae8",
   "metadata": {},
   "outputs": [],
   "source": [
    "TESTED_MODEL_FILE_NAME = 'tested_model_wo_seas'"
   ]
  },
  {
   "cell_type": "code",
   "execution_count": 7,
   "id": "b16fc92b",
   "metadata": {},
   "outputs": [],
   "source": [
    "logger = logging.getLogger(f'test_calc')  # apf == antecedent params fitting\n",
    "\n",
    "_log_file = f'{logs_folder}/{logger.name}.log'\n",
    "logging.basicConfig(level=logging.INFO,\n",
    "                    filename=_log_file,\n",
    "                    filemode='w',\n",
    "                    format='%(asctime)s,%(msecs)d %(name)s %(levelname)s %(message)s',\n",
    "                    datefmt='%H:%M:%S')"
   ]
  },
  {
   "cell_type": "code",
   "execution_count": 8,
   "id": "aa29f67f",
   "metadata": {},
   "outputs": [],
   "source": [
    "pd.options.display.precision = 15\n",
    "pd.options.display.max_colwidth = 300"
   ]
  },
  {
   "cell_type": "markdown",
   "id": "3f462917",
   "metadata": {},
   "source": [
    "# Reading"
   ]
  },
  {
   "cell_type": "code",
   "execution_count": 10,
   "id": "94ec23ed",
   "metadata": {},
   "outputs": [],
   "source": [
    "_files = ['fitting_consequent_params_wo_seas_result_nb_0_2022-09-25 00-55-40.814296.pkl']\n",
    "res_big = [pd.read_pickle(f'{RESEARCH_RESULTS_FOLDER}/{_file}') for _file in _files]\n",
    "_res = [_elem for res_piece in res_big for _elem in res_piece['result']].copy()\n",
    "\n",
    "res = pd.DataFrame.from_records(_res).copy()"
   ]
  },
  {
   "cell_type": "code",
   "execution_count": 11,
   "id": "b119a1a3",
   "metadata": {},
   "outputs": [],
   "source": [
    "if (res['status'] != 0).any():\n",
    "    raise Error('Not all models were fitted')"
   ]
  },
  {
   "cell_type": "code",
   "execution_count": 12,
   "id": "0e3e8d41",
   "metadata": {},
   "outputs": [
    {
     "data": {
      "text/plain": [
       "[{'centers': (-7.5, -3.5, -0.5, 2.0),\n",
       "  'variances': (4, 6, 4, 4),\n",
       "  'n_clusters': 4}]"
      ]
     },
     "execution_count": 12,
     "metadata": {},
     "output_type": "execute_result"
    }
   ],
   "source": [
    "fitted_ap = res[res['rmse'] == res['rmse'].min()].iloc[0]['antecedent_params'].copy()\n",
    "fitted_ap"
   ]
  },
  {
   "cell_type": "code",
   "execution_count": 13,
   "id": "94a18a95",
   "metadata": {},
   "outputs": [],
   "source": [
    "fvm = res[res['rmse'] == res['rmse'].min()].iloc[0]['fvm']"
   ]
  },
  {
   "cell_type": "code",
   "execution_count": 14,
   "id": "94f52d16",
   "metadata": {},
   "outputs": [],
   "source": [
    "test = res_big[0]['test'].copy()\n",
    "data_to_cluster_test = res_big[0]['data_to_cluster_test'].copy()"
   ]
  },
  {
   "cell_type": "markdown",
   "id": "e0b43a62",
   "metadata": {},
   "source": [
    "# Live feeding"
   ]
  },
  {
   "cell_type": "code",
   "execution_count": 15,
   "id": "df9eb0d3",
   "metadata": {},
   "outputs": [
    {
     "name": "stdout",
     "output_type": "stream",
     "text": [
      "CPU times: user 45.7 s, sys: 400 ms, total: 46.1 s\n",
      "Wall time: 46.6 s\n"
     ]
    }
   ],
   "source": [
    "%%time\n",
    "\n",
    "fvm.feed_daily_data(test, data_to_cluster=data_to_cluster_test)"
   ]
  },
  {
   "cell_type": "code",
   "execution_count": 16,
   "id": "ba02c847",
   "metadata": {},
   "outputs": [
    {
     "name": "stdout",
     "output_type": "stream",
     "text": [
      "2022-09-25 15-24-10.378366\n"
     ]
    }
   ],
   "source": [
    "_cur_time = str(pd.Timestamp.today()).replace(':', '-')\n",
    "print(_cur_time)\n",
    "\n",
    "with open(f'{RESEARCH_RESULTS_FOLDER}/{TESTED_MODEL_FILE_NAME}_{_cur_time}.pkl', 'wb') as _file:\n",
    "    pickle.dump(fvm, _file)"
   ]
  },
  {
   "cell_type": "code",
   "execution_count": 17,
   "id": "b763a9f4",
   "metadata": {},
   "outputs": [
    {
     "data": {
      "text/plain": [
       "2014-05-30    0.000396770770524\n",
       "2014-06-02    0.000416221548082\n",
       "2014-06-03    0.000455725541958\n",
       "2014-06-04    0.000383610998869\n",
       "2014-06-05    0.000383487243193\n",
       "2014-06-06    0.000391230381096\n",
       "2014-06-09    0.000446692402446\n",
       "2014-06-10    0.000386967789717\n",
       "2014-06-11    0.000391278817766\n",
       "2014-06-16    0.000390031286793\n",
       "dtype: float128"
      ]
     },
     "execution_count": 17,
     "metadata": {},
     "output_type": "execute_result"
    }
   ],
   "source": [
    "fvm.hist_output"
   ]
  },
  {
   "cell_type": "code",
   "execution_count": 18,
   "id": "47567fd7",
   "metadata": {},
   "outputs": [
    {
     "data": {
      "text/html": [
       "<div>\n",
       "<style scoped>\n",
       "    .dataframe tbody tr th:only-of-type {\n",
       "        vertical-align: middle;\n",
       "    }\n",
       "\n",
       "    .dataframe tbody tr th {\n",
       "        vertical-align: top;\n",
       "    }\n",
       "\n",
       "    .dataframe thead th {\n",
       "        text-align: right;\n",
       "    }\n",
       "</style>\n",
       "<table border=\"1\" class=\"dataframe\">\n",
       "  <thead>\n",
       "    <tr style=\"text-align: right;\">\n",
       "      <th></th>\n",
       "      <th>0</th>\n",
       "      <th>1</th>\n",
       "      <th>2</th>\n",
       "      <th>3</th>\n",
       "    </tr>\n",
       "    <tr>\n",
       "      <th>&lt;DATE&gt;</th>\n",
       "      <th></th>\n",
       "      <th></th>\n",
       "      <th></th>\n",
       "      <th></th>\n",
       "    </tr>\n",
       "  </thead>\n",
       "  <tbody>\n",
       "    <tr>\n",
       "      <th>2014-05-30</th>\n",
       "      <td>3.760831800268592e-31</td>\n",
       "      <td>0.000006494913675</td>\n",
       "      <td>0.990717606105122</td>\n",
       "      <td>0.009275898981203</td>\n",
       "    </tr>\n",
       "    <tr>\n",
       "      <th>2014-06-02</th>\n",
       "      <td>3.770562331442529e-31</td>\n",
       "      <td>0.000006499334665</td>\n",
       "      <td>0.990726050837750</td>\n",
       "      <td>0.009267449827585</td>\n",
       "    </tr>\n",
       "    <tr>\n",
       "      <th>2014-06-03</th>\n",
       "      <td>3.807482724769588e-31</td>\n",
       "      <td>0.000006516084806</td>\n",
       "      <td>0.990757827152686</td>\n",
       "      <td>0.009235656762508</td>\n",
       "    </tr>\n",
       "    <tr>\n",
       "      <th>2014-06-04</th>\n",
       "      <td>3.898622830305070e-31</td>\n",
       "      <td>0.000006556900110</td>\n",
       "      <td>0.990834520715169</td>\n",
       "      <td>0.009158922384722</td>\n",
       "    </tr>\n",
       "    <tr>\n",
       "      <th>2014-06-05</th>\n",
       "      <td>3.831472400576166e-31</td>\n",
       "      <td>0.000006526867640</td>\n",
       "      <td>0.990778252552385</td>\n",
       "      <td>0.009215220579975</td>\n",
       "    </tr>\n",
       "    <tr>\n",
       "      <th>2014-06-06</th>\n",
       "      <td>3.775158160636567e-31</td>\n",
       "      <td>0.000006501438309</td>\n",
       "      <td>0.990730029141661</td>\n",
       "      <td>0.009263469420030</td>\n",
       "    </tr>\n",
       "    <tr>\n",
       "      <th>2014-06-09</th>\n",
       "      <td>3.808440895056279e-31</td>\n",
       "      <td>0.000006516528703</td>\n",
       "      <td>0.990758646274864</td>\n",
       "      <td>0.009234837196433</td>\n",
       "    </tr>\n",
       "    <tr>\n",
       "      <th>2014-06-10</th>\n",
       "      <td>3.585815660486332e-31</td>\n",
       "      <td>0.000006413368656</td>\n",
       "      <td>0.990560497316669</td>\n",
       "      <td>0.009433089314675</td>\n",
       "    </tr>\n",
       "    <tr>\n",
       "      <th>2014-06-11</th>\n",
       "      <td>3.572192965265016e-31</td>\n",
       "      <td>0.000006406921900</td>\n",
       "      <td>0.990547835680541</td>\n",
       "      <td>0.009445757397559</td>\n",
       "    </tr>\n",
       "    <tr>\n",
       "      <th>2014-06-16</th>\n",
       "      <td>3.722298038530340e-31</td>\n",
       "      <td>0.000006477031642</td>\n",
       "      <td>0.990683872876007</td>\n",
       "      <td>0.009309650092351</td>\n",
       "    </tr>\n",
       "  </tbody>\n",
       "</table>\n",
       "</div>"
      ],
      "text/plain": [
       "                                0                  1                  2  \\\n",
       "<DATE>                                                                    \n",
       "2014-05-30  3.760831800268592e-31  0.000006494913675  0.990717606105122   \n",
       "2014-06-02  3.770562331442529e-31  0.000006499334665  0.990726050837750   \n",
       "2014-06-03  3.807482724769588e-31  0.000006516084806  0.990757827152686   \n",
       "2014-06-04  3.898622830305070e-31  0.000006556900110  0.990834520715169   \n",
       "2014-06-05  3.831472400576166e-31  0.000006526867640  0.990778252552385   \n",
       "2014-06-06  3.775158160636567e-31  0.000006501438309  0.990730029141661   \n",
       "2014-06-09  3.808440895056279e-31  0.000006516528703  0.990758646274864   \n",
       "2014-06-10  3.585815660486332e-31  0.000006413368656  0.990560497316669   \n",
       "2014-06-11  3.572192965265016e-31  0.000006406921900  0.990547835680541   \n",
       "2014-06-16  3.722298038530340e-31  0.000006477031642  0.990683872876007   \n",
       "\n",
       "                            3  \n",
       "<DATE>                         \n",
       "2014-05-30  0.009275898981203  \n",
       "2014-06-02  0.009267449827585  \n",
       "2014-06-03  0.009235656762508  \n",
       "2014-06-04  0.009158922384722  \n",
       "2014-06-05  0.009215220579975  \n",
       "2014-06-06  0.009263469420030  \n",
       "2014-06-09  0.009234837196433  \n",
       "2014-06-10  0.009433089314675  \n",
       "2014-06-11  0.009445757397559  \n",
       "2014-06-16  0.009309650092351  "
      ]
     },
     "execution_count": 18,
     "metadata": {},
     "output_type": "execute_result"
    }
   ],
   "source": [
    "fvm.membership_degrees_hist"
   ]
  },
  {
   "cell_type": "code",
   "execution_count": 26,
   "id": "92832fe6",
   "metadata": {
    "scrolled": true
   },
   "outputs": [
    {
     "data": {
      "text/plain": [
       "[{'alpha_0': array([2.41731162e-05, 3.76626310e-04, 3.76521343e-04, 3.76521338e-04]),\n",
       "  'alpha': array([[0.011535  , 0.17461486, 0.17049592, 0.17050462]]),\n",
       "  'beta': array([[4.96677657e-01, 1.27357571e-18, 1.49100337e-18, 1.49288383e-18]])},\n",
       " {'alpha_0': array([2.41731162e-05, 5.59191453e-04, 3.81337737e-04, 2.20369823e-04],\n",
       "        dtype=float128),\n",
       "  'alpha': array([[0.12177931, 0.17626356, 0.17238502, 0.17216472]], dtype=float128),\n",
       "  'beta': array([[9.99999796e-01, 1.19406450e-11, 1.18044752e-11, 1.19393746e-11]],\n",
       "        dtype=float128)},\n",
       " {'alpha_0': array([2.41731162e-05, 4.25597040e-02, 3.87069173e-04, 1.28275489e-05],\n",
       "        dtype=float128),\n",
       "  'alpha': array([[0.12177931, 0.17364973, 0.17181697, 0.17206471]], dtype=float128),\n",
       "  'beta': array([[9.99999796e-01, 9.20793805e-11, 8.70915687e-11, 9.20229214e-11]],\n",
       "        dtype=float128)},\n",
       " {'alpha_0': array([2.41731162e-05, 4.25042939e-02, 3.86565364e-04, 1.28108525e-05]),\n",
       "  'alpha': array([[0.99999997, 0.17298812, 0.17130222, 0.17154918]]),\n",
       "  'beta': array([[9.99872493e-01, 1.19497120e-11, 1.19496885e-11, 1.19496885e-11]])},\n",
       " {'alpha_0': array([2.41731162e-05, 4.25042939e-02, 3.86565364e-04, 1.28108525e-05]),\n",
       "  'alpha': array([[0.99999997, 0.17298812, 0.17130222, 0.17154918]]),\n",
       "  'beta': array([[9.99872493e-01, 1.00000000e-10, 1.00000000e-10, 1.00000000e-10]])},\n",
       " {'alpha_0': array([2.41731162e-05, 4.25042939e-02, 3.86565364e-04, 1.28108525e-05]),\n",
       "  'alpha': array([[0.99999997, 0.17298812, 0.17130222, 0.17154918]]),\n",
       "  'beta': array([[9.99872493e-01, 1.00000000e-10, 1.00000000e-10, 1.00000000e-10]])},\n",
       " {'alpha_0': array([2.41731162e-05, 4.18689720e-02, 3.88471751e-04, 1.65349965e-04]),\n",
       "  'alpha': array([[0.55408218, 0.17232935, 0.17079309, 0.17103925]]),\n",
       "  'beta': array([[6.80167955e-01, 1.50622401e-13, 1.50625209e-13, 1.50625204e-13]])},\n",
       " {'alpha_0': array([2.41731162e-05, 4.18352166e-02, 3.88157842e-04, 1.65216352e-04]),\n",
       "  'alpha': array([[0.29430271, 0.17199886, 0.17038423, 0.17062974]]),\n",
       "  'beta': array([[6.80118154e-01, 9.24757934e-13, 9.24748358e-13, 9.24748373e-13]])},\n",
       " {'alpha_0': array([2.41731162e-05, 1.67167926e-02, 3.12426011e-04, 8.15947208e-03]),\n",
       "  'alpha': array([[0.29430271, 0.17016901, 0.1703817 , 0.17062383]]),\n",
       "  'beta': array([[6.80118154e-01, 9.26775777e-11, 9.26773194e-11, 9.26773196e-11]])},\n",
       " {'alpha_0': array([2.41731162e-05, 1.51308603e-02, 4.49913484e-09, 4.09243329e-02]),\n",
       "  'alpha': array([[0.29430271, 0.17019196, 0.17037932, 0.1706215 ]]),\n",
       "  'beta': array([[6.80118154e-01, 9.68151591e-11, 9.68149955e-11, 9.68149956e-11]])},\n",
       " {'alpha_0': array([2.41731162e-05, 1.56716889e-02, 3.58733341e-06, 4.13228648e-02]),\n",
       "  'alpha': array([[0.51515654, 0.16982289, 0.17004881, 0.17029123]]),\n",
       "  'beta': array([[6.51076008e-01, 9.69486403e-14, 9.69479191e-14, 9.69479199e-14]])}]"
      ]
     },
     "execution_count": 26,
     "metadata": {},
     "output_type": "execute_result"
    }
   ],
   "source": [
    "fvm._parameters_hist"
   ]
  },
  {
   "cell_type": "code",
   "execution_count": 27,
   "id": "ae6799f7",
   "metadata": {},
   "outputs": [
    {
     "data": {
      "text/plain": [
       "dict_keys(['result', 'fitted', 'train', 'test', 'antecedent_params_set', 'consequent_metaparams', 'consequent_params_ini', 'clusterization_method', 'local_method', 'data_to_cluster_train', 'data_to_cluster_test'])"
      ]
     },
     "execution_count": 27,
     "metadata": {},
     "output_type": "execute_result"
    }
   ],
   "source": [
    "res_big[0].keys()"
   ]
  },
  {
   "cell_type": "code",
   "execution_count": 28,
   "id": "5e906bd7",
   "metadata": {},
   "outputs": [],
   "source": [
    "mse = mean_squared_error(fvm.hist_output, test ** 2, squared=True)\n",
    "rmse = mean_squared_error(fvm.hist_output, test ** 2, squared=False)"
   ]
  },
  {
   "cell_type": "code",
   "execution_count": 29,
   "id": "361dc04b",
   "metadata": {},
   "outputs": [
    {
     "data": {
      "text/plain": [
       "0.00031955134767811518757"
      ]
     },
     "execution_count": 29,
     "metadata": {},
     "output_type": "execute_result"
    }
   ],
   "source": [
    "rmse"
   ]
  },
  {
   "cell_type": "code",
   "execution_count": 30,
   "id": "f8003d1d",
   "metadata": {},
   "outputs": [
    {
     "data": {
      "text/plain": [
       "1.0211306380289965267e-07"
      ]
     },
     "execution_count": 30,
     "metadata": {},
     "output_type": "execute_result"
    }
   ],
   "source": [
    "mse"
   ]
  },
  {
   "cell_type": "code",
   "execution_count": 35,
   "id": "243311e6",
   "metadata": {},
   "outputs": [
    {
     "data": {
      "text/plain": [
       "<AxesSubplot:xlabel='<DATE>'>"
      ]
     },
     "execution_count": 35,
     "metadata": {},
     "output_type": "execute_result"
    },
    {
     "data": {
      "image/png": "[encoded data removed]",
      "text/plain": [
       "<Figure size 640x480 with 1 Axes>"
      ]
     },
     "metadata": {},
     "output_type": "display_data"
    }
   ],
   "source": [
    "test.plot(grid=True)"
   ]
  }
 ],
 "metadata": {
  "kernelspec": {
   "display_name": "Python 3 (ipykernel)",
   "language": "python",
   "name": "python3"
  },
  "language_info": {
   "codemirror_mode": {
    "name": "ipython",
    "version": 3
   },
   "file_extension": ".py",
   "mimetype": "text/x-python",
   "name": "python",
   "nbconvert_exporter": "python",
   "pygments_lexer": "ipython3",
   "version": "3.9.7"
  }
 },
 "nbformat": 4,
 "nbformat_minor": 5
}
