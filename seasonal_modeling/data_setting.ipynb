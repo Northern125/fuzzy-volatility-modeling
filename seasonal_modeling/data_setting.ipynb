{
 "cells": [
  {
   "cell_type": "code",
   "execution_count": 2,
   "id": "dddaf7cd",
   "metadata": {},
   "outputs": [],
   "source": [
    "import logging\n",
    "import numpy as np\n",
    "import pandas as pd\n",
    "from arch import arch_model\n",
    "from random import gauss\n",
    "from random import seed\n",
    "from matplotlib import pyplot as plt\n",
    "import scipy.stats as sts\n",
    "import json\n",
    "import pickle\n",
    "from sklearn.metrics import mean_squared_error, mean_absolute_percentage_error\n",
    "from scipy.optimize import least_squares\n",
    "import os\n",
    "from itertools import product"
   ]
  },
  {
   "cell_type": "code",
   "execution_count": 3,
   "id": "dfddf51c",
   "metadata": {},
   "outputs": [],
   "source": [
    "\n",
    "_cur_dir = os.getcwd()\n",
    "os.chdir('..')"
   ]
  },
  {
   "cell_type": "code",
   "execution_count": 4,
   "id": "cc95b96f",
   "metadata": {},
   "outputs": [],
   "source": [
    "from rules_related import combine_rules_outputs\n",
    "from whole_algorithm import train_model\n",
    "from auxiliary import calc_log_returns, unpack_1d_parameters\n",
    "from multivariate_normal_distribution import LongMultivariateNormal\n",
    "from model import FuzzyVolatilityModel\n",
    "from membership_functions import calc_trapezoidal_membership_degrees\n",
    "# from membership_functions.trapezoidal import _calc_trapezoidal_md_scalar"
   ]
  },
  {
   "cell_type": "code",
   "execution_count": 5,
   "id": "e532cbfa",
   "metadata": {
    "scrolled": true
   },
   "outputs": [],
   "source": [
    "with open('config.json') as file:\n",
    "    config = json.load(file)"
   ]
  },
  {
   "cell_type": "code",
   "execution_count": 6,
   "id": "c65df139-ed0e-4e07-b454-fdc0786ee8c2",
   "metadata": {},
   "outputs": [],
   "source": [
    "files_folder = config['files_folders']['processed']\n",
    "research_results_folder = config['files_folders']['research_results']\n",
    "antecedent_params_folder = config['files_folders']['antecedent_params_sets']\n",
    "logs_folder = config['files_folders']['logs']"
   ]
  },
  {
   "cell_type": "markdown",
   "id": "c087b95a",
   "metadata": {},
   "source": [
    "# Main input data"
   ]
  },
  {
   "cell_type": "code",
   "execution_count": 7,
   "id": "23c25f6a",
   "metadata": {},
   "outputs": [],
   "source": [
    "rtsi = pd.read_pickle(f'{files_folder}/rtsi.pkl')"
   ]
  },
  {
   "cell_type": "code",
   "execution_count": 8,
   "id": "4e0f5233",
   "metadata": {},
   "outputs": [
    {
     "data": {
      "text/html": [
       "<div>\n",
       "<style scoped>\n",
       "    .dataframe tbody tr th:only-of-type {\n",
       "        vertical-align: middle;\n",
       "    }\n",
       "\n",
       "    .dataframe tbody tr th {\n",
       "        vertical-align: top;\n",
       "    }\n",
       "\n",
       "    .dataframe thead th {\n",
       "        text-align: right;\n",
       "    }\n",
       "</style>\n",
       "<table border=\"1\" class=\"dataframe\">\n",
       "  <thead>\n",
       "    <tr style=\"text-align: right;\">\n",
       "      <th></th>\n",
       "      <th>&lt;OPEN&gt;</th>\n",
       "      <th>&lt;HIGH&gt;</th>\n",
       "      <th>&lt;LOW&gt;</th>\n",
       "      <th>&lt;CLOSE&gt;</th>\n",
       "      <th>&lt;VOL&gt;</th>\n",
       "      <th>return</th>\n",
       "      <th>log return</th>\n",
       "    </tr>\n",
       "    <tr>\n",
       "      <th>&lt;DATE&gt;</th>\n",
       "      <th></th>\n",
       "      <th></th>\n",
       "      <th></th>\n",
       "      <th></th>\n",
       "      <th></th>\n",
       "      <th></th>\n",
       "      <th></th>\n",
       "    </tr>\n",
       "  </thead>\n",
       "  <tbody>\n",
       "    <tr>\n",
       "      <th>2001-02-18</th>\n",
       "      <td>180.10</td>\n",
       "      <td>180.10</td>\n",
       "      <td>180.10</td>\n",
       "      <td>180.10</td>\n",
       "      <td>0</td>\n",
       "      <td>0.000000</td>\n",
       "      <td>0.000000</td>\n",
       "    </tr>\n",
       "    <tr>\n",
       "      <th>2001-02-19</th>\n",
       "      <td>180.10</td>\n",
       "      <td>181.21</td>\n",
       "      <td>176.67</td>\n",
       "      <td>177.29</td>\n",
       "      <td>0</td>\n",
       "      <td>-0.015602</td>\n",
       "      <td>-0.015725</td>\n",
       "    </tr>\n",
       "    <tr>\n",
       "      <th>2001-02-20</th>\n",
       "      <td>177.29</td>\n",
       "      <td>179.90</td>\n",
       "      <td>175.28</td>\n",
       "      <td>176.45</td>\n",
       "      <td>0</td>\n",
       "      <td>-0.004738</td>\n",
       "      <td>-0.004749</td>\n",
       "    </tr>\n",
       "    <tr>\n",
       "      <th>2001-02-21</th>\n",
       "      <td>176.45</td>\n",
       "      <td>176.45</td>\n",
       "      <td>161.12</td>\n",
       "      <td>162.39</td>\n",
       "      <td>0</td>\n",
       "      <td>-0.079683</td>\n",
       "      <td>-0.083037</td>\n",
       "    </tr>\n",
       "    <tr>\n",
       "      <th>2001-02-22</th>\n",
       "      <td>162.39</td>\n",
       "      <td>168.35</td>\n",
       "      <td>162.39</td>\n",
       "      <td>168.31</td>\n",
       "      <td>0</td>\n",
       "      <td>0.036455</td>\n",
       "      <td>0.035807</td>\n",
       "    </tr>\n",
       "    <tr>\n",
       "      <th>...</th>\n",
       "      <td>...</td>\n",
       "      <td>...</td>\n",
       "      <td>...</td>\n",
       "      <td>...</td>\n",
       "      <td>...</td>\n",
       "      <td>...</td>\n",
       "      <td>...</td>\n",
       "    </tr>\n",
       "    <tr>\n",
       "      <th>2021-10-11</th>\n",
       "      <td>1871.73</td>\n",
       "      <td>1883.71</td>\n",
       "      <td>1867.58</td>\n",
       "      <td>1882.43</td>\n",
       "      <td>1769145502</td>\n",
       "      <td>0.011537</td>\n",
       "      <td>0.011471</td>\n",
       "    </tr>\n",
       "    <tr>\n",
       "      <th>2021-10-12</th>\n",
       "      <td>1867.15</td>\n",
       "      <td>1876.79</td>\n",
       "      <td>1860.64</td>\n",
       "      <td>1869.94</td>\n",
       "      <td>1386130631</td>\n",
       "      <td>-0.006635</td>\n",
       "      <td>-0.006657</td>\n",
       "    </tr>\n",
       "    <tr>\n",
       "      <th>2021-10-13</th>\n",
       "      <td>1869.05</td>\n",
       "      <td>1869.05</td>\n",
       "      <td>1835.80</td>\n",
       "      <td>1855.11</td>\n",
       "      <td>1830447018</td>\n",
       "      <td>-0.007931</td>\n",
       "      <td>-0.007962</td>\n",
       "    </tr>\n",
       "    <tr>\n",
       "      <th>2021-10-14</th>\n",
       "      <td>1875.38</td>\n",
       "      <td>1890.46</td>\n",
       "      <td>1873.37</td>\n",
       "      <td>1875.97</td>\n",
       "      <td>1495256910</td>\n",
       "      <td>0.011245</td>\n",
       "      <td>0.011182</td>\n",
       "    </tr>\n",
       "    <tr>\n",
       "      <th>2021-10-15</th>\n",
       "      <td>1888.52</td>\n",
       "      <td>1893.71</td>\n",
       "      <td>1878.47</td>\n",
       "      <td>1891.56</td>\n",
       "      <td>1305644791</td>\n",
       "      <td>0.008310</td>\n",
       "      <td>0.008276</td>\n",
       "    </tr>\n",
       "  </tbody>\n",
       "</table>\n",
       "<p>5174 rows × 7 columns</p>\n",
       "</div>"
      ],
      "text/plain": [
       "             <OPEN>   <HIGH>    <LOW>  <CLOSE>       <VOL>    return  \\\n",
       "<DATE>                                                                 \n",
       "2001-02-18   180.10   180.10   180.10   180.10           0  0.000000   \n",
       "2001-02-19   180.10   181.21   176.67   177.29           0 -0.015602   \n",
       "2001-02-20   177.29   179.90   175.28   176.45           0 -0.004738   \n",
       "2001-02-21   176.45   176.45   161.12   162.39           0 -0.079683   \n",
       "2001-02-22   162.39   168.35   162.39   168.31           0  0.036455   \n",
       "...             ...      ...      ...      ...         ...       ...   \n",
       "2021-10-11  1871.73  1883.71  1867.58  1882.43  1769145502  0.011537   \n",
       "2021-10-12  1867.15  1876.79  1860.64  1869.94  1386130631 -0.006635   \n",
       "2021-10-13  1869.05  1869.05  1835.80  1855.11  1830447018 -0.007931   \n",
       "2021-10-14  1875.38  1890.46  1873.37  1875.97  1495256910  0.011245   \n",
       "2021-10-15  1888.52  1893.71  1878.47  1891.56  1305644791  0.008310   \n",
       "\n",
       "            log return  \n",
       "<DATE>                  \n",
       "2001-02-18    0.000000  \n",
       "2001-02-19   -0.015725  \n",
       "2001-02-20   -0.004749  \n",
       "2001-02-21   -0.083037  \n",
       "2001-02-22    0.035807  \n",
       "...                ...  \n",
       "2021-10-11    0.011471  \n",
       "2021-10-12   -0.006657  \n",
       "2021-10-13   -0.007962  \n",
       "2021-10-14    0.011182  \n",
       "2021-10-15    0.008276  \n",
       "\n",
       "[5174 rows x 7 columns]"
      ]
     },
     "execution_count": 8,
     "metadata": {},
     "output_type": "execute_result"
    }
   ],
   "source": [
    "rtsi"
   ]
  },
  {
   "cell_type": "code",
   "execution_count": 9,
   "id": "e13f81ab",
   "metadata": {},
   "outputs": [
    {
     "data": {
      "image/png": "[encoded data removed]",
      "text/plain": [
       "<Figure size 432x288 with 1 Axes>"
      ]
     },
     "metadata": {
      "needs_background": "light"
     },
     "output_type": "display_data"
    }
   ],
   "source": [
    "rtsi['log return'].plot()\n",
    "\n",
    "plt.grid()\n",
    "plt.show()"
   ]
  },
  {
   "cell_type": "code",
   "execution_count": 10,
   "id": "4c70b3e0",
   "metadata": {},
   "outputs": [
    {
     "data": {
      "text/plain": [
       "count    5174.000000\n",
       "mean        0.000455\n",
       "std         0.020327\n",
       "min        -0.211994\n",
       "25%        -0.008822\n",
       "50%         0.001318\n",
       "75%         0.010414\n",
       "max         0.202039\n",
       "Name: log return, dtype: float64"
      ]
     },
     "execution_count": 10,
     "metadata": {},
     "output_type": "execute_result"
    }
   ],
   "source": [
    "rtsi['log return'].describe()"
   ]
  },
  {
   "cell_type": "code",
   "execution_count": 11,
   "id": "975e5ea5",
   "metadata": {},
   "outputs": [],
   "source": [
    "rtsi['day of week'] = rtsi.index.dayofweek + 1"
   ]
  },
  {
   "cell_type": "code",
   "execution_count": 12,
   "id": "5f149fd8",
   "metadata": {},
   "outputs": [
    {
     "data": {
      "text/plain": [
       "<DATE>\n",
       "2001-02-18    7\n",
       "2001-02-19    1\n",
       "2001-02-20    2\n",
       "2001-02-21    3\n",
       "2001-02-22    4\n",
       "             ..\n",
       "2021-10-11    1\n",
       "2021-10-12    2\n",
       "2021-10-13    3\n",
       "2021-10-14    4\n",
       "2021-10-15    5\n",
       "Name: day of week, Length: 5174, dtype: int64"
      ]
     },
     "execution_count": 12,
     "metadata": {},
     "output_type": "execute_result"
    }
   ],
   "source": [
    "rtsi['day of week']"
   ]
  },
  {
   "cell_type": "code",
   "execution_count": 13,
   "id": "85c2331c",
   "metadata": {},
   "outputs": [
    {
     "data": {
      "text/plain": [
       "array([0., 0.])"
      ]
     },
     "execution_count": 13,
     "metadata": {},
     "output_type": "execute_result"
    }
   ],
   "source": [
    "# rtsi['test triangular cluster memb'] = \\\n",
    "calc_trapezoidal_membership_degrees(rtsi['day of week'].values,\n",
    "                                    a=[0, 2],\n",
    "                                    b=[2, 4],\n",
    "                                    c=[2, 4],\n",
    "                                    d=[4, 6])"
   ]
  },
  {
   "cell_type": "markdown",
   "id": "c2c33a08",
   "metadata": {},
   "source": [
    "## Constants"
   ]
  },
  {
   "cell_type": "code",
   "execution_count": 14,
   "id": "93b84c0d",
   "metadata": {},
   "outputs": [],
   "source": [
    "rescale_factor = 1\n",
    "start_date = '2014-01-01'\n",
    "\n",
    "input_data = rtsi['log return'].loc[start_date:].copy() * rescale_factor"
   ]
  },
  {
   "cell_type": "code",
   "execution_count": 15,
   "id": "1b2f616e",
   "metadata": {},
   "outputs": [
    {
     "data": {
      "image/png": "[encoded data removed]",
      "text/plain": [
       "<Figure size 432x288 with 1 Axes>"
      ]
     },
     "metadata": {
      "needs_background": "light"
     },
     "output_type": "display_data"
    }
   ],
   "source": [
    "input_data.plot()\n",
    "\n",
    "plt.grid()\n",
    "plt.show()"
   ]
  },
  {
   "cell_type": "code",
   "execution_count": 16,
   "id": "8bacee25",
   "metadata": {},
   "outputs": [
    {
     "data": {
      "text/plain": [
       "count    1964.000000\n",
       "mean        0.000138\n",
       "std         0.018266\n",
       "min        -0.139486\n",
       "25%        -0.008991\n",
       "50%         0.000715\n",
       "75%         0.009351\n",
       "max         0.132462\n",
       "Name: log return, dtype: float64"
      ]
     },
     "execution_count": 16,
     "metadata": {},
     "output_type": "execute_result"
    }
   ],
   "source": [
    "input_data.describe()"
   ]
  },
  {
   "cell_type": "code",
   "execution_count": 17,
   "id": "b196b8a5",
   "metadata": {},
   "outputs": [],
   "source": [
    "n = input_data.shape[0]"
   ]
  },
  {
   "cell_type": "code",
   "execution_count": 18,
   "id": "95949fa0",
   "metadata": {},
   "outputs": [
    {
     "data": {
      "text/plain": [
       "1964"
      ]
     },
     "execution_count": 18,
     "metadata": {},
     "output_type": "execute_result"
    }
   ],
   "source": [
    "n"
   ]
  },
  {
   "cell_type": "markdown",
   "id": "91887570",
   "metadata": {},
   "source": [
    "## Train / test split"
   ]
  },
  {
   "cell_type": "code",
   "execution_count": 19,
   "id": "a9d58a35-9402-47dd-95e8-a20939a666a7",
   "metadata": {},
   "outputs": [],
   "source": [
    "n_train = 100  # 2000\n",
    "\n",
    "n_test = 10\n",
    "n_test = min(n - n_train, n_test)"
   ]
  },
  {
   "cell_type": "code",
   "execution_count": 20,
   "id": "7ac51558-282e-42f0-a39b-d7938317f87c",
   "metadata": {},
   "outputs": [],
   "source": [
    "train, test = input_data.iloc[:n_train].copy(), input_data.iloc[n_train:(n_train + n_test)].copy()\n",
    "input_cut = pd.concat([train, test]).copy()\n",
    "# data_to_cluster_train, data_to_cluster_test = days_of_week.iloc[:n_train].copy(), days_of_week.iloc[n_train:].copy()"
   ]
  },
  {
   "cell_type": "code",
   "execution_count": 21,
   "id": "2663e3bf-0d2a-4a08-b821-cfc7c4b0ed31",
   "metadata": {},
   "outputs": [
    {
     "data": {
      "image/png": "[encoded data removed]",
      "text/plain": [
       "<Figure size 432x288 with 1 Axes>"
      ]
     },
     "metadata": {
      "needs_background": "light"
     },
     "output_type": "display_data"
    }
   ],
   "source": [
    "train.plot(label='train')\n",
    "test.plot(label='test')\n",
    "\n",
    "plt.legend()\n",
    "plt.grid()\n",
    "plt.show()"
   ]
  },
  {
   "cell_type": "code",
   "execution_count": 22,
   "id": "cef295e4",
   "metadata": {},
   "outputs": [
    {
     "data": {
      "text/plain": [
       "count    100.000000\n",
       "mean      -0.000925\n",
       "std        0.021637\n",
       "min       -0.127957\n",
       "25%       -0.009821\n",
       "50%       -0.000677\n",
       "75%        0.007873\n",
       "max        0.060176\n",
       "Name: log return, dtype: float64"
      ]
     },
     "execution_count": 22,
     "metadata": {},
     "output_type": "execute_result"
    }
   ],
   "source": [
    "train.describe()"
   ]
  },
  {
   "cell_type": "markdown",
   "id": "6ca7a301",
   "metadata": {},
   "source": [
    "# Consequent"
   ]
  },
  {
   "cell_type": "code",
   "execution_count": 23,
   "id": "c2090135",
   "metadata": {},
   "outputs": [],
   "source": [
    "# technical parameters for arch_model function\n",
    "garch_mean = 'Zero'\n",
    "garch_dist = 'normal'\n",
    "\n",
    "# general parameters\n",
    "local_method = 'garch'\n",
    "\n",
    "# GARCH parameters\n",
    "p = 1\n",
    "q = 1\n",
    "\n",
    "starting_index = max(p, q)\n",
    "\n",
    "train_sample_std = train.std()\n",
    "first_h = [train_sample_std ** 2] * starting_index\n",
    "first_h = np.array(first_h)\n",
    "\n",
    "# parameters constraints\n",
    "lower_bounds = [0] * (1 + p + q)\n",
    "upper_bounds = [+np.inf] + [1] * (p + q)\n",
    "bounds = (lower_bounds, upper_bounds)"
   ]
  },
  {
   "cell_type": "markdown",
   "id": "5e456d4e",
   "metadata": {},
   "source": [
    "### Using classic GARCH to get initial parameters values"
   ]
  },
  {
   "cell_type": "code",
   "execution_count": 24,
   "id": "5e2c9284",
   "metadata": {},
   "outputs": [
    {
     "name": "stdout",
     "output_type": "stream",
     "text": [
      "Iteration:      1,   Func. Count:      5,   Neg. LLF: 3346.999921874939\n",
      "Iteration:      2,   Func. Count:     12,   Neg. LLF: -137.29482889613666\n",
      "Iteration:      3,   Func. Count:     20,   Neg. LLF: -242.51818601755076\n",
      "Iteration:      4,   Func. Count:     25,   Neg. LLF: -242.23976520922335\n",
      "Iteration:      5,   Func. Count:     30,   Neg. LLF: -243.05880468755805\n",
      "Iteration:      6,   Func. Count:     35,   Neg. LLF: -183.15921543727583\n",
      "Iteration:      7,   Func. Count:     41,   Neg. LLF: -243.26705878028932\n",
      "Iteration:      8,   Func. Count:     45,   Neg. LLF: -243.28708365177656\n",
      "Iteration:      9,   Func. Count:     49,   Neg. LLF: -243.2920997265208\n",
      "Iteration:     10,   Func. Count:     53,   Neg. LLF: -243.29219809018068\n",
      "Iteration:     11,   Func. Count:     57,   Neg. LLF: -243.29222039669366\n",
      "Iteration:     12,   Func. Count:     60,   Neg. LLF: -243.292220396315\n",
      "Optimization terminated successfully    (Exit mode 0)\n",
      "            Current function value: -243.29222039669366\n",
      "            Iterations: 12\n",
      "            Function evaluations: 60\n",
      "            Gradient evaluations: 12\n"
     ]
    },
    {
     "name": "stderr",
     "output_type": "stream",
     "text": [
      "/home/vsviyazov/.conda/envs/fuzzy-volatility/lib/python3.9/site-packages/arch/univariate/base.py:309: DataScaleWarning: y is poorly scaled, which may affect convergence of the optimizer when\n",
      "estimating the model parameters. The scale of y is 0.0004635. Parameter\n",
      "estimation work better when this value is between 1 and 1000. The recommended\n",
      "rescaling is 100 * y.\n",
      "\n",
      "This warning can be disabled by either rescaling y before initializing the\n",
      "model or by setting rescale=False.\n",
      "\n",
      "  warnings.warn(\n"
     ]
    }
   ],
   "source": [
    "garch = arch_model(train,\n",
    "                   mean=garch_mean,\n",
    "                   vol='GARCH',\n",
    "                   p=p,\n",
    "                   q=q,\n",
    "                   dist=garch_dist)\n",
    "garch_fitted = garch.fit()"
   ]
  },
  {
   "cell_type": "code",
   "execution_count": 25,
   "id": "626503a0",
   "metadata": {},
   "outputs": [
    {
     "data": {
      "text/plain": [
       "omega       2.417312e-05\n",
       "alpha[1]    8.643520e-14\n",
       "beta[1]     9.536748e-01\n",
       "Name: params, dtype: float64"
      ]
     },
     "execution_count": 25,
     "metadata": {},
     "output_type": "execute_result"
    }
   ],
   "source": [
    "garch_fitted.params"
   ]
  },
  {
   "cell_type": "code",
   "execution_count": 26,
   "id": "51e50f83-cc6b-495c-8900-767a9801c7be",
   "metadata": {},
   "outputs": [],
   "source": [
    "alpha_0_ini = garch_fitted.params.iloc[0]  # np.array([ for _ in range(n_clusters)])\n",
    "alpha_ini = garch_fitted.params.iloc[1:(q + 1)].values  # np.array([ for _ in range(n_clusters)])\n",
    "beta_ini = garch_fitted.params.iloc[(q + 1):].values  # np.array([ for _ in range(n_clusters)])"
   ]
  },
  {
   "cell_type": "code",
   "execution_count": 27,
   "id": "dfcb1d5d",
   "metadata": {},
   "outputs": [],
   "source": [
    "# alpha_0_ini, alpha_ini, beta_ini = unpack_1d_parameters(garch_fitted.params.values, p=p, q=q, n_clusters=n_clusters)"
   ]
  },
  {
   "cell_type": "code",
   "execution_count": 28,
   "id": "452b962e",
   "metadata": {},
   "outputs": [],
   "source": [
    "parameters_ini = {'alpha_0': alpha_0_ini, 'alpha': alpha_ini, 'beta': beta_ini}"
   ]
  },
  {
   "cell_type": "code",
   "execution_count": 29,
   "id": "ce388de6",
   "metadata": {},
   "outputs": [
    {
     "data": {
      "text/plain": [
       "{'alpha_0': 2.417311616241593e-05,\n",
       " 'alpha': array([8.64352049e-14]),\n",
       " 'beta': array([0.95367478])}"
      ]
     },
     "execution_count": 29,
     "metadata": {},
     "output_type": "execute_result"
    }
   ],
   "source": [
    "parameters_ini"
   ]
  },
  {
   "cell_type": "code",
   "execution_count": 30,
   "id": "92368e86",
   "metadata": {},
   "outputs": [],
   "source": [
    "# # initial parameters values for LS to start with\n",
    "# alpha_0_ini = np.array([garch_fitted.params.loc['omega']] * n_clusters)\n",
    "# alpha_ini = np.array([[1] * n_clusters] * q)\n",
    "# beta_ini = np.array([[1] * n_clusters] * p)\n",
    "# parameters_ini = {'alpha_0': alpha_0_ini, 'alpha': alpha_ini, 'beta': beta_ini}"
   ]
  },
  {
   "cell_type": "markdown",
   "id": "45dfbd1c",
   "metadata": {},
   "source": [
    "### Setting dict w/ all consequent parameters"
   ]
  },
  {
   "cell_type": "code",
   "execution_count": 31,
   "id": "0408962b",
   "metadata": {},
   "outputs": [],
   "source": [
    "consequent_metaparams = {'p': p, 'q': q, 'mean': garch_mean, 'dist': garch_dist, 'first_h': first_h,\n",
    "                           'bounds': bounds, 'parameters_ini': parameters_ini}"
   ]
  },
  {
   "cell_type": "markdown",
   "id": "705bedc4",
   "metadata": {},
   "source": [
    "## Other params"
   ]
  },
  {
   "cell_type": "code",
   "execution_count": 32,
   "id": "464d7fe9",
   "metadata": {},
   "outputs": [],
   "source": [
    "n_last_points_to_use_for_clustering_1 = 1\n",
    "n_last_points_to_use_for_clustering_2 = 10\n",
    "n_last_points_to_use_for_clustering = [n_last_points_to_use_for_clustering_1, n_last_points_to_use_for_clustering_2]"
   ]
  },
  {
   "cell_type": "code",
   "execution_count": 33,
   "id": "db3e8be4",
   "metadata": {},
   "outputs": [],
   "source": [
    "data_to_cluster_train_1 = pd.Series(train.index.dayofweek + 1, index=train.index).copy()\n",
    "data_to_cluster_train_2 = 'train'\n",
    "data_to_cluster_train = [data_to_cluster_train_1, data_to_cluster_train_2]"
   ]
  },
  {
   "cell_type": "code",
   "execution_count": 34,
   "id": "230ae959",
   "metadata": {},
   "outputs": [],
   "source": [
    "data_to_cluster_test_1 = pd.Series(test.index.dayofweek + 1, index=test.index).copy()\n",
    "data_to_cluster_test_2 = None\n",
    "data_to_cluster_test = [data_to_cluster_test_1, data_to_cluster_test_2]"
   ]
  },
  {
   "cell_type": "code",
   "execution_count": 35,
   "id": "a8cec70d",
   "metadata": {},
   "outputs": [],
   "source": [
    "cluster_sets_conjunction = 'prod'\n",
    "\n",
    "normalize = True\n",
    "\n",
    "n_points_fitting = train.shape[0]\n",
    "\n",
    "optimization = 'ls'\n",
    "optimization_parameters = {}"
   ]
  },
  {
   "cell_type": "markdown",
   "id": "b58049b4",
   "metadata": {},
   "source": [
    "# Antecedent parameters"
   ]
  },
  {
   "cell_type": "code",
   "execution_count": 36,
   "id": "4e4b24e5",
   "metadata": {},
   "outputs": [],
   "source": [
    "# set #1\n",
    "clusterization_method_1 = 'trapezoidal'\n",
    "\n",
    "n_clusters_1 = 2\n",
    "\n",
    "# a = [1, 1]\n",
    "# b = [1, 5]\n",
    "# c = [1, 5]\n",
    "# d = [5, 5]\n",
    "\n",
    "# set #2\n",
    "clusterization_method_2 = 'gaussian'\n",
    "\n",
    "n_clusters_2 = 4\n",
    "\n",
    "# variances = [7, 6, 3, 5]\n",
    "# centers = [-7.5, -1.5, 1.5, 4]\n",
    "\n",
    "# combined\n",
    "clusterization_methods = [clusterization_method_1, clusterization_method_2]\n",
    "n_clusters = n_clusters_1 * n_clusters_2"
   ]
  },
  {
   "cell_type": "code",
   "execution_count": 37,
   "id": "0f80563b",
   "metadata": {},
   "outputs": [],
   "source": [
    "# antecedent_params = [{'a': a, 'b': b, 'c': c, 'd': d, 'n_clusters': n_clusters_1},\n",
    "#                              {'centers': centers, 'variances': variances, 'n_clusters': n_clusters_2}]"
   ]
  },
  {
   "cell_type": "markdown",
   "id": "69cc26af",
   "metadata": {},
   "source": [
    "## Volatility clustering"
   ]
  },
  {
   "cell_type": "code",
   "execution_count": 38,
   "id": "084eca40-ac3d-4de1-a579-66b913d6b4f6",
   "metadata": {
    "tags": []
   },
   "outputs": [
    {
     "data": {
      "text/plain": [
       "1296"
      ]
     },
     "execution_count": 38,
     "metadata": {},
     "output_type": "execute_result"
    }
   ],
   "source": [
    "# var_scalar_deviations = [0, 1, -1, 2, -2, 3, -3, 4, -4]\n",
    "# var_deviations = list(product(var_scalar_deviations, repeat=n_clusters_2))\n",
    "\n",
    "_step = 2\n",
    "var_scalar_range = np.arange(4, 6 + _step, _step)\n",
    "var_combinations = list(product(var_scalar_range, repeat=n_clusters_2))\n",
    "\n",
    "if len(var_combinations) != len(var_scalar_range) ** n_clusters_2:\n",
    "    raise Exception('Number of combinations should be (# deviations) ** (# clusters)')\n",
    "\n",
    "# var_base = [8, 2, 2, 6]\n",
    "centers_base = [-7.5, -1.5, 1.5, 4]\n",
    "centers_scalar_deviations = [0, 2, -2]\n",
    "centers_deviations = list(product(centers_scalar_deviations, repeat=n_clusters_2))\n",
    "centers_combinations = [np.array(centers_base) + np.array(_dev) for _dev in centers_deviations]\n",
    "\n",
    "centers_vars_combinations = product(centers_combinations, var_combinations, repeat=1)\n",
    "\n",
    "antecedent_params_set_2 = [\n",
    "    {\n",
    "        'centers': tuple(_center_combination),\n",
    "#         'variances': list(np.array(var_base) + np.array(_var_dev)),\n",
    "        'variances': _var_combination,\n",
    "        'n_clusters': n_clusters_2\n",
    "    }\n",
    "#     for _var_dev in var_deviations\n",
    "    for _center_combination, _var_combination in centers_vars_combinations\n",
    "]\n",
    "\n",
    "antecedent_params_set_2 = [_params for _params in antecedent_params_set_2\n",
    "                           if (np.array(_params['variances']) > 0).all()]\n",
    "\n",
    "if np.array([(np.array(_params['variances']) <= 0).any() for _params in antecedent_params_set_2]).any():\n",
    "    raise ValueError('Variances should be strictly positive')\n",
    "\n",
    "len(antecedent_params_set_2)"
   ]
  },
  {
   "cell_type": "markdown",
   "id": "ad5a8dd2",
   "metadata": {},
   "source": [
    "## Seasonal clustering"
   ]
  },
  {
   "cell_type": "code",
   "execution_count": 39,
   "id": "424f5ded",
   "metadata": {},
   "outputs": [],
   "source": [
    "ANGLE_TYPES = ['deg', 'rad', 'tan']\n",
    "\n",
    "\n",
    "def parametrize_trapez_angle(angle, angle_type='deg'):\n",
    "    if angle_type =='rad':\n",
    "        k = np.tan(angle)\n",
    "    elif angle_type == 'deg':\n",
    "        k = np.tan(angle * np.pi / 180)\n",
    "    elif angle_type == 'tan':\n",
    "        k = angle\n",
    "    else:\n",
    "        raise ValueError(f\"\"\"`angle_type` should take one of these values: {ANGLE_TYPES}. \n",
    "                             Got {angle_type}\"\"\")\n",
    "        \n",
    "    beta = .5 - 3 * k\n",
    "    \n",
    "    a = - beta / k\n",
    "    b = (1 - beta) / k\n",
    "    c = b if b >= 5 else 5\n",
    "    d = c\n",
    "    \n",
    "    return a, b, c, d"
   ]
  },
  {
   "cell_type": "code",
   "execution_count": 40,
   "id": "b225b2ad",
   "metadata": {},
   "outputs": [],
   "source": [
    "def calc_complementary_trapez_params(a1, b1, c1, d1):\n",
    "    a2 = 1 if a1 >= 1 else a1\n",
    "    b2 = a2\n",
    "    c2 = a1\n",
    "    d2 = b1\n",
    "    \n",
    "    return a2, b2, c2, d2"
   ]
  },
  {
   "cell_type": "code",
   "execution_count": 41,
   "id": "674d6c17",
   "metadata": {},
   "outputs": [],
   "source": [
    "# angles = [15, 30, 45, 60, 75]\n",
    "angles = {15, 75}\n",
    "\n",
    "_cl_1 = [list(parametrize_trapez_angle(_angle, angle_type='deg')) for _angle in angles]\n",
    "_cl_2 = [calc_complementary_trapez_params(*_params) for _params in _cl_1]\n",
    "\n",
    "_cl_1 = np.array(_cl_1)\n",
    "_cl_2 = np.array(_cl_2)"
   ]
  },
  {
   "cell_type": "code",
   "execution_count": 42,
   "id": "76fe0d6a",
   "metadata": {
    "scrolled": true
   },
   "outputs": [
    {
     "data": {
      "text/plain": [
       "array([[0.        , 0.        ],\n",
       "       [0.        , 0.23205081],\n",
       "       [0.5       , 0.5       ],\n",
       "       [1.        , 0.76794919],\n",
       "       [1.        , 1.        ]])"
      ]
     },
     "execution_count": 42,
     "metadata": {},
     "output_type": "execute_result"
    }
   ],
   "source": [
    "np.array([calc_trapezoidal_membership_degrees(i + 1, *_cl_1.T) for i in range(5)])"
   ]
  },
  {
   "cell_type": "code",
   "execution_count": 43,
   "id": "642befca",
   "metadata": {},
   "outputs": [],
   "source": [
    "_tol = 1e-5\n",
    "\n",
    "if not (abs(np.array([calc_trapezoidal_membership_degrees(i + 1, *_cl_1.T) for i in range(5)]) + \\\n",
    "    np.array([calc_trapezoidal_membership_degrees(i + 1, *_cl_2.T) for i in range(5)]) - 1) < _tol).all():\n",
    "    raise Exception('Sanity check not passed: not all memb degrees sums equal to 1')"
   ]
  },
  {
   "cell_type": "code",
   "execution_count": 44,
   "id": "e41c68a1",
   "metadata": {},
   "outputs": [
    {
     "data": {
      "text/plain": [
       "2"
      ]
     },
     "execution_count": 44,
     "metadata": {},
     "output_type": "execute_result"
    }
   ],
   "source": [
    "trapez_clusters = [{\n",
    "                       'a': [_cl_1[i, 0], _cl_2[i, 0]],\n",
    "                       'b': [_cl_1[i, 1], _cl_2[i, 1]],\n",
    "                       'c': [_cl_1[i, 2], _cl_2[i, 2]],\n",
    "                       'd': [_cl_1[i, 3], _cl_2[i, 3]],\n",
    "                       'n_clusters': n_clusters_1\n",
    "                   }\n",
    "                   for i in range(_cl_1.shape[0])]\n",
    "len(trapez_clusters)"
   ]
  },
  {
   "cell_type": "markdown",
   "id": "26bf749b",
   "metadata": {},
   "source": [
    "## Combining"
   ]
  },
  {
   "cell_type": "code",
   "execution_count": 45,
   "id": "72941edc",
   "metadata": {},
   "outputs": [],
   "source": [
    "antecedent_params_set = list(product(trapez_clusters, antecedent_params_set_2, repeat=1))\n",
    "antecedent_params_set = [list(_elem) for _elem in antecedent_params_set]\n",
    "\n",
    "if not len(antecedent_params_set) == len(trapez_clusters) * len(antecedent_params_set_2):\n",
    "    raise Exception('Sanity check not passed')"
   ]
  },
  {
   "cell_type": "code",
   "execution_count": 46,
   "id": "c2c011a2",
   "metadata": {},
   "outputs": [
    {
     "data": {
      "text/plain": [
       "2592"
      ]
     },
     "execution_count": 46,
     "metadata": {},
     "output_type": "execute_result"
    }
   ],
   "source": [
    "len(antecedent_params_set)"
   ]
  },
  {
   "cell_type": "code",
   "execution_count": 47,
   "id": "af79aa33",
   "metadata": {},
   "outputs": [
    {
     "data": {
      "text/plain": [
       "False"
      ]
     },
     "execution_count": 47,
     "metadata": {},
     "output_type": "execute_result"
    }
   ],
   "source": [
    "((data_to_cluster_train[0] == 6) | (data_to_cluster_train[0] == 7)).any()"
   ]
  },
  {
   "cell_type": "code",
   "execution_count": 48,
   "id": "aa1221e9",
   "metadata": {},
   "outputs": [
    {
     "data": {
      "text/plain": [
       "Series([], Name: <DATE>, dtype: int64)"
      ]
     },
     "execution_count": 48,
     "metadata": {},
     "output_type": "execute_result"
    }
   ],
   "source": [
    "data_to_cluster_train[0][data_to_cluster_train[0] == 6]"
   ]
  },
  {
   "cell_type": "code",
   "execution_count": 49,
   "id": "1fa87b05",
   "metadata": {},
   "outputs": [
    {
     "data": {
      "text/plain": [
       "Series([], Name: <DATE>, dtype: int64)"
      ]
     },
     "execution_count": 49,
     "metadata": {},
     "output_type": "execute_result"
    }
   ],
   "source": [
    "data_to_cluster_test[0][data_to_cluster_test[0] == 6]"
   ]
  },
  {
   "cell_type": "markdown",
   "id": "312c52eb-b015-48ac-ae70-7c7615be330f",
   "metadata": {},
   "source": [
    "# Aggregating all data to one dict"
   ]
  },
  {
   "cell_type": "code",
   "execution_count": 50,
   "id": "8bbab26e-432a-476c-8791-1c2d0e370e93",
   "metadata": {},
   "outputs": [],
   "source": [
    "data = {\n",
    "    'train': train,\n",
    "    'test': test,\n",
    "    'consequent_metaparams': consequent_metaparams,\n",
    "#     'consequent_params_ini': consequent_params_ini,\n",
    "    'antecedent_params_set': antecedent_params_set,\n",
    "    'clusterization_method': clusterization_methods,\n",
    "    'local_method': local_method,\n",
    "    'data_to_cluster_train': data_to_cluster_train,\n",
    "    'data_to_cluster_test': data_to_cluster_test,\n",
    "    'cluster_sets_conjunction': cluster_sets_conjunction,\n",
    "    'n_last_points_to_use_for_clustering': n_last_points_to_use_for_clustering,\n",
    "    'other_fvm_parameters':\n",
    "    {\n",
    "        'normalize': normalize,\n",
    "        'n_points_fitting': n_points_fitting,\n",
    "        'optimization': optimization,\n",
    "        'optimization_parameters': optimization_parameters\n",
    "    }\n",
    "}"
   ]
  },
  {
   "cell_type": "markdown",
   "id": "2435d99b-8e75-45ed-a5be-505b811c877d",
   "metadata": {},
   "source": [
    "# Same parameters BUT w/o seasonality"
   ]
  },
  {
   "cell_type": "code",
   "execution_count": 104,
   "id": "15f6e0c1-0396-430e-84da-91daa6aadbbe",
   "metadata": {},
   "outputs": [],
   "source": [
    "clusterization_methods_wo_seas = clusterization_methods[1:]\n",
    "antecedent_params_set_wo_seas = [[_params] for _params in antecedent_params_set_2]\n",
    "data_to_cluster_train_wo_seas = data_to_cluster_train[1:]\n",
    "data_to_cluster_test_wo_seas = data_to_cluster_test[1:]\n",
    "n_last_points_to_use_for_clustering_wo_seas = n_last_points_to_use_for_clustering[1:]"
   ]
  },
  {
   "cell_type": "code",
   "execution_count": 105,
   "id": "85f6c6a4-516f-4650-967a-6f9bcb650080",
   "metadata": {},
   "outputs": [],
   "source": [
    "data_wo_seas = data.copy()"
   ]
  },
  {
   "cell_type": "code",
   "execution_count": 106,
   "id": "6d78a6e5-3d44-4c57-9616-223e5b116b8f",
   "metadata": {},
   "outputs": [],
   "source": [
    "data_wo_seas.update({\n",
    "    'clusterization_method': clusterization_methods_wo_seas,\n",
    "    'antecedent_params_set': antecedent_params_set_wo_seas,\n",
    "    'data_to_cluster_train': data_to_cluster_train_wo_seas,\n",
    "    'data_to_cluster_test': data_to_cluster_test_wo_seas,\n",
    "    'n_last_points_to_use_for_clustering': n_last_points_to_use_for_clustering_wo_seas\n",
    "})"
   ]
  },
  {
   "cell_type": "markdown",
   "id": "74b7c22d-5459-4ed1-b8dc-5f026e89419a",
   "metadata": {},
   "source": [
    "# Dumping"
   ]
  },
  {
   "cell_type": "code",
   "execution_count": 109,
   "id": "e3feec7e-eeac-4fa5-82b7-9925bd945679",
   "metadata": {
    "scrolled": true
   },
   "outputs": [],
   "source": [
    "_file_name_cur = 'current_antecedent_fitting_metadata_seasonal.pkl'\n",
    "_file_name_wo_seas_cur = 'current_antecedent_fitting_metadata_wo_seas.pkl'\n",
    "\n",
    "_cur_time = str(pd.Timestamp.now().floor('s')).replace(' ', '_').replace(':', '-')\n",
    "_file_name_hist = f'hist_antecedent_fitting_metadata_seasonal_{_cur_time}.pkl'\n",
    "_file_name_wo_seas_hist = f'hist_antecedent_fitting_metadata_wo_seas_{_cur_time}.pkl'\n",
    "\n",
    "with open(f'{antecedent_params_folder}/{_file_name_cur}', 'wb') as _file:\n",
    "    pickle.dump(data, _file)\n",
    "with open(f'{antecedent_params_folder}/{_file_name_wo_seas_cur}', 'wb') as _file:\n",
    "    pickle.dump(data_wo_seas, _file)\n",
    "\n",
    "with open(f'{antecedent_params_folder}/{_file_name_hist}', 'wb') as _file:\n",
    "    pickle.dump(data, _file)\n",
    "with open(f'{antecedent_params_folder}/{_file_name_wo_seas_hist}', 'wb') as _file:\n",
    "    pickle.dump(data_wo_seas, _file)"
   ]
  },
  {
   "cell_type": "code",
   "execution_count": 114,
   "id": "3419101b-d821-49ec-9f98-f94be815ca88",
   "metadata": {},
   "outputs": [
    {
     "data": {
      "text/plain": [
       "['train']"
      ]
     },
     "execution_count": 114,
     "metadata": {},
     "output_type": "execute_result"
    }
   ],
   "source": [
    "data_to_cluster_train_wo_seas"
   ]
  }
 ],
 "metadata": {
  "kernelspec": {
   "display_name": "Python [.conda-fuzzy-volatility]",
   "language": "python",
   "name": "conda-env-.conda-fuzzy-volatility-py"
  },
  "language_info": {
   "codemirror_mode": {
    "name": "ipython",
    "version": 3
   },
   "file_extension": ".py",
   "mimetype": "text/x-python",
   "name": "python",
   "nbconvert_exporter": "python",
   "pygments_lexer": "ipython3",
   "version": "3.9.7"
  }
 },
 "nbformat": 4,
 "nbformat_minor": 5
}
