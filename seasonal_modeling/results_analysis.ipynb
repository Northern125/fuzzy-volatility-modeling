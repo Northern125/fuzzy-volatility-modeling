{
 "cells": [
  {
   "cell_type": "code",
   "execution_count": 16,
   "id": "0194ea14",
   "metadata": {},
   "outputs": [],
   "source": [
    "import os\n",
    "import json\n",
    "\n",
    "import pandas as pd\n",
    "import numpy as np"
   ]
  },
  {
   "cell_type": "code",
   "execution_count": 2,
   "id": "81f62771",
   "metadata": {},
   "outputs": [],
   "source": [
    "ini_work_dir = os.getcwd()\n",
    "os.chdir('..')"
   ]
  },
  {
   "cell_type": "code",
   "execution_count": 3,
   "id": "3400e880",
   "metadata": {},
   "outputs": [],
   "source": [
    "with open('config.json') as file:\n",
    "    config = json.load(file)"
   ]
  },
  {
   "cell_type": "code",
   "execution_count": 4,
   "id": "c56a64ff",
   "metadata": {},
   "outputs": [],
   "source": [
    "files_folder = config['files_folders']['processed']\n",
    "research_results_folder = config['files_folders']['research_results']\n",
    "antecedent_params_folder = config['files_folders']['antecedent_params_sets']\n",
    "metadata_file_name = 'current_antecedent_fitting_metadata_seasonal.pkl'\n",
    "logs_folder = config['files_folders']['logs']\n",
    "summary_table_name = 'summary_table_seas'"
   ]
  },
  {
   "cell_type": "code",
   "execution_count": 91,
   "id": "63043624",
   "metadata": {},
   "outputs": [],
   "source": [
    "pd.options.display.max_colwidth = 300\n",
    "pd.options.display.precision = 15"
   ]
  },
  {
   "cell_type": "markdown",
   "id": "1dfc9c46",
   "metadata": {},
   "source": [
    "# Reading results files"
   ]
  },
  {
   "cell_type": "markdown",
   "id": "2509bb34",
   "metadata": {},
   "source": [
    "## Seasonal"
   ]
  },
  {
   "cell_type": "code",
   "execution_count": null,
   "id": "93187a86",
   "metadata": {},
   "outputs": [],
   "source": [
    "_files = ['fitting_consequent_params_seasonal_raw_result_nb_0_2022-09-25 00-10-02.655534.pkl']\n",
    "_res = [pd.read_pickle(f'{research_results_folder}/{_file}') for _file in _files]\n",
    "_res = [_elem for arr in _res for _elem in arr].copy()\n",
    "\n",
    "res = pd.DataFrame.from_records(_res).copy()"
   ]
  },
  {
   "cell_type": "code",
   "execution_count": null,
   "id": "98aedd19",
   "metadata": {},
   "outputs": [],
   "source": [
    "if (res['status'] != 0).any():\n",
    "    raise Error('Not all models were fitted')"
   ]
  },
  {
   "cell_type": "code",
   "execution_count": null,
   "id": "7b4be34b",
   "metadata": {
    "scrolled": true
   },
   "outputs": [],
   "source": [
    "res.sort_values('rmse')"
   ]
  },
  {
   "cell_type": "code",
   "execution_count": 84,
   "id": "f3ddfaa2",
   "metadata": {},
   "outputs": [
    {
     "data": {
      "text/plain": [
       "0.001660824599800267377"
      ]
     },
     "execution_count": 84,
     "metadata": {},
     "output_type": "execute_result"
    }
   ],
   "source": [
    "_.iloc[0]['rmse']"
   ]
  },
  {
   "cell_type": "code",
   "execution_count": 93,
   "id": "9f262b9b",
   "metadata": {},
   "outputs": [
    {
     "data": {
      "text/plain": [
       "0.001660824599800    17\n",
       "0.001660824599800    12\n",
       "0.001660824599800     7\n",
       "0.001660824599800     6\n",
       "0.001660824599800     6\n",
       "                     ..\n",
       "0.001660832600220     1\n",
       "0.001660827520141     1\n",
       "0.001660824599803     1\n",
       "0.001660824599801     1\n",
       "0.001660824600407     1\n",
       "Name: rmse, Length: 1632, dtype: int64"
      ]
     },
     "execution_count": 93,
     "metadata": {},
     "output_type": "execute_result"
    }
   ],
   "source": [
    "res['rmse'].value_counts()"
   ]
  },
  {
   "cell_type": "code",
   "execution_count": 82,
   "id": "bc97ed9e",
   "metadata": {},
   "outputs": [
    {
     "data": {
      "text/html": [
       "<div>\n",
       "<style scoped>\n",
       "    .dataframe tbody tr th:only-of-type {\n",
       "        vertical-align: middle;\n",
       "    }\n",
       "\n",
       "    .dataframe tbody tr th {\n",
       "        vertical-align: top;\n",
       "    }\n",
       "\n",
       "    .dataframe thead th {\n",
       "        text-align: right;\n",
       "    }\n",
       "</style>\n",
       "<table border=\"1\" class=\"dataframe\">\n",
       "  <thead>\n",
       "    <tr style=\"text-align: right;\">\n",
       "      <th></th>\n",
       "      <th>antecedent_params</th>\n",
       "      <th>status</th>\n",
       "      <th>fvm</th>\n",
       "      <th>mse</th>\n",
       "      <th>rmse</th>\n",
       "      <th>mape</th>\n",
       "      <th>exception</th>\n",
       "      <th>traceback</th>\n",
       "    </tr>\n",
       "  </thead>\n",
       "  <tbody>\n",
       "    <tr>\n",
       "      <th>531</th>\n",
       "      <td>[{'a': [2.8660254037844384, 1.0], 'b': [3.133974596215561, 1.0], 'c': [5.0, 2.8660254037844384], 'd': [5.0, 3.133974596215561], 'n_clusters': 2}, {'centers': (-5.5, -1.5, -0.5, 4.0), 'variances': (4, 4, 6, 6), 'n_clusters': 4}]</td>\n",
       "      <td>0</td>\n",
       "      <td>&lt;model.FuzzyVolatilityModel object at 0x7fefb67ec760&gt;</td>\n",
       "      <td>0.000003</td>\n",
       "      <td>0.001720</td>\n",
       "      <td>1.207340</td>\n",
       "      <td>None</td>\n",
       "      <td>None</td>\n",
       "    </tr>\n",
       "    <tr>\n",
       "      <th>706</th>\n",
       "      <td>[{'a': [2.8660254037844384, 1.0], 'b': [3.133974596215561, 1.0], 'c': [5.0, 2.8660254037844384], 'd': [5.0, 3.133974596215561], 'n_clusters': 2}, {'centers': (-5.5, 0.5, -0.5, 2.0), 'variances': (4, 4, 6, 4), 'n_clusters': 4}]</td>\n",
       "      <td>0</td>\n",
       "      <td>&lt;model.FuzzyVolatilityModel object at 0x7fef9ac284f0&gt;</td>\n",
       "      <td>0.000003</td>\n",
       "      <td>0.001720</td>\n",
       "      <td>1.207743</td>\n",
       "      <td>None</td>\n",
       "      <td>None</td>\n",
       "    </tr>\n",
       "    <tr>\n",
       "      <th>2038</th>\n",
       "      <td>[{'a': [1.1339745962155612, 1.0], 'b': [4.866025403784438, 1.0], 'c': [5.0, 1.1339745962155612], 'd': [5.0, 4.866025403784438], 'n_clusters': 2}, {'centers': (-5.5, -3.5, 1.5, 6.0), 'variances': (4, 6, 6, 4), 'n_clusters': 4}]</td>\n",
       "      <td>0</td>\n",
       "      <td>&lt;model.FuzzyVolatilityModel object at 0x7fef8e2324c0&gt;</td>\n",
       "      <td>0.000003</td>\n",
       "      <td>0.001720</td>\n",
       "      <td>1.209028</td>\n",
       "      <td>None</td>\n",
       "      <td>None</td>\n",
       "    </tr>\n",
       "    <tr>\n",
       "      <th>2097</th>\n",
       "      <td>[{'a': [1.1339745962155612, 1.0], 'b': [4.866025403784438, 1.0], 'c': [5.0, 1.1339745962155612], 'd': [5.0, 4.866025403784438], 'n_clusters': 2}, {'centers': (-5.5, -3.5, 3.5, 2.0), 'variances': (4, 4, 4, 6), 'n_clusters': 4}]</td>\n",
       "      <td>0</td>\n",
       "      <td>&lt;model.FuzzyVolatilityModel object at 0x7fef8e6028e0&gt;</td>\n",
       "      <td>0.000003</td>\n",
       "      <td>0.001719</td>\n",
       "      <td>1.209963</td>\n",
       "      <td>None</td>\n",
       "      <td>None</td>\n",
       "    </tr>\n",
       "  </tbody>\n",
       "</table>\n",
       "</div>"
      ],
      "text/plain": [
       "                                                                                                                                                                                                                        antecedent_params  \\\n",
       "531   [{'a': [2.8660254037844384, 1.0], 'b': [3.133974596215561, 1.0], 'c': [5.0, 2.8660254037844384], 'd': [5.0, 3.133974596215561], 'n_clusters': 2}, {'centers': (-5.5, -1.5, -0.5, 4.0), 'variances': (4, 4, 6, 6), 'n_clusters': 4}]   \n",
       "706    [{'a': [2.8660254037844384, 1.0], 'b': [3.133974596215561, 1.0], 'c': [5.0, 2.8660254037844384], 'd': [5.0, 3.133974596215561], 'n_clusters': 2}, {'centers': (-5.5, 0.5, -0.5, 2.0), 'variances': (4, 4, 6, 4), 'n_clusters': 4}]   \n",
       "2038   [{'a': [1.1339745962155612, 1.0], 'b': [4.866025403784438, 1.0], 'c': [5.0, 1.1339745962155612], 'd': [5.0, 4.866025403784438], 'n_clusters': 2}, {'centers': (-5.5, -3.5, 1.5, 6.0), 'variances': (4, 6, 6, 4), 'n_clusters': 4}]   \n",
       "2097   [{'a': [1.1339745962155612, 1.0], 'b': [4.866025403784438, 1.0], 'c': [5.0, 1.1339745962155612], 'd': [5.0, 4.866025403784438], 'n_clusters': 2}, {'centers': (-5.5, -3.5, 3.5, 2.0), 'variances': (4, 4, 4, 6), 'n_clusters': 4}]   \n",
       "\n",
       "      status                                                    fvm       mse  \\\n",
       "531        0  <model.FuzzyVolatilityModel object at 0x7fefb67ec760>  0.000003   \n",
       "706        0  <model.FuzzyVolatilityModel object at 0x7fef9ac284f0>  0.000003   \n",
       "2038       0  <model.FuzzyVolatilityModel object at 0x7fef8e2324c0>  0.000003   \n",
       "2097       0  <model.FuzzyVolatilityModel object at 0x7fef8e6028e0>  0.000003   \n",
       "\n",
       "          rmse      mape exception traceback  \n",
       "531   0.001720  1.207340      None      None  \n",
       "706   0.001720  1.207743      None      None  \n",
       "2038  0.001720  1.209028      None      None  \n",
       "2097  0.001719  1.209963      None      None  "
      ]
     },
     "execution_count": 82,
     "metadata": {},
     "output_type": "execute_result"
    }
   ],
   "source": [
    "eps = 1e-5\n",
    "res[(res['rmse'] - 0.001720).abs() < eps]"
   ]
  },
  {
   "cell_type": "code",
   "execution_count": 63,
   "id": "463836b6",
   "metadata": {
    "scrolled": false
   },
   "outputs": [
    {
     "data": {
      "text/plain": [
       "<AxesSubplot:>"
      ]
     },
     "execution_count": 63,
     "metadata": {},
     "output_type": "execute_result"
    },
    {
     "data": {
      "image/png": "[encoded data removed]",
      "text/plain": [
       "<Figure size 640x480 with 1 Axes>"
      ]
     },
     "metadata": {},
     "output_type": "display_data"
    }
   ],
   "source": [
    "res['rmse'].hist(grid=True)"
   ]
  },
  {
   "cell_type": "markdown",
   "id": "245c2397",
   "metadata": {},
   "source": [
    "## W/o seasonality"
   ]
  },
  {
   "cell_type": "code",
   "execution_count": 72,
   "id": "d598b5ac",
   "metadata": {},
   "outputs": [],
   "source": [
    "_files = ['fitting_consequent_params_wo_seas_raw_result_nb_0_2022-09-25 00-09-43.615320.pkl']\n",
    "_res = [pd.read_pickle(f'{research_results_folder}/{_file}') for _file in _files]\n",
    "_res = [_elem for arr in _res for _elem in arr].copy()\n",
    "\n",
    "res_wos = pd.DataFrame.from_records(_res).copy()"
   ]
  },
  {
   "cell_type": "code",
   "execution_count": 73,
   "id": "73781384",
   "metadata": {},
   "outputs": [
    {
     "data": {
      "text/html": [
       "<div>\n",
       "<style scoped>\n",
       "    .dataframe tbody tr th:only-of-type {\n",
       "        vertical-align: middle;\n",
       "    }\n",
       "\n",
       "    .dataframe tbody tr th {\n",
       "        vertical-align: top;\n",
       "    }\n",
       "\n",
       "    .dataframe thead th {\n",
       "        text-align: right;\n",
       "    }\n",
       "</style>\n",
       "<table border=\"1\" class=\"dataframe\">\n",
       "  <thead>\n",
       "    <tr style=\"text-align: right;\">\n",
       "      <th></th>\n",
       "      <th>antecedent_params</th>\n",
       "      <th>status</th>\n",
       "      <th>fvm</th>\n",
       "      <th>mse</th>\n",
       "      <th>rmse</th>\n",
       "      <th>mape</th>\n",
       "      <th>exception</th>\n",
       "      <th>traceback</th>\n",
       "    </tr>\n",
       "  </thead>\n",
       "  <tbody>\n",
       "    <tr>\n",
       "      <th>830</th>\n",
       "      <td>[{'centers': (-5.5, -3.5, -0.5, 4.0), 'varianc...</td>\n",
       "      <td>0</td>\n",
       "      <td>&lt;model.FuzzyVolatilityModel object at 0x7fefa7...</td>\n",
       "      <td>0.000003</td>\n",
       "      <td>0.001661</td>\n",
       "      <td>1.234396</td>\n",
       "      <td>None</td>\n",
       "      <td>None</td>\n",
       "    </tr>\n",
       "    <tr>\n",
       "      <th>1292</th>\n",
       "      <td>[{'centers': (-9.5, -3.5, -0.5, 2.0), 'varianc...</td>\n",
       "      <td>0</td>\n",
       "      <td>&lt;model.FuzzyVolatilityModel object at 0x7fef8f...</td>\n",
       "      <td>0.000003</td>\n",
       "      <td>0.001661</td>\n",
       "      <td>1.234396</td>\n",
       "      <td>None</td>\n",
       "      <td>None</td>\n",
       "    </tr>\n",
       "    <tr>\n",
       "      <th>765</th>\n",
       "      <td>[{'centers': (-5.5, -3.5, 1.5, 2.0), 'variance...</td>\n",
       "      <td>0</td>\n",
       "      <td>&lt;model.FuzzyVolatilityModel object at 0x7fefa7...</td>\n",
       "      <td>0.000003</td>\n",
       "      <td>0.001661</td>\n",
       "      <td>1.234396</td>\n",
       "      <td>None</td>\n",
       "      <td>None</td>\n",
       "    </tr>\n",
       "    <tr>\n",
       "      <th>685</th>\n",
       "      <td>[{'centers': (-5.5, 0.5, -0.5, 4.0), 'variance...</td>\n",
       "      <td>0</td>\n",
       "      <td>&lt;model.FuzzyVolatilityModel object at 0x7fefa6...</td>\n",
       "      <td>0.000003</td>\n",
       "      <td>0.001661</td>\n",
       "      <td>1.234396</td>\n",
       "      <td>None</td>\n",
       "      <td>None</td>\n",
       "    </tr>\n",
       "    <tr>\n",
       "      <th>844</th>\n",
       "      <td>[{'centers': (-5.5, -3.5, -0.5, 6.0), 'varianc...</td>\n",
       "      <td>0</td>\n",
       "      <td>&lt;model.FuzzyVolatilityModel object at 0x7fefa8...</td>\n",
       "      <td>0.000003</td>\n",
       "      <td>0.001661</td>\n",
       "      <td>1.234396</td>\n",
       "      <td>None</td>\n",
       "      <td>None</td>\n",
       "    </tr>\n",
       "    <tr>\n",
       "      <th>...</th>\n",
       "      <td>...</td>\n",
       "      <td>...</td>\n",
       "      <td>...</td>\n",
       "      <td>...</td>\n",
       "      <td>...</td>\n",
       "      <td>...</td>\n",
       "      <td>...</td>\n",
       "      <td>...</td>\n",
       "    </tr>\n",
       "    <tr>\n",
       "      <th>563</th>\n",
       "      <td>[{'centers': (-5.5, -1.5, -0.5, 2.0), 'varianc...</td>\n",
       "      <td>0</td>\n",
       "      <td>&lt;model.FuzzyVolatilityModel object at 0x7fefa4...</td>\n",
       "      <td>0.000003</td>\n",
       "      <td>0.001661</td>\n",
       "      <td>1.234419</td>\n",
       "      <td>None</td>\n",
       "      <td>None</td>\n",
       "    </tr>\n",
       "    <tr>\n",
       "      <th>273</th>\n",
       "      <td>[{'centers': (-7.5, 0.5, -0.5, 2.0), 'variance...</td>\n",
       "      <td>0</td>\n",
       "      <td>&lt;model.FuzzyVolatilityModel object at 0x7fefba...</td>\n",
       "      <td>0.000003</td>\n",
       "      <td>0.001720</td>\n",
       "      <td>1.206314</td>\n",
       "      <td>None</td>\n",
       "      <td>None</td>\n",
       "    </tr>\n",
       "    <tr>\n",
       "      <th>1137</th>\n",
       "      <td>[{'centers': (-9.5, 0.5, -0.5, 2.0), 'variance...</td>\n",
       "      <td>0</td>\n",
       "      <td>&lt;model.FuzzyVolatilityModel object at 0x7fef8e...</td>\n",
       "      <td>0.000003</td>\n",
       "      <td>0.001720</td>\n",
       "      <td>1.206314</td>\n",
       "      <td>None</td>\n",
       "      <td>None</td>\n",
       "    </tr>\n",
       "    <tr>\n",
       "      <th>281</th>\n",
       "      <td>[{'centers': (-7.5, 0.5, -0.5, 2.0), 'variance...</td>\n",
       "      <td>0</td>\n",
       "      <td>&lt;model.FuzzyVolatilityModel object at 0x7fefc8...</td>\n",
       "      <td>0.000003</td>\n",
       "      <td>0.001720</td>\n",
       "      <td>1.206314</td>\n",
       "      <td>None</td>\n",
       "      <td>None</td>\n",
       "    </tr>\n",
       "    <tr>\n",
       "      <th>1145</th>\n",
       "      <td>[{'centers': (-9.5, 0.5, -0.5, 2.0), 'variance...</td>\n",
       "      <td>0</td>\n",
       "      <td>&lt;model.FuzzyVolatilityModel object at 0x7fef8e...</td>\n",
       "      <td>0.000003</td>\n",
       "      <td>0.001720</td>\n",
       "      <td>1.206314</td>\n",
       "      <td>None</td>\n",
       "      <td>None</td>\n",
       "    </tr>\n",
       "  </tbody>\n",
       "</table>\n",
       "<p>1296 rows × 8 columns</p>\n",
       "</div>"
      ],
      "text/plain": [
       "                                      antecedent_params  status  \\\n",
       "830   [{'centers': (-5.5, -3.5, -0.5, 4.0), 'varianc...       0   \n",
       "1292  [{'centers': (-9.5, -3.5, -0.5, 2.0), 'varianc...       0   \n",
       "765   [{'centers': (-5.5, -3.5, 1.5, 2.0), 'variance...       0   \n",
       "685   [{'centers': (-5.5, 0.5, -0.5, 4.0), 'variance...       0   \n",
       "844   [{'centers': (-5.5, -3.5, -0.5, 6.0), 'varianc...       0   \n",
       "...                                                 ...     ...   \n",
       "563   [{'centers': (-5.5, -1.5, -0.5, 2.0), 'varianc...       0   \n",
       "273   [{'centers': (-7.5, 0.5, -0.5, 2.0), 'variance...       0   \n",
       "1137  [{'centers': (-9.5, 0.5, -0.5, 2.0), 'variance...       0   \n",
       "281   [{'centers': (-7.5, 0.5, -0.5, 2.0), 'variance...       0   \n",
       "1145  [{'centers': (-9.5, 0.5, -0.5, 2.0), 'variance...       0   \n",
       "\n",
       "                                                    fvm       mse      rmse  \\\n",
       "830   <model.FuzzyVolatilityModel object at 0x7fefa7...  0.000003  0.001661   \n",
       "1292  <model.FuzzyVolatilityModel object at 0x7fef8f...  0.000003  0.001661   \n",
       "765   <model.FuzzyVolatilityModel object at 0x7fefa7...  0.000003  0.001661   \n",
       "685   <model.FuzzyVolatilityModel object at 0x7fefa6...  0.000003  0.001661   \n",
       "844   <model.FuzzyVolatilityModel object at 0x7fefa8...  0.000003  0.001661   \n",
       "...                                                 ...       ...       ...   \n",
       "563   <model.FuzzyVolatilityModel object at 0x7fefa4...  0.000003  0.001661   \n",
       "273   <model.FuzzyVolatilityModel object at 0x7fefba...  0.000003  0.001720   \n",
       "1137  <model.FuzzyVolatilityModel object at 0x7fef8e...  0.000003  0.001720   \n",
       "281   <model.FuzzyVolatilityModel object at 0x7fefc8...  0.000003  0.001720   \n",
       "1145  <model.FuzzyVolatilityModel object at 0x7fef8e...  0.000003  0.001720   \n",
       "\n",
       "          mape exception traceback  \n",
       "830   1.234396      None      None  \n",
       "1292  1.234396      None      None  \n",
       "765   1.234396      None      None  \n",
       "685   1.234396      None      None  \n",
       "844   1.234396      None      None  \n",
       "...        ...       ...       ...  \n",
       "563   1.234419      None      None  \n",
       "273   1.206314      None      None  \n",
       "1137  1.206314      None      None  \n",
       "281   1.206314      None      None  \n",
       "1145  1.206314      None      None  \n",
       "\n",
       "[1296 rows x 8 columns]"
      ]
     },
     "execution_count": 73,
     "metadata": {},
     "output_type": "execute_result"
    }
   ],
   "source": [
    "res_wos.sort_values('rmse')"
   ]
  },
  {
   "cell_type": "code",
   "execution_count": 75,
   "id": "64a713c2",
   "metadata": {},
   "outputs": [
    {
     "data": {
      "text/html": [
       "<div>\n",
       "<style scoped>\n",
       "    .dataframe tbody tr th:only-of-type {\n",
       "        vertical-align: middle;\n",
       "    }\n",
       "\n",
       "    .dataframe tbody tr th {\n",
       "        vertical-align: top;\n",
       "    }\n",
       "\n",
       "    .dataframe thead th {\n",
       "        text-align: right;\n",
       "    }\n",
       "</style>\n",
       "<table border=\"1\" class=\"dataframe\">\n",
       "  <thead>\n",
       "    <tr style=\"text-align: right;\">\n",
       "      <th></th>\n",
       "      <th>antecedent_params</th>\n",
       "      <th>status</th>\n",
       "      <th>fvm</th>\n",
       "      <th>mse</th>\n",
       "      <th>rmse</th>\n",
       "      <th>mape</th>\n",
       "      <th>exception</th>\n",
       "      <th>traceback</th>\n",
       "    </tr>\n",
       "  </thead>\n",
       "  <tbody>\n",
       "    <tr>\n",
       "      <th>273</th>\n",
       "      <td>[{'centers': (-7.5, 0.5, -0.5, 2.0), 'variance...</td>\n",
       "      <td>0</td>\n",
       "      <td>&lt;model.FuzzyVolatilityModel object at 0x7fefba...</td>\n",
       "      <td>0.000003</td>\n",
       "      <td>0.00172</td>\n",
       "      <td>1.206314</td>\n",
       "      <td>None</td>\n",
       "      <td>None</td>\n",
       "    </tr>\n",
       "    <tr>\n",
       "      <th>281</th>\n",
       "      <td>[{'centers': (-7.5, 0.5, -0.5, 2.0), 'variance...</td>\n",
       "      <td>0</td>\n",
       "      <td>&lt;model.FuzzyVolatilityModel object at 0x7fefc8...</td>\n",
       "      <td>0.000003</td>\n",
       "      <td>0.00172</td>\n",
       "      <td>1.206314</td>\n",
       "      <td>None</td>\n",
       "      <td>None</td>\n",
       "    </tr>\n",
       "    <tr>\n",
       "      <th>1137</th>\n",
       "      <td>[{'centers': (-9.5, 0.5, -0.5, 2.0), 'variance...</td>\n",
       "      <td>0</td>\n",
       "      <td>&lt;model.FuzzyVolatilityModel object at 0x7fef8e...</td>\n",
       "      <td>0.000003</td>\n",
       "      <td>0.00172</td>\n",
       "      <td>1.206314</td>\n",
       "      <td>None</td>\n",
       "      <td>None</td>\n",
       "    </tr>\n",
       "    <tr>\n",
       "      <th>1145</th>\n",
       "      <td>[{'centers': (-9.5, 0.5, -0.5, 2.0), 'variance...</td>\n",
       "      <td>0</td>\n",
       "      <td>&lt;model.FuzzyVolatilityModel object at 0x7fef8e...</td>\n",
       "      <td>0.000003</td>\n",
       "      <td>0.00172</td>\n",
       "      <td>1.206314</td>\n",
       "      <td>None</td>\n",
       "      <td>None</td>\n",
       "    </tr>\n",
       "  </tbody>\n",
       "</table>\n",
       "</div>"
      ],
      "text/plain": [
       "                                      antecedent_params  status  \\\n",
       "273   [{'centers': (-7.5, 0.5, -0.5, 2.0), 'variance...       0   \n",
       "281   [{'centers': (-7.5, 0.5, -0.5, 2.0), 'variance...       0   \n",
       "1137  [{'centers': (-9.5, 0.5, -0.5, 2.0), 'variance...       0   \n",
       "1145  [{'centers': (-9.5, 0.5, -0.5, 2.0), 'variance...       0   \n",
       "\n",
       "                                                    fvm       mse     rmse  \\\n",
       "273   <model.FuzzyVolatilityModel object at 0x7fefba...  0.000003  0.00172   \n",
       "281   <model.FuzzyVolatilityModel object at 0x7fefc8...  0.000003  0.00172   \n",
       "1137  <model.FuzzyVolatilityModel object at 0x7fef8e...  0.000003  0.00172   \n",
       "1145  <model.FuzzyVolatilityModel object at 0x7fef8e...  0.000003  0.00172   \n",
       "\n",
       "          mape exception traceback  \n",
       "273   1.206314      None      None  \n",
       "281   1.206314      None      None  \n",
       "1137  1.206314      None      None  \n",
       "1145  1.206314      None      None  "
      ]
     },
     "execution_count": 75,
     "metadata": {},
     "output_type": "execute_result"
    }
   ],
   "source": [
    "eps = 1e-5\n",
    "res_wos[(res_wos['rmse'] - 0.001720).abs() < eps]"
   ]
  },
  {
   "cell_type": "code",
   "execution_count": 74,
   "id": "c9b61c41",
   "metadata": {
    "scrolled": false
   },
   "outputs": [
    {
     "data": {
      "text/plain": [
       "<AxesSubplot:>"
      ]
     },
     "execution_count": 74,
     "metadata": {},
     "output_type": "execute_result"
    },
    {
     "data": {
      "image/png": "[encoded data removed]",
      "text/plain": [
       "<Figure size 640x480 with 1 Axes>"
      ]
     },
     "metadata": {},
     "output_type": "display_data"
    }
   ],
   "source": [
    "res_wos['rmse'].hist(grid=True)"
   ]
  }
 ],
 "metadata": {
  "kernelspec": {
   "display_name": "Python 3 (ipykernel)",
   "language": "python",
   "name": "python3"
  },
  "language_info": {
   "codemirror_mode": {
    "name": "ipython",
    "version": 3
   },
   "file_extension": ".py",
   "mimetype": "text/x-python",
   "name": "python",
   "nbconvert_exporter": "python",
   "pygments_lexer": "ipython3",
   "version": "3.9.7"
  }
 },
 "nbformat": 4,
 "nbformat_minor": 5
}
