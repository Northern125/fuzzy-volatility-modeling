{
 "cells": [
  {
   "cell_type": "code",
   "execution_count": 1,
   "id": "cbfd1341-b0ef-4725-b1a0-d8556fc0a45c",
   "metadata": {},
   "outputs": [],
   "source": [
    "NB_NO = 0"
   ]
  },
  {
   "cell_type": "code",
   "execution_count": 2,
   "id": "136d49ab-db4b-4739-9ea2-fa5b52456abe",
   "metadata": {
    "tags": []
   },
   "outputs": [],
   "source": [
    "import pandas as pd\n",
    "import numpy as np\n",
    "import json\n",
    "import matplotlib.pyplot as plt\n",
    "import logging\n",
    "import scipy.stats as sts\n",
    "import pickle\n",
    "from sklearn.metrics import mean_squared_error, mean_absolute_percentage_error\n",
    "import os\n",
    "from pathlib import Path"
   ]
  },
  {
   "cell_type": "code",
   "execution_count": 3,
   "id": "10726eb9-d483-4482-9ea2-85221fdd6224",
   "metadata": {},
   "outputs": [],
   "source": [
    "from arch import arch_model"
   ]
  },
  {
   "cell_type": "code",
   "execution_count": 4,
   "id": "81f62771",
   "metadata": {},
   "outputs": [],
   "source": [
    "ini_work_dir = os.getcwd()\n",
    "# os.chdir('..')"
   ]
  },
  {
   "cell_type": "code",
   "execution_count": 5,
   "id": "e43bcf34-96c1-4515-828c-e811ec8593ef",
   "metadata": {},
   "outputs": [],
   "source": [
    "from rules_related import combine_rules_outputs\n",
    "from whole_algorithm import train_model\n",
    "from auxiliary import calc_log_returns, unpack_1d_parameters\n",
    "from multivariate_normal_distribution import LongMultivariateNormal\n",
    "from model import FuzzyVolatilityModel\n",
    "from antecedent_fitting import fit_antecedent_params\n",
    "from local_models import calculate_retraining_garch_forecasts"
   ]
  },
  {
   "cell_type": "code",
   "execution_count": 6,
   "id": "20f71dea-88ca-4269-a541-b5191a122810",
   "metadata": {
    "scrolled": true
   },
   "outputs": [],
   "source": [
    "with open('config.json') as file:\n",
    "    config = json.load(file)"
   ]
  },
  {
   "cell_type": "code",
   "execution_count": 7,
   "id": "5b1676ea-50c7-4216-a5e4-b30ce6045bcb",
   "metadata": {},
   "outputs": [],
   "source": [
    "INPUT = Path(config['files_folders']['processed'])\n",
    "RES_DIR = Path(config['files_folders']['research_results'])\n",
    "AP_DIR = Path(config['files_folders']['antecedent_params_sets'])\n",
    "LOGS_DIR = Path(config['files_folders']['logs'])"
   ]
  },
  {
   "cell_type": "code",
   "execution_count": 8,
   "id": "bbe12aba-c2b2-435c-a4c5-29404e408b41",
   "metadata": {},
   "outputs": [],
   "source": [
    "METADATA_FILE_NAME = 'current_antecedent_fitting_metadata_wo_seas.pkl'\n",
    "SUMMARY_TABLE_NAME = 'summary_table_wo_seas'\n",
    "\n",
    "RESULT_RAW_FILE_NAME = f'apf_wos_raw_result_nb_{NB_NO}'\n",
    "RESULT_BIG_FILE_NAME = f'apf_wo_seas_result_nb_{NB_NO}'"
   ]
  },
  {
   "cell_type": "code",
   "execution_count": 9,
   "id": "0d70d464",
   "metadata": {},
   "outputs": [],
   "source": [
    "logger = logging.getLogger(f'apf_wos_nb_{NB_NO}')  # apf == antecedent params fitting\n",
    "\n",
    "_log_file = LOGS_DIR / '{logger.name}.log'\n",
    "logging.basicConfig(level=logging.INFO,\n",
    "                    filename=_log_file,\n",
    "                    filemode='w',\n",
    "                    format='%(asctime)s.%(msecs)d %(name)s %(levelname)s %(message)s',\n",
    "                    datefmt='%Y-%m-%d %H:%M:%S')"
   ]
  },
  {
   "cell_type": "code",
   "execution_count": 10,
   "id": "d5e4b97c-4784-4aa5-b141-0cb5767d7222",
   "metadata": {},
   "outputs": [],
   "source": [
    "pd.options.display.precision = 15\n",
    "pd.options.display.max_colwidth = 300"
   ]
  },
  {
   "cell_type": "markdown",
   "id": "a2346c60-2133-4b16-9888-9a5858220468",
   "metadata": {
    "tags": []
   },
   "source": [
    "# Reading data"
   ]
  },
  {
   "cell_type": "code",
   "execution_count": 11,
   "id": "fe131024-b4f0-4168-94a3-7c536a8f13fc",
   "metadata": {},
   "outputs": [],
   "source": [
    "with open(AP_DIR / f'{METADATA_FILE_NAME}', 'rb') as file:\n",
    "    data = pickle.load(file)"
   ]
  },
  {
   "cell_type": "code",
   "execution_count": 12,
   "id": "7c96e1d8-ad90-42ef-a0ef-e5dc773ece33",
   "metadata": {},
   "outputs": [],
   "source": [
    "train = data['train']\n",
    "test = data['test']\n",
    "consequent_metaparams = data['consequent_metaparams']\n",
    "consequent_params_ini = data['consequent_metaparams']['parameters_ini']\n",
    "antecedent_params_set = data['antecedent_params_set']\n",
    "clusterization_method = data['clusterization_method']\n",
    "local_method = data['local_method']\n",
    "data_to_cluster_train = data['data_to_cluster_train']\n",
    "data_to_cluster_test = data['data_to_cluster_test']\n",
    "cluster_sets_conjunction = data['cluster_sets_conjunction']\n",
    "n_last_points_to_use_for_clustering = data['n_last_points_to_use_for_clustering']\n",
    "other_fvm_parameters = data['other_fvm_parameters']"
   ]
  },
  {
   "cell_type": "code",
   "execution_count": 32,
   "id": "fc8eee91-626f-4da6-aacd-9d26c7355938",
   "metadata": {},
   "outputs": [
    {
     "data": {
      "text/plain": [
       "['gaussian']"
      ]
     },
     "execution_count": 32,
     "metadata": {},
     "output_type": "execute_result"
    }
   ],
   "source": [
    "clusterization_method"
   ]
  },
  {
   "cell_type": "code",
   "execution_count": 13,
   "id": "b222303f",
   "metadata": {},
   "outputs": [],
   "source": [
    "n_cluster_sets = len(data['clusterization_method'])\n",
    "\n",
    "p = consequent_metaparams['p']\n",
    "q = consequent_metaparams['q']\n",
    "\n",
    "n_train = train.shape[0]\n",
    "n_test = test.shape[0]"
   ]
  },
  {
   "cell_type": "markdown",
   "id": "a414c32a-e5ff-4cdd-8a08-abdc2cf125f8",
   "metadata": {},
   "source": [
    "# Main input data plot"
   ]
  },
  {
   "cell_type": "code",
   "execution_count": 14,
   "id": "e367037e-cf96-48ba-882c-db80a3fe32c2",
   "metadata": {},
   "outputs": [
    {
     "data": {
      "image/png": "[encoded data removed]",
      "text/plain": [
       "<Figure size 432x288 with 1 Axes>"
      ]
     },
     "metadata": {
      "needs_background": "light"
     },
     "output_type": "display_data"
    }
   ],
   "source": [
    "train.plot(label='train')\n",
    "test.plot(label='test')\n",
    "\n",
    "plt.legend()\n",
    "plt.grid()\n",
    "plt.show()"
   ]
  },
  {
   "cell_type": "markdown",
   "id": "34e991bf-35ee-4b72-a318-ac6e35ca0a26",
   "metadata": {},
   "source": [
    "## train & test sizes"
   ]
  },
  {
   "cell_type": "code",
   "execution_count": 15,
   "id": "b1b3a33c-cf27-47ba-8206-4183374726a4",
   "metadata": {},
   "outputs": [
    {
     "name": "stdout",
     "output_type": "stream",
     "text": [
      "506 126\n"
     ]
    }
   ],
   "source": [
    "print(train.shape[0], test.shape[0])"
   ]
  },
  {
   "cell_type": "markdown",
   "id": "f807c739-2835-4f09-9a2d-551c93d3bad7",
   "metadata": {},
   "source": [
    "# Antecedent params set"
   ]
  },
  {
   "cell_type": "code",
   "execution_count": 16,
   "id": "09afa3ba-e419-4ced-a9e2-f5f591a1a360",
   "metadata": {},
   "outputs": [
    {
     "data": {
      "text/plain": [
       "108"
      ]
     },
     "execution_count": 16,
     "metadata": {},
     "output_type": "execute_result"
    }
   ],
   "source": [
    "len(antecedent_params_set)"
   ]
  },
  {
   "cell_type": "code",
   "execution_count": 17,
   "id": "e0bca9ad-4c50-42a6-842a-5cbd73fd949d",
   "metadata": {},
   "outputs": [],
   "source": [
    "# antecedent_params_set = antecedent_params_set[0:1]"
   ]
  },
  {
   "cell_type": "code",
   "execution_count": 18,
   "id": "f70624b0-c37c-47e6-a3bd-90e04796bfff",
   "metadata": {
    "tags": []
   },
   "outputs": [
    {
     "data": {
      "text/plain": [
       "108"
      ]
     },
     "execution_count": 18,
     "metadata": {},
     "output_type": "execute_result"
    }
   ],
   "source": [
    "len(antecedent_params_set)"
   ]
  },
  {
   "cell_type": "code",
   "execution_count": 19,
   "id": "1278a962-16db-4d1f-be08-9ee66f0b17a6",
   "metadata": {},
   "outputs": [],
   "source": [
    "# for _antecedent_params in antecedent_params_set:\n",
    "#     _centers = _antecedent_params['centers']\n",
    "#     _variances = _antecedent_params['variances']\n",
    "#     _n_clusters = _antecedent_params['n_clusters']\n",
    "    \n",
    "#     for i in range(_n_clusters):\n",
    "#         _range = np.arange(-20, 20, .01)\n",
    "#         _data = sts.norm(_centers[i], _variances[i] ** .5).pdf(_range)\n",
    "\n",
    "#         plt.plot(_range, _data, label=f'cluster #{i + 1}')\n",
    "    \n",
    "#     plt.title(_antecedent_params)\n",
    "#     plt.legend()\n",
    "#     plt.grid()\n",
    "#     plt.show()"
   ]
  },
  {
   "cell_type": "markdown",
   "id": "4b84e20a",
   "metadata": {},
   "source": [
    "# Algorithm parameters"
   ]
  },
  {
   "cell_type": "code",
   "execution_count": 20,
   "id": "1b10d95f",
   "metadata": {},
   "outputs": [],
   "source": [
    "use_multiprocessing = True\n",
    "do_feeding = False"
   ]
  },
  {
   "cell_type": "markdown",
   "id": "3b3fea3c-d168-4eed-a764-5d8324818a56",
   "metadata": {},
   "source": [
    "# Fitting"
   ]
  },
  {
   "cell_type": "code",
   "execution_count": 21,
   "id": "2040c9e7-efef-48f5-96b9-afb8530f6f36",
   "metadata": {},
   "outputs": [],
   "source": [
    "result = None"
   ]
  },
  {
   "cell_type": "code",
   "execution_count": 22,
   "id": "c7d2703a-aaa8-41a2-9f03-3fa1fe4697f7",
   "metadata": {
    "scrolled": true,
    "tags": []
   },
   "outputs": [
    {
     "name": "stdout",
     "output_type": "stream",
     "text": [
      "CPU times: user 107 ms, sys: 258 ms, total: 364 ms\n",
      "Wall time: 407 ms\n"
     ]
    }
   ],
   "source": [
    "%%time\n",
    "\n",
    "result = fit_antecedent_params(train,\n",
    "                               test,\n",
    "                               consequent_metaparams=consequent_metaparams,\n",
    "                               consequent_params_ini=consequent_params_ini,\n",
    "                               antecedent_params_set=antecedent_params_set,\n",
    "                               clusterization_method=clusterization_method,\n",
    "                               local_method=local_method,\n",
    "                               data_to_cluster_train=data_to_cluster_train,\n",
    "                               data_to_cluster_test=data_to_cluster_test,\n",
    "                               cluster_sets_conjunction=cluster_sets_conjunction,\n",
    "                               n_last_points_to_use_for_clustering=n_last_points_to_use_for_clustering,\n",
    "                               n_cluster_sets=n_cluster_sets,\n",
    "                               other_fvm_parameters=other_fvm_parameters,\n",
    "                               use_multiprocessing=use_multiprocessing,\n",
    "                               do_feeding=do_feeding)"
   ]
  },
  {
   "cell_type": "code",
   "execution_count": 23,
   "id": "54e3228a-7de3-476b-b059-d7c0e940c0d9",
   "metadata": {},
   "outputs": [
    {
     "name": "stdout",
     "output_type": "stream",
     "text": [
      "2023-04-21 20-55-55.054768\n"
     ]
    }
   ],
   "source": [
    "_cur_time = str(pd.Timestamp.today()).replace(':', '-')\n",
    "print(_cur_time)\n",
    "\n",
    "with open(f'{RES_DIR}/{RESULT_RAW_FILE_NAME}_{_cur_time}', 'wb') as file:\n",
    "    pickle.dump(result, file)"
   ]
  },
  {
   "cell_type": "code",
   "execution_count": 24,
   "id": "01eb377d-b1c0-4657-a615-b41097d5db55",
   "metadata": {},
   "outputs": [],
   "source": [
    "res_df = pd.DataFrame.from_records(result).copy()"
   ]
  },
  {
   "cell_type": "code",
   "execution_count": 25,
   "id": "6d4b1f81-705b-4cfc-b57b-5290cbabea57",
   "metadata": {},
   "outputs": [
    {
     "name": "stdout",
     "output_type": "stream",
     "text": [
      "Not all models were fitted\n"
     ]
    }
   ],
   "source": [
    "if (res_df['status'] != 0).any():\n",
    "    _text = 'Not all models were fitted'\n",
    "    logger.warning(_text)\n",
    "    print(_text)"
   ]
  },
  {
   "cell_type": "code",
   "execution_count": 30,
   "id": "424777ae-5668-49b2-b6f9-fb32869378c1",
   "metadata": {},
   "outputs": [
    {
     "name": "stdout",
     "output_type": "stream",
     "text": [
      "Traceback (most recent call last):\n",
      "  File \"/home/vsviyazov/fvm/antecedent_fitting.py\", line 137, in _create_cluster_fit_forecast\n",
      "    fvm = FuzzyVolatilityModel(train,\n",
      "  File \"/home/vsviyazov/fvm/model.py\", line 140, in __init__\n",
      "    raise ValueError(f'Clustering method name {self.clusterization_method} '\n",
      "ValueError: Clustering method name ['gaussian'] is wrong or method is not implemented; should be one of ('gaussian', 'trapezoidal', 'eTS', 'eClustering')\n",
      "\n"
     ]
    }
   ],
   "source": [
    "print(res_df.iloc[0]['traceback'])"
   ]
  },
  {
   "cell_type": "code",
   "execution_count": 26,
   "id": "dd722973-9886-400f-8b07-c5fb348842b3",
   "metadata": {},
   "outputs": [
    {
     "ename": "IndexError",
     "evalue": "single positional indexer is out-of-bounds",
     "output_type": "error",
     "traceback": [
      "\u001b[0;31m---------------------------------------------------------------------------\u001b[0m",
      "\u001b[0;31mIndexError\u001b[0m                                Traceback (most recent call last)",
      "\u001b[0;32m/tmp/job-1305395/ipykernel_13400/2412563559.py\u001b[0m in \u001b[0;36m<module>\u001b[0;34m\u001b[0m\n\u001b[0;32m----> 1\u001b[0;31m \u001b[0mfitted_antecedent_params\u001b[0m \u001b[0;34m=\u001b[0m \u001b[0mres_df\u001b[0m\u001b[0;34m[\u001b[0m\u001b[0mres_df\u001b[0m\u001b[0;34m[\u001b[0m\u001b[0;34m'rmse'\u001b[0m\u001b[0;34m]\u001b[0m \u001b[0;34m==\u001b[0m \u001b[0mres_df\u001b[0m\u001b[0;34m[\u001b[0m\u001b[0;34m'rmse'\u001b[0m\u001b[0;34m]\u001b[0m\u001b[0;34m.\u001b[0m\u001b[0mmin\u001b[0m\u001b[0;34m(\u001b[0m\u001b[0;34m)\u001b[0m\u001b[0;34m]\u001b[0m\u001b[0;34m.\u001b[0m\u001b[0miloc\u001b[0m\u001b[0;34m[\u001b[0m\u001b[0;36m0\u001b[0m\u001b[0;34m]\u001b[0m\u001b[0;34m[\u001b[0m\u001b[0;34m'antecedent_params'\u001b[0m\u001b[0;34m]\u001b[0m\u001b[0;34m\u001b[0m\u001b[0;34m\u001b[0m\u001b[0m\n\u001b[0m",
      "\u001b[0;32m~/.conda/envs/fuzzy-volatility/lib/python3.9/site-packages/pandas/core/indexing.py\u001b[0m in \u001b[0;36m__getitem__\u001b[0;34m(self, key)\u001b[0m\n\u001b[1;32m    929\u001b[0m \u001b[0;34m\u001b[0m\u001b[0m\n\u001b[1;32m    930\u001b[0m             \u001b[0mmaybe_callable\u001b[0m \u001b[0;34m=\u001b[0m \u001b[0mcom\u001b[0m\u001b[0;34m.\u001b[0m\u001b[0mapply_if_callable\u001b[0m\u001b[0;34m(\u001b[0m\u001b[0mkey\u001b[0m\u001b[0;34m,\u001b[0m \u001b[0mself\u001b[0m\u001b[0;34m.\u001b[0m\u001b[0mobj\u001b[0m\u001b[0;34m)\u001b[0m\u001b[0;34m\u001b[0m\u001b[0;34m\u001b[0m\u001b[0m\n\u001b[0;32m--> 931\u001b[0;31m             \u001b[0;32mreturn\u001b[0m \u001b[0mself\u001b[0m\u001b[0;34m.\u001b[0m\u001b[0m_getitem_axis\u001b[0m\u001b[0;34m(\u001b[0m\u001b[0mmaybe_callable\u001b[0m\u001b[0;34m,\u001b[0m \u001b[0maxis\u001b[0m\u001b[0;34m=\u001b[0m\u001b[0maxis\u001b[0m\u001b[0;34m)\u001b[0m\u001b[0;34m\u001b[0m\u001b[0;34m\u001b[0m\u001b[0m\n\u001b[0m\u001b[1;32m    932\u001b[0m \u001b[0;34m\u001b[0m\u001b[0m\n\u001b[1;32m    933\u001b[0m     \u001b[0;32mdef\u001b[0m \u001b[0m_is_scalar_access\u001b[0m\u001b[0;34m(\u001b[0m\u001b[0mself\u001b[0m\u001b[0;34m,\u001b[0m \u001b[0mkey\u001b[0m\u001b[0;34m:\u001b[0m \u001b[0mtuple\u001b[0m\u001b[0;34m)\u001b[0m\u001b[0;34m:\u001b[0m\u001b[0;34m\u001b[0m\u001b[0;34m\u001b[0m\u001b[0m\n",
      "\u001b[0;32m~/.conda/envs/fuzzy-volatility/lib/python3.9/site-packages/pandas/core/indexing.py\u001b[0m in \u001b[0;36m_getitem_axis\u001b[0;34m(self, key, axis)\u001b[0m\n\u001b[1;32m   1564\u001b[0m \u001b[0;34m\u001b[0m\u001b[0m\n\u001b[1;32m   1565\u001b[0m             \u001b[0;31m# validate the location\u001b[0m\u001b[0;34m\u001b[0m\u001b[0;34m\u001b[0m\u001b[0m\n\u001b[0;32m-> 1566\u001b[0;31m             \u001b[0mself\u001b[0m\u001b[0;34m.\u001b[0m\u001b[0m_validate_integer\u001b[0m\u001b[0;34m(\u001b[0m\u001b[0mkey\u001b[0m\u001b[0;34m,\u001b[0m \u001b[0maxis\u001b[0m\u001b[0;34m)\u001b[0m\u001b[0;34m\u001b[0m\u001b[0;34m\u001b[0m\u001b[0m\n\u001b[0m\u001b[1;32m   1567\u001b[0m \u001b[0;34m\u001b[0m\u001b[0m\n\u001b[1;32m   1568\u001b[0m             \u001b[0;32mreturn\u001b[0m \u001b[0mself\u001b[0m\u001b[0;34m.\u001b[0m\u001b[0mobj\u001b[0m\u001b[0;34m.\u001b[0m\u001b[0m_ixs\u001b[0m\u001b[0;34m(\u001b[0m\u001b[0mkey\u001b[0m\u001b[0;34m,\u001b[0m \u001b[0maxis\u001b[0m\u001b[0;34m=\u001b[0m\u001b[0maxis\u001b[0m\u001b[0;34m)\u001b[0m\u001b[0;34m\u001b[0m\u001b[0;34m\u001b[0m\u001b[0m\n",
      "\u001b[0;32m~/.conda/envs/fuzzy-volatility/lib/python3.9/site-packages/pandas/core/indexing.py\u001b[0m in \u001b[0;36m_validate_integer\u001b[0;34m(self, key, axis)\u001b[0m\n\u001b[1;32m   1498\u001b[0m         \u001b[0mlen_axis\u001b[0m \u001b[0;34m=\u001b[0m \u001b[0mlen\u001b[0m\u001b[0;34m(\u001b[0m\u001b[0mself\u001b[0m\u001b[0;34m.\u001b[0m\u001b[0mobj\u001b[0m\u001b[0;34m.\u001b[0m\u001b[0m_get_axis\u001b[0m\u001b[0;34m(\u001b[0m\u001b[0maxis\u001b[0m\u001b[0;34m)\u001b[0m\u001b[0;34m)\u001b[0m\u001b[0;34m\u001b[0m\u001b[0;34m\u001b[0m\u001b[0m\n\u001b[1;32m   1499\u001b[0m         \u001b[0;32mif\u001b[0m \u001b[0mkey\u001b[0m \u001b[0;34m>=\u001b[0m \u001b[0mlen_axis\u001b[0m \u001b[0;32mor\u001b[0m \u001b[0mkey\u001b[0m \u001b[0;34m<\u001b[0m \u001b[0;34m-\u001b[0m\u001b[0mlen_axis\u001b[0m\u001b[0;34m:\u001b[0m\u001b[0;34m\u001b[0m\u001b[0;34m\u001b[0m\u001b[0m\n\u001b[0;32m-> 1500\u001b[0;31m             \u001b[0;32mraise\u001b[0m \u001b[0mIndexError\u001b[0m\u001b[0;34m(\u001b[0m\u001b[0;34m\"single positional indexer is out-of-bounds\"\u001b[0m\u001b[0;34m)\u001b[0m\u001b[0;34m\u001b[0m\u001b[0;34m\u001b[0m\u001b[0m\n\u001b[0m\u001b[1;32m   1501\u001b[0m \u001b[0;34m\u001b[0m\u001b[0m\n\u001b[1;32m   1502\u001b[0m     \u001b[0;31m# -------------------------------------------------------------------\u001b[0m\u001b[0;34m\u001b[0m\u001b[0;34m\u001b[0m\u001b[0m\n",
      "\u001b[0;31mIndexError\u001b[0m: single positional indexer is out-of-bounds"
     ]
    }
   ],
   "source": [
    "fitted_antecedent_params = res_df[res_df['rmse'] == res_df['rmse'].min()].iloc[0]['antecedent_params']"
   ]
  },
  {
   "cell_type": "markdown",
   "id": "4a86329a-298c-4a56-bcb6-ee3c0434c309",
   "metadata": {},
   "source": [
    "# Adding some info"
   ]
  },
  {
   "cell_type": "code",
   "execution_count": null,
   "id": "06b901cf-2cc3-4850-ac2e-ba70f77d191b",
   "metadata": {
    "tags": []
   },
   "outputs": [],
   "source": [
    "result_big = {'result': result, 'fitted': fitted_antecedent_params}\n",
    "\n",
    "result_big['train'] = train\n",
    "result_big['test'] = test\n",
    "result_big['antecedent_params_set'] = antecedent_params_set\n",
    "result_big['consequent_metaparams'] = consequent_metaparams\n",
    "result_big['consequent_params_ini'] = consequent_params_ini\n",
    "result_big['clusterization_method'] = clusterization_method\n",
    "result_big['local_method'] = local_method\n",
    "result_big['data_to_cluster_train'] = data_to_cluster_train\n",
    "result_big['data_to_cluster_test'] = data_to_cluster_test"
   ]
  },
  {
   "cell_type": "code",
   "execution_count": null,
   "id": "16f5f9ba-80f6-47f6-b4d4-e98df1b02aaa",
   "metadata": {},
   "outputs": [],
   "source": [
    "_cur_time = str(pd.Timestamp.today()).replace(':', '-')\n",
    "print(_cur_time)\n",
    "\n",
    "with open(f'{RES_DIR}/{RESULT_BIG_FILE_NAME}_{_cur_time}.pkl', 'wb') as file:\n",
    "    pickle.dump(result_big, file)"
   ]
  },
  {
   "cell_type": "markdown",
   "id": "4ba059b8-f4df-4119-b274-0be2b9b0dd85",
   "metadata": {},
   "source": [
    "## Vanilla GARCH errors"
   ]
  },
  {
   "cell_type": "markdown",
   "id": "206c0e1a-a060-4ca3-9dda-46bae1095117",
   "metadata": {},
   "source": [
    "### No retraining"
   ]
  },
  {
   "cell_type": "code",
   "execution_count": null,
   "id": "2faa6b02-d720-4eaf-b58b-280cc97326a8",
   "metadata": {},
   "outputs": [],
   "source": [
    "garch_mean = 'Zero'\n",
    "garch_dist = 'normal'\n",
    "garch_vol = 'GARCH'\n",
    "\n",
    "garch = arch_model(train,\n",
    "                   mean=garch_mean,\n",
    "                   vol=garch_vol,\n",
    "                   p=p,\n",
    "                   q=q,\n",
    "                   dist=garch_dist)\n",
    "garch_fitted = garch.fit()"
   ]
  },
  {
   "cell_type": "code",
   "execution_count": null,
   "id": "10f8748c-df8c-4bda-8fc0-debbd31ca97c",
   "metadata": {},
   "outputs": [],
   "source": [
    "simple_garch_forecasts = garch_fitted.forecast(horizon=n_test, reindex=False).variance.iloc[0].values"
   ]
  },
  {
   "cell_type": "code",
   "execution_count": null,
   "id": "7b60dce7-d545-4763-b096-ca661a829756",
   "metadata": {},
   "outputs": [],
   "source": [
    "mse = mean_squared_error(simple_garch_forecasts, test ** 2, squared=True)\n",
    "rmse = mean_squared_error(simple_garch_forecasts, test ** 2, squared=False)\n",
    "mape = mean_absolute_percentage_error(simple_garch_forecasts, test ** 2)\n",
    "\n",
    "garch_errors = {'mse': mse, 'rmse': rmse, 'mape': mape}\n",
    "garch_errors"
   ]
  },
  {
   "cell_type": "code",
   "execution_count": null,
   "id": "c9caaa2e-99f3-41f2-86be-01fd29290860",
   "metadata": {},
   "outputs": [],
   "source": [
    "result['Vanilla GARCH n/r errors'] = garch_errors"
   ]
  },
  {
   "cell_type": "markdown",
   "id": "aae6ae80-525c-44b9-8fd6-c988343336bd",
   "metadata": {},
   "source": [
    "### W/ retraining"
   ]
  },
  {
   "cell_type": "code",
   "execution_count": null,
   "id": "07eca7c8",
   "metadata": {
    "tags": []
   },
   "outputs": [],
   "source": [
    "retraining_garch_forecasts = calculate_retraining_garch_forecasts(train, test,\n",
    "                                                                  mean=garch_mean,\n",
    "                                                                  vol=garch_vol,\n",
    "                                                                  p=p,\n",
    "                                                                  q=q,\n",
    "                                                                  dist=garch_dist)"
   ]
  },
  {
   "cell_type": "code",
   "execution_count": null,
   "id": "4d95ffba",
   "metadata": {},
   "outputs": [],
   "source": [
    "_mse = mean_squared_error(retraining_garch_forecasts, test ** 2, squared=True)\n",
    "_rmse = mean_squared_error(retraining_garch_forecasts, test ** 2, squared=False)\n",
    "_mape = mean_absolute_percentage_error(retraining_garch_forecasts, test ** 2)\n",
    "\n",
    "retr_garch_errors = {'mse': _mse, 'rmse': _rmse, 'mape': _mape}\n",
    "retr_garch_errors"
   ]
  },
  {
   "cell_type": "code",
   "execution_count": null,
   "id": "818b9301",
   "metadata": {},
   "outputs": [],
   "source": [
    "result['Vanilla GARCH w/r errors'] = retr_garch_errors"
   ]
  },
  {
   "cell_type": "markdown",
   "id": "e526d7ea-67f3-4399-a634-96d2757cea18",
   "metadata": {
    "tags": []
   },
   "source": [
    "# Dumping"
   ]
  },
  {
   "cell_type": "markdown",
   "id": "e6558555-46da-4970-91b4-45b370b221d6",
   "metadata": {},
   "source": [
    "## into a single file"
   ]
  },
  {
   "cell_type": "code",
   "execution_count": null,
   "id": "25d52ab6-9aa2-4188-a2bb-673722c01560",
   "metadata": {},
   "outputs": [],
   "source": [
    "cur_time = str(pd.Timestamp.today().floor('s')).replace(':', '-')\n",
    "print(cur_time)\n",
    "\n",
    "with open(f'{RES_DIR}/fitting_consequent_params_seasonal_result_{cur_time}.pkl', 'wb') as file:\n",
    "    pickle.dump(result, file)"
   ]
  },
  {
   "cell_type": "markdown",
   "id": "bbbac373-0dec-4349-819b-7303172144d1",
   "metadata": {},
   "source": [
    "## into a table"
   ]
  },
  {
   "cell_type": "code",
   "execution_count": null,
   "id": "cda6d726-a3c7-40f6-89e0-3fab6c41ed87",
   "metadata": {},
   "outputs": [],
   "source": [
    "# summary = pd.DataFrame(columns=['Time',\n",
    "#                                 'p', 'q',\n",
    "#                                 'Start date', 'Train size', 'Test size',\n",
    "#                                 '# clusters', 'Centers', 'Variances',\n",
    "#                                 'MSE', 'Vanilla GARCH MSE (no retraining)', 'Vanilla GARCH MSE (w/ retraining)'])"
   ]
  },
  {
   "cell_type": "code",
   "execution_count": null,
   "id": "e900eaa1-9940-4e70-9193-91a8e3b0631d",
   "metadata": {},
   "outputs": [],
   "source": [
    "summary_pkl_loc = f'{RES_DIR}/{summary_table_name}.pkl'\n",
    "\n",
    "summary = pd.read_pickle(summary_pkl_loc)\n",
    "\n",
    "new_entries = []\n",
    "\n",
    "_garch_nr_mse = result['Vanilla GARCH n/r errors']['mse']\n",
    "_garch_wr_mse = result['Vanilla GARCH w/r errors']['mse']\n",
    "\n",
    "for i in range(len(result['fvms'])):\n",
    "    _antecedent_params = result['antecedent_params_set'][i]\n",
    "    _centers = _antecedent_params['centers']\n",
    "    _vars = _antecedent_params['variances']\n",
    "    _n_clusters = _antecedent_params['n_clusters']\n",
    "    \n",
    "    _mse = result['mses'][i]\n",
    "    \n",
    "    new_entry = {\n",
    "        'Time': cur_time,\n",
    "        'p': p,\n",
    "        'q': q,\n",
    "        'Start date': train.index.min(),\n",
    "        'Train size': n_train,\n",
    "        'Test size': n_test,\n",
    "        '# clusters': _n_clusters,\n",
    "        'Centers': _centers,\n",
    "        'Variances': _vars,\n",
    "        'MSE': _mse,\n",
    "        'Vanilla GARCH MSE (no retraining)': _garch_nr_mse,\n",
    "        'Vanilla GARCH MSE (w/ retraining)': _garch_wr_mse\n",
    "    }\n",
    "    \n",
    "    new_entries.append(new_entry)\n",
    "\n",
    "summary = summary.append(new_entries, ignore_index=True, verify_integrity=False, sort=False).copy()\n",
    "\n",
    "summary.to_pickle(f'{RES_DIR}/{summary_table_name}.pkl')\n",
    "summary.to_excel(f'{RES_DIR}/{summary_table_name}.xlsx')"
   ]
  },
  {
   "cell_type": "code",
   "execution_count": null,
   "id": "035e9729-bef4-4b16-a82e-c2c517f762fc",
   "metadata": {},
   "outputs": [],
   "source": [
    "# _ini = pd.read_excel(f'files/summary_table_ini_2022-02-05.xlsx')"
   ]
  },
  {
   "cell_type": "markdown",
   "id": "a67513c8-fcfc-4170-9c59-d4b62b93edc3",
   "metadata": {},
   "source": [
    "# Looking at results"
   ]
  },
  {
   "cell_type": "code",
   "execution_count": null,
   "id": "d62b994f-93d7-4234-966a-5133cde97097",
   "metadata": {},
   "outputs": [],
   "source": [
    "fvms = result['fvms']"
   ]
  },
  {
   "cell_type": "code",
   "execution_count": null,
   "id": "8ad228c9-5182-4138-b50e-abdd291918cd",
   "metadata": {},
   "outputs": [],
   "source": [
    "result['mses']"
   ]
  },
  {
   "cell_type": "code",
   "execution_count": null,
   "id": "15977f4a-9ea5-47b7-a177-15ae6657956e",
   "metadata": {},
   "outputs": [],
   "source": [
    "plt.plot(fvms[0].h[:-1], label='forecast')\n",
    "plt.plot(input_cut.values ** 2, label='actual values')\n",
    "\n",
    "plt.legend()\n",
    "plt.grid()\n",
    "plt.show()"
   ]
  },
  {
   "cell_type": "code",
   "execution_count": null,
   "id": "575abc91-f2d3-4965-a6fa-da1265dc9069",
   "metadata": {},
   "outputs": [],
   "source": [
    "(fvms[0].hist_output ** .5).plot(label='forecast', figsize=(15, 8))\n",
    "pd.Series(simple_garch_forecasts ** .5, index=fvms[0].hist_output.index).plot(label='vanilla GARCH(1, 1) (no retraining)')\n",
    "input_cut.plot(label='actual values')\n",
    "\n",
    "plt.legend()\n",
    "plt.grid()\n",
    "plt.show()"
   ]
  },
  {
   "cell_type": "code",
   "execution_count": null,
   "id": "2d73c9e2-81bc-45c4-83f2-360f71d651de",
   "metadata": {},
   "outputs": [],
   "source": [
    "fvms[0].hist_output.plot(label='forecast', figsize=(15, 8))\n",
    "pd.Series(simple_garch_forecasts, index=fvms[0].hist_output.index).plot(label='vanilla GARCH(1, 1) (no retraining)')\n",
    "(input_cut ** 2).plot(label='actual values')\n",
    "\n",
    "plt.legend()\n",
    "plt.grid()\n",
    "plt.show()"
   ]
  }
 ],
 "metadata": {
  "kernelspec": {
   "display_name": "Python [.conda-fuzzy-volatility]",
   "language": "python",
   "name": "conda-env-.conda-fuzzy-volatility-py"
  },
  "language_info": {
   "codemirror_mode": {
    "name": "ipython",
    "version": 3
   },
   "file_extension": ".py",
   "mimetype": "text/x-python",
   "name": "python",
   "nbconvert_exporter": "python",
   "pygments_lexer": "ipython3",
   "version": "3.9.7"
  }
 },
 "nbformat": 4,
 "nbformat_minor": 5
}
