{
 "cells": [
  {
   "cell_type": "code",
   "execution_count": 1,
   "id": "136d49ab-db4b-4739-9ea2-fa5b52456abe",
   "metadata": {
    "tags": []
   },
   "outputs": [],
   "source": [
    "import pandas as pd\n",
    "import numpy as np\n",
    "import json\n",
    "import matplotlib.pyplot as plt\n",
    "import logging\n",
    "import scipy.stats as sts\n",
    "import pickle\n",
    "from sklearn.metrics import mean_squared_error, mean_absolute_percentage_error"
   ]
  },
  {
   "cell_type": "code",
   "execution_count": null,
   "id": "bcba78eb-0fd3-4566-88c1-0fabbea8256f",
   "metadata": {},
   "outputs": [],
   "source": [
    "json"
   ]
  },
  {
   "cell_type": "code",
   "execution_count": 2,
   "id": "10726eb9-d483-4482-9ea2-85221fdd6224",
   "metadata": {},
   "outputs": [],
   "source": [
    "from arch import arch_model"
   ]
  },
  {
   "cell_type": "code",
   "execution_count": 3,
   "id": "e43bcf34-96c1-4515-828c-e811ec8593ef",
   "metadata": {},
   "outputs": [],
   "source": [
    "from rules_related import combine_rules_outputs\n",
    "from whole_algorithm import train_model\n",
    "from auxiliary import calc_log_returns, unpack_1d_parameters\n",
    "from multivariate_normal_distribution import LongMultivariateNormal\n",
    "from model import FuzzyVolatilityModel\n",
    "from antecedent_fitting import fit_antecedent_params"
   ]
  },
  {
   "cell_type": "code",
   "execution_count": 4,
   "id": "20f71dea-88ca-4269-a541-b5191a122810",
   "metadata": {
    "scrolled": true
   },
   "outputs": [],
   "source": [
    "with open('config.json') as file:\n",
    "    config = json.load(file)"
   ]
  },
  {
   "cell_type": "code",
   "execution_count": 5,
   "id": "5b1676ea-50c7-4216-a5e4-b30ce6045bcb",
   "metadata": {},
   "outputs": [],
   "source": [
    "files_folder = config['files_folders']['processed']\n",
    "research_results_folder = config['files_folders']['research_results']\n",
    "antecedent_params_folder = config['files_folders']['antecedent_params_sets']\n",
    "metadata_file_name = 'current_antecedent_fitting_metadata.pkl'"
   ]
  },
  {
   "cell_type": "markdown",
   "id": "a2346c60-2133-4b16-9888-9a5858220468",
   "metadata": {},
   "source": [
    "# Reading data"
   ]
  },
  {
   "cell_type": "code",
   "execution_count": 6,
   "id": "fe131024-b4f0-4168-94a3-7c536a8f13fc",
   "metadata": {},
   "outputs": [],
   "source": [
    "with open(f'{antecedent_params_folder}/{metadata_file_name}', 'rb') as file:\n",
    "    data = pickle.load(file)"
   ]
  },
  {
   "cell_type": "code",
   "execution_count": 7,
   "id": "7c96e1d8-ad90-42ef-a0ef-e5dc773ece33",
   "metadata": {},
   "outputs": [],
   "source": [
    "train = data['train']\n",
    "test = data['test']\n",
    "consequent_metaparams = data['consequent_metaparams']\n",
    "consequent_params_ini = data['consequent_params_ini']\n",
    "antecedent_params_set = data['antecedent_params_set']\n",
    "clusterization_method = data['clusterization_method']\n",
    "local_method = data['local_method']\n",
    "data_to_cluster_train = data['data_to_cluster_train']\n",
    "data_to_cluster_test = data['data_to_cluster_test']"
   ]
  },
  {
   "cell_type": "code",
   "execution_count": 8,
   "id": "6fd17206-140a-41cc-8191-038f688a9472",
   "metadata": {},
   "outputs": [],
   "source": [
    "p = consequent_metaparams['p']\n",
    "q = consequent_metaparams['q']\n",
    "\n",
    "n_train = train.shape[0]\n",
    "n_test = test.shape[0]"
   ]
  },
  {
   "cell_type": "markdown",
   "id": "a414c32a-e5ff-4cdd-8a08-abdc2cf125f8",
   "metadata": {},
   "source": [
    "# Main input data plot"
   ]
  },
  {
   "cell_type": "code",
   "execution_count": 9,
   "id": "e367037e-cf96-48ba-882c-db80a3fe32c2",
   "metadata": {},
   "outputs": [
    {
     "data": {
      "image/png": "[encoded data removed]",
      "text/plain": [
       "<Figure size 432x288 with 1 Axes>"
      ]
     },
     "metadata": {
      "needs_background": "light"
     },
     "output_type": "display_data"
    }
   ],
   "source": [
    "train.plot(label='train')\n",
    "test.plot(label='test')\n",
    "\n",
    "plt.legend()\n",
    "plt.grid()\n",
    "plt.show()"
   ]
  },
  {
   "cell_type": "markdown",
   "id": "34e991bf-35ee-4b72-a318-ac6e35ca0a26",
   "metadata": {},
   "source": [
    "## train & test sizes"
   ]
  },
  {
   "cell_type": "code",
   "execution_count": 10,
   "id": "b1b3a33c-cf27-47ba-8206-4183374726a4",
   "metadata": {},
   "outputs": [
    {
     "name": "stdout",
     "output_type": "stream",
     "text": [
      "100 10\n"
     ]
    }
   ],
   "source": [
    "print(train.shape[0], test.shape[0])"
   ]
  },
  {
   "cell_type": "markdown",
   "id": "f807c739-2835-4f09-9a2d-551c93d3bad7",
   "metadata": {},
   "source": [
    "# Antecedent params set"
   ]
  },
  {
   "cell_type": "code",
   "execution_count": 15,
   "id": "e0bca9ad-4c50-42a6-842a-5cbd73fd949d",
   "metadata": {},
   "outputs": [],
   "source": [
    "antecedent_params_set = antecedent_params_set[:30]"
   ]
  },
  {
   "cell_type": "code",
   "execution_count": 17,
   "id": "1278a962-16db-4d1f-be08-9ee66f0b17a6",
   "metadata": {},
   "outputs": [],
   "source": [
    "# for _antecedent_params in antecedent_params_set:\n",
    "#     _centers = _antecedent_params['centers']\n",
    "#     _variances = _antecedent_params['variances']\n",
    "#     _n_clusters = _antecedent_params['n_clusters']\n",
    "    \n",
    "#     for i in range(_n_clusters):\n",
    "#         _range = np.arange(-20, 20, .01)\n",
    "#         _data = sts.norm(_centers[i], _variances[i] ** .5).pdf(_range)\n",
    "\n",
    "#         plt.plot(_range, _data, label=f'cluster #{i + 1}')\n",
    "    \n",
    "#     plt.title(_antecedent_params)\n",
    "#     plt.legend()\n",
    "#     plt.grid()\n",
    "#     plt.show()"
   ]
  },
  {
   "cell_type": "markdown",
   "id": "3b3fea3c-d168-4eed-a764-5d8324818a56",
   "metadata": {},
   "source": [
    "# Fitting"
   ]
  },
  {
   "cell_type": "code",
   "execution_count": 18,
   "id": "2040c9e7-efef-48f5-96b9-afb8530f6f36",
   "metadata": {},
   "outputs": [],
   "source": [
    "result = None"
   ]
  },
  {
   "cell_type": "code",
   "execution_count": 19,
   "id": "636797e2-4c79-473c-8b44-970d3f36a3dd",
   "metadata": {},
   "outputs": [],
   "source": [
    "logging.basicConfig(level=logging.INFO)"
   ]
  },
  {
   "cell_type": "code",
   "execution_count": 20,
   "id": "f0a7dbd3-da98-4500-9836-e52c7922dae4",
   "metadata": {},
   "outputs": [
    {
     "data": {
      "text/plain": [
       "<DATE>\n",
       "2014-01-06   -3.552256\n",
       "2014-01-08    0.018679\n",
       "2014-01-09   -0.010776\n",
       "2014-01-10    0.317039\n",
       "2014-01-13    0.226762\n",
       "Name: log return, dtype: float64"
      ]
     },
     "execution_count": 20,
     "metadata": {},
     "output_type": "execute_result"
    }
   ],
   "source": [
    "train.iloc[:5]"
   ]
  },
  {
   "cell_type": "code",
   "execution_count": null,
   "id": "c7d2703a-aaa8-41a2-9f03-3fa1fe4697f7",
   "metadata": {
    "tags": []
   },
   "outputs": [
    {
     "name": "stderr",
     "output_type": "stream",
     "text": [
      "INFO:fit_antecedent_params:Starting iteration #0\n",
      "INFO:model.model:Creating an instance of FuzzyVolatilityModel\n"
     ]
    }
   ],
   "source": [
    "%%time\n",
    "\n",
    "result = fit_antecedent_params(train, test,\n",
    "                               consequent_metaparams=consequent_metaparams,\n",
    "                               consequent_params_ini=consequent_params_ini,\n",
    "                               antecedent_params_set=antecedent_params_set,\n",
    "                               clusterization_method=clusterization_method,\n",
    "                               local_method=local_method,\n",
    "                               data_to_cluster_train='train', data_to_cluster_test=None)"
   ]
  },
  {
   "cell_type": "markdown",
   "id": "4a86329a-298c-4a56-bcb6-ee3c0434c309",
   "metadata": {},
   "source": [
    "# Adding some info"
   ]
  },
  {
   "cell_type": "code",
   "execution_count": null,
   "id": "76ed684a-da1f-44c9-bedf-9905aa21d974",
   "metadata": {},
   "outputs": [],
   "source": [
    "result['train'] = train\n",
    "result['test'] = test\n",
    "result['antecedent_params_set'] = antecedent_params_set\n",
    "result['consequent_metaparams'] = consequent_metaparams\n",
    "result['consequent_params_ini'] = consequent_params_ini\n",
    "result['clusterization_method'] = clusterization_method\n",
    "result['local_method'] = local_method\n",
    "result['data_to_cluster_train'] = data_to_cluster_train\n",
    "result['data_to_cluster_test'] = data_to_cluster_test"
   ]
  },
  {
   "cell_type": "markdown",
   "id": "4ba059b8-f4df-4119-b274-0be2b9b0dd85",
   "metadata": {},
   "source": [
    "## Vanilla GARCH errors"
   ]
  },
  {
   "cell_type": "markdown",
   "id": "206c0e1a-a060-4ca3-9dda-46bae1095117",
   "metadata": {},
   "source": [
    "### No retraining"
   ]
  },
  {
   "cell_type": "code",
   "execution_count": null,
   "id": "2faa6b02-d720-4eaf-b58b-280cc97326a8",
   "metadata": {},
   "outputs": [],
   "source": [
    "garch_mean = 'Zero'\n",
    "garch_dist = 'normal'\n",
    "\n",
    "garch = arch_model(train,\n",
    "                   mean=garch_mean,\n",
    "                   vol='GARCH',\n",
    "                   p=p,\n",
    "                   q=q,\n",
    "                   dist=garch_dist)\n",
    "garch_fitted = garch.fit()"
   ]
  },
  {
   "cell_type": "code",
   "execution_count": null,
   "id": "10f8748c-df8c-4bda-8fc0-debbd31ca97c",
   "metadata": {},
   "outputs": [],
   "source": [
    "simple_garch_forecasts = garch_fitted.forecast(horizon=n_test, reindex=False).variance.iloc[0].values"
   ]
  },
  {
   "cell_type": "code",
   "execution_count": null,
   "id": "7b60dce7-d545-4763-b096-ca661a829756",
   "metadata": {},
   "outputs": [],
   "source": [
    "mse = mean_squared_error(simple_garch_forecasts, test ** 2, squared=True)\n",
    "rmse = mean_squared_error(simple_garch_forecasts, test ** 2, squared=False)\n",
    "mape = mean_absolute_percentage_error(simple_garch_forecasts, test ** 2)\n",
    "\n",
    "garch_errors = {'mse': mse, 'rmse': rmse, 'mape': mape}\n",
    "garch_errors"
   ]
  },
  {
   "cell_type": "code",
   "execution_count": null,
   "id": "c9caaa2e-99f3-41f2-86be-01fd29290860",
   "metadata": {},
   "outputs": [],
   "source": [
    "result['Vanilla GARCH (no retraining) errors'] = garch_errors"
   ]
  },
  {
   "cell_type": "markdown",
   "id": "aae6ae80-525c-44b9-8fd6-c988343336bd",
   "metadata": {},
   "source": [
    "### W/ retraining"
   ]
  },
  {
   "cell_type": "markdown",
   "id": "485a8050-f713-4112-b362-d2a033ffcf8a",
   "metadata": {},
   "source": [
    "Work in progress"
   ]
  },
  {
   "cell_type": "markdown",
   "id": "e526d7ea-67f3-4399-a634-96d2757cea18",
   "metadata": {},
   "source": [
    "# Dumping"
   ]
  },
  {
   "cell_type": "markdown",
   "id": "e6558555-46da-4970-91b4-45b370b221d6",
   "metadata": {},
   "source": [
    "## into a single file"
   ]
  },
  {
   "cell_type": "code",
   "execution_count": null,
   "id": "25d52ab6-9aa2-4188-a2bb-673722c01560",
   "metadata": {},
   "outputs": [],
   "source": [
    "cur_time = str(pd.Timestamp.today().floor('s')).replace(':', '-')\n",
    "print(cur_time)\n",
    "\n",
    "with open(f'{research_results_folder}/fitting_consequent_params_result_{cur_time}.pkl', 'wb') as file:\n",
    "    pickle.dump(result, file)"
   ]
  },
  {
   "cell_type": "markdown",
   "id": "bbbac373-0dec-4349-819b-7303172144d1",
   "metadata": {},
   "source": [
    "## into a table"
   ]
  },
  {
   "cell_type": "code",
   "execution_count": null,
   "id": "cda6d726-a3c7-40f6-89e0-3fab6c41ed87",
   "metadata": {},
   "outputs": [],
   "source": [
    "# summary = pd.DataFrame(columns=['Time',\n",
    "#                                 'p', 'q',\n",
    "#                                 'Start date', 'Train size', 'Test size',\n",
    "#                                 '# clusters', 'Centers', 'Variances',\n",
    "#                                 'MSE', 'Vanilla GARCH MSE (no retraining)', 'Vanilla GARCH MSE (w/ retraining)'])"
   ]
  },
  {
   "cell_type": "code",
   "execution_count": null,
   "id": "e900eaa1-9940-4e70-9193-91a8e3b0631d",
   "metadata": {},
   "outputs": [],
   "source": [
    "summary_pkl_loc = f'{research_results_folder}/summary_table.pkl'\n",
    "\n",
    "summary = pd.read_pickle(summary_pkl_loc)\n",
    "\n",
    "new_entries = []\n",
    "\n",
    "_garch_nr_mse = result['Vanilla GARCH (no retraining) errors']['mse']\n",
    "\n",
    "for i in range(len(result['fvms'])):\n",
    "    _antecedent_params = result['antecedent_params_set'][i]\n",
    "    _centers = _antecedent_params['centers']\n",
    "    _vars = _antecedent_params['variances']\n",
    "    _n_clusters = _antecedent_params['n_clusters']\n",
    "    \n",
    "    _mse = result['mses'][i]\n",
    "    \n",
    "    new_entry = {\n",
    "        'Time': cur_time,\n",
    "        'p': p,\n",
    "        'q': q,\n",
    "        'Start date': train.index.min(),\n",
    "        'Train size': n_train,\n",
    "        'Test size': n_test,\n",
    "        '# clusters': _n_clusters,\n",
    "        'Centers': _centers,\n",
    "        'Variances': _vars,\n",
    "        'MSE': _mse,\n",
    "        'Vanilla GARCH MSE (no retraining)': _garch_nr_mse\n",
    "    }\n",
    "    \n",
    "    new_entries.append(new_entry)\n",
    "\n",
    "summary = summary.append(new_entries, ignore_index=True, verify_integrity=False, sort=False).copy()\n",
    "\n",
    "summary.to_pickle(f'{research_results_folder}/summary_table.pkl')\n",
    "summary.to_excel(f'{research_results_folder}/summary_table.xlsx')"
   ]
  },
  {
   "cell_type": "code",
   "execution_count": null,
   "id": "035e9729-bef4-4b16-a82e-c2c517f762fc",
   "metadata": {},
   "outputs": [],
   "source": [
    "# _ini = pd.read_excel(f'files/summary_table_ini_2022-02-05.xlsx')"
   ]
  },
  {
   "cell_type": "markdown",
   "id": "a67513c8-fcfc-4170-9c59-d4b62b93edc3",
   "metadata": {},
   "source": [
    "# Looking at results"
   ]
  },
  {
   "cell_type": "code",
   "execution_count": null,
   "id": "d62b994f-93d7-4234-966a-5133cde97097",
   "metadata": {},
   "outputs": [],
   "source": [
    "fvms = result['fvms']"
   ]
  },
  {
   "cell_type": "code",
   "execution_count": null,
   "id": "8ad228c9-5182-4138-b50e-abdd291918cd",
   "metadata": {},
   "outputs": [],
   "source": [
    "result['mses']"
   ]
  },
  {
   "cell_type": "code",
   "execution_count": null,
   "id": "15977f4a-9ea5-47b7-a177-15ae6657956e",
   "metadata": {},
   "outputs": [],
   "source": [
    "plt.plot(fvms[0].h[:-1], label='forecast')\n",
    "plt.plot(input_cut.values ** 2, label='actual values')\n",
    "\n",
    "plt.legend()\n",
    "plt.grid()\n",
    "plt.show()"
   ]
  },
  {
   "cell_type": "code",
   "execution_count": null,
   "id": "575abc91-f2d3-4965-a6fa-da1265dc9069",
   "metadata": {},
   "outputs": [],
   "source": [
    "(fvms[0].hist_output ** .5).plot(label='forecast', figsize=(15, 8))\n",
    "pd.Series(simple_garch_forecasts ** .5, index=fvms[0].hist_output.index).plot(label='vanilla GARCH(1, 1) (no retraining)')\n",
    "input_cut.plot(label='actual values')\n",
    "\n",
    "plt.legend()\n",
    "plt.grid()\n",
    "plt.show()"
   ]
  },
  {
   "cell_type": "code",
   "execution_count": null,
   "id": "2d73c9e2-81bc-45c4-83f2-360f71d651de",
   "metadata": {},
   "outputs": [],
   "source": [
    "fvms[0].hist_output.plot(label='forecast', figsize=(15, 8))\n",
    "pd.Series(simple_garch_forecasts, index=fvms[0].hist_output.index).plot(label='vanilla GARCH(1, 1) (no retraining)')\n",
    "(input_cut ** 2).plot(label='actual values')\n",
    "\n",
    "plt.legend()\n",
    "plt.grid()\n",
    "plt.show()"
   ]
  }
 ],
 "metadata": {
  "kernelspec": {
   "display_name": "Python [conda env:.conda-fuzzy-volatility]",
   "language": "python",
   "name": "conda-env-.conda-fuzzy-volatility-py"
  },
  "language_info": {
   "codemirror_mode": {
    "name": "ipython",
    "version": 3
   },
   "file_extension": ".py",
   "mimetype": "text/x-python",
   "name": "python",
   "nbconvert_exporter": "python",
   "pygments_lexer": "ipython3",
   "version": "3.9.7"
  }
 },
 "nbformat": 4,
 "nbformat_minor": 5
}
