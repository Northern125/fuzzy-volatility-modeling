{
 "cells": [
  {
   "cell_type": "code",
   "execution_count": 1,
   "id": "136d49ab-db4b-4739-9ea2-fa5b52456abe",
   "metadata": {
    "tags": []
   },
   "outputs": [],
   "source": [
    "import pandas as pd\n",
    "import numpy as np\n",
    "import json\n",
    "import matplotlib.pyplot as plt\n",
    "import logging\n",
    "import scipy.stats as sts\n",
    "import pickle\n",
    "from sklearn.metrics import mean_squared_error, mean_absolute_percentage_error"
   ]
  },
  {
   "cell_type": "code",
   "execution_count": 2,
   "id": "10726eb9-d483-4482-9ea2-85221fdd6224",
   "metadata": {},
   "outputs": [],
   "source": [
    "from arch import arch_model"
   ]
  },
  {
   "cell_type": "code",
   "execution_count": 3,
   "id": "e43bcf34-96c1-4515-828c-e811ec8593ef",
   "metadata": {},
   "outputs": [],
   "source": [
    "from rules_related import combine_rules_outputs\n",
    "from whole_algorithm import train_model\n",
    "from auxiliary import calc_log_returns, unpack_1d_parameters\n",
    "from multivariate_normal_distribution import LongMultivariateNormal\n",
    "from model import FuzzyVolatilityModel\n",
    "from antecedent_fitting import fit_antecedent_params\n",
    "from local_models import calculate_retraining_garch_forecasts"
   ]
  },
  {
   "cell_type": "code",
   "execution_count": 4,
   "id": "20f71dea-88ca-4269-a541-b5191a122810",
   "metadata": {
    "scrolled": true
   },
   "outputs": [],
   "source": [
    "with open('config.json') as file:\n",
    "    config = json.load(file)"
   ]
  },
  {
   "cell_type": "code",
   "execution_count": 5,
   "id": "5b1676ea-50c7-4216-a5e4-b30ce6045bcb",
   "metadata": {},
   "outputs": [],
   "source": [
    "files_folder = config['files_folders']['processed']\n",
    "research_results_folder = config['files_folders']['research_results']\n",
    "antecedent_params_folder = config['files_folders']['antecedent_params_sets']\n",
    "metadata_file_name = 'current_antecedent_fitting_metadata.pkl'"
   ]
  },
  {
   "cell_type": "markdown",
   "id": "a2346c60-2133-4b16-9888-9a5858220468",
   "metadata": {},
   "source": [
    "# Reading data"
   ]
  },
  {
   "cell_type": "code",
   "execution_count": 6,
   "id": "fe131024-b4f0-4168-94a3-7c536a8f13fc",
   "metadata": {},
   "outputs": [],
   "source": [
    "with open(f'{antecedent_params_folder}/{metadata_file_name}', 'rb') as file:\n",
    "    data = pickle.load(file)"
   ]
  },
  {
   "cell_type": "code",
   "execution_count": 7,
   "id": "7c96e1d8-ad90-42ef-a0ef-e5dc773ece33",
   "metadata": {},
   "outputs": [],
   "source": [
    "train = data['train']\n",
    "test = data['test']\n",
    "consequent_metaparams = data['consequent_metaparams']\n",
    "consequent_params_ini = data['consequent_params_ini']\n",
    "antecedent_params_set = data['antecedent_params_set']\n",
    "clusterization_method = data['clusterization_method']\n",
    "local_method = data['local_method']\n",
    "data_to_cluster_train = data['data_to_cluster_train']\n",
    "data_to_cluster_test = data['data_to_cluster_test']"
   ]
  },
  {
   "cell_type": "code",
   "execution_count": 8,
   "id": "6fd17206-140a-41cc-8191-038f688a9472",
   "metadata": {},
   "outputs": [],
   "source": [
    "p = consequent_metaparams['p']\n",
    "q = consequent_metaparams['q']\n",
    "\n",
    "n_train = train.shape[0]\n",
    "n_test = test.shape[0]"
   ]
  },
  {
   "cell_type": "markdown",
   "id": "a414c32a-e5ff-4cdd-8a08-abdc2cf125f8",
   "metadata": {},
   "source": [
    "# Main input data plot"
   ]
  },
  {
   "cell_type": "code",
   "execution_count": 9,
   "id": "e367037e-cf96-48ba-882c-db80a3fe32c2",
   "metadata": {},
   "outputs": [
    {
     "data": {
      "image/png": "[encoded data removed]",
      "text/plain": [
       "<Figure size 432x288 with 1 Axes>"
      ]
     },
     "metadata": {
      "needs_background": "light"
     },
     "output_type": "display_data"
    }
   ],
   "source": [
    "train.plot(label='train')\n",
    "test.plot(label='test')\n",
    "\n",
    "plt.legend()\n",
    "plt.grid()\n",
    "plt.show()"
   ]
  },
  {
   "cell_type": "markdown",
   "id": "34e991bf-35ee-4b72-a318-ac6e35ca0a26",
   "metadata": {},
   "source": [
    "## train & test sizes"
   ]
  },
  {
   "cell_type": "code",
   "execution_count": 10,
   "id": "b1b3a33c-cf27-47ba-8206-4183374726a4",
   "metadata": {},
   "outputs": [
    {
     "name": "stdout",
     "output_type": "stream",
     "text": [
      "252 21\n"
     ]
    }
   ],
   "source": [
    "print(train.shape[0], test.shape[0])"
   ]
  },
  {
   "cell_type": "markdown",
   "id": "f807c739-2835-4f09-9a2d-551c93d3bad7",
   "metadata": {},
   "source": [
    "# Antecedent params set"
   ]
  },
  {
   "cell_type": "code",
   "execution_count": 11,
   "id": "e0bca9ad-4c50-42a6-842a-5cbd73fd949d",
   "metadata": {},
   "outputs": [],
   "source": [
    "# antecedent_params_set = antecedent_params_set[1930:2054]"
   ]
  },
  {
   "cell_type": "code",
   "execution_count": 12,
   "id": "1278a962-16db-4d1f-be08-9ee66f0b17a6",
   "metadata": {},
   "outputs": [],
   "source": [
    "# for _antecedent_params in antecedent_params_set:\n",
    "#     _centers = _antecedent_params['centers']\n",
    "#     _variances = _antecedent_params['variances']\n",
    "#     _n_clusters = _antecedent_params['n_clusters']\n",
    "    \n",
    "#     for i in range(_n_clusters):\n",
    "#         _range = np.arange(-20, 20, .01)\n",
    "#         _data = sts.norm(_centers[i], _variances[i] ** .5).pdf(_range)\n",
    "\n",
    "#         plt.plot(_range, _data, label=f'cluster #{i + 1}')\n",
    "    \n",
    "#     plt.title(_antecedent_params)\n",
    "#     plt.legend()\n",
    "#     plt.grid()\n",
    "#     plt.show()"
   ]
  },
  {
   "cell_type": "markdown",
   "id": "3b3fea3c-d168-4eed-a764-5d8324818a56",
   "metadata": {},
   "source": [
    "# Fitting"
   ]
  },
  {
   "cell_type": "code",
   "execution_count": 13,
   "id": "2040c9e7-efef-48f5-96b9-afb8530f6f36",
   "metadata": {},
   "outputs": [],
   "source": [
    "result = None"
   ]
  },
  {
   "cell_type": "code",
   "execution_count": 14,
   "id": "636797e2-4c79-473c-8b44-970d3f36a3dd",
   "metadata": {},
   "outputs": [],
   "source": [
    "logging.basicConfig(level=logging.INFO)"
   ]
  },
  {
   "cell_type": "code",
   "execution_count": 15,
   "id": "f0a7dbd3-da98-4500-9836-e52c7922dae4",
   "metadata": {},
   "outputs": [
    {
     "data": {
      "text/plain": [
       "<DATE>\n",
       "2014-01-06   -3.552256\n",
       "2014-01-08    0.018679\n",
       "2014-01-09   -0.010776\n",
       "2014-01-10    0.317039\n",
       "2014-01-13    0.226762\n",
       "Name: log return, dtype: float64"
      ]
     },
     "execution_count": 15,
     "metadata": {},
     "output_type": "execute_result"
    }
   ],
   "source": [
    "train.iloc[:5]"
   ]
  },
  {
   "cell_type": "code",
   "execution_count": 16,
   "id": "c7d2703a-aaa8-41a2-9f03-3fa1fe4697f7",
   "metadata": {
    "tags": []
   },
   "outputs": [
    {
     "name": "stderr",
     "output_type": "stream",
     "text": [
      "INFO:fit_antecedent_params:Starting iteration #0\n",
      "INFO:model.model:Creating an instance of FuzzyVolatilityModel\n",
      "INFO:fit_antecedent_params:Iteration #0 ended\n"
     ]
    },
    {
     "name": "stdout",
     "output_type": "stream",
     "text": [
      "CPU times: user 16min 2s, sys: 16.9 s, total: 16min 19s\n",
      "Wall time: 10min 12s\n"
     ]
    }
   ],
   "source": [
    "%%time\n",
    "\n",
    "result = fit_antecedent_params(train, test,\n",
    "                               consequent_metaparams=consequent_metaparams,\n",
    "                               consequent_params_ini=consequent_params_ini,\n",
    "                               antecedent_params_set=antecedent_params_set,\n",
    "                               clusterization_method=clusterization_method,\n",
    "                               local_method=local_method,\n",
    "                               data_to_cluster_train='train', data_to_cluster_test=None)"
   ]
  },
  {
   "cell_type": "markdown",
   "id": "4a86329a-298c-4a56-bcb6-ee3c0434c309",
   "metadata": {},
   "source": [
    "# Adding some info"
   ]
  },
  {
   "cell_type": "code",
   "execution_count": 17,
   "id": "76ed684a-da1f-44c9-bedf-9905aa21d974",
   "metadata": {},
   "outputs": [],
   "source": [
    "result['train'] = train\n",
    "result['test'] = test\n",
    "result['antecedent_params_set'] = antecedent_params_set\n",
    "result['consequent_metaparams'] = consequent_metaparams\n",
    "result['consequent_params_ini'] = consequent_params_ini\n",
    "result['clusterization_method'] = clusterization_method\n",
    "result['local_method'] = local_method\n",
    "result['data_to_cluster_train'] = data_to_cluster_train\n",
    "result['data_to_cluster_test'] = data_to_cluster_test"
   ]
  },
  {
   "cell_type": "markdown",
   "id": "4ba059b8-f4df-4119-b274-0be2b9b0dd85",
   "metadata": {},
   "source": [
    "## Vanilla GARCH errors"
   ]
  },
  {
   "cell_type": "markdown",
   "id": "206c0e1a-a060-4ca3-9dda-46bae1095117",
   "metadata": {},
   "source": [
    "### No retraining"
   ]
  },
  {
   "cell_type": "code",
   "execution_count": 18,
   "id": "2faa6b02-d720-4eaf-b58b-280cc97326a8",
   "metadata": {},
   "outputs": [
    {
     "name": "stdout",
     "output_type": "stream",
     "text": [
      "Iteration:      1,   Func. Count:      5,   Neg. LLF: 1092.0427023331195\n",
      "Iteration:      2,   Func. Count:     12,   Neg. LLF: 603.1666186903681\n",
      "Iteration:      3,   Func. Count:     17,   Neg. LLF: 563.3283151050689\n",
      "Iteration:      4,   Func. Count:     22,   Neg. LLF: 546.3505376444025\n",
      "Iteration:      5,   Func. Count:     26,   Neg. LLF: 546.3032223117447\n",
      "Iteration:      6,   Func. Count:     30,   Neg. LLF: 546.2982785222438\n",
      "Iteration:      7,   Func. Count:     34,   Neg. LLF: 546.2979077243597\n",
      "Iteration:      8,   Func. Count:     38,   Neg. LLF: 546.29790526342\n",
      "Iteration:      9,   Func. Count:     41,   Neg. LLF: 546.2979052633018\n",
      "Optimization terminated successfully    (Exit mode 0)\n",
      "            Current function value: 546.29790526342\n",
      "            Iterations: 9\n",
      "            Function evaluations: 41\n",
      "            Gradient evaluations: 9\n"
     ]
    }
   ],
   "source": [
    "garch_mean = 'Zero'\n",
    "garch_dist = 'normal'\n",
    "garch_vol = 'GARCH'\n",
    "\n",
    "garch = arch_model(train,\n",
    "                   mean=garch_mean,\n",
    "                   vol=garch_vol,\n",
    "                   p=p,\n",
    "                   q=q,\n",
    "                   dist=garch_dist)\n",
    "garch_fitted = garch.fit()"
   ]
  },
  {
   "cell_type": "code",
   "execution_count": 19,
   "id": "10f8748c-df8c-4bda-8fc0-debbd31ca97c",
   "metadata": {},
   "outputs": [],
   "source": [
    "simple_garch_forecasts = garch_fitted.forecast(horizon=n_test, reindex=False).variance.iloc[0].values"
   ]
  },
  {
   "cell_type": "code",
   "execution_count": 20,
   "id": "7b60dce7-d545-4763-b096-ca661a829756",
   "metadata": {},
   "outputs": [
    {
     "data": {
      "text/plain": [
       "{'mse': 273.5785179694508,\n",
       " 'rmse': 16.540209127137746,\n",
       " 'mape': 1.63195068518617}"
      ]
     },
     "execution_count": 20,
     "metadata": {},
     "output_type": "execute_result"
    }
   ],
   "source": [
    "mse = mean_squared_error(simple_garch_forecasts, test ** 2, squared=True)\n",
    "rmse = mean_squared_error(simple_garch_forecasts, test ** 2, squared=False)\n",
    "mape = mean_absolute_percentage_error(simple_garch_forecasts, test ** 2)\n",
    "\n",
    "garch_errors = {'mse': mse, 'rmse': rmse, 'mape': mape}\n",
    "garch_errors"
   ]
  },
  {
   "cell_type": "code",
   "execution_count": 33,
   "id": "c9caaa2e-99f3-41f2-86be-01fd29290860",
   "metadata": {},
   "outputs": [],
   "source": [
    "result['Vanilla GARCH n/r errors'] = garch_errors"
   ]
  },
  {
   "cell_type": "markdown",
   "id": "aae6ae80-525c-44b9-8fd6-c988343336bd",
   "metadata": {},
   "source": [
    "### W/ retraining"
   ]
  },
  {
   "cell_type": "code",
   "execution_count": 22,
   "id": "07eca7c8",
   "metadata": {},
   "outputs": [
    {
     "name": "stdout",
     "output_type": "stream",
     "text": [
      "Iteration:      1,   Func. Count:      5,   Neg. LLF: 1069.9367402615442\n",
      "Iteration:      2,   Func. Count:     11,   Neg. LLF: 607.5653592305116\n",
      "Iteration:      3,   Func. Count:     17,   Neg. LLF: 554.9131181705276\n",
      "Iteration:      4,   Func. Count:     22,   Neg. LLF: 594.7637422323328\n",
      "Iteration:      5,   Func. Count:     27,   Neg. LLF: 553.180782798813\n",
      "Iteration:      6,   Func. Count:     31,   Neg. LLF: 553.1802313393547\n",
      "Iteration:      7,   Func. Count:     35,   Neg. LLF: 553.1800192181163\n",
      "Iteration:      8,   Func. Count:     39,   Neg. LLF: 553.180015478363\n",
      "Iteration:      9,   Func. Count:     42,   Neg. LLF: 553.1800154782134\n",
      "Optimization terminated successfully    (Exit mode 0)\n",
      "            Current function value: 553.180015478363\n",
      "            Iterations: 9\n",
      "            Function evaluations: 42\n",
      "            Gradient evaluations: 9\n",
      "Iteration:      1,   Func. Count:      5,   Neg. LLF: 1068.4892511122791\n",
      "Iteration:      2,   Func. Count:     11,   Neg. LLF: 611.0175194769245\n",
      "Iteration:      3,   Func. Count:     17,   Neg. LLF: 654.9668162728361\n",
      "Iteration:      4,   Func. Count:     22,   Neg. LLF: 557.3506153021284\n",
      "Iteration:      5,   Func. Count:     27,   Neg. LLF: 555.9352595959189\n",
      "Iteration:      6,   Func. Count:     31,   Neg. LLF: 555.9345322664618\n",
      "Iteration:      7,   Func. Count:     35,   Neg. LLF: 555.9344475361163\n",
      "Iteration:      8,   Func. Count:     39,   Neg. LLF: 555.9344424514113\n",
      "Iteration:      9,   Func. Count:     42,   Neg. LLF: 555.9344424513615\n",
      "Optimization terminated successfully    (Exit mode 0)\n",
      "            Current function value: 555.9344424514113\n",
      "            Iterations: 9\n",
      "            Function evaluations: 42\n",
      "            Gradient evaluations: 9\n",
      "Iteration:      1,   Func. Count:      5,   Neg. LLF: 1068.465455091341\n",
      "Iteration:      2,   Func. Count:     11,   Neg. LLF: 614.1550328073446\n",
      "Iteration:      3,   Func. Count:     17,   Neg. LLF: 655.8047735553776\n",
      "Iteration:      4,   Func. Count:     22,   Neg. LLF: 559.2309863018295\n",
      "Iteration:      5,   Func. Count:     27,   Neg. LLF: 558.6065127061404\n",
      "Iteration:      6,   Func. Count:     31,   Neg. LLF: 558.6061275557481\n",
      "Iteration:      7,   Func. Count:     35,   Neg. LLF: 558.606126144774\n",
      "Iteration:      8,   Func. Count:     39,   Neg. LLF: 558.6061255065702\n",
      "Optimization terminated successfully    (Exit mode 0)\n",
      "            Current function value: 558.6061255065702\n",
      "            Iterations: 8\n",
      "            Function evaluations: 39\n",
      "            Gradient evaluations: 8\n",
      "Iteration:      1,   Func. Count:      5,   Neg. LLF: 1071.9474872483352\n",
      "Iteration:      2,   Func. Count:     11,   Neg. LLF: 616.623313431752\n",
      "Iteration:      3,   Func. Count:     17,   Neg. LLF: 651.5437898115117\n",
      "Iteration:      4,   Func. Count:     22,   Neg. LLF: 561.4596134362359\n",
      "Iteration:      5,   Func. Count:     27,   Neg. LLF: 561.0848712145843\n",
      "Iteration:      6,   Func. Count:     31,   Neg. LLF: 561.0844867557636\n",
      "Iteration:      7,   Func. Count:     35,   Neg. LLF: 561.0844845805734\n",
      "Iteration:      8,   Func. Count:     39,   Neg. LLF: 561.084483702918\n",
      "Optimization terminated successfully    (Exit mode 0)\n",
      "            Current function value: 561.084483702918\n",
      "            Iterations: 8\n",
      "            Function evaluations: 39\n",
      "            Gradient evaluations: 8\n",
      "Iteration:      1,   Func. Count:      5,   Neg. LLF: 1079.025985386992\n",
      "Iteration:      2,   Func. Count:     11,   Neg. LLF: 618.4109945000484\n",
      "Iteration:      3,   Func. Count:     17,   Neg. LLF: 642.9425764568493\n",
      "Iteration:      4,   Func. Count:     23,   Neg. LLF: 563.4810804138815\n",
      "Iteration:      5,   Func. Count:     28,   Neg. LLF: 563.2709782454749\n",
      "Iteration:      6,   Func. Count:     32,   Neg. LLF: 563.2705333895248\n",
      "Iteration:      7,   Func. Count:     36,   Neg. LLF: 563.2704854902864\n",
      "Iteration:      8,   Func. Count:     40,   Neg. LLF: 563.2704819580883\n",
      "Iteration:      9,   Func. Count:     43,   Neg. LLF: 563.2704819580158\n",
      "Optimization terminated successfully    (Exit mode 0)\n",
      "            Current function value: 563.2704819580883\n",
      "            Iterations: 9\n",
      "            Function evaluations: 43\n",
      "            Gradient evaluations: 9\n",
      "Iteration:      1,   Func. Count:      5,   Neg. LLF: 1082.4221762770512\n",
      "Iteration:      2,   Func. Count:     11,   Neg. LLF: 620.861166679389\n",
      "Iteration:      3,   Func. Count:     17,   Neg. LLF: 642.3595581410634\n",
      "Iteration:      4,   Func. Count:     23,   Neg. LLF: 565.7564477296662\n",
      "Iteration:      5,   Func. Count:     28,   Neg. LLF: 565.656999320824\n",
      "Iteration:      6,   Func. Count:     32,   Neg. LLF: 565.6568526131462\n",
      "Iteration:      7,   Func. Count:     36,   Neg. LLF: 565.6568460684833\n",
      "Iteration:      8,   Func. Count:     40,   Neg. LLF: 565.6568448878279\n",
      "Iteration:      9,   Func. Count:     43,   Neg. LLF: 565.6568448878149\n",
      "Optimization terminated successfully    (Exit mode 0)\n",
      "            Current function value: 565.6568448878279\n",
      "            Iterations: 9\n",
      "            Function evaluations: 43\n",
      "            Gradient evaluations: 9\n",
      "Iteration:      1,   Func. Count:      5,   Neg. LLF: 1088.332581022054\n",
      "Iteration:      2,   Func. Count:     11,   Neg. LLF: 622.7880211508757\n",
      "Iteration:      3,   Func. Count:     17,   Neg. LLF: 576.0923751705918\n",
      "Iteration:      4,   Func. Count:     23,   Neg. LLF: 567.68171448205\n",
      "Iteration:      5,   Func. Count:     27,   Neg. LLF: 567.6791812896436\n",
      "Iteration:      6,   Func. Count:     31,   Neg. LLF: 567.6787262391357\n",
      "Iteration:      7,   Func. Count:     35,   Neg. LLF: 567.6787046152915\n",
      "Iteration:      8,   Func. Count:     38,   Neg. LLF: 567.6787046151444\n",
      "Optimization terminated successfully    (Exit mode 0)\n",
      "            Current function value: 567.6787046152915\n",
      "            Iterations: 8\n",
      "            Function evaluations: 38\n",
      "            Gradient evaluations: 8\n",
      "Iteration:      1,   Func. Count:      5,   Neg. LLF: 1093.7171365540826\n",
      "Iteration:      2,   Func. Count:     11,   Neg. LLF: 624.7343404445371\n",
      "Iteration:      3,   Func. Count:     16,   Neg. LLF: 583.7845778699716\n",
      "Iteration:      4,   Func. Count:     21,   Neg. LLF: 569.520477766283\n",
      "Iteration:      5,   Func. Count:     25,   Neg. LLF: 569.5152547344314\n",
      "Iteration:      6,   Func. Count:     29,   Neg. LLF: 569.5138192189713\n",
      "Iteration:      7,   Func. Count:     33,   Neg. LLF: 569.5136627729778\n",
      "Iteration:      8,   Func. Count:     37,   Neg. LLF: 569.5136395553845\n",
      "Iteration:      9,   Func. Count:     40,   Neg. LLF: 569.5136395552829\n",
      "Optimization terminated successfully    (Exit mode 0)\n",
      "            Current function value: 569.5136395553845\n",
      "            Iterations: 9\n",
      "            Function evaluations: 40\n",
      "            Gradient evaluations: 9\n",
      "Iteration:      1,   Func. Count:      5,   Neg. LLF: 1098.3446307920435\n",
      "Iteration:      2,   Func. Count:     11,   Neg. LLF: 626.7808530062309\n",
      "Iteration:      3,   Func. Count:     16,   Neg. LLF: 586.0387100213982\n",
      "Iteration:      4,   Func. Count:     21,   Neg. LLF: 571.3856006220734\n",
      "Iteration:      5,   Func. Count:     25,   Neg. LLF: 571.3832857497509\n",
      "Iteration:      6,   Func. Count:     29,   Neg. LLF: 571.3832094851325\n",
      "Iteration:      7,   Func. Count:     33,   Neg. LLF: 571.3831945105214\n",
      "Iteration:      8,   Func. Count:     37,   Neg. LLF: 571.3831919963454\n",
      "Iteration:      9,   Func. Count:     40,   Neg. LLF: 571.3831919962812\n",
      "Optimization terminated successfully    (Exit mode 0)\n",
      "            Current function value: 571.3831919963454\n",
      "            Iterations: 9\n",
      "            Function evaluations: 40\n",
      "            Gradient evaluations: 9\n",
      "Iteration:      1,   Func. Count:      5,   Neg. LLF: 1107.0984839420453\n",
      "Iteration:      2,   Func. Count:     11,   Neg. LLF: 628.6948359683117\n",
      "Iteration:      3,   Func. Count:     16,   Neg. LLF: 588.3100186330015\n",
      "Iteration:      4,   Func. Count:     21,   Neg. LLF: 574.3708004506422\n",
      "Iteration:      5,   Func. Count:     25,   Neg. LLF: 574.5278170054826\n",
      "Iteration:      6,   Func. Count:     30,   Neg. LLF: 574.3575939682692\n",
      "Iteration:      7,   Func. Count:     34,   Neg. LLF: 574.3558888063786\n",
      "Iteration:      8,   Func. Count:     38,   Neg. LLF: 574.3558141625086\n",
      "Iteration:      9,   Func. Count:     42,   Neg. LLF: 574.3558120696296\n",
      "Iteration:     10,   Func. Count:     45,   Neg. LLF: 574.3558120696699\n",
      "Optimization terminated successfully    (Exit mode 0)\n",
      "            Current function value: 574.3558120696296\n",
      "            Iterations: 10\n",
      "            Function evaluations: 45\n",
      "            Gradient evaluations: 10\n",
      "Iteration:      1,   Func. Count:      5,   Neg. LLF: 1111.095573968144\n",
      "Iteration:      2,   Func. Count:     11,   Neg. LLF: 631.92722545835\n",
      "Iteration:      3,   Func. Count:     17,   Neg. LLF: 593.1535283488167\n",
      "Iteration:      4,   Func. Count:     23,   Neg. LLF: 577.770212060987\n",
      "Iteration:      5,   Func. Count:     27,   Neg. LLF: 577.7692759131078\n",
      "Iteration:      6,   Func. Count:     32,   Neg. LLF: 577.7636849726\n",
      "Iteration:      7,   Func. Count:     36,   Neg. LLF: 577.7635968411618\n",
      "Iteration:      8,   Func. Count:     40,   Neg. LLF: 577.7635949563272\n",
      "Iteration:      9,   Func. Count:     43,   Neg. LLF: 577.7635949563718\n",
      "Optimization terminated successfully    (Exit mode 0)\n",
      "            Current function value: 577.7635949563272\n",
      "            Iterations: 9\n",
      "            Function evaluations: 43\n",
      "            Gradient evaluations: 9\n",
      "Iteration:      1,   Func. Count:      5,   Neg. LLF: 1117.3129003091797\n",
      "Iteration:      2,   Func. Count:     11,   Neg. LLF: 633.6878699315334\n",
      "Iteration:      3,   Func. Count:     17,   Neg. LLF: 580.3385683326586\n",
      "Iteration:      4,   Func. Count:     22,   Neg. LLF: 579.910904112199\n",
      "Iteration:      5,   Func. Count:     27,   Neg. LLF: 579.7795594577124\n",
      "Iteration:      6,   Func. Count:     32,   Neg. LLF: 579.7603206598919\n",
      "Iteration:      7,   Func. Count:     36,   Neg. LLF: 579.7602884899162\n",
      "Iteration:      8,   Func. Count:     39,   Neg. LLF: 579.7602884895551\n",
      "Optimization terminated successfully    (Exit mode 0)\n",
      "            Current function value: 579.7602884899162\n",
      "            Iterations: 8\n",
      "            Function evaluations: 39\n",
      "            Gradient evaluations: 8\n",
      "Iteration:      1,   Func. Count:      5,   Neg. LLF: 1118.6164199588416\n",
      "Iteration:      2,   Func. Count:     11,   Neg. LLF: 637.519199976286\n",
      "Iteration:      3,   Func. Count:     17,   Neg. LLF: 583.7422731765971\n",
      "Iteration:      4,   Func. Count:     22,   Neg. LLF: 626.9616248501886\n",
      "Iteration:      5,   Func. Count:     27,   Neg. LLF: 583.4668734790836\n",
      "Iteration:      6,   Func. Count:     31,   Neg. LLF: 583.4667898437622\n",
      "Iteration:      7,   Func. Count:     35,   Neg. LLF: 583.466756104159\n",
      "Iteration:      8,   Func. Count:     38,   Neg. LLF: 583.4667561043492\n",
      "Optimization terminated successfully    (Exit mode 0)\n",
      "            Current function value: 583.466756104159\n",
      "            Iterations: 8\n",
      "            Function evaluations: 38\n",
      "            Gradient evaluations: 8\n",
      "Iteration:      1,   Func. Count:      5,   Neg. LLF: 1125.3343568439523\n",
      "Iteration:      2,   Func. Count:     11,   Neg. LLF: 639.245060375462\n",
      "Iteration:      3,   Func. Count:     17,   Neg. LLF: 672.3115363502442\n",
      "Iteration:      4,   Func. Count:     22,   Neg. LLF: 586.0976591876805\n",
      "Iteration:      5,   Func. Count:     27,   Neg. LLF: 585.529306078141\n",
      "Iteration:      6,   Func. Count:     31,   Neg. LLF: 585.5275991703006\n",
      "Iteration:      7,   Func. Count:     35,   Neg. LLF: 585.5274976072676\n",
      "Iteration:      8,   Func. Count:     39,   Neg. LLF: 585.5274536455629\n",
      "Iteration:      9,   Func. Count:     42,   Neg. LLF: 585.527453645446\n",
      "Optimization terminated successfully    (Exit mode 0)\n",
      "            Current function value: 585.5274536455629\n",
      "            Iterations: 9\n",
      "            Function evaluations: 42\n",
      "            Gradient evaluations: 9\n",
      "Iteration:      1,   Func. Count:      5,   Neg. LLF: 1129.4955216376509\n",
      "Iteration:      2,   Func. Count:     11,   Neg. LLF: 641.5748015386995\n",
      "Iteration:      3,   Func. Count:     17,   Neg. LLF: 673.3755525703561\n",
      "Iteration:      4,   Func. Count:     22,   Neg. LLF: 588.2764698259364\n",
      "Iteration:      5,   Func. Count:     27,   Neg. LLF: 587.8236317430211\n",
      "Iteration:      6,   Func. Count:     31,   Neg. LLF: 587.8220862325261\n",
      "Iteration:      7,   Func. Count:     35,   Neg. LLF: 587.822054160604\n",
      "Iteration:      8,   Func. Count:     39,   Neg. LLF: 587.8220221110446\n",
      "Iteration:      9,   Func. Count:     42,   Neg. LLF: 587.8220221110109\n",
      "Optimization terminated successfully    (Exit mode 0)\n",
      "            Current function value: 587.8220221110446\n",
      "            Iterations: 9\n",
      "            Function evaluations: 42\n",
      "            Gradient evaluations: 9\n",
      "Iteration:      1,   Func. Count:      5,   Neg. LLF: 1133.776667879735\n",
      "Iteration:      2,   Func. Count:     11,   Neg. LLF: 643.892838610579\n",
      "Iteration:      3,   Func. Count:     17,   Neg. LLF: 674.6999632688998\n",
      "Iteration:      4,   Func. Count:     22,   Neg. LLF: 590.4814140666898\n",
      "Iteration:      5,   Func. Count:     27,   Neg. LLF: 590.1166177135136\n",
      "Iteration:      6,   Func. Count:     31,   Neg. LLF: 590.1152396243679\n",
      "Iteration:      7,   Func. Count:     35,   Neg. LLF: 590.1152354643232\n",
      "Iteration:      8,   Func. Count:     39,   Neg. LLF: 590.1152249846631\n",
      "Optimization terminated successfully    (Exit mode 0)\n",
      "            Current function value: 590.1152249844293\n",
      "            Iterations: 8\n",
      "            Function evaluations: 39\n",
      "            Gradient evaluations: 8\n",
      "Iteration:      1,   Func. Count:      5,   Neg. LLF: 1138.7681011979153\n",
      "Iteration:      2,   Func. Count:     11,   Neg. LLF: 645.9053086142349\n",
      "Iteration:      3,   Func. Count:     17,   Neg. LLF: 672.9468161093355\n",
      "Iteration:      4,   Func. Count:     22,   Neg. LLF: 592.3303289364383\n",
      "Iteration:      5,   Func. Count:     27,   Neg. LLF: 592.1207457788278\n",
      "Iteration:      6,   Func. Count:     31,   Neg. LLF: 592.1194921392812\n",
      "Iteration:      7,   Func. Count:     35,   Neg. LLF: 592.1194784641527\n",
      "Iteration:      8,   Func. Count:     39,   Neg. LLF: 592.1194620399156\n",
      "Iteration:      9,   Func. Count:     42,   Neg. LLF: 592.1194620399231\n",
      "Optimization terminated successfully    (Exit mode 0)\n",
      "            Current function value: 592.1194620399156\n",
      "            Iterations: 9\n",
      "            Function evaluations: 42\n",
      "            Gradient evaluations: 9\n",
      "Iteration:      1,   Func. Count:      5,   Neg. LLF: 1143.372985632929\n",
      "Iteration:      2,   Func. Count:     11,   Neg. LLF: 647.9095687851043\n",
      "Iteration:      3,   Func. Count:     17,   Neg. LLF: 606.8357089019944\n",
      "Iteration:      4,   Func. Count:     23,   Neg. LLF: 594.2633436860183\n",
      "Iteration:      5,   Func. Count:     28,   Neg. LLF: 594.0237843835278\n",
      "Iteration:      6,   Func. Count:     32,   Neg. LLF: 594.0223156525698\n",
      "Iteration:      7,   Func. Count:     36,   Neg. LLF: 594.0217775726376\n",
      "Iteration:      8,   Func. Count:     40,   Neg. LLF: 594.0217479611857\n",
      "Iteration:      9,   Func. Count:     44,   Neg. LLF: 594.0217473403036\n",
      "Optimization terminated successfully    (Exit mode 0)\n",
      "            Current function value: 594.0217473403036\n",
      "            Iterations: 9\n",
      "            Function evaluations: 44\n",
      "            Gradient evaluations: 9\n",
      "Iteration:      1,   Func. Count:      5,   Neg. LLF: 1159.189789293835\n",
      "Iteration:      2,   Func. Count:     11,   Neg. LLF: 650.5363913497099\n",
      "Iteration:      3,   Func. Count:     17,   Neg. LLF: 729.5575416619546\n",
      "Iteration:      4,   Func. Count:     22,   Neg. LLF: 643.363923330056\n",
      "Iteration:      5,   Func. Count:     27,   Neg. LLF: 598.6011344365809\n",
      "Iteration:      6,   Func. Count:     32,   Neg. LLF: 598.5433388417907\n",
      "Iteration:      7,   Func. Count:     36,   Neg. LLF: 598.5423393166834\n",
      "Iteration:      8,   Func. Count:     40,   Neg. LLF: 598.5423318761124\n",
      "Iteration:      9,   Func. Count:     44,   Neg. LLF: 598.5423300714651\n",
      "Iteration:     10,   Func. Count:     47,   Neg. LLF: 598.5423300714617\n",
      "Optimization terminated successfully    (Exit mode 0)\n",
      "            Current function value: 598.5423300714651\n",
      "            Iterations: 10\n",
      "            Function evaluations: 47\n",
      "            Gradient evaluations: 10\n",
      "Iteration:      1,   Func. Count:      5,   Neg. LLF: 1163.8190384660938\n",
      "Iteration:      2,   Func. Count:     11,   Neg. LLF: 652.7480475837765\n",
      "Iteration:      3,   Func. Count:     17,   Neg. LLF: 727.7455285590279\n",
      "Iteration:      4,   Func. Count:     22,   Neg. LLF: 646.410616611793\n",
      "Iteration:      5,   Func. Count:     27,   Neg. LLF: 600.8846683275555\n",
      "Iteration:      6,   Func. Count:     32,   Neg. LLF: 600.7956205504979\n",
      "Iteration:      7,   Func. Count:     36,   Neg. LLF: 600.7946301893019\n",
      "Iteration:      8,   Func. Count:     40,   Neg. LLF: 600.7946239532141\n",
      "Iteration:      9,   Func. Count:     44,   Neg. LLF: 600.7946213398683\n",
      "Iteration:     10,   Func. Count:     47,   Neg. LLF: 600.7946213398668\n",
      "Optimization terminated successfully    (Exit mode 0)\n",
      "            Current function value: 600.7946213398683\n",
      "            Iterations: 10\n",
      "            Function evaluations: 47\n",
      "            Gradient evaluations: 10\n",
      "Iteration:      1,   Func. Count:      5,   Neg. LLF: 1163.7292567978157\n",
      "Iteration:      2,   Func. Count:     11,   Neg. LLF: 656.3745569431043\n",
      "Iteration:      3,   Func. Count:     17,   Neg. LLF: 753.1238106255245\n",
      "Iteration:      4,   Func. Count:     22,   Neg. LLF: 644.0557141045174\n",
      "Iteration:      5,   Func. Count:     27,   Neg. LLF: 603.9440737551114\n",
      "Iteration:      6,   Func. Count:     32,   Neg. LLF: 603.914194500763\n",
      "Iteration:      7,   Func. Count:     36,   Neg. LLF: 603.9136914874578\n",
      "Iteration:      8,   Func. Count:     40,   Neg. LLF: 603.9136895801571\n",
      "Iteration:      9,   Func. Count:     43,   Neg. LLF: 603.9136895805372\n",
      "Optimization terminated successfully    (Exit mode 0)\n",
      "            Current function value: 603.9136895801571\n",
      "            Iterations: 9\n",
      "            Function evaluations: 43\n",
      "            Gradient evaluations: 9\n"
     ]
    }
   ],
   "source": [
    "retraining_garch_forecasts = calculate_retraining_garch_forecasts(train, test,\n",
    "                                                                  mean=garch_mean,\n",
    "                                                                  vol=garch_vol,\n",
    "                                                                  p=p,\n",
    "                                                                  q=q,\n",
    "                                                                  dist=garch_dist)"
   ]
  },
  {
   "cell_type": "code",
   "execution_count": 23,
   "id": "4d95ffba",
   "metadata": {},
   "outputs": [
    {
     "data": {
      "text/plain": [
       "{'mse': 179.09007568016176,\n",
       " 'rmse': 13.382454023091645,\n",
       " 'mape': 0.8568925530906597}"
      ]
     },
     "execution_count": 23,
     "metadata": {},
     "output_type": "execute_result"
    }
   ],
   "source": [
    "_mse = mean_squared_error(retraining_garch_forecasts, test ** 2, squared=True)\n",
    "_rmse = mean_squared_error(retraining_garch_forecasts, test ** 2, squared=False)\n",
    "_mape = mean_absolute_percentage_error(retraining_garch_forecasts, test ** 2)\n",
    "\n",
    "retr_garch_errors = {'mse': _mse, 'rmse': _rmse, 'mape': _mape}\n",
    "retr_garch_errors"
   ]
  },
  {
   "cell_type": "code",
   "execution_count": 35,
   "id": "818b9301",
   "metadata": {},
   "outputs": [],
   "source": [
    "result['Vanilla GARCH w/r errors'] = retr_garch_errors"
   ]
  },
  {
   "cell_type": "markdown",
   "id": "e526d7ea-67f3-4399-a634-96d2757cea18",
   "metadata": {},
   "source": [
    "# Dumping"
   ]
  },
  {
   "cell_type": "markdown",
   "id": "e6558555-46da-4970-91b4-45b370b221d6",
   "metadata": {},
   "source": [
    "## into a single file"
   ]
  },
  {
   "cell_type": "code",
   "execution_count": 25,
   "id": "25d52ab6-9aa2-4188-a2bb-673722c01560",
   "metadata": {},
   "outputs": [
    {
     "name": "stdout",
     "output_type": "stream",
     "text": [
      "2022-02-19 18-23-14\n"
     ]
    }
   ],
   "source": [
    "cur_time = str(pd.Timestamp.today().floor('s')).replace(':', '-')\n",
    "print(cur_time)\n",
    "\n",
    "with open(f'{research_results_folder}/fitting_consequent_params_result_{cur_time}.pkl', 'wb') as file:\n",
    "    pickle.dump(result, file)"
   ]
  },
  {
   "cell_type": "markdown",
   "id": "bbbac373-0dec-4349-819b-7303172144d1",
   "metadata": {},
   "source": [
    "## into a table"
   ]
  },
  {
   "cell_type": "code",
   "execution_count": 26,
   "id": "cda6d726-a3c7-40f6-89e0-3fab6c41ed87",
   "metadata": {},
   "outputs": [],
   "source": [
    "# summary = pd.DataFrame(columns=['Time',\n",
    "#                                 'p', 'q',\n",
    "#                                 'Start date', 'Train size', 'Test size',\n",
    "#                                 '# clusters', 'Centers', 'Variances',\n",
    "#                                 'MSE', 'Vanilla GARCH MSE (no retraining)', 'Vanilla GARCH MSE (w/ retraining)'])"
   ]
  },
  {
   "cell_type": "code",
   "execution_count": 27,
   "id": "e900eaa1-9940-4e70-9193-91a8e3b0631d",
   "metadata": {},
   "outputs": [],
   "source": [
    "summary_pkl_loc = f'{research_results_folder}/summary_table.pkl'\n",
    "\n",
    "summary = pd.read_pickle(summary_pkl_loc)\n",
    "\n",
    "new_entries = []\n",
    "\n",
    "_garch_nr_mse = result['Vanilla GARCH n/r errors']['mse']\n",
    "_garch_wr_mse = result['Vanilla GARCH w/r errors']['mse']\n",
    "\n",
    "for i in range(len(result['fvms'])):\n",
    "    _antecedent_params = result['antecedent_params_set'][i]\n",
    "    _centers = _antecedent_params['centers']\n",
    "    _vars = _antecedent_params['variances']\n",
    "    _n_clusters = _antecedent_params['n_clusters']\n",
    "    \n",
    "    _mse = result['mses'][i]\n",
    "    \n",
    "    new_entry = {\n",
    "        'Time': cur_time,\n",
    "        'p': p,\n",
    "        'q': q,\n",
    "        'Start date': train.index.min(),\n",
    "        'Train size': n_train,\n",
    "        'Test size': n_test,\n",
    "        '# clusters': _n_clusters,\n",
    "        'Centers': _centers,\n",
    "        'Variances': _vars,\n",
    "        'MSE': _mse,\n",
    "        'Vanilla GARCH MSE (no retraining)': _garch_nr_mse,\n",
    "        'Vanilla GARCH MSE (w/ retraining)': _garch_wr_mse\n",
    "    }\n",
    "    \n",
    "    new_entries.append(new_entry)\n",
    "\n",
    "summary = summary.append(new_entries, ignore_index=True, verify_integrity=False, sort=False).copy()\n",
    "\n",
    "summary.to_pickle(f'{research_results_folder}/summary_table.pkl')\n",
    "summary.to_excel(f'{research_results_folder}/summary_table.xlsx')"
   ]
  },
  {
   "cell_type": "code",
   "execution_count": 28,
   "id": "035e9729-bef4-4b16-a82e-c2c517f762fc",
   "metadata": {},
   "outputs": [],
   "source": [
    "# _ini = pd.read_excel(f'files/summary_table_ini_2022-02-05.xlsx')"
   ]
  },
  {
   "cell_type": "markdown",
   "id": "a67513c8-fcfc-4170-9c59-d4b62b93edc3",
   "metadata": {},
   "source": [
    "# Looking at results"
   ]
  },
  {
   "cell_type": "code",
   "execution_count": 29,
   "id": "d62b994f-93d7-4234-966a-5133cde97097",
   "metadata": {},
   "outputs": [],
   "source": [
    "fvms = result['fvms']"
   ]
  },
  {
   "cell_type": "code",
   "execution_count": 30,
   "id": "8ad228c9-5182-4138-b50e-abdd291918cd",
   "metadata": {},
   "outputs": [
    {
     "data": {
      "text/plain": [
       "[353.14298360549203953]"
      ]
     },
     "execution_count": 30,
     "metadata": {},
     "output_type": "execute_result"
    }
   ],
   "source": [
    "result['mses']"
   ]
  },
  {
   "cell_type": "code",
   "execution_count": 31,
   "id": "15977f4a-9ea5-47b7-a177-15ae6657956e",
   "metadata": {},
   "outputs": [
    {
     "ename": "NameError",
     "evalue": "name 'input_cut' is not defined",
     "output_type": "error",
     "traceback": [
      "\u001b[0;31m---------------------------------------------------------------------------\u001b[0m",
      "\u001b[0;31mNameError\u001b[0m                                 Traceback (most recent call last)",
      "\u001b[0;32m/tmp/job-492143/ipykernel_239596/1293934687.py\u001b[0m in \u001b[0;36m<module>\u001b[0;34m\u001b[0m\n\u001b[1;32m      1\u001b[0m \u001b[0mplt\u001b[0m\u001b[0;34m.\u001b[0m\u001b[0mplot\u001b[0m\u001b[0;34m(\u001b[0m\u001b[0mfvms\u001b[0m\u001b[0;34m[\u001b[0m\u001b[0;36m0\u001b[0m\u001b[0;34m]\u001b[0m\u001b[0;34m.\u001b[0m\u001b[0mh\u001b[0m\u001b[0;34m[\u001b[0m\u001b[0;34m:\u001b[0m\u001b[0;34m-\u001b[0m\u001b[0;36m1\u001b[0m\u001b[0;34m]\u001b[0m\u001b[0;34m,\u001b[0m \u001b[0mlabel\u001b[0m\u001b[0;34m=\u001b[0m\u001b[0;34m'forecast'\u001b[0m\u001b[0;34m)\u001b[0m\u001b[0;34m\u001b[0m\u001b[0;34m\u001b[0m\u001b[0m\n\u001b[0;32m----> 2\u001b[0;31m \u001b[0mplt\u001b[0m\u001b[0;34m.\u001b[0m\u001b[0mplot\u001b[0m\u001b[0;34m(\u001b[0m\u001b[0minput_cut\u001b[0m\u001b[0;34m.\u001b[0m\u001b[0mvalues\u001b[0m \u001b[0;34m**\u001b[0m \u001b[0;36m2\u001b[0m\u001b[0;34m,\u001b[0m \u001b[0mlabel\u001b[0m\u001b[0;34m=\u001b[0m\u001b[0;34m'actual values'\u001b[0m\u001b[0;34m)\u001b[0m\u001b[0;34m\u001b[0m\u001b[0;34m\u001b[0m\u001b[0m\n\u001b[0m\u001b[1;32m      3\u001b[0m \u001b[0;34m\u001b[0m\u001b[0m\n\u001b[1;32m      4\u001b[0m \u001b[0mplt\u001b[0m\u001b[0;34m.\u001b[0m\u001b[0mlegend\u001b[0m\u001b[0;34m(\u001b[0m\u001b[0;34m)\u001b[0m\u001b[0;34m\u001b[0m\u001b[0;34m\u001b[0m\u001b[0m\n\u001b[1;32m      5\u001b[0m \u001b[0mplt\u001b[0m\u001b[0;34m.\u001b[0m\u001b[0mgrid\u001b[0m\u001b[0;34m(\u001b[0m\u001b[0;34m)\u001b[0m\u001b[0;34m\u001b[0m\u001b[0;34m\u001b[0m\u001b[0m\n",
      "\u001b[0;31mNameError\u001b[0m: name 'input_cut' is not defined"
     ]
    },
    {
     "data": {
      "image/png": "[encoded data removed]",
      "text/plain": [
       "<Figure size 432x288 with 1 Axes>"
      ]
     },
     "metadata": {
      "needs_background": "light"
     },
     "output_type": "display_data"
    }
   ],
   "source": [
    "plt.plot(fvms[0].h[:-1], label='forecast')\n",
    "plt.plot(input_cut.values ** 2, label='actual values')\n",
    "\n",
    "plt.legend()\n",
    "plt.grid()\n",
    "plt.show()"
   ]
  },
  {
   "cell_type": "code",
   "execution_count": null,
   "id": "575abc91-f2d3-4965-a6fa-da1265dc9069",
   "metadata": {},
   "outputs": [],
   "source": [
    "(fvms[0].hist_output ** .5).plot(label='forecast', figsize=(15, 8))\n",
    "pd.Series(simple_garch_forecasts ** .5, index=fvms[0].hist_output.index).plot(label='vanilla GARCH(1, 1) (no retraining)')\n",
    "input_cut.plot(label='actual values')\n",
    "\n",
    "plt.legend()\n",
    "plt.grid()\n",
    "plt.show()"
   ]
  },
  {
   "cell_type": "code",
   "execution_count": null,
   "id": "2d73c9e2-81bc-45c4-83f2-360f71d651de",
   "metadata": {},
   "outputs": [],
   "source": [
    "fvms[0].hist_output.plot(label='forecast', figsize=(15, 8))\n",
    "pd.Series(simple_garch_forecasts, index=fvms[0].hist_output.index).plot(label='vanilla GARCH(1, 1) (no retraining)')\n",
    "(input_cut ** 2).plot(label='actual values')\n",
    "\n",
    "plt.legend()\n",
    "plt.grid()\n",
    "plt.show()"
   ]
  }
 ],
 "metadata": {
  "kernelspec": {
   "display_name": "Python [conda env:.conda-fuzzy-volatility]",
   "language": "python",
   "name": "conda-env-.conda-fuzzy-volatility-py"
  },
  "language_info": {
   "codemirror_mode": {
    "name": "ipython",
    "version": 3
   },
   "file_extension": ".py",
   "mimetype": "text/x-python",
   "name": "python",
   "nbconvert_exporter": "python",
   "pygments_lexer": "ipython3",
   "version": "3.9.7"
  }
 },
 "nbformat": 4,
 "nbformat_minor": 5
}
