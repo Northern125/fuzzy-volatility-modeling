{
 "cells": [
  {
   "cell_type": "code",
   "execution_count": 1,
   "id": "dddaf7cd",
   "metadata": {},
   "outputs": [],
   "source": [
    "import logging\n",
    "import numpy as np\n",
    "import pandas as pd\n",
    "from arch import arch_model\n",
    "from random import gauss\n",
    "from random import seed\n",
    "from matplotlib import pyplot as plt\n",
    "import scipy.stats as sts\n",
    "import json\n",
    "from sklearn.metrics import mean_squared_error, mean_absolute_percentage_error\n",
    "from scipy.optimize import least_squares\n",
    "import os\n",
    "import pathlib"
   ]
  },
  {
   "cell_type": "code",
   "execution_count": 2,
   "id": "dfddf51c",
   "metadata": {},
   "outputs": [],
   "source": [
    "ini_wd = os.getcwd()\n",
    "os.chdir('..')\n",
    "\n",
    "from rules_related import combine_rules_outputs\n",
    "from whole_algorithm import train_model\n",
    "from auxiliary import calc_log_returns, unpack_1d_parameters, pack_1d_parameters\n",
    "from multivariate_normal_distribution import LongMultivariateNormal\n",
    "from model import FuzzyVolatilityModel\n",
    "from membership_functions import calc_trapezoidal_membership_degrees\n",
    "from clusterization.all_methods import cluster_data_1d, cluster_data\n",
    "from local_models import calc_cond_var_fuzzy, calculate_retraining_garch_forecasts\n",
    "from antecedent_fitting import fit_antecedent_params\n",
    "# from membership_functions.trapezoidal import _calc_trapezoidal_md_scalar"
   ]
  },
  {
   "cell_type": "code",
   "execution_count": 3,
   "id": "e532cbfa",
   "metadata": {
    "scrolled": true
   },
   "outputs": [],
   "source": [
    "with open('config.json') as file:\n",
    "    config = json.load(file)"
   ]
  },
  {
   "cell_type": "code",
   "execution_count": 4,
   "id": "3393a7b3",
   "metadata": {},
   "outputs": [],
   "source": [
    "INPUT = pathlib.Path(config['files_folders']['processed'])\n",
    "LOGS = pathlib.Path(config['files_folders']['logs'])"
   ]
  },
  {
   "cell_type": "code",
   "execution_count": 5,
   "id": "cbfda7cb",
   "metadata": {},
   "outputs": [],
   "source": [
    "logging.basicConfig(level=logging.DEBUG,\n",
    "                    filename=LOGS/'ets_testing.log',\n",
    "                    filemode='w',\n",
    "                    format='%(asctime)s.%(msecs)d %(name)s %(levelname)s %(message)s',\n",
    "                    datefmt='%Y-%m-%d %H:%M:%S')"
   ]
  },
  {
   "cell_type": "code",
   "execution_count": 6,
   "id": "5941b46b",
   "metadata": {},
   "outputs": [],
   "source": [
    "pd.options.display.max_colwidth = 500"
   ]
  },
  {
   "cell_type": "markdown",
   "id": "c087b95a",
   "metadata": {},
   "source": [
    "# Reading files"
   ]
  },
  {
   "cell_type": "code",
   "execution_count": 7,
   "id": "23c25f6a",
   "metadata": {},
   "outputs": [],
   "source": [
    "rtsi = pd.read_pickle(INPUT/'rtsi.pkl')"
   ]
  },
  {
   "cell_type": "code",
   "execution_count": 8,
   "id": "4e0f5233",
   "metadata": {},
   "outputs": [
    {
     "data": {
      "text/html": [
       "<div>\n",
       "<style scoped>\n",
       "    .dataframe tbody tr th:only-of-type {\n",
       "        vertical-align: middle;\n",
       "    }\n",
       "\n",
       "    .dataframe tbody tr th {\n",
       "        vertical-align: top;\n",
       "    }\n",
       "\n",
       "    .dataframe thead th {\n",
       "        text-align: right;\n",
       "    }\n",
       "</style>\n",
       "<table border=\"1\" class=\"dataframe\">\n",
       "  <thead>\n",
       "    <tr style=\"text-align: right;\">\n",
       "      <th></th>\n",
       "      <th>&lt;OPEN&gt;</th>\n",
       "      <th>&lt;HIGH&gt;</th>\n",
       "      <th>&lt;LOW&gt;</th>\n",
       "      <th>&lt;CLOSE&gt;</th>\n",
       "      <th>&lt;VOL&gt;</th>\n",
       "      <th>return</th>\n",
       "      <th>log return</th>\n",
       "    </tr>\n",
       "    <tr>\n",
       "      <th>&lt;DATE&gt;</th>\n",
       "      <th></th>\n",
       "      <th></th>\n",
       "      <th></th>\n",
       "      <th></th>\n",
       "      <th></th>\n",
       "      <th></th>\n",
       "      <th></th>\n",
       "    </tr>\n",
       "  </thead>\n",
       "  <tbody>\n",
       "    <tr>\n",
       "      <th>1995-09-04</th>\n",
       "      <td>99.80</td>\n",
       "      <td>99.80</td>\n",
       "      <td>99.80</td>\n",
       "      <td>99.80</td>\n",
       "      <td>1000395</td>\n",
       "      <td>-0.002000</td>\n",
       "      <td>-0.002002</td>\n",
       "    </tr>\n",
       "    <tr>\n",
       "      <th>1995-09-05</th>\n",
       "      <td>100.42</td>\n",
       "      <td>100.42</td>\n",
       "      <td>100.42</td>\n",
       "      <td>100.42</td>\n",
       "      <td>1669902</td>\n",
       "      <td>0.006212</td>\n",
       "      <td>0.006193</td>\n",
       "    </tr>\n",
       "    <tr>\n",
       "      <th>1995-09-06</th>\n",
       "      <td>99.74</td>\n",
       "      <td>99.74</td>\n",
       "      <td>99.74</td>\n",
       "      <td>99.74</td>\n",
       "      <td>927829</td>\n",
       "      <td>-0.006772</td>\n",
       "      <td>-0.006795</td>\n",
       "    </tr>\n",
       "    <tr>\n",
       "      <th>1995-09-07</th>\n",
       "      <td>101.30</td>\n",
       "      <td>101.30</td>\n",
       "      <td>101.30</td>\n",
       "      <td>101.30</td>\n",
       "      <td>2153945</td>\n",
       "      <td>0.015641</td>\n",
       "      <td>0.015520</td>\n",
       "    </tr>\n",
       "    <tr>\n",
       "      <th>1995-09-08</th>\n",
       "      <td>101.30</td>\n",
       "      <td>101.30</td>\n",
       "      <td>101.30</td>\n",
       "      <td>101.30</td>\n",
       "      <td>1318431</td>\n",
       "      <td>0.000000</td>\n",
       "      <td>0.000000</td>\n",
       "    </tr>\n",
       "    <tr>\n",
       "      <th>...</th>\n",
       "      <td>...</td>\n",
       "      <td>...</td>\n",
       "      <td>...</td>\n",
       "      <td>...</td>\n",
       "      <td>...</td>\n",
       "      <td>...</td>\n",
       "      <td>...</td>\n",
       "    </tr>\n",
       "    <tr>\n",
       "      <th>2022-09-28</th>\n",
       "      <td>1055.17</td>\n",
       "      <td>1082.49</td>\n",
       "      <td>1050.69</td>\n",
       "      <td>1074.57</td>\n",
       "      <td>860170151</td>\n",
       "      <td>0.020039</td>\n",
       "      <td>0.019841</td>\n",
       "    </tr>\n",
       "    <tr>\n",
       "      <th>2022-09-29</th>\n",
       "      <td>1089.57</td>\n",
       "      <td>1092.62</td>\n",
       "      <td>1054.68</td>\n",
       "      <td>1072.26</td>\n",
       "      <td>746668464</td>\n",
       "      <td>-0.002150</td>\n",
       "      <td>-0.002152</td>\n",
       "    </tr>\n",
       "    <tr>\n",
       "      <th>2022-09-30</th>\n",
       "      <td>1094.77</td>\n",
       "      <td>1172.16</td>\n",
       "      <td>1037.78</td>\n",
       "      <td>1055.72</td>\n",
       "      <td>1940913502</td>\n",
       "      <td>-0.015425</td>\n",
       "      <td>-0.015546</td>\n",
       "    </tr>\n",
       "    <tr>\n",
       "      <th>2022-10-03</th>\n",
       "      <td>1080.33</td>\n",
       "      <td>1116.09</td>\n",
       "      <td>1070.10</td>\n",
       "      <td>1091.87</td>\n",
       "      <td>765414097</td>\n",
       "      <td>0.034242</td>\n",
       "      <td>0.033669</td>\n",
       "    </tr>\n",
       "    <tr>\n",
       "      <th>2022-10-04</th>\n",
       "      <td>1103.82</td>\n",
       "      <td>1115.63</td>\n",
       "      <td>1080.17</td>\n",
       "      <td>1100.14</td>\n",
       "      <td>806795293</td>\n",
       "      <td>0.007574</td>\n",
       "      <td>0.007546</td>\n",
       "    </tr>\n",
       "  </tbody>\n",
       "</table>\n",
       "<p>6771 rows × 7 columns</p>\n",
       "</div>"
      ],
      "text/plain": [
       "             <OPEN>   <HIGH>    <LOW>  <CLOSE>       <VOL>    return  \\\n",
       "<DATE>                                                                 \n",
       "1995-09-04    99.80    99.80    99.80    99.80     1000395 -0.002000   \n",
       "1995-09-05   100.42   100.42   100.42   100.42     1669902  0.006212   \n",
       "1995-09-06    99.74    99.74    99.74    99.74      927829 -0.006772   \n",
       "1995-09-07   101.30   101.30   101.30   101.30     2153945  0.015641   \n",
       "1995-09-08   101.30   101.30   101.30   101.30     1318431  0.000000   \n",
       "...             ...      ...      ...      ...         ...       ...   \n",
       "2022-09-28  1055.17  1082.49  1050.69  1074.57   860170151  0.020039   \n",
       "2022-09-29  1089.57  1092.62  1054.68  1072.26   746668464 -0.002150   \n",
       "2022-09-30  1094.77  1172.16  1037.78  1055.72  1940913502 -0.015425   \n",
       "2022-10-03  1080.33  1116.09  1070.10  1091.87   765414097  0.034242   \n",
       "2022-10-04  1103.82  1115.63  1080.17  1100.14   806795293  0.007574   \n",
       "\n",
       "            log return  \n",
       "<DATE>                  \n",
       "1995-09-04   -0.002002  \n",
       "1995-09-05    0.006193  \n",
       "1995-09-06   -0.006795  \n",
       "1995-09-07    0.015520  \n",
       "1995-09-08    0.000000  \n",
       "...                ...  \n",
       "2022-09-28    0.019841  \n",
       "2022-09-29   -0.002152  \n",
       "2022-09-30   -0.015546  \n",
       "2022-10-03    0.033669  \n",
       "2022-10-04    0.007546  \n",
       "\n",
       "[6771 rows x 7 columns]"
      ]
     },
     "execution_count": 8,
     "metadata": {},
     "output_type": "execute_result"
    }
   ],
   "source": [
    "rtsi"
   ]
  },
  {
   "cell_type": "code",
   "execution_count": 9,
   "id": "e13f81ab",
   "metadata": {},
   "outputs": [
    {
     "data": {
      "image/png": "[encoded data removed]",
      "text/plain": [
       "<Figure size 640x480 with 1 Axes>"
      ]
     },
     "metadata": {},
     "output_type": "display_data"
    }
   ],
   "source": [
    "rtsi['log return'].plot()\n",
    "\n",
    "plt.grid()\n",
    "plt.show()"
   ]
  },
  {
   "cell_type": "code",
   "execution_count": 10,
   "id": "4c70b3e0",
   "metadata": {},
   "outputs": [
    {
     "data": {
      "text/plain": [
       "count    6771.000000\n",
       "mean        0.000354\n",
       "std         0.025407\n",
       "min        -0.482921\n",
       "25%        -0.010185\n",
       "50%         0.001224\n",
       "75%         0.011688\n",
       "max         0.232044\n",
       "Name: log return, dtype: float64"
      ]
     },
     "execution_count": 10,
     "metadata": {},
     "output_type": "execute_result"
    }
   ],
   "source": [
    "rtsi['log return'].describe()"
   ]
  },
  {
   "cell_type": "code",
   "execution_count": 11,
   "id": "975e5ea5",
   "metadata": {},
   "outputs": [],
   "source": [
    "rtsi['day of week'] = rtsi.index.dayofweek + 1"
   ]
  },
  {
   "cell_type": "code",
   "execution_count": 12,
   "id": "5f149fd8",
   "metadata": {},
   "outputs": [
    {
     "data": {
      "text/plain": [
       "<DATE>\n",
       "1995-09-04    1\n",
       "1995-09-05    2\n",
       "1995-09-06    3\n",
       "1995-09-07    4\n",
       "1995-09-08    5\n",
       "             ..\n",
       "2022-09-28    3\n",
       "2022-09-29    4\n",
       "2022-09-30    5\n",
       "2022-10-03    1\n",
       "2022-10-04    2\n",
       "Name: day of week, Length: 6771, dtype: int64"
      ]
     },
     "execution_count": 12,
     "metadata": {},
     "output_type": "execute_result"
    }
   ],
   "source": [
    "rtsi['day of week']"
   ]
  },
  {
   "cell_type": "markdown",
   "id": "c2c33a08",
   "metadata": {},
   "source": [
    "# Setting data & parameters"
   ]
  },
  {
   "cell_type": "code",
   "execution_count": 13,
   "id": "93b84c0d",
   "metadata": {},
   "outputs": [],
   "source": [
    "rescale_factor = 1\n",
    "start_date = '2018-01-01'\n",
    "end_date = '2020-07-01'"
   ]
  },
  {
   "cell_type": "code",
   "execution_count": 14,
   "id": "bb8043ac",
   "metadata": {},
   "outputs": [],
   "source": [
    "input_data = rtsi['log return'].loc[start_date:end_date].copy() * rescale_factor"
   ]
  },
  {
   "cell_type": "code",
   "execution_count": 15,
   "id": "1b2f616e",
   "metadata": {},
   "outputs": [
    {
     "data": {
      "image/png": "[encoded data removed]",
      "text/plain": [
       "<Figure size 640x480 with 1 Axes>"
      ]
     },
     "metadata": {},
     "output_type": "display_data"
    }
   ],
   "source": [
    "input_data.plot()\n",
    "\n",
    "plt.grid()\n",
    "plt.show()"
   ]
  },
  {
   "cell_type": "code",
   "execution_count": 16,
   "id": "8bacee25",
   "metadata": {},
   "outputs": [
    {
     "data": {
      "text/plain": [
       "count    627.000000\n",
       "mean       0.000078\n",
       "std        0.018531\n",
       "min       -0.139486\n",
       "25%       -0.007400\n",
       "50%        0.001318\n",
       "75%        0.009427\n",
       "max        0.088251\n",
       "Name: log return, dtype: float64"
      ]
     },
     "execution_count": 16,
     "metadata": {},
     "output_type": "execute_result"
    }
   ],
   "source": [
    "input_data.describe()"
   ]
  },
  {
   "cell_type": "code",
   "execution_count": 17,
   "id": "b196b8a5",
   "metadata": {},
   "outputs": [
    {
     "data": {
      "text/plain": [
       "627"
      ]
     },
     "execution_count": 17,
     "metadata": {},
     "output_type": "execute_result"
    }
   ],
   "source": [
    "n = input_data.shape[0]\n",
    "n"
   ]
  },
  {
   "cell_type": "markdown",
   "id": "91887570",
   "metadata": {},
   "source": [
    "## Train / test split"
   ]
  },
  {
   "cell_type": "code",
   "execution_count": 18,
   "id": "a9d58a35-9402-47dd-95e8-a20939a666a7",
   "metadata": {},
   "outputs": [],
   "source": [
    "n_train = 1  # 2000\n",
    "\n",
    "# n_test = 100\n",
    "# n_test = min(n - n_train, n_test)"
   ]
  },
  {
   "cell_type": "code",
   "execution_count": 19,
   "id": "7ac51558-282e-42f0-a39b-d7938317f87c",
   "metadata": {},
   "outputs": [],
   "source": [
    "train, test = input_data.iloc[:n_train].copy(), input_data.iloc[n_train:].copy()\n",
    "input_cut = pd.concat([train, test]).copy()\n",
    "# data_to_cluster_train, data_to_cluster_test = days_of_week.iloc[:n_train].copy(), days_of_week.iloc[n_train:].copy()\n",
    "\n",
    "n_test = test.shape[0]"
   ]
  },
  {
   "cell_type": "code",
   "execution_count": 20,
   "id": "2663e3bf-0d2a-4a08-b821-cfc7c4b0ed31",
   "metadata": {},
   "outputs": [
    {
     "data": {
      "image/png": "[encoded data removed]",
      "text/plain": [
       "<Figure size 640x480 with 1 Axes>"
      ]
     },
     "metadata": {},
     "output_type": "display_data"
    }
   ],
   "source": [
    "train.plot(label='train')\n",
    "test.plot(label='test')\n",
    "\n",
    "plt.legend()\n",
    "plt.grid()\n",
    "plt.show()"
   ]
  },
  {
   "cell_type": "code",
   "execution_count": 21,
   "id": "cef295e4",
   "metadata": {},
   "outputs": [
    {
     "data": {
      "text/plain": [
       "count    1.000000\n",
       "mean     0.024498\n",
       "std           NaN\n",
       "min      0.024498\n",
       "25%      0.024498\n",
       "50%      0.024498\n",
       "75%      0.024498\n",
       "max      0.024498\n",
       "Name: log return, dtype: float64"
      ]
     },
     "execution_count": 21,
     "metadata": {},
     "output_type": "execute_result"
    }
   ],
   "source": [
    "train.describe()"
   ]
  },
  {
   "cell_type": "code",
   "execution_count": 22,
   "id": "fdffd394",
   "metadata": {},
   "outputs": [
    {
     "data": {
      "text/plain": [
       "count    626.000000\n",
       "mean       0.000039\n",
       "std        0.018520\n",
       "min       -0.139486\n",
       "25%       -0.007418\n",
       "50%        0.001316\n",
       "75%        0.009403\n",
       "max        0.088251\n",
       "Name: log return, dtype: float64"
      ]
     },
     "execution_count": 22,
     "metadata": {},
     "output_type": "execute_result"
    }
   ],
   "source": [
    "test.describe()"
   ]
  },
  {
   "cell_type": "markdown",
   "id": "7ca84f69",
   "metadata": {},
   "source": [
    "## Antecedent parameters"
   ]
  },
  {
   "cell_type": "code",
   "execution_count": 23,
   "id": "bed9dc94",
   "metadata": {},
   "outputs": [],
   "source": [
    "clusterization_method = 'eTS'\n",
    "membership_function = 'gaussian'"
   ]
  },
  {
   "cell_type": "code",
   "execution_count": 24,
   "id": "c3efa6df",
   "metadata": {},
   "outputs": [],
   "source": [
    "variance = 2\n",
    "n_clusters = 1\n",
    "sigma = 0\n",
    "potentials_focal = np.array([1] * n_clusters)\n",
    "delta_min = variance / 8\n",
    "\n",
    "clusterization_parameters = {\n",
    "    'n_clusters': n_clusters,\n",
    "#     'centers': centers,\n",
    "    'variance': variance,\n",
    "    'sigma': sigma,\n",
    "#     'beta': beta,\n",
    "    'potentials_focal': potentials_focal,\n",
    "    'delta_min': delta_min\n",
    "}"
   ]
  },
  {
   "cell_type": "code",
   "execution_count": 25,
   "id": "a700d0f2",
   "metadata": {},
   "outputs": [],
   "source": [
    "n_last_points_to_use_for_clustering = None\n",
    "normalize = True"
   ]
  },
  {
   "cell_type": "markdown",
   "id": "6ca7a301",
   "metadata": {},
   "source": [
    "## Consequent parameters"
   ]
  },
  {
   "cell_type": "code",
   "execution_count": 26,
   "id": "ced6e588",
   "metadata": {},
   "outputs": [],
   "source": [
    "## technical parameters for arch_model function\n",
    "garch_mean = 'Zero'\n",
    "garch_dist = 'normal'\n",
    "\n",
    "# general parameters\n",
    "local_method = 'garch'\n",
    "n_points_fitting = None\n",
    "\n",
    "# GARCH parameters\n",
    "p = 1\n",
    "q = 1\n",
    "\n",
    "starting_index = max(p, q)\n",
    "\n",
    "# train_sample_std = train.std()\n",
    "# first_h = [train_sample_std ** 2] * starting_index\n",
    "first_h = [train[0] ** 2] * starting_index  # TODO: TRY THIS\n",
    "first_h = np.array(first_h)\n",
    "\n",
    "# parameters constraints\n",
    "lower_bounds = [0] * (1 + p + q) * n_clusters\n",
    "upper_bounds = [+1000] * n_clusters + [1] * (p + q) * n_clusters\n",
    "bounds = (lower_bounds, upper_bounds)"
   ]
  },
  {
   "cell_type": "markdown",
   "id": "d66a1e6d",
   "metadata": {},
   "source": [
    "## $p$, $q$ - dependent antecedent parameters"
   ]
  },
  {
   "cell_type": "markdown",
   "id": "c5887959",
   "metadata": {},
   "source": [
    "## $h_t = \\alpha_0 + \\sum_{i = 1}^{q} \\alpha_i y_{t - i}^2 + \\sum_{j = 1}^{p} \\beta_j h_{t - j}$\n",
    "\n",
    "## $p = 1$, $q = 1$\n",
    "\n",
    "## $x_t = (y_{t - 1}, h_{t - 1})$"
   ]
  },
  {
   "cell_type": "code",
   "execution_count": 27,
   "id": "b0da1705",
   "metadata": {},
   "outputs": [],
   "source": [
    "x_dim = q  # p + q + 1 is also possible (if output value y_t is also used for clustering)\n",
    "\n",
    "# data_to_cluster = pd.DataFrame([[train.values[0], first_h[0]]], index=train.index).copy()\n",
    "data_to_cluster = train.iloc[:1].to_frame()\n",
    "\n",
    "centers = np.array([data_to_cluster.iloc[0].values]).copy()\n",
    "beta = np.array([0] * x_dim)\n",
    "\n",
    "clusterization_parameters.update({\n",
    "    'x_dim': x_dim,\n",
    "    'centers': centers,\n",
    "    'beta': beta\n",
    "})"
   ]
  },
  {
   "cell_type": "markdown",
   "id": "5e456d4e",
   "metadata": {},
   "source": [
    "### Using classic GARCH to get initial parameters values"
   ]
  },
  {
   "cell_type": "code",
   "execution_count": 28,
   "id": "5e2c9284",
   "metadata": {},
   "outputs": [
    {
     "name": "stdout",
     "output_type": "stream",
     "text": [
      "Iteration:      1,   Func. Count:      5,   Neg. LLF: -2.136815741255927\n",
      "Optimization terminated successfully    (Exit mode 0)\n",
      "            Current function value: -2.2902421409759484\n",
      "            Iterations: 1\n",
      "            Function evaluations: 15\n",
      "            Gradient evaluations: 1\n"
     ]
    }
   ],
   "source": [
    "garch = arch_model(train,\n",
    "                   mean=garch_mean,\n",
    "                   vol='GARCH',\n",
    "                   p=p,\n",
    "                   q=q,\n",
    "                   dist=garch_dist)\n",
    "garch_fitted = garch.fit()"
   ]
  },
  {
   "cell_type": "code",
   "execution_count": 29,
   "id": "626503a0",
   "metadata": {},
   "outputs": [
    {
     "data": {
      "text/plain": [
       "omega       0.0003\n",
       "alpha[1]    0.0100\n",
       "beta[1]     0.4900\n",
       "Name: params, dtype: float64"
      ]
     },
     "execution_count": 29,
     "metadata": {},
     "output_type": "execute_result"
    }
   ],
   "source": [
    "garch_fitted.params"
   ]
  },
  {
   "cell_type": "code",
   "execution_count": 30,
   "id": "51e50f83-cc6b-495c-8900-767a9801c7be",
   "metadata": {},
   "outputs": [],
   "source": [
    "alpha_0_ini = np.array([garch_fitted.params.iloc[0] for _ in range(n_clusters)])\n",
    "alpha_ini = np.array([garch_fitted.params.iloc[1:(q + 1)].values for _ in range(n_clusters)])\n",
    "beta_ini = np.array([garch_fitted.params.iloc[(q + 1):].values for _ in range(n_clusters)])"
   ]
  },
  {
   "cell_type": "code",
   "execution_count": 31,
   "id": "dfcb1d5d",
   "metadata": {},
   "outputs": [],
   "source": [
    "# alpha_0_ini, alpha_ini, beta_ini = unpack_1d_parameters(garch_fitted.params.values, p=p, q=q, n_clusters=n_clusters)"
   ]
  },
  {
   "cell_type": "code",
   "execution_count": 32,
   "id": "452b962e",
   "metadata": {},
   "outputs": [],
   "source": [
    "parameters_ini = {'alpha_0': alpha_0_ini, 'alpha': alpha_ini, 'beta': beta_ini}"
   ]
  },
  {
   "cell_type": "code",
   "execution_count": 33,
   "id": "ce388de6",
   "metadata": {},
   "outputs": [
    {
     "data": {
      "text/plain": [
       "{'alpha_0': array([0.00030007]),\n",
       " 'alpha': array([[0.01]]),\n",
       " 'beta': array([[0.49]])}"
      ]
     },
     "execution_count": 33,
     "metadata": {},
     "output_type": "execute_result"
    }
   ],
   "source": [
    "parameters_ini"
   ]
  },
  {
   "cell_type": "code",
   "execution_count": 34,
   "id": "92368e86",
   "metadata": {},
   "outputs": [],
   "source": [
    "# # initial parameters values for LS to start with\n",
    "# alpha_0_ini = np.array([garch_fitted.params.loc['omega']] * n_clusters)\n",
    "# alpha_ini = np.array([[1] * n_clusters] * q)\n",
    "# beta_ini = np.array([[1] * n_clusters] * p)\n",
    "# parameters_ini = {'alpha_0': alpha_0_ini, 'alpha': alpha_ini, 'beta': beta_ini}"
   ]
  },
  {
   "cell_type": "markdown",
   "id": "45dfbd1c",
   "metadata": {},
   "source": [
    "### Setting dict w/ all consequent parameters"
   ]
  },
  {
   "cell_type": "code",
   "execution_count": 35,
   "id": "0408962b",
   "metadata": {},
   "outputs": [],
   "source": [
    "local_method_parameters = {'p': p, 'q': q, 'mean': garch_mean, 'dist': garch_dist, 'first_h': first_h,\n",
    "                           'bounds': bounds, 'parameters_ini': parameters_ini}"
   ]
  },
  {
   "cell_type": "markdown",
   "id": "705bedc4",
   "metadata": {},
   "source": [
    "## Other params"
   ]
  },
  {
   "cell_type": "code",
   "execution_count": 36,
   "id": "a8cec70d",
   "metadata": {},
   "outputs": [],
   "source": [
    "# cluster_sets_conjunction = 'prod'\n",
    "\n",
    "optimization = 'ls'\n",
    "optimization_parameters = {'ftol': 1e-10,\n",
    "                           'gtol': 1e-10,\n",
    "                           'method': 'trf',\n",
    "                           'verbose': 0\n",
    "                          }"
   ]
  },
  {
   "cell_type": "markdown",
   "id": "beac442d",
   "metadata": {},
   "source": [
    "# Testing `FuzzyVolatilityModel` class"
   ]
  },
  {
   "cell_type": "code",
   "execution_count": 37,
   "id": "260be1ca",
   "metadata": {},
   "outputs": [],
   "source": [
    "fvm = FuzzyVolatilityModel(train,\n",
    "                           clusterization_method=clusterization_method,\n",
    "                           membership_function=membership_function,\n",
    "                           clusterization_parameters=clusterization_parameters,\n",
    "                           local_method=local_method,\n",
    "                           local_method_parameters=local_method_parameters,\n",
    "                           n_last_points_to_use_for_clustering=n_last_points_to_use_for_clustering,\n",
    "                           data_to_cluster=data_to_cluster,\n",
    "                           normalize=normalize,\n",
    "                           n_points_fitting=n_points_fitting,\n",
    "                           first_h=first_h,\n",
    "                           optimization=optimization,\n",
    "                           optimization_parameters=optimization_parameters,\n",
    "                           clustered_space_dim=x_dim\n",
    "                          )"
   ]
  },
  {
   "cell_type": "code",
   "execution_count": 38,
   "id": "5fd974bd",
   "metadata": {},
   "outputs": [],
   "source": [
    "fvm.n_clusters = 1\n",
    "fvm.membership_degrees_current = np.array([1])"
   ]
  },
  {
   "cell_type": "markdown",
   "id": "bb5399c7",
   "metadata": {},
   "source": [
    "## `cluster()`"
   ]
  },
  {
   "cell_type": "code",
   "execution_count": 39,
   "id": "cdc769f3",
   "metadata": {
    "scrolled": true
   },
   "outputs": [
    {
     "name": "stdout",
     "output_type": "stream",
     "text": [
      "CPU times: user 3 µs, sys: 1 µs, total: 4 µs\n",
      "Wall time: 11.9 µs\n"
     ]
    }
   ],
   "source": [
    "%%time\n",
    "\n",
    "# fvm.cluster()"
   ]
  },
  {
   "cell_type": "code",
   "execution_count": 40,
   "id": "c947b9e6",
   "metadata": {},
   "outputs": [
    {
     "data": {
      "text/html": [
       "<div>\n",
       "<style scoped>\n",
       "    .dataframe tbody tr th:only-of-type {\n",
       "        vertical-align: middle;\n",
       "    }\n",
       "\n",
       "    .dataframe tbody tr th {\n",
       "        vertical-align: top;\n",
       "    }\n",
       "\n",
       "    .dataframe thead th {\n",
       "        text-align: right;\n",
       "    }\n",
       "</style>\n",
       "<table border=\"1\" class=\"dataframe\">\n",
       "  <thead>\n",
       "    <tr style=\"text-align: right;\">\n",
       "      <th></th>\n",
       "      <th>log return</th>\n",
       "    </tr>\n",
       "    <tr>\n",
       "      <th>&lt;DATE&gt;</th>\n",
       "      <th></th>\n",
       "    </tr>\n",
       "  </thead>\n",
       "  <tbody>\n",
       "    <tr>\n",
       "      <th>2018-01-03</th>\n",
       "      <td>0.024498</td>\n",
       "    </tr>\n",
       "  </tbody>\n",
       "</table>\n",
       "</div>"
      ],
      "text/plain": [
       "            log return\n",
       "<DATE>                \n",
       "2018-01-03    0.024498"
      ]
     },
     "execution_count": 40,
     "metadata": {},
     "output_type": "execute_result"
    }
   ],
   "source": [
    "fvm.data_to_cluster"
   ]
  },
  {
   "cell_type": "code",
   "execution_count": 41,
   "id": "6c336e65",
   "metadata": {},
   "outputs": [
    {
     "data": {
      "text/plain": [
       "[]"
      ]
     },
     "execution_count": 41,
     "metadata": {},
     "output_type": "execute_result"
    }
   ],
   "source": [
    "fvm._n_clusters_hist"
   ]
  },
  {
   "cell_type": "markdown",
   "id": "ab05cb35",
   "metadata": {},
   "source": [
    "## `fit()`"
   ]
  },
  {
   "cell_type": "code",
   "execution_count": 42,
   "id": "f3a12a15",
   "metadata": {
    "scrolled": true
   },
   "outputs": [
    {
     "data": {
      "text/plain": [
       "slice(None, None, None)"
      ]
     },
     "execution_count": 42,
     "metadata": {},
     "output_type": "execute_result"
    }
   ],
   "source": [
    "fvm._fitting_slice"
   ]
  },
  {
   "cell_type": "code",
   "execution_count": 43,
   "id": "4b36f4f5",
   "metadata": {
    "scrolled": true
   },
   "outputs": [
    {
     "name": "stdout",
     "output_type": "stream",
     "text": [
      "CPU times: user 16.9 ms, sys: 2.79 ms, total: 19.7 ms\n",
      "Wall time: 19.7 ms\n"
     ]
    }
   ],
   "source": [
    "%%time\n",
    "\n",
    "fvm.fit()"
   ]
  },
  {
   "cell_type": "code",
   "execution_count": 44,
   "id": "9ef56562",
   "metadata": {},
   "outputs": [
    {
     "data": {
      "text/plain": [
       "([0, 0, 0], [1000, 1, 1])"
      ]
     },
     "execution_count": 44,
     "metadata": {},
     "output_type": "execute_result"
    }
   ],
   "source": [
    "fvm.bounds"
   ]
  },
  {
   "cell_type": "code",
   "execution_count": 45,
   "id": "b0404473",
   "metadata": {},
   "outputs": [
    {
     "data": {
      "text/plain": [
       "array([[   0, 1000],\n",
       "       [   0,    1],\n",
       "       [   0,    1]])"
      ]
     },
     "execution_count": 45,
     "metadata": {},
     "output_type": "execute_result"
    }
   ],
   "source": [
    "np.array(fvm.bounds).T"
   ]
  },
  {
   "cell_type": "code",
   "execution_count": 46,
   "id": "7fc6ae22",
   "metadata": {},
   "outputs": [
    {
     "data": {
      "text/plain": [
       "array([0.00030007])"
      ]
     },
     "execution_count": 46,
     "metadata": {},
     "output_type": "execute_result"
    }
   ],
   "source": [
    "fvm.alpha_0"
   ]
  },
  {
   "cell_type": "code",
   "execution_count": 47,
   "id": "729fe037",
   "metadata": {},
   "outputs": [
    {
     "data": {
      "text/plain": [
       "array([[0.01]])"
      ]
     },
     "execution_count": 47,
     "metadata": {},
     "output_type": "execute_result"
    }
   ],
   "source": [
    "fvm.alpha"
   ]
  },
  {
   "cell_type": "code",
   "execution_count": 48,
   "id": "9823112d",
   "metadata": {},
   "outputs": [
    {
     "data": {
      "text/plain": [
       "array([[0.49]])"
      ]
     },
     "execution_count": 48,
     "metadata": {},
     "output_type": "execute_result"
    }
   ],
   "source": [
    "fvm.beta"
   ]
  },
  {
   "cell_type": "code",
   "execution_count": 49,
   "id": "9eadd7b4",
   "metadata": {},
   "outputs": [
    {
     "data": {
      "text/plain": [
       "omega       0.0003\n",
       "alpha[1]    0.0100\n",
       "beta[1]     0.4900\n",
       "Name: params, dtype: float64"
      ]
     },
     "execution_count": 49,
     "metadata": {},
     "output_type": "execute_result"
    }
   ],
   "source": [
    "garch_fitted.params"
   ]
  },
  {
   "cell_type": "code",
   "execution_count": 50,
   "id": "92f4ba8c",
   "metadata": {},
   "outputs": [
    {
     "data": {
      "text/plain": [
       "[{'alpha_0': array([0.00030007]),\n",
       "  'alpha': array([[0.01]]),\n",
       "  'beta': array([[0.49]])}]"
      ]
     },
     "execution_count": 50,
     "metadata": {},
     "output_type": "execute_result"
    }
   ],
   "source": [
    "fvm._parameters_hist"
   ]
  },
  {
   "cell_type": "code",
   "execution_count": 51,
   "id": "ba8d0b58",
   "metadata": {},
   "outputs": [
    {
     "data": {
      "text/plain": [
       "array([1])"
      ]
     },
     "execution_count": 51,
     "metadata": {},
     "output_type": "execute_result"
    }
   ],
   "source": [
    "fvm.membership_degrees_current"
   ]
  },
  {
   "cell_type": "code",
   "execution_count": 52,
   "id": "95daa841",
   "metadata": {},
   "outputs": [
    {
     "data": {
      "text/plain": [
       "{'n_clusters': 1,\n",
       " 'variance': 2,\n",
       " 'sigma': 0,\n",
       " 'potentials_focal': array([1]),\n",
       " 'delta_min': 0.25,\n",
       " 'x_dim': 1,\n",
       " 'centers': array([[0.02449759]]),\n",
       " 'beta': array([0])}"
      ]
     },
     "execution_count": 52,
     "metadata": {},
     "output_type": "execute_result"
    }
   ],
   "source": [
    "fvm.clusters_parameters_current"
   ]
  },
  {
   "cell_type": "code",
   "execution_count": 53,
   "id": "8ff2905d",
   "metadata": {},
   "outputs": [
    {
     "data": {
      "text/html": [
       "<div>\n",
       "<style scoped>\n",
       "    .dataframe tbody tr th:only-of-type {\n",
       "        vertical-align: middle;\n",
       "    }\n",
       "\n",
       "    .dataframe tbody tr th {\n",
       "        vertical-align: top;\n",
       "    }\n",
       "\n",
       "    .dataframe thead th {\n",
       "        text-align: right;\n",
       "    }\n",
       "</style>\n",
       "<table border=\"1\" class=\"dataframe\">\n",
       "  <thead>\n",
       "    <tr style=\"text-align: right;\">\n",
       "      <th></th>\n",
       "      <th>log return</th>\n",
       "    </tr>\n",
       "    <tr>\n",
       "      <th>&lt;DATE&gt;</th>\n",
       "      <th></th>\n",
       "    </tr>\n",
       "  </thead>\n",
       "  <tbody>\n",
       "    <tr>\n",
       "      <th>2018-01-03</th>\n",
       "      <td>0.024498</td>\n",
       "    </tr>\n",
       "  </tbody>\n",
       "</table>\n",
       "</div>"
      ],
      "text/plain": [
       "            log return\n",
       "<DATE>                \n",
       "2018-01-03    0.024498"
      ]
     },
     "execution_count": 53,
     "metadata": {},
     "output_type": "execute_result"
    }
   ],
   "source": [
    "data_to_cluster"
   ]
  },
  {
   "cell_type": "code",
   "execution_count": 54,
   "id": "8b59fa2a",
   "metadata": {},
   "outputs": [
    {
     "data": {
      "text/plain": [
       "[]"
      ]
     },
     "execution_count": 54,
     "metadata": {},
     "output_type": "execute_result"
    }
   ],
   "source": [
    "fvm._membership_degrees_hist"
   ]
  },
  {
   "cell_type": "code",
   "execution_count": 55,
   "id": "fac63ff3",
   "metadata": {},
   "outputs": [
    {
     "data": {
      "text/plain": [
       "<DATE>\n",
       "2018-01-03    0.024498\n",
       "Name: log return, dtype: float64"
      ]
     },
     "execution_count": 55,
     "metadata": {},
     "output_type": "execute_result"
    }
   ],
   "source": [
    "fvm.train_data"
   ]
  },
  {
   "cell_type": "markdown",
   "id": "24485114",
   "metadata": {},
   "source": [
    "## `forecast()`"
   ]
  },
  {
   "cell_type": "code",
   "execution_count": 56,
   "id": "271546e8",
   "metadata": {},
   "outputs": [],
   "source": [
    "fvm.forecast()"
   ]
  },
  {
   "cell_type": "code",
   "execution_count": 57,
   "id": "9288a4dd",
   "metadata": {},
   "outputs": [
    {
     "data": {
      "text/plain": [
       "0.0006001316526785087"
      ]
     },
     "execution_count": 57,
     "metadata": {},
     "output_type": "execute_result"
    }
   ],
   "source": [
    "fvm.current_output"
   ]
  },
  {
   "cell_type": "code",
   "execution_count": 58,
   "id": "7fd72d43",
   "metadata": {},
   "outputs": [
    {
     "data": {
      "text/plain": [
       "[0.0006001316526785087]"
      ]
     },
     "execution_count": 58,
     "metadata": {},
     "output_type": "execute_result"
    }
   ],
   "source": [
    "fvm._hist_output"
   ]
  },
  {
   "cell_type": "code",
   "execution_count": 59,
   "id": "f68dd2c7",
   "metadata": {
    "scrolled": false
   },
   "outputs": [
    {
     "data": {
      "image/png": "[encoded data removed]",
      "text/plain": [
       "<Figure size 640x480 with 1 Axes>"
      ]
     },
     "metadata": {},
     "output_type": "display_data"
    }
   ],
   "source": [
    "plt.plot(fvm.h, label='$h_t$')\n",
    "plt.plot(train.values ** 2, label='$y_t^2$')\n",
    "\n",
    "plt.legend()\n",
    "plt.grid()\n",
    "plt.show()"
   ]
  },
  {
   "cell_type": "markdown",
   "id": "ae1b59cc",
   "metadata": {},
   "source": [
    "## `feed_daily_data()`"
   ]
  },
  {
   "cell_type": "code",
   "execution_count": 60,
   "id": "1c0d81c6",
   "metadata": {},
   "outputs": [],
   "source": [
    "# n_test_small = 10\n",
    "# test_small = test.iloc[:n_test_small].copy()\n",
    "# input_cut = pd.concat([train, test_small]).copy()\n",
    "\n",
    "# data_to_cluster_test_1 = pd.Series(test_small.index.dayofweek + 1, index=test_small.index).copy()\n",
    "# data_to_cluster_test_2 = 'train'\n",
    "# data_to_cluster_test = [data_to_cluster_test_1, data_to_cluster_test_2]\n",
    "# data_to_cluster = test_small.index.dayofweek + 1\n",
    "# data_to_cluster = pd.Series(data_to_cluster, index=test_small.index)\n",
    "\n",
    "data_to_cluster_test = test.to_frame().copy()"
   ]
  },
  {
   "cell_type": "code",
   "execution_count": 61,
   "id": "4c563a2e",
   "metadata": {
    "scrolled": true
   },
   "outputs": [
    {
     "ename": "KeyboardInterrupt",
     "evalue": "",
     "output_type": "error",
     "traceback": [
      "\u001b[0;31m---------------------------------------------------------------------------\u001b[0m",
      "\u001b[0;31mKeyboardInterrupt\u001b[0m                         Traceback (most recent call last)",
      "File \u001b[0;32m<timed eval>:1\u001b[0m, in \u001b[0;36m<module>\u001b[0;34m\u001b[0m\n",
      "File \u001b[0;32m~/Documents/Study postgraduate/Thesis/fuzzy-volatility-modeling/model.py:450\u001b[0m, in \u001b[0;36mFuzzyVolatilityModel.feed_daily_data\u001b[0;34m(self, test_data, data_to_cluster, n_points)\u001b[0m\n\u001b[1;32m    448\u001b[0m     observation \u001b[38;5;241m=\u001b[39m test_data\u001b[38;5;241m.\u001b[39mloc[date]\n\u001b[1;32m    449\u001b[0m     data_to_cluster_point \u001b[38;5;241m=\u001b[39m data_to_cluster\u001b[38;5;241m.\u001b[39mloc[date]\n\u001b[0;32m--> 450\u001b[0m     \u001b[38;5;28;43mself\u001b[39;49m\u001b[38;5;241;43m.\u001b[39;49m\u001b[43m_push\u001b[49m\u001b[43m(\u001b[49m\u001b[43mobservation\u001b[49m\u001b[43m,\u001b[49m\u001b[43m \u001b[49m\u001b[43mdate\u001b[49m\u001b[43m,\u001b[49m\u001b[43m \u001b[49m\u001b[43mdata_to_cluster_point\u001b[49m\u001b[43m)\u001b[49m\n\u001b[1;32m    451\u001b[0m     \u001b[38;5;28mself\u001b[39m\u001b[38;5;241m.\u001b[39m_forecast()\n\u001b[1;32m    453\u001b[0m \u001b[38;5;66;03m# adding dates\u001b[39;00m\n",
      "File \u001b[0;32m~/Documents/Study postgraduate/Thesis/fuzzy-volatility-modeling/model.py:421\u001b[0m, in \u001b[0;36mFuzzyVolatilityModel._push\u001b[0;34m(self, observation, observation_date, data_to_cluster_point)\u001b[0m\n\u001b[1;32m    418\u001b[0m \u001b[38;5;28mself\u001b[39m\u001b[38;5;241m.\u001b[39mfirst_h_current \u001b[38;5;241m=\u001b[39m \u001b[38;5;28mself\u001b[39m\u001b[38;5;241m.\u001b[39mtrain_data[\u001b[38;5;28mself\u001b[39m\u001b[38;5;241m.\u001b[39m_fitting_slice][:\u001b[38;5;28mself\u001b[39m\u001b[38;5;241m.\u001b[39mstarting_index] \u001b[38;5;241m*\u001b[39m\u001b[38;5;241m*\u001b[39m \u001b[38;5;241m2\u001b[39m\n\u001b[1;32m    420\u001b[0m \u001b[38;5;28mself\u001b[39m\u001b[38;5;241m.\u001b[39mcluster()\n\u001b[0;32m--> 421\u001b[0m \u001b[38;5;28;43mself\u001b[39;49m\u001b[38;5;241;43m.\u001b[39;49m\u001b[43m_fit\u001b[49m\u001b[43m(\u001b[49m\u001b[43m)\u001b[49m\n",
      "File \u001b[0;32m~/Documents/Study postgraduate/Thesis/fuzzy-volatility-modeling/model.py:357\u001b[0m, in \u001b[0;36mFuzzyVolatilityModel._fit_ls\u001b[0;34m(self)\u001b[0m\n\u001b[1;32m    352\u001b[0m parameters_0 \u001b[38;5;241m=\u001b[39m pack_1d_parameters(\u001b[38;5;28mself\u001b[39m\u001b[38;5;241m.\u001b[39mconsequent_parameters_ini[\u001b[38;5;124m'\u001b[39m\u001b[38;5;124malpha_0\u001b[39m\u001b[38;5;124m'\u001b[39m],\n\u001b[1;32m    353\u001b[0m                                   \u001b[38;5;28mself\u001b[39m\u001b[38;5;241m.\u001b[39mconsequent_parameters_ini[\u001b[38;5;124m'\u001b[39m\u001b[38;5;124malpha\u001b[39m\u001b[38;5;124m'\u001b[39m],\n\u001b[1;32m    354\u001b[0m                                   \u001b[38;5;28mself\u001b[39m\u001b[38;5;241m.\u001b[39mconsequent_parameters_ini[\u001b[38;5;124m'\u001b[39m\u001b[38;5;124mbeta\u001b[39m\u001b[38;5;124m'\u001b[39m])\n\u001b[1;32m    356\u001b[0m \u001b[38;5;28mself\u001b[39m\u001b[38;5;241m.\u001b[39mlogger\u001b[38;5;241m.\u001b[39mdebug(\u001b[38;5;124mf\u001b[39m\u001b[38;5;124m'\u001b[39m\u001b[38;5;124mStarting least squares estimation of parameters; `parameters_0`: \u001b[39m\u001b[38;5;132;01m{\u001b[39;00mparameters_0\u001b[38;5;132;01m}\u001b[39;00m\u001b[38;5;124m'\u001b[39m)\n\u001b[0;32m--> 357\u001b[0m ls_result \u001b[38;5;241m=\u001b[39m \u001b[43mleast_squares\u001b[49m\u001b[43m(\u001b[49m\u001b[38;5;28;43mself\u001b[39;49m\u001b[38;5;241;43m.\u001b[39;49m\u001b[43m_calc_residuals\u001b[49m\u001b[43m,\u001b[49m\u001b[43m \u001b[49m\u001b[43mparameters_0\u001b[49m\u001b[43m,\u001b[49m\u001b[43m \u001b[49m\u001b[43mbounds\u001b[49m\u001b[38;5;241;43m=\u001b[39;49m\u001b[38;5;28;43mself\u001b[39;49m\u001b[38;5;241;43m.\u001b[39;49m\u001b[43mbounds\u001b[49m\u001b[43m,\u001b[49m\n\u001b[1;32m    358\u001b[0m \u001b[43m                          \u001b[49m\u001b[38;5;241;43m*\u001b[39;49m\u001b[38;5;241;43m*\u001b[39;49m\u001b[38;5;28;43mself\u001b[39;49m\u001b[38;5;241;43m.\u001b[39;49m\u001b[43moptimization_parameters\u001b[49m\u001b[43m)\u001b[49m\n\u001b[1;32m    359\u001b[0m \u001b[38;5;28mself\u001b[39m\u001b[38;5;241m.\u001b[39m_ls_results_hist\u001b[38;5;241m.\u001b[39mappend(ls_result)\n\u001b[1;32m    361\u001b[0m parameters \u001b[38;5;241m=\u001b[39m ls_result\u001b[38;5;241m.\u001b[39mx\n",
      "File \u001b[0;32m/Applications/anaconda3/envs/fuzzy-volatility/lib/python3.9/site-packages/scipy/optimize/_lsq/least_squares.py:928\u001b[0m, in \u001b[0;36mleast_squares\u001b[0;34m(fun, x0, jac, bounds, method, ftol, xtol, gtol, x_scale, loss, f_scale, diff_step, tr_solver, tr_options, jac_sparsity, max_nfev, verbose, args, kwargs)\u001b[0m\n\u001b[1;32m    924\u001b[0m     result \u001b[38;5;241m=\u001b[39m call_minpack(fun_wrapped, x0, jac_wrapped, ftol, xtol, gtol,\n\u001b[1;32m    925\u001b[0m                           max_nfev, x_scale, diff_step)\n\u001b[1;32m    927\u001b[0m \u001b[38;5;28;01melif\u001b[39;00m method \u001b[38;5;241m==\u001b[39m \u001b[38;5;124m'\u001b[39m\u001b[38;5;124mtrf\u001b[39m\u001b[38;5;124m'\u001b[39m:\n\u001b[0;32m--> 928\u001b[0m     result \u001b[38;5;241m=\u001b[39m \u001b[43mtrf\u001b[49m\u001b[43m(\u001b[49m\u001b[43mfun_wrapped\u001b[49m\u001b[43m,\u001b[49m\u001b[43m \u001b[49m\u001b[43mjac_wrapped\u001b[49m\u001b[43m,\u001b[49m\u001b[43m \u001b[49m\u001b[43mx0\u001b[49m\u001b[43m,\u001b[49m\u001b[43m \u001b[49m\u001b[43mf0\u001b[49m\u001b[43m,\u001b[49m\u001b[43m \u001b[49m\u001b[43mJ0\u001b[49m\u001b[43m,\u001b[49m\u001b[43m \u001b[49m\u001b[43mlb\u001b[49m\u001b[43m,\u001b[49m\u001b[43m \u001b[49m\u001b[43mub\u001b[49m\u001b[43m,\u001b[49m\u001b[43m \u001b[49m\u001b[43mftol\u001b[49m\u001b[43m,\u001b[49m\u001b[43m \u001b[49m\u001b[43mxtol\u001b[49m\u001b[43m,\u001b[49m\n\u001b[1;32m    929\u001b[0m \u001b[43m                 \u001b[49m\u001b[43mgtol\u001b[49m\u001b[43m,\u001b[49m\u001b[43m \u001b[49m\u001b[43mmax_nfev\u001b[49m\u001b[43m,\u001b[49m\u001b[43m \u001b[49m\u001b[43mx_scale\u001b[49m\u001b[43m,\u001b[49m\u001b[43m \u001b[49m\u001b[43mloss_function\u001b[49m\u001b[43m,\u001b[49m\u001b[43m \u001b[49m\u001b[43mtr_solver\u001b[49m\u001b[43m,\u001b[49m\n\u001b[1;32m    930\u001b[0m \u001b[43m                 \u001b[49m\u001b[43mtr_options\u001b[49m\u001b[38;5;241;43m.\u001b[39;49m\u001b[43mcopy\u001b[49m\u001b[43m(\u001b[49m\u001b[43m)\u001b[49m\u001b[43m,\u001b[49m\u001b[43m \u001b[49m\u001b[43mverbose\u001b[49m\u001b[43m)\u001b[49m\n\u001b[1;32m    932\u001b[0m \u001b[38;5;28;01melif\u001b[39;00m method \u001b[38;5;241m==\u001b[39m \u001b[38;5;124m'\u001b[39m\u001b[38;5;124mdogbox\u001b[39m\u001b[38;5;124m'\u001b[39m:\n\u001b[1;32m    933\u001b[0m     \u001b[38;5;28;01mif\u001b[39;00m tr_solver \u001b[38;5;241m==\u001b[39m \u001b[38;5;124m'\u001b[39m\u001b[38;5;124mlsmr\u001b[39m\u001b[38;5;124m'\u001b[39m \u001b[38;5;129;01mand\u001b[39;00m \u001b[38;5;124m'\u001b[39m\u001b[38;5;124mregularize\u001b[39m\u001b[38;5;124m'\u001b[39m \u001b[38;5;129;01min\u001b[39;00m tr_options:\n",
      "File \u001b[0;32m/Applications/anaconda3/envs/fuzzy-volatility/lib/python3.9/site-packages/scipy/optimize/_lsq/trf.py:123\u001b[0m, in \u001b[0;36mtrf\u001b[0;34m(fun, jac, x0, f0, J0, lb, ub, ftol, xtol, gtol, max_nfev, x_scale, loss_function, tr_solver, tr_options, verbose)\u001b[0m\n\u001b[1;32m    119\u001b[0m     \u001b[38;5;28;01mreturn\u001b[39;00m trf_no_bounds(\n\u001b[1;32m    120\u001b[0m         fun, jac, x0, f0, J0, ftol, xtol, gtol, max_nfev, x_scale,\n\u001b[1;32m    121\u001b[0m         loss_function, tr_solver, tr_options, verbose)\n\u001b[1;32m    122\u001b[0m \u001b[38;5;28;01melse\u001b[39;00m:\n\u001b[0;32m--> 123\u001b[0m     \u001b[38;5;28;01mreturn\u001b[39;00m \u001b[43mtrf_bounds\u001b[49m\u001b[43m(\u001b[49m\n\u001b[1;32m    124\u001b[0m \u001b[43m        \u001b[49m\u001b[43mfun\u001b[49m\u001b[43m,\u001b[49m\u001b[43m \u001b[49m\u001b[43mjac\u001b[49m\u001b[43m,\u001b[49m\u001b[43m \u001b[49m\u001b[43mx0\u001b[49m\u001b[43m,\u001b[49m\u001b[43m \u001b[49m\u001b[43mf0\u001b[49m\u001b[43m,\u001b[49m\u001b[43m \u001b[49m\u001b[43mJ0\u001b[49m\u001b[43m,\u001b[49m\u001b[43m \u001b[49m\u001b[43mlb\u001b[49m\u001b[43m,\u001b[49m\u001b[43m \u001b[49m\u001b[43mub\u001b[49m\u001b[43m,\u001b[49m\u001b[43m \u001b[49m\u001b[43mftol\u001b[49m\u001b[43m,\u001b[49m\u001b[43m \u001b[49m\u001b[43mxtol\u001b[49m\u001b[43m,\u001b[49m\u001b[43m \u001b[49m\u001b[43mgtol\u001b[49m\u001b[43m,\u001b[49m\u001b[43m \u001b[49m\u001b[43mmax_nfev\u001b[49m\u001b[43m,\u001b[49m\u001b[43m \u001b[49m\u001b[43mx_scale\u001b[49m\u001b[43m,\u001b[49m\n\u001b[1;32m    125\u001b[0m \u001b[43m        \u001b[49m\u001b[43mloss_function\u001b[49m\u001b[43m,\u001b[49m\u001b[43m \u001b[49m\u001b[43mtr_solver\u001b[49m\u001b[43m,\u001b[49m\u001b[43m \u001b[49m\u001b[43mtr_options\u001b[49m\u001b[43m,\u001b[49m\u001b[43m \u001b[49m\u001b[43mverbose\u001b[49m\u001b[43m)\u001b[49m\n",
      "File \u001b[0;32m/Applications/anaconda3/envs/fuzzy-volatility/lib/python3.9/site-packages/scipy/optimize/_lsq/trf.py:374\u001b[0m, in \u001b[0;36mtrf_bounds\u001b[0;34m(fun, jac, x0, f0, J0, lb, ub, ftol, xtol, gtol, max_nfev, x_scale, loss_function, tr_solver, tr_options, verbose)\u001b[0m\n\u001b[1;32m    370\u001b[0m f_true \u001b[38;5;241m=\u001b[39m f\u001b[38;5;241m.\u001b[39mcopy()\n\u001b[1;32m    372\u001b[0m cost \u001b[38;5;241m=\u001b[39m cost_new\n\u001b[0;32m--> 374\u001b[0m J \u001b[38;5;241m=\u001b[39m \u001b[43mjac\u001b[49m\u001b[43m(\u001b[49m\u001b[43mx\u001b[49m\u001b[43m,\u001b[49m\u001b[43m \u001b[49m\u001b[43mf\u001b[49m\u001b[43m)\u001b[49m\n\u001b[1;32m    375\u001b[0m njev \u001b[38;5;241m+\u001b[39m\u001b[38;5;241m=\u001b[39m \u001b[38;5;241m1\u001b[39m\n\u001b[1;32m    377\u001b[0m \u001b[38;5;28;01mif\u001b[39;00m loss_function \u001b[38;5;129;01mis\u001b[39;00m \u001b[38;5;129;01mnot\u001b[39;00m \u001b[38;5;28;01mNone\u001b[39;00m:\n",
      "File \u001b[0;32m/Applications/anaconda3/envs/fuzzy-volatility/lib/python3.9/site-packages/scipy/optimize/_lsq/least_squares.py:886\u001b[0m, in \u001b[0;36mleast_squares.<locals>.jac_wrapped\u001b[0;34m(x, f)\u001b[0m\n\u001b[1;32m    885\u001b[0m \u001b[38;5;28;01mdef\u001b[39;00m \u001b[38;5;21mjac_wrapped\u001b[39m(x, f):\n\u001b[0;32m--> 886\u001b[0m     J \u001b[38;5;241m=\u001b[39m \u001b[43mapprox_derivative\u001b[49m\u001b[43m(\u001b[49m\u001b[43mfun\u001b[49m\u001b[43m,\u001b[49m\u001b[43m \u001b[49m\u001b[43mx\u001b[49m\u001b[43m,\u001b[49m\u001b[43m \u001b[49m\u001b[43mrel_step\u001b[49m\u001b[38;5;241;43m=\u001b[39;49m\u001b[43mdiff_step\u001b[49m\u001b[43m,\u001b[49m\u001b[43m \u001b[49m\u001b[43mmethod\u001b[49m\u001b[38;5;241;43m=\u001b[39;49m\u001b[43mjac\u001b[49m\u001b[43m,\u001b[49m\n\u001b[1;32m    887\u001b[0m \u001b[43m                          \u001b[49m\u001b[43mf0\u001b[49m\u001b[38;5;241;43m=\u001b[39;49m\u001b[43mf\u001b[49m\u001b[43m,\u001b[49m\u001b[43m \u001b[49m\u001b[43mbounds\u001b[49m\u001b[38;5;241;43m=\u001b[39;49m\u001b[43mbounds\u001b[49m\u001b[43m,\u001b[49m\u001b[43m \u001b[49m\u001b[43margs\u001b[49m\u001b[38;5;241;43m=\u001b[39;49m\u001b[43margs\u001b[49m\u001b[43m,\u001b[49m\n\u001b[1;32m    888\u001b[0m \u001b[43m                          \u001b[49m\u001b[43mkwargs\u001b[49m\u001b[38;5;241;43m=\u001b[39;49m\u001b[43mkwargs\u001b[49m\u001b[43m,\u001b[49m\u001b[43m \u001b[49m\u001b[43msparsity\u001b[49m\u001b[38;5;241;43m=\u001b[39;49m\u001b[43mjac_sparsity\u001b[49m\u001b[43m)\u001b[49m\n\u001b[1;32m    889\u001b[0m     \u001b[38;5;28;01mif\u001b[39;00m J\u001b[38;5;241m.\u001b[39mndim \u001b[38;5;241m!=\u001b[39m \u001b[38;5;241m2\u001b[39m:  \u001b[38;5;66;03m# J is guaranteed not sparse.\u001b[39;00m\n\u001b[1;32m    890\u001b[0m         J \u001b[38;5;241m=\u001b[39m np\u001b[38;5;241m.\u001b[39matleast_2d(J)\n",
      "File \u001b[0;32m/Applications/anaconda3/envs/fuzzy-volatility/lib/python3.9/site-packages/scipy/optimize/_numdiff.py:486\u001b[0m, in \u001b[0;36mapprox_derivative\u001b[0;34m(fun, x0, method, rel_step, abs_step, f0, bounds, sparsity, as_linear_operator, args, kwargs)\u001b[0m\n\u001b[1;32m    483\u001b[0m     use_one_sided \u001b[38;5;241m=\u001b[39m \u001b[38;5;28;01mFalse\u001b[39;00m\n\u001b[1;32m    485\u001b[0m \u001b[38;5;28;01mif\u001b[39;00m sparsity \u001b[38;5;129;01mis\u001b[39;00m \u001b[38;5;28;01mNone\u001b[39;00m:\n\u001b[0;32m--> 486\u001b[0m     \u001b[38;5;28;01mreturn\u001b[39;00m \u001b[43m_dense_difference\u001b[49m\u001b[43m(\u001b[49m\u001b[43mfun_wrapped\u001b[49m\u001b[43m,\u001b[49m\u001b[43m \u001b[49m\u001b[43mx0\u001b[49m\u001b[43m,\u001b[49m\u001b[43m \u001b[49m\u001b[43mf0\u001b[49m\u001b[43m,\u001b[49m\u001b[43m \u001b[49m\u001b[43mh\u001b[49m\u001b[43m,\u001b[49m\n\u001b[1;32m    487\u001b[0m \u001b[43m                             \u001b[49m\u001b[43muse_one_sided\u001b[49m\u001b[43m,\u001b[49m\u001b[43m \u001b[49m\u001b[43mmethod\u001b[49m\u001b[43m)\u001b[49m\n\u001b[1;32m    488\u001b[0m \u001b[38;5;28;01melse\u001b[39;00m:\n\u001b[1;32m    489\u001b[0m     \u001b[38;5;28;01mif\u001b[39;00m \u001b[38;5;129;01mnot\u001b[39;00m issparse(sparsity) \u001b[38;5;129;01mand\u001b[39;00m \u001b[38;5;28mlen\u001b[39m(sparsity) \u001b[38;5;241m==\u001b[39m \u001b[38;5;241m2\u001b[39m:\n",
      "File \u001b[0;32m/Applications/anaconda3/envs/fuzzy-volatility/lib/python3.9/site-packages/scipy/optimize/_numdiff.py:557\u001b[0m, in \u001b[0;36m_dense_difference\u001b[0;34m(fun, x0, f0, h, use_one_sided, method)\u001b[0m\n\u001b[1;32m    555\u001b[0m     x \u001b[38;5;241m=\u001b[39m x0 \u001b[38;5;241m+\u001b[39m h_vecs[i]\n\u001b[1;32m    556\u001b[0m     dx \u001b[38;5;241m=\u001b[39m x[i] \u001b[38;5;241m-\u001b[39m x0[i]  \u001b[38;5;66;03m# Recompute dx as exactly representable number.\u001b[39;00m\n\u001b[0;32m--> 557\u001b[0m     df \u001b[38;5;241m=\u001b[39m \u001b[43mfun\u001b[49m\u001b[43m(\u001b[49m\u001b[43mx\u001b[49m\u001b[43m)\u001b[49m \u001b[38;5;241m-\u001b[39m f0\n\u001b[1;32m    558\u001b[0m \u001b[38;5;28;01melif\u001b[39;00m method \u001b[38;5;241m==\u001b[39m \u001b[38;5;124m'\u001b[39m\u001b[38;5;124m3-point\u001b[39m\u001b[38;5;124m'\u001b[39m \u001b[38;5;129;01mand\u001b[39;00m use_one_sided[i]:\n\u001b[1;32m    559\u001b[0m     x1 \u001b[38;5;241m=\u001b[39m x0 \u001b[38;5;241m+\u001b[39m h_vecs[i]\n",
      "File \u001b[0;32m/Applications/anaconda3/envs/fuzzy-volatility/lib/python3.9/site-packages/scipy/optimize/_numdiff.py:437\u001b[0m, in \u001b[0;36mapprox_derivative.<locals>.fun_wrapped\u001b[0;34m(x)\u001b[0m\n\u001b[1;32m    436\u001b[0m \u001b[38;5;28;01mdef\u001b[39;00m \u001b[38;5;21mfun_wrapped\u001b[39m(x):\n\u001b[0;32m--> 437\u001b[0m     f \u001b[38;5;241m=\u001b[39m np\u001b[38;5;241m.\u001b[39matleast_1d(\u001b[43mfun\u001b[49m\u001b[43m(\u001b[49m\u001b[43mx\u001b[49m\u001b[43m,\u001b[49m\u001b[43m \u001b[49m\u001b[38;5;241;43m*\u001b[39;49m\u001b[43margs\u001b[49m\u001b[43m,\u001b[49m\u001b[43m \u001b[49m\u001b[38;5;241;43m*\u001b[39;49m\u001b[38;5;241;43m*\u001b[39;49m\u001b[43mkwargs\u001b[49m\u001b[43m)\u001b[49m)\n\u001b[1;32m    438\u001b[0m     \u001b[38;5;28;01mif\u001b[39;00m f\u001b[38;5;241m.\u001b[39mndim \u001b[38;5;241m>\u001b[39m \u001b[38;5;241m1\u001b[39m:\n\u001b[1;32m    439\u001b[0m         \u001b[38;5;28;01mraise\u001b[39;00m \u001b[38;5;167;01mRuntimeError\u001b[39;00m(\u001b[38;5;124m\"\u001b[39m\u001b[38;5;124m`fun` return value has \u001b[39m\u001b[38;5;124m\"\u001b[39m\n\u001b[1;32m    440\u001b[0m                            \u001b[38;5;124m\"\u001b[39m\u001b[38;5;124mmore than 1 dimension.\u001b[39m\u001b[38;5;124m\"\u001b[39m)\n",
      "File \u001b[0;32m~/Documents/Study postgraduate/Thesis/fuzzy-volatility-modeling/model.py:198\u001b[0m, in \u001b[0;36mFuzzyVolatilityModel._calc_residuals\u001b[0;34m(self, _parameters)\u001b[0m\n\u001b[1;32m    195\u001b[0m \u001b[38;5;28;01mdef\u001b[39;00m \u001b[38;5;21m_calc_residuals\u001b[39m(\u001b[38;5;28mself\u001b[39m, _parameters):\n\u001b[1;32m    196\u001b[0m     alpha_0, alpha, beta \u001b[38;5;241m=\u001b[39m unpack_1d_parameters(_parameters, p\u001b[38;5;241m=\u001b[39m\u001b[38;5;28mself\u001b[39m\u001b[38;5;241m.\u001b[39mp, q\u001b[38;5;241m=\u001b[39m\u001b[38;5;28mself\u001b[39m\u001b[38;5;241m.\u001b[39mq, n_clusters\u001b[38;5;241m=\u001b[39m\u001b[38;5;28mself\u001b[39m\u001b[38;5;241m.\u001b[39mn_clusters)\n\u001b[0;32m--> 198\u001b[0m     h \u001b[38;5;241m=\u001b[39m \u001b[43mcalc_cond_var_fuzzy\u001b[49m\u001b[43m(\u001b[49m\u001b[43malpha_0\u001b[49m\u001b[43m,\u001b[49m\u001b[43m \u001b[49m\u001b[43malpha\u001b[49m\u001b[43m,\u001b[49m\u001b[43m \u001b[49m\u001b[43mbeta\u001b[49m\u001b[43m,\u001b[49m\u001b[43m \u001b[49m\u001b[38;5;28;43mself\u001b[39;49m\u001b[38;5;241;43m.\u001b[39;49m\u001b[43mtrain_data\u001b[49m\u001b[43m[\u001b[49m\u001b[38;5;28;43mself\u001b[39;49m\u001b[38;5;241;43m.\u001b[39;49m\u001b[43m_fitting_slice\u001b[49m\u001b[43m]\u001b[49m\u001b[43m \u001b[49m\u001b[38;5;241;43m*\u001b[39;49m\u001b[38;5;241;43m*\u001b[39;49m\u001b[43m \u001b[49m\u001b[38;5;241;43m2\u001b[39;49m\u001b[43m,\u001b[49m\u001b[43m \u001b[49m\u001b[38;5;28;43mself\u001b[39;49m\u001b[38;5;241;43m.\u001b[39;49m\u001b[43mfirst_h_current\u001b[49m\u001b[43m,\u001b[49m\n\u001b[1;32m    199\u001b[0m \u001b[43m                            \u001b[49m\u001b[43mweights\u001b[49m\u001b[38;5;241;43m=\u001b[39;49m\u001b[38;5;28;43mself\u001b[39;49m\u001b[38;5;241;43m.\u001b[39;49m\u001b[43mmembership_degrees_current\u001b[49m\u001b[43m)\u001b[49m\n\u001b[1;32m    201\u001b[0m     residuals \u001b[38;5;241m=\u001b[39m \u001b[38;5;28mself\u001b[39m\u001b[38;5;241m.\u001b[39mtrain_data[\u001b[38;5;28mself\u001b[39m\u001b[38;5;241m.\u001b[39m_fitting_slice][\u001b[38;5;28mself\u001b[39m\u001b[38;5;241m.\u001b[39mstarting_index:] \u001b[38;5;241m*\u001b[39m\u001b[38;5;241m*\u001b[39m \u001b[38;5;241m2\u001b[39m \u001b[38;5;241m-\u001b[39m h[\u001b[38;5;28mself\u001b[39m\u001b[38;5;241m.\u001b[39mstarting_index:\u001b[38;5;241m-\u001b[39m\u001b[38;5;241m1\u001b[39m]\n\u001b[1;32m    202\u001b[0m     \u001b[38;5;28mself\u001b[39m\u001b[38;5;241m.\u001b[39mlogger\u001b[38;5;241m.\u001b[39mdebug(\u001b[38;5;124mf\u001b[39m\u001b[38;5;124m'\u001b[39m\u001b[38;5;124mresiduals =\u001b[39m\u001b[38;5;130;01m\\n\u001b[39;00m\u001b[38;5;132;01m{\u001b[39;00mresiduals\u001b[38;5;132;01m}\u001b[39;00m\u001b[38;5;124m'\u001b[39m)\n",
      "File \u001b[0;32m~/Documents/Study postgraduate/Thesis/fuzzy-volatility-modeling/local_models/garch.py:64\u001b[0m, in \u001b[0;36mcalc_cond_var_fuzzy\u001b[0;34m(alpha_0, alpha, beta, y_squared, first_h, weights)\u001b[0m\n\u001b[1;32m     63\u001b[0m \u001b[38;5;28;01mdef\u001b[39;00m \u001b[38;5;21mcalc_cond_var_fuzzy\u001b[39m(alpha_0, alpha, beta, y_squared, first_h, weights) \u001b[38;5;241m-\u001b[39m\u001b[38;5;241m>\u001b[39m array:\n\u001b[0;32m---> 64\u001b[0m     \u001b[38;5;28;01mreturn\u001b[39;00m \u001b[43m_calc_cond_var\u001b[49m\u001b[43m(\u001b[49m\u001b[43malpha_0\u001b[49m\u001b[43m,\u001b[49m\u001b[43m \u001b[49m\u001b[43malpha\u001b[49m\u001b[43m,\u001b[49m\u001b[43m \u001b[49m\u001b[43mbeta\u001b[49m\u001b[43m,\u001b[49m\u001b[43m \u001b[49m\u001b[43my_squared\u001b[49m\u001b[43m,\u001b[49m\u001b[43m \u001b[49m\u001b[43mfirst_h\u001b[49m\u001b[43m,\u001b[49m\n\u001b[1;32m     65\u001b[0m \u001b[43m                          \u001b[49m\u001b[43mweights\u001b[49m\u001b[38;5;241;43m=\u001b[39;49m\u001b[43mweights\u001b[49m\u001b[43m,\u001b[49m\n\u001b[1;32m     66\u001b[0m \u001b[43m                          \u001b[49m\u001b[43mcalc_ht_function\u001b[49m\u001b[38;5;241;43m=\u001b[39;49m\u001b[43mcalc_fuzzy_ht\u001b[49m\u001b[43m)\u001b[49m\n",
      "File \u001b[0;32m~/Documents/Study postgraduate/Thesis/fuzzy-volatility-modeling/local_models/garch.py:48\u001b[0m, in \u001b[0;36m_calc_cond_var\u001b[0;34m(alpha_0, alpha, beta, y_squared, first_h, calc_ht_function, **kwargs)\u001b[0m\n\u001b[1;32m     46\u001b[0m y_slc \u001b[38;5;241m=\u001b[39m \u001b[38;5;28mslice\u001b[39m(i \u001b[38;5;241m-\u001b[39m q, i)\n\u001b[1;32m     47\u001b[0m h_slc \u001b[38;5;241m=\u001b[39m \u001b[38;5;28mslice\u001b[39m(i \u001b[38;5;241m-\u001b[39m p, i)\n\u001b[0;32m---> 48\u001b[0m h_t \u001b[38;5;241m=\u001b[39m \u001b[43mcalc_ht_function\u001b[49m\u001b[43m(\u001b[49m\u001b[43malpha_0\u001b[49m\u001b[43m,\u001b[49m\u001b[43m \u001b[49m\u001b[43malpha\u001b[49m\u001b[43m,\u001b[49m\u001b[43m \u001b[49m\u001b[43mbeta\u001b[49m\u001b[43m,\u001b[49m\u001b[43m \u001b[49m\u001b[43my_squared\u001b[49m\u001b[43m[\u001b[49m\u001b[43my_slc\u001b[49m\u001b[43m]\u001b[49m\u001b[43m,\u001b[49m\u001b[43m \u001b[49m\u001b[43mh\u001b[49m\u001b[43m[\u001b[49m\u001b[43mh_slc\u001b[49m\u001b[43m]\u001b[49m\u001b[43m,\u001b[49m\u001b[43m \u001b[49m\u001b[38;5;241;43m*\u001b[39;49m\u001b[38;5;241;43m*\u001b[39;49m\u001b[43mkwargs\u001b[49m\u001b[43m)\u001b[49m\n\u001b[1;32m     49\u001b[0m h\u001b[38;5;241m.\u001b[39mappend(h_t)\n\u001b[1;32m     50\u001b[0m logger\u001b[38;5;241m.\u001b[39mdebug(\u001b[38;5;124mf\u001b[39m\u001b[38;5;124m'\u001b[39m\u001b[38;5;124mNew iteration; i = \u001b[39m\u001b[38;5;132;01m{\u001b[39;00mi\u001b[38;5;132;01m}\u001b[39;00m\u001b[38;5;124m: h_t = \u001b[39m\u001b[38;5;132;01m{\u001b[39;00mh_t\u001b[38;5;132;01m}\u001b[39;00m\u001b[38;5;124m, y_slc = \u001b[39m\u001b[38;5;132;01m{\u001b[39;00my_slc\u001b[38;5;132;01m}\u001b[39;00m\u001b[38;5;124m, h_slc = \u001b[39m\u001b[38;5;132;01m{\u001b[39;00mh_slc\u001b[38;5;132;01m}\u001b[39;00m\u001b[38;5;124m, \u001b[39m\u001b[38;5;124m'\u001b[39m\n\u001b[1;32m     51\u001b[0m              \u001b[38;5;124mf\u001b[39m\u001b[38;5;124m'\u001b[39m\u001b[38;5;124mh[h_slc] = \u001b[39m\u001b[38;5;132;01m{\u001b[39;00mh[h_slc]\u001b[38;5;132;01m}\u001b[39;00m\u001b[38;5;124m, y_squared[y_slc] =\u001b[39m\u001b[38;5;130;01m\\n\u001b[39;00m\u001b[38;5;132;01m{\u001b[39;00my_squared[y_slc]\u001b[38;5;132;01m}\u001b[39;00m\u001b[38;5;124m'\u001b[39m)\n",
      "File \u001b[0;32m~/Documents/Study postgraduate/Thesis/fuzzy-volatility-modeling/local_models/garch.py:14\u001b[0m, in \u001b[0;36mcalc_fuzzy_ht\u001b[0;34m(alpha_0, alpha, beta, y_squared, h, weights)\u001b[0m\n\u001b[1;32m     11\u001b[0m \u001b[38;5;28;01mdef\u001b[39;00m \u001b[38;5;21mcalc_fuzzy_ht\u001b[39m(alpha_0, alpha, beta, y_squared, h, weights):\n\u001b[1;32m     12\u001b[0m     n_clusters \u001b[38;5;241m=\u001b[39m weights\u001b[38;5;241m.\u001b[39mshape[\u001b[38;5;241m0\u001b[39m]\n\u001b[0;32m---> 14\u001b[0m     outputs \u001b[38;5;241m=\u001b[39m [\n\u001b[1;32m     15\u001b[0m         calc_ht(alpha_0[j], alpha[:, j], beta[:, j], y_squared, h)\n\u001b[1;32m     16\u001b[0m         \u001b[38;5;28;01mfor\u001b[39;00m j \u001b[38;5;129;01min\u001b[39;00m \u001b[38;5;28mrange\u001b[39m(n_clusters)\n\u001b[1;32m     17\u001b[0m     ]\n\u001b[1;32m     18\u001b[0m     outputs \u001b[38;5;241m=\u001b[39m array(outputs)\n\u001b[1;32m     20\u001b[0m     result \u001b[38;5;241m=\u001b[39m combine_rules_outputs(outputs, weights)\n",
      "File \u001b[0;32m~/Documents/Study postgraduate/Thesis/fuzzy-volatility-modeling/local_models/garch.py:15\u001b[0m, in \u001b[0;36m<listcomp>\u001b[0;34m(.0)\u001b[0m\n\u001b[1;32m     11\u001b[0m \u001b[38;5;28;01mdef\u001b[39;00m \u001b[38;5;21mcalc_fuzzy_ht\u001b[39m(alpha_0, alpha, beta, y_squared, h, weights):\n\u001b[1;32m     12\u001b[0m     n_clusters \u001b[38;5;241m=\u001b[39m weights\u001b[38;5;241m.\u001b[39mshape[\u001b[38;5;241m0\u001b[39m]\n\u001b[1;32m     14\u001b[0m     outputs \u001b[38;5;241m=\u001b[39m [\n\u001b[0;32m---> 15\u001b[0m         \u001b[43mcalc_ht\u001b[49m\u001b[43m(\u001b[49m\u001b[43malpha_0\u001b[49m\u001b[43m[\u001b[49m\u001b[43mj\u001b[49m\u001b[43m]\u001b[49m\u001b[43m,\u001b[49m\u001b[43m \u001b[49m\u001b[43malpha\u001b[49m\u001b[43m[\u001b[49m\u001b[43m:\u001b[49m\u001b[43m,\u001b[49m\u001b[43m \u001b[49m\u001b[43mj\u001b[49m\u001b[43m]\u001b[49m\u001b[43m,\u001b[49m\u001b[43m \u001b[49m\u001b[43mbeta\u001b[49m\u001b[43m[\u001b[49m\u001b[43m:\u001b[49m\u001b[43m,\u001b[49m\u001b[43m \u001b[49m\u001b[43mj\u001b[49m\u001b[43m]\u001b[49m\u001b[43m,\u001b[49m\u001b[43m \u001b[49m\u001b[43my_squared\u001b[49m\u001b[43m,\u001b[49m\u001b[43m \u001b[49m\u001b[43mh\u001b[49m\u001b[43m)\u001b[49m\n\u001b[1;32m     16\u001b[0m         \u001b[38;5;28;01mfor\u001b[39;00m j \u001b[38;5;129;01min\u001b[39;00m \u001b[38;5;28mrange\u001b[39m(n_clusters)\n\u001b[1;32m     17\u001b[0m     ]\n\u001b[1;32m     18\u001b[0m     outputs \u001b[38;5;241m=\u001b[39m array(outputs)\n\u001b[1;32m     20\u001b[0m     result \u001b[38;5;241m=\u001b[39m combine_rules_outputs(outputs, weights)\n",
      "File \u001b[0;32m~/Documents/Study postgraduate/Thesis/fuzzy-volatility-modeling/local_models/garch.py:7\u001b[0m, in \u001b[0;36mcalc_ht\u001b[0;34m(alpha_0, alpha, beta, y_squared, h)\u001b[0m\n\u001b[1;32m      6\u001b[0m \u001b[38;5;28;01mdef\u001b[39;00m \u001b[38;5;21mcalc_ht\u001b[39m(alpha_0, alpha, beta, y_squared, h):\n\u001b[0;32m----> 7\u001b[0m     res \u001b[38;5;241m=\u001b[39m alpha_0 \u001b[38;5;241m+\u001b[39m (\u001b[43malpha\u001b[49m\u001b[43m \u001b[49m\u001b[38;5;241;43m*\u001b[39;49m\u001b[43m \u001b[49m\u001b[43my_squared\u001b[49m)\u001b[38;5;241m.\u001b[39msum() \u001b[38;5;241m+\u001b[39m (beta \u001b[38;5;241m*\u001b[39m h)\u001b[38;5;241m.\u001b[39msum()\n\u001b[1;32m      8\u001b[0m     \u001b[38;5;28;01mreturn\u001b[39;00m res\n",
      "File \u001b[0;32m/Applications/anaconda3/envs/fuzzy-volatility/lib/python3.9/site-packages/pandas/core/generic.py:2032\u001b[0m, in \u001b[0;36mNDFrame.__array_ufunc__\u001b[0;34m(self, ufunc, method, *inputs, **kwargs)\u001b[0m\n\u001b[1;32m   2029\u001b[0m \u001b[38;5;28;01mdef\u001b[39;00m \u001b[38;5;21m__array_ufunc__\u001b[39m(\n\u001b[1;32m   2030\u001b[0m     \u001b[38;5;28mself\u001b[39m, ufunc: np\u001b[38;5;241m.\u001b[39mufunc, method: \u001b[38;5;28mstr\u001b[39m, \u001b[38;5;241m*\u001b[39minputs: Any, \u001b[38;5;241m*\u001b[39m\u001b[38;5;241m*\u001b[39mkwargs: Any\n\u001b[1;32m   2031\u001b[0m ):\n\u001b[0;32m-> 2032\u001b[0m     \u001b[38;5;28;01mreturn\u001b[39;00m \u001b[43marraylike\u001b[49m\u001b[38;5;241;43m.\u001b[39;49m\u001b[43marray_ufunc\u001b[49m\u001b[43m(\u001b[49m\u001b[38;5;28;43mself\u001b[39;49m\u001b[43m,\u001b[49m\u001b[43m \u001b[49m\u001b[43mufunc\u001b[49m\u001b[43m,\u001b[49m\u001b[43m \u001b[49m\u001b[43mmethod\u001b[49m\u001b[43m,\u001b[49m\u001b[43m \u001b[49m\u001b[38;5;241;43m*\u001b[39;49m\u001b[43minputs\u001b[49m\u001b[43m,\u001b[49m\u001b[43m \u001b[49m\u001b[38;5;241;43m*\u001b[39;49m\u001b[38;5;241;43m*\u001b[39;49m\u001b[43mkwargs\u001b[49m\u001b[43m)\u001b[49m\n",
      "File \u001b[0;32m/Applications/anaconda3/envs/fuzzy-volatility/lib/python3.9/site-packages/pandas/core/arraylike.py:253\u001b[0m, in \u001b[0;36marray_ufunc\u001b[0;34m(self, ufunc, method, *inputs, **kwargs)\u001b[0m\n\u001b[1;32m    250\u001b[0m     \u001b[38;5;28;01mreturn\u001b[39;00m result\n\u001b[1;32m    252\u001b[0m \u001b[38;5;66;03m# for binary ops, use our custom dunder methods\u001b[39;00m\n\u001b[0;32m--> 253\u001b[0m result \u001b[38;5;241m=\u001b[39m \u001b[43mmaybe_dispatch_ufunc_to_dunder_op\u001b[49m\u001b[43m(\u001b[49m\u001b[38;5;28;43mself\u001b[39;49m\u001b[43m,\u001b[49m\u001b[43m \u001b[49m\u001b[43mufunc\u001b[49m\u001b[43m,\u001b[49m\u001b[43m \u001b[49m\u001b[43mmethod\u001b[49m\u001b[43m,\u001b[49m\u001b[43m \u001b[49m\u001b[38;5;241;43m*\u001b[39;49m\u001b[43minputs\u001b[49m\u001b[43m,\u001b[49m\u001b[43m \u001b[49m\u001b[38;5;241;43m*\u001b[39;49m\u001b[38;5;241;43m*\u001b[39;49m\u001b[43mkwargs\u001b[49m\u001b[43m)\u001b[49m\n\u001b[1;32m    254\u001b[0m \u001b[38;5;28;01mif\u001b[39;00m result \u001b[38;5;129;01mis\u001b[39;00m \u001b[38;5;129;01mnot\u001b[39;00m \u001b[38;5;28mNotImplemented\u001b[39m:\n\u001b[1;32m    255\u001b[0m     \u001b[38;5;28;01mreturn\u001b[39;00m result\n",
      "File \u001b[0;32m/Applications/anaconda3/envs/fuzzy-volatility/lib/python3.9/site-packages/pandas/_libs/ops_dispatch.pyx:91\u001b[0m, in \u001b[0;36mpandas._libs.ops_dispatch.maybe_dispatch_ufunc_to_dunder_op\u001b[0;34m()\u001b[0m\n",
      "File \u001b[0;32m/Applications/anaconda3/envs/fuzzy-volatility/lib/python3.9/site-packages/pandas/core/ops/common.py:69\u001b[0m, in \u001b[0;36m_unpack_zerodim_and_defer.<locals>.new_method\u001b[0;34m(self, other)\u001b[0m\n\u001b[1;32m     65\u001b[0m             \u001b[38;5;28;01mreturn\u001b[39;00m \u001b[38;5;28mNotImplemented\u001b[39m\n\u001b[1;32m     67\u001b[0m other \u001b[38;5;241m=\u001b[39m item_from_zerodim(other)\n\u001b[0;32m---> 69\u001b[0m \u001b[38;5;28;01mreturn\u001b[39;00m \u001b[43mmethod\u001b[49m\u001b[43m(\u001b[49m\u001b[38;5;28;43mself\u001b[39;49m\u001b[43m,\u001b[49m\u001b[43m \u001b[49m\u001b[43mother\u001b[49m\u001b[43m)\u001b[49m\n",
      "File \u001b[0;32m/Applications/anaconda3/envs/fuzzy-volatility/lib/python3.9/site-packages/pandas/core/arraylike.py:112\u001b[0m, in \u001b[0;36mOpsMixin.__rmul__\u001b[0;34m(self, other)\u001b[0m\n\u001b[1;32m    110\u001b[0m \u001b[38;5;129m@unpack_zerodim_and_defer\u001b[39m(\u001b[38;5;124m\"\u001b[39m\u001b[38;5;124m__rmul__\u001b[39m\u001b[38;5;124m\"\u001b[39m)\n\u001b[1;32m    111\u001b[0m \u001b[38;5;28;01mdef\u001b[39;00m \u001b[38;5;21m__rmul__\u001b[39m(\u001b[38;5;28mself\u001b[39m, other):\n\u001b[0;32m--> 112\u001b[0m     \u001b[38;5;28;01mreturn\u001b[39;00m \u001b[38;5;28;43mself\u001b[39;49m\u001b[38;5;241;43m.\u001b[39;49m\u001b[43m_arith_method\u001b[49m\u001b[43m(\u001b[49m\u001b[43mother\u001b[49m\u001b[43m,\u001b[49m\u001b[43m \u001b[49m\u001b[43mroperator\u001b[49m\u001b[38;5;241;43m.\u001b[39;49m\u001b[43mrmul\u001b[49m\u001b[43m)\u001b[49m\n",
      "File \u001b[0;32m/Applications/anaconda3/envs/fuzzy-volatility/lib/python3.9/site-packages/pandas/core/series.py:5528\u001b[0m, in \u001b[0;36mSeries._arith_method\u001b[0;34m(self, other, op)\u001b[0m\n\u001b[1;32m   5525\u001b[0m \u001b[38;5;28;01mwith\u001b[39;00m np\u001b[38;5;241m.\u001b[39merrstate(\u001b[38;5;28mall\u001b[39m\u001b[38;5;241m=\u001b[39m\u001b[38;5;124m\"\u001b[39m\u001b[38;5;124mignore\u001b[39m\u001b[38;5;124m\"\u001b[39m):\n\u001b[1;32m   5526\u001b[0m     result \u001b[38;5;241m=\u001b[39m ops\u001b[38;5;241m.\u001b[39marithmetic_op(lvalues, rvalues, op)\n\u001b[0;32m-> 5528\u001b[0m \u001b[38;5;28;01mreturn\u001b[39;00m \u001b[38;5;28;43mself\u001b[39;49m\u001b[38;5;241;43m.\u001b[39;49m\u001b[43m_construct_result\u001b[49m\u001b[43m(\u001b[49m\u001b[43mresult\u001b[49m\u001b[43m,\u001b[49m\u001b[43m \u001b[49m\u001b[43mname\u001b[49m\u001b[38;5;241;43m=\u001b[39;49m\u001b[43mres_name\u001b[49m\u001b[43m)\u001b[49m\n",
      "File \u001b[0;32m/Applications/anaconda3/envs/fuzzy-volatility/lib/python3.9/site-packages/pandas/core/series.py:2946\u001b[0m, in \u001b[0;36mSeries._construct_result\u001b[0;34m(self, result, name)\u001b[0m\n\u001b[1;32m   2943\u001b[0m \u001b[38;5;66;03m# We do not pass dtype to ensure that the Series constructor\u001b[39;00m\n\u001b[1;32m   2944\u001b[0m \u001b[38;5;66;03m#  does inference in the case where `result` has object-dtype.\u001b[39;00m\n\u001b[1;32m   2945\u001b[0m out \u001b[38;5;241m=\u001b[39m \u001b[38;5;28mself\u001b[39m\u001b[38;5;241m.\u001b[39m_constructor(result, index\u001b[38;5;241m=\u001b[39m\u001b[38;5;28mself\u001b[39m\u001b[38;5;241m.\u001b[39mindex)\n\u001b[0;32m-> 2946\u001b[0m out \u001b[38;5;241m=\u001b[39m \u001b[43mout\u001b[49m\u001b[38;5;241;43m.\u001b[39;49m\u001b[43m__finalize__\u001b[49m\u001b[43m(\u001b[49m\u001b[38;5;28;43mself\u001b[39;49m\u001b[43m)\u001b[49m\n\u001b[1;32m   2948\u001b[0m \u001b[38;5;66;03m# Set the result's name after __finalize__ is called because __finalize__\u001b[39;00m\n\u001b[1;32m   2949\u001b[0m \u001b[38;5;66;03m#  would set it back to self.name\u001b[39;00m\n\u001b[1;32m   2950\u001b[0m out\u001b[38;5;241m.\u001b[39mname \u001b[38;5;241m=\u001b[39m name\n",
      "File \u001b[0;32m/Applications/anaconda3/envs/fuzzy-volatility/lib/python3.9/site-packages/pandas/core/generic.py:5463\u001b[0m, in \u001b[0;36mNDFrame.__finalize__\u001b[0;34m(self, other, method, **kwargs)\u001b[0m\n\u001b[1;32m   5461\u001b[0m     \u001b[38;5;28;01mfor\u001b[39;00m name \u001b[38;5;129;01min\u001b[39;00m \u001b[38;5;28mset\u001b[39m(\u001b[38;5;28mself\u001b[39m\u001b[38;5;241m.\u001b[39m_metadata) \u001b[38;5;241m&\u001b[39m \u001b[38;5;28mset\u001b[39m(other\u001b[38;5;241m.\u001b[39m_metadata):\n\u001b[1;32m   5462\u001b[0m         \u001b[38;5;28;01massert\u001b[39;00m \u001b[38;5;28misinstance\u001b[39m(name, \u001b[38;5;28mstr\u001b[39m)\n\u001b[0;32m-> 5463\u001b[0m         \u001b[38;5;28;43mobject\u001b[39;49m\u001b[38;5;241;43m.\u001b[39;49m\u001b[38;5;21;43m__setattr__\u001b[39;49m\u001b[43m(\u001b[49m\u001b[38;5;28;43mself\u001b[39;49m\u001b[43m,\u001b[49m\u001b[43m \u001b[49m\u001b[43mname\u001b[49m\u001b[43m,\u001b[49m\u001b[43m \u001b[49m\u001b[38;5;28;43mgetattr\u001b[39;49m\u001b[43m(\u001b[49m\u001b[43mother\u001b[49m\u001b[43m,\u001b[49m\u001b[43m \u001b[49m\u001b[43mname\u001b[49m\u001b[43m,\u001b[49m\u001b[43m \u001b[49m\u001b[38;5;28;43;01mNone\u001b[39;49;00m\u001b[43m)\u001b[49m\u001b[43m)\u001b[49m\n\u001b[1;32m   5465\u001b[0m \u001b[38;5;28;01mif\u001b[39;00m method \u001b[38;5;241m==\u001b[39m \u001b[38;5;124m\"\u001b[39m\u001b[38;5;124mconcat\u001b[39m\u001b[38;5;124m\"\u001b[39m:\n\u001b[1;32m   5466\u001b[0m     allows_duplicate_labels \u001b[38;5;241m=\u001b[39m \u001b[38;5;28mall\u001b[39m(\n\u001b[1;32m   5467\u001b[0m         x\u001b[38;5;241m.\u001b[39mflags\u001b[38;5;241m.\u001b[39mallows_duplicate_labels \u001b[38;5;28;01mfor\u001b[39;00m x \u001b[38;5;129;01min\u001b[39;00m other\u001b[38;5;241m.\u001b[39mobjs\n\u001b[1;32m   5468\u001b[0m     )\n",
      "File \u001b[0;32m/Applications/anaconda3/envs/fuzzy-volatility/lib/python3.9/site-packages/pandas/core/series.py:629\u001b[0m, in \u001b[0;36mSeries.name\u001b[0;34m(self, value)\u001b[0m\n\u001b[1;32m    627\u001b[0m \u001b[38;5;129m@name\u001b[39m\u001b[38;5;241m.\u001b[39msetter\n\u001b[1;32m    628\u001b[0m \u001b[38;5;28;01mdef\u001b[39;00m \u001b[38;5;21mname\u001b[39m(\u001b[38;5;28mself\u001b[39m, value: Hashable) \u001b[38;5;241m-\u001b[39m\u001b[38;5;241m>\u001b[39m \u001b[38;5;28;01mNone\u001b[39;00m:\n\u001b[0;32m--> 629\u001b[0m     \u001b[43mvalidate_all_hashable\u001b[49m\u001b[43m(\u001b[49m\u001b[43mvalue\u001b[49m\u001b[43m,\u001b[49m\u001b[43m \u001b[49m\u001b[43merror_name\u001b[49m\u001b[38;5;241;43m=\u001b[39;49m\u001b[38;5;124;43mf\u001b[39;49m\u001b[38;5;124;43m\"\u001b[39;49m\u001b[38;5;132;43;01m{\u001b[39;49;00m\u001b[38;5;28;43mtype\u001b[39;49m\u001b[43m(\u001b[49m\u001b[38;5;28;43mself\u001b[39;49m\u001b[43m)\u001b[49m\u001b[38;5;241;43m.\u001b[39;49m\u001b[38;5;18;43m__name__\u001b[39;49m\u001b[38;5;132;43;01m}\u001b[39;49;00m\u001b[38;5;124;43m.name\u001b[39;49m\u001b[38;5;124;43m\"\u001b[39;49m\u001b[43m)\u001b[49m\n\u001b[1;32m    630\u001b[0m     \u001b[38;5;28mobject\u001b[39m\u001b[38;5;241m.\u001b[39m\u001b[38;5;21m__setattr__\u001b[39m(\u001b[38;5;28mself\u001b[39m, \u001b[38;5;124m\"\u001b[39m\u001b[38;5;124m_name\u001b[39m\u001b[38;5;124m\"\u001b[39m, value)\n",
      "File \u001b[0;32m/Applications/anaconda3/envs/fuzzy-volatility/lib/python3.9/site-packages/pandas/core/dtypes/common.py:1737\u001b[0m, in \u001b[0;36mvalidate_all_hashable\u001b[0;34m(error_name, *args)\u001b[0m\n\u001b[1;32m   1718\u001b[0m \u001b[38;5;28;01mdef\u001b[39;00m \u001b[38;5;21mvalidate_all_hashable\u001b[39m(\u001b[38;5;241m*\u001b[39margs, error_name: Optional[\u001b[38;5;28mstr\u001b[39m] \u001b[38;5;241m=\u001b[39m \u001b[38;5;28;01mNone\u001b[39;00m) \u001b[38;5;241m-\u001b[39m\u001b[38;5;241m>\u001b[39m \u001b[38;5;28;01mNone\u001b[39;00m:\n\u001b[1;32m   1719\u001b[0m     \u001b[38;5;124;03m\"\"\"\u001b[39;00m\n\u001b[1;32m   1720\u001b[0m \u001b[38;5;124;03m    Return None if all args are hashable, else raise a TypeError.\u001b[39;00m\n\u001b[1;32m   1721\u001b[0m \n\u001b[0;32m   (...)\u001b[0m\n\u001b[1;32m   1735\u001b[0m \u001b[38;5;124;03m    None\u001b[39;00m\n\u001b[1;32m   1736\u001b[0m \u001b[38;5;124;03m    \"\"\"\u001b[39;00m\n\u001b[0;32m-> 1737\u001b[0m     \u001b[38;5;28;01mif\u001b[39;00m \u001b[38;5;129;01mnot\u001b[39;00m \u001b[38;5;28;43mall\u001b[39;49m\u001b[43m(\u001b[49m\u001b[43mis_hashable\u001b[49m\u001b[43m(\u001b[49m\u001b[43marg\u001b[49m\u001b[43m)\u001b[49m\u001b[43m \u001b[49m\u001b[38;5;28;43;01mfor\u001b[39;49;00m\u001b[43m \u001b[49m\u001b[43marg\u001b[49m\u001b[43m \u001b[49m\u001b[38;5;129;43;01min\u001b[39;49;00m\u001b[43m \u001b[49m\u001b[43margs\u001b[49m\u001b[43m)\u001b[49m:\n\u001b[1;32m   1738\u001b[0m         \u001b[38;5;28;01mif\u001b[39;00m error_name:\n\u001b[1;32m   1739\u001b[0m             \u001b[38;5;28;01mraise\u001b[39;00m \u001b[38;5;167;01mTypeError\u001b[39;00m(\u001b[38;5;124mf\u001b[39m\u001b[38;5;124m\"\u001b[39m\u001b[38;5;132;01m{\u001b[39;00merror_name\u001b[38;5;132;01m}\u001b[39;00m\u001b[38;5;124m must be a hashable type\u001b[39m\u001b[38;5;124m\"\u001b[39m)\n",
      "File \u001b[0;32m/Applications/anaconda3/envs/fuzzy-volatility/lib/python3.9/site-packages/pandas/core/dtypes/common.py:1737\u001b[0m, in \u001b[0;36m<genexpr>\u001b[0;34m(.0)\u001b[0m\n\u001b[1;32m   1718\u001b[0m \u001b[38;5;28;01mdef\u001b[39;00m \u001b[38;5;21mvalidate_all_hashable\u001b[39m(\u001b[38;5;241m*\u001b[39margs, error_name: Optional[\u001b[38;5;28mstr\u001b[39m] \u001b[38;5;241m=\u001b[39m \u001b[38;5;28;01mNone\u001b[39;00m) \u001b[38;5;241m-\u001b[39m\u001b[38;5;241m>\u001b[39m \u001b[38;5;28;01mNone\u001b[39;00m:\n\u001b[1;32m   1719\u001b[0m     \u001b[38;5;124;03m\"\"\"\u001b[39;00m\n\u001b[1;32m   1720\u001b[0m \u001b[38;5;124;03m    Return None if all args are hashable, else raise a TypeError.\u001b[39;00m\n\u001b[1;32m   1721\u001b[0m \n\u001b[0;32m   (...)\u001b[0m\n\u001b[1;32m   1735\u001b[0m \u001b[38;5;124;03m    None\u001b[39;00m\n\u001b[1;32m   1736\u001b[0m \u001b[38;5;124;03m    \"\"\"\u001b[39;00m\n\u001b[0;32m-> 1737\u001b[0m     \u001b[38;5;28;01mif\u001b[39;00m \u001b[38;5;129;01mnot\u001b[39;00m \u001b[38;5;28mall\u001b[39m(is_hashable(arg) \u001b[38;5;28;01mfor\u001b[39;00m arg \u001b[38;5;129;01min\u001b[39;00m args):\n\u001b[1;32m   1738\u001b[0m         \u001b[38;5;28;01mif\u001b[39;00m error_name:\n\u001b[1;32m   1739\u001b[0m             \u001b[38;5;28;01mraise\u001b[39;00m \u001b[38;5;167;01mTypeError\u001b[39;00m(\u001b[38;5;124mf\u001b[39m\u001b[38;5;124m\"\u001b[39m\u001b[38;5;132;01m{\u001b[39;00merror_name\u001b[38;5;132;01m}\u001b[39;00m\u001b[38;5;124m must be a hashable type\u001b[39m\u001b[38;5;124m\"\u001b[39m)\n",
      "\u001b[0;31mKeyboardInterrupt\u001b[0m: "
     ]
    }
   ],
   "source": [
    "%%time\n",
    "\n",
    "fvm.feed_daily_data(test, data_to_cluster=data_to_cluster_test)"
   ]
  },
  {
   "cell_type": "code",
   "execution_count": 62,
   "id": "fd15a752",
   "metadata": {},
   "outputs": [
    {
     "data": {
      "image/png": "[encoded data removed]",
      "text/plain": [
       "<Figure size 640x480 with 1 Axes>"
      ]
     },
     "metadata": {},
     "output_type": "display_data"
    }
   ],
   "source": [
    "plt.plot(fvm._n_clusters_hist)\n",
    "plt.grid()"
   ]
  },
  {
   "cell_type": "code",
   "execution_count": 63,
   "id": "0bd0cac3",
   "metadata": {},
   "outputs": [],
   "source": [
    "ant_hist = fvm.show_antecedent_hist()"
   ]
  },
  {
   "cell_type": "code",
   "execution_count": 65,
   "id": "649e3c2f",
   "metadata": {},
   "outputs": [
    {
     "data": {
      "text/html": [
       "<div>\n",
       "<style scoped>\n",
       "    .dataframe tbody tr th:only-of-type {\n",
       "        vertical-align: middle;\n",
       "    }\n",
       "\n",
       "    .dataframe tbody tr th {\n",
       "        vertical-align: top;\n",
       "    }\n",
       "\n",
       "    .dataframe thead th {\n",
       "        text-align: right;\n",
       "    }\n",
       "</style>\n",
       "<table border=\"1\" class=\"dataframe\">\n",
       "  <thead>\n",
       "    <tr style=\"text-align: right;\">\n",
       "      <th></th>\n",
       "      <th>n_clusters</th>\n",
       "      <th>variance</th>\n",
       "      <th>sigma</th>\n",
       "      <th>potentials_focal</th>\n",
       "      <th>delta_min</th>\n",
       "      <th>x_dim</th>\n",
       "      <th>centers</th>\n",
       "      <th>beta</th>\n",
       "      <th>focals</th>\n",
       "    </tr>\n",
       "  </thead>\n",
       "  <tbody>\n",
       "    <tr>\n",
       "      <th>0</th>\n",
       "      <td>1</td>\n",
       "      <td>2</td>\n",
       "      <td>0.000600</td>\n",
       "      <td>[0.9999978718283026]</td>\n",
       "      <td>0.25</td>\n",
       "      <td>1</td>\n",
       "      <td>[[0.024497586556524727]]</td>\n",
       "      <td>[0.024497586556524727]</td>\n",
       "      <td>[[0.024497586556524727]]</td>\n",
       "    </tr>\n",
       "    <tr>\n",
       "      <th>1</th>\n",
       "      <td>1</td>\n",
       "      <td>2</td>\n",
       "      <td>0.001274</td>\n",
       "      <td>[0.999773069330191]</td>\n",
       "      <td>0.25</td>\n",
       "      <td>1</td>\n",
       "      <td>[[0.024497586556524727]]</td>\n",
       "      <td>[0.050454000116696]</td>\n",
       "      <td>[[0.024497586556524727]]</td>\n",
       "    </tr>\n",
       "    <tr>\n",
       "      <th>2</th>\n",
       "      <td>1</td>\n",
       "      <td>2</td>\n",
       "      <td>0.001296</td>\n",
       "      <td>[0.9998459715310997]</td>\n",
       "      <td>0.25</td>\n",
       "      <td>1</td>\n",
       "      <td>[[0.024497586556524727]]</td>\n",
       "      <td>[0.05515397507988553]</td>\n",
       "      <td>[[0.024497586556524727]]</td>\n",
       "    </tr>\n",
       "    <tr>\n",
       "      <th>3</th>\n",
       "      <td>1</td>\n",
       "      <td>2</td>\n",
       "      <td>0.001353</td>\n",
       "      <td>[0.9998820635331843]</td>\n",
       "      <td>0.25</td>\n",
       "      <td>1</td>\n",
       "      <td>[[0.024497586556524727]]</td>\n",
       "      <td>[0.06271615791802472]</td>\n",
       "      <td>[[0.024497586556524727]]</td>\n",
       "    </tr>\n",
       "    <tr>\n",
       "      <th>4</th>\n",
       "      <td>2</td>\n",
       "      <td>2</td>\n",
       "      <td>0.001373</td>\n",
       "      <td>[0.9998961089821595, 0.9999016070230451]</td>\n",
       "      <td>0.25</td>\n",
       "      <td>1</td>\n",
       "      <td>[[0.024497586556524727], [0.011363621370187172]]</td>\n",
       "      <td>[0.06717271394459755]</td>\n",
       "      <td>[[0.024497586556524727], [0.011363621370187172]]</td>\n",
       "    </tr>\n",
       "    <tr>\n",
       "      <th>5</th>\n",
       "      <td>2</td>\n",
       "      <td>2</td>\n",
       "      <td>0.001502</td>\n",
       "      <td>[0.9999130243148501, 0.999917606166409]</td>\n",
       "      <td>0.25</td>\n",
       "      <td>1</td>\n",
       "      <td>[[0.024497586556524727], [0.011363621370187172]]</td>\n",
       "      <td>[0.07853633531478472]</td>\n",
       "      <td>[[0.024497586556524727], [0.011363621370187172]]</td>\n",
       "    </tr>\n",
       "    <tr>\n",
       "      <th>6</th>\n",
       "      <td>2</td>\n",
       "      <td>2</td>\n",
       "      <td>0.001599</td>\n",
       "      <td>[0.9999179211003683, 0.9999218484375992]</td>\n",
       "      <td>0.25</td>\n",
       "      <td>1</td>\n",
       "      <td>[[0.024497586556524727], [0.011363621370187172]]</td>\n",
       "      <td>[0.08835385127504529]</td>\n",
       "      <td>[[0.024497586556524727], [0.011363621370187172]]</td>\n",
       "    </tr>\n",
       "    <tr>\n",
       "      <th>7</th>\n",
       "      <td>2</td>\n",
       "      <td>2</td>\n",
       "      <td>0.001605</td>\n",
       "      <td>[0.999924929166214, 0.9999283656327734]</td>\n",
       "      <td>0.25</td>\n",
       "      <td>1</td>\n",
       "      <td>[[0.024497586556524727], [0.011363621370187172]]</td>\n",
       "      <td>[0.09091189366987354]</td>\n",
       "      <td>[[0.024497586556524727], [0.011363621370187172]]</td>\n",
       "    </tr>\n",
       "    <tr>\n",
       "      <th>8</th>\n",
       "      <td>2</td>\n",
       "      <td>2</td>\n",
       "      <td>0.001612</td>\n",
       "      <td>[0.9999300294204974, 0.999933084087434]</td>\n",
       "      <td>0.25</td>\n",
       "      <td>1</td>\n",
       "      <td>[[0.024497586556524727], [0.011363621370187172]]</td>\n",
       "      <td>[0.0883697106971283]</td>\n",
       "      <td>[[0.024497586556524727], [0.011363621370187172]]</td>\n",
       "    </tr>\n",
       "    <tr>\n",
       "      <th>9</th>\n",
       "      <td>2</td>\n",
       "      <td>2</td>\n",
       "      <td>0.001620</td>\n",
       "      <td>[0.999929624201468, 0.9999323733986428]</td>\n",
       "      <td>0.25</td>\n",
       "      <td>1</td>\n",
       "      <td>[[0.024497586556524727], [0.011363621370187172]]</td>\n",
       "      <td>[0.09122822423795242]</td>\n",
       "      <td>[[0.024497586556524727], [0.011363621370187172]]</td>\n",
       "    </tr>\n",
       "    <tr>\n",
       "      <th>10</th>\n",
       "      <td>2</td>\n",
       "      <td>2</td>\n",
       "      <td>0.001751</td>\n",
       "      <td>[0.999906509965245, 0.9999090091192347]</td>\n",
       "      <td>0.25</td>\n",
       "      <td>1</td>\n",
       "      <td>[[0.024497586556524727], [0.011363621370187172]]</td>\n",
       "      <td>[0.10269070400320829]</td>\n",
       "      <td>[[0.024497586556524727], [0.011363621370187172]]</td>\n",
       "    </tr>\n",
       "    <tr>\n",
       "      <th>11</th>\n",
       "      <td>3</td>\n",
       "      <td>2</td>\n",
       "      <td>0.001794</td>\n",
       "      <td>[0.9998878105342245, 0.9998901013392205, 0.9999040336468314]</td>\n",
       "      <td>0.25</td>\n",
       "      <td>1</td>\n",
       "      <td>[[0.024497586556524727], [0.011363621370187172], [0.011274447054389618]]</td>\n",
       "      <td>[0.09613433199559994]</td>\n",
       "      <td>[[0.024497586556524727], [0.011363621370187172], [0.011274447054389618]]</td>\n",
       "    </tr>\n",
       "    <tr>\n",
       "      <th>12</th>\n",
       "      <td>3</td>\n",
       "      <td>2</td>\n",
       "      <td>0.001921</td>\n",
       "      <td>[0.9998844144268312, 0.9998865290013212, 0.9998993894872824]</td>\n",
       "      <td>0.25</td>\n",
       "      <td>1</td>\n",
       "      <td>[[0.024497586556524727], [0.011363621370187172], [0.011274447054389618]]</td>\n",
       "      <td>[0.10740877904998955]</td>\n",
       "      <td>[[0.024497586556524727], [0.011363621370187172], [0.011274447054389618]]</td>\n",
       "    </tr>\n",
       "    <tr>\n",
       "      <th>13</th>\n",
       "      <td>4</td>\n",
       "      <td>2</td>\n",
       "      <td>0.001923</td>\n",
       "      <td>[0.9998882312771413, 0.9998901948252905, 0.9999021367817047, 0.9999193249350976]</td>\n",
       "      <td>0.25</td>\n",
       "      <td>1</td>\n",
       "      <td>[[0.024497586556524727], [0.011363621370187172], [0.011274447054389618], [0.0066535704512181906]]</td>\n",
       "      <td>[0.10617876659478961]</td>\n",
       "      <td>[[0.024497586556524727], [0.011363621370187172], [0.011274447054389618], [0.0066535704512181906]]</td>\n",
       "    </tr>\n",
       "    <tr>\n",
       "      <th>14</th>\n",
       "      <td>4</td>\n",
       "      <td>2</td>\n",
       "      <td>0.001967</td>\n",
       "      <td>[0.9998915663394485, 0.9998933989963732, 0.9999045448849199, 0.9999205872203066]</td>\n",
       "      <td>0.25</td>\n",
       "      <td>1</td>\n",
       "      <td>[[0.024497586556524727], [0.011363621370187172], [0.011274447054389618], [0.0066535704512181906]]</td>\n",
       "      <td>[0.1128323370460078]</td>\n",
       "      <td>[[0.024497586556524727], [0.011363621370187172], [0.011274447054389618], [0.0066535704512181906]]</td>\n",
       "    </tr>\n",
       "    <tr>\n",
       "      <th>15</th>\n",
       "      <td>4</td>\n",
       "      <td>2</td>\n",
       "      <td>0.002178</td>\n",
       "      <td>[0.9998287189971448, 0.9998304368968399, 0.9998408848441517, 0.999855922603507]</td>\n",
       "      <td>0.25</td>\n",
       "      <td>1</td>\n",
       "      <td>[[0.024497586556524727], [0.011363621370187172], [0.011274447054389618], [0.0066535704512181906]]</td>\n",
       "      <td>[0.1273436593541456]</td>\n",
       "      <td>[[0.024497586556524727], [0.011363621370187172], [0.011274447054389618], [0.0066535704512181906]]</td>\n",
       "    </tr>\n",
       "    <tr>\n",
       "      <th>16</th>\n",
       "      <td>4</td>\n",
       "      <td>2</td>\n",
       "      <td>0.002534</td>\n",
       "      <td>[0.999832696417819, 0.9998343132772914, 0.9998441467096719, 0.9998582999747727]</td>\n",
       "      <td>0.25</td>\n",
       "      <td>1</td>\n",
       "      <td>[[0.024497586556524727], [0.011363621370187172], [0.011274447054389618], [0.0066535704512181906]]</td>\n",
       "      <td>[0.10847408554296621]</td>\n",
       "      <td>[[0.024497586556524727], [0.011363621370187172], [0.011274447054389618], [0.0066535704512181906]]</td>\n",
       "    </tr>\n",
       "    <tr>\n",
       "      <th>17</th>\n",
       "      <td>4</td>\n",
       "      <td>2</td>\n",
       "      <td>0.002609</td>\n",
       "      <td>[0.9998382610175921, 0.9998397880683986, 0.9998490752956133, 0.999862442389479]</td>\n",
       "      <td>0.25</td>\n",
       "      <td>1</td>\n",
       "      <td>[[0.024497586556524727], [0.011363621370187172], [0.011274447054389618], [0.0066535704512181906]]</td>\n",
       "      <td>[0.09978642186705508]</td>\n",
       "      <td>[[0.024497586556524727], [0.011363621370187172], [0.011274447054389618], [0.0066535704512181906]]</td>\n",
       "    </tr>\n",
       "    <tr>\n",
       "      <th>18</th>\n",
       "      <td>5</td>\n",
       "      <td>2</td>\n",
       "      <td>0.002609</td>\n",
       "      <td>[0.999844685956546, 0.9998461326547341, 0.9998549311878784, 0.9998675948899141, 0.999889656351375]</td>\n",
       "      <td>0.25</td>\n",
       "      <td>1</td>\n",
       "      <td>[[0.024497586556524727], [0.011363621370187172], [0.011274447054389618], [0.0066535704512181906], [0.005803011631274049]]</td>\n",
       "      <td>[0.0992924030137177]</td>\n",
       "      <td>[[0.024497586556524727], [0.011363621370187172], [0.011274447054389618], [0.0066535704512181906], [0.005803011631274049]]</td>\n",
       "    </tr>\n",
       "    <tr>\n",
       "      <th>19</th>\n",
       "      <td>5</td>\n",
       "      <td>2</td>\n",
       "      <td>0.002643</td>\n",
       "      <td>[0.9998521287148423, 0.999853503098483, 0.9998618618245253, 0.9998738925006248, 0.9998948511299046]</td>\n",
       "      <td>0.25</td>\n",
       "      <td>1</td>\n",
       "      <td>[[0.024497586556524727], [0.011363621370187172], [0.011274447054389618], [0.0066535704512181906], [0.005803011631274049]]</td>\n",
       "      <td>[0.10509541464499174]</td>\n",
       "      <td>[[0.024497586556524727], [0.011363621370187172], [0.011274447054389618], [0.0066535704512181906], [0.005803011631274049]]</td>\n",
       "    </tr>\n",
       "    <tr>\n",
       "      <th>20</th>\n",
       "      <td>5</td>\n",
       "      <td>2</td>\n",
       "      <td>0.002713</td>\n",
       "      <td>[0.9998313018098435, 0.9998326106920289, 0.9998405710476462, 0.9998520283398875, 0.9998719880463258]</td>\n",
       "      <td>0.25</td>\n",
       "      <td>1</td>\n",
       "      <td>[[0.024497586556524727], [0.011363621370187172], [0.011274447054389618], [0.0066535704512181906], [0.005803011631274049]]</td>\n",
       "      <td>[0.11343572065382766]</td>\n",
       "      <td>[[0.024497586556524727], [0.011363621370187172], [0.011274447054389618], [0.0066535704512181906], [0.005803011631274049]]</td>\n",
       "    </tr>\n",
       "    <tr>\n",
       "      <th>21</th>\n",
       "      <td>5</td>\n",
       "      <td>2</td>\n",
       "      <td>0.002964</td>\n",
       "      <td>[0.9998354767902413, 0.9998367261881419, 0.9998443247692174, 0.9998552613518699, 0.9998743139048497]</td>\n",
       "      <td>0.25</td>\n",
       "      <td>1</td>\n",
       "      <td>[[0.024497586556524727], [0.011363621370187172], [0.011274447054389618], [0.0066535704512181906], [0.005803011631274049]]</td>\n",
       "      <td>[0.09758105510615461]</td>\n",
       "      <td>[[0.024497586556524727], [0.011363621370187172], [0.011274447054389618], [0.0066535704512181906], [0.005803011631274049]]</td>\n",
       "    </tr>\n",
       "    <tr>\n",
       "      <th>22</th>\n",
       "      <td>5</td>\n",
       "      <td>2</td>\n",
       "      <td>0.003014</td>\n",
       "      <td>[0.9998288390069686, 0.9998300340672884, 0.9998373021755768, 0.9998477631027098, 0.9998659869953826]</td>\n",
       "      <td>0.25</td>\n",
       "      <td>1</td>\n",
       "      <td>[[0.024497586556524727], [0.011363621370187172], [0.011274447054389618], [0.0066535704512181906], [0.005803011631274049]]</td>\n",
       "      <td>[0.0904926014764102]</td>\n",
       "      <td>[[0.024497586556524727], [0.011363621370187172], [0.011274447054389618], [0.0066535704512181906], [0.005803011631274049]]</td>\n",
       "    </tr>\n",
       "    <tr>\n",
       "      <th>23</th>\n",
       "      <td>6</td>\n",
       "      <td>2</td>\n",
       "      <td>0.003634</td>\n",
       "      <td>[0.9997910190628254, 0.9997921642422672, 0.9997991289829719, 0.9998091532682806, 0.999826616470031, 0.9998288469963247]</td>\n",
       "      <td>0.25</td>\n",
       "      <td>1</td>\n",
       "      <td>[[0.024497586556524727], [0.011363621370187172], [0.011274447054389618], [0.0066535704512181906], [0.005803011631274049], [0.007950850297817643]]</td>\n",
       "      <td>[0.06559205760272054]</td>\n",
       "      <td>[[0.024497586556524727], [0.011363621370187172], [0.011274447054389618], [0.0066535704512181906], [0.005803011631274049], [0.007950850297817643]]</td>\n",
       "    </tr>\n",
       "    <tr>\n",
       "      <th>24</th>\n",
       "      <td>6</td>\n",
       "      <td>2</td>\n",
       "      <td>0.003697</td>\n",
       "      <td>[0.9997534015889461, 0.9997545008784329, 0.9997611865239037, 0.9997708091035401, 0.9997875724796222, 0.999789713617437]</td>\n",
       "      <td>0.25</td>\n",
       "      <td>1</td>\n",
       "      <td>[[0.024497586556524727], [0.011363621370187172], [0.011274447054389618], [0.0066535704512181906], [0.005803011631274049], [0.007950850297817643]]</td>\n",
       "      <td>[0.07354290790053818]</td>\n",
       "      <td>[[0.024497586556524727], [0.011363621370187172], [0.011274447054389618], [0.0066535704512181906], [0.005803011631274049], [0.007950850297817643]]</td>\n",
       "    </tr>\n",
       "    <tr>\n",
       "      <th>25</th>\n",
       "      <td>6</td>\n",
       "      <td>2</td>\n",
       "      <td>0.004371</td>\n",
       "      <td>[0.9997618531845458, 0.9997629102114944, 0.9997693388232474, 0.9997785914511371, 0.9997947103225325, 0.9997967691381202]</td>\n",
       "      <td>0.25</td>\n",
       "      <td>1</td>\n",
       "      <td>[[0.024497586556524727], [0.011363621370187172], [0.011274447054389618], [0.0066535704512181906], [0.005803011631274049], [0.007950850297817643]]</td>\n",
       "      <td>[0.04758372934712505]</td>\n",
       "      <td>[[0.024497586556524727], [0.011363621370187172], [0.011274447054389618], [0.0066535704512181906], [0.005803011631274049], [0.007950850297817643]]</td>\n",
       "    </tr>\n",
       "    <tr>\n",
       "      <th>26</th>\n",
       "      <td>6</td>\n",
       "      <td>2</td>\n",
       "      <td>0.004803</td>\n",
       "      <td>[0.9997176006061134, 0.999718618393769, 0.999724808358818, 0.999733717500036, 0.999749237973583, 0.9997512203562534]</td>\n",
       "      <td>0.25</td>\n",
       "      <td>1</td>\n",
       "      <td>[[0.024497586556524727], [0.011363621370187172], [0.011274447054389618], [0.0066535704512181906], [0.005803011631274049], [0.007950850297817643]]</td>\n",
       "      <td>[0.026802503464413888]</td>\n",
       "      <td>[[0.024497586556524727], [0.011363621370187172], [0.011274447054389618], [0.0066535704512181906], [0.005803011631274049], [0.007950850297817643]]</td>\n",
       "    </tr>\n",
       "    <tr>\n",
       "      <th>27</th>\n",
       "      <td>6</td>\n",
       "      <td>2</td>\n",
       "      <td>0.005095</td>\n",
       "      <td>[0.9997276833928648, 0.9997286648507226, 0.9997346338642387, 0.9997432249879764, 0.9997581914352592, 0.9997601030526526]</td>\n",
       "      <td>0.25</td>\n",
       "      <td>1</td>\n",
       "      <td>[[0.024497586556524727], [0.011363621370187172], [0.011274447054389618], [0.0066535704512181906], [0.005803011631274049], [0.007950850297817643]]</td>\n",
       "      <td>[0.043884787229621136]</td>\n",
       "      <td>[[0.024497586556524727], [0.011363621370187172], [0.011274447054389618], [0.0066535704512181906], [0.005803011631274049], [0.007950850297817643]]</td>\n",
       "    </tr>\n",
       "    <tr>\n",
       "      <th>28</th>\n",
       "      <td>6</td>\n",
       "      <td>2</td>\n",
       "      <td>0.005385</td>\n",
       "      <td>[0.9997368544735039, 0.9997378021053415, 0.9997435653949673, 0.9997518604188135, 0.9997663110238849, 0.9997681567532954]</td>\n",
       "      <td>0.25</td>\n",
       "      <td>1</td>\n",
       "      <td>[[0.024497586556524727], [0.011363621370187172], [0.011274447054389618], [0.0066535704512181906], [0.005803011631274049], [0.007950850297817643]]</td>\n",
       "      <td>[0.06090024826334063]</td>\n",
       "      <td>[[0.024497586556524727], [0.011363621370187172], [0.011274447054389618], [0.0066535704512181906], [0.005803011631274049], [0.007950850297817643]]</td>\n",
       "    </tr>\n",
       "    <tr>\n",
       "      <th>29</th>\n",
       "      <td>6</td>\n",
       "      <td>2</td>\n",
       "      <td>0.005595</td>\n",
       "      <td>[0.9997456113045652, 0.9997465273646936, 0.9997520986408407, 0.9997601172985585, 0.9997740864408031, 0.9997758706735426]</td>\n",
       "      <td>0.25</td>\n",
       "      <td>1</td>\n",
       "      <td>[[0.024497586556524727], [0.011363621370187172], [0.011274447054389618], [0.0066535704512181906], [0.005803011631274049], [0.007950850297817643]]</td>\n",
       "      <td>[0.07540832506458842]</td>\n",
       "      <td>[[0.024497586556524727], [0.011363621370187172], [0.011274447054389618], [0.0066535704512181906], [0.005803011631274049], [0.007950850297817643]]</td>\n",
       "    </tr>\n",
       "    <tr>\n",
       "      <th>30</th>\n",
       "      <td>7</td>\n",
       "      <td>2</td>\n",
       "      <td>0.005788</td>\n",
       "      <td>[0.9997482783187873, 0.9997491648332928, 0.9997545564183327, 0.9997623164458191, 0.9997758350239521, 0.999777561706737, 0.9998172559972255]</td>\n",
       "      <td>0.25</td>\n",
       "      <td>1</td>\n",
       "      <td>[[0.024497586556524727], [0.011363621370187172], [0.011274447054389618], [0.0066535704512181906], [0.005803011631274049], [0.007950850297817643], [0.0007919098903680583]]</td>\n",
       "      <td>[0.08930497168724771]</td>\n",
       "      <td>[[0.024497586556524727], [0.011363621370187172], [0.011274447054389618], [0.0066535704512181906], [0.005803011631274049], [0.007950850297817643], [0.0007919098903680583]]</td>\n",
       "    </tr>\n",
       "    <tr>\n",
       "      <th>31</th>\n",
       "      <td>7</td>\n",
       "      <td>2</td>\n",
       "      <td>0.005789</td>\n",
       "      <td>[0.9997555996149113, 0.9997564584383931, 0.9997616816117304, 0.9997691992436891, 0.9997822955410419, 0.999783968286518, 0.9998224225755534]</td>\n",
       "      <td>0.25</td>\n",
       "      <td>1</td>\n",
       "      <td>[[0.024497586556524727], [0.011363621370187172], [0.011274447054389618], [0.0066535704512181906], [0.005803011631274049], [0.007950850297817643], [0.0007919098903680583]]</td>\n",
       "      <td>[0.09009688157761578]</td>\n",
       "      <td>[[0.024497586556524727], [0.011363621370187172], [0.011274447054389618], [0.0066535704512181906], [0.005803011631274049], [0.007950850297817643], [0.0007919098903680583]]</td>\n",
       "    </tr>\n",
       "    <tr>\n",
       "      <th>32</th>\n",
       "      <td>8</td>\n",
       "      <td>2</td>\n",
       "      <td>0.005800</td>\n",
       "      <td>[0.9997611273164205, 0.9997619601241359, 0.9997670250744363, 0.9997743149756297, 0.9997870145404109, 0.9997886366118602, 0.9998259259241847, 0.9998276931007424]</td>\n",
       "      <td>0.25</td>\n",
       "      <td>1</td>\n",
       "      <td>[[0.024497586556524727], [0.011363621370187172], [0.011274447054389618], [0.0066535704512181906], [0.005803011631274049], [0.007950850297817643], [0.0007919098903680583], [0.004493427909287239]]</td>\n",
       "      <td>[0.08671898217658038]</td>\n",
       "      <td>[[0.024497586556524727], [0.011363621370187172], [0.011274447054389618], [0.0066535704512181906], [0.005803011631274049], [0.007950850297817643], [0.0007919098903680583], [0.004493427909287239]]</td>\n",
       "    </tr>\n",
       "    <tr>\n",
       "      <th>33</th>\n",
       "      <td>8</td>\n",
       "      <td>2</td>\n",
       "      <td>0.005820</td>\n",
       "      <td>[0.9997603868282393, 0.9997611951403931, 0.9997661111133114, 0.9997731865911921, 0.9997855126069336, 0.999787086965594, 0.9998232793815389, 0.9998249945731462]</td>\n",
       "      <td>0.25</td>\n",
       "      <td>1</td>\n",
       "      <td>[[0.024497586556524727], [0.011363621370187172], [0.011274447054389618], [0.0066535704512181906], [0.005803011631274049], [0.007950850297817643], [0.0007919098903680583], [0.004493427909287239]]</td>\n",
       "      <td>[0.09121241008586761]</td>\n",
       "      <td>[[0.024497586556524727], [0.011363621370187172], [0.011274447054389618], [0.0066535704512181906], [0.005803011631274049], [0.007950850297817643], [0.0007919098903680583], [0.004493427909287239]]</td>\n",
       "    </tr>\n",
       "    <tr>\n",
       "      <th>34</th>\n",
       "      <td>8</td>\n",
       "      <td>2</td>\n",
       "      <td>0.006251</td>\n",
       "      <td>[0.9997622790750375, 0.9997630642955125, 0.9997678398292476, 0.9997747131729973, 0.999786687049209, 0.999788216429718, 0.9998233748197106, 0.9998250410060798]</td>\n",
       "      <td>0.25</td>\n",
       "      <td>1</td>\n",
       "      <td>[[0.024497586556524727], [0.011363621370187172], [0.011274447054389618], [0.0066535704512181906], [0.005803011631274049], [0.007950850297817643], [0.0007919098903680583], [0.004493427909287239]]</td>\n",
       "      <td>[0.11195755810413448]</td>\n",
       "      <td>[[0.024497586556524727], [0.011363621370187172], [0.011274447054389618], [0.0066535704512181906], [0.005803011631274049], [0.007950850297817643], [0.0007919098903680583], [0.004493427909287239]]</td>\n",
       "    </tr>\n",
       "    <tr>\n",
       "      <th>35</th>\n",
       "      <td>8</td>\n",
       "      <td>2</td>\n",
       "      <td>0.006308</td>\n",
       "      <td>[0.9997658731653709, 0.9997666365796382, 0.9997712794922218, 0.9997779619544613, 0.9997896032947854, 0.9997910902011132, 0.9998252721322782, 0.9998268920417659]</td>\n",
       "      <td>0.25</td>\n",
       "      <td>1</td>\n",
       "      <td>[[0.024497586556524727], [0.011363621370187172], [0.011274447054389618], [0.0066535704512181906], [0.005803011631274049], [0.007950850297817643], [0.0007919098903680583], [0.004493427909287239]]</td>\n",
       "      <td>[0.1195341702300677]</td>\n",
       "      <td>[[0.024497586556524727], [0.011363621370187172], [0.011274447054389618], [0.0066535704512181906], [0.005803011631274049], [0.007950850297817643], [0.0007919098903680583], [0.004493427909287239]]</td>\n",
       "    </tr>\n",
       "    <tr>\n",
       "      <th>36</th>\n",
       "      <td>8</td>\n",
       "      <td>2</td>\n",
       "      <td>0.006632</td>\n",
       "      <td>[0.9997503461445987, 0.9997510889029609, 0.9997556061903508, 0.9997621078404714, 0.9997734341871827, 0.999774880860001, 0.9998081378460402, 0.9998097139201003]</td>\n",
       "      <td>0.25</td>\n",
       "      <td>1</td>\n",
       "      <td>[[0.024497586556524727], [0.011363621370187172], [0.011274447054389618], [0.0066535704512181906], [0.005803011631274049], [0.007950850297817643], [0.0007919098903680583], [0.004493427909287239]]</td>\n",
       "      <td>[0.13751891018669424]</td>\n",
       "      <td>[[0.024497586556524727], [0.011363621370187172], [0.011274447054389618], [0.0066535704512181906], [0.005803011631274049], [0.007950850297817643], [0.0007919098903680583], [0.004493427909287239]]</td>\n",
       "    </tr>\n",
       "    <tr>\n",
       "      <th>37</th>\n",
       "      <td>8</td>\n",
       "      <td>2</td>\n",
       "      <td>0.006741</td>\n",
       "      <td>[0.9997547428071394, 0.9997554660255759, 0.9997598644749733, 0.9997661950818827, 0.9997772234537232, 0.999778632066828, 0.9998110140836785, 0.9998125486908713]</td>\n",
       "      <td>0.25</td>\n",
       "      <td>1</td>\n",
       "      <td>[[0.024497586556524727], [0.011363621370187172], [0.011274447054389618], [0.0066535704512181906], [0.005803011631274049], [0.007950850297817643], [0.0007919098903680583], [0.004493427909287239]]</td>\n",
       "      <td>[0.12706143742668005]</td>\n",
       "      <td>[[0.024497586556524727], [0.011363621370187172], [0.011274447054389618], [0.0066535704512181906], [0.005803011631274049], [0.007950850297817643], [0.0007919098903680583], [0.004493427909287239]]</td>\n",
       "    </tr>\n",
       "    <tr>\n",
       "      <th>38</th>\n",
       "      <td>8</td>\n",
       "      <td>2</td>\n",
       "      <td>0.007123</td>\n",
       "      <td>[0.9997580835506021, 0.9997587882296727, 0.9997630739263157, 0.9997692422485728, 0.9997799879041117, 0.9997813604064724, 0.9998129122612035, 0.9998144075251129]</td>\n",
       "      <td>0.25</td>\n",
       "      <td>1</td>\n",
       "      <td>[[0.024497586556524727], [0.011363621370187172], [0.011274447054389618], [0.0066535704512181906], [0.005803011631274049], [0.007950850297817643], [0.0007919098903680583], [0.004493427909287239]]</td>\n",
       "      <td>[0.10751769456277857]</td>\n",
       "      <td>[[0.024497586556524727], [0.011363621370187172], [0.011274447054389618], [0.0066535704512181906], [0.005803011631274049], [0.007950850297817643], [0.0007919098903680583], [0.004493427909287239]]</td>\n",
       "    </tr>\n",
       "    <tr>\n",
       "      <th>39</th>\n",
       "      <td>8</td>\n",
       "      <td>2</td>\n",
       "      <td>0.007201</td>\n",
       "      <td>[0.9997641010656794, 0.9997647881360323, 0.9997689667399653, 0.9997749809241356, 0.9997854580557481, 0.9997867962601473, 0.999817559628765, 0.9998190175245752]</td>\n",
       "      <td>0.25</td>\n",
       "      <td>1</td>\n",
       "      <td>[[0.024497586556524727], [0.011363621370187172], [0.011274447054389618], [0.0066535704512181906], [0.005803011631274049], [0.007950850297817643], [0.0007919098903680583], [0.004493427909287239]]</td>\n",
       "      <td>[0.0986961187881669]</td>\n",
       "      <td>[[0.024497586556524727], [0.011363621370187172], [0.011274447054389618], [0.0066535704512181906], [0.005803011631274049], [0.007950850297817643], [0.0007919098903680583], [0.004493427909287239]]</td>\n",
       "    </tr>\n",
       "  </tbody>\n",
       "</table>\n",
       "</div>"
      ],
      "text/plain": [
       "    n_clusters  variance     sigma  \\\n",
       "0            1         2  0.000600   \n",
       "1            1         2  0.001274   \n",
       "2            1         2  0.001296   \n",
       "3            1         2  0.001353   \n",
       "4            2         2  0.001373   \n",
       "5            2         2  0.001502   \n",
       "6            2         2  0.001599   \n",
       "7            2         2  0.001605   \n",
       "8            2         2  0.001612   \n",
       "9            2         2  0.001620   \n",
       "10           2         2  0.001751   \n",
       "11           3         2  0.001794   \n",
       "12           3         2  0.001921   \n",
       "13           4         2  0.001923   \n",
       "14           4         2  0.001967   \n",
       "15           4         2  0.002178   \n",
       "16           4         2  0.002534   \n",
       "17           4         2  0.002609   \n",
       "18           5         2  0.002609   \n",
       "19           5         2  0.002643   \n",
       "20           5         2  0.002713   \n",
       "21           5         2  0.002964   \n",
       "22           5         2  0.003014   \n",
       "23           6         2  0.003634   \n",
       "24           6         2  0.003697   \n",
       "25           6         2  0.004371   \n",
       "26           6         2  0.004803   \n",
       "27           6         2  0.005095   \n",
       "28           6         2  0.005385   \n",
       "29           6         2  0.005595   \n",
       "30           7         2  0.005788   \n",
       "31           7         2  0.005789   \n",
       "32           8         2  0.005800   \n",
       "33           8         2  0.005820   \n",
       "34           8         2  0.006251   \n",
       "35           8         2  0.006308   \n",
       "36           8         2  0.006632   \n",
       "37           8         2  0.006741   \n",
       "38           8         2  0.007123   \n",
       "39           8         2  0.007201   \n",
       "\n",
       "                                                                                                                                                    potentials_focal  \\\n",
       "0                                                                                                                                               [0.9999978718283026]   \n",
       "1                                                                                                                                                [0.999773069330191]   \n",
       "2                                                                                                                                               [0.9998459715310997]   \n",
       "3                                                                                                                                               [0.9998820635331843]   \n",
       "4                                                                                                                           [0.9998961089821595, 0.9999016070230451]   \n",
       "5                                                                                                                            [0.9999130243148501, 0.999917606166409]   \n",
       "6                                                                                                                           [0.9999179211003683, 0.9999218484375992]   \n",
       "7                                                                                                                            [0.999924929166214, 0.9999283656327734]   \n",
       "8                                                                                                                            [0.9999300294204974, 0.999933084087434]   \n",
       "9                                                                                                                            [0.999929624201468, 0.9999323733986428]   \n",
       "10                                                                                                                           [0.999906509965245, 0.9999090091192347]   \n",
       "11                                                                                                      [0.9998878105342245, 0.9998901013392205, 0.9999040336468314]   \n",
       "12                                                                                                      [0.9998844144268312, 0.9998865290013212, 0.9998993894872824]   \n",
       "13                                                                                  [0.9998882312771413, 0.9998901948252905, 0.9999021367817047, 0.9999193249350976]   \n",
       "14                                                                                  [0.9998915663394485, 0.9998933989963732, 0.9999045448849199, 0.9999205872203066]   \n",
       "15                                                                                   [0.9998287189971448, 0.9998304368968399, 0.9998408848441517, 0.999855922603507]   \n",
       "16                                                                                   [0.999832696417819, 0.9998343132772914, 0.9998441467096719, 0.9998582999747727]   \n",
       "17                                                                                   [0.9998382610175921, 0.9998397880683986, 0.9998490752956133, 0.999862442389479]   \n",
       "18                                                                [0.999844685956546, 0.9998461326547341, 0.9998549311878784, 0.9998675948899141, 0.999889656351375]   \n",
       "19                                                               [0.9998521287148423, 0.999853503098483, 0.9998618618245253, 0.9998738925006248, 0.9998948511299046]   \n",
       "20                                                              [0.9998313018098435, 0.9998326106920289, 0.9998405710476462, 0.9998520283398875, 0.9998719880463258]   \n",
       "21                                                              [0.9998354767902413, 0.9998367261881419, 0.9998443247692174, 0.9998552613518699, 0.9998743139048497]   \n",
       "22                                                              [0.9998288390069686, 0.9998300340672884, 0.9998373021755768, 0.9998477631027098, 0.9998659869953826]   \n",
       "23                                           [0.9997910190628254, 0.9997921642422672, 0.9997991289829719, 0.9998091532682806, 0.999826616470031, 0.9998288469963247]   \n",
       "24                                           [0.9997534015889461, 0.9997545008784329, 0.9997611865239037, 0.9997708091035401, 0.9997875724796222, 0.999789713617437]   \n",
       "25                                          [0.9997618531845458, 0.9997629102114944, 0.9997693388232474, 0.9997785914511371, 0.9997947103225325, 0.9997967691381202]   \n",
       "26                                              [0.9997176006061134, 0.999718618393769, 0.999724808358818, 0.999733717500036, 0.999749237973583, 0.9997512203562534]   \n",
       "27                                          [0.9997276833928648, 0.9997286648507226, 0.9997346338642387, 0.9997432249879764, 0.9997581914352592, 0.9997601030526526]   \n",
       "28                                          [0.9997368544735039, 0.9997378021053415, 0.9997435653949673, 0.9997518604188135, 0.9997663110238849, 0.9997681567532954]   \n",
       "29                                          [0.9997456113045652, 0.9997465273646936, 0.9997520986408407, 0.9997601172985585, 0.9997740864408031, 0.9997758706735426]   \n",
       "30                       [0.9997482783187873, 0.9997491648332928, 0.9997545564183327, 0.9997623164458191, 0.9997758350239521, 0.999777561706737, 0.9998172559972255]   \n",
       "31                       [0.9997555996149113, 0.9997564584383931, 0.9997616816117304, 0.9997691992436891, 0.9997822955410419, 0.999783968286518, 0.9998224225755534]   \n",
       "32  [0.9997611273164205, 0.9997619601241359, 0.9997670250744363, 0.9997743149756297, 0.9997870145404109, 0.9997886366118602, 0.9998259259241847, 0.9998276931007424]   \n",
       "33   [0.9997603868282393, 0.9997611951403931, 0.9997661111133114, 0.9997731865911921, 0.9997855126069336, 0.999787086965594, 0.9998232793815389, 0.9998249945731462]   \n",
       "34    [0.9997622790750375, 0.9997630642955125, 0.9997678398292476, 0.9997747131729973, 0.999786687049209, 0.999788216429718, 0.9998233748197106, 0.9998250410060798]   \n",
       "35  [0.9997658731653709, 0.9997666365796382, 0.9997712794922218, 0.9997779619544613, 0.9997896032947854, 0.9997910902011132, 0.9998252721322782, 0.9998268920417659]   \n",
       "36   [0.9997503461445987, 0.9997510889029609, 0.9997556061903508, 0.9997621078404714, 0.9997734341871827, 0.999774880860001, 0.9998081378460402, 0.9998097139201003]   \n",
       "37   [0.9997547428071394, 0.9997554660255759, 0.9997598644749733, 0.9997661950818827, 0.9997772234537232, 0.999778632066828, 0.9998110140836785, 0.9998125486908713]   \n",
       "38  [0.9997580835506021, 0.9997587882296727, 0.9997630739263157, 0.9997692422485728, 0.9997799879041117, 0.9997813604064724, 0.9998129122612035, 0.9998144075251129]   \n",
       "39   [0.9997641010656794, 0.9997647881360323, 0.9997689667399653, 0.9997749809241356, 0.9997854580557481, 0.9997867962601473, 0.999817559628765, 0.9998190175245752]   \n",
       "\n",
       "    delta_min  x_dim  \\\n",
       "0        0.25      1   \n",
       "1        0.25      1   \n",
       "2        0.25      1   \n",
       "3        0.25      1   \n",
       "4        0.25      1   \n",
       "5        0.25      1   \n",
       "6        0.25      1   \n",
       "7        0.25      1   \n",
       "8        0.25      1   \n",
       "9        0.25      1   \n",
       "10       0.25      1   \n",
       "11       0.25      1   \n",
       "12       0.25      1   \n",
       "13       0.25      1   \n",
       "14       0.25      1   \n",
       "15       0.25      1   \n",
       "16       0.25      1   \n",
       "17       0.25      1   \n",
       "18       0.25      1   \n",
       "19       0.25      1   \n",
       "20       0.25      1   \n",
       "21       0.25      1   \n",
       "22       0.25      1   \n",
       "23       0.25      1   \n",
       "24       0.25      1   \n",
       "25       0.25      1   \n",
       "26       0.25      1   \n",
       "27       0.25      1   \n",
       "28       0.25      1   \n",
       "29       0.25      1   \n",
       "30       0.25      1   \n",
       "31       0.25      1   \n",
       "32       0.25      1   \n",
       "33       0.25      1   \n",
       "34       0.25      1   \n",
       "35       0.25      1   \n",
       "36       0.25      1   \n",
       "37       0.25      1   \n",
       "38       0.25      1   \n",
       "39       0.25      1   \n",
       "\n",
       "                                                                                                                                                                                               centers  \\\n",
       "0                                                                                                                                                                             [[0.024497586556524727]]   \n",
       "1                                                                                                                                                                             [[0.024497586556524727]]   \n",
       "2                                                                                                                                                                             [[0.024497586556524727]]   \n",
       "3                                                                                                                                                                             [[0.024497586556524727]]   \n",
       "4                                                                                                                                                     [[0.024497586556524727], [0.011363621370187172]]   \n",
       "5                                                                                                                                                     [[0.024497586556524727], [0.011363621370187172]]   \n",
       "6                                                                                                                                                     [[0.024497586556524727], [0.011363621370187172]]   \n",
       "7                                                                                                                                                     [[0.024497586556524727], [0.011363621370187172]]   \n",
       "8                                                                                                                                                     [[0.024497586556524727], [0.011363621370187172]]   \n",
       "9                                                                                                                                                     [[0.024497586556524727], [0.011363621370187172]]   \n",
       "10                                                                                                                                                    [[0.024497586556524727], [0.011363621370187172]]   \n",
       "11                                                                                                                            [[0.024497586556524727], [0.011363621370187172], [0.011274447054389618]]   \n",
       "12                                                                                                                            [[0.024497586556524727], [0.011363621370187172], [0.011274447054389618]]   \n",
       "13                                                                                                   [[0.024497586556524727], [0.011363621370187172], [0.011274447054389618], [0.0066535704512181906]]   \n",
       "14                                                                                                   [[0.024497586556524727], [0.011363621370187172], [0.011274447054389618], [0.0066535704512181906]]   \n",
       "15                                                                                                   [[0.024497586556524727], [0.011363621370187172], [0.011274447054389618], [0.0066535704512181906]]   \n",
       "16                                                                                                   [[0.024497586556524727], [0.011363621370187172], [0.011274447054389618], [0.0066535704512181906]]   \n",
       "17                                                                                                   [[0.024497586556524727], [0.011363621370187172], [0.011274447054389618], [0.0066535704512181906]]   \n",
       "18                                                                           [[0.024497586556524727], [0.011363621370187172], [0.011274447054389618], [0.0066535704512181906], [0.005803011631274049]]   \n",
       "19                                                                           [[0.024497586556524727], [0.011363621370187172], [0.011274447054389618], [0.0066535704512181906], [0.005803011631274049]]   \n",
       "20                                                                           [[0.024497586556524727], [0.011363621370187172], [0.011274447054389618], [0.0066535704512181906], [0.005803011631274049]]   \n",
       "21                                                                           [[0.024497586556524727], [0.011363621370187172], [0.011274447054389618], [0.0066535704512181906], [0.005803011631274049]]   \n",
       "22                                                                           [[0.024497586556524727], [0.011363621370187172], [0.011274447054389618], [0.0066535704512181906], [0.005803011631274049]]   \n",
       "23                                                   [[0.024497586556524727], [0.011363621370187172], [0.011274447054389618], [0.0066535704512181906], [0.005803011631274049], [0.007950850297817643]]   \n",
       "24                                                   [[0.024497586556524727], [0.011363621370187172], [0.011274447054389618], [0.0066535704512181906], [0.005803011631274049], [0.007950850297817643]]   \n",
       "25                                                   [[0.024497586556524727], [0.011363621370187172], [0.011274447054389618], [0.0066535704512181906], [0.005803011631274049], [0.007950850297817643]]   \n",
       "26                                                   [[0.024497586556524727], [0.011363621370187172], [0.011274447054389618], [0.0066535704512181906], [0.005803011631274049], [0.007950850297817643]]   \n",
       "27                                                   [[0.024497586556524727], [0.011363621370187172], [0.011274447054389618], [0.0066535704512181906], [0.005803011631274049], [0.007950850297817643]]   \n",
       "28                                                   [[0.024497586556524727], [0.011363621370187172], [0.011274447054389618], [0.0066535704512181906], [0.005803011631274049], [0.007950850297817643]]   \n",
       "29                                                   [[0.024497586556524727], [0.011363621370187172], [0.011274447054389618], [0.0066535704512181906], [0.005803011631274049], [0.007950850297817643]]   \n",
       "30                          [[0.024497586556524727], [0.011363621370187172], [0.011274447054389618], [0.0066535704512181906], [0.005803011631274049], [0.007950850297817643], [0.0007919098903680583]]   \n",
       "31                          [[0.024497586556524727], [0.011363621370187172], [0.011274447054389618], [0.0066535704512181906], [0.005803011631274049], [0.007950850297817643], [0.0007919098903680583]]   \n",
       "32  [[0.024497586556524727], [0.011363621370187172], [0.011274447054389618], [0.0066535704512181906], [0.005803011631274049], [0.007950850297817643], [0.0007919098903680583], [0.004493427909287239]]   \n",
       "33  [[0.024497586556524727], [0.011363621370187172], [0.011274447054389618], [0.0066535704512181906], [0.005803011631274049], [0.007950850297817643], [0.0007919098903680583], [0.004493427909287239]]   \n",
       "34  [[0.024497586556524727], [0.011363621370187172], [0.011274447054389618], [0.0066535704512181906], [0.005803011631274049], [0.007950850297817643], [0.0007919098903680583], [0.004493427909287239]]   \n",
       "35  [[0.024497586556524727], [0.011363621370187172], [0.011274447054389618], [0.0066535704512181906], [0.005803011631274049], [0.007950850297817643], [0.0007919098903680583], [0.004493427909287239]]   \n",
       "36  [[0.024497586556524727], [0.011363621370187172], [0.011274447054389618], [0.0066535704512181906], [0.005803011631274049], [0.007950850297817643], [0.0007919098903680583], [0.004493427909287239]]   \n",
       "37  [[0.024497586556524727], [0.011363621370187172], [0.011274447054389618], [0.0066535704512181906], [0.005803011631274049], [0.007950850297817643], [0.0007919098903680583], [0.004493427909287239]]   \n",
       "38  [[0.024497586556524727], [0.011363621370187172], [0.011274447054389618], [0.0066535704512181906], [0.005803011631274049], [0.007950850297817643], [0.0007919098903680583], [0.004493427909287239]]   \n",
       "39  [[0.024497586556524727], [0.011363621370187172], [0.011274447054389618], [0.0066535704512181906], [0.005803011631274049], [0.007950850297817643], [0.0007919098903680583], [0.004493427909287239]]   \n",
       "\n",
       "                      beta  \\\n",
       "0   [0.024497586556524727]   \n",
       "1      [0.050454000116696]   \n",
       "2    [0.05515397507988553]   \n",
       "3    [0.06271615791802472]   \n",
       "4    [0.06717271394459755]   \n",
       "5    [0.07853633531478472]   \n",
       "6    [0.08835385127504529]   \n",
       "7    [0.09091189366987354]   \n",
       "8     [0.0883697106971283]   \n",
       "9    [0.09122822423795242]   \n",
       "10   [0.10269070400320829]   \n",
       "11   [0.09613433199559994]   \n",
       "12   [0.10740877904998955]   \n",
       "13   [0.10617876659478961]   \n",
       "14    [0.1128323370460078]   \n",
       "15    [0.1273436593541456]   \n",
       "16   [0.10847408554296621]   \n",
       "17   [0.09978642186705508]   \n",
       "18    [0.0992924030137177]   \n",
       "19   [0.10509541464499174]   \n",
       "20   [0.11343572065382766]   \n",
       "21   [0.09758105510615461]   \n",
       "22    [0.0904926014764102]   \n",
       "23   [0.06559205760272054]   \n",
       "24   [0.07354290790053818]   \n",
       "25   [0.04758372934712505]   \n",
       "26  [0.026802503464413888]   \n",
       "27  [0.043884787229621136]   \n",
       "28   [0.06090024826334063]   \n",
       "29   [0.07540832506458842]   \n",
       "30   [0.08930497168724771]   \n",
       "31   [0.09009688157761578]   \n",
       "32   [0.08671898217658038]   \n",
       "33   [0.09121241008586761]   \n",
       "34   [0.11195755810413448]   \n",
       "35    [0.1195341702300677]   \n",
       "36   [0.13751891018669424]   \n",
       "37   [0.12706143742668005]   \n",
       "38   [0.10751769456277857]   \n",
       "39    [0.0986961187881669]   \n",
       "\n",
       "                                                                                                                                                                                                focals  \n",
       "0                                                                                                                                                                             [[0.024497586556524727]]  \n",
       "1                                                                                                                                                                             [[0.024497586556524727]]  \n",
       "2                                                                                                                                                                             [[0.024497586556524727]]  \n",
       "3                                                                                                                                                                             [[0.024497586556524727]]  \n",
       "4                                                                                                                                                     [[0.024497586556524727], [0.011363621370187172]]  \n",
       "5                                                                                                                                                     [[0.024497586556524727], [0.011363621370187172]]  \n",
       "6                                                                                                                                                     [[0.024497586556524727], [0.011363621370187172]]  \n",
       "7                                                                                                                                                     [[0.024497586556524727], [0.011363621370187172]]  \n",
       "8                                                                                                                                                     [[0.024497586556524727], [0.011363621370187172]]  \n",
       "9                                                                                                                                                     [[0.024497586556524727], [0.011363621370187172]]  \n",
       "10                                                                                                                                                    [[0.024497586556524727], [0.011363621370187172]]  \n",
       "11                                                                                                                            [[0.024497586556524727], [0.011363621370187172], [0.011274447054389618]]  \n",
       "12                                                                                                                            [[0.024497586556524727], [0.011363621370187172], [0.011274447054389618]]  \n",
       "13                                                                                                   [[0.024497586556524727], [0.011363621370187172], [0.011274447054389618], [0.0066535704512181906]]  \n",
       "14                                                                                                   [[0.024497586556524727], [0.011363621370187172], [0.011274447054389618], [0.0066535704512181906]]  \n",
       "15                                                                                                   [[0.024497586556524727], [0.011363621370187172], [0.011274447054389618], [0.0066535704512181906]]  \n",
       "16                                                                                                   [[0.024497586556524727], [0.011363621370187172], [0.011274447054389618], [0.0066535704512181906]]  \n",
       "17                                                                                                   [[0.024497586556524727], [0.011363621370187172], [0.011274447054389618], [0.0066535704512181906]]  \n",
       "18                                                                           [[0.024497586556524727], [0.011363621370187172], [0.011274447054389618], [0.0066535704512181906], [0.005803011631274049]]  \n",
       "19                                                                           [[0.024497586556524727], [0.011363621370187172], [0.011274447054389618], [0.0066535704512181906], [0.005803011631274049]]  \n",
       "20                                                                           [[0.024497586556524727], [0.011363621370187172], [0.011274447054389618], [0.0066535704512181906], [0.005803011631274049]]  \n",
       "21                                                                           [[0.024497586556524727], [0.011363621370187172], [0.011274447054389618], [0.0066535704512181906], [0.005803011631274049]]  \n",
       "22                                                                           [[0.024497586556524727], [0.011363621370187172], [0.011274447054389618], [0.0066535704512181906], [0.005803011631274049]]  \n",
       "23                                                   [[0.024497586556524727], [0.011363621370187172], [0.011274447054389618], [0.0066535704512181906], [0.005803011631274049], [0.007950850297817643]]  \n",
       "24                                                   [[0.024497586556524727], [0.011363621370187172], [0.011274447054389618], [0.0066535704512181906], [0.005803011631274049], [0.007950850297817643]]  \n",
       "25                                                   [[0.024497586556524727], [0.011363621370187172], [0.011274447054389618], [0.0066535704512181906], [0.005803011631274049], [0.007950850297817643]]  \n",
       "26                                                   [[0.024497586556524727], [0.011363621370187172], [0.011274447054389618], [0.0066535704512181906], [0.005803011631274049], [0.007950850297817643]]  \n",
       "27                                                   [[0.024497586556524727], [0.011363621370187172], [0.011274447054389618], [0.0066535704512181906], [0.005803011631274049], [0.007950850297817643]]  \n",
       "28                                                   [[0.024497586556524727], [0.011363621370187172], [0.011274447054389618], [0.0066535704512181906], [0.005803011631274049], [0.007950850297817643]]  \n",
       "29                                                   [[0.024497586556524727], [0.011363621370187172], [0.011274447054389618], [0.0066535704512181906], [0.005803011631274049], [0.007950850297817643]]  \n",
       "30                          [[0.024497586556524727], [0.011363621370187172], [0.011274447054389618], [0.0066535704512181906], [0.005803011631274049], [0.007950850297817643], [0.0007919098903680583]]  \n",
       "31                          [[0.024497586556524727], [0.011363621370187172], [0.011274447054389618], [0.0066535704512181906], [0.005803011631274049], [0.007950850297817643], [0.0007919098903680583]]  \n",
       "32  [[0.024497586556524727], [0.011363621370187172], [0.011274447054389618], [0.0066535704512181906], [0.005803011631274049], [0.007950850297817643], [0.0007919098903680583], [0.004493427909287239]]  \n",
       "33  [[0.024497586556524727], [0.011363621370187172], [0.011274447054389618], [0.0066535704512181906], [0.005803011631274049], [0.007950850297817643], [0.0007919098903680583], [0.004493427909287239]]  \n",
       "34  [[0.024497586556524727], [0.011363621370187172], [0.011274447054389618], [0.0066535704512181906], [0.005803011631274049], [0.007950850297817643], [0.0007919098903680583], [0.004493427909287239]]  \n",
       "35  [[0.024497586556524727], [0.011363621370187172], [0.011274447054389618], [0.0066535704512181906], [0.005803011631274049], [0.007950850297817643], [0.0007919098903680583], [0.004493427909287239]]  \n",
       "36  [[0.024497586556524727], [0.011363621370187172], [0.011274447054389618], [0.0066535704512181906], [0.005803011631274049], [0.007950850297817643], [0.0007919098903680583], [0.004493427909287239]]  \n",
       "37  [[0.024497586556524727], [0.011363621370187172], [0.011274447054389618], [0.0066535704512181906], [0.005803011631274049], [0.007950850297817643], [0.0007919098903680583], [0.004493427909287239]]  \n",
       "38  [[0.024497586556524727], [0.011363621370187172], [0.011274447054389618], [0.0066535704512181906], [0.005803011631274049], [0.007950850297817643], [0.0007919098903680583], [0.004493427909287239]]  \n",
       "39  [[0.024497586556524727], [0.011363621370187172], [0.011274447054389618], [0.0066535704512181906], [0.005803011631274049], [0.007950850297817643], [0.0007919098903680583], [0.004493427909287239]]  "
      ]
     },
     "execution_count": 65,
     "metadata": {},
     "output_type": "execute_result"
    }
   ],
   "source": [
    "ant_hist"
   ]
  },
  {
   "cell_type": "code",
   "execution_count": 66,
   "id": "057bd7bb",
   "metadata": {},
   "outputs": [
    {
     "data": {
      "text/html": [
       "<div>\n",
       "<style scoped>\n",
       "    .dataframe tbody tr th:only-of-type {\n",
       "        vertical-align: middle;\n",
       "    }\n",
       "\n",
       "    .dataframe tbody tr th {\n",
       "        vertical-align: top;\n",
       "    }\n",
       "\n",
       "    .dataframe thead th {\n",
       "        text-align: right;\n",
       "    }\n",
       "</style>\n",
       "<table border=\"1\" class=\"dataframe\">\n",
       "  <thead>\n",
       "    <tr style=\"text-align: right;\">\n",
       "      <th></th>\n",
       "    </tr>\n",
       "  </thead>\n",
       "  <tbody>\n",
       "  </tbody>\n",
       "</table>\n",
       "</div>"
      ],
      "text/plain": [
       "Empty DataFrame\n",
       "Columns: []\n",
       "Index: []"
      ]
     },
     "execution_count": 66,
     "metadata": {},
     "output_type": "execute_result"
    }
   ],
   "source": [
    "fvm.membership_degrees_hist"
   ]
  },
  {
   "cell_type": "code",
   "execution_count": 67,
   "id": "92ff0797",
   "metadata": {
    "scrolled": true
   },
   "outputs": [
    {
     "data": {
      "text/html": [
       "<div>\n",
       "<style scoped>\n",
       "    .dataframe tbody tr th:only-of-type {\n",
       "        vertical-align: middle;\n",
       "    }\n",
       "\n",
       "    .dataframe tbody tr th {\n",
       "        vertical-align: top;\n",
       "    }\n",
       "\n",
       "    .dataframe thead th {\n",
       "        text-align: right;\n",
       "    }\n",
       "</style>\n",
       "<table border=\"1\" class=\"dataframe\">\n",
       "  <thead>\n",
       "    <tr style=\"text-align: right;\">\n",
       "      <th></th>\n",
       "      <th>alpha_0</th>\n",
       "      <th>alpha</th>\n",
       "      <th>beta</th>\n",
       "    </tr>\n",
       "    <tr>\n",
       "      <th>&lt;DATE&gt;</th>\n",
       "      <th></th>\n",
       "      <th></th>\n",
       "      <th></th>\n",
       "    </tr>\n",
       "  </thead>\n",
       "  <tbody>\n",
       "    <tr>\n",
       "      <th>2018-01-04</th>\n",
       "      <td>[0.0003000657791312983]</td>\n",
       "      <td>[[0.01]]</td>\n",
       "      <td>[[0.49]]</td>\n",
       "    </tr>\n",
       "    <tr>\n",
       "      <th>2018-01-05</th>\n",
       "      <td>[0.0003738220359050441]</td>\n",
       "      <td>[[0.009995549565020554]]</td>\n",
       "      <td>[[0.48978198094127684]]</td>\n",
       "    </tr>\n",
       "    <tr>\n",
       "      <th>2018-01-09</th>\n",
       "      <td>[6.9971543491536435863e-20]</td>\n",
       "      <td>[[3.901150279165445421e-08]]</td>\n",
       "      <td>[[0.6416728773619382721]]</td>\n",
       "    </tr>\n",
       "    <tr>\n",
       "      <th>2018-01-10</th>\n",
       "      <td>[8.228460455756013e-36]</td>\n",
       "      <td>[[1.0139694247563093e-14]]</td>\n",
       "      <td>[[0.6009934854432577]]</td>\n",
       "    </tr>\n",
       "    <tr>\n",
       "      <th>2018-01-11</th>\n",
       "      <td>[5.330866880979074e-35]</td>\n",
       "      <td>[[1.902171702236522e-16]]</td>\n",
       "      <td>[[0.5860586110344982]]</td>\n",
       "    </tr>\n",
       "    <tr>\n",
       "      <th>2018-01-12</th>\n",
       "      <td>[1.00941300965729052e-37, 1.513478935177931745e-45]</td>\n",
       "      <td>[[1.029323560104891968e-10, 1.0293249508458224558e-10]]</td>\n",
       "      <td>[[0.6017367009100886821, 0.6017373832073569205]]</td>\n",
       "    </tr>\n",
       "    <tr>\n",
       "      <th>2018-01-15</th>\n",
       "      <td>[6.7674455520078326448e-06, 2.48297356999775683e-12]</td>\n",
       "      <td>[[1.02619935875399097674e-10, 1.0262007452737653418e-10]]</td>\n",
       "      <td>[[0.60173544156018980575, 0.60173612430201376387]]</td>\n",
       "    </tr>\n",
       "    <tr>\n",
       "      <th>2018-01-16</th>\n",
       "      <td>[9.8284235309891e-07, 1.4523092140822263e-11]</td>\n",
       "      <td>[[3.5937545121688575e-16, 3.5937593486019243e-16]]</td>\n",
       "      <td>[[0.6085215549604589, 0.6085222438363604]]</td>\n",
       "    </tr>\n",
       "    <tr>\n",
       "      <th>2018-01-17</th>\n",
       "      <td>[3.760152759607809e-07, 3.825794388847665e-11]</td>\n",
       "      <td>[[1.7721551668872372e-12, 1.772155185093043e-12]]</td>\n",
       "      <td>[[0.6089974900459387, 0.6089981793679315]]</td>\n",
       "    </tr>\n",
       "    <tr>\n",
       "      <th>2018-01-18</th>\n",
       "      <td>[3.760152759607809e-07, 1e-10]</td>\n",
       "      <td>[[1e-10, 1e-10]]</td>\n",
       "      <td>[[0.6089974900459387, 0.6089981793679315]]</td>\n",
       "    </tr>\n",
       "    <tr>\n",
       "      <th>2018-01-19</th>\n",
       "      <td>[1.169794833845199e-05, 1.1323304018525437e-05]</td>\n",
       "      <td>[[7.236478242186385e-22, 7.236376354776167e-22]]</td>\n",
       "      <td>[[0.5775233963890065, 0.5775241495669394]]</td>\n",
       "    </tr>\n",
       "    <tr>\n",
       "      <th>2018-01-22</th>\n",
       "      <td>[1.3059176645118114e-05, 1.23419526736465e-05]</td>\n",
       "      <td>[[1.977731880161417e-18, 1.9777294554119932e-18]]</td>\n",
       "      <td>[[0.5740757865982644, 0.5740767000861686]]</td>\n",
       "    </tr>\n",
       "    <tr>\n",
       "      <th>2018-01-23</th>\n",
       "      <td>[1.9530509301459958e-05, 1.8914952873787882e-05, 1.930889925480518e-05]</td>\n",
       "      <td>[[1.083725569448247e-22, 1.0904080180649832e-22, 1.089544845784563e-22]]</td>\n",
       "      <td>[[0.5572411100820768, 0.5572420826105172, 0.5572415809812308]]</td>\n",
       "    </tr>\n",
       "    <tr>\n",
       "      <th>2018-01-24</th>\n",
       "      <td>[1.703893814882225e-05, 1.6501910274313046e-05, 1.684559962293827e-05]</td>\n",
       "      <td>[[2.5522904770922727e-13, 2.55229045896713e-13, 2.5522904283353716e-13]]</td>\n",
       "      <td>[[0.563033621184599, 0.563034529329614, 0.5630340224846786]]</td>\n",
       "    </tr>\n",
       "    <tr>\n",
       "      <th>2018-01-25</th>\n",
       "      <td>[1.905859091000436e-05, 1.6557324000871374e-05, 1.8013355332415417e-05, 1.4541420217771428e-05]</td>\n",
       "      <td>[[2.846230232756418e-20, 2.846228356894181e-20, 2.8461485810634676e-20, 2.8461757943432645e-20]]</td>\n",
       "      <td>[[0.5627002658559767, 0.562708738468168, 0.5627068303822225, 0.5627068542246733]]</td>\n",
       "    </tr>\n",
       "    <tr>\n",
       "      <th>2018-01-26</th>\n",
       "      <td>[2.749081336613006e-05, 2.5198752391388147e-05, 2.6605964203490515e-05, 2.2934685402471664e-05]</td>\n",
       "      <td>[[8.89585756080506e-24, 8.896723050905816e-24, 8.897482616633593e-24, 8.901669388292893e-24]]</td>\n",
       "      <td>[[0.5412004209253196, 0.5412066022910141, 0.5412065885198053, 0.541206630378062]]</td>\n",
       "    </tr>\n",
       "    <tr>\n",
       "      <th>2018-01-29</th>\n",
       "      <td>[5.2225011380314312927e-05, 8.287706230243797301e-05, 9.311948538081237393e-08, 2.3541751829522298473e-05]</td>\n",
       "      <td>[[1.7609417869506059305e-28, 3.219559932135954369e-27, 7.643509999997564211e-27, 3.9449629392349261794e-29]]</td>\n",
       "      <td>[[0.5101783467876658224, 0.51018381522959606306, 0.5101838113012688333, 0.51018384124843607706]]</td>\n",
       "    </tr>\n",
       "    <tr>\n",
       "      <th>2018-01-30</th>\n",
       "      <td>[5.189410495763225e-05, 8.23519393491625e-05, 9.252946471856462e-08, 2.3392587345629654e-05]</td>\n",
       "      <td>[[6.321429543831435e-14, 6.321429471184863e-14, 6.321429473072232e-14, 6.321429466618406e-14]]</td>\n",
       "      <td>[[0.510399598991682, 0.5104042536933947, 0.5104042515507948, 0.5104047267171293]]</td>\n",
       "    </tr>\n",
       "    <tr>\n",
       "      <th>2018-01-31</th>\n",
       "      <td>[4.746569369850747e-05, 7.553838800443736e-05, 3.107017573474029e-07, 2.1226734791707087e-05]</td>\n",
       "      <td>[[2.7506500349567365e-14, 2.7506499980426606e-14, 2.7506500543158425e-14, 2.7506499760496124e-14]]</td>\n",
       "      <td>[[0.5173312842020431, 0.5173360101015494, 0.5173358985403711, 0.5173363571659592]]</td>\n",
       "    </tr>\n",
       "    <tr>\n",
       "      <th>2018-02-01</th>\n",
       "      <td>[4.5612320880878424e-05, 7.099430510852146e-05, 3.144144405065467e-07, 2.154472600141171e-05, 3.461164277364789e-05]</td>\n",
       "      <td>[[3.972114772092852e-21, 3.9781879832710694e-21, 3.975425506278532e-21, 3.97776531342653e-21, 3.972055785002872e-21]]</td>\n",
       "      <td>[[0.5203249961615357, 0.520329520979394, 0.5203295425820056, 0.5203298787065183, 0.520328523382797]]</td>\n",
       "    </tr>\n",
       "    <tr>\n",
       "      <th>2018-02-02</th>\n",
       "      <td>[4.5612320880878424e-05, 7.099430510852146e-05, 3.144144405065467e-07, 2.154472600141171e-05, 3.461164277364789e-05]</td>\n",
       "      <td>[[1e-10, 1e-10, 1e-10, 1e-10, 1e-10]]</td>\n",
       "      <td>[[0.5203249961615357, 0.520329520979394, 0.5203295425820056, 0.5203298787065183, 0.520328523382797]]</td>\n",
       "    </tr>\n",
       "    <tr>\n",
       "      <th>2018-02-05</th>\n",
       "      <td>[6.6313137333054438935e-05, 6.968458799700185539e-05, 4.3919119727836630796e-06, 5.101074857685133933e-10, 6.175960705914141158e-05]</td>\n",
       "      <td>[[3.456754857341969109e-27, 5.6877055602960210974e-31, 3.3651431062096318506e-27, 7.856936408960656772e-27, 1.0194410134762353015e-26]]</td>\n",
       "      <td>[[0.50906960454793636907, 0.50907394924799057, 0.50907402090709266874, 0.5090743996917526514, 0.50907312224743517926]]</td>\n",
       "    </tr>\n",
       "    <tr>\n",
       "      <th>2018-02-06</th>\n",
       "      <td>[6.477462114328173e-05, 6.806783581858189e-05, 4.290015214888971e-06, 4.982724550567053e-10, 6.032671867447618e-05]</td>\n",
       "      <td>[[2.5987997901628947e-13, 2.598772469187599e-13, 2.5987722541552105e-13, 2.5987661168308545e-13, 2.598765213229982e-13]]</td>\n",
       "      <td>[[0.5103905575185228, 0.5103949206924326, 0.5103950538241834, 0.510395388408009, 0.5103939371503069]]</td>\n",
       "    </tr>\n",
       "    <tr>\n",
       "      <th>2018-02-07</th>\n",
       "      <td>[9.307986116641220927e-05, 0.00010473669121880364063, 1.5957150505123539573e-08, 3.9868660416355073637e-06, 7.968167468783374053e-05]</td>\n",
       "      <td>[[1.8986302272106337282e-19, 2.2038883267671517038e-19, 5.798908825944552701e-20, 1.616111048182815456e-19, 1.2351294763806287429e-19]]</td>\n",
       "      <td>[[0.47942097588323147022, 0.47942746599402620968, 0.47942758278188580499, 0.47942864562454371108, 0.47942757013574967043]]</td>\n",
       "    </tr>\n",
       "    <tr>\n",
       "      <th>2018-02-08</th>\n",
       "      <td>[9.073325241615131e-05, 0.0001020962087949759, 1.5554860010344315e-08, 3.886354472090538e-06, 7.767284614600664e-05, 5.4880843970730836e-05]</td>\n",
       "      <td>[[1.170342327387439e-11, 1.1703370305187262e-11, 1.170337008961958e-11, 1.1703368204747971e-11, 1.1703368882999985e-11, 1.1703367832210699e-11]]</td>\n",
       "      <td>[[0.4821207974177576, 0.48212724016663, 0.48212739276396727, 0.4821284244138353, 0.48212737900386315, 0.482126214529264]]</td>\n",
       "    </tr>\n",
       "    <tr>\n",
       "      <th>2018-02-09</th>\n",
       "      <td>[0.00010566499147294184, 0.00011687865813383732, 1.577998130136463e-05, 1.9543193708016626e-05, 9.274412886139924e-05, 7.016948775721328e-05]</td>\n",
       "      <td>[[0.04260397255805101, 0.04260318555093089, 0.04260317421777787, 0.042602958379575555, 0.042602915409135474, 0.04260301776388677]]</td>\n",
       "      <td>[[0.4285619932997481, 0.42857702996000663, 0.42857727922199573, 0.42858060582885754, 0.4285798347436361, 0.4285775814601998]]</td>\n",
       "    </tr>\n",
       "    <tr>\n",
       "      <th>2018-02-12</th>\n",
       "      <td>[0.00010388324897300962, 0.00011455420819148092, 1.834667642386648e-05, 2.19277226162155e-05, 9.158729905769865e-05, 7.010514613812605e-05]</td>\n",
       "      <td>[[0.16398176274708043, 0.16398197388901317, 0.16398196796336595, 0.16398202177726143, 0.16398202300673292, 0.16398200510971583]]</td>\n",
       "      <td>[[0.356295001711527, 0.3563252284570263, 0.3563255909634221, 0.3563329245257205, 0.35633266195856256, 0.3563285708583261]]</td>\n",
       "    </tr>\n",
       "    <tr>\n",
       "      <th>2018-02-13</th>\n",
       "      <td>[0.00010348172066654293, 0.00011401698461686775, 1.8191993448114685e-05, 2.1659278376687228e-05, 9.114771237910793e-05, 6.968082673037534e-05]</td>\n",
       "      <td>[[0.18127225859464846, 0.18127246315217257, 0.18127243413464209, 0.18127254040818344, 0.18127253204569124, 0.18127251909128816]]</td>\n",
       "      <td>[[0.35126290042143987, 0.3512933785241872, 0.3512937209952197, 0.3513009464322866, 0.3513006644072581, 0.35129663274763123]]</td>\n",
       "    </tr>\n",
       "    <tr>\n",
       "      <th>2018-02-14</th>\n",
       "      <td>[0.00010327576371820385, 0.00011390142502767308, 1.803589295212178e-05, 2.145713006850138e-05, 9.098830898769095e-05, 6.95093033948256e-05]</td>\n",
       "      <td>[[0.19365668218809523, 0.19365684579785855, 0.19365685725729687, 0.19365696098468455, 0.19365695189072257, 0.19365693098398318]]</td>\n",
       "      <td>[[0.35151074181731484, 0.3515412139513598, 0.35154155563565087, 0.3515487595074072, 0.35154846013044533, 0.35154444221596004]]</td>\n",
       "    </tr>\n",
       "    <tr>\n",
       "      <th>2018-02-15</th>\n",
       "      <td>[0.0001033321942033444, 0.00011395720025379508, 1.8092297833719112e-05, 2.1513428206673616e-05, 9.104455263481168e-05, 6.95648158802007e-05]</td>\n",
       "      <td>[[0.1948371941519508, 0.19483724991080537, 0.19483726495823753, 0.19483737658951775, 0.1948373561557997, 0.194837238923949]]</td>\n",
       "      <td>[[0.35137105751982023, 0.3514014414862115, 0.3514018762830338, 0.35140908517893293, 0.35140878379060164, 0.3514046698316747]]</td>\n",
       "    </tr>\n",
       "    <tr>\n",
       "      <th>2018-02-16</th>\n",
       "      <td>[0.00010343287417556285, 0.00011403845839469944, 1.8197180332022436e-05, 2.1611442886263674e-05, 9.115095907515957e-05, 6.966947777877427e-05]</td>\n",
       "      <td>[[0.19531910119226428, 0.1953191322137604, 0.19531916258549273, 0.19531918139116214, 0.19531936174976464, 0.1953189827190243]]</td>\n",
       "      <td>[[0.3518283256972826, 0.3518586257093437, 0.3518590611053902, 0.35186625570544994, 0.35186603914603043, 0.35186185038140005]]</td>\n",
       "    </tr>\n",
       "    <tr>\n",
       "      <th>2018-02-19</th>\n",
       "      <td>[9.915432233085986e-05, 0.00010932119702830782, 1.744444430517588e-05, 2.071747393922756e-05, 8.73804506060422e-05, 6.67875624948362e-05, 6.680090734135066e-05]</td>\n",
       "      <td>[[0.19168376042874993, 0.1916837598869506, 0.19168378888841864, 0.19168380198635537, 0.19168397913649723, 0.19168360581449412, 0.1916837732959421]]</td>\n",
       "      <td>[[0.3510403837130694, 0.35107056897377686, 0.35107099963954025, 0.3510781457261361, 0.35107793737860726, 0.3510737852206942, 0.35106873425699286]]</td>\n",
       "    </tr>\n",
       "    <tr>\n",
       "      <th>2018-02-20</th>\n",
       "      <td>[9.411615768972852e-05, 0.00010376638755639728, 1.6558060224538264e-05, 1.9664779226954344e-05, 8.29404805683524e-05, 6.339395951996455e-05, 6.340661996503796e-05]</td>\n",
       "      <td>[[0.20351122563935092, 0.20351106128363222, 0.20351108910493912, 0.20351106655447262, 0.20351124329604542, 0.20351087099070717, 0.20351101157529017]]</td>\n",
       "      <td>[[0.3447174637990578, 0.3447471782957306, 0.3447475869403069, 0.3447545836080566, 0.3447544179084583, 0.3447503942075574, 0.34474581983629754]]</td>\n",
       "    </tr>\n",
       "    <tr>\n",
       "      <th>2018-02-21</th>\n",
       "      <td>[8.946881038133497e-05, 9.864251667905843e-05, 1.574044129289436e-05, 1.8693753762819944e-05, 7.884496957678777e-05, 6.026363465432603e-05, 6.027566995965453e-05, 6.0275684067921925e-05]</td>\n",
       "      <td>[[0.2134975430486212, 0.2134973401032323, 0.21349739281279992, 0.21349734366456363, 0.2134974815039608, 0.2134971053104764, 0.21349728732783096, 0.2134973536327499]]</td>\n",
       "      <td>[[0.34249674496820787, 0.34252615306977374, 0.3425265550016161, 0.3425334511250328, 0.34253328989683907, 0.34252933302537675, 0.3425248413390764, 0.3425243781575748]]</td>\n",
       "    </tr>\n",
       "    <tr>\n",
       "      <th>2018-02-22</th>\n",
       "      <td>[0.00010213610376031872, 0.00011130010953099514, 2.8411881069847058e-05, 3.136398271988278e-05, 9.15055870757237e-05, 7.292726358787478e-05, 7.293885551437486e-05, 7.29269009319001e-05]</td>\n",
       "      <td>[[0.17718557910729418, 0.17718535317583486, 0.17718548680128485, 0.17718544652878973, 0.17718559832485029, 0.17718516849319077, 0.1771853767320883, 0.17718549223689864]]</td>\n",
       "      <td>[[0.34276429559049787, 0.3427936526306426, 0.3427940616578629, 0.34280090900783045, 0.34280073738559647, 0.3427967994670582, 0.3427922186698429, 0.3427918120826768]]</td>\n",
       "    </tr>\n",
       "    <tr>\n",
       "      <th>2018-02-26</th>\n",
       "      <td>[9.798190187059255e-05, 0.00010677321591643565, 2.7256288672770178e-05, 3.008832041300459e-05, 8.778379454905465e-05, 6.996110459968524e-05, 6.997222088128563e-05, 6.99607558417667e-05]</td>\n",
       "      <td>[[0.158136900210196, 0.15813687678245883, 0.15813699746552853, 0.15813696711901268, 0.1581371029583383, 0.15813672617581173, 0.1581368819849679, 0.15813700915209972]]</td>\n",
       "      <td>[[0.3645202309219539, 0.3645504127379367, 0.3645508372873766, 0.36455807001346036, 0.3645579050517904, 0.36455370559482786, 0.3645490107073101, 0.36454843718122465]]</td>\n",
       "    </tr>\n",
       "    <tr>\n",
       "      <th>2018-02-27</th>\n",
       "      <td>[0.00010259960074302893, 0.0001110813046567418, 3.137838204105103e-05, 3.433818141705306e-05, 9.183797840794575e-05, 7.406845844622339e-05, 7.392866361438804e-05, 7.40070547122514e-05]</td>\n",
       "      <td>[[0.154832176608587, 0.15483212767587728, 0.15483229340246013, 0.15483227803239102, 0.15483241209001597, 0.15483203491809758, 0.15483221224883312, 0.15483233817761713]]</td>\n",
       "      <td>[[0.36236998797811526, 0.36240024475108223, 0.36240065960074214, 0.3624078520638599, 0.36240767769882243, 0.36240348590772076, 0.3623986232525664, 0.36239815347438364]]</td>\n",
       "    </tr>\n",
       "    <tr>\n",
       "      <th>2018-02-28</th>\n",
       "      <td>[0.00010109438087417578, 0.00010945172208153811, 3.0918055677682955e-05, 3.383443954635551e-05, 9.049071548800064e-05, 7.29818696268528e-05, 7.284413901226299e-05, 7.292137398662433e-05]</td>\n",
       "      <td>[[0.14898553550735164, 0.14898574030522074, 0.14898590034461984, 0.14898594673189539, 0.14898608202449323, 0.1489856952042403, 0.14898593954216835, 0.14898602518067186]]</td>\n",
       "      <td>[[0.3674682304639881, 0.3674978236352692, 0.367498238009189, 0.3675052697319188, 0.36750506390257576, 0.36750090965441445, 0.3674956791903054, 0.3674953453871918]]</td>\n",
       "    </tr>\n",
       "    <tr>\n",
       "      <th>2018-03-01</th>\n",
       "      <td>[0.00010562077656614538, 0.00011364619466962851, 3.5013407696506104e-05, 3.800418063513466e-05, 9.450396227843455e-05, 7.727674667953844e-05, 7.731473634298897e-05, 7.745802346407196e-05]</td>\n",
       "      <td>[[0.14758238642332916, 0.1475823422710669, 0.1475824827695685, 0.1475825908057938, 0.14758266807148535, 0.14758252679857575, 0.14758278538267103, 0.14758248056061557]]</td>\n",
       "      <td>[[0.36666240419184737, 0.3666663167753296, 0.3666666150626969, 0.3666992462087584, 0.3666736206255663, 0.3666954546702913, 0.3666643446342747, 0.3666637385927728]]</td>\n",
       "    </tr>\n",
       "    <tr>\n",
       "      <th>2018-03-02</th>\n",
       "      <td>[0.00010381207135186216, 0.00011170015958392162, 3.441385131083109e-05, 3.735341932624776e-05, 9.288573490826792e-05, 7.595350086161323e-05, 7.59908585848263e-05, 7.613168380675008e-05]</td>\n",
       "      <td>[[0.13447745030969738, 0.13447745813197076, 0.13447758284771408, 0.13447769399386586, 0.1344777657694968, 0.13447763392895795, 0.13447787981839301, 0.13447759793491634]]</td>\n",
       "      <td>[[0.3765876933431311, 0.37659059789257493, 0.37659089869126383, 0.3766241505188108, 0.37659779066005433, 0.3766203237550435, 0.3765880627294709, 0.3765875826695469]]</td>\n",
       "    </tr>\n",
       "  </tbody>\n",
       "</table>\n",
       "</div>"
      ],
      "text/plain": [
       "                                                                                                                                                                                                alpha_0  \\\n",
       "<DATE>                                                                                                                                                                                                    \n",
       "2018-01-04                                                                                                                                                                      [0.0003000657791312983]   \n",
       "2018-01-05                                                                                                                                                                      [0.0003738220359050441]   \n",
       "2018-01-09                                                                                                                                                                  [6.9971543491536435863e-20]   \n",
       "2018-01-10                                                                                                                                                                      [8.228460455756013e-36]   \n",
       "2018-01-11                                                                                                                                                                      [5.330866880979074e-35]   \n",
       "2018-01-12                                                                                                                                          [1.00941300965729052e-37, 1.513478935177931745e-45]   \n",
       "2018-01-15                                                                                                                                         [6.7674455520078326448e-06, 2.48297356999775683e-12]   \n",
       "2018-01-16                                                                                                                                                [9.8284235309891e-07, 1.4523092140822263e-11]   \n",
       "2018-01-17                                                                                                                                               [3.760152759607809e-07, 3.825794388847665e-11]   \n",
       "2018-01-18                                                                                                                                                               [3.760152759607809e-07, 1e-10]   \n",
       "2018-01-19                                                                                                                                              [1.169794833845199e-05, 1.1323304018525437e-05]   \n",
       "2018-01-22                                                                                                                                               [1.3059176645118114e-05, 1.23419526736465e-05]   \n",
       "2018-01-23                                                                                                                      [1.9530509301459958e-05, 1.8914952873787882e-05, 1.930889925480518e-05]   \n",
       "2018-01-24                                                                                                                       [1.703893814882225e-05, 1.6501910274313046e-05, 1.684559962293827e-05]   \n",
       "2018-01-25                                                                                              [1.905859091000436e-05, 1.6557324000871374e-05, 1.8013355332415417e-05, 1.4541420217771428e-05]   \n",
       "2018-01-26                                                                                              [2.749081336613006e-05, 2.5198752391388147e-05, 2.6605964203490515e-05, 2.2934685402471664e-05]   \n",
       "2018-01-29                                                                                   [5.2225011380314312927e-05, 8.287706230243797301e-05, 9.311948538081237393e-08, 2.3541751829522298473e-05]   \n",
       "2018-01-30                                                                                                 [5.189410495763225e-05, 8.23519393491625e-05, 9.252946471856462e-08, 2.3392587345629654e-05]   \n",
       "2018-01-31                                                                                                [4.746569369850747e-05, 7.553838800443736e-05, 3.107017573474029e-07, 2.1226734791707087e-05]   \n",
       "2018-02-01                                                                         [4.5612320880878424e-05, 7.099430510852146e-05, 3.144144405065467e-07, 2.154472600141171e-05, 3.461164277364789e-05]   \n",
       "2018-02-02                                                                         [4.5612320880878424e-05, 7.099430510852146e-05, 3.144144405065467e-07, 2.154472600141171e-05, 3.461164277364789e-05]   \n",
       "2018-02-05                                                         [6.6313137333054438935e-05, 6.968458799700185539e-05, 4.3919119727836630796e-06, 5.101074857685133933e-10, 6.175960705914141158e-05]   \n",
       "2018-02-06                                                                          [6.477462114328173e-05, 6.806783581858189e-05, 4.290015214888971e-06, 4.982724550567053e-10, 6.032671867447618e-05]   \n",
       "2018-02-07                                                        [9.307986116641220927e-05, 0.00010473669121880364063, 1.5957150505123539573e-08, 3.9868660416355073637e-06, 7.968167468783374053e-05]   \n",
       "2018-02-08                                                 [9.073325241615131e-05, 0.0001020962087949759, 1.5554860010344315e-08, 3.886354472090538e-06, 7.767284614600664e-05, 5.4880843970730836e-05]   \n",
       "2018-02-09                                                [0.00010566499147294184, 0.00011687865813383732, 1.577998130136463e-05, 1.9543193708016626e-05, 9.274412886139924e-05, 7.016948775721328e-05]   \n",
       "2018-02-12                                                  [0.00010388324897300962, 0.00011455420819148092, 1.834667642386648e-05, 2.19277226162155e-05, 9.158729905769865e-05, 7.010514613812605e-05]   \n",
       "2018-02-13                                               [0.00010348172066654293, 0.00011401698461686775, 1.8191993448114685e-05, 2.1659278376687228e-05, 9.114771237910793e-05, 6.968082673037534e-05]   \n",
       "2018-02-14                                                  [0.00010327576371820385, 0.00011390142502767308, 1.803589295212178e-05, 2.145713006850138e-05, 9.098830898769095e-05, 6.95093033948256e-05]   \n",
       "2018-02-15                                                 [0.0001033321942033444, 0.00011395720025379508, 1.8092297833719112e-05, 2.1513428206673616e-05, 9.104455263481168e-05, 6.95648158802007e-05]   \n",
       "2018-02-16                                               [0.00010343287417556285, 0.00011403845839469944, 1.8197180332022436e-05, 2.1611442886263674e-05, 9.115095907515957e-05, 6.966947777877427e-05]   \n",
       "2018-02-19                             [9.915432233085986e-05, 0.00010932119702830782, 1.744444430517588e-05, 2.071747393922756e-05, 8.73804506060422e-05, 6.67875624948362e-05, 6.680090734135066e-05]   \n",
       "2018-02-20                          [9.411615768972852e-05, 0.00010376638755639728, 1.6558060224538264e-05, 1.9664779226954344e-05, 8.29404805683524e-05, 6.339395951996455e-05, 6.340661996503796e-05]   \n",
       "2018-02-21   [8.946881038133497e-05, 9.864251667905843e-05, 1.574044129289436e-05, 1.8693753762819944e-05, 7.884496957678777e-05, 6.026363465432603e-05, 6.027566995965453e-05, 6.0275684067921925e-05]   \n",
       "2018-02-22    [0.00010213610376031872, 0.00011130010953099514, 2.8411881069847058e-05, 3.136398271988278e-05, 9.15055870757237e-05, 7.292726358787478e-05, 7.293885551437486e-05, 7.29269009319001e-05]   \n",
       "2018-02-26    [9.798190187059255e-05, 0.00010677321591643565, 2.7256288672770178e-05, 3.008832041300459e-05, 8.778379454905465e-05, 6.996110459968524e-05, 6.997222088128563e-05, 6.99607558417667e-05]   \n",
       "2018-02-27     [0.00010259960074302893, 0.0001110813046567418, 3.137838204105103e-05, 3.433818141705306e-05, 9.183797840794575e-05, 7.406845844622339e-05, 7.392866361438804e-05, 7.40070547122514e-05]   \n",
       "2018-02-28   [0.00010109438087417578, 0.00010945172208153811, 3.0918055677682955e-05, 3.383443954635551e-05, 9.049071548800064e-05, 7.29818696268528e-05, 7.284413901226299e-05, 7.292137398662433e-05]   \n",
       "2018-03-01  [0.00010562077656614538, 0.00011364619466962851, 3.5013407696506104e-05, 3.800418063513466e-05, 9.450396227843455e-05, 7.727674667953844e-05, 7.731473634298897e-05, 7.745802346407196e-05]   \n",
       "2018-03-02    [0.00010381207135186216, 0.00011170015958392162, 3.441385131083109e-05, 3.735341932624776e-05, 9.288573490826792e-05, 7.595350086161323e-05, 7.59908585848263e-05, 7.613168380675008e-05]   \n",
       "\n",
       "                                                                                                                                                                                alpha  \\\n",
       "<DATE>                                                                                                                                                                                  \n",
       "2018-01-04                                                                                                                                                                   [[0.01]]   \n",
       "2018-01-05                                                                                                                                                   [[0.009995549565020554]]   \n",
       "2018-01-09                                                                                                                                               [[3.901150279165445421e-08]]   \n",
       "2018-01-10                                                                                                                                                 [[1.0139694247563093e-14]]   \n",
       "2018-01-11                                                                                                                                                  [[1.902171702236522e-16]]   \n",
       "2018-01-12                                                                                                                    [[1.029323560104891968e-10, 1.0293249508458224558e-10]]   \n",
       "2018-01-15                                                                                                                  [[1.02619935875399097674e-10, 1.0262007452737653418e-10]]   \n",
       "2018-01-16                                                                                                                         [[3.5937545121688575e-16, 3.5937593486019243e-16]]   \n",
       "2018-01-17                                                                                                                          [[1.7721551668872372e-12, 1.772155185093043e-12]]   \n",
       "2018-01-18                                                                                                                                                           [[1e-10, 1e-10]]   \n",
       "2018-01-19                                                                                                                           [[7.236478242186385e-22, 7.236376354776167e-22]]   \n",
       "2018-01-22                                                                                                                          [[1.977731880161417e-18, 1.9777294554119932e-18]]   \n",
       "2018-01-23                                                                                                   [[1.083725569448247e-22, 1.0904080180649832e-22, 1.089544845784563e-22]]   \n",
       "2018-01-24                                                                                                   [[2.5522904770922727e-13, 2.55229045896713e-13, 2.5522904283353716e-13]]   \n",
       "2018-01-25                                                                           [[2.846230232756418e-20, 2.846228356894181e-20, 2.8461485810634676e-20, 2.8461757943432645e-20]]   \n",
       "2018-01-26                                                                              [[8.89585756080506e-24, 8.896723050905816e-24, 8.897482616633593e-24, 8.901669388292893e-24]]   \n",
       "2018-01-29                                                               [[1.7609417869506059305e-28, 3.219559932135954369e-27, 7.643509999997564211e-27, 3.9449629392349261794e-29]]   \n",
       "2018-01-30                                                                             [[6.321429543831435e-14, 6.321429471184863e-14, 6.321429473072232e-14, 6.321429466618406e-14]]   \n",
       "2018-01-31                                                                         [[2.7506500349567365e-14, 2.7506499980426606e-14, 2.7506500543158425e-14, 2.7506499760496124e-14]]   \n",
       "2018-02-01                                                      [[3.972114772092852e-21, 3.9781879832710694e-21, 3.975425506278532e-21, 3.97776531342653e-21, 3.972055785002872e-21]]   \n",
       "2018-02-02                                                                                                                                      [[1e-10, 1e-10, 1e-10, 1e-10, 1e-10]]   \n",
       "2018-02-05                                    [[3.456754857341969109e-27, 5.6877055602960210974e-31, 3.3651431062096318506e-27, 7.856936408960656772e-27, 1.0194410134762353015e-26]]   \n",
       "2018-02-06                                                   [[2.5987997901628947e-13, 2.598772469187599e-13, 2.5987722541552105e-13, 2.5987661168308545e-13, 2.598765213229982e-13]]   \n",
       "2018-02-07                                    [[1.8986302272106337282e-19, 2.2038883267671517038e-19, 5.798908825944552701e-20, 1.616111048182815456e-19, 1.2351294763806287429e-19]]   \n",
       "2018-02-08                           [[1.170342327387439e-11, 1.1703370305187262e-11, 1.170337008961958e-11, 1.1703368204747971e-11, 1.1703368882999985e-11, 1.1703367832210699e-11]]   \n",
       "2018-02-09                                         [[0.04260397255805101, 0.04260318555093089, 0.04260317421777787, 0.042602958379575555, 0.042602915409135474, 0.04260301776388677]]   \n",
       "2018-02-12                                           [[0.16398176274708043, 0.16398197388901317, 0.16398196796336595, 0.16398202177726143, 0.16398202300673292, 0.16398200510971583]]   \n",
       "2018-02-13                                           [[0.18127225859464846, 0.18127246315217257, 0.18127243413464209, 0.18127254040818344, 0.18127253204569124, 0.18127251909128816]]   \n",
       "2018-02-14                                           [[0.19365668218809523, 0.19365684579785855, 0.19365685725729687, 0.19365696098468455, 0.19365695189072257, 0.19365693098398318]]   \n",
       "2018-02-15                                               [[0.1948371941519508, 0.19483724991080537, 0.19483726495823753, 0.19483737658951775, 0.1948373561557997, 0.194837238923949]]   \n",
       "2018-02-16                                             [[0.19531910119226428, 0.1953191322137604, 0.19531916258549273, 0.19531918139116214, 0.19531936174976464, 0.1953189827190243]]   \n",
       "2018-02-19                        [[0.19168376042874993, 0.1916837598869506, 0.19168378888841864, 0.19168380198635537, 0.19168397913649723, 0.19168360581449412, 0.1916837732959421]]   \n",
       "2018-02-20                      [[0.20351122563935092, 0.20351106128363222, 0.20351108910493912, 0.20351106655447262, 0.20351124329604542, 0.20351087099070717, 0.20351101157529017]]   \n",
       "2018-02-21      [[0.2134975430486212, 0.2134973401032323, 0.21349739281279992, 0.21349734366456363, 0.2134974815039608, 0.2134971053104764, 0.21349728732783096, 0.2134973536327499]]   \n",
       "2018-02-22  [[0.17718557910729418, 0.17718535317583486, 0.17718548680128485, 0.17718544652878973, 0.17718559832485029, 0.17718516849319077, 0.1771853767320883, 0.17718549223689864]]   \n",
       "2018-02-26     [[0.158136900210196, 0.15813687678245883, 0.15813699746552853, 0.15813696711901268, 0.1581371029583383, 0.15813672617581173, 0.1581368819849679, 0.15813700915209972]]   \n",
       "2018-02-27   [[0.154832176608587, 0.15483212767587728, 0.15483229340246013, 0.15483227803239102, 0.15483241209001597, 0.15483203491809758, 0.15483221224883312, 0.15483233817761713]]   \n",
       "2018-02-28  [[0.14898553550735164, 0.14898574030522074, 0.14898590034461984, 0.14898594673189539, 0.14898608202449323, 0.1489856952042403, 0.14898593954216835, 0.14898602518067186]]   \n",
       "2018-03-01    [[0.14758238642332916, 0.1475823422710669, 0.1475824827695685, 0.1475825908057938, 0.14758266807148535, 0.14758252679857575, 0.14758278538267103, 0.14758248056061557]]   \n",
       "2018-03-02  [[0.13447745030969738, 0.13447745813197076, 0.13447758284771408, 0.13447769399386586, 0.1344777657694968, 0.13447763392895795, 0.13447787981839301, 0.13447759793491634]]   \n",
       "\n",
       "                                                                                                                                                                                beta  \n",
       "<DATE>                                                                                                                                                                                \n",
       "2018-01-04                                                                                                                                                                  [[0.49]]  \n",
       "2018-01-05                                                                                                                                                   [[0.48978198094127684]]  \n",
       "2018-01-09                                                                                                                                                 [[0.6416728773619382721]]  \n",
       "2018-01-10                                                                                                                                                    [[0.6009934854432577]]  \n",
       "2018-01-11                                                                                                                                                    [[0.5860586110344982]]  \n",
       "2018-01-12                                                                                                                          [[0.6017367009100886821, 0.6017373832073569205]]  \n",
       "2018-01-15                                                                                                                        [[0.60173544156018980575, 0.60173612430201376387]]  \n",
       "2018-01-16                                                                                                                                [[0.6085215549604589, 0.6085222438363604]]  \n",
       "2018-01-17                                                                                                                                [[0.6089974900459387, 0.6089981793679315]]  \n",
       "2018-01-18                                                                                                                                [[0.6089974900459387, 0.6089981793679315]]  \n",
       "2018-01-19                                                                                                                                [[0.5775233963890065, 0.5775241495669394]]  \n",
       "2018-01-22                                                                                                                                [[0.5740757865982644, 0.5740767000861686]]  \n",
       "2018-01-23                                                                                                            [[0.5572411100820768, 0.5572420826105172, 0.5572415809812308]]  \n",
       "2018-01-24                                                                                                              [[0.563033621184599, 0.563034529329614, 0.5630340224846786]]  \n",
       "2018-01-25                                                                                         [[0.5627002658559767, 0.562708738468168, 0.5627068303822225, 0.5627068542246733]]  \n",
       "2018-01-26                                                                                         [[0.5412004209253196, 0.5412066022910141, 0.5412065885198053, 0.541206630378062]]  \n",
       "2018-01-29                                                                          [[0.5101783467876658224, 0.51018381522959606306, 0.5101838113012688333, 0.51018384124843607706]]  \n",
       "2018-01-30                                                                                         [[0.510399598991682, 0.5104042536933947, 0.5104042515507948, 0.5104047267171293]]  \n",
       "2018-01-31                                                                                        [[0.5173312842020431, 0.5173360101015494, 0.5173358985403711, 0.5173363571659592]]  \n",
       "2018-02-01                                                                      [[0.5203249961615357, 0.520329520979394, 0.5203295425820056, 0.5203298787065183, 0.520328523382797]]  \n",
       "2018-02-02                                                                      [[0.5203249961615357, 0.520329520979394, 0.5203295425820056, 0.5203298787065183, 0.520328523382797]]  \n",
       "2018-02-05                                                    [[0.50906960454793636907, 0.50907394924799057, 0.50907402090709266874, 0.5090743996917526514, 0.50907312224743517926]]  \n",
       "2018-02-06                                                                     [[0.5103905575185228, 0.5103949206924326, 0.5103950538241834, 0.510395388408009, 0.5103939371503069]]  \n",
       "2018-02-07                                                [[0.47942097588323147022, 0.47942746599402620968, 0.47942758278188580499, 0.47942864562454371108, 0.47942757013574967043]]  \n",
       "2018-02-08                                                 [[0.4821207974177576, 0.48212724016663, 0.48212739276396727, 0.4821284244138353, 0.48212737900386315, 0.482126214529264]]  \n",
       "2018-02-09                                             [[0.4285619932997481, 0.42857702996000663, 0.42857727922199573, 0.42858060582885754, 0.4285798347436361, 0.4285775814601998]]  \n",
       "2018-02-12                                                [[0.356295001711527, 0.3563252284570263, 0.3563255909634221, 0.3563329245257205, 0.35633266195856256, 0.3563285708583261]]  \n",
       "2018-02-13                                              [[0.35126290042143987, 0.3512933785241872, 0.3512937209952197, 0.3513009464322866, 0.3513006644072581, 0.35129663274763123]]  \n",
       "2018-02-14                                            [[0.35151074181731484, 0.3515412139513598, 0.35154155563565087, 0.3515487595074072, 0.35154846013044533, 0.35154444221596004]]  \n",
       "2018-02-15                                             [[0.35137105751982023, 0.3514014414862115, 0.3514018762830338, 0.35140908517893293, 0.35140878379060164, 0.3514046698316747]]  \n",
       "2018-02-16                                             [[0.3518283256972826, 0.3518586257093437, 0.3518590611053902, 0.35186625570544994, 0.35186603914603043, 0.35186185038140005]]  \n",
       "2018-02-19                        [[0.3510403837130694, 0.35107056897377686, 0.35107099963954025, 0.3510781457261361, 0.35107793737860726, 0.3510737852206942, 0.35106873425699286]]  \n",
       "2018-02-20                           [[0.3447174637990578, 0.3447471782957306, 0.3447475869403069, 0.3447545836080566, 0.3447544179084583, 0.3447503942075574, 0.34474581983629754]]  \n",
       "2018-02-21    [[0.34249674496820787, 0.34252615306977374, 0.3425265550016161, 0.3425334511250328, 0.34253328989683907, 0.34252933302537675, 0.3425248413390764, 0.3425243781575748]]  \n",
       "2018-02-22     [[0.34276429559049787, 0.3427936526306426, 0.3427940616578629, 0.34280090900783045, 0.34280073738559647, 0.3427967994670582, 0.3427922186698429, 0.3427918120826768]]  \n",
       "2018-02-26     [[0.3645202309219539, 0.3645504127379367, 0.3645508372873766, 0.36455807001346036, 0.3645579050517904, 0.36455370559482786, 0.3645490107073101, 0.36454843718122465]]  \n",
       "2018-02-27  [[0.36236998797811526, 0.36240024475108223, 0.36240065960074214, 0.3624078520638599, 0.36240767769882243, 0.36240348590772076, 0.3623986232525664, 0.36239815347438364]]  \n",
       "2018-02-28       [[0.3674682304639881, 0.3674978236352692, 0.367498238009189, 0.3675052697319188, 0.36750506390257576, 0.36750090965441445, 0.3674956791903054, 0.3674953453871918]]  \n",
       "2018-03-01       [[0.36666240419184737, 0.3666663167753296, 0.3666666150626969, 0.3666992462087584, 0.3666736206255663, 0.3666954546702913, 0.3666643446342747, 0.3666637385927728]]  \n",
       "2018-03-02     [[0.3765876933431311, 0.37659059789257493, 0.37659089869126383, 0.3766241505188108, 0.37659779066005433, 0.3766203237550435, 0.3765880627294709, 0.3765875826695469]]  "
      ]
     },
     "execution_count": 67,
     "metadata": {},
     "output_type": "execute_result"
    }
   ],
   "source": [
    "pd.DataFrame.from_records(fvm._parameters_hist, index=fvm.train_data.index[-len(fvm._parameters_hist):])"
   ]
  },
  {
   "cell_type": "code",
   "execution_count": 68,
   "id": "c48f4e75",
   "metadata": {},
   "outputs": [
    {
     "data": {
      "text/plain": [
       "array([[0.00047791],\n",
       "       [0.00047791],\n",
       "       [0.00047791]])"
      ]
     },
     "execution_count": 68,
     "metadata": {},
     "output_type": "execute_result"
    }
   ],
   "source": [
    "_arr = np.array([[0.0004779073117170634], [0.0004779073117170634]])\n",
    "np.concatenate((_arr, [_arr.mean(axis=0)]))"
   ]
  },
  {
   "cell_type": "code",
   "execution_count": 69,
   "id": "98849df3",
   "metadata": {},
   "outputs": [
    {
     "data": {
      "text/html": [
       "<div>\n",
       "<style scoped>\n",
       "    .dataframe tbody tr th:only-of-type {\n",
       "        vertical-align: middle;\n",
       "    }\n",
       "\n",
       "    .dataframe tbody tr th {\n",
       "        vertical-align: top;\n",
       "    }\n",
       "\n",
       "    .dataframe thead th {\n",
       "        text-align: right;\n",
       "    }\n",
       "</style>\n",
       "<table border=\"1\" class=\"dataframe\">\n",
       "  <thead>\n",
       "    <tr style=\"text-align: right;\">\n",
       "      <th></th>\n",
       "      <th>cost</th>\n",
       "      <th>optimality</th>\n",
       "      <th>nfev</th>\n",
       "      <th>njev</th>\n",
       "      <th>status</th>\n",
       "      <th>message</th>\n",
       "      <th>success</th>\n",
       "    </tr>\n",
       "  </thead>\n",
       "  <tbody>\n",
       "    <tr>\n",
       "      <th>0</th>\n",
       "      <td>0.000000e+00</td>\n",
       "      <td>0.000000e+00</td>\n",
       "      <td>1</td>\n",
       "      <td>1</td>\n",
       "      <td>1</td>\n",
       "      <td>`gtol` termination condition is satisfied.</td>\n",
       "      <td>True</td>\n",
       "    </tr>\n",
       "    <tr>\n",
       "      <th>1</th>\n",
       "      <td>1.803773e-16</td>\n",
       "      <td>7.100204e-12</td>\n",
       "      <td>18</td>\n",
       "      <td>9</td>\n",
       "      <td>1</td>\n",
       "      <td>`gtol` termination condition is satisfied.</td>\n",
       "      <td>True</td>\n",
       "    </tr>\n",
       "    <tr>\n",
       "      <th>2</th>\n",
       "      <td>6.697355e-08</td>\n",
       "      <td>4.612108e-11</td>\n",
       "      <td>15</td>\n",
       "      <td>12</td>\n",
       "      <td>1</td>\n",
       "      <td>`gtol` termination condition is satisfied.</td>\n",
       "      <td>True</td>\n",
       "    </tr>\n",
       "    <tr>\n",
       "      <th>3</th>\n",
       "      <td>7.062310e-08</td>\n",
       "      <td>4.708447e-11</td>\n",
       "      <td>5</td>\n",
       "      <td>5</td>\n",
       "      <td>1</td>\n",
       "      <td>`gtol` termination condition is satisfied.</td>\n",
       "      <td>True</td>\n",
       "    </tr>\n",
       "    <tr>\n",
       "      <th>4</th>\n",
       "      <td>7.210432e-08</td>\n",
       "      <td>8.641653e-11</td>\n",
       "      <td>5</td>\n",
       "      <td>5</td>\n",
       "      <td>1</td>\n",
       "      <td>`gtol` termination condition is satisfied.</td>\n",
       "      <td>True</td>\n",
       "    </tr>\n",
       "    <tr>\n",
       "      <th>5</th>\n",
       "      <td>7.569806e-08</td>\n",
       "      <td>1.384932e-11</td>\n",
       "      <td>8</td>\n",
       "      <td>8</td>\n",
       "      <td>1</td>\n",
       "      <td>`gtol` termination condition is satisfied.</td>\n",
       "      <td>True</td>\n",
       "    </tr>\n",
       "    <tr>\n",
       "      <th>6</th>\n",
       "      <td>7.786978e-08</td>\n",
       "      <td>4.636920e-11</td>\n",
       "      <td>3</td>\n",
       "      <td>3</td>\n",
       "      <td>1</td>\n",
       "      <td>`gtol` termination condition is satisfied.</td>\n",
       "      <td>True</td>\n",
       "    </tr>\n",
       "    <tr>\n",
       "      <th>7</th>\n",
       "      <td>7.798887e-08</td>\n",
       "      <td>7.427331e-11</td>\n",
       "      <td>4</td>\n",
       "      <td>4</td>\n",
       "      <td>1</td>\n",
       "      <td>`gtol` termination condition is satisfied.</td>\n",
       "      <td>True</td>\n",
       "    </tr>\n",
       "    <tr>\n",
       "      <th>8</th>\n",
       "      <td>7.800256e-08</td>\n",
       "      <td>3.191885e-11</td>\n",
       "      <td>2</td>\n",
       "      <td>2</td>\n",
       "      <td>1</td>\n",
       "      <td>`gtol` termination condition is satisfied.</td>\n",
       "      <td>True</td>\n",
       "    </tr>\n",
       "    <tr>\n",
       "      <th>9</th>\n",
       "      <td>7.800287e-08</td>\n",
       "      <td>7.424655e-12</td>\n",
       "      <td>1</td>\n",
       "      <td>1</td>\n",
       "      <td>1</td>\n",
       "      <td>`gtol` termination condition is satisfied.</td>\n",
       "      <td>True</td>\n",
       "    </tr>\n",
       "    <tr>\n",
       "      <th>10</th>\n",
       "      <td>8.447186e-08</td>\n",
       "      <td>4.457985e-11</td>\n",
       "      <td>5</td>\n",
       "      <td>5</td>\n",
       "      <td>1</td>\n",
       "      <td>`gtol` termination condition is satisfied.</td>\n",
       "      <td>True</td>\n",
       "    </tr>\n",
       "    <tr>\n",
       "      <th>11</th>\n",
       "      <td>8.455755e-08</td>\n",
       "      <td>6.152257e-11</td>\n",
       "      <td>4</td>\n",
       "      <td>4</td>\n",
       "      <td>1</td>\n",
       "      <td>`gtol` termination condition is satisfied.</td>\n",
       "      <td>True</td>\n",
       "    </tr>\n",
       "    <tr>\n",
       "      <th>12</th>\n",
       "      <td>8.856386e-08</td>\n",
       "      <td>8.243892e-11</td>\n",
       "      <td>5</td>\n",
       "      <td>5</td>\n",
       "      <td>1</td>\n",
       "      <td>`gtol` termination condition is satisfied.</td>\n",
       "      <td>True</td>\n",
       "    </tr>\n",
       "    <tr>\n",
       "      <th>13</th>\n",
       "      <td>8.935024e-08</td>\n",
       "      <td>9.583065e-11</td>\n",
       "      <td>3</td>\n",
       "      <td>3</td>\n",
       "      <td>1</td>\n",
       "      <td>`gtol` termination condition is satisfied.</td>\n",
       "      <td>True</td>\n",
       "    </tr>\n",
       "    <tr>\n",
       "      <th>14</th>\n",
       "      <td>8.936482e-08</td>\n",
       "      <td>3.873694e-12</td>\n",
       "      <td>4</td>\n",
       "      <td>4</td>\n",
       "      <td>1</td>\n",
       "      <td>`gtol` termination condition is satisfied.</td>\n",
       "      <td>True</td>\n",
       "    </tr>\n",
       "    <tr>\n",
       "      <th>15</th>\n",
       "      <td>1.026290e-07</td>\n",
       "      <td>1.408635e-11</td>\n",
       "      <td>6</td>\n",
       "      <td>6</td>\n",
       "      <td>1</td>\n",
       "      <td>`gtol` termination condition is satisfied.</td>\n",
       "      <td>True</td>\n",
       "    </tr>\n",
       "    <tr>\n",
       "      <th>16</th>\n",
       "      <td>1.439119e-07</td>\n",
       "      <td>5.739255e-11</td>\n",
       "      <td>8</td>\n",
       "      <td>8</td>\n",
       "      <td>1</td>\n",
       "      <td>`gtol` termination condition is satisfied.</td>\n",
       "      <td>True</td>\n",
       "    </tr>\n",
       "    <tr>\n",
       "      <th>17</th>\n",
       "      <td>1.439255e-07</td>\n",
       "      <td>8.226680e-11</td>\n",
       "      <td>3</td>\n",
       "      <td>3</td>\n",
       "      <td>1</td>\n",
       "      <td>`gtol` termination condition is satisfied.</td>\n",
       "      <td>True</td>\n",
       "    </tr>\n",
       "    <tr>\n",
       "      <th>18</th>\n",
       "      <td>1.469180e-07</td>\n",
       "      <td>6.044616e-11</td>\n",
       "      <td>5</td>\n",
       "      <td>5</td>\n",
       "      <td>1</td>\n",
       "      <td>`gtol` termination condition is satisfied.</td>\n",
       "      <td>True</td>\n",
       "    </tr>\n",
       "    <tr>\n",
       "      <th>19</th>\n",
       "      <td>1.477087e-07</td>\n",
       "      <td>8.808067e-11</td>\n",
       "      <td>5</td>\n",
       "      <td>5</td>\n",
       "      <td>1</td>\n",
       "      <td>`gtol` termination condition is satisfied.</td>\n",
       "      <td>True</td>\n",
       "    </tr>\n",
       "    <tr>\n",
       "      <th>20</th>\n",
       "      <td>1.477120e-07</td>\n",
       "      <td>7.721720e-11</td>\n",
       "      <td>1</td>\n",
       "      <td>1</td>\n",
       "      <td>1</td>\n",
       "      <td>`gtol` termination condition is satisfied.</td>\n",
       "      <td>True</td>\n",
       "    </tr>\n",
       "    <tr>\n",
       "      <th>21</th>\n",
       "      <td>1.628699e-07</td>\n",
       "      <td>5.065488e-11</td>\n",
       "      <td>9</td>\n",
       "      <td>9</td>\n",
       "      <td>1</td>\n",
       "      <td>`gtol` termination condition is satisfied.</td>\n",
       "      <td>True</td>\n",
       "    </tr>\n",
       "    <tr>\n",
       "      <th>22</th>\n",
       "      <td>1.633582e-07</td>\n",
       "      <td>4.665118e-11</td>\n",
       "      <td>4</td>\n",
       "      <td>4</td>\n",
       "      <td>1</td>\n",
       "      <td>`gtol` termination condition is satisfied.</td>\n",
       "      <td>True</td>\n",
       "    </tr>\n",
       "    <tr>\n",
       "      <th>23</th>\n",
       "      <td>3.013711e-07</td>\n",
       "      <td>4.808944e-11</td>\n",
       "      <td>12</td>\n",
       "      <td>9</td>\n",
       "      <td>1</td>\n",
       "      <td>`gtol` termination condition is satisfied.</td>\n",
       "      <td>True</td>\n",
       "    </tr>\n",
       "    <tr>\n",
       "      <th>24</th>\n",
       "      <td>3.023335e-07</td>\n",
       "      <td>6.790253e-11</td>\n",
       "      <td>4</td>\n",
       "      <td>3</td>\n",
       "      <td>1</td>\n",
       "      <td>`gtol` termination condition is satisfied.</td>\n",
       "      <td>True</td>\n",
       "    </tr>\n",
       "    <tr>\n",
       "      <th>25</th>\n",
       "      <td>4.553884e-07</td>\n",
       "      <td>7.852606e-11</td>\n",
       "      <td>9</td>\n",
       "      <td>6</td>\n",
       "      <td>1</td>\n",
       "      <td>`gtol` termination condition is satisfied.</td>\n",
       "      <td>True</td>\n",
       "    </tr>\n",
       "    <tr>\n",
       "      <th>26</th>\n",
       "      <td>4.820828e-07</td>\n",
       "      <td>7.191389e-11</td>\n",
       "      <td>8</td>\n",
       "      <td>5</td>\n",
       "      <td>1</td>\n",
       "      <td>`gtol` termination condition is satisfied.</td>\n",
       "      <td>True</td>\n",
       "    </tr>\n",
       "    <tr>\n",
       "      <th>27</th>\n",
       "      <td>4.839807e-07</td>\n",
       "      <td>7.863240e-12</td>\n",
       "      <td>9</td>\n",
       "      <td>6</td>\n",
       "      <td>1</td>\n",
       "      <td>`gtol` termination condition is satisfied.</td>\n",
       "      <td>True</td>\n",
       "    </tr>\n",
       "    <tr>\n",
       "      <th>28</th>\n",
       "      <td>4.872572e-07</td>\n",
       "      <td>5.353059e-08</td>\n",
       "      <td>10</td>\n",
       "      <td>6</td>\n",
       "      <td>2</td>\n",
       "      <td>`ftol` termination condition is satisfied.</td>\n",
       "      <td>True</td>\n",
       "    </tr>\n",
       "    <tr>\n",
       "      <th>29</th>\n",
       "      <td>4.873086e-07</td>\n",
       "      <td>1.664165e-11</td>\n",
       "      <td>2</td>\n",
       "      <td>2</td>\n",
       "      <td>1</td>\n",
       "      <td>`gtol` termination condition is satisfied.</td>\n",
       "      <td>True</td>\n",
       "    </tr>\n",
       "    <tr>\n",
       "      <th>30</th>\n",
       "      <td>4.873778e-07</td>\n",
       "      <td>6.272252e-12</td>\n",
       "      <td>4</td>\n",
       "      <td>3</td>\n",
       "      <td>1</td>\n",
       "      <td>`gtol` termination condition is satisfied.</td>\n",
       "      <td>True</td>\n",
       "    </tr>\n",
       "    <tr>\n",
       "      <th>31</th>\n",
       "      <td>5.014404e-07</td>\n",
       "      <td>2.201190e-11</td>\n",
       "      <td>4</td>\n",
       "      <td>3</td>\n",
       "      <td>1</td>\n",
       "      <td>`gtol` termination condition is satisfied.</td>\n",
       "      <td>True</td>\n",
       "    </tr>\n",
       "    <tr>\n",
       "      <th>32</th>\n",
       "      <td>5.075893e-07</td>\n",
       "      <td>3.310594e-11</td>\n",
       "      <td>6</td>\n",
       "      <td>4</td>\n",
       "      <td>1</td>\n",
       "      <td>`gtol` termination condition is satisfied.</td>\n",
       "      <td>True</td>\n",
       "    </tr>\n",
       "    <tr>\n",
       "      <th>33</th>\n",
       "      <td>5.111513e-07</td>\n",
       "      <td>6.577341e-11</td>\n",
       "      <td>4</td>\n",
       "      <td>3</td>\n",
       "      <td>1</td>\n",
       "      <td>`gtol` termination condition is satisfied.</td>\n",
       "      <td>True</td>\n",
       "    </tr>\n",
       "    <tr>\n",
       "      <th>34</th>\n",
       "      <td>5.628661e-07</td>\n",
       "      <td>2.057728e-11</td>\n",
       "      <td>4</td>\n",
       "      <td>3</td>\n",
       "      <td>1</td>\n",
       "      <td>`gtol` termination condition is satisfied.</td>\n",
       "      <td>True</td>\n",
       "    </tr>\n",
       "    <tr>\n",
       "      <th>35</th>\n",
       "      <td>5.710027e-07</td>\n",
       "      <td>7.737705e-11</td>\n",
       "      <td>6</td>\n",
       "      <td>4</td>\n",
       "      <td>1</td>\n",
       "      <td>`gtol` termination condition is satisfied.</td>\n",
       "      <td>True</td>\n",
       "    </tr>\n",
       "    <tr>\n",
       "      <th>36</th>\n",
       "      <td>5.864770e-07</td>\n",
       "      <td>3.463290e-12</td>\n",
       "      <td>9</td>\n",
       "      <td>6</td>\n",
       "      <td>1</td>\n",
       "      <td>`gtol` termination condition is satisfied.</td>\n",
       "      <td>True</td>\n",
       "    </tr>\n",
       "    <tr>\n",
       "      <th>37</th>\n",
       "      <td>5.887812e-07</td>\n",
       "      <td>2.819277e-11</td>\n",
       "      <td>6</td>\n",
       "      <td>4</td>\n",
       "      <td>1</td>\n",
       "      <td>`gtol` termination condition is satisfied.</td>\n",
       "      <td>True</td>\n",
       "    </tr>\n",
       "    <tr>\n",
       "      <th>38</th>\n",
       "      <td>6.140647e-07</td>\n",
       "      <td>6.369825e-12</td>\n",
       "      <td>6</td>\n",
       "      <td>5</td>\n",
       "      <td>1</td>\n",
       "      <td>`gtol` termination condition is satisfied.</td>\n",
       "      <td>True</td>\n",
       "    </tr>\n",
       "    <tr>\n",
       "      <th>39</th>\n",
       "      <td>6.203140e-07</td>\n",
       "      <td>9.217365e-11</td>\n",
       "      <td>4</td>\n",
       "      <td>3</td>\n",
       "      <td>1</td>\n",
       "      <td>`gtol` termination condition is satisfied.</td>\n",
       "      <td>True</td>\n",
       "    </tr>\n",
       "  </tbody>\n",
       "</table>\n",
       "</div>"
      ],
      "text/plain": [
       "            cost    optimality  nfev  njev  status  \\\n",
       "0   0.000000e+00  0.000000e+00     1     1       1   \n",
       "1   1.803773e-16  7.100204e-12    18     9       1   \n",
       "2   6.697355e-08  4.612108e-11    15    12       1   \n",
       "3   7.062310e-08  4.708447e-11     5     5       1   \n",
       "4   7.210432e-08  8.641653e-11     5     5       1   \n",
       "5   7.569806e-08  1.384932e-11     8     8       1   \n",
       "6   7.786978e-08  4.636920e-11     3     3       1   \n",
       "7   7.798887e-08  7.427331e-11     4     4       1   \n",
       "8   7.800256e-08  3.191885e-11     2     2       1   \n",
       "9   7.800287e-08  7.424655e-12     1     1       1   \n",
       "10  8.447186e-08  4.457985e-11     5     5       1   \n",
       "11  8.455755e-08  6.152257e-11     4     4       1   \n",
       "12  8.856386e-08  8.243892e-11     5     5       1   \n",
       "13  8.935024e-08  9.583065e-11     3     3       1   \n",
       "14  8.936482e-08  3.873694e-12     4     4       1   \n",
       "15  1.026290e-07  1.408635e-11     6     6       1   \n",
       "16  1.439119e-07  5.739255e-11     8     8       1   \n",
       "17  1.439255e-07  8.226680e-11     3     3       1   \n",
       "18  1.469180e-07  6.044616e-11     5     5       1   \n",
       "19  1.477087e-07  8.808067e-11     5     5       1   \n",
       "20  1.477120e-07  7.721720e-11     1     1       1   \n",
       "21  1.628699e-07  5.065488e-11     9     9       1   \n",
       "22  1.633582e-07  4.665118e-11     4     4       1   \n",
       "23  3.013711e-07  4.808944e-11    12     9       1   \n",
       "24  3.023335e-07  6.790253e-11     4     3       1   \n",
       "25  4.553884e-07  7.852606e-11     9     6       1   \n",
       "26  4.820828e-07  7.191389e-11     8     5       1   \n",
       "27  4.839807e-07  7.863240e-12     9     6       1   \n",
       "28  4.872572e-07  5.353059e-08    10     6       2   \n",
       "29  4.873086e-07  1.664165e-11     2     2       1   \n",
       "30  4.873778e-07  6.272252e-12     4     3       1   \n",
       "31  5.014404e-07  2.201190e-11     4     3       1   \n",
       "32  5.075893e-07  3.310594e-11     6     4       1   \n",
       "33  5.111513e-07  6.577341e-11     4     3       1   \n",
       "34  5.628661e-07  2.057728e-11     4     3       1   \n",
       "35  5.710027e-07  7.737705e-11     6     4       1   \n",
       "36  5.864770e-07  3.463290e-12     9     6       1   \n",
       "37  5.887812e-07  2.819277e-11     6     4       1   \n",
       "38  6.140647e-07  6.369825e-12     6     5       1   \n",
       "39  6.203140e-07  9.217365e-11     4     3       1   \n",
       "\n",
       "                                       message  success  \n",
       "0   `gtol` termination condition is satisfied.     True  \n",
       "1   `gtol` termination condition is satisfied.     True  \n",
       "2   `gtol` termination condition is satisfied.     True  \n",
       "3   `gtol` termination condition is satisfied.     True  \n",
       "4   `gtol` termination condition is satisfied.     True  \n",
       "5   `gtol` termination condition is satisfied.     True  \n",
       "6   `gtol` termination condition is satisfied.     True  \n",
       "7   `gtol` termination condition is satisfied.     True  \n",
       "8   `gtol` termination condition is satisfied.     True  \n",
       "9   `gtol` termination condition is satisfied.     True  \n",
       "10  `gtol` termination condition is satisfied.     True  \n",
       "11  `gtol` termination condition is satisfied.     True  \n",
       "12  `gtol` termination condition is satisfied.     True  \n",
       "13  `gtol` termination condition is satisfied.     True  \n",
       "14  `gtol` termination condition is satisfied.     True  \n",
       "15  `gtol` termination condition is satisfied.     True  \n",
       "16  `gtol` termination condition is satisfied.     True  \n",
       "17  `gtol` termination condition is satisfied.     True  \n",
       "18  `gtol` termination condition is satisfied.     True  \n",
       "19  `gtol` termination condition is satisfied.     True  \n",
       "20  `gtol` termination condition is satisfied.     True  \n",
       "21  `gtol` termination condition is satisfied.     True  \n",
       "22  `gtol` termination condition is satisfied.     True  \n",
       "23  `gtol` termination condition is satisfied.     True  \n",
       "24  `gtol` termination condition is satisfied.     True  \n",
       "25  `gtol` termination condition is satisfied.     True  \n",
       "26  `gtol` termination condition is satisfied.     True  \n",
       "27  `gtol` termination condition is satisfied.     True  \n",
       "28  `ftol` termination condition is satisfied.     True  \n",
       "29  `gtol` termination condition is satisfied.     True  \n",
       "30  `gtol` termination condition is satisfied.     True  \n",
       "31  `gtol` termination condition is satisfied.     True  \n",
       "32  `gtol` termination condition is satisfied.     True  \n",
       "33  `gtol` termination condition is satisfied.     True  \n",
       "34  `gtol` termination condition is satisfied.     True  \n",
       "35  `gtol` termination condition is satisfied.     True  \n",
       "36  `gtol` termination condition is satisfied.     True  \n",
       "37  `gtol` termination condition is satisfied.     True  \n",
       "38  `gtol` termination condition is satisfied.     True  \n",
       "39  `gtol` termination condition is satisfied.     True  "
      ]
     },
     "execution_count": 69,
     "metadata": {},
     "output_type": "execute_result"
    }
   ],
   "source": [
    "ls_res = fvm.show_ls_results()\n",
    "ls_res"
   ]
  },
  {
   "cell_type": "code",
   "execution_count": 70,
   "id": "4cfbf569",
   "metadata": {},
   "outputs": [
    {
     "data": {
      "text/plain": [
       "Series([], dtype: float64)"
      ]
     },
     "execution_count": 70,
     "metadata": {},
     "output_type": "execute_result"
    }
   ],
   "source": [
    "fvm.hist_output"
   ]
  },
  {
   "cell_type": "code",
   "execution_count": 71,
   "id": "330b52a1",
   "metadata": {
    "scrolled": true
   },
   "outputs": [
    {
     "data": {
      "text/plain": [
       "[{'alpha_0': array([0.00030007]),\n",
       "  'alpha': array([[0.01]]),\n",
       "  'beta': array([[0.49]])},\n",
       " {'alpha_0': array([0.00037382]),\n",
       "  'alpha': array([[0.00999555]]),\n",
       "  'beta': array([[0.48978198]])},\n",
       " {'alpha_0': array([6.99715435e-20], dtype=float128),\n",
       "  'alpha': array([[3.90115028e-08]], dtype=float128),\n",
       "  'beta': array([[0.64167288]], dtype=float128)},\n",
       " {'alpha_0': array([8.22846046e-36]),\n",
       "  'alpha': array([[1.01396942e-14]]),\n",
       "  'beta': array([[0.60099349]])},\n",
       " {'alpha_0': array([5.33086688e-35]),\n",
       "  'alpha': array([[1.9021717e-16]]),\n",
       "  'beta': array([[0.58605861]])},\n",
       " {'alpha_0': array([1.00941301e-37, 1.51347894e-45], dtype=float128),\n",
       "  'alpha': array([[1.02932356e-10, 1.02932495e-10]], dtype=float128),\n",
       "  'beta': array([[0.6017367 , 0.60173738]], dtype=float128)},\n",
       " {'alpha_0': array([6.76744555e-06, 2.48297357e-12], dtype=float128),\n",
       "  'alpha': array([[1.02619936e-10, 1.02620075e-10]], dtype=float128),\n",
       "  'beta': array([[0.60173544, 0.60173612]], dtype=float128)},\n",
       " {'alpha_0': array([9.82842353e-07, 1.45230921e-11]),\n",
       "  'alpha': array([[3.59375451e-16, 3.59375935e-16]]),\n",
       "  'beta': array([[0.60852155, 0.60852224]])},\n",
       " {'alpha_0': array([3.76015276e-07, 3.82579439e-11]),\n",
       "  'alpha': array([[1.77215517e-12, 1.77215519e-12]]),\n",
       "  'beta': array([[0.60899749, 0.60899818]])},\n",
       " {'alpha_0': array([3.76015276e-07, 1.00000000e-10]),\n",
       "  'alpha': array([[1.e-10, 1.e-10]]),\n",
       "  'beta': array([[0.60899749, 0.60899818]])},\n",
       " {'alpha_0': array([1.16979483e-05, 1.13233040e-05]),\n",
       "  'alpha': array([[7.23647824e-22, 7.23637635e-22]]),\n",
       "  'beta': array([[0.5775234 , 0.57752415]])},\n",
       " {'alpha_0': array([1.30591766e-05, 1.23419527e-05]),\n",
       "  'alpha': array([[1.97773188e-18, 1.97772946e-18]]),\n",
       "  'beta': array([[0.57407579, 0.5740767 ]])},\n",
       " {'alpha_0': array([1.95305093e-05, 1.89149529e-05, 1.93088993e-05]),\n",
       "  'alpha': array([[1.08372557e-22, 1.09040802e-22, 1.08954485e-22]]),\n",
       "  'beta': array([[0.55724111, 0.55724208, 0.55724158]])},\n",
       " {'alpha_0': array([1.70389381e-05, 1.65019103e-05, 1.68455996e-05]),\n",
       "  'alpha': array([[2.55229048e-13, 2.55229046e-13, 2.55229043e-13]]),\n",
       "  'beta': array([[0.56303362, 0.56303453, 0.56303402]])},\n",
       " {'alpha_0': array([1.90585909e-05, 1.65573240e-05, 1.80133553e-05, 1.45414202e-05]),\n",
       "  'alpha': array([[2.84623023e-20, 2.84622836e-20, 2.84614858e-20, 2.84617579e-20]]),\n",
       "  'beta': array([[0.56270027, 0.56270874, 0.56270683, 0.56270685]])},\n",
       " {'alpha_0': array([2.74908134e-05, 2.51987524e-05, 2.66059642e-05, 2.29346854e-05]),\n",
       "  'alpha': array([[8.89585756e-24, 8.89672305e-24, 8.89748262e-24, 8.90166939e-24]]),\n",
       "  'beta': array([[0.54120042, 0.5412066 , 0.54120659, 0.54120663]])},\n",
       " {'alpha_0': array([5.22250114e-05, 8.28770623e-05, 9.31194854e-08, 2.35417518e-05],\n",
       "        dtype=float128),\n",
       "  'alpha': array([[1.76094179e-28, 3.21955993e-27, 7.64351000e-27, 3.94496294e-29]],\n",
       "        dtype=float128),\n",
       "  'beta': array([[0.51017835, 0.51018382, 0.51018381, 0.51018384]], dtype=float128)},\n",
       " {'alpha_0': array([5.18941050e-05, 8.23519393e-05, 9.25294647e-08, 2.33925873e-05]),\n",
       "  'alpha': array([[6.32142954e-14, 6.32142947e-14, 6.32142947e-14, 6.32142947e-14]]),\n",
       "  'beta': array([[0.5103996 , 0.51040425, 0.51040425, 0.51040473]])},\n",
       " {'alpha_0': array([4.74656937e-05, 7.55383880e-05, 3.10701757e-07, 2.12267348e-05]),\n",
       "  'alpha': array([[2.75065003e-14, 2.75065000e-14, 2.75065005e-14, 2.75064998e-14]]),\n",
       "  'beta': array([[0.51733128, 0.51733601, 0.5173359 , 0.51733636]])},\n",
       " {'alpha_0': array([4.56123209e-05, 7.09943051e-05, 3.14414441e-07, 2.15447260e-05,\n",
       "         3.46116428e-05]),\n",
       "  'alpha': array([[3.97211477e-21, 3.97818798e-21, 3.97542551e-21, 3.97776531e-21,\n",
       "          3.97205579e-21]]),\n",
       "  'beta': array([[0.520325  , 0.52032952, 0.52032954, 0.52032988, 0.52032852]])},\n",
       " {'alpha_0': array([4.56123209e-05, 7.09943051e-05, 3.14414441e-07, 2.15447260e-05,\n",
       "         3.46116428e-05]),\n",
       "  'alpha': array([[1.e-10, 1.e-10, 1.e-10, 1.e-10, 1.e-10]]),\n",
       "  'beta': array([[0.520325  , 0.52032952, 0.52032954, 0.52032988, 0.52032852]])},\n",
       " {'alpha_0': array([6.63131373e-05, 6.96845880e-05, 4.39191197e-06, 5.10107486e-10,\n",
       "         6.17596071e-05], dtype=float128),\n",
       "  'alpha': array([[3.45675486e-27, 5.68770556e-31, 3.36514311e-27, 7.85693641e-27,\n",
       "          1.01944101e-26]], dtype=float128),\n",
       "  'beta': array([[0.5090696 , 0.50907395, 0.50907402, 0.5090744 , 0.50907312]],\n",
       "        dtype=float128)},\n",
       " {'alpha_0': array([6.47746211e-05, 6.80678358e-05, 4.29001521e-06, 4.98272455e-10,\n",
       "         6.03267187e-05]),\n",
       "  'alpha': array([[2.59879979e-13, 2.59877247e-13, 2.59877225e-13, 2.59876612e-13,\n",
       "          2.59876521e-13]]),\n",
       "  'beta': array([[0.51039056, 0.51039492, 0.51039505, 0.51039539, 0.51039394]])},\n",
       " {'alpha_0': array([9.30798612e-05, 1.04736691e-04, 1.59571505e-08, 3.98686604e-06,\n",
       "         7.96816747e-05], dtype=float128),\n",
       "  'alpha': array([[1.89863023e-19, 2.20388833e-19, 5.79890883e-20, 1.61611105e-19,\n",
       "          1.23512948e-19]], dtype=float128),\n",
       "  'beta': array([[0.47942098, 0.47942747, 0.47942758, 0.47942865, 0.47942757]],\n",
       "        dtype=float128)},\n",
       " {'alpha_0': array([9.07332524e-05, 1.02096209e-04, 1.55548600e-08, 3.88635447e-06,\n",
       "         7.76728461e-05, 5.48808440e-05]),\n",
       "  'alpha': array([[1.17034233e-11, 1.17033703e-11, 1.17033701e-11, 1.17033682e-11,\n",
       "          1.17033689e-11, 1.17033678e-11]]),\n",
       "  'beta': array([[0.4821208 , 0.48212724, 0.48212739, 0.48212842, 0.48212738,\n",
       "          0.48212621]])},\n",
       " {'alpha_0': array([1.05664991e-04, 1.16878658e-04, 1.57799813e-05, 1.95431937e-05,\n",
       "         9.27441289e-05, 7.01694878e-05]),\n",
       "  'alpha': array([[0.04260397, 0.04260319, 0.04260317, 0.04260296, 0.04260292,\n",
       "          0.04260302]]),\n",
       "  'beta': array([[0.42856199, 0.42857703, 0.42857728, 0.42858061, 0.42857983,\n",
       "          0.42857758]])},\n",
       " {'alpha_0': array([1.03883249e-04, 1.14554208e-04, 1.83466764e-05, 2.19277226e-05,\n",
       "         9.15872991e-05, 7.01051461e-05]),\n",
       "  'alpha': array([[0.16398176, 0.16398197, 0.16398197, 0.16398202, 0.16398202,\n",
       "          0.16398201]]),\n",
       "  'beta': array([[0.356295  , 0.35632523, 0.35632559, 0.35633292, 0.35633266,\n",
       "          0.35632857]])},\n",
       " {'alpha_0': array([1.03481721e-04, 1.14016985e-04, 1.81919934e-05, 2.16592784e-05,\n",
       "         9.11477124e-05, 6.96808267e-05]),\n",
       "  'alpha': array([[0.18127226, 0.18127246, 0.18127243, 0.18127254, 0.18127253,\n",
       "          0.18127252]]),\n",
       "  'beta': array([[0.3512629 , 0.35129338, 0.35129372, 0.35130095, 0.35130066,\n",
       "          0.35129663]])},\n",
       " {'alpha_0': array([1.03275764e-04, 1.13901425e-04, 1.80358930e-05, 2.14571301e-05,\n",
       "         9.09883090e-05, 6.95093034e-05]),\n",
       "  'alpha': array([[0.19365668, 0.19365685, 0.19365686, 0.19365696, 0.19365695,\n",
       "          0.19365693]]),\n",
       "  'beta': array([[0.35151074, 0.35154121, 0.35154156, 0.35154876, 0.35154846,\n",
       "          0.35154444]])},\n",
       " {'alpha_0': array([1.03332194e-04, 1.13957200e-04, 1.80922978e-05, 2.15134282e-05,\n",
       "         9.10445526e-05, 6.95648159e-05]),\n",
       "  'alpha': array([[0.19483719, 0.19483725, 0.19483726, 0.19483738, 0.19483736,\n",
       "          0.19483724]]),\n",
       "  'beta': array([[0.35137106, 0.35140144, 0.35140188, 0.35140909, 0.35140878,\n",
       "          0.35140467]])},\n",
       " {'alpha_0': array([1.03432874e-04, 1.14038458e-04, 1.81971803e-05, 2.16114429e-05,\n",
       "         9.11509591e-05, 6.96694778e-05]),\n",
       "  'alpha': array([[0.1953191 , 0.19531913, 0.19531916, 0.19531918, 0.19531936,\n",
       "          0.19531898]]),\n",
       "  'beta': array([[0.35182833, 0.35185863, 0.35185906, 0.35186626, 0.35186604,\n",
       "          0.35186185]])},\n",
       " {'alpha_0': array([9.91543223e-05, 1.09321197e-04, 1.74444443e-05, 2.07174739e-05,\n",
       "         8.73804506e-05, 6.67875625e-05, 6.68009073e-05]),\n",
       "  'alpha': array([[0.19168376, 0.19168376, 0.19168379, 0.1916838 , 0.19168398,\n",
       "          0.19168361, 0.19168377]]),\n",
       "  'beta': array([[0.35104038, 0.35107057, 0.351071  , 0.35107815, 0.35107794,\n",
       "          0.35107379, 0.35106873]])},\n",
       " {'alpha_0': array([9.41161577e-05, 1.03766388e-04, 1.65580602e-05, 1.96647792e-05,\n",
       "         8.29404806e-05, 6.33939595e-05, 6.34066200e-05]),\n",
       "  'alpha': array([[0.20351123, 0.20351106, 0.20351109, 0.20351107, 0.20351124,\n",
       "          0.20351087, 0.20351101]]),\n",
       "  'beta': array([[0.34471746, 0.34474718, 0.34474759, 0.34475458, 0.34475442,\n",
       "          0.34475039, 0.34474582]])},\n",
       " {'alpha_0': array([8.94688104e-05, 9.86425167e-05, 1.57404413e-05, 1.86937538e-05,\n",
       "         7.88449696e-05, 6.02636347e-05, 6.02756700e-05, 6.02756841e-05]),\n",
       "  'alpha': array([[0.21349754, 0.21349734, 0.21349739, 0.21349734, 0.21349748,\n",
       "          0.21349711, 0.21349729, 0.21349735]]),\n",
       "  'beta': array([[0.34249674, 0.34252615, 0.34252656, 0.34253345, 0.34253329,\n",
       "          0.34252933, 0.34252484, 0.34252438]])},\n",
       " {'alpha_0': array([1.02136104e-04, 1.11300110e-04, 2.84118811e-05, 3.13639827e-05,\n",
       "         9.15055871e-05, 7.29272636e-05, 7.29388555e-05, 7.29269009e-05]),\n",
       "  'alpha': array([[0.17718558, 0.17718535, 0.17718549, 0.17718545, 0.1771856 ,\n",
       "          0.17718517, 0.17718538, 0.17718549]]),\n",
       "  'beta': array([[0.3427643 , 0.34279365, 0.34279406, 0.34280091, 0.34280074,\n",
       "          0.3427968 , 0.34279222, 0.34279181]])},\n",
       " {'alpha_0': array([9.79819019e-05, 1.06773216e-04, 2.72562887e-05, 3.00883204e-05,\n",
       "         8.77837945e-05, 6.99611046e-05, 6.99722209e-05, 6.99607558e-05]),\n",
       "  'alpha': array([[0.1581369 , 0.15813688, 0.158137  , 0.15813697, 0.1581371 ,\n",
       "          0.15813673, 0.15813688, 0.15813701]]),\n",
       "  'beta': array([[0.36452023, 0.36455041, 0.36455084, 0.36455807, 0.36455791,\n",
       "          0.36455371, 0.36454901, 0.36454844]])},\n",
       " {'alpha_0': array([1.02599601e-04, 1.11081305e-04, 3.13783820e-05, 3.43381814e-05,\n",
       "         9.18379784e-05, 7.40684584e-05, 7.39286636e-05, 7.40070547e-05]),\n",
       "  'alpha': array([[0.15483218, 0.15483213, 0.15483229, 0.15483228, 0.15483241,\n",
       "          0.15483203, 0.15483221, 0.15483234]]),\n",
       "  'beta': array([[0.36236999, 0.36240024, 0.36240066, 0.36240785, 0.36240768,\n",
       "          0.36240349, 0.36239862, 0.36239815]])},\n",
       " {'alpha_0': array([1.01094381e-04, 1.09451722e-04, 3.09180557e-05, 3.38344395e-05,\n",
       "         9.04907155e-05, 7.29818696e-05, 7.28441390e-05, 7.29213740e-05]),\n",
       "  'alpha': array([[0.14898554, 0.14898574, 0.1489859 , 0.14898595, 0.14898608,\n",
       "          0.1489857 , 0.14898594, 0.14898603]]),\n",
       "  'beta': array([[0.36746823, 0.36749782, 0.36749824, 0.36750527, 0.36750506,\n",
       "          0.36750091, 0.36749568, 0.36749535]])},\n",
       " {'alpha_0': array([1.05620777e-04, 1.13646195e-04, 3.50134077e-05, 3.80041806e-05,\n",
       "         9.45039623e-05, 7.72767467e-05, 7.73147363e-05, 7.74580235e-05]),\n",
       "  'alpha': array([[0.14758239, 0.14758234, 0.14758248, 0.14758259, 0.14758267,\n",
       "          0.14758253, 0.14758279, 0.14758248]]),\n",
       "  'beta': array([[0.3666624 , 0.36666632, 0.36666662, 0.36669925, 0.36667362,\n",
       "          0.36669545, 0.36666434, 0.36666374]])},\n",
       " {'alpha_0': array([1.03812071e-04, 1.11700160e-04, 3.44138513e-05, 3.73534193e-05,\n",
       "         9.28857349e-05, 7.59535009e-05, 7.59908586e-05, 7.61316838e-05]),\n",
       "  'alpha': array([[0.13447745, 0.13447746, 0.13447758, 0.13447769, 0.13447777,\n",
       "          0.13447763, 0.13447788, 0.1344776 ]]),\n",
       "  'beta': array([[0.37658769, 0.3765906 , 0.3765909 , 0.37662415, 0.37659779,\n",
       "          0.37662032, 0.37658806, 0.37658758]])}]"
      ]
     },
     "execution_count": 71,
     "metadata": {},
     "output_type": "execute_result"
    }
   ],
   "source": [
    "fvm._parameters_hist"
   ]
  },
  {
   "cell_type": "markdown",
   "id": "451345f2",
   "metadata": {},
   "source": [
    "## Plots"
   ]
  },
  {
   "cell_type": "code",
   "execution_count": null,
   "id": "a3bc9ca3",
   "metadata": {},
   "outputs": [],
   "source": [
    "plt.plot(fvm._hist_output, label='forecast')\n",
    "plt.plot(fvm.train_data[1:].values ** 2, label='original')\n",
    "\n",
    "plt.legend()\n",
    "plt.grid()\n",
    "plt.show()"
   ]
  },
  {
   "cell_type": "code",
   "execution_count": null,
   "id": "2fd8d88a",
   "metadata": {},
   "outputs": [],
   "source": [
    "fvm.hist_output.plot(label='forecast')\n",
    "(test ** 2).plot(label='actual values')\n",
    "\n",
    "plt.legend()\n",
    "plt.grid()\n",
    "plt.show()"
   ]
  },
  {
   "cell_type": "code",
   "execution_count": null,
   "id": "78cc15a2",
   "metadata": {},
   "outputs": [],
   "source": [
    "fvm.hist_output.plot(label='forecast')\n",
    "(input_cut ** 2).plot(label='actual values')\n",
    "\n",
    "plt.legend()\n",
    "plt.grid()\n",
    "plt.show()"
   ]
  },
  {
   "cell_type": "code",
   "execution_count": null,
   "id": "ee59ee57",
   "metadata": {
    "scrolled": false
   },
   "outputs": [],
   "source": [
    "_h_w_nans = np.concatenate([[np.nan for _ in range(input_cut.shape[0] - n_points_fitting)], fvm.h])\n",
    "\n",
    "plt.plot(_h_w_nans, label='$h_t$')\n",
    "plt.plot(input_cut.values ** 2, label='$y_t^2$')\n",
    "\n",
    "plt.legend()\n",
    "plt.grid()\n",
    "plt.show()"
   ]
  },
  {
   "cell_type": "code",
   "execution_count": null,
   "id": "6f321f9e",
   "metadata": {},
   "outputs": [],
   "source": [
    "input_cut[-n_points_fitting:] ** 2"
   ]
  },
  {
   "cell_type": "code",
   "execution_count": null,
   "id": "1cf9ae48",
   "metadata": {
    "scrolled": true
   },
   "outputs": [],
   "source": [
    "fvm._h_hist"
   ]
  },
  {
   "cell_type": "code",
   "execution_count": null,
   "id": "0a3609cd",
   "metadata": {},
   "outputs": [],
   "source": [
    "fvm._hist_output"
   ]
  },
  {
   "cell_type": "code",
   "execution_count": null,
   "id": "a2732512",
   "metadata": {},
   "outputs": [],
   "source": [
    "_p = fvm._parameters_hist[-1]\n",
    "_p"
   ]
  },
  {
   "cell_type": "code",
   "execution_count": null,
   "id": "ec74afed",
   "metadata": {},
   "outputs": [],
   "source": [
    "calc_cond_var_fuzzy(_p['alpha_0'], _p['alpha'], _p['beta'],\n",
    "                    input_cut[-n_points_fitting:] ** 2, [input_cut[-n_points_fitting:][0]],\n",
    "                    fvm._membership_degrees_hist[-1])"
   ]
  },
  {
   "cell_type": "code",
   "execution_count": null,
   "id": "dcc9a596",
   "metadata": {},
   "outputs": [],
   "source": [
    "fvm._membership_degrees_hist[-1]"
   ]
  },
  {
   "cell_type": "markdown",
   "id": "fec70349",
   "metadata": {},
   "source": [
    "## Errors"
   ]
  },
  {
   "cell_type": "code",
   "execution_count": null,
   "id": "ac0a1f54",
   "metadata": {
    "scrolled": true
   },
   "outputs": [],
   "source": [
    "mean_squared_error(y_pred=fvm._hist_output, y_true=fvm.train_data[1:] ** 2, squared=True)"
   ]
  },
  {
   "cell_type": "code",
   "execution_count": null,
   "id": "734c3d7d",
   "metadata": {},
   "outputs": [],
   "source": [
    "rmse_ets = mean_squared_error(y_pred=fvm._hist_output, y_true=fvm.train_data[1:] ** 2, squared=False)\n",
    "rmse_ets"
   ]
  },
  {
   "cell_type": "code",
   "execution_count": null,
   "id": "18cebaf5",
   "metadata": {},
   "outputs": [],
   "source": [
    "mean_absolute_percentage_error(fvm._hist_output, fvm.train_data[1:] ** 2)"
   ]
  },
  {
   "cell_type": "markdown",
   "id": "8fff93f3",
   "metadata": {},
   "source": [
    "## RSS plots"
   ]
  },
  {
   "cell_type": "code",
   "execution_count": null,
   "id": "e4bc347c",
   "metadata": {},
   "outputs": [],
   "source": [
    "ranges = {}\n",
    "\n",
    "_step = .05\n",
    "ranges['alpha_0'] = np.arange(0, 1 + _step, _step)\n",
    "\n",
    "_step = .05\n",
    "ranges['alpha'] = np.arange(0, 1 + _step, _step)\n",
    "\n",
    "_step = .05\n",
    "ranges['beta'] = np.arange(0, 1 + _step, _step)"
   ]
  },
  {
   "cell_type": "code",
   "execution_count": null,
   "id": "72a4d9d7",
   "metadata": {},
   "outputs": [],
   "source": [
    "%%time\n",
    "\n",
    "rss = {'alpha_0': [], 'alpha': [], 'beta': []}\n",
    "\n",
    "for _param_1cl in ranges['alpha_0']:\n",
    "    _alpha_0 = np.concatenate([fvm.alpha_0[:-1], [_param_1cl]])\n",
    "    _params = pack_1d_parameters(_alpha_0, fvm.alpha, fvm.beta)\n",
    "    rss['alpha_0'].append((fvm._calc_residuals(_params) ** 2).sum())\n",
    "    \n",
    "for _param_1cl in ranges['alpha']:\n",
    "    _alpha = np.concatenate([fvm.alpha[:, :-1], [[_param_1cl]]], axis=1)\n",
    "    _params = pack_1d_parameters(fvm.alpha_0, _alpha, fvm.beta)\n",
    "    rss['alpha'].append((fvm._calc_residuals(_params) ** 2).sum())\n",
    "    \n",
    "for _param_1cl in ranges['beta']:\n",
    "    _beta = np.concatenate([fvm.beta[:, :-1], [[_param_1cl]]], axis=1)\n",
    "    _params = pack_1d_parameters(fvm.alpha_0, fvm.alpha, _beta)\n",
    "    rss['beta'].append((fvm._calc_residuals(_params) ** 2).sum())"
   ]
  },
  {
   "cell_type": "code",
   "execution_count": null,
   "id": "647110c9",
   "metadata": {
    "scrolled": true
   },
   "outputs": [],
   "source": [
    "%%time\n",
    "\n",
    "rss = {'alpha_0': {i: [] for i in range(n_clusters)},\n",
    "       'alpha': {i: [] for i in range(n_clusters)},\n",
    "       'beta': {i: [] for i in range(n_clusters)}}\n",
    "\n",
    "for i in range(n_clusters):\n",
    "    for _param_1cl in ranges['alpha_0']:\n",
    "        _alpha_0 = np.concatenate([fvm.alpha_0[:i], [_param_1cl], fvm.alpha_0[i + 1:]])\n",
    "        \n",
    "        _params = pack_1d_parameters(_alpha_0, fvm.alpha, fvm.beta)\n",
    "        rss['alpha_0'][i].append((fvm._calc_residuals(_params) ** 2).sum())\n",
    "\n",
    "_par_name = 'alpha'\n",
    "for i in range(n_clusters):\n",
    "    for _param_1cl in ranges[_par_name]:\n",
    "        _alpha = fvm.alpha.copy()\n",
    "        _alpha[0, i] = _param_1cl\n",
    "        \n",
    "        _params = pack_1d_parameters(fvm.alpha_0, _alpha, fvm.beta)\n",
    "        rss[_par_name][i].append((fvm._calc_residuals(_params) ** 2).sum())\n",
    "       \n",
    "_par_name = 'beta'\n",
    "for i in range(n_clusters):\n",
    "    for _param_1cl in ranges[_par_name]:\n",
    "        _beta = fvm.alpha.copy()\n",
    "        _beta[0, i] = _param_1cl\n",
    "        \n",
    "        _params = pack_1d_parameters(fvm.alpha_0, fvm.alpha, _beta)\n",
    "        rss[_par_name][i].append((fvm._calc_residuals(_params) ** 2).sum())"
   ]
  },
  {
   "cell_type": "code",
   "execution_count": null,
   "id": "91948849",
   "metadata": {
    "scrolled": true
   },
   "outputs": [],
   "source": [
    "for _param, _rss_cl in rss.items():\n",
    "    for _cl, _rss in _rss_cl.items():\n",
    "        plt.plot(ranges[_param], _rss)\n",
    "\n",
    "        plt.grid()\n",
    "        plt.title(_param + '\\n' + f'cluster #{_cl}')\n",
    "        plt.show()"
   ]
  },
  {
   "cell_type": "markdown",
   "id": "18a15b1b",
   "metadata": {},
   "source": [
    "# Model w/o seasoning"
   ]
  },
  {
   "cell_type": "code",
   "execution_count": null,
   "id": "fdb6931a",
   "metadata": {},
   "outputs": [],
   "source": [
    "lower_bounds_2 = [0] * (1 + p + q) * n_clusters_2\n",
    "upper_bounds_2 = [+np.inf] * n_clusters_2 + [1] * (p + q) * n_clusters_2\n",
    "bounds_2 = (lower_bounds_2, upper_bounds_2)"
   ]
  },
  {
   "cell_type": "code",
   "execution_count": null,
   "id": "6fdf3652",
   "metadata": {},
   "outputs": [],
   "source": [
    "alpha_0_ini_2 = np.array([garch_fitted.params.iloc[0] for _ in range(n_clusters_2)])\n",
    "alpha_ini_2 = np.array([garch_fitted.params.iloc[1:(q + 1)].values for _ in range(n_clusters_2)])\n",
    "beta_ini_2 = np.array([garch_fitted.params.iloc[(q + 1):].values for _ in range(n_clusters_2)])"
   ]
  },
  {
   "cell_type": "code",
   "execution_count": null,
   "id": "a67b301b",
   "metadata": {},
   "outputs": [],
   "source": [
    "parameters_ini_2 = {'alpha_0': alpha_0_ini_2, 'alpha': alpha_ini_2, 'beta': beta_ini_2}"
   ]
  },
  {
   "cell_type": "code",
   "execution_count": null,
   "id": "50ef1cbb",
   "metadata": {},
   "outputs": [],
   "source": [
    "local_method_parameters_2 = local_method_parameters.copy()\n",
    "local_method_parameters_2['bounds'] = bounds_2\n",
    "local_method_parameters_2['parameters_ini'] = parameters_ini_2"
   ]
  },
  {
   "cell_type": "code",
   "execution_count": null,
   "id": "16c3eb7b",
   "metadata": {},
   "outputs": [],
   "source": [
    "fvm_vanilla = FuzzyVolatilityModel(train,\n",
    "                           clusterization_method=clusterization_methods[1],\n",
    "                           clusterization_parameters=clusterization_parameters[1],\n",
    "                           local_method=local_method,\n",
    "                           local_method_parameters=local_method_parameters_2,\n",
    "                           n_last_points_to_use_for_clustering=n_last_points_to_use_for_clustering[1],\n",
    "                           data_to_cluster=data_to_cluster[1],\n",
    "                           cluster_sets_conjunction=cluster_sets_conjunction)"
   ]
  },
  {
   "cell_type": "markdown",
   "id": "850c6a7f",
   "metadata": {},
   "source": [
    "## `fit`"
   ]
  },
  {
   "cell_type": "code",
   "execution_count": null,
   "id": "11d8ef3d",
   "metadata": {},
   "outputs": [],
   "source": [
    "%%time\n",
    "\n",
    "fvm_vanilla.cluster()"
   ]
  },
  {
   "cell_type": "code",
   "execution_count": null,
   "id": "07786a21",
   "metadata": {
    "scrolled": true
   },
   "outputs": [],
   "source": [
    "%%time\n",
    "\n",
    "fvm_vanilla.fit()"
   ]
  },
  {
   "cell_type": "code",
   "execution_count": null,
   "id": "08143bd8",
   "metadata": {},
   "outputs": [],
   "source": [
    "n_last_points_to_use_for_clustering"
   ]
  },
  {
   "cell_type": "code",
   "execution_count": null,
   "id": "18921ce4",
   "metadata": {},
   "outputs": [],
   "source": [
    "fvm_vanilla.alpha_0"
   ]
  },
  {
   "cell_type": "code",
   "execution_count": null,
   "id": "a5f5154b",
   "metadata": {},
   "outputs": [],
   "source": [
    "fvm_vanilla.alpha"
   ]
  },
  {
   "cell_type": "code",
   "execution_count": null,
   "id": "815cccd7",
   "metadata": {},
   "outputs": [],
   "source": [
    "fvm_vanilla.beta"
   ]
  },
  {
   "cell_type": "code",
   "execution_count": null,
   "id": "bf955be6",
   "metadata": {},
   "outputs": [],
   "source": [
    "garch_fitted.params"
   ]
  },
  {
   "cell_type": "code",
   "execution_count": null,
   "id": "a8e8ccca",
   "metadata": {},
   "outputs": [],
   "source": [
    "fvm_vanilla._parameters_hist"
   ]
  },
  {
   "cell_type": "code",
   "execution_count": null,
   "id": "e14efe5d",
   "metadata": {},
   "outputs": [],
   "source": [
    "fvm_vanilla.membership_degrees_current"
   ]
  },
  {
   "cell_type": "code",
   "execution_count": null,
   "id": "b26c6bc0",
   "metadata": {},
   "outputs": [],
   "source": [
    "fvm_vanilla.clusters_parameters_current"
   ]
  },
  {
   "cell_type": "code",
   "execution_count": null,
   "id": "05fcfdd1",
   "metadata": {},
   "outputs": [],
   "source": [
    "data_to_cluster"
   ]
  },
  {
   "cell_type": "code",
   "execution_count": null,
   "id": "5641e255",
   "metadata": {},
   "outputs": [],
   "source": [
    "fvm_vanilla._membership_degrees_hist"
   ]
  },
  {
   "cell_type": "code",
   "execution_count": null,
   "id": "2da735ae",
   "metadata": {},
   "outputs": [],
   "source": [
    "fvm_vanilla.train_data"
   ]
  },
  {
   "cell_type": "markdown",
   "id": "3c8686b2",
   "metadata": {},
   "source": [
    "## `forecast`"
   ]
  },
  {
   "cell_type": "code",
   "execution_count": null,
   "id": "154aed08",
   "metadata": {},
   "outputs": [],
   "source": [
    "fvm_vanilla.forecast()"
   ]
  },
  {
   "cell_type": "code",
   "execution_count": null,
   "id": "a3711b8d",
   "metadata": {},
   "outputs": [],
   "source": [
    "fvm_vanilla.current_output"
   ]
  },
  {
   "cell_type": "code",
   "execution_count": null,
   "id": "3f041306",
   "metadata": {},
   "outputs": [],
   "source": [
    "fvm_vanilla._hist_output"
   ]
  },
  {
   "cell_type": "code",
   "execution_count": null,
   "id": "61a8cef9",
   "metadata": {
    "scrolled": true
   },
   "outputs": [],
   "source": [
    "plt.plot(fvm_vanilla.h, label='sqrt(h_t)')\n",
    "plt.plot(train.values ** 2, label='y_t')\n",
    "\n",
    "plt.legend()\n",
    "plt.grid()\n",
    "plt.show()"
   ]
  },
  {
   "cell_type": "code",
   "execution_count": null,
   "id": "a697a9cb",
   "metadata": {},
   "outputs": [],
   "source": [
    "fvm_vanilla.h"
   ]
  },
  {
   "cell_type": "markdown",
   "id": "049534ac",
   "metadata": {},
   "source": [
    "## `feed_daily_data`"
   ]
  },
  {
   "cell_type": "code",
   "execution_count": null,
   "id": "deacac68",
   "metadata": {},
   "outputs": [],
   "source": [
    "# n_test_small = 10\n",
    "# test_small = test.iloc[:n_test_small].copy()\n",
    "# input_cut = pd.concat([train, test_small]).copy()\n",
    "\n",
    "# data_to_cluster_test_1 = pd.Series(test_small.index.dayofweek + 1, index=test_small.index).copy()\n",
    "# data_to_cluster_test_2 = 'train'\n",
    "# data_to_cluster_test = [data_to_cluster_test_1, data_to_cluster_test_2]"
   ]
  },
  {
   "cell_type": "code",
   "execution_count": null,
   "id": "52707074",
   "metadata": {
    "scrolled": false
   },
   "outputs": [],
   "source": [
    "%%time\n",
    "\n",
    "fvm_vanilla.feed_daily_data(test_small, data_to_cluster=data_to_cluster_test_2)"
   ]
  },
  {
   "cell_type": "code",
   "execution_count": null,
   "id": "550b604f",
   "metadata": {},
   "outputs": [],
   "source": [
    "fvm_vanilla.data_to_cluster"
   ]
  },
  {
   "cell_type": "code",
   "execution_count": null,
   "id": "e6c248b7",
   "metadata": {},
   "outputs": [],
   "source": [
    "len(fvm_vanilla._hist_output)"
   ]
  },
  {
   "cell_type": "code",
   "execution_count": null,
   "id": "dbc2472f",
   "metadata": {},
   "outputs": [],
   "source": [
    "fvm_vanilla.h"
   ]
  },
  {
   "cell_type": "code",
   "execution_count": null,
   "id": "194e83d9",
   "metadata": {},
   "outputs": [],
   "source": [
    "_.shape"
   ]
  },
  {
   "cell_type": "code",
   "execution_count": null,
   "id": "ad1ae40a",
   "metadata": {},
   "outputs": [],
   "source": [
    "fvm_vanilla.data_to_cluster[-10:]"
   ]
  },
  {
   "cell_type": "code",
   "execution_count": null,
   "id": "4da79e98",
   "metadata": {},
   "outputs": [],
   "source": [
    "fvm_vanilla.membership_degrees_hist"
   ]
  },
  {
   "cell_type": "code",
   "execution_count": null,
   "id": "4358e76c",
   "metadata": {},
   "outputs": [],
   "source": [
    "fvm_vanilla.hist_output"
   ]
  },
  {
   "cell_type": "code",
   "execution_count": null,
   "id": "8f612b7c",
   "metadata": {},
   "outputs": [],
   "source": [
    "test"
   ]
  },
  {
   "cell_type": "code",
   "execution_count": null,
   "id": "893712be",
   "metadata": {},
   "outputs": [],
   "source": [
    "fvm_vanilla.membership_degrees_current"
   ]
  },
  {
   "cell_type": "code",
   "execution_count": null,
   "id": "11acb59e",
   "metadata": {},
   "outputs": [],
   "source": [
    "fvm_vanilla.clusterization_parameters"
   ]
  },
  {
   "cell_type": "code",
   "execution_count": null,
   "id": "82d32c14",
   "metadata": {
    "scrolled": true
   },
   "outputs": [],
   "source": [
    "fvm_vanilla._parameters_hist"
   ]
  },
  {
   "cell_type": "markdown",
   "id": "70f4fd09",
   "metadata": {},
   "source": [
    "### Plots"
   ]
  },
  {
   "cell_type": "code",
   "execution_count": null,
   "id": "7f68c3af",
   "metadata": {},
   "outputs": [],
   "source": [
    "plt.plot((np.array(fvm_vanilla._hist_output) ** .5), label='forecast')\n",
    "plt.plot(test_small.values, label='actual values')\n",
    "\n",
    "plt.legend()\n",
    "plt.grid()\n",
    "plt.show()"
   ]
  },
  {
   "cell_type": "code",
   "execution_count": null,
   "id": "2ae102a3",
   "metadata": {},
   "outputs": [],
   "source": [
    "(fvm_vanilla.hist_output ** .5).plot(label='forecast')\n",
    "test_small.plot(label='actual values')\n",
    "\n",
    "plt.legend()\n",
    "plt.grid()\n",
    "plt.show()"
   ]
  },
  {
   "cell_type": "code",
   "execution_count": null,
   "id": "c002898f",
   "metadata": {},
   "outputs": [],
   "source": [
    "(fvm_vanilla.hist_output ** .5).plot(label='forecast', figsize=(15, 8))\n",
    "input_cut.plot(label='actual values')\n",
    "\n",
    "plt.legend()\n",
    "plt.grid()\n",
    "plt.show()"
   ]
  },
  {
   "cell_type": "markdown",
   "id": "6b2e8ae4",
   "metadata": {},
   "source": [
    "### Errors"
   ]
  },
  {
   "cell_type": "code",
   "execution_count": null,
   "id": "c307806d",
   "metadata": {
    "scrolled": true
   },
   "outputs": [],
   "source": [
    "mean_squared_error(fvm_vanilla.hist_output ** .5, test_small, squared=True)"
   ]
  },
  {
   "cell_type": "code",
   "execution_count": null,
   "id": "87294864",
   "metadata": {},
   "outputs": [],
   "source": [
    "_ / mean_squared_error(fvm.hist_output ** .5, test_small, squared=True)"
   ]
  },
  {
   "cell_type": "code",
   "execution_count": null,
   "id": "f13748a2",
   "metadata": {},
   "outputs": [],
   "source": [
    "(_ - 1) * 100"
   ]
  },
  {
   "cell_type": "code",
   "execution_count": null,
   "id": "6b445093",
   "metadata": {},
   "outputs": [],
   "source": [
    "mean_squared_error(fvm_vanilla.hist_output ** .5, test_small, squared=False)"
   ]
  },
  {
   "cell_type": "code",
   "execution_count": null,
   "id": "6ecc2ea7",
   "metadata": {},
   "outputs": [],
   "source": [
    "mean_absolute_percentage_error(fvm_vanilla.hist_output ** .5, test_small)"
   ]
  },
  {
   "cell_type": "markdown",
   "id": "f527df76",
   "metadata": {},
   "source": [
    "## Diff w/ seasonal model"
   ]
  },
  {
   "cell_type": "code",
   "execution_count": null,
   "id": "33f7a5c5",
   "metadata": {},
   "outputs": [],
   "source": [
    "np.array(fvm._hist_output) - np.array(fvm_vanilla._hist_output)"
   ]
  },
  {
   "cell_type": "code",
   "execution_count": null,
   "id": "3458d28c",
   "metadata": {},
   "outputs": [],
   "source": [
    "_.mean()"
   ]
  },
  {
   "cell_type": "markdown",
   "id": "592c5dad",
   "metadata": {},
   "source": [
    "## Same data fed to GARCH(1, 1)"
   ]
  },
  {
   "cell_type": "markdown",
   "id": "ba0e281d",
   "metadata": {},
   "source": [
    "### No retraining"
   ]
  },
  {
   "cell_type": "code",
   "execution_count": null,
   "id": "528064bb",
   "metadata": {},
   "outputs": [],
   "source": [
    "model = arch_model(train,\n",
    "                   mean=local_method_parameters['mean'],\n",
    "                   vol='GARCH', p=local_method_parameters['p'],\n",
    "                   q=local_method_parameters['q'],\n",
    "                   dist=local_method_parameters['dist'])"
   ]
  },
  {
   "cell_type": "code",
   "execution_count": null,
   "id": "530db4c6",
   "metadata": {},
   "outputs": [],
   "source": [
    "model.volatility"
   ]
  },
  {
   "cell_type": "code",
   "execution_count": null,
   "id": "bb9ee778",
   "metadata": {},
   "outputs": [],
   "source": [
    "fitted = model.fit()"
   ]
  },
  {
   "cell_type": "code",
   "execution_count": null,
   "id": "c54be497",
   "metadata": {},
   "outputs": [],
   "source": [
    "fitted.summary"
   ]
  },
  {
   "cell_type": "code",
   "execution_count": null,
   "id": "a3585cd3",
   "metadata": {},
   "outputs": [],
   "source": [
    "fitted.params"
   ]
  },
  {
   "cell_type": "code",
   "execution_count": null,
   "id": "7e9d7b7d",
   "metadata": {},
   "outputs": [],
   "source": [
    "fvm.alpha_0"
   ]
  },
  {
   "cell_type": "code",
   "execution_count": null,
   "id": "35a92d77",
   "metadata": {},
   "outputs": [],
   "source": [
    "fvm.alpha"
   ]
  },
  {
   "cell_type": "code",
   "execution_count": null,
   "id": "c56cc12f",
   "metadata": {},
   "outputs": [],
   "source": [
    "fvm.beta"
   ]
  },
  {
   "cell_type": "code",
   "execution_count": null,
   "id": "fe5ba7e6",
   "metadata": {},
   "outputs": [],
   "source": [
    "forecast = fitted.forecast(reindex=False, horizon=1)"
   ]
  },
  {
   "cell_type": "code",
   "execution_count": null,
   "id": "18ec4493",
   "metadata": {},
   "outputs": [],
   "source": [
    "forecast_variance = forecast.variance.iloc[0]"
   ]
  },
  {
   "cell_type": "code",
   "execution_count": null,
   "id": "024c2b0a",
   "metadata": {},
   "outputs": [],
   "source": [
    "forecast_variance"
   ]
  },
  {
   "cell_type": "code",
   "execution_count": null,
   "id": "bd541618",
   "metadata": {},
   "outputs": [],
   "source": [
    "simple_garch_forecasts = garch_fitted.forecast(horizon=n_test, reindex=False).variance.iloc[0].values"
   ]
  },
  {
   "cell_type": "code",
   "execution_count": null,
   "id": "6f77383a",
   "metadata": {},
   "outputs": [],
   "source": [
    "mean_squared_error(simple_garch_forecasts, test_small ** 2, squared=True)"
   ]
  },
  {
   "cell_type": "markdown",
   "id": "2c3d954d",
   "metadata": {},
   "source": [
    "### With retraining"
   ]
  },
  {
   "cell_type": "code",
   "execution_count": null,
   "id": "2c4c5280",
   "metadata": {},
   "outputs": [],
   "source": [
    "%%time\n",
    "\n",
    "forecast_garch_wr = \\\n",
    "    calculate_retraining_garch_forecasts(train, fvm.train_data[1:],\n",
    "                                         mean=garch_mean,\n",
    "                                         vol='GARCH',\n",
    "                                         p=p,\n",
    "                                         q=q,\n",
    "                                         dist=garch_dist)"
   ]
  },
  {
   "cell_type": "code",
   "execution_count": null,
   "id": "b2048ba1",
   "metadata": {},
   "outputs": [],
   "source": [
    "rmse_vanilla_wr = mean_squared_error(y_true=fvm.train_data[1:] ** 2, y_pred=forecast_garch_wr, squared=False)\n",
    "rmse_vanilla_wr"
   ]
  },
  {
   "cell_type": "code",
   "execution_count": null,
   "id": "0d62fcc9",
   "metadata": {},
   "outputs": [],
   "source": [
    "mean_squared_error(y_true=fvm.train_data[1:101] ** 2, y_pred=forecast_garch_wr[:100], squared=False)"
   ]
  },
  {
   "cell_type": "code",
   "execution_count": null,
   "id": "30dbbb47",
   "metadata": {},
   "outputs": [],
   "source": [
    "mean_squared_error(y_pred=fvm._hist_output[:100], y_true=fvm.train_data[1:101] ** 2, squared=False)"
   ]
  },
  {
   "cell_type": "code",
   "execution_count": null,
   "id": "4c92fe4f",
   "metadata": {},
   "outputs": [],
   "source": [
    "rmse_vanilla_wr == rmse_ets"
   ]
  },
  {
   "cell_type": "code",
   "execution_count": null,
   "id": "348f93ef",
   "metadata": {},
   "outputs": [],
   "source": [
    "def calc_vanilla_garch_wr_mse(info, data, garch_mean, garch_vol, garch_dist):\n",
    "    train_size = info.loc['Train size']\n",
    "    test_size = info.loc['Test size']\n",
    "    p = info.loc['p']\n",
    "    q = info.loc['q']\n",
    "    \n",
    "    train = data[info.loc['Start date']:].iloc[:train_size]\n",
    "    test = data[info.loc['Start date']:].iloc[train_size:(train_size + test_size)]\n",
    "    \n",
    "    forecast = calculate_retraining_garch_forecasts(train, test,\n",
    "                                                    mean=garch_mean,\n",
    "                                                    vol=garch_vol,\n",
    "                                                    p=p,\n",
    "                                                    q=q,\n",
    "                                                    dist=garch_dist)\n",
    "    \n",
    "    mse = mean_squared_error(forecast, test ** 2, squared=True)\n",
    "    \n",
    "    return mse"
   ]
  },
  {
   "cell_type": "markdown",
   "id": "8f4daa9b",
   "metadata": {},
   "source": [
    "# Plots"
   ]
  },
  {
   "cell_type": "code",
   "execution_count": null,
   "id": "70317282",
   "metadata": {},
   "outputs": [],
   "source": [
    "plt.plot(fvm.train_data[1:].values ** 2, label='original')\n",
    "plt.plot(fvm._hist_output, label='forecast fuzzy GARCH')\n",
    "plt.plot(forecast_garch_wr, label='forecast vanilla GARCH')\n",
    "\n",
    "plt.legend()\n",
    "plt.grid()\n",
    "plt.show()"
   ]
  }
 ],
 "metadata": {
  "kernelspec": {
   "display_name": "Python 3 (ipykernel)",
   "language": "python",
   "name": "python3"
  },
  "language_info": {
   "codemirror_mode": {
    "name": "ipython",
    "version": 3
   },
   "file_extension": ".py",
   "mimetype": "text/x-python",
   "name": "python",
   "nbconvert_exporter": "python",
   "pygments_lexer": "ipython3",
   "version": "3.9.7"
  }
 },
 "nbformat": 4,
 "nbformat_minor": 5
}
