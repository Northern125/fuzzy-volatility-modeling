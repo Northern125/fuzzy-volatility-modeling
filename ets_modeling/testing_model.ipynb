{
 "cells": [
  {
   "cell_type": "code",
   "execution_count": 1,
   "id": "dddaf7cd",
   "metadata": {},
   "outputs": [],
   "source": [
    "import logging\n",
    "import numpy as np\n",
    "import pandas as pd\n",
    "from arch import arch_model\n",
    "from random import gauss\n",
    "from random import seed\n",
    "from matplotlib import pyplot as plt\n",
    "import scipy.stats as sts\n",
    "import json\n",
    "from sklearn.metrics import mean_squared_error, mean_absolute_percentage_error\n",
    "from scipy.optimize import least_squares\n",
    "import os\n",
    "import pathlib"
   ]
  },
  {
   "cell_type": "code",
   "execution_count": 2,
   "id": "dfddf51c",
   "metadata": {},
   "outputs": [],
   "source": [
    "ini_wd = os.getcwd()\n",
    "os.chdir('..')\n",
    "\n",
    "from rules_related import combine_rules_outputs\n",
    "from whole_algorithm import train_model\n",
    "from auxiliary import calc_log_returns, unpack_1d_parameters, pack_1d_parameters\n",
    "from multivariate_normal_distribution import LongMultivariateNormal\n",
    "from model import FuzzyVolatilityModel\n",
    "from membership_functions import calc_trapezoidal_membership_degrees\n",
    "from clusterization.all_methods import cluster_data_1d, cluster_data\n",
    "from local_models import calc_cond_var_fuzzy, calculate_retraining_garch_forecasts\n",
    "from antecedent_fitting import fit_antecedent_params\n",
    "# from membership_functions.trapezoidal import _calc_trapezoidal_md_scalar"
   ]
  },
  {
   "cell_type": "code",
   "execution_count": 3,
   "id": "e532cbfa",
   "metadata": {
    "scrolled": true
   },
   "outputs": [],
   "source": [
    "with open('config.json') as file:\n",
    "    config = json.load(file)"
   ]
  },
  {
   "cell_type": "code",
   "execution_count": 4,
   "id": "3393a7b3",
   "metadata": {},
   "outputs": [],
   "source": [
    "INPUT = pathlib.Path(config['files_folders']['processed'])\n",
    "LOGS = pathlib.Path(config['files_folders']['logs'])"
   ]
  },
  {
   "cell_type": "code",
   "execution_count": 5,
   "id": "cbfda7cb",
   "metadata": {},
   "outputs": [],
   "source": [
    "logging.basicConfig(level=logging.DEBUG,\n",
    "                    filename=LOGS/'ets_testing.log',\n",
    "                    filemode='w',\n",
    "                    format='%(asctime)s.%(msecs)d %(name)s %(levelname)s %(message)s',\n",
    "                    datefmt='%Y-%m-%d %H:%M:%S')"
   ]
  },
  {
   "cell_type": "code",
   "execution_count": 6,
   "id": "5941b46b",
   "metadata": {},
   "outputs": [],
   "source": [
    "pd.options.display.max_colwidth = 500"
   ]
  },
  {
   "cell_type": "markdown",
   "id": "c087b95a",
   "metadata": {},
   "source": [
    "# Reading files"
   ]
  },
  {
   "cell_type": "code",
   "execution_count": 7,
   "id": "23c25f6a",
   "metadata": {},
   "outputs": [],
   "source": [
    "rtsi = pd.read_pickle(INPUT/'rtsi.pkl')"
   ]
  },
  {
   "cell_type": "code",
   "execution_count": 8,
   "id": "4e0f5233",
   "metadata": {},
   "outputs": [
    {
     "data": {
      "text/html": [
       "<div>\n",
       "<style scoped>\n",
       "    .dataframe tbody tr th:only-of-type {\n",
       "        vertical-align: middle;\n",
       "    }\n",
       "\n",
       "    .dataframe tbody tr th {\n",
       "        vertical-align: top;\n",
       "    }\n",
       "\n",
       "    .dataframe thead th {\n",
       "        text-align: right;\n",
       "    }\n",
       "</style>\n",
       "<table border=\"1\" class=\"dataframe\">\n",
       "  <thead>\n",
       "    <tr style=\"text-align: right;\">\n",
       "      <th></th>\n",
       "      <th>&lt;OPEN&gt;</th>\n",
       "      <th>&lt;HIGH&gt;</th>\n",
       "      <th>&lt;LOW&gt;</th>\n",
       "      <th>&lt;CLOSE&gt;</th>\n",
       "      <th>&lt;VOL&gt;</th>\n",
       "      <th>return</th>\n",
       "      <th>log return</th>\n",
       "    </tr>\n",
       "    <tr>\n",
       "      <th>&lt;DATE&gt;</th>\n",
       "      <th></th>\n",
       "      <th></th>\n",
       "      <th></th>\n",
       "      <th></th>\n",
       "      <th></th>\n",
       "      <th></th>\n",
       "      <th></th>\n",
       "    </tr>\n",
       "  </thead>\n",
       "  <tbody>\n",
       "    <tr>\n",
       "      <th>1995-09-04</th>\n",
       "      <td>99.80</td>\n",
       "      <td>99.80</td>\n",
       "      <td>99.80</td>\n",
       "      <td>99.80</td>\n",
       "      <td>1000395</td>\n",
       "      <td>-0.002000</td>\n",
       "      <td>-0.002002</td>\n",
       "    </tr>\n",
       "    <tr>\n",
       "      <th>1995-09-05</th>\n",
       "      <td>100.42</td>\n",
       "      <td>100.42</td>\n",
       "      <td>100.42</td>\n",
       "      <td>100.42</td>\n",
       "      <td>1669902</td>\n",
       "      <td>0.006212</td>\n",
       "      <td>0.006193</td>\n",
       "    </tr>\n",
       "    <tr>\n",
       "      <th>1995-09-06</th>\n",
       "      <td>99.74</td>\n",
       "      <td>99.74</td>\n",
       "      <td>99.74</td>\n",
       "      <td>99.74</td>\n",
       "      <td>927829</td>\n",
       "      <td>-0.006772</td>\n",
       "      <td>-0.006795</td>\n",
       "    </tr>\n",
       "    <tr>\n",
       "      <th>1995-09-07</th>\n",
       "      <td>101.30</td>\n",
       "      <td>101.30</td>\n",
       "      <td>101.30</td>\n",
       "      <td>101.30</td>\n",
       "      <td>2153945</td>\n",
       "      <td>0.015641</td>\n",
       "      <td>0.015520</td>\n",
       "    </tr>\n",
       "    <tr>\n",
       "      <th>1995-09-08</th>\n",
       "      <td>101.30</td>\n",
       "      <td>101.30</td>\n",
       "      <td>101.30</td>\n",
       "      <td>101.30</td>\n",
       "      <td>1318431</td>\n",
       "      <td>0.000000</td>\n",
       "      <td>0.000000</td>\n",
       "    </tr>\n",
       "    <tr>\n",
       "      <th>...</th>\n",
       "      <td>...</td>\n",
       "      <td>...</td>\n",
       "      <td>...</td>\n",
       "      <td>...</td>\n",
       "      <td>...</td>\n",
       "      <td>...</td>\n",
       "      <td>...</td>\n",
       "    </tr>\n",
       "    <tr>\n",
       "      <th>2022-09-28</th>\n",
       "      <td>1055.17</td>\n",
       "      <td>1082.49</td>\n",
       "      <td>1050.69</td>\n",
       "      <td>1074.57</td>\n",
       "      <td>860170151</td>\n",
       "      <td>0.020039</td>\n",
       "      <td>0.019841</td>\n",
       "    </tr>\n",
       "    <tr>\n",
       "      <th>2022-09-29</th>\n",
       "      <td>1089.57</td>\n",
       "      <td>1092.62</td>\n",
       "      <td>1054.68</td>\n",
       "      <td>1072.26</td>\n",
       "      <td>746668464</td>\n",
       "      <td>-0.002150</td>\n",
       "      <td>-0.002152</td>\n",
       "    </tr>\n",
       "    <tr>\n",
       "      <th>2022-09-30</th>\n",
       "      <td>1094.77</td>\n",
       "      <td>1172.16</td>\n",
       "      <td>1037.78</td>\n",
       "      <td>1055.72</td>\n",
       "      <td>1940913502</td>\n",
       "      <td>-0.015425</td>\n",
       "      <td>-0.015546</td>\n",
       "    </tr>\n",
       "    <tr>\n",
       "      <th>2022-10-03</th>\n",
       "      <td>1080.33</td>\n",
       "      <td>1116.09</td>\n",
       "      <td>1070.10</td>\n",
       "      <td>1091.87</td>\n",
       "      <td>765414097</td>\n",
       "      <td>0.034242</td>\n",
       "      <td>0.033669</td>\n",
       "    </tr>\n",
       "    <tr>\n",
       "      <th>2022-10-04</th>\n",
       "      <td>1103.82</td>\n",
       "      <td>1115.63</td>\n",
       "      <td>1080.17</td>\n",
       "      <td>1100.14</td>\n",
       "      <td>806795293</td>\n",
       "      <td>0.007574</td>\n",
       "      <td>0.007546</td>\n",
       "    </tr>\n",
       "  </tbody>\n",
       "</table>\n",
       "<p>6771 rows × 7 columns</p>\n",
       "</div>"
      ],
      "text/plain": [
       "             <OPEN>   <HIGH>    <LOW>  <CLOSE>       <VOL>    return  \\\n",
       "<DATE>                                                                 \n",
       "1995-09-04    99.80    99.80    99.80    99.80     1000395 -0.002000   \n",
       "1995-09-05   100.42   100.42   100.42   100.42     1669902  0.006212   \n",
       "1995-09-06    99.74    99.74    99.74    99.74      927829 -0.006772   \n",
       "1995-09-07   101.30   101.30   101.30   101.30     2153945  0.015641   \n",
       "1995-09-08   101.30   101.30   101.30   101.30     1318431  0.000000   \n",
       "...             ...      ...      ...      ...         ...       ...   \n",
       "2022-09-28  1055.17  1082.49  1050.69  1074.57   860170151  0.020039   \n",
       "2022-09-29  1089.57  1092.62  1054.68  1072.26   746668464 -0.002150   \n",
       "2022-09-30  1094.77  1172.16  1037.78  1055.72  1940913502 -0.015425   \n",
       "2022-10-03  1080.33  1116.09  1070.10  1091.87   765414097  0.034242   \n",
       "2022-10-04  1103.82  1115.63  1080.17  1100.14   806795293  0.007574   \n",
       "\n",
       "            log return  \n",
       "<DATE>                  \n",
       "1995-09-04   -0.002002  \n",
       "1995-09-05    0.006193  \n",
       "1995-09-06   -0.006795  \n",
       "1995-09-07    0.015520  \n",
       "1995-09-08    0.000000  \n",
       "...                ...  \n",
       "2022-09-28    0.019841  \n",
       "2022-09-29   -0.002152  \n",
       "2022-09-30   -0.015546  \n",
       "2022-10-03    0.033669  \n",
       "2022-10-04    0.007546  \n",
       "\n",
       "[6771 rows x 7 columns]"
      ]
     },
     "execution_count": 8,
     "metadata": {},
     "output_type": "execute_result"
    }
   ],
   "source": [
    "rtsi"
   ]
  },
  {
   "cell_type": "code",
   "execution_count": 9,
   "id": "e13f81ab",
   "metadata": {},
   "outputs": [
    {
     "data": {
      "image/png": "[encoded data removed]",
      "text/plain": [
       "<Figure size 640x480 with 1 Axes>"
      ]
     },
     "metadata": {},
     "output_type": "display_data"
    }
   ],
   "source": [
    "rtsi['log return'].plot()\n",
    "\n",
    "plt.grid()\n",
    "plt.show()"
   ]
  },
  {
   "cell_type": "code",
   "execution_count": 10,
   "id": "4c70b3e0",
   "metadata": {},
   "outputs": [
    {
     "data": {
      "text/plain": [
       "count    6771.000000\n",
       "mean        0.000354\n",
       "std         0.025407\n",
       "min        -0.482921\n",
       "25%        -0.010185\n",
       "50%         0.001224\n",
       "75%         0.011688\n",
       "max         0.232044\n",
       "Name: log return, dtype: float64"
      ]
     },
     "execution_count": 10,
     "metadata": {},
     "output_type": "execute_result"
    }
   ],
   "source": [
    "rtsi['log return'].describe()"
   ]
  },
  {
   "cell_type": "code",
   "execution_count": 11,
   "id": "975e5ea5",
   "metadata": {},
   "outputs": [],
   "source": [
    "rtsi['day of week'] = rtsi.index.dayofweek + 1"
   ]
  },
  {
   "cell_type": "code",
   "execution_count": 12,
   "id": "5f149fd8",
   "metadata": {},
   "outputs": [
    {
     "data": {
      "text/plain": [
       "<DATE>\n",
       "1995-09-04    1\n",
       "1995-09-05    2\n",
       "1995-09-06    3\n",
       "1995-09-07    4\n",
       "1995-09-08    5\n",
       "             ..\n",
       "2022-09-28    3\n",
       "2022-09-29    4\n",
       "2022-09-30    5\n",
       "2022-10-03    1\n",
       "2022-10-04    2\n",
       "Name: day of week, Length: 6771, dtype: int64"
      ]
     },
     "execution_count": 12,
     "metadata": {},
     "output_type": "execute_result"
    }
   ],
   "source": [
    "rtsi['day of week']"
   ]
  },
  {
   "cell_type": "markdown",
   "id": "c2c33a08",
   "metadata": {},
   "source": [
    "# Setting data & parameters"
   ]
  },
  {
   "cell_type": "code",
   "execution_count": 13,
   "id": "93b84c0d",
   "metadata": {},
   "outputs": [],
   "source": [
    "rescale_factor = 1\n",
    "start_date = '2018-01-01'\n",
    "end_date = '2020-07-01'"
   ]
  },
  {
   "cell_type": "code",
   "execution_count": 14,
   "id": "bb8043ac",
   "metadata": {},
   "outputs": [],
   "source": [
    "input_data = rtsi['log return'].loc[start_date:end_date].copy() * rescale_factor"
   ]
  },
  {
   "cell_type": "code",
   "execution_count": 15,
   "id": "1b2f616e",
   "metadata": {},
   "outputs": [
    {
     "data": {
      "image/png": "[encoded data removed]",
      "text/plain": [
       "<Figure size 640x480 with 1 Axes>"
      ]
     },
     "metadata": {},
     "output_type": "display_data"
    }
   ],
   "source": [
    "input_data.plot()\n",
    "\n",
    "plt.grid()\n",
    "plt.show()"
   ]
  },
  {
   "cell_type": "code",
   "execution_count": 16,
   "id": "8bacee25",
   "metadata": {},
   "outputs": [
    {
     "data": {
      "text/plain": [
       "count    627.000000\n",
       "mean       0.000078\n",
       "std        0.018531\n",
       "min       -0.139486\n",
       "25%       -0.007400\n",
       "50%        0.001318\n",
       "75%        0.009427\n",
       "max        0.088251\n",
       "Name: log return, dtype: float64"
      ]
     },
     "execution_count": 16,
     "metadata": {},
     "output_type": "execute_result"
    }
   ],
   "source": [
    "input_data.describe()"
   ]
  },
  {
   "cell_type": "code",
   "execution_count": 17,
   "id": "b196b8a5",
   "metadata": {},
   "outputs": [
    {
     "data": {
      "text/plain": [
       "627"
      ]
     },
     "execution_count": 17,
     "metadata": {},
     "output_type": "execute_result"
    }
   ],
   "source": [
    "n = input_data.shape[0]\n",
    "n"
   ]
  },
  {
   "cell_type": "markdown",
   "id": "91887570",
   "metadata": {},
   "source": [
    "## Train / test split"
   ]
  },
  {
   "cell_type": "code",
   "execution_count": 18,
   "id": "a9d58a35-9402-47dd-95e8-a20939a666a7",
   "metadata": {},
   "outputs": [],
   "source": [
    "n_train = 1  # 2000\n",
    "\n",
    "# n_test = 100\n",
    "# n_test = min(n - n_train, n_test)"
   ]
  },
  {
   "cell_type": "code",
   "execution_count": 19,
   "id": "7ac51558-282e-42f0-a39b-d7938317f87c",
   "metadata": {},
   "outputs": [],
   "source": [
    "train, test = input_data.iloc[:n_train].copy(), input_data.iloc[n_train:].copy()\n",
    "input_cut = pd.concat([train, test]).copy()\n",
    "# data_to_cluster_train, data_to_cluster_test = days_of_week.iloc[:n_train].copy(), days_of_week.iloc[n_train:].copy()\n",
    "\n",
    "n_test = test.shape[0]"
   ]
  },
  {
   "cell_type": "code",
   "execution_count": 20,
   "id": "2663e3bf-0d2a-4a08-b821-cfc7c4b0ed31",
   "metadata": {},
   "outputs": [
    {
     "data": {
      "image/png": "[encoded data removed]",
      "text/plain": [
       "<Figure size 640x480 with 1 Axes>"
      ]
     },
     "metadata": {},
     "output_type": "display_data"
    }
   ],
   "source": [
    "train.plot(label='train')\n",
    "test.plot(label='test')\n",
    "\n",
    "plt.legend()\n",
    "plt.grid()\n",
    "plt.show()"
   ]
  },
  {
   "cell_type": "code",
   "execution_count": 21,
   "id": "cef295e4",
   "metadata": {},
   "outputs": [
    {
     "data": {
      "text/plain": [
       "count    1.000000\n",
       "mean     0.024498\n",
       "std           NaN\n",
       "min      0.024498\n",
       "25%      0.024498\n",
       "50%      0.024498\n",
       "75%      0.024498\n",
       "max      0.024498\n",
       "Name: log return, dtype: float64"
      ]
     },
     "execution_count": 21,
     "metadata": {},
     "output_type": "execute_result"
    }
   ],
   "source": [
    "train.describe()"
   ]
  },
  {
   "cell_type": "code",
   "execution_count": 22,
   "id": "fdffd394",
   "metadata": {},
   "outputs": [
    {
     "data": {
      "text/plain": [
       "count    626.000000\n",
       "mean       0.000039\n",
       "std        0.018520\n",
       "min       -0.139486\n",
       "25%       -0.007418\n",
       "50%        0.001316\n",
       "75%        0.009403\n",
       "max        0.088251\n",
       "Name: log return, dtype: float64"
      ]
     },
     "execution_count": 22,
     "metadata": {},
     "output_type": "execute_result"
    }
   ],
   "source": [
    "test.describe()"
   ]
  },
  {
   "cell_type": "markdown",
   "id": "7ca84f69",
   "metadata": {},
   "source": [
    "## Antecedent parameters"
   ]
  },
  {
   "cell_type": "code",
   "execution_count": 23,
   "id": "bed9dc94",
   "metadata": {},
   "outputs": [],
   "source": [
    "clusterization_method = 'eTS'\n",
    "membership_function = 'gaussian'"
   ]
  },
  {
   "cell_type": "code",
   "execution_count": 24,
   "id": "c3efa6df",
   "metadata": {},
   "outputs": [],
   "source": [
    "variance = 2\n",
    "n_clusters = 1\n",
    "sigma = 0\n",
    "potentials_focal = np.array([1] * n_clusters)\n",
    "delta_min = variance / 8\n",
    "\n",
    "clusterization_parameters = {\n",
    "    'n_clusters': n_clusters,\n",
    "#     'centers': centers,\n",
    "    'variance': variance,\n",
    "    'sigma': sigma,\n",
    "#     'beta': beta,\n",
    "    'potentials_focal': potentials_focal,\n",
    "    'delta_min': delta_min\n",
    "}"
   ]
  },
  {
   "cell_type": "code",
   "execution_count": 25,
   "id": "a700d0f2",
   "metadata": {},
   "outputs": [],
   "source": [
    "n_last_points_to_use_for_clustering = None\n",
    "normalize = True"
   ]
  },
  {
   "cell_type": "markdown",
   "id": "6ca7a301",
   "metadata": {},
   "source": [
    "## Consequent parameters"
   ]
  },
  {
   "cell_type": "code",
   "execution_count": 26,
   "id": "ced6e588",
   "metadata": {},
   "outputs": [],
   "source": [
    "## technical parameters for arch_model function\n",
    "garch_mean = 'Zero'\n",
    "garch_dist = 'normal'\n",
    "\n",
    "# general parameters\n",
    "local_method = 'garch'\n",
    "n_points_fitting = None\n",
    "\n",
    "# GARCH parameters\n",
    "p = 1\n",
    "q = 1\n",
    "\n",
    "starting_index = max(p, q)\n",
    "\n",
    "# train_sample_std = train.std()\n",
    "# first_h = [train_sample_std ** 2] * starting_index\n",
    "past_h_type = 'rule-wise'\n",
    "first_h = [train[0] ** 2] * starting_index\n",
    "first_h = np.array([first_h for _ in range(n_clusters)]).T.copy()\n",
    "\n",
    "# parameters constraints\n",
    "lower_bounds = [0] * (1 + p + q) * n_clusters\n",
    "upper_bounds = [+1000] * n_clusters + [1] * (p + q) * n_clusters\n",
    "bounds = (lower_bounds, upper_bounds)"
   ]
  },
  {
   "cell_type": "markdown",
   "id": "d66a1e6d",
   "metadata": {},
   "source": [
    "## $p$, $q$ - dependent antecedent parameters"
   ]
  },
  {
   "cell_type": "markdown",
   "id": "c5887959",
   "metadata": {},
   "source": [
    "## $h_t = \\alpha_0 + \\sum_{i = 1}^{q} \\alpha_i y_{t - i}^2 + \\sum_{j = 1}^{p} \\beta_j h_{t - j}$\n",
    "\n",
    "## $p = 1$, $q = 1$\n",
    "\n",
    "## $x_t = (y_{t - 1}, h_{t - 1})$"
   ]
  },
  {
   "cell_type": "code",
   "execution_count": 27,
   "id": "b0da1705",
   "metadata": {},
   "outputs": [],
   "source": [
    "x_dim = q  # p + q + 1 is also possible (if output value y_t is also used for clustering)\n",
    "\n",
    "# data_to_cluster = pd.DataFrame([[train.values[0], first_h[0]]], index=train.index).copy()\n",
    "data_to_cluster = train.iloc[:1].to_frame()\n",
    "\n",
    "centers = np.array([data_to_cluster.iloc[0].values]).copy()\n",
    "beta = np.array([0] * x_dim)\n",
    "\n",
    "clusterization_parameters.update({\n",
    "    'x_dim': x_dim,\n",
    "    'centers': centers,\n",
    "    'beta': beta\n",
    "})"
   ]
  },
  {
   "cell_type": "markdown",
   "id": "5e456d4e",
   "metadata": {},
   "source": [
    "### Using classic GARCH to get initial parameters values"
   ]
  },
  {
   "cell_type": "code",
   "execution_count": 28,
   "id": "5e2c9284",
   "metadata": {},
   "outputs": [
    {
     "name": "stdout",
     "output_type": "stream",
     "text": [
      "Iteration:      1,   Func. Count:      5,   Neg. LLF: -2.136815741255927\n",
      "Optimization terminated successfully    (Exit mode 0)\n",
      "            Current function value: -2.2902421409759484\n",
      "            Iterations: 1\n",
      "            Function evaluations: 15\n",
      "            Gradient evaluations: 1\n"
     ]
    }
   ],
   "source": [
    "garch = arch_model(train,\n",
    "                   mean=garch_mean,\n",
    "                   vol='GARCH',\n",
    "                   p=p,\n",
    "                   q=q,\n",
    "                   dist=garch_dist)\n",
    "garch_fitted = garch.fit()"
   ]
  },
  {
   "cell_type": "code",
   "execution_count": 29,
   "id": "626503a0",
   "metadata": {},
   "outputs": [
    {
     "data": {
      "text/plain": [
       "omega       0.0003\n",
       "alpha[1]    0.0100\n",
       "beta[1]     0.4900\n",
       "Name: params, dtype: float64"
      ]
     },
     "execution_count": 29,
     "metadata": {},
     "output_type": "execute_result"
    }
   ],
   "source": [
    "garch_fitted.params"
   ]
  },
  {
   "cell_type": "code",
   "execution_count": 30,
   "id": "51e50f83-cc6b-495c-8900-767a9801c7be",
   "metadata": {},
   "outputs": [],
   "source": [
    "alpha_0_ini = np.array([garch_fitted.params.iloc[0] for _ in range(n_clusters)])\n",
    "alpha_ini = np.array([garch_fitted.params.iloc[1:(q + 1)].values for _ in range(n_clusters)])\n",
    "beta_ini = np.array([garch_fitted.params.iloc[(q + 1):].values for _ in range(n_clusters)])"
   ]
  },
  {
   "cell_type": "code",
   "execution_count": 31,
   "id": "dfcb1d5d",
   "metadata": {},
   "outputs": [],
   "source": [
    "# alpha_0_ini, alpha_ini, beta_ini = unpack_1d_parameters(garch_fitted.params.values, p=p, q=q, n_clusters=n_clusters)"
   ]
  },
  {
   "cell_type": "code",
   "execution_count": 32,
   "id": "452b962e",
   "metadata": {},
   "outputs": [],
   "source": [
    "parameters_ini = {'alpha_0': alpha_0_ini, 'alpha': alpha_ini, 'beta': beta_ini}"
   ]
  },
  {
   "cell_type": "code",
   "execution_count": 33,
   "id": "ce388de6",
   "metadata": {},
   "outputs": [
    {
     "data": {
      "text/plain": [
       "{'alpha_0': array([0.00030007]),\n",
       " 'alpha': array([[0.01]]),\n",
       " 'beta': array([[0.49]])}"
      ]
     },
     "execution_count": 33,
     "metadata": {},
     "output_type": "execute_result"
    }
   ],
   "source": [
    "parameters_ini"
   ]
  },
  {
   "cell_type": "code",
   "execution_count": 34,
   "id": "92368e86",
   "metadata": {},
   "outputs": [],
   "source": [
    "# # initial parameters values for LS to start with\n",
    "# alpha_0_ini = np.array([garch_fitted.params.loc['omega']] * n_clusters)\n",
    "# alpha_ini = np.array([[1] * n_clusters] * q)\n",
    "# beta_ini = np.array([[1] * n_clusters] * p)\n",
    "# parameters_ini = {'alpha_0': alpha_0_ini, 'alpha': alpha_ini, 'beta': beta_ini}"
   ]
  },
  {
   "cell_type": "markdown",
   "id": "45dfbd1c",
   "metadata": {},
   "source": [
    "### Setting dict w/ all consequent parameters"
   ]
  },
  {
   "cell_type": "code",
   "execution_count": 35,
   "id": "0408962b",
   "metadata": {},
   "outputs": [],
   "source": [
    "local_method_parameters = {'p': p, 'q': q, 'mean': garch_mean, 'dist': garch_dist, 'first_h': first_h,\n",
    "                           'bounds': bounds, 'parameters_ini': parameters_ini}"
   ]
  },
  {
   "cell_type": "markdown",
   "id": "705bedc4",
   "metadata": {},
   "source": [
    "## Other params"
   ]
  },
  {
   "cell_type": "code",
   "execution_count": 36,
   "id": "a8cec70d",
   "metadata": {},
   "outputs": [],
   "source": [
    "# cluster_sets_conjunction = 'prod'\n",
    "\n",
    "optimization = 'ls'\n",
    "optimization_parameters = {'ftol': 1e-10,\n",
    "                           'gtol': 1e-10,\n",
    "                           'method': 'trf',\n",
    "                           'verbose': 0\n",
    "                          }"
   ]
  },
  {
   "cell_type": "markdown",
   "id": "beac442d",
   "metadata": {},
   "source": [
    "# Testing `FuzzyVolatilityModel` class"
   ]
  },
  {
   "cell_type": "code",
   "execution_count": 37,
   "id": "260be1ca",
   "metadata": {},
   "outputs": [],
   "source": [
    "fvm = FuzzyVolatilityModel(train,\n",
    "                           clusterization_method=clusterization_method,\n",
    "                           membership_function=membership_function,\n",
    "                           clusterization_parameters=clusterization_parameters,\n",
    "                           local_method=local_method,\n",
    "                           local_method_parameters=local_method_parameters,\n",
    "                           n_last_points_to_use_for_clustering=n_last_points_to_use_for_clustering,\n",
    "                           data_to_cluster=data_to_cluster,\n",
    "                           normalize=normalize,\n",
    "                           n_points_fitting=n_points_fitting,\n",
    "                           first_h=first_h,\n",
    "                           optimization=optimization,\n",
    "                           optimization_parameters=optimization_parameters,\n",
    "                           clustered_space_dim=x_dim,\n",
    "                           past_h_type=past_h_type\n",
    "                          )"
   ]
  },
  {
   "cell_type": "code",
   "execution_count": 38,
   "id": "5fd974bd",
   "metadata": {},
   "outputs": [],
   "source": [
    "fvm.n_clusters = 1\n",
    "fvm.membership_degrees_current = np.array([1])"
   ]
  },
  {
   "cell_type": "markdown",
   "id": "bb5399c7",
   "metadata": {},
   "source": [
    "## `cluster()`"
   ]
  },
  {
   "cell_type": "code",
   "execution_count": 39,
   "id": "cdc769f3",
   "metadata": {
    "scrolled": true
   },
   "outputs": [
    {
     "name": "stdout",
     "output_type": "stream",
     "text": [
      "CPU times: user 4 µs, sys: 1 µs, total: 5 µs\n",
      "Wall time: 12.2 µs\n"
     ]
    }
   ],
   "source": [
    "%%time\n",
    "\n",
    "# fvm.cluster()"
   ]
  },
  {
   "cell_type": "code",
   "execution_count": 40,
   "id": "c947b9e6",
   "metadata": {},
   "outputs": [
    {
     "data": {
      "text/html": [
       "<div>\n",
       "<style scoped>\n",
       "    .dataframe tbody tr th:only-of-type {\n",
       "        vertical-align: middle;\n",
       "    }\n",
       "\n",
       "    .dataframe tbody tr th {\n",
       "        vertical-align: top;\n",
       "    }\n",
       "\n",
       "    .dataframe thead th {\n",
       "        text-align: right;\n",
       "    }\n",
       "</style>\n",
       "<table border=\"1\" class=\"dataframe\">\n",
       "  <thead>\n",
       "    <tr style=\"text-align: right;\">\n",
       "      <th></th>\n",
       "      <th>log return</th>\n",
       "    </tr>\n",
       "    <tr>\n",
       "      <th>&lt;DATE&gt;</th>\n",
       "      <th></th>\n",
       "    </tr>\n",
       "  </thead>\n",
       "  <tbody>\n",
       "    <tr>\n",
       "      <th>2018-01-03</th>\n",
       "      <td>0.024498</td>\n",
       "    </tr>\n",
       "  </tbody>\n",
       "</table>\n",
       "</div>"
      ],
      "text/plain": [
       "            log return\n",
       "<DATE>                \n",
       "2018-01-03    0.024498"
      ]
     },
     "execution_count": 40,
     "metadata": {},
     "output_type": "execute_result"
    }
   ],
   "source": [
    "fvm.data_to_cluster"
   ]
  },
  {
   "cell_type": "code",
   "execution_count": 41,
   "id": "6c336e65",
   "metadata": {},
   "outputs": [
    {
     "data": {
      "text/plain": [
       "[]"
      ]
     },
     "execution_count": 41,
     "metadata": {},
     "output_type": "execute_result"
    }
   ],
   "source": [
    "fvm._n_clusters_hist"
   ]
  },
  {
   "cell_type": "markdown",
   "id": "ab05cb35",
   "metadata": {},
   "source": [
    "## `fit()`"
   ]
  },
  {
   "cell_type": "code",
   "execution_count": 42,
   "id": "f3a12a15",
   "metadata": {
    "scrolled": true
   },
   "outputs": [
    {
     "data": {
      "text/plain": [
       "slice(None, None, None)"
      ]
     },
     "execution_count": 42,
     "metadata": {},
     "output_type": "execute_result"
    }
   ],
   "source": [
    "fvm._fitting_slice"
   ]
  },
  {
   "cell_type": "code",
   "execution_count": 43,
   "id": "4b36f4f5",
   "metadata": {
    "scrolled": true
   },
   "outputs": [
    {
     "name": "stdout",
     "output_type": "stream",
     "text": [
      "CPU times: user 18.7 ms, sys: 2.86 ms, total: 21.5 ms\n",
      "Wall time: 23.5 ms\n"
     ]
    }
   ],
   "source": [
    "%%time\n",
    "\n",
    "fvm.fit()"
   ]
  },
  {
   "cell_type": "code",
   "execution_count": 44,
   "id": "174e1de2",
   "metadata": {},
   "outputs": [
    {
     "data": {
      "text/plain": [
       "array([[0.00060013]])"
      ]
     },
     "execution_count": 44,
     "metadata": {},
     "output_type": "execute_result"
    }
   ],
   "source": [
    "fvm.first_h_current"
   ]
  },
  {
   "cell_type": "code",
   "execution_count": 45,
   "id": "9ef56562",
   "metadata": {},
   "outputs": [
    {
     "data": {
      "text/plain": [
       "([0, 0, 0], [1000, 1, 1])"
      ]
     },
     "execution_count": 45,
     "metadata": {},
     "output_type": "execute_result"
    }
   ],
   "source": [
    "fvm.bounds"
   ]
  },
  {
   "cell_type": "code",
   "execution_count": 46,
   "id": "b0404473",
   "metadata": {},
   "outputs": [
    {
     "data": {
      "text/plain": [
       "array([[   0, 1000],\n",
       "       [   0,    1],\n",
       "       [   0,    1]])"
      ]
     },
     "execution_count": 46,
     "metadata": {},
     "output_type": "execute_result"
    }
   ],
   "source": [
    "np.array(fvm.bounds).T"
   ]
  },
  {
   "cell_type": "code",
   "execution_count": 47,
   "id": "7fc6ae22",
   "metadata": {},
   "outputs": [
    {
     "data": {
      "text/plain": [
       "array([0.00030007])"
      ]
     },
     "execution_count": 47,
     "metadata": {},
     "output_type": "execute_result"
    }
   ],
   "source": [
    "fvm.alpha_0"
   ]
  },
  {
   "cell_type": "code",
   "execution_count": 48,
   "id": "729fe037",
   "metadata": {},
   "outputs": [
    {
     "data": {
      "text/plain": [
       "array([[0.01]])"
      ]
     },
     "execution_count": 48,
     "metadata": {},
     "output_type": "execute_result"
    }
   ],
   "source": [
    "fvm.alpha"
   ]
  },
  {
   "cell_type": "code",
   "execution_count": 49,
   "id": "9823112d",
   "metadata": {},
   "outputs": [
    {
     "data": {
      "text/plain": [
       "array([[0.49]])"
      ]
     },
     "execution_count": 49,
     "metadata": {},
     "output_type": "execute_result"
    }
   ],
   "source": [
    "fvm.beta"
   ]
  },
  {
   "cell_type": "code",
   "execution_count": 50,
   "id": "9eadd7b4",
   "metadata": {},
   "outputs": [
    {
     "data": {
      "text/plain": [
       "omega       0.0003\n",
       "alpha[1]    0.0100\n",
       "beta[1]     0.4900\n",
       "Name: params, dtype: float64"
      ]
     },
     "execution_count": 50,
     "metadata": {},
     "output_type": "execute_result"
    }
   ],
   "source": [
    "garch_fitted.params"
   ]
  },
  {
   "cell_type": "code",
   "execution_count": 51,
   "id": "92f4ba8c",
   "metadata": {},
   "outputs": [
    {
     "data": {
      "text/plain": [
       "[{'alpha_0': array([0.00030007]),\n",
       "  'alpha': array([[0.01]]),\n",
       "  'beta': array([[0.49]])}]"
      ]
     },
     "execution_count": 51,
     "metadata": {},
     "output_type": "execute_result"
    }
   ],
   "source": [
    "fvm._parameters_hist"
   ]
  },
  {
   "cell_type": "code",
   "execution_count": 52,
   "id": "ba8d0b58",
   "metadata": {},
   "outputs": [
    {
     "data": {
      "text/plain": [
       "array([1])"
      ]
     },
     "execution_count": 52,
     "metadata": {},
     "output_type": "execute_result"
    }
   ],
   "source": [
    "fvm.membership_degrees_current"
   ]
  },
  {
   "cell_type": "code",
   "execution_count": 53,
   "id": "95daa841",
   "metadata": {},
   "outputs": [
    {
     "data": {
      "text/plain": [
       "{'n_clusters': 1,\n",
       " 'variance': 2,\n",
       " 'sigma': 0,\n",
       " 'potentials_focal': array([1]),\n",
       " 'delta_min': 0.25,\n",
       " 'x_dim': 1,\n",
       " 'centers': array([[0.02449759]]),\n",
       " 'beta': array([0])}"
      ]
     },
     "execution_count": 53,
     "metadata": {},
     "output_type": "execute_result"
    }
   ],
   "source": [
    "fvm.clusters_parameters_current"
   ]
  },
  {
   "cell_type": "code",
   "execution_count": 54,
   "id": "8ff2905d",
   "metadata": {},
   "outputs": [
    {
     "data": {
      "text/html": [
       "<div>\n",
       "<style scoped>\n",
       "    .dataframe tbody tr th:only-of-type {\n",
       "        vertical-align: middle;\n",
       "    }\n",
       "\n",
       "    .dataframe tbody tr th {\n",
       "        vertical-align: top;\n",
       "    }\n",
       "\n",
       "    .dataframe thead th {\n",
       "        text-align: right;\n",
       "    }\n",
       "</style>\n",
       "<table border=\"1\" class=\"dataframe\">\n",
       "  <thead>\n",
       "    <tr style=\"text-align: right;\">\n",
       "      <th></th>\n",
       "      <th>log return</th>\n",
       "    </tr>\n",
       "    <tr>\n",
       "      <th>&lt;DATE&gt;</th>\n",
       "      <th></th>\n",
       "    </tr>\n",
       "  </thead>\n",
       "  <tbody>\n",
       "    <tr>\n",
       "      <th>2018-01-03</th>\n",
       "      <td>0.024498</td>\n",
       "    </tr>\n",
       "  </tbody>\n",
       "</table>\n",
       "</div>"
      ],
      "text/plain": [
       "            log return\n",
       "<DATE>                \n",
       "2018-01-03    0.024498"
      ]
     },
     "execution_count": 54,
     "metadata": {},
     "output_type": "execute_result"
    }
   ],
   "source": [
    "data_to_cluster"
   ]
  },
  {
   "cell_type": "code",
   "execution_count": 55,
   "id": "8b59fa2a",
   "metadata": {},
   "outputs": [
    {
     "data": {
      "text/plain": [
       "[]"
      ]
     },
     "execution_count": 55,
     "metadata": {},
     "output_type": "execute_result"
    }
   ],
   "source": [
    "fvm._membership_degrees_hist"
   ]
  },
  {
   "cell_type": "code",
   "execution_count": 56,
   "id": "fac63ff3",
   "metadata": {},
   "outputs": [
    {
     "data": {
      "text/plain": [
       "<DATE>\n",
       "2018-01-03    0.024498\n",
       "Name: log return, dtype: float64"
      ]
     },
     "execution_count": 56,
     "metadata": {},
     "output_type": "execute_result"
    }
   ],
   "source": [
    "fvm.train_data"
   ]
  },
  {
   "cell_type": "markdown",
   "id": "24485114",
   "metadata": {},
   "source": [
    "## `forecast()`"
   ]
  },
  {
   "cell_type": "code",
   "execution_count": 57,
   "id": "271546e8",
   "metadata": {},
   "outputs": [],
   "source": [
    "fvm.forecast()"
   ]
  },
  {
   "cell_type": "code",
   "execution_count": 58,
   "id": "9288a4dd",
   "metadata": {},
   "outputs": [
    {
     "data": {
      "text/plain": [
       "0.0006001316526785087"
      ]
     },
     "execution_count": 58,
     "metadata": {},
     "output_type": "execute_result"
    }
   ],
   "source": [
    "fvm.current_output"
   ]
  },
  {
   "cell_type": "code",
   "execution_count": 59,
   "id": "7fd72d43",
   "metadata": {},
   "outputs": [
    {
     "data": {
      "text/plain": [
       "[0.0006001316526785087]"
      ]
     },
     "execution_count": 59,
     "metadata": {},
     "output_type": "execute_result"
    }
   ],
   "source": [
    "fvm._hist_output"
   ]
  },
  {
   "cell_type": "code",
   "execution_count": 60,
   "id": "f68dd2c7",
   "metadata": {
    "scrolled": false
   },
   "outputs": [
    {
     "data": {
      "image/png": "[encoded data removed]",
      "text/plain": [
       "<Figure size 640x480 with 1 Axes>"
      ]
     },
     "metadata": {},
     "output_type": "display_data"
    }
   ],
   "source": [
    "plt.plot(fvm._hist_output, label='$h_t$')\n",
    "plt.plot(train.values[1:] ** 2, label='$y_t^2$')\n",
    "\n",
    "plt.legend()\n",
    "plt.grid()\n",
    "plt.show()"
   ]
  },
  {
   "cell_type": "markdown",
   "id": "ae1b59cc",
   "metadata": {},
   "source": [
    "## `feed_daily_data()`"
   ]
  },
  {
   "cell_type": "code",
   "execution_count": 61,
   "id": "1c0d81c6",
   "metadata": {},
   "outputs": [],
   "source": [
    "# n_test_small = 10\n",
    "# test_small = test.iloc[:n_test_small].copy()\n",
    "# input_cut = pd.concat([train, test_small]).copy()\n",
    "\n",
    "# data_to_cluster_test_1 = pd.Series(test_small.index.dayofweek + 1, index=test_small.index).copy()\n",
    "# data_to_cluster_test_2 = 'train'\n",
    "# data_to_cluster_test = [data_to_cluster_test_1, data_to_cluster_test_2]\n",
    "# data_to_cluster = test_small.index.dayofweek + 1\n",
    "# data_to_cluster = pd.Series(data_to_cluster, index=test_small.index)\n",
    "\n",
    "data_to_cluster_test = test.to_frame().copy()"
   ]
  },
  {
   "cell_type": "code",
   "execution_count": 62,
   "id": "4c563a2e",
   "metadata": {
    "scrolled": true
   },
   "outputs": [
    {
     "ename": "KeyboardInterrupt",
     "evalue": "",
     "output_type": "error",
     "traceback": [
      "\u001b[0;31m---------------------------------------------------------------------------\u001b[0m",
      "\u001b[0;31mKeyboardInterrupt\u001b[0m                         Traceback (most recent call last)",
      "File \u001b[0;32m<timed eval>:1\u001b[0m, in \u001b[0;36m<module>\u001b[0;34m\u001b[0m\n",
      "File \u001b[0;32m~/Documents/Study postgraduate/Thesis/fuzzy-volatility-modeling/model.py:480\u001b[0m, in \u001b[0;36mFuzzyVolatilityModel.feed_daily_data\u001b[0;34m(self, test_data, data_to_cluster, n_points)\u001b[0m\n\u001b[1;32m    478\u001b[0m     observation \u001b[38;5;241m=\u001b[39m test_data\u001b[38;5;241m.\u001b[39mloc[date]\n\u001b[1;32m    479\u001b[0m     data_to_cluster_point \u001b[38;5;241m=\u001b[39m data_to_cluster\u001b[38;5;241m.\u001b[39mloc[date]\n\u001b[0;32m--> 480\u001b[0m     \u001b[38;5;28;43mself\u001b[39;49m\u001b[38;5;241;43m.\u001b[39;49m\u001b[43m_push\u001b[49m\u001b[43m(\u001b[49m\u001b[43mobservation\u001b[49m\u001b[43m,\u001b[49m\u001b[43m \u001b[49m\u001b[43mdate\u001b[49m\u001b[43m,\u001b[49m\u001b[43m \u001b[49m\u001b[43mdata_to_cluster_point\u001b[49m\u001b[43m)\u001b[49m\n\u001b[1;32m    481\u001b[0m     \u001b[38;5;28mself\u001b[39m\u001b[38;5;241m.\u001b[39m_forecast()\n\u001b[1;32m    483\u001b[0m \u001b[38;5;66;03m# adding dates\u001b[39;00m\n",
      "File \u001b[0;32m~/Documents/Study postgraduate/Thesis/fuzzy-volatility-modeling/model.py:443\u001b[0m, in \u001b[0;36mFuzzyVolatilityModel._push\u001b[0;34m(self, observation, observation_date, data_to_cluster_point)\u001b[0m\n\u001b[1;32m    441\u001b[0m \u001b[38;5;28mself\u001b[39m\u001b[38;5;241m.\u001b[39mcluster()\n\u001b[1;32m    442\u001b[0m \u001b[38;5;28mself\u001b[39m\u001b[38;5;241m.\u001b[39m_set_first_h()\n\u001b[0;32m--> 443\u001b[0m \u001b[38;5;28;43mself\u001b[39;49m\u001b[38;5;241;43m.\u001b[39;49m\u001b[43m_fit\u001b[49m\u001b[43m(\u001b[49m\u001b[43m)\u001b[49m\n",
      "File \u001b[0;32m~/Documents/Study postgraduate/Thesis/fuzzy-volatility-modeling/model.py:373\u001b[0m, in \u001b[0;36mFuzzyVolatilityModel._fit_ls\u001b[0;34m(self)\u001b[0m\n\u001b[1;32m    368\u001b[0m parameters_0 \u001b[38;5;241m=\u001b[39m pack_1d_parameters(\u001b[38;5;28mself\u001b[39m\u001b[38;5;241m.\u001b[39mconsequent_parameters_ini[\u001b[38;5;124m'\u001b[39m\u001b[38;5;124malpha_0\u001b[39m\u001b[38;5;124m'\u001b[39m],\n\u001b[1;32m    369\u001b[0m                                   \u001b[38;5;28mself\u001b[39m\u001b[38;5;241m.\u001b[39mconsequent_parameters_ini[\u001b[38;5;124m'\u001b[39m\u001b[38;5;124malpha\u001b[39m\u001b[38;5;124m'\u001b[39m],\n\u001b[1;32m    370\u001b[0m                                   \u001b[38;5;28mself\u001b[39m\u001b[38;5;241m.\u001b[39mconsequent_parameters_ini[\u001b[38;5;124m'\u001b[39m\u001b[38;5;124mbeta\u001b[39m\u001b[38;5;124m'\u001b[39m])\n\u001b[1;32m    372\u001b[0m \u001b[38;5;28mself\u001b[39m\u001b[38;5;241m.\u001b[39mlogger\u001b[38;5;241m.\u001b[39mdebug(\u001b[38;5;124mf\u001b[39m\u001b[38;5;124m'\u001b[39m\u001b[38;5;124mStarting least squares estimation of parameters; `parameters_0`: \u001b[39m\u001b[38;5;132;01m{\u001b[39;00mparameters_0\u001b[38;5;132;01m}\u001b[39;00m\u001b[38;5;124m'\u001b[39m)\n\u001b[0;32m--> 373\u001b[0m ls_result \u001b[38;5;241m=\u001b[39m \u001b[43mleast_squares\u001b[49m\u001b[43m(\u001b[49m\u001b[38;5;28;43mself\u001b[39;49m\u001b[38;5;241;43m.\u001b[39;49m\u001b[43m_calc_residuals\u001b[49m\u001b[43m,\u001b[49m\u001b[43m \u001b[49m\u001b[43mparameters_0\u001b[49m\u001b[43m,\u001b[49m\u001b[43m \u001b[49m\u001b[43mbounds\u001b[49m\u001b[38;5;241;43m=\u001b[39;49m\u001b[38;5;28;43mself\u001b[39;49m\u001b[38;5;241;43m.\u001b[39;49m\u001b[43mbounds\u001b[49m\u001b[43m,\u001b[49m\n\u001b[1;32m    374\u001b[0m \u001b[43m                          \u001b[49m\u001b[38;5;241;43m*\u001b[39;49m\u001b[38;5;241;43m*\u001b[39;49m\u001b[38;5;28;43mself\u001b[39;49m\u001b[38;5;241;43m.\u001b[39;49m\u001b[43moptimization_parameters\u001b[49m\u001b[43m)\u001b[49m\n\u001b[1;32m    375\u001b[0m \u001b[38;5;28mself\u001b[39m\u001b[38;5;241m.\u001b[39m_ls_results_hist\u001b[38;5;241m.\u001b[39mappend(ls_result)\n\u001b[1;32m    377\u001b[0m parameters \u001b[38;5;241m=\u001b[39m ls_result\u001b[38;5;241m.\u001b[39mx\n",
      "File \u001b[0;32m/Applications/anaconda3/envs/fuzzy-volatility/lib/python3.9/site-packages/scipy/optimize/_lsq/least_squares.py:928\u001b[0m, in \u001b[0;36mleast_squares\u001b[0;34m(fun, x0, jac, bounds, method, ftol, xtol, gtol, x_scale, loss, f_scale, diff_step, tr_solver, tr_options, jac_sparsity, max_nfev, verbose, args, kwargs)\u001b[0m\n\u001b[1;32m    924\u001b[0m     result \u001b[38;5;241m=\u001b[39m call_minpack(fun_wrapped, x0, jac_wrapped, ftol, xtol, gtol,\n\u001b[1;32m    925\u001b[0m                           max_nfev, x_scale, diff_step)\n\u001b[1;32m    927\u001b[0m \u001b[38;5;28;01melif\u001b[39;00m method \u001b[38;5;241m==\u001b[39m \u001b[38;5;124m'\u001b[39m\u001b[38;5;124mtrf\u001b[39m\u001b[38;5;124m'\u001b[39m:\n\u001b[0;32m--> 928\u001b[0m     result \u001b[38;5;241m=\u001b[39m \u001b[43mtrf\u001b[49m\u001b[43m(\u001b[49m\u001b[43mfun_wrapped\u001b[49m\u001b[43m,\u001b[49m\u001b[43m \u001b[49m\u001b[43mjac_wrapped\u001b[49m\u001b[43m,\u001b[49m\u001b[43m \u001b[49m\u001b[43mx0\u001b[49m\u001b[43m,\u001b[49m\u001b[43m \u001b[49m\u001b[43mf0\u001b[49m\u001b[43m,\u001b[49m\u001b[43m \u001b[49m\u001b[43mJ0\u001b[49m\u001b[43m,\u001b[49m\u001b[43m \u001b[49m\u001b[43mlb\u001b[49m\u001b[43m,\u001b[49m\u001b[43m \u001b[49m\u001b[43mub\u001b[49m\u001b[43m,\u001b[49m\u001b[43m \u001b[49m\u001b[43mftol\u001b[49m\u001b[43m,\u001b[49m\u001b[43m \u001b[49m\u001b[43mxtol\u001b[49m\u001b[43m,\u001b[49m\n\u001b[1;32m    929\u001b[0m \u001b[43m                 \u001b[49m\u001b[43mgtol\u001b[49m\u001b[43m,\u001b[49m\u001b[43m \u001b[49m\u001b[43mmax_nfev\u001b[49m\u001b[43m,\u001b[49m\u001b[43m \u001b[49m\u001b[43mx_scale\u001b[49m\u001b[43m,\u001b[49m\u001b[43m \u001b[49m\u001b[43mloss_function\u001b[49m\u001b[43m,\u001b[49m\u001b[43m \u001b[49m\u001b[43mtr_solver\u001b[49m\u001b[43m,\u001b[49m\n\u001b[1;32m    930\u001b[0m \u001b[43m                 \u001b[49m\u001b[43mtr_options\u001b[49m\u001b[38;5;241;43m.\u001b[39;49m\u001b[43mcopy\u001b[49m\u001b[43m(\u001b[49m\u001b[43m)\u001b[49m\u001b[43m,\u001b[49m\u001b[43m \u001b[49m\u001b[43mverbose\u001b[49m\u001b[43m)\u001b[49m\n\u001b[1;32m    932\u001b[0m \u001b[38;5;28;01melif\u001b[39;00m method \u001b[38;5;241m==\u001b[39m \u001b[38;5;124m'\u001b[39m\u001b[38;5;124mdogbox\u001b[39m\u001b[38;5;124m'\u001b[39m:\n\u001b[1;32m    933\u001b[0m     \u001b[38;5;28;01mif\u001b[39;00m tr_solver \u001b[38;5;241m==\u001b[39m \u001b[38;5;124m'\u001b[39m\u001b[38;5;124mlsmr\u001b[39m\u001b[38;5;124m'\u001b[39m \u001b[38;5;129;01mand\u001b[39;00m \u001b[38;5;124m'\u001b[39m\u001b[38;5;124mregularize\u001b[39m\u001b[38;5;124m'\u001b[39m \u001b[38;5;129;01min\u001b[39;00m tr_options:\n",
      "File \u001b[0;32m/Applications/anaconda3/envs/fuzzy-volatility/lib/python3.9/site-packages/scipy/optimize/_lsq/trf.py:123\u001b[0m, in \u001b[0;36mtrf\u001b[0;34m(fun, jac, x0, f0, J0, lb, ub, ftol, xtol, gtol, max_nfev, x_scale, loss_function, tr_solver, tr_options, verbose)\u001b[0m\n\u001b[1;32m    119\u001b[0m     \u001b[38;5;28;01mreturn\u001b[39;00m trf_no_bounds(\n\u001b[1;32m    120\u001b[0m         fun, jac, x0, f0, J0, ftol, xtol, gtol, max_nfev, x_scale,\n\u001b[1;32m    121\u001b[0m         loss_function, tr_solver, tr_options, verbose)\n\u001b[1;32m    122\u001b[0m \u001b[38;5;28;01melse\u001b[39;00m:\n\u001b[0;32m--> 123\u001b[0m     \u001b[38;5;28;01mreturn\u001b[39;00m \u001b[43mtrf_bounds\u001b[49m\u001b[43m(\u001b[49m\n\u001b[1;32m    124\u001b[0m \u001b[43m        \u001b[49m\u001b[43mfun\u001b[49m\u001b[43m,\u001b[49m\u001b[43m \u001b[49m\u001b[43mjac\u001b[49m\u001b[43m,\u001b[49m\u001b[43m \u001b[49m\u001b[43mx0\u001b[49m\u001b[43m,\u001b[49m\u001b[43m \u001b[49m\u001b[43mf0\u001b[49m\u001b[43m,\u001b[49m\u001b[43m \u001b[49m\u001b[43mJ0\u001b[49m\u001b[43m,\u001b[49m\u001b[43m \u001b[49m\u001b[43mlb\u001b[49m\u001b[43m,\u001b[49m\u001b[43m \u001b[49m\u001b[43mub\u001b[49m\u001b[43m,\u001b[49m\u001b[43m \u001b[49m\u001b[43mftol\u001b[49m\u001b[43m,\u001b[49m\u001b[43m \u001b[49m\u001b[43mxtol\u001b[49m\u001b[43m,\u001b[49m\u001b[43m \u001b[49m\u001b[43mgtol\u001b[49m\u001b[43m,\u001b[49m\u001b[43m \u001b[49m\u001b[43mmax_nfev\u001b[49m\u001b[43m,\u001b[49m\u001b[43m \u001b[49m\u001b[43mx_scale\u001b[49m\u001b[43m,\u001b[49m\n\u001b[1;32m    125\u001b[0m \u001b[43m        \u001b[49m\u001b[43mloss_function\u001b[49m\u001b[43m,\u001b[49m\u001b[43m \u001b[49m\u001b[43mtr_solver\u001b[49m\u001b[43m,\u001b[49m\u001b[43m \u001b[49m\u001b[43mtr_options\u001b[49m\u001b[43m,\u001b[49m\u001b[43m \u001b[49m\u001b[43mverbose\u001b[49m\u001b[43m)\u001b[49m\n",
      "File \u001b[0;32m/Applications/anaconda3/envs/fuzzy-volatility/lib/python3.9/site-packages/scipy/optimize/_lsq/trf.py:374\u001b[0m, in \u001b[0;36mtrf_bounds\u001b[0;34m(fun, jac, x0, f0, J0, lb, ub, ftol, xtol, gtol, max_nfev, x_scale, loss_function, tr_solver, tr_options, verbose)\u001b[0m\n\u001b[1;32m    370\u001b[0m f_true \u001b[38;5;241m=\u001b[39m f\u001b[38;5;241m.\u001b[39mcopy()\n\u001b[1;32m    372\u001b[0m cost \u001b[38;5;241m=\u001b[39m cost_new\n\u001b[0;32m--> 374\u001b[0m J \u001b[38;5;241m=\u001b[39m \u001b[43mjac\u001b[49m\u001b[43m(\u001b[49m\u001b[43mx\u001b[49m\u001b[43m,\u001b[49m\u001b[43m \u001b[49m\u001b[43mf\u001b[49m\u001b[43m)\u001b[49m\n\u001b[1;32m    375\u001b[0m njev \u001b[38;5;241m+\u001b[39m\u001b[38;5;241m=\u001b[39m \u001b[38;5;241m1\u001b[39m\n\u001b[1;32m    377\u001b[0m \u001b[38;5;28;01mif\u001b[39;00m loss_function \u001b[38;5;129;01mis\u001b[39;00m \u001b[38;5;129;01mnot\u001b[39;00m \u001b[38;5;28;01mNone\u001b[39;00m:\n",
      "File \u001b[0;32m/Applications/anaconda3/envs/fuzzy-volatility/lib/python3.9/site-packages/scipy/optimize/_lsq/least_squares.py:886\u001b[0m, in \u001b[0;36mleast_squares.<locals>.jac_wrapped\u001b[0;34m(x, f)\u001b[0m\n\u001b[1;32m    885\u001b[0m \u001b[38;5;28;01mdef\u001b[39;00m \u001b[38;5;21mjac_wrapped\u001b[39m(x, f):\n\u001b[0;32m--> 886\u001b[0m     J \u001b[38;5;241m=\u001b[39m \u001b[43mapprox_derivative\u001b[49m\u001b[43m(\u001b[49m\u001b[43mfun\u001b[49m\u001b[43m,\u001b[49m\u001b[43m \u001b[49m\u001b[43mx\u001b[49m\u001b[43m,\u001b[49m\u001b[43m \u001b[49m\u001b[43mrel_step\u001b[49m\u001b[38;5;241;43m=\u001b[39;49m\u001b[43mdiff_step\u001b[49m\u001b[43m,\u001b[49m\u001b[43m \u001b[49m\u001b[43mmethod\u001b[49m\u001b[38;5;241;43m=\u001b[39;49m\u001b[43mjac\u001b[49m\u001b[43m,\u001b[49m\n\u001b[1;32m    887\u001b[0m \u001b[43m                          \u001b[49m\u001b[43mf0\u001b[49m\u001b[38;5;241;43m=\u001b[39;49m\u001b[43mf\u001b[49m\u001b[43m,\u001b[49m\u001b[43m \u001b[49m\u001b[43mbounds\u001b[49m\u001b[38;5;241;43m=\u001b[39;49m\u001b[43mbounds\u001b[49m\u001b[43m,\u001b[49m\u001b[43m \u001b[49m\u001b[43margs\u001b[49m\u001b[38;5;241;43m=\u001b[39;49m\u001b[43margs\u001b[49m\u001b[43m,\u001b[49m\n\u001b[1;32m    888\u001b[0m \u001b[43m                          \u001b[49m\u001b[43mkwargs\u001b[49m\u001b[38;5;241;43m=\u001b[39;49m\u001b[43mkwargs\u001b[49m\u001b[43m,\u001b[49m\u001b[43m \u001b[49m\u001b[43msparsity\u001b[49m\u001b[38;5;241;43m=\u001b[39;49m\u001b[43mjac_sparsity\u001b[49m\u001b[43m)\u001b[49m\n\u001b[1;32m    889\u001b[0m     \u001b[38;5;28;01mif\u001b[39;00m J\u001b[38;5;241m.\u001b[39mndim \u001b[38;5;241m!=\u001b[39m \u001b[38;5;241m2\u001b[39m:  \u001b[38;5;66;03m# J is guaranteed not sparse.\u001b[39;00m\n\u001b[1;32m    890\u001b[0m         J \u001b[38;5;241m=\u001b[39m np\u001b[38;5;241m.\u001b[39matleast_2d(J)\n",
      "File \u001b[0;32m/Applications/anaconda3/envs/fuzzy-volatility/lib/python3.9/site-packages/scipy/optimize/_numdiff.py:486\u001b[0m, in \u001b[0;36mapprox_derivative\u001b[0;34m(fun, x0, method, rel_step, abs_step, f0, bounds, sparsity, as_linear_operator, args, kwargs)\u001b[0m\n\u001b[1;32m    483\u001b[0m     use_one_sided \u001b[38;5;241m=\u001b[39m \u001b[38;5;28;01mFalse\u001b[39;00m\n\u001b[1;32m    485\u001b[0m \u001b[38;5;28;01mif\u001b[39;00m sparsity \u001b[38;5;129;01mis\u001b[39;00m \u001b[38;5;28;01mNone\u001b[39;00m:\n\u001b[0;32m--> 486\u001b[0m     \u001b[38;5;28;01mreturn\u001b[39;00m \u001b[43m_dense_difference\u001b[49m\u001b[43m(\u001b[49m\u001b[43mfun_wrapped\u001b[49m\u001b[43m,\u001b[49m\u001b[43m \u001b[49m\u001b[43mx0\u001b[49m\u001b[43m,\u001b[49m\u001b[43m \u001b[49m\u001b[43mf0\u001b[49m\u001b[43m,\u001b[49m\u001b[43m \u001b[49m\u001b[43mh\u001b[49m\u001b[43m,\u001b[49m\n\u001b[1;32m    487\u001b[0m \u001b[43m                             \u001b[49m\u001b[43muse_one_sided\u001b[49m\u001b[43m,\u001b[49m\u001b[43m \u001b[49m\u001b[43mmethod\u001b[49m\u001b[43m)\u001b[49m\n\u001b[1;32m    488\u001b[0m \u001b[38;5;28;01melse\u001b[39;00m:\n\u001b[1;32m    489\u001b[0m     \u001b[38;5;28;01mif\u001b[39;00m \u001b[38;5;129;01mnot\u001b[39;00m issparse(sparsity) \u001b[38;5;129;01mand\u001b[39;00m \u001b[38;5;28mlen\u001b[39m(sparsity) \u001b[38;5;241m==\u001b[39m \u001b[38;5;241m2\u001b[39m:\n",
      "File \u001b[0;32m/Applications/anaconda3/envs/fuzzy-volatility/lib/python3.9/site-packages/scipy/optimize/_numdiff.py:557\u001b[0m, in \u001b[0;36m_dense_difference\u001b[0;34m(fun, x0, f0, h, use_one_sided, method)\u001b[0m\n\u001b[1;32m    555\u001b[0m     x \u001b[38;5;241m=\u001b[39m x0 \u001b[38;5;241m+\u001b[39m h_vecs[i]\n\u001b[1;32m    556\u001b[0m     dx \u001b[38;5;241m=\u001b[39m x[i] \u001b[38;5;241m-\u001b[39m x0[i]  \u001b[38;5;66;03m# Recompute dx as exactly representable number.\u001b[39;00m\n\u001b[0;32m--> 557\u001b[0m     df \u001b[38;5;241m=\u001b[39m \u001b[43mfun\u001b[49m\u001b[43m(\u001b[49m\u001b[43mx\u001b[49m\u001b[43m)\u001b[49m \u001b[38;5;241m-\u001b[39m f0\n\u001b[1;32m    558\u001b[0m \u001b[38;5;28;01melif\u001b[39;00m method \u001b[38;5;241m==\u001b[39m \u001b[38;5;124m'\u001b[39m\u001b[38;5;124m3-point\u001b[39m\u001b[38;5;124m'\u001b[39m \u001b[38;5;129;01mand\u001b[39;00m use_one_sided[i]:\n\u001b[1;32m    559\u001b[0m     x1 \u001b[38;5;241m=\u001b[39m x0 \u001b[38;5;241m+\u001b[39m h_vecs[i]\n",
      "File \u001b[0;32m/Applications/anaconda3/envs/fuzzy-volatility/lib/python3.9/site-packages/scipy/optimize/_numdiff.py:437\u001b[0m, in \u001b[0;36mapprox_derivative.<locals>.fun_wrapped\u001b[0;34m(x)\u001b[0m\n\u001b[1;32m    436\u001b[0m \u001b[38;5;28;01mdef\u001b[39;00m \u001b[38;5;21mfun_wrapped\u001b[39m(x):\n\u001b[0;32m--> 437\u001b[0m     f \u001b[38;5;241m=\u001b[39m np\u001b[38;5;241m.\u001b[39matleast_1d(\u001b[43mfun\u001b[49m\u001b[43m(\u001b[49m\u001b[43mx\u001b[49m\u001b[43m,\u001b[49m\u001b[43m \u001b[49m\u001b[38;5;241;43m*\u001b[39;49m\u001b[43margs\u001b[49m\u001b[43m,\u001b[49m\u001b[43m \u001b[49m\u001b[38;5;241;43m*\u001b[39;49m\u001b[38;5;241;43m*\u001b[39;49m\u001b[43mkwargs\u001b[49m\u001b[43m)\u001b[49m)\n\u001b[1;32m    438\u001b[0m     \u001b[38;5;28;01mif\u001b[39;00m f\u001b[38;5;241m.\u001b[39mndim \u001b[38;5;241m>\u001b[39m \u001b[38;5;241m1\u001b[39m:\n\u001b[1;32m    439\u001b[0m         \u001b[38;5;28;01mraise\u001b[39;00m \u001b[38;5;167;01mRuntimeError\u001b[39;00m(\u001b[38;5;124m\"\u001b[39m\u001b[38;5;124m`fun` return value has \u001b[39m\u001b[38;5;124m\"\u001b[39m\n\u001b[1;32m    440\u001b[0m                            \u001b[38;5;124m\"\u001b[39m\u001b[38;5;124mmore than 1 dimension.\u001b[39m\u001b[38;5;124m\"\u001b[39m)\n",
      "File \u001b[0;32m~/Documents/Study postgraduate/Thesis/fuzzy-volatility-modeling/model.py:214\u001b[0m, in \u001b[0;36mFuzzyVolatilityModel._calc_residuals\u001b[0;34m(self, _parameters)\u001b[0m\n\u001b[1;32m    211\u001b[0m \u001b[38;5;28;01mdef\u001b[39;00m \u001b[38;5;21m_calc_residuals\u001b[39m(\u001b[38;5;28mself\u001b[39m, _parameters):\n\u001b[1;32m    212\u001b[0m     alpha_0, alpha, beta \u001b[38;5;241m=\u001b[39m unpack_1d_parameters(_parameters, p\u001b[38;5;241m=\u001b[39m\u001b[38;5;28mself\u001b[39m\u001b[38;5;241m.\u001b[39mp, q\u001b[38;5;241m=\u001b[39m\u001b[38;5;28mself\u001b[39m\u001b[38;5;241m.\u001b[39mq, n_clusters\u001b[38;5;241m=\u001b[39m\u001b[38;5;28mself\u001b[39m\u001b[38;5;241m.\u001b[39mn_clusters)\n\u001b[0;32m--> 214\u001b[0m     h \u001b[38;5;241m=\u001b[39m \u001b[43mcalc_cond_var_fuzzy\u001b[49m\u001b[43m(\u001b[49m\u001b[43malpha_0\u001b[49m\u001b[43m,\u001b[49m\u001b[43m \u001b[49m\u001b[43malpha\u001b[49m\u001b[43m,\u001b[49m\u001b[43m \u001b[49m\u001b[43mbeta\u001b[49m\u001b[43m,\u001b[49m\u001b[43m \u001b[49m\u001b[38;5;28;43mself\u001b[39;49m\u001b[38;5;241;43m.\u001b[39;49m\u001b[43mtrain_data\u001b[49m\u001b[43m[\u001b[49m\u001b[38;5;28;43mself\u001b[39;49m\u001b[38;5;241;43m.\u001b[39;49m\u001b[43m_fitting_slice\u001b[49m\u001b[43m]\u001b[49m\u001b[43m \u001b[49m\u001b[38;5;241;43m*\u001b[39;49m\u001b[38;5;241;43m*\u001b[39;49m\u001b[43m \u001b[49m\u001b[38;5;241;43m2\u001b[39;49m\u001b[43m,\u001b[49m\u001b[43m \u001b[49m\u001b[38;5;28;43mself\u001b[39;49m\u001b[38;5;241;43m.\u001b[39;49m\u001b[43mfirst_h_current\u001b[49m\u001b[43m,\u001b[49m\n\u001b[1;32m    215\u001b[0m \u001b[43m                            \u001b[49m\u001b[43mweights\u001b[49m\u001b[38;5;241;43m=\u001b[39;49m\u001b[38;5;28;43mself\u001b[39;49m\u001b[38;5;241;43m.\u001b[39;49m\u001b[43mmembership_degrees_current\u001b[49m\u001b[43m,\u001b[49m\u001b[43m \u001b[49m\u001b[43mpast_h_type\u001b[49m\u001b[38;5;241;43m=\u001b[39;49m\u001b[38;5;28;43mself\u001b[39;49m\u001b[38;5;241;43m.\u001b[39;49m\u001b[43mpast_h_type\u001b[49m\u001b[43m)\u001b[49m\n\u001b[1;32m    217\u001b[0m     residuals \u001b[38;5;241m=\u001b[39m \u001b[38;5;28mself\u001b[39m\u001b[38;5;241m.\u001b[39mtrain_data[\u001b[38;5;28mself\u001b[39m\u001b[38;5;241m.\u001b[39m_fitting_slice][\u001b[38;5;28mself\u001b[39m\u001b[38;5;241m.\u001b[39mstarting_index:] \u001b[38;5;241m*\u001b[39m\u001b[38;5;241m*\u001b[39m \u001b[38;5;241m2\u001b[39m \u001b[38;5;241m-\u001b[39m h[\u001b[38;5;28mself\u001b[39m\u001b[38;5;241m.\u001b[39mstarting_index:\u001b[38;5;241m-\u001b[39m\u001b[38;5;241m1\u001b[39m]\n\u001b[1;32m    218\u001b[0m     \u001b[38;5;28mself\u001b[39m\u001b[38;5;241m.\u001b[39mlogger\u001b[38;5;241m.\u001b[39mdebug(\u001b[38;5;124mf\u001b[39m\u001b[38;5;124m'\u001b[39m\u001b[38;5;124mresiduals = \u001b[39m\u001b[38;5;132;01m{\u001b[39;00mresiduals\u001b[38;5;241m.\u001b[39mtolist()\u001b[38;5;132;01m}\u001b[39;00m\u001b[38;5;124m'\u001b[39m)\n",
      "File \u001b[0;32m~/Documents/Study postgraduate/Thesis/fuzzy-volatility-modeling/local_models/garch.py:120\u001b[0m, in \u001b[0;36mcalc_cond_var_fuzzy\u001b[0;34m(alpha_0, alpha, beta, y_squared, first_h, weights, return_fuzzy, past_h_type)\u001b[0m\n\u001b[1;32m    118\u001b[0m     cond_var_combined \u001b[38;5;241m=\u001b[39m fuzzy_cond_var\u001b[38;5;241m.\u001b[39mcopy()\n\u001b[1;32m    119\u001b[0m \u001b[38;5;28;01melif\u001b[39;00m past_h_type \u001b[38;5;241m==\u001b[39m \u001b[38;5;124m'\u001b[39m\u001b[38;5;124mrule-wise\u001b[39m\u001b[38;5;124m'\u001b[39m:\n\u001b[0;32m--> 120\u001b[0m     fuzzy_cond_var \u001b[38;5;241m=\u001b[39m \u001b[43m_calc_cond_var\u001b[49m\u001b[43m(\u001b[49m\u001b[43malpha_0\u001b[49m\u001b[43m,\u001b[49m\u001b[43m \u001b[49m\u001b[43malpha\u001b[49m\u001b[43m,\u001b[49m\u001b[43m \u001b[49m\u001b[43mbeta\u001b[49m\u001b[43m,\u001b[49m\u001b[43m \u001b[49m\u001b[43my_squared\u001b[49m\u001b[43m,\u001b[49m\u001b[43m \u001b[49m\u001b[43mfirst_h\u001b[49m\u001b[43m,\u001b[49m\n\u001b[1;32m    121\u001b[0m \u001b[43m                                    \u001b[49m\u001b[43mn_clusters\u001b[49m\u001b[38;5;241;43m=\u001b[39;49m\u001b[43mn_clusters\u001b[49m\u001b[43m,\u001b[49m\n\u001b[1;32m    122\u001b[0m \u001b[43m                                    \u001b[49m\u001b[43mcalc_ht_function\u001b[49m\u001b[38;5;241;43m=\u001b[39;49m\u001b[43mcalc_fuzzy_ht_rule_wise\u001b[49m\u001b[43m)\u001b[49m\n\u001b[1;32m    123\u001b[0m     cond_var_combined \u001b[38;5;241m=\u001b[39m apply_along_axis(combine_rules_outputs,\n\u001b[1;32m    124\u001b[0m                                          axis\u001b[38;5;241m=\u001b[39m\u001b[38;5;241m1\u001b[39m,\n\u001b[1;32m    125\u001b[0m                                          arr\u001b[38;5;241m=\u001b[39mfuzzy_cond_var,\n\u001b[1;32m    126\u001b[0m                                          weights\u001b[38;5;241m=\u001b[39mweights)\n\u001b[1;32m    127\u001b[0m \u001b[38;5;28;01melse\u001b[39;00m:\n",
      "File \u001b[0;32m~/Documents/Study postgraduate/Thesis/fuzzy-volatility-modeling/local_models/garch.py:94\u001b[0m, in \u001b[0;36m_calc_cond_var\u001b[0;34m(alpha_0, alpha, beta, y_squared, first_h, calc_ht_function, **kwargs)\u001b[0m\n\u001b[1;32m     92\u001b[0m     h_t \u001b[38;5;241m=\u001b[39m calc_ht_function(alpha_0, alpha, beta, y_squared[y_slc], h[h_slc], \u001b[38;5;241m*\u001b[39m\u001b[38;5;241m*\u001b[39mkwargs)\n\u001b[1;32m     93\u001b[0m     h\u001b[38;5;241m.\u001b[39mappend(h_t)\n\u001b[0;32m---> 94\u001b[0m     logger\u001b[38;5;241m.\u001b[39mdebug(\u001b[38;5;124mf\u001b[39m\u001b[38;5;124m'\u001b[39m\u001b[38;5;124mNew iteration; i = \u001b[39m\u001b[38;5;132;01m{\u001b[39;00mi\u001b[38;5;132;01m}\u001b[39;00m\u001b[38;5;124m: h_t = \u001b[39m\u001b[38;5;132;01m{\u001b[39;00mh_t\u001b[38;5;132;01m}\u001b[39;00m\u001b[38;5;124m, y_slc = \u001b[39m\u001b[38;5;132;01m{\u001b[39;00my_slc\u001b[38;5;132;01m}\u001b[39;00m\u001b[38;5;124m, h_slc = \u001b[39m\u001b[38;5;132;01m{\u001b[39;00mh_slc\u001b[38;5;132;01m}\u001b[39;00m\u001b[38;5;124m, \u001b[39m\u001b[38;5;124m'\u001b[39m\n\u001b[1;32m     95\u001b[0m                  \u001b[38;5;124mf\u001b[39m\u001b[38;5;124m'\u001b[39m\u001b[38;5;124mh[h_slc] = \u001b[39m\u001b[38;5;132;01m{\u001b[39;00mh[h_slc]\u001b[38;5;132;01m}\u001b[39;00m\u001b[38;5;124m, y_squared[y_slc] =\u001b[39m\u001b[38;5;130;01m\\n\u001b[39;00m\u001b[38;5;132;01m{\u001b[39;00my_squared[y_slc]\u001b[38;5;132;01m}\u001b[39;00m\u001b[38;5;124m'\u001b[39m)\n\u001b[1;32m     97\u001b[0m h \u001b[38;5;241m=\u001b[39m array(h)\u001b[38;5;241m.\u001b[39mcopy()\n\u001b[1;32m     99\u001b[0m \u001b[38;5;28;01mreturn\u001b[39;00m h\n",
      "File \u001b[0;32m/Applications/anaconda3/envs/fuzzy-volatility/lib/python3.9/site-packages/numpy/core/arrayprint.py:1517\u001b[0m, in \u001b[0;36m_array_str_implementation\u001b[0;34m(a, max_line_width, precision, suppress_small, array2string)\u001b[0m\n\u001b[1;32m   1511\u001b[0m \u001b[38;5;28;01mif\u001b[39;00m a\u001b[38;5;241m.\u001b[39mshape \u001b[38;5;241m==\u001b[39m ():\n\u001b[1;32m   1512\u001b[0m     \u001b[38;5;66;03m# obtain a scalar and call str on it, avoiding problems for subclasses\u001b[39;00m\n\u001b[1;32m   1513\u001b[0m     \u001b[38;5;66;03m# for which indexing with () returns a 0d instead of a scalar by using\u001b[39;00m\n\u001b[1;32m   1514\u001b[0m     \u001b[38;5;66;03m# ndarray's getindex. Also guard against recursive 0d object arrays.\u001b[39;00m\n\u001b[1;32m   1515\u001b[0m     \u001b[38;5;28;01mreturn\u001b[39;00m _guarded_repr_or_str(np\u001b[38;5;241m.\u001b[39mndarray\u001b[38;5;241m.\u001b[39m\u001b[38;5;21m__getitem__\u001b[39m(a, ()))\n\u001b[0;32m-> 1517\u001b[0m \u001b[38;5;28;01mreturn\u001b[39;00m \u001b[43marray2string\u001b[49m\u001b[43m(\u001b[49m\u001b[43ma\u001b[49m\u001b[43m,\u001b[49m\u001b[43m \u001b[49m\u001b[43mmax_line_width\u001b[49m\u001b[43m,\u001b[49m\u001b[43m \u001b[49m\u001b[43mprecision\u001b[49m\u001b[43m,\u001b[49m\u001b[43m \u001b[49m\u001b[43msuppress_small\u001b[49m\u001b[43m,\u001b[49m\u001b[43m \u001b[49m\u001b[38;5;124;43m'\u001b[39;49m\u001b[38;5;124;43m \u001b[39;49m\u001b[38;5;124;43m'\u001b[39;49m\u001b[43m,\u001b[49m\u001b[43m \u001b[49m\u001b[38;5;124;43m\"\u001b[39;49m\u001b[38;5;124;43m\"\u001b[39;49m\u001b[43m)\u001b[49m\n",
      "File \u001b[0;32m/Applications/anaconda3/envs/fuzzy-volatility/lib/python3.9/site-packages/numpy/core/arrayprint.py:692\u001b[0m, in \u001b[0;36marray2string\u001b[0;34m(a, max_line_width, precision, suppress_small, separator, prefix, style, formatter, threshold, edgeitems, sign, floatmode, suffix, legacy)\u001b[0m\n\u001b[1;32m    689\u001b[0m \u001b[38;5;28;01mif\u001b[39;00m a\u001b[38;5;241m.\u001b[39msize \u001b[38;5;241m==\u001b[39m \u001b[38;5;241m0\u001b[39m:\n\u001b[1;32m    690\u001b[0m     \u001b[38;5;28;01mreturn\u001b[39;00m \u001b[38;5;124m\"\u001b[39m\u001b[38;5;124m[]\u001b[39m\u001b[38;5;124m\"\u001b[39m\n\u001b[0;32m--> 692\u001b[0m \u001b[38;5;28;01mreturn\u001b[39;00m \u001b[43m_array2string\u001b[49m\u001b[43m(\u001b[49m\u001b[43ma\u001b[49m\u001b[43m,\u001b[49m\u001b[43m \u001b[49m\u001b[43moptions\u001b[49m\u001b[43m,\u001b[49m\u001b[43m \u001b[49m\u001b[43mseparator\u001b[49m\u001b[43m,\u001b[49m\u001b[43m \u001b[49m\u001b[43mprefix\u001b[49m\u001b[43m)\u001b[49m\n",
      "File \u001b[0;32m/Applications/anaconda3/envs/fuzzy-volatility/lib/python3.9/site-packages/numpy/core/arrayprint.py:468\u001b[0m, in \u001b[0;36m_recursive_guard.<locals>.decorating_function.<locals>.wrapper\u001b[0;34m(self, *args, **kwargs)\u001b[0m\n\u001b[1;32m    466\u001b[0m repr_running\u001b[38;5;241m.\u001b[39madd(key)\n\u001b[1;32m    467\u001b[0m \u001b[38;5;28;01mtry\u001b[39;00m:\n\u001b[0;32m--> 468\u001b[0m     \u001b[38;5;28;01mreturn\u001b[39;00m \u001b[43mf\u001b[49m\u001b[43m(\u001b[49m\u001b[38;5;28;43mself\u001b[39;49m\u001b[43m,\u001b[49m\u001b[43m \u001b[49m\u001b[38;5;241;43m*\u001b[39;49m\u001b[43margs\u001b[49m\u001b[43m,\u001b[49m\u001b[43m \u001b[49m\u001b[38;5;241;43m*\u001b[39;49m\u001b[38;5;241;43m*\u001b[39;49m\u001b[43mkwargs\u001b[49m\u001b[43m)\u001b[49m\n\u001b[1;32m    469\u001b[0m \u001b[38;5;28;01mfinally\u001b[39;00m:\n\u001b[1;32m    470\u001b[0m     repr_running\u001b[38;5;241m.\u001b[39mdiscard(key)\n",
      "File \u001b[0;32m/Applications/anaconda3/envs/fuzzy-volatility/lib/python3.9/site-packages/numpy/core/arrayprint.py:494\u001b[0m, in \u001b[0;36m_array2string\u001b[0;34m(a, options, separator, prefix)\u001b[0m\n\u001b[1;32m    491\u001b[0m     summary_insert \u001b[38;5;241m=\u001b[39m \u001b[38;5;124m\"\u001b[39m\u001b[38;5;124m\"\u001b[39m\n\u001b[1;32m    493\u001b[0m \u001b[38;5;66;03m# find the right formatting function for the array\u001b[39;00m\n\u001b[0;32m--> 494\u001b[0m format_function \u001b[38;5;241m=\u001b[39m \u001b[43m_get_format_function\u001b[49m\u001b[43m(\u001b[49m\u001b[43mdata\u001b[49m\u001b[43m,\u001b[49m\u001b[43m \u001b[49m\u001b[38;5;241;43m*\u001b[39;49m\u001b[38;5;241;43m*\u001b[39;49m\u001b[43moptions\u001b[49m\u001b[43m)\u001b[49m\n\u001b[1;32m    496\u001b[0m \u001b[38;5;66;03m# skip over \"[\"\u001b[39;00m\n\u001b[1;32m    497\u001b[0m next_line_prefix \u001b[38;5;241m=\u001b[39m \u001b[38;5;124m\"\u001b[39m\u001b[38;5;124m \u001b[39m\u001b[38;5;124m\"\u001b[39m\n",
      "File \u001b[0;32m/Applications/anaconda3/envs/fuzzy-volatility/lib/python3.9/site-packages/numpy/core/arrayprint.py:415\u001b[0m, in \u001b[0;36m_get_format_function\u001b[0;34m(data, **options)\u001b[0m\n\u001b[1;32m    413\u001b[0m dtype_ \u001b[38;5;241m=\u001b[39m data\u001b[38;5;241m.\u001b[39mdtype\n\u001b[1;32m    414\u001b[0m dtypeobj \u001b[38;5;241m=\u001b[39m dtype_\u001b[38;5;241m.\u001b[39mtype\n\u001b[0;32m--> 415\u001b[0m formatdict \u001b[38;5;241m=\u001b[39m \u001b[43m_get_formatdict\u001b[49m\u001b[43m(\u001b[49m\u001b[43mdata\u001b[49m\u001b[43m,\u001b[49m\u001b[43m \u001b[49m\u001b[38;5;241;43m*\u001b[39;49m\u001b[38;5;241;43m*\u001b[39;49m\u001b[43moptions\u001b[49m\u001b[43m)\u001b[49m\n\u001b[1;32m    416\u001b[0m \u001b[38;5;28;01mif\u001b[39;00m \u001b[38;5;28missubclass\u001b[39m(dtypeobj, _nt\u001b[38;5;241m.\u001b[39mbool_):\n\u001b[1;32m    417\u001b[0m     \u001b[38;5;28;01mreturn\u001b[39;00m formatdict[\u001b[38;5;124m'\u001b[39m\u001b[38;5;124mbool\u001b[39m\u001b[38;5;124m'\u001b[39m]()\n",
      "File \u001b[0;32m/Applications/anaconda3/envs/fuzzy-volatility/lib/python3.9/site-packages/numpy/core/arrayprint.py:386\u001b[0m, in \u001b[0;36m_get_formatdict\u001b[0;34m(data, precision, floatmode, suppress, sign, legacy, formatter, **kwargs)\u001b[0m\n\u001b[1;32m    383\u001b[0m \u001b[38;5;28;01mdef\u001b[39;00m \u001b[38;5;21mindirect\u001b[39m(x):\n\u001b[1;32m    384\u001b[0m     \u001b[38;5;28;01mreturn\u001b[39;00m \u001b[38;5;28;01mlambda\u001b[39;00m: x\n\u001b[0;32m--> 386\u001b[0m \u001b[38;5;28;01mif\u001b[39;00m \u001b[43mformatter\u001b[49m \u001b[38;5;129;01mis\u001b[39;00m \u001b[38;5;129;01mnot\u001b[39;00m \u001b[38;5;28;01mNone\u001b[39;00m:\n\u001b[1;32m    387\u001b[0m     fkeys \u001b[38;5;241m=\u001b[39m [k \u001b[38;5;28;01mfor\u001b[39;00m k \u001b[38;5;129;01min\u001b[39;00m formatter\u001b[38;5;241m.\u001b[39mkeys() \u001b[38;5;28;01mif\u001b[39;00m formatter[k] \u001b[38;5;129;01mis\u001b[39;00m \u001b[38;5;129;01mnot\u001b[39;00m \u001b[38;5;28;01mNone\u001b[39;00m]\n\u001b[1;32m    388\u001b[0m     \u001b[38;5;28;01mif\u001b[39;00m \u001b[38;5;124m'\u001b[39m\u001b[38;5;124mall\u001b[39m\u001b[38;5;124m'\u001b[39m \u001b[38;5;129;01min\u001b[39;00m fkeys:\n",
      "\u001b[0;31mKeyboardInterrupt\u001b[0m: "
     ]
    }
   ],
   "source": [
    "%%time\n",
    "\n",
    "fvm.feed_daily_data(test, data_to_cluster=data_to_cluster_test)"
   ]
  },
  {
   "cell_type": "code",
   "execution_count": 63,
   "id": "002bce39",
   "metadata": {},
   "outputs": [
    {
     "data": {
      "text/plain": [
       "array([[0.00060013, 0.00060013, 0.00060013, 0.00060013, 0.00060013,\n",
       "        0.00060013]])"
      ]
     },
     "execution_count": 63,
     "metadata": {},
     "output_type": "execute_result"
    }
   ],
   "source": [
    "fvm.first_h_current"
   ]
  },
  {
   "cell_type": "code",
   "execution_count": 64,
   "id": "db4ae291",
   "metadata": {},
   "outputs": [
    {
     "data": {
      "text/plain": [
       "array([0.00060013, 0.00034391, 0.00022055, 0.00016116, 0.00013257,\n",
       "       0.0001188 , 0.00011218, 0.00010898, 0.00010745, 0.00010671,\n",
       "       0.00010635, 0.00010618, 0.0001061 , 0.00010606, 0.00010604,\n",
       "       0.00010603, 0.00010603, 0.00010602, 0.00010602, 0.00010602,\n",
       "       0.00010602, 0.00010602, 0.00010602, 0.00010602, 0.00010602,\n",
       "       0.00010602], dtype=float128)"
      ]
     },
     "execution_count": 64,
     "metadata": {},
     "output_type": "execute_result"
    }
   ],
   "source": [
    "fvm.h"
   ]
  },
  {
   "cell_type": "code",
   "execution_count": 65,
   "id": "507f54cd",
   "metadata": {},
   "outputs": [
    {
     "data": {
      "text/plain": [
       "[array([[0.00060013],\n",
       "        [0.00060013]]),\n",
       " array([[0.00060013],\n",
       "        [0.00067375],\n",
       "        [0.00071055]]),\n",
       " array([[0.00060013],\n",
       "        [0.00038509],\n",
       "        [0.0002471 ],\n",
       "        [0.00015856]], dtype=float128),\n",
       " array([[6.00131747e-04],\n",
       "        [3.60675271e-04],\n",
       "        [2.16763488e-04],\n",
       "        [1.30273444e-04],\n",
       "        [7.82934915e-05]]),\n",
       " array([[6.00131747e-04],\n",
       "        [3.51712378e-04],\n",
       "        [2.06124068e-04],\n",
       "        [1.20800785e-04],\n",
       "        [7.07963403e-05],\n",
       "        [4.14908049e-05]]),\n",
       " array([[6.00131747e-04, 6.00131747e-04],\n",
       "        [3.61039555e-04, 3.61224451e-04],\n",
       "        [2.17201575e-04, 2.17424098e-04],\n",
       "        [1.30668574e-04, 1.30869431e-04],\n",
       "        [7.86102788e-05, 7.87714340e-05],\n",
       "        [4.72919825e-05, 4.74132024e-05],\n",
       "        [2.84508800e-05, 2.85384135e-05]], dtype=float128),\n",
       " array([[6.00131747e-04, 6.00131747e-04],\n",
       "        [3.61053874e-04, 3.67961825e-04],\n",
       "        [2.17218820e-04, 2.28225390e-04],\n",
       "        [1.30684159e-04, 1.44122026e-04],\n",
       "        [7.86228062e-05, 9.35026170e-05],\n",
       "        [4.73014320e-05, 6.30362424e-05],\n",
       "        [2.84577327e-05, 4.46994030e-05],\n",
       "        [1.71209057e-05, 3.36629838e-05]]),\n",
       " array([[6.00131747e-04, 6.00131747e-04],\n",
       "        [3.65085905e-04, 3.66578901e-04],\n",
       "        [2.22097430e-04, 2.24054041e-04],\n",
       "        [1.35111405e-04, 1.37078712e-04],\n",
       "        [8.21940715e-05, 8.40023031e-05],\n",
       "        [5.00021866e-05, 5.16125982e-05],\n",
       "        [3.04184814e-05, 3.18468868e-05],\n",
       "        [1.85048729e-05, 1.97849262e-05],\n",
       "        [1.12573136e-05, 1.24241543e-05]]),\n",
       " array([[6.00131747e-04, 6.00131747e-04],\n",
       "        [3.65425170e-04, 3.66125321e-04],\n",
       "        [2.22510401e-04, 2.23368828e-04],\n",
       "        [1.35488420e-04, 1.36279697e-04],\n",
       "        [8.25000194e-05, 8.31506482e-05],\n",
       "        [5.02349453e-05, 5.07390735e-05],\n",
       "        [3.05884758e-05, 3.09662715e-05],\n",
       "        [1.86255786e-05, 1.89037999e-05],\n",
       "        [1.13412719e-05, 1.15450441e-05],\n",
       "        [6.90579755e-06, 7.05580764e-06]]),\n",
       " array([[6.00131747e-04, 6.00131747e-04],\n",
       "        [3.65425266e-04, 3.66125321e-04],\n",
       "        [2.22510556e-04, 2.23368828e-04],\n",
       "        [1.35488611e-04, 1.36279697e-04],\n",
       "        [8.25002320e-05, 8.31506482e-05],\n",
       "        [5.02351711e-05, 5.07390735e-05],\n",
       "        [3.05887097e-05, 3.09662715e-05],\n",
       "        [1.86258174e-05, 1.89037999e-05],\n",
       "        [1.13415137e-05, 1.15450441e-05],\n",
       "        [6.90604116e-06, 7.05580764e-06],\n",
       "        [4.20524538e-06, 4.31713221e-06]]),\n",
       " array([[6.00131747e-04, 6.00131747e-04],\n",
       "        [3.55142041e-04, 3.60762711e-04],\n",
       "        [2.13665396e-04, 2.22673903e-04],\n",
       "        [1.31965469e-04, 1.43012309e-04],\n",
       "        [8.47853981e-05, 9.70565973e-05],\n",
       "        [5.75398529e-05, 7.05453595e-05],\n",
       "        [4.18060966e-05, 5.52513796e-05],\n",
       "        [3.27201677e-05, 4.64284863e-05],\n",
       "        [2.74732258e-05, 4.13386768e-05],\n",
       "        [2.44432220e-05, 3.84024335e-05],\n",
       "        [2.26934556e-05, 3.67085538e-05],\n",
       "        [2.16830005e-05, 3.57313772e-05]]),\n",
       " array([[6.00131747e-04, 6.00131747e-04],\n",
       "        [3.45347580e-04, 3.69462369e-04],\n",
       "        [1.99021436e-04, 2.36904957e-04],\n",
       "        [1.14984266e-04, 1.60728970e-04],\n",
       "        [6.67205322e-05, 1.16953365e-04],\n",
       "        [3.90019887e-05, 9.17970956e-05],\n",
       "        [2.30828379e-05, 7.73406907e-05],\n",
       "        [1.39402448e-05, 6.90331138e-05],\n",
       "        [8.68952456e-06, 6.42590475e-05],\n",
       "        [5.67396178e-06, 6.15155629e-05],\n",
       "        [3.94208150e-06, 5.99389809e-05],\n",
       "        [2.94743821e-06, 5.90329757e-05],\n",
       "        [2.37620052e-06, 5.85123271e-05]]),\n",
       " array([[6.00131747e-04, 6.00131747e-04, 6.00131747e-04],\n",
       "        [3.40686286e-04, 3.72116503e-04, 3.47694801e-04],\n",
       "        [1.96357244e-04, 2.45030522e-04, 2.07083519e-04],\n",
       "        [1.16067259e-04, 1.74198213e-04, 1.28760861e-04],\n",
       "        [7.14020854e-05, 1.34719302e-04, 8.51339299e-05],\n",
       "        [4.65549300e-05, 1.12715439e-04, 6.08330546e-05],\n",
       "        [3.27325024e-05, 1.00451424e-04, 4.72970914e-05],\n",
       "        [2.50431108e-05, 9.36159848e-05, 3.97573506e-05],\n",
       "        [2.07655162e-05, 8.98062021e-05, 3.55575985e-05],\n",
       "        [1.83858981e-05, 8.76827916e-05, 3.32182716e-05],\n",
       "        [1.70621208e-05, 8.64992931e-05, 3.19152303e-05],\n",
       "        [1.63257059e-05, 8.58396614e-05, 3.11894162e-05],\n",
       "        [1.59160396e-05, 8.54720109e-05, 3.07851265e-05],\n",
       "        [1.56881430e-05, 8.52670981e-05, 3.05599309e-05]]),\n",
       " array([[6.00131747e-04, 6.00131747e-04, 6.00131747e-04],\n",
       "        [3.44449124e-04, 3.70800437e-04, 3.49498047e-04],\n",
       "        [2.00234824e-04, 2.41622325e-04, 2.08342276e-04],\n",
       "        [1.18892713e-04, 1.68858669e-04, 1.28843981e-04],\n",
       "        [7.30128035e-05, 1.27872239e-04, 8.40708995e-05],\n",
       "        [4.71348658e-05, 1.04785336e-04, 5.88549016e-05],\n",
       "        [3.25387676e-05, 9.17809080e-05, 4.46533651e-05],\n",
       "        [2.43060373e-05, 8.44557528e-05, 3.66551238e-05],\n",
       "        [1.96624780e-05, 8.03296274e-05, 3.21505502e-05],\n",
       "        [1.70433416e-05, 7.80054569e-05, 2.96135947e-05],\n",
       "        [1.55660534e-05, 7.66962943e-05, 2.81847928e-05],\n",
       "        [1.47328092e-05, 7.59588671e-05, 2.73800980e-05],\n",
       "        [1.42628291e-05, 7.55434879e-05, 2.69268975e-05],\n",
       "        [1.39977432e-05, 7.53095125e-05, 2.66716570e-05],\n",
       "        [1.38482251e-05, 7.51777184e-05, 2.65279067e-05]]),\n",
       " array([[6.00131747e-04, 6.00131747e-04, 6.00131747e-04, 6.00131747e-04],\n",
       "        [3.51836504e-04, 3.70476622e-04, 3.59001588e-04, 3.37743660e-04],\n",
       "        [2.11902919e-04, 2.41295916e-04, 2.23458502e-04, 1.90076711e-04],\n",
       "        [1.33039515e-04, 1.68631938e-04, 1.47267584e-04, 1.06972602e-04],\n",
       "        [8.85938834e-05, 1.27758546e-04, 1.04439461e-04, 6.02032149e-05],\n",
       "        [6.35453305e-05, 1.04767316e-04, 8.03650941e-05, 3.38823065e-05],\n",
       "        [4.94285324e-05, 9.18347800e-05, 6.68325108e-05, 1.90694074e-05],\n",
       "        [4.14726243e-05, 8.45602453e-05, 5.92256311e-05, 1.07329938e-05],\n",
       "        [3.69888543e-05, 8.04683290e-05, 5.49496834e-05, 6.04142117e-06],\n",
       "        [3.44619029e-05, 7.81666315e-05, 5.25461054e-05, 3.40109468e-06],\n",
       "        [3.30377703e-05, 7.68719297e-05, 5.11950161e-05, 1.91516990e-06],\n",
       "        [3.22351613e-05, 7.61436616e-05, 5.04355474e-05, 1.07892013e-06],\n",
       "        [3.17828291e-05, 7.57340118e-05, 5.00086380e-05, 6.08294900e-07],\n",
       "        [3.15279048e-05, 7.55035843e-05, 4.97686655e-05, 3.43436111e-07],\n",
       "        [3.13842353e-05, 7.53739691e-05, 4.96337731e-05, 1.94378693e-07],\n",
       "        [3.13032664e-05, 7.53010607e-05, 4.95579479e-05, 1.10492058e-07]],\n",
       "       dtype=float128),\n",
       " array([[6.00131747e-04, 6.00131747e-04, 6.00131747e-04, 6.00131747e-04],\n",
       "        [3.77619150e-04, 3.45701791e-04, 3.42580533e-04, 3.35430157e-04],\n",
       "        [2.57377178e-04, 2.07991861e-04, 2.03146502e-04, 1.92090030e-04],\n",
       "        [1.92400490e-04, 1.33456516e-04, 1.27659190e-04, 1.14469068e-04],\n",
       "        [1.57288209e-04, 9.31143439e-05, 8.67915884e-05, 7.24360807e-05],\n",
       "        [1.38314137e-04, 7.12791883e-05, 6.46665349e-05, 4.96745486e-05],\n",
       "        [1.28060876e-04, 5.94609348e-05, 5.26883915e-05, 3.73488165e-05],\n",
       "        [1.22520190e-04, 5.30643182e-05, 4.62036197e-05, 3.06742363e-05],\n",
       "        [1.19526099e-04, 4.96021567e-05, 4.26928700e-05, 2.70598448e-05],\n",
       "        [1.17908144e-04, 4.77282656e-05, 4.07922073e-05, 2.51025942e-05],\n",
       "        [1.17033829e-04, 4.67140242e-05, 3.97632194e-05, 2.40427118e-05],\n",
       "        [1.16561364e-04, 4.61650672e-05, 3.92061422e-05, 2.34687686e-05],\n",
       "        [1.16306052e-04, 4.58679448e-05, 3.89045496e-05, 2.31579693e-05],\n",
       "        [1.16168086e-04, 4.57071276e-05, 3.87412724e-05, 2.29896665e-05],\n",
       "        [1.16093532e-04, 4.56200855e-05, 3.86528767e-05, 2.28985278e-05],\n",
       "        [1.16053244e-04, 4.55729741e-05, 3.86050207e-05, 2.28491748e-05],\n",
       "        [1.16031473e-04, 4.55474751e-05, 3.85791123e-05, 2.28224493e-05]]),\n",
       " array([[6.00131747e-04, 6.00131747e-04, 6.00131747e-04, 6.00131747e-04],\n",
       "        [3.87405953e-04, 3.49158202e-04, 3.24903277e-04, 3.79072378e-04],\n",
       "        [2.72452439e-04, 2.13319032e-04, 1.75899076e-04, 2.59365237e-04],\n",
       "        [2.10333453e-04, 1.39796222e-04, 9.52306331e-05, 1.94541930e-04],\n",
       "        [1.76765377e-04, 1.00002078e-04, 5.15580547e-05, 1.59439085e-04],\n",
       "        [1.58625741e-04, 7.84635387e-05, 2.79144336e-05, 1.40430341e-04],\n",
       "        [1.48823381e-04, 6.68058268e-05, 1.51141630e-05, 1.30136805e-04],\n",
       "        [1.43526347e-04, 6.04961024e-05, 8.18430538e-06, 1.24562693e-04],\n",
       "        [1.40663917e-04, 5.70809706e-05, 4.43259358e-06, 1.21544223e-04],\n",
       "        [1.39117107e-04, 5.52325341e-05, 2.40147804e-06, 1.19909674e-04],\n",
       "        [1.38281237e-04, 5.42320698e-05, 1.30186523e-06, 1.19024540e-04],\n",
       "        [1.37829546e-04, 5.36905695e-05, 7.06552821e-07, 1.18545226e-04],\n",
       "        [1.37585460e-04, 5.33974830e-05, 3.84260388e-07, 1.18285670e-04],\n",
       "        [1.37453559e-04, 5.32388503e-05, 2.09776534e-07, 1.18145116e-04],\n",
       "        [1.37382283e-04, 5.31529905e-05, 1.15313810e-07, 1.18069004e-04],\n",
       "        [1.37343766e-04, 5.31065189e-05, 6.41732373e-08, 1.18027788e-04],\n",
       "        [1.37322952e-04, 5.30813663e-05, 3.64865826e-08, 1.18005469e-04],\n",
       "        [1.37311705e-04, 5.30677525e-05, 2.14974942e-08, 1.17993383e-04]],\n",
       "       dtype=float128),\n",
       " array([[6.00131747e-04, 6.00131747e-04, 6.00131747e-04, 6.00131747e-04],\n",
       "        [3.81297499e-04, 3.32254805e-04, 3.06572249e-04, 3.63695985e-04],\n",
       "        [2.69581276e-04, 1.95374443e-04, 1.56610750e-04, 2.42867888e-04],\n",
       "        [2.12549460e-04, 1.25431008e-04, 8.00046397e-05, 1.81119916e-04],\n",
       "        [1.83434369e-04, 8.96911539e-05, 4.08712878e-05, 1.49564241e-04],\n",
       "        [1.68570937e-04, 7.14287232e-05, 2.08804643e-05, 1.33438034e-04],\n",
       "        [1.60983064e-04, 6.20969453e-05, 1.06683816e-05, 1.25196899e-04],\n",
       "        [1.57109408e-04, 5.73285724e-05, 5.45165642e-06, 1.20985351e-04],\n",
       "        [1.55131883e-04, 5.48920185e-05, 2.78675225e-06, 1.18833082e-04],\n",
       "        [1.54122344e-04, 5.36469827e-05, 1.42541655e-06, 1.17733187e-04],\n",
       "        [1.53606969e-04, 5.30107916e-05, 7.29993835e-07, 1.17171097e-04],\n",
       "        [1.53343866e-04, 5.26857092e-05, 3.74745126e-07, 1.16883846e-04],\n",
       "        [1.53209551e-04, 5.25195978e-05, 1.93270401e-07, 1.16737050e-04],\n",
       "        [1.53140982e-04, 5.24347179e-05, 1.00566122e-07, 1.16662031e-04],\n",
       "        [1.53105977e-04, 5.23913457e-05, 5.32092048e-08, 1.16623693e-04],\n",
       "        [1.53088107e-04, 5.23691833e-05, 2.90174675e-08, 1.16604101e-04],\n",
       "        [1.53078984e-04, 5.23578587e-05, 1.66593963e-08, 1.16594089e-04],\n",
       "        [1.53074327e-04, 5.23520721e-05, 1.03464177e-08, 1.16588972e-04],\n",
       "        [1.53071949e-04, 5.23491152e-05, 7.12150481e-09, 1.16586358e-04]]),\n",
       " array([[6.00131747e-04, 6.00131747e-04, 6.00131747e-04, 6.00131747e-04],\n",
       "        [3.80303943e-04, 3.33707613e-04, 3.10620401e-04, 3.62370408e-04],\n",
       "        [2.66556613e-04, 1.95750476e-04, 1.60773910e-04, 2.39278815e-04],\n",
       "        [2.07699384e-04, 1.24314862e-04, 8.32157376e-05, 1.75552978e-04],\n",
       "        [1.77244398e-04, 8.73247714e-05, 4.30728548e-05, 1.42561429e-04],\n",
       "        [1.61485822e-04, 6.81709248e-05, 2.22955340e-05, 1.25481351e-04],\n",
       "        [1.53331730e-04, 5.82528675e-05, 1.15415215e-05, 1.16638811e-04],\n",
       "        [1.49112491e-04, 5.31171961e-05, 5.97541484e-06, 1.12060933e-04],\n",
       "        [1.46929294e-04, 5.04578931e-05, 3.09448610e-06, 1.09690917e-04],\n",
       "        [1.45799625e-04, 4.90808788e-05, 1.60336298e-06, 1.08463934e-04],\n",
       "        [1.45215091e-04, 4.83678467e-05, 8.31581250e-07, 1.07828712e-04],\n",
       "        [1.44912630e-04, 4.79986314e-05, 4.32119244e-07, 1.07499851e-04],\n",
       "        [1.44756126e-04, 4.78074480e-05, 2.25364028e-07, 1.07329596e-04],\n",
       "        [1.44675144e-04, 4.77084513e-05, 1.18350803e-07, 1.07241453e-04],\n",
       "        [1.44633241e-04, 4.76571897e-05, 6.29624461e-08, 1.07195821e-04],\n",
       "        [1.44611559e-04, 4.76306460e-05, 3.42943109e-08, 1.07172196e-04],\n",
       "        [1.44600340e-04, 4.76169014e-05, 1.94561446e-08, 1.07159966e-04],\n",
       "        [1.44594535e-04, 4.76097843e-05, 1.17761504e-08, 1.07153634e-04],\n",
       "        [1.44591531e-04, 4.76060990e-05, 7.80109555e-09, 1.07150355e-04],\n",
       "        [1.44589977e-04, 4.76041907e-05, 5.74366700e-09, 1.07148658e-04]]),\n",
       " array([[6.00131747e-04, 6.00131747e-04, 6.00131747e-04, 6.00131747e-04,\n",
       "         6.00131747e-04],\n",
       "        [3.79591493e-04, 3.34433271e-04, 3.13114306e-04, 3.62138930e-04,\n",
       "         3.46963610e-04],\n",
       "        [2.64692740e-04, 1.96042699e-04, 1.63365903e-04, 2.38162719e-04,\n",
       "         2.15097400e-04],\n",
       "        [2.04831906e-04, 1.23961177e-04, 8.52362116e-05, 1.73580515e-04,\n",
       "         1.46413016e-04],\n",
       "        [1.73645150e-04, 8.64171031e-05, 4.44728471e-05, 1.39938083e-04,\n",
       "         1.10637783e-04],\n",
       "        [1.57397235e-04, 6.68620574e-05, 2.32049801e-05, 1.22412928e-04,\n",
       "         9.20037452e-05],\n",
       "        [1.48932271e-04, 5.66766999e-05, 1.21086889e-05, 1.13283651e-04,\n",
       "         8.22979429e-05],\n",
       "        [1.44522130e-04, 5.13715981e-05, 6.31931289e-06, 1.08527990e-04,\n",
       "         7.72425384e-05],\n",
       "        [1.42224500e-04, 4.86084055e-05, 3.29876539e-06, 1.06050651e-04,\n",
       "         7.46093593e-05],\n",
       "        [1.41027464e-04, 4.71691808e-05, 1.72282574e-06, 1.04760145e-04,\n",
       "         7.32378306e-05],\n",
       "        [1.40403822e-04, 4.64195524e-05, 9.00595409e-07, 1.04087890e-04,\n",
       "         7.25234505e-05],\n",
       "        [1.40078913e-04, 4.60291041e-05, 4.71605179e-07, 1.03737696e-04,\n",
       "         7.21513555e-05],\n",
       "        [1.39909639e-04, 4.58257369e-05, 2.47783928e-07, 1.03555271e-04,\n",
       "         7.19575446e-05],\n",
       "        [1.39821450e-04, 4.57198119e-05, 1.31007491e-07, 1.03460242e-04,\n",
       "         7.18565954e-05],\n",
       "        [1.39775504e-04, 4.56646403e-05, 7.00805806e-08, 1.03410739e-04,\n",
       "         7.18040146e-05],\n",
       "        [1.39751567e-04, 4.56359038e-05, 3.82925917e-08, 1.03384951e-04,\n",
       "         7.17766271e-05],\n",
       "        [1.39739096e-04, 4.56209363e-05, 2.17075383e-08, 1.03371518e-04,\n",
       "         7.17623620e-05],\n",
       "        [1.39732599e-04, 4.56131403e-05, 1.30544600e-08, 1.03364520e-04,\n",
       "         7.17549318e-05],\n",
       "        [1.39729214e-04, 4.56090798e-05, 8.53979943e-09, 1.03360875e-04,\n",
       "         7.17510617e-05],\n",
       "        [1.39727450e-04, 4.56069648e-05, 6.18432004e-09, 1.03358976e-04,\n",
       "         7.17490459e-05],\n",
       "        [1.39726531e-04, 4.56058632e-05, 4.95537355e-09, 1.03357987e-04,\n",
       "         7.17479959e-05]]),\n",
       " array([[6.00131747e-04, 6.00131747e-04, 6.00131747e-04, 6.00131747e-04,\n",
       "         6.00131747e-04],\n",
       "        [3.79591493e-04, 3.34433271e-04, 3.13114306e-04, 3.62138930e-04,\n",
       "         3.46963610e-04],\n",
       "        [2.64692740e-04, 1.96042699e-04, 1.63365903e-04, 2.38162719e-04,\n",
       "         2.15097400e-04],\n",
       "        [2.04831906e-04, 1.23961177e-04, 8.52362116e-05, 1.73580515e-04,\n",
       "         1.46413016e-04],\n",
       "        [1.73645150e-04, 8.64171031e-05, 4.44728471e-05, 1.39938083e-04,\n",
       "         1.10637783e-04],\n",
       "        [1.57397235e-04, 6.68620574e-05, 2.32049801e-05, 1.22412928e-04,\n",
       "         9.20037452e-05],\n",
       "        [1.48932271e-04, 5.66766999e-05, 1.21086889e-05, 1.13283651e-04,\n",
       "         8.22979430e-05],\n",
       "        [1.44522130e-04, 5.13715982e-05, 6.31931291e-06, 1.08527990e-04,\n",
       "         7.72425384e-05],\n",
       "        [1.42224500e-04, 4.86084055e-05, 3.29876540e-06, 1.06050651e-04,\n",
       "         7.46093593e-05],\n",
       "        [1.41027464e-04, 4.71691808e-05, 1.72282575e-06, 1.04760145e-04,\n",
       "         7.32378307e-05],\n",
       "        [1.40403822e-04, 4.64195524e-05, 9.00595413e-07, 1.04087890e-04,\n",
       "         7.25234505e-05],\n",
       "        [1.40078913e-04, 4.60291041e-05, 4.71605191e-07, 1.03737696e-04,\n",
       "         7.21513556e-05],\n",
       "        [1.39909639e-04, 4.58257369e-05, 2.47783938e-07, 1.03555271e-04,\n",
       "         7.19575446e-05],\n",
       "        [1.39821450e-04, 4.57198119e-05, 1.31007506e-07, 1.03460242e-04,\n",
       "         7.18565954e-05],\n",
       "        [1.39775504e-04, 4.56646403e-05, 7.00805886e-08, 1.03410739e-04,\n",
       "         7.18040146e-05],\n",
       "        [1.39751567e-04, 4.56359038e-05, 3.82925994e-08, 1.03384951e-04,\n",
       "         7.17766271e-05],\n",
       "        [1.39739096e-04, 4.56209363e-05, 2.17075590e-08, 1.03371518e-04,\n",
       "         7.17623620e-05],\n",
       "        [1.39732599e-04, 4.56131404e-05, 1.30544990e-08, 1.03364520e-04,\n",
       "         7.17549318e-05],\n",
       "        [1.39729214e-04, 4.56090798e-05, 8.53982574e-09, 1.03360875e-04,\n",
       "         7.17510617e-05],\n",
       "        [1.39727450e-04, 4.56069648e-05, 6.18433379e-09, 1.03358976e-04,\n",
       "         7.17490459e-05],\n",
       "        [1.39726531e-04, 4.56058632e-05, 4.95538339e-09, 1.03357987e-04,\n",
       "         7.17479959e-05],\n",
       "        [1.39726053e-04, 4.56052895e-05, 4.31419473e-09, 1.03357472e-04,\n",
       "         7.17474490e-05]]),\n",
       " array([[6.00131747e-04, 6.00131747e-04, 6.00131747e-04, 6.00131747e-04,\n",
       "         6.00131747e-04],\n",
       "        [3.77042158e-04, 3.33428735e-04, 3.14502882e-04, 3.58748583e-04,\n",
       "         3.44885747e-04],\n",
       "        [2.63636741e-04, 1.97759858e-04, 1.69182082e-04, 2.35994323e-04,\n",
       "         2.15055278e-04],\n",
       "        [2.05988203e-04, 1.28746598e-04, 9.52465050e-05, 1.73568228e-04,\n",
       "         1.49017218e-04],\n",
       "        [1.76683131e-04, 9.36403147e-05, 5.76299387e-05, 1.41821735e-04,\n",
       "         1.15427065e-04],\n",
       "        [1.61786183e-04, 7.57821360e-05, 3.84915736e-05, 1.25677207e-04,\n",
       "         9.83414874e-05],\n",
       "        [1.54213465e-04, 6.66978778e-05, 2.87544536e-05, 1.17466984e-04,\n",
       "         8.96509357e-05],\n",
       "        [1.50363947e-04, 6.20768159e-05, 2.38004513e-05, 1.13291714e-04,\n",
       "         8.52305005e-05],\n",
       "        [1.48407083e-04, 5.97261327e-05, 2.12799792e-05, 1.11168400e-04,\n",
       "         8.29820533e-05],\n",
       "        [1.47412330e-04, 5.85303662e-05, 1.99976262e-05, 1.10088599e-04,\n",
       "         8.18383842e-05],\n",
       "        [1.46906657e-04, 5.79220929e-05, 1.93451972e-05, 1.09539472e-04,\n",
       "         8.12566587e-05],\n",
       "        [1.46649603e-04, 5.76126710e-05, 1.90132577e-05, 1.09260215e-04,\n",
       "         8.09607650e-05],\n",
       "        [1.46518932e-04, 5.74552715e-05, 1.88443752e-05, 1.09118201e-04,\n",
       "         8.08102591e-05],\n",
       "        [1.46452506e-04, 5.73752042e-05, 1.87584521e-05, 1.09045980e-04,\n",
       "         8.07337046e-05],\n",
       "        [1.46418740e-04, 5.73344748e-05, 1.87147365e-05, 1.09009253e-04,\n",
       "         8.06947652e-05],\n",
       "        [1.46401575e-04, 5.73137562e-05, 1.86924951e-05, 1.08990575e-04,\n",
       "         8.06749588e-05],\n",
       "        [1.46392849e-04, 5.73032169e-05, 1.86811793e-05, 1.08981077e-04,\n",
       "         8.06648842e-05],\n",
       "        [1.46388414e-04, 5.72978556e-05, 1.86754221e-05, 1.08976246e-04,\n",
       "         8.06597599e-05],\n",
       "        [1.46386159e-04, 5.72951284e-05, 1.86724929e-05, 1.08973790e-04,\n",
       "         8.06571533e-05],\n",
       "        [1.46385013e-04, 5.72937411e-05, 1.86710026e-05, 1.08972540e-04,\n",
       "         8.06558275e-05],\n",
       "        [1.46384430e-04, 5.72930354e-05, 1.86702444e-05, 1.08971905e-04,\n",
       "         8.06551532e-05],\n",
       "        [1.46384134e-04, 5.72926764e-05, 1.86698587e-05, 1.08971582e-04,\n",
       "         8.06548102e-05],\n",
       "        [1.46383983e-04, 5.72924938e-05, 1.86696624e-05, 1.08971418e-04,\n",
       "         8.06546357e-05]]),\n",
       " array([[6.00131747e-04, 6.00131747e-04, 6.00131747e-04, 6.00131747e-04,\n",
       "         6.00131747e-04],\n",
       "        [3.76329985e-04, 3.33926115e-04, 3.15793378e-04, 3.58540098e-04,\n",
       "         3.45029282e-04],\n",
       "        [2.62029830e-04, 1.97909019e-04, 1.70684037e-04, 2.35173871e-04,\n",
       "         2.14756180e-04],\n",
       "        [2.03654393e-04, 1.28411428e-04, 9.66288861e-05, 1.72178209e-04,\n",
       "         1.48229654e-04],\n",
       "        [1.73840859e-04, 9.29018089e-05, 5.88355551e-05, 1.40010140e-04,\n",
       "         1.14256572e-04],\n",
       "        [1.58614474e-04, 7.47582587e-05, 3.95480936e-05, 1.23583854e-04,\n",
       "         9.69075480e-05],\n",
       "        [1.50838047e-04, 6.54878576e-05, 2.97049238e-05, 1.15195945e-04,\n",
       "         8.80479271e-05],\n",
       "        [1.46866466e-04, 6.07511695e-05, 2.46815572e-05, 1.10912748e-04,\n",
       "         8.35235871e-05],\n",
       "        [1.44838098e-04, 5.83309707e-05, 2.21179306e-05, 1.08725578e-04,\n",
       "         8.12131437e-05],\n",
       "        [1.43802169e-04, 5.70943763e-05, 2.08096085e-05, 1.07608723e-04,\n",
       "         8.00332702e-05],\n",
       "        [1.43273099e-04, 5.64625414e-05, 2.01419189e-05, 1.07038413e-04,\n",
       "         7.94307446e-05],\n",
       "        [1.43002892e-04, 5.61397070e-05, 1.98011700e-05, 1.06747190e-04,\n",
       "         7.91230530e-05],\n",
       "        [1.42864891e-04, 5.59747556e-05, 1.96272721e-05, 1.06598480e-04,\n",
       "         7.89659242e-05],\n",
       "        [1.42794412e-04, 5.58904741e-05, 1.95385250e-05, 1.06522543e-04,\n",
       "         7.88856833e-05],\n",
       "        [1.42758416e-04, 5.58474107e-05, 1.94932337e-05, 1.06483766e-04,\n",
       "         7.88447067e-05],\n",
       "        [1.42740033e-04, 5.58254075e-05, 1.94701198e-05, 1.06463965e-04,\n",
       "         7.88237812e-05],\n",
       "        [1.42730644e-04, 5.58141651e-05, 1.94583238e-05, 1.06453854e-04,\n",
       "         7.88130952e-05],\n",
       "        [1.42725849e-04, 5.58084208e-05, 1.94523038e-05, 1.06448691e-04,\n",
       "         7.88076382e-05],\n",
       "        [1.42723400e-04, 5.58054857e-05, 1.94492316e-05, 1.06446055e-04,\n",
       "         7.88048514e-05],\n",
       "        [1.42722149e-04, 5.58039861e-05, 1.94476637e-05, 1.06444708e-04,\n",
       "         7.88034283e-05],\n",
       "        [1.42721511e-04, 5.58032198e-05, 1.94468636e-05, 1.06444021e-04,\n",
       "         7.88027016e-05],\n",
       "        [1.42721184e-04, 5.58028283e-05, 1.94464552e-05, 1.06443670e-04,\n",
       "         7.88023305e-05],\n",
       "        [1.42721018e-04, 5.58026283e-05, 1.94462468e-05, 1.06443491e-04,\n",
       "         7.88021410e-05],\n",
       "        [1.42720933e-04, 5.58025261e-05, 1.94461405e-05, 1.06443399e-04,\n",
       "         7.88020442e-05]]),\n",
       " array([[6.00131747e-04, 6.00131747e-04, 6.00131747e-04, 6.00131747e-04,\n",
       "         6.00131747e-04],\n",
       "        [2.87615843e-04, 4.51595954e-04, 3.21089804e-04, 3.23513736e-04,\n",
       "         3.34866637e-04],\n",
       "        [1.37866485e-04, 3.80404891e-04, 1.87766262e-04, 1.91037600e-04,\n",
       "         2.07782938e-04],\n",
       "        [6.61105528e-05, 3.46284042e-04, 1.24065563e-04, 1.27592973e-04,\n",
       "         1.46899446e-04],\n",
       "        [3.17270072e-05, 3.29930411e-04, 9.36299854e-05, 9.72084761e-05,\n",
       "         1.17731270e-04],\n",
       "        [1.52513213e-05, 3.22092352e-04, 7.90881607e-05, 8.26569266e-05,\n",
       "         1.03757327e-04],\n",
       "        [7.35660821e-06, 3.18335683e-04, 7.21402175e-05, 7.56879912e-05,\n",
       "         9.70626640e-05],\n",
       "        [3.57367046e-06, 3.16535166e-04, 6.88205575e-05, 7.23504730e-05,\n",
       "         9.38553727e-05],\n",
       "        [1.76098672e-06, 3.15672204e-04, 6.72344560e-05, 7.07520901e-05,\n",
       "         9.23188176e-05],\n",
       "        [8.92396598e-07, 3.15258599e-04, 6.64766321e-05, 6.99866027e-05,\n",
       "         9.15826820e-05],\n",
       "        [4.76191179e-07, 3.15060364e-04, 6.61145511e-05, 6.96200004e-05,\n",
       "         9.12300128e-05],\n",
       "        [2.76756548e-07, 3.14965353e-04, 6.59415523e-05, 6.94444295e-05,\n",
       "         9.10610554e-05],\n",
       "        [1.81192746e-07, 3.14919815e-04, 6.58588952e-05, 6.93603463e-05,\n",
       "         9.09801109e-05],\n",
       "        [1.35401099e-07, 3.14897990e-04, 6.58194024e-05, 6.93200776e-05,\n",
       "         9.09413319e-05],\n",
       "        [1.13458952e-07, 3.14887529e-04, 6.58005331e-05, 6.93007924e-05,\n",
       "         9.09227536e-05],\n",
       "        [1.02944856e-07, 3.14882515e-04, 6.57915176e-05, 6.92915565e-05,\n",
       "         9.09138531e-05],\n",
       "        [9.79067787e-08, 3.14880112e-04, 6.57872100e-05, 6.92871333e-05,\n",
       "         9.09095890e-05],\n",
       "        [9.54926654e-08, 3.14878961e-04, 6.57851519e-05, 6.92850149e-05,\n",
       "         9.09075462e-05],\n",
       "        [9.43358861e-08, 3.14878409e-04, 6.57841686e-05, 6.92840004e-05,\n",
       "         9.09065675e-05],\n",
       "        [9.37815881e-08, 3.14878144e-04, 6.57836988e-05, 6.92835146e-05,\n",
       "         9.09060986e-05],\n",
       "        [9.35159832e-08, 3.14878017e-04, 6.57834743e-05, 6.92832819e-05,\n",
       "         9.09058740e-05],\n",
       "        [9.33887123e-08, 3.14877957e-04, 6.57833670e-05, 6.92831705e-05,\n",
       "         9.09057663e-05],\n",
       "        [9.33277274e-08, 3.14877927e-04, 6.57833158e-05, 6.92831171e-05,\n",
       "         9.09057148e-05],\n",
       "        [9.32985051e-08, 3.14877913e-04, 6.57832913e-05, 6.92830915e-05,\n",
       "         9.09056901e-05],\n",
       "        [9.32845026e-08, 3.14877907e-04, 6.57832796e-05, 6.92830793e-05,\n",
       "         9.09056783e-05]], dtype=float128),\n",
       " array([[6.00131747e-04, 6.00131747e-04, 6.00131747e-04, 6.00131747e-04,\n",
       "         6.00131747e-04, 6.00131747e-04],\n",
       "        [2.88880889e-04, 4.48560393e-04, 3.26743681e-04, 3.23053621e-04,\n",
       "         3.33904705e-04, 3.42322669e-04],\n",
       "        [1.39080285e-04, 3.75666370e-04, 1.94846067e-04, 1.89697545e-04,\n",
       "         2.05791150e-04, 2.18238029e-04],\n",
       "        [6.69833877e-05, 3.40610019e-04, 1.31211320e-04, 1.25514048e-04,\n",
       "         1.44140453e-04, 1.58515548e-04],\n",
       "        [3.22841782e-05, 3.23750643e-04, 1.00510377e-04, 9.46229074e-05,\n",
       "         1.14472955e-04, 1.29770856e-04],\n",
       "        [1.55839429e-05, 3.15642596e-04, 8.56985345e-05, 7.97551828e-05,\n",
       "         1.00196387e-04, 1.15935909e-04],\n",
       "        [7.54635754e-06, 3.11743256e-04, 7.85524774e-05, 7.25994341e-05,\n",
       "         9.33262286e-05, 1.09277089e-04],\n",
       "        [3.67798220e-06, 3.09867977e-04, 7.51048219e-05, 6.91554143e-05,\n",
       "         9.00201768e-05, 1.06072169e-04],\n",
       "        [1.81618826e-06, 3.08966114e-04, 7.34414811e-05, 6.74978277e-05,\n",
       "         8.84292413e-05, 1.04529627e-04],\n",
       "        [9.20133350e-07, 3.08532388e-04, 7.26389929e-05, 6.67000411e-05,\n",
       "         8.76636527e-05, 1.03787195e-04],\n",
       "        [4.88874888e-07, 3.08323800e-04, 7.22518280e-05, 6.63160710e-05,\n",
       "         8.72952367e-05, 1.03429860e-04],\n",
       "        [2.81316335e-07, 3.08223485e-04, 7.20650380e-05, 6.61312685e-05,\n",
       "         8.71179479e-05, 1.03257872e-04],\n",
       "        [1.81421359e-07, 3.08175241e-04, 7.19749202e-05, 6.60423241e-05,\n",
       "         8.70326332e-05, 1.03175094e-04],\n",
       "        [1.33343331e-07, 3.08152040e-04, 7.19314423e-05, 6.59995157e-05,\n",
       "         8.69915781e-05, 1.03135252e-04],\n",
       "        [1.10204059e-07, 3.08140882e-04, 7.19104662e-05, 6.59789123e-05,\n",
       "         8.69718215e-05, 1.03116077e-04],\n",
       "        [9.90674580e-08, 3.08135516e-04, 7.19003461e-05, 6.59689960e-05,\n",
       "         8.69623143e-05, 1.03106847e-04],\n",
       "        [9.37075735e-08, 3.08132935e-04, 7.18954637e-05, 6.59642233e-05,\n",
       "         8.69577393e-05, 1.03102405e-04],\n",
       "        [9.11279401e-08, 3.08131694e-04, 7.18931081e-05, 6.59619263e-05,\n",
       "         8.69555377e-05, 1.03100267e-04],\n",
       "        [8.98863942e-08, 3.08131097e-04, 7.18919716e-05, 6.59608207e-05,\n",
       "         8.69544782e-05, 1.03099238e-04],\n",
       "        [8.92888544e-08, 3.08130810e-04, 7.18914233e-05, 6.59602886e-05,\n",
       "         8.69539684e-05, 1.03098743e-04],\n",
       "        [8.90012676e-08, 3.08130672e-04, 7.18911588e-05, 6.59600325e-05,\n",
       "         8.69537231e-05, 1.03098504e-04],\n",
       "        [8.88628568e-08, 3.08130606e-04, 7.18910312e-05, 6.59599092e-05,\n",
       "         8.69536050e-05, 1.03098389e-04],\n",
       "        [8.87962451e-08, 3.08130574e-04, 7.18909696e-05, 6.59598499e-05,\n",
       "         8.69535482e-05, 1.03098334e-04],\n",
       "        [8.87641821e-08, 3.08130558e-04, 7.18909399e-05, 6.59598214e-05,\n",
       "         8.69535209e-05, 1.03098308e-04],\n",
       "        [8.87487612e-08, 3.08130551e-04, 7.18909256e-05, 6.59598076e-05,\n",
       "         8.69535077e-05, 1.03098295e-04],\n",
       "        [8.87413290e-08, 3.08130547e-04, 7.18909187e-05, 6.59598010e-05,\n",
       "         8.69535014e-05, 1.03098289e-04]])]"
      ]
     },
     "execution_count": 65,
     "metadata": {},
     "output_type": "execute_result"
    }
   ],
   "source": [
    "fvm._h_fuzzy_hist"
   ]
  },
  {
   "cell_type": "code",
   "execution_count": 84,
   "id": "b95a200e",
   "metadata": {
    "scrolled": true
   },
   "outputs": [
    {
     "data": {
      "text/plain": [
       "[array([0.00060013]),\n",
       " array([0.00071055]),\n",
       " array([0.00015856], dtype=float128),\n",
       " array([7.82934915e-05]),\n",
       " array([4.14908049e-05]),\n",
       " array([2.84508800e-05, 2.85384135e-05], dtype=float128),\n",
       " array([1.71209057e-05, 3.36629838e-05]),\n",
       " array([1.12573136e-05, 1.24241543e-05]),\n",
       " array([6.90579755e-06, 7.05580764e-06]),\n",
       " array([4.20524538e-06, 4.31713221e-06]),\n",
       " array([2.16830005e-05, 3.57313772e-05]),\n",
       " array([2.37620052e-06, 5.85123271e-05]),\n",
       " array([1.56881430e-05, 8.52670981e-05, 3.05599309e-05]),\n",
       " array([1.38482251e-05, 7.51777184e-05, 2.65279067e-05]),\n",
       " array([3.13032664e-05, 7.53010607e-05, 4.95579479e-05, 1.10492058e-07],\n",
       "       dtype=float128),\n",
       " array([1.16031473e-04, 4.55474751e-05, 3.85791123e-05, 2.28224493e-05]),\n",
       " array([1.37311705e-04, 5.30677525e-05, 2.14974942e-08, 1.17993383e-04],\n",
       "       dtype=float128),\n",
       " array([1.53071949e-04, 5.23491152e-05, 7.12150481e-09, 1.16586358e-04]),\n",
       " array([1.44589977e-04, 4.76041907e-05, 5.74366700e-09, 1.07148658e-04]),\n",
       " array([1.39726531e-04, 4.56058632e-05, 4.95537355e-09, 1.03357987e-04,\n",
       "        7.17479959e-05]),\n",
       " array([1.39726053e-04, 4.56052895e-05, 4.31419473e-09, 1.03357472e-04,\n",
       "        7.17474490e-05]),\n",
       " array([1.46383983e-04, 5.72924938e-05, 1.86696624e-05, 1.08971418e-04,\n",
       "        8.06546357e-05]),\n",
       " array([1.42720933e-04, 5.58025261e-05, 1.94461405e-05, 1.06443399e-04,\n",
       "        7.88020442e-05]),\n",
       " array([9.32845026e-08, 3.14877907e-04, 6.57832796e-05, 6.92830793e-05,\n",
       "        9.09056783e-05], dtype=float128),\n",
       " array([8.87413290e-08, 3.08130547e-04, 7.18909187e-05, 6.59598010e-05,\n",
       "        8.69535014e-05, 1.03098289e-04])]"
      ]
     },
     "execution_count": 84,
     "metadata": {},
     "output_type": "execute_result"
    }
   ],
   "source": [
    "(fvm._hist_output_fuzzy)"
   ]
  },
  {
   "cell_type": "code",
   "execution_count": 83,
   "id": "517658cc",
   "metadata": {
    "scrolled": true
   },
   "outputs": [
    {
     "data": {
      "text/plain": [
       "[array([0.00060013, 0.00060013]),\n",
       " array([0.00060013, 0.00067375, 0.00071055], dtype=float128),\n",
       " array([0.00060013, 0.00038509, 0.0002471 , 0.00015856], dtype=float128),\n",
       " array([6.00131747e-04, 3.60675271e-04, 2.16763488e-04, 1.30273444e-04,\n",
       "        7.82934915e-05], dtype=float128),\n",
       " array([6.00131747e-04, 3.51712378e-04, 2.06124068e-04, 1.20800785e-04,\n",
       "        7.07963403e-05, 4.14908049e-05], dtype=float128),\n",
       " array([6.00131747e-04, 3.61132005e-04, 2.17312839e-04, 1.30769005e-04,\n",
       "        7.86908582e-05, 4.73525938e-05, 2.84946477e-05], dtype=float128),\n",
       " array([6.00131747e-04, 3.64507942e-04, 2.22722252e-04, 1.37403272e-04,\n",
       "        8.60629098e-05, 5.51690468e-05, 3.65787842e-05, 2.53921651e-05],\n",
       "       dtype=float128),\n",
       " array([6.00131747e-04, 3.65832440e-04, 2.23075785e-04, 1.36095108e-04,\n",
       "        8.30982330e-05, 5.08074330e-05, 3.11327202e-05, 1.91449319e-05,\n",
       "        1.18407634e-05], dtype=float128),\n",
       " array([6.00131747e-04, 3.65775269e-04, 2.22939644e-04, 1.35884086e-04,\n",
       "        8.28253556e-05, 5.04870263e-05, 3.07773863e-05, 1.87646986e-05,\n",
       "        1.14431648e-05, 6.98080763e-06], dtype=float128),\n",
       " array([6.00131747e-04, 3.65775311e-04, 2.22939714e-04, 1.35884174e-04,\n",
       "        8.28254562e-05, 5.04871348e-05, 3.07774999e-05, 1.87648155e-05,\n",
       "        1.14432839e-05, 6.98092811e-06, 4.26119156e-06], dtype=float128),\n",
       " array([6.00131747e-04, 3.57952436e-04, 2.18169745e-04, 1.37489006e-04,\n",
       "        9.09211280e-05, 6.40427443e-05, 4.85288809e-05, 3.95744726e-05,\n",
       "        3.44060985e-05, 3.14229760e-05, 2.97011535e-05, 2.87073380e-05],\n",
       "       dtype=float128),\n",
       " array([6.00131747e-04, 3.57405944e-04, 2.17964719e-04, 1.37858457e-04,\n",
       "        9.18389679e-05, 6.54016646e-05, 5.02139456e-05, 4.14888941e-05,\n",
       "        3.64765200e-05, 3.35970073e-05, 3.19427823e-05, 3.09924617e-05,\n",
       "        3.04465206e-05], dtype=float128),\n",
       " array([6.00131747e-04, 3.53499383e-04, 2.16157384e-04, 1.39675788e-04,\n",
       "        9.70854799e-05, 7.33681987e-05, 6.01607390e-05, 5.28058866e-05,\n",
       "        4.87101794e-05, 4.64293957e-05, 4.51592908e-05, 4.44520043e-05,\n",
       "        4.40581357e-05, 4.38388008e-05], dtype=float128),\n",
       " array([6.00131747e-04, 3.54916307e-04, 2.16733832e-04, 1.38865957e-04,\n",
       "        9.49862334e-05, 7.02593355e-05, 5.63253424e-05, 4.84733160e-05,\n",
       "        4.40485724e-05, 4.15551569e-05, 4.01500757e-05, 3.93582886e-05,\n",
       "        3.89121030e-05, 3.86606697e-05, 3.85189825e-05], dtype=float128),\n",
       " array([6.00131747e-04, 3.54764624e-04, 2.16683564e-04, 1.38977976e-04,\n",
       "        9.52488514e-05, 7.06400928e-05, 5.67913922e-05, 4.89979604e-05,\n",
       "        4.46121602e-05, 4.21440227e-05, 4.07550611e-05, 3.99734125e-05,\n",
       "        3.95335335e-05, 3.92859878e-05, 3.91466793e-05, 3.90682821e-05],\n",
       "       dtype=float128),\n",
       " array([6.00131747e-04, 3.50332803e-04, 2.15151231e-04, 1.41996123e-04,\n",
       "        1.02407345e-04, 8.09833824e-05, 6.93895296e-05, 6.31153633e-05,\n",
       "        5.97200133e-05, 5.78825726e-05, 5.68882155e-05, 5.63501047e-05,\n",
       "        5.60588980e-05, 5.59013071e-05, 5.58160243e-05, 5.57698722e-05,\n",
       "        5.57448962e-05], dtype=float128),\n",
       " array([6.00131747e-04, 3.60133604e-04, 2.30256856e-04, 1.59973063e-04,\n",
       "        1.21938429e-04, 1.01355671e-04, 9.02171336e-05, 8.41894146e-05,\n",
       "        8.09274584e-05, 7.91622195e-05, 7.82069429e-05, 7.76899852e-05,\n",
       "        7.74102281e-05, 7.72588344e-05, 7.71769060e-05, 7.71325695e-05,\n",
       "        7.71085763e-05, 7.70955921e-05], dtype=float128),\n",
       " array([6.00131747e-04, 3.45953766e-04, 2.16106518e-04, 1.49773824e-04,\n",
       "        1.15887646e-04, 9.85768269e-05, 8.97335610e-05, 8.52159604e-05,\n",
       "        8.29081345e-05, 8.17291766e-05, 8.11269032e-05, 8.08192305e-05,\n",
       "        8.06620551e-05, 8.05817616e-05, 8.05407435e-05, 8.05197893e-05,\n",
       "        8.05090848e-05, 8.05036164e-05, 8.05008228e-05], dtype=float128),\n",
       " array([6.00131747e-04, 3.46749659e-04, 2.15588537e-04, 1.47694073e-04,\n",
       "        1.12549065e-04, 9.43565420e-05, 8.49393316e-05, 8.00645896e-05,\n",
       "        7.75412190e-05, 7.62350167e-05, 7.55588716e-05, 7.52088705e-05,\n",
       "        7.50276952e-05, 7.49339113e-05, 7.48853648e-05, 7.48602351e-05,\n",
       "        7.48472269e-05, 7.48404933e-05, 7.48370077e-05, 7.48352034e-05],\n",
       "       dtype=float128),\n",
       " array([6.00131747e-04, 3.47247827e-04, 2.15471539e-04, 1.46803678e-04,\n",
       "        1.11021236e-04, 9.23751948e-05, 8.26588374e-05, 7.75956905e-05,\n",
       "        7.49573078e-05, 7.35824580e-05, 7.28660295e-05, 7.24927013e-05,\n",
       "        7.22981614e-05, 7.21967872e-05, 7.21439615e-05, 7.21164342e-05,\n",
       "        7.21020898e-05, 7.20946149e-05, 7.20907198e-05, 7.20886901e-05,\n",
       "        7.20876324e-05], dtype=float128),\n",
       " array([6.00131747e-04, 3.47247918e-04, 2.15471678e-04, 1.46803841e-04,\n",
       "        1.11021412e-04, 9.23753777e-05, 8.26590238e-05, 7.75958786e-05,\n",
       "        7.49574969e-05, 7.35826476e-05, 7.28662193e-05, 7.24928913e-05,\n",
       "        7.22983514e-05, 7.21969774e-05, 7.21441516e-05, 7.21166243e-05,\n",
       "        7.21022799e-05, 7.20948051e-05, 7.20909100e-05, 7.20888802e-05,\n",
       "        7.20878225e-05, 7.20872713e-05], dtype=float128),\n",
       " array([6.00131747e-04, 3.45720365e-04, 2.16323759e-04, 1.50511125e-04,\n",
       "        1.17038044e-04, 1.00013239e-04, 9.13542216e-05, 8.69501420e-05,\n",
       "        8.47101745e-05, 8.35709001e-05, 8.29914515e-05, 8.26967369e-05,\n",
       "        8.25468415e-05, 8.24706029e-05, 8.24318270e-05, 8.24121051e-05,\n",
       "        8.24020743e-05, 8.23969725e-05, 8.23943777e-05, 8.23930579e-05,\n",
       "        8.23923866e-05, 8.23920452e-05, 8.23918716e-05], dtype=float128),\n",
       " array([6.00131747e-04, 3.45922855e-04, 2.16109204e-04, 1.49818892e-04,\n",
       "        1.15967243e-04, 9.86806402e-05, 8.98531029e-05, 8.53452521e-05,\n",
       "        8.30432826e-05, 8.18677636e-05, 8.12674753e-05, 8.09609332e-05,\n",
       "        8.08043950e-05, 8.07244575e-05, 8.06836367e-05, 8.06627912e-05,\n",
       "        8.06521463e-05, 8.06467104e-05, 8.06439345e-05, 8.06425170e-05,\n",
       "        8.06417931e-05, 8.06414234e-05, 8.06412347e-05, 8.06411383e-05],\n",
       "       dtype=float128),\n",
       " array([0.00060013, 0.00034374, 0.00022098, 0.0001622 , 0.00013405,\n",
       "        0.00012057, 0.00011412, 0.00011103, 0.00010955, 0.00010884,\n",
       "        0.00010851, 0.00010834, 0.00010827, 0.00010823, 0.00010821,\n",
       "        0.0001082 , 0.0001082 , 0.0001082 , 0.00010819, 0.00010819,\n",
       "        0.00010819, 0.00010819, 0.00010819, 0.00010819, 0.00010819],\n",
       "       dtype=float128),\n",
       " array([0.00060013, 0.00034391, 0.00022055, 0.00016116, 0.00013257,\n",
       "        0.0001188 , 0.00011218, 0.00010898, 0.00010745, 0.00010671,\n",
       "        0.00010635, 0.00010618, 0.0001061 , 0.00010606, 0.00010604,\n",
       "        0.00010603, 0.00010603, 0.00010602, 0.00010602, 0.00010602,\n",
       "        0.00010602, 0.00010602, 0.00010602, 0.00010602, 0.00010602,\n",
       "        0.00010602], dtype=float128)]"
      ]
     },
     "execution_count": 83,
     "metadata": {},
     "output_type": "execute_result"
    }
   ],
   "source": [
    "fvm._h_hist"
   ]
  },
  {
   "cell_type": "code",
   "execution_count": 68,
   "id": "fd15a752",
   "metadata": {},
   "outputs": [
    {
     "data": {
      "image/png": "[encoded data removed]",
      "text/plain": [
       "<Figure size 640x480 with 1 Axes>"
      ]
     },
     "metadata": {},
     "output_type": "display_data"
    }
   ],
   "source": [
    "plt.plot(fvm._n_clusters_hist)\n",
    "plt.grid()"
   ]
  },
  {
   "cell_type": "code",
   "execution_count": 69,
   "id": "0bd0cac3",
   "metadata": {},
   "outputs": [],
   "source": [
    "ant_hist = fvm.show_antecedent_hist()"
   ]
  },
  {
   "cell_type": "code",
   "execution_count": 70,
   "id": "649e3c2f",
   "metadata": {
    "scrolled": true
   },
   "outputs": [
    {
     "data": {
      "text/html": [
       "<div>\n",
       "<style scoped>\n",
       "    .dataframe tbody tr th:only-of-type {\n",
       "        vertical-align: middle;\n",
       "    }\n",
       "\n",
       "    .dataframe tbody tr th {\n",
       "        vertical-align: top;\n",
       "    }\n",
       "\n",
       "    .dataframe thead th {\n",
       "        text-align: right;\n",
       "    }\n",
       "</style>\n",
       "<table border=\"1\" class=\"dataframe\">\n",
       "  <thead>\n",
       "    <tr style=\"text-align: right;\">\n",
       "      <th></th>\n",
       "      <th>n_clusters</th>\n",
       "      <th>variance</th>\n",
       "      <th>sigma</th>\n",
       "      <th>potentials_focal</th>\n",
       "      <th>delta_min</th>\n",
       "      <th>x_dim</th>\n",
       "      <th>centers</th>\n",
       "      <th>beta</th>\n",
       "      <th>focals</th>\n",
       "    </tr>\n",
       "  </thead>\n",
       "  <tbody>\n",
       "    <tr>\n",
       "      <th>0</th>\n",
       "      <td>1</td>\n",
       "      <td>2</td>\n",
       "      <td>0.000600</td>\n",
       "      <td>[0.9999978718283026]</td>\n",
       "      <td>0.25</td>\n",
       "      <td>1</td>\n",
       "      <td>[[0.024497586556524727]]</td>\n",
       "      <td>[0.024497586556524727]</td>\n",
       "      <td>[[0.024497586556524727]]</td>\n",
       "    </tr>\n",
       "    <tr>\n",
       "      <th>1</th>\n",
       "      <td>1</td>\n",
       "      <td>2</td>\n",
       "      <td>0.001274</td>\n",
       "      <td>[0.999773069330191]</td>\n",
       "      <td>0.25</td>\n",
       "      <td>1</td>\n",
       "      <td>[[0.024497586556524727]]</td>\n",
       "      <td>[0.050454000116696]</td>\n",
       "      <td>[[0.024497586556524727]]</td>\n",
       "    </tr>\n",
       "    <tr>\n",
       "      <th>2</th>\n",
       "      <td>1</td>\n",
       "      <td>2</td>\n",
       "      <td>0.001296</td>\n",
       "      <td>[0.9998459715310997]</td>\n",
       "      <td>0.25</td>\n",
       "      <td>1</td>\n",
       "      <td>[[0.024497586556524727]]</td>\n",
       "      <td>[0.05515397507988553]</td>\n",
       "      <td>[[0.024497586556524727]]</td>\n",
       "    </tr>\n",
       "    <tr>\n",
       "      <th>3</th>\n",
       "      <td>1</td>\n",
       "      <td>2</td>\n",
       "      <td>0.001353</td>\n",
       "      <td>[0.9998820635331843]</td>\n",
       "      <td>0.25</td>\n",
       "      <td>1</td>\n",
       "      <td>[[0.024497586556524727]]</td>\n",
       "      <td>[0.06271615791802472]</td>\n",
       "      <td>[[0.024497586556524727]]</td>\n",
       "    </tr>\n",
       "    <tr>\n",
       "      <th>4</th>\n",
       "      <td>2</td>\n",
       "      <td>2</td>\n",
       "      <td>0.001373</td>\n",
       "      <td>[0.9998961089821595, 0.9999016070230451]</td>\n",
       "      <td>0.25</td>\n",
       "      <td>1</td>\n",
       "      <td>[[0.024497586556524727], [0.011363621370187172]]</td>\n",
       "      <td>[0.06717271394459755]</td>\n",
       "      <td>[[0.024497586556524727], [0.011363621370187172]]</td>\n",
       "    </tr>\n",
       "    <tr>\n",
       "      <th>5</th>\n",
       "      <td>2</td>\n",
       "      <td>2</td>\n",
       "      <td>0.001502</td>\n",
       "      <td>[0.9999130243148501, 0.999917606166409]</td>\n",
       "      <td>0.25</td>\n",
       "      <td>1</td>\n",
       "      <td>[[0.024497586556524727], [0.011363621370187172]]</td>\n",
       "      <td>[0.07853633531478472]</td>\n",
       "      <td>[[0.024497586556524727], [0.011363621370187172]]</td>\n",
       "    </tr>\n",
       "    <tr>\n",
       "      <th>6</th>\n",
       "      <td>2</td>\n",
       "      <td>2</td>\n",
       "      <td>0.001599</td>\n",
       "      <td>[0.9999179211003683, 0.9999218484375992]</td>\n",
       "      <td>0.25</td>\n",
       "      <td>1</td>\n",
       "      <td>[[0.024497586556524727], [0.011363621370187172]]</td>\n",
       "      <td>[0.08835385127504529]</td>\n",
       "      <td>[[0.024497586556524727], [0.011363621370187172]]</td>\n",
       "    </tr>\n",
       "    <tr>\n",
       "      <th>7</th>\n",
       "      <td>2</td>\n",
       "      <td>2</td>\n",
       "      <td>0.001605</td>\n",
       "      <td>[0.999924929166214, 0.9999283656327734]</td>\n",
       "      <td>0.25</td>\n",
       "      <td>1</td>\n",
       "      <td>[[0.024497586556524727], [0.011363621370187172]]</td>\n",
       "      <td>[0.09091189366987354]</td>\n",
       "      <td>[[0.024497586556524727], [0.011363621370187172]]</td>\n",
       "    </tr>\n",
       "    <tr>\n",
       "      <th>8</th>\n",
       "      <td>2</td>\n",
       "      <td>2</td>\n",
       "      <td>0.001612</td>\n",
       "      <td>[0.9999300294204974, 0.999933084087434]</td>\n",
       "      <td>0.25</td>\n",
       "      <td>1</td>\n",
       "      <td>[[0.024497586556524727], [0.011363621370187172]]</td>\n",
       "      <td>[0.0883697106971283]</td>\n",
       "      <td>[[0.024497586556524727], [0.011363621370187172]]</td>\n",
       "    </tr>\n",
       "    <tr>\n",
       "      <th>9</th>\n",
       "      <td>2</td>\n",
       "      <td>2</td>\n",
       "      <td>0.001620</td>\n",
       "      <td>[0.999929624201468, 0.9999323733986428]</td>\n",
       "      <td>0.25</td>\n",
       "      <td>1</td>\n",
       "      <td>[[0.024497586556524727], [0.011363621370187172]]</td>\n",
       "      <td>[0.09122822423795242]</td>\n",
       "      <td>[[0.024497586556524727], [0.011363621370187172]]</td>\n",
       "    </tr>\n",
       "    <tr>\n",
       "      <th>10</th>\n",
       "      <td>2</td>\n",
       "      <td>2</td>\n",
       "      <td>0.001751</td>\n",
       "      <td>[0.999906509965245, 0.9999090091192347]</td>\n",
       "      <td>0.25</td>\n",
       "      <td>1</td>\n",
       "      <td>[[0.024497586556524727], [0.011363621370187172]]</td>\n",
       "      <td>[0.10269070400320829]</td>\n",
       "      <td>[[0.024497586556524727], [0.011363621370187172]]</td>\n",
       "    </tr>\n",
       "    <tr>\n",
       "      <th>11</th>\n",
       "      <td>3</td>\n",
       "      <td>2</td>\n",
       "      <td>0.001794</td>\n",
       "      <td>[0.9998878105342245, 0.9998901013392205, 0.9999040336468314]</td>\n",
       "      <td>0.25</td>\n",
       "      <td>1</td>\n",
       "      <td>[[0.024497586556524727], [0.011363621370187172], [0.011274447054389618]]</td>\n",
       "      <td>[0.09613433199559994]</td>\n",
       "      <td>[[0.024497586556524727], [0.011363621370187172], [0.011274447054389618]]</td>\n",
       "    </tr>\n",
       "    <tr>\n",
       "      <th>12</th>\n",
       "      <td>3</td>\n",
       "      <td>2</td>\n",
       "      <td>0.001921</td>\n",
       "      <td>[0.9998844144268312, 0.9998865290013212, 0.9998993894872824]</td>\n",
       "      <td>0.25</td>\n",
       "      <td>1</td>\n",
       "      <td>[[0.024497586556524727], [0.011363621370187172], [0.011274447054389618]]</td>\n",
       "      <td>[0.10740877904998955]</td>\n",
       "      <td>[[0.024497586556524727], [0.011363621370187172], [0.011274447054389618]]</td>\n",
       "    </tr>\n",
       "    <tr>\n",
       "      <th>13</th>\n",
       "      <td>4</td>\n",
       "      <td>2</td>\n",
       "      <td>0.001923</td>\n",
       "      <td>[0.9998882312771413, 0.9998901948252905, 0.9999021367817047, 0.9999193249350976]</td>\n",
       "      <td>0.25</td>\n",
       "      <td>1</td>\n",
       "      <td>[[0.024497586556524727], [0.011363621370187172], [0.011274447054389618], [0.0066535704512181906]]</td>\n",
       "      <td>[0.10617876659478961]</td>\n",
       "      <td>[[0.024497586556524727], [0.011363621370187172], [0.011274447054389618], [0.0066535704512181906]]</td>\n",
       "    </tr>\n",
       "    <tr>\n",
       "      <th>14</th>\n",
       "      <td>4</td>\n",
       "      <td>2</td>\n",
       "      <td>0.001967</td>\n",
       "      <td>[0.9998915663394485, 0.9998933989963732, 0.9999045448849199, 0.9999205872203066]</td>\n",
       "      <td>0.25</td>\n",
       "      <td>1</td>\n",
       "      <td>[[0.024497586556524727], [0.011363621370187172], [0.011274447054389618], [0.0066535704512181906]]</td>\n",
       "      <td>[0.1128323370460078]</td>\n",
       "      <td>[[0.024497586556524727], [0.011363621370187172], [0.011274447054389618], [0.0066535704512181906]]</td>\n",
       "    </tr>\n",
       "    <tr>\n",
       "      <th>15</th>\n",
       "      <td>4</td>\n",
       "      <td>2</td>\n",
       "      <td>0.002178</td>\n",
       "      <td>[0.9998287189971448, 0.9998304368968399, 0.9998408848441517, 0.999855922603507]</td>\n",
       "      <td>0.25</td>\n",
       "      <td>1</td>\n",
       "      <td>[[0.024497586556524727], [0.011363621370187172], [0.011274447054389618], [0.0066535704512181906]]</td>\n",
       "      <td>[0.1273436593541456]</td>\n",
       "      <td>[[0.024497586556524727], [0.011363621370187172], [0.011274447054389618], [0.0066535704512181906]]</td>\n",
       "    </tr>\n",
       "    <tr>\n",
       "      <th>16</th>\n",
       "      <td>4</td>\n",
       "      <td>2</td>\n",
       "      <td>0.002534</td>\n",
       "      <td>[0.999832696417819, 0.9998343132772914, 0.9998441467096719, 0.9998582999747727]</td>\n",
       "      <td>0.25</td>\n",
       "      <td>1</td>\n",
       "      <td>[[0.024497586556524727], [0.011363621370187172], [0.011274447054389618], [0.0066535704512181906]]</td>\n",
       "      <td>[0.10847408554296621]</td>\n",
       "      <td>[[0.024497586556524727], [0.011363621370187172], [0.011274447054389618], [0.0066535704512181906]]</td>\n",
       "    </tr>\n",
       "    <tr>\n",
       "      <th>17</th>\n",
       "      <td>4</td>\n",
       "      <td>2</td>\n",
       "      <td>0.002609</td>\n",
       "      <td>[0.9998382610175921, 0.9998397880683986, 0.9998490752956133, 0.999862442389479]</td>\n",
       "      <td>0.25</td>\n",
       "      <td>1</td>\n",
       "      <td>[[0.024497586556524727], [0.011363621370187172], [0.011274447054389618], [0.0066535704512181906]]</td>\n",
       "      <td>[0.09978642186705508]</td>\n",
       "      <td>[[0.024497586556524727], [0.011363621370187172], [0.011274447054389618], [0.0066535704512181906]]</td>\n",
       "    </tr>\n",
       "    <tr>\n",
       "      <th>18</th>\n",
       "      <td>5</td>\n",
       "      <td>2</td>\n",
       "      <td>0.002609</td>\n",
       "      <td>[0.999844685956546, 0.9998461326547341, 0.9998549311878784, 0.9998675948899141, 0.999889656351375]</td>\n",
       "      <td>0.25</td>\n",
       "      <td>1</td>\n",
       "      <td>[[0.024497586556524727], [0.011363621370187172], [0.011274447054389618], [0.0066535704512181906], [0.005803011631274049]]</td>\n",
       "      <td>[0.0992924030137177]</td>\n",
       "      <td>[[0.024497586556524727], [0.011363621370187172], [0.011274447054389618], [0.0066535704512181906], [0.005803011631274049]]</td>\n",
       "    </tr>\n",
       "    <tr>\n",
       "      <th>19</th>\n",
       "      <td>5</td>\n",
       "      <td>2</td>\n",
       "      <td>0.002643</td>\n",
       "      <td>[0.9998521287148423, 0.999853503098483, 0.9998618618245253, 0.9998738925006248, 0.9998948511299046]</td>\n",
       "      <td>0.25</td>\n",
       "      <td>1</td>\n",
       "      <td>[[0.024497586556524727], [0.011363621370187172], [0.011274447054389618], [0.0066535704512181906], [0.005803011631274049]]</td>\n",
       "      <td>[0.10509541464499174]</td>\n",
       "      <td>[[0.024497586556524727], [0.011363621370187172], [0.011274447054389618], [0.0066535704512181906], [0.005803011631274049]]</td>\n",
       "    </tr>\n",
       "    <tr>\n",
       "      <th>20</th>\n",
       "      <td>5</td>\n",
       "      <td>2</td>\n",
       "      <td>0.002713</td>\n",
       "      <td>[0.9998313018098435, 0.9998326106920289, 0.9998405710476462, 0.9998520283398875, 0.9998719880463258]</td>\n",
       "      <td>0.25</td>\n",
       "      <td>1</td>\n",
       "      <td>[[0.024497586556524727], [0.011363621370187172], [0.011274447054389618], [0.0066535704512181906], [0.005803011631274049]]</td>\n",
       "      <td>[0.11343572065382766]</td>\n",
       "      <td>[[0.024497586556524727], [0.011363621370187172], [0.011274447054389618], [0.0066535704512181906], [0.005803011631274049]]</td>\n",
       "    </tr>\n",
       "    <tr>\n",
       "      <th>21</th>\n",
       "      <td>5</td>\n",
       "      <td>2</td>\n",
       "      <td>0.002964</td>\n",
       "      <td>[0.9998354767902413, 0.9998367261881419, 0.9998443247692174, 0.9998552613518699, 0.9998743139048497]</td>\n",
       "      <td>0.25</td>\n",
       "      <td>1</td>\n",
       "      <td>[[0.024497586556524727], [0.011363621370187172], [0.011274447054389618], [0.0066535704512181906], [0.005803011631274049]]</td>\n",
       "      <td>[0.09758105510615461]</td>\n",
       "      <td>[[0.024497586556524727], [0.011363621370187172], [0.011274447054389618], [0.0066535704512181906], [0.005803011631274049]]</td>\n",
       "    </tr>\n",
       "    <tr>\n",
       "      <th>22</th>\n",
       "      <td>5</td>\n",
       "      <td>2</td>\n",
       "      <td>0.003014</td>\n",
       "      <td>[0.9998288390069686, 0.9998300340672884, 0.9998373021755768, 0.9998477631027098, 0.9998659869953826]</td>\n",
       "      <td>0.25</td>\n",
       "      <td>1</td>\n",
       "      <td>[[0.024497586556524727], [0.011363621370187172], [0.011274447054389618], [0.0066535704512181906], [0.005803011631274049]]</td>\n",
       "      <td>[0.0904926014764102]</td>\n",
       "      <td>[[0.024497586556524727], [0.011363621370187172], [0.011274447054389618], [0.0066535704512181906], [0.005803011631274049]]</td>\n",
       "    </tr>\n",
       "    <tr>\n",
       "      <th>23</th>\n",
       "      <td>6</td>\n",
       "      <td>2</td>\n",
       "      <td>0.003634</td>\n",
       "      <td>[0.9997910190628254, 0.9997921642422672, 0.9997991289829719, 0.9998091532682806, 0.999826616470031, 0.9998288469963247]</td>\n",
       "      <td>0.25</td>\n",
       "      <td>1</td>\n",
       "      <td>[[0.024497586556524727], [0.011363621370187172], [0.011274447054389618], [0.0066535704512181906], [0.005803011631274049], [0.007950850297817643]]</td>\n",
       "      <td>[0.06559205760272054]</td>\n",
       "      <td>[[0.024497586556524727], [0.011363621370187172], [0.011274447054389618], [0.0066535704512181906], [0.005803011631274049], [0.007950850297817643]]</td>\n",
       "    </tr>\n",
       "    <tr>\n",
       "      <th>24</th>\n",
       "      <td>6</td>\n",
       "      <td>2</td>\n",
       "      <td>0.003697</td>\n",
       "      <td>[0.9997534015889461, 0.9997545008784329, 0.9997611865239037, 0.9997708091035401, 0.9997875724796222, 0.999789713617437]</td>\n",
       "      <td>0.25</td>\n",
       "      <td>1</td>\n",
       "      <td>[[0.024497586556524727], [0.011363621370187172], [0.011274447054389618], [0.0066535704512181906], [0.005803011631274049], [0.007950850297817643]]</td>\n",
       "      <td>[0.07354290790053818]</td>\n",
       "      <td>[[0.024497586556524727], [0.011363621370187172], [0.011274447054389618], [0.0066535704512181906], [0.005803011631274049], [0.007950850297817643]]</td>\n",
       "    </tr>\n",
       "  </tbody>\n",
       "</table>\n",
       "</div>"
      ],
      "text/plain": [
       "    n_clusters  variance     sigma  \\\n",
       "0            1         2  0.000600   \n",
       "1            1         2  0.001274   \n",
       "2            1         2  0.001296   \n",
       "3            1         2  0.001353   \n",
       "4            2         2  0.001373   \n",
       "5            2         2  0.001502   \n",
       "6            2         2  0.001599   \n",
       "7            2         2  0.001605   \n",
       "8            2         2  0.001612   \n",
       "9            2         2  0.001620   \n",
       "10           2         2  0.001751   \n",
       "11           3         2  0.001794   \n",
       "12           3         2  0.001921   \n",
       "13           4         2  0.001923   \n",
       "14           4         2  0.001967   \n",
       "15           4         2  0.002178   \n",
       "16           4         2  0.002534   \n",
       "17           4         2  0.002609   \n",
       "18           5         2  0.002609   \n",
       "19           5         2  0.002643   \n",
       "20           5         2  0.002713   \n",
       "21           5         2  0.002964   \n",
       "22           5         2  0.003014   \n",
       "23           6         2  0.003634   \n",
       "24           6         2  0.003697   \n",
       "\n",
       "                                                                                                           potentials_focal  \\\n",
       "0                                                                                                      [0.9999978718283026]   \n",
       "1                                                                                                       [0.999773069330191]   \n",
       "2                                                                                                      [0.9998459715310997]   \n",
       "3                                                                                                      [0.9998820635331843]   \n",
       "4                                                                                  [0.9998961089821595, 0.9999016070230451]   \n",
       "5                                                                                   [0.9999130243148501, 0.999917606166409]   \n",
       "6                                                                                  [0.9999179211003683, 0.9999218484375992]   \n",
       "7                                                                                   [0.999924929166214, 0.9999283656327734]   \n",
       "8                                                                                   [0.9999300294204974, 0.999933084087434]   \n",
       "9                                                                                   [0.999929624201468, 0.9999323733986428]   \n",
       "10                                                                                  [0.999906509965245, 0.9999090091192347]   \n",
       "11                                                             [0.9998878105342245, 0.9998901013392205, 0.9999040336468314]   \n",
       "12                                                             [0.9998844144268312, 0.9998865290013212, 0.9998993894872824]   \n",
       "13                                         [0.9998882312771413, 0.9998901948252905, 0.9999021367817047, 0.9999193249350976]   \n",
       "14                                         [0.9998915663394485, 0.9998933989963732, 0.9999045448849199, 0.9999205872203066]   \n",
       "15                                          [0.9998287189971448, 0.9998304368968399, 0.9998408848441517, 0.999855922603507]   \n",
       "16                                          [0.999832696417819, 0.9998343132772914, 0.9998441467096719, 0.9998582999747727]   \n",
       "17                                          [0.9998382610175921, 0.9998397880683986, 0.9998490752956133, 0.999862442389479]   \n",
       "18                       [0.999844685956546, 0.9998461326547341, 0.9998549311878784, 0.9998675948899141, 0.999889656351375]   \n",
       "19                      [0.9998521287148423, 0.999853503098483, 0.9998618618245253, 0.9998738925006248, 0.9998948511299046]   \n",
       "20                     [0.9998313018098435, 0.9998326106920289, 0.9998405710476462, 0.9998520283398875, 0.9998719880463258]   \n",
       "21                     [0.9998354767902413, 0.9998367261881419, 0.9998443247692174, 0.9998552613518699, 0.9998743139048497]   \n",
       "22                     [0.9998288390069686, 0.9998300340672884, 0.9998373021755768, 0.9998477631027098, 0.9998659869953826]   \n",
       "23  [0.9997910190628254, 0.9997921642422672, 0.9997991289829719, 0.9998091532682806, 0.999826616470031, 0.9998288469963247]   \n",
       "24  [0.9997534015889461, 0.9997545008784329, 0.9997611865239037, 0.9997708091035401, 0.9997875724796222, 0.999789713617437]   \n",
       "\n",
       "    delta_min  x_dim  \\\n",
       "0        0.25      1   \n",
       "1        0.25      1   \n",
       "2        0.25      1   \n",
       "3        0.25      1   \n",
       "4        0.25      1   \n",
       "5        0.25      1   \n",
       "6        0.25      1   \n",
       "7        0.25      1   \n",
       "8        0.25      1   \n",
       "9        0.25      1   \n",
       "10       0.25      1   \n",
       "11       0.25      1   \n",
       "12       0.25      1   \n",
       "13       0.25      1   \n",
       "14       0.25      1   \n",
       "15       0.25      1   \n",
       "16       0.25      1   \n",
       "17       0.25      1   \n",
       "18       0.25      1   \n",
       "19       0.25      1   \n",
       "20       0.25      1   \n",
       "21       0.25      1   \n",
       "22       0.25      1   \n",
       "23       0.25      1   \n",
       "24       0.25      1   \n",
       "\n",
       "                                                                                                                                              centers  \\\n",
       "0                                                                                                                            [[0.024497586556524727]]   \n",
       "1                                                                                                                            [[0.024497586556524727]]   \n",
       "2                                                                                                                            [[0.024497586556524727]]   \n",
       "3                                                                                                                            [[0.024497586556524727]]   \n",
       "4                                                                                                    [[0.024497586556524727], [0.011363621370187172]]   \n",
       "5                                                                                                    [[0.024497586556524727], [0.011363621370187172]]   \n",
       "6                                                                                                    [[0.024497586556524727], [0.011363621370187172]]   \n",
       "7                                                                                                    [[0.024497586556524727], [0.011363621370187172]]   \n",
       "8                                                                                                    [[0.024497586556524727], [0.011363621370187172]]   \n",
       "9                                                                                                    [[0.024497586556524727], [0.011363621370187172]]   \n",
       "10                                                                                                   [[0.024497586556524727], [0.011363621370187172]]   \n",
       "11                                                                           [[0.024497586556524727], [0.011363621370187172], [0.011274447054389618]]   \n",
       "12                                                                           [[0.024497586556524727], [0.011363621370187172], [0.011274447054389618]]   \n",
       "13                                                  [[0.024497586556524727], [0.011363621370187172], [0.011274447054389618], [0.0066535704512181906]]   \n",
       "14                                                  [[0.024497586556524727], [0.011363621370187172], [0.011274447054389618], [0.0066535704512181906]]   \n",
       "15                                                  [[0.024497586556524727], [0.011363621370187172], [0.011274447054389618], [0.0066535704512181906]]   \n",
       "16                                                  [[0.024497586556524727], [0.011363621370187172], [0.011274447054389618], [0.0066535704512181906]]   \n",
       "17                                                  [[0.024497586556524727], [0.011363621370187172], [0.011274447054389618], [0.0066535704512181906]]   \n",
       "18                          [[0.024497586556524727], [0.011363621370187172], [0.011274447054389618], [0.0066535704512181906], [0.005803011631274049]]   \n",
       "19                          [[0.024497586556524727], [0.011363621370187172], [0.011274447054389618], [0.0066535704512181906], [0.005803011631274049]]   \n",
       "20                          [[0.024497586556524727], [0.011363621370187172], [0.011274447054389618], [0.0066535704512181906], [0.005803011631274049]]   \n",
       "21                          [[0.024497586556524727], [0.011363621370187172], [0.011274447054389618], [0.0066535704512181906], [0.005803011631274049]]   \n",
       "22                          [[0.024497586556524727], [0.011363621370187172], [0.011274447054389618], [0.0066535704512181906], [0.005803011631274049]]   \n",
       "23  [[0.024497586556524727], [0.011363621370187172], [0.011274447054389618], [0.0066535704512181906], [0.005803011631274049], [0.007950850297817643]]   \n",
       "24  [[0.024497586556524727], [0.011363621370187172], [0.011274447054389618], [0.0066535704512181906], [0.005803011631274049], [0.007950850297817643]]   \n",
       "\n",
       "                      beta  \\\n",
       "0   [0.024497586556524727]   \n",
       "1      [0.050454000116696]   \n",
       "2    [0.05515397507988553]   \n",
       "3    [0.06271615791802472]   \n",
       "4    [0.06717271394459755]   \n",
       "5    [0.07853633531478472]   \n",
       "6    [0.08835385127504529]   \n",
       "7    [0.09091189366987354]   \n",
       "8     [0.0883697106971283]   \n",
       "9    [0.09122822423795242]   \n",
       "10   [0.10269070400320829]   \n",
       "11   [0.09613433199559994]   \n",
       "12   [0.10740877904998955]   \n",
       "13   [0.10617876659478961]   \n",
       "14    [0.1128323370460078]   \n",
       "15    [0.1273436593541456]   \n",
       "16   [0.10847408554296621]   \n",
       "17   [0.09978642186705508]   \n",
       "18    [0.0992924030137177]   \n",
       "19   [0.10509541464499174]   \n",
       "20   [0.11343572065382766]   \n",
       "21   [0.09758105510615461]   \n",
       "22    [0.0904926014764102]   \n",
       "23   [0.06559205760272054]   \n",
       "24   [0.07354290790053818]   \n",
       "\n",
       "                                                                                                                                               focals  \n",
       "0                                                                                                                            [[0.024497586556524727]]  \n",
       "1                                                                                                                            [[0.024497586556524727]]  \n",
       "2                                                                                                                            [[0.024497586556524727]]  \n",
       "3                                                                                                                            [[0.024497586556524727]]  \n",
       "4                                                                                                    [[0.024497586556524727], [0.011363621370187172]]  \n",
       "5                                                                                                    [[0.024497586556524727], [0.011363621370187172]]  \n",
       "6                                                                                                    [[0.024497586556524727], [0.011363621370187172]]  \n",
       "7                                                                                                    [[0.024497586556524727], [0.011363621370187172]]  \n",
       "8                                                                                                    [[0.024497586556524727], [0.011363621370187172]]  \n",
       "9                                                                                                    [[0.024497586556524727], [0.011363621370187172]]  \n",
       "10                                                                                                   [[0.024497586556524727], [0.011363621370187172]]  \n",
       "11                                                                           [[0.024497586556524727], [0.011363621370187172], [0.011274447054389618]]  \n",
       "12                                                                           [[0.024497586556524727], [0.011363621370187172], [0.011274447054389618]]  \n",
       "13                                                  [[0.024497586556524727], [0.011363621370187172], [0.011274447054389618], [0.0066535704512181906]]  \n",
       "14                                                  [[0.024497586556524727], [0.011363621370187172], [0.011274447054389618], [0.0066535704512181906]]  \n",
       "15                                                  [[0.024497586556524727], [0.011363621370187172], [0.011274447054389618], [0.0066535704512181906]]  \n",
       "16                                                  [[0.024497586556524727], [0.011363621370187172], [0.011274447054389618], [0.0066535704512181906]]  \n",
       "17                                                  [[0.024497586556524727], [0.011363621370187172], [0.011274447054389618], [0.0066535704512181906]]  \n",
       "18                          [[0.024497586556524727], [0.011363621370187172], [0.011274447054389618], [0.0066535704512181906], [0.005803011631274049]]  \n",
       "19                          [[0.024497586556524727], [0.011363621370187172], [0.011274447054389618], [0.0066535704512181906], [0.005803011631274049]]  \n",
       "20                          [[0.024497586556524727], [0.011363621370187172], [0.011274447054389618], [0.0066535704512181906], [0.005803011631274049]]  \n",
       "21                          [[0.024497586556524727], [0.011363621370187172], [0.011274447054389618], [0.0066535704512181906], [0.005803011631274049]]  \n",
       "22                          [[0.024497586556524727], [0.011363621370187172], [0.011274447054389618], [0.0066535704512181906], [0.005803011631274049]]  \n",
       "23  [[0.024497586556524727], [0.011363621370187172], [0.011274447054389618], [0.0066535704512181906], [0.005803011631274049], [0.007950850297817643]]  \n",
       "24  [[0.024497586556524727], [0.011363621370187172], [0.011274447054389618], [0.0066535704512181906], [0.005803011631274049], [0.007950850297817643]]  "
      ]
     },
     "execution_count": 70,
     "metadata": {},
     "output_type": "execute_result"
    }
   ],
   "source": [
    "ant_hist"
   ]
  },
  {
   "cell_type": "code",
   "execution_count": 71,
   "id": "057bd7bb",
   "metadata": {},
   "outputs": [
    {
     "data": {
      "text/html": [
       "<div>\n",
       "<style scoped>\n",
       "    .dataframe tbody tr th:only-of-type {\n",
       "        vertical-align: middle;\n",
       "    }\n",
       "\n",
       "    .dataframe tbody tr th {\n",
       "        vertical-align: top;\n",
       "    }\n",
       "\n",
       "    .dataframe thead th {\n",
       "        text-align: right;\n",
       "    }\n",
       "</style>\n",
       "<table border=\"1\" class=\"dataframe\">\n",
       "  <thead>\n",
       "    <tr style=\"text-align: right;\">\n",
       "      <th></th>\n",
       "    </tr>\n",
       "  </thead>\n",
       "  <tbody>\n",
       "  </tbody>\n",
       "</table>\n",
       "</div>"
      ],
      "text/plain": [
       "Empty DataFrame\n",
       "Columns: []\n",
       "Index: []"
      ]
     },
     "execution_count": 71,
     "metadata": {},
     "output_type": "execute_result"
    }
   ],
   "source": [
    "fvm.membership_degrees_hist"
   ]
  },
  {
   "cell_type": "code",
   "execution_count": 72,
   "id": "92ff0797",
   "metadata": {
    "scrolled": true
   },
   "outputs": [
    {
     "data": {
      "text/html": [
       "<div>\n",
       "<style scoped>\n",
       "    .dataframe tbody tr th:only-of-type {\n",
       "        vertical-align: middle;\n",
       "    }\n",
       "\n",
       "    .dataframe tbody tr th {\n",
       "        vertical-align: top;\n",
       "    }\n",
       "\n",
       "    .dataframe thead th {\n",
       "        text-align: right;\n",
       "    }\n",
       "</style>\n",
       "<table border=\"1\" class=\"dataframe\">\n",
       "  <thead>\n",
       "    <tr style=\"text-align: right;\">\n",
       "      <th></th>\n",
       "      <th>alpha_0</th>\n",
       "      <th>alpha</th>\n",
       "      <th>beta</th>\n",
       "    </tr>\n",
       "    <tr>\n",
       "      <th>&lt;DATE&gt;</th>\n",
       "      <th></th>\n",
       "      <th></th>\n",
       "      <th></th>\n",
       "    </tr>\n",
       "  </thead>\n",
       "  <tbody>\n",
       "    <tr>\n",
       "      <th>2018-01-04</th>\n",
       "      <td>[0.0003000657791312983]</td>\n",
       "      <td>[[0.01]]</td>\n",
       "      <td>[[0.49]]</td>\n",
       "    </tr>\n",
       "    <tr>\n",
       "      <th>2018-01-05</th>\n",
       "      <td>[0.0003738220359050441]</td>\n",
       "      <td>[[0.009995549565020554]]</td>\n",
       "      <td>[[0.48978198094127684]]</td>\n",
       "    </tr>\n",
       "    <tr>\n",
       "      <th>2018-01-09</th>\n",
       "      <td>[6.997162131588919074e-20]</td>\n",
       "      <td>[[3.9011516758662876103e-08]]</td>\n",
       "      <td>[[0.6416728773584393064]]</td>\n",
       "    </tr>\n",
       "    <tr>\n",
       "      <th>2018-01-10</th>\n",
       "      <td>[8.251970342772458e-36]</td>\n",
       "      <td>[[1.0135016584949205e-14]]</td>\n",
       "      <td>[[0.6009934859184446]]</td>\n",
       "    </tr>\n",
       "    <tr>\n",
       "      <th>2018-01-11</th>\n",
       "      <td>[5.329691386628252e-35]</td>\n",
       "      <td>[[1.902288264016916e-16]]</td>\n",
       "      <td>[[0.586058611203685]]</td>\n",
       "    </tr>\n",
       "    <tr>\n",
       "      <th>2018-01-12</th>\n",
       "      <td>[3.689640385018791963e-43, 3.2683836293358987934e-41]</td>\n",
       "      <td>[[8.295563352815152028e-12, 8.295634587267004655e-12]]</td>\n",
       "      <td>[[0.6016004934108513918, 0.60190858474135191787]]</td>\n",
       "    </tr>\n",
       "    <tr>\n",
       "      <th>2018-01-15</th>\n",
       "      <td>[4.2678895256844547e-11, 6.7596916418582285e-06]</td>\n",
       "      <td>[[9.609641356421161e-11, 9.609664758626673e-11]]</td>\n",
       "      <td>[[0.6016242816689159, 0.6018713979849315]]</td>\n",
       "    </tr>\n",
       "    <tr>\n",
       "      <th>2018-01-16</th>\n",
       "      <td>[5.145448687115379e-12, 3.504678706672949e-07]</td>\n",
       "      <td>[[1.3967635665660978e-12, 1.414999409262714e-12]]</td>\n",
       "      <td>[[0.6083429201304181, 0.6102467241409548]]</td>\n",
       "    </tr>\n",
       "    <tr>\n",
       "      <th>2018-01-17</th>\n",
       "      <td>[3.618603037995366e-12, 1.2710439987131472e-08]</td>\n",
       "      <td>[[2.3591893916366755e-11, 2.3633889736429858e-11]]</td>\n",
       "      <td>[[0.6089082407850025, 0.6100537300549402]]</td>\n",
       "    </tr>\n",
       "    <tr>\n",
       "      <th>2018-01-18</th>\n",
       "      <td>[1e-10, 1.2710439987131472e-08]</td>\n",
       "      <td>[[1e-10, 1e-10]]</td>\n",
       "      <td>[[0.6089082407850025, 0.6100537300549402]]</td>\n",
       "    </tr>\n",
       "    <tr>\n",
       "      <th>2018-01-19</th>\n",
       "      <td>[8.577984728116445e-06, 1.4554701616205557e-05]</td>\n",
       "      <td>[[2.227810718193263e-11, 2.2346170573557936e-11]]</td>\n",
       "      <td>[[0.5774799584489196, 0.5768866762492849]]</td>\n",
       "    </tr>\n",
       "    <tr>\n",
       "      <th>2018-01-22</th>\n",
       "      <td>[6.834451428293493e-07, 2.4588194891465226e-05]</td>\n",
       "      <td>[[7.264850290740461e-11, 7.259253568277437e-11]]</td>\n",
       "      <td>[[0.5743141178650781, 0.5746641056774117]]</td>\n",
       "    </tr>\n",
       "    <tr>\n",
       "      <th>2018-01-23</th>\n",
       "      <td>[6.834078911472199e-06, 3.7628641691758174e-05, 1.3412139483468929e-05]</td>\n",
       "      <td>[[8.146912199029763e-12, 8.175020588424521e-12, 8.160621767853798e-12]]</td>\n",
       "      <td>[[0.5562981932314103, 0.5573573844651794, 0.5570154604668661]]</td>\n",
       "    </tr>\n",
       "    <tr>\n",
       "      <th>2018-01-24</th>\n",
       "      <td>[5.952988810375678e-06, 3.2757254216509576e-05, 1.1506549602324136e-05]</td>\n",
       "      <td>[[9.208735778094724e-12, 9.442060254523657e-12, 9.280780912386423e-12]]</td>\n",
       "      <td>[[0.5640363745471453, 0.5632816199326675, 0.5631954965904292]]</td>\n",
       "    </tr>\n",
       "    <tr>\n",
       "      <th>2018-01-25</th>\n",
       "      <td>[1.36158210248472701786e-05, 3.2903302032458866354e-05, 2.1658017119153566881e-05, 1.0994807762587697459e-09]</td>\n",
       "      <td>[[3.2065514673844844453e-11, 3.2025934179015918195e-11, 3.2022899394143391434e-11, 3.2035849182777675548e-11]]</td>\n",
       "      <td>[[0.5635773886040247232, 0.56249868766667866066, 0.5621158555168036305, 0.5627806931901509253]]</td>\n",
       "    </tr>\n",
       "    <tr>\n",
       "      <th>2018-01-26</th>\n",
       "      <td>[5.3318300932524044e-05, 2.088115380647413e-05, 1.767898302391253e-05, 1.044925725592406e-05]</td>\n",
       "      <td>[[1.942400149592868e-11, 1.9314837131648066e-11, 1.927718940429066e-11, 1.914568589906941e-11]]</td>\n",
       "      <td>[[0.5403827578648389, 0.5412488815751391, 0.541383707546941, 0.5415159273228843]]</td>\n",
       "    </tr>\n",
       "    <tr>\n",
       "      <th>2018-01-29</th>\n",
       "      <td>[6.310464358139277716e-05, 2.433751816645586698e-05, 1.744218214328730522e-09, 5.4091557463187704815e-05]</td>\n",
       "      <td>[[1.0017423643829992947e-10, 1.0017156081839701664e-10, 1.0017113811319366357e-10, 1.0017073458054141527e-10]]</td>\n",
       "      <td>[[0.5403835264836880253, 0.54124895921340662665, 0.54138367899726013067, 0.5415157949982107059]]</td>\n",
       "    </tr>\n",
       "    <tr>\n",
       "      <th>2018-01-30</th>\n",
       "      <td>[7.492656827122719e-05, 2.5598135732006456e-05, 1.836156063586786e-09, 5.700474658325948e-05]</td>\n",
       "      <td>[[5.779475549450448e-12, 5.782128798348206e-13, 7.758832565540503e-13, 2.5300929935802348e-21]]</td>\n",
       "      <td>[[0.5105061224068527, 0.5109822477318626, 0.5108385191237104, 0.5110398501950226]]</td>\n",
       "    </tr>\n",
       "    <tr>\n",
       "      <th>2018-01-31</th>\n",
       "      <td>[6.97727769643297e-05, 2.2953266519644294e-05, 1.7059433854350597e-09, 5.1675770988302466e-05]</td>\n",
       "      <td>[[4.1819029615130316e-11, 4.1100806519738574e-11, 4.0689287395029006e-11, 4.156516425167602e-11]]</td>\n",
       "      <td>[[0.5174383253753879, 0.5178102110255194, 0.517584175088839, 0.5177107170991383]]</td>\n",
       "    </tr>\n",
       "    <tr>\n",
       "      <th>2018-02-01</th>\n",
       "      <td>[6.693025292870557e-05, 2.1851214454463686e-05, 1.7287673633252572e-09, 4.951579815492374e-05, 3.4376489097743775e-05]</td>\n",
       "      <td>[[2.1251880760407447e-11, 2.103874713042311e-11, 2.0823885411674374e-11, 2.119402517442005e-11, 2.1079694568840188e-11]]</td>\n",
       "      <td>[[0.5209876684426634, 0.5208557259638419, 0.5217397331065876, 0.5209241687041883, 0.5208641640856905]]</td>\n",
       "    </tr>\n",
       "    <tr>\n",
       "      <th>2018-02-02</th>\n",
       "      <td>[6.693025292870557e-05, 2.1851214454463686e-05, 1.7287673633252572e-09, 4.951579815492374e-05, 3.4376489097743775e-05]</td>\n",
       "      <td>[[1e-10, 1e-10, 1e-10, 1e-10, 1e-10]]</td>\n",
       "      <td>[[0.5209876684426634, 0.5208557259638419, 0.5217397331065876, 0.5209241687041883, 0.5208641640856905]]</td>\n",
       "    </tr>\n",
       "    <tr>\n",
       "      <th>2018-02-05</th>\n",
       "      <td>[7.197103617293362e-05, 2.814834194881017e-05, 9.1709067632994e-06, 5.35544382871991e-05, 3.962969575537256e-05]</td>\n",
       "      <td>[[1.8960283525694263e-11, 1.8917225275767242e-11, 1.8764070069114416e-11, 1.8931212373409757e-11, 1.8912818354923562e-11]]</td>\n",
       "      <td>[[0.5083402494747546, 0.5086889579497071, 0.5087749089434555, 0.508545241430042, 0.5086483974029613]]</td>\n",
       "    </tr>\n",
       "    <tr>\n",
       "      <th>2018-02-06</th>\n",
       "      <td>[6.983037800519008e-05, 2.729031403689674e-05, 9.521936200731975e-06, 5.208915386922476e-05, 3.856017790016512e-05]</td>\n",
       "      <td>[[7.055969077287169e-12, 7.0377018011396614e-12, 6.953863433361097e-12, 7.0596465953074825e-12, 7.05789073234169e-12]]</td>\n",
       "      <td>[[0.5107205354623083, 0.5109474751891023, 0.5103403429009483, 0.5106394474191688, 0.5106697075681785]]</td>\n",
       "    </tr>\n",
       "    <tr>\n",
       "      <th>2018-02-07</th>\n",
       "      <td>[4.8578325839199509363e-08, 0.00016396146542324838813, 3.4352659279869651593e-05, 3.6102462477818164198e-05, 4.7354412611845171044e-05]</td>\n",
       "      <td>[[2.1250382195662291745e-17, 8.070486780651769012e-13, 1.2413458057448145401e-12, 2.7142574323697385315e-13, 1.6695675955256134969e-13]]</td>\n",
       "      <td>[[0.47917355865626848585, 0.4792855735747666921, 0.47779032795753707686, 0.47891362932582021836, 0.47908184409023198415]]</td>\n",
       "    </tr>\n",
       "    <tr>\n",
       "      <th>2018-02-08</th>\n",
       "      <td>[4.602781324715364e-08, 0.00015994373790644, 3.7206736321832976e-05, 3.421373262789093e-05, 4.510980701087525e-05, 5.347662714407316e-05]</td>\n",
       "      <td>[[1.855014794985897e-11, 1.8776683506057848e-11, 1.8405080838376154e-11, 1.8571698161973223e-11, 1.8613825835583894e-11, 1.86010733320639e-11]]</td>\n",
       "      <td>[[0.48128575537540086, 0.48092215778679137, 0.48245563757932985, 0.4812941323521699, 0.48121916483149163, 0.48130438628421096]]</td>\n",
       "    </tr>\n",
       "  </tbody>\n",
       "</table>\n",
       "</div>"
      ],
      "text/plain": [
       "                                                                                                                                              alpha_0  \\\n",
       "<DATE>                                                                                                                                                  \n",
       "2018-01-04                                                                                                                    [0.0003000657791312983]   \n",
       "2018-01-05                                                                                                                    [0.0003738220359050441]   \n",
       "2018-01-09                                                                                                                 [6.997162131588919074e-20]   \n",
       "2018-01-10                                                                                                                    [8.251970342772458e-36]   \n",
       "2018-01-11                                                                                                                    [5.329691386628252e-35]   \n",
       "2018-01-12                                                                                      [3.689640385018791963e-43, 3.2683836293358987934e-41]   \n",
       "2018-01-15                                                                                           [4.2678895256844547e-11, 6.7596916418582285e-06]   \n",
       "2018-01-16                                                                                             [5.145448687115379e-12, 3.504678706672949e-07]   \n",
       "2018-01-17                                                                                            [3.618603037995366e-12, 1.2710439987131472e-08]   \n",
       "2018-01-18                                                                                                            [1e-10, 1.2710439987131472e-08]   \n",
       "2018-01-19                                                                                            [8.577984728116445e-06, 1.4554701616205557e-05]   \n",
       "2018-01-22                                                                                            [6.834451428293493e-07, 2.4588194891465226e-05]   \n",
       "2018-01-23                                                                    [6.834078911472199e-06, 3.7628641691758174e-05, 1.3412139483468929e-05]   \n",
       "2018-01-24                                                                    [5.952988810375678e-06, 3.2757254216509576e-05, 1.1506549602324136e-05]   \n",
       "2018-01-25                              [1.36158210248472701786e-05, 3.2903302032458866354e-05, 2.1658017119153566881e-05, 1.0994807762587697459e-09]   \n",
       "2018-01-26                                              [5.3318300932524044e-05, 2.088115380647413e-05, 1.767898302391253e-05, 1.044925725592406e-05]   \n",
       "2018-01-29                                  [6.310464358139277716e-05, 2.433751816645586698e-05, 1.744218214328730522e-09, 5.4091557463187704815e-05]   \n",
       "2018-01-30                                              [7.492656827122719e-05, 2.5598135732006456e-05, 1.836156063586786e-09, 5.700474658325948e-05]   \n",
       "2018-01-31                                             [6.97727769643297e-05, 2.2953266519644294e-05, 1.7059433854350597e-09, 5.1675770988302466e-05]   \n",
       "2018-02-01                     [6.693025292870557e-05, 2.1851214454463686e-05, 1.7287673633252572e-09, 4.951579815492374e-05, 3.4376489097743775e-05]   \n",
       "2018-02-02                     [6.693025292870557e-05, 2.1851214454463686e-05, 1.7287673633252572e-09, 4.951579815492374e-05, 3.4376489097743775e-05]   \n",
       "2018-02-05                           [7.197103617293362e-05, 2.814834194881017e-05, 9.1709067632994e-06, 5.35544382871991e-05, 3.962969575537256e-05]   \n",
       "2018-02-06                        [6.983037800519008e-05, 2.729031403689674e-05, 9.521936200731975e-06, 5.208915386922476e-05, 3.856017790016512e-05]   \n",
       "2018-02-07    [4.8578325839199509363e-08, 0.00016396146542324838813, 3.4352659279869651593e-05, 3.6102462477818164198e-05, 4.7354412611845171044e-05]   \n",
       "2018-02-08  [4.602781324715364e-08, 0.00015994373790644, 3.7206736321832976e-05, 3.421373262789093e-05, 4.510980701087525e-05, 5.347662714407316e-05]   \n",
       "\n",
       "                                                                                                                                                      alpha  \\\n",
       "<DATE>                                                                                                                                                        \n",
       "2018-01-04                                                                                                                                         [[0.01]]   \n",
       "2018-01-05                                                                                                                         [[0.009995549565020554]]   \n",
       "2018-01-09                                                                                                                    [[3.9011516758662876103e-08]]   \n",
       "2018-01-10                                                                                                                       [[1.0135016584949205e-14]]   \n",
       "2018-01-11                                                                                                                        [[1.902288264016916e-16]]   \n",
       "2018-01-12                                                                                           [[8.295563352815152028e-12, 8.295634587267004655e-12]]   \n",
       "2018-01-15                                                                                                 [[9.609641356421161e-11, 9.609664758626673e-11]]   \n",
       "2018-01-16                                                                                                [[1.3967635665660978e-12, 1.414999409262714e-12]]   \n",
       "2018-01-17                                                                                               [[2.3591893916366755e-11, 2.3633889736429858e-11]]   \n",
       "2018-01-18                                                                                                                                 [[1e-10, 1e-10]]   \n",
       "2018-01-19                                                                                                [[2.227810718193263e-11, 2.2346170573557936e-11]]   \n",
       "2018-01-22                                                                                                 [[7.264850290740461e-11, 7.259253568277437e-11]]   \n",
       "2018-01-23                                                                          [[8.146912199029763e-12, 8.175020588424521e-12, 8.160621767853798e-12]]   \n",
       "2018-01-24                                                                          [[9.208735778094724e-12, 9.442060254523657e-12, 9.280780912386423e-12]]   \n",
       "2018-01-25                                   [[3.2065514673844844453e-11, 3.2025934179015918195e-11, 3.2022899394143391434e-11, 3.2035849182777675548e-11]]   \n",
       "2018-01-26                                                  [[1.942400149592868e-11, 1.9314837131648066e-11, 1.927718940429066e-11, 1.914568589906941e-11]]   \n",
       "2018-01-29                                   [[1.0017423643829992947e-10, 1.0017156081839701664e-10, 1.0017113811319366357e-10, 1.0017073458054141527e-10]]   \n",
       "2018-01-30                                                  [[5.779475549450448e-12, 5.782128798348206e-13, 7.758832565540503e-13, 2.5300929935802348e-21]]   \n",
       "2018-01-31                                                [[4.1819029615130316e-11, 4.1100806519738574e-11, 4.0689287395029006e-11, 4.156516425167602e-11]]   \n",
       "2018-02-01                         [[2.1251880760407447e-11, 2.103874713042311e-11, 2.0823885411674374e-11, 2.119402517442005e-11, 2.1079694568840188e-11]]   \n",
       "2018-02-02                                                                                                            [[1e-10, 1e-10, 1e-10, 1e-10, 1e-10]]   \n",
       "2018-02-05                       [[1.8960283525694263e-11, 1.8917225275767242e-11, 1.8764070069114416e-11, 1.8931212373409757e-11, 1.8912818354923562e-11]]   \n",
       "2018-02-06                           [[7.055969077287169e-12, 7.0377018011396614e-12, 6.953863433361097e-12, 7.0596465953074825e-12, 7.05789073234169e-12]]   \n",
       "2018-02-07         [[2.1250382195662291745e-17, 8.070486780651769012e-13, 1.2413458057448145401e-12, 2.7142574323697385315e-13, 1.6695675955256134969e-13]]   \n",
       "2018-02-08  [[1.855014794985897e-11, 1.8776683506057848e-11, 1.8405080838376154e-11, 1.8571698161973223e-11, 1.8613825835583894e-11, 1.86010733320639e-11]]   \n",
       "\n",
       "                                                                                                                                       beta  \n",
       "<DATE>                                                                                                                                       \n",
       "2018-01-04                                                                                                                         [[0.49]]  \n",
       "2018-01-05                                                                                                          [[0.48978198094127684]]  \n",
       "2018-01-09                                                                                                        [[0.6416728773584393064]]  \n",
       "2018-01-10                                                                                                           [[0.6009934859184446]]  \n",
       "2018-01-11                                                                                                            [[0.586058611203685]]  \n",
       "2018-01-12                                                                                [[0.6016004934108513918, 0.60190858474135191787]]  \n",
       "2018-01-15                                                                                       [[0.6016242816689159, 0.6018713979849315]]  \n",
       "2018-01-16                                                                                       [[0.6083429201304181, 0.6102467241409548]]  \n",
       "2018-01-17                                                                                       [[0.6089082407850025, 0.6100537300549402]]  \n",
       "2018-01-18                                                                                       [[0.6089082407850025, 0.6100537300549402]]  \n",
       "2018-01-19                                                                                       [[0.5774799584489196, 0.5768866762492849]]  \n",
       "2018-01-22                                                                                       [[0.5743141178650781, 0.5746641056774117]]  \n",
       "2018-01-23                                                                   [[0.5562981932314103, 0.5573573844651794, 0.5570154604668661]]  \n",
       "2018-01-24                                                                   [[0.5640363745471453, 0.5632816199326675, 0.5631954965904292]]  \n",
       "2018-01-25                                  [[0.5635773886040247232, 0.56249868766667866066, 0.5621158555168036305, 0.5627806931901509253]]  \n",
       "2018-01-26                                                [[0.5403827578648389, 0.5412488815751391, 0.541383707546941, 0.5415159273228843]]  \n",
       "2018-01-29                                 [[0.5403835264836880253, 0.54124895921340662665, 0.54138367899726013067, 0.5415157949982107059]]  \n",
       "2018-01-30                                               [[0.5105061224068527, 0.5109822477318626, 0.5108385191237104, 0.5110398501950226]]  \n",
       "2018-01-31                                                [[0.5174383253753879, 0.5178102110255194, 0.517584175088839, 0.5177107170991383]]  \n",
       "2018-02-01                           [[0.5209876684426634, 0.5208557259638419, 0.5217397331065876, 0.5209241687041883, 0.5208641640856905]]  \n",
       "2018-02-02                           [[0.5209876684426634, 0.5208557259638419, 0.5217397331065876, 0.5209241687041883, 0.5208641640856905]]  \n",
       "2018-02-05                            [[0.5083402494747546, 0.5086889579497071, 0.5087749089434555, 0.508545241430042, 0.5086483974029613]]  \n",
       "2018-02-06                           [[0.5107205354623083, 0.5109474751891023, 0.5103403429009483, 0.5106394474191688, 0.5106697075681785]]  \n",
       "2018-02-07        [[0.47917355865626848585, 0.4792855735747666921, 0.47779032795753707686, 0.47891362932582021836, 0.47908184409023198415]]  \n",
       "2018-02-08  [[0.48128575537540086, 0.48092215778679137, 0.48245563757932985, 0.4812941323521699, 0.48121916483149163, 0.48130438628421096]]  "
      ]
     },
     "execution_count": 72,
     "metadata": {},
     "output_type": "execute_result"
    }
   ],
   "source": [
    "pd.DataFrame.from_records(fvm._parameters_hist, index=fvm.train_data.index[-len(fvm._parameters_hist):])"
   ]
  },
  {
   "cell_type": "code",
   "execution_count": 73,
   "id": "c48f4e75",
   "metadata": {},
   "outputs": [
    {
     "data": {
      "text/plain": [
       "array([[0.00047791],\n",
       "       [0.00047791],\n",
       "       [0.00047791]])"
      ]
     },
     "execution_count": 73,
     "metadata": {},
     "output_type": "execute_result"
    }
   ],
   "source": [
    "_arr = np.array([[0.0004779073117170634], [0.0004779073117170634]])\n",
    "np.concatenate((_arr, [_arr.mean(axis=0)]))"
   ]
  },
  {
   "cell_type": "code",
   "execution_count": 85,
   "id": "98849df3",
   "metadata": {},
   "outputs": [
    {
     "data": {
      "text/html": [
       "<div>\n",
       "<style scoped>\n",
       "    .dataframe tbody tr th:only-of-type {\n",
       "        vertical-align: middle;\n",
       "    }\n",
       "\n",
       "    .dataframe tbody tr th {\n",
       "        vertical-align: top;\n",
       "    }\n",
       "\n",
       "    .dataframe thead th {\n",
       "        text-align: right;\n",
       "    }\n",
       "</style>\n",
       "<table border=\"1\" class=\"dataframe\">\n",
       "  <thead>\n",
       "    <tr style=\"text-align: right;\">\n",
       "      <th></th>\n",
       "      <th>cost</th>\n",
       "      <th>optimality</th>\n",
       "      <th>nfev</th>\n",
       "      <th>njev</th>\n",
       "      <th>status</th>\n",
       "      <th>message</th>\n",
       "      <th>success</th>\n",
       "    </tr>\n",
       "  </thead>\n",
       "  <tbody>\n",
       "    <tr>\n",
       "      <th>0</th>\n",
       "      <td>0.000000e+00</td>\n",
       "      <td>0.000000e+00</td>\n",
       "      <td>1</td>\n",
       "      <td>1</td>\n",
       "      <td>1</td>\n",
       "      <td>`gtol` termination condition is satisfied.</td>\n",
       "      <td>True</td>\n",
       "    </tr>\n",
       "    <tr>\n",
       "      <th>1</th>\n",
       "      <td>1.803773e-16</td>\n",
       "      <td>7.100204e-12</td>\n",
       "      <td>18</td>\n",
       "      <td>9</td>\n",
       "      <td>1</td>\n",
       "      <td>`gtol` termination condition is satisfied.</td>\n",
       "      <td>True</td>\n",
       "    </tr>\n",
       "    <tr>\n",
       "      <th>2</th>\n",
       "      <td>6.697355e-08</td>\n",
       "      <td>4.612108e-11</td>\n",
       "      <td>15</td>\n",
       "      <td>12</td>\n",
       "      <td>1</td>\n",
       "      <td>`gtol` termination condition is satisfied.</td>\n",
       "      <td>True</td>\n",
       "    </tr>\n",
       "    <tr>\n",
       "      <th>3</th>\n",
       "      <td>7.062310e-08</td>\n",
       "      <td>4.708548e-11</td>\n",
       "      <td>5</td>\n",
       "      <td>5</td>\n",
       "      <td>1</td>\n",
       "      <td>`gtol` termination condition is satisfied.</td>\n",
       "      <td>True</td>\n",
       "    </tr>\n",
       "    <tr>\n",
       "      <th>4</th>\n",
       "      <td>7.210432e-08</td>\n",
       "      <td>8.641638e-11</td>\n",
       "      <td>5</td>\n",
       "      <td>5</td>\n",
       "      <td>1</td>\n",
       "      <td>`gtol` termination condition is satisfied.</td>\n",
       "      <td>True</td>\n",
       "    </tr>\n",
       "    <tr>\n",
       "      <th>5</th>\n",
       "      <td>7.569806e-08</td>\n",
       "      <td>1.685985e-11</td>\n",
       "      <td>7</td>\n",
       "      <td>7</td>\n",
       "      <td>1</td>\n",
       "      <td>`gtol` termination condition is satisfied.</td>\n",
       "      <td>True</td>\n",
       "    </tr>\n",
       "    <tr>\n",
       "      <th>6</th>\n",
       "      <td>7.786978e-08</td>\n",
       "      <td>4.449111e-08</td>\n",
       "      <td>4</td>\n",
       "      <td>4</td>\n",
       "      <td>4</td>\n",
       "      <td>Both `ftol` and `xtol` termination conditions are satisfied.</td>\n",
       "      <td>True</td>\n",
       "    </tr>\n",
       "    <tr>\n",
       "      <th>7</th>\n",
       "      <td>7.798816e-08</td>\n",
       "      <td>7.000612e-11</td>\n",
       "      <td>8</td>\n",
       "      <td>7</td>\n",
       "      <td>1</td>\n",
       "      <td>`gtol` termination condition is satisfied.</td>\n",
       "      <td>True</td>\n",
       "    </tr>\n",
       "    <tr>\n",
       "      <th>8</th>\n",
       "      <td>7.800064e-08</td>\n",
       "      <td>4.401090e-11</td>\n",
       "      <td>6</td>\n",
       "      <td>3</td>\n",
       "      <td>1</td>\n",
       "      <td>`gtol` termination condition is satisfied.</td>\n",
       "      <td>True</td>\n",
       "    </tr>\n",
       "    <tr>\n",
       "      <th>9</th>\n",
       "      <td>7.800135e-08</td>\n",
       "      <td>6.770454e-11</td>\n",
       "      <td>1</td>\n",
       "      <td>1</td>\n",
       "      <td>1</td>\n",
       "      <td>`gtol` termination condition is satisfied.</td>\n",
       "      <td>True</td>\n",
       "    </tr>\n",
       "    <tr>\n",
       "      <th>10</th>\n",
       "      <td>8.447189e-08</td>\n",
       "      <td>6.566343e-11</td>\n",
       "      <td>8</td>\n",
       "      <td>5</td>\n",
       "      <td>1</td>\n",
       "      <td>`gtol` termination condition is satisfied.</td>\n",
       "      <td>True</td>\n",
       "    </tr>\n",
       "    <tr>\n",
       "      <th>11</th>\n",
       "      <td>8.455753e-08</td>\n",
       "      <td>6.708984e-11</td>\n",
       "      <td>7</td>\n",
       "      <td>4</td>\n",
       "      <td>1</td>\n",
       "      <td>`gtol` termination condition is satisfied.</td>\n",
       "      <td>True</td>\n",
       "    </tr>\n",
       "    <tr>\n",
       "      <th>12</th>\n",
       "      <td>8.856382e-08</td>\n",
       "      <td>3.762183e-11</td>\n",
       "      <td>9</td>\n",
       "      <td>6</td>\n",
       "      <td>1</td>\n",
       "      <td>`gtol` termination condition is satisfied.</td>\n",
       "      <td>True</td>\n",
       "    </tr>\n",
       "    <tr>\n",
       "      <th>13</th>\n",
       "      <td>8.935009e-08</td>\n",
       "      <td>2.878860e-11</td>\n",
       "      <td>8</td>\n",
       "      <td>5</td>\n",
       "      <td>1</td>\n",
       "      <td>`gtol` termination condition is satisfied.</td>\n",
       "      <td>True</td>\n",
       "    </tr>\n",
       "    <tr>\n",
       "      <th>14</th>\n",
       "      <td>8.936488e-08</td>\n",
       "      <td>5.324491e-11</td>\n",
       "      <td>7</td>\n",
       "      <td>5</td>\n",
       "      <td>1</td>\n",
       "      <td>`gtol` termination condition is satisfied.</td>\n",
       "      <td>True</td>\n",
       "    </tr>\n",
       "    <tr>\n",
       "      <th>15</th>\n",
       "      <td>1.026291e-07</td>\n",
       "      <td>5.531709e-11</td>\n",
       "      <td>10</td>\n",
       "      <td>6</td>\n",
       "      <td>1</td>\n",
       "      <td>`gtol` termination condition is satisfied.</td>\n",
       "      <td>True</td>\n",
       "    </tr>\n",
       "    <tr>\n",
       "      <th>16</th>\n",
       "      <td>1.445166e-07</td>\n",
       "      <td>1.581929e-06</td>\n",
       "      <td>4</td>\n",
       "      <td>4</td>\n",
       "      <td>3</td>\n",
       "      <td>`xtol` termination condition is satisfied.</td>\n",
       "      <td>True</td>\n",
       "    </tr>\n",
       "    <tr>\n",
       "      <th>17</th>\n",
       "      <td>1.439254e-07</td>\n",
       "      <td>2.784108e-11</td>\n",
       "      <td>8</td>\n",
       "      <td>5</td>\n",
       "      <td>1</td>\n",
       "      <td>`gtol` termination condition is satisfied.</td>\n",
       "      <td>True</td>\n",
       "    </tr>\n",
       "    <tr>\n",
       "      <th>18</th>\n",
       "      <td>1.469179e-07</td>\n",
       "      <td>2.286566e-11</td>\n",
       "      <td>8</td>\n",
       "      <td>5</td>\n",
       "      <td>1</td>\n",
       "      <td>`gtol` termination condition is satisfied.</td>\n",
       "      <td>True</td>\n",
       "    </tr>\n",
       "    <tr>\n",
       "      <th>19</th>\n",
       "      <td>1.477084e-07</td>\n",
       "      <td>4.938278e-11</td>\n",
       "      <td>6</td>\n",
       "      <td>4</td>\n",
       "      <td>1</td>\n",
       "      <td>`gtol` termination condition is satisfied.</td>\n",
       "      <td>True</td>\n",
       "    </tr>\n",
       "    <tr>\n",
       "      <th>20</th>\n",
       "      <td>1.477115e-07</td>\n",
       "      <td>7.801400e-11</td>\n",
       "      <td>1</td>\n",
       "      <td>1</td>\n",
       "      <td>1</td>\n",
       "      <td>`gtol` termination condition is satisfied.</td>\n",
       "      <td>True</td>\n",
       "    </tr>\n",
       "    <tr>\n",
       "      <th>21</th>\n",
       "      <td>1.628699e-07</td>\n",
       "      <td>2.053765e-11</td>\n",
       "      <td>10</td>\n",
       "      <td>6</td>\n",
       "      <td>1</td>\n",
       "      <td>`gtol` termination condition is satisfied.</td>\n",
       "      <td>True</td>\n",
       "    </tr>\n",
       "    <tr>\n",
       "      <th>22</th>\n",
       "      <td>1.633581e-07</td>\n",
       "      <td>3.415940e-11</td>\n",
       "      <td>6</td>\n",
       "      <td>3</td>\n",
       "      <td>1</td>\n",
       "      <td>`gtol` termination condition is satisfied.</td>\n",
       "      <td>True</td>\n",
       "    </tr>\n",
       "    <tr>\n",
       "      <th>23</th>\n",
       "      <td>3.013711e-07</td>\n",
       "      <td>9.276703e-11</td>\n",
       "      <td>16</td>\n",
       "      <td>13</td>\n",
       "      <td>1</td>\n",
       "      <td>`gtol` termination condition is satisfied.</td>\n",
       "      <td>True</td>\n",
       "    </tr>\n",
       "    <tr>\n",
       "      <th>24</th>\n",
       "      <td>3.023333e-07</td>\n",
       "      <td>5.896701e-11</td>\n",
       "      <td>6</td>\n",
       "      <td>4</td>\n",
       "      <td>1</td>\n",
       "      <td>`gtol` termination condition is satisfied.</td>\n",
       "      <td>True</td>\n",
       "    </tr>\n",
       "  </tbody>\n",
       "</table>\n",
       "</div>"
      ],
      "text/plain": [
       "            cost    optimality  nfev  njev  status  \\\n",
       "0   0.000000e+00  0.000000e+00     1     1       1   \n",
       "1   1.803773e-16  7.100204e-12    18     9       1   \n",
       "2   6.697355e-08  4.612108e-11    15    12       1   \n",
       "3   7.062310e-08  4.708548e-11     5     5       1   \n",
       "4   7.210432e-08  8.641638e-11     5     5       1   \n",
       "5   7.569806e-08  1.685985e-11     7     7       1   \n",
       "6   7.786978e-08  4.449111e-08     4     4       4   \n",
       "7   7.798816e-08  7.000612e-11     8     7       1   \n",
       "8   7.800064e-08  4.401090e-11     6     3       1   \n",
       "9   7.800135e-08  6.770454e-11     1     1       1   \n",
       "10  8.447189e-08  6.566343e-11     8     5       1   \n",
       "11  8.455753e-08  6.708984e-11     7     4       1   \n",
       "12  8.856382e-08  3.762183e-11     9     6       1   \n",
       "13  8.935009e-08  2.878860e-11     8     5       1   \n",
       "14  8.936488e-08  5.324491e-11     7     5       1   \n",
       "15  1.026291e-07  5.531709e-11    10     6       1   \n",
       "16  1.445166e-07  1.581929e-06     4     4       3   \n",
       "17  1.439254e-07  2.784108e-11     8     5       1   \n",
       "18  1.469179e-07  2.286566e-11     8     5       1   \n",
       "19  1.477084e-07  4.938278e-11     6     4       1   \n",
       "20  1.477115e-07  7.801400e-11     1     1       1   \n",
       "21  1.628699e-07  2.053765e-11    10     6       1   \n",
       "22  1.633581e-07  3.415940e-11     6     3       1   \n",
       "23  3.013711e-07  9.276703e-11    16    13       1   \n",
       "24  3.023333e-07  5.896701e-11     6     4       1   \n",
       "\n",
       "                                                         message  success  \n",
       "0                     `gtol` termination condition is satisfied.     True  \n",
       "1                     `gtol` termination condition is satisfied.     True  \n",
       "2                     `gtol` termination condition is satisfied.     True  \n",
       "3                     `gtol` termination condition is satisfied.     True  \n",
       "4                     `gtol` termination condition is satisfied.     True  \n",
       "5                     `gtol` termination condition is satisfied.     True  \n",
       "6   Both `ftol` and `xtol` termination conditions are satisfied.     True  \n",
       "7                     `gtol` termination condition is satisfied.     True  \n",
       "8                     `gtol` termination condition is satisfied.     True  \n",
       "9                     `gtol` termination condition is satisfied.     True  \n",
       "10                    `gtol` termination condition is satisfied.     True  \n",
       "11                    `gtol` termination condition is satisfied.     True  \n",
       "12                    `gtol` termination condition is satisfied.     True  \n",
       "13                    `gtol` termination condition is satisfied.     True  \n",
       "14                    `gtol` termination condition is satisfied.     True  \n",
       "15                    `gtol` termination condition is satisfied.     True  \n",
       "16                    `xtol` termination condition is satisfied.     True  \n",
       "17                    `gtol` termination condition is satisfied.     True  \n",
       "18                    `gtol` termination condition is satisfied.     True  \n",
       "19                    `gtol` termination condition is satisfied.     True  \n",
       "20                    `gtol` termination condition is satisfied.     True  \n",
       "21                    `gtol` termination condition is satisfied.     True  \n",
       "22                    `gtol` termination condition is satisfied.     True  \n",
       "23                    `gtol` termination condition is satisfied.     True  \n",
       "24                    `gtol` termination condition is satisfied.     True  "
      ]
     },
     "execution_count": 85,
     "metadata": {},
     "output_type": "execute_result"
    }
   ],
   "source": [
    "ls_res = fvm.show_ls_results()\n",
    "ls_res"
   ]
  },
  {
   "cell_type": "code",
   "execution_count": 75,
   "id": "fb099fcf",
   "metadata": {},
   "outputs": [
    {
     "data": {
      "text/plain": [
       "array([0.00060013, 0.00034391, 0.00022055, 0.00016116, 0.00013257,\n",
       "       0.0001188 , 0.00011218, 0.00010898, 0.00010745, 0.00010671,\n",
       "       0.00010635, 0.00010618, 0.0001061 , 0.00010606, 0.00010604,\n",
       "       0.00010603, 0.00010603, 0.00010602, 0.00010602, 0.00010602,\n",
       "       0.00010602, 0.00010602, 0.00010602, 0.00010602, 0.00010602,\n",
       "       0.00010602], dtype=float128)"
      ]
     },
     "execution_count": 75,
     "metadata": {},
     "output_type": "execute_result"
    }
   ],
   "source": [
    "fvm.h"
   ]
  },
  {
   "cell_type": "code",
   "execution_count": 76,
   "id": "17fc6964",
   "metadata": {},
   "outputs": [
    {
     "data": {
      "text/plain": [
       "[0.024497586556524727,\n",
       " 0.02595641356017127,\n",
       " 0.004699974963189532,\n",
       " 0.007562182838139188,\n",
       " 0.004456556026572827,\n",
       " 0.011363621370187172,\n",
       " 0.009817515960260561,\n",
       " 0.0025580423948282486,\n",
       " -0.002542182972745232,\n",
       " 0.002858513540824109,\n",
       " 0.011462479765255875,\n",
       " -0.0065563720076083545,\n",
       " 0.011274447054389618,\n",
       " -0.001230012455199932,\n",
       " 0.0066535704512181906,\n",
       " 0.014511322308137795,\n",
       " -0.018869573811179385,\n",
       " -0.008687663675911127,\n",
       " -0.0004940188533373923,\n",
       " 0.005803011631274049,\n",
       " 0.008340306008835919,\n",
       " -0.015854665547673043,\n",
       " -0.007088453629744421,\n",
       " -0.024900543873689656,\n",
       " 0.007950850297817643,\n",
       " -0.025959178553413127]"
      ]
     },
     "execution_count": 76,
     "metadata": {},
     "output_type": "execute_result"
    }
   ],
   "source": [
    "fvm.train_data.tolist()"
   ]
  },
  {
   "cell_type": "code",
   "execution_count": 77,
   "id": "4cfbf569",
   "metadata": {},
   "outputs": [
    {
     "data": {
      "text/plain": [
       "Series([], dtype: float64)"
      ]
     },
     "execution_count": 77,
     "metadata": {},
     "output_type": "execute_result"
    }
   ],
   "source": [
    "fvm.hist_output"
   ]
  },
  {
   "cell_type": "code",
   "execution_count": 78,
   "id": "330b52a1",
   "metadata": {
    "scrolled": true
   },
   "outputs": [
    {
     "data": {
      "text/plain": [
       "[{'alpha_0': array([0.00030007]),\n",
       "  'alpha': array([[0.01]]),\n",
       "  'beta': array([[0.49]])},\n",
       " {'alpha_0': array([0.00037382]),\n",
       "  'alpha': array([[0.00999555]]),\n",
       "  'beta': array([[0.48978198]])},\n",
       " {'alpha_0': array([6.99716213e-20], dtype=float128),\n",
       "  'alpha': array([[3.90115168e-08]], dtype=float128),\n",
       "  'beta': array([[0.64167288]], dtype=float128)},\n",
       " {'alpha_0': array([8.25197034e-36]),\n",
       "  'alpha': array([[1.01350166e-14]]),\n",
       "  'beta': array([[0.60099349]])},\n",
       " {'alpha_0': array([5.32969139e-35]),\n",
       "  'alpha': array([[1.90228826e-16]]),\n",
       "  'beta': array([[0.58605861]])},\n",
       " {'alpha_0': array([3.68964039e-43, 3.26838363e-41], dtype=float128),\n",
       "  'alpha': array([[8.29556335e-12, 8.29563459e-12]], dtype=float128),\n",
       "  'beta': array([[0.60160049, 0.60190858]], dtype=float128)},\n",
       " {'alpha_0': array([4.26788953e-11, 6.75969164e-06]),\n",
       "  'alpha': array([[9.60964136e-11, 9.60966476e-11]]),\n",
       "  'beta': array([[0.60162428, 0.6018714 ]])},\n",
       " {'alpha_0': array([5.14544869e-12, 3.50467871e-07]),\n",
       "  'alpha': array([[1.39676357e-12, 1.41499941e-12]]),\n",
       "  'beta': array([[0.60834292, 0.61024672]])},\n",
       " {'alpha_0': array([3.61860304e-12, 1.27104400e-08]),\n",
       "  'alpha': array([[2.35918939e-11, 2.36338897e-11]]),\n",
       "  'beta': array([[0.60890824, 0.61005373]])},\n",
       " {'alpha_0': array([1.000000e-10, 1.271044e-08]),\n",
       "  'alpha': array([[1.e-10, 1.e-10]]),\n",
       "  'beta': array([[0.60890824, 0.61005373]])},\n",
       " {'alpha_0': array([8.57798473e-06, 1.45547016e-05]),\n",
       "  'alpha': array([[2.22781072e-11, 2.23461706e-11]]),\n",
       "  'beta': array([[0.57747996, 0.57688668]])},\n",
       " {'alpha_0': array([6.83445143e-07, 2.45881949e-05]),\n",
       "  'alpha': array([[7.26485029e-11, 7.25925357e-11]]),\n",
       "  'beta': array([[0.57431412, 0.57466411]])},\n",
       " {'alpha_0': array([6.83407891e-06, 3.76286417e-05, 1.34121395e-05]),\n",
       "  'alpha': array([[8.14691220e-12, 8.17502059e-12, 8.16062177e-12]]),\n",
       "  'beta': array([[0.55629819, 0.55735738, 0.55701546]])},\n",
       " {'alpha_0': array([5.95298881e-06, 3.27572542e-05, 1.15065496e-05]),\n",
       "  'alpha': array([[9.20873578e-12, 9.44206025e-12, 9.28078091e-12]]),\n",
       "  'beta': array([[0.56403637, 0.56328162, 0.5631955 ]])},\n",
       " {'alpha_0': array([1.36158210e-05, 3.29033020e-05, 2.16580171e-05, 1.09948078e-09],\n",
       "        dtype=float128),\n",
       "  'alpha': array([[3.20655147e-11, 3.20259342e-11, 3.20228994e-11, 3.20358492e-11]],\n",
       "        dtype=float128),\n",
       "  'beta': array([[0.56357739, 0.56249869, 0.56211586, 0.56278069]], dtype=float128)},\n",
       " {'alpha_0': array([5.33183009e-05, 2.08811538e-05, 1.76789830e-05, 1.04492573e-05]),\n",
       "  'alpha': array([[1.94240015e-11, 1.93148371e-11, 1.92771894e-11, 1.91456859e-11]]),\n",
       "  'beta': array([[0.54038276, 0.54124888, 0.54138371, 0.54151593]])},\n",
       " {'alpha_0': array([6.31046436e-05, 2.43375182e-05, 1.74421821e-09, 5.40915575e-05],\n",
       "        dtype=float128),\n",
       "  'alpha': array([[1.00174236e-10, 1.00171561e-10, 1.00171138e-10, 1.00170735e-10]],\n",
       "        dtype=float128),\n",
       "  'beta': array([[0.54038353, 0.54124896, 0.54138368, 0.54151579]], dtype=float128)},\n",
       " {'alpha_0': array([7.49265683e-05, 2.55981357e-05, 1.83615606e-09, 5.70047466e-05]),\n",
       "  'alpha': array([[5.77947555e-12, 5.78212880e-13, 7.75883257e-13, 2.53009299e-21]]),\n",
       "  'beta': array([[0.51050612, 0.51098225, 0.51083852, 0.51103985]])},\n",
       " {'alpha_0': array([6.97727770e-05, 2.29532665e-05, 1.70594339e-09, 5.16757710e-05]),\n",
       "  'alpha': array([[4.18190296e-11, 4.11008065e-11, 4.06892874e-11, 4.15651643e-11]]),\n",
       "  'beta': array([[0.51743833, 0.51781021, 0.51758418, 0.51771072]])},\n",
       " {'alpha_0': array([6.69302529e-05, 2.18512145e-05, 1.72876736e-09, 4.95157982e-05,\n",
       "         3.43764891e-05]),\n",
       "  'alpha': array([[2.12518808e-11, 2.10387471e-11, 2.08238854e-11, 2.11940252e-11,\n",
       "          2.10796946e-11]]),\n",
       "  'beta': array([[0.52098767, 0.52085573, 0.52173973, 0.52092417, 0.52086416]])},\n",
       " {'alpha_0': array([6.69302529e-05, 2.18512145e-05, 1.72876736e-09, 4.95157982e-05,\n",
       "         3.43764891e-05]),\n",
       "  'alpha': array([[1.e-10, 1.e-10, 1.e-10, 1.e-10, 1.e-10]]),\n",
       "  'beta': array([[0.52098767, 0.52085573, 0.52173973, 0.52092417, 0.52086416]])},\n",
       " {'alpha_0': array([7.19710362e-05, 2.81483419e-05, 9.17090676e-06, 5.35544383e-05,\n",
       "         3.96296958e-05]),\n",
       "  'alpha': array([[1.89602835e-11, 1.89172253e-11, 1.87640701e-11, 1.89312124e-11,\n",
       "          1.89128184e-11]]),\n",
       "  'beta': array([[0.50834025, 0.50868896, 0.50877491, 0.50854524, 0.5086484 ]])},\n",
       " {'alpha_0': array([6.98303780e-05, 2.72903140e-05, 9.52193620e-06, 5.20891539e-05,\n",
       "         3.85601779e-05]),\n",
       "  'alpha': array([[7.05596908e-12, 7.03770180e-12, 6.95386343e-12, 7.05964660e-12,\n",
       "          7.05789073e-12]]),\n",
       "  'beta': array([[0.51072054, 0.51094748, 0.51034034, 0.51063945, 0.51066971]])},\n",
       " {'alpha_0': array([4.85783258e-08, 1.63961465e-04, 3.43526593e-05, 3.61024625e-05,\n",
       "         4.73544126e-05], dtype=float128),\n",
       "  'alpha': array([[2.12503822e-17, 8.07048678e-13, 1.24134581e-12, 2.71425743e-13,\n",
       "          1.66956760e-13]], dtype=float128),\n",
       "  'beta': array([[0.47917356, 0.47928557, 0.47779033, 0.47891363, 0.47908184]],\n",
       "        dtype=float128)},\n",
       " {'alpha_0': array([4.60278132e-08, 1.59943738e-04, 3.72067363e-05, 3.42137326e-05,\n",
       "         4.51098070e-05, 5.34766271e-05]),\n",
       "  'alpha': array([[1.85501479e-11, 1.87766835e-11, 1.84050808e-11, 1.85716982e-11,\n",
       "          1.86138258e-11, 1.86010733e-11]]),\n",
       "  'beta': array([[0.48128576, 0.48092216, 0.48245564, 0.48129413, 0.48121916,\n",
       "          0.48130439]])}]"
      ]
     },
     "execution_count": 78,
     "metadata": {},
     "output_type": "execute_result"
    }
   ],
   "source": [
    "fvm._parameters_hist"
   ]
  },
  {
   "cell_type": "markdown",
   "id": "451345f2",
   "metadata": {},
   "source": [
    "## Plots"
   ]
  },
  {
   "cell_type": "code",
   "execution_count": 87,
   "id": "a3bc9ca3",
   "metadata": {},
   "outputs": [
    {
     "data": {
      "image/png": "[encoded data removed]",
      "text/plain": [
       "<Figure size 640x480 with 1 Axes>"
      ]
     },
     "metadata": {},
     "output_type": "display_data"
    }
   ],
   "source": [
    "plt.plot(fvm.train_data[1:].values ** 2, label='original')\n",
    "plt.plot(fvm._hist_output, label='forecast')\n",
    "plt.plot(fvm.h[1:], label='$h_t$ latest')\n",
    "\n",
    "plt.legend()\n",
    "plt.grid()\n",
    "plt.show()"
   ]
  },
  {
   "cell_type": "code",
   "execution_count": 80,
   "id": "2fd8d88a",
   "metadata": {},
   "outputs": [
    {
     "data": {
      "image/png": "[encoded data removed]",
      "text/plain": [
       "<Figure size 640x480 with 1 Axes>"
      ]
     },
     "metadata": {},
     "output_type": "display_data"
    }
   ],
   "source": [
    "fvm.hist_output.plot(label='forecast')\n",
    "(test ** 2).plot(label='actual values')\n",
    "\n",
    "plt.legend()\n",
    "plt.grid()\n",
    "plt.show()"
   ]
  },
  {
   "cell_type": "code",
   "execution_count": 81,
   "id": "78cc15a2",
   "metadata": {},
   "outputs": [
    {
     "data": {
      "image/png": "[encoded data removed]",
      "text/plain": [
       "<Figure size 640x480 with 1 Axes>"
      ]
     },
     "metadata": {},
     "output_type": "display_data"
    }
   ],
   "source": [
    "fvm.hist_output.plot(label='forecast')\n",
    "(input_cut ** 2).plot(label='actual values')\n",
    "\n",
    "plt.legend()\n",
    "plt.grid()\n",
    "plt.show()"
   ]
  },
  {
   "cell_type": "code",
   "execution_count": 82,
   "id": "ee59ee57",
   "metadata": {
    "scrolled": false
   },
   "outputs": [
    {
     "ename": "TypeError",
     "evalue": "unsupported operand type(s) for -: 'int' and 'NoneType'",
     "output_type": "error",
     "traceback": [
      "\u001b[0;31m---------------------------------------------------------------------------\u001b[0m",
      "\u001b[0;31mTypeError\u001b[0m                                 Traceback (most recent call last)",
      "Input \u001b[0;32mIn [82]\u001b[0m, in \u001b[0;36m<cell line: 1>\u001b[0;34m()\u001b[0m\n\u001b[0;32m----> 1\u001b[0m _h_w_nans \u001b[38;5;241m=\u001b[39m np\u001b[38;5;241m.\u001b[39mconcatenate([[np\u001b[38;5;241m.\u001b[39mnan \u001b[38;5;28;01mfor\u001b[39;00m _ \u001b[38;5;129;01min\u001b[39;00m \u001b[38;5;28mrange\u001b[39m(\u001b[43minput_cut\u001b[49m\u001b[38;5;241;43m.\u001b[39;49m\u001b[43mshape\u001b[49m\u001b[43m[\u001b[49m\u001b[38;5;241;43m0\u001b[39;49m\u001b[43m]\u001b[49m\u001b[43m \u001b[49m\u001b[38;5;241;43m-\u001b[39;49m\u001b[43m \u001b[49m\u001b[43mn_points_fitting\u001b[49m)], fvm\u001b[38;5;241m.\u001b[39mh])\n\u001b[1;32m      3\u001b[0m plt\u001b[38;5;241m.\u001b[39mplot(_h_w_nans, label\u001b[38;5;241m=\u001b[39m\u001b[38;5;124m'\u001b[39m\u001b[38;5;124m$h_t$\u001b[39m\u001b[38;5;124m'\u001b[39m)\n\u001b[1;32m      4\u001b[0m plt\u001b[38;5;241m.\u001b[39mplot(input_cut\u001b[38;5;241m.\u001b[39mvalues \u001b[38;5;241m*\u001b[39m\u001b[38;5;241m*\u001b[39m \u001b[38;5;241m2\u001b[39m, label\u001b[38;5;241m=\u001b[39m\u001b[38;5;124m'\u001b[39m\u001b[38;5;124m$y_t^2$\u001b[39m\u001b[38;5;124m'\u001b[39m)\n",
      "\u001b[0;31mTypeError\u001b[0m: unsupported operand type(s) for -: 'int' and 'NoneType'"
     ]
    }
   ],
   "source": [
    "_h_w_nans = np.concatenate([[np.nan for _ in range(input_cut.shape[0] - n_points_fitting)], fvm.h])\n",
    "\n",
    "plt.plot(_h_w_nans, label='$h_t$')\n",
    "plt.plot(input_cut.values ** 2, label='$y_t^2$')\n",
    "\n",
    "plt.legend()\n",
    "plt.grid()\n",
    "plt.show()"
   ]
  },
  {
   "cell_type": "code",
   "execution_count": null,
   "id": "6f321f9e",
   "metadata": {},
   "outputs": [],
   "source": [
    "input_cut[-n_points_fitting:] ** 2"
   ]
  },
  {
   "cell_type": "code",
   "execution_count": null,
   "id": "1cf9ae48",
   "metadata": {
    "scrolled": true
   },
   "outputs": [],
   "source": [
    "fvm._h_hist"
   ]
  },
  {
   "cell_type": "code",
   "execution_count": null,
   "id": "0a3609cd",
   "metadata": {},
   "outputs": [],
   "source": [
    "fvm._hist_output"
   ]
  },
  {
   "cell_type": "code",
   "execution_count": null,
   "id": "a2732512",
   "metadata": {},
   "outputs": [],
   "source": [
    "_p = fvm._parameters_hist[-1]\n",
    "_p"
   ]
  },
  {
   "cell_type": "code",
   "execution_count": null,
   "id": "ec74afed",
   "metadata": {},
   "outputs": [],
   "source": [
    "calc_cond_var_fuzzy(_p['alpha_0'], _p['alpha'], _p['beta'],\n",
    "                    input_cut[-n_points_fitting:] ** 2, [input_cut[-n_points_fitting:][0]],\n",
    "                    fvm._membership_degrees_hist[-1])"
   ]
  },
  {
   "cell_type": "code",
   "execution_count": null,
   "id": "dcc9a596",
   "metadata": {},
   "outputs": [],
   "source": [
    "fvm._membership_degrees_hist[-1]"
   ]
  },
  {
   "cell_type": "markdown",
   "id": "fec70349",
   "metadata": {},
   "source": [
    "## Errors"
   ]
  },
  {
   "cell_type": "code",
   "execution_count": null,
   "id": "ac0a1f54",
   "metadata": {
    "scrolled": true
   },
   "outputs": [],
   "source": [
    "mean_squared_error(y_pred=fvm._hist_output, y_true=fvm.train_data[1:] ** 2, squared=True)"
   ]
  },
  {
   "cell_type": "code",
   "execution_count": null,
   "id": "734c3d7d",
   "metadata": {},
   "outputs": [],
   "source": [
    "rmse_ets = mean_squared_error(y_pred=fvm._hist_output, y_true=fvm.train_data[1:] ** 2, squared=False)\n",
    "rmse_ets"
   ]
  },
  {
   "cell_type": "code",
   "execution_count": null,
   "id": "18cebaf5",
   "metadata": {},
   "outputs": [],
   "source": [
    "mean_absolute_percentage_error(fvm._hist_output, fvm.train_data[1:] ** 2)"
   ]
  },
  {
   "cell_type": "markdown",
   "id": "8fff93f3",
   "metadata": {},
   "source": [
    "## RSS plots"
   ]
  },
  {
   "cell_type": "code",
   "execution_count": null,
   "id": "e4bc347c",
   "metadata": {},
   "outputs": [],
   "source": [
    "ranges = {}\n",
    "\n",
    "_step = .05\n",
    "ranges['alpha_0'] = np.arange(0, 1 + _step, _step)\n",
    "\n",
    "_step = .05\n",
    "ranges['alpha'] = np.arange(0, 1 + _step, _step)\n",
    "\n",
    "_step = .05\n",
    "ranges['beta'] = np.arange(0, 1 + _step, _step)"
   ]
  },
  {
   "cell_type": "code",
   "execution_count": null,
   "id": "72a4d9d7",
   "metadata": {},
   "outputs": [],
   "source": [
    "%%time\n",
    "\n",
    "rss = {'alpha_0': [], 'alpha': [], 'beta': []}\n",
    "\n",
    "for _param_1cl in ranges['alpha_0']:\n",
    "    _alpha_0 = np.concatenate([fvm.alpha_0[:-1], [_param_1cl]])\n",
    "    _params = pack_1d_parameters(_alpha_0, fvm.alpha, fvm.beta)\n",
    "    rss['alpha_0'].append((fvm._calc_residuals(_params) ** 2).sum())\n",
    "    \n",
    "for _param_1cl in ranges['alpha']:\n",
    "    _alpha = np.concatenate([fvm.alpha[:, :-1], [[_param_1cl]]], axis=1)\n",
    "    _params = pack_1d_parameters(fvm.alpha_0, _alpha, fvm.beta)\n",
    "    rss['alpha'].append((fvm._calc_residuals(_params) ** 2).sum())\n",
    "    \n",
    "for _param_1cl in ranges['beta']:\n",
    "    _beta = np.concatenate([fvm.beta[:, :-1], [[_param_1cl]]], axis=1)\n",
    "    _params = pack_1d_parameters(fvm.alpha_0, fvm.alpha, _beta)\n",
    "    rss['beta'].append((fvm._calc_residuals(_params) ** 2).sum())"
   ]
  },
  {
   "cell_type": "code",
   "execution_count": null,
   "id": "647110c9",
   "metadata": {
    "scrolled": true
   },
   "outputs": [],
   "source": [
    "%%time\n",
    "\n",
    "rss = {'alpha_0': {i: [] for i in range(n_clusters)},\n",
    "       'alpha': {i: [] for i in range(n_clusters)},\n",
    "       'beta': {i: [] for i in range(n_clusters)}}\n",
    "\n",
    "for i in range(n_clusters):\n",
    "    for _param_1cl in ranges['alpha_0']:\n",
    "        _alpha_0 = np.concatenate([fvm.alpha_0[:i], [_param_1cl], fvm.alpha_0[i + 1:]])\n",
    "        \n",
    "        _params = pack_1d_parameters(_alpha_0, fvm.alpha, fvm.beta)\n",
    "        rss['alpha_0'][i].append((fvm._calc_residuals(_params) ** 2).sum())\n",
    "\n",
    "_par_name = 'alpha'\n",
    "for i in range(n_clusters):\n",
    "    for _param_1cl in ranges[_par_name]:\n",
    "        _alpha = fvm.alpha.copy()\n",
    "        _alpha[0, i] = _param_1cl\n",
    "        \n",
    "        _params = pack_1d_parameters(fvm.alpha_0, _alpha, fvm.beta)\n",
    "        rss[_par_name][i].append((fvm._calc_residuals(_params) ** 2).sum())\n",
    "       \n",
    "_par_name = 'beta'\n",
    "for i in range(n_clusters):\n",
    "    for _param_1cl in ranges[_par_name]:\n",
    "        _beta = fvm.alpha.copy()\n",
    "        _beta[0, i] = _param_1cl\n",
    "        \n",
    "        _params = pack_1d_parameters(fvm.alpha_0, fvm.alpha, _beta)\n",
    "        rss[_par_name][i].append((fvm._calc_residuals(_params) ** 2).sum())"
   ]
  },
  {
   "cell_type": "code",
   "execution_count": null,
   "id": "91948849",
   "metadata": {
    "scrolled": true
   },
   "outputs": [],
   "source": [
    "for _param, _rss_cl in rss.items():\n",
    "    for _cl, _rss in _rss_cl.items():\n",
    "        plt.plot(ranges[_param], _rss)\n",
    "\n",
    "        plt.grid()\n",
    "        plt.title(_param + '\\n' + f'cluster #{_cl}')\n",
    "        plt.show()"
   ]
  },
  {
   "cell_type": "markdown",
   "id": "18a15b1b",
   "metadata": {},
   "source": [
    "# Model w/o seasoning"
   ]
  },
  {
   "cell_type": "code",
   "execution_count": null,
   "id": "fdb6931a",
   "metadata": {},
   "outputs": [],
   "source": [
    "lower_bounds_2 = [0] * (1 + p + q) * n_clusters_2\n",
    "upper_bounds_2 = [+np.inf] * n_clusters_2 + [1] * (p + q) * n_clusters_2\n",
    "bounds_2 = (lower_bounds_2, upper_bounds_2)"
   ]
  },
  {
   "cell_type": "code",
   "execution_count": null,
   "id": "6fdf3652",
   "metadata": {},
   "outputs": [],
   "source": [
    "alpha_0_ini_2 = np.array([garch_fitted.params.iloc[0] for _ in range(n_clusters_2)])\n",
    "alpha_ini_2 = np.array([garch_fitted.params.iloc[1:(q + 1)].values for _ in range(n_clusters_2)])\n",
    "beta_ini_2 = np.array([garch_fitted.params.iloc[(q + 1):].values for _ in range(n_clusters_2)])"
   ]
  },
  {
   "cell_type": "code",
   "execution_count": null,
   "id": "a67b301b",
   "metadata": {},
   "outputs": [],
   "source": [
    "parameters_ini_2 = {'alpha_0': alpha_0_ini_2, 'alpha': alpha_ini_2, 'beta': beta_ini_2}"
   ]
  },
  {
   "cell_type": "code",
   "execution_count": null,
   "id": "50ef1cbb",
   "metadata": {},
   "outputs": [],
   "source": [
    "local_method_parameters_2 = local_method_parameters.copy()\n",
    "local_method_parameters_2['bounds'] = bounds_2\n",
    "local_method_parameters_2['parameters_ini'] = parameters_ini_2"
   ]
  },
  {
   "cell_type": "code",
   "execution_count": null,
   "id": "16c3eb7b",
   "metadata": {},
   "outputs": [],
   "source": [
    "fvm_vanilla = FuzzyVolatilityModel(train,\n",
    "                           clusterization_method=clusterization_methods[1],\n",
    "                           clusterization_parameters=clusterization_parameters[1],\n",
    "                           local_method=local_method,\n",
    "                           local_method_parameters=local_method_parameters_2,\n",
    "                           n_last_points_to_use_for_clustering=n_last_points_to_use_for_clustering[1],\n",
    "                           data_to_cluster=data_to_cluster[1],\n",
    "                           cluster_sets_conjunction=cluster_sets_conjunction)"
   ]
  },
  {
   "cell_type": "markdown",
   "id": "850c6a7f",
   "metadata": {},
   "source": [
    "## `fit`"
   ]
  },
  {
   "cell_type": "code",
   "execution_count": null,
   "id": "11d8ef3d",
   "metadata": {},
   "outputs": [],
   "source": [
    "%%time\n",
    "\n",
    "fvm_vanilla.cluster()"
   ]
  },
  {
   "cell_type": "code",
   "execution_count": null,
   "id": "07786a21",
   "metadata": {
    "scrolled": true
   },
   "outputs": [],
   "source": [
    "%%time\n",
    "\n",
    "fvm_vanilla.fit()"
   ]
  },
  {
   "cell_type": "code",
   "execution_count": null,
   "id": "08143bd8",
   "metadata": {},
   "outputs": [],
   "source": [
    "n_last_points_to_use_for_clustering"
   ]
  },
  {
   "cell_type": "code",
   "execution_count": null,
   "id": "18921ce4",
   "metadata": {},
   "outputs": [],
   "source": [
    "fvm_vanilla.alpha_0"
   ]
  },
  {
   "cell_type": "code",
   "execution_count": null,
   "id": "a5f5154b",
   "metadata": {},
   "outputs": [],
   "source": [
    "fvm_vanilla.alpha"
   ]
  },
  {
   "cell_type": "code",
   "execution_count": null,
   "id": "815cccd7",
   "metadata": {},
   "outputs": [],
   "source": [
    "fvm_vanilla.beta"
   ]
  },
  {
   "cell_type": "code",
   "execution_count": null,
   "id": "bf955be6",
   "metadata": {},
   "outputs": [],
   "source": [
    "garch_fitted.params"
   ]
  },
  {
   "cell_type": "code",
   "execution_count": null,
   "id": "a8e8ccca",
   "metadata": {},
   "outputs": [],
   "source": [
    "fvm_vanilla._parameters_hist"
   ]
  },
  {
   "cell_type": "code",
   "execution_count": null,
   "id": "e14efe5d",
   "metadata": {},
   "outputs": [],
   "source": [
    "fvm_vanilla.membership_degrees_current"
   ]
  },
  {
   "cell_type": "code",
   "execution_count": null,
   "id": "b26c6bc0",
   "metadata": {},
   "outputs": [],
   "source": [
    "fvm_vanilla.clusters_parameters_current"
   ]
  },
  {
   "cell_type": "code",
   "execution_count": null,
   "id": "05fcfdd1",
   "metadata": {},
   "outputs": [],
   "source": [
    "data_to_cluster"
   ]
  },
  {
   "cell_type": "code",
   "execution_count": null,
   "id": "5641e255",
   "metadata": {},
   "outputs": [],
   "source": [
    "fvm_vanilla._membership_degrees_hist"
   ]
  },
  {
   "cell_type": "code",
   "execution_count": null,
   "id": "2da735ae",
   "metadata": {},
   "outputs": [],
   "source": [
    "fvm_vanilla.train_data"
   ]
  },
  {
   "cell_type": "markdown",
   "id": "3c8686b2",
   "metadata": {},
   "source": [
    "## `forecast`"
   ]
  },
  {
   "cell_type": "code",
   "execution_count": null,
   "id": "154aed08",
   "metadata": {},
   "outputs": [],
   "source": [
    "fvm_vanilla.forecast()"
   ]
  },
  {
   "cell_type": "code",
   "execution_count": null,
   "id": "a3711b8d",
   "metadata": {},
   "outputs": [],
   "source": [
    "fvm_vanilla.current_output"
   ]
  },
  {
   "cell_type": "code",
   "execution_count": null,
   "id": "3f041306",
   "metadata": {},
   "outputs": [],
   "source": [
    "fvm_vanilla._hist_output"
   ]
  },
  {
   "cell_type": "code",
   "execution_count": null,
   "id": "61a8cef9",
   "metadata": {
    "scrolled": true
   },
   "outputs": [],
   "source": [
    "plt.plot(fvm_vanilla.h, label='sqrt(h_t)')\n",
    "plt.plot(train.values ** 2, label='y_t')\n",
    "\n",
    "plt.legend()\n",
    "plt.grid()\n",
    "plt.show()"
   ]
  },
  {
   "cell_type": "code",
   "execution_count": null,
   "id": "a697a9cb",
   "metadata": {},
   "outputs": [],
   "source": [
    "fvm_vanilla.h"
   ]
  },
  {
   "cell_type": "markdown",
   "id": "049534ac",
   "metadata": {},
   "source": [
    "## `feed_daily_data`"
   ]
  },
  {
   "cell_type": "code",
   "execution_count": null,
   "id": "deacac68",
   "metadata": {},
   "outputs": [],
   "source": [
    "# n_test_small = 10\n",
    "# test_small = test.iloc[:n_test_small].copy()\n",
    "# input_cut = pd.concat([train, test_small]).copy()\n",
    "\n",
    "# data_to_cluster_test_1 = pd.Series(test_small.index.dayofweek + 1, index=test_small.index).copy()\n",
    "# data_to_cluster_test_2 = 'train'\n",
    "# data_to_cluster_test = [data_to_cluster_test_1, data_to_cluster_test_2]"
   ]
  },
  {
   "cell_type": "code",
   "execution_count": null,
   "id": "52707074",
   "metadata": {
    "scrolled": false
   },
   "outputs": [],
   "source": [
    "%%time\n",
    "\n",
    "fvm_vanilla.feed_daily_data(test_small, data_to_cluster=data_to_cluster_test_2)"
   ]
  },
  {
   "cell_type": "code",
   "execution_count": null,
   "id": "550b604f",
   "metadata": {},
   "outputs": [],
   "source": [
    "fvm_vanilla.data_to_cluster"
   ]
  },
  {
   "cell_type": "code",
   "execution_count": null,
   "id": "e6c248b7",
   "metadata": {},
   "outputs": [],
   "source": [
    "len(fvm_vanilla._hist_output)"
   ]
  },
  {
   "cell_type": "code",
   "execution_count": null,
   "id": "dbc2472f",
   "metadata": {},
   "outputs": [],
   "source": [
    "fvm_vanilla.h"
   ]
  },
  {
   "cell_type": "code",
   "execution_count": null,
   "id": "194e83d9",
   "metadata": {},
   "outputs": [],
   "source": [
    "_.shape"
   ]
  },
  {
   "cell_type": "code",
   "execution_count": null,
   "id": "ad1ae40a",
   "metadata": {},
   "outputs": [],
   "source": [
    "fvm_vanilla.data_to_cluster[-10:]"
   ]
  },
  {
   "cell_type": "code",
   "execution_count": null,
   "id": "4da79e98",
   "metadata": {},
   "outputs": [],
   "source": [
    "fvm_vanilla.membership_degrees_hist"
   ]
  },
  {
   "cell_type": "code",
   "execution_count": null,
   "id": "4358e76c",
   "metadata": {},
   "outputs": [],
   "source": [
    "fvm_vanilla.hist_output"
   ]
  },
  {
   "cell_type": "code",
   "execution_count": null,
   "id": "8f612b7c",
   "metadata": {},
   "outputs": [],
   "source": [
    "test"
   ]
  },
  {
   "cell_type": "code",
   "execution_count": null,
   "id": "893712be",
   "metadata": {},
   "outputs": [],
   "source": [
    "fvm_vanilla.membership_degrees_current"
   ]
  },
  {
   "cell_type": "code",
   "execution_count": null,
   "id": "11acb59e",
   "metadata": {},
   "outputs": [],
   "source": [
    "fvm_vanilla.clusterization_parameters"
   ]
  },
  {
   "cell_type": "code",
   "execution_count": null,
   "id": "82d32c14",
   "metadata": {
    "scrolled": true
   },
   "outputs": [],
   "source": [
    "fvm_vanilla._parameters_hist"
   ]
  },
  {
   "cell_type": "markdown",
   "id": "70f4fd09",
   "metadata": {},
   "source": [
    "### Plots"
   ]
  },
  {
   "cell_type": "code",
   "execution_count": null,
   "id": "7f68c3af",
   "metadata": {},
   "outputs": [],
   "source": [
    "plt.plot((np.array(fvm_vanilla._hist_output) ** .5), label='forecast')\n",
    "plt.plot(test_small.values, label='actual values')\n",
    "\n",
    "plt.legend()\n",
    "plt.grid()\n",
    "plt.show()"
   ]
  },
  {
   "cell_type": "code",
   "execution_count": null,
   "id": "2ae102a3",
   "metadata": {},
   "outputs": [],
   "source": [
    "(fvm_vanilla.hist_output ** .5).plot(label='forecast')\n",
    "test_small.plot(label='actual values')\n",
    "\n",
    "plt.legend()\n",
    "plt.grid()\n",
    "plt.show()"
   ]
  },
  {
   "cell_type": "code",
   "execution_count": null,
   "id": "c002898f",
   "metadata": {},
   "outputs": [],
   "source": [
    "(fvm_vanilla.hist_output ** .5).plot(label='forecast', figsize=(15, 8))\n",
    "input_cut.plot(label='actual values')\n",
    "\n",
    "plt.legend()\n",
    "plt.grid()\n",
    "plt.show()"
   ]
  },
  {
   "cell_type": "markdown",
   "id": "6b2e8ae4",
   "metadata": {},
   "source": [
    "### Errors"
   ]
  },
  {
   "cell_type": "code",
   "execution_count": null,
   "id": "c307806d",
   "metadata": {
    "scrolled": true
   },
   "outputs": [],
   "source": [
    "mean_squared_error(fvm_vanilla.hist_output ** .5, test_small, squared=True)"
   ]
  },
  {
   "cell_type": "code",
   "execution_count": null,
   "id": "87294864",
   "metadata": {},
   "outputs": [],
   "source": [
    "_ / mean_squared_error(fvm.hist_output ** .5, test_small, squared=True)"
   ]
  },
  {
   "cell_type": "code",
   "execution_count": null,
   "id": "f13748a2",
   "metadata": {},
   "outputs": [],
   "source": [
    "(_ - 1) * 100"
   ]
  },
  {
   "cell_type": "code",
   "execution_count": null,
   "id": "6b445093",
   "metadata": {},
   "outputs": [],
   "source": [
    "mean_squared_error(fvm_vanilla.hist_output ** .5, test_small, squared=False)"
   ]
  },
  {
   "cell_type": "code",
   "execution_count": null,
   "id": "6ecc2ea7",
   "metadata": {},
   "outputs": [],
   "source": [
    "mean_absolute_percentage_error(fvm_vanilla.hist_output ** .5, test_small)"
   ]
  },
  {
   "cell_type": "markdown",
   "id": "f527df76",
   "metadata": {},
   "source": [
    "## Diff w/ seasonal model"
   ]
  },
  {
   "cell_type": "code",
   "execution_count": null,
   "id": "33f7a5c5",
   "metadata": {},
   "outputs": [],
   "source": [
    "np.array(fvm._hist_output) - np.array(fvm_vanilla._hist_output)"
   ]
  },
  {
   "cell_type": "code",
   "execution_count": null,
   "id": "3458d28c",
   "metadata": {},
   "outputs": [],
   "source": [
    "_.mean()"
   ]
  },
  {
   "cell_type": "markdown",
   "id": "592c5dad",
   "metadata": {},
   "source": [
    "## Same data fed to GARCH(1, 1)"
   ]
  },
  {
   "cell_type": "markdown",
   "id": "ba0e281d",
   "metadata": {},
   "source": [
    "### No retraining"
   ]
  },
  {
   "cell_type": "code",
   "execution_count": null,
   "id": "528064bb",
   "metadata": {},
   "outputs": [],
   "source": [
    "model = arch_model(train,\n",
    "                   mean=local_method_parameters['mean'],\n",
    "                   vol='GARCH', p=local_method_parameters['p'],\n",
    "                   q=local_method_parameters['q'],\n",
    "                   dist=local_method_parameters['dist'])"
   ]
  },
  {
   "cell_type": "code",
   "execution_count": null,
   "id": "530db4c6",
   "metadata": {},
   "outputs": [],
   "source": [
    "model.volatility"
   ]
  },
  {
   "cell_type": "code",
   "execution_count": null,
   "id": "bb9ee778",
   "metadata": {},
   "outputs": [],
   "source": [
    "fitted = model.fit()"
   ]
  },
  {
   "cell_type": "code",
   "execution_count": null,
   "id": "c54be497",
   "metadata": {},
   "outputs": [],
   "source": [
    "fitted.summary"
   ]
  },
  {
   "cell_type": "code",
   "execution_count": null,
   "id": "a3585cd3",
   "metadata": {},
   "outputs": [],
   "source": [
    "fitted.params"
   ]
  },
  {
   "cell_type": "code",
   "execution_count": null,
   "id": "7e9d7b7d",
   "metadata": {},
   "outputs": [],
   "source": [
    "fvm.alpha_0"
   ]
  },
  {
   "cell_type": "code",
   "execution_count": null,
   "id": "35a92d77",
   "metadata": {},
   "outputs": [],
   "source": [
    "fvm.alpha"
   ]
  },
  {
   "cell_type": "code",
   "execution_count": null,
   "id": "c56cc12f",
   "metadata": {},
   "outputs": [],
   "source": [
    "fvm.beta"
   ]
  },
  {
   "cell_type": "code",
   "execution_count": null,
   "id": "fe5ba7e6",
   "metadata": {},
   "outputs": [],
   "source": [
    "forecast = fitted.forecast(reindex=False, horizon=1)"
   ]
  },
  {
   "cell_type": "code",
   "execution_count": null,
   "id": "18ec4493",
   "metadata": {},
   "outputs": [],
   "source": [
    "forecast_variance = forecast.variance.iloc[0]"
   ]
  },
  {
   "cell_type": "code",
   "execution_count": null,
   "id": "024c2b0a",
   "metadata": {},
   "outputs": [],
   "source": [
    "forecast_variance"
   ]
  },
  {
   "cell_type": "code",
   "execution_count": null,
   "id": "bd541618",
   "metadata": {},
   "outputs": [],
   "source": [
    "simple_garch_forecasts = garch_fitted.forecast(horizon=n_test, reindex=False).variance.iloc[0].values"
   ]
  },
  {
   "cell_type": "code",
   "execution_count": null,
   "id": "6f77383a",
   "metadata": {},
   "outputs": [],
   "source": [
    "mean_squared_error(simple_garch_forecasts, test_small ** 2, squared=True)"
   ]
  },
  {
   "cell_type": "markdown",
   "id": "2c3d954d",
   "metadata": {},
   "source": [
    "### With retraining"
   ]
  },
  {
   "cell_type": "code",
   "execution_count": null,
   "id": "2c4c5280",
   "metadata": {},
   "outputs": [],
   "source": [
    "%%time\n",
    "\n",
    "forecast_garch_wr = \\\n",
    "    calculate_retraining_garch_forecasts(train, fvm.train_data[1:],\n",
    "                                         mean=garch_mean,\n",
    "                                         vol='GARCH',\n",
    "                                         p=p,\n",
    "                                         q=q,\n",
    "                                         dist=garch_dist)"
   ]
  },
  {
   "cell_type": "code",
   "execution_count": null,
   "id": "b2048ba1",
   "metadata": {},
   "outputs": [],
   "source": [
    "rmse_vanilla_wr = mean_squared_error(y_true=fvm.train_data[1:] ** 2, y_pred=forecast_garch_wr, squared=False)\n",
    "rmse_vanilla_wr"
   ]
  },
  {
   "cell_type": "code",
   "execution_count": null,
   "id": "0d62fcc9",
   "metadata": {},
   "outputs": [],
   "source": [
    "mean_squared_error(y_true=fvm.train_data[1:101] ** 2, y_pred=forecast_garch_wr[:100], squared=False)"
   ]
  },
  {
   "cell_type": "code",
   "execution_count": null,
   "id": "30dbbb47",
   "metadata": {},
   "outputs": [],
   "source": [
    "mean_squared_error(y_pred=fvm._hist_output[:100], y_true=fvm.train_data[1:101] ** 2, squared=False)"
   ]
  },
  {
   "cell_type": "code",
   "execution_count": null,
   "id": "4c92fe4f",
   "metadata": {},
   "outputs": [],
   "source": [
    "rmse_vanilla_wr == rmse_ets"
   ]
  },
  {
   "cell_type": "code",
   "execution_count": null,
   "id": "348f93ef",
   "metadata": {},
   "outputs": [],
   "source": [
    "def calc_vanilla_garch_wr_mse(info, data, garch_mean, garch_vol, garch_dist):\n",
    "    train_size = info.loc['Train size']\n",
    "    test_size = info.loc['Test size']\n",
    "    p = info.loc['p']\n",
    "    q = info.loc['q']\n",
    "    \n",
    "    train = data[info.loc['Start date']:].iloc[:train_size]\n",
    "    test = data[info.loc['Start date']:].iloc[train_size:(train_size + test_size)]\n",
    "    \n",
    "    forecast = calculate_retraining_garch_forecasts(train, test,\n",
    "                                                    mean=garch_mean,\n",
    "                                                    vol=garch_vol,\n",
    "                                                    p=p,\n",
    "                                                    q=q,\n",
    "                                                    dist=garch_dist)\n",
    "    \n",
    "    mse = mean_squared_error(forecast, test ** 2, squared=True)\n",
    "    \n",
    "    return mse"
   ]
  },
  {
   "cell_type": "markdown",
   "id": "8f4daa9b",
   "metadata": {},
   "source": [
    "# Plots"
   ]
  },
  {
   "cell_type": "code",
   "execution_count": null,
   "id": "70317282",
   "metadata": {},
   "outputs": [],
   "source": [
    "plt.plot(fvm.train_data[1:].values ** 2, label='original')\n",
    "plt.plot(fvm._hist_output, label='forecast fuzzy GARCH')\n",
    "plt.plot(forecast_garch_wr, label='forecast vanilla GARCH')\n",
    "\n",
    "plt.legend()\n",
    "plt.grid()\n",
    "plt.show()"
   ]
  }
 ],
 "metadata": {
  "kernelspec": {
   "display_name": "Python 3 (ipykernel)",
   "language": "python",
   "name": "python3"
  },
  "language_info": {
   "codemirror_mode": {
    "name": "ipython",
    "version": 3
   },
   "file_extension": ".py",
   "mimetype": "text/x-python",
   "name": "python",
   "nbconvert_exporter": "python",
   "pygments_lexer": "ipython3",
   "version": "3.9.7"
  }
 },
 "nbformat": 4,
 "nbformat_minor": 5
}
