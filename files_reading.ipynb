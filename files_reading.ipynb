{
 "cells": [
  {
   "cell_type": "code",
   "execution_count": 1,
   "id": "119d9a44",
   "metadata": {},
   "outputs": [],
   "source": [
    "import pandas as pd\n",
    "import json"
   ]
  },
  {
   "cell_type": "code",
   "execution_count": 2,
   "id": "23705bce",
   "metadata": {},
   "outputs": [],
   "source": [
    "from auxiliary import calc_log_returns"
   ]
  },
  {
   "cell_type": "code",
   "execution_count": 3,
   "id": "72621e09",
   "metadata": {
    "scrolled": true
   },
   "outputs": [],
   "source": [
    "with open('config.json') as file:\n",
    "    config = json.load(file)"
   ]
  },
  {
   "cell_type": "code",
   "execution_count": 4,
   "id": "05662e70",
   "metadata": {},
   "outputs": [],
   "source": [
    "SOURCE_FOLDER = config['files_folders']['source']\n",
    "OUTPUT_FOLDER = config['files_folders']['processed']"
   ]
  },
  {
   "cell_type": "markdown",
   "id": "db8ffadc",
   "metadata": {},
   "source": [
    "# RTSI history"
   ]
  },
  {
   "cell_type": "code",
   "execution_count": 52,
   "id": "71e77c57",
   "metadata": {
    "scrolled": true
   },
   "outputs": [],
   "source": [
    "rtsi = pd.read_csv(f'{SOURCE_FOLDER}/RTSI_hist_2022-10-04.csv', sep=',')"
   ]
  },
  {
   "cell_type": "code",
   "execution_count": 53,
   "id": "9082f7cd",
   "metadata": {},
   "outputs": [],
   "source": [
    "if (rtsi['<TICKER>'] != 'RTSI').any():\n",
    "    raise Exception('There are extra tickers')"
   ]
  },
  {
   "cell_type": "code",
   "execution_count": 54,
   "id": "4782abb8",
   "metadata": {},
   "outputs": [],
   "source": [
    "if (rtsi['<TIME>'] != '00:00:00').any():\n",
    "    raise Exception('Not all times are 00:00:00')"
   ]
  },
  {
   "cell_type": "code",
   "execution_count": 55,
   "id": "50a9e501",
   "metadata": {
    "scrolled": true
   },
   "outputs": [],
   "source": [
    "rtsi.drop(columns=['<PER>', '<TIME>', '<TICKER>'], inplace=True)"
   ]
  },
  {
   "cell_type": "code",
   "execution_count": 56,
   "id": "88223cde",
   "metadata": {},
   "outputs": [],
   "source": [
    "rtsi['<DATE>'] = pd.to_datetime(rtsi['<DATE>'], format='%Y%m%d')\n",
    "rtsi.set_index('<DATE>', inplace=True, verify_integrity=True)\n",
    "rtsi.sort_index(inplace=True)"
   ]
  },
  {
   "cell_type": "code",
   "execution_count": 57,
   "id": "34f2180a",
   "metadata": {},
   "outputs": [],
   "source": [
    "rtsi['return'] = rtsi['<CLOSE>'].pct_change(1)\n",
    "rtsi['log return'] = calc_log_returns(rtsi['<CLOSE>'])  # rtsi['<CLOSE>'].rolling(2).apply(lambda values: np.log(values[1] / values[0])).copy()\n",
    "\n",
    "rtsi = rtsi.iloc[1:].copy()"
   ]
  },
  {
   "cell_type": "code",
   "execution_count": 58,
   "id": "c2fb0e47",
   "metadata": {},
   "outputs": [
    {
     "data": {
      "text/plain": [
       "<OPEN>        False\n",
       "<HIGH>        False\n",
       "<LOW>         False\n",
       "<CLOSE>       False\n",
       "<VOL>         False\n",
       "return        False\n",
       "log return    False\n",
       "dtype: bool"
      ]
     },
     "execution_count": 58,
     "metadata": {},
     "output_type": "execute_result"
    }
   ],
   "source": [
    "rtsi.isna().any()"
   ]
  },
  {
   "cell_type": "code",
   "execution_count": 59,
   "id": "4e0f5233",
   "metadata": {},
   "outputs": [
    {
     "data": {
      "text/html": [
       "<div>\n",
       "<style scoped>\n",
       "    .dataframe tbody tr th:only-of-type {\n",
       "        vertical-align: middle;\n",
       "    }\n",
       "\n",
       "    .dataframe tbody tr th {\n",
       "        vertical-align: top;\n",
       "    }\n",
       "\n",
       "    .dataframe thead th {\n",
       "        text-align: right;\n",
       "    }\n",
       "</style>\n",
       "<table border=\"1\" class=\"dataframe\">\n",
       "  <thead>\n",
       "    <tr style=\"text-align: right;\">\n",
       "      <th></th>\n",
       "      <th>&lt;OPEN&gt;</th>\n",
       "      <th>&lt;HIGH&gt;</th>\n",
       "      <th>&lt;LOW&gt;</th>\n",
       "      <th>&lt;CLOSE&gt;</th>\n",
       "      <th>&lt;VOL&gt;</th>\n",
       "      <th>return</th>\n",
       "      <th>log return</th>\n",
       "    </tr>\n",
       "    <tr>\n",
       "      <th>&lt;DATE&gt;</th>\n",
       "      <th></th>\n",
       "      <th></th>\n",
       "      <th></th>\n",
       "      <th></th>\n",
       "      <th></th>\n",
       "      <th></th>\n",
       "      <th></th>\n",
       "    </tr>\n",
       "  </thead>\n",
       "  <tbody>\n",
       "    <tr>\n",
       "      <th>1995-09-04</th>\n",
       "      <td>99.80</td>\n",
       "      <td>99.80</td>\n",
       "      <td>99.80</td>\n",
       "      <td>99.80</td>\n",
       "      <td>1000395</td>\n",
       "      <td>-0.002000</td>\n",
       "      <td>-0.002002</td>\n",
       "    </tr>\n",
       "    <tr>\n",
       "      <th>1995-09-05</th>\n",
       "      <td>100.42</td>\n",
       "      <td>100.42</td>\n",
       "      <td>100.42</td>\n",
       "      <td>100.42</td>\n",
       "      <td>1669902</td>\n",
       "      <td>0.006212</td>\n",
       "      <td>0.006193</td>\n",
       "    </tr>\n",
       "    <tr>\n",
       "      <th>1995-09-06</th>\n",
       "      <td>99.74</td>\n",
       "      <td>99.74</td>\n",
       "      <td>99.74</td>\n",
       "      <td>99.74</td>\n",
       "      <td>927829</td>\n",
       "      <td>-0.006772</td>\n",
       "      <td>-0.006795</td>\n",
       "    </tr>\n",
       "    <tr>\n",
       "      <th>1995-09-07</th>\n",
       "      <td>101.30</td>\n",
       "      <td>101.30</td>\n",
       "      <td>101.30</td>\n",
       "      <td>101.30</td>\n",
       "      <td>2153945</td>\n",
       "      <td>0.015641</td>\n",
       "      <td>0.015520</td>\n",
       "    </tr>\n",
       "    <tr>\n",
       "      <th>1995-09-08</th>\n",
       "      <td>101.30</td>\n",
       "      <td>101.30</td>\n",
       "      <td>101.30</td>\n",
       "      <td>101.30</td>\n",
       "      <td>1318431</td>\n",
       "      <td>0.000000</td>\n",
       "      <td>0.000000</td>\n",
       "    </tr>\n",
       "    <tr>\n",
       "      <th>...</th>\n",
       "      <td>...</td>\n",
       "      <td>...</td>\n",
       "      <td>...</td>\n",
       "      <td>...</td>\n",
       "      <td>...</td>\n",
       "      <td>...</td>\n",
       "      <td>...</td>\n",
       "    </tr>\n",
       "    <tr>\n",
       "      <th>2022-09-28</th>\n",
       "      <td>1055.17</td>\n",
       "      <td>1082.49</td>\n",
       "      <td>1050.69</td>\n",
       "      <td>1074.57</td>\n",
       "      <td>860170151</td>\n",
       "      <td>0.020039</td>\n",
       "      <td>0.019841</td>\n",
       "    </tr>\n",
       "    <tr>\n",
       "      <th>2022-09-29</th>\n",
       "      <td>1089.57</td>\n",
       "      <td>1092.62</td>\n",
       "      <td>1054.68</td>\n",
       "      <td>1072.26</td>\n",
       "      <td>746668464</td>\n",
       "      <td>-0.002150</td>\n",
       "      <td>-0.002152</td>\n",
       "    </tr>\n",
       "    <tr>\n",
       "      <th>2022-09-30</th>\n",
       "      <td>1094.77</td>\n",
       "      <td>1172.16</td>\n",
       "      <td>1037.78</td>\n",
       "      <td>1055.72</td>\n",
       "      <td>1940913502</td>\n",
       "      <td>-0.015425</td>\n",
       "      <td>-0.015546</td>\n",
       "    </tr>\n",
       "    <tr>\n",
       "      <th>2022-10-03</th>\n",
       "      <td>1080.33</td>\n",
       "      <td>1116.09</td>\n",
       "      <td>1070.10</td>\n",
       "      <td>1091.87</td>\n",
       "      <td>765414097</td>\n",
       "      <td>0.034242</td>\n",
       "      <td>0.033669</td>\n",
       "    </tr>\n",
       "    <tr>\n",
       "      <th>2022-10-04</th>\n",
       "      <td>1103.82</td>\n",
       "      <td>1115.63</td>\n",
       "      <td>1080.17</td>\n",
       "      <td>1100.14</td>\n",
       "      <td>806795293</td>\n",
       "      <td>0.007574</td>\n",
       "      <td>0.007546</td>\n",
       "    </tr>\n",
       "  </tbody>\n",
       "</table>\n",
       "<p>6771 rows × 7 columns</p>\n",
       "</div>"
      ],
      "text/plain": [
       "             <OPEN>   <HIGH>    <LOW>  <CLOSE>       <VOL>    return  \\\n",
       "<DATE>                                                                 \n",
       "1995-09-04    99.80    99.80    99.80    99.80     1000395 -0.002000   \n",
       "1995-09-05   100.42   100.42   100.42   100.42     1669902  0.006212   \n",
       "1995-09-06    99.74    99.74    99.74    99.74      927829 -0.006772   \n",
       "1995-09-07   101.30   101.30   101.30   101.30     2153945  0.015641   \n",
       "1995-09-08   101.30   101.30   101.30   101.30     1318431  0.000000   \n",
       "...             ...      ...      ...      ...         ...       ...   \n",
       "2022-09-28  1055.17  1082.49  1050.69  1074.57   860170151  0.020039   \n",
       "2022-09-29  1089.57  1092.62  1054.68  1072.26   746668464 -0.002150   \n",
       "2022-09-30  1094.77  1172.16  1037.78  1055.72  1940913502 -0.015425   \n",
       "2022-10-03  1080.33  1116.09  1070.10  1091.87   765414097  0.034242   \n",
       "2022-10-04  1103.82  1115.63  1080.17  1100.14   806795293  0.007574   \n",
       "\n",
       "            log return  \n",
       "<DATE>                  \n",
       "1995-09-04   -0.002002  \n",
       "1995-09-05    0.006193  \n",
       "1995-09-06   -0.006795  \n",
       "1995-09-07    0.015520  \n",
       "1995-09-08    0.000000  \n",
       "...                ...  \n",
       "2022-09-28    0.019841  \n",
       "2022-09-29   -0.002152  \n",
       "2022-09-30   -0.015546  \n",
       "2022-10-03    0.033669  \n",
       "2022-10-04    0.007546  \n",
       "\n",
       "[6771 rows x 7 columns]"
      ]
     },
     "execution_count": 59,
     "metadata": {},
     "output_type": "execute_result"
    }
   ],
   "source": [
    "rtsi"
   ]
  },
  {
   "cell_type": "markdown",
   "id": "f08612e1",
   "metadata": {},
   "source": [
    "## dumping"
   ]
  },
  {
   "cell_type": "code",
   "execution_count": 60,
   "id": "5be99f26",
   "metadata": {},
   "outputs": [],
   "source": [
    "rtsi.to_pickle(f'{OUTPUT_FOLDER}/rtsi.pkl')"
   ]
  },
  {
   "cell_type": "markdown",
   "id": "faa3710a",
   "metadata": {},
   "source": [
    "# IMOEX history"
   ]
  },
  {
   "cell_type": "code",
   "execution_count": 43,
   "id": "9360ab1e",
   "metadata": {
    "scrolled": true
   },
   "outputs": [],
   "source": [
    "imoex = pd.read_csv(f'{SOURCE_FOLDER}/IMOEX_hist_2022-10-04.csv', sep=',')"
   ]
  },
  {
   "cell_type": "code",
   "execution_count": 44,
   "id": "c8000683",
   "metadata": {},
   "outputs": [],
   "source": [
    "if (imoex['<TICKER>'] != 'IMOEX').any():\n",
    "    raise Exception('There are extra tickers')\n",
    "\n",
    "if (imoex['<TIME>'] != '00:00:00').any():\n",
    "    raise Exception('Not all times are 00:00:00')"
   ]
  },
  {
   "cell_type": "code",
   "execution_count": 45,
   "id": "6fc43d31",
   "metadata": {
    "scrolled": true
   },
   "outputs": [],
   "source": [
    "imoex.drop(columns=['<PER>', '<TIME>', '<TICKER>'], inplace=True)"
   ]
  },
  {
   "cell_type": "code",
   "execution_count": 46,
   "id": "e44d1558",
   "metadata": {
    "scrolled": true
   },
   "outputs": [],
   "source": [
    "imoex['<DATE>'] = pd.to_datetime(imoex['<DATE>'], format='%Y%m%d')\n",
    "imoex.set_index('<DATE>', inplace=True, verify_integrity=True)\n",
    "imoex.sort_index(inplace=True)"
   ]
  },
  {
   "cell_type": "code",
   "execution_count": 47,
   "id": "83b88d1b",
   "metadata": {},
   "outputs": [],
   "source": [
    "imoex['return'] = imoex['<CLOSE>'].pct_change(1)\n",
    "imoex['log return'] = calc_log_returns(imoex['<CLOSE>'])  # imoex['<CLOSE>'].rolling(2).apply(lambda values: np.log(values[1] / values[0])).copy()\n",
    "\n",
    "imoex = imoex.iloc[1:].copy()"
   ]
  },
  {
   "cell_type": "code",
   "execution_count": 48,
   "id": "e78f1117",
   "metadata": {},
   "outputs": [
    {
     "data": {
      "text/plain": [
       "<OPEN>        False\n",
       "<HIGH>        False\n",
       "<LOW>         False\n",
       "<CLOSE>       False\n",
       "<VOL>         False\n",
       "return        False\n",
       "log return    False\n",
       "dtype: bool"
      ]
     },
     "execution_count": 48,
     "metadata": {},
     "output_type": "execute_result"
    }
   ],
   "source": [
    "imoex.isna().any()"
   ]
  },
  {
   "cell_type": "code",
   "execution_count": 49,
   "id": "8d286955",
   "metadata": {},
   "outputs": [
    {
     "data": {
      "text/html": [
       "<div>\n",
       "<style scoped>\n",
       "    .dataframe tbody tr th:only-of-type {\n",
       "        vertical-align: middle;\n",
       "    }\n",
       "\n",
       "    .dataframe tbody tr th {\n",
       "        vertical-align: top;\n",
       "    }\n",
       "\n",
       "    .dataframe thead th {\n",
       "        text-align: right;\n",
       "    }\n",
       "</style>\n",
       "<table border=\"1\" class=\"dataframe\">\n",
       "  <thead>\n",
       "    <tr style=\"text-align: right;\">\n",
       "      <th></th>\n",
       "      <th>&lt;OPEN&gt;</th>\n",
       "      <th>&lt;HIGH&gt;</th>\n",
       "      <th>&lt;LOW&gt;</th>\n",
       "      <th>&lt;CLOSE&gt;</th>\n",
       "      <th>&lt;VOL&gt;</th>\n",
       "      <th>return</th>\n",
       "      <th>log return</th>\n",
       "    </tr>\n",
       "    <tr>\n",
       "      <th>&lt;DATE&gt;</th>\n",
       "      <th></th>\n",
       "      <th></th>\n",
       "      <th></th>\n",
       "      <th></th>\n",
       "      <th></th>\n",
       "      <th></th>\n",
       "      <th></th>\n",
       "    </tr>\n",
       "  </thead>\n",
       "  <tbody>\n",
       "    <tr>\n",
       "      <th>1997-09-23</th>\n",
       "      <td>100.67</td>\n",
       "      <td>100.67</td>\n",
       "      <td>100.67</td>\n",
       "      <td>100.67</td>\n",
       "      <td>0</td>\n",
       "      <td>0.006700</td>\n",
       "      <td>0.006678</td>\n",
       "    </tr>\n",
       "    <tr>\n",
       "      <th>1997-09-24</th>\n",
       "      <td>99.94</td>\n",
       "      <td>99.94</td>\n",
       "      <td>99.94</td>\n",
       "      <td>99.94</td>\n",
       "      <td>0</td>\n",
       "      <td>-0.007251</td>\n",
       "      <td>-0.007278</td>\n",
       "    </tr>\n",
       "    <tr>\n",
       "      <th>1997-09-25</th>\n",
       "      <td>99.46</td>\n",
       "      <td>99.46</td>\n",
       "      <td>99.46</td>\n",
       "      <td>99.46</td>\n",
       "      <td>0</td>\n",
       "      <td>-0.004803</td>\n",
       "      <td>-0.004814</td>\n",
       "    </tr>\n",
       "    <tr>\n",
       "      <th>1997-09-26</th>\n",
       "      <td>98.87</td>\n",
       "      <td>98.87</td>\n",
       "      <td>98.87</td>\n",
       "      <td>98.87</td>\n",
       "      <td>0</td>\n",
       "      <td>-0.005932</td>\n",
       "      <td>-0.005950</td>\n",
       "    </tr>\n",
       "    <tr>\n",
       "      <th>1997-09-29</th>\n",
       "      <td>99.14</td>\n",
       "      <td>99.14</td>\n",
       "      <td>99.14</td>\n",
       "      <td>99.14</td>\n",
       "      <td>0</td>\n",
       "      <td>0.002731</td>\n",
       "      <td>0.002727</td>\n",
       "    </tr>\n",
       "    <tr>\n",
       "      <th>...</th>\n",
       "      <td>...</td>\n",
       "      <td>...</td>\n",
       "      <td>...</td>\n",
       "      <td>...</td>\n",
       "      <td>...</td>\n",
       "      <td>...</td>\n",
       "      <td>...</td>\n",
       "    </tr>\n",
       "    <tr>\n",
       "      <th>2022-09-28</th>\n",
       "      <td>1971.63</td>\n",
       "      <td>2018.94</td>\n",
       "      <td>1948.28</td>\n",
       "      <td>1963.86</td>\n",
       "      <td>49087660321</td>\n",
       "      <td>0.005324</td>\n",
       "      <td>0.005310</td>\n",
       "    </tr>\n",
       "    <tr>\n",
       "      <th>2022-09-29</th>\n",
       "      <td>2000.41</td>\n",
       "      <td>2005.74</td>\n",
       "      <td>1917.71</td>\n",
       "      <td>1953.77</td>\n",
       "      <td>42213898795</td>\n",
       "      <td>-0.005138</td>\n",
       "      <td>-0.005151</td>\n",
       "    </tr>\n",
       "    <tr>\n",
       "      <th>2022-09-30</th>\n",
       "      <td>1983.74</td>\n",
       "      <td>2004.89</td>\n",
       "      <td>1872.95</td>\n",
       "      <td>1957.31</td>\n",
       "      <td>99965222809</td>\n",
       "      <td>0.001812</td>\n",
       "      <td>0.001810</td>\n",
       "    </tr>\n",
       "    <tr>\n",
       "      <th>2022-10-03</th>\n",
       "      <td>1991.88</td>\n",
       "      <td>2047.54</td>\n",
       "      <td>1972.77</td>\n",
       "      <td>2041.96</td>\n",
       "      <td>44244631719</td>\n",
       "      <td>0.043248</td>\n",
       "      <td>0.042339</td>\n",
       "    </tr>\n",
       "    <tr>\n",
       "      <th>2022-10-04</th>\n",
       "      <td>2071.19</td>\n",
       "      <td>2079.62</td>\n",
       "      <td>2016.64</td>\n",
       "      <td>2046.42</td>\n",
       "      <td>46340604207</td>\n",
       "      <td>0.002184</td>\n",
       "      <td>0.002182</td>\n",
       "    </tr>\n",
       "  </tbody>\n",
       "</table>\n",
       "<p>6245 rows × 7 columns</p>\n",
       "</div>"
      ],
      "text/plain": [
       "             <OPEN>   <HIGH>    <LOW>  <CLOSE>        <VOL>    return  \\\n",
       "<DATE>                                                                  \n",
       "1997-09-23   100.67   100.67   100.67   100.67            0  0.006700   \n",
       "1997-09-24    99.94    99.94    99.94    99.94            0 -0.007251   \n",
       "1997-09-25    99.46    99.46    99.46    99.46            0 -0.004803   \n",
       "1997-09-26    98.87    98.87    98.87    98.87            0 -0.005932   \n",
       "1997-09-29    99.14    99.14    99.14    99.14            0  0.002731   \n",
       "...             ...      ...      ...      ...          ...       ...   \n",
       "2022-09-28  1971.63  2018.94  1948.28  1963.86  49087660321  0.005324   \n",
       "2022-09-29  2000.41  2005.74  1917.71  1953.77  42213898795 -0.005138   \n",
       "2022-09-30  1983.74  2004.89  1872.95  1957.31  99965222809  0.001812   \n",
       "2022-10-03  1991.88  2047.54  1972.77  2041.96  44244631719  0.043248   \n",
       "2022-10-04  2071.19  2079.62  2016.64  2046.42  46340604207  0.002184   \n",
       "\n",
       "            log return  \n",
       "<DATE>                  \n",
       "1997-09-23    0.006678  \n",
       "1997-09-24   -0.007278  \n",
       "1997-09-25   -0.004814  \n",
       "1997-09-26   -0.005950  \n",
       "1997-09-29    0.002727  \n",
       "...                ...  \n",
       "2022-09-28    0.005310  \n",
       "2022-09-29   -0.005151  \n",
       "2022-09-30    0.001810  \n",
       "2022-10-03    0.042339  \n",
       "2022-10-04    0.002182  \n",
       "\n",
       "[6245 rows x 7 columns]"
      ]
     },
     "execution_count": 49,
     "metadata": {},
     "output_type": "execute_result"
    }
   ],
   "source": [
    "imoex"
   ]
  },
  {
   "cell_type": "markdown",
   "id": "6997247e",
   "metadata": {},
   "source": [
    "## dumping"
   ]
  },
  {
   "cell_type": "code",
   "execution_count": 50,
   "id": "08f7e4e0",
   "metadata": {},
   "outputs": [],
   "source": [
    "imoex.to_pickle(f'{OUTPUT_FOLDER}/imoex.pkl')"
   ]
  },
  {
   "cell_type": "code",
   "execution_count": null,
   "id": "02444269",
   "metadata": {},
   "outputs": [],
   "source": []
  }
 ],
 "metadata": {
  "kernelspec": {
   "display_name": "Python 3 (ipykernel)",
   "language": "python",
   "name": "python3"
  },
  "language_info": {
   "codemirror_mode": {
    "name": "ipython",
    "version": 3
   },
   "file_extension": ".py",
   "mimetype": "text/x-python",
   "name": "python",
   "nbconvert_exporter": "python",
   "pygments_lexer": "ipython3",
   "version": "3.9.7"
  }
 },
 "nbformat": 4,
 "nbformat_minor": 5
}
