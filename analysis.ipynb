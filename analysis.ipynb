{
 "cells": [
  {
   "cell_type": "code",
   "execution_count": 96,
   "id": "dddaf7cd",
   "metadata": {},
   "outputs": [],
   "source": [
    "import numpy as np\n",
    "from arch import arch_model\n",
    "from random import gauss\n",
    "from random import seed\n",
    "from matplotlib import pyplot as plt\n",
    "import scipy.stats as sts"
   ]
  },
  {
   "cell_type": "markdown",
   "id": "e5c65e19",
   "metadata": {},
   "source": [
    "# Testing GARCH"
   ]
  },
  {
   "cell_type": "code",
   "execution_count": 118,
   "id": "1ab611ef",
   "metadata": {},
   "outputs": [
    {
     "data": {
      "image/png": "[encoded data removed]",
      "text/plain": [
       "<Figure size 432x288 with 1 Axes>"
      ]
     },
     "metadata": {
      "needs_background": "light"
     },
     "output_type": "display_data"
    }
   ],
   "source": [
    "# create dataset\n",
    "variance = np.arange(0, 1, .01)\n",
    "# data = [gauss(0, var) for var in variance]\n",
    "data = [sts.norm(0, var ** .5).rvs(1) for var in variance]\n",
    "\n",
    "# plot\n",
    "plt.plot(data)\n",
    "\n",
    "plt.grid()\n",
    "plt.show()"
   ]
  },
  {
   "cell_type": "code",
   "execution_count": 119,
   "id": "ff01ccf7",
   "metadata": {},
   "outputs": [],
   "source": [
    "n_test = 10\n",
    "\n",
    "train, test = data[:-n_test], data[-n_test:]"
   ]
  },
  {
   "cell_type": "code",
   "execution_count": 120,
   "id": "8dfe6282",
   "metadata": {},
   "outputs": [],
   "source": [
    "p = 1\n",
    "q = 1"
   ]
  },
  {
   "cell_type": "code",
   "execution_count": 121,
   "id": "6c8a9a59",
   "metadata": {},
   "outputs": [],
   "source": [
    "model = arch_model(train, mean='Zero', vol='GARCH', p=p, q=q, dist='normal')"
   ]
  },
  {
   "cell_type": "code",
   "execution_count": 122,
   "id": "21ca4ada",
   "metadata": {},
   "outputs": [
    {
     "name": "stdout",
     "output_type": "stream",
     "text": [
      "Iteration:      1,   Func. Count:      5,   Neg. LLF: 167.66636128587535\n",
      "Iteration:      2,   Func. Count:     15,   Neg. LLF: 144.57046078622162\n",
      "Iteration:      3,   Func. Count:     20,   Neg. LLF: 92.08856780899288\n",
      "Iteration:      4,   Func. Count:     24,   Neg. LLF: 92.83510768340642\n",
      "Iteration:      5,   Func. Count:     29,   Neg. LLF: 92.06116392651603\n",
      "Iteration:      6,   Func. Count:     33,   Neg. LLF: 92.04447195693456\n",
      "Iteration:      7,   Func. Count:     37,   Neg. LLF: 92.04013299057421\n",
      "Iteration:      8,   Func. Count:     41,   Neg. LLF: 92.03970331120367\n",
      "Iteration:      9,   Func. Count:     45,   Neg. LLF: 92.03969013046712\n",
      "Iteration:     10,   Func. Count:     48,   Neg. LLF: 92.03968994377078\n",
      "Optimization terminated successfully    (Exit mode 0)\n",
      "            Current function value: 92.03969013046712\n",
      "            Iterations: 10\n",
      "            Function evaluations: 48\n",
      "            Gradient evaluations: 10\n"
     ]
    }
   ],
   "source": [
    "fitted = model.fit()"
   ]
  },
  {
   "cell_type": "code",
   "execution_count": 123,
   "id": "fd465629",
   "metadata": {},
   "outputs": [
    {
     "data": {
      "text/plain": [
       "<bound method ARCHModelResult.summary of                        Zero Mean - GARCH Model Results                        \n",
       "==============================================================================\n",
       "Dep. Variable:                      y   R-squared:                       0.000\n",
       "Mean Model:                 Zero Mean   Adj. R-squared:                  0.011\n",
       "Vol Model:                      GARCH   Log-Likelihood:               -92.0397\n",
       "Distribution:                  Normal   AIC:                           190.079\n",
       "Method:            Maximum Likelihood   BIC:                           197.579\n",
       "                                        No. Observations:                   90\n",
       "Date:                Sat, Oct 09 2021   Df Residuals:                       90\n",
       "Time:                        19:13:51   Df Model:                            0\n",
       "                            Volatility Model                            \n",
       "========================================================================\n",
       "                 coef    std err          t      P>|t|  95.0% Conf. Int.\n",
       "------------------------------------------------------------------------\n",
       "omega          0.0138      1.136  1.218e-02      0.990 [ -2.213,  2.241]\n",
       "alpha[1]       0.1403      7.302  1.921e-02      0.985 [-14.171, 14.451]\n",
       "beta[1]        0.8597      9.633  8.925e-02      0.929 [-18.021, 19.740]\n",
       "========================================================================\n",
       "\n",
       "Covariance estimator: robust\n",
       "ARCHModelResult, id: 0x7f98da8b8dc0>"
      ]
     },
     "execution_count": 123,
     "metadata": {},
     "output_type": "execute_result"
    }
   ],
   "source": [
    "fitted.summary"
   ]
  },
  {
   "cell_type": "code",
   "execution_count": 124,
   "id": "6eec9371",
   "metadata": {},
   "outputs": [
    {
     "data": {
      "text/plain": [
       "omega       0.013844\n",
       "alpha[1]    0.140281\n",
       "beta[1]     0.859719\n",
       "Name: params, dtype: float64"
      ]
     },
     "execution_count": 124,
     "metadata": {},
     "output_type": "execute_result"
    }
   ],
   "source": [
    "fitted.params"
   ]
  },
  {
   "cell_type": "code",
   "execution_count": 129,
   "id": "b7337ac4",
   "metadata": {},
   "outputs": [
    {
     "data": {
      "text/plain": [
       "array([1.23206656, 1.24591088, 1.25975519, 1.27359951, 1.28744383,\n",
       "       1.30128814, 1.31513246, 1.32897678, 1.34282109, 1.35666541])"
      ]
     },
     "execution_count": 129,
     "metadata": {},
     "output_type": "execute_result"
    }
   ],
   "source": [
    "fitted.forecast(reindex=False, horizon=n_test).variance.values[0]"
   ]
  },
  {
   "cell_type": "code",
   "execution_count": 131,
   "id": "f4250302",
   "metadata": {},
   "outputs": [
    {
     "data": {
      "image/png": "[encoded data removed]",
      "text/plain": [
       "<Figure size 432x288 with 1 Axes>"
      ]
     },
     "metadata": {
      "needs_background": "light"
     },
     "output_type": "display_data"
    }
   ],
   "source": [
    "plt.plot(_, label='forecast')\n",
    "plt.plot(variance[-n_test:], label='actual variance')\n",
    "\n",
    "plt.legend()\n",
    "plt.grid()\n",
    "plt.show()"
   ]
  },
  {
   "cell_type": "code",
   "execution_count": 95,
   "id": "9f57945a",
   "metadata": {
    "scrolled": false
   },
   "outputs": [
    {
     "name": "stdout",
     "output_type": "stream",
     "text": [
      "Help on method forecast in module arch.univariate.base:\n",
      "\n",
      "forecast(params: 'Optional[ArrayLike1D]' = None, horizon: 'int' = 1, start: 'Union[int, DateLike]' = None, align: \"Literal['origin', 'target']\" = 'origin', method: 'ForecastingMethod' = 'analytic', simulations: 'int' = 1000, rng: 'Optional[Callable[[Union[int, Tuple[int, ...]]], Float64Array]]' = None, random_state: 'Optional[np.random.RandomState]' = None, *, reindex: 'Optional[bool]' = None, x: 'Union[None, Dict[Label, ArrayLike], ArrayLike]' = None) -> 'ARCHModelForecast' method of arch.univariate.base.ARCHModelResult instance\n",
      "    Construct forecasts from estimated model\n",
      "    \n",
      "    Parameters\n",
      "    ----------\n",
      "    params : ndarray, optional\n",
      "        Alternative parameters to use.  If not provided, the parameters\n",
      "        estimated when fitting the model are used.  Must be identical in\n",
      "        shape to the parameters computed by fitting the model.\n",
      "    horizon : int, optional\n",
      "       Number of steps to forecast\n",
      "    start : {int, datetime, Timestamp, str}, optional\n",
      "        An integer, datetime or str indicating the first observation to\n",
      "        produce the forecast for.  Datetimes can only be used with pandas\n",
      "        inputs that have a datetime index. Strings must be convertible\n",
      "        to a date time, such as in '1945-01-01'.\n",
      "    align : str, optional\n",
      "        Either 'origin' or 'target'.  When set of 'origin', the t-th row\n",
      "        of forecasts contains the forecasts for t+1, t+2, ..., t+h. When\n",
      "        set to 'target', the t-th row contains the 1-step ahead forecast\n",
      "        from time t-1, the 2 step from time t-2, ..., and the h-step from\n",
      "        time t-h.  'target' simplified computing forecast errors since the\n",
      "        realization and h-step forecast are aligned.\n",
      "    method : {'analytic', 'simulation', 'bootstrap'}, optional\n",
      "        Method to use when producing the forecast. The default is analytic.\n",
      "        The method only affects the variance forecast generation.  Not all\n",
      "        volatility models support all methods. In particular, volatility\n",
      "        models that do not evolve in squares such as EGARCH or TARCH do not\n",
      "        support the 'analytic' method for horizons > 1.\n",
      "    simulations : int, optional\n",
      "        Number of simulations to run when computing the forecast using\n",
      "        either simulation or bootstrap.\n",
      "    rng : callable, optional\n",
      "        Custom random number generator to use in simulation-based forecasts.\n",
      "        Must produce random samples using the syntax `rng(size)` where size\n",
      "        the 2-element tuple (simulations, horizon).\n",
      "    random_state : RandomState, optional\n",
      "        NumPy RandomState instance to use when method is 'bootstrap'\n",
      "    reindex : bool, optional\n",
      "        Whether to reindex the forecasts to have the same dimension as the series\n",
      "        being forecast. Prior to 4.18 this was the default. As of 4.19 this is\n",
      "        now optional. If not provided, a warning is raised about the future\n",
      "        change in the default which will occur after September 2021.\n",
      "    \n",
      "        .. versionadded:: 4.19\n",
      "    \n",
      "    x : {dict[label, array_like], array_like}\n",
      "        Values to use for exogenous regressors if any are included in the\n",
      "        model. Three formats are accepted:\n",
      "    \n",
      "        * 2-d array-like: This format can be used when there is a single\n",
      "          exogenous variable. The input must have shape (nforecast, horizon)\n",
      "          or (nobs, horizon) where nforecast is the number of forecasting\n",
      "          periods and nobs is the original shape of y. For example, if a\n",
      "          single series of forecasts are made from the end of the sample\n",
      "          with a horizon of 10, then the input can be (1, 10). Alternatively,\n",
      "          if the original data had 1000 observations, then the input can be\n",
      "          (1000, 10), and only the final row is used to produce forecasts.\n",
      "        * A dictionary of 2-d array-like: This format is identical to the\n",
      "          previous except that the dictionary keys must match the names of\n",
      "          the exog variables.  Requires that the exog variables were pass\n",
      "          as a pandas DataFrame.\n",
      "        * A 3-d NumPy array (or equivalent). In this format, each panel\n",
      "          (0th axis) is a 2-d array that must have shape (nforecast, horizon)\n",
      "          or (nobs,horizon). The array x[j] corresponds to the j-th column of\n",
      "          the exogenous variables.\n",
      "    \n",
      "        Due to the complexity required to accommodate all scenarios, please\n",
      "        see the example notebook that demonstrates the valid formats for\n",
      "        x.\n",
      "    \n",
      "        .. versionadded:: 4.19\n",
      "    \n",
      "    Returns\n",
      "    -------\n",
      "    arch.univariate.base.ARCHModelForecast\n",
      "        Container for forecasts. Key properties are ``mean``,\n",
      "        ``variance`` and ``residual_variance``.\n",
      "    \n",
      "    Notes\n",
      "    -----\n",
      "    The most basic 1-step ahead forecast will return a vector with the same\n",
      "    length as the original data, where the t-th value will be the time-t\n",
      "    forecast for time t + 1.  When the horizon is > 1, and when using the\n",
      "    default value for `align`, the forecast value in position [t, h] is the\n",
      "    time-t, h+1 step ahead forecast.\n",
      "    \n",
      "    If model contains exogenous variables (`model.x is not None`), then\n",
      "    only 1-step ahead forecasts are available.  Using horizon > 1 will\n",
      "    produce a warning and all columns, except the first, will be\n",
      "    nan-filled.\n",
      "    \n",
      "    If `align` is 'origin', forecast[t,h] contains the forecast made using\n",
      "    y[:t] (that is, up to but not including t) for horizon h + 1.  For\n",
      "    example, y[100,2] contains the 3-step ahead forecast using the first\n",
      "    100 data points, which will correspond to the realization y[100 + 2].\n",
      "    If `align` is 'target', then the same forecast is in location\n",
      "    [102, 2], so that it is aligned with the observation to use when\n",
      "    evaluating, but still in the same column.\n",
      "\n"
     ]
    }
   ],
   "source": [
    "help(fitted.forecast)"
   ]
  },
  {
   "cell_type": "code",
   "execution_count": null,
   "id": "45887df5",
   "metadata": {},
   "outputs": [],
   "source": []
  },
  {
   "cell_type": "code",
   "execution_count": null,
   "id": "06071445",
   "metadata": {},
   "outputs": [],
   "source": []
  }
 ],
 "metadata": {
  "kernelspec": {
   "display_name": "Python 3 (ipykernel)",
   "language": "python",
   "name": "python3"
  },
  "language_info": {
   "codemirror_mode": {
    "name": "ipython",
    "version": 3
   },
   "file_extension": ".py",
   "mimetype": "text/x-python",
   "name": "python",
   "nbconvert_exporter": "python",
   "pygments_lexer": "ipython3",
   "version": "3.9.7"
  }
 },
 "nbformat": 4,
 "nbformat_minor": 5
}
