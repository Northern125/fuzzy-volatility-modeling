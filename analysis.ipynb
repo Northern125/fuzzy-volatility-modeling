{
 "cells": [
  {
   "cell_type": "code",
   "execution_count": 1,
   "id": "dddaf7cd",
   "metadata": {},
   "outputs": [],
   "source": [
    "import numpy as np\n",
    "import pandas as pd\n",
    "from arch import arch_model\n",
    "from random import gauss\n",
    "from random import seed\n",
    "from matplotlib import pyplot as plt\n",
    "import scipy.stats as sts"
   ]
  },
  {
   "cell_type": "code",
   "execution_count": 2,
   "id": "98ec6b6e",
   "metadata": {},
   "outputs": [],
   "source": [
    "from rules_related import combine_rules_outputs\n",
    "from whole_algorithm import train\n",
    "from auxiliary import calc_log_returns"
   ]
  },
  {
   "cell_type": "markdown",
   "id": "cd38f1bd",
   "metadata": {},
   "source": [
    "# Testing GARCH"
   ]
  },
  {
   "cell_type": "markdown",
   "id": "175ccfde",
   "metadata": {},
   "source": [
    "## #1 increasing dispersion, increments are normal"
   ]
  },
  {
   "cell_type": "code",
   "execution_count": 3,
   "id": "dde46169",
   "metadata": {},
   "outputs": [
    {
     "data": {
      "image/png": "[encoded data removed]",
      "text/plain": [
       "<Figure size 432x288 with 1 Axes>"
      ]
     },
     "metadata": {
      "needs_background": "light"
     },
     "output_type": "display_data"
    }
   ],
   "source": [
    "# create dataset\n",
    "variance = np.arange(0, 10, .01)\n",
    "# data = [gauss(0, var) for var in variance]\n",
    "data = [sts.norm(0, var ** .5).rvs(1) for var in variance]\n",
    "\n",
    "# plot\n",
    "plt.plot(data)\n",
    "\n",
    "plt.grid()\n",
    "plt.show()"
   ]
  },
  {
   "cell_type": "code",
   "execution_count": 4,
   "id": "b71a160f",
   "metadata": {},
   "outputs": [],
   "source": [
    "n_test = 100\n",
    "\n",
    "train, test = data[:-n_test], data[-n_test:]"
   ]
  },
  {
   "cell_type": "code",
   "execution_count": 5,
   "id": "adee7397",
   "metadata": {},
   "outputs": [],
   "source": [
    "p = 1\n",
    "q = 1"
   ]
  },
  {
   "cell_type": "code",
   "execution_count": 6,
   "id": "4704898b",
   "metadata": {},
   "outputs": [],
   "source": [
    "model = arch_model(train, mean='Zero', vol='GARCH', p=p, q=q, dist='normal')"
   ]
  },
  {
   "cell_type": "code",
   "execution_count": 7,
   "id": "c57397b2",
   "metadata": {},
   "outputs": [
    {
     "name": "stdout",
     "output_type": "stream",
     "text": [
      "Iteration:      1,   Func. Count:      5,   Neg. LLF: 14641.619564208742\n",
      "Iteration:      2,   Func. Count:     10,   Neg. LLF: 14641.736321631695\n",
      "Iteration:      3,   Func. Count:     15,   Neg. LLF: 1888.9928764366573\n",
      "Iteration:      4,   Func. Count:     20,   Neg. LLF: 14641.736321631695\n",
      "Iteration:      5,   Func. Count:     25,   Neg. LLF: 14641.736321631695\n",
      "Iteration:      6,   Func. Count:     30,   Neg. LLF: 14641.736321631695\n",
      "Iteration:      7,   Func. Count:     35,   Neg. LLF: 14641.736321631695\n",
      "Iteration:      8,   Func. Count:     39,   Neg. LLF: 1851.7230108101862\n",
      "Inequality constraints incompatible    (Exit mode 4)\n",
      "            Current function value: 1851.7230145712851\n",
      "            Iterations: 8\n",
      "            Function evaluations: 39\n",
      "            Gradient evaluations: 8\n"
     ]
    },
    {
     "name": "stderr",
     "output_type": "stream",
     "text": [
      "/Applications/anaconda3/envs/fuzzy-volatility/lib/python3.9/site-packages/arch/univariate/base.py:753: ConvergenceWarning: The optimizer returned code 4. The message is:\n",
      "Inequality constraints incompatible\n",
      "See scipy.optimize.fmin_slsqp for code meaning.\n",
      "\n",
      "  warnings.warn(\n"
     ]
    }
   ],
   "source": [
    "fitted = model.fit()"
   ]
  },
  {
   "cell_type": "code",
   "execution_count": 8,
   "id": "1f402658",
   "metadata": {},
   "outputs": [
    {
     "data": {
      "text/plain": [
       "<bound method ARCHModelResult.summary of                        Zero Mean - GARCH Model Results                        \n",
       "==============================================================================\n",
       "Dep. Variable:                      y   R-squared:                       0.000\n",
       "Mean Model:                 Zero Mean   Adj. R-squared:                  0.001\n",
       "Vol Model:                      GARCH   Log-Likelihood:               -1851.72\n",
       "Distribution:                  Normal   AIC:                           3709.45\n",
       "Method:            Maximum Likelihood   BIC:                           3723.85\n",
       "                                        No. Observations:                  900\n",
       "Date:                Sat, Oct 16 2021   Df Residuals:                      900\n",
       "Time:                        16:09:42   Df Model:                            0\n",
       "                              Volatility Model                              \n",
       "============================================================================\n",
       "                 coef    std err          t      P>|t|      95.0% Conf. Int.\n",
       "----------------------------------------------------------------------------\n",
       "omega          0.0396  8.320e-03      4.757  1.965e-06 [2.327e-02,5.588e-02]\n",
       "alpha[1]       0.0438  9.277e-03      4.719  2.373e-06 [2.559e-02,6.196e-02]\n",
       "beta[1]        0.9477  1.045e-02     90.686      0.000     [  0.927,  0.968]\n",
       "============================================================================\n",
       "\n",
       "Covariance estimator: robust\n",
       "WARNING: The optimizer did not indicate successful convergence. The message was Inequality constraints incompatible.\n",
       "See convergence_flag.\n",
       "\n",
       "ARCHModelResult, id: 0x7f8736d1e5b0>"
      ]
     },
     "execution_count": 8,
     "metadata": {},
     "output_type": "execute_result"
    }
   ],
   "source": [
    "fitted.summary"
   ]
  },
  {
   "cell_type": "code",
   "execution_count": 9,
   "id": "965788ec",
   "metadata": {},
   "outputs": [
    {
     "data": {
      "text/plain": [
       "omega       0.039578\n",
       "alpha[1]    0.043776\n",
       "beta[1]     0.947732\n",
       "Name: params, dtype: float64"
      ]
     },
     "execution_count": 9,
     "metadata": {},
     "output_type": "execute_result"
    }
   ],
   "source": [
    "fitted.params"
   ]
  },
  {
   "cell_type": "code",
   "execution_count": 10,
   "id": "b4e0d4a6",
   "metadata": {},
   "outputs": [],
   "source": [
    "forecast = fitted.forecast(reindex=False, horizon=n_test)"
   ]
  },
  {
   "cell_type": "code",
   "execution_count": 11,
   "id": "78085cb9",
   "metadata": {},
   "outputs": [
    {
     "data": {
      "text/plain": [
       "array([10.15776703, 10.11108647, 10.06480232, 10.0189112 ,  9.97340979,\n",
       "        9.92829477,  9.88356286,  9.8392108 ,  9.79523538,  9.75163339,\n",
       "        9.70840166,  9.66553705,  9.62303644,  9.58089673,  9.53911488,\n",
       "        9.49768782,  9.45661256,  9.41588611,  9.3755055 ,  9.33546779,\n",
       "        9.29577008,  9.25640948,  9.21738312,  9.17868817,  9.14032181,\n",
       "        9.10228125,  9.06456373,  9.0271665 ,  8.99008684,  8.95332206,\n",
       "        8.91686947,  8.88072644,  8.84489033,  8.80935853,  8.77412847,\n",
       "        8.73919757,  8.7045633 ,  8.67022314,  8.6361746 ,  8.60241519,\n",
       "        8.56894245,  8.53575397,  8.50284731,  8.4702201 ,  8.43786995,\n",
       "        8.40579451,  8.37399145,  8.34245846,  8.31119325,  8.28019353,\n",
       "        8.24945706,  8.2189816 ,  8.18876493,  8.15880486,  8.1290992 ,\n",
       "        8.0996458 ,  8.07044252,  8.04148722,  8.01277781,  7.98431219,\n",
       "        7.95608831,  7.92810409,  7.90035751,  7.87284655,  7.84556921,\n",
       "        7.81852351,  7.79170748,  7.76511916,  7.73875663,  7.71261796,\n",
       "        7.68670126,  7.66100464,  7.63552623,  7.61026418,  7.58521666,\n",
       "        7.56038183,  7.5357579 ,  7.51134307,  7.48713556,  7.46313363,\n",
       "        7.43933551,  7.41573949,  7.39234384,  7.36914686,  7.34614687,\n",
       "        7.32334219,  7.30073116,  7.27831214,  7.25608351,  7.23404363,\n",
       "        7.21219092,  7.19052377,  7.16904062,  7.1477399 ,  7.12662006,\n",
       "        7.10567957,  7.08491691,  7.06433056,  7.04391902,  7.02368082])"
      ]
     },
     "execution_count": 11,
     "metadata": {},
     "output_type": "execute_result"
    }
   ],
   "source": [
    "forecast.residual_variance.values[0]"
   ]
  },
  {
   "cell_type": "code",
   "execution_count": 12,
   "id": "ee458452",
   "metadata": {},
   "outputs": [
    {
     "data": {
      "text/plain": [
       "array([10.15776703, 10.11108647, 10.06480232, 10.0189112 ,  9.97340979,\n",
       "        9.92829477,  9.88356286,  9.8392108 ,  9.79523538,  9.75163339,\n",
       "        9.70840166,  9.66553705,  9.62303644,  9.58089673,  9.53911488,\n",
       "        9.49768782,  9.45661256,  9.41588611,  9.3755055 ,  9.33546779,\n",
       "        9.29577008,  9.25640948,  9.21738312,  9.17868817,  9.14032181,\n",
       "        9.10228125,  9.06456373,  9.0271665 ,  8.99008684,  8.95332206,\n",
       "        8.91686947,  8.88072644,  8.84489033,  8.80935853,  8.77412847,\n",
       "        8.73919757,  8.7045633 ,  8.67022314,  8.6361746 ,  8.60241519,\n",
       "        8.56894245,  8.53575397,  8.50284731,  8.4702201 ,  8.43786995,\n",
       "        8.40579451,  8.37399145,  8.34245846,  8.31119325,  8.28019353,\n",
       "        8.24945706,  8.2189816 ,  8.18876493,  8.15880486,  8.1290992 ,\n",
       "        8.0996458 ,  8.07044252,  8.04148722,  8.01277781,  7.98431219,\n",
       "        7.95608831,  7.92810409,  7.90035751,  7.87284655,  7.84556921,\n",
       "        7.81852351,  7.79170748,  7.76511916,  7.73875663,  7.71261796,\n",
       "        7.68670126,  7.66100464,  7.63552623,  7.61026418,  7.58521666,\n",
       "        7.56038183,  7.5357579 ,  7.51134307,  7.48713556,  7.46313363,\n",
       "        7.43933551,  7.41573949,  7.39234384,  7.36914686,  7.34614687,\n",
       "        7.32334219,  7.30073116,  7.27831214,  7.25608351,  7.23404363,\n",
       "        7.21219092,  7.19052377,  7.16904062,  7.1477399 ,  7.12662006,\n",
       "        7.10567957,  7.08491691,  7.06433056,  7.04391902,  7.02368082])"
      ]
     },
     "execution_count": 12,
     "metadata": {},
     "output_type": "execute_result"
    }
   ],
   "source": [
    "forecast.variance.values[0]"
   ]
  },
  {
   "cell_type": "code",
   "execution_count": 13,
   "id": "d99c723f",
   "metadata": {},
   "outputs": [
    {
     "data": {
      "image/png": "[encoded data removed]",
      "text/plain": [
       "<Figure size 432x288 with 1 Axes>"
      ]
     },
     "metadata": {
      "needs_background": "light"
     },
     "output_type": "display_data"
    }
   ],
   "source": [
    "plt.plot(_, label='forecast')\n",
    "plt.plot(variance[-n_test:], label='actual variance')\n",
    "\n",
    "plt.legend()\n",
    "plt.grid()\n",
    "plt.show()"
   ]
  },
  {
   "cell_type": "code",
   "execution_count": 14,
   "id": "77497746",
   "metadata": {
    "scrolled": true
   },
   "outputs": [
    {
     "name": "stdout",
     "output_type": "stream",
     "text": [
      "Help on method forecast in module arch.univariate.base:\n",
      "\n",
      "forecast(params: 'Optional[ArrayLike1D]' = None, horizon: 'int' = 1, start: 'Union[int, DateLike]' = None, align: \"Literal['origin', 'target']\" = 'origin', method: 'ForecastingMethod' = 'analytic', simulations: 'int' = 1000, rng: 'Optional[Callable[[Union[int, Tuple[int, ...]]], Float64Array]]' = None, random_state: 'Optional[np.random.RandomState]' = None, *, reindex: 'Optional[bool]' = None, x: 'Union[None, Dict[Label, ArrayLike], ArrayLike]' = None) -> 'ARCHModelForecast' method of arch.univariate.base.ARCHModelResult instance\n",
      "    Construct forecasts from estimated model\n",
      "    \n",
      "    Parameters\n",
      "    ----------\n",
      "    params : ndarray, optional\n",
      "        Alternative parameters to use.  If not provided, the parameters\n",
      "        estimated when fitting the model are used.  Must be identical in\n",
      "        shape to the parameters computed by fitting the model.\n",
      "    horizon : int, optional\n",
      "       Number of steps to forecast\n",
      "    start : {int, datetime, Timestamp, str}, optional\n",
      "        An integer, datetime or str indicating the first observation to\n",
      "        produce the forecast for.  Datetimes can only be used with pandas\n",
      "        inputs that have a datetime index. Strings must be convertible\n",
      "        to a date time, such as in '1945-01-01'.\n",
      "    align : str, optional\n",
      "        Either 'origin' or 'target'.  When set of 'origin', the t-th row\n",
      "        of forecasts contains the forecasts for t+1, t+2, ..., t+h. When\n",
      "        set to 'target', the t-th row contains the 1-step ahead forecast\n",
      "        from time t-1, the 2 step from time t-2, ..., and the h-step from\n",
      "        time t-h.  'target' simplified computing forecast errors since the\n",
      "        realization and h-step forecast are aligned.\n",
      "    method : {'analytic', 'simulation', 'bootstrap'}, optional\n",
      "        Method to use when producing the forecast. The default is analytic.\n",
      "        The method only affects the variance forecast generation.  Not all\n",
      "        volatility models support all methods. In particular, volatility\n",
      "        models that do not evolve in squares such as EGARCH or TARCH do not\n",
      "        support the 'analytic' method for horizons > 1.\n",
      "    simulations : int, optional\n",
      "        Number of simulations to run when computing the forecast using\n",
      "        either simulation or bootstrap.\n",
      "    rng : callable, optional\n",
      "        Custom random number generator to use in simulation-based forecasts.\n",
      "        Must produce random samples using the syntax `rng(size)` where size\n",
      "        the 2-element tuple (simulations, horizon).\n",
      "    random_state : RandomState, optional\n",
      "        NumPy RandomState instance to use when method is 'bootstrap'\n",
      "    reindex : bool, optional\n",
      "        Whether to reindex the forecasts to have the same dimension as the series\n",
      "        being forecast. Prior to 4.18 this was the default. As of 4.19 this is\n",
      "        now optional. If not provided, a warning is raised about the future\n",
      "        change in the default which will occur after September 2021.\n",
      "    \n",
      "        .. versionadded:: 4.19\n",
      "    \n",
      "    x : {dict[label, array_like], array_like}\n",
      "        Values to use for exogenous regressors if any are included in the\n",
      "        model. Three formats are accepted:\n",
      "    \n",
      "        * 2-d array-like: This format can be used when there is a single\n",
      "          exogenous variable. The input must have shape (nforecast, horizon)\n",
      "          or (nobs, horizon) where nforecast is the number of forecasting\n",
      "          periods and nobs is the original shape of y. For example, if a\n",
      "          single series of forecasts are made from the end of the sample\n",
      "          with a horizon of 10, then the input can be (1, 10). Alternatively,\n",
      "          if the original data had 1000 observations, then the input can be\n",
      "          (1000, 10), and only the final row is used to produce forecasts.\n",
      "        * A dictionary of 2-d array-like: This format is identical to the\n",
      "          previous except that the dictionary keys must match the names of\n",
      "          the exog variables.  Requires that the exog variables were pass\n",
      "          as a pandas DataFrame.\n",
      "        * A 3-d NumPy array (or equivalent). In this format, each panel\n",
      "          (0th axis) is a 2-d array that must have shape (nforecast, horizon)\n",
      "          or (nobs,horizon). The array x[j] corresponds to the j-th column of\n",
      "          the exogenous variables.\n",
      "    \n",
      "        Due to the complexity required to accommodate all scenarios, please\n",
      "        see the example notebook that demonstrates the valid formats for\n",
      "        x.\n",
      "    \n",
      "        .. versionadded:: 4.19\n",
      "    \n",
      "    Returns\n",
      "    -------\n",
      "    arch.univariate.base.ARCHModelForecast\n",
      "        Container for forecasts. Key properties are ``mean``,\n",
      "        ``variance`` and ``residual_variance``.\n",
      "    \n",
      "    Notes\n",
      "    -----\n",
      "    The most basic 1-step ahead forecast will return a vector with the same\n",
      "    length as the original data, where the t-th value will be the time-t\n",
      "    forecast for time t + 1.  When the horizon is > 1, and when using the\n",
      "    default value for `align`, the forecast value in position [t, h] is the\n",
      "    time-t, h+1 step ahead forecast.\n",
      "    \n",
      "    If model contains exogenous variables (`model.x is not None`), then\n",
      "    only 1-step ahead forecasts are available.  Using horizon > 1 will\n",
      "    produce a warning and all columns, except the first, will be\n",
      "    nan-filled.\n",
      "    \n",
      "    If `align` is 'origin', forecast[t,h] contains the forecast made using\n",
      "    y[:t] (that is, up to but not including t) for horizon h + 1.  For\n",
      "    example, y[100,2] contains the 3-step ahead forecast using the first\n",
      "    100 data points, which will correspond to the realization y[100 + 2].\n",
      "    If `align` is 'target', then the same forecast is in location\n",
      "    [102, 2], so that it is aligned with the observation to use when\n",
      "    evaluating, but still in the same column.\n",
      "\n"
     ]
    }
   ],
   "source": [
    "help(fitted.forecast)"
   ]
  },
  {
   "cell_type": "markdown",
   "id": "66d6e3e1",
   "metadata": {},
   "source": [
    "## #2 white noise (Wiener process) "
   ]
  },
  {
   "cell_type": "code",
   "execution_count": 15,
   "id": "a2d2845a",
   "metadata": {},
   "outputs": [
    {
     "data": {
      "image/png": "[encoded data removed]",
      "text/plain": [
       "<Figure size 432x288 with 1 Axes>"
      ]
     },
     "metadata": {
      "needs_background": "light"
     },
     "output_type": "display_data"
    }
   ],
   "source": [
    "# create dataset\n",
    "sample_size = 1000\n",
    "mean = 0\n",
    "variance = 1\n",
    "# data = [sts.norm(0, var ** .5).rvs(1) for var in variance]\n",
    "data = sts.norm(mean, variance ** .5).rvs(sample_size)\n",
    "\n",
    "# plot\n",
    "plt.plot(data)\n",
    "\n",
    "plt.grid()\n",
    "plt.show()"
   ]
  },
  {
   "cell_type": "code",
   "execution_count": 16,
   "id": "48db260f",
   "metadata": {},
   "outputs": [],
   "source": [
    "n_test = int(sample_size / 10)\n",
    "\n",
    "train, test = data[:-n_test], data[-n_test:]"
   ]
  },
  {
   "cell_type": "code",
   "execution_count": 17,
   "id": "d83d1caa",
   "metadata": {},
   "outputs": [],
   "source": [
    "p = 1\n",
    "q = 1"
   ]
  },
  {
   "cell_type": "code",
   "execution_count": 18,
   "id": "c8dbe556",
   "metadata": {},
   "outputs": [],
   "source": [
    "model = arch_model(train, mean='Zero', vol='GARCH', p=p, q=q, dist='normal')"
   ]
  },
  {
   "cell_type": "code",
   "execution_count": 19,
   "id": "3c4dd0d1",
   "metadata": {},
   "outputs": [
    {
     "name": "stdout",
     "output_type": "stream",
     "text": [
      "Iteration:      1,   Func. Count:      5,   Neg. LLF: 4440.539756856046\n",
      "Iteration:      2,   Func. Count:     13,   Neg. LLF: 1240.466949373088\n",
      "Iteration:      3,   Func. Count:     20,   Neg. LLF: 1240.9687772517395\n",
      "Iteration:      4,   Func. Count:     25,   Neg. LLF: 1243.069742951654\n",
      "Iteration:      5,   Func. Count:     30,   Neg. LLF: 1237.2883998915595\n",
      "Iteration:      6,   Func. Count:     34,   Neg. LLF: 1237.2836987724186\n",
      "Iteration:      7,   Func. Count:     38,   Neg. LLF: 1237.2834237541954\n",
      "Iteration:      8,   Func. Count:     42,   Neg. LLF: 1237.283414249186\n",
      "Iteration:      9,   Func. Count:     45,   Neg. LLF: 1237.2834142503714\n",
      "Optimization terminated successfully    (Exit mode 0)\n",
      "            Current function value: 1237.283414249186\n",
      "            Iterations: 9\n",
      "            Function evaluations: 45\n",
      "            Gradient evaluations: 9\n"
     ]
    }
   ],
   "source": [
    "fitted = model.fit()"
   ]
  },
  {
   "cell_type": "code",
   "execution_count": 20,
   "id": "cb8bc9f5",
   "metadata": {},
   "outputs": [
    {
     "data": {
      "text/plain": [
       "<bound method ARCHModelResult.summary of                        Zero Mean - GARCH Model Results                        \n",
       "==============================================================================\n",
       "Dep. Variable:                      y   R-squared:                       0.000\n",
       "Mean Model:                 Zero Mean   Adj. R-squared:                  0.001\n",
       "Vol Model:                      GARCH   Log-Likelihood:               -1237.28\n",
       "Distribution:                  Normal   AIC:                           2480.57\n",
       "Method:            Maximum Likelihood   BIC:                           2494.97\n",
       "                                        No. Observations:                  900\n",
       "Date:                Sat, Oct 16 2021   Df Residuals:                      900\n",
       "Time:                        16:09:42   Df Model:                            0\n",
       "                               Volatility Model                              \n",
       "=============================================================================\n",
       "                 coef    std err          t      P>|t|       95.0% Conf. Int.\n",
       "-----------------------------------------------------------------------------\n",
       "omega          0.1239  9.862e-02      1.256      0.209   [-6.938e-02,  0.317]\n",
       "alpha[1]       0.0394  2.179e-02      1.808  7.058e-02 [-3.308e-03,8.212e-02]\n",
       "beta[1]        0.8254      0.120      6.882  5.910e-12      [  0.590,  1.060]\n",
       "=============================================================================\n",
       "\n",
       "Covariance estimator: robust\n",
       "ARCHModelResult, id: 0x7f87370b0fd0>"
      ]
     },
     "execution_count": 20,
     "metadata": {},
     "output_type": "execute_result"
    }
   ],
   "source": [
    "fitted.summary"
   ]
  },
  {
   "cell_type": "code",
   "execution_count": 21,
   "id": "f7ea681d",
   "metadata": {},
   "outputs": [
    {
     "data": {
      "text/plain": [
       "omega       0.123904\n",
       "alpha[1]    0.039408\n",
       "beta[1]     0.825351\n",
       "Name: params, dtype: float64"
      ]
     },
     "execution_count": 21,
     "metadata": {},
     "output_type": "execute_result"
    }
   ],
   "source": [
    "fitted.params"
   ]
  },
  {
   "cell_type": "code",
   "execution_count": 22,
   "id": "c7bed32f",
   "metadata": {},
   "outputs": [],
   "source": [
    "forecast = fitted.forecast(reindex=False, horizon=n_test)"
   ]
  },
  {
   "cell_type": "code",
   "execution_count": 23,
   "id": "4052574c",
   "metadata": {},
   "outputs": [],
   "source": [
    "forecast_variance = forecast.variance.values[0]"
   ]
  },
  {
   "cell_type": "code",
   "execution_count": 24,
   "id": "11bbe1c8",
   "metadata": {},
   "outputs": [
    {
     "data": {
      "image/png": "[encoded data removed]",
      "text/plain": [
       "<Figure size 432x288 with 1 Axes>"
      ]
     },
     "metadata": {
      "needs_background": "light"
     },
     "output_type": "display_data"
    }
   ],
   "source": [
    "plt.plot(forecast_variance, label='forecast')\n",
    "plt.plot([variance] * n_test, label='actual variance')\n",
    "\n",
    "plt.legend()\n",
    "plt.grid()\n",
    "plt.show()"
   ]
  },
  {
   "cell_type": "markdown",
   "id": "0607e1f7",
   "metadata": {},
   "source": [
    "# Reading files"
   ]
  },
  {
   "cell_type": "code",
   "execution_count": 25,
   "id": "707015b2",
   "metadata": {},
   "outputs": [],
   "source": [
    "rtsi = pd.read_csv('files/RI.RTSI_790101_211016.csv', sep=',')"
   ]
  },
  {
   "cell_type": "code",
   "execution_count": 26,
   "id": "344b33c3",
   "metadata": {},
   "outputs": [
    {
     "data": {
      "text/plain": [
       "False"
      ]
     },
     "execution_count": 26,
     "metadata": {},
     "output_type": "execute_result"
    }
   ],
   "source": [
    "(rtsi['<TICKER>'] != 'RI.RTSI').any()"
   ]
  },
  {
   "cell_type": "code",
   "execution_count": 27,
   "id": "951c0c59",
   "metadata": {},
   "outputs": [
    {
     "data": {
      "text/plain": [
       "False"
      ]
     },
     "execution_count": 27,
     "metadata": {},
     "output_type": "execute_result"
    }
   ],
   "source": [
    "(rtsi['<TIME>'] != '00:00:00').any()"
   ]
  },
  {
   "cell_type": "code",
   "execution_count": 28,
   "id": "df543f10",
   "metadata": {},
   "outputs": [],
   "source": [
    "rtsi.drop(columns=['<PER>', '<TIME>', '<TICKER>'], inplace=True)"
   ]
  },
  {
   "cell_type": "code",
   "execution_count": 29,
   "id": "a007dc3b",
   "metadata": {},
   "outputs": [],
   "source": [
    "rtsi['<DATE>'] = pd.to_datetime(rtsi['<DATE>'], format='%Y%m%d')"
   ]
  },
  {
   "cell_type": "code",
   "execution_count": 30,
   "id": "5c316b23",
   "metadata": {},
   "outputs": [],
   "source": [
    "rtsi.set_index('<DATE>', inplace=True)"
   ]
  },
  {
   "cell_type": "code",
   "execution_count": 31,
   "id": "fdcea6e8",
   "metadata": {},
   "outputs": [],
   "source": [
    "rtsi['return'] = rtsi['<CLOSE>'].pct_change(1)"
   ]
  },
  {
   "cell_type": "code",
   "execution_count": 32,
   "id": "0ed10516",
   "metadata": {},
   "outputs": [],
   "source": [
    "rtsi['log return'] = calc_log_returns(rtsi['<CLOSE>'])  # rtsi['<CLOSE>'].rolling(2).apply(lambda values: np.log(values[1] / values[0])).copy()"
   ]
  },
  {
   "cell_type": "code",
   "execution_count": 33,
   "id": "d60df0d5",
   "metadata": {},
   "outputs": [
    {
     "data": {
      "text/html": [
       "<div>\n",
       "<style scoped>\n",
       "    .dataframe tbody tr th:only-of-type {\n",
       "        vertical-align: middle;\n",
       "    }\n",
       "\n",
       "    .dataframe tbody tr th {\n",
       "        vertical-align: top;\n",
       "    }\n",
       "\n",
       "    .dataframe thead th {\n",
       "        text-align: right;\n",
       "    }\n",
       "</style>\n",
       "<table border=\"1\" class=\"dataframe\">\n",
       "  <thead>\n",
       "    <tr style=\"text-align: right;\">\n",
       "      <th></th>\n",
       "      <th>&lt;OPEN&gt;</th>\n",
       "      <th>&lt;HIGH&gt;</th>\n",
       "      <th>&lt;LOW&gt;</th>\n",
       "      <th>&lt;CLOSE&gt;</th>\n",
       "      <th>&lt;VOL&gt;</th>\n",
       "      <th>return</th>\n",
       "      <th>log return</th>\n",
       "    </tr>\n",
       "    <tr>\n",
       "      <th>&lt;DATE&gt;</th>\n",
       "      <th></th>\n",
       "      <th></th>\n",
       "      <th></th>\n",
       "      <th></th>\n",
       "      <th></th>\n",
       "      <th></th>\n",
       "      <th></th>\n",
       "    </tr>\n",
       "  </thead>\n",
       "  <tbody>\n",
       "    <tr>\n",
       "      <th>2001-02-16</th>\n",
       "      <td>183.53</td>\n",
       "      <td>184.07</td>\n",
       "      <td>180.10</td>\n",
       "      <td>180.10</td>\n",
       "      <td>0</td>\n",
       "      <td>NaN</td>\n",
       "      <td>NaN</td>\n",
       "    </tr>\n",
       "    <tr>\n",
       "      <th>2001-02-18</th>\n",
       "      <td>180.10</td>\n",
       "      <td>180.10</td>\n",
       "      <td>180.10</td>\n",
       "      <td>180.10</td>\n",
       "      <td>0</td>\n",
       "      <td>0.000000</td>\n",
       "      <td>0.000000</td>\n",
       "    </tr>\n",
       "    <tr>\n",
       "      <th>2001-02-19</th>\n",
       "      <td>180.10</td>\n",
       "      <td>181.21</td>\n",
       "      <td>176.67</td>\n",
       "      <td>177.29</td>\n",
       "      <td>0</td>\n",
       "      <td>-0.015602</td>\n",
       "      <td>-0.015725</td>\n",
       "    </tr>\n",
       "    <tr>\n",
       "      <th>2001-02-20</th>\n",
       "      <td>177.29</td>\n",
       "      <td>179.90</td>\n",
       "      <td>175.28</td>\n",
       "      <td>176.45</td>\n",
       "      <td>0</td>\n",
       "      <td>-0.004738</td>\n",
       "      <td>-0.004749</td>\n",
       "    </tr>\n",
       "    <tr>\n",
       "      <th>2001-02-21</th>\n",
       "      <td>176.45</td>\n",
       "      <td>176.45</td>\n",
       "      <td>161.12</td>\n",
       "      <td>162.39</td>\n",
       "      <td>0</td>\n",
       "      <td>-0.079683</td>\n",
       "      <td>-0.083037</td>\n",
       "    </tr>\n",
       "    <tr>\n",
       "      <th>...</th>\n",
       "      <td>...</td>\n",
       "      <td>...</td>\n",
       "      <td>...</td>\n",
       "      <td>...</td>\n",
       "      <td>...</td>\n",
       "      <td>...</td>\n",
       "      <td>...</td>\n",
       "    </tr>\n",
       "    <tr>\n",
       "      <th>2021-10-11</th>\n",
       "      <td>1871.73</td>\n",
       "      <td>1883.71</td>\n",
       "      <td>1867.58</td>\n",
       "      <td>1882.43</td>\n",
       "      <td>1769145502</td>\n",
       "      <td>0.011537</td>\n",
       "      <td>0.011471</td>\n",
       "    </tr>\n",
       "    <tr>\n",
       "      <th>2021-10-12</th>\n",
       "      <td>1867.15</td>\n",
       "      <td>1876.79</td>\n",
       "      <td>1860.64</td>\n",
       "      <td>1869.94</td>\n",
       "      <td>1386130631</td>\n",
       "      <td>-0.006635</td>\n",
       "      <td>-0.006657</td>\n",
       "    </tr>\n",
       "    <tr>\n",
       "      <th>2021-10-13</th>\n",
       "      <td>1869.05</td>\n",
       "      <td>1869.05</td>\n",
       "      <td>1835.80</td>\n",
       "      <td>1855.11</td>\n",
       "      <td>1830447018</td>\n",
       "      <td>-0.007931</td>\n",
       "      <td>-0.007962</td>\n",
       "    </tr>\n",
       "    <tr>\n",
       "      <th>2021-10-14</th>\n",
       "      <td>1875.38</td>\n",
       "      <td>1890.46</td>\n",
       "      <td>1873.37</td>\n",
       "      <td>1875.97</td>\n",
       "      <td>1495256910</td>\n",
       "      <td>0.011245</td>\n",
       "      <td>0.011182</td>\n",
       "    </tr>\n",
       "    <tr>\n",
       "      <th>2021-10-15</th>\n",
       "      <td>1888.52</td>\n",
       "      <td>1893.71</td>\n",
       "      <td>1878.47</td>\n",
       "      <td>1891.56</td>\n",
       "      <td>1305644791</td>\n",
       "      <td>0.008310</td>\n",
       "      <td>0.008276</td>\n",
       "    </tr>\n",
       "  </tbody>\n",
       "</table>\n",
       "<p>5175 rows × 7 columns</p>\n",
       "</div>"
      ],
      "text/plain": [
       "             <OPEN>   <HIGH>    <LOW>  <CLOSE>       <VOL>    return  \\\n",
       "<DATE>                                                                 \n",
       "2001-02-16   183.53   184.07   180.10   180.10           0       NaN   \n",
       "2001-02-18   180.10   180.10   180.10   180.10           0  0.000000   \n",
       "2001-02-19   180.10   181.21   176.67   177.29           0 -0.015602   \n",
       "2001-02-20   177.29   179.90   175.28   176.45           0 -0.004738   \n",
       "2001-02-21   176.45   176.45   161.12   162.39           0 -0.079683   \n",
       "...             ...      ...      ...      ...         ...       ...   \n",
       "2021-10-11  1871.73  1883.71  1867.58  1882.43  1769145502  0.011537   \n",
       "2021-10-12  1867.15  1876.79  1860.64  1869.94  1386130631 -0.006635   \n",
       "2021-10-13  1869.05  1869.05  1835.80  1855.11  1830447018 -0.007931   \n",
       "2021-10-14  1875.38  1890.46  1873.37  1875.97  1495256910  0.011245   \n",
       "2021-10-15  1888.52  1893.71  1878.47  1891.56  1305644791  0.008310   \n",
       "\n",
       "            log return  \n",
       "<DATE>                  \n",
       "2001-02-16         NaN  \n",
       "2001-02-18    0.000000  \n",
       "2001-02-19   -0.015725  \n",
       "2001-02-20   -0.004749  \n",
       "2001-02-21   -0.083037  \n",
       "...                ...  \n",
       "2021-10-11    0.011471  \n",
       "2021-10-12   -0.006657  \n",
       "2021-10-13   -0.007962  \n",
       "2021-10-14    0.011182  \n",
       "2021-10-15    0.008276  \n",
       "\n",
       "[5175 rows x 7 columns]"
      ]
     },
     "execution_count": 33,
     "metadata": {},
     "output_type": "execute_result"
    }
   ],
   "source": [
    "rtsi"
   ]
  },
  {
   "cell_type": "markdown",
   "id": "ad1e29c0",
   "metadata": {},
   "source": [
    "# Testing `train`"
   ]
  },
  {
   "cell_type": "code",
   "execution_count": 34,
   "id": "a3f8b85a",
   "metadata": {},
   "outputs": [
    {
     "ename": "TypeError",
     "evalue": "'numpy.ndarray' object is not callable",
     "output_type": "error",
     "traceback": [
      "\u001b[0;31m---------------------------------------------------------------------------\u001b[0m",
      "\u001b[0;31mTypeError\u001b[0m                                 Traceback (most recent call last)",
      "\u001b[0;32m/var/folders/wp/ypx6h8352xv06355zp13dlx40000gn/T/ipykernel_91184/3364925475.py\u001b[0m in \u001b[0;36m<module>\u001b[0;34m\u001b[0m\n\u001b[0;32m----> 1\u001b[0;31m \u001b[0mtrain\u001b[0m\u001b[0;34m(\u001b[0m\u001b[0;34m)\u001b[0m\u001b[0;34m\u001b[0m\u001b[0;34m\u001b[0m\u001b[0m\n\u001b[0m",
      "\u001b[0;31mTypeError\u001b[0m: 'numpy.ndarray' object is not callable"
     ]
    }
   ],
   "source": [
    "train()"
   ]
  }
 ],
 "metadata": {
  "kernelspec": {
   "display_name": "Python 3 (ipykernel)",
   "language": "python",
   "name": "python3"
  },
  "language_info": {
   "codemirror_mode": {
    "name": "ipython",
    "version": 3
   },
   "file_extension": ".py",
   "mimetype": "text/x-python",
   "name": "python",
   "nbconvert_exporter": "python",
   "pygments_lexer": "ipython3",
   "version": "3.9.7"
  }
 },
 "nbformat": 4,
 "nbformat_minor": 5
}
