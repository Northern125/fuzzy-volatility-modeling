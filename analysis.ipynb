{
 "cells": [
  {
   "cell_type": "code",
   "execution_count": 96,
   "id": "dddaf7cd",
   "metadata": {},
   "outputs": [],
   "source": [
    "import numpy as np\n",
    "from arch import arch_model\n",
    "from random import gauss\n",
    "from random import seed\n",
    "from matplotlib import pyplot as plt\n",
    "import scipy.stats as sts"
   ]
  },
  {
   "cell_type": "markdown",
   "id": "cd38f1bd",
   "metadata": {},
   "source": [
    "# Testing GARCH"
   ]
  },
  {
   "cell_type": "code",
   "execution_count": 134,
   "id": "dde46169",
   "metadata": {},
   "outputs": [
    {
     "data": {
      "image/png": "[encoded data removed]",
      "text/plain": [
       "<Figure size 432x288 with 1 Axes>"
      ]
     },
     "metadata": {
      "needs_background": "light"
     },
     "output_type": "display_data"
    }
   ],
   "source": [
    "# create dataset\n",
    "variance = np.arange(0, 10, .01)\n",
    "# data = [gauss(0, var) for var in variance]\n",
    "data = [sts.norm(0, var ** .5).rvs(1) for var in variance]\n",
    "\n",
    "# plot\n",
    "plt.plot(data)\n",
    "\n",
    "plt.grid()\n",
    "plt.show()"
   ]
  },
  {
   "cell_type": "code",
   "execution_count": 135,
   "id": "b71a160f",
   "metadata": {},
   "outputs": [],
   "source": [
    "n_test = 100\n",
    "\n",
    "train, test = data[:-n_test], data[-n_test:]"
   ]
  },
  {
   "cell_type": "code",
   "execution_count": 136,
   "id": "adee7397",
   "metadata": {},
   "outputs": [],
   "source": [
    "p = 1\n",
    "q = 1"
   ]
  },
  {
   "cell_type": "code",
   "execution_count": 137,
   "id": "4704898b",
   "metadata": {},
   "outputs": [],
   "source": [
    "model = arch_model(train, mean='Zero', vol='GARCH', p=p, q=q, dist='normal')"
   ]
  },
  {
   "cell_type": "code",
   "execution_count": 138,
   "id": "c57397b2",
   "metadata": {},
   "outputs": [
    {
     "name": "stdout",
     "output_type": "stream",
     "text": [
      "Iteration:      1,   Func. Count:      5,   Neg. LLF: 159903.10777709674\n",
      "Iteration:      2,   Func. Count:     11,   Neg. LLF: 1836.9121584766135\n",
      "Iteration:      3,   Func. Count:     15,   Neg. LLF: 2333.7742010329603\n",
      "Iteration:      4,   Func. Count:     20,   Neg. LLF: 1845.3761796810304\n",
      "Iteration:      5,   Func. Count:     25,   Neg. LLF: 1964.6650818209666\n",
      "Iteration:      6,   Func. Count:     30,   Neg. LLF: 1866.3371876348958\n",
      "Iteration:      7,   Func. Count:     35,   Neg. LLF: 1839.3206148917654\n",
      "Iteration:      8,   Func. Count:     40,   Neg. LLF: 1938.7065603383344\n",
      "Iteration:      9,   Func. Count:     45,   Neg. LLF: 1844.2243624487398\n",
      "Iteration:     10,   Func. Count:     50,   Neg. LLF: 1826.7187841119307\n",
      "Iteration:     11,   Func. Count:     55,   Neg. LLF: 1819.3059564169578\n",
      "Iteration:     12,   Func. Count:     60,   Neg. LLF: 1815.7274058782573\n",
      "Iteration:     13,   Func. Count:     64,   Neg. LLF: 1815.7378735706543\n",
      "Iteration:     14,   Func. Count:     69,   Neg. LLF: 1817.8149783724875\n",
      "Iteration:     15,   Func. Count:     75,   Neg. LLF: 520221377.35478324\n",
      "Iteration:     16,   Func. Count:     85,   Neg. LLF: 1971.2507863662202\n",
      "Optimization terminated successfully    (Exit mode 0)\n",
      "            Current function value: 1815.4889920662295\n",
      "            Iterations: 17\n",
      "            Function evaluations: 91\n",
      "            Gradient evaluations: 16\n"
     ]
    }
   ],
   "source": [
    "fitted = model.fit()"
   ]
  },
  {
   "cell_type": "code",
   "execution_count": 139,
   "id": "1f402658",
   "metadata": {},
   "outputs": [
    {
     "data": {
      "text/plain": [
       "<bound method ARCHModelResult.summary of                        Zero Mean - GARCH Model Results                        \n",
       "==============================================================================\n",
       "Dep. Variable:                      y   R-squared:                       0.000\n",
       "Mean Model:                 Zero Mean   Adj. R-squared:                  0.001\n",
       "Vol Model:                      GARCH   Log-Likelihood:               -1815.49\n",
       "Distribution:                  Normal   AIC:                           3636.98\n",
       "Method:            Maximum Likelihood   BIC:                           3651.39\n",
       "                                        No. Observations:                  900\n",
       "Date:                Sat, Oct 09 2021   Df Residuals:                      900\n",
       "Time:                        23:54:13   Df Model:                            0\n",
       "                               Volatility Model                              \n",
       "=============================================================================\n",
       "                 coef    std err          t      P>|t|       95.0% Conf. Int.\n",
       "-----------------------------------------------------------------------------\n",
       "omega      9.4116e-03  9.857e-04      9.548  1.321e-21  [7.480e-03,1.134e-02]\n",
       "alpha[1]   2.6449e-06  3.649e-03  7.248e-04      0.999 [-7.149e-03,7.154e-03]\n",
       "beta[1]        0.9999  3.925e-03    254.763      0.000      [  0.992,  1.008]\n",
       "=============================================================================\n",
       "\n",
       "Covariance estimator: robust\n",
       "ARCHModelResult, id: 0x7f98d8060ca0>"
      ]
     },
     "execution_count": 139,
     "metadata": {},
     "output_type": "execute_result"
    }
   ],
   "source": [
    "fitted.summary"
   ]
  },
  {
   "cell_type": "code",
   "execution_count": 140,
   "id": "965788ec",
   "metadata": {},
   "outputs": [
    {
     "data": {
      "text/plain": [
       "omega       0.009412\n",
       "alpha[1]    0.000003\n",
       "beta[1]     0.999947\n",
       "Name: params, dtype: float64"
      ]
     },
     "execution_count": 140,
     "metadata": {},
     "output_type": "execute_result"
    }
   ],
   "source": [
    "fitted.params"
   ]
  },
  {
   "cell_type": "code",
   "execution_count": 147,
   "id": "b4e0d4a6",
   "metadata": {},
   "outputs": [],
   "source": [
    "forecast = fitted.forecast(reindex=False, horizon=n_test)"
   ]
  },
  {
   "cell_type": "code",
   "execution_count": 155,
   "id": "78085cb9",
   "metadata": {},
   "outputs": [
    {
     "data": {
      "text/plain": [
       "array([8.41820319, 8.42719044, 8.43617723, 8.44516358, 8.45414947,\n",
       "       8.46313491, 8.47211989, 8.48110442, 8.4900885 , 8.49907212,\n",
       "       8.5080553 , 8.51703802, 8.52602028, 8.5350021 , 8.54398346,\n",
       "       8.55296437, 8.56194482, 8.57092483, 8.57990438, 8.58888347,\n",
       "       8.59786212, 8.60684031, 8.61581805, 8.62479534, 8.63377217,\n",
       "       8.64274855, 8.65172448, 8.66069996, 8.66967498, 8.67864956,\n",
       "       8.68762368, 8.69659734, 8.70557056, 8.71454332, 8.72351563,\n",
       "       8.73248749, 8.74145889, 8.75042985, 8.75940035, 8.7683704 ,\n",
       "       8.77733999, 8.78630914, 8.79527783, 8.80424607, 8.81321386,\n",
       "       8.82218119, 8.83114807, 8.84011451, 8.84908049, 8.85804601,\n",
       "       8.86701109, 8.87597571, 8.88493988, 8.8939036 , 8.90286687,\n",
       "       8.91182969, 8.92079205, 8.92975396, 8.93871543, 8.94767643,\n",
       "       8.95663699, 8.9655971 , 8.97455675, 8.98351595, 8.9924747 ,\n",
       "       9.001433  , 9.01039085, 9.01934824, 9.02830519, 9.03726168,\n",
       "       9.04621772, 9.05517331, 9.06412845, 9.07308313, 9.08203737,\n",
       "       9.09099115, 9.09994448, 9.10889736, 9.11784979, 9.12680177,\n",
       "       9.1357533 , 9.14470437, 9.153655  , 9.16260517, 9.17155489,\n",
       "       9.18050416, 9.18945298, 9.19840135, 9.20734927, 9.21629674,\n",
       "       9.22524375, 9.23419031, 9.24313643, 9.25208209, 9.2610273 ,\n",
       "       9.26997206, 9.27891637, 9.28786023, 9.29680364, 9.30574659])"
      ]
     },
     "execution_count": 155,
     "metadata": {},
     "output_type": "execute_result"
    }
   ],
   "source": [
    "forecast.residual_variance.values[0]"
   ]
  },
  {
   "cell_type": "code",
   "execution_count": 149,
   "id": "ee458452",
   "metadata": {},
   "outputs": [
    {
     "data": {
      "text/plain": [
       "array([8.41820319, 8.42719044, 8.43617723, 8.44516358, 8.45414947,\n",
       "       8.46313491, 8.47211989, 8.48110442, 8.4900885 , 8.49907212,\n",
       "       8.5080553 , 8.51703802, 8.52602028, 8.5350021 , 8.54398346,\n",
       "       8.55296437, 8.56194482, 8.57092483, 8.57990438, 8.58888347,\n",
       "       8.59786212, 8.60684031, 8.61581805, 8.62479534, 8.63377217,\n",
       "       8.64274855, 8.65172448, 8.66069996, 8.66967498, 8.67864956,\n",
       "       8.68762368, 8.69659734, 8.70557056, 8.71454332, 8.72351563,\n",
       "       8.73248749, 8.74145889, 8.75042985, 8.75940035, 8.7683704 ,\n",
       "       8.77733999, 8.78630914, 8.79527783, 8.80424607, 8.81321386,\n",
       "       8.82218119, 8.83114807, 8.84011451, 8.84908049, 8.85804601,\n",
       "       8.86701109, 8.87597571, 8.88493988, 8.8939036 , 8.90286687,\n",
       "       8.91182969, 8.92079205, 8.92975396, 8.93871543, 8.94767643,\n",
       "       8.95663699, 8.9655971 , 8.97455675, 8.98351595, 8.9924747 ,\n",
       "       9.001433  , 9.01039085, 9.01934824, 9.02830519, 9.03726168,\n",
       "       9.04621772, 9.05517331, 9.06412845, 9.07308313, 9.08203737,\n",
       "       9.09099115, 9.09994448, 9.10889736, 9.11784979, 9.12680177,\n",
       "       9.1357533 , 9.14470437, 9.153655  , 9.16260517, 9.17155489,\n",
       "       9.18050416, 9.18945298, 9.19840135, 9.20734927, 9.21629674,\n",
       "       9.22524375, 9.23419031, 9.24313643, 9.25208209, 9.2610273 ,\n",
       "       9.26997206, 9.27891637, 9.28786023, 9.29680364, 9.30574659])"
      ]
     },
     "execution_count": 149,
     "metadata": {},
     "output_type": "execute_result"
    }
   ],
   "source": [
    "forecast.variance.values[0]"
   ]
  },
  {
   "cell_type": "code",
   "execution_count": 146,
   "id": "d99c723f",
   "metadata": {},
   "outputs": [
    {
     "data": {
      "image/png": "[encoded data removed]",
      "text/plain": [
       "<Figure size 432x288 with 1 Axes>"
      ]
     },
     "metadata": {
      "needs_background": "light"
     },
     "output_type": "display_data"
    }
   ],
   "source": [
    "plt.plot(_, label='forecast')\n",
    "plt.plot(variance[-n_test:], label='actual variance')\n",
    "\n",
    "plt.legend()\n",
    "plt.grid()\n",
    "plt.show()"
   ]
  },
  {
   "cell_type": "code",
   "execution_count": 95,
   "id": "77497746",
   "metadata": {
    "scrolled": false
   },
   "outputs": [
    {
     "name": "stdout",
     "output_type": "stream",
     "text": [
      "Help on method forecast in module arch.univariate.base:\n",
      "\n",
      "forecast(params: 'Optional[ArrayLike1D]' = None, horizon: 'int' = 1, start: 'Union[int, DateLike]' = None, align: \"Literal['origin', 'target']\" = 'origin', method: 'ForecastingMethod' = 'analytic', simulations: 'int' = 1000, rng: 'Optional[Callable[[Union[int, Tuple[int, ...]]], Float64Array]]' = None, random_state: 'Optional[np.random.RandomState]' = None, *, reindex: 'Optional[bool]' = None, x: 'Union[None, Dict[Label, ArrayLike], ArrayLike]' = None) -> 'ARCHModelForecast' method of arch.univariate.base.ARCHModelResult instance\n",
      "    Construct forecasts from estimated model\n",
      "    \n",
      "    Parameters\n",
      "    ----------\n",
      "    params : ndarray, optional\n",
      "        Alternative parameters to use.  If not provided, the parameters\n",
      "        estimated when fitting the model are used.  Must be identical in\n",
      "        shape to the parameters computed by fitting the model.\n",
      "    horizon : int, optional\n",
      "       Number of steps to forecast\n",
      "    start : {int, datetime, Timestamp, str}, optional\n",
      "        An integer, datetime or str indicating the first observation to\n",
      "        produce the forecast for.  Datetimes can only be used with pandas\n",
      "        inputs that have a datetime index. Strings must be convertible\n",
      "        to a date time, such as in '1945-01-01'.\n",
      "    align : str, optional\n",
      "        Either 'origin' or 'target'.  When set of 'origin', the t-th row\n",
      "        of forecasts contains the forecasts for t+1, t+2, ..., t+h. When\n",
      "        set to 'target', the t-th row contains the 1-step ahead forecast\n",
      "        from time t-1, the 2 step from time t-2, ..., and the h-step from\n",
      "        time t-h.  'target' simplified computing forecast errors since the\n",
      "        realization and h-step forecast are aligned.\n",
      "    method : {'analytic', 'simulation', 'bootstrap'}, optional\n",
      "        Method to use when producing the forecast. The default is analytic.\n",
      "        The method only affects the variance forecast generation.  Not all\n",
      "        volatility models support all methods. In particular, volatility\n",
      "        models that do not evolve in squares such as EGARCH or TARCH do not\n",
      "        support the 'analytic' method for horizons > 1.\n",
      "    simulations : int, optional\n",
      "        Number of simulations to run when computing the forecast using\n",
      "        either simulation or bootstrap.\n",
      "    rng : callable, optional\n",
      "        Custom random number generator to use in simulation-based forecasts.\n",
      "        Must produce random samples using the syntax `rng(size)` where size\n",
      "        the 2-element tuple (simulations, horizon).\n",
      "    random_state : RandomState, optional\n",
      "        NumPy RandomState instance to use when method is 'bootstrap'\n",
      "    reindex : bool, optional\n",
      "        Whether to reindex the forecasts to have the same dimension as the series\n",
      "        being forecast. Prior to 4.18 this was the default. As of 4.19 this is\n",
      "        now optional. If not provided, a warning is raised about the future\n",
      "        change in the default which will occur after September 2021.\n",
      "    \n",
      "        .. versionadded:: 4.19\n",
      "    \n",
      "    x : {dict[label, array_like], array_like}\n",
      "        Values to use for exogenous regressors if any are included in the\n",
      "        model. Three formats are accepted:\n",
      "    \n",
      "        * 2-d array-like: This format can be used when there is a single\n",
      "          exogenous variable. The input must have shape (nforecast, horizon)\n",
      "          or (nobs, horizon) where nforecast is the number of forecasting\n",
      "          periods and nobs is the original shape of y. For example, if a\n",
      "          single series of forecasts are made from the end of the sample\n",
      "          with a horizon of 10, then the input can be (1, 10). Alternatively,\n",
      "          if the original data had 1000 observations, then the input can be\n",
      "          (1000, 10), and only the final row is used to produce forecasts.\n",
      "        * A dictionary of 2-d array-like: This format is identical to the\n",
      "          previous except that the dictionary keys must match the names of\n",
      "          the exog variables.  Requires that the exog variables were pass\n",
      "          as a pandas DataFrame.\n",
      "        * A 3-d NumPy array (or equivalent). In this format, each panel\n",
      "          (0th axis) is a 2-d array that must have shape (nforecast, horizon)\n",
      "          or (nobs,horizon). The array x[j] corresponds to the j-th column of\n",
      "          the exogenous variables.\n",
      "    \n",
      "        Due to the complexity required to accommodate all scenarios, please\n",
      "        see the example notebook that demonstrates the valid formats for\n",
      "        x.\n",
      "    \n",
      "        .. versionadded:: 4.19\n",
      "    \n",
      "    Returns\n",
      "    -------\n",
      "    arch.univariate.base.ARCHModelForecast\n",
      "        Container for forecasts. Key properties are ``mean``,\n",
      "        ``variance`` and ``residual_variance``.\n",
      "    \n",
      "    Notes\n",
      "    -----\n",
      "    The most basic 1-step ahead forecast will return a vector with the same\n",
      "    length as the original data, where the t-th value will be the time-t\n",
      "    forecast for time t + 1.  When the horizon is > 1, and when using the\n",
      "    default value for `align`, the forecast value in position [t, h] is the\n",
      "    time-t, h+1 step ahead forecast.\n",
      "    \n",
      "    If model contains exogenous variables (`model.x is not None`), then\n",
      "    only 1-step ahead forecasts are available.  Using horizon > 1 will\n",
      "    produce a warning and all columns, except the first, will be\n",
      "    nan-filled.\n",
      "    \n",
      "    If `align` is 'origin', forecast[t,h] contains the forecast made using\n",
      "    y[:t] (that is, up to but not including t) for horizon h + 1.  For\n",
      "    example, y[100,2] contains the 3-step ahead forecast using the first\n",
      "    100 data points, which will correspond to the realization y[100 + 2].\n",
      "    If `align` is 'target', then the same forecast is in location\n",
      "    [102, 2], so that it is aligned with the observation to use when\n",
      "    evaluating, but still in the same column.\n",
      "\n"
     ]
    }
   ],
   "source": [
    "help(fitted.forecast)"
   ]
  },
  {
   "cell_type": "code",
   "execution_count": null,
   "id": "787acdbd",
   "metadata": {},
   "outputs": [],
   "source": []
  },
  {
   "cell_type": "code",
   "execution_count": null,
   "id": "4820d6ab",
   "metadata": {},
   "outputs": [],
   "source": []
  }
 ],
 "metadata": {
  "kernelspec": {
   "display_name": "Python 3 (ipykernel)",
   "language": "python",
   "name": "python3"
  },
  "language_info": {
   "codemirror_mode": {
    "name": "ipython",
    "version": 3
   },
   "file_extension": ".py",
   "mimetype": "text/x-python",
   "name": "python",
   "nbconvert_exporter": "python",
   "pygments_lexer": "ipython3",
   "version": "3.9.7"
  }
 },
 "nbformat": 4,
 "nbformat_minor": 5
}
