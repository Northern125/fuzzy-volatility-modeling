{
 "cells": [
  {
   "cell_type": "code",
   "execution_count": 1,
   "id": "dddaf7cd",
   "metadata": {},
   "outputs": [],
   "source": [
    "import logging\n",
    "import numpy as np\n",
    "import pandas as pd\n",
    "from arch import arch_model\n",
    "from random import gauss\n",
    "from random import seed\n",
    "from matplotlib import pyplot as plt\n",
    "import scipy.stats as sts"
   ]
  },
  {
   "cell_type": "code",
   "execution_count": 2,
   "id": "cc95b96f",
   "metadata": {},
   "outputs": [],
   "source": [
    "from rules_related import combine_rules_outputs\n",
    "from whole_algorithm import train_model\n",
    "from auxiliary import calc_log_returns\n",
    "from multivariate_normal_distribution import LongMultivariateNormal"
   ]
  },
  {
   "cell_type": "markdown",
   "id": "cd38f1bd",
   "metadata": {},
   "source": [
    "# Testing GARCH"
   ]
  },
  {
   "cell_type": "markdown",
   "id": "d82ddb36",
   "metadata": {},
   "source": [
    "## #1 increasing dispersion, increments are normal"
   ]
  },
  {
   "cell_type": "code",
   "execution_count": 3,
   "id": "dde46169",
   "metadata": {},
   "outputs": [
    {
     "data": {
      "image/png": "[encoded data removed]",
      "text/plain": [
       "<Figure size 432x288 with 1 Axes>"
      ]
     },
     "metadata": {
      "needs_background": "light"
     },
     "output_type": "display_data"
    }
   ],
   "source": [
    "# create dataset\n",
    "variance = np.arange(0, 10, .01)\n",
    "# data = [gauss(0, var) for var in variance]\n",
    "data = [sts.norm(0, var ** .5).rvs(1) for var in variance]\n",
    "\n",
    "# plot\n",
    "plt.plot(data)\n",
    "\n",
    "plt.grid()\n",
    "plt.show()"
   ]
  },
  {
   "cell_type": "code",
   "execution_count": 4,
   "id": "b71a160f",
   "metadata": {},
   "outputs": [],
   "source": [
    "n_test = 100\n",
    "\n",
    "train, test = data[:-n_test], data[-n_test:]"
   ]
  },
  {
   "cell_type": "code",
   "execution_count": 5,
   "id": "adee7397",
   "metadata": {},
   "outputs": [],
   "source": [
    "p = 1\n",
    "q = 1"
   ]
  },
  {
   "cell_type": "code",
   "execution_count": 6,
   "id": "4704898b",
   "metadata": {},
   "outputs": [],
   "source": [
    "model = arch_model(train, mean='Zero', vol='GARCH', p=p, q=q, dist='normal')"
   ]
  },
  {
   "cell_type": "code",
   "execution_count": 7,
   "id": "c57397b2",
   "metadata": {},
   "outputs": [
    {
     "name": "stdout",
     "output_type": "stream",
     "text": [
      "Iteration:      1,   Func. Count:      5,   Neg. LLF: 11122.271146401137\n",
      "Iteration:      2,   Func. Count:     10,   Neg. LLF: 11122.316889084086\n",
      "Iteration:      3,   Func. Count:     15,   Neg. LLF: 11122.316889084086\n",
      "Iteration:      4,   Func. Count:     20,   Neg. LLF: 11122.316889084086\n",
      "Iteration:      5,   Func. Count:     25,   Neg. LLF: 1162262.4464627332\n",
      "Iteration:      6,   Func. Count:     31,   Neg. LLF: 1845.764272022091\n",
      "Iteration:      7,   Func. Count:     35,   Neg. LLF: 2220.0356942603335\n",
      "Iteration:      8,   Func. Count:     40,   Neg. LLF: 1842.124629861237\n",
      "Iteration:      9,   Func. Count:     45,   Neg. LLF: 1833.9620227652983\n",
      "Iteration:     10,   Func. Count:     50,   Neg. LLF: 1831.5163661769127\n",
      "Iteration:     11,   Func. Count:     54,   Neg. LLF: 1834.4276394890376\n",
      "Iteration:     12,   Func. Count:     59,   Neg. LLF: 1830.268340971125\n",
      "Iteration:     13,   Func. Count:     63,   Neg. LLF: 1830.2003158383484\n",
      "Iteration:     14,   Func. Count:     77,   Neg. LLF: 1830.314624919917\n",
      "Iteration:     15,   Func. Count:     82,   Neg. LLF: 1830.299799517505\n",
      "Iteration:     16,   Func. Count:     86,   Neg. LLF: 1830.2997792891097\n",
      "Iteration:     17,   Func. Count:     90,   Neg. LLF: 1830.2997771821256\n",
      "Optimization terminated successfully    (Exit mode 0)\n",
      "            Current function value: 1830.2997771821256\n",
      "            Iterations: 18\n",
      "            Function evaluations: 90\n",
      "            Gradient evaluations: 17\n"
     ]
    }
   ],
   "source": [
    "fitted = model.fit()"
   ]
  },
  {
   "cell_type": "code",
   "execution_count": 8,
   "id": "1f402658",
   "metadata": {},
   "outputs": [
    {
     "data": {
      "text/plain": [
       "<bound method ARCHModelResult.summary of                        Zero Mean - GARCH Model Results                        \n",
       "==============================================================================\n",
       "Dep. Variable:                      y   R-squared:                       0.000\n",
       "Mean Model:                 Zero Mean   Adj. R-squared:                  0.001\n",
       "Vol Model:                      GARCH   Log-Likelihood:               -1830.30\n",
       "Distribution:                  Normal   AIC:                           3666.60\n",
       "Method:            Maximum Likelihood   BIC:                           3681.01\n",
       "                                        No. Observations:                  900\n",
       "Date:                Sun, Oct 17 2021   Df Residuals:                      900\n",
       "Time:                        19:33:52   Df Model:                            0\n",
       "                               Volatility Model                              \n",
       "=============================================================================\n",
       "                 coef    std err          t      P>|t|       95.0% Conf. Int.\n",
       "-----------------------------------------------------------------------------\n",
       "omega      9.4018e-03  1.182e-03      7.956  1.782e-15  [7.086e-03,1.172e-02]\n",
       "alpha[1]       0.0000  3.096e-03      0.000      1.000 [-6.069e-03,6.069e-03]\n",
       "beta[1]        1.0000  3.234e-03    309.193      0.000      [  0.994,  1.006]\n",
       "=============================================================================\n",
       "\n",
       "Covariance estimator: robust\n",
       "ARCHModelResult, id: 0x7fd267e472e0>"
      ]
     },
     "execution_count": 8,
     "metadata": {},
     "output_type": "execute_result"
    }
   ],
   "source": [
    "fitted.summary"
   ]
  },
  {
   "cell_type": "code",
   "execution_count": 9,
   "id": "965788ec",
   "metadata": {},
   "outputs": [
    {
     "data": {
      "text/plain": [
       "omega       0.009402\n",
       "alpha[1]    0.000000\n",
       "beta[1]     1.000000\n",
       "Name: params, dtype: float64"
      ]
     },
     "execution_count": 9,
     "metadata": {},
     "output_type": "execute_result"
    }
   ],
   "source": [
    "fitted.params"
   ]
  },
  {
   "cell_type": "code",
   "execution_count": 10,
   "id": "b4e0d4a6",
   "metadata": {},
   "outputs": [],
   "source": [
    "forecast = fitted.forecast(reindex=False, horizon=n_test)"
   ]
  },
  {
   "cell_type": "code",
   "execution_count": 11,
   "id": "78085cb9",
   "metadata": {},
   "outputs": [
    {
     "data": {
      "text/plain": [
       "array([8.65772483, 8.66712659, 8.67652835, 8.68593011, 8.69533187,\n",
       "       8.70473363, 8.71413538, 8.72353714, 8.7329389 , 8.74234066,\n",
       "       8.75174242, 8.76114418, 8.77054593, 8.77994769, 8.78934945,\n",
       "       8.79875121, 8.80815297, 8.81755473, 8.82695648, 8.83635824,\n",
       "       8.84576   , 8.85516176, 8.86456352, 8.87396528, 8.88336703,\n",
       "       8.89276879, 8.90217055, 8.91157231, 8.92097407, 8.93037583,\n",
       "       8.93977758, 8.94917934, 8.9585811 , 8.96798286, 8.97738462,\n",
       "       8.98678638, 8.99618814, 9.00558989, 9.01499165, 9.02439341,\n",
       "       9.03379517, 9.04319693, 9.05259869, 9.06200044, 9.0714022 ,\n",
       "       9.08080396, 9.09020572, 9.09960748, 9.10900924, 9.11841099,\n",
       "       9.12781275, 9.13721451, 9.14661627, 9.15601803, 9.16541979,\n",
       "       9.17482154, 9.1842233 , 9.19362506, 9.20302682, 9.21242858,\n",
       "       9.22183034, 9.23123209, 9.24063385, 9.25003561, 9.25943737,\n",
       "       9.26883913, 9.27824089, 9.28764265, 9.2970444 , 9.30644616,\n",
       "       9.31584792, 9.32524968, 9.33465144, 9.3440532 , 9.35345495,\n",
       "       9.36285671, 9.37225847, 9.38166023, 9.39106199, 9.40046375,\n",
       "       9.4098655 , 9.41926726, 9.42866902, 9.43807078, 9.44747254,\n",
       "       9.4568743 , 9.46627605, 9.47567781, 9.48507957, 9.49448133,\n",
       "       9.50388309, 9.51328485, 9.5226866 , 9.53208836, 9.54149012,\n",
       "       9.55089188, 9.56029364, 9.5696954 , 9.57909715, 9.58849891])"
      ]
     },
     "execution_count": 11,
     "metadata": {},
     "output_type": "execute_result"
    }
   ],
   "source": [
    "forecast.residual_variance.values[0]"
   ]
  },
  {
   "cell_type": "code",
   "execution_count": 12,
   "id": "ee458452",
   "metadata": {},
   "outputs": [
    {
     "data": {
      "text/plain": [
       "array([8.65772483, 8.66712659, 8.67652835, 8.68593011, 8.69533187,\n",
       "       8.70473363, 8.71413538, 8.72353714, 8.7329389 , 8.74234066,\n",
       "       8.75174242, 8.76114418, 8.77054593, 8.77994769, 8.78934945,\n",
       "       8.79875121, 8.80815297, 8.81755473, 8.82695648, 8.83635824,\n",
       "       8.84576   , 8.85516176, 8.86456352, 8.87396528, 8.88336703,\n",
       "       8.89276879, 8.90217055, 8.91157231, 8.92097407, 8.93037583,\n",
       "       8.93977758, 8.94917934, 8.9585811 , 8.96798286, 8.97738462,\n",
       "       8.98678638, 8.99618814, 9.00558989, 9.01499165, 9.02439341,\n",
       "       9.03379517, 9.04319693, 9.05259869, 9.06200044, 9.0714022 ,\n",
       "       9.08080396, 9.09020572, 9.09960748, 9.10900924, 9.11841099,\n",
       "       9.12781275, 9.13721451, 9.14661627, 9.15601803, 9.16541979,\n",
       "       9.17482154, 9.1842233 , 9.19362506, 9.20302682, 9.21242858,\n",
       "       9.22183034, 9.23123209, 9.24063385, 9.25003561, 9.25943737,\n",
       "       9.26883913, 9.27824089, 9.28764265, 9.2970444 , 9.30644616,\n",
       "       9.31584792, 9.32524968, 9.33465144, 9.3440532 , 9.35345495,\n",
       "       9.36285671, 9.37225847, 9.38166023, 9.39106199, 9.40046375,\n",
       "       9.4098655 , 9.41926726, 9.42866902, 9.43807078, 9.44747254,\n",
       "       9.4568743 , 9.46627605, 9.47567781, 9.48507957, 9.49448133,\n",
       "       9.50388309, 9.51328485, 9.5226866 , 9.53208836, 9.54149012,\n",
       "       9.55089188, 9.56029364, 9.5696954 , 9.57909715, 9.58849891])"
      ]
     },
     "execution_count": 12,
     "metadata": {},
     "output_type": "execute_result"
    }
   ],
   "source": [
    "forecast.variance.values[0]"
   ]
  },
  {
   "cell_type": "code",
   "execution_count": 13,
   "id": "d99c723f",
   "metadata": {},
   "outputs": [
    {
     "data": {
      "image/png": "[encoded data removed]",
      "text/plain": [
       "<Figure size 432x288 with 1 Axes>"
      ]
     },
     "metadata": {
      "needs_background": "light"
     },
     "output_type": "display_data"
    }
   ],
   "source": [
    "plt.plot(_, label='forecast')\n",
    "plt.plot(variance[-n_test:], label='actual variance')\n",
    "\n",
    "plt.legend()\n",
    "plt.grid()\n",
    "plt.show()"
   ]
  },
  {
   "cell_type": "code",
   "execution_count": 14,
   "id": "77497746",
   "metadata": {
    "scrolled": true
   },
   "outputs": [
    {
     "name": "stdout",
     "output_type": "stream",
     "text": [
      "Help on method forecast in module arch.univariate.base:\n",
      "\n",
      "forecast(params: 'Optional[ArrayLike1D]' = None, horizon: 'int' = 1, start: 'Union[int, DateLike]' = None, align: \"Literal['origin', 'target']\" = 'origin', method: 'ForecastingMethod' = 'analytic', simulations: 'int' = 1000, rng: 'Optional[Callable[[Union[int, Tuple[int, ...]]], Float64Array]]' = None, random_state: 'Optional[np.random.RandomState]' = None, *, reindex: 'Optional[bool]' = None, x: 'Union[None, Dict[Label, ArrayLike], ArrayLike]' = None) -> 'ARCHModelForecast' method of arch.univariate.base.ARCHModelResult instance\n",
      "    Construct forecasts from estimated model\n",
      "    \n",
      "    Parameters\n",
      "    ----------\n",
      "    params : ndarray, optional\n",
      "        Alternative parameters to use.  If not provided, the parameters\n",
      "        estimated when fitting the model are used.  Must be identical in\n",
      "        shape to the parameters computed by fitting the model.\n",
      "    horizon : int, optional\n",
      "       Number of steps to forecast\n",
      "    start : {int, datetime, Timestamp, str}, optional\n",
      "        An integer, datetime or str indicating the first observation to\n",
      "        produce the forecast for.  Datetimes can only be used with pandas\n",
      "        inputs that have a datetime index. Strings must be convertible\n",
      "        to a date time, such as in '1945-01-01'.\n",
      "    align : str, optional\n",
      "        Either 'origin' or 'target'.  When set of 'origin', the t-th row\n",
      "        of forecasts contains the forecasts for t+1, t+2, ..., t+h. When\n",
      "        set to 'target', the t-th row contains the 1-step ahead forecast\n",
      "        from time t-1, the 2 step from time t-2, ..., and the h-step from\n",
      "        time t-h.  'target' simplified computing forecast errors since the\n",
      "        realization and h-step forecast are aligned.\n",
      "    method : {'analytic', 'simulation', 'bootstrap'}, optional\n",
      "        Method to use when producing the forecast. The default is analytic.\n",
      "        The method only affects the variance forecast generation.  Not all\n",
      "        volatility models support all methods. In particular, volatility\n",
      "        models that do not evolve in squares such as EGARCH or TARCH do not\n",
      "        support the 'analytic' method for horizons > 1.\n",
      "    simulations : int, optional\n",
      "        Number of simulations to run when computing the forecast using\n",
      "        either simulation or bootstrap.\n",
      "    rng : callable, optional\n",
      "        Custom random number generator to use in simulation-based forecasts.\n",
      "        Must produce random samples using the syntax `rng(size)` where size\n",
      "        the 2-element tuple (simulations, horizon).\n",
      "    random_state : RandomState, optional\n",
      "        NumPy RandomState instance to use when method is 'bootstrap'\n",
      "    reindex : bool, optional\n",
      "        Whether to reindex the forecasts to have the same dimension as the series\n",
      "        being forecast. Prior to 4.18 this was the default. As of 4.19 this is\n",
      "        now optional. If not provided, a warning is raised about the future\n",
      "        change in the default which will occur after September 2021.\n",
      "    \n",
      "        .. versionadded:: 4.19\n",
      "    \n",
      "    x : {dict[label, array_like], array_like}\n",
      "        Values to use for exogenous regressors if any are included in the\n",
      "        model. Three formats are accepted:\n",
      "    \n",
      "        * 2-d array-like: This format can be used when there is a single\n",
      "          exogenous variable. The input must have shape (nforecast, horizon)\n",
      "          or (nobs, horizon) where nforecast is the number of forecasting\n",
      "          periods and nobs is the original shape of y. For example, if a\n",
      "          single series of forecasts are made from the end of the sample\n",
      "          with a horizon of 10, then the input can be (1, 10). Alternatively,\n",
      "          if the original data had 1000 observations, then the input can be\n",
      "          (1000, 10), and only the final row is used to produce forecasts.\n",
      "        * A dictionary of 2-d array-like: This format is identical to the\n",
      "          previous except that the dictionary keys must match the names of\n",
      "          the exog variables.  Requires that the exog variables were pass\n",
      "          as a pandas DataFrame.\n",
      "        * A 3-d NumPy array (or equivalent). In this format, each panel\n",
      "          (0th axis) is a 2-d array that must have shape (nforecast, horizon)\n",
      "          or (nobs,horizon). The array x[j] corresponds to the j-th column of\n",
      "          the exogenous variables.\n",
      "    \n",
      "        Due to the complexity required to accommodate all scenarios, please\n",
      "        see the example notebook that demonstrates the valid formats for\n",
      "        x.\n",
      "    \n",
      "        .. versionadded:: 4.19\n",
      "    \n",
      "    Returns\n",
      "    -------\n",
      "    arch.univariate.base.ARCHModelForecast\n",
      "        Container for forecasts. Key properties are ``mean``,\n",
      "        ``variance`` and ``residual_variance``.\n",
      "    \n",
      "    Notes\n",
      "    -----\n",
      "    The most basic 1-step ahead forecast will return a vector with the same\n",
      "    length as the original data, where the t-th value will be the time-t\n",
      "    forecast for time t + 1.  When the horizon is > 1, and when using the\n",
      "    default value for `align`, the forecast value in position [t, h] is the\n",
      "    time-t, h+1 step ahead forecast.\n",
      "    \n",
      "    If model contains exogenous variables (`model.x is not None`), then\n",
      "    only 1-step ahead forecasts are available.  Using horizon > 1 will\n",
      "    produce a warning and all columns, except the first, will be\n",
      "    nan-filled.\n",
      "    \n",
      "    If `align` is 'origin', forecast[t,h] contains the forecast made using\n",
      "    y[:t] (that is, up to but not including t) for horizon h + 1.  For\n",
      "    example, y[100,2] contains the 3-step ahead forecast using the first\n",
      "    100 data points, which will correspond to the realization y[100 + 2].\n",
      "    If `align` is 'target', then the same forecast is in location\n",
      "    [102, 2], so that it is aligned with the observation to use when\n",
      "    evaluating, but still in the same column.\n",
      "\n"
     ]
    }
   ],
   "source": [
    "help(fitted.forecast)"
   ]
  },
  {
   "cell_type": "markdown",
   "id": "654b6df1",
   "metadata": {},
   "source": [
    "## #2 white noise (Wiener process) "
   ]
  },
  {
   "cell_type": "code",
   "execution_count": 15,
   "id": "fe97e532",
   "metadata": {},
   "outputs": [
    {
     "data": {
      "image/png": "[encoded data removed]",
      "text/plain": [
       "<Figure size 432x288 with 1 Axes>"
      ]
     },
     "metadata": {
      "needs_background": "light"
     },
     "output_type": "display_data"
    }
   ],
   "source": [
    "# create dataset\n",
    "sample_size = 1000\n",
    "mean = 0\n",
    "variance = 1\n",
    "# data = [sts.norm(0, var ** .5).rvs(1) for var in variance]\n",
    "data = sts.norm(mean, variance ** .5).rvs(sample_size)\n",
    "\n",
    "# plot\n",
    "plt.plot(data)\n",
    "\n",
    "plt.grid()\n",
    "plt.show()"
   ]
  },
  {
   "cell_type": "code",
   "execution_count": 16,
   "id": "bfce349f",
   "metadata": {},
   "outputs": [],
   "source": [
    "n_test = int(sample_size / 10)\n",
    "\n",
    "train, test = data[:-n_test], data[-n_test:]"
   ]
  },
  {
   "cell_type": "code",
   "execution_count": 17,
   "id": "2a096b0a",
   "metadata": {},
   "outputs": [],
   "source": [
    "p = 1\n",
    "q = 1"
   ]
  },
  {
   "cell_type": "code",
   "execution_count": 18,
   "id": "9da1d632",
   "metadata": {},
   "outputs": [],
   "source": [
    "model = arch_model(train, mean='Zero', vol='GARCH', p=p, q=q, dist='normal')"
   ]
  },
  {
   "cell_type": "code",
   "execution_count": 19,
   "id": "27560e72",
   "metadata": {},
   "outputs": [
    {
     "name": "stdout",
     "output_type": "stream",
     "text": [
      "Iteration:      1,   Func. Count:      5,   Neg. LLF: 4049.598349385039\n",
      "Iteration:      2,   Func. Count:     13,   Neg. LLF: 1275.7574822799052\n",
      "Iteration:      3,   Func. Count:     17,   Neg. LLF: 1275.7574316181242\n",
      "Iteration:      4,   Func. Count:     21,   Neg. LLF: 1275.7573347465811\n",
      "Iteration:      5,   Func. Count:     25,   Neg. LLF: 1275.753531107492\n",
      "Iteration:      6,   Func. Count:     29,   Neg. LLF: 1275.7166245814215\n",
      "Iteration:      7,   Func. Count:     33,   Neg. LLF: 1275.7157775384685\n",
      "Iteration:      8,   Func. Count:     37,   Neg. LLF: 1275.7139288177998\n",
      "Iteration:      9,   Func. Count:     41,   Neg. LLF: 1275.7138840961484\n",
      "Iteration:     10,   Func. Count:     44,   Neg. LLF: 1275.713884097716\n",
      "Optimization terminated successfully    (Exit mode 0)\n",
      "            Current function value: 1275.7138840961484\n",
      "            Iterations: 10\n",
      "            Function evaluations: 44\n",
      "            Gradient evaluations: 10\n"
     ]
    }
   ],
   "source": [
    "fitted = model.fit()"
   ]
  },
  {
   "cell_type": "code",
   "execution_count": 20,
   "id": "09b7c817",
   "metadata": {},
   "outputs": [
    {
     "data": {
      "text/plain": [
       "<bound method ARCHModelResult.summary of                        Zero Mean - GARCH Model Results                        \n",
       "==============================================================================\n",
       "Dep. Variable:                      y   R-squared:                       0.000\n",
       "Mean Model:                 Zero Mean   Adj. R-squared:                  0.001\n",
       "Vol Model:                      GARCH   Log-Likelihood:               -1275.71\n",
       "Distribution:                  Normal   AIC:                           2557.43\n",
       "Method:            Maximum Likelihood   BIC:                           2571.83\n",
       "                                        No. Observations:                  900\n",
       "Date:                Sun, Oct 17 2021   Df Residuals:                      900\n",
       "Time:                        19:33:53   Df Model:                            0\n",
       "                               Volatility Model                              \n",
       "=============================================================================\n",
       "                 coef    std err          t      P>|t|       95.0% Conf. Int.\n",
       "-----------------------------------------------------------------------------\n",
       "omega          0.9970      0.886      1.125      0.261      [ -0.740,  2.734]\n",
       "alpha[1]       0.0000  7.021e-03      0.000      1.000 [-1.376e-02,1.376e-02]\n",
       "beta[1]    1.0688e-14      0.891  1.200e-14      1.000      [ -1.746,  1.746]\n",
       "=============================================================================\n",
       "\n",
       "Covariance estimator: robust\n",
       "ARCHModelResult, id: 0x7fd2680f0160>"
      ]
     },
     "execution_count": 20,
     "metadata": {},
     "output_type": "execute_result"
    }
   ],
   "source": [
    "fitted.summary"
   ]
  },
  {
   "cell_type": "code",
   "execution_count": 21,
   "id": "3ea89952",
   "metadata": {},
   "outputs": [
    {
     "data": {
      "text/plain": [
       "omega       9.970444e-01\n",
       "alpha[1]    0.000000e+00\n",
       "beta[1]     1.068801e-14\n",
       "Name: params, dtype: float64"
      ]
     },
     "execution_count": 21,
     "metadata": {},
     "output_type": "execute_result"
    }
   ],
   "source": [
    "fitted.params"
   ]
  },
  {
   "cell_type": "code",
   "execution_count": 22,
   "id": "b0068ab3",
   "metadata": {},
   "outputs": [],
   "source": [
    "forecast = fitted.forecast(reindex=False, horizon=n_test)"
   ]
  },
  {
   "cell_type": "code",
   "execution_count": 23,
   "id": "ebfeeb34",
   "metadata": {},
   "outputs": [],
   "source": [
    "forecast_variance = forecast.variance.values[0]"
   ]
  },
  {
   "cell_type": "code",
   "execution_count": 24,
   "id": "a61c7d1e",
   "metadata": {},
   "outputs": [
    {
     "data": {
      "image/png": "[encoded data removed]",
      "text/plain": [
       "<Figure size 432x288 with 1 Axes>"
      ]
     },
     "metadata": {
      "needs_background": "light"
     },
     "output_type": "display_data"
    }
   ],
   "source": [
    "plt.plot(forecast_variance, label='forecast')\n",
    "plt.plot([variance] * n_test, label='actual variance')\n",
    "\n",
    "plt.legend()\n",
    "plt.grid()\n",
    "plt.show()"
   ]
  },
  {
   "cell_type": "markdown",
   "id": "c087b95a",
   "metadata": {},
   "source": [
    "# Reading files"
   ]
  },
  {
   "cell_type": "code",
   "execution_count": 25,
   "id": "71e77c57",
   "metadata": {},
   "outputs": [],
   "source": [
    "rtsi = pd.read_csv('files/RI.RTSI_790101_211016.csv', sep=',')"
   ]
  },
  {
   "cell_type": "code",
   "execution_count": 26,
   "id": "9082f7cd",
   "metadata": {},
   "outputs": [
    {
     "data": {
      "text/plain": [
       "False"
      ]
     },
     "execution_count": 26,
     "metadata": {},
     "output_type": "execute_result"
    }
   ],
   "source": [
    "(rtsi['<TICKER>'] != 'RI.RTSI').any()"
   ]
  },
  {
   "cell_type": "code",
   "execution_count": 27,
   "id": "4782abb8",
   "metadata": {},
   "outputs": [
    {
     "data": {
      "text/plain": [
       "False"
      ]
     },
     "execution_count": 27,
     "metadata": {},
     "output_type": "execute_result"
    }
   ],
   "source": [
    "(rtsi['<TIME>'] != '00:00:00').any()"
   ]
  },
  {
   "cell_type": "code",
   "execution_count": 28,
   "id": "50a9e501",
   "metadata": {},
   "outputs": [],
   "source": [
    "rtsi.drop(columns=['<PER>', '<TIME>', '<TICKER>'], inplace=True)"
   ]
  },
  {
   "cell_type": "code",
   "execution_count": 29,
   "id": "88223cde",
   "metadata": {},
   "outputs": [],
   "source": [
    "rtsi['<DATE>'] = pd.to_datetime(rtsi['<DATE>'], format='%Y%m%d')"
   ]
  },
  {
   "cell_type": "code",
   "execution_count": 30,
   "id": "ccb1d0e0",
   "metadata": {},
   "outputs": [],
   "source": [
    "rtsi.set_index('<DATE>', inplace=True)"
   ]
  },
  {
   "cell_type": "code",
   "execution_count": 31,
   "id": "34f2180a",
   "metadata": {},
   "outputs": [],
   "source": [
    "rtsi['return'] = rtsi['<CLOSE>'].pct_change(1)"
   ]
  },
  {
   "cell_type": "code",
   "execution_count": 32,
   "id": "91e0ca55",
   "metadata": {},
   "outputs": [],
   "source": [
    "rtsi['log return'] = calc_log_returns(rtsi['<CLOSE>'])  # rtsi['<CLOSE>'].rolling(2).apply(lambda values: np.log(values[1] / values[0])).copy()"
   ]
  },
  {
   "cell_type": "code",
   "execution_count": 33,
   "id": "f609cfd0",
   "metadata": {},
   "outputs": [],
   "source": [
    "rtsi = rtsi.iloc[1:].copy()"
   ]
  },
  {
   "cell_type": "code",
   "execution_count": 34,
   "id": "c2fb0e47",
   "metadata": {},
   "outputs": [
    {
     "data": {
      "text/plain": [
       "<OPEN>        False\n",
       "<HIGH>        False\n",
       "<LOW>         False\n",
       "<CLOSE>       False\n",
       "<VOL>         False\n",
       "return        False\n",
       "log return    False\n",
       "dtype: bool"
      ]
     },
     "execution_count": 34,
     "metadata": {},
     "output_type": "execute_result"
    }
   ],
   "source": [
    "rtsi.isna().any()"
   ]
  },
  {
   "cell_type": "code",
   "execution_count": 35,
   "id": "4e0f5233",
   "metadata": {},
   "outputs": [
    {
     "data": {
      "text/html": [
       "<div>\n",
       "<style scoped>\n",
       "    .dataframe tbody tr th:only-of-type {\n",
       "        vertical-align: middle;\n",
       "    }\n",
       "\n",
       "    .dataframe tbody tr th {\n",
       "        vertical-align: top;\n",
       "    }\n",
       "\n",
       "    .dataframe thead th {\n",
       "        text-align: right;\n",
       "    }\n",
       "</style>\n",
       "<table border=\"1\" class=\"dataframe\">\n",
       "  <thead>\n",
       "    <tr style=\"text-align: right;\">\n",
       "      <th></th>\n",
       "      <th>&lt;OPEN&gt;</th>\n",
       "      <th>&lt;HIGH&gt;</th>\n",
       "      <th>&lt;LOW&gt;</th>\n",
       "      <th>&lt;CLOSE&gt;</th>\n",
       "      <th>&lt;VOL&gt;</th>\n",
       "      <th>return</th>\n",
       "      <th>log return</th>\n",
       "    </tr>\n",
       "    <tr>\n",
       "      <th>&lt;DATE&gt;</th>\n",
       "      <th></th>\n",
       "      <th></th>\n",
       "      <th></th>\n",
       "      <th></th>\n",
       "      <th></th>\n",
       "      <th></th>\n",
       "      <th></th>\n",
       "    </tr>\n",
       "  </thead>\n",
       "  <tbody>\n",
       "    <tr>\n",
       "      <th>2001-02-18</th>\n",
       "      <td>180.10</td>\n",
       "      <td>180.10</td>\n",
       "      <td>180.10</td>\n",
       "      <td>180.10</td>\n",
       "      <td>0</td>\n",
       "      <td>0.000000</td>\n",
       "      <td>0.000000</td>\n",
       "    </tr>\n",
       "    <tr>\n",
       "      <th>2001-02-19</th>\n",
       "      <td>180.10</td>\n",
       "      <td>181.21</td>\n",
       "      <td>176.67</td>\n",
       "      <td>177.29</td>\n",
       "      <td>0</td>\n",
       "      <td>-0.015602</td>\n",
       "      <td>-0.015725</td>\n",
       "    </tr>\n",
       "    <tr>\n",
       "      <th>2001-02-20</th>\n",
       "      <td>177.29</td>\n",
       "      <td>179.90</td>\n",
       "      <td>175.28</td>\n",
       "      <td>176.45</td>\n",
       "      <td>0</td>\n",
       "      <td>-0.004738</td>\n",
       "      <td>-0.004749</td>\n",
       "    </tr>\n",
       "    <tr>\n",
       "      <th>2001-02-21</th>\n",
       "      <td>176.45</td>\n",
       "      <td>176.45</td>\n",
       "      <td>161.12</td>\n",
       "      <td>162.39</td>\n",
       "      <td>0</td>\n",
       "      <td>-0.079683</td>\n",
       "      <td>-0.083037</td>\n",
       "    </tr>\n",
       "    <tr>\n",
       "      <th>2001-02-22</th>\n",
       "      <td>162.39</td>\n",
       "      <td>168.35</td>\n",
       "      <td>162.39</td>\n",
       "      <td>168.31</td>\n",
       "      <td>0</td>\n",
       "      <td>0.036455</td>\n",
       "      <td>0.035807</td>\n",
       "    </tr>\n",
       "    <tr>\n",
       "      <th>...</th>\n",
       "      <td>...</td>\n",
       "      <td>...</td>\n",
       "      <td>...</td>\n",
       "      <td>...</td>\n",
       "      <td>...</td>\n",
       "      <td>...</td>\n",
       "      <td>...</td>\n",
       "    </tr>\n",
       "    <tr>\n",
       "      <th>2021-10-11</th>\n",
       "      <td>1871.73</td>\n",
       "      <td>1883.71</td>\n",
       "      <td>1867.58</td>\n",
       "      <td>1882.43</td>\n",
       "      <td>1769145502</td>\n",
       "      <td>0.011537</td>\n",
       "      <td>0.011471</td>\n",
       "    </tr>\n",
       "    <tr>\n",
       "      <th>2021-10-12</th>\n",
       "      <td>1867.15</td>\n",
       "      <td>1876.79</td>\n",
       "      <td>1860.64</td>\n",
       "      <td>1869.94</td>\n",
       "      <td>1386130631</td>\n",
       "      <td>-0.006635</td>\n",
       "      <td>-0.006657</td>\n",
       "    </tr>\n",
       "    <tr>\n",
       "      <th>2021-10-13</th>\n",
       "      <td>1869.05</td>\n",
       "      <td>1869.05</td>\n",
       "      <td>1835.80</td>\n",
       "      <td>1855.11</td>\n",
       "      <td>1830447018</td>\n",
       "      <td>-0.007931</td>\n",
       "      <td>-0.007962</td>\n",
       "    </tr>\n",
       "    <tr>\n",
       "      <th>2021-10-14</th>\n",
       "      <td>1875.38</td>\n",
       "      <td>1890.46</td>\n",
       "      <td>1873.37</td>\n",
       "      <td>1875.97</td>\n",
       "      <td>1495256910</td>\n",
       "      <td>0.011245</td>\n",
       "      <td>0.011182</td>\n",
       "    </tr>\n",
       "    <tr>\n",
       "      <th>2021-10-15</th>\n",
       "      <td>1888.52</td>\n",
       "      <td>1893.71</td>\n",
       "      <td>1878.47</td>\n",
       "      <td>1891.56</td>\n",
       "      <td>1305644791</td>\n",
       "      <td>0.008310</td>\n",
       "      <td>0.008276</td>\n",
       "    </tr>\n",
       "  </tbody>\n",
       "</table>\n",
       "<p>5174 rows × 7 columns</p>\n",
       "</div>"
      ],
      "text/plain": [
       "             <OPEN>   <HIGH>    <LOW>  <CLOSE>       <VOL>    return  \\\n",
       "<DATE>                                                                 \n",
       "2001-02-18   180.10   180.10   180.10   180.10           0  0.000000   \n",
       "2001-02-19   180.10   181.21   176.67   177.29           0 -0.015602   \n",
       "2001-02-20   177.29   179.90   175.28   176.45           0 -0.004738   \n",
       "2001-02-21   176.45   176.45   161.12   162.39           0 -0.079683   \n",
       "2001-02-22   162.39   168.35   162.39   168.31           0  0.036455   \n",
       "...             ...      ...      ...      ...         ...       ...   \n",
       "2021-10-11  1871.73  1883.71  1867.58  1882.43  1769145502  0.011537   \n",
       "2021-10-12  1867.15  1876.79  1860.64  1869.94  1386130631 -0.006635   \n",
       "2021-10-13  1869.05  1869.05  1835.80  1855.11  1830447018 -0.007931   \n",
       "2021-10-14  1875.38  1890.46  1873.37  1875.97  1495256910  0.011245   \n",
       "2021-10-15  1888.52  1893.71  1878.47  1891.56  1305644791  0.008310   \n",
       "\n",
       "            log return  \n",
       "<DATE>                  \n",
       "2001-02-18    0.000000  \n",
       "2001-02-19   -0.015725  \n",
       "2001-02-20   -0.004749  \n",
       "2001-02-21   -0.083037  \n",
       "2001-02-22    0.035807  \n",
       "...                ...  \n",
       "2021-10-11    0.011471  \n",
       "2021-10-12   -0.006657  \n",
       "2021-10-13   -0.007962  \n",
       "2021-10-14    0.011182  \n",
       "2021-10-15    0.008276  \n",
       "\n",
       "[5174 rows x 7 columns]"
      ]
     },
     "execution_count": 35,
     "metadata": {},
     "output_type": "execute_result"
    }
   ],
   "source": [
    "rtsi"
   ]
  },
  {
   "cell_type": "code",
   "execution_count": 36,
   "id": "e13f81ab",
   "metadata": {},
   "outputs": [
    {
     "data": {
      "image/png": "[encoded data removed]",
      "text/plain": [
       "<Figure size 864x504 with 1 Axes>"
      ]
     },
     "metadata": {
      "needs_background": "light"
     },
     "output_type": "display_data"
    }
   ],
   "source": [
    "rtsi['log return'].plot(figsize=(12, 7))\n",
    "\n",
    "plt.grid()\n",
    "plt.show()"
   ]
  },
  {
   "cell_type": "code",
   "execution_count": 37,
   "id": "4c70b3e0",
   "metadata": {},
   "outputs": [
    {
     "data": {
      "text/plain": [
       "count    5174.000000\n",
       "mean        0.000455\n",
       "std         0.020327\n",
       "min        -0.211994\n",
       "25%        -0.008822\n",
       "50%         0.001318\n",
       "75%         0.010414\n",
       "max         0.202039\n",
       "Name: log return, dtype: float64"
      ]
     },
     "execution_count": 37,
     "metadata": {},
     "output_type": "execute_result"
    }
   ],
   "source": [
    "rtsi['log return'].describe()"
   ]
  },
  {
   "cell_type": "markdown",
   "id": "8ee66c8f",
   "metadata": {},
   "source": [
    "# Testing `train`"
   ]
  },
  {
   "cell_type": "code",
   "execution_count": 38,
   "id": "a13725d5",
   "metadata": {},
   "outputs": [],
   "source": [
    "logging.basicConfig(level=logging.DEBUG)"
   ]
  },
  {
   "cell_type": "code",
   "execution_count": 39,
   "id": "4207f730",
   "metadata": {},
   "outputs": [],
   "source": [
    "rescale_factor = 100"
   ]
  },
  {
   "cell_type": "code",
   "execution_count": 52,
   "id": "43d6a624",
   "metadata": {},
   "outputs": [],
   "source": [
    "start_date = '2010-01-01'"
   ]
  },
  {
   "cell_type": "code",
   "execution_count": 53,
   "id": "df26092c",
   "metadata": {},
   "outputs": [],
   "source": [
    "input_data = rtsi['log return'].loc[start_date:].copy() * rescale_factor\n",
    "clusterization_method = 'gaussian'\n",
    "local_method = 'garch'\n",
    "local_method_parameters = {'p': 1, 'q': 1, 'mean': 'Zero', 'dist': 'normal'}"
   ]
  },
  {
   "cell_type": "code",
   "execution_count": 54,
   "id": "528d2c7d",
   "metadata": {},
   "outputs": [],
   "source": [
    "n = input_data.shape[0]"
   ]
  },
  {
   "cell_type": "code",
   "execution_count": 55,
   "id": "8bc9453a",
   "metadata": {},
   "outputs": [],
   "source": [
    "mu = 0\n",
    "sigma = .02 * rescale_factor\n",
    "\n",
    "centers = np.array([[mu] * n])\n",
    "cov_matrices = np.array([np.diag([sigma] * n, k=0)])"
   ]
  },
  {
   "cell_type": "code",
   "execution_count": 56,
   "id": "60b29d44",
   "metadata": {},
   "outputs": [],
   "source": [
    "clusterization_parameters = {'centers': centers, 'cov_matrices': cov_matrices, 'n_clusters': 1}"
   ]
  },
  {
   "cell_type": "code",
   "execution_count": 57,
   "id": "c4e0e167",
   "metadata": {},
   "outputs": [
    {
     "name": "stderr",
     "output_type": "stream",
     "text": [
      "DEBUG:train_model:Starting clusterization\n",
      "DEBUG:cluster_input:clustering method is gaussian\n",
      "DEBUG:cluster_input:parameters is not None\n",
      "INFO:calc_gaussian_membership_degrees:Starting\n",
      "DEBUG:pdf:log_pdf = -6079.516519855979, type(log_pdf) = <class 'numpy.float64'>\n",
      "DEBUG:pdf:long_log_pdf = -6079.516519855979, type(long_log_pdf) = <class 'numpy.float128'>\n",
      "DEBUG:train_model:Clusterization completed\n",
      "Estimated parameters: {'centers': array([[0, 0, 0, ..., 0, 0, 0]]), 'cov_matrices': array([[[2., 0., 0., ..., 0., 0., 0.],\n",
      "        [0., 2., 0., ..., 0., 0., 0.],\n",
      "        [0., 0., 2., ..., 0., 0., 0.],\n",
      "        ...,\n",
      "        [0., 0., 0., ..., 2., 0., 0.],\n",
      "        [0., 0., 0., ..., 0., 2., 0.],\n",
      "        [0., 0., 0., ..., 0., 0., 2.]]]), 'n_clusters': 1}\n",
      "Membership degrees:\n",
      "[5.0063682e-2641]\n",
      "DEBUG:train_model:Starting to run local model for each rule\n",
      "DEBUG:apply_local_model:Method is GARCH\n",
      "DEBUG:train_model:Local model runs for each rule are completed. rules_outputs: [[1.81711941]]\n",
      "DEBUG:train_model:Starting to aggregate all rules outputs to a single one\n",
      "INFO:combine_rules_outputs:weights_sum: 0.0\n"
     ]
    },
    {
     "name": "stdout",
     "output_type": "stream",
     "text": [
      "Iteration:      1,   Func. Count:      5,   Neg. LLF: 18208.402879687113\n",
      "Iteration:      2,   Func. Count:     14,   Neg. LLF: 179841745.16303405\n",
      "Iteration:      3,   Func. Count:     19,   Neg. LLF: 6259.643369009693\n",
      "Iteration:      4,   Func. Count:     26,   Neg. LLF: 5746.523881004245\n",
      "Iteration:      5,   Func. Count:     31,   Neg. LLF: 5518.704480234793\n",
      "Iteration:      6,   Func. Count:     35,   Neg. LLF: 5518.7020679092275\n",
      "Iteration:      7,   Func. Count:     39,   Neg. LLF: 5518.701967731444\n",
      "Iteration:      8,   Func. Count:     43,   Neg. LLF: 5518.7019340838815\n",
      "Iteration:      9,   Func. Count:     46,   Neg. LLF: 5518.701934085554\n",
      "Optimization terminated successfully    (Exit mode 0)\n",
      "            Current function value: 5518.7019340838815\n",
      "            Iterations: 9\n",
      "            Function evaluations: 46\n",
      "            Gradient evaluations: 9\n"
     ]
    },
    {
     "data": {
      "text/plain": [
       "1.8171194100517129577"
      ]
     },
     "execution_count": 57,
     "metadata": {},
     "output_type": "execute_result"
    }
   ],
   "source": [
    "train_model(input_data,\n",
    "            clusterization_method=clusterization_method,\n",
    "            clusterization_parameters=clusterization_parameters,\n",
    "            local_method=local_method,\n",
    "            local_method_parameters=local_method_parameters)"
   ]
  },
  {
   "cell_type": "markdown",
   "id": "ad4b4de3",
   "metadata": {},
   "source": [
    "## Same data fed to GARCH(1, 1)"
   ]
  },
  {
   "cell_type": "code",
   "execution_count": 58,
   "id": "42eaed26",
   "metadata": {},
   "outputs": [],
   "source": [
    "model = arch_model(input_data, mean=local_method_parameters['mean'], vol='GARCH', p=p, q=q,\n",
    "                   dist=local_method_parameters['dist'])"
   ]
  },
  {
   "cell_type": "code",
   "execution_count": 59,
   "id": "cc77167a",
   "metadata": {},
   "outputs": [
    {
     "name": "stdout",
     "output_type": "stream",
     "text": [
      "Iteration:      1,   Func. Count:      5,   Neg. LLF: 18208.402879687113\n",
      "Iteration:      2,   Func. Count:     14,   Neg. LLF: 179841745.16303405\n",
      "Iteration:      3,   Func. Count:     19,   Neg. LLF: 6259.643369009693\n",
      "Iteration:      4,   Func. Count:     26,   Neg. LLF: 5746.523881004245\n",
      "Iteration:      5,   Func. Count:     31,   Neg. LLF: 5518.704480234793\n",
      "Iteration:      6,   Func. Count:     35,   Neg. LLF: 5518.7020679092275\n",
      "Iteration:      7,   Func. Count:     39,   Neg. LLF: 5518.701967731444\n",
      "Iteration:      8,   Func. Count:     43,   Neg. LLF: 5518.7019340838815\n",
      "Iteration:      9,   Func. Count:     46,   Neg. LLF: 5518.701934085554\n",
      "Optimization terminated successfully    (Exit mode 0)\n",
      "            Current function value: 5518.7019340838815\n",
      "            Iterations: 9\n",
      "            Function evaluations: 46\n",
      "            Gradient evaluations: 9\n"
     ]
    }
   ],
   "source": [
    "fitted = model.fit()"
   ]
  },
  {
   "cell_type": "code",
   "execution_count": 60,
   "id": "cab4915e",
   "metadata": {},
   "outputs": [
    {
     "data": {
      "text/plain": [
       "<bound method ARCHModelResult.summary of                        Zero Mean - GARCH Model Results                        \n",
       "==============================================================================\n",
       "Dep. Variable:             log return   R-squared:                       0.000\n",
       "Mean Model:                 Zero Mean   Adj. R-squared:                  0.000\n",
       "Vol Model:                      GARCH   Log-Likelihood:               -5518.70\n",
       "Distribution:                  Normal   AIC:                           11043.4\n",
       "Method:            Maximum Likelihood   BIC:                           11061.4\n",
       "                                        No. Observations:                 2965\n",
       "Date:                Sun, Oct 17 2021   Df Residuals:                     2965\n",
       "Time:                        19:47:07   Df Model:                            0\n",
       "                              Volatility Model                              \n",
       "============================================================================\n",
       "                 coef    std err          t      P>|t|      95.0% Conf. Int.\n",
       "----------------------------------------------------------------------------\n",
       "omega          0.0592  2.054e-02      2.881  3.968e-03 [1.891e-02,9.941e-02]\n",
       "alpha[1]       0.0818  1.731e-02      4.728  2.270e-06   [4.792e-02,  0.116]\n",
       "beta[1]        0.9001  1.818e-02     49.505      0.000     [  0.864,  0.936]\n",
       "============================================================================\n",
       "\n",
       "Covariance estimator: robust\n",
       "ARCHModelResult, id: 0x7fd2685a0ac0>"
      ]
     },
     "execution_count": 60,
     "metadata": {},
     "output_type": "execute_result"
    }
   ],
   "source": [
    "fitted.summary"
   ]
  },
  {
   "cell_type": "code",
   "execution_count": 61,
   "id": "bc5d6607",
   "metadata": {},
   "outputs": [
    {
     "data": {
      "text/plain": [
       "omega       0.059160\n",
       "alpha[1]    0.081849\n",
       "beta[1]     0.900093\n",
       "Name: params, dtype: float64"
      ]
     },
     "execution_count": 61,
     "metadata": {},
     "output_type": "execute_result"
    }
   ],
   "source": [
    "fitted.params"
   ]
  },
  {
   "cell_type": "code",
   "execution_count": 62,
   "id": "77aaf490",
   "metadata": {},
   "outputs": [],
   "source": [
    "forecast = fitted.forecast(reindex=False, horizon=1)"
   ]
  },
  {
   "cell_type": "code",
   "execution_count": 63,
   "id": "118b30be",
   "metadata": {},
   "outputs": [],
   "source": [
    "forecast_variance = forecast.variance.values[0]"
   ]
  },
  {
   "cell_type": "code",
   "execution_count": 64,
   "id": "bf3d0d2a",
   "metadata": {},
   "outputs": [
    {
     "data": {
      "text/plain": [
       "array([1.81711941])"
      ]
     },
     "execution_count": 64,
     "metadata": {},
     "output_type": "execute_result"
    }
   ],
   "source": [
    "forecast_variance"
   ]
  },
  {
   "cell_type": "code",
   "execution_count": null,
   "id": "f1f7c880",
   "metadata": {},
   "outputs": [],
   "source": []
  }
 ],
 "metadata": {
  "kernelspec": {
   "display_name": "Python 3 (ipykernel)",
   "language": "python",
   "name": "python3"
  },
  "language_info": {
   "codemirror_mode": {
    "name": "ipython",
    "version": 3
   },
   "file_extension": ".py",
   "mimetype": "text/x-python",
   "name": "python",
   "nbconvert_exporter": "python",
   "pygments_lexer": "ipython3",
   "version": "3.9.7"
  }
 },
 "nbformat": 4,
 "nbformat_minor": 5
}
