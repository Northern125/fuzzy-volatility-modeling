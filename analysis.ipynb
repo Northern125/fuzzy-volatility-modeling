{
 "cells": [
  {
   "cell_type": "code",
   "execution_count": 1,
   "id": "dddaf7cd",
   "metadata": {},
   "outputs": [],
   "source": [
    "import logging\n",
    "import numpy as np\n",
    "import pandas as pd\n",
    "from arch import arch_model\n",
    "from random import gauss\n",
    "from random import seed\n",
    "from matplotlib import pyplot as plt\n",
    "import scipy.stats as sts"
   ]
  },
  {
   "cell_type": "code",
   "execution_count": 2,
   "id": "84f25aa0",
   "metadata": {},
   "outputs": [],
   "source": [
    "from rules_related import combine_rules_outputs\n",
    "from whole_algorithm import train_model\n",
    "from auxiliary import calc_log_returns"
   ]
  },
  {
   "cell_type": "markdown",
   "id": "cd38f1bd",
   "metadata": {},
   "source": [
    "# Testing GARCH"
   ]
  },
  {
   "cell_type": "markdown",
   "id": "8cb02013",
   "metadata": {},
   "source": [
    "## #1 increasing dispersion, increments are normal"
   ]
  },
  {
   "cell_type": "code",
   "execution_count": 3,
   "id": "dde46169",
   "metadata": {},
   "outputs": [
    {
     "data": {
      "image/png": "[encoded data removed]",
      "text/plain": [
       "<Figure size 432x288 with 1 Axes>"
      ]
     },
     "metadata": {
      "needs_background": "light"
     },
     "output_type": "display_data"
    }
   ],
   "source": [
    "# create dataset\n",
    "variance = np.arange(0, 10, .01)\n",
    "# data = [gauss(0, var) for var in variance]\n",
    "data = [sts.norm(0, var ** .5).rvs(1) for var in variance]\n",
    "\n",
    "# plot\n",
    "plt.plot(data)\n",
    "\n",
    "plt.grid()\n",
    "plt.show()"
   ]
  },
  {
   "cell_type": "code",
   "execution_count": 4,
   "id": "b71a160f",
   "metadata": {},
   "outputs": [],
   "source": [
    "n_test = 100\n",
    "\n",
    "train, test = data[:-n_test], data[-n_test:]"
   ]
  },
  {
   "cell_type": "code",
   "execution_count": 5,
   "id": "adee7397",
   "metadata": {},
   "outputs": [],
   "source": [
    "p = 1\n",
    "q = 1"
   ]
  },
  {
   "cell_type": "code",
   "execution_count": 6,
   "id": "4704898b",
   "metadata": {},
   "outputs": [],
   "source": [
    "model = arch_model(train, mean='Zero', vol='GARCH', p=p, q=q, dist='normal')"
   ]
  },
  {
   "cell_type": "code",
   "execution_count": 7,
   "id": "c57397b2",
   "metadata": {},
   "outputs": [
    {
     "name": "stdout",
     "output_type": "stream",
     "text": [
      "Iteration:      1,   Func. Count:      5,   Neg. LLF: 11233.507755790575\n",
      "Iteration:      2,   Func. Count:     10,   Neg. LLF: 11054.43239588763\n",
      "Iteration:      3,   Func. Count:     15,   Neg. LLF: 1790.1321557866208\n",
      "Iteration:      4,   Func. Count:     19,   Neg. LLF: 11233.65079980968\n",
      "Iteration:      5,   Func. Count:     24,   Neg. LLF: 22645.038818534493\n",
      "Iteration:      6,   Func. Count:     31,   Neg. LLF: 11233.65079980968\n",
      "Iteration:      7,   Func. Count:     36,   Neg. LLF: 1788.6406341309744\n",
      "Iteration:      8,   Func. Count:     41,   Neg. LLF: 1783.5408944476849\n",
      "Iteration:      9,   Func. Count:     45,   Neg. LLF: 1797.9672047372694\n",
      "Iteration:     10,   Func. Count:     50,   Neg. LLF: 11233.65079980968\n",
      "Iteration:     11,   Func. Count:     56,   Neg. LLF: 5115.598281421482\n",
      "Iteration:     12,   Func. Count:     67,   Neg. LLF: 1784.0223377364837\n",
      "Iteration:     13,   Func. Count:     72,   Neg. LLF: 1784.0076772207494\n",
      "Iteration:     14,   Func. Count:     76,   Neg. LLF: 1784.0149956964865\n",
      "Iteration:     15,   Func. Count:     81,   Neg. LLF: 1783.9996393374472\n",
      "Iteration:     16,   Func. Count:     85,   Neg. LLF: 1783.9995253006073\n",
      "Iteration:     17,   Func. Count:     89,   Neg. LLF: 3017.4800148762324\n",
      "Optimization terminated successfully    (Exit mode 0)\n",
      "            Current function value: 1783.9995252966287\n",
      "            Iterations: 19\n",
      "            Function evaluations: 96\n",
      "            Gradient evaluations: 17\n"
     ]
    }
   ],
   "source": [
    "fitted = model.fit()"
   ]
  },
  {
   "cell_type": "code",
   "execution_count": 8,
   "id": "1f402658",
   "metadata": {},
   "outputs": [
    {
     "data": {
      "text/plain": [
       "<bound method ARCHModelResult.summary of                        Zero Mean - GARCH Model Results                        \n",
       "==============================================================================\n",
       "Dep. Variable:                      y   R-squared:                       0.000\n",
       "Mean Model:                 Zero Mean   Adj. R-squared:                  0.001\n",
       "Vol Model:                      GARCH   Log-Likelihood:               -1784.00\n",
       "Distribution:                  Normal   AIC:                           3574.00\n",
       "Method:            Maximum Likelihood   BIC:                           3588.41\n",
       "                                        No. Observations:                  900\n",
       "Date:                Sat, Oct 16 2021   Df Residuals:                      900\n",
       "Time:                        16:40:40   Df Model:                            0\n",
       "                               Volatility Model                              \n",
       "=============================================================================\n",
       "                 coef    std err          t      P>|t|       95.0% Conf. Int.\n",
       "-----------------------------------------------------------------------------\n",
       "omega      8.4779e-03  1.090e-03      7.781  7.177e-15  [6.342e-03,1.061e-02]\n",
       "alpha[1]       0.0000  1.961e-03      0.000      1.000 [-3.843e-03,3.843e-03]\n",
       "beta[1]        1.0000  1.998e-03    500.486      0.000      [  0.996,  1.004]\n",
       "=============================================================================\n",
       "\n",
       "Covariance estimator: robust\n",
       "ARCHModelResult, id: 0x7fb6cf51c700>"
      ]
     },
     "execution_count": 8,
     "metadata": {},
     "output_type": "execute_result"
    }
   ],
   "source": [
    "fitted.summary"
   ]
  },
  {
   "cell_type": "code",
   "execution_count": 9,
   "id": "965788ec",
   "metadata": {},
   "outputs": [
    {
     "data": {
      "text/plain": [
       "omega       0.008478\n",
       "alpha[1]    0.000000\n",
       "beta[1]     1.000000\n",
       "Name: params, dtype: float64"
      ]
     },
     "execution_count": 9,
     "metadata": {},
     "output_type": "execute_result"
    }
   ],
   "source": [
    "fitted.params"
   ]
  },
  {
   "cell_type": "code",
   "execution_count": 10,
   "id": "b4e0d4a6",
   "metadata": {},
   "outputs": [],
   "source": [
    "forecast = fitted.forecast(reindex=False, horizon=n_test)"
   ]
  },
  {
   "cell_type": "code",
   "execution_count": 11,
   "id": "78085cb9",
   "metadata": {},
   "outputs": [
    {
     "data": {
      "text/plain": [
       "array([7.80458882, 7.81306672, 7.82154463, 7.83002254, 7.83850044,\n",
       "       7.84697835, 7.85545625, 7.86393416, 7.87241207, 7.88088997,\n",
       "       7.88936788, 7.89784579, 7.90632369, 7.9148016 , 7.92327951,\n",
       "       7.93175741, 7.94023532, 7.94871323, 7.95719113, 7.96566904,\n",
       "       7.97414695, 7.98262485, 7.99110276, 7.99958066, 8.00805857,\n",
       "       8.01653648, 8.02501438, 8.03349229, 8.0419702 , 8.0504481 ,\n",
       "       8.05892601, 8.06740392, 8.07588182, 8.08435973, 8.09283764,\n",
       "       8.10131554, 8.10979345, 8.11827136, 8.12674926, 8.13522717,\n",
       "       8.14370507, 8.15218298, 8.16066089, 8.16913879, 8.1776167 ,\n",
       "       8.18609461, 8.19457251, 8.20305042, 8.21152833, 8.22000623,\n",
       "       8.22848414, 8.23696205, 8.24543995, 8.25391786, 8.26239577,\n",
       "       8.27087367, 8.27935158, 8.28782948, 8.29630739, 8.3047853 ,\n",
       "       8.3132632 , 8.32174111, 8.33021902, 8.33869692, 8.34717483,\n",
       "       8.35565274, 8.36413064, 8.37260855, 8.38108646, 8.38956436,\n",
       "       8.39804227, 8.40652017, 8.41499808, 8.42347599, 8.43195389,\n",
       "       8.4404318 , 8.44890971, 8.45738761, 8.46586552, 8.47434343,\n",
       "       8.48282133, 8.49129924, 8.49977715, 8.50825505, 8.51673296,\n",
       "       8.52521087, 8.53368877, 8.54216668, 8.55064458, 8.55912249,\n",
       "       8.5676004 , 8.5760783 , 8.58455621, 8.59303412, 8.60151202,\n",
       "       8.60998993, 8.61846784, 8.62694574, 8.63542365, 8.64390156])"
      ]
     },
     "execution_count": 11,
     "metadata": {},
     "output_type": "execute_result"
    }
   ],
   "source": [
    "forecast.residual_variance.values[0]"
   ]
  },
  {
   "cell_type": "code",
   "execution_count": 12,
   "id": "ee458452",
   "metadata": {},
   "outputs": [
    {
     "data": {
      "text/plain": [
       "array([7.80458882, 7.81306672, 7.82154463, 7.83002254, 7.83850044,\n",
       "       7.84697835, 7.85545625, 7.86393416, 7.87241207, 7.88088997,\n",
       "       7.88936788, 7.89784579, 7.90632369, 7.9148016 , 7.92327951,\n",
       "       7.93175741, 7.94023532, 7.94871323, 7.95719113, 7.96566904,\n",
       "       7.97414695, 7.98262485, 7.99110276, 7.99958066, 8.00805857,\n",
       "       8.01653648, 8.02501438, 8.03349229, 8.0419702 , 8.0504481 ,\n",
       "       8.05892601, 8.06740392, 8.07588182, 8.08435973, 8.09283764,\n",
       "       8.10131554, 8.10979345, 8.11827136, 8.12674926, 8.13522717,\n",
       "       8.14370507, 8.15218298, 8.16066089, 8.16913879, 8.1776167 ,\n",
       "       8.18609461, 8.19457251, 8.20305042, 8.21152833, 8.22000623,\n",
       "       8.22848414, 8.23696205, 8.24543995, 8.25391786, 8.26239577,\n",
       "       8.27087367, 8.27935158, 8.28782948, 8.29630739, 8.3047853 ,\n",
       "       8.3132632 , 8.32174111, 8.33021902, 8.33869692, 8.34717483,\n",
       "       8.35565274, 8.36413064, 8.37260855, 8.38108646, 8.38956436,\n",
       "       8.39804227, 8.40652017, 8.41499808, 8.42347599, 8.43195389,\n",
       "       8.4404318 , 8.44890971, 8.45738761, 8.46586552, 8.47434343,\n",
       "       8.48282133, 8.49129924, 8.49977715, 8.50825505, 8.51673296,\n",
       "       8.52521087, 8.53368877, 8.54216668, 8.55064458, 8.55912249,\n",
       "       8.5676004 , 8.5760783 , 8.58455621, 8.59303412, 8.60151202,\n",
       "       8.60998993, 8.61846784, 8.62694574, 8.63542365, 8.64390156])"
      ]
     },
     "execution_count": 12,
     "metadata": {},
     "output_type": "execute_result"
    }
   ],
   "source": [
    "forecast.variance.values[0]"
   ]
  },
  {
   "cell_type": "code",
   "execution_count": 13,
   "id": "d99c723f",
   "metadata": {},
   "outputs": [
    {
     "data": {
      "image/png": "[encoded data removed]",
      "text/plain": [
       "<Figure size 432x288 with 1 Axes>"
      ]
     },
     "metadata": {
      "needs_background": "light"
     },
     "output_type": "display_data"
    }
   ],
   "source": [
    "plt.plot(_, label='forecast')\n",
    "plt.plot(variance[-n_test:], label='actual variance')\n",
    "\n",
    "plt.legend()\n",
    "plt.grid()\n",
    "plt.show()"
   ]
  },
  {
   "cell_type": "code",
   "execution_count": 14,
   "id": "77497746",
   "metadata": {
    "scrolled": true
   },
   "outputs": [
    {
     "name": "stdout",
     "output_type": "stream",
     "text": [
      "Help on method forecast in module arch.univariate.base:\n",
      "\n",
      "forecast(params: 'Optional[ArrayLike1D]' = None, horizon: 'int' = 1, start: 'Union[int, DateLike]' = None, align: \"Literal['origin', 'target']\" = 'origin', method: 'ForecastingMethod' = 'analytic', simulations: 'int' = 1000, rng: 'Optional[Callable[[Union[int, Tuple[int, ...]]], Float64Array]]' = None, random_state: 'Optional[np.random.RandomState]' = None, *, reindex: 'Optional[bool]' = None, x: 'Union[None, Dict[Label, ArrayLike], ArrayLike]' = None) -> 'ARCHModelForecast' method of arch.univariate.base.ARCHModelResult instance\n",
      "    Construct forecasts from estimated model\n",
      "    \n",
      "    Parameters\n",
      "    ----------\n",
      "    params : ndarray, optional\n",
      "        Alternative parameters to use.  If not provided, the parameters\n",
      "        estimated when fitting the model are used.  Must be identical in\n",
      "        shape to the parameters computed by fitting the model.\n",
      "    horizon : int, optional\n",
      "       Number of steps to forecast\n",
      "    start : {int, datetime, Timestamp, str}, optional\n",
      "        An integer, datetime or str indicating the first observation to\n",
      "        produce the forecast for.  Datetimes can only be used with pandas\n",
      "        inputs that have a datetime index. Strings must be convertible\n",
      "        to a date time, such as in '1945-01-01'.\n",
      "    align : str, optional\n",
      "        Either 'origin' or 'target'.  When set of 'origin', the t-th row\n",
      "        of forecasts contains the forecasts for t+1, t+2, ..., t+h. When\n",
      "        set to 'target', the t-th row contains the 1-step ahead forecast\n",
      "        from time t-1, the 2 step from time t-2, ..., and the h-step from\n",
      "        time t-h.  'target' simplified computing forecast errors since the\n",
      "        realization and h-step forecast are aligned.\n",
      "    method : {'analytic', 'simulation', 'bootstrap'}, optional\n",
      "        Method to use when producing the forecast. The default is analytic.\n",
      "        The method only affects the variance forecast generation.  Not all\n",
      "        volatility models support all methods. In particular, volatility\n",
      "        models that do not evolve in squares such as EGARCH or TARCH do not\n",
      "        support the 'analytic' method for horizons > 1.\n",
      "    simulations : int, optional\n",
      "        Number of simulations to run when computing the forecast using\n",
      "        either simulation or bootstrap.\n",
      "    rng : callable, optional\n",
      "        Custom random number generator to use in simulation-based forecasts.\n",
      "        Must produce random samples using the syntax `rng(size)` where size\n",
      "        the 2-element tuple (simulations, horizon).\n",
      "    random_state : RandomState, optional\n",
      "        NumPy RandomState instance to use when method is 'bootstrap'\n",
      "    reindex : bool, optional\n",
      "        Whether to reindex the forecasts to have the same dimension as the series\n",
      "        being forecast. Prior to 4.18 this was the default. As of 4.19 this is\n",
      "        now optional. If not provided, a warning is raised about the future\n",
      "        change in the default which will occur after September 2021.\n",
      "    \n",
      "        .. versionadded:: 4.19\n",
      "    \n",
      "    x : {dict[label, array_like], array_like}\n",
      "        Values to use for exogenous regressors if any are included in the\n",
      "        model. Three formats are accepted:\n",
      "    \n",
      "        * 2-d array-like: This format can be used when there is a single\n",
      "          exogenous variable. The input must have shape (nforecast, horizon)\n",
      "          or (nobs, horizon) where nforecast is the number of forecasting\n",
      "          periods and nobs is the original shape of y. For example, if a\n",
      "          single series of forecasts are made from the end of the sample\n",
      "          with a horizon of 10, then the input can be (1, 10). Alternatively,\n",
      "          if the original data had 1000 observations, then the input can be\n",
      "          (1000, 10), and only the final row is used to produce forecasts.\n",
      "        * A dictionary of 2-d array-like: This format is identical to the\n",
      "          previous except that the dictionary keys must match the names of\n",
      "          the exog variables.  Requires that the exog variables were pass\n",
      "          as a pandas DataFrame.\n",
      "        * A 3-d NumPy array (or equivalent). In this format, each panel\n",
      "          (0th axis) is a 2-d array that must have shape (nforecast, horizon)\n",
      "          or (nobs,horizon). The array x[j] corresponds to the j-th column of\n",
      "          the exogenous variables.\n",
      "    \n",
      "        Due to the complexity required to accommodate all scenarios, please\n",
      "        see the example notebook that demonstrates the valid formats for\n",
      "        x.\n",
      "    \n",
      "        .. versionadded:: 4.19\n",
      "    \n",
      "    Returns\n",
      "    -------\n",
      "    arch.univariate.base.ARCHModelForecast\n",
      "        Container for forecasts. Key properties are ``mean``,\n",
      "        ``variance`` and ``residual_variance``.\n",
      "    \n",
      "    Notes\n",
      "    -----\n",
      "    The most basic 1-step ahead forecast will return a vector with the same\n",
      "    length as the original data, where the t-th value will be the time-t\n",
      "    forecast for time t + 1.  When the horizon is > 1, and when using the\n",
      "    default value for `align`, the forecast value in position [t, h] is the\n",
      "    time-t, h+1 step ahead forecast.\n",
      "    \n",
      "    If model contains exogenous variables (`model.x is not None`), then\n",
      "    only 1-step ahead forecasts are available.  Using horizon > 1 will\n",
      "    produce a warning and all columns, except the first, will be\n",
      "    nan-filled.\n",
      "    \n",
      "    If `align` is 'origin', forecast[t,h] contains the forecast made using\n",
      "    y[:t] (that is, up to but not including t) for horizon h + 1.  For\n",
      "    example, y[100,2] contains the 3-step ahead forecast using the first\n",
      "    100 data points, which will correspond to the realization y[100 + 2].\n",
      "    If `align` is 'target', then the same forecast is in location\n",
      "    [102, 2], so that it is aligned with the observation to use when\n",
      "    evaluating, but still in the same column.\n",
      "\n"
     ]
    }
   ],
   "source": [
    "help(fitted.forecast)"
   ]
  },
  {
   "cell_type": "markdown",
   "id": "c694f4ce",
   "metadata": {},
   "source": [
    "## #2 white noise (Wiener process) "
   ]
  },
  {
   "cell_type": "code",
   "execution_count": 15,
   "id": "aa040c6c",
   "metadata": {},
   "outputs": [
    {
     "data": {
      "image/png": "[encoded data removed]",
      "text/plain": [
       "<Figure size 432x288 with 1 Axes>"
      ]
     },
     "metadata": {
      "needs_background": "light"
     },
     "output_type": "display_data"
    }
   ],
   "source": [
    "# create dataset\n",
    "sample_size = 1000\n",
    "mean = 0\n",
    "variance = 1\n",
    "# data = [sts.norm(0, var ** .5).rvs(1) for var in variance]\n",
    "data = sts.norm(mean, variance ** .5).rvs(sample_size)\n",
    "\n",
    "# plot\n",
    "plt.plot(data)\n",
    "\n",
    "plt.grid()\n",
    "plt.show()"
   ]
  },
  {
   "cell_type": "code",
   "execution_count": 16,
   "id": "ba23a25d",
   "metadata": {},
   "outputs": [],
   "source": [
    "n_test = int(sample_size / 10)\n",
    "\n",
    "train, test = data[:-n_test], data[-n_test:]"
   ]
  },
  {
   "cell_type": "code",
   "execution_count": 17,
   "id": "3fefbb77",
   "metadata": {},
   "outputs": [],
   "source": [
    "p = 1\n",
    "q = 1"
   ]
  },
  {
   "cell_type": "code",
   "execution_count": 18,
   "id": "d14095c3",
   "metadata": {},
   "outputs": [],
   "source": [
    "model = arch_model(train, mean='Zero', vol='GARCH', p=p, q=q, dist='normal')"
   ]
  },
  {
   "cell_type": "code",
   "execution_count": 19,
   "id": "e4f6776c",
   "metadata": {},
   "outputs": [
    {
     "name": "stdout",
     "output_type": "stream",
     "text": [
      "Iteration:      1,   Func. Count:      5,   Neg. LLF: 4463.381254818678\n",
      "Iteration:      2,   Func. Count:     14,   Neg. LLF: 1263.5728742168099\n",
      "Iteration:      3,   Func. Count:     23,   Neg. LLF: 1261.3307926057523\n",
      "Iteration:      4,   Func. Count:     27,   Neg. LLF: 1274.0541709688189\n",
      "Iteration:      5,   Func. Count:     32,   Neg. LLF: 1264.2529331425376\n",
      "Iteration:      6,   Func. Count:     37,   Neg. LLF: 1261.2813388404943\n",
      "Iteration:      7,   Func. Count:     42,   Neg. LLF: 1261.2681159057543\n",
      "Iteration:      8,   Func. Count:     46,   Neg. LLF: 1261.2680298056107\n",
      "Iteration:      9,   Func. Count:     49,   Neg. LLF: 1261.2680298062162\n",
      "Optimization terminated successfully    (Exit mode 0)\n",
      "            Current function value: 1261.2680298056107\n",
      "            Iterations: 9\n",
      "            Function evaluations: 49\n",
      "            Gradient evaluations: 9\n"
     ]
    }
   ],
   "source": [
    "fitted = model.fit()"
   ]
  },
  {
   "cell_type": "code",
   "execution_count": 20,
   "id": "e049bad4",
   "metadata": {},
   "outputs": [
    {
     "data": {
      "text/plain": [
       "<bound method ARCHModelResult.summary of                        Zero Mean - GARCH Model Results                        \n",
       "==============================================================================\n",
       "Dep. Variable:                      y   R-squared:                       0.000\n",
       "Mean Model:                 Zero Mean   Adj. R-squared:                  0.001\n",
       "Vol Model:                      GARCH   Log-Likelihood:               -1261.27\n",
       "Distribution:                  Normal   AIC:                           2528.54\n",
       "Method:            Maximum Likelihood   BIC:                           2542.94\n",
       "                                        No. Observations:                  900\n",
       "Date:                Sat, Oct 16 2021   Df Residuals:                      900\n",
       "Time:                        16:40:41   Df Model:                            0\n",
       "                               Volatility Model                              \n",
       "=============================================================================\n",
       "                 coef    std err          t      P>|t|       95.0% Conf. Int.\n",
       "-----------------------------------------------------------------------------\n",
       "omega          0.0108  7.887e-03      1.372      0.170 [-4.636e-03,2.628e-02]\n",
       "alpha[1]   6.9768e-13  8.677e-03  8.040e-11      1.000 [-1.701e-02,1.701e-02]\n",
       "beta[1]        0.9893  1.439e-02     68.774      0.000      [  0.961,  1.018]\n",
       "=============================================================================\n",
       "\n",
       "Covariance estimator: robust\n",
       "ARCHModelResult, id: 0x7fb6cf9142b0>"
      ]
     },
     "execution_count": 20,
     "metadata": {},
     "output_type": "execute_result"
    }
   ],
   "source": [
    "fitted.summary"
   ]
  },
  {
   "cell_type": "code",
   "execution_count": 21,
   "id": "68690d58",
   "metadata": {},
   "outputs": [
    {
     "data": {
      "text/plain": [
       "omega       1.082148e-02\n",
       "alpha[1]    6.976777e-13\n",
       "beta[1]     9.893417e-01\n",
       "Name: params, dtype: float64"
      ]
     },
     "execution_count": 21,
     "metadata": {},
     "output_type": "execute_result"
    }
   ],
   "source": [
    "fitted.params"
   ]
  },
  {
   "cell_type": "code",
   "execution_count": 22,
   "id": "9a533390",
   "metadata": {},
   "outputs": [],
   "source": [
    "forecast = fitted.forecast(reindex=False, horizon=n_test)"
   ]
  },
  {
   "cell_type": "code",
   "execution_count": 23,
   "id": "0984896e",
   "metadata": {},
   "outputs": [],
   "source": [
    "forecast_variance = forecast.variance.values[0]"
   ]
  },
  {
   "cell_type": "code",
   "execution_count": 24,
   "id": "5e35a927",
   "metadata": {},
   "outputs": [
    {
     "data": {
      "image/png": "[encoded data removed]",
      "text/plain": [
       "<Figure size 432x288 with 1 Axes>"
      ]
     },
     "metadata": {
      "needs_background": "light"
     },
     "output_type": "display_data"
    }
   ],
   "source": [
    "plt.plot(forecast_variance, label='forecast')\n",
    "plt.plot([variance] * n_test, label='actual variance')\n",
    "\n",
    "plt.legend()\n",
    "plt.grid()\n",
    "plt.show()"
   ]
  },
  {
   "cell_type": "markdown",
   "id": "fd81be1d",
   "metadata": {},
   "source": [
    "# Reading files"
   ]
  },
  {
   "cell_type": "code",
   "execution_count": 25,
   "id": "1c15a872",
   "metadata": {},
   "outputs": [],
   "source": [
    "rtsi = pd.read_csv('files/RI.RTSI_790101_211016.csv', sep=',')"
   ]
  },
  {
   "cell_type": "code",
   "execution_count": 26,
   "id": "567735cd",
   "metadata": {},
   "outputs": [
    {
     "data": {
      "text/plain": [
       "False"
      ]
     },
     "execution_count": 26,
     "metadata": {},
     "output_type": "execute_result"
    }
   ],
   "source": [
    "(rtsi['<TICKER>'] != 'RI.RTSI').any()"
   ]
  },
  {
   "cell_type": "code",
   "execution_count": 27,
   "id": "67091f8e",
   "metadata": {},
   "outputs": [
    {
     "data": {
      "text/plain": [
       "False"
      ]
     },
     "execution_count": 27,
     "metadata": {},
     "output_type": "execute_result"
    }
   ],
   "source": [
    "(rtsi['<TIME>'] != '00:00:00').any()"
   ]
  },
  {
   "cell_type": "code",
   "execution_count": 28,
   "id": "cc4ab109",
   "metadata": {},
   "outputs": [],
   "source": [
    "rtsi.drop(columns=['<PER>', '<TIME>', '<TICKER>'], inplace=True)"
   ]
  },
  {
   "cell_type": "code",
   "execution_count": 29,
   "id": "3acc662c",
   "metadata": {},
   "outputs": [],
   "source": [
    "rtsi['<DATE>'] = pd.to_datetime(rtsi['<DATE>'], format='%Y%m%d')"
   ]
  },
  {
   "cell_type": "code",
   "execution_count": 30,
   "id": "06c2f399",
   "metadata": {},
   "outputs": [],
   "source": [
    "rtsi.set_index('<DATE>', inplace=True)"
   ]
  },
  {
   "cell_type": "code",
   "execution_count": 31,
   "id": "bc504127",
   "metadata": {},
   "outputs": [],
   "source": [
    "rtsi['return'] = rtsi['<CLOSE>'].pct_change(1)"
   ]
  },
  {
   "cell_type": "code",
   "execution_count": 32,
   "id": "5e545e1f",
   "metadata": {},
   "outputs": [],
   "source": [
    "rtsi['log return'] = calc_log_returns(rtsi['<CLOSE>'])  # rtsi['<CLOSE>'].rolling(2).apply(lambda values: np.log(values[1] / values[0])).copy()"
   ]
  },
  {
   "cell_type": "code",
   "execution_count": 33,
   "id": "98c6da51",
   "metadata": {},
   "outputs": [],
   "source": [
    "rtsi = rtsi.iloc[1:].copy()"
   ]
  },
  {
   "cell_type": "code",
   "execution_count": 34,
   "id": "36b26313",
   "metadata": {},
   "outputs": [
    {
     "data": {
      "text/plain": [
       "<OPEN>        False\n",
       "<HIGH>        False\n",
       "<LOW>         False\n",
       "<CLOSE>       False\n",
       "<VOL>         False\n",
       "return        False\n",
       "log return    False\n",
       "dtype: bool"
      ]
     },
     "execution_count": 34,
     "metadata": {},
     "output_type": "execute_result"
    }
   ],
   "source": [
    "rtsi.isna().any()"
   ]
  },
  {
   "cell_type": "code",
   "execution_count": 35,
   "id": "99a5a20a",
   "metadata": {},
   "outputs": [
    {
     "data": {
      "text/html": [
       "<div>\n",
       "<style scoped>\n",
       "    .dataframe tbody tr th:only-of-type {\n",
       "        vertical-align: middle;\n",
       "    }\n",
       "\n",
       "    .dataframe tbody tr th {\n",
       "        vertical-align: top;\n",
       "    }\n",
       "\n",
       "    .dataframe thead th {\n",
       "        text-align: right;\n",
       "    }\n",
       "</style>\n",
       "<table border=\"1\" class=\"dataframe\">\n",
       "  <thead>\n",
       "    <tr style=\"text-align: right;\">\n",
       "      <th></th>\n",
       "      <th>&lt;OPEN&gt;</th>\n",
       "      <th>&lt;HIGH&gt;</th>\n",
       "      <th>&lt;LOW&gt;</th>\n",
       "      <th>&lt;CLOSE&gt;</th>\n",
       "      <th>&lt;VOL&gt;</th>\n",
       "      <th>return</th>\n",
       "      <th>log return</th>\n",
       "    </tr>\n",
       "    <tr>\n",
       "      <th>&lt;DATE&gt;</th>\n",
       "      <th></th>\n",
       "      <th></th>\n",
       "      <th></th>\n",
       "      <th></th>\n",
       "      <th></th>\n",
       "      <th></th>\n",
       "      <th></th>\n",
       "    </tr>\n",
       "  </thead>\n",
       "  <tbody>\n",
       "    <tr>\n",
       "      <th>2001-02-18</th>\n",
       "      <td>180.10</td>\n",
       "      <td>180.10</td>\n",
       "      <td>180.10</td>\n",
       "      <td>180.10</td>\n",
       "      <td>0</td>\n",
       "      <td>0.000000</td>\n",
       "      <td>0.000000</td>\n",
       "    </tr>\n",
       "    <tr>\n",
       "      <th>2001-02-19</th>\n",
       "      <td>180.10</td>\n",
       "      <td>181.21</td>\n",
       "      <td>176.67</td>\n",
       "      <td>177.29</td>\n",
       "      <td>0</td>\n",
       "      <td>-0.015602</td>\n",
       "      <td>-0.015725</td>\n",
       "    </tr>\n",
       "    <tr>\n",
       "      <th>2001-02-20</th>\n",
       "      <td>177.29</td>\n",
       "      <td>179.90</td>\n",
       "      <td>175.28</td>\n",
       "      <td>176.45</td>\n",
       "      <td>0</td>\n",
       "      <td>-0.004738</td>\n",
       "      <td>-0.004749</td>\n",
       "    </tr>\n",
       "    <tr>\n",
       "      <th>2001-02-21</th>\n",
       "      <td>176.45</td>\n",
       "      <td>176.45</td>\n",
       "      <td>161.12</td>\n",
       "      <td>162.39</td>\n",
       "      <td>0</td>\n",
       "      <td>-0.079683</td>\n",
       "      <td>-0.083037</td>\n",
       "    </tr>\n",
       "    <tr>\n",
       "      <th>2001-02-22</th>\n",
       "      <td>162.39</td>\n",
       "      <td>168.35</td>\n",
       "      <td>162.39</td>\n",
       "      <td>168.31</td>\n",
       "      <td>0</td>\n",
       "      <td>0.036455</td>\n",
       "      <td>0.035807</td>\n",
       "    </tr>\n",
       "    <tr>\n",
       "      <th>...</th>\n",
       "      <td>...</td>\n",
       "      <td>...</td>\n",
       "      <td>...</td>\n",
       "      <td>...</td>\n",
       "      <td>...</td>\n",
       "      <td>...</td>\n",
       "      <td>...</td>\n",
       "    </tr>\n",
       "    <tr>\n",
       "      <th>2021-10-11</th>\n",
       "      <td>1871.73</td>\n",
       "      <td>1883.71</td>\n",
       "      <td>1867.58</td>\n",
       "      <td>1882.43</td>\n",
       "      <td>1769145502</td>\n",
       "      <td>0.011537</td>\n",
       "      <td>0.011471</td>\n",
       "    </tr>\n",
       "    <tr>\n",
       "      <th>2021-10-12</th>\n",
       "      <td>1867.15</td>\n",
       "      <td>1876.79</td>\n",
       "      <td>1860.64</td>\n",
       "      <td>1869.94</td>\n",
       "      <td>1386130631</td>\n",
       "      <td>-0.006635</td>\n",
       "      <td>-0.006657</td>\n",
       "    </tr>\n",
       "    <tr>\n",
       "      <th>2021-10-13</th>\n",
       "      <td>1869.05</td>\n",
       "      <td>1869.05</td>\n",
       "      <td>1835.80</td>\n",
       "      <td>1855.11</td>\n",
       "      <td>1830447018</td>\n",
       "      <td>-0.007931</td>\n",
       "      <td>-0.007962</td>\n",
       "    </tr>\n",
       "    <tr>\n",
       "      <th>2021-10-14</th>\n",
       "      <td>1875.38</td>\n",
       "      <td>1890.46</td>\n",
       "      <td>1873.37</td>\n",
       "      <td>1875.97</td>\n",
       "      <td>1495256910</td>\n",
       "      <td>0.011245</td>\n",
       "      <td>0.011182</td>\n",
       "    </tr>\n",
       "    <tr>\n",
       "      <th>2021-10-15</th>\n",
       "      <td>1888.52</td>\n",
       "      <td>1893.71</td>\n",
       "      <td>1878.47</td>\n",
       "      <td>1891.56</td>\n",
       "      <td>1305644791</td>\n",
       "      <td>0.008310</td>\n",
       "      <td>0.008276</td>\n",
       "    </tr>\n",
       "  </tbody>\n",
       "</table>\n",
       "<p>5174 rows × 7 columns</p>\n",
       "</div>"
      ],
      "text/plain": [
       "             <OPEN>   <HIGH>    <LOW>  <CLOSE>       <VOL>    return  \\\n",
       "<DATE>                                                                 \n",
       "2001-02-18   180.10   180.10   180.10   180.10           0  0.000000   \n",
       "2001-02-19   180.10   181.21   176.67   177.29           0 -0.015602   \n",
       "2001-02-20   177.29   179.90   175.28   176.45           0 -0.004738   \n",
       "2001-02-21   176.45   176.45   161.12   162.39           0 -0.079683   \n",
       "2001-02-22   162.39   168.35   162.39   168.31           0  0.036455   \n",
       "...             ...      ...      ...      ...         ...       ...   \n",
       "2021-10-11  1871.73  1883.71  1867.58  1882.43  1769145502  0.011537   \n",
       "2021-10-12  1867.15  1876.79  1860.64  1869.94  1386130631 -0.006635   \n",
       "2021-10-13  1869.05  1869.05  1835.80  1855.11  1830447018 -0.007931   \n",
       "2021-10-14  1875.38  1890.46  1873.37  1875.97  1495256910  0.011245   \n",
       "2021-10-15  1888.52  1893.71  1878.47  1891.56  1305644791  0.008310   \n",
       "\n",
       "            log return  \n",
       "<DATE>                  \n",
       "2001-02-18    0.000000  \n",
       "2001-02-19   -0.015725  \n",
       "2001-02-20   -0.004749  \n",
       "2001-02-21   -0.083037  \n",
       "2001-02-22    0.035807  \n",
       "...                ...  \n",
       "2021-10-11    0.011471  \n",
       "2021-10-12   -0.006657  \n",
       "2021-10-13   -0.007962  \n",
       "2021-10-14    0.011182  \n",
       "2021-10-15    0.008276  \n",
       "\n",
       "[5174 rows x 7 columns]"
      ]
     },
     "execution_count": 35,
     "metadata": {},
     "output_type": "execute_result"
    }
   ],
   "source": [
    "rtsi"
   ]
  },
  {
   "cell_type": "code",
   "execution_count": 76,
   "id": "22688c98",
   "metadata": {},
   "outputs": [
    {
     "data": {
      "image/png": "[encoded data removed]",
      "text/plain": [
       "<Figure size 864x504 with 1 Axes>"
      ]
     },
     "metadata": {
      "needs_background": "light"
     },
     "output_type": "display_data"
    }
   ],
   "source": [
    "rtsi['log return'].plot(figsize=(12, 7))\n",
    "\n",
    "plt.grid()\n",
    "plt.show()"
   ]
  },
  {
   "cell_type": "code",
   "execution_count": 85,
   "id": "c2df71b4",
   "metadata": {},
   "outputs": [
    {
     "data": {
      "text/plain": [
       "count    5174.000000\n",
       "mean        0.000455\n",
       "std         0.020327\n",
       "min        -0.211994\n",
       "25%        -0.008822\n",
       "50%         0.001318\n",
       "75%         0.010414\n",
       "max         0.202039\n",
       "Name: log return, dtype: float64"
      ]
     },
     "execution_count": 85,
     "metadata": {},
     "output_type": "execute_result"
    }
   ],
   "source": [
    "rtsi['log return'].describe()"
   ]
  },
  {
   "cell_type": "markdown",
   "id": "9b918d58",
   "metadata": {},
   "source": [
    "# Testing `train`"
   ]
  },
  {
   "cell_type": "code",
   "execution_count": 36,
   "id": "7abaf1ae",
   "metadata": {},
   "outputs": [],
   "source": [
    "logging.basicConfig(level=logging.DEBUG)"
   ]
  },
  {
   "cell_type": "code",
   "execution_count": 101,
   "id": "19f6130e",
   "metadata": {},
   "outputs": [],
   "source": [
    "rescale_factor = 100"
   ]
  },
  {
   "cell_type": "code",
   "execution_count": 102,
   "id": "48cf5d8c",
   "metadata": {},
   "outputs": [],
   "source": [
    "input_data = rtsi['log return'].copy() * rescale_factor\n",
    "clusterization_method = 'gaussian'\n",
    "local_method = 'garch'\n",
    "local_method_parameters = {'p': 1, 'q': 1, 'mean': 'Zero', 'dist': 'normal'}"
   ]
  },
  {
   "cell_type": "code",
   "execution_count": 59,
   "id": "b632fccc",
   "metadata": {},
   "outputs": [],
   "source": [
    "n = input_data.shape[0]"
   ]
  },
  {
   "cell_type": "code",
   "execution_count": 110,
   "id": "2695078b",
   "metadata": {},
   "outputs": [],
   "source": [
    "mu = 0\n",
    "sigma = .02 * rescale_factor\n",
    "\n",
    "centers = np.array([[mu] * n])\n",
    "cov_matrices = np.array([np.diag([sigma] * n, k=0)])"
   ]
  },
  {
   "cell_type": "code",
   "execution_count": 150,
   "id": "fc3c666b",
   "metadata": {},
   "outputs": [
    {
     "data": {
      "text/plain": [
       "0.0"
      ]
     },
     "execution_count": 150,
     "metadata": {},
     "output_type": "execute_result"
    }
   ],
   "source": [
    "slice_len = 350\n",
    "\n",
    "sts.multivariate_normal(mean=np.longdouble(centers[0][:slice_len]),\n",
    "                        cov=np.longdouble(cov_matrices[0][:slice_len, :slice_len])).pdf(np.longdouble(input_data[:slice_len])) * \\\n",
    "    ((2 * np.pi) ** (.5 * slice_len))"
   ]
  },
  {
   "cell_type": "code",
   "execution_count": null,
   "id": "4071fa94",
   "metadata": {},
   "outputs": [],
   "source": []
  },
  {
   "cell_type": "code",
   "execution_count": 152,
   "id": "33f252c1",
   "metadata": {},
   "outputs": [
    {
     "data": {
      "text/plain": [
       "array([[2., 0., 0., ..., 0., 0., 0.],\n",
       "       [0., 2., 0., ..., 0., 0., 0.],\n",
       "       [0., 0., 2., ..., 0., 0., 0.],\n",
       "       ...,\n",
       "       [0., 0., 0., ..., 2., 0., 0.],\n",
       "       [0., 0., 0., ..., 0., 2., 0.],\n",
       "       [0., 0., 0., ..., 0., 0., 2.]], dtype=float128)"
      ]
     },
     "execution_count": 152,
     "metadata": {},
     "output_type": "execute_result"
    }
   ],
   "source": [
    "np.longdouble(cov_matrices[0][:slice_len, :slice_len])"
   ]
  },
  {
   "cell_type": "code",
   "execution_count": 151,
   "id": "e1e2f471",
   "metadata": {},
   "outputs": [
    {
     "data": {
      "text/plain": [
       "numpy.float64"
      ]
     },
     "execution_count": 151,
     "metadata": {},
     "output_type": "execute_result"
    }
   ],
   "source": [
    "type(_)"
   ]
  },
  {
   "cell_type": "code",
   "execution_count": 133,
   "id": "6ab69422",
   "metadata": {},
   "outputs": [
    {
     "data": {
      "text/plain": [
       "1e-500"
      ]
     },
     "execution_count": 133,
     "metadata": {},
     "output_type": "execute_result"
    }
   ],
   "source": [
    "np.longdouble('1e-500')"
   ]
  },
  {
   "cell_type": "code",
   "execution_count": 153,
   "id": "c6b32ee4",
   "metadata": {},
   "outputs": [
    {
     "data": {
      "text/plain": [
       "(5174,)"
      ]
     },
     "execution_count": 153,
     "metadata": {},
     "output_type": "execute_result"
    }
   ],
   "source": [
    "input_data.shape"
   ]
  },
  {
   "cell_type": "code",
   "execution_count": 157,
   "id": "80b4524e",
   "metadata": {},
   "outputs": [
    {
     "data": {
      "text/plain": [
       "<DATE>\n",
       "2001-02-18    1.000000e+00\n",
       "2001-02-19    2.904140e-01\n",
       "2001-02-20    8.933495e-01\n",
       "2001-02-21    1.065355e-15\n",
       "2001-02-22    1.644059e-03\n",
       "                  ...     \n",
       "2021-10-11    5.179272e-01\n",
       "2021-10-12    8.012452e-01\n",
       "2021-10-13    7.283343e-01\n",
       "2021-10-14    5.351701e-01\n",
       "2021-10-15    7.100193e-01\n",
       "Name: log return, Length: 5174, dtype: float64"
      ]
     },
     "execution_count": 157,
     "metadata": {},
     "output_type": "execute_result"
    }
   ],
   "source": [
    "np.exp(- input_data ** 2 / 2)"
   ]
  },
  {
   "cell_type": "code",
   "execution_count": 158,
   "id": "89b174f8",
   "metadata": {},
   "outputs": [
    {
     "data": {
      "text/plain": [
       "count    5.174000e+03\n",
       "mean     5.536186e-01\n",
       "std      3.610908e-01\n",
       "min      2.574215e-98\n",
       "25%      1.918810e-01\n",
       "50%      6.234863e-01\n",
       "75%      9.063595e-01\n",
       "max      1.000000e+00\n",
       "Name: log return, dtype: float64"
      ]
     },
     "execution_count": 158,
     "metadata": {},
     "output_type": "execute_result"
    }
   ],
   "source": [
    "_.describe()"
   ]
  },
  {
   "cell_type": "code",
   "execution_count": 159,
   "id": "89f47bc7",
   "metadata": {},
   "outputs": [
    {
     "data": {
      "text/plain": [
       "0.0"
      ]
     },
     "execution_count": 159,
     "metadata": {},
     "output_type": "execute_result"
    }
   ],
   "source": [
    "0.55 ** input_data.shape[0]"
   ]
  },
  {
   "cell_type": "code",
   "execution_count": 160,
   "id": "c438afc5",
   "metadata": {},
   "outputs": [
    {
     "data": {
      "text/plain": [
       "1724.6666666666667"
      ]
     },
     "execution_count": 160,
     "metadata": {},
     "output_type": "execute_result"
    }
   ],
   "source": [
    "input_data.shape[0] / 3"
   ]
  },
  {
   "cell_type": "code",
   "execution_count": 168,
   "id": "985e4b01",
   "metadata": {},
   "outputs": [
    {
     "data": {
      "text/plain": [
       "1e+310"
      ]
     },
     "execution_count": 168,
     "metadata": {},
     "output_type": "execute_result"
    }
   ],
   "source": [
    "np.longdouble('1e300') * 1e10"
   ]
  },
  {
   "cell_type": "code",
   "execution_count": 169,
   "id": "888ff55d",
   "metadata": {},
   "outputs": [
    {
     "data": {
      "text/plain": [
       "0.3989422804014327"
      ]
     },
     "execution_count": 169,
     "metadata": {},
     "output_type": "execute_result"
    }
   ],
   "source": [
    "1 / ((2 * np.pi) ** .5)"
   ]
  },
  {
   "cell_type": "code",
   "execution_count": 175,
   "id": "a8ae7181",
   "metadata": {},
   "outputs": [
    {
     "data": {
      "text/plain": [
       "1e-4200"
      ]
     },
     "execution_count": 175,
     "metadata": {},
     "output_type": "execute_result"
    }
   ],
   "source": [
    "np.longdouble('1e-1700') * np.longdouble('1e-2500')"
   ]
  },
  {
   "cell_type": "code",
   "execution_count": 176,
   "id": "57af66ab",
   "metadata": {},
   "outputs": [],
   "source": [
    "mv_norm = sts.multivariate_normal(mean=centers[0], cov=cov_matrices[0])"
   ]
  },
  {
   "cell_type": "code",
   "execution_count": 188,
   "id": "6a64059e",
   "metadata": {},
   "outputs": [
    {
     "data": {
      "text/plain": [
       "0.0"
      ]
     },
     "execution_count": 188,
     "metadata": {},
     "output_type": "execute_result"
    }
   ],
   "source": [
    "mv_norm.pdf(np.longdouble(input_data))"
   ]
  },
  {
   "cell_type": "code",
   "execution_count": 195,
   "id": "d6ba62ca",
   "metadata": {},
   "outputs": [
    {
     "data": {
      "text/plain": [
       "array([-1.57254423, -0.47492598, -8.30367006, ..., -0.79623513,\n",
       "        1.11818655,  0.82760265], dtype=float128)"
      ]
     },
     "execution_count": 195,
     "metadata": {},
     "output_type": "execute_result"
    }
   ],
   "source": [
    "np.longdouble(input_data[input_data != 0])"
   ]
  },
  {
   "cell_type": "code",
   "execution_count": 196,
   "id": "ec4fd52f",
   "metadata": {},
   "outputs": [],
   "source": [
    "res = 1\n",
    "for elem in _:\n",
    "    res *= elem"
   ]
  },
  {
   "cell_type": "code",
   "execution_count": 197,
   "id": "e63a6867",
   "metadata": {},
   "outputs": [
    {
     "data": {
      "text/plain": [
       "-7.7803119280817773663e-454"
      ]
     },
     "execution_count": 197,
     "metadata": {},
     "output_type": "execute_result"
    }
   ],
   "source": [
    "res"
   ]
  },
  {
   "cell_type": "code",
   "execution_count": 192,
   "id": "7b2e3c11",
   "metadata": {},
   "outputs": [
    {
     "data": {
      "text/plain": [
       "-7.7803119280817773663e-454"
      ]
     },
     "execution_count": 192,
     "metadata": {},
     "output_type": "execute_result"
    }
   ],
   "source": [
    "_.prod()"
   ]
  },
  {
   "cell_type": "code",
   "execution_count": 107,
   "id": "c5c9550e",
   "metadata": {},
   "outputs": [],
   "source": [
    "clusterization_parameters = {'centers': centers, 'cov_matrices': cov_matrices, 'n_clusters': 1}"
   ]
  },
  {
   "cell_type": "code",
   "execution_count": 108,
   "id": "89bf7e47",
   "metadata": {},
   "outputs": [
    {
     "name": "stderr",
     "output_type": "stream",
     "text": [
      "DEBUG:train_model:Starting clusterization\n",
      "DEBUG:cluster_input:clustering method is gaussian\n",
      "DEBUG:cluster_input:parameters is not None\n",
      "INFO:calc_gaussian_membership_degrees:Starting\n"
     ]
    },
    {
     "ename": "KeyboardInterrupt",
     "evalue": "",
     "output_type": "error",
     "traceback": [
      "\u001b[0;31m---------------------------------------------------------------------------\u001b[0m",
      "\u001b[0;31mKeyboardInterrupt\u001b[0m                         Traceback (most recent call last)",
      "\u001b[0;32m/var/folders/wp/ypx6h8352xv06355zp13dlx40000gn/T/ipykernel_91573/4162464937.py\u001b[0m in \u001b[0;36m<module>\u001b[0;34m\u001b[0m\n\u001b[0;32m----> 1\u001b[0;31m train_model(input_data,\n\u001b[0m\u001b[1;32m      2\u001b[0m             \u001b[0mclusterization_method\u001b[0m\u001b[0;34m=\u001b[0m\u001b[0mclusterization_method\u001b[0m\u001b[0;34m,\u001b[0m\u001b[0;34m\u001b[0m\u001b[0;34m\u001b[0m\u001b[0m\n\u001b[1;32m      3\u001b[0m             \u001b[0mclusterization_parameters\u001b[0m\u001b[0;34m=\u001b[0m\u001b[0mclusterization_parameters\u001b[0m\u001b[0;34m,\u001b[0m\u001b[0;34m\u001b[0m\u001b[0;34m\u001b[0m\u001b[0m\n\u001b[1;32m      4\u001b[0m             \u001b[0mlocal_method\u001b[0m\u001b[0;34m=\u001b[0m\u001b[0mlocal_method\u001b[0m\u001b[0;34m,\u001b[0m\u001b[0;34m\u001b[0m\u001b[0;34m\u001b[0m\u001b[0m\n\u001b[1;32m      5\u001b[0m             local_method_parameters=local_method_parameters)\n",
      "\u001b[0;32m~/Documents/Study postgraduate/Thesis/fuzzy-volatility-modeling/whole_algorithm.py\u001b[0m in \u001b[0;36mtrain_model\u001b[0;34m(input_data, clusterization_method, clusterization_parameters, local_method, local_method_parameters)\u001b[0m\n\u001b[1;32m     17\u001b[0m     \u001b[0mlogger\u001b[0m\u001b[0;34m.\u001b[0m\u001b[0mdebug\u001b[0m\u001b[0;34m(\u001b[0m\u001b[0;34m'Starting clusterization'\u001b[0m\u001b[0;34m)\u001b[0m\u001b[0;34m\u001b[0m\u001b[0;34m\u001b[0m\u001b[0m\n\u001b[1;32m     18\u001b[0m \u001b[0;34m\u001b[0m\u001b[0m\n\u001b[0;32m---> 19\u001b[0;31m     clusterization_result = cluster_data(input_data,\n\u001b[0m\u001b[1;32m     20\u001b[0m                                          \u001b[0mmethod\u001b[0m\u001b[0;34m=\u001b[0m\u001b[0mclusterization_method\u001b[0m\u001b[0;34m,\u001b[0m\u001b[0;34m\u001b[0m\u001b[0;34m\u001b[0m\u001b[0m\n\u001b[1;32m     21\u001b[0m                                          parameters=clusterization_parameters)\n",
      "\u001b[0;32m~/Documents/Study postgraduate/Thesis/fuzzy-volatility-modeling/clusterization/all_methods.py\u001b[0m in \u001b[0;36mcluster_data\u001b[0;34m(x, method, parameters)\u001b[0m\n\u001b[1;32m     23\u001b[0m             \u001b[0mcenters\u001b[0m \u001b[0;34m=\u001b[0m \u001b[0mparameters\u001b[0m\u001b[0;34m[\u001b[0m\u001b[0;34m'centers'\u001b[0m\u001b[0;34m]\u001b[0m\u001b[0;34m\u001b[0m\u001b[0;34m\u001b[0m\u001b[0m\n\u001b[1;32m     24\u001b[0m             \u001b[0mcov_matrices\u001b[0m \u001b[0;34m=\u001b[0m \u001b[0mparameters\u001b[0m\u001b[0;34m[\u001b[0m\u001b[0;34m'cov_matrices'\u001b[0m\u001b[0;34m]\u001b[0m\u001b[0;34m\u001b[0m\u001b[0;34m\u001b[0m\u001b[0m\n\u001b[0;32m---> 25\u001b[0;31m             \u001b[0mmembership_degrees\u001b[0m \u001b[0;34m=\u001b[0m \u001b[0mcalc_gaussian_membership_degrees\u001b[0m\u001b[0;34m(\u001b[0m\u001b[0mx\u001b[0m\u001b[0;34m,\u001b[0m \u001b[0mcenters\u001b[0m\u001b[0;34m,\u001b[0m \u001b[0mcov_matrices\u001b[0m\u001b[0;34m)\u001b[0m\u001b[0;34m\u001b[0m\u001b[0;34m\u001b[0m\u001b[0m\n\u001b[0m\u001b[1;32m     26\u001b[0m \u001b[0;34m\u001b[0m\u001b[0m\n\u001b[1;32m     27\u001b[0m             \u001b[0mresult\u001b[0m \u001b[0;34m=\u001b[0m \u001b[0;34m{\u001b[0m\u001b[0;34m'parameters'\u001b[0m\u001b[0;34m:\u001b[0m \u001b[0mparameters\u001b[0m\u001b[0;34m,\u001b[0m \u001b[0;34m'membership'\u001b[0m\u001b[0;34m:\u001b[0m \u001b[0mmembership_degrees\u001b[0m\u001b[0;34m}\u001b[0m\u001b[0;34m\u001b[0m\u001b[0;34m\u001b[0m\u001b[0m\n",
      "\u001b[0;32m~/Documents/Study postgraduate/Thesis/fuzzy-volatility-modeling/clusterization/gaussian.py\u001b[0m in \u001b[0;36mcalc_gaussian_membership_degrees\u001b[0;34m(input_data, centers, cov_matrices)\u001b[0m\n\u001b[1;32m      9\u001b[0m     \u001b[0mlogger\u001b[0m\u001b[0;34m.\u001b[0m\u001b[0minfo\u001b[0m\u001b[0;34m(\u001b[0m\u001b[0;34m'Starting'\u001b[0m\u001b[0;34m)\u001b[0m\u001b[0;34m\u001b[0m\u001b[0;34m\u001b[0m\u001b[0m\n\u001b[1;32m     10\u001b[0m \u001b[0;34m\u001b[0m\u001b[0m\n\u001b[0;32m---> 11\u001b[0;31m     result = [multivariate_normal(mean=center, cov=cov_matrix).pdf(input_data)\n\u001b[0m\u001b[1;32m     12\u001b[0m               for center, cov_matrix in zip(centers, cov_matrices)]\n\u001b[1;32m     13\u001b[0m     \u001b[0mresult\u001b[0m \u001b[0;34m=\u001b[0m \u001b[0marray\u001b[0m\u001b[0;34m(\u001b[0m\u001b[0mresult\u001b[0m\u001b[0;34m)\u001b[0m\u001b[0;34m\u001b[0m\u001b[0;34m\u001b[0m\u001b[0m\n",
      "\u001b[0;32m~/Documents/Study postgraduate/Thesis/fuzzy-volatility-modeling/clusterization/gaussian.py\u001b[0m in \u001b[0;36m<listcomp>\u001b[0;34m(.0)\u001b[0m\n\u001b[1;32m      9\u001b[0m     \u001b[0mlogger\u001b[0m\u001b[0;34m.\u001b[0m\u001b[0minfo\u001b[0m\u001b[0;34m(\u001b[0m\u001b[0;34m'Starting'\u001b[0m\u001b[0;34m)\u001b[0m\u001b[0;34m\u001b[0m\u001b[0;34m\u001b[0m\u001b[0m\n\u001b[1;32m     10\u001b[0m \u001b[0;34m\u001b[0m\u001b[0m\n\u001b[0;32m---> 11\u001b[0;31m     result = [multivariate_normal(mean=center, cov=cov_matrix).pdf(input_data)\n\u001b[0m\u001b[1;32m     12\u001b[0m               for center, cov_matrix in zip(centers, cov_matrices)]\n\u001b[1;32m     13\u001b[0m     \u001b[0mresult\u001b[0m \u001b[0;34m=\u001b[0m \u001b[0marray\u001b[0m\u001b[0;34m(\u001b[0m\u001b[0mresult\u001b[0m\u001b[0;34m)\u001b[0m\u001b[0;34m\u001b[0m\u001b[0;34m\u001b[0m\u001b[0m\n",
      "\u001b[0;32m/Applications/anaconda3/envs/fuzzy-volatility/lib/python3.9/site-packages/scipy/stats/_multivariate.py\u001b[0m in \u001b[0;36m__call__\u001b[0;34m(self, mean, cov, allow_singular, seed)\u001b[0m\n\u001b[1;32m    358\u001b[0m         \u001b[0mSee\u001b[0m\u001b[0;31m \u001b[0m\u001b[0;31m`\u001b[0m\u001b[0mmultivariate_normal_frozen\u001b[0m\u001b[0;31m`\u001b[0m \u001b[0;32mfor\u001b[0m \u001b[0mmore\u001b[0m \u001b[0minformation\u001b[0m\u001b[0;34m.\u001b[0m\u001b[0;34m\u001b[0m\u001b[0;34m\u001b[0m\u001b[0m\n\u001b[1;32m    359\u001b[0m         \"\"\"\n\u001b[0;32m--> 360\u001b[0;31m         return multivariate_normal_frozen(mean, cov,\n\u001b[0m\u001b[1;32m    361\u001b[0m                                           \u001b[0mallow_singular\u001b[0m\u001b[0;34m=\u001b[0m\u001b[0mallow_singular\u001b[0m\u001b[0;34m,\u001b[0m\u001b[0;34m\u001b[0m\u001b[0;34m\u001b[0m\u001b[0m\n\u001b[1;32m    362\u001b[0m                                           seed=seed)\n",
      "\u001b[0;32m/Applications/anaconda3/envs/fuzzy-volatility/lib/python3.9/site-packages/scipy/stats/_multivariate.py\u001b[0m in \u001b[0;36m__init__\u001b[0;34m(self, mean, cov, allow_singular, seed, maxpts, abseps, releps)\u001b[0m\n\u001b[1;32m    728\u001b[0m         self.dim, self.mean, self.cov = self._dist._process_parameters(\n\u001b[1;32m    729\u001b[0m                                                             None, mean, cov)\n\u001b[0;32m--> 730\u001b[0;31m         \u001b[0mself\u001b[0m\u001b[0;34m.\u001b[0m\u001b[0mcov_info\u001b[0m \u001b[0;34m=\u001b[0m \u001b[0m_PSD\u001b[0m\u001b[0;34m(\u001b[0m\u001b[0mself\u001b[0m\u001b[0;34m.\u001b[0m\u001b[0mcov\u001b[0m\u001b[0;34m,\u001b[0m \u001b[0mallow_singular\u001b[0m\u001b[0;34m=\u001b[0m\u001b[0mallow_singular\u001b[0m\u001b[0;34m)\u001b[0m\u001b[0;34m\u001b[0m\u001b[0;34m\u001b[0m\u001b[0m\n\u001b[0m\u001b[1;32m    731\u001b[0m         \u001b[0;32mif\u001b[0m \u001b[0;32mnot\u001b[0m \u001b[0mmaxpts\u001b[0m\u001b[0;34m:\u001b[0m\u001b[0;34m\u001b[0m\u001b[0;34m\u001b[0m\u001b[0m\n\u001b[1;32m    732\u001b[0m             \u001b[0mmaxpts\u001b[0m \u001b[0;34m=\u001b[0m \u001b[0;36m1000000\u001b[0m \u001b[0;34m*\u001b[0m \u001b[0mself\u001b[0m\u001b[0;34m.\u001b[0m\u001b[0mdim\u001b[0m\u001b[0;34m\u001b[0m\u001b[0;34m\u001b[0m\u001b[0m\n",
      "\u001b[0;32m/Applications/anaconda3/envs/fuzzy-volatility/lib/python3.9/site-packages/scipy/stats/_multivariate.py\u001b[0m in \u001b[0;36m__init__\u001b[0;34m(self, M, cond, rcond, lower, check_finite, allow_singular)\u001b[0m\n\u001b[1;32m    156\u001b[0m         \u001b[0;31m# Note that eigh takes care of array conversion, chkfinite,\u001b[0m\u001b[0;34m\u001b[0m\u001b[0;34m\u001b[0m\u001b[0m\n\u001b[1;32m    157\u001b[0m         \u001b[0;31m# and assertion that the matrix is square.\u001b[0m\u001b[0;34m\u001b[0m\u001b[0;34m\u001b[0m\u001b[0m\n\u001b[0;32m--> 158\u001b[0;31m         \u001b[0ms\u001b[0m\u001b[0;34m,\u001b[0m \u001b[0mu\u001b[0m \u001b[0;34m=\u001b[0m \u001b[0mscipy\u001b[0m\u001b[0;34m.\u001b[0m\u001b[0mlinalg\u001b[0m\u001b[0;34m.\u001b[0m\u001b[0meigh\u001b[0m\u001b[0;34m(\u001b[0m\u001b[0mM\u001b[0m\u001b[0;34m,\u001b[0m \u001b[0mlower\u001b[0m\u001b[0;34m=\u001b[0m\u001b[0mlower\u001b[0m\u001b[0;34m,\u001b[0m \u001b[0mcheck_finite\u001b[0m\u001b[0;34m=\u001b[0m\u001b[0mcheck_finite\u001b[0m\u001b[0;34m)\u001b[0m\u001b[0;34m\u001b[0m\u001b[0;34m\u001b[0m\u001b[0m\n\u001b[0m\u001b[1;32m    159\u001b[0m \u001b[0;34m\u001b[0m\u001b[0m\n\u001b[1;32m    160\u001b[0m         \u001b[0meps\u001b[0m \u001b[0;34m=\u001b[0m \u001b[0m_eigvalsh_to_eps\u001b[0m\u001b[0;34m(\u001b[0m\u001b[0ms\u001b[0m\u001b[0;34m,\u001b[0m \u001b[0mcond\u001b[0m\u001b[0;34m,\u001b[0m \u001b[0mrcond\u001b[0m\u001b[0;34m)\u001b[0m\u001b[0;34m\u001b[0m\u001b[0;34m\u001b[0m\u001b[0m\n",
      "\u001b[0;32m/Applications/anaconda3/envs/fuzzy-volatility/lib/python3.9/site-packages/scipy/linalg/decomp.py\u001b[0m in \u001b[0;36meigh\u001b[0;34m(a, b, lower, eigvals_only, overwrite_a, overwrite_b, turbo, eigvals, type, check_finite, subset_by_index, subset_by_value, driver)\u001b[0m\n\u001b[1;32m    543\u001b[0m \u001b[0;34m\u001b[0m\u001b[0m\n\u001b[1;32m    544\u001b[0m         \u001b[0mdrv_args\u001b[0m\u001b[0;34m.\u001b[0m\u001b[0mupdate\u001b[0m\u001b[0;34m(\u001b[0m\u001b[0;34m{\u001b[0m\u001b[0;34m'lower'\u001b[0m\u001b[0;34m:\u001b[0m \u001b[0mlower\u001b[0m\u001b[0;34m,\u001b[0m \u001b[0;34m'compute_v'\u001b[0m\u001b[0;34m:\u001b[0m \u001b[0;36m0\u001b[0m \u001b[0;32mif\u001b[0m \u001b[0m_job\u001b[0m \u001b[0;34m==\u001b[0m \u001b[0;34m\"N\"\u001b[0m \u001b[0;32melse\u001b[0m \u001b[0;36m1\u001b[0m\u001b[0;34m}\u001b[0m\u001b[0;34m)\u001b[0m\u001b[0;34m\u001b[0m\u001b[0;34m\u001b[0m\u001b[0m\n\u001b[0;32m--> 545\u001b[0;31m         \u001b[0mw\u001b[0m\u001b[0;34m,\u001b[0m \u001b[0mv\u001b[0m\u001b[0;34m,\u001b[0m \u001b[0;34m*\u001b[0m\u001b[0mother_args\u001b[0m\u001b[0;34m,\u001b[0m \u001b[0minfo\u001b[0m \u001b[0;34m=\u001b[0m \u001b[0mdrv\u001b[0m\u001b[0;34m(\u001b[0m\u001b[0ma\u001b[0m\u001b[0;34m=\u001b[0m\u001b[0ma1\u001b[0m\u001b[0;34m,\u001b[0m \u001b[0;34m**\u001b[0m\u001b[0mdrv_args\u001b[0m\u001b[0;34m,\u001b[0m \u001b[0;34m**\u001b[0m\u001b[0mlwork_args\u001b[0m\u001b[0;34m)\u001b[0m\u001b[0;34m\u001b[0m\u001b[0;34m\u001b[0m\u001b[0m\n\u001b[0m\u001b[1;32m    546\u001b[0m \u001b[0;34m\u001b[0m\u001b[0m\n\u001b[1;32m    547\u001b[0m     \u001b[0;32melse\u001b[0m\u001b[0;34m:\u001b[0m  \u001b[0;31m# Generalized problem\u001b[0m\u001b[0;34m\u001b[0m\u001b[0;34m\u001b[0m\u001b[0m\n",
      "\u001b[0;31mKeyboardInterrupt\u001b[0m: "
     ]
    }
   ],
   "source": [
    "train_model(input_data,\n",
    "            clusterization_method=clusterization_method,\n",
    "            clusterization_parameters=clusterization_parameters,\n",
    "            local_method=local_method,\n",
    "            local_method_parameters=local_method_parameters)"
   ]
  },
  {
   "cell_type": "markdown",
   "id": "9f8a14bd",
   "metadata": {},
   "source": [
    "## Same data fed to GARCH(1, 1)"
   ]
  },
  {
   "cell_type": "code",
   "execution_count": null,
   "id": "c4430c55",
   "metadata": {},
   "outputs": [],
   "source": [
    "model = arch_model(input_data, mean=local_method_parameters['mean'], vol='GARCH', p=p, q=q,\n",
    "                   dist=local_method_parameters['dist'])"
   ]
  },
  {
   "cell_type": "code",
   "execution_count": null,
   "id": "7e1a2907",
   "metadata": {},
   "outputs": [],
   "source": [
    "fitted = model.fit()"
   ]
  },
  {
   "cell_type": "code",
   "execution_count": null,
   "id": "198aadb8",
   "metadata": {},
   "outputs": [],
   "source": [
    "fitted.summary"
   ]
  },
  {
   "cell_type": "code",
   "execution_count": 68,
   "id": "99da61b7",
   "metadata": {},
   "outputs": [
    {
     "data": {
      "text/plain": [
       "omega       0.074493\n",
       "alpha[1]    0.091296\n",
       "beta[1]     0.889631\n",
       "Name: params, dtype: float64"
      ]
     },
     "execution_count": 68,
     "metadata": {},
     "output_type": "execute_result"
    }
   ],
   "source": [
    "fitted.params"
   ]
  },
  {
   "cell_type": "code",
   "execution_count": 69,
   "id": "83c0c20a",
   "metadata": {},
   "outputs": [],
   "source": [
    "forecast = fitted.forecast(reindex=False, horizon=1)"
   ]
  },
  {
   "cell_type": "code",
   "execution_count": 70,
   "id": "8f80db30",
   "metadata": {},
   "outputs": [],
   "source": [
    "forecast_variance = forecast.variance.values[0]"
   ]
  },
  {
   "cell_type": "code",
   "execution_count": 71,
   "id": "93a22ae0",
   "metadata": {},
   "outputs": [
    {
     "data": {
      "text/plain": [
       "array([1.90822256])"
      ]
     },
     "execution_count": 71,
     "metadata": {},
     "output_type": "execute_result"
    }
   ],
   "source": [
    "forecast_variance"
   ]
  },
  {
   "cell_type": "code",
   "execution_count": null,
   "id": "dac41c58",
   "metadata": {},
   "outputs": [],
   "source": []
  }
 ],
 "metadata": {
  "kernelspec": {
   "display_name": "Python 3 (ipykernel)",
   "language": "python",
   "name": "python3"
  },
  "language_info": {
   "codemirror_mode": {
    "name": "ipython",
    "version": 3
   },
   "file_extension": ".py",
   "mimetype": "text/x-python",
   "name": "python",
   "nbconvert_exporter": "python",
   "pygments_lexer": "ipython3",
   "version": "3.9.7"
  }
 },
 "nbformat": 4,
 "nbformat_minor": 5
}
